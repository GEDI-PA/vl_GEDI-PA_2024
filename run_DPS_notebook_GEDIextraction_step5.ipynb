{
 "cells": [
  {
   "cell_type": "code",
   "execution_count": 2,
   "id": "175e69d7-b627-47a6-aa54-25a9cb91e9c5",
   "metadata": {
    "tags": []
   },
   "outputs": [],
   "source": [
    "from maap.maap import MAAP\n",
    "maap = MAAP(maap_host='api.maap-project.org')\n",
    "\n",
    "username = maap.profile.account_info()[\"username\"]\n",
    "assert username"
   ]
  },
  {
   "cell_type": "markdown",
   "id": "d9894110-6c87-4f17-bb7a-23840133ad93",
   "metadata": {},
   "source": [
    "## Run DPS Notebook"
   ]
  },
  {
   "cell_type": "code",
   "execution_count": 11,
   "id": "9fcaae29-f895-4b8b-8a3f-5bf87e3bd76e",
   "metadata": {
    "tags": []
   },
   "outputs": [
    {
     "data": {
      "text/plain": [
       "'{\"code\": 200, \"message\": {\"id\": \"1fe3f0aafda80993d45ea5e99587984ab96ee508\", \"short_id\": \"1fe3f0aa\", \"created_at\": \"2024-10-30T16:43:43.000+00:00\", \"parent_ids\": [\"a329823955c868252f2b64f4ffb4f063d1abb39f\"], \"title\": \"Registering algorithm: run_gedi_pa_extraction_5\", \"message\": \"Registering algorithm: run_gedi_pa_extraction_5\", \"author_name\": \"root\", \"author_email\": \"root@f2a98435594f\", \"authored_date\": \"2024-10-30T16:43:43.000+00:00\", \"committer_name\": \"root\", \"committer_email\": \"root@f2a98435594f\", \"committed_date\": \"2024-10-30T16:43:43.000+00:00\", \"trailers\": {}, \"extended_trailers\": {}, \"web_url\": \"https://repo.maap-project.org/root/register-job-hysds-v4/-/commit/1fe3f0aafda80993d45ea5e99587984ab96ee508\", \"stats\": {\"additions\": 0, \"deletions\": 0, \"total\": 0}, \"status\": \"created\", \"project_id\": 3, \"last_pipeline\": {\"id\": 14862, \"iid\": 1730, \"project_id\": 3, \"sha\": \"1fe3f0aafda80993d45ea5e99587984ab96ee508\", \"ref\": \"hysds-v5\", \"status\": \"created\", \"source\": \"push\", \"created_at\": \"2024-10-30T16:43:45.465Z\", \"updated_at\": \"2024-10-30T16:43:45.465Z\", \"web_url\": \"https://repo.maap-project.org/root/register-job-hysds-v4/-/pipelines/14862\"}, \"job_web_url\": \"https://repo.maap-project.org/root/register-job-hysds-v4/-/jobs/15153\", \"job_log_url\": \"https://repo.maap-project.org/root/register-job-hysds-v4/-/jobs/15153/raw\"}}\\n'"
      ]
     },
     "execution_count": 11,
     "metadata": {},
     "output_type": "execute_result"
    }
   ],
   "source": [
    "#register algorithm \n",
    "#maap.register_algorithm_from_yaml_file(\"/projects/vl_GEDI-PA_2024/run_gedi_pa_setup.yml\").text\n",
    "\n",
    "maap.register_algorithm_from_yaml_file(\"/projects/my-public-bucket/GEDI_PA/vl_GEDI-PA_2024/run_gedi_pa_setup_extract_step5.yml\").text\n"
   ]
  },
  {
   "cell_type": "markdown",
   "id": "fa28f87d-ecdc-41c4-8e76-44d8ad1b4447",
   "metadata": {},
   "source": [
    "## Commit with Tag for running\n",
    "1) Add version name as a map_boreal_2022_v2 or whatever is appropriate - both to this notebook and algorithm config yaml\n",
    "\n",
    "2) follow git instructions (every time):\n",
    "git add changes\n",
    "git commit -m 'message'\n",
    "git tag -f boreal_agb_2024_v6\n",
    "\n",
    "git push\n",
    "git push origin -f boreal_agb_2024_v6\n",
    "\n",
    "\n",
    "3) if it looks weird check git log to make sure tag is at same place as origin and dps\n"
   ]
  },
  {
   "cell_type": "code",
   "execution_count": 12,
   "id": "2406234d-99e0-4fc3-93e2-7e7050c4774f",
   "metadata": {},
   "outputs": [
    {
     "name": "stdout",
     "output_type": "stream",
     "text": [
      "{'job_id': 'ff2f4d3e-3eaa-4458-9e30-8142abdce1f2', 'status': 'success', 'machine_type': None, 'architecture': None, 'machine_memory_size': None, 'directory_size': None, 'operating_system': None, 'job_start_time': None, 'job_end_time': None, 'job_duration_seconds': None, 'cpu_usage': None, 'cache_usage': None, 'mem_usage': None, 'max_mem_usage': None, 'swap_usage': None, 'read_io_stats': None, 'write_io_stats': None, 'sync_io_stats': None, 'async_io_stats': None, 'total_io_stats': None, 'error_details': None, 'response_code': 200, 'outputs': []}\n",
      "CPU times: user 24.1 ms, sys: 0 ns, total: 24.1 ms\n",
      "Wall time: 151 ms\n"
     ]
    }
   ],
   "source": [
    "%%time\n",
    "#submit_results_df_list = []\n",
    "#len_input_list = len(DPS_INPUT_TILE_NUM_LIST)\n",
    "iso_list= ['GNB'] #'SEN NIG LIB'\n",
    "\n",
    "ALGO_ID = \"run_gedi_pa_extraction_5\"\n",
    "USER = username\n",
    "WORKER_TYPE = 'maap-dps-worker-32gb' #RAM should be low enough for 16 gb\n",
    "IDENTIFIER = 'GNBOct30'\n",
    "res = [] #List of job ids\n",
    "for iso in iso_list:\n",
    "    submit_result = maap.submitJob(\n",
    "        identifier=IDENTIFIER,\n",
    "        algo_id=ALGO_ID,\n",
    "        version='main',\n",
    "        username=username,\n",
    "        queue=WORKER_TYPE,\n",
    "        c=iso,\n",
    "    )\n",
    "\n",
    "    print(submit_result)\n",
    "    #Add code to batch check for failed jobs, make list, for each job check status\n",
    "\n"
   ]
  },
  {
   "cell_type": "code",
   "execution_count": 14,
   "id": "59aa1be6-8aed-4800-af00-ef3838943b47",
   "metadata": {},
   "outputs": [],
   "source": [
    "import os"
   ]
  },
  {
   "cell_type": "code",
   "execution_count": 25,
   "id": "b54318e6-dd20-4d42-be80-bd9084242b22",
   "metadata": {},
   "outputs": [
    {
     "name": "stdout",
     "output_type": "stream",
     "text": [
      "41\n"
     ]
    }
   ],
   "source": [
    "# Define the folder path containing the output files from subsetting of tiles\n",
    "folder_path = os.path.join(\"/projects/my-public-bucket/GEDI_global_PA_v2/WDPA_GEDI_extract/\",iso)\n",
    "\n",
    "print(len([entry for entry in os.listdir(folder_path) if os.path.isfile(os.path.join(folder_path, entry))]))\n"
   ]
  },
  {
   "cell_type": "code",
   "execution_count": 23,
   "id": "058482bd-4409-40d9-bde8-ce05701fd187",
   "metadata": {},
   "outputs": [
    {
     "name": "stdout",
     "output_type": "stream",
     "text": [
      "Copying GNB_pa_11610_gedi_wk_24_conti_biome_TSGSS.RDS...\n",
      "Copying GNB_pa_11610_iso_matched_gedi_sub_wk_24.csv...\n",
      "Copying GNB_pa_145507_gedi_wk_24_conti_biome_TSGSS+M.RDS...\n",
      "Copying GNB_pa_145507_iso_matched_gedi_sub_wk_24.csv...\n",
      "Copying GNB_pa_29806_gedi_wk_24_conti_biome_TSGSS+M.RDS...\n",
      "Copying GNB_pa_29806_iso_matched_gedi_sub_wk_24.csv...\n",
      "Copying GNB_pa_317051_gedi_wk_24_conti_biome_TSGSS+M.RDS...\n",
      "Copying GNB_pa_317051_iso_matched_gedi_sub_wk_24.csv...\n",
      "Copying GNB_pa_33046_gedi_wk_24_conti_biome_M+TSGSS.RDS...\n",
      "Copying GNB_pa_33046_iso_matched_gedi_sub_wk_24.csv...\n",
      "Copying GNB_pa_33048_gedi_wk_24_conti_biome_TSGSS+M.RDS...\n",
      "Copying GNB_pa_33048_iso_matched_gedi_sub_wk_24.csv...\n",
      "Copying GNB_pa_33050_gedi_wk_24_conti_biome_TSGSS.RDS...\n",
      "Copying GNB_pa_33050_iso_matched_gedi_sub_wk_24.csv...\n",
      "Copying GNB_pa_342658_gedi_wk_24_conti_biome_TSGSS.RDS...\n",
      "Copying GNB_pa_342658_iso_matched_gedi_sub_wk_24.csv...\n",
      "Copying GNB_pa_342659_gedi_wk_24_conti_biome_TSGSS.RDS...\n",
      "Copying GNB_pa_342659_iso_matched_gedi_sub_wk_24.csv...\n",
      "Copying GNB_pa_342660_gedi_wk_24_conti_biome_TSGSS.RDS...\n",
      "Copying GNB_pa_342660_iso_matched_gedi_sub_wk_24.csv...\n",
      "Copying GNB_pa_342661_gedi_wk_24_conti_biome_TSGSS.RDS...\n",
      "Copying GNB_pa_342661_iso_matched_gedi_sub_wk_24.csv...\n",
      "Copying GNB_pa_342662_gedi_wk_24_conti_biome_TSGSS.RDS...\n",
      "Copying GNB_pa_342662_iso_matched_gedi_sub_wk_24.csv...\n",
      "Copying GNB_pa_342670_gedi_wk_24_conti_biome_TSGSS.RDS...\n",
      "Copying GNB_pa_342670_iso_matched_gedi_sub_wk_24.csv...\n",
      "Copying GNB_pa_342671_gedi_wk_24_conti_biome_TSGSS.RDS...\n",
      "Copying GNB_pa_342671_iso_matched_gedi_sub_wk_24.csv...\n",
      "Copying GNB_pa_342672_gedi_wk_24_conti_biome_TSGSS.RDS...\n",
      "Copying GNB_pa_342672_iso_matched_gedi_sub_wk_24.csv...\n",
      "Copying GNB_pa_342673_gedi_wk_24_conti_biome_TSGSS+M.RDS...\n",
      "Copying GNB_pa_342673_iso_matched_gedi_sub_wk_24.csv...\n",
      "Copying GNB_pa_351088_gedi_wk_24_conti_biome_M.RDS...\n",
      "Copying GNB_pa_351088_iso_matched_gedi_sub_wk_24.csv...\n",
      "Copying GNB_pa_555626105_gedi_wk_24_conti_biome_M+TSGSS.RDS...\n",
      "Copying GNB_pa_555626105_iso_matched_gedi_sub_wk_24.csv...\n",
      "Copying GNB_pa_555626106_gedi_wk_24_conti_biome_TSGSS.RDS...\n",
      "Copying GNB_pa_555626106_iso_matched_gedi_sub_wk_24.csv...\n",
      "Copying GNB_pa_555703681_gedi_wk_24_conti_biome_TSGSS.RDS...\n",
      "Copying GNB_pa_555703681_iso_matched_gedi_sub_wk_24.csv...\n",
      "Copying GNB_pa_11610_iso_matched_gedi_sub_wk_24-checkpoint.csv...\n"
     ]
    }
   ],
   "source": [
    "import subprocess\n",
    "root_dir = \"/projects/my-private-bucket/dps_output/run_gedi_pa_extraction_5/main/GNBOct30/2024/10/30/11/00/01/412350/WDPA_GEDI_extract/\"  # Can now set name\n",
    "out_dir = os.path.join(\"/projects/my-public-bucket/GEDI_global_PA_v2/WDPA_GEDI_extract/\",iso)\n",
    "\n",
    "\n",
    "for dirName, subdirList, fileList in os.walk(root_dir):\n",
    "#    print(\"Found directory: %s\" % dirName)\n",
    "    for fname in fileList:\n",
    "        if fname.startswith(iso):\n",
    "            source_path = os.path.join(dirName, fname)\n",
    "            #print(source_path)\n",
    "            target_path = os.path.join(out_dir, fname)\n",
    "            #print(target_path)\n",
    "            if not os.path.exists(out_dir):\n",
    "                os.makedirs(out_dir)\n",
    "            if not os.path.exists(target_path):  # Check if file doesn’t exist in target directory\n",
    "                print(f\"Copying {fname}...\")\n",
    "                subprocess.call(['cp', source_path, target_path])\n",
    "#            else:\n",
    "#                print(f\"{fname} already exists in the target directory. Skipping...\")"
   ]
  },
  {
   "cell_type": "code",
   "execution_count": 28,
   "id": "776b5e9a-5ffd-4ae2-943c-6bc1e47431c9",
   "metadata": {},
   "outputs": [
    {
     "name": "stdout",
     "output_type": "stream",
     "text": [
      "      Unnamed: 0        lat        lon      UID status land_cover  \\\n",
      "0              1  12.207331 -13.967842      1.0   True  l1_forest   \n",
      "1              2  12.199309 -13.978216      2.0   True  l1_forest   \n",
      "2              3  12.199309 -13.967842      3.0   True  l1_forest   \n",
      "3              4  12.199309 -13.957469      4.0   True  l1_forest   \n",
      "4              5  12.191287 -13.978216      5.0   True  l1_forest   \n",
      "...          ...        ...        ...      ...    ...        ...   \n",
      "12145      12146  11.670356 -13.998963  14087.0  False  l1_forest   \n",
      "12146      12147  11.670356 -13.988589  14088.0  False  l1_forest   \n",
      "12147      12148  11.662350 -13.988589  14100.0  False  l1_forest   \n",
      "12148      12149  11.654343 -13.967842  14110.0  False  l1_forest   \n",
      "12149      12150  11.638331 -13.998963  14113.0  False  l1_forest   \n",
      "\n",
      "                                                 wwfbiom  \\\n",
      "0      Tropical & Subtropical Grasslands, Savannas & ...   \n",
      "1      Tropical & Subtropical Grasslands, Savannas & ...   \n",
      "2      Tropical & Subtropical Grasslands, Savannas & ...   \n",
      "3      Tropical & Subtropical Grasslands, Savannas & ...   \n",
      "4      Tropical & Subtropical Grasslands, Savannas & ...   \n",
      "...                                                  ...   \n",
      "12145  Tropical & Subtropical Grasslands, Savannas & ...   \n",
      "12146  Tropical & Subtropical Grasslands, Savannas & ...   \n",
      "12147  Tropical & Subtropical Grasslands, Savannas & ...   \n",
      "12148  Tropical & Subtropical Grasslands, Savannas & ...   \n",
      "12149  Tropical & Subtropical Grasslands, Savannas & ...   \n",
      "\n",
      "                           wwfecoreg  elevation     slope  ...         prec  \\\n",
      "0      Guinean forest-savanna mosaic       56.0  0.249701  ...  4725.462402   \n",
      "1      Guinean forest-savanna mosaic       53.0  0.140337  ...  4795.890625   \n",
      "2      Guinean forest-savanna mosaic       54.0  0.194847  ...  4795.890625   \n",
      "3      Guinean forest-savanna mosaic       56.0  0.311679  ...  4799.837402   \n",
      "4      Guinean forest-savanna mosaic       55.0  0.370649  ...  4795.890625   \n",
      "...                              ...        ...       ...  ...          ...   \n",
      "12145  Guinean forest-savanna mosaic      120.0  3.536279  ...  6447.270508   \n",
      "12146  Guinean forest-savanna mosaic      127.0  2.777352  ...  6446.983398   \n",
      "12147  Guinean forest-savanna mosaic      105.0  1.916879  ...  6603.541992   \n",
      "12148  Guinean forest-savanna mosaic      212.0  2.791115  ...  6607.849609   \n",
      "12149  Guinean forest-savanna mosaic      206.0  3.147191  ...  6608.192383   \n",
      "\n",
      "         d2road    d2city     popden     tt2city     popcnt  propensity_score  \\\n",
      "0      0.076830  1.598349  18.766653  497.520966  15.784311          0.025714   \n",
      "1      0.088585  1.608182  18.766653  468.537262  15.784807          0.033045   \n",
      "2      0.082074  1.606518  18.766653  481.787201  15.784809          0.029540   \n",
      "3      0.074536  1.604896  18.766653  571.114319  15.784805          0.020681   \n",
      "4      0.093169  1.616344  18.766655  478.213623  15.785307          0.033372   \n",
      "...         ...       ...        ...         ...        ...               ...   \n",
      "12145  0.008333  1.598089   3.946282  395.468872   3.325793          0.093810   \n",
      "12146  0.008333  1.606345   3.946282  404.638824   3.325794          0.159948   \n",
      "12147  0.000000  1.607490   3.946282  397.729340   3.325894          0.287412   \n",
      "12148  0.008333  1.625170   4.804702  401.707001   4.049485          0.212378   \n",
      "12149  0.016667  1.602948  12.610134  569.789124  10.628670          0.185918   \n",
      "\n",
      "       propensity_scoreA        matched        pa_id  \n",
      "0               0.912334            1.1      11610.0  \n",
      "1               0.882021            1.2      11610.0  \n",
      "2               0.878464            1.3      11610.0  \n",
      "3               0.986751            1.4      11610.0  \n",
      "4               0.916949            1.5      11610.0  \n",
      "...                  ...            ...          ...  \n",
      "12145           0.140609  l1_forest.147  555703681.0  \n",
      "12146           0.238713  l1_forest.222  555703681.0  \n",
      "12147           0.449809  l1_forest.117  555703681.0  \n",
      "12148           0.255712  l1_forest.132  555703681.0  \n",
      "12149           0.248305   l1_forest.29  555703681.0  \n",
      "\n",
      "[12150 rows x 23 columns]\n"
     ]
    }
   ],
   "source": [
    "import pandas as pd\n",
    "import glob\n",
    "\n",
    "# Get a list of all CSV files in the directory\n",
    "csv_files = glob.glob('*.csv')\n",
    "\n",
    "# Create an empty list to store the dataframes\n",
    "dfs = []\n",
    "\n",
    "# Loop through each CSV file and read it into a dataframe\n",
    "for file in csv_files:\n",
    "    df = pd.read_csv(file)\n",
    "    dfs.append(df)\n",
    "\n",
    "# Concatenate all dataframes into a single dataframe\n",
    "combined_df = pd.concat(dfs, ignore_index=True)\n",
    "\n",
    "print(combined_df)"
   ]
  },
  {
   "cell_type": "code",
   "execution_count": 29,
   "id": "4d756276-b014-4255-af77-24ede173b761",
   "metadata": {},
   "outputs": [],
   "source": [
    "import csv"
   ]
  },
  {
   "cell_type": "code",
   "execution_count": 33,
   "id": "eaea4591-3842-41e4-a427-d24b2c456e68",
   "metadata": {},
   "outputs": [],
   "source": [
    "filename = f\"{iso}_Full_PA.csv\"\n",
    "file_path = os.path.join(out_dir,filename)\n",
    "\n",
    "combined_df.to_csv(file_path)"
   ]
  }
 ],
 "metadata": {
  "kernelspec": {
   "display_name": "Python 3 (ipykernel)",
   "language": "python",
   "name": "python3"
  },
  "language_info": {
   "codemirror_mode": {
    "name": "ipython",
    "version": 3
   },
   "file_extension": ".py",
   "mimetype": "text/x-python",
   "name": "python",
   "nbconvert_exporter": "python",
   "pygments_lexer": "ipython3",
   "version": "3.10.13"
  }
 },
 "nbformat": 4,
 "nbformat_minor": 5
}
