{
 "cells": [
  {
   "cell_type": "code",
   "execution_count": 10,
   "id": "175e69d7-b627-47a6-aa54-25a9cb91e9c5",
   "metadata": {
    "tags": []
   },
   "outputs": [],
   "source": [
    "from maap.maap import MAAP\n",
    "maap = MAAP(maap_host='api.maap-project.org')\n",
    "\n",
    "username = maap.profile.account_info()[\"username\"]\n",
    "assert username"
   ]
  },
  {
   "cell_type": "markdown",
   "id": "d9894110-6c87-4f17-bb7a-23840133ad93",
   "metadata": {},
   "source": [
    "## Run DPS Notebook"
   ]
  },
  {
   "cell_type": "code",
   "execution_count": 7,
   "id": "9fcaae29-f895-4b8b-8a3f-5bf87e3bd76e",
   "metadata": {
    "scrolled": true,
    "tags": []
   },
   "outputs": [
    {
     "data": {
      "text/plain": [
       "'{\"code\": 200, \"message\": {\"id\": \"875ecc97e0b09af6fd0db2b78e4b147bd3b3692e\", \"short_id\": \"875ecc97\", \"created_at\": \"2025-01-10T21:27:17.000+00:00\", \"parent_ids\": [\"887bbfd7588e12b563ccad5a769e353c912b3bfd\"], \"title\": \"Registering algorithm: run_gedi_pa_extraction_5\", \"message\": \"Registering algorithm: run_gedi_pa_extraction_5\", \"author_name\": \"root\", \"author_email\": \"root@f2a98435594f\", \"authored_date\": \"2025-01-10T21:27:17.000+00:00\", \"committer_name\": \"root\", \"committer_email\": \"root@f2a98435594f\", \"committed_date\": \"2025-01-10T21:27:17.000+00:00\", \"trailers\": {}, \"extended_trailers\": {}, \"web_url\": \"https://repo.maap-project.org/root/register-job-hysds-v4/-/commit/875ecc97e0b09af6fd0db2b78e4b147bd3b3692e\", \"stats\": {\"additions\": 7, \"deletions\": 7, \"total\": 14}, \"status\": \"running\", \"project_id\": 3, \"last_pipeline\": {\"id\": 15042, \"iid\": 1838, \"project_id\": 3, \"sha\": \"875ecc97e0b09af6fd0db2b78e4b147bd3b3692e\", \"ref\": \"hysds-v5\", \"status\": \"running\", \"source\": \"push\", \"created_at\": \"2025-01-10T21:27:18.273Z\", \"updated_at\": \"2025-01-10T21:27:18.951Z\", \"web_url\": \"https://repo.maap-project.org/root/register-job-hysds-v4/-/pipelines/15042\"}, \"job_web_url\": \"https://repo.maap-project.org/root/register-job-hysds-v4/-/jobs/15333\", \"job_log_url\": \"https://repo.maap-project.org/root/register-job-hysds-v4/-/jobs/15333/raw\"}}\\n'"
      ]
     },
     "execution_count": 7,
     "metadata": {},
     "output_type": "execute_result"
    }
   ],
   "source": [
    "#register algorithm \n",
    "#maap.register_algorithm_from_yaml_file(\"/projects/vl_GEDI-PA_2024/run_gedi_pa_setup.yml\").text\n",
    "\n",
    "maap.register_algorithm_from_yaml_file(\"/projects/my-public-bucket/GEDI_PA/vl_GEDI-PA_2024/run_gedi_pa_setup_extract_step5.yml\").text\n"
   ]
  },
  {
   "cell_type": "markdown",
   "id": "fa28f87d-ecdc-41c4-8e76-44d8ad1b4447",
   "metadata": {},
   "source": [
    "## Commit with Tag for running\n",
    "1) Add version name as a map_boreal_2022_v2 or whatever is appropriate - both to this notebook and algorithm config yaml\n",
    "\n",
    "2) follow git instructions (every time):\n",
    "git add changes\n",
    "git commit -m 'message'\n",
    "git tag -f boreal_agb_2024_v6\n",
    "\n",
    "git push\n",
    "git push origin -f boreal_agb_2024_v6\n",
    "\n",
    "\n",
    "3) if it looks weird check git log to make sure tag is at same place as origin and dps\n"
   ]
  },
  {
   "cell_type": "code",
   "execution_count": 9,
   "id": "293d56c6-29e6-4849-be3b-b330d9ec3db7",
   "metadata": {},
   "outputs": [
    {
     "name": "stdout",
     "output_type": "stream",
     "text": [
      "{'job_id': 'e0265422-1396-4333-9fee-6d1c8ba74973', 'status': 'success', 'machine_type': None, 'architecture': None, 'machine_memory_size': None, 'directory_size': None, 'operating_system': None, 'job_start_time': None, 'job_end_time': None, 'job_duration_seconds': None, 'cpu_usage': None, 'cache_usage': None, 'mem_usage': None, 'max_mem_usage': None, 'swap_usage': None, 'read_io_stats': None, 'write_io_stats': None, 'sync_io_stats': None, 'async_io_stats': None, 'total_io_stats': None, 'error_details': None, 'response_code': 200, 'outputs': []}\n"
     ]
    }
   ],
   "source": [
    "# %%time\n",
    "#submit_results_df_list = []\n",
    "#len_input_list = len(DPS_INPUT_TILE_NUM_LIST)\n",
    "iso_list= ['GHA'] #'SEN NIG LIB'\n",
    "\n",
    "ALGO_ID = \"run_gedi_pa_extraction_5\"\n",
    "USER = username\n",
    "WORKER_TYPE = 'maap-dps-worker-64gb' #RAM should be low enough for 16 gb\n",
    "IDENTIFIER = 'GHAextractJan14'\n",
    "res = [] #List of job ids\n",
    "for iso in iso_list:\n",
    "    submit_result = maap.submitJob(\n",
    "        identifier=IDENTIFIER,\n",
    "        algo_id=ALGO_ID,\n",
    "        version='main',\n",
    "        username=username,\n",
    "        queue=WORKER_TYPE,\n",
    "        c=iso,\n",
    "        limit = \"0,10\"\n",
    "    )\n",
    "\n",
    "    print(submit_result)\n",
    "    #Add code to batch check for failed jobs, make list, for each job check status\n",
    "\n"
   ]
  },
  {
   "cell_type": "code",
   "execution_count": 1,
   "id": "59aa1be6-8aed-4800-af00-ef3838943b47",
   "metadata": {},
   "outputs": [],
   "source": [
    "import os"
   ]
  },
  {
   "cell_type": "code",
   "execution_count": 36,
   "id": "07e3eeb4-f630-4ef2-81a5-a189a3a8ab9a",
   "metadata": {},
   "outputs": [],
   "source": [
    "# iso = \"LBR\"\n",
    "# iso = \"SEN\"\n",
    "# iso = \"SLE\"\n",
    "iso = \"BEN\""
   ]
  },
  {
   "cell_type": "code",
   "execution_count": 2,
   "id": "b54318e6-dd20-4d42-be80-bd9084242b22",
   "metadata": {},
   "outputs": [
    {
     "ename": "NameError",
     "evalue": "name 'iso' is not defined",
     "output_type": "error",
     "traceback": [
      "\u001b[0;31m---------------------------------------------------------------------------\u001b[0m",
      "\u001b[0;31mNameError\u001b[0m                                 Traceback (most recent call last)",
      "Cell \u001b[0;32mIn[2], line 2\u001b[0m\n\u001b[1;32m      1\u001b[0m \u001b[38;5;66;03m# Define the folder path containing the output files from subsetting of tiles\u001b[39;00m\n\u001b[0;32m----> 2\u001b[0m folder_path \u001b[38;5;241m=\u001b[39m os\u001b[38;5;241m.\u001b[39mpath\u001b[38;5;241m.\u001b[39mjoin(\u001b[38;5;124m\"\u001b[39m\u001b[38;5;124m/projects/my-public-bucket/GEDI_global_PA_v2/WDPA_GEDI_extract/\u001b[39m\u001b[38;5;124m\"\u001b[39m,\u001b[43miso\u001b[49m)\n\u001b[1;32m      4\u001b[0m \u001b[38;5;28mprint\u001b[39m(\u001b[38;5;28mlen\u001b[39m([entry \u001b[38;5;28;01mfor\u001b[39;00m entry \u001b[38;5;129;01min\u001b[39;00m os\u001b[38;5;241m.\u001b[39mlistdir(folder_path) \u001b[38;5;28;01mif\u001b[39;00m os\u001b[38;5;241m.\u001b[39mpath\u001b[38;5;241m.\u001b[39misfile(os\u001b[38;5;241m.\u001b[39mpath\u001b[38;5;241m.\u001b[39mjoin(folder_path, entry))]))\n",
      "\u001b[0;31mNameError\u001b[0m: name 'iso' is not defined"
     ]
    }
   ],
   "source": [
    "# Define the folder path containing the output files from subsetting of tiles\n",
    "folder_path = os.path.join(\"/projects/my-public-bucket/GEDI_global_PA_v2/WDPA_GEDI_extract/\",iso)\n",
    "\n",
    "print(len([entry for entry in os.listdir(folder_path) if os.path.isfile(os.path.join(folder_path, entry))]))\n"
   ]
  },
  {
   "cell_type": "code",
   "execution_count": 25,
   "id": "058482bd-4409-40d9-bde8-ce05701fd187",
   "metadata": {},
   "outputs": [
    {
     "name": "stdout",
     "output_type": "stream",
     "text": [
      "Copying BEN_gedi_wk_24_Extracted32479.gpkg...\n",
      "Copying BEN_gedi_wk_24_Extracted32480.gpkg...\n",
      "Copying BEN_gedi_wk_24_Extracted32659.gpkg...\n",
      "Copying BEN_gedi_wk_24_Extracted32660.gpkg...\n",
      "Copying BEN_gedi_wk_24_Extracted32661.gpkg...\n",
      "Copying BEN_gedi_wk_24_Extracted32662.gpkg...\n",
      "Copying BEN_gedi_wk_24_Extracted32663.gpkg...\n",
      "Copying BEN_gedi_wk_24_Extracted32664.gpkg...\n",
      "Copying BEN_gedi_wk_24_Extracted32838.gpkg...\n",
      "Copying BEN_gedi_wk_24_Extracted32839.gpkg...\n",
      "Copying BEN_gedi_wk_24_Extracted32840.gpkg...\n",
      "Copying BEN_gedi_wk_24_Extracted32841.gpkg...\n",
      "Copying BEN_gedi_wk_24_Extracted32842.gpkg...\n",
      "Copying BEN_gedi_wk_24_Extracted32843.gpkg...\n",
      "Copying BEN_gedi_wk_24_Extracted32844.gpkg...\n",
      "Copying BEN_gedi_wk_24_Extracted33018.gpkg...\n",
      "Copying BEN_gedi_wk_24_Extracted33019.gpkg...\n",
      "Copying BEN_gedi_wk_24_Extracted33020.gpkg...\n",
      "Copying BEN_gedi_wk_24_Extracted33021.gpkg...\n",
      "Copying BEN_pa_12201_gedi_wk_24_conti_biome_TSGSS.RDS...\n",
      "Copying BEN_pa_12201_iso_matched_gedi_sub_wk_24.csv...\n",
      "Copying BEN_pa_19277_gedi_wk_24_conti_biome_TSGSS.RDS...\n",
      "Copying BEN_pa_19277_iso_matched_gedi_sub_wk_24.csv...\n",
      "Copying BEN_pa_2252_gedi_wk_24_conti_biome_TSGSS.RDS...\n",
      "Copying BEN_pa_2252_iso_matched_gedi_sub_wk_24.csv...\n",
      "Copying BEN_pa_2253_gedi_wk_24_conti_biome_TSGSS.RDS...\n",
      "Copying BEN_pa_2253_iso_matched_gedi_sub_wk_24.csv...\n",
      "Copying BEN_pa_2254_gedi_wk_24_conti_biome_TSGSS.RDS...\n",
      "Copying BEN_pa_2254_iso_matched_gedi_sub_wk_24.csv...\n",
      "Copying BEN_pa_32995_gedi_wk_24_conti_biome_TSGSS.RDS...\n",
      "Copying BEN_pa_32995_iso_matched_gedi_sub_wk_24.csv...\n",
      "Copying BEN_pa_32999_gedi_wk_24_conti_biome_TSGSS.RDS...\n",
      "Copying BEN_pa_32999_iso_matched_gedi_sub_wk_24.csv...\n",
      "Copying BEN_pa_33005_gedi_wk_24_conti_biome_TSGSS.RDS...\n",
      "Copying BEN_pa_33005_iso_matched_gedi_sub_wk_24.csv...\n",
      "Copying BEN_pa_33007_gedi_wk_24_conti_biome_TSGSS.RDS...\n",
      "Copying BEN_pa_33007_iso_matched_gedi_sub_wk_24.csv...\n",
      "Copying BEN_pa_33010_gedi_wk_24_conti_biome_TSGSS.RDS...\n",
      "Copying BEN_pa_33010_iso_matched_gedi_sub_wk_24.csv...\n",
      "Copying BEN_pa_33018_gedi_wk_24_conti_biome_TSGSS.RDS...\n",
      "Copying BEN_pa_33018_iso_matched_gedi_sub_wk_24.csv...\n",
      "Copying BEN_pa_33019_gedi_wk_24_conti_biome_TSGSS.RDS...\n",
      "Copying BEN_pa_33019_iso_matched_gedi_sub_wk_24.csv...\n",
      "Copying BEN_pa_33020_gedi_wk_24_conti_biome_TSGSS.RDS...\n",
      "Copying BEN_pa_33020_iso_matched_gedi_sub_wk_24.csv...\n",
      "Copying BEN_pa_5157_gedi_wk_24_conti_biome_TSGSS.RDS...\n",
      "Copying BEN_pa_5157_iso_matched_gedi_sub_wk_24.csv...\n",
      "Copying BEN_pa_5158_gedi_wk_24_conti_biome_TSGSS.RDS...\n",
      "Copying BEN_pa_5158_iso_matched_gedi_sub_wk_24.csv...\n",
      "Copying BEN_pa_5159_gedi_wk_24_conti_biome_TSGSS.RDS...\n",
      "Copying BEN_pa_5159_iso_matched_gedi_sub_wk_24.csv...\n",
      "Copying BEN_pa_5160_gedi_wk_24_conti_biome_TSGSS.RDS...\n",
      "Copying BEN_pa_5160_iso_matched_gedi_sub_wk_24.csv...\n",
      "Copying BEN_pa_5161_gedi_wk_24_conti_biome_TSGSS.RDS...\n",
      "Copying BEN_pa_5161_iso_matched_gedi_sub_wk_24.csv...\n",
      "Copying BEN_pa_5162_gedi_wk_24_conti_biome_TSGSS.RDS...\n",
      "Copying BEN_pa_5162_iso_matched_gedi_sub_wk_24.csv...\n",
      "Copying BEN_pa_597_gedi_wk_24_conti_biome_TSGSS.RDS...\n",
      "Copying BEN_pa_597_iso_matched_gedi_sub_wk_24.csv...\n",
      "Copying BEN_pa_6950_gedi_wk_24_conti_biome_TSGSS.RDS...\n",
      "Copying BEN_pa_6950_iso_matched_gedi_sub_wk_24.csv...\n",
      "Copying BEN_pa_6951_gedi_wk_24_conti_biome_TSGSS.RDS...\n",
      "Copying BEN_pa_6951_iso_matched_gedi_sub_wk_24.csv...\n",
      "Copying BEN_pa_6952_gedi_wk_24_conti_biome_TSGSS.RDS...\n",
      "Copying BEN_pa_6952_iso_matched_gedi_sub_wk_24.csv...\n",
      "Copying BEN_pa_6953_gedi_wk_24_conti_biome_TSGSS.RDS...\n",
      "Copying BEN_pa_6953_iso_matched_gedi_sub_wk_24.csv...\n",
      "Copying BEN_pa_6954_gedi_wk_24_conti_biome_TSGSS.RDS...\n",
      "Copying BEN_pa_6954_iso_matched_gedi_sub_wk_24.csv...\n",
      "Copying BEN_pa_6955_gedi_wk_24_conti_biome_TSGSS.RDS...\n",
      "Copying BEN_pa_6955_iso_matched_gedi_sub_wk_24.csv...\n",
      "Copying BEN_pa_6956_gedi_wk_24_conti_biome_TSGSS.RDS...\n",
      "Copying BEN_pa_6956_iso_matched_gedi_sub_wk_24.csv...\n",
      "Copying BEN_pa_7957_gedi_wk_24_conti_biome_TSGSS.RDS...\n",
      "Copying BEN_pa_7957_iso_matched_gedi_sub_wk_24.csv...\n",
      "Copying BEN_pa_5162_iso_matched_gedi_sub_wk_24-checkpoint.csv...\n"
     ]
    }
   ],
   "source": [
    "import subprocess\n",
    "root_dir = \"/projects/my-private-bucket/dps_output/run_gedi_pa_extraction_5/main/BENextractDec20\"  # Can now set name\n",
    "out_dir = os.path.join(\"/projects/my-public-bucket/GEDI_global_PA_v2/WDPA_GEDI_extract/\",iso)\n",
    "\n",
    "\n",
    "for dirName, subdirList, fileList in os.walk(root_dir):\n",
    "#    print(\"Found directory: %s\" % dirName)\n",
    "    for fname in fileList:\n",
    "        if fname.startswith(iso):\n",
    "            source_path = os.path.join(dirName, fname)\n",
    "            #print(source_path)\n",
    "            target_path = os.path.join(out_dir, fname)\n",
    "            #print(target_path)\n",
    "            if not os.path.exists(out_dir):\n",
    "                os.makedirs(out_dir)\n",
    "            if not os.path.exists(target_path):  # Check if file doesn’t exist in target directory\n",
    "                print(f\"Copying {fname}...\")\n",
    "                subprocess.call(['cp', source_path, target_path])\n",
    "#            else:\n",
    "#                print(f\"{fname} already exists in the target directory. Skipping...\")"
   ]
  },
  {
   "cell_type": "code",
   "execution_count": 42,
   "id": "d623ad05-ac15-4b85-b1b8-6d1f5460afb2",
   "metadata": {},
   "outputs": [],
   "source": [
    "iso = \"TGO\""
   ]
  },
  {
   "cell_type": "code",
   "execution_count": 43,
   "id": "7a956770-6d8b-452f-85e0-3b5df0cd9533",
   "metadata": {},
   "outputs": [
    {
     "data": {
      "text/plain": [
       "'/projects/my-public-bucket/GEDI_global_PA_v2/WDPA_GEDI_extract/SLE'"
      ]
     },
     "execution_count": 43,
     "metadata": {},
     "output_type": "execute_result"
    }
   ],
   "source": [
    "os.getcwd()"
   ]
  },
  {
   "cell_type": "code",
   "execution_count": 44,
   "id": "2f9e854a-7086-46b4-af72-fcea4f734e08",
   "metadata": {},
   "outputs": [],
   "source": [
    "out_dir = os.path.join(\"/projects/my-public-bucket/GEDI_global_PA_v2/WDPA_GEDI_extract/\",iso)"
   ]
  },
  {
   "cell_type": "code",
   "execution_count": 45,
   "id": "8db75aed-b2e8-42fa-b248-1d09d733862a",
   "metadata": {},
   "outputs": [
    {
     "data": {
      "text/plain": [
       "'/projects/my-public-bucket/GEDI_global_PA_v2/WDPA_GEDI_extract/TGO'"
      ]
     },
     "execution_count": 45,
     "metadata": {},
     "output_type": "execute_result"
    }
   ],
   "source": [
    "out_dir"
   ]
  },
  {
   "cell_type": "code",
   "execution_count": 46,
   "id": "e643be4f-4966-4823-8495-4f919f6d226e",
   "metadata": {},
   "outputs": [],
   "source": [
    "os.chdir(out_dir)"
   ]
  },
  {
   "cell_type": "code",
   "execution_count": 47,
   "id": "cd145977-bac2-4ca3-8386-b1e724c14552",
   "metadata": {},
   "outputs": [
    {
     "data": {
      "text/plain": [
       "'TGO'"
      ]
     },
     "execution_count": 47,
     "metadata": {},
     "output_type": "execute_result"
    }
   ],
   "source": [
    "iso"
   ]
  },
  {
   "cell_type": "code",
   "execution_count": 48,
   "id": "776b5e9a-5ffd-4ae2-943c-6bc1e47431c9",
   "metadata": {},
   "outputs": [
    {
     "name": "stdout",
     "output_type": "stream",
     "text": [
      "         Unnamed: 0  pa_id  status  \\\n",
      "0                 1  20976       0   \n",
      "1                 2  20976       0   \n",
      "2                 3  20976       0   \n",
      "3                 4  20976       0   \n",
      "4                 5  20976       0   \n",
      "...             ...    ...     ...   \n",
      "1625367       10603  95398       0   \n",
      "1625368       10604  95398       0   \n",
      "1625369       10605  95398       0   \n",
      "1625370       10606  95398       0   \n",
      "1625371       10607  95398       0   \n",
      "\n",
      "                                                   wwfbiom  \\\n",
      "0        Tropical & Subtropical Grasslands, Savannas & ...   \n",
      "1        Tropical & Subtropical Grasslands, Savannas & ...   \n",
      "2        Tropical & Subtropical Grasslands, Savannas & ...   \n",
      "3        Tropical & Subtropical Grasslands, Savannas & ...   \n",
      "4        Tropical & Subtropical Grasslands, Savannas & ...   \n",
      "...                                                    ...   \n",
      "1625367  Tropical & Subtropical Grasslands, Savannas & ...   \n",
      "1625368  Tropical & Subtropical Grasslands, Savannas & ...   \n",
      "1625369  Tropical & Subtropical Grasslands, Savannas & ...   \n",
      "1625370  Tropical & Subtropical Grasslands, Savannas & ...   \n",
      "1625371  Tropical & Subtropical Grasslands, Savannas & ...   \n",
      "\n",
      "                             wwfecoreg         shot_number  glad_change  \\\n",
      "0                West Sudanian savanna   57250600300576494           29   \n",
      "1                West Sudanian savanna   57250600300576492           29   \n",
      "2                West Sudanian savanna   57250600300576491           28   \n",
      "3                West Sudanian savanna   57250600300576489           28   \n",
      "4                West Sudanian savanna   57250600300576488           28   \n",
      "...                                ...                 ...          ...   \n",
      "1625367  Guinean forest-savanna mosaic  190321100200065237           24   \n",
      "1625368  Guinean forest-savanna mosaic  190321100200065238           24   \n",
      "1625369  Guinean forest-savanna mosaic  190321100200065247           24   \n",
      "1625370  Guinean forest-savanna mosaic  214190000300274926           28   \n",
      "1625371  Guinean forest-savanna mosaic  233720000300275649           24   \n",
      "\n",
      "         glad_2020    UID  fhd_normal  ...  pavd_z26  cover_z27  pai_z27  \\\n",
      "0               29   6517    2.002090  ...       0.0        0.0      0.0   \n",
      "1               29   6517    2.143420  ...       0.0        0.0      0.0   \n",
      "2               28   6517    1.757371  ...       0.0        0.0      0.0   \n",
      "3               28   6517    1.987809  ...       0.0        0.0      0.0   \n",
      "4               28   6517    2.403181  ...       0.0        0.0      0.0   \n",
      "...            ...    ...         ...  ...       ...        ...      ...   \n",
      "1625367         24  11499    2.175246  ...       0.0        0.0      0.0   \n",
      "1625368         24  11499    2.135667  ...       0.0        0.0      0.0   \n",
      "1625369         24  11499    1.772134  ...       0.0        0.0      0.0   \n",
      "1625370         28  11052    2.170827  ...       0.0        0.0      0.0   \n",
      "1625371         24  12205    2.186424  ...       0.0        0.0      0.0   \n",
      "\n",
      "         pavd_z27  cover_z28  pai_z28  pavd_z28  cover_z29  pai_z29  pavd_z29  \n",
      "0             0.0        0.0        0       0.0        0.0        0         0  \n",
      "1             0.0        0.0        0       0.0        0.0        0         0  \n",
      "2             0.0        0.0        0       0.0        0.0        0         0  \n",
      "3             0.0        0.0        0       0.0        0.0        0         0  \n",
      "4             0.0        0.0        0       0.0        0.0        0         0  \n",
      "...           ...        ...      ...       ...        ...      ...       ...  \n",
      "1625367       0.0        0.0        0       0.0        0.0        0         0  \n",
      "1625368       0.0        0.0        0       0.0        0.0        0         0  \n",
      "1625369       0.0        0.0        0       0.0        0.0        0         0  \n",
      "1625370       0.0        0.0        0       0.0        0.0        0         0  \n",
      "1625371       0.0        0.0        0       0.0        0.0        0         0  \n",
      "\n",
      "[1625372 rows x 115 columns]\n"
     ]
    }
   ],
   "source": [
    "import pandas as pd\n",
    "import glob\n",
    "\n",
    "# Get a list of all CSV files in the directory\n",
    "csv_files = glob.glob('*.csv')\n",
    "\n",
    "# Create an empty list to store the dataframes\n",
    "dfs = []\n",
    "\n",
    "# Loop through each CSV file and read it into a dataframe\n",
    "for file in csv_files:\n",
    "    df = pd.read_csv(file)\n",
    "    dfs.append(df)\n",
    "\n",
    "# Concatenate all dataframes into a single dataframe\n",
    "combined_df = pd.concat(dfs, ignore_index=True)\n",
    "\n",
    "print(combined_df)"
   ]
  },
  {
   "cell_type": "code",
   "execution_count": 49,
   "id": "e95242b0-58cf-4c60-8b1a-38b88bb542d8",
   "metadata": {},
   "outputs": [
    {
     "data": {
      "text/plain": [
       "Index(['Unnamed: 0', 'pa_id', 'status', 'wwfbiom', 'wwfecoreg', 'shot_number',\n",
       "       'glad_change', 'glad_2020', 'UID', 'fhd_normal',\n",
       "       ...\n",
       "       'pavd_z26', 'cover_z27', 'pai_z27', 'pavd_z27', 'cover_z28', 'pai_z28',\n",
       "       'pavd_z28', 'cover_z29', 'pai_z29', 'pavd_z29'],\n",
       "      dtype='object', length=115)"
      ]
     },
     "execution_count": 49,
     "metadata": {},
     "output_type": "execute_result"
    }
   ],
   "source": [
    "combined_df.columns"
   ]
  },
  {
   "cell_type": "code",
   "execution_count": 50,
   "id": "4d756276-b014-4255-af77-24ede173b761",
   "metadata": {},
   "outputs": [],
   "source": [
    "import csv"
   ]
  },
  {
   "cell_type": "code",
   "execution_count": 51,
   "id": "eaea4591-3842-41e4-a427-d24b2c456e68",
   "metadata": {},
   "outputs": [],
   "source": [
    "filename = f\"{iso}_Full_PA.csv\"\n",
    "file_path = os.path.join(out_dir,filename)\n",
    "\n",
    "combined_df.to_csv(file_path)"
   ]
  },
  {
   "cell_type": "code",
   "execution_count": 5,
   "id": "a49f7677-c1c8-4d2a-b087-799a1ada344d",
   "metadata": {},
   "outputs": [
    {
     "data": {
      "text/plain": [
       "'Running'"
      ]
     },
     "execution_count": 5,
     "metadata": {},
     "output_type": "execute_result"
    }
   ],
   "source": [
    "r = maap.getJobStatus(\"24ae9bb9-a3c1-4dbf-b2fb-14614cbbdb02\")\n",
    "r\n"
   ]
  }
 ],
 "metadata": {
  "kernelspec": {
   "display_name": "Python 3 (ipykernel)",
   "language": "python",
   "name": "python3"
  },
  "language_info": {
   "codemirror_mode": {
    "name": "ipython",
    "version": 3
   },
   "file_extension": ".py",
   "mimetype": "text/x-python",
   "name": "python",
   "nbconvert_exporter": "python",
   "pygments_lexer": "ipython3",
   "version": "3.10.13"
  }
 },
 "nbformat": 4,
 "nbformat_minor": 5
}
