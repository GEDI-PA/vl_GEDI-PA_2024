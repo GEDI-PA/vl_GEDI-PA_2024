{
 "cells": [
  {
   "cell_type": "code",
   "execution_count": null,
   "id": "32aeaaac-7d6f-488b-b136-ada54bb8f840",
   "metadata": {},
   "outputs": [],
   "source": [
    "## ---------------- SEP5 testing gedi extraction code -----------------------"
   ]
  },
  {
   "cell_type": "code",
   "execution_count": null,
   "id": "375b9c98-0ce5-4bb8-86dd-29410a0eabee",
   "metadata": {},
   "outputs": [],
   "source": [
    "##\n",
    "# conda install -c conda-forge r-optmatch\n",
    "# conda install -c conda-forge r-RItools\n",
    "##"
   ]
  },
  {
   "cell_type": "code",
   "execution_count": 37,
   "id": "bb019e34-2538-4e39-828f-e670636a0436",
   "metadata": {},
   "outputs": [
    {
     "name": "stderr",
     "output_type": "stream",
     "text": [
      "Updating HTML index of packages in '.Library'\n",
      "\n",
      "Making 'packages.html' ...\n",
      " done\n",
      "\n",
      "also installing the dependency ‘svd’\n",
      "\n",
      "\n",
      "Updating HTML index of packages in '.Library'\n",
      "\n",
      "Making 'packages.html' ...\n",
      " done\n",
      "\n"
     ]
    }
   ],
   "source": [
    "install.packages(\"s3\")\n",
    "install.packages(\"RItools\")    "
   ]
  },
  {
   "cell_type": "code",
   "execution_count": 38,
   "id": "aa085b6a-d865-4ff5-8c40-e26b9fe93940",
   "metadata": {},
   "outputs": [
    {
     "ename": "ERROR",
     "evalue": "Error in library(\"RItools\"): there is no package called ‘RItools’\n",
     "output_type": "error",
     "traceback": [
      "Error in library(\"RItools\"): there is no package called ‘RItools’\nTraceback:\n",
      "1. library(\"RItools\")"
     ]
    }
   ],
   "source": [
    "library(\"terra\")\n",
    "library(\"dplyr\")\n",
    "library(\"sf\")\n",
    "#install.packages(\"s3\")\n",
    "library(\"s3\")\n",
    "\n",
    "library(\"sp\")\n",
    "library(\"foreach\")\n",
    "library(\"stringr\")\n",
    "library(\"aws.s3\")\n",
    "#conda install -c conda-forge r-optmatch #r-ggmap r-hrbrthemes r-Hmisc\n",
    "#library(\"optmatch\")\n",
    "#install.packages(\"doParallel\")\n",
    "#library(\"doParallel\")\n",
    "#install.packages(\"RItools\")    \n",
    "library(\"RItools\")\n"
   ]
  },
  {
   "cell_type": "code",
   "execution_count": null,
   "id": "62cdb96c-9e67-4aa4-ac5d-436e5d467d8b",
   "metadata": {},
   "outputs": [],
   "source": [
    "#s3 <- paws::s3()"
   ]
  },
  {
   "cell_type": "code",
   "execution_count": null,
   "id": "2ced8004-1639-432b-9c12-d0cb5f6632fc",
   "metadata": {},
   "outputs": [],
   "source": [
    "#To test, we define the variables manually. For final version, run the commented out section below\n",
    "#iso3 <-\"Bpt\"\n",
    "iso3 <-\"Bpt\"\n",
    "gediwk <- 24\n",
    "mproc <- 1"
   ]
  },
  {
   "cell_type": "code",
   "execution_count": null,
   "id": "6d063ab5-b6c7-45a5-b852-55e85691de33",
   "metadata": {},
   "outputs": [],
   "source": [
    "#-------------------------------------------------------------------------------\n",
    "#args = commandArgs(trailingOnly=TRUE)\n",
    "#if (length(args)==0) {\n",
    "#  stop(\"At least one argument must be supplied (input file).n\", call.=FALSE)\n",
    "#} else if (length(args)>=1) {\n",
    "#  \n",
    "#  iso3 <- args[1]  #country to process\n",
    "#  gediwk <- args[2]   #the # of weeks GEDI data to use\n",
    "#  mproc <- as.integer(args[3])  #the number of cores to use for matching \n",
    "#}\n",
    "#-------------------------------------------------------------------------------"
   ]
  },
  {
   "cell_type": "code",
   "execution_count": 39,
   "id": "715b5c20-70ed-4406-9077-e0a70295e4f9",
   "metadata": {},
   "outputs": [
    {
     "name": "stdout",
     "output_type": "stream",
     "text": [
      "Step 0: Loading global variables for Bpt with wk 24 data \n"
     ]
    },
    {
     "name": "stderr",
     "output_type": "stream",
     "text": [
      "\u001b[36mℹ\u001b[39m \u001b[34m\u001b[34ms3://maap-ops-workspace/shared/leitoldv/GEDI_global_PA_v2/wwf_ecoregions_key.csv\u001b[34m\u001b[39m already exists at \u001b[34m\u001b[34m/projects/.local/share/R/s3/maap-ops-workspace/shared/leitoldv/GEDI_global_PA_v2/wwf_ecoregions_key.csv\u001b[34m\u001b[39m\n",
      "\n",
      "\u001b[36mℹ\u001b[39m \u001b[34m\u001b[34ms3://maap-ops-workspace/shared/leitoldv/GEDI_global_PA_v2/WDPA_shapefiles/WDPA_polygons/Bpt_PA_poly.rds\u001b[34m\u001b[39m already exists at \u001b[34m\u001b[34m/projects/.local/share/R/s3/maap-ops-workspace/shared/leitoldv/GEDI_global_PA_v2/WDPA_shapefiles/WDPA_polygons/Bpt_PA_poly.rds\u001b[34m\u001b[39m\n",
      "\n",
      "\u001b[36mℹ\u001b[39m \u001b[34m\u001b[34ms3://maap-ops-workspace/shared/leitoldv/GEDI_global_PA_v2/GEDI_ANCI_PFT_r1000m_EASE2.0_UMD_v1_projection_defined_6933.tif\u001b[34m\u001b[39m already exists at \u001b[34m\u001b[34m/projects/.local/share/R/s3/maap-ops-workspace/shared/leitoldv/GEDI_global_PA_v2/GEDI_ANCI_PFT_r1000m_EASE2.0_UMD_v1_projection_defined_6933.tif\u001b[34m\u001b[39m\n",
      "\n",
      "\u001b[36mℹ\u001b[39m \u001b[34m\u001b[34ms3://maap-ops-workspace/shared/leitoldv/GEDI_global_PA_v2/GEDI_ANCI_CONTINENT_r1000m_EASE2.0_UMD_v1_revised_projection_defined_6933.tif\u001b[34m\u001b[39m already exists at \u001b[34m\u001b[34m/projects/.local/share/R/s3/maap-ops-workspace/shared/leitoldv/GEDI_global_PA_v2/GEDI_ANCI_CONTINENT_r1000m_EASE2.0_UMD_v1_revised_projection_defined_6933.tif\u001b[34m\u001b[39m\n",
      "\n",
      "\u001b[36mℹ\u001b[39m all files already exist\n",
      "\n",
      "\u001b[36mℹ\u001b[39m \u001b[34m\u001b[34ms3://maap-ops-workspace/shared/leitoldv/GEDI_global_PA_v2/WDPA_countries/shp/Bpt.shp\u001b[34m\u001b[39m already exists at \u001b[34m\u001b[34m/projects/.local/share/R/s3/maap-ops-workspace/shared/leitoldv/GEDI_global_PA_v2/WDPA_countries/shp/Bpt.shp\u001b[34m\u001b[39m\n",
      "\n"
     ]
    },
    {
     "name": "stdout",
     "output_type": "stream",
     "text": [
      "Reading layer `Bpt' from data source \n",
      "  `/projects/.local/share/R/s3/maap-ops-workspace/shared/leitoldv/GEDI_global_PA_v2/WDPA_countries/shp/Bpt.shp' \n",
      "  using driver `ESRI Shapefile'\n",
      "Simple feature collection with 1 feature and 7 fields\n",
      "Geometry type: POLYGON\n",
      "Dimension:     XY\n",
      "Bounding box:  xmin: -59.18886 ymin: -22.11834 xmax: -54.92231 ymax: -15.52386\n",
      "Geodetic CRS:  WGS 84\n"
     ]
    },
    {
     "name": "stderr",
     "output_type": "stream",
     "text": [
      "\u001b[36mℹ\u001b[39m \u001b[34m\u001b[34ms3://maap-ops-workspace/shared/leitoldv/GEDI_global_PA_v2/rf_noclimate.RData\u001b[34m\u001b[39m already exists at \u001b[34m\u001b[34m/projects/.local/share/R/s3/maap-ops-workspace/shared/leitoldv/GEDI_global_PA_v2/rf_noclimate.RData\u001b[34m\u001b[39m\n",
      "\n",
      "\u001b[36mℹ\u001b[39m \u001b[34m\u001b[34ms3://maap-ops-workspace/shared/leitoldv/GEDI_global_PA_v2/vl_GEDI-PA_2024/matching_func_2024.R\u001b[34m\u001b[39m already exists at \u001b[34m\u001b[34m/projects/.local/share/R/s3/maap-ops-workspace/shared/leitoldv/GEDI_global_PA_v2/vl_GEDI-PA_2024/matching_func_2024.R\u001b[34m\u001b[39m\n",
      "\n"
     ]
    }
   ],
   "source": [
    "cat(\"Step 0: Loading global variables for\", iso3,\"with wk\", gediwk, \"data \\n\")\n",
    "\n",
    "#f.path <- \"/projects/my-public-bucket/GEDI_global_PA_v2/\"\n",
    "f.path <- \"s3://maap-ops-workspace/shared/leitoldv/GEDI_global_PA_v2/\"\n",
    "\n",
    "matching_tifs <- c(\"wwf_biomes\",\"wwf_ecoreg\",\"lc2000\",\"d2roads\", \"dcities\",\"dem\",\n",
    "                   \"pop_cnt_2000\",\"pop_den_2000\",\"slope\", \"tt2cities_2000\", \"wc_prec_1990-1999\",\n",
    "                   \"wc_tmax_1990-1999\",\"wc_tavg_1990-1999\",\"wc_tmin_1990-1999\" )\n",
    "\n",
    "ecoreg_key <- read.csv(s3_get(paste(f.path,\"wwf_ecoregions_key.csv\",sep=\"\")))\n",
    "#unlink(s3_get(paste(f.path,\"wwf_ecoregions_key.csv\",sep=\"\")))\n",
    "\n",
    "allPAs <- readRDS(s3_get(paste(f.path,\"WDPA_shapefiles/WDPA_polygons/\",iso3,\"_PA_poly.rds\",sep=\"\")))\n",
    "\n",
    "MCD12Q1 <- rast(s3_get(paste(f.path,\"GEDI_ANCI_PFT_r1000m_EASE2.0_UMD_v1_projection_defined_6933.tif\",sep=\"\")))\n",
    "crs(MCD12Q1)  <- \"epsg:6933\"\n",
    "\n",
    "world_region <- rast(s3_get(paste(f.path,\"GEDI_ANCI_CONTINENT_r1000m_EASE2.0_UMD_v1_revised_projection_defined_6933.tif\",sep=\"\")))\n",
    "crs(world_region)  <- \"epsg:6933\"\n",
    "\n",
    "s3_get_files(c(paste(f.path,\"WDPA_countries/shp/\",iso3,\".shp\",sep=\"\"),\n",
    "              paste(f.path,\"WDPA_countries/shp/\",iso3,\".shx\",sep=\"\"),\n",
    "              paste(f.path,\"WDPA_countries/shp/\",iso3,\".prj\",sep=\"\"),\n",
    "              paste(f.path,\"WDPA_countries/shp/\",iso3,\".dbf\",sep=\"\")),confirm = FALSE)\n",
    "adm <- st_read(s3_get(paste(f.path,\"WDPA_countries/shp/\",iso3,\".shp\",sep=\"\")))\n",
    "\n",
    "#s3_path <- paste(\"/vsis3/maap-ops-workspace/shared/leitoldv/GEDI_global_PA_v2/WDPA_countries/shp/\",iso3,\".shp\",sep=\"\") #Redo this for the gpkg\n",
    "#adm <- st_read(s3_path)\n",
    "adm_prj <- project(vect(adm), \"epsg:6933\")\n",
    "\n",
    "load(s3_get(paste(f.path,\"rf_noclimate.RData\",sep=\"\")))\n",
    "#source(s3_get(paste(f.path,\"matching_func.R\",sep=\"\")))\n",
    "source(s3_get(paste(f.path,\"vl_GEDI-PA_2024/matching_func_2024.R\",sep=\"\")))\n",
    "\n",
    "flag <- \"run all\"\n",
    "#flag <- \"run remaining\""
   ]
  },
  {
   "cell_type": "code",
   "execution_count": 40,
   "id": "d79924a1-23ba-40a0-81ee-87219004c19c",
   "metadata": {},
   "outputs": [
    {
     "name": "stdout",
     "output_type": "stream",
     "text": [
      "Step 5: Performing WK  24 GEDI extraction for Bpt \n"
     ]
    },
    {
     "name": "stderr",
     "output_type": "stream",
     "text": [
      "\u001b[36mℹ\u001b[39m \u001b[34m\u001b[34ms3://maap-ops-workspace/shared/leitoldv/GEDI_global_PA_v2/WDPA_matching_results/Bpt_wk24_filelist.csv\u001b[34m\u001b[39m already exists at \u001b[34m\u001b[34m/projects/.local/share/R/s3/maap-ops-workspace/shared/leitoldv/GEDI_global_PA_v2/WDPA_matching_results/Bpt_wk24_filelist.csv\u001b[34m\u001b[39m\n",
      "\n"
     ]
    },
    {
     "data": {
      "text/html": [
       "<style>\n",
       ".list-inline {list-style: none; margin:0; padding: 0}\n",
       ".list-inline>li {display: inline-block}\n",
       ".list-inline>li:not(:last-child)::after {content: \"\\00b7\"; padding: 0 .5ex}\n",
       "</style>\n",
       "<ol class=list-inline><li>'Bpt_pa_220297_matching_results_wk24.RDS'</li><li>'Bpt_pa_2220_matching_results_wk24.RDS'</li><li>'Bpt_pa_2581_matching_results_wk24.RDS'</li><li>'Bpt_pa_33968_matching_results_wk24.RDS'</li><li>'Bpt_pa_33985_matching_results_wk24.RDS'</li><li>'Bpt_pa_352016_matching_results_wk24.RDS'</li><li>'Bpt_pa_352021_matching_results_wk24.RDS'</li><li>'Bpt_pa_352270_matching_results_wk24.RDS'</li><li>'Bpt_pa_352271_matching_results_wk24.RDS'</li><li>'Bpt_pa_352430_matching_results_wk24.RDS'</li><li>'Bpt_pa_352461_matching_results_wk24.RDS'</li><li>'Bpt_pa_352463_matching_results_wk24.RDS'</li><li>'Bpt_pa_352466_matching_results_wk24.RDS'</li><li>'Bpt_pa_478452_matching_results_wk24.RDS'</li><li>'Bpt_pa_555542500_matching_results_wk24.RDS'</li><li>'Bpt_pa_555542528_matching_results_wk24.RDS'</li><li>'Bpt_pa_555542552_matching_results_wk24.RDS'</li><li>'Bpt_pa_555542777_matching_results_wk24.RDS'</li><li>'Bpt_pa_555576153_matching_results_wk24.RDS'</li><li>'Bpt_pa_555576191_matching_results_wk24.RDS'</li><li>'Bpt_pa_555576276_matching_results_wk24.RDS'</li><li>'Bpt_pa_555576295_matching_results_wk24.RDS'</li><li>'Bpt_pa_555576310_matching_results_wk24.RDS'</li><li>'Bpt_pa_555576396_matching_results_wk24.RDS'</li><li>'Bpt_pa_555576444_matching_results_wk24.RDS'</li><li>'Bpt_pa_555599959_matching_results_wk24.RDS'</li><li>'Bpt_pa_555600164_matching_results_wk24.RDS'</li><li>'Bpt_pa_555682279_matching_results_wk24.RDS'</li><li>'Bpt_pa_67816_matching_results_wk24.RDS'</li></ol>\n"
      ],
      "text/latex": [
       "\\begin{enumerate*}\n",
       "\\item 'Bpt\\_pa\\_220297\\_matching\\_results\\_wk24.RDS'\n",
       "\\item 'Bpt\\_pa\\_2220\\_matching\\_results\\_wk24.RDS'\n",
       "\\item 'Bpt\\_pa\\_2581\\_matching\\_results\\_wk24.RDS'\n",
       "\\item 'Bpt\\_pa\\_33968\\_matching\\_results\\_wk24.RDS'\n",
       "\\item 'Bpt\\_pa\\_33985\\_matching\\_results\\_wk24.RDS'\n",
       "\\item 'Bpt\\_pa\\_352016\\_matching\\_results\\_wk24.RDS'\n",
       "\\item 'Bpt\\_pa\\_352021\\_matching\\_results\\_wk24.RDS'\n",
       "\\item 'Bpt\\_pa\\_352270\\_matching\\_results\\_wk24.RDS'\n",
       "\\item 'Bpt\\_pa\\_352271\\_matching\\_results\\_wk24.RDS'\n",
       "\\item 'Bpt\\_pa\\_352430\\_matching\\_results\\_wk24.RDS'\n",
       "\\item 'Bpt\\_pa\\_352461\\_matching\\_results\\_wk24.RDS'\n",
       "\\item 'Bpt\\_pa\\_352463\\_matching\\_results\\_wk24.RDS'\n",
       "\\item 'Bpt\\_pa\\_352466\\_matching\\_results\\_wk24.RDS'\n",
       "\\item 'Bpt\\_pa\\_478452\\_matching\\_results\\_wk24.RDS'\n",
       "\\item 'Bpt\\_pa\\_555542500\\_matching\\_results\\_wk24.RDS'\n",
       "\\item 'Bpt\\_pa\\_555542528\\_matching\\_results\\_wk24.RDS'\n",
       "\\item 'Bpt\\_pa\\_555542552\\_matching\\_results\\_wk24.RDS'\n",
       "\\item 'Bpt\\_pa\\_555542777\\_matching\\_results\\_wk24.RDS'\n",
       "\\item 'Bpt\\_pa\\_555576153\\_matching\\_results\\_wk24.RDS'\n",
       "\\item 'Bpt\\_pa\\_555576191\\_matching\\_results\\_wk24.RDS'\n",
       "\\item 'Bpt\\_pa\\_555576276\\_matching\\_results\\_wk24.RDS'\n",
       "\\item 'Bpt\\_pa\\_555576295\\_matching\\_results\\_wk24.RDS'\n",
       "\\item 'Bpt\\_pa\\_555576310\\_matching\\_results\\_wk24.RDS'\n",
       "\\item 'Bpt\\_pa\\_555576396\\_matching\\_results\\_wk24.RDS'\n",
       "\\item 'Bpt\\_pa\\_555576444\\_matching\\_results\\_wk24.RDS'\n",
       "\\item 'Bpt\\_pa\\_555599959\\_matching\\_results\\_wk24.RDS'\n",
       "\\item 'Bpt\\_pa\\_555600164\\_matching\\_results\\_wk24.RDS'\n",
       "\\item 'Bpt\\_pa\\_555682279\\_matching\\_results\\_wk24.RDS'\n",
       "\\item 'Bpt\\_pa\\_67816\\_matching\\_results\\_wk24.RDS'\n",
       "\\end{enumerate*}\n"
      ],
      "text/markdown": [
       "1. 'Bpt_pa_220297_matching_results_wk24.RDS'\n",
       "2. 'Bpt_pa_2220_matching_results_wk24.RDS'\n",
       "3. 'Bpt_pa_2581_matching_results_wk24.RDS'\n",
       "4. 'Bpt_pa_33968_matching_results_wk24.RDS'\n",
       "5. 'Bpt_pa_33985_matching_results_wk24.RDS'\n",
       "6. 'Bpt_pa_352016_matching_results_wk24.RDS'\n",
       "7. 'Bpt_pa_352021_matching_results_wk24.RDS'\n",
       "8. 'Bpt_pa_352270_matching_results_wk24.RDS'\n",
       "9. 'Bpt_pa_352271_matching_results_wk24.RDS'\n",
       "10. 'Bpt_pa_352430_matching_results_wk24.RDS'\n",
       "11. 'Bpt_pa_352461_matching_results_wk24.RDS'\n",
       "12. 'Bpt_pa_352463_matching_results_wk24.RDS'\n",
       "13. 'Bpt_pa_352466_matching_results_wk24.RDS'\n",
       "14. 'Bpt_pa_478452_matching_results_wk24.RDS'\n",
       "15. 'Bpt_pa_555542500_matching_results_wk24.RDS'\n",
       "16. 'Bpt_pa_555542528_matching_results_wk24.RDS'\n",
       "17. 'Bpt_pa_555542552_matching_results_wk24.RDS'\n",
       "18. 'Bpt_pa_555542777_matching_results_wk24.RDS'\n",
       "19. 'Bpt_pa_555576153_matching_results_wk24.RDS'\n",
       "20. 'Bpt_pa_555576191_matching_results_wk24.RDS'\n",
       "21. 'Bpt_pa_555576276_matching_results_wk24.RDS'\n",
       "22. 'Bpt_pa_555576295_matching_results_wk24.RDS'\n",
       "23. 'Bpt_pa_555576310_matching_results_wk24.RDS'\n",
       "24. 'Bpt_pa_555576396_matching_results_wk24.RDS'\n",
       "25. 'Bpt_pa_555576444_matching_results_wk24.RDS'\n",
       "26. 'Bpt_pa_555599959_matching_results_wk24.RDS'\n",
       "27. 'Bpt_pa_555600164_matching_results_wk24.RDS'\n",
       "28. 'Bpt_pa_555682279_matching_results_wk24.RDS'\n",
       "29. 'Bpt_pa_67816_matching_results_wk24.RDS'\n",
       "\n",
       "\n"
      ],
      "text/plain": [
       " [1] \"Bpt_pa_220297_matching_results_wk24.RDS\"   \n",
       " [2] \"Bpt_pa_2220_matching_results_wk24.RDS\"     \n",
       " [3] \"Bpt_pa_2581_matching_results_wk24.RDS\"     \n",
       " [4] \"Bpt_pa_33968_matching_results_wk24.RDS\"    \n",
       " [5] \"Bpt_pa_33985_matching_results_wk24.RDS\"    \n",
       " [6] \"Bpt_pa_352016_matching_results_wk24.RDS\"   \n",
       " [7] \"Bpt_pa_352021_matching_results_wk24.RDS\"   \n",
       " [8] \"Bpt_pa_352270_matching_results_wk24.RDS\"   \n",
       " [9] \"Bpt_pa_352271_matching_results_wk24.RDS\"   \n",
       "[10] \"Bpt_pa_352430_matching_results_wk24.RDS\"   \n",
       "[11] \"Bpt_pa_352461_matching_results_wk24.RDS\"   \n",
       "[12] \"Bpt_pa_352463_matching_results_wk24.RDS\"   \n",
       "[13] \"Bpt_pa_352466_matching_results_wk24.RDS\"   \n",
       "[14] \"Bpt_pa_478452_matching_results_wk24.RDS\"   \n",
       "[15] \"Bpt_pa_555542500_matching_results_wk24.RDS\"\n",
       "[16] \"Bpt_pa_555542528_matching_results_wk24.RDS\"\n",
       "[17] \"Bpt_pa_555542552_matching_results_wk24.RDS\"\n",
       "[18] \"Bpt_pa_555542777_matching_results_wk24.RDS\"\n",
       "[19] \"Bpt_pa_555576153_matching_results_wk24.RDS\"\n",
       "[20] \"Bpt_pa_555576191_matching_results_wk24.RDS\"\n",
       "[21] \"Bpt_pa_555576276_matching_results_wk24.RDS\"\n",
       "[22] \"Bpt_pa_555576295_matching_results_wk24.RDS\"\n",
       "[23] \"Bpt_pa_555576310_matching_results_wk24.RDS\"\n",
       "[24] \"Bpt_pa_555576396_matching_results_wk24.RDS\"\n",
       "[25] \"Bpt_pa_555576444_matching_results_wk24.RDS\"\n",
       "[26] \"Bpt_pa_555599959_matching_results_wk24.RDS\"\n",
       "[27] \"Bpt_pa_555600164_matching_results_wk24.RDS\"\n",
       "[28] \"Bpt_pa_555682279_matching_results_wk24.RDS\"\n",
       "[29] \"Bpt_pa_67816_matching_results_wk24.RDS\"    "
      ]
     },
     "metadata": {},
     "output_type": "display_data"
    },
    {
     "data": {
      "text/html": [
       "29"
      ],
      "text/latex": [
       "29"
      ],
      "text/markdown": [
       "29"
      ],
      "text/plain": [
       "[1] 29"
      ]
     },
     "metadata": {},
     "output_type": "display_data"
    }
   ],
   "source": [
    "#---------------STEP5. GEDI PROCESSING ---------------- \n",
    "#using GEDI shots to extract the treatment/control status, also extract the MODIS PFT for AGB prediction\n",
    "\n",
    "# if (file.exists(paste(f.path,\"WDPA_GEDI_extract/\",iso3,\"_wk\",gediwk,\"/\",iso3,\"_gedi_extracted_matching_wk\",gediwk,\".RDS\", sep=\"\"))){\n",
    "cat(paste(\"Step 5: Performing WK \", gediwk, \"GEDI extraction for\", iso3,\"\\n\"))\n",
    "#matched_all <-read.csv(paste(f.path,\"WDPA_extract4_residual_PAs/\", iso3, \"_wk_\", gediwk, \"_null_matches_rerun.csv\",sep=\"\")) \n",
    "matched_all <- read.csv(s3_get(paste(f.path,\"WDPA_matching_results/\",iso3,\"_wk24_filelist.csv\",sep=\"\")))[,2]\n",
    "matched_all\n",
    "length(matched_all)   "
   ]
  },
  {
   "cell_type": "code",
   "execution_count": 41,
   "id": "b6d1293d-7b7e-4f50-aba1-29a4b2867dd1",
   "metadata": {},
   "outputs": [
    {
     "name": "stdout",
     "output_type": "stream",
     "text": [
      "[1] \"Bpt_pa_220297_matching_results_wk24.RDS\"\n",
      "[1] \"Bpt_pa_2220_matching_results_wk24.RDS\"\n",
      "[1] \"Bpt_pa_2581_matching_results_wk24.RDS\"\n",
      "[1] \"Bpt_pa_33968_matching_results_wk24.RDS\"\n",
      "[1] \"Bpt_pa_33985_matching_results_wk24.RDS\"\n",
      "[1] \"Bpt_pa_352016_matching_results_wk24.RDS\"\n",
      "[1] \"Bpt_pa_352021_matching_results_wk24.RDS\"\n",
      "[1] \"Bpt_pa_352270_matching_results_wk24.RDS\"\n",
      "[1] \"Bpt_pa_352271_matching_results_wk24.RDS\"\n",
      "[1] \"Bpt_pa_352430_matching_results_wk24.RDS\"\n",
      "[1] \"Bpt_pa_352461_matching_results_wk24.RDS\"\n",
      "[1] \"Bpt_pa_352463_matching_results_wk24.RDS\"\n",
      "[1] \"Bpt_pa_352466_matching_results_wk24.RDS\"\n",
      "[1] \"Bpt_pa_478452_matching_results_wk24.RDS\"\n",
      "[1] \"Bpt_pa_555542500_matching_results_wk24.RDS\"\n",
      "[1] \"Bpt_pa_555542528_matching_results_wk24.RDS\"\n",
      "[1] \"Bpt_pa_555542552_matching_results_wk24.RDS\"\n",
      "[1] \"Bpt_pa_555542777_matching_results_wk24.RDS\"\n",
      "[1] \"Bpt_pa_555576153_matching_results_wk24.RDS\"\n",
      "[1] \"Bpt_pa_555576191_matching_results_wk24.RDS\"\n",
      "[1] \"Bpt_pa_555576276_matching_results_wk24.RDS\"\n",
      "[1] \"Bpt_pa_555576295_matching_results_wk24.RDS\"\n",
      "[1] \"Bpt_pa_555576310_matching_results_wk24.RDS\"\n",
      "[1] \"Bpt_pa_555576396_matching_results_wk24.RDS\"\n",
      "[1] \"Bpt_pa_555576444_matching_results_wk24.RDS\"\n",
      "[1] \"Bpt_pa_555599959_matching_results_wk24.RDS\"\n",
      "[1] \"Bpt_pa_555600164_matching_results_wk24.RDS\"\n",
      "[1] \"Bpt_pa_555682279_matching_results_wk24.RDS\"\n",
      "[1] \"Bpt_pa_67816_matching_results_wk24.RDS\"\n"
     ]
    },
    {
     "data": {
      "text/html": [
       "26"
      ],
      "text/latex": [
       "26"
      ],
      "text/markdown": [
       "26"
      ],
      "text/plain": [
       "[1] 26"
      ]
     },
     "metadata": {},
     "output_type": "display_data"
    }
   ],
   "source": [
    "f.path <- \"/projects/my-public-bucket/GEDI_global_PA_v2/\"\n",
    "#f.path <- \"s3://maap-ops-workspace/shared/leitoldv/GEDI_global_PA_v2/\"\n",
    "\n",
    "matched_PAs <- foreach(this_rds=matched_all, .combine = c, .packages=c('sp','magrittr', 'dplyr','tidyr','terra')) %do% {  #non-NA matched results\n",
    "  matched_PAs=c()\n",
    "  print(this_rds)\n",
    "  if(nchar(iso3)>3){\n",
    "    id_pa <- basename(this_rds)%>%readr::parse_number() %>% unique()  \n",
    "  } else {\n",
    "    id_pa <- basename(this_rds)%>%readr::parse_number() %>% unique()\n",
    "  }\n",
    "  matched <- readRDS(paste(f.path,\"WDPA_matching_results/\",iso3,\"_wk\",gediwk,\"/\",iso3,\"_pa_\",id_pa,\"_matching_results_wk\",gediwk,\".RDS\",sep=\"\"))\n",
    "  if(!is.null(matched)){\n",
    "    if(nrow(matched)!=0){\n",
    "      matched_PAs=c(matched_PAs,this_rds) \n",
    "    }\n",
    "  }else {\n",
    "    # print(this_rds)\n",
    "    matched_PAs=matched_PAs\n",
    "  }\n",
    "  return(matched_PAs)\n",
    "}\n",
    "length(matched_PAs)"
   ]
  },
  {
   "cell_type": "code",
   "execution_count": 42,
   "id": "0a062203-2c43-46ec-a811-6dfc3b3ab110",
   "metadata": {},
   "outputs": [
    {
     "name": "stdout",
     "output_type": "stream",
     "text": [
      "Step 5: running extraction on all 26 of non-NA matched results in Bpt \n"
     ]
    }
   ],
   "source": [
    "if(flag==\"run all\"){  #determine how many PAs to run the extraction process\n",
    "  matched_PAs <- matched_PAs\n",
    "  cat(\"Step 5: running extraction on all\", length(matched_PAs),\"of non-NA matched results in\", iso3,\"\\n\")\n",
    "} else if (flag==\"run remaining\"){\n",
    "  pattern1 = c(paste(\"wk\",gediwk,sep=\"\"),\"RDS\")\n",
    "  extracted_PAid <- list.files(paste(f.path,\"WDPA_GEDI_extract/\",iso3,\"_wk\",gediwk,\"/\",sep=\"\"), full.names = F, pattern=paste0(pattern1, collapse=\"|\"))%>%\n",
    "    readr::parse_number() %>% unique()\n",
    "  matched_PA_id <- matched_PAs %>% readr::parse_number()\n",
    "  runPA_id <- matched_PA_id[!(matched_PA_id %in% extracted_PAid)]\n",
    "  if (length(runPA_id)>0){\n",
    "    Pattern2 <-  paste(runPA_id, collapse=\"|\")\n",
    "    runPA <-  matched_PAs[grepl(Pattern2,matched_PAs)]\n",
    "    # runPA_ind <- str_detect(matched_PAs, paste(runPA_id, collapse = \"|\"))\n",
    "    matched_PAs <-runPA\n",
    "  } else {\n",
    "    matched_PAs <- NULL\n",
    "    cat(\"Step 5 already done for\", iso3, \"\\n\")\n",
    "  }\n",
    "}"
   ]
  },
  {
   "cell_type": "code",
   "execution_count": 43,
   "id": "7f144612-7ea9-4b9a-b825-11699161c28f",
   "metadata": {},
   "outputs": [
    {
     "name": "stdout",
     "output_type": "stream",
     "text": [
      "[1] \"Bpt_pa_555576153_matching_results_wk24.RDS\"\n"
     ]
    }
   ],
   "source": [
    "f.path <- \"s3://maap-ops-workspace/shared/leitoldv/GEDI_global_PA_v2/\"\n",
    "\n",
    "this_rds <- matched_PAs[18]\n",
    "id_pa <- basename(this_rds) %>% readr::parse_number() %>% unique()\n",
    "print(this_rds)"
   ]
  },
  {
   "cell_type": "code",
   "execution_count": 44,
   "id": "02d98b94-5229-4c6f-a88b-5e994eccb2b8",
   "metadata": {},
   "outputs": [
    {
     "name": "stderr",
     "output_type": "stream",
     "text": [
      "\u001b[36mℹ\u001b[39m \u001b[34m\u001b[34ms3://maap-ops-workspace/shared/leitoldv/GEDI_global_PA_v2/WDPA_matching_results/Bpt_wk24/Bpt_pa_555576153_matching_results_wk24.RDS\u001b[34m\u001b[39m already exists at \u001b[34m\u001b[34m/projects/.local/share/R/s3/maap-ops-workspace/shared/leitoldv/GEDI_global_PA_v2/WDPA_matching_results/Bpt_wk24/Bpt_pa_555576153_matching_results_wk24.RDS\u001b[34m\u001b[39m\n",
      "\n"
     ]
    }
   ],
   "source": [
    "matched <- readRDS(s3_get(paste(f.path,\"WDPA_matching_results/\",iso3,\"_wk\",gediwk,\"/\",iso3,\"_pa_\",id_pa,\"_matching_results_wk\",gediwk,\".RDS\",sep=\"\")))"
   ]
  },
  {
   "cell_type": "code",
   "execution_count": 45,
   "id": "a1caaf77-f47f-4dcc-9f65-3d18d0005097",
   "metadata": {},
   "outputs": [
    {
     "data": {
      "text/html": [
       "<table class=\"dataframe\">\n",
       "<caption>A tibble: 6 × 21</caption>\n",
       "<thead>\n",
       "\t<tr><th scope=col>lat</th><th scope=col>lon</th><th scope=col>UID</th><th scope=col>status</th><th scope=col>land_cover</th><th scope=col>wwfbiom</th><th scope=col>wwfecoreg</th><th scope=col>elevation</th><th scope=col>slope</th><th scope=col>mean_temp</th><th scope=col>⋯</th><th scope=col>min_temp</th><th scope=col>prec</th><th scope=col>d2road</th><th scope=col>d2city</th><th scope=col>popden</th><th scope=col>tt2city</th><th scope=col>popcnt</th><th scope=col>propensity_score</th><th scope=col>matched</th><th scope=col>pa_id</th></tr>\n",
       "\t<tr><th scope=col>&lt;dbl&gt;</th><th scope=col>&lt;dbl&gt;</th><th scope=col>&lt;int&gt;</th><th scope=col>&lt;lgl&gt;</th><th scope=col>&lt;fct&gt;</th><th scope=col>&lt;fct&gt;</th><th scope=col>&lt;fct&gt;</th><th scope=col>&lt;dbl&gt;</th><th scope=col>&lt;dbl&gt;</th><th scope=col>&lt;dbl&gt;</th><th scope=col>⋯</th><th scope=col>&lt;dbl&gt;</th><th scope=col>&lt;dbl&gt;</th><th scope=col>&lt;dbl&gt;</th><th scope=col>&lt;dbl&gt;</th><th scope=col>&lt;dbl&gt;</th><th scope=col>&lt;dbl&gt;</th><th scope=col>&lt;dbl&gt;</th><th scope=col>&lt;dbl&gt;</th><th scope=col>&lt;fct&gt;</th><th scope=col>&lt;dbl&gt;</th></tr>\n",
       "</thead>\n",
       "<tbody>\n",
       "\t<tr><td>-18.21290</td><td>-56.14627</td><td>1</td><td>TRUE</td><td>l4_wetlands</td><td>Flooded Grasslands &amp; Savannas</td><td>Pantanal</td><td>134</td><td>0.00000000</td><td>25.52893</td><td>⋯</td><td>13.63345</td><td>4438.776</td><td>0.2704162</td><td>2.315766</td><td>0.01423765</td><td>454.5520</td><td>0.01163853</td><td>0.007222026</td><td>l4_wetlands.1</td><td>555576153</td></tr>\n",
       "\t<tr><td>-18.21290</td><td>-56.13589</td><td>2</td><td>TRUE</td><td>l4_wetlands</td><td>Flooded Grasslands &amp; Savannas</td><td>Pantanal</td><td>134</td><td>0.07729086</td><td>25.52893</td><td>⋯</td><td>13.63345</td><td>4438.776</td><td>0.2635230</td><td>2.310317</td><td>0.01423765</td><td>443.7720</td><td>0.01163853</td><td>0.007058870</td><td>l4_wetlands.2</td><td>555576153</td></tr>\n",
       "\t<tr><td>-18.21290</td><td>-56.12552</td><td>3</td><td>TRUE</td><td>l4_wetlands</td><td>Flooded Grasslands &amp; Savannas</td><td>Pantanal</td><td>134</td><td>0.12286700</td><td>25.51922</td><td>⋯</td><td>13.60062</td><td>4443.585</td><td>0.2567153</td><td>2.304885</td><td>0.01423766</td><td>444.8444</td><td>0.01163853</td><td>0.006965286</td><td>l4_wetlands.3</td><td>555576153</td></tr>\n",
       "\t<tr><td>-18.21290</td><td>-56.11515</td><td>4</td><td>TRUE</td><td>l4_wetlands</td><td>Flooded Grasslands &amp; Savannas</td><td>Pantanal</td><td>135</td><td>0.12802088</td><td>25.49636</td><td>⋯</td><td>13.52332</td><td>4454.910</td><td>0.2499999</td><td>2.299471</td><td>0.01423765</td><td>440.0235</td><td>0.01163853</td><td>0.006880701</td><td>l4_wetlands.4</td><td>555576153</td></tr>\n",
       "\t<tr><td>-18.21290</td><td>-56.10477</td><td>5</td><td>TRUE</td><td>l4_wetlands</td><td>Flooded Grasslands &amp; Savannas</td><td>Pantanal</td><td>138</td><td>0.05611214</td><td>25.49636</td><td>⋯</td><td>13.52332</td><td>4454.910</td><td>0.2429562</td><td>2.294074</td><td>0.01423765</td><td>420.4587</td><td>0.01163853</td><td>0.006799711</td><td>l4_wetlands.5</td><td>555576153</td></tr>\n",
       "\t<tr><td>-18.22115</td><td>-56.14627</td><td>6</td><td>TRUE</td><td>l4_wetlands</td><td>Flooded Grasslands &amp; Savannas</td><td>Pantanal</td><td>134</td><td>0.04068607</td><td>25.52893</td><td>⋯</td><td>13.63345</td><td>4438.776</td><td>0.2751261</td><td>2.322070</td><td>0.01423765</td><td>518.8923</td><td>0.01163797</td><td>0.007508595</td><td>l4_wetlands.6</td><td>555576153</td></tr>\n",
       "</tbody>\n",
       "</table>\n"
      ],
      "text/latex": [
       "A tibble: 6 × 21\n",
       "\\begin{tabular}{lllllllllllllllllllll}\n",
       " lat & lon & UID & status & land\\_cover & wwfbiom & wwfecoreg & elevation & slope & mean\\_temp & ⋯ & min\\_temp & prec & d2road & d2city & popden & tt2city & popcnt & propensity\\_score & matched & pa\\_id\\\\\n",
       " <dbl> & <dbl> & <int> & <lgl> & <fct> & <fct> & <fct> & <dbl> & <dbl> & <dbl> & ⋯ & <dbl> & <dbl> & <dbl> & <dbl> & <dbl> & <dbl> & <dbl> & <dbl> & <fct> & <dbl>\\\\\n",
       "\\hline\n",
       "\t -18.21290 & -56.14627 & 1 & TRUE & l4\\_wetlands & Flooded Grasslands \\& Savannas & Pantanal & 134 & 0.00000000 & 25.52893 & ⋯ & 13.63345 & 4438.776 & 0.2704162 & 2.315766 & 0.01423765 & 454.5520 & 0.01163853 & 0.007222026 & l4\\_wetlands.1 & 555576153\\\\\n",
       "\t -18.21290 & -56.13589 & 2 & TRUE & l4\\_wetlands & Flooded Grasslands \\& Savannas & Pantanal & 134 & 0.07729086 & 25.52893 & ⋯ & 13.63345 & 4438.776 & 0.2635230 & 2.310317 & 0.01423765 & 443.7720 & 0.01163853 & 0.007058870 & l4\\_wetlands.2 & 555576153\\\\\n",
       "\t -18.21290 & -56.12552 & 3 & TRUE & l4\\_wetlands & Flooded Grasslands \\& Savannas & Pantanal & 134 & 0.12286700 & 25.51922 & ⋯ & 13.60062 & 4443.585 & 0.2567153 & 2.304885 & 0.01423766 & 444.8444 & 0.01163853 & 0.006965286 & l4\\_wetlands.3 & 555576153\\\\\n",
       "\t -18.21290 & -56.11515 & 4 & TRUE & l4\\_wetlands & Flooded Grasslands \\& Savannas & Pantanal & 135 & 0.12802088 & 25.49636 & ⋯ & 13.52332 & 4454.910 & 0.2499999 & 2.299471 & 0.01423765 & 440.0235 & 0.01163853 & 0.006880701 & l4\\_wetlands.4 & 555576153\\\\\n",
       "\t -18.21290 & -56.10477 & 5 & TRUE & l4\\_wetlands & Flooded Grasslands \\& Savannas & Pantanal & 138 & 0.05611214 & 25.49636 & ⋯ & 13.52332 & 4454.910 & 0.2429562 & 2.294074 & 0.01423765 & 420.4587 & 0.01163853 & 0.006799711 & l4\\_wetlands.5 & 555576153\\\\\n",
       "\t -18.22115 & -56.14627 & 6 & TRUE & l4\\_wetlands & Flooded Grasslands \\& Savannas & Pantanal & 134 & 0.04068607 & 25.52893 & ⋯ & 13.63345 & 4438.776 & 0.2751261 & 2.322070 & 0.01423765 & 518.8923 & 0.01163797 & 0.007508595 & l4\\_wetlands.6 & 555576153\\\\\n",
       "\\end{tabular}\n"
      ],
      "text/markdown": [
       "\n",
       "A tibble: 6 × 21\n",
       "\n",
       "| lat &lt;dbl&gt; | lon &lt;dbl&gt; | UID &lt;int&gt; | status &lt;lgl&gt; | land_cover &lt;fct&gt; | wwfbiom &lt;fct&gt; | wwfecoreg &lt;fct&gt; | elevation &lt;dbl&gt; | slope &lt;dbl&gt; | mean_temp &lt;dbl&gt; | ⋯ ⋯ | min_temp &lt;dbl&gt; | prec &lt;dbl&gt; | d2road &lt;dbl&gt; | d2city &lt;dbl&gt; | popden &lt;dbl&gt; | tt2city &lt;dbl&gt; | popcnt &lt;dbl&gt; | propensity_score &lt;dbl&gt; | matched &lt;fct&gt; | pa_id &lt;dbl&gt; |\n",
       "|---|---|---|---|---|---|---|---|---|---|---|---|---|---|---|---|---|---|---|---|---|\n",
       "| -18.21290 | -56.14627 | 1 | TRUE | l4_wetlands | Flooded Grasslands &amp; Savannas | Pantanal | 134 | 0.00000000 | 25.52893 | ⋯ | 13.63345 | 4438.776 | 0.2704162 | 2.315766 | 0.01423765 | 454.5520 | 0.01163853 | 0.007222026 | l4_wetlands.1 | 555576153 |\n",
       "| -18.21290 | -56.13589 | 2 | TRUE | l4_wetlands | Flooded Grasslands &amp; Savannas | Pantanal | 134 | 0.07729086 | 25.52893 | ⋯ | 13.63345 | 4438.776 | 0.2635230 | 2.310317 | 0.01423765 | 443.7720 | 0.01163853 | 0.007058870 | l4_wetlands.2 | 555576153 |\n",
       "| -18.21290 | -56.12552 | 3 | TRUE | l4_wetlands | Flooded Grasslands &amp; Savannas | Pantanal | 134 | 0.12286700 | 25.51922 | ⋯ | 13.60062 | 4443.585 | 0.2567153 | 2.304885 | 0.01423766 | 444.8444 | 0.01163853 | 0.006965286 | l4_wetlands.3 | 555576153 |\n",
       "| -18.21290 | -56.11515 | 4 | TRUE | l4_wetlands | Flooded Grasslands &amp; Savannas | Pantanal | 135 | 0.12802088 | 25.49636 | ⋯ | 13.52332 | 4454.910 | 0.2499999 | 2.299471 | 0.01423765 | 440.0235 | 0.01163853 | 0.006880701 | l4_wetlands.4 | 555576153 |\n",
       "| -18.21290 | -56.10477 | 5 | TRUE | l4_wetlands | Flooded Grasslands &amp; Savannas | Pantanal | 138 | 0.05611214 | 25.49636 | ⋯ | 13.52332 | 4454.910 | 0.2429562 | 2.294074 | 0.01423765 | 420.4587 | 0.01163853 | 0.006799711 | l4_wetlands.5 | 555576153 |\n",
       "| -18.22115 | -56.14627 | 6 | TRUE | l4_wetlands | Flooded Grasslands &amp; Savannas | Pantanal | 134 | 0.04068607 | 25.52893 | ⋯ | 13.63345 | 4438.776 | 0.2751261 | 2.322070 | 0.01423765 | 518.8923 | 0.01163797 | 0.007508595 | l4_wetlands.6 | 555576153 |\n",
       "\n"
      ],
      "text/plain": [
       "  lat       lon       UID status land_cover  wwfbiom                      \n",
       "1 -18.21290 -56.14627 1   TRUE   l4_wetlands Flooded Grasslands & Savannas\n",
       "2 -18.21290 -56.13589 2   TRUE   l4_wetlands Flooded Grasslands & Savannas\n",
       "3 -18.21290 -56.12552 3   TRUE   l4_wetlands Flooded Grasslands & Savannas\n",
       "4 -18.21290 -56.11515 4   TRUE   l4_wetlands Flooded Grasslands & Savannas\n",
       "5 -18.21290 -56.10477 5   TRUE   l4_wetlands Flooded Grasslands & Savannas\n",
       "6 -18.22115 -56.14627 6   TRUE   l4_wetlands Flooded Grasslands & Savannas\n",
       "  wwfecoreg elevation slope      mean_temp ⋯ min_temp prec     d2road   \n",
       "1 Pantanal  134       0.00000000 25.52893  ⋯ 13.63345 4438.776 0.2704162\n",
       "2 Pantanal  134       0.07729086 25.52893  ⋯ 13.63345 4438.776 0.2635230\n",
       "3 Pantanal  134       0.12286700 25.51922  ⋯ 13.60062 4443.585 0.2567153\n",
       "4 Pantanal  135       0.12802088 25.49636  ⋯ 13.52332 4454.910 0.2499999\n",
       "5 Pantanal  138       0.05611214 25.49636  ⋯ 13.52332 4454.910 0.2429562\n",
       "6 Pantanal  134       0.04068607 25.52893  ⋯ 13.63345 4438.776 0.2751261\n",
       "  d2city   popden     tt2city  popcnt     propensity_score matched      \n",
       "1 2.315766 0.01423765 454.5520 0.01163853 0.007222026      l4_wetlands.1\n",
       "2 2.310317 0.01423765 443.7720 0.01163853 0.007058870      l4_wetlands.2\n",
       "3 2.304885 0.01423766 444.8444 0.01163853 0.006965286      l4_wetlands.3\n",
       "4 2.299471 0.01423765 440.0235 0.01163853 0.006880701      l4_wetlands.4\n",
       "5 2.294074 0.01423765 420.4587 0.01163853 0.006799711      l4_wetlands.5\n",
       "6 2.322070 0.01423765 518.8923 0.01163797 0.007508595      l4_wetlands.6\n",
       "  pa_id    \n",
       "1 555576153\n",
       "2 555576153\n",
       "3 555576153\n",
       "4 555576153\n",
       "5 555576153\n",
       "6 555576153"
      ]
     },
     "metadata": {},
     "output_type": "display_data"
    },
    {
     "data": {
      "text/html": [
       "176"
      ],
      "text/latex": [
       "176"
      ],
      "text/markdown": [
       "176"
      ],
      "text/plain": [
       "[1] 176"
      ]
     },
     "metadata": {},
     "output_type": "display_data"
    }
   ],
   "source": [
    "head(matched)\n",
    "nrow(matched)"
   ]
  },
  {
   "cell_type": "code",
   "execution_count": 46,
   "id": "6ffe117d-308d-4fb8-9e84-660549535c29",
   "metadata": {},
   "outputs": [
    {
     "name": "stdout",
     "output_type": "stream",
     "text": [
      "Bpt converting the matched csv to a raster stack for extraction\n",
      "\n",
      " 0  1 \n",
      "88 88 \n"
     ]
    },
    {
     "data": {
      "text/plain": [
       "class       : SpatRaster \n",
       "dimensions  : 488, 244, 7  (nrow, ncol, nlyr)\n",
       "resolution  : 1000, 1000  (x, y)\n",
       "extent      : -5558530, -5314530, -2513350, -2025350  (xmin, xmax, ymin, ymax)\n",
       "coord. ref. : WGS 84 / NSIDC EASE-Grid 2.0 Global (EPSG:6933) \n",
       "source(s)   : memory\n",
       "names       : status,     pa_id, wwfbiom, wwfecoreg,    UID, pft, ... \n",
       "min values  :      0, 555576153,       1,         1,      1,   0, ... \n",
       "max values  :      1, 555576153,       1,         1, 123578,  11, ... "
      ]
     },
     "metadata": {},
     "output_type": "display_data"
    }
   ],
   "source": [
    "mras  <- tryCatch(matched2ras(matched),\n",
    "                      error=function(cond){\n",
    "                        message(cond)\n",
    "                        cat(\"Matched result is likely null for country\", iso3,\"pa\", id_pa, \"dimension of the match is\", dim(matched),\"\\n\")\n",
    "                        # writeLines(\"Matched results is likely null for country\", paste(f.path,\"WDPA_log/\",iso3,\"_log_matching.txt\", sep=\"\"))\n",
    "                        return(NULL)}) #convert the macthed df to a raster stack \n",
    "print(table(mras$status[]))\n",
    "mras"
   ]
  },
  {
   "cell_type": "code",
   "execution_count": 47,
   "id": "fe614f2b-1115-43e6-ad26-879c796fe29e",
   "metadata": {},
   "outputs": [
    {
     "data": {
      "image/png": "[encoded data removed]",
      "text/plain": [
       "plot without title"
      ]
     },
     "metadata": {
      "image/png": {
       "height": 420,
       "width": 420
      }
     },
     "output_type": "display_data"
    }
   ],
   "source": [
    "plot(mras)"
   ]
  },
  {
   "cell_type": "code",
   "execution_count": 48,
   "id": "78f45333-1411-4d15-afe0-8b8e764ac36d",
   "metadata": {},
   "outputs": [],
   "source": [
    "#f.path <- \"s3://maap-ops-workspace/shared/leitoldv/GEDI_global_PA_v2/\"\n",
    "#source(s3_get(paste(f.path,\"vl_GEDI-PA_2024/matching_func_2024.R\",sep=\"\")))\n",
    "f.path <- \"/projects/my-public-bucket/GEDI_global_PA_v2/\"\n",
    "source(paste(f.path,\"vl_GEDI-PA_2024/matching_func_2024.R\",sep=\"\"))"
   ]
  },
  {
   "cell_type": "code",
   "execution_count": 49,
   "id": "aa9b2c8a-ea98-4fa5-af53-aee5dd0adb2d",
   "metadata": {},
   "outputs": [
    {
     "name": "stderr",
     "output_type": "stream",
     "text": [
      "\u001b[36mℹ\u001b[39m \u001b[34m\u001b[34ms3://maap-ops-workspace/shared/leitoldv/GEDI_global_PA_v2/vero_1deg_tileindex/tileindex_Bpt.csv\u001b[34m\u001b[39m already exists at \u001b[34m\u001b[34m/projects/.local/share/R/s3/maap-ops-workspace/shared/leitoldv/GEDI_global_PA_v2/vero_1deg_tileindex/tileindex_Bpt.csv\u001b[34m\u001b[39m\n",
      "\n"
     ]
    },
    {
     "name": "stdout",
     "output_type": "stream",
     "text": [
      "Reading in no.  1 csv of  29 csvs for iso3 Bpt \n"
     ]
    },
    {
     "name": "stderr",
     "output_type": "stream",
     "text": [
      "\u001b[36mℹ\u001b[39m \u001b[34m\u001b[34ms3://maap-ops-workspace/shared/leitoldv/GEDI_global_PA_v2/WDPA_gedi_L4A_tiles/tile_num_21707_L4A.gpkg\u001b[34m\u001b[39m already exists at \u001b[34m\u001b[34m/projects/.local/share/R/s3/maap-ops-workspace/shared/leitoldv/GEDI_global_PA_v2/WDPA_gedi_L4A_tiles/tile_num_21707_L4A.gpkg\u001b[34m\u001b[39m\n",
      "\n",
      "\u001b[36mℹ\u001b[39m \u001b[34m\u001b[34ms3://maap-ops-workspace/shared/leitoldv/GEDI_global_PA_v2/WDPA_gedi_L2A_tiles/tile_num_21707_L2A.gpkg\u001b[34m\u001b[39m already exists at \u001b[34m\u001b[34m/projects/.local/share/R/s3/maap-ops-workspace/shared/leitoldv/GEDI_global_PA_v2/WDPA_gedi_L2A_tiles/tile_num_21707_L2A.gpkg\u001b[34m\u001b[39m\n",
      "\n"
     ]
    },
    {
     "name": "stdout",
     "output_type": "stream",
     "text": [
      "[1] 298311     21\n",
      "[1] 298311\n",
      "[1]  0 30\n",
      "Reading in no.  2 csv of  29 csvs for iso3 Bpt \n"
     ]
    },
    {
     "name": "stderr",
     "output_type": "stream",
     "text": [
      "\u001b[36mℹ\u001b[39m \u001b[34m\u001b[34ms3://maap-ops-workspace/shared/leitoldv/GEDI_global_PA_v2/WDPA_gedi_L4A_tiles/tile_num_21886_L4A.gpkg\u001b[34m\u001b[39m already exists at \u001b[34m\u001b[34m/projects/.local/share/R/s3/maap-ops-workspace/shared/leitoldv/GEDI_global_PA_v2/WDPA_gedi_L4A_tiles/tile_num_21886_L4A.gpkg\u001b[34m\u001b[39m\n",
      "\n",
      "\u001b[36mℹ\u001b[39m \u001b[34m\u001b[34ms3://maap-ops-workspace/shared/leitoldv/GEDI_global_PA_v2/WDPA_gedi_L2A_tiles/tile_num_21886_L2A.gpkg\u001b[34m\u001b[39m already exists at \u001b[34m\u001b[34m/projects/.local/share/R/s3/maap-ops-workspace/shared/leitoldv/GEDI_global_PA_v2/WDPA_gedi_L2A_tiles/tile_num_21886_L2A.gpkg\u001b[34m\u001b[39m\n",
      "\n"
     ]
    },
    {
     "name": "stdout",
     "output_type": "stream",
     "text": [
      "[1] 573229     21\n",
      "[1] 573229\n",
      "[1]  0 30\n",
      "Reading in no.  3 csv of  29 csvs for iso3 Bpt \n"
     ]
    },
    {
     "name": "stderr",
     "output_type": "stream",
     "text": [
      "\u001b[36mℹ\u001b[39m \u001b[34m\u001b[34ms3://maap-ops-workspace/shared/leitoldv/GEDI_global_PA_v2/WDPA_gedi_L4A_tiles/tile_num_21887_L4A.gpkg\u001b[34m\u001b[39m already exists at \u001b[34m\u001b[34m/projects/.local/share/R/s3/maap-ops-workspace/shared/leitoldv/GEDI_global_PA_v2/WDPA_gedi_L4A_tiles/tile_num_21887_L4A.gpkg\u001b[34m\u001b[39m\n",
      "\n",
      "\u001b[36mℹ\u001b[39m \u001b[34m\u001b[34ms3://maap-ops-workspace/shared/leitoldv/GEDI_global_PA_v2/WDPA_gedi_L2A_tiles/tile_num_21887_L2A.gpkg\u001b[34m\u001b[39m already exists at \u001b[34m\u001b[34m/projects/.local/share/R/s3/maap-ops-workspace/shared/leitoldv/GEDI_global_PA_v2/WDPA_gedi_L2A_tiles/tile_num_21887_L2A.gpkg\u001b[34m\u001b[39m\n",
      "\n"
     ]
    },
    {
     "name": "stdout",
     "output_type": "stream",
     "text": [
      "[1] 531877     21\n",
      "[1] 531877\n",
      "[1]  0 30\n",
      "Reading in no.  4 csv of  29 csvs for iso3 Bpt \n"
     ]
    },
    {
     "name": "stderr",
     "output_type": "stream",
     "text": [
      "\u001b[36mℹ\u001b[39m \u001b[34m\u001b[34ms3://maap-ops-workspace/shared/leitoldv/GEDI_global_PA_v2/WDPA_gedi_L4A_tiles/tile_num_21888_L4A.gpkg\u001b[34m\u001b[39m already exists at \u001b[34m\u001b[34m/projects/.local/share/R/s3/maap-ops-workspace/shared/leitoldv/GEDI_global_PA_v2/WDPA_gedi_L4A_tiles/tile_num_21888_L4A.gpkg\u001b[34m\u001b[39m\n",
      "\n",
      "\u001b[36mℹ\u001b[39m \u001b[34m\u001b[34ms3://maap-ops-workspace/shared/leitoldv/GEDI_global_PA_v2/WDPA_gedi_L2A_tiles/tile_num_21888_L2A.gpkg\u001b[34m\u001b[39m already exists at \u001b[34m\u001b[34m/projects/.local/share/R/s3/maap-ops-workspace/shared/leitoldv/GEDI_global_PA_v2/WDPA_gedi_L2A_tiles/tile_num_21888_L2A.gpkg\u001b[34m\u001b[39m\n",
      "\n"
     ]
    },
    {
     "name": "stdout",
     "output_type": "stream",
     "text": [
      "[1] 375488     21\n",
      "[1] 375488\n",
      "[1]  0 30\n",
      "Reading in no.  5 csv of  29 csvs for iso3 Bpt \n"
     ]
    },
    {
     "name": "stderr",
     "output_type": "stream",
     "text": [
      "\u001b[36mℹ\u001b[39m \u001b[34m\u001b[34ms3://maap-ops-workspace/shared/leitoldv/GEDI_global_PA_v2/WDPA_gedi_L4A_tiles/tile_num_21890_L4A.gpkg\u001b[34m\u001b[39m already exists at \u001b[34m\u001b[34m/projects/.local/share/R/s3/maap-ops-workspace/shared/leitoldv/GEDI_global_PA_v2/WDPA_gedi_L4A_tiles/tile_num_21890_L4A.gpkg\u001b[34m\u001b[39m\n",
      "\n",
      "\u001b[36mℹ\u001b[39m \u001b[34m\u001b[34ms3://maap-ops-workspace/shared/leitoldv/GEDI_global_PA_v2/WDPA_gedi_L2A_tiles/tile_num_21890_L2A.gpkg\u001b[34m\u001b[39m already exists at \u001b[34m\u001b[34m/projects/.local/share/R/s3/maap-ops-workspace/shared/leitoldv/GEDI_global_PA_v2/WDPA_gedi_L2A_tiles/tile_num_21890_L2A.gpkg\u001b[34m\u001b[39m\n",
      "\n"
     ]
    },
    {
     "name": "stdout",
     "output_type": "stream",
     "text": [
      "[1] 406756     21\n",
      "[1] 406756\n",
      "[1]  0 30\n",
      "Reading in no.  6 csv of  29 csvs for iso3 Bpt \n"
     ]
    },
    {
     "name": "stderr",
     "output_type": "stream",
     "text": [
      "\u001b[36mℹ\u001b[39m \u001b[34m\u001b[34ms3://maap-ops-workspace/shared/leitoldv/GEDI_global_PA_v2/WDPA_gedi_L4A_tiles/tile_num_21891_L4A.gpkg\u001b[34m\u001b[39m already exists at \u001b[34m\u001b[34m/projects/.local/share/R/s3/maap-ops-workspace/shared/leitoldv/GEDI_global_PA_v2/WDPA_gedi_L4A_tiles/tile_num_21891_L4A.gpkg\u001b[34m\u001b[39m\n",
      "\n",
      "\u001b[36mℹ\u001b[39m \u001b[34m\u001b[34ms3://maap-ops-workspace/shared/leitoldv/GEDI_global_PA_v2/WDPA_gedi_L2A_tiles/tile_num_21891_L2A.gpkg\u001b[34m\u001b[39m already exists at \u001b[34m\u001b[34m/projects/.local/share/R/s3/maap-ops-workspace/shared/leitoldv/GEDI_global_PA_v2/WDPA_gedi_L2A_tiles/tile_num_21891_L2A.gpkg\u001b[34m\u001b[39m\n",
      "\n"
     ]
    },
    {
     "name": "stdout",
     "output_type": "stream",
     "text": [
      "[1] 475454     21\n",
      "[1] 475454\n",
      "[1]  0 30\n",
      "Reading in no.  7 csv of  29 csvs for iso3 Bpt \n"
     ]
    },
    {
     "name": "stderr",
     "output_type": "stream",
     "text": [
      "\u001b[36mℹ\u001b[39m \u001b[34m\u001b[34ms3://maap-ops-workspace/shared/leitoldv/GEDI_global_PA_v2/WDPA_gedi_L4A_tiles/tile_num_22066_L4A.gpkg\u001b[34m\u001b[39m already exists at \u001b[34m\u001b[34m/projects/.local/share/R/s3/maap-ops-workspace/shared/leitoldv/GEDI_global_PA_v2/WDPA_gedi_L4A_tiles/tile_num_22066_L4A.gpkg\u001b[34m\u001b[39m\n",
      "\n",
      "\u001b[36mℹ\u001b[39m \u001b[34m\u001b[34ms3://maap-ops-workspace/shared/leitoldv/GEDI_global_PA_v2/WDPA_gedi_L2A_tiles/tile_num_22066_L2A.gpkg\u001b[34m\u001b[39m already exists at \u001b[34m\u001b[34m/projects/.local/share/R/s3/maap-ops-workspace/shared/leitoldv/GEDI_global_PA_v2/WDPA_gedi_L2A_tiles/tile_num_22066_L2A.gpkg\u001b[34m\u001b[39m\n",
      "\n"
     ]
    },
    {
     "name": "stdout",
     "output_type": "stream",
     "text": [
      "[1] 567758     21\n",
      "[1] 567758\n",
      "[1]  0 30\n",
      "Reading in no.  8 csv of  29 csvs for iso3 Bpt \n"
     ]
    },
    {
     "name": "stderr",
     "output_type": "stream",
     "text": [
      "\u001b[36mℹ\u001b[39m \u001b[34m\u001b[34ms3://maap-ops-workspace/shared/leitoldv/GEDI_global_PA_v2/WDPA_gedi_L4A_tiles/tile_num_22067_L4A.gpkg\u001b[34m\u001b[39m already exists at \u001b[34m\u001b[34m/projects/.local/share/R/s3/maap-ops-workspace/shared/leitoldv/GEDI_global_PA_v2/WDPA_gedi_L4A_tiles/tile_num_22067_L4A.gpkg\u001b[34m\u001b[39m\n",
      "\n",
      "\u001b[36mℹ\u001b[39m \u001b[34m\u001b[34ms3://maap-ops-workspace/shared/leitoldv/GEDI_global_PA_v2/WDPA_gedi_L2A_tiles/tile_num_22067_L2A.gpkg\u001b[34m\u001b[39m already exists at \u001b[34m\u001b[34m/projects/.local/share/R/s3/maap-ops-workspace/shared/leitoldv/GEDI_global_PA_v2/WDPA_gedi_L2A_tiles/tile_num_22067_L2A.gpkg\u001b[34m\u001b[39m\n",
      "\n"
     ]
    },
    {
     "name": "stdout",
     "output_type": "stream",
     "text": [
      "[1] 605798     21\n",
      "[1] 605798\n",
      "[1] 240  30\n",
      "Reading in no.  9 csv of  29 csvs for iso3 Bpt \n"
     ]
    },
    {
     "name": "stderr",
     "output_type": "stream",
     "text": [
      "\u001b[36mℹ\u001b[39m \u001b[34m\u001b[34ms3://maap-ops-workspace/shared/leitoldv/GEDI_global_PA_v2/WDPA_gedi_L4A_tiles/tile_num_22068_L4A.gpkg\u001b[34m\u001b[39m already exists at \u001b[34m\u001b[34m/projects/.local/share/R/s3/maap-ops-workspace/shared/leitoldv/GEDI_global_PA_v2/WDPA_gedi_L4A_tiles/tile_num_22068_L4A.gpkg\u001b[34m\u001b[39m\n",
      "\n",
      "\u001b[36mℹ\u001b[39m \u001b[34m\u001b[34ms3://maap-ops-workspace/shared/leitoldv/GEDI_global_PA_v2/WDPA_gedi_L2A_tiles/tile_num_22068_L2A.gpkg\u001b[34m\u001b[39m already exists at \u001b[34m\u001b[34m/projects/.local/share/R/s3/maap-ops-workspace/shared/leitoldv/GEDI_global_PA_v2/WDPA_gedi_L2A_tiles/tile_num_22068_L2A.gpkg\u001b[34m\u001b[39m\n",
      "\n"
     ]
    },
    {
     "name": "stdout",
     "output_type": "stream",
     "text": [
      "[1] 575278     21\n",
      "[1] 575278\n",
      "[1] 240  30\n",
      "Reading in no.  10 csv of  29 csvs for iso3 Bpt \n"
     ]
    },
    {
     "name": "stderr",
     "output_type": "stream",
     "text": [
      "\u001b[36mℹ\u001b[39m \u001b[34m\u001b[34ms3://maap-ops-workspace/shared/leitoldv/GEDI_global_PA_v2/WDPA_gedi_L4A_tiles/tile_num_22069_L4A.gpkg\u001b[34m\u001b[39m already exists at \u001b[34m\u001b[34m/projects/.local/share/R/s3/maap-ops-workspace/shared/leitoldv/GEDI_global_PA_v2/WDPA_gedi_L4A_tiles/tile_num_22069_L4A.gpkg\u001b[34m\u001b[39m\n",
      "\n",
      "\u001b[36mℹ\u001b[39m \u001b[34m\u001b[34ms3://maap-ops-workspace/shared/leitoldv/GEDI_global_PA_v2/WDPA_gedi_L2A_tiles/tile_num_22069_L2A.gpkg\u001b[34m\u001b[39m already exists at \u001b[34m\u001b[34m/projects/.local/share/R/s3/maap-ops-workspace/shared/leitoldv/GEDI_global_PA_v2/WDPA_gedi_L2A_tiles/tile_num_22069_L2A.gpkg\u001b[34m\u001b[39m\n",
      "\n"
     ]
    },
    {
     "name": "stdout",
     "output_type": "stream",
     "text": [
      "[1] 538938     21\n",
      "[1] 538938\n",
      "[1] 240  30\n",
      "Reading in no.  11 csv of  29 csvs for iso3 Bpt \n"
     ]
    },
    {
     "name": "stderr",
     "output_type": "stream",
     "text": [
      "\u001b[36mℹ\u001b[39m \u001b[34m\u001b[34ms3://maap-ops-workspace/shared/leitoldv/GEDI_global_PA_v2/WDPA_gedi_L4A_tiles/tile_num_22070_L4A.gpkg\u001b[34m\u001b[39m already exists at \u001b[34m\u001b[34m/projects/.local/share/R/s3/maap-ops-workspace/shared/leitoldv/GEDI_global_PA_v2/WDPA_gedi_L4A_tiles/tile_num_22070_L4A.gpkg\u001b[34m\u001b[39m\n",
      "\n",
      "\u001b[36mℹ\u001b[39m \u001b[34m\u001b[34ms3://maap-ops-workspace/shared/leitoldv/GEDI_global_PA_v2/WDPA_gedi_L2A_tiles/tile_num_22070_L2A.gpkg\u001b[34m\u001b[39m already exists at \u001b[34m\u001b[34m/projects/.local/share/R/s3/maap-ops-workspace/shared/leitoldv/GEDI_global_PA_v2/WDPA_gedi_L2A_tiles/tile_num_22070_L2A.gpkg\u001b[34m\u001b[39m\n",
      "\n"
     ]
    },
    {
     "name": "stdout",
     "output_type": "stream",
     "text": [
      "[1] 474152     21\n",
      "[1] 474152\n",
      "[1] 240  30\n",
      "Reading in no.  12 csv of  29 csvs for iso3 Bpt \n"
     ]
    },
    {
     "name": "stderr",
     "output_type": "stream",
     "text": [
      "\u001b[36mℹ\u001b[39m \u001b[34m\u001b[34ms3://maap-ops-workspace/shared/leitoldv/GEDI_global_PA_v2/WDPA_gedi_L4A_tiles/tile_num_22071_L4A.gpkg\u001b[34m\u001b[39m already exists at \u001b[34m\u001b[34m/projects/.local/share/R/s3/maap-ops-workspace/shared/leitoldv/GEDI_global_PA_v2/WDPA_gedi_L4A_tiles/tile_num_22071_L4A.gpkg\u001b[34m\u001b[39m\n",
      "\n",
      "\u001b[36mℹ\u001b[39m \u001b[34m\u001b[34ms3://maap-ops-workspace/shared/leitoldv/GEDI_global_PA_v2/WDPA_gedi_L2A_tiles/tile_num_22071_L2A.gpkg\u001b[34m\u001b[39m already exists at \u001b[34m\u001b[34m/projects/.local/share/R/s3/maap-ops-workspace/shared/leitoldv/GEDI_global_PA_v2/WDPA_gedi_L2A_tiles/tile_num_22071_L2A.gpkg\u001b[34m\u001b[39m\n",
      "\n"
     ]
    },
    {
     "name": "stdout",
     "output_type": "stream",
     "text": [
      "[1] 221607     21\n",
      "[1] 221607\n",
      "[1] 240  30\n",
      "Reading in no.  13 csv of  29 csvs for iso3 Bpt \n"
     ]
    },
    {
     "name": "stderr",
     "output_type": "stream",
     "text": [
      "\u001b[36mℹ\u001b[39m \u001b[34m\u001b[34ms3://maap-ops-workspace/shared/leitoldv/GEDI_global_PA_v2/WDPA_gedi_L4A_tiles/tile_num_22072_L4A.gpkg\u001b[34m\u001b[39m already exists at \u001b[34m\u001b[34m/projects/.local/share/R/s3/maap-ops-workspace/shared/leitoldv/GEDI_global_PA_v2/WDPA_gedi_L4A_tiles/tile_num_22072_L4A.gpkg\u001b[34m\u001b[39m\n",
      "\n",
      "\u001b[36mℹ\u001b[39m \u001b[34m\u001b[34ms3://maap-ops-workspace/shared/leitoldv/GEDI_global_PA_v2/WDPA_gedi_L2A_tiles/tile_num_22072_L2A.gpkg\u001b[34m\u001b[39m already exists at \u001b[34m\u001b[34m/projects/.local/share/R/s3/maap-ops-workspace/shared/leitoldv/GEDI_global_PA_v2/WDPA_gedi_L2A_tiles/tile_num_22072_L2A.gpkg\u001b[34m\u001b[39m\n",
      "\n"
     ]
    },
    {
     "name": "stdout",
     "output_type": "stream",
     "text": [
      "[1] 265412     21\n",
      "[1] 265412\n",
      "[1] 240  30\n",
      "Reading in no.  14 csv of  29 csvs for iso3 Bpt \n"
     ]
    },
    {
     "name": "stderr",
     "output_type": "stream",
     "text": [
      "\u001b[36mℹ\u001b[39m \u001b[34m\u001b[34ms3://maap-ops-workspace/shared/leitoldv/GEDI_global_PA_v2/WDPA_gedi_L4A_tiles/tile_num_22073_L4A.gpkg\u001b[34m\u001b[39m already exists at \u001b[34m\u001b[34m/projects/.local/share/R/s3/maap-ops-workspace/shared/leitoldv/GEDI_global_PA_v2/WDPA_gedi_L4A_tiles/tile_num_22073_L4A.gpkg\u001b[34m\u001b[39m\n",
      "\n",
      "\u001b[36mℹ\u001b[39m \u001b[34m\u001b[34ms3://maap-ops-workspace/shared/leitoldv/GEDI_global_PA_v2/WDPA_gedi_L2A_tiles/tile_num_22073_L2A.gpkg\u001b[34m\u001b[39m already exists at \u001b[34m\u001b[34m/projects/.local/share/R/s3/maap-ops-workspace/shared/leitoldv/GEDI_global_PA_v2/WDPA_gedi_L2A_tiles/tile_num_22073_L2A.gpkg\u001b[34m\u001b[39m\n",
      "\n"
     ]
    },
    {
     "name": "stdout",
     "output_type": "stream",
     "text": [
      "[1] 275633     21\n",
      "[1] 275633\n",
      "[1] 240  30\n",
      "Reading in no.  15 csv of  29 csvs for iso3 Bpt \n"
     ]
    },
    {
     "name": "stderr",
     "output_type": "stream",
     "text": [
      "\u001b[36mℹ\u001b[39m \u001b[34m\u001b[34ms3://maap-ops-workspace/shared/leitoldv/GEDI_global_PA_v2/WDPA_gedi_L4A_tiles/tile_num_22246_L4A.gpkg\u001b[34m\u001b[39m already exists at \u001b[34m\u001b[34m/projects/.local/share/R/s3/maap-ops-workspace/shared/leitoldv/GEDI_global_PA_v2/WDPA_gedi_L4A_tiles/tile_num_22246_L4A.gpkg\u001b[34m\u001b[39m\n",
      "\n",
      "\u001b[36mℹ\u001b[39m \u001b[34m\u001b[34ms3://maap-ops-workspace/shared/leitoldv/GEDI_global_PA_v2/WDPA_gedi_L2A_tiles/tile_num_22246_L2A.gpkg\u001b[34m\u001b[39m already exists at \u001b[34m\u001b[34m/projects/.local/share/R/s3/maap-ops-workspace/shared/leitoldv/GEDI_global_PA_v2/WDPA_gedi_L2A_tiles/tile_num_22246_L2A.gpkg\u001b[34m\u001b[39m\n",
      "\n"
     ]
    },
    {
     "name": "stdout",
     "output_type": "stream",
     "text": [
      "[1] 524843     21\n",
      "[1] 524843\n",
      "[1] 240  30\n",
      "Reading in no.  16 csv of  29 csvs for iso3 Bpt \n"
     ]
    },
    {
     "name": "stderr",
     "output_type": "stream",
     "text": [
      "\u001b[36mℹ\u001b[39m \u001b[34m\u001b[34ms3://maap-ops-workspace/shared/leitoldv/GEDI_global_PA_v2/WDPA_gedi_L4A_tiles/tile_num_22247_L4A.gpkg\u001b[34m\u001b[39m already exists at \u001b[34m\u001b[34m/projects/.local/share/R/s3/maap-ops-workspace/shared/leitoldv/GEDI_global_PA_v2/WDPA_gedi_L4A_tiles/tile_num_22247_L4A.gpkg\u001b[34m\u001b[39m\n",
      "\n",
      "\u001b[36mℹ\u001b[39m \u001b[34m\u001b[34ms3://maap-ops-workspace/shared/leitoldv/GEDI_global_PA_v2/WDPA_gedi_L2A_tiles/tile_num_22247_L2A.gpkg\u001b[34m\u001b[39m already exists at \u001b[34m\u001b[34m/projects/.local/share/R/s3/maap-ops-workspace/shared/leitoldv/GEDI_global_PA_v2/WDPA_gedi_L2A_tiles/tile_num_22247_L2A.gpkg\u001b[34m\u001b[39m\n",
      "\n"
     ]
    },
    {
     "name": "stdout",
     "output_type": "stream",
     "text": [
      "[1] 696022     21\n",
      "[1] 696022\n",
      "[1] 240  30\n",
      "Reading in no.  17 csv of  29 csvs for iso3 Bpt \n"
     ]
    },
    {
     "name": "stderr",
     "output_type": "stream",
     "text": [
      "\u001b[36mℹ\u001b[39m \u001b[34m\u001b[34ms3://maap-ops-workspace/shared/leitoldv/GEDI_global_PA_v2/WDPA_gedi_L4A_tiles/tile_num_22248_L4A.gpkg\u001b[34m\u001b[39m already exists at \u001b[34m\u001b[34m/projects/.local/share/R/s3/maap-ops-workspace/shared/leitoldv/GEDI_global_PA_v2/WDPA_gedi_L4A_tiles/tile_num_22248_L4A.gpkg\u001b[34m\u001b[39m\n",
      "\n",
      "\u001b[36mℹ\u001b[39m \u001b[34m\u001b[34ms3://maap-ops-workspace/shared/leitoldv/GEDI_global_PA_v2/WDPA_gedi_L2A_tiles/tile_num_22248_L2A.gpkg\u001b[34m\u001b[39m already exists at \u001b[34m\u001b[34m/projects/.local/share/R/s3/maap-ops-workspace/shared/leitoldv/GEDI_global_PA_v2/WDPA_gedi_L2A_tiles/tile_num_22248_L2A.gpkg\u001b[34m\u001b[39m\n",
      "\n"
     ]
    },
    {
     "name": "stdout",
     "output_type": "stream",
     "text": [
      "[1] 885073     21\n",
      "[1] 885073\n",
      "[1] 240  30\n",
      "Reading in no.  18 csv of  29 csvs for iso3 Bpt \n"
     ]
    },
    {
     "name": "stderr",
     "output_type": "stream",
     "text": [
      "\u001b[36mℹ\u001b[39m \u001b[34m\u001b[34ms3://maap-ops-workspace/shared/leitoldv/GEDI_global_PA_v2/WDPA_gedi_L4A_tiles/tile_num_22249_L4A.gpkg\u001b[34m\u001b[39m already exists at \u001b[34m\u001b[34m/projects/.local/share/R/s3/maap-ops-workspace/shared/leitoldv/GEDI_global_PA_v2/WDPA_gedi_L4A_tiles/tile_num_22249_L4A.gpkg\u001b[34m\u001b[39m\n",
      "\n",
      "\u001b[36mℹ\u001b[39m \u001b[34m\u001b[34ms3://maap-ops-workspace/shared/leitoldv/GEDI_global_PA_v2/WDPA_gedi_L2A_tiles/tile_num_22249_L2A.gpkg\u001b[34m\u001b[39m already exists at \u001b[34m\u001b[34m/projects/.local/share/R/s3/maap-ops-workspace/shared/leitoldv/GEDI_global_PA_v2/WDPA_gedi_L2A_tiles/tile_num_22249_L2A.gpkg\u001b[34m\u001b[39m\n",
      "\n"
     ]
    },
    {
     "name": "stdout",
     "output_type": "stream",
     "text": [
      "[1] 723295     21\n",
      "[1] 723295\n",
      "[1] 7313   30\n",
      "Reading in no.  19 csv of  29 csvs for iso3 Bpt \n"
     ]
    },
    {
     "name": "stderr",
     "output_type": "stream",
     "text": [
      "\u001b[36mℹ\u001b[39m \u001b[34m\u001b[34ms3://maap-ops-workspace/shared/leitoldv/GEDI_global_PA_v2/WDPA_gedi_L4A_tiles/tile_num_22250_L4A.gpkg\u001b[34m\u001b[39m already exists at \u001b[34m\u001b[34m/projects/.local/share/R/s3/maap-ops-workspace/shared/leitoldv/GEDI_global_PA_v2/WDPA_gedi_L4A_tiles/tile_num_22250_L4A.gpkg\u001b[34m\u001b[39m\n",
      "\n",
      "\u001b[36mℹ\u001b[39m \u001b[34m\u001b[34ms3://maap-ops-workspace/shared/leitoldv/GEDI_global_PA_v2/WDPA_gedi_L2A_tiles/tile_num_22250_L2A.gpkg\u001b[34m\u001b[39m already exists at \u001b[34m\u001b[34m/projects/.local/share/R/s3/maap-ops-workspace/shared/leitoldv/GEDI_global_PA_v2/WDPA_gedi_L2A_tiles/tile_num_22250_L2A.gpkg\u001b[34m\u001b[39m\n",
      "\n"
     ]
    },
    {
     "name": "stdout",
     "output_type": "stream",
     "text": [
      "[1] 616203     21\n",
      "[1] 616203\n",
      "[1] 9346   30\n",
      "Reading in no.  20 csv of  29 csvs for iso3 Bpt \n"
     ]
    },
    {
     "name": "stderr",
     "output_type": "stream",
     "text": [
      "\u001b[36mℹ\u001b[39m \u001b[34m\u001b[34ms3://maap-ops-workspace/shared/leitoldv/GEDI_global_PA_v2/WDPA_gedi_L4A_tiles/tile_num_22251_L4A.gpkg\u001b[34m\u001b[39m already exists at \u001b[34m\u001b[34m/projects/.local/share/R/s3/maap-ops-workspace/shared/leitoldv/GEDI_global_PA_v2/WDPA_gedi_L4A_tiles/tile_num_22251_L4A.gpkg\u001b[34m\u001b[39m\n",
      "\n",
      "\u001b[36mℹ\u001b[39m \u001b[34m\u001b[34ms3://maap-ops-workspace/shared/leitoldv/GEDI_global_PA_v2/WDPA_gedi_L2A_tiles/tile_num_22251_L2A.gpkg\u001b[34m\u001b[39m already exists at \u001b[34m\u001b[34m/projects/.local/share/R/s3/maap-ops-workspace/shared/leitoldv/GEDI_global_PA_v2/WDPA_gedi_L2A_tiles/tile_num_22251_L2A.gpkg\u001b[34m\u001b[39m\n",
      "\n"
     ]
    },
    {
     "name": "stdout",
     "output_type": "stream",
     "text": [
      "[1] 410840     21\n",
      "[1] 410840\n",
      "[1] 9346   30\n",
      "Reading in no.  21 csv of  29 csvs for iso3 Bpt \n"
     ]
    },
    {
     "name": "stderr",
     "output_type": "stream",
     "text": [
      "\u001b[36mℹ\u001b[39m \u001b[34m\u001b[34ms3://maap-ops-workspace/shared/leitoldv/GEDI_global_PA_v2/WDPA_gedi_L4A_tiles/tile_num_22426_L4A.gpkg\u001b[34m\u001b[39m already exists at \u001b[34m\u001b[34m/projects/.local/share/R/s3/maap-ops-workspace/shared/leitoldv/GEDI_global_PA_v2/WDPA_gedi_L4A_tiles/tile_num_22426_L4A.gpkg\u001b[34m\u001b[39m\n",
      "\n",
      "\u001b[36mℹ\u001b[39m \u001b[34m\u001b[34ms3://maap-ops-workspace/shared/leitoldv/GEDI_global_PA_v2/WDPA_gedi_L2A_tiles/tile_num_22426_L2A.gpkg\u001b[34m\u001b[39m already exists at \u001b[34m\u001b[34m/projects/.local/share/R/s3/maap-ops-workspace/shared/leitoldv/GEDI_global_PA_v2/WDPA_gedi_L2A_tiles/tile_num_22426_L2A.gpkg\u001b[34m\u001b[39m\n",
      "\n"
     ]
    },
    {
     "name": "stdout",
     "output_type": "stream",
     "text": [
      "[1] 739738     21\n",
      "[1] 739738\n",
      "[1] 9346   30\n",
      "Reading in no.  22 csv of  29 csvs for iso3 Bpt \n"
     ]
    },
    {
     "name": "stderr",
     "output_type": "stream",
     "text": [
      "\u001b[36mℹ\u001b[39m \u001b[34m\u001b[34ms3://maap-ops-workspace/shared/leitoldv/GEDI_global_PA_v2/WDPA_gedi_L4A_tiles/tile_num_22427_L4A.gpkg\u001b[34m\u001b[39m already exists at \u001b[34m\u001b[34m/projects/.local/share/R/s3/maap-ops-workspace/shared/leitoldv/GEDI_global_PA_v2/WDPA_gedi_L4A_tiles/tile_num_22427_L4A.gpkg\u001b[34m\u001b[39m\n",
      "\n",
      "\u001b[36mℹ\u001b[39m \u001b[34m\u001b[34ms3://maap-ops-workspace/shared/leitoldv/GEDI_global_PA_v2/WDPA_gedi_L2A_tiles/tile_num_22427_L2A.gpkg\u001b[34m\u001b[39m already exists at \u001b[34m\u001b[34m/projects/.local/share/R/s3/maap-ops-workspace/shared/leitoldv/GEDI_global_PA_v2/WDPA_gedi_L2A_tiles/tile_num_22427_L2A.gpkg\u001b[34m\u001b[39m\n",
      "\n"
     ]
    },
    {
     "name": "stdout",
     "output_type": "stream",
     "text": [
      "[1] 702419     21\n",
      "[1] 702419\n",
      "[1] 9346   30\n",
      "Reading in no.  23 csv of  29 csvs for iso3 Bpt \n"
     ]
    },
    {
     "name": "stderr",
     "output_type": "stream",
     "text": [
      "\u001b[36mℹ\u001b[39m \u001b[34m\u001b[34ms3://maap-ops-workspace/shared/leitoldv/GEDI_global_PA_v2/WDPA_gedi_L4A_tiles/tile_num_22428_L4A.gpkg\u001b[34m\u001b[39m already exists at \u001b[34m\u001b[34m/projects/.local/share/R/s3/maap-ops-workspace/shared/leitoldv/GEDI_global_PA_v2/WDPA_gedi_L4A_tiles/tile_num_22428_L4A.gpkg\u001b[34m\u001b[39m\n",
      "\n",
      "\u001b[36mℹ\u001b[39m \u001b[34m\u001b[34ms3://maap-ops-workspace/shared/leitoldv/GEDI_global_PA_v2/WDPA_gedi_L2A_tiles/tile_num_22428_L2A.gpkg\u001b[34m\u001b[39m already exists at \u001b[34m\u001b[34m/projects/.local/share/R/s3/maap-ops-workspace/shared/leitoldv/GEDI_global_PA_v2/WDPA_gedi_L2A_tiles/tile_num_22428_L2A.gpkg\u001b[34m\u001b[39m\n",
      "\n"
     ]
    },
    {
     "name": "stdout",
     "output_type": "stream",
     "text": [
      "[1] 596278     21\n",
      "[1] 596278\n",
      "[1] 9346   30\n",
      "Reading in no.  24 csv of  29 csvs for iso3 Bpt \n"
     ]
    },
    {
     "name": "stderr",
     "output_type": "stream",
     "text": [
      "\u001b[36mℹ\u001b[39m \u001b[34m\u001b[34ms3://maap-ops-workspace/shared/leitoldv/GEDI_global_PA_v2/WDPA_gedi_L4A_tiles/tile_num_22429_L4A.gpkg\u001b[34m\u001b[39m already exists at \u001b[34m\u001b[34m/projects/.local/share/R/s3/maap-ops-workspace/shared/leitoldv/GEDI_global_PA_v2/WDPA_gedi_L4A_tiles/tile_num_22429_L4A.gpkg\u001b[34m\u001b[39m\n",
      "\n",
      "\u001b[36mℹ\u001b[39m \u001b[34m\u001b[34ms3://maap-ops-workspace/shared/leitoldv/GEDI_global_PA_v2/WDPA_gedi_L2A_tiles/tile_num_22429_L2A.gpkg\u001b[34m\u001b[39m already exists at \u001b[34m\u001b[34m/projects/.local/share/R/s3/maap-ops-workspace/shared/leitoldv/GEDI_global_PA_v2/WDPA_gedi_L2A_tiles/tile_num_22429_L2A.gpkg\u001b[34m\u001b[39m\n",
      "\n"
     ]
    },
    {
     "name": "stdout",
     "output_type": "stream",
     "text": [
      "[1] 538734     21\n",
      "[1] 538734\n",
      "[1] 9346   30\n",
      "Reading in no.  25 csv of  29 csvs for iso3 Bpt \n"
     ]
    },
    {
     "name": "stderr",
     "output_type": "stream",
     "text": [
      "\u001b[36mℹ\u001b[39m \u001b[34m\u001b[34ms3://maap-ops-workspace/shared/leitoldv/GEDI_global_PA_v2/WDPA_gedi_L4A_tiles/tile_num_22430_L4A.gpkg\u001b[34m\u001b[39m already exists at \u001b[34m\u001b[34m/projects/.local/share/R/s3/maap-ops-workspace/shared/leitoldv/GEDI_global_PA_v2/WDPA_gedi_L4A_tiles/tile_num_22430_L4A.gpkg\u001b[34m\u001b[39m\n",
      "\n",
      "\u001b[36mℹ\u001b[39m \u001b[34m\u001b[34ms3://maap-ops-workspace/shared/leitoldv/GEDI_global_PA_v2/WDPA_gedi_L2A_tiles/tile_num_22430_L2A.gpkg\u001b[34m\u001b[39m already exists at \u001b[34m\u001b[34m/projects/.local/share/R/s3/maap-ops-workspace/shared/leitoldv/GEDI_global_PA_v2/WDPA_gedi_L2A_tiles/tile_num_22430_L2A.gpkg\u001b[34m\u001b[39m\n",
      "\n"
     ]
    },
    {
     "name": "stdout",
     "output_type": "stream",
     "text": [
      "[1] 537616     21\n",
      "[1] 537616\n",
      "[1] 9552   30\n",
      "Reading in no.  26 csv of  29 csvs for iso3 Bpt \n"
     ]
    },
    {
     "name": "stderr",
     "output_type": "stream",
     "text": [
      "\u001b[36mℹ\u001b[39m \u001b[34m\u001b[34ms3://maap-ops-workspace/shared/leitoldv/GEDI_global_PA_v2/WDPA_gedi_L4A_tiles/tile_num_22431_L4A.gpkg\u001b[34m\u001b[39m already exists at \u001b[34m\u001b[34m/projects/.local/share/R/s3/maap-ops-workspace/shared/leitoldv/GEDI_global_PA_v2/WDPA_gedi_L4A_tiles/tile_num_22431_L4A.gpkg\u001b[34m\u001b[39m\n",
      "\n",
      "\u001b[36mℹ\u001b[39m \u001b[34m\u001b[34ms3://maap-ops-workspace/shared/leitoldv/GEDI_global_PA_v2/WDPA_gedi_L2A_tiles/tile_num_22431_L2A.gpkg\u001b[34m\u001b[39m already exists at \u001b[34m\u001b[34m/projects/.local/share/R/s3/maap-ops-workspace/shared/leitoldv/GEDI_global_PA_v2/WDPA_gedi_L2A_tiles/tile_num_22431_L2A.gpkg\u001b[34m\u001b[39m\n",
      "\n"
     ]
    },
    {
     "name": "stdout",
     "output_type": "stream",
     "text": [
      "[1] 608391     21\n",
      "[1] 608391\n",
      "[1] 9555   30\n",
      "Reading in no.  27 csv of  29 csvs for iso3 Bpt \n"
     ]
    },
    {
     "name": "stderr",
     "output_type": "stream",
     "text": [
      "\u001b[36mℹ\u001b[39m \u001b[34m\u001b[34ms3://maap-ops-workspace/shared/leitoldv/GEDI_global_PA_v2/WDPA_gedi_L4A_tiles/tile_num_22607_L4A.gpkg\u001b[34m\u001b[39m already exists at \u001b[34m\u001b[34m/projects/.local/share/R/s3/maap-ops-workspace/shared/leitoldv/GEDI_global_PA_v2/WDPA_gedi_L4A_tiles/tile_num_22607_L4A.gpkg\u001b[34m\u001b[39m\n",
      "\n",
      "\u001b[36mℹ\u001b[39m \u001b[34m\u001b[34ms3://maap-ops-workspace/shared/leitoldv/GEDI_global_PA_v2/WDPA_gedi_L2A_tiles/tile_num_22607_L2A.gpkg\u001b[34m\u001b[39m already exists at \u001b[34m\u001b[34m/projects/.local/share/R/s3/maap-ops-workspace/shared/leitoldv/GEDI_global_PA_v2/WDPA_gedi_L2A_tiles/tile_num_22607_L2A.gpkg\u001b[34m\u001b[39m\n",
      "\n"
     ]
    },
    {
     "name": "stdout",
     "output_type": "stream",
     "text": [
      "[1] 559772     21\n",
      "[1] 559772\n",
      "[1] 9555   30\n",
      "Reading in no.  28 csv of  29 csvs for iso3 Bpt \n"
     ]
    },
    {
     "name": "stderr",
     "output_type": "stream",
     "text": [
      "\u001b[36mℹ\u001b[39m \u001b[34m\u001b[34ms3://maap-ops-workspace/shared/leitoldv/GEDI_global_PA_v2/WDPA_gedi_L4A_tiles/tile_num_22608_L4A.gpkg\u001b[34m\u001b[39m already exists at \u001b[34m\u001b[34m/projects/.local/share/R/s3/maap-ops-workspace/shared/leitoldv/GEDI_global_PA_v2/WDPA_gedi_L4A_tiles/tile_num_22608_L4A.gpkg\u001b[34m\u001b[39m\n",
      "\n",
      "\u001b[36mℹ\u001b[39m \u001b[34m\u001b[34ms3://maap-ops-workspace/shared/leitoldv/GEDI_global_PA_v2/WDPA_gedi_L2A_tiles/tile_num_22608_L2A.gpkg\u001b[34m\u001b[39m already exists at \u001b[34m\u001b[34m/projects/.local/share/R/s3/maap-ops-workspace/shared/leitoldv/GEDI_global_PA_v2/WDPA_gedi_L2A_tiles/tile_num_22608_L2A.gpkg\u001b[34m\u001b[39m\n",
      "\n"
     ]
    },
    {
     "name": "stdout",
     "output_type": "stream",
     "text": [
      "[1] 512994     21\n",
      "[1] 512994\n",
      "[1] 9555   30\n",
      "Reading in no.  29 csv of  29 csvs for iso3 Bpt \n"
     ]
    },
    {
     "name": "stderr",
     "output_type": "stream",
     "text": [
      "\u001b[36mℹ\u001b[39m \u001b[34m\u001b[34ms3://maap-ops-workspace/shared/leitoldv/GEDI_global_PA_v2/WDPA_gedi_L4A_tiles/tile_num_22609_L4A.gpkg\u001b[34m\u001b[39m already exists at \u001b[34m\u001b[34m/projects/.local/share/R/s3/maap-ops-workspace/shared/leitoldv/GEDI_global_PA_v2/WDPA_gedi_L4A_tiles/tile_num_22609_L4A.gpkg\u001b[34m\u001b[39m\n",
      "\n",
      "\u001b[36mℹ\u001b[39m \u001b[34m\u001b[34ms3://maap-ops-workspace/shared/leitoldv/GEDI_global_PA_v2/WDPA_gedi_L2A_tiles/tile_num_22609_L2A.gpkg\u001b[34m\u001b[39m already exists at \u001b[34m\u001b[34m/projects/.local/share/R/s3/maap-ops-workspace/shared/leitoldv/GEDI_global_PA_v2/WDPA_gedi_L2A_tiles/tile_num_22609_L2A.gpkg\u001b[34m\u001b[39m\n",
      "\n"
     ]
    },
    {
     "name": "stdout",
     "output_type": "stream",
     "text": [
      "[1] 558563     21\n",
      "[1] 558563\n",
      "[1] 9555   30\n",
      "Done GEDI processing\n"
     ]
    }
   ],
   "source": [
    "iso_matched_gedi <- extract_gedi(matched=matched, mras=mras, iso3=iso3)"
   ]
  },
  {
   "cell_type": "code",
   "execution_count": 51,
   "id": "bab5e70c-f523-43d5-9496-d25a30bc8652",
   "metadata": {},
   "outputs": [
    {
     "data": {
      "text/html": [
       "<table class=\"dataframe\">\n",
       "<caption>A data.frame: 113561 × 30</caption>\n",
       "<thead>\n",
       "\t<tr><th scope=col>ID</th><th scope=col>status</th><th scope=col>pa_id</th><th scope=col>wwfbiom</th><th scope=col>wwfecoreg</th><th scope=col>UID</th><th scope=col>pft</th><th scope=col>region</th><th scope=col>shot_number</th><th scope=col>filename</th><th scope=col>⋯</th><th scope=col>rh90</th><th scope=col>rh40</th><th scope=col>rh70</th><th scope=col>rh20</th><th scope=col>rh80</th><th scope=col>agbd</th><th scope=col>agbd_se</th><th scope=col>agbd_t</th><th scope=col>agbd_t_se</th><th scope=col>stratum</th></tr>\n",
       "\t<tr><th scope=col>&lt;dbl&gt;</th><th scope=col>&lt;dbl&gt;</th><th scope=col>&lt;dbl&gt;</th><th scope=col>&lt;fct&gt;</th><th scope=col>&lt;fct&gt;</th><th scope=col>&lt;dbl&gt;</th><th scope=col>&lt;fct&gt;</th><th scope=col>&lt;fct&gt;</th><th scope=col>&lt;int&gt;</th><th scope=col>&lt;chr&gt;</th><th scope=col>⋯</th><th scope=col>&lt;dbl&gt;</th><th scope=col>&lt;dbl&gt;</th><th scope=col>&lt;dbl&gt;</th><th scope=col>&lt;dbl&gt;</th><th scope=col>&lt;dbl&gt;</th><th scope=col>&lt;dbl&gt;</th><th scope=col>&lt;dbl&gt;</th><th scope=col>&lt;dbl&gt;</th><th scope=col>&lt;dbl&gt;</th><th scope=col>&lt;chr&gt;</th></tr>\n",
       "</thead>\n",
       "<tbody>\n",
       "\t<tr><td>92207</td><td>0</td><td>555576153</td><td>Flooded Grasslands &amp; Savannas</td><td>Pantanal</td><td>13795</td><td>GS</td><td>SA</td><td> -197302931</td><td>GEDI02_A_2019300171956_O04950_04_T04703_02_003_01_V002.h5</td><td>⋯</td><td> 3.40</td><td>-0.14</td><td> 1.30</td><td>-1.08</td><td> 2.13</td><td> 0.13692378</td><td>13.11960</td><td> 0.35192856</td><td>3.444890</td><td>GS_SA</td></tr>\n",
       "\t<tr><td>92208</td><td>0</td><td>555576153</td><td>Flooded Grasslands &amp; Savannas</td><td>Pantanal</td><td>13795</td><td>GS</td><td>SA</td><td> -197302934</td><td>GEDI02_A_2019300171956_O04950_04_T04703_02_003_01_V002.h5</td><td>⋯</td><td> 4.44</td><td> 0.29</td><td> 2.65</td><td>-1.00</td><td> 3.47</td><td> 0.87663150</td><td>13.11700</td><td> 0.89047885</td><td>3.444548</td><td>GS_SA</td></tr>\n",
       "\t<tr><td>92209</td><td>0</td><td>555576153</td><td>Flooded Grasslands &amp; Savannas</td><td>Pantanal</td><td>13795</td><td>GS</td><td>SA</td><td> -197302935</td><td>GEDI02_A_2019300171956_O04950_04_T04703_02_003_01_V002.h5</td><td>⋯</td><td> 4.29</td><td> 0.14</td><td> 2.13</td><td>-0.97</td><td> 3.06</td><td> 0.69153291</td><td>13.11653</td><td> 0.79089987</td><td>3.444487</td><td>GS_SA</td></tr>\n",
       "\t<tr><td>92547</td><td>0</td><td>555576153</td><td>Flooded Grasslands &amp; Savannas</td><td>Pantanal</td><td>13871</td><td>GS</td><td>SA</td><td> 1018444524</td><td>GEDI02_A_2019300171956_O04950_04_T04703_02_003_01_V002.h5</td><td>⋯</td><td> 8.22</td><td> 1.98</td><td> 5.90</td><td>-0.14</td><td> 6.87</td><td>10.38683987</td><td>13.10561</td><td> 3.06518579</td><td>3.443053</td><td>GS_SA</td></tr>\n",
       "\t<tr><td>92548</td><td>0</td><td>555576153</td><td>Flooded Grasslands &amp; Savannas</td><td>Pantanal</td><td>13871</td><td>GS</td><td>SA</td><td> 1018444523</td><td>GEDI02_A_2019300171956_O04950_04_T04703_02_003_01_V002.h5</td><td>⋯</td><td> 6.91</td><td> 0.93</td><td> 4.33</td><td>-1.00</td><td> 5.45</td><td> 5.77645206</td><td>13.10732</td><td> 2.28583908</td><td>3.443278</td><td>GS_SA</td></tr>\n",
       "\t<tr><td>92549</td><td>0</td><td>555576153</td><td>Flooded Grasslands &amp; Savannas</td><td>Pantanal</td><td>13871</td><td>GS</td><td>SA</td><td> 1018444520</td><td>GEDI02_A_2019300171956_O04950_04_T04703_02_003_01_V002.h5</td><td>⋯</td><td> 2.09</td><td>-0.37</td><td> 0.85</td><td>-1.27</td><td> 1.34</td><td> 0.00000000</td><td>13.12586</td><td>-0.23892234</td><td>3.445712</td><td>GS_SA</td></tr>\n",
       "\t<tr><td>92550</td><td>0</td><td>555576153</td><td>Flooded Grasslands &amp; Savannas</td><td>Pantanal</td><td>13795</td><td>GS</td><td>SA</td><td> 1018444518</td><td>GEDI02_A_2019300171956_O04950_04_T04703_02_003_01_V002.h5</td><td>⋯</td><td> 1.75</td><td>-0.48</td><td> 0.67</td><td>-1.49</td><td> 1.12</td><td> 0.00000000</td><td>13.12749</td><td>-0.42048010</td><td>3.445926</td><td>GS_SA</td></tr>\n",
       "\t<tr><td>92551</td><td>0</td><td>555576153</td><td>Flooded Grasslands &amp; Savannas</td><td>Pantanal</td><td>13795</td><td>GS</td><td>SA</td><td> 1018444517</td><td>GEDI02_A_2019300171956_O04950_04_T04703_02_003_01_V002.h5</td><td>⋯</td><td> 3.47</td><td> 0.03</td><td> 1.71</td><td>-0.97</td><td> 2.46</td><td> 0.28758055</td><td>13.11905</td><td> 0.51002896</td><td>3.444817</td><td>GS_SA</td></tr>\n",
       "\t<tr><td>92552</td><td>0</td><td>555576153</td><td>Flooded Grasslands &amp; Savannas</td><td>Pantanal</td><td>13795</td><td>GS</td><td>SA</td><td> 1018444515</td><td>GEDI02_A_2019300171956_O04950_04_T04703_02_003_01_V002.h5</td><td>⋯</td><td> 2.76</td><td>-0.26</td><td> 1.19</td><td>-1.38</td><td> 1.83</td><td> 0.04621821</td><td>13.12097</td><td> 0.20446625</td><td>3.445070</td><td>GS_SA</td></tr>\n",
       "\t<tr><td>92553</td><td>0</td><td>555576153</td><td>Flooded Grasslands &amp; Savannas</td><td>Pantanal</td><td>13795</td><td>GS</td><td>SA</td><td> 1018444513</td><td>GEDI02_A_2019300171956_O04950_04_T04703_02_003_01_V002.h5</td><td>⋯</td><td> 2.13</td><td>-0.52</td><td> 0.78</td><td>-1.60</td><td> 1.34</td><td> 0.00000000</td><td>13.12570</td><td>-0.27219364</td><td>3.445691</td><td>GS_SA</td></tr>\n",
       "\t<tr><td>92554</td><td>0</td><td>555576153</td><td>Flooded Grasslands &amp; Savannas</td><td>Pantanal</td><td>13795</td><td>GS</td><td>SA</td><td> 1018444511</td><td>GEDI02_A_2019300171956_O04950_04_T04703_02_003_01_V002.h5</td><td>⋯</td><td> 2.28</td><td>-0.33</td><td> 0.85</td><td>-1.23</td><td> 1.42</td><td> 0.00000000</td><td>13.12454</td><td>-0.14033091</td><td>3.445538</td><td>GS_SA</td></tr>\n",
       "\t<tr><td>92555</td><td>0</td><td>555576153</td><td>Flooded Grasslands &amp; Savannas</td><td>Pantanal</td><td>13795</td><td>GS</td><td>SA</td><td> 1018444506</td><td>GEDI02_A_2019300171956_O04950_04_T04703_02_003_01_V002.h5</td><td>⋯</td><td> 3.32</td><td>-0.78</td><td> 1.34</td><td>-2.54</td><td> 2.20</td><td> 0.04704282</td><td>13.11966</td><td> 0.20628220</td><td>3.444898</td><td>GS_SA</td></tr>\n",
       "\t<tr><td>92556</td><td>0</td><td>555576153</td><td>Flooded Grasslands &amp; Savannas</td><td>Pantanal</td><td>13795</td><td>GS</td><td>SA</td><td> 1018444503</td><td>GEDI02_A_2019300171956_O04950_04_T04703_02_003_01_V002.h5</td><td>⋯</td><td> 2.35</td><td>-0.41</td><td> 0.93</td><td>-1.42</td><td> 1.49</td><td> 0.00000000</td><td>13.12372</td><td>-0.07796343</td><td>3.445431</td><td>GS_SA</td></tr>\n",
       "\t<tr><td>92557</td><td>0</td><td>555576153</td><td>Flooded Grasslands &amp; Savannas</td><td>Pantanal</td><td>13795</td><td>GS</td><td>SA</td><td> 1018444499</td><td>GEDI02_A_2019300171956_O04950_04_T04703_02_003_01_V002.h5</td><td>⋯</td><td> 2.87</td><td>-0.29</td><td> 1.19</td><td>-1.45</td><td> 1.83</td><td> 0.05703126</td><td>13.12048</td><td> 0.22712846</td><td>3.445006</td><td>GS_SA</td></tr>\n",
       "\t<tr><td>92939</td><td>0</td><td>555576153</td><td>Flooded Grasslands &amp; Savannas</td><td>Pantanal</td><td>13871</td><td>GS</td><td>SA</td><td>-2060765514</td><td>GEDI02_A_2019300171956_O04950_04_T04703_02_003_01_V002.h5</td><td>⋯</td><td> 3.96</td><td>-0.11</td><td> 1.79</td><td>-1.38</td><td> 2.72</td><td> 0.35692474</td><td>13.11796</td><td> 0.56820285</td><td>3.444675</td><td>GS_SA</td></tr>\n",
       "\t<tr><td>92940</td><td>0</td><td>555576153</td><td>Flooded Grasslands &amp; Savannas</td><td>Pantanal</td><td>13871</td><td>GS</td><td>SA</td><td>-2060765515</td><td>GEDI02_A_2019300171956_O04950_04_T04703_02_003_01_V002.h5</td><td>⋯</td><td> 2.91</td><td>-0.14</td><td> 1.27</td><td>-1.12</td><td> 1.98</td><td> 0.01857183</td><td>13.12234</td><td> 0.12961118</td><td>3.445251</td><td>GS_SA</td></tr>\n",
       "\t<tr><td>92941</td><td>0</td><td>555576153</td><td>Flooded Grasslands &amp; Savannas</td><td>Pantanal</td><td>13871</td><td>GS</td><td>SA</td><td>-2060765517</td><td>GEDI02_A_2019300171956_O04950_04_T04703_02_003_01_V002.h5</td><td>⋯</td><td> 3.43</td><td> 0.03</td><td> 1.60</td><td>-0.93</td><td> 2.39</td><td> 0.19967012</td><td>13.11986</td><td> 0.42498305</td><td>3.444924</td><td>GS_SA</td></tr>\n",
       "\t<tr><td>92942</td><td>0</td><td>555576153</td><td>Flooded Grasslands &amp; Savannas</td><td>Pantanal</td><td>13871</td><td>GS</td><td>SA</td><td>-2060765518</td><td>GEDI02_A_2019300171956_O04950_04_T04703_02_003_01_V002.h5</td><td>⋯</td><td> 3.32</td><td>-0.14</td><td> 1.38</td><td>-1.19</td><td> 2.12</td><td> 0.13452926</td><td>13.11979</td><td> 0.34883773</td><td>3.444915</td><td>GS_SA</td></tr>\n",
       "\t<tr><td>92943</td><td>0</td><td>555576153</td><td>Flooded Grasslands &amp; Savannas</td><td>Pantanal</td><td>13871</td><td>GS</td><td>SA</td><td>-2060765520</td><td>GEDI02_A_2019300171956_O04950_04_T04703_02_003_01_V002.h5</td><td>⋯</td><td> 2.87</td><td>-0.22</td><td> 1.41</td><td>-1.34</td><td> 2.01</td><td> 0.04081770</td><td>13.12194</td><td> 0.19214953</td><td>3.445198</td><td>GS_SA</td></tr>\n",
       "\t<tr><td>92944</td><td>0</td><td>555576153</td><td>Flooded Grasslands &amp; Savannas</td><td>Pantanal</td><td>13871</td><td>GS</td><td>SA</td><td>-2060765523</td><td>GEDI02_A_2019300171956_O04950_04_T04703_02_003_01_V002.h5</td><td>⋯</td><td> 3.84</td><td> 0.00</td><td> 1.98</td><td>-1.38</td><td> 2.76</td><td> 0.64636672</td><td>13.11664</td><td> 0.76463568</td><td>3.444501</td><td>GS_SA</td></tr>\n",
       "\t<tr><td>92945</td><td>0</td><td>555576153</td><td>Flooded Grasslands &amp; Savannas</td><td>Pantanal</td><td>13871</td><td>GS</td><td>SA</td><td>-2060765525</td><td>GEDI02_A_2019300171956_O04950_04_T04703_02_003_01_V002.h5</td><td>⋯</td><td> 4.07</td><td> 0.03</td><td> 2.09</td><td>-1.27</td><td> 2.95</td><td> 0.53106922</td><td>13.11745</td><td> 0.69309163</td><td>3.444608</td><td>GS_SA</td></tr>\n",
       "\t<tr><td>92946</td><td>0</td><td>555576153</td><td>Flooded Grasslands &amp; Savannas</td><td>Pantanal</td><td>13871</td><td>GS</td><td>SA</td><td>-2060765526</td><td>GEDI02_A_2019300171956_O04950_04_T04703_02_003_01_V002.h5</td><td>⋯</td><td> 3.40</td><td>-0.11</td><td> 1.56</td><td>-1.27</td><td> 2.31</td><td> 0.16683048</td><td>13.11973</td><td> 0.38846579</td><td>3.444907</td><td>GS_SA</td></tr>\n",
       "\t<tr><td>92947</td><td>0</td><td>555576153</td><td>Flooded Grasslands &amp; Savannas</td><td>Pantanal</td><td>13795</td><td>GS</td><td>SA</td><td>-2060765545</td><td>GEDI02_A_2019300171956_O04950_04_T04703_02_003_01_V002.h5</td><td>⋯</td><td>15.95</td><td> 5.23</td><td>10.53</td><td> 1.56</td><td>13.15</td><td>61.93115616</td><td>13.08976</td><td> 7.48461866</td><td>3.440970</td><td>GS_SA</td></tr>\n",
       "\t<tr><td>94405</td><td>0</td><td>555576153</td><td>Flooded Grasslands &amp; Savannas</td><td>Pantanal</td><td>13589</td><td>GS</td><td>SA</td><td> 1586485707</td><td>GEDI02_A_2019300171956_O04950_04_T04703_02_003_01_V002.h5</td><td>⋯</td><td> 1.64</td><td>-0.63</td><td> 0.56</td><td>-1.64</td><td> 1.04</td><td> 0.00000000</td><td>13.12852</td><td>-0.54283720</td><td>3.446061</td><td>GS_SA</td></tr>\n",
       "\t<tr><td>94406</td><td>0</td><td>555576153</td><td>Flooded Grasslands &amp; Savannas</td><td>Pantanal</td><td>13589</td><td>GS</td><td>SA</td><td> 1586485706</td><td>GEDI02_A_2019300171956_O04950_04_T04703_02_003_01_V002.h5</td><td>⋯</td><td> 1.71</td><td>-0.63</td><td> 0.59</td><td>-1.60</td><td> 1.08</td><td> 0.00000000</td><td>13.12768</td><td>-0.48347268</td><td>3.445951</td><td>GS_SA</td></tr>\n",
       "\t<tr><td>94407</td><td>0</td><td>555576153</td><td>Flooded Grasslands &amp; Savannas</td><td>Pantanal</td><td>13589</td><td>GS</td><td>SA</td><td> 1586485705</td><td>GEDI02_A_2019300171956_O04950_04_T04703_02_003_01_V002.h5</td><td>⋯</td><td> 1.71</td><td>-0.59</td><td> 0.63</td><td>-1.56</td><td> 1.08</td><td> 0.00000000</td><td>13.12826</td><td>-0.50642431</td><td>3.446027</td><td>GS_SA</td></tr>\n",
       "\t<tr><td>94408</td><td>0</td><td>555576153</td><td>Flooded Grasslands &amp; Savannas</td><td>Pantanal</td><td>13589</td><td>GS</td><td>SA</td><td> 1586485704</td><td>GEDI02_A_2019300171956_O04950_04_T04703_02_003_01_V002.h5</td><td>⋯</td><td> 1.71</td><td>-0.59</td><td> 0.59</td><td>-1.56</td><td> 1.08</td><td> 0.00000000</td><td>13.12826</td><td>-0.50642431</td><td>3.446027</td><td>GS_SA</td></tr>\n",
       "\t<tr><td>94409</td><td>0</td><td>555576153</td><td>Flooded Grasslands &amp; Savannas</td><td>Pantanal</td><td>13589</td><td>GS</td><td>SA</td><td> 1586485703</td><td>GEDI02_A_2019300171956_O04950_04_T04703_02_003_01_V002.h5</td><td>⋯</td><td> 1.60</td><td>-0.67</td><td> 0.52</td><td>-1.71</td><td> 1.00</td><td> 0.00000000</td><td>13.12882</td><td>-0.58256137</td><td>3.446101</td><td>GS_SA</td></tr>\n",
       "\t<tr><td>94410</td><td>0</td><td>555576153</td><td>Flooded Grasslands &amp; Savannas</td><td>Pantanal</td><td>13589</td><td>GS</td><td>SA</td><td> 1586485702</td><td>GEDI02_A_2019300171956_O04950_04_T04703_02_003_01_V002.h5</td><td>⋯</td><td> 1.64</td><td>-0.63</td><td> 0.56</td><td>-1.60</td><td> 1.00</td><td> 0.00000000</td><td>13.12852</td><td>-0.54283720</td><td>3.446061</td><td>GS_SA</td></tr>\n",
       "\t<tr><td>94411</td><td>0</td><td>555576153</td><td>Flooded Grasslands &amp; Savannas</td><td>Pantanal</td><td>13589</td><td>GS</td><td>SA</td><td> 1586485701</td><td>GEDI02_A_2019300171956_O04950_04_T04703_02_003_01_V002.h5</td><td>⋯</td><td> 1.64</td><td>-0.63</td><td> 0.56</td><td>-1.60</td><td> 1.04</td><td> 0.00000000</td><td>13.12870</td><td>-0.55603641</td><td>3.446085</td><td>GS_SA</td></tr>\n",
       "\t<tr><td>⋮</td><td>⋮</td><td>⋮</td><td>⋮</td><td>⋮</td><td>⋮</td><td>⋮</td><td>⋮</td><td>⋮</td><td>⋮</td><td>⋱</td><td>⋮</td><td>⋮</td><td>⋮</td><td>⋮</td><td>⋮</td><td>⋮</td><td>⋮</td><td>⋮</td><td>⋮</td><td>⋮</td></tr>\n",
       "\t<tr><td>490660</td><td>0</td><td>555576153</td><td>Flooded Grasslands &amp; Savannas</td><td>Pantanal</td><td>13795</td><td>GS</td><td>SA</td><td><span style=white-space:pre-wrap>  744224857</span></td><td>GEDI02_A_2022183013025_O20117_01_T11259_02_003_03_V002.h5</td><td>⋯</td><td> 6.83</td><td> 2.12</td><td> 4.77</td><td>-0.33</td><td> 5.67</td><td> 6.23182964</td><td>13.11092</td><td> 2.37423038</td><td>3.443750</td><td>GS_SA</td></tr>\n",
       "\t<tr><td>490661</td><td>0</td><td>555576153</td><td>Flooded Grasslands &amp; Savannas</td><td>Pantanal</td><td>13795</td><td>GS</td><td>SA</td><td><span style=white-space:pre-wrap>  744224858</span></td><td>GEDI02_A_2022183013025_O20117_01_T11259_02_003_03_V002.h5</td><td>⋯</td><td> 4.85</td><td> 0.18</td><td> 2.20</td><td>-1.08</td><td> 3.28</td><td> 2.14746618</td><td>13.11080</td><td> 1.39372873</td><td>3.443735</td><td>GS_SA</td></tr>\n",
       "\t<tr><td>490662</td><td>0</td><td>555576153</td><td>Flooded Grasslands &amp; Savannas</td><td>Pantanal</td><td>13795</td><td>GS</td><td>SA</td><td><span style=white-space:pre-wrap>  744224859</span></td><td>GEDI02_A_2022183013025_O20117_01_T11259_02_003_03_V002.h5</td><td>⋯</td><td> 4.18</td><td>-0.11</td><td> 1.86</td><td>-1.41</td><td> 2.72</td><td> 0.70634979</td><td>13.11556</td><td> 0.79932791</td><td>3.444360</td><td>GS_SA</td></tr>\n",
       "\t<tr><td>490663</td><td>0</td><td>555576153</td><td>Flooded Grasslands &amp; Savannas</td><td>Pantanal</td><td>13795</td><td>GS</td><td>SA</td><td><span style=white-space:pre-wrap>  744224861</span></td><td>GEDI02_A_2022183013025_O20117_01_T11259_02_003_03_V002.h5</td><td>⋯</td><td> 6.49</td><td> 0.63</td><td> 3.47</td><td>-0.78</td><td> 5.00</td><td> 3.32483292</td><td>13.10992</td><td> 1.73420322</td><td>3.443619</td><td>GS_SA</td></tr>\n",
       "\t<tr><td>491189</td><td>0</td><td>555576153</td><td>Flooded Grasslands &amp; Savannas</td><td>Pantanal</td><td>13871</td><td>GS</td><td>SA</td><td> 1959976070</td><td>GEDI02_A_2022183013025_O20117_01_T11259_02_003_03_V002.h5</td><td>⋯</td><td> 2.31</td><td>-0.29</td><td> 0.97</td><td>-1.26</td><td> 1.53</td><td> 0.00000000</td><td>13.12530</td><td>-0.17959137</td><td>3.445638</td><td>GS_SA</td></tr>\n",
       "\t<tr><td>491190</td><td>0</td><td>555576153</td><td>Flooded Grasslands &amp; Savannas</td><td>Pantanal</td><td>13871</td><td>GS</td><td>SA</td><td> 1959976072</td><td>GEDI02_A_2022183013025_O20117_01_T11259_02_003_03_V002.h5</td><td>⋯</td><td> 3.84</td><td> 0.22</td><td> 2.05</td><td>-1.00</td><td> 2.79</td><td> 0.51265645</td><td>13.11834</td><td> 0.68097049</td><td>3.444725</td><td>GS_SA</td></tr>\n",
       "\t<tr><td>491191</td><td>0</td><td>555576153</td><td>Flooded Grasslands &amp; Savannas</td><td>Pantanal</td><td>13871</td><td>GS</td><td>SA</td><td> 1959976075</td><td>GEDI02_A_2022183013025_O20117_01_T11259_02_003_03_V002.h5</td><td>⋯</td><td> 2.87</td><td>-0.26</td><td> 1.30</td><td>-1.41</td><td> 1.94</td><td> 0.03025242</td><td>13.12167</td><td> 0.16542272</td><td>3.445162</td><td>GS_SA</td></tr>\n",
       "\t<tr><td>491192</td><td>0</td><td>555576153</td><td>Flooded Grasslands &amp; Savannas</td><td>Pantanal</td><td>13871</td><td>GS</td><td>SA</td><td> 1959976076</td><td>GEDI02_A_2022183013025_O20117_01_T11259_02_003_03_V002.h5</td><td>⋯</td><td> 2.23</td><td>-0.33</td><td> 0.89</td><td>-1.23</td><td> 1.45</td><td> 0.00000000</td><td>13.12530</td><td>-0.17959137</td><td>3.445638</td><td>GS_SA</td></tr>\n",
       "\t<tr><td>491193</td><td>0</td><td>555576153</td><td>Flooded Grasslands &amp; Savannas</td><td>Pantanal</td><td>13871</td><td>GS</td><td>SA</td><td> 1959976078</td><td>GEDI02_A_2022183013025_O20117_01_T11259_02_003_03_V002.h5</td><td>⋯</td><td> 2.16</td><td>-0.33</td><td> 0.93</td><td>-1.23</td><td> 1.45</td><td> 0.00000000</td><td>13.12628</td><td>-0.25193369</td><td>3.445767</td><td>GS_SA</td></tr>\n",
       "\t<tr><td>491194</td><td>0</td><td>555576153</td><td>Flooded Grasslands &amp; Savannas</td><td>Pantanal</td><td>13871</td><td>GS</td><td>SA</td><td> 1959976079</td><td>GEDI02_A_2022183013025_O20117_01_T11259_02_003_03_V002.h5</td><td>⋯</td><td> 2.31</td><td>-0.33</td><td> 0.89</td><td>-1.26</td><td> 1.49</td><td> 0.00000000</td><td>13.12335</td><td>-0.03185751</td><td>3.445382</td><td>GS_SA</td></tr>\n",
       "\t<tr><td>491195</td><td>0</td><td>555576153</td><td>Flooded Grasslands &amp; Savannas</td><td>Pantanal</td><td>13871</td><td>GS</td><td>SA</td><td> 1959976080</td><td>GEDI02_A_2022183013025_O20117_01_T11259_02_003_03_V002.h5</td><td>⋯</td><td> 5.67</td><td> 0.26</td><td> 2.79</td><td>-1.19</td><td> 4.06</td><td> 2.71171808</td><td>13.10989</td><td> 1.56616437</td><td>3.443615</td><td>GS_SA</td></tr>\n",
       "\t<tr><td>491196</td><td>0</td><td>555576153</td><td>Flooded Grasslands &amp; Savannas</td><td>Pantanal</td><td>13871</td><td>GS</td><td>SA</td><td> 1959976081</td><td>GEDI02_A_2022183013025_O20117_01_T11259_02_003_03_V002.h5</td><td>⋯</td><td>12.09</td><td> 7.31</td><td>10.19</td><td> 3.21</td><td>11.04</td><td>37.09879684</td><td>13.10021</td><td> 5.79288626</td><td>3.442343</td><td>GS_SA</td></tr>\n",
       "\t<tr><td>500652</td><td>0</td><td>555576153</td><td>Flooded Grasslands &amp; Savannas</td><td>Pantanal</td><td>13795</td><td>GS</td><td>SA</td><td><span style=white-space:pre-wrap>    4369788</span></td><td>GEDI02_A_2022198081537_O20354_04_T07549_02_003_03_V002.h5</td><td>⋯</td><td> 6.12</td><td> 2.76</td><td> 4.44</td><td> 0.78</td><td> 5.15</td><td> 4.52782393</td><td>13.11476</td><td> 2.02376390</td><td>3.444254</td><td>GS_SA</td></tr>\n",
       "\t<tr><td>501133</td><td>0</td><td>555576153</td><td>Flooded Grasslands &amp; Savannas</td><td>Pantanal</td><td>13589</td><td>GS</td><td>SA</td><td>-1859639485</td><td>GEDI02_A_2022198081537_O20354_04_T07549_02_003_03_V002.h5</td><td>⋯</td><td> 1.79</td><td>-0.63</td><td> 0.63</td><td>-1.71</td><td> 1.11</td><td> 0.00000000</td><td>13.12736</td><td>-0.46040049</td><td>3.445909</td><td>GS_SA</td></tr>\n",
       "\t<tr><td>501134</td><td>0</td><td>555576153</td><td>Flooded Grasslands &amp; Savannas</td><td>Pantanal</td><td>13589</td><td>GS</td><td>SA</td><td>-1859639486</td><td>GEDI02_A_2022198081537_O20354_04_T07549_02_003_03_V002.h5</td><td>⋯</td><td> 1.79</td><td>-0.59</td><td> 0.63</td><td>-1.64</td><td> 1.11</td><td> 0.00000000</td><td>13.12756</td><td>-0.45696709</td><td>3.445935</td><td>GS_SA</td></tr>\n",
       "\t<tr><td>501135</td><td>0</td><td>555576153</td><td>Flooded Grasslands &amp; Savannas</td><td>Pantanal</td><td>13589</td><td>GS</td><td>SA</td><td>-1859639487</td><td>GEDI02_A_2022198081537_O20354_04_T07549_02_003_03_V002.h5</td><td>⋯</td><td> 1.75</td><td>-0.70</td><td> 0.59</td><td>-1.82</td><td> 1.08</td><td> 0.00000000</td><td>13.12743</td><td>-0.48361078</td><td>3.445919</td><td>GS_SA</td></tr>\n",
       "\t<tr><td>501136</td><td>0</td><td>555576153</td><td>Flooded Grasslands &amp; Savannas</td><td>Pantanal</td><td>13589</td><td>GS</td><td>SA</td><td>-1859639488</td><td>GEDI02_A_2022198081537_O20354_04_T07549_02_003_03_V002.h5</td><td>⋯</td><td> 1.75</td><td>-0.67</td><td> 0.59</td><td>-1.75</td><td> 1.08</td><td> 0.00000000</td><td>13.12762</td><td>-0.49679586</td><td>3.445943</td><td>GS_SA</td></tr>\n",
       "\t<tr><td>501729</td><td>0</td><td>555576153</td><td>Flooded Grasslands &amp; Savannas</td><td>Pantanal</td><td>13589</td><td>GS</td><td>SA</td><td> 1787611891</td><td>GEDI02_A_2022198081537_O20354_04_T07549_02_003_03_V002.h5</td><td>⋯</td><td> 1.79</td><td>-0.59</td><td> 0.63</td><td>-1.64</td><td> 1.11</td><td> 0.00000000</td><td>13.12756</td><td>-0.45696709</td><td>3.445935</td><td>GS_SA</td></tr>\n",
       "\t<tr><td>501730</td><td>0</td><td>555576153</td><td>Flooded Grasslands &amp; Savannas</td><td>Pantanal</td><td>13589</td><td>GS</td><td>SA</td><td> 1787611890</td><td>GEDI02_A_2022198081537_O20354_04_T07549_02_003_03_V002.h5</td><td>⋯</td><td> 1.79</td><td>-0.63</td><td> 0.63</td><td>-1.67</td><td> 1.11</td><td> 0.00000000</td><td>13.12736</td><td>-0.46040049</td><td>3.445909</td><td>GS_SA</td></tr>\n",
       "\t<tr><td>501731</td><td>0</td><td>555576153</td><td>Flooded Grasslands &amp; Savannas</td><td>Pantanal</td><td>13589</td><td>GS</td><td>SA</td><td> 1787611889</td><td>GEDI02_A_2022198081537_O20354_04_T07549_02_003_03_V002.h5</td><td>⋯</td><td> 1.75</td><td>-0.63</td><td> 0.63</td><td>-1.64</td><td> 1.11</td><td> 0.00000000</td><td>13.12768</td><td>-0.48347268</td><td>3.445951</td><td>GS_SA</td></tr>\n",
       "\t<tr><td>501732</td><td>0</td><td>555576153</td><td>Flooded Grasslands &amp; Savannas</td><td>Pantanal</td><td>13589</td><td>GS</td><td>SA</td><td> 1787611888</td><td>GEDI02_A_2022198081537_O20354_04_T07549_02_003_03_V002.h5</td><td>⋯</td><td> 1.71</td><td>-0.63</td><td> 0.59</td><td>-1.67</td><td> 1.08</td><td> 0.00000000</td><td>13.12805</td><td>-0.50985050</td><td>3.445999</td><td>GS_SA</td></tr>\n",
       "\t<tr><td>501733</td><td>0</td><td>555576153</td><td>Flooded Grasslands &amp; Savannas</td><td>Pantanal</td><td>13589</td><td>GS</td><td>SA</td><td> 1787611887</td><td>GEDI02_A_2022198081537_O20354_04_T07549_02_003_03_V002.h5</td><td>⋯</td><td> 1.75</td><td>-0.63</td><td> 0.59</td><td>-1.64</td><td> 1.08</td><td> 0.00000000</td><td>13.12787</td><td>-0.49666032</td><td>3.445975</td><td>GS_SA</td></tr>\n",
       "\t<tr><td>501734</td><td>0</td><td>555576153</td><td>Flooded Grasslands &amp; Savannas</td><td>Pantanal</td><td>13589</td><td>GS</td><td>SA</td><td> 1787611886</td><td>GEDI02_A_2022198081537_O20354_04_T07549_02_003_03_V002.h5</td><td>⋯</td><td> 1.71</td><td>-0.59</td><td> 0.59</td><td>-1.56</td><td> 1.08</td><td> 0.00000000</td><td>13.12826</td><td>-0.50642431</td><td>3.446027</td><td>GS_SA</td></tr>\n",
       "\t<tr><td>501735</td><td>0</td><td>555576153</td><td>Flooded Grasslands &amp; Savannas</td><td>Pantanal</td><td>13589</td><td>GS</td><td>SA</td><td> 1787611885</td><td>GEDI02_A_2022198081537_O20354_04_T07549_02_003_03_V002.h5</td><td>⋯</td><td> 1.79</td><td>-0.63</td><td> 0.63</td><td>-1.67</td><td> 1.11</td><td> 0.00000000</td><td>13.12775</td><td>-0.47015217</td><td>3.445960</td><td>GS_SA</td></tr>\n",
       "\t<tr><td>501736</td><td>0</td><td>555576153</td><td>Flooded Grasslands &amp; Savannas</td><td>Pantanal</td><td>13589</td><td>GS</td><td>SA</td><td> 1787611878</td><td>GEDI02_A_2022198081537_O20354_04_T07549_02_003_03_V002.h5</td><td>⋯</td><td> 1.67</td><td>-0.63</td><td> 0.59</td><td>-1.71</td><td> 1.04</td><td> 0.00000000</td><td>13.12819</td><td>-0.51974481</td><td>3.446018</td><td>GS_SA</td></tr>\n",
       "\t<tr><td>501737</td><td>0</td><td>555576153</td><td>Flooded Grasslands &amp; Savannas</td><td>Pantanal</td><td>13589</td><td>GS</td><td>SA</td><td> 1787611877</td><td>GEDI02_A_2022198081537_O20354_04_T07549_02_003_03_V002.h5</td><td>⋯</td><td> 1.71</td><td>-0.67</td><td> 0.55</td><td>-1.75</td><td> 1.04</td><td> 0.00000000</td><td>13.12798</td><td>-0.52317369</td><td>3.445991</td><td>GS_SA</td></tr>\n",
       "\t<tr><td>501738</td><td>0</td><td>555576153</td><td>Flooded Grasslands &amp; Savannas</td><td>Pantanal</td><td>13589</td><td>GS</td><td>SA</td><td> 1787611876</td><td>GEDI02_A_2022198081537_O20354_04_T07549_02_003_03_V002.h5</td><td>⋯</td><td> 1.75</td><td>-0.59</td><td> 0.63</td><td>-1.64</td><td> 1.11</td><td> 0.00000000</td><td>13.12775</td><td>-0.47015217</td><td>3.445960</td><td>GS_SA</td></tr>\n",
       "\t<tr><td>501739</td><td>0</td><td>555576153</td><td>Flooded Grasslands &amp; Savannas</td><td>Pantanal</td><td>13589</td><td>GS</td><td>SA</td><td> 1787611874</td><td>GEDI02_A_2022198081537_O20354_04_T07549_02_003_03_V002.h5</td><td>⋯</td><td> 1.90</td><td>-0.74</td><td> 0.63</td><td>-1.97</td><td> 1.19</td><td> 0.00000000</td><td>13.12657</td><td>-0.43430379</td><td>3.445806</td><td>GS_SA</td></tr>\n",
       "\t<tr><td>501740</td><td>0</td><td>555576153</td><td>Flooded Grasslands &amp; Savannas</td><td>Pantanal</td><td>13589</td><td>GS</td><td>SA</td><td> 1787611873</td><td>GEDI02_A_2022198081537_O20354_04_T07549_02_003_03_V002.h5</td><td>⋯</td><td> 2.09</td><td>-0.59</td><td> 0.78</td><td>-1.71</td><td> 1.30</td><td> 0.00000000</td><td>13.12529</td><td>-0.27247599</td><td>3.445637</td><td>GS_SA</td></tr>\n",
       "\t<tr><td>501741</td><td>0</td><td>555576153</td><td>Flooded Grasslands &amp; Savannas</td><td>Pantanal</td><td>13589</td><td>GS</td><td>SA</td><td> 1787611872</td><td>GEDI02_A_2022198081537_O20354_04_T07549_02_003_03_V002.h5</td><td>⋯</td><td> 1.71</td><td>-0.67</td><td> 0.59</td><td>-1.75</td><td> 1.08</td><td> 0.00000000</td><td>13.12798</td><td>-0.52317369</td><td>3.445991</td><td>GS_SA</td></tr>\n",
       "</tbody>\n",
       "</table>\n"
      ],
      "text/latex": [
       "A data.frame: 113561 × 30\n",
       "\\begin{tabular}{lllllllllllllllllllll}\n",
       " ID & status & pa\\_id & wwfbiom & wwfecoreg & UID & pft & region & shot\\_number & filename & ⋯ & rh90 & rh40 & rh70 & rh20 & rh80 & agbd & agbd\\_se & agbd\\_t & agbd\\_t\\_se & stratum\\\\\n",
       " <dbl> & <dbl> & <dbl> & <fct> & <fct> & <dbl> & <fct> & <fct> & <int> & <chr> & ⋯ & <dbl> & <dbl> & <dbl> & <dbl> & <dbl> & <dbl> & <dbl> & <dbl> & <dbl> & <chr>\\\\\n",
       "\\hline\n",
       "\t 92207 & 0 & 555576153 & Flooded Grasslands \\& Savannas & Pantanal & 13795 & GS & SA &  -197302931 & GEDI02\\_A\\_2019300171956\\_O04950\\_04\\_T04703\\_02\\_003\\_01\\_V002.h5 & ⋯ &  3.40 & -0.14 &  1.30 & -1.08 &  2.13 &  0.13692378 & 13.11960 &  0.35192856 & 3.444890 & GS\\_SA\\\\\n",
       "\t 92208 & 0 & 555576153 & Flooded Grasslands \\& Savannas & Pantanal & 13795 & GS & SA &  -197302934 & GEDI02\\_A\\_2019300171956\\_O04950\\_04\\_T04703\\_02\\_003\\_01\\_V002.h5 & ⋯ &  4.44 &  0.29 &  2.65 & -1.00 &  3.47 &  0.87663150 & 13.11700 &  0.89047885 & 3.444548 & GS\\_SA\\\\\n",
       "\t 92209 & 0 & 555576153 & Flooded Grasslands \\& Savannas & Pantanal & 13795 & GS & SA &  -197302935 & GEDI02\\_A\\_2019300171956\\_O04950\\_04\\_T04703\\_02\\_003\\_01\\_V002.h5 & ⋯ &  4.29 &  0.14 &  2.13 & -0.97 &  3.06 &  0.69153291 & 13.11653 &  0.79089987 & 3.444487 & GS\\_SA\\\\\n",
       "\t 92547 & 0 & 555576153 & Flooded Grasslands \\& Savannas & Pantanal & 13871 & GS & SA &  1018444524 & GEDI02\\_A\\_2019300171956\\_O04950\\_04\\_T04703\\_02\\_003\\_01\\_V002.h5 & ⋯ &  8.22 &  1.98 &  5.90 & -0.14 &  6.87 & 10.38683987 & 13.10561 &  3.06518579 & 3.443053 & GS\\_SA\\\\\n",
       "\t 92548 & 0 & 555576153 & Flooded Grasslands \\& Savannas & Pantanal & 13871 & GS & SA &  1018444523 & GEDI02\\_A\\_2019300171956\\_O04950\\_04\\_T04703\\_02\\_003\\_01\\_V002.h5 & ⋯ &  6.91 &  0.93 &  4.33 & -1.00 &  5.45 &  5.77645206 & 13.10732 &  2.28583908 & 3.443278 & GS\\_SA\\\\\n",
       "\t 92549 & 0 & 555576153 & Flooded Grasslands \\& Savannas & Pantanal & 13871 & GS & SA &  1018444520 & GEDI02\\_A\\_2019300171956\\_O04950\\_04\\_T04703\\_02\\_003\\_01\\_V002.h5 & ⋯ &  2.09 & -0.37 &  0.85 & -1.27 &  1.34 &  0.00000000 & 13.12586 & -0.23892234 & 3.445712 & GS\\_SA\\\\\n",
       "\t 92550 & 0 & 555576153 & Flooded Grasslands \\& Savannas & Pantanal & 13795 & GS & SA &  1018444518 & GEDI02\\_A\\_2019300171956\\_O04950\\_04\\_T04703\\_02\\_003\\_01\\_V002.h5 & ⋯ &  1.75 & -0.48 &  0.67 & -1.49 &  1.12 &  0.00000000 & 13.12749 & -0.42048010 & 3.445926 & GS\\_SA\\\\\n",
       "\t 92551 & 0 & 555576153 & Flooded Grasslands \\& Savannas & Pantanal & 13795 & GS & SA &  1018444517 & GEDI02\\_A\\_2019300171956\\_O04950\\_04\\_T04703\\_02\\_003\\_01\\_V002.h5 & ⋯ &  3.47 &  0.03 &  1.71 & -0.97 &  2.46 &  0.28758055 & 13.11905 &  0.51002896 & 3.444817 & GS\\_SA\\\\\n",
       "\t 92552 & 0 & 555576153 & Flooded Grasslands \\& Savannas & Pantanal & 13795 & GS & SA &  1018444515 & GEDI02\\_A\\_2019300171956\\_O04950\\_04\\_T04703\\_02\\_003\\_01\\_V002.h5 & ⋯ &  2.76 & -0.26 &  1.19 & -1.38 &  1.83 &  0.04621821 & 13.12097 &  0.20446625 & 3.445070 & GS\\_SA\\\\\n",
       "\t 92553 & 0 & 555576153 & Flooded Grasslands \\& Savannas & Pantanal & 13795 & GS & SA &  1018444513 & GEDI02\\_A\\_2019300171956\\_O04950\\_04\\_T04703\\_02\\_003\\_01\\_V002.h5 & ⋯ &  2.13 & -0.52 &  0.78 & -1.60 &  1.34 &  0.00000000 & 13.12570 & -0.27219364 & 3.445691 & GS\\_SA\\\\\n",
       "\t 92554 & 0 & 555576153 & Flooded Grasslands \\& Savannas & Pantanal & 13795 & GS & SA &  1018444511 & GEDI02\\_A\\_2019300171956\\_O04950\\_04\\_T04703\\_02\\_003\\_01\\_V002.h5 & ⋯ &  2.28 & -0.33 &  0.85 & -1.23 &  1.42 &  0.00000000 & 13.12454 & -0.14033091 & 3.445538 & GS\\_SA\\\\\n",
       "\t 92555 & 0 & 555576153 & Flooded Grasslands \\& Savannas & Pantanal & 13795 & GS & SA &  1018444506 & GEDI02\\_A\\_2019300171956\\_O04950\\_04\\_T04703\\_02\\_003\\_01\\_V002.h5 & ⋯ &  3.32 & -0.78 &  1.34 & -2.54 &  2.20 &  0.04704282 & 13.11966 &  0.20628220 & 3.444898 & GS\\_SA\\\\\n",
       "\t 92556 & 0 & 555576153 & Flooded Grasslands \\& Savannas & Pantanal & 13795 & GS & SA &  1018444503 & GEDI02\\_A\\_2019300171956\\_O04950\\_04\\_T04703\\_02\\_003\\_01\\_V002.h5 & ⋯ &  2.35 & -0.41 &  0.93 & -1.42 &  1.49 &  0.00000000 & 13.12372 & -0.07796343 & 3.445431 & GS\\_SA\\\\\n",
       "\t 92557 & 0 & 555576153 & Flooded Grasslands \\& Savannas & Pantanal & 13795 & GS & SA &  1018444499 & GEDI02\\_A\\_2019300171956\\_O04950\\_04\\_T04703\\_02\\_003\\_01\\_V002.h5 & ⋯ &  2.87 & -0.29 &  1.19 & -1.45 &  1.83 &  0.05703126 & 13.12048 &  0.22712846 & 3.445006 & GS\\_SA\\\\\n",
       "\t 92939 & 0 & 555576153 & Flooded Grasslands \\& Savannas & Pantanal & 13871 & GS & SA & -2060765514 & GEDI02\\_A\\_2019300171956\\_O04950\\_04\\_T04703\\_02\\_003\\_01\\_V002.h5 & ⋯ &  3.96 & -0.11 &  1.79 & -1.38 &  2.72 &  0.35692474 & 13.11796 &  0.56820285 & 3.444675 & GS\\_SA\\\\\n",
       "\t 92940 & 0 & 555576153 & Flooded Grasslands \\& Savannas & Pantanal & 13871 & GS & SA & -2060765515 & GEDI02\\_A\\_2019300171956\\_O04950\\_04\\_T04703\\_02\\_003\\_01\\_V002.h5 & ⋯ &  2.91 & -0.14 &  1.27 & -1.12 &  1.98 &  0.01857183 & 13.12234 &  0.12961118 & 3.445251 & GS\\_SA\\\\\n",
       "\t 92941 & 0 & 555576153 & Flooded Grasslands \\& Savannas & Pantanal & 13871 & GS & SA & -2060765517 & GEDI02\\_A\\_2019300171956\\_O04950\\_04\\_T04703\\_02\\_003\\_01\\_V002.h5 & ⋯ &  3.43 &  0.03 &  1.60 & -0.93 &  2.39 &  0.19967012 & 13.11986 &  0.42498305 & 3.444924 & GS\\_SA\\\\\n",
       "\t 92942 & 0 & 555576153 & Flooded Grasslands \\& Savannas & Pantanal & 13871 & GS & SA & -2060765518 & GEDI02\\_A\\_2019300171956\\_O04950\\_04\\_T04703\\_02\\_003\\_01\\_V002.h5 & ⋯ &  3.32 & -0.14 &  1.38 & -1.19 &  2.12 &  0.13452926 & 13.11979 &  0.34883773 & 3.444915 & GS\\_SA\\\\\n",
       "\t 92943 & 0 & 555576153 & Flooded Grasslands \\& Savannas & Pantanal & 13871 & GS & SA & -2060765520 & GEDI02\\_A\\_2019300171956\\_O04950\\_04\\_T04703\\_02\\_003\\_01\\_V002.h5 & ⋯ &  2.87 & -0.22 &  1.41 & -1.34 &  2.01 &  0.04081770 & 13.12194 &  0.19214953 & 3.445198 & GS\\_SA\\\\\n",
       "\t 92944 & 0 & 555576153 & Flooded Grasslands \\& Savannas & Pantanal & 13871 & GS & SA & -2060765523 & GEDI02\\_A\\_2019300171956\\_O04950\\_04\\_T04703\\_02\\_003\\_01\\_V002.h5 & ⋯ &  3.84 &  0.00 &  1.98 & -1.38 &  2.76 &  0.64636672 & 13.11664 &  0.76463568 & 3.444501 & GS\\_SA\\\\\n",
       "\t 92945 & 0 & 555576153 & Flooded Grasslands \\& Savannas & Pantanal & 13871 & GS & SA & -2060765525 & GEDI02\\_A\\_2019300171956\\_O04950\\_04\\_T04703\\_02\\_003\\_01\\_V002.h5 & ⋯ &  4.07 &  0.03 &  2.09 & -1.27 &  2.95 &  0.53106922 & 13.11745 &  0.69309163 & 3.444608 & GS\\_SA\\\\\n",
       "\t 92946 & 0 & 555576153 & Flooded Grasslands \\& Savannas & Pantanal & 13871 & GS & SA & -2060765526 & GEDI02\\_A\\_2019300171956\\_O04950\\_04\\_T04703\\_02\\_003\\_01\\_V002.h5 & ⋯ &  3.40 & -0.11 &  1.56 & -1.27 &  2.31 &  0.16683048 & 13.11973 &  0.38846579 & 3.444907 & GS\\_SA\\\\\n",
       "\t 92947 & 0 & 555576153 & Flooded Grasslands \\& Savannas & Pantanal & 13795 & GS & SA & -2060765545 & GEDI02\\_A\\_2019300171956\\_O04950\\_04\\_T04703\\_02\\_003\\_01\\_V002.h5 & ⋯ & 15.95 &  5.23 & 10.53 &  1.56 & 13.15 & 61.93115616 & 13.08976 &  7.48461866 & 3.440970 & GS\\_SA\\\\\n",
       "\t 94405 & 0 & 555576153 & Flooded Grasslands \\& Savannas & Pantanal & 13589 & GS & SA &  1586485707 & GEDI02\\_A\\_2019300171956\\_O04950\\_04\\_T04703\\_02\\_003\\_01\\_V002.h5 & ⋯ &  1.64 & -0.63 &  0.56 & -1.64 &  1.04 &  0.00000000 & 13.12852 & -0.54283720 & 3.446061 & GS\\_SA\\\\\n",
       "\t 94406 & 0 & 555576153 & Flooded Grasslands \\& Savannas & Pantanal & 13589 & GS & SA &  1586485706 & GEDI02\\_A\\_2019300171956\\_O04950\\_04\\_T04703\\_02\\_003\\_01\\_V002.h5 & ⋯ &  1.71 & -0.63 &  0.59 & -1.60 &  1.08 &  0.00000000 & 13.12768 & -0.48347268 & 3.445951 & GS\\_SA\\\\\n",
       "\t 94407 & 0 & 555576153 & Flooded Grasslands \\& Savannas & Pantanal & 13589 & GS & SA &  1586485705 & GEDI02\\_A\\_2019300171956\\_O04950\\_04\\_T04703\\_02\\_003\\_01\\_V002.h5 & ⋯ &  1.71 & -0.59 &  0.63 & -1.56 &  1.08 &  0.00000000 & 13.12826 & -0.50642431 & 3.446027 & GS\\_SA\\\\\n",
       "\t 94408 & 0 & 555576153 & Flooded Grasslands \\& Savannas & Pantanal & 13589 & GS & SA &  1586485704 & GEDI02\\_A\\_2019300171956\\_O04950\\_04\\_T04703\\_02\\_003\\_01\\_V002.h5 & ⋯ &  1.71 & -0.59 &  0.59 & -1.56 &  1.08 &  0.00000000 & 13.12826 & -0.50642431 & 3.446027 & GS\\_SA\\\\\n",
       "\t 94409 & 0 & 555576153 & Flooded Grasslands \\& Savannas & Pantanal & 13589 & GS & SA &  1586485703 & GEDI02\\_A\\_2019300171956\\_O04950\\_04\\_T04703\\_02\\_003\\_01\\_V002.h5 & ⋯ &  1.60 & -0.67 &  0.52 & -1.71 &  1.00 &  0.00000000 & 13.12882 & -0.58256137 & 3.446101 & GS\\_SA\\\\\n",
       "\t 94410 & 0 & 555576153 & Flooded Grasslands \\& Savannas & Pantanal & 13589 & GS & SA &  1586485702 & GEDI02\\_A\\_2019300171956\\_O04950\\_04\\_T04703\\_02\\_003\\_01\\_V002.h5 & ⋯ &  1.64 & -0.63 &  0.56 & -1.60 &  1.00 &  0.00000000 & 13.12852 & -0.54283720 & 3.446061 & GS\\_SA\\\\\n",
       "\t 94411 & 0 & 555576153 & Flooded Grasslands \\& Savannas & Pantanal & 13589 & GS & SA &  1586485701 & GEDI02\\_A\\_2019300171956\\_O04950\\_04\\_T04703\\_02\\_003\\_01\\_V002.h5 & ⋯ &  1.64 & -0.63 &  0.56 & -1.60 &  1.04 &  0.00000000 & 13.12870 & -0.55603641 & 3.446085 & GS\\_SA\\\\\n",
       "\t ⋮ & ⋮ & ⋮ & ⋮ & ⋮ & ⋮ & ⋮ & ⋮ & ⋮ & ⋮ & ⋱ & ⋮ & ⋮ & ⋮ & ⋮ & ⋮ & ⋮ & ⋮ & ⋮ & ⋮ & ⋮\\\\\n",
       "\t 490660 & 0 & 555576153 & Flooded Grasslands \\& Savannas & Pantanal & 13795 & GS & SA &   744224857 & GEDI02\\_A\\_2022183013025\\_O20117\\_01\\_T11259\\_02\\_003\\_03\\_V002.h5 & ⋯ &  6.83 &  2.12 &  4.77 & -0.33 &  5.67 &  6.23182964 & 13.11092 &  2.37423038 & 3.443750 & GS\\_SA\\\\\n",
       "\t 490661 & 0 & 555576153 & Flooded Grasslands \\& Savannas & Pantanal & 13795 & GS & SA &   744224858 & GEDI02\\_A\\_2022183013025\\_O20117\\_01\\_T11259\\_02\\_003\\_03\\_V002.h5 & ⋯ &  4.85 &  0.18 &  2.20 & -1.08 &  3.28 &  2.14746618 & 13.11080 &  1.39372873 & 3.443735 & GS\\_SA\\\\\n",
       "\t 490662 & 0 & 555576153 & Flooded Grasslands \\& Savannas & Pantanal & 13795 & GS & SA &   744224859 & GEDI02\\_A\\_2022183013025\\_O20117\\_01\\_T11259\\_02\\_003\\_03\\_V002.h5 & ⋯ &  4.18 & -0.11 &  1.86 & -1.41 &  2.72 &  0.70634979 & 13.11556 &  0.79932791 & 3.444360 & GS\\_SA\\\\\n",
       "\t 490663 & 0 & 555576153 & Flooded Grasslands \\& Savannas & Pantanal & 13795 & GS & SA &   744224861 & GEDI02\\_A\\_2022183013025\\_O20117\\_01\\_T11259\\_02\\_003\\_03\\_V002.h5 & ⋯ &  6.49 &  0.63 &  3.47 & -0.78 &  5.00 &  3.32483292 & 13.10992 &  1.73420322 & 3.443619 & GS\\_SA\\\\\n",
       "\t 491189 & 0 & 555576153 & Flooded Grasslands \\& Savannas & Pantanal & 13871 & GS & SA &  1959976070 & GEDI02\\_A\\_2022183013025\\_O20117\\_01\\_T11259\\_02\\_003\\_03\\_V002.h5 & ⋯ &  2.31 & -0.29 &  0.97 & -1.26 &  1.53 &  0.00000000 & 13.12530 & -0.17959137 & 3.445638 & GS\\_SA\\\\\n",
       "\t 491190 & 0 & 555576153 & Flooded Grasslands \\& Savannas & Pantanal & 13871 & GS & SA &  1959976072 & GEDI02\\_A\\_2022183013025\\_O20117\\_01\\_T11259\\_02\\_003\\_03\\_V002.h5 & ⋯ &  3.84 &  0.22 &  2.05 & -1.00 &  2.79 &  0.51265645 & 13.11834 &  0.68097049 & 3.444725 & GS\\_SA\\\\\n",
       "\t 491191 & 0 & 555576153 & Flooded Grasslands \\& Savannas & Pantanal & 13871 & GS & SA &  1959976075 & GEDI02\\_A\\_2022183013025\\_O20117\\_01\\_T11259\\_02\\_003\\_03\\_V002.h5 & ⋯ &  2.87 & -0.26 &  1.30 & -1.41 &  1.94 &  0.03025242 & 13.12167 &  0.16542272 & 3.445162 & GS\\_SA\\\\\n",
       "\t 491192 & 0 & 555576153 & Flooded Grasslands \\& Savannas & Pantanal & 13871 & GS & SA &  1959976076 & GEDI02\\_A\\_2022183013025\\_O20117\\_01\\_T11259\\_02\\_003\\_03\\_V002.h5 & ⋯ &  2.23 & -0.33 &  0.89 & -1.23 &  1.45 &  0.00000000 & 13.12530 & -0.17959137 & 3.445638 & GS\\_SA\\\\\n",
       "\t 491193 & 0 & 555576153 & Flooded Grasslands \\& Savannas & Pantanal & 13871 & GS & SA &  1959976078 & GEDI02\\_A\\_2022183013025\\_O20117\\_01\\_T11259\\_02\\_003\\_03\\_V002.h5 & ⋯ &  2.16 & -0.33 &  0.93 & -1.23 &  1.45 &  0.00000000 & 13.12628 & -0.25193369 & 3.445767 & GS\\_SA\\\\\n",
       "\t 491194 & 0 & 555576153 & Flooded Grasslands \\& Savannas & Pantanal & 13871 & GS & SA &  1959976079 & GEDI02\\_A\\_2022183013025\\_O20117\\_01\\_T11259\\_02\\_003\\_03\\_V002.h5 & ⋯ &  2.31 & -0.33 &  0.89 & -1.26 &  1.49 &  0.00000000 & 13.12335 & -0.03185751 & 3.445382 & GS\\_SA\\\\\n",
       "\t 491195 & 0 & 555576153 & Flooded Grasslands \\& Savannas & Pantanal & 13871 & GS & SA &  1959976080 & GEDI02\\_A\\_2022183013025\\_O20117\\_01\\_T11259\\_02\\_003\\_03\\_V002.h5 & ⋯ &  5.67 &  0.26 &  2.79 & -1.19 &  4.06 &  2.71171808 & 13.10989 &  1.56616437 & 3.443615 & GS\\_SA\\\\\n",
       "\t 491196 & 0 & 555576153 & Flooded Grasslands \\& Savannas & Pantanal & 13871 & GS & SA &  1959976081 & GEDI02\\_A\\_2022183013025\\_O20117\\_01\\_T11259\\_02\\_003\\_03\\_V002.h5 & ⋯ & 12.09 &  7.31 & 10.19 &  3.21 & 11.04 & 37.09879684 & 13.10021 &  5.79288626 & 3.442343 & GS\\_SA\\\\\n",
       "\t 500652 & 0 & 555576153 & Flooded Grasslands \\& Savannas & Pantanal & 13795 & GS & SA &     4369788 & GEDI02\\_A\\_2022198081537\\_O20354\\_04\\_T07549\\_02\\_003\\_03\\_V002.h5 & ⋯ &  6.12 &  2.76 &  4.44 &  0.78 &  5.15 &  4.52782393 & 13.11476 &  2.02376390 & 3.444254 & GS\\_SA\\\\\n",
       "\t 501133 & 0 & 555576153 & Flooded Grasslands \\& Savannas & Pantanal & 13589 & GS & SA & -1859639485 & GEDI02\\_A\\_2022198081537\\_O20354\\_04\\_T07549\\_02\\_003\\_03\\_V002.h5 & ⋯ &  1.79 & -0.63 &  0.63 & -1.71 &  1.11 &  0.00000000 & 13.12736 & -0.46040049 & 3.445909 & GS\\_SA\\\\\n",
       "\t 501134 & 0 & 555576153 & Flooded Grasslands \\& Savannas & Pantanal & 13589 & GS & SA & -1859639486 & GEDI02\\_A\\_2022198081537\\_O20354\\_04\\_T07549\\_02\\_003\\_03\\_V002.h5 & ⋯ &  1.79 & -0.59 &  0.63 & -1.64 &  1.11 &  0.00000000 & 13.12756 & -0.45696709 & 3.445935 & GS\\_SA\\\\\n",
       "\t 501135 & 0 & 555576153 & Flooded Grasslands \\& Savannas & Pantanal & 13589 & GS & SA & -1859639487 & GEDI02\\_A\\_2022198081537\\_O20354\\_04\\_T07549\\_02\\_003\\_03\\_V002.h5 & ⋯ &  1.75 & -0.70 &  0.59 & -1.82 &  1.08 &  0.00000000 & 13.12743 & -0.48361078 & 3.445919 & GS\\_SA\\\\\n",
       "\t 501136 & 0 & 555576153 & Flooded Grasslands \\& Savannas & Pantanal & 13589 & GS & SA & -1859639488 & GEDI02\\_A\\_2022198081537\\_O20354\\_04\\_T07549\\_02\\_003\\_03\\_V002.h5 & ⋯ &  1.75 & -0.67 &  0.59 & -1.75 &  1.08 &  0.00000000 & 13.12762 & -0.49679586 & 3.445943 & GS\\_SA\\\\\n",
       "\t 501729 & 0 & 555576153 & Flooded Grasslands \\& Savannas & Pantanal & 13589 & GS & SA &  1787611891 & GEDI02\\_A\\_2022198081537\\_O20354\\_04\\_T07549\\_02\\_003\\_03\\_V002.h5 & ⋯ &  1.79 & -0.59 &  0.63 & -1.64 &  1.11 &  0.00000000 & 13.12756 & -0.45696709 & 3.445935 & GS\\_SA\\\\\n",
       "\t 501730 & 0 & 555576153 & Flooded Grasslands \\& Savannas & Pantanal & 13589 & GS & SA &  1787611890 & GEDI02\\_A\\_2022198081537\\_O20354\\_04\\_T07549\\_02\\_003\\_03\\_V002.h5 & ⋯ &  1.79 & -0.63 &  0.63 & -1.67 &  1.11 &  0.00000000 & 13.12736 & -0.46040049 & 3.445909 & GS\\_SA\\\\\n",
       "\t 501731 & 0 & 555576153 & Flooded Grasslands \\& Savannas & Pantanal & 13589 & GS & SA &  1787611889 & GEDI02\\_A\\_2022198081537\\_O20354\\_04\\_T07549\\_02\\_003\\_03\\_V002.h5 & ⋯ &  1.75 & -0.63 &  0.63 & -1.64 &  1.11 &  0.00000000 & 13.12768 & -0.48347268 & 3.445951 & GS\\_SA\\\\\n",
       "\t 501732 & 0 & 555576153 & Flooded Grasslands \\& Savannas & Pantanal & 13589 & GS & SA &  1787611888 & GEDI02\\_A\\_2022198081537\\_O20354\\_04\\_T07549\\_02\\_003\\_03\\_V002.h5 & ⋯ &  1.71 & -0.63 &  0.59 & -1.67 &  1.08 &  0.00000000 & 13.12805 & -0.50985050 & 3.445999 & GS\\_SA\\\\\n",
       "\t 501733 & 0 & 555576153 & Flooded Grasslands \\& Savannas & Pantanal & 13589 & GS & SA &  1787611887 & GEDI02\\_A\\_2022198081537\\_O20354\\_04\\_T07549\\_02\\_003\\_03\\_V002.h5 & ⋯ &  1.75 & -0.63 &  0.59 & -1.64 &  1.08 &  0.00000000 & 13.12787 & -0.49666032 & 3.445975 & GS\\_SA\\\\\n",
       "\t 501734 & 0 & 555576153 & Flooded Grasslands \\& Savannas & Pantanal & 13589 & GS & SA &  1787611886 & GEDI02\\_A\\_2022198081537\\_O20354\\_04\\_T07549\\_02\\_003\\_03\\_V002.h5 & ⋯ &  1.71 & -0.59 &  0.59 & -1.56 &  1.08 &  0.00000000 & 13.12826 & -0.50642431 & 3.446027 & GS\\_SA\\\\\n",
       "\t 501735 & 0 & 555576153 & Flooded Grasslands \\& Savannas & Pantanal & 13589 & GS & SA &  1787611885 & GEDI02\\_A\\_2022198081537\\_O20354\\_04\\_T07549\\_02\\_003\\_03\\_V002.h5 & ⋯ &  1.79 & -0.63 &  0.63 & -1.67 &  1.11 &  0.00000000 & 13.12775 & -0.47015217 & 3.445960 & GS\\_SA\\\\\n",
       "\t 501736 & 0 & 555576153 & Flooded Grasslands \\& Savannas & Pantanal & 13589 & GS & SA &  1787611878 & GEDI02\\_A\\_2022198081537\\_O20354\\_04\\_T07549\\_02\\_003\\_03\\_V002.h5 & ⋯ &  1.67 & -0.63 &  0.59 & -1.71 &  1.04 &  0.00000000 & 13.12819 & -0.51974481 & 3.446018 & GS\\_SA\\\\\n",
       "\t 501737 & 0 & 555576153 & Flooded Grasslands \\& Savannas & Pantanal & 13589 & GS & SA &  1787611877 & GEDI02\\_A\\_2022198081537\\_O20354\\_04\\_T07549\\_02\\_003\\_03\\_V002.h5 & ⋯ &  1.71 & -0.67 &  0.55 & -1.75 &  1.04 &  0.00000000 & 13.12798 & -0.52317369 & 3.445991 & GS\\_SA\\\\\n",
       "\t 501738 & 0 & 555576153 & Flooded Grasslands \\& Savannas & Pantanal & 13589 & GS & SA &  1787611876 & GEDI02\\_A\\_2022198081537\\_O20354\\_04\\_T07549\\_02\\_003\\_03\\_V002.h5 & ⋯ &  1.75 & -0.59 &  0.63 & -1.64 &  1.11 &  0.00000000 & 13.12775 & -0.47015217 & 3.445960 & GS\\_SA\\\\\n",
       "\t 501739 & 0 & 555576153 & Flooded Grasslands \\& Savannas & Pantanal & 13589 & GS & SA &  1787611874 & GEDI02\\_A\\_2022198081537\\_O20354\\_04\\_T07549\\_02\\_003\\_03\\_V002.h5 & ⋯ &  1.90 & -0.74 &  0.63 & -1.97 &  1.19 &  0.00000000 & 13.12657 & -0.43430379 & 3.445806 & GS\\_SA\\\\\n",
       "\t 501740 & 0 & 555576153 & Flooded Grasslands \\& Savannas & Pantanal & 13589 & GS & SA &  1787611873 & GEDI02\\_A\\_2022198081537\\_O20354\\_04\\_T07549\\_02\\_003\\_03\\_V002.h5 & ⋯ &  2.09 & -0.59 &  0.78 & -1.71 &  1.30 &  0.00000000 & 13.12529 & -0.27247599 & 3.445637 & GS\\_SA\\\\\n",
       "\t 501741 & 0 & 555576153 & Flooded Grasslands \\& Savannas & Pantanal & 13589 & GS & SA &  1787611872 & GEDI02\\_A\\_2022198081537\\_O20354\\_04\\_T07549\\_02\\_003\\_03\\_V002.h5 & ⋯ &  1.71 & -0.67 &  0.59 & -1.75 &  1.08 &  0.00000000 & 13.12798 & -0.52317369 & 3.445991 & GS\\_SA\\\\\n",
       "\\end{tabular}\n"
      ],
      "text/markdown": [
       "\n",
       "A data.frame: 113561 × 30\n",
       "\n",
       "| ID &lt;dbl&gt; | status &lt;dbl&gt; | pa_id &lt;dbl&gt; | wwfbiom &lt;fct&gt; | wwfecoreg &lt;fct&gt; | UID &lt;dbl&gt; | pft &lt;fct&gt; | region &lt;fct&gt; | shot_number &lt;int&gt; | filename &lt;chr&gt; | ⋯ ⋯ | rh90 &lt;dbl&gt; | rh40 &lt;dbl&gt; | rh70 &lt;dbl&gt; | rh20 &lt;dbl&gt; | rh80 &lt;dbl&gt; | agbd &lt;dbl&gt; | agbd_se &lt;dbl&gt; | agbd_t &lt;dbl&gt; | agbd_t_se &lt;dbl&gt; | stratum &lt;chr&gt; |\n",
       "|---|---|---|---|---|---|---|---|---|---|---|---|---|---|---|---|---|---|---|---|---|\n",
       "| 92207 | 0 | 555576153 | Flooded Grasslands &amp; Savannas | Pantanal | 13795 | GS | SA |  -197302931 | GEDI02_A_2019300171956_O04950_04_T04703_02_003_01_V002.h5 | ⋯ |  3.40 | -0.14 |  1.30 | -1.08 |  2.13 |  0.13692378 | 13.11960 |  0.35192856 | 3.444890 | GS_SA |\n",
       "| 92208 | 0 | 555576153 | Flooded Grasslands &amp; Savannas | Pantanal | 13795 | GS | SA |  -197302934 | GEDI02_A_2019300171956_O04950_04_T04703_02_003_01_V002.h5 | ⋯ |  4.44 |  0.29 |  2.65 | -1.00 |  3.47 |  0.87663150 | 13.11700 |  0.89047885 | 3.444548 | GS_SA |\n",
       "| 92209 | 0 | 555576153 | Flooded Grasslands &amp; Savannas | Pantanal | 13795 | GS | SA |  -197302935 | GEDI02_A_2019300171956_O04950_04_T04703_02_003_01_V002.h5 | ⋯ |  4.29 |  0.14 |  2.13 | -0.97 |  3.06 |  0.69153291 | 13.11653 |  0.79089987 | 3.444487 | GS_SA |\n",
       "| 92547 | 0 | 555576153 | Flooded Grasslands &amp; Savannas | Pantanal | 13871 | GS | SA |  1018444524 | GEDI02_A_2019300171956_O04950_04_T04703_02_003_01_V002.h5 | ⋯ |  8.22 |  1.98 |  5.90 | -0.14 |  6.87 | 10.38683987 | 13.10561 |  3.06518579 | 3.443053 | GS_SA |\n",
       "| 92548 | 0 | 555576153 | Flooded Grasslands &amp; Savannas | Pantanal | 13871 | GS | SA |  1018444523 | GEDI02_A_2019300171956_O04950_04_T04703_02_003_01_V002.h5 | ⋯ |  6.91 |  0.93 |  4.33 | -1.00 |  5.45 |  5.77645206 | 13.10732 |  2.28583908 | 3.443278 | GS_SA |\n",
       "| 92549 | 0 | 555576153 | Flooded Grasslands &amp; Savannas | Pantanal | 13871 | GS | SA |  1018444520 | GEDI02_A_2019300171956_O04950_04_T04703_02_003_01_V002.h5 | ⋯ |  2.09 | -0.37 |  0.85 | -1.27 |  1.34 |  0.00000000 | 13.12586 | -0.23892234 | 3.445712 | GS_SA |\n",
       "| 92550 | 0 | 555576153 | Flooded Grasslands &amp; Savannas | Pantanal | 13795 | GS | SA |  1018444518 | GEDI02_A_2019300171956_O04950_04_T04703_02_003_01_V002.h5 | ⋯ |  1.75 | -0.48 |  0.67 | -1.49 |  1.12 |  0.00000000 | 13.12749 | -0.42048010 | 3.445926 | GS_SA |\n",
       "| 92551 | 0 | 555576153 | Flooded Grasslands &amp; Savannas | Pantanal | 13795 | GS | SA |  1018444517 | GEDI02_A_2019300171956_O04950_04_T04703_02_003_01_V002.h5 | ⋯ |  3.47 |  0.03 |  1.71 | -0.97 |  2.46 |  0.28758055 | 13.11905 |  0.51002896 | 3.444817 | GS_SA |\n",
       "| 92552 | 0 | 555576153 | Flooded Grasslands &amp; Savannas | Pantanal | 13795 | GS | SA |  1018444515 | GEDI02_A_2019300171956_O04950_04_T04703_02_003_01_V002.h5 | ⋯ |  2.76 | -0.26 |  1.19 | -1.38 |  1.83 |  0.04621821 | 13.12097 |  0.20446625 | 3.445070 | GS_SA |\n",
       "| 92553 | 0 | 555576153 | Flooded Grasslands &amp; Savannas | Pantanal | 13795 | GS | SA |  1018444513 | GEDI02_A_2019300171956_O04950_04_T04703_02_003_01_V002.h5 | ⋯ |  2.13 | -0.52 |  0.78 | -1.60 |  1.34 |  0.00000000 | 13.12570 | -0.27219364 | 3.445691 | GS_SA |\n",
       "| 92554 | 0 | 555576153 | Flooded Grasslands &amp; Savannas | Pantanal | 13795 | GS | SA |  1018444511 | GEDI02_A_2019300171956_O04950_04_T04703_02_003_01_V002.h5 | ⋯ |  2.28 | -0.33 |  0.85 | -1.23 |  1.42 |  0.00000000 | 13.12454 | -0.14033091 | 3.445538 | GS_SA |\n",
       "| 92555 | 0 | 555576153 | Flooded Grasslands &amp; Savannas | Pantanal | 13795 | GS | SA |  1018444506 | GEDI02_A_2019300171956_O04950_04_T04703_02_003_01_V002.h5 | ⋯ |  3.32 | -0.78 |  1.34 | -2.54 |  2.20 |  0.04704282 | 13.11966 |  0.20628220 | 3.444898 | GS_SA |\n",
       "| 92556 | 0 | 555576153 | Flooded Grasslands &amp; Savannas | Pantanal | 13795 | GS | SA |  1018444503 | GEDI02_A_2019300171956_O04950_04_T04703_02_003_01_V002.h5 | ⋯ |  2.35 | -0.41 |  0.93 | -1.42 |  1.49 |  0.00000000 | 13.12372 | -0.07796343 | 3.445431 | GS_SA |\n",
       "| 92557 | 0 | 555576153 | Flooded Grasslands &amp; Savannas | Pantanal | 13795 | GS | SA |  1018444499 | GEDI02_A_2019300171956_O04950_04_T04703_02_003_01_V002.h5 | ⋯ |  2.87 | -0.29 |  1.19 | -1.45 |  1.83 |  0.05703126 | 13.12048 |  0.22712846 | 3.445006 | GS_SA |\n",
       "| 92939 | 0 | 555576153 | Flooded Grasslands &amp; Savannas | Pantanal | 13871 | GS | SA | -2060765514 | GEDI02_A_2019300171956_O04950_04_T04703_02_003_01_V002.h5 | ⋯ |  3.96 | -0.11 |  1.79 | -1.38 |  2.72 |  0.35692474 | 13.11796 |  0.56820285 | 3.444675 | GS_SA |\n",
       "| 92940 | 0 | 555576153 | Flooded Grasslands &amp; Savannas | Pantanal | 13871 | GS | SA | -2060765515 | GEDI02_A_2019300171956_O04950_04_T04703_02_003_01_V002.h5 | ⋯ |  2.91 | -0.14 |  1.27 | -1.12 |  1.98 |  0.01857183 | 13.12234 |  0.12961118 | 3.445251 | GS_SA |\n",
       "| 92941 | 0 | 555576153 | Flooded Grasslands &amp; Savannas | Pantanal | 13871 | GS | SA | -2060765517 | GEDI02_A_2019300171956_O04950_04_T04703_02_003_01_V002.h5 | ⋯ |  3.43 |  0.03 |  1.60 | -0.93 |  2.39 |  0.19967012 | 13.11986 |  0.42498305 | 3.444924 | GS_SA |\n",
       "| 92942 | 0 | 555576153 | Flooded Grasslands &amp; Savannas | Pantanal | 13871 | GS | SA | -2060765518 | GEDI02_A_2019300171956_O04950_04_T04703_02_003_01_V002.h5 | ⋯ |  3.32 | -0.14 |  1.38 | -1.19 |  2.12 |  0.13452926 | 13.11979 |  0.34883773 | 3.444915 | GS_SA |\n",
       "| 92943 | 0 | 555576153 | Flooded Grasslands &amp; Savannas | Pantanal | 13871 | GS | SA | -2060765520 | GEDI02_A_2019300171956_O04950_04_T04703_02_003_01_V002.h5 | ⋯ |  2.87 | -0.22 |  1.41 | -1.34 |  2.01 |  0.04081770 | 13.12194 |  0.19214953 | 3.445198 | GS_SA |\n",
       "| 92944 | 0 | 555576153 | Flooded Grasslands &amp; Savannas | Pantanal | 13871 | GS | SA | -2060765523 | GEDI02_A_2019300171956_O04950_04_T04703_02_003_01_V002.h5 | ⋯ |  3.84 |  0.00 |  1.98 | -1.38 |  2.76 |  0.64636672 | 13.11664 |  0.76463568 | 3.444501 | GS_SA |\n",
       "| 92945 | 0 | 555576153 | Flooded Grasslands &amp; Savannas | Pantanal | 13871 | GS | SA | -2060765525 | GEDI02_A_2019300171956_O04950_04_T04703_02_003_01_V002.h5 | ⋯ |  4.07 |  0.03 |  2.09 | -1.27 |  2.95 |  0.53106922 | 13.11745 |  0.69309163 | 3.444608 | GS_SA |\n",
       "| 92946 | 0 | 555576153 | Flooded Grasslands &amp; Savannas | Pantanal | 13871 | GS | SA | -2060765526 | GEDI02_A_2019300171956_O04950_04_T04703_02_003_01_V002.h5 | ⋯ |  3.40 | -0.11 |  1.56 | -1.27 |  2.31 |  0.16683048 | 13.11973 |  0.38846579 | 3.444907 | GS_SA |\n",
       "| 92947 | 0 | 555576153 | Flooded Grasslands &amp; Savannas | Pantanal | 13795 | GS | SA | -2060765545 | GEDI02_A_2019300171956_O04950_04_T04703_02_003_01_V002.h5 | ⋯ | 15.95 |  5.23 | 10.53 |  1.56 | 13.15 | 61.93115616 | 13.08976 |  7.48461866 | 3.440970 | GS_SA |\n",
       "| 94405 | 0 | 555576153 | Flooded Grasslands &amp; Savannas | Pantanal | 13589 | GS | SA |  1586485707 | GEDI02_A_2019300171956_O04950_04_T04703_02_003_01_V002.h5 | ⋯ |  1.64 | -0.63 |  0.56 | -1.64 |  1.04 |  0.00000000 | 13.12852 | -0.54283720 | 3.446061 | GS_SA |\n",
       "| 94406 | 0 | 555576153 | Flooded Grasslands &amp; Savannas | Pantanal | 13589 | GS | SA |  1586485706 | GEDI02_A_2019300171956_O04950_04_T04703_02_003_01_V002.h5 | ⋯ |  1.71 | -0.63 |  0.59 | -1.60 |  1.08 |  0.00000000 | 13.12768 | -0.48347268 | 3.445951 | GS_SA |\n",
       "| 94407 | 0 | 555576153 | Flooded Grasslands &amp; Savannas | Pantanal | 13589 | GS | SA |  1586485705 | GEDI02_A_2019300171956_O04950_04_T04703_02_003_01_V002.h5 | ⋯ |  1.71 | -0.59 |  0.63 | -1.56 |  1.08 |  0.00000000 | 13.12826 | -0.50642431 | 3.446027 | GS_SA |\n",
       "| 94408 | 0 | 555576153 | Flooded Grasslands &amp; Savannas | Pantanal | 13589 | GS | SA |  1586485704 | GEDI02_A_2019300171956_O04950_04_T04703_02_003_01_V002.h5 | ⋯ |  1.71 | -0.59 |  0.59 | -1.56 |  1.08 |  0.00000000 | 13.12826 | -0.50642431 | 3.446027 | GS_SA |\n",
       "| 94409 | 0 | 555576153 | Flooded Grasslands &amp; Savannas | Pantanal | 13589 | GS | SA |  1586485703 | GEDI02_A_2019300171956_O04950_04_T04703_02_003_01_V002.h5 | ⋯ |  1.60 | -0.67 |  0.52 | -1.71 |  1.00 |  0.00000000 | 13.12882 | -0.58256137 | 3.446101 | GS_SA |\n",
       "| 94410 | 0 | 555576153 | Flooded Grasslands &amp; Savannas | Pantanal | 13589 | GS | SA |  1586485702 | GEDI02_A_2019300171956_O04950_04_T04703_02_003_01_V002.h5 | ⋯ |  1.64 | -0.63 |  0.56 | -1.60 |  1.00 |  0.00000000 | 13.12852 | -0.54283720 | 3.446061 | GS_SA |\n",
       "| 94411 | 0 | 555576153 | Flooded Grasslands &amp; Savannas | Pantanal | 13589 | GS | SA |  1586485701 | GEDI02_A_2019300171956_O04950_04_T04703_02_003_01_V002.h5 | ⋯ |  1.64 | -0.63 |  0.56 | -1.60 |  1.04 |  0.00000000 | 13.12870 | -0.55603641 | 3.446085 | GS_SA |\n",
       "| ⋮ | ⋮ | ⋮ | ⋮ | ⋮ | ⋮ | ⋮ | ⋮ | ⋮ | ⋮ | ⋱ | ⋮ | ⋮ | ⋮ | ⋮ | ⋮ | ⋮ | ⋮ | ⋮ | ⋮ | ⋮ |\n",
       "| 490660 | 0 | 555576153 | Flooded Grasslands &amp; Savannas | Pantanal | 13795 | GS | SA |   744224857 | GEDI02_A_2022183013025_O20117_01_T11259_02_003_03_V002.h5 | ⋯ |  6.83 |  2.12 |  4.77 | -0.33 |  5.67 |  6.23182964 | 13.11092 |  2.37423038 | 3.443750 | GS_SA |\n",
       "| 490661 | 0 | 555576153 | Flooded Grasslands &amp; Savannas | Pantanal | 13795 | GS | SA |   744224858 | GEDI02_A_2022183013025_O20117_01_T11259_02_003_03_V002.h5 | ⋯ |  4.85 |  0.18 |  2.20 | -1.08 |  3.28 |  2.14746618 | 13.11080 |  1.39372873 | 3.443735 | GS_SA |\n",
       "| 490662 | 0 | 555576153 | Flooded Grasslands &amp; Savannas | Pantanal | 13795 | GS | SA |   744224859 | GEDI02_A_2022183013025_O20117_01_T11259_02_003_03_V002.h5 | ⋯ |  4.18 | -0.11 |  1.86 | -1.41 |  2.72 |  0.70634979 | 13.11556 |  0.79932791 | 3.444360 | GS_SA |\n",
       "| 490663 | 0 | 555576153 | Flooded Grasslands &amp; Savannas | Pantanal | 13795 | GS | SA |   744224861 | GEDI02_A_2022183013025_O20117_01_T11259_02_003_03_V002.h5 | ⋯ |  6.49 |  0.63 |  3.47 | -0.78 |  5.00 |  3.32483292 | 13.10992 |  1.73420322 | 3.443619 | GS_SA |\n",
       "| 491189 | 0 | 555576153 | Flooded Grasslands &amp; Savannas | Pantanal | 13871 | GS | SA |  1959976070 | GEDI02_A_2022183013025_O20117_01_T11259_02_003_03_V002.h5 | ⋯ |  2.31 | -0.29 |  0.97 | -1.26 |  1.53 |  0.00000000 | 13.12530 | -0.17959137 | 3.445638 | GS_SA |\n",
       "| 491190 | 0 | 555576153 | Flooded Grasslands &amp; Savannas | Pantanal | 13871 | GS | SA |  1959976072 | GEDI02_A_2022183013025_O20117_01_T11259_02_003_03_V002.h5 | ⋯ |  3.84 |  0.22 |  2.05 | -1.00 |  2.79 |  0.51265645 | 13.11834 |  0.68097049 | 3.444725 | GS_SA |\n",
       "| 491191 | 0 | 555576153 | Flooded Grasslands &amp; Savannas | Pantanal | 13871 | GS | SA |  1959976075 | GEDI02_A_2022183013025_O20117_01_T11259_02_003_03_V002.h5 | ⋯ |  2.87 | -0.26 |  1.30 | -1.41 |  1.94 |  0.03025242 | 13.12167 |  0.16542272 | 3.445162 | GS_SA |\n",
       "| 491192 | 0 | 555576153 | Flooded Grasslands &amp; Savannas | Pantanal | 13871 | GS | SA |  1959976076 | GEDI02_A_2022183013025_O20117_01_T11259_02_003_03_V002.h5 | ⋯ |  2.23 | -0.33 |  0.89 | -1.23 |  1.45 |  0.00000000 | 13.12530 | -0.17959137 | 3.445638 | GS_SA |\n",
       "| 491193 | 0 | 555576153 | Flooded Grasslands &amp; Savannas | Pantanal | 13871 | GS | SA |  1959976078 | GEDI02_A_2022183013025_O20117_01_T11259_02_003_03_V002.h5 | ⋯ |  2.16 | -0.33 |  0.93 | -1.23 |  1.45 |  0.00000000 | 13.12628 | -0.25193369 | 3.445767 | GS_SA |\n",
       "| 491194 | 0 | 555576153 | Flooded Grasslands &amp; Savannas | Pantanal | 13871 | GS | SA |  1959976079 | GEDI02_A_2022183013025_O20117_01_T11259_02_003_03_V002.h5 | ⋯ |  2.31 | -0.33 |  0.89 | -1.26 |  1.49 |  0.00000000 | 13.12335 | -0.03185751 | 3.445382 | GS_SA |\n",
       "| 491195 | 0 | 555576153 | Flooded Grasslands &amp; Savannas | Pantanal | 13871 | GS | SA |  1959976080 | GEDI02_A_2022183013025_O20117_01_T11259_02_003_03_V002.h5 | ⋯ |  5.67 |  0.26 |  2.79 | -1.19 |  4.06 |  2.71171808 | 13.10989 |  1.56616437 | 3.443615 | GS_SA |\n",
       "| 491196 | 0 | 555576153 | Flooded Grasslands &amp; Savannas | Pantanal | 13871 | GS | SA |  1959976081 | GEDI02_A_2022183013025_O20117_01_T11259_02_003_03_V002.h5 | ⋯ | 12.09 |  7.31 | 10.19 |  3.21 | 11.04 | 37.09879684 | 13.10021 |  5.79288626 | 3.442343 | GS_SA |\n",
       "| 500652 | 0 | 555576153 | Flooded Grasslands &amp; Savannas | Pantanal | 13795 | GS | SA |     4369788 | GEDI02_A_2022198081537_O20354_04_T07549_02_003_03_V002.h5 | ⋯ |  6.12 |  2.76 |  4.44 |  0.78 |  5.15 |  4.52782393 | 13.11476 |  2.02376390 | 3.444254 | GS_SA |\n",
       "| 501133 | 0 | 555576153 | Flooded Grasslands &amp; Savannas | Pantanal | 13589 | GS | SA | -1859639485 | GEDI02_A_2022198081537_O20354_04_T07549_02_003_03_V002.h5 | ⋯ |  1.79 | -0.63 |  0.63 | -1.71 |  1.11 |  0.00000000 | 13.12736 | -0.46040049 | 3.445909 | GS_SA |\n",
       "| 501134 | 0 | 555576153 | Flooded Grasslands &amp; Savannas | Pantanal | 13589 | GS | SA | -1859639486 | GEDI02_A_2022198081537_O20354_04_T07549_02_003_03_V002.h5 | ⋯ |  1.79 | -0.59 |  0.63 | -1.64 |  1.11 |  0.00000000 | 13.12756 | -0.45696709 | 3.445935 | GS_SA |\n",
       "| 501135 | 0 | 555576153 | Flooded Grasslands &amp; Savannas | Pantanal | 13589 | GS | SA | -1859639487 | GEDI02_A_2022198081537_O20354_04_T07549_02_003_03_V002.h5 | ⋯ |  1.75 | -0.70 |  0.59 | -1.82 |  1.08 |  0.00000000 | 13.12743 | -0.48361078 | 3.445919 | GS_SA |\n",
       "| 501136 | 0 | 555576153 | Flooded Grasslands &amp; Savannas | Pantanal | 13589 | GS | SA | -1859639488 | GEDI02_A_2022198081537_O20354_04_T07549_02_003_03_V002.h5 | ⋯ |  1.75 | -0.67 |  0.59 | -1.75 |  1.08 |  0.00000000 | 13.12762 | -0.49679586 | 3.445943 | GS_SA |\n",
       "| 501729 | 0 | 555576153 | Flooded Grasslands &amp; Savannas | Pantanal | 13589 | GS | SA |  1787611891 | GEDI02_A_2022198081537_O20354_04_T07549_02_003_03_V002.h5 | ⋯ |  1.79 | -0.59 |  0.63 | -1.64 |  1.11 |  0.00000000 | 13.12756 | -0.45696709 | 3.445935 | GS_SA |\n",
       "| 501730 | 0 | 555576153 | Flooded Grasslands &amp; Savannas | Pantanal | 13589 | GS | SA |  1787611890 | GEDI02_A_2022198081537_O20354_04_T07549_02_003_03_V002.h5 | ⋯ |  1.79 | -0.63 |  0.63 | -1.67 |  1.11 |  0.00000000 | 13.12736 | -0.46040049 | 3.445909 | GS_SA |\n",
       "| 501731 | 0 | 555576153 | Flooded Grasslands &amp; Savannas | Pantanal | 13589 | GS | SA |  1787611889 | GEDI02_A_2022198081537_O20354_04_T07549_02_003_03_V002.h5 | ⋯ |  1.75 | -0.63 |  0.63 | -1.64 |  1.11 |  0.00000000 | 13.12768 | -0.48347268 | 3.445951 | GS_SA |\n",
       "| 501732 | 0 | 555576153 | Flooded Grasslands &amp; Savannas | Pantanal | 13589 | GS | SA |  1787611888 | GEDI02_A_2022198081537_O20354_04_T07549_02_003_03_V002.h5 | ⋯ |  1.71 | -0.63 |  0.59 | -1.67 |  1.08 |  0.00000000 | 13.12805 | -0.50985050 | 3.445999 | GS_SA |\n",
       "| 501733 | 0 | 555576153 | Flooded Grasslands &amp; Savannas | Pantanal | 13589 | GS | SA |  1787611887 | GEDI02_A_2022198081537_O20354_04_T07549_02_003_03_V002.h5 | ⋯ |  1.75 | -0.63 |  0.59 | -1.64 |  1.08 |  0.00000000 | 13.12787 | -0.49666032 | 3.445975 | GS_SA |\n",
       "| 501734 | 0 | 555576153 | Flooded Grasslands &amp; Savannas | Pantanal | 13589 | GS | SA |  1787611886 | GEDI02_A_2022198081537_O20354_04_T07549_02_003_03_V002.h5 | ⋯ |  1.71 | -0.59 |  0.59 | -1.56 |  1.08 |  0.00000000 | 13.12826 | -0.50642431 | 3.446027 | GS_SA |\n",
       "| 501735 | 0 | 555576153 | Flooded Grasslands &amp; Savannas | Pantanal | 13589 | GS | SA |  1787611885 | GEDI02_A_2022198081537_O20354_04_T07549_02_003_03_V002.h5 | ⋯ |  1.79 | -0.63 |  0.63 | -1.67 |  1.11 |  0.00000000 | 13.12775 | -0.47015217 | 3.445960 | GS_SA |\n",
       "| 501736 | 0 | 555576153 | Flooded Grasslands &amp; Savannas | Pantanal | 13589 | GS | SA |  1787611878 | GEDI02_A_2022198081537_O20354_04_T07549_02_003_03_V002.h5 | ⋯ |  1.67 | -0.63 |  0.59 | -1.71 |  1.04 |  0.00000000 | 13.12819 | -0.51974481 | 3.446018 | GS_SA |\n",
       "| 501737 | 0 | 555576153 | Flooded Grasslands &amp; Savannas | Pantanal | 13589 | GS | SA |  1787611877 | GEDI02_A_2022198081537_O20354_04_T07549_02_003_03_V002.h5 | ⋯ |  1.71 | -0.67 |  0.55 | -1.75 |  1.04 |  0.00000000 | 13.12798 | -0.52317369 | 3.445991 | GS_SA |\n",
       "| 501738 | 0 | 555576153 | Flooded Grasslands &amp; Savannas | Pantanal | 13589 | GS | SA |  1787611876 | GEDI02_A_2022198081537_O20354_04_T07549_02_003_03_V002.h5 | ⋯ |  1.75 | -0.59 |  0.63 | -1.64 |  1.11 |  0.00000000 | 13.12775 | -0.47015217 | 3.445960 | GS_SA |\n",
       "| 501739 | 0 | 555576153 | Flooded Grasslands &amp; Savannas | Pantanal | 13589 | GS | SA |  1787611874 | GEDI02_A_2022198081537_O20354_04_T07549_02_003_03_V002.h5 | ⋯ |  1.90 | -0.74 |  0.63 | -1.97 |  1.19 |  0.00000000 | 13.12657 | -0.43430379 | 3.445806 | GS_SA |\n",
       "| 501740 | 0 | 555576153 | Flooded Grasslands &amp; Savannas | Pantanal | 13589 | GS | SA |  1787611873 | GEDI02_A_2022198081537_O20354_04_T07549_02_003_03_V002.h5 | ⋯ |  2.09 | -0.59 |  0.78 | -1.71 |  1.30 |  0.00000000 | 13.12529 | -0.27247599 | 3.445637 | GS_SA |\n",
       "| 501741 | 0 | 555576153 | Flooded Grasslands &amp; Savannas | Pantanal | 13589 | GS | SA |  1787611872 | GEDI02_A_2022198081537_O20354_04_T07549_02_003_03_V002.h5 | ⋯ |  1.71 | -0.67 |  0.59 | -1.75 |  1.08 |  0.00000000 | 13.12798 | -0.52317369 | 3.445991 | GS_SA |\n",
       "\n"
      ],
      "text/plain": [
       "       ID     status pa_id     wwfbiom                       wwfecoreg UID  \n",
       "1      92207  0      555576153 Flooded Grasslands & Savannas Pantanal  13795\n",
       "2      92208  0      555576153 Flooded Grasslands & Savannas Pantanal  13795\n",
       "3      92209  0      555576153 Flooded Grasslands & Savannas Pantanal  13795\n",
       "4      92547  0      555576153 Flooded Grasslands & Savannas Pantanal  13871\n",
       "5      92548  0      555576153 Flooded Grasslands & Savannas Pantanal  13871\n",
       "6      92549  0      555576153 Flooded Grasslands & Savannas Pantanal  13871\n",
       "7      92550  0      555576153 Flooded Grasslands & Savannas Pantanal  13795\n",
       "8      92551  0      555576153 Flooded Grasslands & Savannas Pantanal  13795\n",
       "9      92552  0      555576153 Flooded Grasslands & Savannas Pantanal  13795\n",
       "10     92553  0      555576153 Flooded Grasslands & Savannas Pantanal  13795\n",
       "11     92554  0      555576153 Flooded Grasslands & Savannas Pantanal  13795\n",
       "12     92555  0      555576153 Flooded Grasslands & Savannas Pantanal  13795\n",
       "13     92556  0      555576153 Flooded Grasslands & Savannas Pantanal  13795\n",
       "14     92557  0      555576153 Flooded Grasslands & Savannas Pantanal  13795\n",
       "15     92939  0      555576153 Flooded Grasslands & Savannas Pantanal  13871\n",
       "16     92940  0      555576153 Flooded Grasslands & Savannas Pantanal  13871\n",
       "17     92941  0      555576153 Flooded Grasslands & Savannas Pantanal  13871\n",
       "18     92942  0      555576153 Flooded Grasslands & Savannas Pantanal  13871\n",
       "19     92943  0      555576153 Flooded Grasslands & Savannas Pantanal  13871\n",
       "20     92944  0      555576153 Flooded Grasslands & Savannas Pantanal  13871\n",
       "21     92945  0      555576153 Flooded Grasslands & Savannas Pantanal  13871\n",
       "22     92946  0      555576153 Flooded Grasslands & Savannas Pantanal  13871\n",
       "23     92947  0      555576153 Flooded Grasslands & Savannas Pantanal  13795\n",
       "24     94405  0      555576153 Flooded Grasslands & Savannas Pantanal  13589\n",
       "25     94406  0      555576153 Flooded Grasslands & Savannas Pantanal  13589\n",
       "26     94407  0      555576153 Flooded Grasslands & Savannas Pantanal  13589\n",
       "27     94408  0      555576153 Flooded Grasslands & Savannas Pantanal  13589\n",
       "28     94409  0      555576153 Flooded Grasslands & Savannas Pantanal  13589\n",
       "29     94410  0      555576153 Flooded Grasslands & Savannas Pantanal  13589\n",
       "30     94411  0      555576153 Flooded Grasslands & Savannas Pantanal  13589\n",
       "⋮      ⋮      ⋮      ⋮         ⋮                             ⋮         ⋮    \n",
       "113532 490660 0      555576153 Flooded Grasslands & Savannas Pantanal  13795\n",
       "113533 490661 0      555576153 Flooded Grasslands & Savannas Pantanal  13795\n",
       "113534 490662 0      555576153 Flooded Grasslands & Savannas Pantanal  13795\n",
       "113535 490663 0      555576153 Flooded Grasslands & Savannas Pantanal  13795\n",
       "113536 491189 0      555576153 Flooded Grasslands & Savannas Pantanal  13871\n",
       "113537 491190 0      555576153 Flooded Grasslands & Savannas Pantanal  13871\n",
       "113538 491191 0      555576153 Flooded Grasslands & Savannas Pantanal  13871\n",
       "113539 491192 0      555576153 Flooded Grasslands & Savannas Pantanal  13871\n",
       "113540 491193 0      555576153 Flooded Grasslands & Savannas Pantanal  13871\n",
       "113541 491194 0      555576153 Flooded Grasslands & Savannas Pantanal  13871\n",
       "113542 491195 0      555576153 Flooded Grasslands & Savannas Pantanal  13871\n",
       "113543 491196 0      555576153 Flooded Grasslands & Savannas Pantanal  13871\n",
       "113544 500652 0      555576153 Flooded Grasslands & Savannas Pantanal  13795\n",
       "113545 501133 0      555576153 Flooded Grasslands & Savannas Pantanal  13589\n",
       "113546 501134 0      555576153 Flooded Grasslands & Savannas Pantanal  13589\n",
       "113547 501135 0      555576153 Flooded Grasslands & Savannas Pantanal  13589\n",
       "113548 501136 0      555576153 Flooded Grasslands & Savannas Pantanal  13589\n",
       "113549 501729 0      555576153 Flooded Grasslands & Savannas Pantanal  13589\n",
       "113550 501730 0      555576153 Flooded Grasslands & Savannas Pantanal  13589\n",
       "113551 501731 0      555576153 Flooded Grasslands & Savannas Pantanal  13589\n",
       "113552 501732 0      555576153 Flooded Grasslands & Savannas Pantanal  13589\n",
       "113553 501733 0      555576153 Flooded Grasslands & Savannas Pantanal  13589\n",
       "113554 501734 0      555576153 Flooded Grasslands & Savannas Pantanal  13589\n",
       "113555 501735 0      555576153 Flooded Grasslands & Savannas Pantanal  13589\n",
       "113556 501736 0      555576153 Flooded Grasslands & Savannas Pantanal  13589\n",
       "113557 501737 0      555576153 Flooded Grasslands & Savannas Pantanal  13589\n",
       "113558 501738 0      555576153 Flooded Grasslands & Savannas Pantanal  13589\n",
       "113559 501739 0      555576153 Flooded Grasslands & Savannas Pantanal  13589\n",
       "113560 501740 0      555576153 Flooded Grasslands & Savannas Pantanal  13589\n",
       "113561 501741 0      555576153 Flooded Grasslands & Savannas Pantanal  13589\n",
       "       pft region shot_number\n",
       "1      GS  SA      -197302931\n",
       "2      GS  SA      -197302934\n",
       "3      GS  SA      -197302935\n",
       "4      GS  SA      1018444524\n",
       "5      GS  SA      1018444523\n",
       "6      GS  SA      1018444520\n",
       "7      GS  SA      1018444518\n",
       "8      GS  SA      1018444517\n",
       "9      GS  SA      1018444515\n",
       "10     GS  SA      1018444513\n",
       "11     GS  SA      1018444511\n",
       "12     GS  SA      1018444506\n",
       "13     GS  SA      1018444503\n",
       "14     GS  SA      1018444499\n",
       "15     GS  SA     -2060765514\n",
       "16     GS  SA     -2060765515\n",
       "17     GS  SA     -2060765517\n",
       "18     GS  SA     -2060765518\n",
       "19     GS  SA     -2060765520\n",
       "20     GS  SA     -2060765523\n",
       "21     GS  SA     -2060765525\n",
       "22     GS  SA     -2060765526\n",
       "23     GS  SA     -2060765545\n",
       "24     GS  SA      1586485707\n",
       "25     GS  SA      1586485706\n",
       "26     GS  SA      1586485705\n",
       "27     GS  SA      1586485704\n",
       "28     GS  SA      1586485703\n",
       "29     GS  SA      1586485702\n",
       "30     GS  SA      1586485701\n",
       "⋮      ⋮   ⋮      ⋮          \n",
       "113532 GS  SA       744224857\n",
       "113533 GS  SA       744224858\n",
       "113534 GS  SA       744224859\n",
       "113535 GS  SA       744224861\n",
       "113536 GS  SA      1959976070\n",
       "113537 GS  SA      1959976072\n",
       "113538 GS  SA      1959976075\n",
       "113539 GS  SA      1959976076\n",
       "113540 GS  SA      1959976078\n",
       "113541 GS  SA      1959976079\n",
       "113542 GS  SA      1959976080\n",
       "113543 GS  SA      1959976081\n",
       "113544 GS  SA         4369788\n",
       "113545 GS  SA     -1859639485\n",
       "113546 GS  SA     -1859639486\n",
       "113547 GS  SA     -1859639487\n",
       "113548 GS  SA     -1859639488\n",
       "113549 GS  SA      1787611891\n",
       "113550 GS  SA      1787611890\n",
       "113551 GS  SA      1787611889\n",
       "113552 GS  SA      1787611888\n",
       "113553 GS  SA      1787611887\n",
       "113554 GS  SA      1787611886\n",
       "113555 GS  SA      1787611885\n",
       "113556 GS  SA      1787611878\n",
       "113557 GS  SA      1787611877\n",
       "113558 GS  SA      1787611876\n",
       "113559 GS  SA      1787611874\n",
       "113560 GS  SA      1787611873\n",
       "113561 GS  SA      1787611872\n",
       "       filename                                                  ⋯ rh90  rh40 \n",
       "1      GEDI02_A_2019300171956_O04950_04_T04703_02_003_01_V002.h5 ⋯  3.40 -0.14\n",
       "2      GEDI02_A_2019300171956_O04950_04_T04703_02_003_01_V002.h5 ⋯  4.44  0.29\n",
       "3      GEDI02_A_2019300171956_O04950_04_T04703_02_003_01_V002.h5 ⋯  4.29  0.14\n",
       "4      GEDI02_A_2019300171956_O04950_04_T04703_02_003_01_V002.h5 ⋯  8.22  1.98\n",
       "5      GEDI02_A_2019300171956_O04950_04_T04703_02_003_01_V002.h5 ⋯  6.91  0.93\n",
       "6      GEDI02_A_2019300171956_O04950_04_T04703_02_003_01_V002.h5 ⋯  2.09 -0.37\n",
       "7      GEDI02_A_2019300171956_O04950_04_T04703_02_003_01_V002.h5 ⋯  1.75 -0.48\n",
       "8      GEDI02_A_2019300171956_O04950_04_T04703_02_003_01_V002.h5 ⋯  3.47  0.03\n",
       "9      GEDI02_A_2019300171956_O04950_04_T04703_02_003_01_V002.h5 ⋯  2.76 -0.26\n",
       "10     GEDI02_A_2019300171956_O04950_04_T04703_02_003_01_V002.h5 ⋯  2.13 -0.52\n",
       "11     GEDI02_A_2019300171956_O04950_04_T04703_02_003_01_V002.h5 ⋯  2.28 -0.33\n",
       "12     GEDI02_A_2019300171956_O04950_04_T04703_02_003_01_V002.h5 ⋯  3.32 -0.78\n",
       "13     GEDI02_A_2019300171956_O04950_04_T04703_02_003_01_V002.h5 ⋯  2.35 -0.41\n",
       "14     GEDI02_A_2019300171956_O04950_04_T04703_02_003_01_V002.h5 ⋯  2.87 -0.29\n",
       "15     GEDI02_A_2019300171956_O04950_04_T04703_02_003_01_V002.h5 ⋯  3.96 -0.11\n",
       "16     GEDI02_A_2019300171956_O04950_04_T04703_02_003_01_V002.h5 ⋯  2.91 -0.14\n",
       "17     GEDI02_A_2019300171956_O04950_04_T04703_02_003_01_V002.h5 ⋯  3.43  0.03\n",
       "18     GEDI02_A_2019300171956_O04950_04_T04703_02_003_01_V002.h5 ⋯  3.32 -0.14\n",
       "19     GEDI02_A_2019300171956_O04950_04_T04703_02_003_01_V002.h5 ⋯  2.87 -0.22\n",
       "20     GEDI02_A_2019300171956_O04950_04_T04703_02_003_01_V002.h5 ⋯  3.84  0.00\n",
       "21     GEDI02_A_2019300171956_O04950_04_T04703_02_003_01_V002.h5 ⋯  4.07  0.03\n",
       "22     GEDI02_A_2019300171956_O04950_04_T04703_02_003_01_V002.h5 ⋯  3.40 -0.11\n",
       "23     GEDI02_A_2019300171956_O04950_04_T04703_02_003_01_V002.h5 ⋯ 15.95  5.23\n",
       "24     GEDI02_A_2019300171956_O04950_04_T04703_02_003_01_V002.h5 ⋯  1.64 -0.63\n",
       "25     GEDI02_A_2019300171956_O04950_04_T04703_02_003_01_V002.h5 ⋯  1.71 -0.63\n",
       "26     GEDI02_A_2019300171956_O04950_04_T04703_02_003_01_V002.h5 ⋯  1.71 -0.59\n",
       "27     GEDI02_A_2019300171956_O04950_04_T04703_02_003_01_V002.h5 ⋯  1.71 -0.59\n",
       "28     GEDI02_A_2019300171956_O04950_04_T04703_02_003_01_V002.h5 ⋯  1.60 -0.67\n",
       "29     GEDI02_A_2019300171956_O04950_04_T04703_02_003_01_V002.h5 ⋯  1.64 -0.63\n",
       "30     GEDI02_A_2019300171956_O04950_04_T04703_02_003_01_V002.h5 ⋯  1.64 -0.63\n",
       "⋮      ⋮                                                         ⋱ ⋮     ⋮    \n",
       "113532 GEDI02_A_2022183013025_O20117_01_T11259_02_003_03_V002.h5 ⋯  6.83  2.12\n",
       "113533 GEDI02_A_2022183013025_O20117_01_T11259_02_003_03_V002.h5 ⋯  4.85  0.18\n",
       "113534 GEDI02_A_2022183013025_O20117_01_T11259_02_003_03_V002.h5 ⋯  4.18 -0.11\n",
       "113535 GEDI02_A_2022183013025_O20117_01_T11259_02_003_03_V002.h5 ⋯  6.49  0.63\n",
       "113536 GEDI02_A_2022183013025_O20117_01_T11259_02_003_03_V002.h5 ⋯  2.31 -0.29\n",
       "113537 GEDI02_A_2022183013025_O20117_01_T11259_02_003_03_V002.h5 ⋯  3.84  0.22\n",
       "113538 GEDI02_A_2022183013025_O20117_01_T11259_02_003_03_V002.h5 ⋯  2.87 -0.26\n",
       "113539 GEDI02_A_2022183013025_O20117_01_T11259_02_003_03_V002.h5 ⋯  2.23 -0.33\n",
       "113540 GEDI02_A_2022183013025_O20117_01_T11259_02_003_03_V002.h5 ⋯  2.16 -0.33\n",
       "113541 GEDI02_A_2022183013025_O20117_01_T11259_02_003_03_V002.h5 ⋯  2.31 -0.33\n",
       "113542 GEDI02_A_2022183013025_O20117_01_T11259_02_003_03_V002.h5 ⋯  5.67  0.26\n",
       "113543 GEDI02_A_2022183013025_O20117_01_T11259_02_003_03_V002.h5 ⋯ 12.09  7.31\n",
       "113544 GEDI02_A_2022198081537_O20354_04_T07549_02_003_03_V002.h5 ⋯  6.12  2.76\n",
       "113545 GEDI02_A_2022198081537_O20354_04_T07549_02_003_03_V002.h5 ⋯  1.79 -0.63\n",
       "113546 GEDI02_A_2022198081537_O20354_04_T07549_02_003_03_V002.h5 ⋯  1.79 -0.59\n",
       "113547 GEDI02_A_2022198081537_O20354_04_T07549_02_003_03_V002.h5 ⋯  1.75 -0.70\n",
       "113548 GEDI02_A_2022198081537_O20354_04_T07549_02_003_03_V002.h5 ⋯  1.75 -0.67\n",
       "113549 GEDI02_A_2022198081537_O20354_04_T07549_02_003_03_V002.h5 ⋯  1.79 -0.59\n",
       "113550 GEDI02_A_2022198081537_O20354_04_T07549_02_003_03_V002.h5 ⋯  1.79 -0.63\n",
       "113551 GEDI02_A_2022198081537_O20354_04_T07549_02_003_03_V002.h5 ⋯  1.75 -0.63\n",
       "113552 GEDI02_A_2022198081537_O20354_04_T07549_02_003_03_V002.h5 ⋯  1.71 -0.63\n",
       "113553 GEDI02_A_2022198081537_O20354_04_T07549_02_003_03_V002.h5 ⋯  1.75 -0.63\n",
       "113554 GEDI02_A_2022198081537_O20354_04_T07549_02_003_03_V002.h5 ⋯  1.71 -0.59\n",
       "113555 GEDI02_A_2022198081537_O20354_04_T07549_02_003_03_V002.h5 ⋯  1.79 -0.63\n",
       "113556 GEDI02_A_2022198081537_O20354_04_T07549_02_003_03_V002.h5 ⋯  1.67 -0.63\n",
       "113557 GEDI02_A_2022198081537_O20354_04_T07549_02_003_03_V002.h5 ⋯  1.71 -0.67\n",
       "113558 GEDI02_A_2022198081537_O20354_04_T07549_02_003_03_V002.h5 ⋯  1.75 -0.59\n",
       "113559 GEDI02_A_2022198081537_O20354_04_T07549_02_003_03_V002.h5 ⋯  1.90 -0.74\n",
       "113560 GEDI02_A_2022198081537_O20354_04_T07549_02_003_03_V002.h5 ⋯  2.09 -0.59\n",
       "113561 GEDI02_A_2022198081537_O20354_04_T07549_02_003_03_V002.h5 ⋯  1.71 -0.67\n",
       "       rh70  rh20  rh80  agbd        agbd_se  agbd_t      agbd_t_se stratum\n",
       "1       1.30 -1.08  2.13  0.13692378 13.11960  0.35192856 3.444890  GS_SA  \n",
       "2       2.65 -1.00  3.47  0.87663150 13.11700  0.89047885 3.444548  GS_SA  \n",
       "3       2.13 -0.97  3.06  0.69153291 13.11653  0.79089987 3.444487  GS_SA  \n",
       "4       5.90 -0.14  6.87 10.38683987 13.10561  3.06518579 3.443053  GS_SA  \n",
       "5       4.33 -1.00  5.45  5.77645206 13.10732  2.28583908 3.443278  GS_SA  \n",
       "6       0.85 -1.27  1.34  0.00000000 13.12586 -0.23892234 3.445712  GS_SA  \n",
       "7       0.67 -1.49  1.12  0.00000000 13.12749 -0.42048010 3.445926  GS_SA  \n",
       "8       1.71 -0.97  2.46  0.28758055 13.11905  0.51002896 3.444817  GS_SA  \n",
       "9       1.19 -1.38  1.83  0.04621821 13.12097  0.20446625 3.445070  GS_SA  \n",
       "10      0.78 -1.60  1.34  0.00000000 13.12570 -0.27219364 3.445691  GS_SA  \n",
       "11      0.85 -1.23  1.42  0.00000000 13.12454 -0.14033091 3.445538  GS_SA  \n",
       "12      1.34 -2.54  2.20  0.04704282 13.11966  0.20628220 3.444898  GS_SA  \n",
       "13      0.93 -1.42  1.49  0.00000000 13.12372 -0.07796343 3.445431  GS_SA  \n",
       "14      1.19 -1.45  1.83  0.05703126 13.12048  0.22712846 3.445006  GS_SA  \n",
       "15      1.79 -1.38  2.72  0.35692474 13.11796  0.56820285 3.444675  GS_SA  \n",
       "16      1.27 -1.12  1.98  0.01857183 13.12234  0.12961118 3.445251  GS_SA  \n",
       "17      1.60 -0.93  2.39  0.19967012 13.11986  0.42498305 3.444924  GS_SA  \n",
       "18      1.38 -1.19  2.12  0.13452926 13.11979  0.34883773 3.444915  GS_SA  \n",
       "19      1.41 -1.34  2.01  0.04081770 13.12194  0.19214953 3.445198  GS_SA  \n",
       "20      1.98 -1.38  2.76  0.64636672 13.11664  0.76463568 3.444501  GS_SA  \n",
       "21      2.09 -1.27  2.95  0.53106922 13.11745  0.69309163 3.444608  GS_SA  \n",
       "22      1.56 -1.27  2.31  0.16683048 13.11973  0.38846579 3.444907  GS_SA  \n",
       "23     10.53  1.56 13.15 61.93115616 13.08976  7.48461866 3.440970  GS_SA  \n",
       "24      0.56 -1.64  1.04  0.00000000 13.12852 -0.54283720 3.446061  GS_SA  \n",
       "25      0.59 -1.60  1.08  0.00000000 13.12768 -0.48347268 3.445951  GS_SA  \n",
       "26      0.63 -1.56  1.08  0.00000000 13.12826 -0.50642431 3.446027  GS_SA  \n",
       "27      0.59 -1.56  1.08  0.00000000 13.12826 -0.50642431 3.446027  GS_SA  \n",
       "28      0.52 -1.71  1.00  0.00000000 13.12882 -0.58256137 3.446101  GS_SA  \n",
       "29      0.56 -1.60  1.00  0.00000000 13.12852 -0.54283720 3.446061  GS_SA  \n",
       "30      0.56 -1.60  1.04  0.00000000 13.12870 -0.55603641 3.446085  GS_SA  \n",
       "⋮      ⋮     ⋮     ⋮     ⋮           ⋮        ⋮           ⋮         ⋮      \n",
       "113532  4.77 -0.33  5.67  6.23182964 13.11092  2.37423038 3.443750  GS_SA  \n",
       "113533  2.20 -1.08  3.28  2.14746618 13.11080  1.39372873 3.443735  GS_SA  \n",
       "113534  1.86 -1.41  2.72  0.70634979 13.11556  0.79932791 3.444360  GS_SA  \n",
       "113535  3.47 -0.78  5.00  3.32483292 13.10992  1.73420322 3.443619  GS_SA  \n",
       "113536  0.97 -1.26  1.53  0.00000000 13.12530 -0.17959137 3.445638  GS_SA  \n",
       "113537  2.05 -1.00  2.79  0.51265645 13.11834  0.68097049 3.444725  GS_SA  \n",
       "113538  1.30 -1.41  1.94  0.03025242 13.12167  0.16542272 3.445162  GS_SA  \n",
       "113539  0.89 -1.23  1.45  0.00000000 13.12530 -0.17959137 3.445638  GS_SA  \n",
       "113540  0.93 -1.23  1.45  0.00000000 13.12628 -0.25193369 3.445767  GS_SA  \n",
       "113541  0.89 -1.26  1.49  0.00000000 13.12335 -0.03185751 3.445382  GS_SA  \n",
       "113542  2.79 -1.19  4.06  2.71171808 13.10989  1.56616437 3.443615  GS_SA  \n",
       "113543 10.19  3.21 11.04 37.09879684 13.10021  5.79288626 3.442343  GS_SA  \n",
       "113544  4.44  0.78  5.15  4.52782393 13.11476  2.02376390 3.444254  GS_SA  \n",
       "113545  0.63 -1.71  1.11  0.00000000 13.12736 -0.46040049 3.445909  GS_SA  \n",
       "113546  0.63 -1.64  1.11  0.00000000 13.12756 -0.45696709 3.445935  GS_SA  \n",
       "113547  0.59 -1.82  1.08  0.00000000 13.12743 -0.48361078 3.445919  GS_SA  \n",
       "113548  0.59 -1.75  1.08  0.00000000 13.12762 -0.49679586 3.445943  GS_SA  \n",
       "113549  0.63 -1.64  1.11  0.00000000 13.12756 -0.45696709 3.445935  GS_SA  \n",
       "113550  0.63 -1.67  1.11  0.00000000 13.12736 -0.46040049 3.445909  GS_SA  \n",
       "113551  0.63 -1.64  1.11  0.00000000 13.12768 -0.48347268 3.445951  GS_SA  \n",
       "113552  0.59 -1.67  1.08  0.00000000 13.12805 -0.50985050 3.445999  GS_SA  \n",
       "113553  0.59 -1.64  1.08  0.00000000 13.12787 -0.49666032 3.445975  GS_SA  \n",
       "113554  0.59 -1.56  1.08  0.00000000 13.12826 -0.50642431 3.446027  GS_SA  \n",
       "113555  0.63 -1.67  1.11  0.00000000 13.12775 -0.47015217 3.445960  GS_SA  \n",
       "113556  0.59 -1.71  1.04  0.00000000 13.12819 -0.51974481 3.446018  GS_SA  \n",
       "113557  0.55 -1.75  1.04  0.00000000 13.12798 -0.52317369 3.445991  GS_SA  \n",
       "113558  0.63 -1.64  1.11  0.00000000 13.12775 -0.47015217 3.445960  GS_SA  \n",
       "113559  0.63 -1.97  1.19  0.00000000 13.12657 -0.43430379 3.445806  GS_SA  \n",
       "113560  0.78 -1.71  1.30  0.00000000 13.12529 -0.27247599 3.445637  GS_SA  \n",
       "113561  0.59 -1.75  1.08  0.00000000 13.12798 -0.52317369 3.445991  GS_SA  "
      ]
     },
     "metadata": {},
     "output_type": "display_data"
    }
   ],
   "source": [
    "iso_matched_gedi"
   ]
  },
  {
   "cell_type": "code",
   "execution_count": null,
   "id": "ec42e0f5-9285-4226-bfb1-14ae47bda135",
   "metadata": {},
   "outputs": [
    {
     "data": {
      "text/html": [
       "<style>\n",
       ".list-inline {list-style: none; margin:0; padding: 0}\n",
       ".list-inline>li {display: inline-block}\n",
       ".list-inline>li:not(:last-child)::after {content: \"\\00b7\"; padding: 0 .5ex}\n",
       "</style>\n",
       "<ol class=list-inline><li>'tile_num_21707_L2A.gpkg'</li><li>'tile_num_21886_L2A.gpkg'</li><li>'tile_num_21887_L2A.gpkg'</li><li>'tile_num_21888_L2A.gpkg'</li><li>'tile_num_21890_L2A.gpkg'</li><li>'tile_num_21891_L2A.gpkg'</li><li>'tile_num_22066_L2A.gpkg'</li><li>'tile_num_22067_L2A.gpkg'</li><li>'tile_num_22068_L2A.gpkg'</li><li>'tile_num_22069_L2A.gpkg'</li><li>'tile_num_22070_L2A.gpkg'</li><li>'tile_num_22071_L2A.gpkg'</li><li>'tile_num_22072_L2A.gpkg'</li><li>'tile_num_22073_L2A.gpkg'</li><li>'tile_num_22246_L2A.gpkg'</li><li>'tile_num_22247_L2A.gpkg'</li><li>'tile_num_22248_L2A.gpkg'</li><li>'tile_num_22249_L2A.gpkg'</li><li>'tile_num_22250_L2A.gpkg'</li><li>'tile_num_22251_L2A.gpkg'</li><li>'tile_num_22426_L2A.gpkg'</li><li>'tile_num_22427_L2A.gpkg'</li><li>'tile_num_22428_L2A.gpkg'</li><li>'tile_num_22429_L2A.gpkg'</li><li>'tile_num_22430_L2A.gpkg'</li><li>'tile_num_22431_L2A.gpkg'</li><li>'tile_num_22607_L2A.gpkg'</li><li>'tile_num_22608_L2A.gpkg'</li><li>'tile_num_22609_L2A.gpkg'</li></ol>\n"
      ],
      "text/latex": [
       "\\begin{enumerate*}\n",
       "\\item 'tile\\_num\\_21707\\_L2A.gpkg'\n",
       "\\item 'tile\\_num\\_21886\\_L2A.gpkg'\n",
       "\\item 'tile\\_num\\_21887\\_L2A.gpkg'\n",
       "\\item 'tile\\_num\\_21888\\_L2A.gpkg'\n",
       "\\item 'tile\\_num\\_21890\\_L2A.gpkg'\n",
       "\\item 'tile\\_num\\_21891\\_L2A.gpkg'\n",
       "\\item 'tile\\_num\\_22066\\_L2A.gpkg'\n",
       "\\item 'tile\\_num\\_22067\\_L2A.gpkg'\n",
       "\\item 'tile\\_num\\_22068\\_L2A.gpkg'\n",
       "\\item 'tile\\_num\\_22069\\_L2A.gpkg'\n",
       "\\item 'tile\\_num\\_22070\\_L2A.gpkg'\n",
       "\\item 'tile\\_num\\_22071\\_L2A.gpkg'\n",
       "\\item 'tile\\_num\\_22072\\_L2A.gpkg'\n",
       "\\item 'tile\\_num\\_22073\\_L2A.gpkg'\n",
       "\\item 'tile\\_num\\_22246\\_L2A.gpkg'\n",
       "\\item 'tile\\_num\\_22247\\_L2A.gpkg'\n",
       "\\item 'tile\\_num\\_22248\\_L2A.gpkg'\n",
       "\\item 'tile\\_num\\_22249\\_L2A.gpkg'\n",
       "\\item 'tile\\_num\\_22250\\_L2A.gpkg'\n",
       "\\item 'tile\\_num\\_22251\\_L2A.gpkg'\n",
       "\\item 'tile\\_num\\_22426\\_L2A.gpkg'\n",
       "\\item 'tile\\_num\\_22427\\_L2A.gpkg'\n",
       "\\item 'tile\\_num\\_22428\\_L2A.gpkg'\n",
       "\\item 'tile\\_num\\_22429\\_L2A.gpkg'\n",
       "\\item 'tile\\_num\\_22430\\_L2A.gpkg'\n",
       "\\item 'tile\\_num\\_22431\\_L2A.gpkg'\n",
       "\\item 'tile\\_num\\_22607\\_L2A.gpkg'\n",
       "\\item 'tile\\_num\\_22608\\_L2A.gpkg'\n",
       "\\item 'tile\\_num\\_22609\\_L2A.gpkg'\n",
       "\\end{enumerate*}\n"
      ],
      "text/markdown": [
       "1. 'tile_num_21707_L2A.gpkg'\n",
       "2. 'tile_num_21886_L2A.gpkg'\n",
       "3. 'tile_num_21887_L2A.gpkg'\n",
       "4. 'tile_num_21888_L2A.gpkg'\n",
       "5. 'tile_num_21890_L2A.gpkg'\n",
       "6. 'tile_num_21891_L2A.gpkg'\n",
       "7. 'tile_num_22066_L2A.gpkg'\n",
       "8. 'tile_num_22067_L2A.gpkg'\n",
       "9. 'tile_num_22068_L2A.gpkg'\n",
       "10. 'tile_num_22069_L2A.gpkg'\n",
       "11. 'tile_num_22070_L2A.gpkg'\n",
       "12. 'tile_num_22071_L2A.gpkg'\n",
       "13. 'tile_num_22072_L2A.gpkg'\n",
       "14. 'tile_num_22073_L2A.gpkg'\n",
       "15. 'tile_num_22246_L2A.gpkg'\n",
       "16. 'tile_num_22247_L2A.gpkg'\n",
       "17. 'tile_num_22248_L2A.gpkg'\n",
       "18. 'tile_num_22249_L2A.gpkg'\n",
       "19. 'tile_num_22250_L2A.gpkg'\n",
       "20. 'tile_num_22251_L2A.gpkg'\n",
       "21. 'tile_num_22426_L2A.gpkg'\n",
       "22. 'tile_num_22427_L2A.gpkg'\n",
       "23. 'tile_num_22428_L2A.gpkg'\n",
       "24. 'tile_num_22429_L2A.gpkg'\n",
       "25. 'tile_num_22430_L2A.gpkg'\n",
       "26. 'tile_num_22431_L2A.gpkg'\n",
       "27. 'tile_num_22607_L2A.gpkg'\n",
       "28. 'tile_num_22608_L2A.gpkg'\n",
       "29. 'tile_num_22609_L2A.gpkg'\n",
       "\n",
       "\n"
      ],
      "text/plain": [
       " [1] \"tile_num_21707_L2A.gpkg\" \"tile_num_21886_L2A.gpkg\"\n",
       " [3] \"tile_num_21887_L2A.gpkg\" \"tile_num_21888_L2A.gpkg\"\n",
       " [5] \"tile_num_21890_L2A.gpkg\" \"tile_num_21891_L2A.gpkg\"\n",
       " [7] \"tile_num_22066_L2A.gpkg\" \"tile_num_22067_L2A.gpkg\"\n",
       " [9] \"tile_num_22068_L2A.gpkg\" \"tile_num_22069_L2A.gpkg\"\n",
       "[11] \"tile_num_22070_L2A.gpkg\" \"tile_num_22071_L2A.gpkg\"\n",
       "[13] \"tile_num_22072_L2A.gpkg\" \"tile_num_22073_L2A.gpkg\"\n",
       "[15] \"tile_num_22246_L2A.gpkg\" \"tile_num_22247_L2A.gpkg\"\n",
       "[17] \"tile_num_22248_L2A.gpkg\" \"tile_num_22249_L2A.gpkg\"\n",
       "[19] \"tile_num_22250_L2A.gpkg\" \"tile_num_22251_L2A.gpkg\"\n",
       "[21] \"tile_num_22426_L2A.gpkg\" \"tile_num_22427_L2A.gpkg\"\n",
       "[23] \"tile_num_22428_L2A.gpkg\" \"tile_num_22429_L2A.gpkg\"\n",
       "[25] \"tile_num_22430_L2A.gpkg\" \"tile_num_22431_L2A.gpkg\"\n",
       "[27] \"tile_num_22607_L2A.gpkg\" \"tile_num_22608_L2A.gpkg\"\n",
       "[29] \"tile_num_22609_L2A.gpkg\""
      ]
     },
     "metadata": {},
     "output_type": "display_data"
    },
    {
     "name": "stdout",
     "output_type": "stream",
     "text": [
      "[1] \"tile_num_21707_L2A.gpkg\"\n"
     ]
    },
    {
     "name": "stderr",
     "output_type": "stream",
     "text": [
      "\u001b[36mℹ\u001b[39m \u001b[34m\u001b[34ms3://maap-ops-workspace/shared/leitoldv/GEDI_global_PA_v2/WDPA_gedi_L2A_tiles/tile_num_21707_L2A.gpkg\u001b[34m\u001b[39m already exists at \u001b[34m\u001b[34m/projects/.local/share/R/s3/maap-ops-workspace/shared/leitoldv/GEDI_global_PA_v2/WDPA_gedi_L2A_tiles/tile_num_21707_L2A.gpkg\u001b[34m\u001b[39m\n",
      "\n"
     ]
    },
    {
     "name": "stdout",
     "output_type": "stream",
     "text": [
      "[1] \"tile_num_21886_L2A.gpkg\"\n"
     ]
    },
    {
     "name": "stderr",
     "output_type": "stream",
     "text": [
      "\u001b[36mℹ\u001b[39m \u001b[34m\u001b[34ms3://maap-ops-workspace/shared/leitoldv/GEDI_global_PA_v2/WDPA_gedi_L2A_tiles/tile_num_21886_L2A.gpkg\u001b[34m\u001b[39m already exists at \u001b[34m\u001b[34m/projects/.local/share/R/s3/maap-ops-workspace/shared/leitoldv/GEDI_global_PA_v2/WDPA_gedi_L2A_tiles/tile_num_21886_L2A.gpkg\u001b[34m\u001b[39m\n",
      "\n"
     ]
    },
    {
     "name": "stdout",
     "output_type": "stream",
     "text": [
      "[1] \"tile_num_21887_L2A.gpkg\"\n"
     ]
    },
    {
     "name": "stderr",
     "output_type": "stream",
     "text": [
      "\u001b[36mℹ\u001b[39m \u001b[34m\u001b[34ms3://maap-ops-workspace/shared/leitoldv/GEDI_global_PA_v2/WDPA_gedi_L2A_tiles/tile_num_21887_L2A.gpkg\u001b[34m\u001b[39m already exists at \u001b[34m\u001b[34m/projects/.local/share/R/s3/maap-ops-workspace/shared/leitoldv/GEDI_global_PA_v2/WDPA_gedi_L2A_tiles/tile_num_21887_L2A.gpkg\u001b[34m\u001b[39m\n",
      "\n"
     ]
    },
    {
     "name": "stdout",
     "output_type": "stream",
     "text": [
      "[1] \"tile_num_21888_L2A.gpkg\"\n"
     ]
    },
    {
     "name": "stderr",
     "output_type": "stream",
     "text": [
      "\u001b[36mℹ\u001b[39m \u001b[34m\u001b[34ms3://maap-ops-workspace/shared/leitoldv/GEDI_global_PA_v2/WDPA_gedi_L2A_tiles/tile_num_21888_L2A.gpkg\u001b[34m\u001b[39m already exists at \u001b[34m\u001b[34m/projects/.local/share/R/s3/maap-ops-workspace/shared/leitoldv/GEDI_global_PA_v2/WDPA_gedi_L2A_tiles/tile_num_21888_L2A.gpkg\u001b[34m\u001b[39m\n",
      "\n"
     ]
    },
    {
     "name": "stdout",
     "output_type": "stream",
     "text": [
      "[1] \"tile_num_21890_L2A.gpkg\"\n"
     ]
    },
    {
     "name": "stderr",
     "output_type": "stream",
     "text": [
      "\u001b[36mℹ\u001b[39m \u001b[34m\u001b[34ms3://maap-ops-workspace/shared/leitoldv/GEDI_global_PA_v2/WDPA_gedi_L2A_tiles/tile_num_21890_L2A.gpkg\u001b[34m\u001b[39m already exists at \u001b[34m\u001b[34m/projects/.local/share/R/s3/maap-ops-workspace/shared/leitoldv/GEDI_global_PA_v2/WDPA_gedi_L2A_tiles/tile_num_21890_L2A.gpkg\u001b[34m\u001b[39m\n",
      "\n"
     ]
    },
    {
     "name": "stdout",
     "output_type": "stream",
     "text": [
      "[1] \"tile_num_21891_L2A.gpkg\"\n"
     ]
    },
    {
     "name": "stderr",
     "output_type": "stream",
     "text": [
      "\u001b[36mℹ\u001b[39m \u001b[34m\u001b[34ms3://maap-ops-workspace/shared/leitoldv/GEDI_global_PA_v2/WDPA_gedi_L2A_tiles/tile_num_21891_L2A.gpkg\u001b[34m\u001b[39m already exists at \u001b[34m\u001b[34m/projects/.local/share/R/s3/maap-ops-workspace/shared/leitoldv/GEDI_global_PA_v2/WDPA_gedi_L2A_tiles/tile_num_21891_L2A.gpkg\u001b[34m\u001b[39m\n",
      "\n"
     ]
    },
    {
     "name": "stdout",
     "output_type": "stream",
     "text": [
      "[1] \"tile_num_22066_L2A.gpkg\"\n"
     ]
    },
    {
     "name": "stderr",
     "output_type": "stream",
     "text": [
      "\u001b[36mℹ\u001b[39m \u001b[34m\u001b[34ms3://maap-ops-workspace/shared/leitoldv/GEDI_global_PA_v2/WDPA_gedi_L2A_tiles/tile_num_22066_L2A.gpkg\u001b[34m\u001b[39m already exists at \u001b[34m\u001b[34m/projects/.local/share/R/s3/maap-ops-workspace/shared/leitoldv/GEDI_global_PA_v2/WDPA_gedi_L2A_tiles/tile_num_22066_L2A.gpkg\u001b[34m\u001b[39m\n",
      "\n"
     ]
    },
    {
     "name": "stdout",
     "output_type": "stream",
     "text": [
      "[1] \"tile_num_22067_L2A.gpkg\"\n"
     ]
    },
    {
     "name": "stderr",
     "output_type": "stream",
     "text": [
      "\u001b[36mℹ\u001b[39m \u001b[34m\u001b[34ms3://maap-ops-workspace/shared/leitoldv/GEDI_global_PA_v2/WDPA_gedi_L2A_tiles/tile_num_22067_L2A.gpkg\u001b[34m\u001b[39m already exists at \u001b[34m\u001b[34m/projects/.local/share/R/s3/maap-ops-workspace/shared/leitoldv/GEDI_global_PA_v2/WDPA_gedi_L2A_tiles/tile_num_22067_L2A.gpkg\u001b[34m\u001b[39m\n",
      "\n"
     ]
    },
    {
     "name": "stdout",
     "output_type": "stream",
     "text": [
      "[1] \"tile_num_22068_L2A.gpkg\"\n"
     ]
    },
    {
     "name": "stderr",
     "output_type": "stream",
     "text": [
      "\u001b[36mℹ\u001b[39m \u001b[34m\u001b[34ms3://maap-ops-workspace/shared/leitoldv/GEDI_global_PA_v2/WDPA_gedi_L2A_tiles/tile_num_22068_L2A.gpkg\u001b[34m\u001b[39m already exists at \u001b[34m\u001b[34m/projects/.local/share/R/s3/maap-ops-workspace/shared/leitoldv/GEDI_global_PA_v2/WDPA_gedi_L2A_tiles/tile_num_22068_L2A.gpkg\u001b[34m\u001b[39m\n",
      "\n"
     ]
    },
    {
     "name": "stdout",
     "output_type": "stream",
     "text": [
      "[1] \"tile_num_22069_L2A.gpkg\"\n"
     ]
    },
    {
     "name": "stderr",
     "output_type": "stream",
     "text": [
      "\u001b[36mℹ\u001b[39m \u001b[34m\u001b[34ms3://maap-ops-workspace/shared/leitoldv/GEDI_global_PA_v2/WDPA_gedi_L2A_tiles/tile_num_22069_L2A.gpkg\u001b[34m\u001b[39m already exists at \u001b[34m\u001b[34m/projects/.local/share/R/s3/maap-ops-workspace/shared/leitoldv/GEDI_global_PA_v2/WDPA_gedi_L2A_tiles/tile_num_22069_L2A.gpkg\u001b[34m\u001b[39m\n",
      "\n"
     ]
    },
    {
     "name": "stdout",
     "output_type": "stream",
     "text": [
      "[1] \"tile_num_22070_L2A.gpkg\"\n"
     ]
    },
    {
     "name": "stderr",
     "output_type": "stream",
     "text": [
      "\u001b[36mℹ\u001b[39m \u001b[34m\u001b[34ms3://maap-ops-workspace/shared/leitoldv/GEDI_global_PA_v2/WDPA_gedi_L2A_tiles/tile_num_22070_L2A.gpkg\u001b[34m\u001b[39m already exists at \u001b[34m\u001b[34m/projects/.local/share/R/s3/maap-ops-workspace/shared/leitoldv/GEDI_global_PA_v2/WDPA_gedi_L2A_tiles/tile_num_22070_L2A.gpkg\u001b[34m\u001b[39m\n",
      "\n"
     ]
    },
    {
     "name": "stdout",
     "output_type": "stream",
     "text": [
      "[1] \"tile_num_22071_L2A.gpkg\"\n"
     ]
    },
    {
     "name": "stderr",
     "output_type": "stream",
     "text": [
      "\u001b[36mℹ\u001b[39m \u001b[34m\u001b[34ms3://maap-ops-workspace/shared/leitoldv/GEDI_global_PA_v2/WDPA_gedi_L2A_tiles/tile_num_22071_L2A.gpkg\u001b[34m\u001b[39m already exists at \u001b[34m\u001b[34m/projects/.local/share/R/s3/maap-ops-workspace/shared/leitoldv/GEDI_global_PA_v2/WDPA_gedi_L2A_tiles/tile_num_22071_L2A.gpkg\u001b[34m\u001b[39m\n",
      "\n"
     ]
    },
    {
     "name": "stdout",
     "output_type": "stream",
     "text": [
      "[1] \"tile_num_22072_L2A.gpkg\"\n"
     ]
    },
    {
     "name": "stderr",
     "output_type": "stream",
     "text": [
      "\u001b[36mℹ\u001b[39m \u001b[34m\u001b[34ms3://maap-ops-workspace/shared/leitoldv/GEDI_global_PA_v2/WDPA_gedi_L2A_tiles/tile_num_22072_L2A.gpkg\u001b[34m\u001b[39m already exists at \u001b[34m\u001b[34m/projects/.local/share/R/s3/maap-ops-workspace/shared/leitoldv/GEDI_global_PA_v2/WDPA_gedi_L2A_tiles/tile_num_22072_L2A.gpkg\u001b[34m\u001b[39m\n",
      "\n"
     ]
    },
    {
     "name": "stdout",
     "output_type": "stream",
     "text": [
      "[1] \"tile_num_22073_L2A.gpkg\"\n"
     ]
    },
    {
     "name": "stderr",
     "output_type": "stream",
     "text": [
      "\u001b[36mℹ\u001b[39m \u001b[34m\u001b[34ms3://maap-ops-workspace/shared/leitoldv/GEDI_global_PA_v2/WDPA_gedi_L2A_tiles/tile_num_22073_L2A.gpkg\u001b[34m\u001b[39m already exists at \u001b[34m\u001b[34m/projects/.local/share/R/s3/maap-ops-workspace/shared/leitoldv/GEDI_global_PA_v2/WDPA_gedi_L2A_tiles/tile_num_22073_L2A.gpkg\u001b[34m\u001b[39m\n",
      "\n"
     ]
    },
    {
     "name": "stdout",
     "output_type": "stream",
     "text": [
      "[1] \"tile_num_22246_L2A.gpkg\"\n"
     ]
    },
    {
     "name": "stderr",
     "output_type": "stream",
     "text": [
      "\u001b[36mℹ\u001b[39m \u001b[34m\u001b[34ms3://maap-ops-workspace/shared/leitoldv/GEDI_global_PA_v2/WDPA_gedi_L2A_tiles/tile_num_22246_L2A.gpkg\u001b[34m\u001b[39m already exists at \u001b[34m\u001b[34m/projects/.local/share/R/s3/maap-ops-workspace/shared/leitoldv/GEDI_global_PA_v2/WDPA_gedi_L2A_tiles/tile_num_22246_L2A.gpkg\u001b[34m\u001b[39m\n",
      "\n"
     ]
    },
    {
     "name": "stdout",
     "output_type": "stream",
     "text": [
      "[1] \"tile_num_22247_L2A.gpkg\"\n"
     ]
    },
    {
     "name": "stderr",
     "output_type": "stream",
     "text": [
      "\u001b[36mℹ\u001b[39m \u001b[34m\u001b[34ms3://maap-ops-workspace/shared/leitoldv/GEDI_global_PA_v2/WDPA_gedi_L2A_tiles/tile_num_22247_L2A.gpkg\u001b[34m\u001b[39m already exists at \u001b[34m\u001b[34m/projects/.local/share/R/s3/maap-ops-workspace/shared/leitoldv/GEDI_global_PA_v2/WDPA_gedi_L2A_tiles/tile_num_22247_L2A.gpkg\u001b[34m\u001b[39m\n",
      "\n"
     ]
    },
    {
     "name": "stdout",
     "output_type": "stream",
     "text": [
      "[1] \"tile_num_22248_L2A.gpkg\"\n"
     ]
    },
    {
     "name": "stderr",
     "output_type": "stream",
     "text": [
      "\u001b[36mℹ\u001b[39m \u001b[34m\u001b[34ms3://maap-ops-workspace/shared/leitoldv/GEDI_global_PA_v2/WDPA_gedi_L2A_tiles/tile_num_22248_L2A.gpkg\u001b[34m\u001b[39m already exists at \u001b[34m\u001b[34m/projects/.local/share/R/s3/maap-ops-workspace/shared/leitoldv/GEDI_global_PA_v2/WDPA_gedi_L2A_tiles/tile_num_22248_L2A.gpkg\u001b[34m\u001b[39m\n",
      "\n"
     ]
    },
    {
     "name": "stdout",
     "output_type": "stream",
     "text": [
      "[1] \"tile_num_22249_L2A.gpkg\"\n"
     ]
    },
    {
     "name": "stderr",
     "output_type": "stream",
     "text": [
      "\u001b[36mℹ\u001b[39m \u001b[34m\u001b[34ms3://maap-ops-workspace/shared/leitoldv/GEDI_global_PA_v2/WDPA_gedi_L2A_tiles/tile_num_22249_L2A.gpkg\u001b[34m\u001b[39m already exists at \u001b[34m\u001b[34m/projects/.local/share/R/s3/maap-ops-workspace/shared/leitoldv/GEDI_global_PA_v2/WDPA_gedi_L2A_tiles/tile_num_22249_L2A.gpkg\u001b[34m\u001b[39m\n",
      "\n"
     ]
    }
   ],
   "source": [
    "f.path <- \"s3://maap-ops-workspace/shared/leitoldv/GEDI_global_PA_v2/\"\n",
    "\n",
    "all_gedil2_f\n",
    "\n",
    "tryCatch(\n",
    "    for(i in 1:length(all_gedil2_f)){\n",
    "    print(all_gedil2_f[i])\n",
    "    gedil2_f_path <- paste(f.path, \"WDPA_gedi_L2A_tiles/\", all_gedil2_f[i], sep = \"\")\n",
    "\n",
    "    gedil2_f <- vect(s3_get(gedil2_f_path))\n",
    "    },\n",
    "    error=function(cond){\n",
    "    message(cond)\n",
    "    cat(\"cannot open GPKG file\", all_gedil2_f[i])\n",
    "    next})  # Skip to the next iteration\n",
    "                \n"
   ]
  },
  {
   "cell_type": "code",
   "execution_count": null,
   "id": "8203132b-fa72-4382-9537-49b5cf1b8c5a",
   "metadata": {},
   "outputs": [],
   "source": []
  },
  {
   "cell_type": "code",
   "execution_count": 35,
   "id": "681c79f8-7e8d-4728-9f7f-00327e671df8",
   "metadata": {},
   "outputs": [],
   "source": [
    "unlink(\"/projects/.local/share/R/s3/maap-ops-workspace/shared/leitoldv/GEDI_global_PA_v2/WDPA_gedi_L2A_tiles/tile_num_22250_L2A.gpkg\")"
   ]
  },
  {
   "cell_type": "code",
   "execution_count": 52,
   "id": "c45dcd0a-34f9-48e9-9c87-826f44e89056",
   "metadata": {},
   "outputs": [],
   "source": [
    "iso_matched_gedi <-  iso_matched_gedi %>%\n",
    "            dplyr::select(\"pa_id\",\"status\",\"shot_number\", \"lat_lowestmode\", \"lon_lowestmode\", \n",
    "                      \"rh25\", \"rh50\", \"rh75\",\"rh90\", \"rh98\", \"agbd\", \"agbd_se\",\n",
    "                         \"wwfbiom\",\"wwfecoreg\",\"pft\",\"region\")"
   ]
  },
  {
   "cell_type": "code",
   "execution_count": 54,
   "id": "48d76630-dd8b-44cc-8c5f-f1564c3b3835",
   "metadata": {},
   "outputs": [
    {
     "data": {
      "text/html": [
       "<table class=\"dataframe\">\n",
       "<caption>A data.frame: 6 × 12</caption>\n",
       "<thead>\n",
       "\t<tr><th></th><th scope=col>pa_id</th><th scope=col>status</th><th scope=col>wwfbiom</th><th scope=col>wwfecoreg</th><th scope=col>shot_number</th><th scope=col>lon_lowestmode</th><th scope=col>lat_lowestmode</th><th scope=col>rh25</th><th scope=col>rh50</th><th scope=col>rh75</th><th scope=col>rh90</th><th scope=col>rh98</th></tr>\n",
       "\t<tr><th></th><th scope=col>&lt;dbl&gt;</th><th scope=col>&lt;dbl&gt;</th><th scope=col>&lt;fct&gt;</th><th scope=col>&lt;fct&gt;</th><th scope=col>&lt;int&gt;</th><th scope=col>&lt;dbl&gt;</th><th scope=col>&lt;dbl&gt;</th><th scope=col>&lt;dbl&gt;</th><th scope=col>&lt;dbl&gt;</th><th scope=col>&lt;dbl&gt;</th><th scope=col>&lt;dbl&gt;</th><th scope=col>&lt;dbl&gt;</th></tr>\n",
       "</thead>\n",
       "<tbody>\n",
       "\t<tr><th scope=row>1</th><td>555576153</td><td>0</td><td>Flooded Grasslands &amp; Savannas</td><td>Pantanal</td><td>-197302931</td><td>-57.45410</td><td>-16.18044</td><td>-0.82</td><td>0.26</td><td>1.68</td><td>3.40</td><td>4.93</td></tr>\n",
       "\t<tr><th scope=row>2</th><td>555576153</td><td>0</td><td>Flooded Grasslands &amp; Savannas</td><td>Pantanal</td><td>-197302934</td><td>-57.45507</td><td>-16.17920</td><td>-0.63</td><td>1.00</td><td>3.06</td><td>4.44</td><td>5.83</td></tr>\n",
       "\t<tr><th scope=row>3</th><td>555576153</td><td>0</td><td>Flooded Grasslands &amp; Savannas</td><td>Pantanal</td><td>-197302935</td><td>-57.45539</td><td>-16.17880</td><td>-0.67</td><td>0.67</td><td>2.57</td><td>4.29</td><td>5.86</td></tr>\n",
       "\t<tr><th scope=row>4</th><td>555576153</td><td>0</td><td>Flooded Grasslands &amp; Savannas</td><td>Pantanal</td><td>1018444524</td><td>-57.45425</td><td>-16.18911</td><td> 0.29</td><td>3.55</td><td>6.35</td><td>8.22</td><td>9.98</td></tr>\n",
       "\t<tr><th scope=row>5</th><td>555576153</td><td>0</td><td>Flooded Grasslands &amp; Savannas</td><td>Pantanal</td><td>1018444523</td><td>-57.45457</td><td>-16.18870</td><td>-0.48</td><td>2.09</td><td>4.89</td><td>6.91</td><td>9.04</td></tr>\n",
       "\t<tr><th scope=row>6</th><td>555576153</td><td>0</td><td>Flooded Grasslands &amp; Savannas</td><td>Pantanal</td><td>1018444520</td><td>-57.45554</td><td>-16.18747</td><td>-1.00</td><td>0.03</td><td>1.08</td><td>2.09</td><td>3.36</td></tr>\n",
       "</tbody>\n",
       "</table>\n"
      ],
      "text/latex": [
       "A data.frame: 6 × 12\n",
       "\\begin{tabular}{r|llllllllllll}\n",
       "  & pa\\_id & status & wwfbiom & wwfecoreg & shot\\_number & lon\\_lowestmode & lat\\_lowestmode & rh25 & rh50 & rh75 & rh90 & rh98\\\\\n",
       "  & <dbl> & <dbl> & <fct> & <fct> & <int> & <dbl> & <dbl> & <dbl> & <dbl> & <dbl> & <dbl> & <dbl>\\\\\n",
       "\\hline\n",
       "\t1 & 555576153 & 0 & Flooded Grasslands \\& Savannas & Pantanal & -197302931 & -57.45410 & -16.18044 & -0.82 & 0.26 & 1.68 & 3.40 & 4.93\\\\\n",
       "\t2 & 555576153 & 0 & Flooded Grasslands \\& Savannas & Pantanal & -197302934 & -57.45507 & -16.17920 & -0.63 & 1.00 & 3.06 & 4.44 & 5.83\\\\\n",
       "\t3 & 555576153 & 0 & Flooded Grasslands \\& Savannas & Pantanal & -197302935 & -57.45539 & -16.17880 & -0.67 & 0.67 & 2.57 & 4.29 & 5.86\\\\\n",
       "\t4 & 555576153 & 0 & Flooded Grasslands \\& Savannas & Pantanal & 1018444524 & -57.45425 & -16.18911 &  0.29 & 3.55 & 6.35 & 8.22 & 9.98\\\\\n",
       "\t5 & 555576153 & 0 & Flooded Grasslands \\& Savannas & Pantanal & 1018444523 & -57.45457 & -16.18870 & -0.48 & 2.09 & 4.89 & 6.91 & 9.04\\\\\n",
       "\t6 & 555576153 & 0 & Flooded Grasslands \\& Savannas & Pantanal & 1018444520 & -57.45554 & -16.18747 & -1.00 & 0.03 & 1.08 & 2.09 & 3.36\\\\\n",
       "\\end{tabular}\n"
      ],
      "text/markdown": [
       "\n",
       "A data.frame: 6 × 12\n",
       "\n",
       "| <!--/--> | pa_id &lt;dbl&gt; | status &lt;dbl&gt; | wwfbiom &lt;fct&gt; | wwfecoreg &lt;fct&gt; | shot_number &lt;int&gt; | lon_lowestmode &lt;dbl&gt; | lat_lowestmode &lt;dbl&gt; | rh25 &lt;dbl&gt; | rh50 &lt;dbl&gt; | rh75 &lt;dbl&gt; | rh90 &lt;dbl&gt; | rh98 &lt;dbl&gt; |\n",
       "|---|---|---|---|---|---|---|---|---|---|---|---|---|\n",
       "| 1 | 555576153 | 0 | Flooded Grasslands &amp; Savannas | Pantanal | -197302931 | -57.45410 | -16.18044 | -0.82 | 0.26 | 1.68 | 3.40 | 4.93 |\n",
       "| 2 | 555576153 | 0 | Flooded Grasslands &amp; Savannas | Pantanal | -197302934 | -57.45507 | -16.17920 | -0.63 | 1.00 | 3.06 | 4.44 | 5.83 |\n",
       "| 3 | 555576153 | 0 | Flooded Grasslands &amp; Savannas | Pantanal | -197302935 | -57.45539 | -16.17880 | -0.67 | 0.67 | 2.57 | 4.29 | 5.86 |\n",
       "| 4 | 555576153 | 0 | Flooded Grasslands &amp; Savannas | Pantanal | 1018444524 | -57.45425 | -16.18911 |  0.29 | 3.55 | 6.35 | 8.22 | 9.98 |\n",
       "| 5 | 555576153 | 0 | Flooded Grasslands &amp; Savannas | Pantanal | 1018444523 | -57.45457 | -16.18870 | -0.48 | 2.09 | 4.89 | 6.91 | 9.04 |\n",
       "| 6 | 555576153 | 0 | Flooded Grasslands &amp; Savannas | Pantanal | 1018444520 | -57.45554 | -16.18747 | -1.00 | 0.03 | 1.08 | 2.09 | 3.36 |\n",
       "\n"
      ],
      "text/plain": [
       "  pa_id     status wwfbiom                       wwfecoreg shot_number\n",
       "1 555576153 0      Flooded Grasslands & Savannas Pantanal  -197302931 \n",
       "2 555576153 0      Flooded Grasslands & Savannas Pantanal  -197302934 \n",
       "3 555576153 0      Flooded Grasslands & Savannas Pantanal  -197302935 \n",
       "4 555576153 0      Flooded Grasslands & Savannas Pantanal  1018444524 \n",
       "5 555576153 0      Flooded Grasslands & Savannas Pantanal  1018444523 \n",
       "6 555576153 0      Flooded Grasslands & Savannas Pantanal  1018444520 \n",
       "  lon_lowestmode lat_lowestmode rh25  rh50 rh75 rh90 rh98\n",
       "1 -57.45410      -16.18044      -0.82 0.26 1.68 3.40 4.93\n",
       "2 -57.45507      -16.17920      -0.63 1.00 3.06 4.44 5.83\n",
       "3 -57.45539      -16.17880      -0.67 0.67 2.57 4.29 5.86\n",
       "4 -57.45425      -16.18911       0.29 3.55 6.35 8.22 9.98\n",
       "5 -57.45457      -16.18870      -0.48 2.09 4.89 6.91 9.04\n",
       "6 -57.45554      -16.18747      -1.00 0.03 1.08 2.09 3.36"
      ]
     },
     "metadata": {},
     "output_type": "display_data"
    }
   ],
   "source": [
    "head(iso_matched_gedi)"
   ]
  },
  {
   "cell_type": "code",
   "execution_count": 48,
   "id": "94251855-eaa3-4110-bc94-58dd25bfbe24",
   "metadata": {},
   "outputs": [
    {
     "name": "stdout",
     "output_type": "stream",
     "text": [
      "Bpp converting the matched csv to a raster stack for extraction\n",
      "\n",
      " 0  1 \n",
      "34 34 \n"
     ]
    },
    {
     "name": "stderr",
     "output_type": "stream",
     "text": [
      "\u001b[36mℹ\u001b[39m \u001b[34m\u001b[34ms3://maap-ops-workspace/shared/leitoldv/GEDI_global_PA_v2/vero_1deg_tileindex/tileindex_Bpp.csv\u001b[34m\u001b[39m already exists at \u001b[34m\u001b[34m/projects/.local/share/R/s3/maap-ops-workspace/shared/leitoldv/GEDI_global_PA_v2/vero_1deg_tileindex/tileindex_Bpp.csv\u001b[34m\u001b[39m\n",
      "\n"
     ]
    }
   ],
   "source": [
    "#f.path <- \"/projects/my-public-bucket/GEDI_global_PA_v2/\"\n",
    "f.path <- \"s3://maap-ops-workspace/shared/leitoldv/GEDI_global_PA_v2/\"\n",
    "\n",
    "this_rds <- matched_PAs[2]\n",
    "id_pa <- basename(this_rds) %>% readr::parse_number() %>% unique()\n",
    "    \n",
    "    #matched <- readRDS(paste(f.path,\"WDPA_matching_results/\",iso3,\"_wk\",gediwk,\"/\",iso3,\"_pa_\",id_pa,\"_matching_results_wk\",gediwk,\".RDS\",sep=\"\"))\n",
    "    matched <- readRDS(s3_get(paste(f.path,\"WDPA_matching_results/\",iso3,\"_wk\",gediwk,\"/\",iso3,\"_pa_\",id_pa,\"_matching_results_wk\",gediwk,\".RDS\",sep=\"\")))\n",
    "  \n",
    "    if (is.null(matched)==TRUE  | nrow(matched)==0) {\n",
    "        cat(\"Matched result is null for PA\", id_pa, \"quitting...\\n\")\n",
    "        next  # Skip to the next iteration\n",
    "    } else if (!is.null(matched)==TRUE){\n",
    "    mras  <- tryCatch(matched2ras(matched),\n",
    "                      error=function(cond){\n",
    "                        message(cond)\n",
    "                        cat(\"Matched result is likely null for country\", iso3,\"pa\", id_pa, \"dimension of the match is\", dim(matched),\"\\n\")\n",
    "                        # writeLines(\"Matched results is likely null for country\", paste(f.path,\"WDPA_log/\",iso3,\"_log_matching.txt\", sep=\"\"))\n",
    "                        return(NULL)}) #convert the macthed df to a raster stack \n",
    "    print(table(mras$status[]))\n",
    "    if(table(mras$status[])[2]==0 | table(mras$status[])[1]==0 | is.null(mras)){\n",
    "      cat(\"Rasterized results unbalanced for PA\", id_pa, \"quitting...\\n\")\n",
    "      next  # Skip to the next iteration\n",
    "    } else {\n",
    "        \n",
    "      startTime <- Sys.time()\n",
    "        \n",
    "      iso_matched_gedi <- extract_gedi(matched=matched, mras=mras, iso3=iso3)#}  #run filtered csvs on mras for extarction\n",
    "        \n",
    "        if (is.null(iso_matched_gedi)) {\n",
    "        cat(\"Matched result is null for PA\", id_pa, \"quitting...\\n\")\n",
    "        next  # Skip to the next iteration\n",
    "        }\n",
    "\n",
    "      tElapsed <- Sys.time()-startTime\n",
    "      cat(tElapsed, \"for extracting all PAs in\", iso3,\"\\n\")\n",
    "      cat(\"Done GEDI for no. \",grep(unique(matched$pa_id), matched_PAs),\"pa out of\", length(matched_PAs),\"\\n\")\n",
    "\n",
    "      iso_matched_gedi <-  iso_matched_gedi %>%\n",
    "            dplyr::select(\"pa_id\",\"status\",\"shot_number\", \"lat_lowestmode\", \"lon_lowestmode\", \n",
    "                      \"rh25\", \"rh50\", \"rh75\",\"rh90\", \"rh98\", \"agbd\", \"agbd_se\",\n",
    "                         \"wwfbiom\",\"wwfecoreg\",\"pft\",\"region\")  #write to individual country folder\n",
    "        \n",
    "      if (length(unique(iso_matched_gedi$wwfbiom)) >1){\n",
    "#       pabiome <- iso_matched_gedi$wwfbiom %>% unique() %>% gsub(\"\\b(\\pL)\\pL{2,}|.\",\"\\U\\1\",.,perl = TRUE)%>% str_c( collapse = \"+\")\n",
    "#       pabiome <- iso_matched_gedi$wwfbiom %>% unique() %>% str_replace_all(\"\\\\b(\\\\p{L})\\\\p{L}{2,}|.\", \"\\\\U\\\\1\", perl = TRUE) %>% str_c(collapse = \"+\")\n",
    "        pabiome <- iso_matched_gedi$wwfbiom %>% unique() %>% str_replace_all(\"\\\\b(\\\\p{L})\\\\p{L}{2,}|.\", \"\\\\U\\\\1\") %>% str_c(collapse = \"+\")\n",
    "      } else if (length(unique(iso_matched_gedi$wwfbiom))==1){\n",
    "#       pabiome <- iso_matched_gedi$wwfbiom %>% unique() %>% str_replace_all(\"\\\\b(\\\\p{L})\\\\p{L}{2,}|.\", \"\\\\U\\\\1\", perl = TRUE)\n",
    "        pabiome <- iso_matched_gedi$wwfbiom %>% unique() %>% str_replace_all(\"\\\\b(\\\\p{L})\\\\p{L}{2,}|.\", \"\\\\U\\\\1\")\n",
    "      } else {\n",
    "        pabiome <- iso_matched_gedi$wwfbiom %>% unique() }\n",
    "        continent <- unique(iso_matched_gedi$region) %>% getmode()\n",
    "      print(paste('output df',dim(iso_matched_gedi)))\n",
    "\n",
    "      #dir.create(file.path(paste(\"output/WDPA_GEDI_extract/\",sep=\"\")),recursive=TRUE)\n",
    "      #saveRDS(iso_matched_gedi, file=paste(\"output/WDPA_GEDI_extract/\",iso3,\"_pa_\", id_pa,\"_gedi_wk_\",gediwk,\"_conti_\",\"biome_\",pabiome,\".RDS\", sep=\"\"))\n",
    "      #write.csv(iso_matched_gedi, file=paste(\"output/WDPA_GEDI_extract/\",iso3,\"_pa_\", id_pa,\"_iso_matched_gedi_sub_wk_\",gediwk,\".csv\", sep=\"\"))\n",
    "      dir.create(file.path(paste(\"/projects/my-public-bucket/GEDI_global_PA_v2/WDPA_GEDI_extract/\",sep=\"\")),recursive=TRUE)\n",
    "      saveRDS(iso_matched_gedi, file=paste(\"/projects/my-public-bucket/GEDI_global_PA_v2/WDPA_GEDI_extract/\",iso3,\"_pa_\", id_pa,\"_gedi_wk_\",gediwk,\"_conti_\",\"biome_\",pabiome,\".RDS\", sep=\"\"))\n",
    "      write.csv(iso_matched_gedi, file=paste(\"/projects/my-public-bucket/GEDI_global_PA_v2/WDPA_GEDI_extract/\",iso3,\"_pa_\", id_pa,\"_iso_matched_gedi_sub_wk_\",gediwk,\".csv\", sep=\"\"))\n",
    "      cat(id_pa,\"in\",iso3,\"result is written to dir\\n\")\n",
    "    }\n",
    "}\n"
   ]
  },
  {
   "cell_type": "code",
   "execution_count": 66,
   "id": "a5cebaba-a975-4056-b5ba-92d57181066b",
   "metadata": {},
   "outputs": [
    {
     "name": "stdout",
     "output_type": "stream",
     "text": [
      "[1] \"output df 113561\" \"output df 12\"    \n"
     ]
    }
   ],
   "source": [
    "      if (length(unique(iso_matched_gedi$wwfbiom)) >1){\n",
    "       pabiome <- iso_matched_gedi$wwfbiom %>% unique() %>% gsub(\"\\\\b(\\\\p{L})\\\\p{L}{2,}|.\",\"\\\\U\\\\1\",.,perl = TRUE)%>% str_c( collapse = \"+\")\n",
    "#       pabiome <- iso_matched_gedi$wwfbiom %>% unique() %>% str_replace_all(\"\\\\b(\\\\p{L})\\\\p{L}{2,}|.\", \"\\\\U\\\\1\", perl = TRUE) %>% str_c(collapse = \"+\")\n",
    "#        pabiome <- iso_matched_gedi$wwfbiom %>% unique() %>% str_replace_all(\"\\\\b(\\\\p{L})\\\\p{L}{2,}|.\", \"\\\\U\\\\1\") %>% str_c(collapse = \"+\")\n",
    "      } else if (length(unique(iso_matched_gedi$wwfbiom))==1){\n",
    "#       pabiome <- iso_matched_gedi$wwfbiom %>% unique() %>% str_replace_all(\"\\\\b(\\\\p{L})\\\\p{L}{2,}|.\", \"\\\\U\\\\1\", perl = TRUE)\n",
    "        pabiome <- iso_matched_gedi$wwfbiom %>% unique() %>% gsub('\\\\b(\\\\p{L})\\\\p{L}{2,}|.','\\\\U\\\\1',.,perl = TRUE)\n",
    "      } else {\n",
    "        pabiome <- iso_matched_gedi$wwfbiom %>% unique() }\n",
    "        continent <- unique(iso_matched_gedi$region) %>% getmode()\n",
    "      print(paste('output df',dim(iso_matched_gedi)))\n"
   ]
  },
  {
   "cell_type": "code",
   "execution_count": 69,
   "id": "34b5f39f-af66-4910-b8da-eeca2ba73997",
   "metadata": {},
   "outputs": [
    {
     "name": "stdout",
     "output_type": "stream",
     "text": [
      "555576153 in Bpt results is written to dir\n"
     ]
    }
   ],
   "source": [
    "f.path <- \"/projects/my-public-bucket/GEDI_global_PA_v2/\"\n",
    "\n",
    "dir.create(file.path(paste(f.path,\"WDPA_extract/\",iso3,\"_wk\",gediwk,\"/\",sep=\"\")))\n",
    "saveRDS(iso_matched_gedi, file=paste(f.path,\"WDPA_extract/\",iso3,\"_wk\",gediwk,\"/\",iso3,\"_pa_\", id_pa,\"_gedi_wk_\",gediwk,\"_conti_\", continent,\"_biome_\",pabiome,\".RDS\", sep=\"\"))\n",
    "cat(id_pa,\"in\",iso3,\"results is written to dir\\n\")\n",
    "      "
   ]
  },
  {
   "cell_type": "code",
   "execution_count": null,
   "id": "6a15e73a-0b27-4921-b998-20f70a89d670",
   "metadata": {},
   "outputs": [],
   "source": []
  },
  {
   "cell_type": "code",
   "execution_count": null,
   "id": "e6dacfc9-1d67-449b-baf3-1949194ff62c",
   "metadata": {},
   "outputs": [],
   "source": []
  },
  {
   "cell_type": "code",
   "execution_count": null,
   "id": "5697ad3f-72f7-4858-a2c7-0d225795031c",
   "metadata": {},
   "outputs": [],
   "source": []
  },
  {
   "cell_type": "code",
   "execution_count": null,
   "id": "103d0da5-427a-4ef9-9ce3-7fcd75446971",
   "metadata": {},
   "outputs": [],
   "source": []
  },
  {
   "cell_type": "code",
   "execution_count": null,
   "id": "f047b5af-a71f-4e7d-b6cd-1daf73552bcd",
   "metadata": {},
   "outputs": [],
   "source": [
    "results <- s3$list_objects_v2(Bucket = \"maap-ops-workspace\", \n",
    "                            Prefix=paste(\"shared/abarenblitt/GEDI_global_PA_v2/WDPA_gedi_L2A_tiles/\",sep=\"\"))\n",
    "    all_gedil2_f <- sapply(results$Contents, function(x) {x$Key})\n",
    "    pattern=paste(\".gpkg\",sep=\"\")\n",
    "    all_gedil2_f <- grep(pattern, all_gedil2_f, value=TRUE)\n",
    "    all_gedil2_f <- basename(all_gedil2_f)[4:5] #Currently specifying working files\n",
    "    \n",
    "    results4 <- s3$list_objects_v2(Bucket = \"maap-ops-workspace\", \n",
    "                                Prefix=paste(\"shared/abarenblitt/GEDI_global_PA_v2/WDPA_gedi_L4A_tiles/\",sep=\"\"))\n",
    "    all_gedil4_f <- sapply(results4$Contents, function(x) {x$Key})\n",
    "    pattern4=paste(\".gpkg\",sep=\"\")\n",
    "    all_gedil4_f <- grep(pattern4, all_gedil4_f, value=TRUE)\n",
    "    all_gedil4_f <- basename(all_gedil4_f)[4:5] #Currently specifying working files\n"
   ]
  },
  {
   "cell_type": "code",
   "execution_count": null,
   "id": "6da39210-60df-4301-b3ce-7ea90ad04653",
   "metadata": {},
   "outputs": [],
   "source": [
    "all_gedil2_f"
   ]
  },
  {
   "cell_type": "code",
   "execution_count": null,
   "id": "8877d7c6-39b4-41fc-8f71-64bc577b2899",
   "metadata": {},
   "outputs": [],
   "source": [
    "gedil4_f <- as.data.frame(st_read(paste(gedipath,\"WDPA_gedi_L4A_tiles/\",all_gedil4_f[this_csvid],sep=\"\")))"
   ]
  },
  {
   "cell_type": "code",
   "execution_count": null,
   "id": "ee484121-e2b0-4e3d-80be-a2990fdbc12a",
   "metadata": {},
   "outputs": [],
   "source": [
    "gedil2_f <- as.data.frame(st_read(paste(gedipath,\"WDPA_gedi_L2A_tiles/\",all_gedil2_f[this_csvid],sep=\"\")))"
   ]
  },
  {
   "cell_type": "code",
   "execution_count": null,
   "id": "82ab4551-085a-4314-884d-4ea1e80df2ff",
   "metadata": {},
   "outputs": [],
   "source": [
    "results <- s3$list_objects_v2(Bucket = \"maap-ops-workspace\", \n",
    "                            Prefix=paste(\"shared/abarenblitt/GEDI_global_PA_v2/WDPA_gedi_L2A_tiles/\",sep=\"\"))\n",
    "    all_gedil2_f <- sapply(results$Contents, function(x) {x$Key})\n",
    "    pattern=paste(\".gpkg\",sep=\"\")\n",
    "    all_gedil2_f <- grep(pattern, all_gedil2_f, value=TRUE)\n",
    "    all_gedil2_f <- basename(all_gedil2_f)[4:5]\n",
    "\n",
    "all_gedil2_f"
   ]
  },
  {
   "cell_type": "code",
   "execution_count": null,
   "id": "367f2087-5adc-4126-bafc-f5d3a53272cd",
   "metadata": {},
   "outputs": [],
   "source": []
  },
  {
   "cell_type": "code",
   "execution_count": null,
   "id": "7826e144-47be-4c8d-a694-1f74a453f44b",
   "metadata": {},
   "outputs": [],
   "source": [
    "extract_gedi <- function(matched, mras){\n",
    "    results <- s3$list_objects_v2(Bucket = \"maap-ops-workspace\", \n",
    "                            Prefix=paste(\"shared/abarenblitt/GEDI_global_PA_v2/WDPA_gedi_L2A_tiles/\",sep=\"\"))\n",
    "    all_gedil2_f <- sapply(results$Contents, function(x) {x$Key})\n",
    "    pattern=paste(\".gpkg\",sep=\"\")\n",
    "    all_gedil2_f <- grep(pattern, all_gedil2_f, value=TRUE)\n",
    "    all_gedil2_f <- basename(all_gedil2_f)[4:5] #Currently specifying working files\n",
    "    \n",
    "    results4 <- s3$list_objects_v2(Bucket = \"maap-ops-workspace\", \n",
    "                                Prefix=paste(\"shared/abarenblitt/GEDI_global_PA_v2/WDPA_gedi_L4A_tiles/\",sep=\"\"))\n",
    "    all_gedil4_f <- sapply(results4$Contents, function(x) {x$Key})\n",
    "    pattern4=paste(\".gpkg\",sep=\"\")\n",
    "    all_gedil4_f <- grep(pattern4, all_gedil4_f, value=TRUE)\n",
    "    all_gedil4_f <- basename(all_gedil4_f)[4:5] #Currently specifying working files\n",
    "  \n",
    "    # Initialize an empty list to store results\n",
    "    results_list <- list()\n",
    "    iso_matched_gedi_df <- NULL # Initialize before loop\n",
    "\n",
    "            # Iterate over the sequence of indices for your files\n",
    "    for (this_csvid in seq_along(all_gedil2_f)) {\n",
    "                cat(\"Reading in no. \", this_csvid, \"csv of \", length(all_gedil2_f), \"csvs for iso3\", iso3, \"\\n\")\n",
    "                \n",
    "                # Read GEDI L4A data\n",
    "                gedil4_f_path <- paste(gedipath, \"WDPA_gedi_L4A_tiles/\", all_gedil4_f[this_csvid], sep = \"\")\n",
    "                gedil4_f <- as.data.frame(st_read(gedil4_f_path))\n",
    "                \n",
    "                # Read GEDI L2A data\n",
    "                gedil2_f_path <- paste(gedipath, \"WDPA_gedi_L2A_tiles/\", all_gedil2_f[this_csvid], sep = \"\")\n",
    "                gedil2_f <- as.data.frame(st_read(gedil2_f_path))\n",
    "            \n",
    "                # Check if GEDI L4A data is empty\n",
    "                if (nrow(gedil4_f) < 1) {\n",
    "                    cat(\"Error: No data for GEDI L4A\\n\")\n",
    "                    gedi_l24 <- gedil2_f\n",
    "                    gedi_l24\n",
    "agbd_se <- NA\n",
    "                    gedi_l24\n",
    "agbd_t_se <- NA\n",
    "                } else {\n",
    "                    # Select relevant columns from GEDI L4A\n",
    "                    gedi_l4_sub <- gedil4_f %>%\n",
    "                        dplyr::select(shot_number, agbd, agbd_se, agbd_t, agbd_t_se)\n",
    "                    \n",
    "                    # Join with GEDI L2A data\n",
    "                    gedi_l24 <- inner_join(gedil2_f, gedi_l4_sub, by = \"shot_number\")\n",
    "                }\n",
    "            \n",
    "                print(dim(gedi_l24))\n",
    "            \n",
    "                # Initialize empty spatial object for the current iteration\n",
    "                gedi_l24_sp <- NULL\n",
    "            \n",
    "                # Convert to spatial points data frame if there is data\n",
    "                if (nrow(gedi_l24) > 0) {\n",
    "                    gedi_l24_sp <- SpatialPointsDataFrame(\n",
    "                        coords = gedi_l24[, c(\"lon_lowestmode\", \"lat_lowestmode\")],\n",
    "                        data = gedi_l24,\n",
    "                        proj4string = CRS(\"+init=epsg:4326\")\n",
    "                    ) %>% spTransform(CRS(\"+init=epsg:6933\"))\n",
    "                matched_gedi <- terra::extract(mras,vect(gedi_l24_sp), df=TRUE)\n",
    "                matched_gedi_metrics <- cbind(matched_gedi,gedi_l24_sp@data)\n",
    "                matched_gedi_metrics_filtered <- matched_gedi_metrics %>% dplyr::filter(!is.na(status)) %>% \n",
    "                convertFactor(matched0 = matched,exgedi = .) \n",
    "\n",
    "            iso_matched_gedi_df <- rbind(matched_gedi_metrics_filtered,iso_matched_gedi_df)\n",
    "            print(dim(iso_matched_gedi_df))\n",
    "         }\n",
    "        \n",
    "        # Store results in a list\n",
    "        results_list[[this_csvid]] <- iso_matched_gedi_df\n",
    "    }\n",
    "    \n",
    "    # Combine all results\n",
    "    if (!is.null(iso_matched_gedi_df)) {\n",
    "        iso_matched_gedi_df <- do.call(rbind, results_list)\n",
    "    }\n",
    "    \n",
    "    cat(\"Done GEDI processing\\n\")\n",
    "    return(iso_matched_gedi_df)\n",
    "}\n",
    "     "
   ]
  },
  {
   "cell_type": "code",
   "execution_count": null,
   "id": "55f858d4-1e63-4b8c-83ef-bd0a2df3ad82",
   "metadata": {},
   "outputs": [],
   "source": [
    "ex_out <- for (this_csvid in seq_along(length(all_gedil2_f))) {\n",
    "        ##add the GEDI l4a model prediction for AGB here :\n",
    "        cat(\"Readng in no. \", this_csvid,\"csv of \", length(all_gedil2_f),\"csvs for iso3\",iso3,\"\\n\")\n",
    "\n",
    "    # for (this_gedi4 in all_gedil4_f[this_csvid]){\n",
    "            gedil4_f <- as.data.frame(st_read(paste(gedipath,\"WDPA_gedi_L4A_tiles/\",all_gedil4_f[this_csvid],sep=\"\")))\n",
    "    # }\n",
    "    # for (this_gedi2 in all_gedil2_f[this_csvid]){\n",
    "            gedil2_f <- as.data.frame(st_read(paste(gedipath,\"WDPA_gedi_L2A_tiles/\",all_gedil2_f[this_csvid],sep=\"\")))\n",
    "    # }\n",
    "            if (nrow(gedil4_f) < 1){   #is.na(gedi_l4) || \n",
    "              cat(\"error\")\n",
    "              gedi_l24 <- gedil2_f\n",
    "              gedi_l24\n",
    "agbd_se <- NA\n",
    "              gedi_l24\n",
    "agbd_t_se <- NA\n",
    "            } else {\n",
    "              gedi_l4_sub <- gedil4_f %>%\n",
    "                dplyr::select(shot_number, agbd, agbd_se, agbd_t, agbd_t_se)\n",
    "              gedi_l24 <- inner_join(gedil2_f, gedi_l4_sub, by=\"shot_number\")\n",
    "\n",
    "            }\n",
    "\n",
    "        print(dim(gedi_l24))\n",
    "        iso_matched_gedi_df <- data.frame()\n",
    "        if(nrow(gedi_l24)>0){\n",
    "            gedi_l24_sp <- gedi_l24 %>% \n",
    "                SpatialPointsDataFrame(coords=.[,c(\"lon_lowestmode\",\"lat_lowestmode\")],\n",
    "                                     proj4string=CRS(\"+init=epsg:4326\"), data=.) %>%spTransform(., CRS(\"+init=epsg:6933\"))\n",
    "        }\n",
    "        return(gedi_l24_sp)\n",
    "}\n",
    "     "
   ]
  },
  {
   "cell_type": "code",
   "execution_count": null,
   "id": "15b3f1c0-fc2b-493d-ab92-75c17b21b727",
   "metadata": {},
   "outputs": [],
   "source": [
    "results_list <- list()\n",
    "\n",
    "# Iterate over the sequence of indices for your files\n",
    "for (this_csvid in seq_along(all_gedil2_f)) {\n",
    "    cat(\"Reading in no. \", this_csvid, \"csv of \", length(all_gedil2_f), \"csvs for iso3\", iso3, \"\\n\")\n",
    "    \n",
    "    # Read GEDI L4A data\n",
    "    gedil4_f_path <- paste(gedipath, \"WDPA_gedi_L4A_tiles/\", all_gedil4_f[this_csvid], sep = \"\")\n",
    "    gedil4_f <- as.data.frame(st_read(gedil4_f_path))\n",
    "    \n",
    "    # Read GEDI L2A data\n",
    "    gedil2_f_path <- paste(gedipath, \"WDPA_gedi_L2A_tiles/\", all_gedil2_f[this_csvid], sep = \"\")\n",
    "    gedil2_f <- as.data.frame(st_read(gedil2_f_path))\n",
    "\n",
    "    # Check if GEDI L4A data is empty\n",
    "    if (nrow(gedil4_f) < 1) {\n",
    "        cat(\"Error: No data for GEDI L4A\\n\")\n",
    "        gedi_l24 <- gedil4_f\n",
    "        gedi_l24\n",
    "agbd_se <- NA\n",
    "        gedi_l24\n",
    "agbd_t_se <- NA\n",
    "    } else {\n",
    "        # Select relevant columns from GEDI L4A\n",
    "        gedi_l4_sub <- gedil4_f %>%\n",
    "            dplyr::select(shot_number, agbd, agbd_se, agbd_t, agbd_t_se)\n",
    "        \n",
    "        # Join with GEDI L2A data\n",
    "        gedi_l24 <- inner_join(gedil2_f, gedi_l4_sub, by = \"shot_number\")\n",
    "    }\n",
    "\n",
    "    print(dim(gedi_l24))\n",
    "\n",
    "    # Initialize empty spatial object for the current iteration\n",
    "    gedi_l24_sp <- NULL\n",
    "\n",
    "    # Convert to spatial points data frame if there is data\n",
    "    if (nrow(gedi_l24) > 0) {\n",
    "        gedi_l24_sp <- SpatialPointsDataFrame(\n",
    "            coords = gedi_l24[, c(\"lon_lowestmode\", \"lat_lowestmode\")],\n",
    "            data = gedi_l24,\n",
    "            proj4string = CRS(\"+init=epsg:4326\")\n",
    "        ) %>% spTransform(CRS(\"+init=epsg:6933\"))\n",
    "    }\n",
    "    \n",
    "    # Store result in the list\n",
    "    results_list[[this_csvid]] <- gedi_l24_sp\n",
    "}"
   ]
  },
  {
   "cell_type": "code",
   "execution_count": null,
   "id": "17bb918f-995c-44b0-bf3c-a9d7c3856540",
   "metadata": {},
   "outputs": [],
   "source": [
    "single_result <- results_list[[2]]\n"
   ]
  },
  {
   "cell_type": "code",
   "execution_count": null,
   "id": "d041d815-1b0a-4852-b76f-64d64a84b3d1",
   "metadata": {},
   "outputs": [],
   "source": [
    "single_result_sf <- st_as_sf(single_result)\n"
   ]
  },
  {
   "cell_type": "code",
   "execution_count": null,
   "id": "4361aefc-cae8-443b-8b42-7a0e82813d76",
   "metadata": {},
   "outputs": [],
   "source": [
    "matched<-readRDS(\"~/output/WDPA_matching_results/GNB_wk24/GNB_pa_351088_matching_results_wk24.RDS\")\n"
   ]
  },
  {
   "cell_type": "code",
   "execution_count": null,
   "id": "2b0817b0-0345-4623-96e1-c36dd5ca7dc7",
   "metadata": {},
   "outputs": [],
   "source": [
    "ggplot(data_sf) +\n",
    "  geom_sf(aes(color = status), size = 1) + \n",
    "  geom_sf(data = single_result_sf, color = \"black\", linetype = \"dashed\") +\n",
    "  theme_minimal() +\n",
    "  scale_color_manual(values = c(\"TRUE\" = \"purple\", \"FALSE\" = \"blue\"))+\n",
    "  labs(title = \"Spatial Points from CSV\",\n",
    "       x = \"Longitude\",\n",
    "       y = \"Latitude\",\n",
    "      color = \"Status\")\n",
    "     \n"
   ]
  },
  {
   "cell_type": "code",
   "execution_count": null,
   "id": "871c3203-d213-42b3-a807-ff159426c74c",
   "metadata": {},
   "outputs": [],
   "source": [
    "all_gedil2_f\n"
   ]
  },
  {
   "cell_type": "code",
   "execution_count": null,
   "id": "abb485d7-fbbf-45c2-b660-5c03ba5c882b",
   "metadata": {},
   "outputs": [],
   "source": [
    "gediGrid<-st_read(\"~/my-public-bucket/GEDI_global_PA_v2/WDPA_gedi_L2A_tiles/tile_num_29599_L2A.gpkg\")\n"
   ]
  },
  {
   "cell_type": "code",
   "execution_count": null,
   "id": "591f68b4-50b5-46bd-8a9a-248cad7a76c8",
   "metadata": {},
   "outputs": [],
   "source": []
  }
 ],
 "metadata": {
  "kernelspec": {
   "display_name": "R",
   "language": "R",
   "name": "ir"
  },
  "language_info": {
   "codemirror_mode": "r",
   "file_extension": ".r",
   "mimetype": "text/x-r-source",
   "name": "R",
   "pygments_lexer": "r",
   "version": "4.2.3"
  }
 },
 "nbformat": 4,
 "nbformat_minor": 5
}
