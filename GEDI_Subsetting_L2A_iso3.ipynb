{
 "cells": [
  {
   "cell_type": "code",
   "execution_count": null,
   "id": "c879111c-c6cc-4dfc-a257-60106c347c36",
   "metadata": {},
   "outputs": [],
   "source": [
    "!pip install geopandas\n",
    "!pip install contextily"
   ]
  },
  {
   "cell_type": "code",
   "execution_count": null,
   "id": "4cc8f20a-ac26-454a-a32f-52eb70d0f2d6",
   "metadata": {},
   "outputs": [],
   "source": [
    "from maap.maap import MAAP\n",
    "maap = MAAP(maap_host='api.maap-project.org')\n",
    "\n",
    "def job_status_for(job_id: str) -> str:\n",
    "    response = maap.getJobStatus(job_id)\n",
    "    response.raise_for_status()\n",
    "   \n",
    "    root = ET.fromstring(response.text)\n",
    "    status_element = root.find('.//{http://www.opengis.net/wps/2.0}Status')\n",
    "   \n",
    "    return status_element.text\n",
    "\n",
    "def job_result_for(job_id: str) -> str:\n",
    "    response = maap.getJobResult(job_id)\n",
    "    response.raise_for_status()\n",
    "   \n",
    "    root = ET.fromstring(response.text)\n",
    "\n",
    "    return root.find('.//{http://www.opengis.net/wps/2.0}Data').text\n",
    "\n",
    "def to_job_output_dir(job_result_url: str) -> str:\n",
    "    url_path = urlparse(job_result_url).path\n",
    "    # The S3 Key is the URL path excluding the `/{username}` prefix\n",
    "    s3_key = \"/\".join(url_path.split(\"/\")[2:])\n",
    "\n",
    "    return f\"/projects/my-private-bucket/{s3_key}\"\n",
    "\n",
    "def wait_for_job(job_id: str) -> str:\n",
    "    return job_status_for(job_id)"
   ]
  },
  {
   "cell_type": "code",
   "execution_count": 1,
   "id": "2fc333fc-b985-4354-8b92-bcd09287bc9c",
   "metadata": {},
   "outputs": [],
   "source": [
    "#pip install geopandas\n",
    "#pip install shapely\n",
    "#Import numpy for making column inputs easier\n",
    "import numpy as np\n",
    "import pandas as pd\n",
    "import geopandas as gpd\n",
    "import backoff\n",
    "import shapely\n",
    "import glob\n",
    "import os"
   ]
  },
  {
   "cell_type": "code",
   "execution_count": 2,
   "id": "1ac841ef-9b40-42c6-8624-f63ed9697aa7",
   "metadata": {},
   "outputs": [],
   "source": [
    "import xml.etree.ElementTree as ET\n",
    "from urllib.parse import urlparse\n",
    "\n",
    "def job_status_for(job_id: str) -> str:\n",
    "    response = maap.getJobStatus(job_id)\n",
    "    response.raise_for_status()\n",
    "    \n",
    "    root = ET.fromstring(response.text)\n",
    "    status_element = root.find('.//{http://www.opengis.net/wps/2.0}Status')\n",
    "    \n",
    "    return status_element.text\n",
    "\n",
    "def job_result_for(job_id: str) -> str:\n",
    "    response = maap.getJobResult(job_id)\n",
    "    response.raise_for_status()\n",
    "    \n",
    "    root = ET.fromstring(response.text)\n",
    "\n",
    "    return root.find('.//{http://www.opengis.net/wps/2.0}Data').text\n",
    "\n",
    "def to_job_output_dir(job_result_url: str) -> str:\n",
    "    url_path = urlparse(job_result_url).path\n",
    "    # The S3 Key is the URL path excluding the `/{username}` prefix\n",
    "    s3_key = \"/\".join(url_path.split(\"/\")[2:])\n",
    "\n",
    "    return f\"/projects/my-private-bucket/{s3_key}\""
   ]
  },
  {
   "cell_type": "code",
   "execution_count": 5,
   "id": "cab5a81e-2d4e-49dc-b0b2-f940ddcbdce3",
   "metadata": {},
   "outputs": [],
   "source": [
    "iso3 = \"HND\"  ##ARG URY\n",
    "file_path = f\"/projects/my-public-bucket/AOIs/vero_1deg_tileindex/tileindex_{iso3}.csv\"\n",
    "tileindex_df = pd.read_csv(file_path)\n",
    "# Display the first few rows of the DataFrame\n",
    "#print(tileindex_df.head())"
   ]
  },
  {
   "cell_type": "code",
   "execution_count": 6,
   "id": "b9a378bc-a1f1-4028-9f51-0f4dba6bd2eb",
   "metadata": {},
   "outputs": [
    {
     "name": "stdout",
     "output_type": "stream",
     "text": [
      "22\n"
     ]
    },
    {
     "data": {
      "text/plain": [
       "'tile_num_16275'"
      ]
     },
     "execution_count": 6,
     "metadata": {},
     "output_type": "execute_result"
    }
   ],
   "source": [
    "json_files = tileindex_df['s3path']\n",
    "AOIs = json_files\n",
    "print(len(AOIs))\n",
    "aoi_name = os.path.basename(AOIs[0]).split('.')[0]\n",
    "aoi_name"
   ]
  },
  {
   "cell_type": "code",
   "execution_count": 29,
   "id": "15794e52-e1d5-47f0-bc2d-1d9da4e015c6",
   "metadata": {},
   "outputs": [
    {
     "data": {
      "text/plain": [
       "'https://maap-ops-workspace.s3.amazonaws.com/shared/leitoldv/AOIs/vero_1deg_tiles_52N52S_land/tile_num_16276.geojson'"
      ]
     },
     "execution_count": 29,
     "metadata": {},
     "output_type": "execute_result"
    }
   ],
   "source": [
    "AOIs[1]"
   ]
  },
  {
   "cell_type": "code",
   "execution_count": 14,
   "id": "a9b82df8-d46b-4a30-81fd-41d18a4d0f23",
   "metadata": {
    "tags": []
   },
   "outputs": [
    {
     "name": "stdout",
     "output_type": "stream",
     "text": [
      "Thanks, I'll run the GEDI L2A subsetter for tile_num_15735!!\n",
      "Thanks, I'll run the GEDI L2A subsetter for tile_num_15736!!\n",
      "Thanks, I'll run the GEDI L2A subsetter for tile_num_15913!!\n",
      "Thanks, I'll run the GEDI L2A subsetter for tile_num_15914!!\n",
      "Thanks, I'll run the GEDI L2A subsetter for tile_num_15915!!\n",
      "Thanks, I'll run the GEDI L2A subsetter for tile_num_15916!!\n",
      "Thanks, I'll run the GEDI L2A subsetter for tile_num_15917!!\n",
      "Thanks, I'll run the GEDI L2A subsetter for tile_num_16093!!\n",
      "Thanks, I'll run the GEDI L2A subsetter for tile_num_16094!!\n",
      "Thanks, I'll run the GEDI L2A subsetter for tile_num_16095!!\n",
      "Thanks, I'll run the GEDI L2A subsetter for tile_num_16096!!\n",
      "Thanks, I'll run the GEDI L2A subsetter for tile_num_16097!!\n",
      "Thanks, I'll run the GEDI L2A subsetter for tile_num_16273!!\n",
      "Thanks, I'll run the GEDI L2A subsetter for tile_num_16274!!\n",
      "Thanks, I'll run the GEDI L2A subsetter for tile_num_16275!!\n",
      "Thanks, I'll run the GEDI L2A subsetter for tile_num_16276!!\n",
      "Thanks, I'll run the GEDI L2A subsetter for tile_num_16277!!\n",
      "Thanks, I'll run the GEDI L2A subsetter for tile_num_16455!!\n"
     ]
    }
   ],
   "source": [
    "#Set up run to pull products for all GEDI products simultaneously #To run for only 1 or 2 products, change \"PRODUCTS\"\n",
    "\n",
    "#PRODUCTS = [\"L4A\"]  #To run for only 1 or 2 products, change \"PRODUCTS\"\n",
    "PRODUCTS = [\"L2A\"] #,\"L2A\",\"L2B\"]  #To run for only 1 or 2 products, change \"PRODUCTS\"\n",
    "#PRODUCTS = [\"L2B\"] #,\"L2A\",\"L2B\"]  #To run for only 1 or 2 products, change \"PRODUCTS\"\n",
    "\n",
    "AOIs = json_files\n",
    "\n",
    "for each_aoi in AOIs: \n",
    "    if \"L2A\" in PRODUCTS: \n",
    "        aoi_name = os.path.basename(each_aoi).split('.')[0]\n",
    "        print(f\"Thanks, I'll run the GEDI L2A subsetter for {aoi_name}!!\")\n",
    "        #aoi_url = each_aoi\n",
    "        inputs = dict(\n",
    "           aoi=each_aoi,\n",
    "           doi=\"L2A\",\n",
    "           lat=\"lat_lowestmode\",\n",
    "           lon=\"lon_lowestmode\",\n",
    "           beams=\"all\",\n",
    "           columns=\"shot_number,lon_lowestmode,lat_lowestmode,rh25,rh50,rh75,rh90,rh98,geolocation/sensitivity_a2,rh10,rh20,rh30,rh40,rh50,rh60,rh70,rh80\",\n",
    "           #columns=\"shot_number,lon_lowestmode,lat_lowestmode,rh10,rh20,rh30,rh40,rh50,rh60,rh70,rh80,rh90,rh98,quality_flag,rx_processing_a2/rx_algrunflag,rx_processing_a2/zcross,rx_processing_a2/toploc,geolocation/sensitivity_a2,degrade_flag,land_cover_data/pft_class,land_cover_data/region_class,surface_flag,rx_assess/rx_maxamp,rx_assess/sd_corrected,geolocation/stale_return_flag,land_cover_data/leaf_off_flag,land_cover_data/landsat_water_persistence,land_cover_data/urban_proportion\",\n",
    "           #columns=\"all\",\n",
    "           query=\"quality_flag == 1\",\n",
    "           limit = 75_000,\n",
    "           #temporal=\"-\",\n",
    "           output=f\"{os.path.basename(each_aoi).split('.')[0]}_L2A.gpkg\"\n",
    "        )\n",
    "        result = maap.submitJob(\n",
    "            identifier=\"gedi-subset\",\n",
    "            algo_id=\"gedi-subset\",\n",
    "            version=\"0.7.0\",\n",
    "            queue=\"maap-dps-worker-32gb\",\n",
    "            username=\"leitoldv\",\n",
    "            **inputs\n",
    "        )\n",
    "        inputs\n",
    "        job_id = result.id\n",
    "        job_id or result\n"
   ]
  },
  {
   "cell_type": "code",
   "execution_count": 11,
   "id": "a8619742-044c-4170-84f7-ce7712c18e5f",
   "metadata": {},
   "outputs": [
    {
     "data": {
      "text/plain": [
       "'b0ffcdc2-6e99-4a7b-8587-e76c1ca7610f'"
      ]
     },
     "execution_count": 11,
     "metadata": {},
     "output_type": "execute_result"
    }
   ],
   "source": [
    "PRODUCTS = [\"L2A\"] #,\"L2A\",\"L2B\"]  #To run for only 1 or 2 products, change \"PRODUCTS\"\n",
    "## if necessary ## re-run failed subsets\n",
    "#BRA\n",
    "each_aoi = 'https://maap-ops-workspace.s3.amazonaws.com/shared/leitoldv/AOIs/vero_1deg_tiles_52N52S_land/tile_num_22982.geojson'\n",
    "\n",
    "inputs = dict(\n",
    "    aoi=each_aoi,\n",
    "    doi=\"L2A\",\n",
    "    lat=\"lat_lowestmode\",\n",
    "    lon=\"lon_lowestmode\",\n",
    "    beams=\"all\",\n",
    "    columns=\"shot_number,lon_lowestmode,lat_lowestmode,rh25,rh50,rh75,rh90,rh98,geolocation/sensitivity_a2,rh10,rh20,rh30,rh40,rh50,rh60,rh70,rh80\",\n",
    "    #columns=\"shot_number,lon_lowestmode,lat_lowestmode,rh10,rh20,rh30,rh40,rh50,rh60,rh70,rh80,rh90,rh98,quality_flag,rx_processing_a2/rx_algrunflag,rx_processing_a2/zcross,rx_processing_a2/toploc,geolocation/sensitivity_a2,degrade_flag,land_cover_data/pft_class,land_cover_data/region_class,surface_flag,rx_assess/rx_maxamp,rx_assess/sd_corrected,geolocation/stale_return_flag,land_cover_data/leaf_off_flag,land_cover_data/landsat_water_persistence,land_cover_data/urban_proportion\",\n",
    "    #columns=\"all\",\n",
    "    query=\"quality_flag == 1\",\n",
    "    limit = 75_000,\n",
    "    #temporal=\"-\",\n",
    "    output=f\"{os.path.basename(each_aoi).split('.')[0]}_L2A.gpkg\"\n",
    ")\n",
    "result = maap.submitJob(\n",
    "    identifier=\"gedi-subset\",\n",
    "    algo_id=\"gedi-subset\",\n",
    "    version=\"0.7.0\",\n",
    "    queue=\"maap-dps-worker-32gb\",\n",
    "    username=\"leitoldv\",\n",
    "    **inputs\n",
    ")\n",
    "inputs\n",
    "job_id = result.id\n",
    "job_id or result"
   ]
  },
  {
   "cell_type": "code",
   "execution_count": 8,
   "id": "2fd5ccb3-9a87-4b3b-b6c7-5a9cf9d03e97",
   "metadata": {},
   "outputs": [
    {
     "name": "stdout",
     "output_type": "stream",
     "text": [
      "934\n"
     ]
    }
   ],
   "source": [
    "# Define the folder path containing the output files from subsetting of tiles\n",
    "folder_path = \"/projects/my-public-bucket/GEDI_global_PA_v2/WDPA_gedi_L2A_tiles\"\n",
    "\n",
    "# Create a list to store the GeoPackage file paths\n",
    "gpkg_files = []\n",
    "\n",
    "# Use glob to find all .gpkg files in the folder\n",
    "pattern1 = os.path.join(folder_path, '*.gpkg')\n",
    "gpkg_files = glob.glob(pattern1)\n",
    "print(len(gpkg_files))\n"
   ]
  },
  {
   "cell_type": "code",
   "execution_count": 9,
   "id": "48885bd9-4577-4cfd-88ce-44e0790191e8",
   "metadata": {},
   "outputs": [
    {
     "name": "stdout",
     "output_type": "stream",
     "text": [
      "Copying tile_num_22080_L2A.gpkg...\n",
      "Copying tile_num_22259_L2A.gpkg...\n",
      "Copying tile_num_23160_L2A.gpkg...\n",
      "Copying tile_num_22620_L2A.gpkg...\n"
     ]
    }
   ],
   "source": [
    "import subprocess\n",
    "\n",
    "root_dir = \"/projects/my-private-bucket/dps_output/gedi-subset/0.7.0/gedi-subset/2024/09/08\"  # Can now set name\n",
    "out_dir = \"/projects/my-public-bucket/GEDI_global_PA_v2/WDPA_gedi_L2A_tiles\"\n",
    "\n",
    "for dirName, subdirList, fileList in os.walk(root_dir):\n",
    "#    print(\"Found directory: %s\" % dirName)\n",
    "    for fname in fileList:\n",
    "        if fname.endswith(\"L2A.gpkg\"):\n",
    "            source_path = os.path.join(dirName, fname)\n",
    "            #print(source_path)\n",
    "            target_path = os.path.join(out_dir, fname)\n",
    "            #print(target_path)\n",
    "#            if not os.path.exists(target_path):  # Check if file doesn’t exist in target directory\n",
    "            print(f\"Copying {fname}...\")\n",
    "            subprocess.call(['cp', source_path, target_path])\n",
    "#            else:\n",
    "#                print(f\"{fname} already exists in the target directory. Skipping...\")"
   ]
  },
  {
   "cell_type": "code",
   "execution_count": null,
   "id": "867fdc3f",
   "metadata": {},
   "outputs": [],
   "source": []
  }
 ],
 "metadata": {
  "kernelspec": {
   "display_name": "Python 3 (ipykernel)",
   "language": "python",
   "name": "python3"
  },
  "language_info": {
   "codemirror_mode": {
    "name": "ipython",
    "version": 3
   },
   "file_extension": ".py",
   "mimetype": "text/x-python",
   "name": "python",
   "nbconvert_exporter": "python",
   "pygments_lexer": "ipython3",
   "version": "3.10.13"
  }
 },
 "nbformat": 4,
 "nbformat_minor": 5
}
