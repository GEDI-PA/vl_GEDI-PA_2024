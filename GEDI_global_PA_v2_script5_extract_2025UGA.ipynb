{
 "cells": [
  {
   "cell_type": "code",
   "execution_count": 1,
   "id": "32aeaaac-7d6f-488b-b136-ada54bb8f840",
   "metadata": {},
   "outputs": [],
   "source": [
    "## ---------------- SEP5 testing gedi extraction code -----------------------"
   ]
  },
  {
   "cell_type": "code",
   "execution_count": 2,
   "id": "375b9c98-0ce5-4bb8-86dd-29410a0eabee",
   "metadata": {},
   "outputs": [],
   "source": [
    "##\n",
    "# conda install -c conda-forge r-optmatch\n",
    "# conda install -c conda-forge r-RItools\n",
    "##"
   ]
  },
  {
   "cell_type": "code",
   "execution_count": 19,
   "id": "bb019e34-2538-4e39-828f-e670636a0436",
   "metadata": {},
   "outputs": [
    {
     "name": "stderr",
     "output_type": "stream",
     "text": [
      "Updating HTML index of packages in '.Library'\n",
      "\n",
      "Making 'packages.html' ...\n",
      " done\n",
      "\n",
      "Updating HTML index of packages in '.Library'\n",
      "\n",
      "Making 'packages.html' ...\n",
      " done\n",
      "\n"
     ]
    }
   ],
   "source": [
    "install.packages(\"s3\")\n",
    "install.packages(\"doParallel\")\n",
    "#install.packages(\"RItools\")    "
   ]
  },
  {
   "cell_type": "code",
   "execution_count": 20,
   "id": "aa085b6a-d865-4ff5-8c40-e26b9fe93940",
   "metadata": {},
   "outputs": [],
   "source": [
    "library(\"terra\")\n",
    "library(\"dplyr\")\n",
    "library(\"sf\")\n",
    "#install.packages(\"s3\")\n",
    "library(\"s3\")\n",
    "\n",
    "library(\"sp\")\n",
    "library(\"foreach\")\n",
    "library(\"stringr\")\n",
    "library(\"aws.s3\")\n",
    "#conda install -c conda-forge r-optmatch #r-ggmap r-hrbrthemes r-Hmisc\n",
    "#library(\"optmatch\")\n",
    "#install.packages(\"doParallel\")\n",
    "library(\"doParallel\")\n",
    "#install.packages(\"RItools\")    \n",
    "#library(\"RItools\")\n"
   ]
  },
  {
   "cell_type": "code",
   "execution_count": 21,
   "id": "62cdb96c-9e67-4aa4-ac5d-436e5d467d8b",
   "metadata": {},
   "outputs": [],
   "source": [
    "#s3 <- paws::s3()"
   ]
  },
  {
   "cell_type": "code",
   "execution_count": 22,
   "id": "2ced8004-1639-432b-9c12-d0cb5f6632fc",
   "metadata": {},
   "outputs": [],
   "source": [
    "#To test, we define the variables manually. For final version, run the commented out section below\n",
    "#iso3 <-\"Bpt\"\n",
    "#iso3 <-\"BaE\"\n",
    "#iso3 <- \"BaE\"\n",
    "#iso3 <- \"GHA\"\n",
    "iso3 <- \"UGA\"\n",
    "gediwk <- 24\n",
    "mproc <- 1"
   ]
  },
  {
   "cell_type": "code",
   "execution_count": 23,
   "id": "6d063ab5-b6c7-45a5-b852-55e85691de33",
   "metadata": {},
   "outputs": [],
   "source": [
    "#-------------------------------------------------------------------------------\n",
    "#args = commandArgs(trailingOnly=TRUE)\n",
    "#if (length(args)==0) {\n",
    "#  stop(\"At least one argument must be supplied (input file).n\", call.=FALSE)\n",
    "#} else if (length(args)>=1) {\n",
    "#  \n",
    "#  iso3 <- args[1]  #country to process\n",
    "#  gediwk <- args[2]   #the # of weeks GEDI data to use\n",
    "#  mproc <- as.integer(args[3])  #the number of cores to use for matching \n",
    "#}\n",
    "#-------------------------------------------------------------------------------"
   ]
  },
  {
   "cell_type": "code",
   "execution_count": 24,
   "id": "715b5c20-70ed-4406-9077-e0a70295e4f9",
   "metadata": {},
   "outputs": [
    {
     "name": "stdout",
     "output_type": "stream",
     "text": [
      "Step 0: Loading global variables for UGA with wk 24 data \n"
     ]
    },
    {
     "name": "stderr",
     "output_type": "stream",
     "text": [
      "\u001b[36mℹ\u001b[39m \u001b[34m\u001b[34ms3://maap-ops-workspace/shared/leitoldv/GEDI_global_PA_v2/wwf_ecoregions_key.csv\u001b[34m\u001b[39m already exists at \u001b[34m\u001b[34m/projects/.local/share/R/s3/maap-ops-workspace/shared/leitoldv/GEDI_global_PA_v2/wwf_ecoregions_key.csv\u001b[34m\u001b[39m\n",
      "\n",
      "\u001b[36mℹ\u001b[39m \u001b[34m\u001b[34ms3://maap-ops-workspace/shared/leitoldv/GEDI_global_PA_v2/WDPA_shapefiles/WDPA_polygons/UGA_PA_poly.rds\u001b[34m\u001b[39m already exists at \u001b[34m\u001b[34m/projects/.local/share/R/s3/maap-ops-workspace/shared/leitoldv/GEDI_global_PA_v2/WDPA_shapefiles/WDPA_polygons/UGA_PA_poly.rds\u001b[34m\u001b[39m\n",
      "\n",
      "\u001b[36mℹ\u001b[39m \u001b[34m\u001b[34ms3://maap-ops-workspace/shared/leitoldv/GEDI_global_PA_v2/GEDI_ANCI_PFT_r1000m_EASE2.0_UMD_v1_projection_defined_6933.tif\u001b[34m\u001b[39m already exists at \u001b[34m\u001b[34m/projects/.local/share/R/s3/maap-ops-workspace/shared/leitoldv/GEDI_global_PA_v2/GEDI_ANCI_PFT_r1000m_EASE2.0_UMD_v1_projection_defined_6933.tif\u001b[34m\u001b[39m\n",
      "\n",
      "\u001b[36mℹ\u001b[39m \u001b[34m\u001b[34ms3://maap-ops-workspace/shared/leitoldv/GEDI_global_PA_v2/GEDI_ANCI_CONTINENT_r1000m_EASE2.0_UMD_v1_revised_projection_defined_6933.tif\u001b[34m\u001b[39m already exists at \u001b[34m\u001b[34m/projects/.local/share/R/s3/maap-ops-workspace/shared/leitoldv/GEDI_global_PA_v2/GEDI_ANCI_CONTINENT_r1000m_EASE2.0_UMD_v1_revised_projection_defined_6933.tif\u001b[34m\u001b[39m\n",
      "\n",
      "\u001b[36mℹ\u001b[39m all files already exist\n",
      "\n",
      "\u001b[36mℹ\u001b[39m \u001b[34m\u001b[34ms3://maap-ops-workspace/shared/leitoldv/GEDI_global_PA_v2/WDPA_countries/shp/UGA.shp\u001b[34m\u001b[39m already exists at \u001b[34m\u001b[34m/projects/.local/share/R/s3/maap-ops-workspace/shared/leitoldv/GEDI_global_PA_v2/WDPA_countries/shp/UGA.shp\u001b[34m\u001b[39m\n",
      "\n"
     ]
    },
    {
     "name": "stdout",
     "output_type": "stream",
     "text": [
      "Reading layer `UGA' from data source \n",
      "  `/projects/.local/share/R/s3/maap-ops-workspace/shared/leitoldv/GEDI_global_PA_v2/WDPA_countries/shp/UGA.shp' \n",
      "  using driver `ESRI Shapefile'\n",
      "Simple feature collection with 1 feature and 94 fields\n",
      "Geometry type: POLYGON\n",
      "Dimension:     XY\n",
      "Bounding box:  xmin: 29.54846 ymin: -1.475206 xmax: 35.00647 ymax: 4.219692\n",
      "Geodetic CRS:  WGS 84\n"
     ]
    },
    {
     "name": "stderr",
     "output_type": "stream",
     "text": [
      "\u001b[36mℹ\u001b[39m \u001b[34m\u001b[34ms3://maap-ops-workspace/shared/leitoldv/GEDI_global_PA_v2/rf_noclimate.RData\u001b[34m\u001b[39m already exists at \u001b[34m\u001b[34m/projects/.local/share/R/s3/maap-ops-workspace/shared/leitoldv/GEDI_global_PA_v2/rf_noclimate.RData\u001b[34m\u001b[39m\n",
      "\n"
     ]
    }
   ],
   "source": [
    "cat(\"Step 0: Loading global variables for\", iso3,\"with wk\", gediwk, \"data \\n\")\n",
    "\n",
    "#f.path <- \"/projects/my-public-bucket/GEDI_global_PA_v2/\"\n",
    "f.path <- \"s3://maap-ops-workspace/shared/leitoldv/GEDI_global_PA_v2/\"\n",
    "\n",
    "matching_tifs <- c(\"wwf_biomes\",\"wwf_ecoreg\",\"lc2000\",\"d2roads\", \"dcities\",\"dem\",\n",
    "                   \"pop_cnt_2000\",\"pop_den_2000\",\"slope\", \"tt2cities_2000\", \"wc_prec_1990-1999\",\n",
    "                   \"wc_tmax_1990-1999\",\"wc_tavg_1990-1999\",\"wc_tmin_1990-1999\" )\n",
    "\n",
    "ecoreg_key <- read.csv(s3_get(paste(f.path,\"wwf_ecoregions_key.csv\",sep=\"\")))\n",
    "#unlink(s3_get(paste(f.path,\"wwf_ecoregions_key.csv\",sep=\"\")))\n",
    "\n",
    "allPAs <- readRDS(s3_get(paste(f.path,\"WDPA_shapefiles/WDPA_polygons/\",iso3,\"_PA_poly.rds\",sep=\"\")))\n",
    "\n",
    "MCD12Q1 <- rast(s3_get(paste(f.path,\"GEDI_ANCI_PFT_r1000m_EASE2.0_UMD_v1_projection_defined_6933.tif\",sep=\"\")))\n",
    "crs(MCD12Q1)  <- \"epsg:6933\"\n",
    "\n",
    "world_region <- rast(s3_get(paste(f.path,\"GEDI_ANCI_CONTINENT_r1000m_EASE2.0_UMD_v1_revised_projection_defined_6933.tif\",sep=\"\")))\n",
    "crs(world_region)  <- \"epsg:6933\"\n",
    "\n",
    "s3_get_files(c(paste(f.path,\"WDPA_countries/shp/\",iso3,\".shp\",sep=\"\"),\n",
    "              paste(f.path,\"WDPA_countries/shp/\",iso3,\".shx\",sep=\"\"),\n",
    "              paste(f.path,\"WDPA_countries/shp/\",iso3,\".prj\",sep=\"\"),\n",
    "              paste(f.path,\"WDPA_countries/shp/\",iso3,\".dbf\",sep=\"\")),confirm = FALSE)\n",
    "adm <- st_read(s3_get(paste(f.path,\"WDPA_countries/shp/\",iso3,\".shp\",sep=\"\")))\n",
    "\n",
    "#s3_path <- paste(\"/vsis3/maap-ops-workspace/shared/leitoldv/GEDI_global_PA_v2/WDPA_countries/shp/\",iso3,\".shp\",sep=\"\") #Redo this for the gpkg\n",
    "#adm <- st_read(s3_path)\n",
    "adm_prj <- project(vect(adm), \"epsg:6933\")\n",
    "\n",
    "load(s3_get(paste(f.path,\"rf_noclimate.RData\",sep=\"\")))\n",
    "#source(s3_get(paste(f.path,\"matching_func.R\",sep=\"\")))\n",
    "source(\"/projects/my-public-bucket/GEDI_global_PA_v2/vl_GEDI-PA_2024/matching_func_2024.R\")\n",
    "\n",
    "#flag <- \"run all\"\n",
    "#flag <- \"run remaining\""
   ]
  },
  {
   "cell_type": "code",
   "execution_count": 25,
   "id": "d79924a1-23ba-40a0-81ee-87219004c19c",
   "metadata": {},
   "outputs": [
    {
     "name": "stdout",
     "output_type": "stream",
     "text": [
      "Step 5: Performing WK  24 GEDI extraction for UGA \n"
     ]
    },
    {
     "name": "stderr",
     "output_type": "stream",
     "text": [
      "\u001b[36mℹ\u001b[39m \u001b[34m\u001b[34ms3://maap-ops-workspace/shared/leitoldv/GEDI_global_PA_v2/WDPA_matching_results/UGA_wk24_filelist.csv\u001b[34m\u001b[39m already exists at \u001b[34m\u001b[34m/projects/.local/share/R/s3/maap-ops-workspace/shared/leitoldv/GEDI_global_PA_v2/WDPA_matching_results/UGA_wk24_filelist.csv\u001b[34m\u001b[39m\n",
      "\n"
     ]
    },
    {
     "data": {
      "text/html": [
       "426"
      ],
      "text/latex": [
       "426"
      ],
      "text/markdown": [
       "426"
      ],
      "text/plain": [
       "[1] 426"
      ]
     },
     "metadata": {},
     "output_type": "display_data"
    }
   ],
   "source": [
    "#---------------STEP5. GEDI PROCESSING ---------------- \n",
    "#using GEDI shots to extract the treatment/control status, also extract the MODIS PFT for AGB prediction\n",
    "\n",
    "# if (file.exists(paste(f.path,\"WDPA_GEDI_extract/\",iso3,\"_wk\",gediwk,\"/\",iso3,\"_gedi_extracted_matching_wk\",gediwk,\".RDS\", sep=\"\"))){\n",
    "cat(paste(\"Step 5: Performing WK \", gediwk, \"GEDI extraction for\", iso3,\"\\n\"))\n",
    "#matched_all <-read.csv(paste(f.path,\"WDPA_extract4_residual_PAs/\", iso3, \"_wk_\", gediwk, \"_null_matches_rerun.csv\",sep=\"\")) \n",
    "matched_all <- read.csv(s3_get(paste(f.path,\"WDPA_matching_results/\",iso3,\"_wk24_filelist.csv\",sep=\"\")))[,2]\n",
    "length(matched_all)   "
   ]
  },
  {
   "cell_type": "code",
   "execution_count": 30,
   "id": "b6d1293d-7b7e-4f50-aba1-29a4b2867dd1",
   "metadata": {},
   "outputs": [
    {
     "name": "stdout",
     "output_type": "stream",
     "text": [
      "[1] \"UGA_pa_1435_matching_results_wk24.RDS\"\n",
      "[1] \"UGA_pa_1436_matching_results_wk24.RDS\"\n",
      "[1] \"UGA_pa_1437_matching_results_wk24.RDS\"\n",
      "[1] \"UGA_pa_1438_matching_results_wk24.RDS\"\n",
      "[1] \"UGA_pa_1439_matching_results_wk24.RDS\"\n",
      "[1] \"UGA_pa_1440_matching_results_wk24.RDS\"\n",
      "[1] \"UGA_pa_1441_matching_results_wk24.RDS\"\n",
      "[1] \"UGA_pa_1443_matching_results_wk24.RDS\"\n",
      "[1] \"UGA_pa_1444_matching_results_wk24.RDS\"\n",
      "[1] \"UGA_pa_1445_matching_results_wk24.RDS\"\n",
      "[1] \"UGA_pa_1446_matching_results_wk24.RDS\"\n",
      "[1] \"UGA_pa_18437_matching_results_wk24.RDS\"\n",
      "[1] \"UGA_pa_18438_matching_results_wk24.RDS\"\n",
      "[1] \"UGA_pa_20556_matching_results_wk24.RDS\"\n",
      "[1] \"UGA_pa_28175_matching_results_wk24.RDS\"\n",
      "[1] \"UGA_pa_301308_matching_results_wk24.RDS\"\n",
      "[1] \"UGA_pa_3051_matching_results_wk24.RDS\"\n",
      "[1] \"UGA_pa_31275_matching_results_wk24.RDS\"\n",
      "[1] \"UGA_pa_313096_matching_results_wk24.RDS\"\n",
      "[1] \"UGA_pa_313105_matching_results_wk24.RDS\"\n",
      "[1] \"UGA_pa_313107_matching_results_wk24.RDS\"\n",
      "[1] \"UGA_pa_313108_matching_results_wk24.RDS\"\n",
      "[1] \"UGA_pa_313109_matching_results_wk24.RDS\"\n",
      "[1] \"UGA_pa_313110_matching_results_wk24.RDS\"\n",
      "[1] \"UGA_pa_313112_matching_results_wk24.RDS\"\n",
      "[1] \"UGA_pa_315097_matching_results_wk24.RDS\"\n",
      "[1] \"UGA_pa_315104_matching_results_wk24.RDS\"\n",
      "[1] \"UGA_pa_315107_matching_results_wk24.RDS\"\n",
      "[1] \"UGA_pa_315109_matching_results_wk24.RDS\"\n",
      "[1] \"UGA_pa_315111_matching_results_wk24.RDS\"\n",
      "[1] \"UGA_pa_315112_matching_results_wk24.RDS\"\n",
      "[1] \"UGA_pa_315116_matching_results_wk24.RDS\"\n",
      "[1] \"UGA_pa_315117_matching_results_wk24.RDS\"\n",
      "[1] \"UGA_pa_315118_matching_results_wk24.RDS\"\n",
      "[1] \"UGA_pa_315120_matching_results_wk24.RDS\"\n",
      "[1] \"UGA_pa_315124_matching_results_wk24.RDS\"\n",
      "[1] \"UGA_pa_315125_matching_results_wk24.RDS\"\n",
      "[1] \"UGA_pa_315136_matching_results_wk24.RDS\"\n",
      "[1] \"UGA_pa_315141_matching_results_wk24.RDS\"\n",
      "[1] \"UGA_pa_315143_matching_results_wk24.RDS\"\n",
      "[1] \"UGA_pa_315159_matching_results_wk24.RDS\"\n",
      "[1] \"UGA_pa_315161_matching_results_wk24.RDS\"\n",
      "[1] \"UGA_pa_315172_matching_results_wk24.RDS\"\n",
      "[1] \"UGA_pa_315178_matching_results_wk24.RDS\"\n",
      "[1] \"UGA_pa_315195_matching_results_wk24.RDS\"\n",
      "[1] \"UGA_pa_315209_matching_results_wk24.RDS\"\n",
      "[1] \"UGA_pa_315210_matching_results_wk24.RDS\"\n",
      "[1] \"UGA_pa_315216_matching_results_wk24.RDS\"\n",
      "[1] \"UGA_pa_315231_matching_results_wk24.RDS\"\n",
      "[1] \"UGA_pa_315235_matching_results_wk24.RDS\"\n",
      "[1] \"UGA_pa_315243_matching_results_wk24.RDS\"\n",
      "[1] \"UGA_pa_315245_matching_results_wk24.RDS\"\n",
      "[1] \"UGA_pa_315247_matching_results_wk24.RDS\"\n",
      "[1] \"UGA_pa_315252_matching_results_wk24.RDS\"\n",
      "[1] \"UGA_pa_315285_matching_results_wk24.RDS\"\n",
      "[1] \"UGA_pa_315291_matching_results_wk24.RDS\"\n",
      "[1] \"UGA_pa_315295_matching_results_wk24.RDS\"\n",
      "[1] \"UGA_pa_315299_matching_results_wk24.RDS\"\n",
      "[1] \"UGA_pa_315300_matching_results_wk24.RDS\"\n",
      "[1] \"UGA_pa_315346_matching_results_wk24.RDS\"\n",
      "[1] \"UGA_pa_315380_matching_results_wk24.RDS\"\n",
      "[1] \"UGA_pa_315384_matching_results_wk24.RDS\"\n",
      "[1] \"UGA_pa_315391_matching_results_wk24.RDS\"\n",
      "[1] \"UGA_pa_315405_matching_results_wk24.RDS\"\n",
      "[1] \"UGA_pa_315408_matching_results_wk24.RDS\"\n",
      "[1] \"UGA_pa_315426_matching_results_wk24.RDS\"\n",
      "[1] \"UGA_pa_315444_matching_results_wk24.RDS\"\n",
      "[1] \"UGA_pa_315462_matching_results_wk24.RDS\"\n",
      "[1] \"UGA_pa_317282_matching_results_wk24.RDS\"\n",
      "[1] \"UGA_pa_33147_matching_results_wk24.RDS\"\n",
      "[1] \"UGA_pa_34804_matching_results_wk24.RDS\"\n",
      "[1] \"UGA_pa_34805_matching_results_wk24.RDS\"\n",
      "[1] \"UGA_pa_34808_matching_results_wk24.RDS\"\n",
      "[1] \"UGA_pa_354017_matching_results_wk24.RDS\"\n",
      "[1] \"UGA_pa_39980_matching_results_wk24.RDS\"\n",
      "[1] \"UGA_pa_39981_matching_results_wk24.RDS\"\n",
      "[1] \"UGA_pa_39985_matching_results_wk24.RDS\"\n",
      "[1] \"UGA_pa_39987_matching_results_wk24.RDS\"\n",
      "[1] \"UGA_pa_39988_matching_results_wk24.RDS\"\n",
      "[1] \"UGA_pa_39989_matching_results_wk24.RDS\"\n",
      "[1] \"UGA_pa_39990_matching_results_wk24.RDS\"\n",
      "[1] \"UGA_pa_39991_matching_results_wk24.RDS\"\n",
      "[1] \"UGA_pa_39992_matching_results_wk24.RDS\"\n",
      "[1] \"UGA_pa_39993_matching_results_wk24.RDS\"\n",
      "[1] \"UGA_pa_39994_matching_results_wk24.RDS\"\n",
      "[1] \"UGA_pa_39997_matching_results_wk24.RDS\"\n",
      "[1] \"UGA_pa_39998_matching_results_wk24.RDS\"\n",
      "[1] \"UGA_pa_39999_matching_results_wk24.RDS\"\n",
      "[1] \"UGA_pa_40000_matching_results_wk24.RDS\"\n",
      "[1] \"UGA_pa_40001_matching_results_wk24.RDS\"\n",
      "[1] \"UGA_pa_40002_matching_results_wk24.RDS\"\n",
      "[1] \"UGA_pa_40006_matching_results_wk24.RDS\"\n",
      "[1] \"UGA_pa_40007_matching_results_wk24.RDS\"\n",
      "[1] \"UGA_pa_40008_matching_results_wk24.RDS\"\n",
      "[1] \"UGA_pa_40009_matching_results_wk24.RDS\"\n",
      "[1] \"UGA_pa_40012_matching_results_wk24.RDS\"\n",
      "[1] \"UGA_pa_40014_matching_results_wk24.RDS\"\n",
      "[1] \"UGA_pa_40015_matching_results_wk24.RDS\"\n",
      "[1] \"UGA_pa_40017_matching_results_wk24.RDS\"\n",
      "[1] \"UGA_pa_40019_matching_results_wk24.RDS\"\n",
      "[1] \"UGA_pa_40020_matching_results_wk24.RDS\"\n",
      "[1] \"UGA_pa_40023_matching_results_wk24.RDS\"\n",
      "[1] \"UGA_pa_40024_matching_results_wk24.RDS\"\n",
      "[1] \"UGA_pa_40025_matching_results_wk24.RDS\"\n",
      "[1] \"UGA_pa_40027_matching_results_wk24.RDS\"\n",
      "[1] \"UGA_pa_40034_matching_results_wk24.RDS\"\n",
      "[1] \"UGA_pa_40035_matching_results_wk24.RDS\"\n",
      "[1] \"UGA_pa_40036_matching_results_wk24.RDS\"\n",
      "[1] \"UGA_pa_40042_matching_results_wk24.RDS\"\n",
      "[1] \"UGA_pa_40044_matching_results_wk24.RDS\"\n",
      "[1] \"UGA_pa_40045_matching_results_wk24.RDS\"\n",
      "[1] \"UGA_pa_40046_matching_results_wk24.RDS\"\n",
      "[1] \"UGA_pa_40048_matching_results_wk24.RDS\"\n",
      "[1] \"UGA_pa_40052_matching_results_wk24.RDS\"\n",
      "[1] \"UGA_pa_40055_matching_results_wk24.RDS\"\n",
      "[1] \"UGA_pa_40056_matching_results_wk24.RDS\"\n",
      "[1] \"UGA_pa_40058_matching_results_wk24.RDS\"\n",
      "[1] \"UGA_pa_40059_matching_results_wk24.RDS\"\n",
      "[1] \"UGA_pa_40064_matching_results_wk24.RDS\"\n",
      "[1] \"UGA_pa_40068_matching_results_wk24.RDS\"\n",
      "[1] \"UGA_pa_40069_matching_results_wk24.RDS\"\n",
      "[1] \"UGA_pa_40071_matching_results_wk24.RDS\"\n",
      "[1] \"UGA_pa_40073_matching_results_wk24.RDS\"\n",
      "[1] \"UGA_pa_40074_matching_results_wk24.RDS\"\n",
      "[1] \"UGA_pa_40075_matching_results_wk24.RDS\"\n",
      "[1] \"UGA_pa_40078_matching_results_wk24.RDS\"\n",
      "[1] \"UGA_pa_40081_matching_results_wk24.RDS\"\n",
      "[1] \"UGA_pa_40082_matching_results_wk24.RDS\"\n",
      "[1] \"UGA_pa_40083_matching_results_wk24.RDS\"\n",
      "[1] \"UGA_pa_40084_matching_results_wk24.RDS\"\n",
      "[1] \"UGA_pa_40085_matching_results_wk24.RDS\"\n",
      "[1] \"UGA_pa_40092_matching_results_wk24.RDS\"\n",
      "[1] \"UGA_pa_40093_matching_results_wk24.RDS\"\n",
      "[1] \"UGA_pa_40094_matching_results_wk24.RDS\"\n",
      "[1] \"UGA_pa_40095_matching_results_wk24.RDS\"\n",
      "[1] \"UGA_pa_40096_matching_results_wk24.RDS\"\n",
      "[1] \"UGA_pa_40099_matching_results_wk24.RDS\"\n",
      "[1] \"UGA_pa_40103_matching_results_wk24.RDS\"\n",
      "[1] \"UGA_pa_40107_matching_results_wk24.RDS\"\n",
      "[1] \"UGA_pa_40109_matching_results_wk24.RDS\"\n",
      "[1] \"UGA_pa_40112_matching_results_wk24.RDS\"\n",
      "[1] \"UGA_pa_40113_matching_results_wk24.RDS\"\n",
      "[1] \"UGA_pa_40116_matching_results_wk24.RDS\"\n",
      "[1] \"UGA_pa_40118_matching_results_wk24.RDS\"\n",
      "[1] \"UGA_pa_40120_matching_results_wk24.RDS\"\n",
      "[1] \"UGA_pa_40123_matching_results_wk24.RDS\"\n",
      "[1] \"UGA_pa_40124_matching_results_wk24.RDS\"\n",
      "[1] \"UGA_pa_40126_matching_results_wk24.RDS\"\n",
      "[1] \"UGA_pa_40127_matching_results_wk24.RDS\"\n",
      "[1] \"UGA_pa_40128_matching_results_wk24.RDS\"\n",
      "[1] \"UGA_pa_40129_matching_results_wk24.RDS\"\n",
      "[1] \"UGA_pa_40130_matching_results_wk24.RDS\"\n",
      "[1] \"UGA_pa_40131_matching_results_wk24.RDS\"\n",
      "[1] \"UGA_pa_40132_matching_results_wk24.RDS\"\n",
      "[1] \"UGA_pa_40134_matching_results_wk24.RDS\"\n",
      "[1] \"UGA_pa_40135_matching_results_wk24.RDS\"\n",
      "[1] \"UGA_pa_40136_matching_results_wk24.RDS\"\n",
      "[1] \"UGA_pa_40137_matching_results_wk24.RDS\"\n",
      "[1] \"UGA_pa_40138_matching_results_wk24.RDS\"\n",
      "[1] \"UGA_pa_40139_matching_results_wk24.RDS\"\n",
      "[1] \"UGA_pa_40141_matching_results_wk24.RDS\"\n",
      "[1] \"UGA_pa_40142_matching_results_wk24.RDS\"\n",
      "[1] \"UGA_pa_40143_matching_results_wk24.RDS\"\n",
      "[1] \"UGA_pa_40144_matching_results_wk24.RDS\"\n",
      "[1] \"UGA_pa_40145_matching_results_wk24.RDS\"\n",
      "[1] \"UGA_pa_40146_matching_results_wk24.RDS\"\n",
      "[1] \"UGA_pa_40147_matching_results_wk24.RDS\"\n",
      "[1] \"UGA_pa_40148_matching_results_wk24.RDS\"\n",
      "[1] \"UGA_pa_40150_matching_results_wk24.RDS\"\n",
      "[1] \"UGA_pa_40151_matching_results_wk24.RDS\"\n",
      "[1] \"UGA_pa_40152_matching_results_wk24.RDS\"\n",
      "[1] \"UGA_pa_40153_matching_results_wk24.RDS\"\n",
      "[1] \"UGA_pa_40154_matching_results_wk24.RDS\"\n",
      "[1] \"UGA_pa_40156_matching_results_wk24.RDS\"\n",
      "[1] \"UGA_pa_40157_matching_results_wk24.RDS\"\n",
      "[1] \"UGA_pa_40158_matching_results_wk24.RDS\"\n",
      "[1] \"UGA_pa_40159_matching_results_wk24.RDS\"\n",
      "[1] \"UGA_pa_40161_matching_results_wk24.RDS\"\n",
      "[1] \"UGA_pa_40162_matching_results_wk24.RDS\"\n",
      "[1] \"UGA_pa_40163_matching_results_wk24.RDS\"\n",
      "[1] \"UGA_pa_40165_matching_results_wk24.RDS\"\n",
      "[1] \"UGA_pa_40166_matching_results_wk24.RDS\"\n",
      "[1] \"UGA_pa_40167_matching_results_wk24.RDS\"\n",
      "[1] \"UGA_pa_40168_matching_results_wk24.RDS\"\n",
      "[1] \"UGA_pa_40169_matching_results_wk24.RDS\"\n",
      "[1] \"UGA_pa_40170_matching_results_wk24.RDS\"\n",
      "[1] \"UGA_pa_40171_matching_results_wk24.RDS\"\n",
      "[1] \"UGA_pa_40173_matching_results_wk24.RDS\"\n",
      "[1] \"UGA_pa_40174_matching_results_wk24.RDS\"\n",
      "[1] \"UGA_pa_40176_matching_results_wk24.RDS\"\n",
      "[1] \"UGA_pa_40178_matching_results_wk24.RDS\"\n",
      "[1] \"UGA_pa_40179_matching_results_wk24.RDS\"\n",
      "[1] \"UGA_pa_40182_matching_results_wk24.RDS\"\n",
      "[1] \"UGA_pa_40183_matching_results_wk24.RDS\"\n",
      "[1] \"UGA_pa_40184_matching_results_wk24.RDS\"\n",
      "[1] \"UGA_pa_40185_matching_results_wk24.RDS\"\n",
      "[1] \"UGA_pa_40186_matching_results_wk24.RDS\"\n",
      "[1] \"UGA_pa_40187_matching_results_wk24.RDS\"\n",
      "[1] \"UGA_pa_40193_matching_results_wk24.RDS\"\n",
      "[1] \"UGA_pa_40194_matching_results_wk24.RDS\"\n",
      "[1] \"UGA_pa_40195_matching_results_wk24.RDS\"\n",
      "[1] \"UGA_pa_40196_matching_results_wk24.RDS\"\n",
      "[1] \"UGA_pa_40198_matching_results_wk24.RDS\"\n",
      "[1] \"UGA_pa_40201_matching_results_wk24.RDS\"\n",
      "[1] \"UGA_pa_40205_matching_results_wk24.RDS\"\n",
      "[1] \"UGA_pa_40206_matching_results_wk24.RDS\"\n",
      "[1] \"UGA_pa_40210_matching_results_wk24.RDS\"\n",
      "[1] \"UGA_pa_40212_matching_results_wk24.RDS\"\n",
      "[1] \"UGA_pa_40213_matching_results_wk24.RDS\"\n",
      "[1] \"UGA_pa_40214_matching_results_wk24.RDS\"\n",
      "[1] \"UGA_pa_40215_matching_results_wk24.RDS\"\n",
      "[1] \"UGA_pa_40216_matching_results_wk24.RDS\"\n",
      "[1] \"UGA_pa_40217_matching_results_wk24.RDS\"\n",
      "[1] \"UGA_pa_40221_matching_results_wk24.RDS\"\n",
      "[1] \"UGA_pa_40223_matching_results_wk24.RDS\"\n",
      "[1] \"UGA_pa_40224_matching_results_wk24.RDS\"\n",
      "[1] \"UGA_pa_40225_matching_results_wk24.RDS\"\n",
      "[1] \"UGA_pa_40226_matching_results_wk24.RDS\"\n",
      "[1] \"UGA_pa_40228_matching_results_wk24.RDS\"\n",
      "[1] \"UGA_pa_40234_matching_results_wk24.RDS\"\n",
      "[1] \"UGA_pa_40235_matching_results_wk24.RDS\"\n",
      "[1] \"UGA_pa_40236_matching_results_wk24.RDS\"\n",
      "[1] \"UGA_pa_40239_matching_results_wk24.RDS\"\n",
      "[1] \"UGA_pa_40240_matching_results_wk24.RDS\"\n",
      "[1] \"UGA_pa_40243_matching_results_wk24.RDS\"\n",
      "[1] \"UGA_pa_40247_matching_results_wk24.RDS\"\n",
      "[1] \"UGA_pa_40248_matching_results_wk24.RDS\"\n",
      "[1] \"UGA_pa_40249_matching_results_wk24.RDS\"\n",
      "[1] \"UGA_pa_40252_matching_results_wk24.RDS\"\n",
      "[1] \"UGA_pa_40254_matching_results_wk24.RDS\"\n",
      "[1] \"UGA_pa_40255_matching_results_wk24.RDS\"\n",
      "[1] \"UGA_pa_40257_matching_results_wk24.RDS\"\n",
      "[1] \"UGA_pa_40258_matching_results_wk24.RDS\"\n",
      "[1] \"UGA_pa_40259_matching_results_wk24.RDS\"\n",
      "[1] \"UGA_pa_40260_matching_results_wk24.RDS\"\n",
      "[1] \"UGA_pa_40261_matching_results_wk24.RDS\"\n",
      "[1] \"UGA_pa_40262_matching_results_wk24.RDS\"\n",
      "[1] \"UGA_pa_40263_matching_results_wk24.RDS\"\n",
      "[1] \"UGA_pa_40265_matching_results_wk24.RDS\"\n",
      "[1] \"UGA_pa_40267_matching_results_wk24.RDS\"\n",
      "[1] \"UGA_pa_40268_matching_results_wk24.RDS\"\n",
      "[1] \"UGA_pa_40269_matching_results_wk24.RDS\"\n",
      "[1] \"UGA_pa_40271_matching_results_wk24.RDS\"\n",
      "[1] \"UGA_pa_40272_matching_results_wk24.RDS\"\n",
      "[1] \"UGA_pa_40273_matching_results_wk24.RDS\"\n",
      "[1] \"UGA_pa_40274_matching_results_wk24.RDS\"\n",
      "[1] \"UGA_pa_40276_matching_results_wk24.RDS\"\n",
      "[1] \"UGA_pa_40279_matching_results_wk24.RDS\"\n",
      "[1] \"UGA_pa_40280_matching_results_wk24.RDS\"\n",
      "[1] \"UGA_pa_40283_matching_results_wk24.RDS\"\n",
      "[1] \"UGA_pa_40284_matching_results_wk24.RDS\"\n",
      "[1] \"UGA_pa_40319_matching_results_wk24.RDS\"\n",
      "[1] \"UGA_pa_40330_matching_results_wk24.RDS\"\n",
      "[1] \"UGA_pa_40332_matching_results_wk24.RDS\"\n",
      "[1] \"UGA_pa_40346_matching_results_wk24.RDS\"\n",
      "[1] \"UGA_pa_40349_matching_results_wk24.RDS\"\n",
      "[1] \"UGA_pa_40351_matching_results_wk24.RDS\"\n",
      "[1] \"UGA_pa_40352_matching_results_wk24.RDS\"\n",
      "[1] \"UGA_pa_40353_matching_results_wk24.RDS\"\n",
      "[1] \"UGA_pa_40356_matching_results_wk24.RDS\"\n",
      "[1] \"UGA_pa_40362_matching_results_wk24.RDS\"\n",
      "[1] \"UGA_pa_40368_matching_results_wk24.RDS\"\n",
      "[1] \"UGA_pa_40371_matching_results_wk24.RDS\"\n",
      "[1] \"UGA_pa_40373_matching_results_wk24.RDS\"\n",
      "[1] \"UGA_pa_40376_matching_results_wk24.RDS\"\n",
      "[1] \"UGA_pa_40377_matching_results_wk24.RDS\"\n",
      "[1] \"UGA_pa_40378_matching_results_wk24.RDS\"\n",
      "[1] \"UGA_pa_40381_matching_results_wk24.RDS\"\n",
      "[1] \"UGA_pa_40382_matching_results_wk24.RDS\"\n",
      "[1] \"UGA_pa_40388_matching_results_wk24.RDS\"\n",
      "[1] \"UGA_pa_40389_matching_results_wk24.RDS\"\n",
      "[1] \"UGA_pa_40390_matching_results_wk24.RDS\"\n",
      "[1] \"UGA_pa_40393_matching_results_wk24.RDS\"\n",
      "[1] \"UGA_pa_40394_matching_results_wk24.RDS\"\n",
      "[1] \"UGA_pa_40395_matching_results_wk24.RDS\"\n",
      "[1] \"UGA_pa_40396_matching_results_wk24.RDS\"\n",
      "[1] \"UGA_pa_40404_matching_results_wk24.RDS\"\n",
      "[1] \"UGA_pa_40405_matching_results_wk24.RDS\"\n",
      "[1] \"UGA_pa_40417_matching_results_wk24.RDS\"\n",
      "[1] \"UGA_pa_40422_matching_results_wk24.RDS\"\n",
      "[1] \"UGA_pa_40424_matching_results_wk24.RDS\"\n",
      "[1] \"UGA_pa_40429_matching_results_wk24.RDS\"\n",
      "[1] \"UGA_pa_40431_matching_results_wk24.RDS\"\n",
      "[1] \"UGA_pa_40432_matching_results_wk24.RDS\"\n",
      "[1] \"UGA_pa_40433_matching_results_wk24.RDS\"\n",
      "[1] \"UGA_pa_40436_matching_results_wk24.RDS\"\n",
      "[1] \"UGA_pa_40439_matching_results_wk24.RDS\"\n",
      "[1] \"UGA_pa_40441_matching_results_wk24.RDS\"\n",
      "[1] \"UGA_pa_40443_matching_results_wk24.RDS\"\n",
      "[1] \"UGA_pa_40445_matching_results_wk24.RDS\"\n",
      "[1] \"UGA_pa_40446_matching_results_wk24.RDS\"\n",
      "[1] \"UGA_pa_40447_matching_results_wk24.RDS\"\n",
      "[1] \"UGA_pa_40448_matching_results_wk24.RDS\"\n",
      "[1] \"UGA_pa_40453_matching_results_wk24.RDS\"\n",
      "[1] \"UGA_pa_40463_matching_results_wk24.RDS\"\n",
      "[1] \"UGA_pa_40467_matching_results_wk24.RDS\"\n",
      "[1] \"UGA_pa_40470_matching_results_wk24.RDS\"\n",
      "[1] \"UGA_pa_40471_matching_results_wk24.RDS\"\n",
      "[1] \"UGA_pa_40472_matching_results_wk24.RDS\"\n",
      "[1] \"UGA_pa_40475_matching_results_wk24.RDS\"\n",
      "[1] \"UGA_pa_40476_matching_results_wk24.RDS\"\n",
      "[1] \"UGA_pa_40481_matching_results_wk24.RDS\"\n",
      "[1] \"UGA_pa_40482_matching_results_wk24.RDS\"\n",
      "[1] \"UGA_pa_40483_matching_results_wk24.RDS\"\n",
      "[1] \"UGA_pa_40484_matching_results_wk24.RDS\"\n",
      "[1] \"UGA_pa_40488_matching_results_wk24.RDS\"\n",
      "[1] \"UGA_pa_40490_matching_results_wk24.RDS\"\n",
      "[1] \"UGA_pa_40491_matching_results_wk24.RDS\"\n",
      "[1] \"UGA_pa_40492_matching_results_wk24.RDS\"\n",
      "[1] \"UGA_pa_40494_matching_results_wk24.RDS\"\n",
      "[1] \"UGA_pa_40495_matching_results_wk24.RDS\"\n",
      "[1] \"UGA_pa_40496_matching_results_wk24.RDS\"\n",
      "[1] \"UGA_pa_40497_matching_results_wk24.RDS\"\n",
      "[1] \"UGA_pa_40498_matching_results_wk24.RDS\"\n",
      "[1] \"UGA_pa_40499_matching_results_wk24.RDS\"\n",
      "[1] \"UGA_pa_40500_matching_results_wk24.RDS\"\n",
      "[1] \"UGA_pa_40503_matching_results_wk24.RDS\"\n",
      "[1] \"UGA_pa_40508_matching_results_wk24.RDS\"\n",
      "[1] \"UGA_pa_40510_matching_results_wk24.RDS\"\n",
      "[1] \"UGA_pa_40512_matching_results_wk24.RDS\"\n",
      "[1] \"UGA_pa_40513_matching_results_wk24.RDS\"\n",
      "[1] \"UGA_pa_40516_matching_results_wk24.RDS\"\n",
      "[1] \"UGA_pa_40517_matching_results_wk24.RDS\"\n",
      "[1] \"UGA_pa_40520_matching_results_wk24.RDS\"\n",
      "[1] \"UGA_pa_40521_matching_results_wk24.RDS\"\n",
      "[1] \"UGA_pa_40523_matching_results_wk24.RDS\"\n",
      "[1] \"UGA_pa_40525_matching_results_wk24.RDS\"\n",
      "[1] \"UGA_pa_40528_matching_results_wk24.RDS\"\n",
      "[1] \"UGA_pa_40529_matching_results_wk24.RDS\"\n",
      "[1] \"UGA_pa_40533_matching_results_wk24.RDS\"\n",
      "[1] \"UGA_pa_40534_matching_results_wk24.RDS\"\n",
      "[1] \"UGA_pa_40535_matching_results_wk24.RDS\"\n",
      "[1] \"UGA_pa_40538_matching_results_wk24.RDS\"\n",
      "[1] \"UGA_pa_40540_matching_results_wk24.RDS\"\n",
      "[1] \"UGA_pa_40542_matching_results_wk24.RDS\"\n",
      "[1] \"UGA_pa_40543_matching_results_wk24.RDS\"\n",
      "[1] \"UGA_pa_40551_matching_results_wk24.RDS\"\n",
      "[1] \"UGA_pa_40552_matching_results_wk24.RDS\"\n",
      "[1] \"UGA_pa_40553_matching_results_wk24.RDS\"\n",
      "[1] \"UGA_pa_40555_matching_results_wk24.RDS\"\n",
      "[1] \"UGA_pa_40560_matching_results_wk24.RDS\"\n",
      "[1] \"UGA_pa_40561_matching_results_wk24.RDS\"\n",
      "[1] \"UGA_pa_40562_matching_results_wk24.RDS\"\n",
      "[1] \"UGA_pa_40564_matching_results_wk24.RDS\"\n",
      "[1] \"UGA_pa_40568_matching_results_wk24.RDS\"\n",
      "[1] \"UGA_pa_40570_matching_results_wk24.RDS\"\n",
      "[1] \"UGA_pa_40571_matching_results_wk24.RDS\"\n",
      "[1] \"UGA_pa_40574_matching_results_wk24.RDS\"\n",
      "[1] \"UGA_pa_40576_matching_results_wk24.RDS\"\n",
      "[1] \"UGA_pa_40578_matching_results_wk24.RDS\"\n",
      "[1] \"UGA_pa_40580_matching_results_wk24.RDS\"\n",
      "[1] \"UGA_pa_40588_matching_results_wk24.RDS\"\n",
      "[1] \"UGA_pa_40589_matching_results_wk24.RDS\"\n",
      "[1] \"UGA_pa_40590_matching_results_wk24.RDS\"\n",
      "[1] \"UGA_pa_40591_matching_results_wk24.RDS\"\n",
      "[1] \"UGA_pa_40592_matching_results_wk24.RDS\"\n",
      "[1] \"UGA_pa_40593_matching_results_wk24.RDS\"\n",
      "[1] \"UGA_pa_40595_matching_results_wk24.RDS\"\n",
      "[1] \"UGA_pa_40596_matching_results_wk24.RDS\"\n",
      "[1] \"UGA_pa_40597_matching_results_wk24.RDS\"\n",
      "[1] \"UGA_pa_40598_matching_results_wk24.RDS\"\n",
      "[1] \"UGA_pa_40600_matching_results_wk24.RDS\"\n",
      "[1] \"UGA_pa_40601_matching_results_wk24.RDS\"\n",
      "[1] \"UGA_pa_40602_matching_results_wk24.RDS\"\n",
      "[1] \"UGA_pa_40603_matching_results_wk24.RDS\"\n",
      "[1] \"UGA_pa_40604_matching_results_wk24.RDS\"\n",
      "[1] \"UGA_pa_40605_matching_results_wk24.RDS\"\n",
      "[1] \"UGA_pa_40606_matching_results_wk24.RDS\"\n",
      "[1] \"UGA_pa_40607_matching_results_wk24.RDS\"\n",
      "[1] \"UGA_pa_40608_matching_results_wk24.RDS\"\n",
      "[1] \"UGA_pa_40609_matching_results_wk24.RDS\"\n",
      "[1] \"UGA_pa_40610_matching_results_wk24.RDS\"\n",
      "[1] \"UGA_pa_40614_matching_results_wk24.RDS\"\n",
      "[1] \"UGA_pa_40615_matching_results_wk24.RDS\"\n",
      "[1] \"UGA_pa_40616_matching_results_wk24.RDS\"\n",
      "[1] \"UGA_pa_40617_matching_results_wk24.RDS\"\n",
      "[1] \"UGA_pa_40619_matching_results_wk24.RDS\"\n",
      "[1] \"UGA_pa_40620_matching_results_wk24.RDS\"\n",
      "[1] \"UGA_pa_40622_matching_results_wk24.RDS\"\n",
      "[1] \"UGA_pa_40624_matching_results_wk24.RDS\"\n",
      "[1] \"UGA_pa_40626_matching_results_wk24.RDS\"\n",
      "[1] \"UGA_pa_40630_matching_results_wk24.RDS\"\n",
      "[1] \"UGA_pa_40633_matching_results_wk24.RDS\"\n",
      "[1] \"UGA_pa_40635_matching_results_wk24.RDS\"\n",
      "[1] \"UGA_pa_40636_matching_results_wk24.RDS\"\n",
      "[1] \"UGA_pa_40639_matching_results_wk24.RDS\"\n",
      "[1] \"UGA_pa_40640_matching_results_wk24.RDS\"\n",
      "[1] \"UGA_pa_40642_matching_results_wk24.RDS\"\n",
      "[1] \"UGA_pa_40644_matching_results_wk24.RDS\"\n",
      "[1] \"UGA_pa_40645_matching_results_wk24.RDS\"\n",
      "[1] \"UGA_pa_40647_matching_results_wk24.RDS\"\n",
      "[1] \"UGA_pa_40648_matching_results_wk24.RDS\"\n",
      "[1] \"UGA_pa_40649_matching_results_wk24.RDS\"\n",
      "[1] \"UGA_pa_40651_matching_results_wk24.RDS\"\n",
      "[1] \"UGA_pa_40652_matching_results_wk24.RDS\"\n",
      "[1] \"UGA_pa_40653_matching_results_wk24.RDS\"\n",
      "[1] \"UGA_pa_40655_matching_results_wk24.RDS\"\n",
      "[1] \"UGA_pa_40692_matching_results_wk24.RDS\"\n",
      "[1] \"UGA_pa_40701_matching_results_wk24.RDS\"\n",
      "[1] \"UGA_pa_40702_matching_results_wk24.RDS\"\n",
      "[1] \"UGA_pa_40703_matching_results_wk24.RDS\"\n",
      "[1] \"UGA_pa_40704_matching_results_wk24.RDS\"\n",
      "[1] \"UGA_pa_40705_matching_results_wk24.RDS\"\n",
      "[1] \"UGA_pa_40706_matching_results_wk24.RDS\"\n",
      "[1] \"UGA_pa_40707_matching_results_wk24.RDS\"\n",
      "[1] \"UGA_pa_40722_matching_results_wk24.RDS\"\n",
      "[1] \"UGA_pa_555549367_matching_results_wk24.RDS\"\n",
      "[1] \"UGA_pa_61608_matching_results_wk24.RDS\"\n",
      "[1] \"UGA_pa_61609_matching_results_wk24.RDS\"\n",
      "[1] \"UGA_pa_64633_matching_results_wk24.RDS\"\n",
      "[1] \"UGA_pa_64669_matching_results_wk24.RDS\"\n",
      "[1] \"UGA_pa_64671_matching_results_wk24.RDS\"\n",
      "[1] \"UGA_pa_64673_matching_results_wk24.RDS\"\n",
      "[1] \"UGA_pa_64700_matching_results_wk24.RDS\"\n",
      "[1] \"UGA_pa_68242_matching_results_wk24.RDS\"\n",
      "[1] \"UGA_pa_7930_matching_results_wk24.RDS\"\n",
      "[1] \"UGA_pa_7931_matching_results_wk24.RDS\"\n",
      "[1] \"UGA_pa_7934_matching_results_wk24.RDS\"\n",
      "[1] \"UGA_pa_902529_matching_results_wk24.RDS\"\n",
      "[1] \"UGA_pa_902980_matching_results_wk24.RDS\"\n",
      "[1] \"UGA_pa_902982_matching_results_wk24.RDS\"\n",
      "[1] \"UGA_pa_902984_matching_results_wk24.RDS\"\n",
      "[1] \"UGA_pa_9186_matching_results_wk24.RDS\"\n",
      "[1] \"UGA_pa_956_matching_results_wk24.RDS\"\n",
      "[1] \"UGA_pa_957_matching_results_wk24.RDS\"\n",
      "[1] \"UGA_pa_958_matching_results_wk24.RDS\"\n",
      "[1] 311\n"
     ]
    }
   ],
   "source": [
    "f.path <- \"/projects/my-public-bucket/GEDI_global_PA_v2/\"\n",
    "#f.path <- \"s3://maap-ops-workspace/shared/leitoldv/GEDI_global_PA_v2/\"\n",
    "\n",
    "matched_PAs <- foreach(this_rds=matched_all, .combine = c, .packages=c('sp','magrittr', 'dplyr','tidyr','terra')) %do% {  #non-NA matched results\n",
    "  matched_PAs=c()\n",
    "  print(this_rds)\n",
    "  if(nchar(iso3)>3){\n",
    "    id_pa <- basename(this_rds)%>%readr::parse_number() %>% unique()  \n",
    "  } else {\n",
    "    id_pa <- basename(this_rds)%>%readr::parse_number() %>% unique()\n",
    "  }\n",
    "  #matched <- readRDS(s3_get(paste(f.path,\"WDPA_matching_results/\",iso3,\"_wk\",gediwk,\"/\",iso3,\"_pa_\",id_pa,\"_matching_results_wk\",gediwk,\".RDS\",sep=\"\")))\n",
    "  matched <- readRDS((paste(f.path,\"WDPA_matching_results/\",iso3,\"_wk\",gediwk,\"/\",iso3,\"_pa_\",id_pa,\"_matching_results_wk\",gediwk,\".RDS\",sep=\"\")))\n",
    "  if(!is.null(matched)){\n",
    "    if(nrow(matched)!=0){\n",
    "      matched_PAs=c(matched_PAs,this_rds) \n",
    "    }\n",
    "  }else {\n",
    "    # print(this_rds)\n",
    "    matched_PAs=matched_PAs\n",
    "  }\n",
    "  return(matched_PAs)\n",
    "}\n",
    "print(length(matched_PAs))\n"
   ]
  },
  {
   "cell_type": "code",
   "execution_count": 31,
   "id": "8b821070-c5c9-415d-a6ff-53ed18a2de95",
   "metadata": {},
   "outputs": [
    {
     "name": "stdout",
     "output_type": "stream",
     "text": [
      "[1] 311\n"
     ]
    }
   ],
   "source": [
    "print(length(matched_PAs))"
   ]
  },
  {
   "cell_type": "code",
   "execution_count": 32,
   "id": "ff11d29f-c2f7-44ca-8145-21c515897fd7",
   "metadata": {},
   "outputs": [],
   "source": [
    "flag <- \"run remaining\"\n",
    "#flag <- \"run all\""
   ]
  },
  {
   "cell_type": "code",
   "execution_count": 29,
   "id": "0a062203-2c43-46ec-a811-6dfc3b3ab110",
   "metadata": {},
   "outputs": [
    {
     "name": "stdout",
     "output_type": "stream",
     "text": [
      "Step 5 already done for UGA \n"
     ]
    },
    {
     "data": {
      "text/html": [
       "0"
      ],
      "text/latex": [
       "0"
      ],
      "text/markdown": [
       "0"
      ],
      "text/plain": [
       "[1] 0"
      ]
     },
     "metadata": {},
     "output_type": "display_data"
    }
   ],
   "source": [
    "f.path <- \"/projects/my-public-bucket/GEDI_global_PA_v2/\"\n",
    "#f.path <- \"s3://maap-ops-workspace/shared/leitoldv/GEDI_global_PA_v2/\"\n",
    "\n",
    "#flag <- \"run all\"\n",
    "#flag <- \"run remaining\"\n",
    "\n",
    "if(flag==\"run all\"){  #determine how many PAs to run the extraction process\n",
    "  matched_PAs <- matched_PAs\n",
    "  cat(\"Step 5: running extraction on all\", length(matched_PAs),\"of non-NA matched results in\", iso3,\"\\n\")\n",
    "} else if (flag==\"run remaining\"){\n",
    "  pattern1 = c(paste(\"wk\",gediwk,sep=\"\"),\"RDS\")\n",
    "  extracted_PAid <- list.files(paste(f.path,\"WDPA_extract/\",iso3,\"_wk\",gediwk,\"/\",sep=\"\"), full.names = F, pattern=paste0(pattern1, collapse=\"|\"))%>%\n",
    "    readr::parse_number() %>% unique()\n",
    "  matched_PA_id <- matched_PAs %>% readr::parse_number()\n",
    "  matched_PAdf <- cbind(matched_PAs, matched_PA_id)\n",
    "    for(i in 1:nrow(matched_PAdf)){\n",
    "    matched_PAdf[i,\"matched_PA_id\"] <- readr::parse_number(matched_PAs[i])\n",
    "    }\n",
    "  #runPA_id <- matched_PA_id[!(matched_PA_id %in% extracted_PAid)]\n",
    "  runPA_id <- matched_PAdf[matched_PAdf[,\"matched_PA_id\"] != extracted_PAid, \"matched_PA_id\"]\n",
    "  if (length(runPA_id)>0){\n",
    "    #Pattern2 <-  paste(runPA_id, collapse=\"|\")\n",
    "    #runPA <-  matched_PAs[grepl(Pattern2,matched_PAs)]\n",
    "    # runPA_ind <- str_detect(matched_PAs, paste(runPA_id, collapse = \"|\"))\n",
    "    #matched_PAs <- runPA\n",
    "    matched_PAs <- matched_PAdf[matched_PAdf[,\"matched_PA_id\"] != extracted_PAid, \"matched_PAs\"]\n",
    "  } else {\n",
    "    matched_PAs <- NULL\n",
    "    cat(\"Step 5 already done for\", iso3, \"\\n\")\n",
    "  }\n",
    "}\n",
    "\n",
    "length(matched_PAs)  ##remaining PAs to be extracted\n"
   ]
  },
  {
   "cell_type": "code",
   "execution_count": 34,
   "id": "4950fae5-40dd-4498-a7ef-ac82f6a8fa33",
   "metadata": {},
   "outputs": [
    {
     "data": {
      "text/html": [
       "311"
      ],
      "text/latex": [
       "311"
      ],
      "text/markdown": [
       "311"
      ],
      "text/plain": [
       "[1] 311"
      ]
     },
     "metadata": {},
     "output_type": "display_data"
    },
    {
     "data": {
      "text/html": [
       "311"
      ],
      "text/latex": [
       "311"
      ],
      "text/markdown": [
       "311"
      ],
      "text/plain": [
       "[1] 311"
      ]
     },
     "metadata": {},
     "output_type": "display_data"
    }
   ],
   "source": [
    "length(matched_PA_id)\n",
    "length(extracted_PAid)"
   ]
  },
  {
   "cell_type": "code",
   "execution_count": 14,
   "id": "1564f7a2-4923-4933-b09b-6e08751abf60",
   "metadata": {},
   "outputs": [],
   "source": [
    "f.path <- \"s3://maap-ops-workspace/shared/leitoldv/GEDI_global_PA_v2/\""
   ]
  },
  {
   "cell_type": "code",
   "execution_count": 17,
   "id": "f785be65-c03d-465a-8f75-ba91121bef73",
   "metadata": {},
   "outputs": [],
   "source": [
    "#saveRDS(id_pa, file=paste(\"/projects/my-public-bucket/GEDI_global_PA_v2/WDPA_extract/\",iso3,\"_wk\",gediwk,\"/\",iso3,\"_pa_\", id_pa,\"_gedi_wk_\",gediwk,\"_conti_\",\"biome_\",\".RDS\", sep=\"\"))\n"
   ]
  },
  {
   "cell_type": "code",
   "execution_count": 18,
   "id": "a2daa25c-0961-4949-908e-d7bc577b5a3d",
   "metadata": {},
   "outputs": [
    {
     "data": {
      "text/html": [
       "1"
      ],
      "text/latex": [
       "1"
      ],
      "text/markdown": [
       "1"
      ],
      "text/plain": [
       "[1] 1"
      ]
     },
     "metadata": {},
     "output_type": "display_data"
    },
    {
     "data": {
      "text/plain": [
       "NULL"
      ]
     },
     "metadata": {},
     "output_type": "display_data"
    },
    {
     "name": "stdout",
     "output_type": "stream",
     "text": [
      "0.07664847 for extracting all PAs in UGA \n",
      "Done GEDI extraction for pa in  UGA \n"
     ]
    }
   ],
   "source": [
    "registerDoParallel(cores=round(mproc))\n",
    "getDoParWorkers()\n",
    "startTime <- Sys.time()\n",
    "\n",
    "foreach(this_rds=matched_PAs, .combine = foreach_rbind, .packages=c('sp','magrittr', 'dplyr','tidyr')) %dopar% {\n",
    "  cat(\"Extracting for no. \", match(this_rds,matched_PAs),\"pa out of\", length(matched_PAs),\"\\n\")\n",
    "  id_pa <- basename(this_rds) %>% readr::parse_number() %>% unique()\n",
    "  matched <- readRDS(s3_get(paste(f.path,\"WDPA_matching_results/\",iso3,\"_wk\",gediwk,\"/\",iso3,\"_pa_\",id_pa,\"_matching_results_wk\",gediwk,\".RDS\",sep=\"\")))\n",
    "#  matched$pa_id <- rep(id_pa, nrow(matched))\n",
    "  print(paste(\"PA id\",unique(matched$pa_id),sep=\" \"))\n",
    "\n",
    "  if (is.null(matched)==TRUE  | nrow(matched)==0) {\n",
    "    cat(\"Matched result is null for PA\", id_pa, \"quitting...\\n\")\n",
    "  } else if (!is.null(matched)==TRUE){\n",
    "    mras  <- tryCatch(matched2ras(matched),\n",
    "                      error=function(cond){\n",
    "                        message(cond)\n",
    "                        cat(\"Matched result is likely null for country\", iso3,\"pa\", id_pa, \"dimension of the match is\", dim(matched),\"\\n\")\n",
    "                        return(NULL)}) #convert the macthed df to a raster stack \n",
    "    print(table(mras$status[]))\n",
    "    cat(\"Rasterized results are balanced for PA\", id_pa, \"\\n\")\n",
    "    \n",
    "    if(table(mras$status[])[2]==0 | table(mras$status[])[1]==0 | is.null(mras)){\n",
    "      cat(\"Rasterized results unbalanced for PA\", id_pa, \"quitting...\\n\")\n",
    "    } else {\n",
    "      startTime <- Sys.time()\n",
    "      #iso_matched_gedi<- extract_gedi(matched=matched, mras = mras)  #run filtered csvs on mras for extarction\n",
    "      iso_matched_gedi <- extract_gedi(matched=matched, mras=mras, iso3=iso3)\n",
    "      tElapsed <- Sys.time()-startTime\n",
    "      cat(tElapsed, \"for extracting all PAs in\", iso3,\"\\n\")\n",
    "      iso_matched_gedi <-  iso_matched_gedi %>%\n",
    "            dplyr::select(\"pa_id\",\"status\",\"wwfbiom\",\"wwfecoreg\",\"pft\",\"region\",\n",
    "                          \"shot_number\",\"lat_lowestmode\",\"lon_lowestmode\",\n",
    "                          \"rh98\",\"agbd\",\"agbd_se\") #\"filename\",\"rh25\",\"rh50\",\"rh75\",\n",
    "    if (length(unique(iso_matched_gedi$wwfbiom)) >1){\n",
    "        pabiome <- iso_matched_gedi$wwfbiom %>% unique() %>% gsub(\"\\\\b(\\\\p{L})\\\\p{L}{2,}|.\",\"\\\\U\\\\1\",.,perl = TRUE)%>% str_c( collapse = \"+\")\n",
    "    } else if (length(unique(iso_matched_gedi$wwfbiom))==1){\n",
    "        pabiome <- iso_matched_gedi$wwfbiom %>% unique() %>% gsub('\\\\b(\\\\p{L})\\\\p{L}{2,}|.','\\\\U\\\\1',.,perl = TRUE)\n",
    "    } else {\n",
    "        pabiome <- iso_matched_gedi$wwfbiom %>% unique()\n",
    "    }\n",
    "    # papaddd <- unique(iso_matched_gedi$PADDD) %>% getmode()\n",
    "    continent <- unique(iso_matched_gedi$region) %>% getmode()\n",
    "    print(paste('output df',dim(iso_matched_gedi)))\n",
    "\n",
    "    dir.create(file.path(paste(\"/projects/my-public-bucket/GEDI_global_PA_v2/WDPA_extract/\",iso3,\"_wk\",gediwk,\"/\",sep=\"\")),recursive=TRUE)\n",
    "      saveRDS(iso_matched_gedi, file=paste(\"/projects/my-public-bucket/GEDI_global_PA_v2/WDPA_extract/\",iso3,\"_wk\",gediwk,\"/\",iso3,\"_pa_\", id_pa,\"_gedi_wk_\",gediwk,\"_conti_\",\"biome_\",pabiome,\".RDS\", sep=\"\"))\n",
    "#      write.csv(iso_matched_gedi, file=paste(\"/projects/my-public-bucket/GEDI_global_PA_v2/WDPA_extract/\",iso3,\"_wk\",gediwk,\"/\",iso3,\"_pa_\", id_pa,\"_iso_matched_gedi_sub_wk_\",gediwk,\".csv\", sep=\"\"))\n",
    "      cat(id_pa,\"in\",iso3,\"result is written to dir\\n\")\n",
    "\n",
    "    cat(\"PA#\",id_pa,\"in\",iso3,\"result is written to dir\\n\")\n",
    "    rm(iso_matched_gedi)\n",
    "    }\n",
    "  }\n",
    "  return(NULL)\n",
    "}\n",
    "\n",
    "stopImplicitCluster()\n",
    "tElapsed <- Sys.time()-startTime\n",
    "cat(tElapsed, \"for extracting all PAs in\", iso3,\"\\n\")\n",
    "cat(\"Done GEDI extraction for pa in \",iso3,\"\\n\")    \n",
    "\n"
   ]
  },
  {
   "cell_type": "code",
   "execution_count": null,
   "id": "78f45333-1411-4d15-afe0-8b8e764ac36d",
   "metadata": {},
   "outputs": [],
   "source": []
  },
  {
   "cell_type": "code",
   "execution_count": null,
   "id": "e6530b6d-7c70-4b5a-8480-163c57e9b04b",
   "metadata": {},
   "outputs": [],
   "source": []
  }
 ],
 "metadata": {
  "kernelspec": {
   "display_name": "R",
   "language": "R",
   "name": "ir"
  },
  "language_info": {
   "codemirror_mode": "r",
   "file_extension": ".r",
   "mimetype": "text/x-r-source",
   "name": "R",
   "pygments_lexer": "r",
   "version": "4.2.3"
  }
 },
 "nbformat": 4,
 "nbformat_minor": 5
}
