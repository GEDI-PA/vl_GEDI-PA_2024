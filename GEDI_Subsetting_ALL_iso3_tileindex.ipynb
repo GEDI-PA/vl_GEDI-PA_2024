{
 "cells": [
  {
   "cell_type": "code",
   "execution_count": 1,
   "id": "2f7302bc-962c-4bcb-a7fc-691ee044b22f",
   "metadata": {},
   "outputs": [
    {
     "name": "stderr",
     "output_type": "stream",
     "text": [
      "Warning message in install.packages(\"terra\"):\n",
      "“installation of package ‘terra’ had non-zero exit status”\n",
      "Updating HTML index of packages in '.Library'\n",
      "\n",
      "Making 'packages.html' ...\n",
      " done\n",
      "\n"
     ]
    }
   ],
   "source": [
    "#install.packages(\"raster\")\n",
    "install.packages(\"terra\")"
   ]
  },
  {
   "cell_type": "code",
   "execution_count": 2,
   "id": "72a35732-0003-47c0-a56a-cd2a5163bf9d",
   "metadata": {},
   "outputs": [
    {
     "name": "stderr",
     "output_type": "stream",
     "text": [
      "terra 1.7.78\n",
      "\n"
     ]
    }
   ],
   "source": [
    "#library(\"raster\")\n",
    "library(\"terra\")"
   ]
  },
  {
   "cell_type": "code",
   "execution_count": 3,
   "id": "673df458-7010-4c08-aa1b-b452756149ec",
   "metadata": {
    "tags": []
   },
   "outputs": [],
   "source": [
    "#country polygons\n",
    "#world <- readOGR(\"/projects/shared-buckets/leitoldv/NaturalEarth/ne_10m_admin_0_countries.shp\")\n",
    "world <- terra::vect(\"/projects/shared-buckets/leitoldv/NaturalEarth/ne_10m_admin_0_countries.shp\")\n",
    "\n",
    "#1degree tiles\n",
    "#G1deg_tiles <- readOGR(\"/projects/shared-buckets/leitoldv/AOIs/GRID1deg_poly_52N52S.shp\")\n",
    "G1deg_tiles <- terra::vect(\"/projects/shared-buckets/leitoldv/AOIs/GRID1deg_poly_52N52S.shp\")"
   ]
  },
  {
   "cell_type": "code",
   "execution_count": 4,
   "id": "42253b22-1621-4576-863c-7feab6adb4e4",
   "metadata": {},
   "outputs": [
    {
     "data": {
      "text/html": [
       "<style>\n",
       ".list-inline {list-style: none; margin:0; padding: 0}\n",
       ".list-inline>li {display: inline-block}\n",
       ".list-inline>li:not(:last-child)::after {content: \"\\00b7\"; padding: 0 .5ex}\n",
       "</style>\n",
       "<ol class=list-inline><li>'Asia'</li><li>'South America'</li><li>'Africa'</li><li>'Europe'</li><li>'North America'</li><li>'Oceania'</li><li>'Antarctica'</li><li>'Seven seas (open ocean)'</li></ol>\n"
      ],
      "text/latex": [
       "\\begin{enumerate*}\n",
       "\\item 'Asia'\n",
       "\\item 'South America'\n",
       "\\item 'Africa'\n",
       "\\item 'Europe'\n",
       "\\item 'North America'\n",
       "\\item 'Oceania'\n",
       "\\item 'Antarctica'\n",
       "\\item 'Seven seas (open ocean)'\n",
       "\\end{enumerate*}\n"
      ],
      "text/markdown": [
       "1. 'Asia'\n",
       "2. 'South America'\n",
       "3. 'Africa'\n",
       "4. 'Europe'\n",
       "5. 'North America'\n",
       "6. 'Oceania'\n",
       "7. 'Antarctica'\n",
       "8. 'Seven seas (open ocean)'\n",
       "\n",
       "\n"
      ],
      "text/plain": [
       "[1] \"Asia\"                    \"South America\"          \n",
       "[3] \"Africa\"                  \"Europe\"                 \n",
       "[5] \"North America\"           \"Oceania\"                \n",
       "[7] \"Antarctica\"              \"Seven seas (open ocean)\""
      ]
     },
     "metadata": {},
     "output_type": "display_data"
    },
    {
     "data": {
      "text/html": [
       "<style>\n",
       ".list-inline {list-style: none; margin:0; padding: 0}\n",
       ".list-inline>li {display: inline-block}\n",
       ".list-inline>li:not(:last-child)::after {content: \"\\00b7\"; padding: 0 .5ex}\n",
       "</style>\n",
       "<ol class=list-inline><li>'ARG'</li><li>'BOL'</li><li>'BRA'</li><li>'CHL'</li><li>'COL'</li><li>'ECU'</li><li>'FLK'</li><li>'GUY'</li><li>'PER'</li><li>'PRY'</li><li>'SUR'</li><li>'URY'</li><li>'VEN'</li></ol>\n"
      ],
      "text/latex": [
       "\\begin{enumerate*}\n",
       "\\item 'ARG'\n",
       "\\item 'BOL'\n",
       "\\item 'BRA'\n",
       "\\item 'CHL'\n",
       "\\item 'COL'\n",
       "\\item 'ECU'\n",
       "\\item 'FLK'\n",
       "\\item 'GUY'\n",
       "\\item 'PER'\n",
       "\\item 'PRY'\n",
       "\\item 'SUR'\n",
       "\\item 'URY'\n",
       "\\item 'VEN'\n",
       "\\end{enumerate*}\n"
      ],
      "text/markdown": [
       "1. 'ARG'\n",
       "2. 'BOL'\n",
       "3. 'BRA'\n",
       "4. 'CHL'\n",
       "5. 'COL'\n",
       "6. 'ECU'\n",
       "7. 'FLK'\n",
       "8. 'GUY'\n",
       "9. 'PER'\n",
       "10. 'PRY'\n",
       "11. 'SUR'\n",
       "12. 'URY'\n",
       "13. 'VEN'\n",
       "\n",
       "\n"
      ],
      "text/plain": [
       " [1] \"ARG\" \"BOL\" \"BRA\" \"CHL\" \"COL\" \"ECU\" \"FLK\" \"GUY\" \"PER\" \"PRY\" \"SUR\" \"URY\"\n",
       "[13] \"VEN\""
      ]
     },
     "metadata": {},
     "output_type": "display_data"
    }
   ],
   "source": [
    "unique(world$CONTINENT)\n",
    "\n",
    "#sort(world[world$CONTINENT=='Africa',]$ADM0_A3)\n",
    "#sort(world[world$CONTINENT=='Asia',]$ADM0_A3)\n",
    "#sort(world[world$CONTINENT=='Europe',]$ADM0_A3)\n",
    "#sort(world[world$CONTINENT=='North America',]$ADM0_A3)\n",
    "sort(world[world$CONTINENT=='South America',]$ADM0_A3)\n",
    "#sort(world[world$CONTINENT=='Oceania',]$ADM0_A3)\n"
   ]
  },
  {
   "cell_type": "code",
   "execution_count": 5,
   "id": "e2495ca8-b7b8-42eb-a5d0-6d93414ac844",
   "metadata": {
    "tags": []
   },
   "outputs": [],
   "source": [
    "#select AOI (i.e. a country)\n",
    "iso3 <- c(\"ARG\")\n",
    "country <- world[world$ADM0_A3 %in% iso3,]\n",
    "aoi <- country"
   ]
  },
  {
   "cell_type": "code",
   "execution_count": 13,
   "id": "2e291086-56db-4931-bbde-c1ac6beca76a",
   "metadata": {},
   "outputs": [],
   "source": [
    "### OR ###"
   ]
  },
  {
   "cell_type": "code",
   "execution_count": 7,
   "id": "dad91979-f53f-461a-baa1-d0716da5fcd2",
   "metadata": {},
   "outputs": [],
   "source": [
    "#read in custom AOI from a shapefile\n",
    "f_path <- \"/projects/shared-buckets/leitoldv/GEDI_global_PA_v2/WDPA_countries/shp/\"\n",
    "#iso3 <- \"BA1\"\n",
    "#iso3 <- \"BA2\"\n",
    "#iso3 <- \"BC1\"\n",
    "#iso3 <- \"BC2\"\n",
    "iso3 <- \"BM1\"\n",
    "#iso3 <- \"BP1\"\n",
    "#iso3 <- \"BP2\"\n",
    "aoi <- terra::vect(paste(f_path, iso3, \".shp\", sep=\"\"))"
   ]
  },
  {
   "cell_type": "code",
   "execution_count": 8,
   "id": "e752cab4-e386-41bd-9252-4f932a522899",
   "metadata": {},
   "outputs": [
    {
     "data": {
      "text/html": [
       "<style>\n",
       ".list-inline {list-style: none; margin:0; padding: 0}\n",
       ".list-inline>li {display: inline-block}\n",
       ".list-inline>li:not(:last-child)::after {content: \"\\00b7\"; padding: 0 .5ex}\n",
       "</style>\n",
       "<ol class=list-inline><li>22432</li><li>22433</li><li>22434</li><li>22435</li><li>22438</li><li>22439</li><li>22440</li><li>22612</li><li>22613</li><li>22614</li><li>22615</li><li>22616</li><li>22618</li><li>22619</li><li>22620</li><li>22792</li><li>22793</li><li>22794</li><li>22795</li><li>22796</li><li>22797</li><li>22798</li><li>22799</li><li>22800</li><li>22972</li><li>22973</li><li>22974</li><li>22975</li><li>22976</li><li>22977</li><li>22978</li><li>22979</li><li>22980</li><li>23149</li><li>23150</li><li>23151</li><li>23152</li><li>23153</li><li>23154</li><li>23155</li><li>23156</li><li>23157</li><li>23158</li><li>23159</li><li>23160</li><li>23329</li><li>23330</li><li>23331</li><li>23332</li><li>23333</li><li>23334</li><li>23335</li><li>23336</li><li>23337</li><li>23338</li><li>23339</li><li>23340</li><li>23508</li><li>23509</li><li>23510</li><li>23511</li><li>23512</li><li>23513</li><li>23514</li><li>23515</li><li>23516</li><li>23517</li><li>23518</li><li>23519</li><li>23520</li><li>23688</li><li>23689</li><li>23690</li><li>23691</li><li>23692</li><li>23693</li><li>23694</li><li>23695</li><li>23696</li><li>23697</li><li>23698</li><li>23699</li><li>23870</li><li>23871</li><li>23872</li><li>23873</li><li>23874</li><li>23875</li><li>23876</li><li>24051</li><li>24052</li><li>24053</li><li>24054</li><li>24055</li><li>24230</li><li>24231</li><li>24232</li><li>24233</li><li>24234</li><li>24410</li><li>24411</li><li>24412</li><li>24413</li><li>24414</li><li>24588</li><li>24589</li><li>24590</li><li>24591</li><li>24592</li><li>24593</li><li>24594</li><li>24766</li><li>24767</li><li>24768</li><li>24769</li><li>24770</li><li>24771</li><li>24772</li><li>24773</li><li>24774</li><li>24945</li><li>24946</li><li>24947</li><li>24948</li><li>24949</li><li>24950</li><li>24951</li><li>24952</li><li>24953</li><li>24954</li><li>25124</li><li>25125</li><li>25126</li><li>25127</li><li>25128</li><li>25129</li><li>25130</li><li>25131</li><li>25132</li><li>25133</li><li>25302</li><li>25303</li><li>25304</li><li>25305</li><li>25306</li><li>25307</li><li>25308</li><li>25309</li><li>25310</li><li>25482</li><li>25483</li><li>25484</li><li>25485</li><li>25486</li><li>25487</li><li>25488</li><li>25661</li><li>25662</li><li>25663</li><li>25839</li><li>25840</li><li>25841</li><li>26016</li><li>26017</li><li>26018</li><li>26019</li><li>26020</li><li>26197</li><li>26198</li><li>26199</li><li>26374</li><li>26554</li><li>27090</li><li>27111</li><li>27291</li></ol>\n"
      ],
      "text/latex": [
       "\\begin{enumerate*}\n",
       "\\item 22432\n",
       "\\item 22433\n",
       "\\item 22434\n",
       "\\item 22435\n",
       "\\item 22438\n",
       "\\item 22439\n",
       "\\item 22440\n",
       "\\item 22612\n",
       "\\item 22613\n",
       "\\item 22614\n",
       "\\item 22615\n",
       "\\item 22616\n",
       "\\item 22618\n",
       "\\item 22619\n",
       "\\item 22620\n",
       "\\item 22792\n",
       "\\item 22793\n",
       "\\item 22794\n",
       "\\item 22795\n",
       "\\item 22796\n",
       "\\item 22797\n",
       "\\item 22798\n",
       "\\item 22799\n",
       "\\item 22800\n",
       "\\item 22972\n",
       "\\item 22973\n",
       "\\item 22974\n",
       "\\item 22975\n",
       "\\item 22976\n",
       "\\item 22977\n",
       "\\item 22978\n",
       "\\item 22979\n",
       "\\item 22980\n",
       "\\item 23149\n",
       "\\item 23150\n",
       "\\item 23151\n",
       "\\item 23152\n",
       "\\item 23153\n",
       "\\item 23154\n",
       "\\item 23155\n",
       "\\item 23156\n",
       "\\item 23157\n",
       "\\item 23158\n",
       "\\item 23159\n",
       "\\item 23160\n",
       "\\item 23329\n",
       "\\item 23330\n",
       "\\item 23331\n",
       "\\item 23332\n",
       "\\item 23333\n",
       "\\item 23334\n",
       "\\item 23335\n",
       "\\item 23336\n",
       "\\item 23337\n",
       "\\item 23338\n",
       "\\item 23339\n",
       "\\item 23340\n",
       "\\item 23508\n",
       "\\item 23509\n",
       "\\item 23510\n",
       "\\item 23511\n",
       "\\item 23512\n",
       "\\item 23513\n",
       "\\item 23514\n",
       "\\item 23515\n",
       "\\item 23516\n",
       "\\item 23517\n",
       "\\item 23518\n",
       "\\item 23519\n",
       "\\item 23520\n",
       "\\item 23688\n",
       "\\item 23689\n",
       "\\item 23690\n",
       "\\item 23691\n",
       "\\item 23692\n",
       "\\item 23693\n",
       "\\item 23694\n",
       "\\item 23695\n",
       "\\item 23696\n",
       "\\item 23697\n",
       "\\item 23698\n",
       "\\item 23699\n",
       "\\item 23870\n",
       "\\item 23871\n",
       "\\item 23872\n",
       "\\item 23873\n",
       "\\item 23874\n",
       "\\item 23875\n",
       "\\item 23876\n",
       "\\item 24051\n",
       "\\item 24052\n",
       "\\item 24053\n",
       "\\item 24054\n",
       "\\item 24055\n",
       "\\item 24230\n",
       "\\item 24231\n",
       "\\item 24232\n",
       "\\item 24233\n",
       "\\item 24234\n",
       "\\item 24410\n",
       "\\item 24411\n",
       "\\item 24412\n",
       "\\item 24413\n",
       "\\item 24414\n",
       "\\item 24588\n",
       "\\item 24589\n",
       "\\item 24590\n",
       "\\item 24591\n",
       "\\item 24592\n",
       "\\item 24593\n",
       "\\item 24594\n",
       "\\item 24766\n",
       "\\item 24767\n",
       "\\item 24768\n",
       "\\item 24769\n",
       "\\item 24770\n",
       "\\item 24771\n",
       "\\item 24772\n",
       "\\item 24773\n",
       "\\item 24774\n",
       "\\item 24945\n",
       "\\item 24946\n",
       "\\item 24947\n",
       "\\item 24948\n",
       "\\item 24949\n",
       "\\item 24950\n",
       "\\item 24951\n",
       "\\item 24952\n",
       "\\item 24953\n",
       "\\item 24954\n",
       "\\item 25124\n",
       "\\item 25125\n",
       "\\item 25126\n",
       "\\item 25127\n",
       "\\item 25128\n",
       "\\item 25129\n",
       "\\item 25130\n",
       "\\item 25131\n",
       "\\item 25132\n",
       "\\item 25133\n",
       "\\item 25302\n",
       "\\item 25303\n",
       "\\item 25304\n",
       "\\item 25305\n",
       "\\item 25306\n",
       "\\item 25307\n",
       "\\item 25308\n",
       "\\item 25309\n",
       "\\item 25310\n",
       "\\item 25482\n",
       "\\item 25483\n",
       "\\item 25484\n",
       "\\item 25485\n",
       "\\item 25486\n",
       "\\item 25487\n",
       "\\item 25488\n",
       "\\item 25661\n",
       "\\item 25662\n",
       "\\item 25663\n",
       "\\item 25839\n",
       "\\item 25840\n",
       "\\item 25841\n",
       "\\item 26016\n",
       "\\item 26017\n",
       "\\item 26018\n",
       "\\item 26019\n",
       "\\item 26020\n",
       "\\item 26197\n",
       "\\item 26198\n",
       "\\item 26199\n",
       "\\item 26374\n",
       "\\item 26554\n",
       "\\item 27090\n",
       "\\item 27111\n",
       "\\item 27291\n",
       "\\end{enumerate*}\n"
      ],
      "text/markdown": [
       "1. 22432\n",
       "2. 22433\n",
       "3. 22434\n",
       "4. 22435\n",
       "5. 22438\n",
       "6. 22439\n",
       "7. 22440\n",
       "8. 22612\n",
       "9. 22613\n",
       "10. 22614\n",
       "11. 22615\n",
       "12. 22616\n",
       "13. 22618\n",
       "14. 22619\n",
       "15. 22620\n",
       "16. 22792\n",
       "17. 22793\n",
       "18. 22794\n",
       "19. 22795\n",
       "20. 22796\n",
       "21. 22797\n",
       "22. 22798\n",
       "23. 22799\n",
       "24. 22800\n",
       "25. 22972\n",
       "26. 22973\n",
       "27. 22974\n",
       "28. 22975\n",
       "29. 22976\n",
       "30. 22977\n",
       "31. 22978\n",
       "32. 22979\n",
       "33. 22980\n",
       "34. 23149\n",
       "35. 23150\n",
       "36. 23151\n",
       "37. 23152\n",
       "38. 23153\n",
       "39. 23154\n",
       "40. 23155\n",
       "41. 23156\n",
       "42. 23157\n",
       "43. 23158\n",
       "44. 23159\n",
       "45. 23160\n",
       "46. 23329\n",
       "47. 23330\n",
       "48. 23331\n",
       "49. 23332\n",
       "50. 23333\n",
       "51. 23334\n",
       "52. 23335\n",
       "53. 23336\n",
       "54. 23337\n",
       "55. 23338\n",
       "56. 23339\n",
       "57. 23340\n",
       "58. 23508\n",
       "59. 23509\n",
       "60. 23510\n",
       "61. 23511\n",
       "62. 23512\n",
       "63. 23513\n",
       "64. 23514\n",
       "65. 23515\n",
       "66. 23516\n",
       "67. 23517\n",
       "68. 23518\n",
       "69. 23519\n",
       "70. 23520\n",
       "71. 23688\n",
       "72. 23689\n",
       "73. 23690\n",
       "74. 23691\n",
       "75. 23692\n",
       "76. 23693\n",
       "77. 23694\n",
       "78. 23695\n",
       "79. 23696\n",
       "80. 23697\n",
       "81. 23698\n",
       "82. 23699\n",
       "83. 23870\n",
       "84. 23871\n",
       "85. 23872\n",
       "86. 23873\n",
       "87. 23874\n",
       "88. 23875\n",
       "89. 23876\n",
       "90. 24051\n",
       "91. 24052\n",
       "92. 24053\n",
       "93. 24054\n",
       "94. 24055\n",
       "95. 24230\n",
       "96. 24231\n",
       "97. 24232\n",
       "98. 24233\n",
       "99. 24234\n",
       "100. 24410\n",
       "101. 24411\n",
       "102. 24412\n",
       "103. 24413\n",
       "104. 24414\n",
       "105. 24588\n",
       "106. 24589\n",
       "107. 24590\n",
       "108. 24591\n",
       "109. 24592\n",
       "110. 24593\n",
       "111. 24594\n",
       "112. 24766\n",
       "113. 24767\n",
       "114. 24768\n",
       "115. 24769\n",
       "116. 24770\n",
       "117. 24771\n",
       "118. 24772\n",
       "119. 24773\n",
       "120. 24774\n",
       "121. 24945\n",
       "122. 24946\n",
       "123. 24947\n",
       "124. 24948\n",
       "125. 24949\n",
       "126. 24950\n",
       "127. 24951\n",
       "128. 24952\n",
       "129. 24953\n",
       "130. 24954\n",
       "131. 25124\n",
       "132. 25125\n",
       "133. 25126\n",
       "134. 25127\n",
       "135. 25128\n",
       "136. 25129\n",
       "137. 25130\n",
       "138. 25131\n",
       "139. 25132\n",
       "140. 25133\n",
       "141. 25302\n",
       "142. 25303\n",
       "143. 25304\n",
       "144. 25305\n",
       "145. 25306\n",
       "146. 25307\n",
       "147. 25308\n",
       "148. 25309\n",
       "149. 25310\n",
       "150. 25482\n",
       "151. 25483\n",
       "152. 25484\n",
       "153. 25485\n",
       "154. 25486\n",
       "155. 25487\n",
       "156. 25488\n",
       "157. 25661\n",
       "158. 25662\n",
       "159. 25663\n",
       "160. 25839\n",
       "161. 25840\n",
       "162. 25841\n",
       "163. 26016\n",
       "164. 26017\n",
       "165. 26018\n",
       "166. 26019\n",
       "167. 26020\n",
       "168. 26197\n",
       "169. 26198\n",
       "170. 26199\n",
       "171. 26374\n",
       "172. 26554\n",
       "173. 27090\n",
       "174. 27111\n",
       "175. 27291\n",
       "\n",
       "\n"
      ],
      "text/plain": [
       "  [1] 22432 22433 22434 22435 22438 22439 22440 22612 22613 22614 22615 22616\n",
       " [13] 22618 22619 22620 22792 22793 22794 22795 22796 22797 22798 22799 22800\n",
       " [25] 22972 22973 22974 22975 22976 22977 22978 22979 22980 23149 23150 23151\n",
       " [37] 23152 23153 23154 23155 23156 23157 23158 23159 23160 23329 23330 23331\n",
       " [49] 23332 23333 23334 23335 23336 23337 23338 23339 23340 23508 23509 23510\n",
       " [61] 23511 23512 23513 23514 23515 23516 23517 23518 23519 23520 23688 23689\n",
       " [73] 23690 23691 23692 23693 23694 23695 23696 23697 23698 23699 23870 23871\n",
       " [85] 23872 23873 23874 23875 23876 24051 24052 24053 24054 24055 24230 24231\n",
       " [97] 24232 24233 24234 24410 24411 24412 24413 24414 24588 24589 24590 24591\n",
       "[109] 24592 24593 24594 24766 24767 24768 24769 24770 24771 24772 24773 24774\n",
       "[121] 24945 24946 24947 24948 24949 24950 24951 24952 24953 24954 25124 25125\n",
       "[133] 25126 25127 25128 25129 25130 25131 25132 25133 25302 25303 25304 25305\n",
       "[145] 25306 25307 25308 25309 25310 25482 25483 25484 25485 25486 25487 25488\n",
       "[157] 25661 25662 25663 25839 25840 25841 26016 26017 26018 26019 26020 26197\n",
       "[169] 26198 26199 26374 26554 27090 27111 27291"
      ]
     },
     "metadata": {},
     "output_type": "display_data"
    }
   ],
   "source": [
    "if (!identical(crs(aoi), crs(G1deg_tiles))){aoi <- project(aoi, crs(G1deg_tiles))}\n",
    "intersecting <- intersect(G1deg_tiles, aoi)\n",
    "  if (nrow(intersecting) == 0) {stop('no intersecting G1deg_tiles found')\n",
    "  } else {\n",
    "    tileindex <- intersecting$id\n",
    "  }\n",
    "tileindex"
   ]
  },
  {
   "cell_type": "code",
   "execution_count": 9,
   "id": "d6d29022-acad-4d87-8244-08e5e040a489",
   "metadata": {},
   "outputs": [],
   "source": [
    "tilenames <- rep(\"NA\",length(tileindex))\n",
    "s3path <- rep(\"NA\",length(tileindex))\n",
    "l4path <- rep(\"NA\",length(tileindex))\n",
    "\n",
    "tileindex_df <- data.frame(tileindex, tilenames, s3path, l4path)\n",
    "for(i in 1:nrow(tileindex_df)){\n",
    "    tileindex_i <- tileindex_df[i,1]\n",
    "    tileindex_df[i,2] <- paste(\"/projects/my-public-bucket/AOIs/vero_1deg_tiles_52N52S_land/tile_num_\",tileindex_i,\".geojson\",sep=\"\")\n",
    "    tileindex_df[i,3] <- paste(\"https://maap-ops-workspace.s3.amazonaws.com/shared/leitoldv/AOIs/vero_1deg_tiles_52N52S_land/tile_num_\",tileindex_i,\".geojson\",sep=\"\")\n",
    "    tileindex_df[i,4] <- paste(\"/projects/my-public-bucket/GEDI_global_PA_v2/WDPA_gedi_L4A_tiles/tile_num_\",tileindex_i,\"_L4A.gpkg\",sep=\"\")\n",
    "    }\n",
    "\n",
    "write.csv(tileindex_df, paste(\"/projects/my-public-bucket/GEDI_global_PA_v2/vero_1deg_tileindex/tileindex_\",iso3,\".csv\", sep=\"\"))"
   ]
  },
  {
   "cell_type": "code",
   "execution_count": 10,
   "id": "0f6836ea-359a-4a5a-98b9-e79c23b1e05e",
   "metadata": {},
   "outputs": [
    {
     "data": {
      "text/html": [
       "<table class=\"dataframe\">\n",
       "<caption>A data.frame: 6 × 5</caption>\n",
       "<thead>\n",
       "\t<tr><th></th><th scope=col>X</th><th scope=col>tileindex</th><th scope=col>tilenames</th><th scope=col>s3path</th><th scope=col>l4path</th></tr>\n",
       "\t<tr><th></th><th scope=col>&lt;int&gt;</th><th scope=col>&lt;int&gt;</th><th scope=col>&lt;chr&gt;</th><th scope=col>&lt;chr&gt;</th><th scope=col>&lt;chr&gt;</th></tr>\n",
       "</thead>\n",
       "<tbody>\n",
       "\t<tr><th scope=row>1</th><td>1</td><td>22432</td><td>/projects/my-public-bucket/AOIs/vero_1deg_tiles_52N52S_land/tile_num_22432.geojson</td><td>https://maap-ops-workspace.s3.amazonaws.com/shared/leitoldv/AOIs/vero_1deg_tiles_52N52S_land/tile_num_22432.geojson</td><td>/projects/my-public-bucket/GEDI_global_PA_v2/WDPA_gedi_L4A_tiles/tile_num_22432_L4A.gpkg</td></tr>\n",
       "\t<tr><th scope=row>2</th><td>2</td><td>22433</td><td>/projects/my-public-bucket/AOIs/vero_1deg_tiles_52N52S_land/tile_num_22433.geojson</td><td>https://maap-ops-workspace.s3.amazonaws.com/shared/leitoldv/AOIs/vero_1deg_tiles_52N52S_land/tile_num_22433.geojson</td><td>/projects/my-public-bucket/GEDI_global_PA_v2/WDPA_gedi_L4A_tiles/tile_num_22433_L4A.gpkg</td></tr>\n",
       "\t<tr><th scope=row>3</th><td>3</td><td>22434</td><td>/projects/my-public-bucket/AOIs/vero_1deg_tiles_52N52S_land/tile_num_22434.geojson</td><td>https://maap-ops-workspace.s3.amazonaws.com/shared/leitoldv/AOIs/vero_1deg_tiles_52N52S_land/tile_num_22434.geojson</td><td>/projects/my-public-bucket/GEDI_global_PA_v2/WDPA_gedi_L4A_tiles/tile_num_22434_L4A.gpkg</td></tr>\n",
       "\t<tr><th scope=row>4</th><td>4</td><td>22435</td><td>/projects/my-public-bucket/AOIs/vero_1deg_tiles_52N52S_land/tile_num_22435.geojson</td><td>https://maap-ops-workspace.s3.amazonaws.com/shared/leitoldv/AOIs/vero_1deg_tiles_52N52S_land/tile_num_22435.geojson</td><td>/projects/my-public-bucket/GEDI_global_PA_v2/WDPA_gedi_L4A_tiles/tile_num_22435_L4A.gpkg</td></tr>\n",
       "\t<tr><th scope=row>5</th><td>5</td><td>22438</td><td>/projects/my-public-bucket/AOIs/vero_1deg_tiles_52N52S_land/tile_num_22438.geojson</td><td>https://maap-ops-workspace.s3.amazonaws.com/shared/leitoldv/AOIs/vero_1deg_tiles_52N52S_land/tile_num_22438.geojson</td><td>/projects/my-public-bucket/GEDI_global_PA_v2/WDPA_gedi_L4A_tiles/tile_num_22438_L4A.gpkg</td></tr>\n",
       "\t<tr><th scope=row>6</th><td>6</td><td>22439</td><td>/projects/my-public-bucket/AOIs/vero_1deg_tiles_52N52S_land/tile_num_22439.geojson</td><td>https://maap-ops-workspace.s3.amazonaws.com/shared/leitoldv/AOIs/vero_1deg_tiles_52N52S_land/tile_num_22439.geojson</td><td>/projects/my-public-bucket/GEDI_global_PA_v2/WDPA_gedi_L4A_tiles/tile_num_22439_L4A.gpkg</td></tr>\n",
       "</tbody>\n",
       "</table>\n"
      ],
      "text/latex": [
       "A data.frame: 6 × 5\n",
       "\\begin{tabular}{r|lllll}\n",
       "  & X & tileindex & tilenames & s3path & l4path\\\\\n",
       "  & <int> & <int> & <chr> & <chr> & <chr>\\\\\n",
       "\\hline\n",
       "\t1 & 1 & 22432 & /projects/my-public-bucket/AOIs/vero\\_1deg\\_tiles\\_52N52S\\_land/tile\\_num\\_22432.geojson & https://maap-ops-workspace.s3.amazonaws.com/shared/leitoldv/AOIs/vero\\_1deg\\_tiles\\_52N52S\\_land/tile\\_num\\_22432.geojson & /projects/my-public-bucket/GEDI\\_global\\_PA\\_v2/WDPA\\_gedi\\_L4A\\_tiles/tile\\_num\\_22432\\_L4A.gpkg\\\\\n",
       "\t2 & 2 & 22433 & /projects/my-public-bucket/AOIs/vero\\_1deg\\_tiles\\_52N52S\\_land/tile\\_num\\_22433.geojson & https://maap-ops-workspace.s3.amazonaws.com/shared/leitoldv/AOIs/vero\\_1deg\\_tiles\\_52N52S\\_land/tile\\_num\\_22433.geojson & /projects/my-public-bucket/GEDI\\_global\\_PA\\_v2/WDPA\\_gedi\\_L4A\\_tiles/tile\\_num\\_22433\\_L4A.gpkg\\\\\n",
       "\t3 & 3 & 22434 & /projects/my-public-bucket/AOIs/vero\\_1deg\\_tiles\\_52N52S\\_land/tile\\_num\\_22434.geojson & https://maap-ops-workspace.s3.amazonaws.com/shared/leitoldv/AOIs/vero\\_1deg\\_tiles\\_52N52S\\_land/tile\\_num\\_22434.geojson & /projects/my-public-bucket/GEDI\\_global\\_PA\\_v2/WDPA\\_gedi\\_L4A\\_tiles/tile\\_num\\_22434\\_L4A.gpkg\\\\\n",
       "\t4 & 4 & 22435 & /projects/my-public-bucket/AOIs/vero\\_1deg\\_tiles\\_52N52S\\_land/tile\\_num\\_22435.geojson & https://maap-ops-workspace.s3.amazonaws.com/shared/leitoldv/AOIs/vero\\_1deg\\_tiles\\_52N52S\\_land/tile\\_num\\_22435.geojson & /projects/my-public-bucket/GEDI\\_global\\_PA\\_v2/WDPA\\_gedi\\_L4A\\_tiles/tile\\_num\\_22435\\_L4A.gpkg\\\\\n",
       "\t5 & 5 & 22438 & /projects/my-public-bucket/AOIs/vero\\_1deg\\_tiles\\_52N52S\\_land/tile\\_num\\_22438.geojson & https://maap-ops-workspace.s3.amazonaws.com/shared/leitoldv/AOIs/vero\\_1deg\\_tiles\\_52N52S\\_land/tile\\_num\\_22438.geojson & /projects/my-public-bucket/GEDI\\_global\\_PA\\_v2/WDPA\\_gedi\\_L4A\\_tiles/tile\\_num\\_22438\\_L4A.gpkg\\\\\n",
       "\t6 & 6 & 22439 & /projects/my-public-bucket/AOIs/vero\\_1deg\\_tiles\\_52N52S\\_land/tile\\_num\\_22439.geojson & https://maap-ops-workspace.s3.amazonaws.com/shared/leitoldv/AOIs/vero\\_1deg\\_tiles\\_52N52S\\_land/tile\\_num\\_22439.geojson & /projects/my-public-bucket/GEDI\\_global\\_PA\\_v2/WDPA\\_gedi\\_L4A\\_tiles/tile\\_num\\_22439\\_L4A.gpkg\\\\\n",
       "\\end{tabular}\n"
      ],
      "text/markdown": [
       "\n",
       "A data.frame: 6 × 5\n",
       "\n",
       "| <!--/--> | X &lt;int&gt; | tileindex &lt;int&gt; | tilenames &lt;chr&gt; | s3path &lt;chr&gt; | l4path &lt;chr&gt; |\n",
       "|---|---|---|---|---|---|\n",
       "| 1 | 1 | 22432 | /projects/my-public-bucket/AOIs/vero_1deg_tiles_52N52S_land/tile_num_22432.geojson | https://maap-ops-workspace.s3.amazonaws.com/shared/leitoldv/AOIs/vero_1deg_tiles_52N52S_land/tile_num_22432.geojson | /projects/my-public-bucket/GEDI_global_PA_v2/WDPA_gedi_L4A_tiles/tile_num_22432_L4A.gpkg |\n",
       "| 2 | 2 | 22433 | /projects/my-public-bucket/AOIs/vero_1deg_tiles_52N52S_land/tile_num_22433.geojson | https://maap-ops-workspace.s3.amazonaws.com/shared/leitoldv/AOIs/vero_1deg_tiles_52N52S_land/tile_num_22433.geojson | /projects/my-public-bucket/GEDI_global_PA_v2/WDPA_gedi_L4A_tiles/tile_num_22433_L4A.gpkg |\n",
       "| 3 | 3 | 22434 | /projects/my-public-bucket/AOIs/vero_1deg_tiles_52N52S_land/tile_num_22434.geojson | https://maap-ops-workspace.s3.amazonaws.com/shared/leitoldv/AOIs/vero_1deg_tiles_52N52S_land/tile_num_22434.geojson | /projects/my-public-bucket/GEDI_global_PA_v2/WDPA_gedi_L4A_tiles/tile_num_22434_L4A.gpkg |\n",
       "| 4 | 4 | 22435 | /projects/my-public-bucket/AOIs/vero_1deg_tiles_52N52S_land/tile_num_22435.geojson | https://maap-ops-workspace.s3.amazonaws.com/shared/leitoldv/AOIs/vero_1deg_tiles_52N52S_land/tile_num_22435.geojson | /projects/my-public-bucket/GEDI_global_PA_v2/WDPA_gedi_L4A_tiles/tile_num_22435_L4A.gpkg |\n",
       "| 5 | 5 | 22438 | /projects/my-public-bucket/AOIs/vero_1deg_tiles_52N52S_land/tile_num_22438.geojson | https://maap-ops-workspace.s3.amazonaws.com/shared/leitoldv/AOIs/vero_1deg_tiles_52N52S_land/tile_num_22438.geojson | /projects/my-public-bucket/GEDI_global_PA_v2/WDPA_gedi_L4A_tiles/tile_num_22438_L4A.gpkg |\n",
       "| 6 | 6 | 22439 | /projects/my-public-bucket/AOIs/vero_1deg_tiles_52N52S_land/tile_num_22439.geojson | https://maap-ops-workspace.s3.amazonaws.com/shared/leitoldv/AOIs/vero_1deg_tiles_52N52S_land/tile_num_22439.geojson | /projects/my-public-bucket/GEDI_global_PA_v2/WDPA_gedi_L4A_tiles/tile_num_22439_L4A.gpkg |\n",
       "\n"
      ],
      "text/plain": [
       "  X tileindex\n",
       "1 1 22432    \n",
       "2 2 22433    \n",
       "3 3 22434    \n",
       "4 4 22435    \n",
       "5 5 22438    \n",
       "6 6 22439    \n",
       "  tilenames                                                                         \n",
       "1 /projects/my-public-bucket/AOIs/vero_1deg_tiles_52N52S_land/tile_num_22432.geojson\n",
       "2 /projects/my-public-bucket/AOIs/vero_1deg_tiles_52N52S_land/tile_num_22433.geojson\n",
       "3 /projects/my-public-bucket/AOIs/vero_1deg_tiles_52N52S_land/tile_num_22434.geojson\n",
       "4 /projects/my-public-bucket/AOIs/vero_1deg_tiles_52N52S_land/tile_num_22435.geojson\n",
       "5 /projects/my-public-bucket/AOIs/vero_1deg_tiles_52N52S_land/tile_num_22438.geojson\n",
       "6 /projects/my-public-bucket/AOIs/vero_1deg_tiles_52N52S_land/tile_num_22439.geojson\n",
       "  s3path                                                                                                             \n",
       "1 https://maap-ops-workspace.s3.amazonaws.com/shared/leitoldv/AOIs/vero_1deg_tiles_52N52S_land/tile_num_22432.geojson\n",
       "2 https://maap-ops-workspace.s3.amazonaws.com/shared/leitoldv/AOIs/vero_1deg_tiles_52N52S_land/tile_num_22433.geojson\n",
       "3 https://maap-ops-workspace.s3.amazonaws.com/shared/leitoldv/AOIs/vero_1deg_tiles_52N52S_land/tile_num_22434.geojson\n",
       "4 https://maap-ops-workspace.s3.amazonaws.com/shared/leitoldv/AOIs/vero_1deg_tiles_52N52S_land/tile_num_22435.geojson\n",
       "5 https://maap-ops-workspace.s3.amazonaws.com/shared/leitoldv/AOIs/vero_1deg_tiles_52N52S_land/tile_num_22438.geojson\n",
       "6 https://maap-ops-workspace.s3.amazonaws.com/shared/leitoldv/AOIs/vero_1deg_tiles_52N52S_land/tile_num_22439.geojson\n",
       "  l4path                                                                                  \n",
       "1 /projects/my-public-bucket/GEDI_global_PA_v2/WDPA_gedi_L4A_tiles/tile_num_22432_L4A.gpkg\n",
       "2 /projects/my-public-bucket/GEDI_global_PA_v2/WDPA_gedi_L4A_tiles/tile_num_22433_L4A.gpkg\n",
       "3 /projects/my-public-bucket/GEDI_global_PA_v2/WDPA_gedi_L4A_tiles/tile_num_22434_L4A.gpkg\n",
       "4 /projects/my-public-bucket/GEDI_global_PA_v2/WDPA_gedi_L4A_tiles/tile_num_22435_L4A.gpkg\n",
       "5 /projects/my-public-bucket/GEDI_global_PA_v2/WDPA_gedi_L4A_tiles/tile_num_22438_L4A.gpkg\n",
       "6 /projects/my-public-bucket/GEDI_global_PA_v2/WDPA_gedi_L4A_tiles/tile_num_22439_L4A.gpkg"
      ]
     },
     "metadata": {},
     "output_type": "display_data"
    }
   ],
   "source": [
    "tileindex_df <- read.csv(paste(\"/projects/my-public-bucket/GEDI_global_PA_v2/vero_1deg_tileindex/tileindex_\",iso3,\".csv\", sep=\"\"))\n",
    "head(tileindex_df)"
   ]
  },
  {
   "cell_type": "code",
   "execution_count": null,
   "id": "84f1ce4e-4800-49a2-8328-e3cfc1e57b4c",
   "metadata": {},
   "outputs": [],
   "source": []
  },
  {
   "cell_type": "code",
   "execution_count": null,
   "id": "27b3e4a0-b270-4b27-9edc-a76d799c5106",
   "metadata": {},
   "outputs": [],
   "source": []
  },
  {
   "cell_type": "code",
   "execution_count": null,
   "id": "ceb30f97-f333-4af4-b830-8b46b5ba9ba9",
   "metadata": {},
   "outputs": [],
   "source": []
  },
  {
   "cell_type": "code",
   "execution_count": null,
   "id": "d835cf88-899f-4938-9520-48225cc12a3f",
   "metadata": {},
   "outputs": [],
   "source": []
  },
  {
   "cell_type": "code",
   "execution_count": 12,
   "id": "41717a1f-ea03-4544-9962-4d281a1f7e1a",
   "metadata": {},
   "outputs": [
    {
     "data": {
      "text/html": [
       "<style>\n",
       ".list-inline {list-style: none; margin:0; padding: 0}\n",
       ".list-inline>li {display: inline-block}\n",
       ".list-inline>li:not(:last-child)::after {content: \"\\00b7\"; padding: 0 .5ex}\n",
       "</style>\n",
       "<ol class=list-inline><li>'ARG'</li><li>'BOL'</li><li>'BRA'</li><li>'CHL'</li><li>'COL'</li><li>'ECU'</li><li>'FLK'</li><li>'GUY'</li><li>'PER'</li><li>'PRY'</li><li>'SUR'</li><li>'URY'</li><li>'VEN'</li></ol>\n"
      ],
      "text/latex": [
       "\\begin{enumerate*}\n",
       "\\item 'ARG'\n",
       "\\item 'BOL'\n",
       "\\item 'BRA'\n",
       "\\item 'CHL'\n",
       "\\item 'COL'\n",
       "\\item 'ECU'\n",
       "\\item 'FLK'\n",
       "\\item 'GUY'\n",
       "\\item 'PER'\n",
       "\\item 'PRY'\n",
       "\\item 'SUR'\n",
       "\\item 'URY'\n",
       "\\item 'VEN'\n",
       "\\end{enumerate*}\n"
      ],
      "text/markdown": [
       "1. 'ARG'\n",
       "2. 'BOL'\n",
       "3. 'BRA'\n",
       "4. 'CHL'\n",
       "5. 'COL'\n",
       "6. 'ECU'\n",
       "7. 'FLK'\n",
       "8. 'GUY'\n",
       "9. 'PER'\n",
       "10. 'PRY'\n",
       "11. 'SUR'\n",
       "12. 'URY'\n",
       "13. 'VEN'\n",
       "\n",
       "\n"
      ],
      "text/plain": [
       " [1] \"ARG\" \"BOL\" \"BRA\" \"CHL\" \"COL\" \"ECU\" \"FLK\" \"GUY\" \"PER\" \"PRY\" \"SUR\" \"URY\"\n",
       "[13] \"VEN\""
      ]
     },
     "metadata": {},
     "output_type": "display_data"
    }
   ],
   "source": [
    "## check if all L4A.gpkg files exist for a given country -- list missing tiles for subsetting\n",
    "sort(world[world$CONTINENT=='South America',]$ADM0_A3)"
   ]
  },
  {
   "cell_type": "code",
   "execution_count": 32,
   "id": "aa01aa6d-ee8f-4aeb-8cbc-dcc8c190652a",
   "metadata": {
    "scrolled": true
   },
   "outputs": [
    {
     "data": {
      "text/html": [
       "<style>\n",
       ".list-inline {list-style: none; margin:0; padding: 0}\n",
       ".list-inline>li {display: inline-block}\n",
       ".list-inline>li:not(:last-child)::after {content: \"\\00b7\"; padding: 0 .5ex}\n",
       "</style>\n",
       "<ol class=list-inline><li>1</li><li>1</li><li>1</li><li>1</li><li>1</li><li>1</li><li>1</li><li>1</li><li>1</li><li>1</li><li>1</li><li>1</li><li>1</li><li>1</li><li>1</li><li>1</li><li>1</li><li>1</li><li>1</li><li>1</li><li>1</li><li>1</li><li>1</li><li>1</li><li>1</li><li>1</li><li>1</li><li>1</li><li>1</li><li>1</li><li>1</li><li>1</li><li>1</li><li>1</li><li>1</li><li>1</li><li>1</li><li>1</li><li>1</li><li>1</li><li>1</li><li>1</li><li>1</li><li>1</li><li>1</li><li>1</li><li>1</li><li>1</li><li>1</li><li>1</li><li>1</li><li>1</li><li>1</li><li>1</li><li>1</li><li>1</li><li>1</li><li>1</li><li>1</li><li>1</li><li>1</li><li>1</li><li>1</li><li>1</li><li>1</li><li>1</li><li>1</li><li>1</li><li>1</li><li>1</li><li>1</li><li>1</li><li>1</li><li>1</li><li>1</li><li>1</li><li>1</li><li>1</li><li>0</li><li>1</li><li>1</li><li>1</li><li>1</li><li>1</li><li>1</li><li>1</li><li>1</li><li>1</li><li>1</li><li>1</li><li>1</li><li>1</li><li>1</li><li>1</li><li>1</li><li>1</li><li>1</li><li>1</li><li>1</li><li>1</li><li>1</li><li>1</li><li>1</li><li>1</li><li>1</li><li>1</li><li>1</li><li>1</li><li>1</li><li>1</li><li>1</li><li>1</li></ol>\n"
      ],
      "text/latex": [
       "\\begin{enumerate*}\n",
       "\\item 1\n",
       "\\item 1\n",
       "\\item 1\n",
       "\\item 1\n",
       "\\item 1\n",
       "\\item 1\n",
       "\\item 1\n",
       "\\item 1\n",
       "\\item 1\n",
       "\\item 1\n",
       "\\item 1\n",
       "\\item 1\n",
       "\\item 1\n",
       "\\item 1\n",
       "\\item 1\n",
       "\\item 1\n",
       "\\item 1\n",
       "\\item 1\n",
       "\\item 1\n",
       "\\item 1\n",
       "\\item 1\n",
       "\\item 1\n",
       "\\item 1\n",
       "\\item 1\n",
       "\\item 1\n",
       "\\item 1\n",
       "\\item 1\n",
       "\\item 1\n",
       "\\item 1\n",
       "\\item 1\n",
       "\\item 1\n",
       "\\item 1\n",
       "\\item 1\n",
       "\\item 1\n",
       "\\item 1\n",
       "\\item 1\n",
       "\\item 1\n",
       "\\item 1\n",
       "\\item 1\n",
       "\\item 1\n",
       "\\item 1\n",
       "\\item 1\n",
       "\\item 1\n",
       "\\item 1\n",
       "\\item 1\n",
       "\\item 1\n",
       "\\item 1\n",
       "\\item 1\n",
       "\\item 1\n",
       "\\item 1\n",
       "\\item 1\n",
       "\\item 1\n",
       "\\item 1\n",
       "\\item 1\n",
       "\\item 1\n",
       "\\item 1\n",
       "\\item 1\n",
       "\\item 1\n",
       "\\item 1\n",
       "\\item 1\n",
       "\\item 1\n",
       "\\item 1\n",
       "\\item 1\n",
       "\\item 1\n",
       "\\item 1\n",
       "\\item 1\n",
       "\\item 1\n",
       "\\item 1\n",
       "\\item 1\n",
       "\\item 1\n",
       "\\item 1\n",
       "\\item 1\n",
       "\\item 1\n",
       "\\item 1\n",
       "\\item 1\n",
       "\\item 1\n",
       "\\item 1\n",
       "\\item 1\n",
       "\\item 0\n",
       "\\item 1\n",
       "\\item 1\n",
       "\\item 1\n",
       "\\item 1\n",
       "\\item 1\n",
       "\\item 1\n",
       "\\item 1\n",
       "\\item 1\n",
       "\\item 1\n",
       "\\item 1\n",
       "\\item 1\n",
       "\\item 1\n",
       "\\item 1\n",
       "\\item 1\n",
       "\\item 1\n",
       "\\item 1\n",
       "\\item 1\n",
       "\\item 1\n",
       "\\item 1\n",
       "\\item 1\n",
       "\\item 1\n",
       "\\item 1\n",
       "\\item 1\n",
       "\\item 1\n",
       "\\item 1\n",
       "\\item 1\n",
       "\\item 1\n",
       "\\item 1\n",
       "\\item 1\n",
       "\\item 1\n",
       "\\item 1\n",
       "\\item 1\n",
       "\\item 1\n",
       "\\end{enumerate*}\n"
      ],
      "text/markdown": [
       "1. 1\n",
       "2. 1\n",
       "3. 1\n",
       "4. 1\n",
       "5. 1\n",
       "6. 1\n",
       "7. 1\n",
       "8. 1\n",
       "9. 1\n",
       "10. 1\n",
       "11. 1\n",
       "12. 1\n",
       "13. 1\n",
       "14. 1\n",
       "15. 1\n",
       "16. 1\n",
       "17. 1\n",
       "18. 1\n",
       "19. 1\n",
       "20. 1\n",
       "21. 1\n",
       "22. 1\n",
       "23. 1\n",
       "24. 1\n",
       "25. 1\n",
       "26. 1\n",
       "27. 1\n",
       "28. 1\n",
       "29. 1\n",
       "30. 1\n",
       "31. 1\n",
       "32. 1\n",
       "33. 1\n",
       "34. 1\n",
       "35. 1\n",
       "36. 1\n",
       "37. 1\n",
       "38. 1\n",
       "39. 1\n",
       "40. 1\n",
       "41. 1\n",
       "42. 1\n",
       "43. 1\n",
       "44. 1\n",
       "45. 1\n",
       "46. 1\n",
       "47. 1\n",
       "48. 1\n",
       "49. 1\n",
       "50. 1\n",
       "51. 1\n",
       "52. 1\n",
       "53. 1\n",
       "54. 1\n",
       "55. 1\n",
       "56. 1\n",
       "57. 1\n",
       "58. 1\n",
       "59. 1\n",
       "60. 1\n",
       "61. 1\n",
       "62. 1\n",
       "63. 1\n",
       "64. 1\n",
       "65. 1\n",
       "66. 1\n",
       "67. 1\n",
       "68. 1\n",
       "69. 1\n",
       "70. 1\n",
       "71. 1\n",
       "72. 1\n",
       "73. 1\n",
       "74. 1\n",
       "75. 1\n",
       "76. 1\n",
       "77. 1\n",
       "78. 1\n",
       "79. 0\n",
       "80. 1\n",
       "81. 1\n",
       "82. 1\n",
       "83. 1\n",
       "84. 1\n",
       "85. 1\n",
       "86. 1\n",
       "87. 1\n",
       "88. 1\n",
       "89. 1\n",
       "90. 1\n",
       "91. 1\n",
       "92. 1\n",
       "93. 1\n",
       "94. 1\n",
       "95. 1\n",
       "96. 1\n",
       "97. 1\n",
       "98. 1\n",
       "99. 1\n",
       "100. 1\n",
       "101. 1\n",
       "102. 1\n",
       "103. 1\n",
       "104. 1\n",
       "105. 1\n",
       "106. 1\n",
       "107. 1\n",
       "108. 1\n",
       "109. 1\n",
       "110. 1\n",
       "111. 1\n",
       "112. 1\n",
       "\n",
       "\n"
      ],
      "text/plain": [
       "  [1] 1 1 1 1 1 1 1 1 1 1 1 1 1 1 1 1 1 1 1 1 1 1 1 1 1 1 1 1 1 1 1 1 1 1 1 1 1\n",
       " [38] 1 1 1 1 1 1 1 1 1 1 1 1 1 1 1 1 1 1 1 1 1 1 1 1 1 1 1 1 1 1 1 1 1 1 1 1 1\n",
       " [75] 1 1 1 1 0 1 1 1 1 1 1 1 1 1 1 1 1 1 1 1 1 1 1 1 1 1 1 1 1 1 1 1 1 1 1 1 1\n",
       "[112] 1"
      ]
     },
     "metadata": {},
     "output_type": "display_data"
    },
    {
     "data": {
      "text/html": [
       "20955"
      ],
      "text/latex": [
       "20955"
      ],
      "text/markdown": [
       "20955"
      ],
      "text/plain": [
       "[1] 20955"
      ]
     },
     "metadata": {},
     "output_type": "display_data"
    },
    {
     "name": "stdout",
     "output_type": "stream",
     "text": [
      "[1] \"#each_aoi = 'https://maap-ops-workspace.s3.amazonaws.com/shared/leitoldv/AOIs/vero_1deg_tiles_52N52S_land/tile_num_20955.geojson'\"\n"
     ]
    }
   ],
   "source": [
    "iso3 <- \"VEN\"\n",
    "tindex_path <- \"/projects/my-public-bucket/GEDI_global_PA_v2/vero_1deg_tileindex/\"\n",
    "tileindex_iso3 <- read.csv(paste(tindex_path,\"tileindex_\",iso3,\".csv\", sep=\"\"))\n",
    "#head(tileindex_iso3)\n",
    "\n",
    "L4exists <- rep(0,nrow(tileindex_iso3))\n",
    "for(i in 1:nrow(tileindex_iso3)){\n",
    "    L4exists[i] <- as.numeric(file.exists(tileindex_iso3[i,\"l4path\"]))\n",
    "#    gpkg_table(tileindex_iso3[i,\"l4path\"])\n",
    "}\n",
    "L4exists\n",
    "\n",
    "missing_tiles <- tileindex_iso3[which(L4exists==0),\"tileindex\"]\n",
    "missing_tiles\n",
    "\n",
    "for(j in 1:length(missing_tiles)){\n",
    "\n",
    "    print(paste(\"#each_aoi = 'https://maap-ops-workspace.s3.amazonaws.com/shared/leitoldv/AOIs/vero_1deg_tiles_52N52S_land/tile_num_\",\n",
    "                missing_tiles[j],\".geojson'\",sep=\"\"))\n",
    "    }\n",
    "#each_aoi = 'https://maap-ops-workspace.s3.amazonaws.com/shared/leitoldv/AOIs/vero_1deg_tiles_52N52S_land/tile_num_19400.geojson'\n"
   ]
  },
  {
   "cell_type": "code",
   "execution_count": 14,
   "id": "1ed6008a-4c4f-483f-9290-3fc289b159c8",
   "metadata": {},
   "outputs": [
    {
     "data": {
      "text/html": [],
      "text/latex": [],
      "text/markdown": [],
      "text/plain": [
       "integer(0)"
      ]
     },
     "metadata": {},
     "output_type": "display_data"
    }
   ],
   "source": [
    "missing_tiles"
   ]
  },
  {
   "cell_type": "code",
   "execution_count": null,
   "id": "9070f44e-6eab-4c9e-adef-21151c8398ec",
   "metadata": {},
   "outputs": [],
   "source": []
  },
  {
   "cell_type": "code",
   "execution_count": null,
   "id": "ee35a703-1c00-422c-ad09-035d5c56d420",
   "metadata": {},
   "outputs": [],
   "source": []
  },
  {
   "cell_type": "code",
   "execution_count": null,
   "id": "595dd4cf-8f53-4eb5-94a1-fc4cf9c6c520",
   "metadata": {},
   "outputs": [],
   "source": []
  },
  {
   "cell_type": "code",
   "execution_count": null,
   "id": "68582521-7f8a-4ded-a74d-02d00454b039",
   "metadata": {},
   "outputs": [],
   "source": []
  },
  {
   "cell_type": "code",
   "execution_count": 54,
   "id": "84acdab2-55b0-412b-8b2d-349222bdfbd1",
   "metadata": {},
   "outputs": [
    {
     "name": "stderr",
     "output_type": "stream",
     "text": [
      "Linking to GEOS 3.11.2, GDAL 3.7.0, PROJ 9.2.0; sf_use_s2() is TRUE\n",
      "\n"
     ]
    }
   ],
   "source": [
    "library(\"sf\")"
   ]
  },
  {
   "cell_type": "code",
   "execution_count": 60,
   "id": "ad801476-80df-482a-8b9f-cd171490ec45",
   "metadata": {},
   "outputs": [
    {
     "name": "stderr",
     "output_type": "stream",
     "text": [
      "Warning message in install.packages(\"gpkg\"):\n",
      "“installation of package ‘gpkg’ had non-zero exit status”\n",
      "Updating HTML index of packages in '.Library'\n",
      "\n",
      "Making 'packages.html' ...\n",
      " done\n",
      "\n"
     ]
    },
    {
     "ename": "ERROR",
     "evalue": "Error in library(\"gpkg\"): there is no package called ‘gpkg’\n",
     "output_type": "error",
     "traceback": [
      "Error in library(\"gpkg\"): there is no package called ‘gpkg’\nTraceback:\n",
      "1. library(\"gpkg\")"
     ]
    }
   ],
   "source": [
    "install.packages(\"gpkg\")\n",
    "library(\"gpkg\")"
   ]
  },
  {
   "cell_type": "code",
   "execution_count": null,
   "id": "feff6094-aa5c-441d-be29-027091f68edb",
   "metadata": {},
   "outputs": [],
   "source": []
  },
  {
   "cell_type": "code",
   "execution_count": null,
   "id": "f3f27165-fd0d-467a-8bd3-2252e11982fd",
   "metadata": {},
   "outputs": [],
   "source": []
  },
  {
   "cell_type": "code",
   "execution_count": null,
   "id": "75c138f3-65ba-492e-ab39-129a74e3f9e9",
   "metadata": {},
   "outputs": [],
   "source": []
  },
  {
   "cell_type": "code",
   "execution_count": 23,
   "id": "27aa1a1f-e373-420a-901f-be52a6792754",
   "metadata": {
    "tags": []
   },
   "outputs": [
    {
     "name": "stdout",
     "output_type": "stream",
     "text": [
      "[1] \"IDN\"\n",
      "[1] \"MYS\"\n",
      "[1] \"CHL\"\n",
      "[1] \"BOL\"\n",
      "[1] \"PER\"\n",
      "[1] \"ARG\"\n",
      "[1] \"ESB\"\n",
      "[1] \"CYP\"\n",
      "[1] \"IND\"\n",
      "[1] \"CHN\"\n",
      "[1] \"ISR\"\n",
      "[1] \"PSX\"\n",
      "[1] \"LBN\"\n",
      "[1] \"ETH\"\n",
      "[1] \"SDS\"\n",
      "[1] \"SOM\"\n",
      "[1] \"KEN\"\n",
      "[1] \"PAK\"\n",
      "[1] \"MWI\"\n",
      "[1] \"TZA\"\n",
      "[1] \"SYR\"\n",
      "[1] \"SOL\"\n",
      "[1] \"FRA\"\n",
      "[1] \"SUR\"\n",
      "[1] \"GUY\"\n",
      "[1] \"KOR\"\n",
      "[1] \"PRK\"\n",
      "[1] \"MAR\"\n",
      "[1] \"SAH\"\n",
      "[1] \"CRI\"\n",
      "[1] \"NIC\"\n",
      "[1] \"COG\"\n",
      "[1] \"COD\"\n",
      "[1] \"BTN\"\n",
      "[1] \"UKR\"\n",
      "[1] \"BLR\"\n",
      "[1] \"NAM\"\n",
      "[1] \"ZAF\"\n",
      "[1] \"MAF\"\n",
      "[1] \"SXM\"\n",
      "[1] \"OMN\"\n",
      "[1] \"UZB\"\n",
      "[1] \"KAZ\"\n",
      "[1] \"TJK\"\n",
      "[1] \"LTU\"\n"
     ]
    },
    {
     "name": "stderr",
     "output_type": "stream",
     "text": [
      "Warning message:\n",
      "“[intersect] no intersection”\n"
     ]
    },
    {
     "name": "stdout",
     "output_type": "stream",
     "text": [
      "[1] \"no intersecting G1deg_tiles found\"\n",
      "[1] \"BRA\"\n",
      "[1] \"URY\"\n",
      "[1] \"MNG\"\n",
      "[1] \"RUS\"\n",
      "[1] \"CZE\"\n",
      "[1] \"DEU\"\n",
      "[1] \"EST\"\n"
     ]
    },
    {
     "name": "stderr",
     "output_type": "stream",
     "text": [
      "Warning message:\n",
      "“[intersect] no intersection”\n"
     ]
    },
    {
     "name": "stdout",
     "output_type": "stream",
     "text": [
      "[1] \"no intersecting G1deg_tiles found\"\n",
      "[1] \"LVA\"\n"
     ]
    },
    {
     "name": "stderr",
     "output_type": "stream",
     "text": [
      "Warning message:\n",
      "“[intersect] no intersection”\n"
     ]
    },
    {
     "name": "stdout",
     "output_type": "stream",
     "text": [
      "[1] \"no intersecting G1deg_tiles found\"\n",
      "[1] \"NOR\"\n"
     ]
    },
    {
     "name": "stderr",
     "output_type": "stream",
     "text": [
      "Warning message:\n",
      "“[intersect] no intersection”\n"
     ]
    },
    {
     "name": "stdout",
     "output_type": "stream",
     "text": [
      "[1] \"no intersecting G1deg_tiles found\"\n",
      "[1] \"SWE\"\n"
     ]
    },
    {
     "name": "stderr",
     "output_type": "stream",
     "text": [
      "Warning message:\n",
      "“[intersect] no intersection”\n"
     ]
    },
    {
     "name": "stdout",
     "output_type": "stream",
     "text": [
      "[1] \"no intersecting G1deg_tiles found\"\n",
      "[1] \"FIN\"\n"
     ]
    },
    {
     "name": "stderr",
     "output_type": "stream",
     "text": [
      "Warning message:\n",
      "“[intersect] no intersection”\n"
     ]
    },
    {
     "name": "stdout",
     "output_type": "stream",
     "text": [
      "[1] \"no intersecting G1deg_tiles found\"\n",
      "[1] \"VNM\"\n",
      "[1] \"KHM\"\n",
      "[1] \"LUX\"\n",
      "[1] \"ARE\"\n",
      "[1] \"BEL\"\n",
      "[1] \"GEO\"\n",
      "[1] \"MKD\"\n",
      "[1] \"ALB\"\n",
      "[1] \"AZE\"\n",
      "[1] \"KOS\"\n",
      "[1] \"TUR\"\n",
      "[1] \"ESP\"\n",
      "[1] \"LAO\"\n",
      "[1] \"KGZ\"\n",
      "[1] \"ARM\"\n",
      "[1] \"DNK\"\n"
     ]
    },
    {
     "name": "stderr",
     "output_type": "stream",
     "text": [
      "Warning message:\n",
      "“[intersect] no intersection”\n"
     ]
    },
    {
     "name": "stdout",
     "output_type": "stream",
     "text": [
      "[1] \"no intersecting G1deg_tiles found\"\n",
      "[1] \"LBY\"\n",
      "[1] \"TUN\"\n",
      "[1] \"ROU\"\n",
      "[1] \"HUN\"\n",
      "[1] \"SVK\"\n",
      "[1] \"POL\"\n",
      "[1] \"IRL\"\n",
      "[1] \"GBR\"\n",
      "[1] \"GRC\"\n",
      "[1] \"ZMB\"\n",
      "[1] \"SLE\"\n",
      "[1] \"GIN\"\n",
      "[1] \"LBR\"\n",
      "[1] \"CAF\"\n",
      "[1] \"SDN\"\n",
      "[1] \"DJI\"\n",
      "[1] \"ERI\"\n",
      "[1] \"AUT\"\n",
      "[1] \"IRQ\"\n",
      "[1] \"ITA\"\n",
      "[1] \"CHE\"\n",
      "[1] \"IRN\"\n",
      "[1] \"NLD\"\n",
      "[1] \"LIE\"\n",
      "[1] \"CIV\"\n",
      "[1] \"SRB\"\n",
      "[1] \"MLI\"\n",
      "[1] \"SEN\"\n",
      "[1] \"NGA\"\n",
      "[1] \"BEN\"\n",
      "[1] \"AGO\"\n",
      "[1] \"HRV\"\n",
      "[1] \"SVN\"\n",
      "[1] \"QAT\"\n",
      "[1] \"SAU\"\n",
      "[1] \"BWA\"\n",
      "[1] \"ZWE\"\n",
      "[1] \"BGR\"\n",
      "[1] \"THA\"\n",
      "[1] \"SMR\"\n",
      "[1] \"HTI\"\n",
      "[1] \"DOM\"\n",
      "[1] \"TCD\"\n",
      "[1] \"KWT\"\n",
      "[1] \"SLV\"\n",
      "[1] \"GTM\"\n",
      "[1] \"TLS\"\n",
      "[1] \"BRN\"\n",
      "[1] \"MCO\"\n",
      "[1] \"DZA\"\n",
      "[1] \"MOZ\"\n",
      "[1] \"SWZ\"\n",
      "[1] \"BDI\"\n",
      "[1] \"RWA\"\n",
      "[1] \"MMR\"\n",
      "[1] \"BGD\"\n",
      "[1] \"AND\"\n",
      "[1] \"AFG\"\n",
      "[1] \"MNE\"\n",
      "[1] \"BIH\"\n",
      "[1] \"UGA\"\n",
      "[1] \"USG\"\n",
      "[1] \"CUB\"\n",
      "[1] \"HND\"\n",
      "[1] \"ECU\"\n",
      "[1] \"COL\"\n",
      "[1] \"PRY\"\n",
      "[1] \"PRT\"\n",
      "[1] \"MDA\"\n",
      "[1] \"TKM\"\n",
      "[1] \"JOR\"\n",
      "[1] \"NPL\"\n",
      "[1] \"LSO\"\n",
      "[1] \"CMR\"\n",
      "[1] \"GAB\"\n",
      "[1] \"NER\"\n",
      "[1] \"BFA\"\n",
      "[1] \"TGO\"\n",
      "[1] \"GHA\"\n",
      "[1] \"GNB\"\n",
      "[1] \"GIB\"\n",
      "[1] \"USA\"\n",
      "[1] \"CAN\"\n",
      "[1] \"MEX\"\n",
      "[1] \"BLZ\"\n",
      "[1] \"PAN\"\n",
      "[1] \"VEN\"\n",
      "[1] \"PNG\"\n",
      "[1] \"EGY\"\n",
      "[1] \"YEM\"\n",
      "[1] \"MRT\"\n",
      "[1] \"GNQ\"\n",
      "[1] \"GMB\"\n",
      "[1] \"HKG\"\n",
      "[1] \"VAT\"\n",
      "[1] \"CYN\"\n",
      "[1] \"CNM\"\n",
      "[1] \"KAS\"\n",
      "[1] \"KAB\"\n",
      "[1] \"WSB\"\n",
      "[1] \"ATA\"\n"
     ]
    },
    {
     "name": "stderr",
     "output_type": "stream",
     "text": [
      "Warning message:\n",
      "“[intersect] no intersection”\n"
     ]
    },
    {
     "name": "stdout",
     "output_type": "stream",
     "text": [
      "[1] \"no intersecting G1deg_tiles found\"\n",
      "[1] \"AUS\"\n",
      "[1] \"GRL\"\n"
     ]
    },
    {
     "name": "stderr",
     "output_type": "stream",
     "text": [
      "Warning message:\n",
      "“[intersect] no intersection”\n"
     ]
    },
    {
     "name": "stdout",
     "output_type": "stream",
     "text": [
      "[1] \"no intersecting G1deg_tiles found\"\n",
      "[1] \"FJI\"\n",
      "[1] \"NZL\"\n",
      "[1] \"NCL\"\n",
      "[1] \"MDG\"\n",
      "[1] \"PHL\"\n",
      "[1] \"LKA\"\n",
      "[1] \"CUW\"\n",
      "[1] \"ABW\"\n",
      "[1] \"BHS\"\n",
      "[1] \"TCA\"\n",
      "[1] \"TWN\"\n",
      "[1] \"JPN\"\n",
      "[1] \"SPM\"\n",
      "[1] \"ISL\"\n"
     ]
    },
    {
     "name": "stderr",
     "output_type": "stream",
     "text": [
      "Warning message:\n",
      "“[intersect] no intersection”\n"
     ]
    },
    {
     "name": "stdout",
     "output_type": "stream",
     "text": [
      "[1] \"no intersecting G1deg_tiles found\"\n",
      "[1] \"PCN\"\n",
      "[1] \"PYF\"\n",
      "[1] \"ATF\"\n",
      "[1] \"SYC\"\n",
      "[1] \"KIR\"\n",
      "[1] \"MHL\"\n",
      "[1] \"TTO\"\n",
      "[1] \"GRD\"\n",
      "[1] \"VCT\"\n",
      "[1] \"BRB\"\n",
      "[1] \"LCA\"\n",
      "[1] \"DMA\"\n",
      "[1] \"UMI\"\n",
      "[1] \"MSR\"\n",
      "[1] \"ATG\"\n",
      "[1] \"KNA\"\n",
      "[1] \"VIR\"\n",
      "[1] \"BLM\"\n",
      "[1] \"PRI\"\n",
      "[1] \"AIA\"\n",
      "[1] \"VGB\"\n",
      "[1] \"JAM\"\n",
      "[1] \"CYM\"\n",
      "[1] \"BMU\"\n",
      "[1] \"HMD\"\n"
     ]
    },
    {
     "name": "stderr",
     "output_type": "stream",
     "text": [
      "Warning message:\n",
      "“[intersect] no intersection”\n"
     ]
    },
    {
     "name": "stdout",
     "output_type": "stream",
     "text": [
      "[1] \"no intersecting G1deg_tiles found\"\n",
      "[1] \"SHN\"\n",
      "[1] \"MUS\"\n",
      "[1] \"COM\"\n",
      "[1] \"STP\"\n",
      "[1] \"CPV\"\n",
      "[1] \"MLT\"\n",
      "[1] \"JEY\"\n",
      "[1] \"GGY\"\n",
      "[1] \"IMN\"\n"
     ]
    },
    {
     "name": "stderr",
     "output_type": "stream",
     "text": [
      "Warning message:\n",
      "“[intersect] no intersection”\n"
     ]
    },
    {
     "name": "stdout",
     "output_type": "stream",
     "text": [
      "[1] \"no intersecting G1deg_tiles found\"\n",
      "[1] \"ALD\"\n"
     ]
    },
    {
     "name": "stderr",
     "output_type": "stream",
     "text": [
      "Warning message:\n",
      "“[intersect] no intersection”\n"
     ]
    },
    {
     "name": "stdout",
     "output_type": "stream",
     "text": [
      "[1] \"no intersecting G1deg_tiles found\"\n",
      "[1] \"FRO\"\n"
     ]
    },
    {
     "name": "stderr",
     "output_type": "stream",
     "text": [
      "Warning message:\n",
      "“[intersect] no intersection”\n"
     ]
    },
    {
     "name": "stdout",
     "output_type": "stream",
     "text": [
      "[1] \"no intersecting G1deg_tiles found\"\n",
      "[1] \"IOA\"\n",
      "[1] \"IOT\"\n",
      "[1] \"SGP\"\n",
      "[1] \"NFK\"\n",
      "[1] \"COK\"\n",
      "[1] \"TON\"\n",
      "[1] \"WLF\"\n",
      "[1] \"WSM\"\n",
      "[1] \"SLB\"\n",
      "[1] \"TUV\"\n",
      "[1] \"MDV\"\n",
      "[1] \"NRU\"\n",
      "[1] \"FSM\"\n",
      "[1] \"SGS\"\n"
     ]
    },
    {
     "name": "stderr",
     "output_type": "stream",
     "text": [
      "Warning message:\n",
      "“[intersect] no intersection”\n"
     ]
    },
    {
     "name": "stdout",
     "output_type": "stream",
     "text": [
      "[1] \"no intersecting G1deg_tiles found\"\n",
      "[1] \"FLK\"\n",
      "[1] \"VUT\"\n",
      "[1] \"NIU\"\n",
      "[1] \"ASM\"\n",
      "[1] \"PLW\"\n",
      "[1] \"GUM\"\n",
      "[1] \"MNP\"\n",
      "[1] \"BHR\"\n",
      "[1] \"CSI\"\n",
      "[1] \"PGA\"\n",
      "[1] \"CLP\"\n",
      "[1] \"MAC\"\n",
      "[1] \"ATC\"\n",
      "[1] \"BJN\"\n",
      "[1] \"SER\"\n",
      "[1] \"SCR\"\n"
     ]
    }
   ],
   "source": [
    "iso3_list <- world$ADM0_A3\n",
    "\n",
    "for(i in 1:length(iso3_list)){\n",
    "    \n",
    "    iso3 <- iso3_list[i]\n",
    "    country <- world[world$ADM0_A3 %in% iso3,]\n",
    "    aoi <- country\n",
    "    \n",
    "    print(iso3)\n",
    "    \n",
    "#    if(!file.exists(paste(\"/projects/my-public-bucket/GEDI_global_PA_v2/vero_1deg_tileindex/tileindex_\",iso3,\".csv\", sep=\"\"))){\n",
    "        \n",
    "    if (!identical(crs(aoi), crs(G1deg_tiles))){aoi <- project(aoi, crs(G1deg_tiles))}\n",
    "        intersecting <- intersect(G1deg_tiles, aoi)\n",
    "          if (nrow(intersecting) == 0) {print('no intersecting G1deg_tiles found')\n",
    "          } else {\n",
    "            tileindex <- intersecting$id\n",
    "          }\n",
    "        #print(tileindex)\n",
    "    \n",
    "    tilenames <- rep(\"NA\",length(tileindex))\n",
    "    s3path <- rep(\"NA\",length(tileindex))\n",
    "    l4path <- rep(\"NA\",length(tileindex))\n",
    "\n",
    "    tileindex_df <- data.frame(tileindex, tilenames, s3path, l4path)\n",
    "        for(i in 1:nrow(tileindex_df)){\n",
    "            tileindex_i <- tileindex_df[i,1]\n",
    "            tileindex_df[i,2] <- paste(\"/projects/my-public-bucket/AOIs/vero_1deg_tiles_52N52S_land/tile_num_\",tileindex_i,\".geojson\",sep=\"\")\n",
    "            tileindex_df[i,3] <- paste(\"https://maap-ops-workspace.s3.amazonaws.com/shared/leitoldv/AOIs/vero_1deg_tiles_52N52S_land/tile_num_\",tileindex_i,\".geojson\",sep=\"\")\n",
    "            tileindex_df[i,4] <- paste(\"/projects/my-public-bucket/GEDI_global_PA_v2/WDPA_gedi_L4A_tiles/tile_num_\",tileindex_i,\"_L4A.gpkg\",sep=\"\")\n",
    "        }\n",
    "    write.csv(tileindex_df, paste(\"/projects/my-public-bucket/GEDI_global_PA_v2/vero_1deg_tileindex/tileindex_\",iso3,\".csv\", sep=\"\"))}\n",
    "#}"
   ]
  },
  {
   "cell_type": "code",
   "execution_count": null,
   "id": "8feda1a7-0c26-425a-8b6c-facddc1a81f0",
   "metadata": {},
   "outputs": [],
   "source": []
  },
  {
   "cell_type": "code",
   "execution_count": null,
   "id": "8afc0691-b65d-44b4-9c28-c610075d7c92",
   "metadata": {},
   "outputs": [],
   "source": []
  },
  {
   "cell_type": "code",
   "execution_count": null,
   "id": "0029ae3e-700f-466b-9b8d-d46a98912bb1",
   "metadata": {},
   "outputs": [],
   "source": []
  }
 ],
 "metadata": {
  "kernelspec": {
   "display_name": "R",
   "language": "R",
   "name": "ir"
  },
  "language_info": {
   "codemirror_mode": "r",
   "file_extension": ".r",
   "mimetype": "text/x-r-source",
   "name": "R",
   "pygments_lexer": "r",
   "version": "4.3.3"
  }
 },
 "nbformat": 4,
 "nbformat_minor": 5
}
