{
 "cells": [
  {
   "cell_type": "code",
   "execution_count": null,
   "id": "c879111c-c6cc-4dfc-a257-60106c347c36",
   "metadata": {},
   "outputs": [],
   "source": [
    "!pip install geopandas\n",
    "!pip install contextily"
   ]
  },
  {
   "cell_type": "code",
   "execution_count": 1,
   "id": "4cc8f20a-ac26-454a-a32f-52eb70d0f2d6",
   "metadata": {},
   "outputs": [],
   "source": [
    "from maap.maap import MAAP\n",
    "maap = MAAP(maap_host='api.maap-project.org')\n",
    "\n",
    "def job_status_for(job_id: str) -> str:\n",
    "    response = maap.getJobStatus(job_id)\n",
    "    response.raise_for_status()\n",
    "   \n",
    "    root = ET.fromstring(response.text)\n",
    "    status_element = root.find('.//{http://www.opengis.net/wps/2.0}Status')\n",
    "   \n",
    "    return status_element.text\n",
    "\n",
    "def job_result_for(job_id: str) -> str:\n",
    "    response = maap.getJobResult(job_id)\n",
    "    response.raise_for_status()\n",
    "   \n",
    "    root = ET.fromstring(response.text)\n",
    "\n",
    "    return root.find('.//{http://www.opengis.net/wps/2.0}Data').text\n",
    "\n",
    "def to_job_output_dir(job_result_url: str) -> str:\n",
    "    url_path = urlparse(job_result_url).path\n",
    "    # The S3 Key is the URL path excluding the `/{username}` prefix\n",
    "    s3_key = \"/\".join(url_path.split(\"/\")[2:])\n",
    "\n",
    "    return f\"/projects/my-private-bucket/{s3_key}\"\n",
    "\n",
    "def wait_for_job(job_id: str) -> str:\n",
    "    return job_status_for(job_id)"
   ]
  },
  {
   "cell_type": "code",
   "execution_count": 2,
   "id": "2fc333fc-b985-4354-8b92-bcd09287bc9c",
   "metadata": {},
   "outputs": [],
   "source": [
    "#pip install geopandas\n",
    "#pip install shapely\n",
    "#Import numpy for making column inputs easier\n",
    "import numpy as np\n",
    "import pandas as pd\n",
    "import geopandas as gpd\n",
    "import backoff\n",
    "import shapely\n",
    "import glob\n",
    "import os"
   ]
  },
  {
   "cell_type": "code",
   "execution_count": 3,
   "id": "1ac841ef-9b40-42c6-8624-f63ed9697aa7",
   "metadata": {},
   "outputs": [],
   "source": [
    "import xml.etree.ElementTree as ET\n",
    "from urllib.parse import urlparse\n",
    "\n",
    "def job_status_for(job_id: str) -> str:\n",
    "    response = maap.getJobStatus(job_id)\n",
    "    response.raise_for_status()\n",
    "    \n",
    "    root = ET.fromstring(response.text)\n",
    "    status_element = root.find('.//{http://www.opengis.net/wps/2.0}Status')\n",
    "    \n",
    "    return status_element.text\n",
    "\n",
    "def job_result_for(job_id: str) -> str:\n",
    "    response = maap.getJobResult(job_id)\n",
    "    response.raise_for_status()\n",
    "    \n",
    "    root = ET.fromstring(response.text)\n",
    "\n",
    "    return root.find('.//{http://www.opengis.net/wps/2.0}Data').text\n",
    "\n",
    "def to_job_output_dir(job_result_url: str) -> str:\n",
    "    url_path = urlparse(job_result_url).path\n",
    "    # The S3 Key is the URL path excluding the `/{username}` prefix\n",
    "    s3_key = \"/\".join(url_path.split(\"/\")[2:])\n",
    "\n",
    "    return f\"/projects/my-private-bucket/{s3_key}\""
   ]
  },
  {
   "cell_type": "code",
   "execution_count": 61,
   "id": "cab5a81e-2d4e-49dc-b0b2-f940ddcbdce3",
   "metadata": {},
   "outputs": [],
   "source": [
    "#iso3 = \"GHA\"\n",
    "iso3 = \"UGA\"\n",
    "file_path = f\"/projects/my-public-bucket/AOIs/vero_1deg_tileindex/tileindex_{iso3}.csv\"\n",
    "tileindex_df = pd.read_csv(file_path)\n",
    "# Display the first few rows of the DataFrame\n",
    "#print(tileindex_df.head())"
   ]
  },
  {
   "cell_type": "code",
   "execution_count": 62,
   "id": "b9a378bc-a1f1-4028-9f51-0f4dba6bd2eb",
   "metadata": {},
   "outputs": [
    {
     "name": "stdout",
     "output_type": "stream",
     "text": [
      "34\n"
     ]
    },
    {
     "data": {
      "text/plain": [
       "'tile_num_37710'"
      ]
     },
     "execution_count": 62,
     "metadata": {},
     "output_type": "execute_result"
    }
   ],
   "source": [
    "json_files = tileindex_df['s3path']\n",
    "AOIs = json_files\n",
    "print(len(AOIs))\n",
    "aoi_name = os.path.basename(AOIs[0]).split('.')[0]\n",
    "aoi_name"
   ]
  },
  {
   "cell_type": "code",
   "execution_count": 63,
   "id": "15794e52-e1d5-47f0-bc2d-1d9da4e015c6",
   "metadata": {},
   "outputs": [
    {
     "data": {
      "text/plain": [
       "'https://maap-ops-workspace.s3.amazonaws.com/shared/leitoldv/AOIs/vero_1deg_tiles_52N52S_land/tile_num_37711.geojson'"
      ]
     },
     "execution_count": 63,
     "metadata": {},
     "output_type": "execute_result"
    }
   ],
   "source": [
    "AOIs[1]"
   ]
  },
  {
   "cell_type": "code",
   "execution_count": 64,
   "id": "a9b82df8-d46b-4a30-81fd-41d18a4d0f23",
   "metadata": {
    "tags": []
   },
   "outputs": [
    {
     "name": "stdout",
     "output_type": "stream",
     "text": [
      "Thanks, I'll run the GEDI L2A subsetter for tile_num_37710!!\n",
      "Thanks, I'll run the GEDI L2A subsetter for tile_num_37711!!\n",
      "Thanks, I'll run the GEDI L2A subsetter for tile_num_37712!!\n",
      "Thanks, I'll run the GEDI L2A subsetter for tile_num_37887!!\n",
      "Thanks, I'll run the GEDI L2A subsetter for tile_num_37888!!\n",
      "Thanks, I'll run the GEDI L2A subsetter for tile_num_37889!!\n",
      "Thanks, I'll run the GEDI L2A subsetter for tile_num_37890!!\n",
      "Thanks, I'll run the GEDI L2A subsetter for tile_num_37891!!\n",
      "Thanks, I'll run the GEDI L2A subsetter for tile_num_37892!!\n",
      "Thanks, I'll run the GEDI L2A subsetter for tile_num_38067!!\n",
      "Thanks, I'll run the GEDI L2A subsetter for tile_num_38068!!\n",
      "Thanks, I'll run the GEDI L2A subsetter for tile_num_38069!!\n",
      "Thanks, I'll run the GEDI L2A subsetter for tile_num_38070!!\n",
      "Thanks, I'll run the GEDI L2A subsetter for tile_num_38071!!\n",
      "Thanks, I'll run the GEDI L2A subsetter for tile_num_38072!!\n",
      "Thanks, I'll run the GEDI L2A subsetter for tile_num_38247!!\n",
      "Thanks, I'll run the GEDI L2A subsetter for tile_num_38248!!\n",
      "Thanks, I'll run the GEDI L2A subsetter for tile_num_38249!!\n",
      "Thanks, I'll run the GEDI L2A subsetter for tile_num_38250!!\n",
      "Thanks, I'll run the GEDI L2A subsetter for tile_num_38251!!\n",
      "Thanks, I'll run the GEDI L2A subsetter for tile_num_38252!!\n",
      "Thanks, I'll run the GEDI L2A subsetter for tile_num_38426!!\n",
      "Thanks, I'll run the GEDI L2A subsetter for tile_num_38427!!\n",
      "Thanks, I'll run the GEDI L2A subsetter for tile_num_38428!!\n",
      "Thanks, I'll run the GEDI L2A subsetter for tile_num_38429!!\n",
      "Thanks, I'll run the GEDI L2A subsetter for tile_num_38430!!\n",
      "Thanks, I'll run the GEDI L2A subsetter for tile_num_38431!!\n",
      "Thanks, I'll run the GEDI L2A subsetter for tile_num_38432!!\n",
      "Thanks, I'll run the GEDI L2A subsetter for tile_num_38606!!\n",
      "Thanks, I'll run the GEDI L2A subsetter for tile_num_38607!!\n",
      "Thanks, I'll run the GEDI L2A subsetter for tile_num_38608!!\n",
      "Thanks, I'll run the GEDI L2A subsetter for tile_num_38609!!\n",
      "Thanks, I'll run the GEDI L2A subsetter for tile_num_38610!!\n",
      "Thanks, I'll run the GEDI L2A subsetter for tile_num_38789!!\n"
     ]
    }
   ],
   "source": [
    "#Set up run to pull products for all GEDI products simultaneously #To run for only 1 or 2 products, change \"PRODUCTS\"\n",
    "\n",
    "#PRODUCTS = [\"L4A\"]  #To run for only 1 or 2 products, change \"PRODUCTS\"\n",
    "PRODUCTS = [\"L2A\"] #,\"L2A\",\"L2B\"]  #To run for only 1 or 2 products, change \"PRODUCTS\"\n",
    "#PRODUCTS = [\"L2B\"] #,\"L2A\",\"L2B\"]  #To run for only 1 or 2 products, change \"PRODUCTS\"\n",
    "\n",
    "AOIs = json_files\n",
    "#AOIs = json_files[0:10]\n",
    "#AOIs = json_files[10:20]\n",
    "#AOIs = json_files[20:30]\n",
    "#AOIs = json_files[30:35]\n",
    "\n",
    "for each_aoi in AOIs: \n",
    "    if \"L2A\" in PRODUCTS: \n",
    "        aoi_name = os.path.basename(each_aoi).split('.')[0]\n",
    "        print(f\"Thanks, I'll run the GEDI L2A subsetter for {aoi_name}!!\")\n",
    "        #aoi_url = each_aoi\n",
    "        inputs = dict(\n",
    "           aoi=each_aoi,\n",
    "           doi=\"L2A\",\n",
    "           lat=\"lat_lowestmode\",\n",
    "           lon=\"lon_lowestmode\",\n",
    "           beams=\"all\",\n",
    "           columns=\"shot_number,lon_lowestmode,lat_lowestmode,rh25,rh50,rh75,rh90,rh98,geolocation/sensitivity_a2,rh10,rh20,rh30,rh40,rh50,rh60,rh70,rh80\",\n",
    "           #columns=\"shot_number,lon_lowestmode,lat_lowestmode,rh98,geolocation/sensitivity_a2\",\n",
    "           query=\"quality_flag == 1\",\n",
    "           limit = 75_000,\n",
    "           #temporal=\"-\",\n",
    "           output=f\"{os.path.basename(each_aoi).split('.')[0]}_L2A.gpkg\"\n",
    "        )\n",
    "        result = maap.submitJob(\n",
    "            identifier=\"gedi-subset\",\n",
    "            algo_id=\"gedi-subset\",\n",
    "            version=\"0.9.0\",\n",
    "            #queue=\"maap-dps-worker-32vcpu-64gb\",\n",
    "            queue=\"maap-dps-worker-64gb\",\n",
    "            username=\"leitoldv\",\n",
    "            **inputs\n",
    "        )\n",
    "        inputs\n",
    "        job_id = result.id\n",
    "        job_id or result\n"
   ]
  },
  {
   "cell_type": "code",
   "execution_count": 67,
   "id": "a8619742-044c-4170-84f7-ce7712c18e5f",
   "metadata": {},
   "outputs": [
    {
     "data": {
      "text/plain": [
       "'2d741c58-3b92-4032-9e49-66402bd1ac34'"
      ]
     },
     "execution_count": 67,
     "metadata": {},
     "output_type": "execute_result"
    }
   ],
   "source": [
    "PRODUCTS = [\"L2A\"] #,\"L2A\",\"L2B\"]  #To run for only 1 or 2 products, change \"PRODUCTS\"\n",
    "## if necessary ## re-run failed subsets\n",
    "#each_aoi = 'https://maap-ops-workspace.s3.amazonaws.com/shared/leitoldv/AOIs/vero_1deg_tiles_52N52S_land/tile_num_22771.geojson'\n",
    "#each_aoi = 'https://maap-ops-workspace.s3.amazonaws.com/shared/leitoldv/AOIs/vero_1deg_tiles_52N52S_land/tile_num_32122.geojson'\n",
    "#each_aoi = 'https://maap-ops-workspace.s3.amazonaws.com/shared/leitoldv/AOIs/vero_1deg_tiles_52N52S_land/tile_num_38249.geojson'\n",
    "##UGA\n",
    "#each_aoi = 'https://maap-ops-workspace.s3.amazonaws.com/shared/leitoldv/AOIs/vero_1deg_tiles_52N52S_land/tile_num_37887.geojson'\n",
    "#each_aoi = 'https://maap-ops-workspace.s3.amazonaws.com/shared/leitoldv/AOIs/vero_1deg_tiles_52N52S_land/tile_num_38068.geojson'\n",
    "each_aoi = 'https://maap-ops-workspace.s3.amazonaws.com/shared/leitoldv/AOIs/vero_1deg_tiles_52N52S_land/tile_num_38069.geojson'\n",
    "\n",
    "inputs = dict(\n",
    "    aoi=each_aoi,\n",
    "    doi=\"L2A\",\n",
    "    lat=\"lat_lowestmode\",\n",
    "    lon=\"lon_lowestmode\",\n",
    "    beams=\"all\",\n",
    "    #columns=\"shot_number,lon_lowestmode,lat_lowestmode,rh25,rh50,rh75,rh90,rh98,geolocation/sensitivity_a2,rh10,rh20,rh30,rh40,rh50,rh60,rh70,rh80\",\n",
    "    columns=\"shot_number,lon_lowestmode,lat_lowestmode,rh98,geolocation/sensitivity_a2\",\n",
    "    query=\"quality_flag == 1\",\n",
    "    limit = 75_000,\n",
    "    #temporal=\"-\",\n",
    "    output=f\"{os.path.basename(each_aoi).split('.')[0]}_L2A.gpkg\"\n",
    ")\n",
    "result = maap.submitJob(\n",
    "    identifier=\"gedi-subset\",\n",
    "    algo_id=\"gedi-subset\",\n",
    "    version=\"0.9.0\",\n",
    "    queue=\"maap-dps-worker-32vcpu-64gb\",\n",
    "    username=\"leitoldv\",\n",
    "    **inputs\n",
    ")\n",
    "inputs\n",
    "job_id = result.id\n",
    "job_id or result"
   ]
  },
  {
   "cell_type": "code",
   "execution_count": 68,
   "id": "2fd5ccb3-9a87-4b3b-b6c7-5a9cf9d03e97",
   "metadata": {},
   "outputs": [
    {
     "name": "stdout",
     "output_type": "stream",
     "text": [
      "999\n"
     ]
    }
   ],
   "source": [
    "# Define the folder path containing the output files from subsetting of tiles\n",
    "folder_path = \"/projects/my-public-bucket/GEDI_global_PA_v2/WDPA_gedi_L2A_tiles\"\n",
    "\n",
    "# Create a list to store the GeoPackage file paths\n",
    "gpkg_files = []\n",
    "\n",
    "# Use glob to find all .gpkg files in the folder\n",
    "pattern1 = os.path.join(folder_path, '*.gpkg')\n",
    "gpkg_files = glob.glob(pattern1)\n",
    "print(len(gpkg_files))\n"
   ]
  },
  {
   "cell_type": "code",
   "execution_count": 69,
   "id": "48885bd9-4577-4cfd-88ce-44e0790191e8",
   "metadata": {},
   "outputs": [
    {
     "name": "stdout",
     "output_type": "stream",
     "text": [
      "Copying tile_num_37712_L2A.gpkg...\n",
      "Copying tile_num_38432_L2A.gpkg...\n",
      "Copying tile_num_38252_L2A.gpkg...\n",
      "Copying tile_num_37892_L2A.gpkg...\n",
      "Copying tile_num_38072_L2A.gpkg...\n",
      "Copying tile_num_31944_L2A.gpkg...\n",
      "Copying tile_num_31945_L2A.gpkg...\n",
      "Copying tile_num_31763_L2A.gpkg...\n",
      "Copying tile_num_31942_L2A.gpkg...\n",
      "Copying tile_num_31943_L2A.gpkg...\n",
      "Copying tile_num_31946_L2A.gpkg...\n",
      "Copying tile_num_31941_L2A.gpkg...\n",
      "Copying tile_num_31764_L2A.gpkg...\n",
      "Copying tile_num_31940_L2A.gpkg...\n",
      "Copying tile_num_31765_L2A.gpkg...\n",
      "Copying tile_num_32124_L2A.gpkg...\n",
      "Copying tile_num_32123_L2A.gpkg...\n",
      "Copying tile_num_32125_L2A.gpkg...\n",
      "Copying tile_num_32299_L2A.gpkg...\n",
      "Copying tile_num_32300_L2A.gpkg...\n",
      "Copying tile_num_32300_L2A.gpkg...\n",
      "Copying tile_num_32121_L2A.gpkg...\n",
      "Copying tile_num_32119_L2A.gpkg...\n",
      "Copying tile_num_32299_L2A.gpkg...\n",
      "Copying tile_num_32126_L2A.gpkg...\n",
      "Copying tile_num_32122_L2A.gpkg...\n",
      "Copying tile_num_32120_L2A.gpkg...\n",
      "Copying tile_num_32120_L2A.gpkg...\n",
      "Copying tile_num_32480_L2A.gpkg...\n",
      "Copying tile_num_32305_L2A.gpkg...\n",
      "Copying tile_num_32303_L2A.gpkg...\n",
      "Copying tile_num_32481_L2A.gpkg...\n",
      "Copying tile_num_32482_L2A.gpkg...\n",
      "Copying tile_num_32301_L2A.gpkg...\n",
      "Copying tile_num_32483_L2A.gpkg...\n",
      "Copying tile_num_32302_L2A.gpkg...\n",
      "Copying tile_num_32479_L2A.gpkg...\n",
      "Copying tile_num_32484_L2A.gpkg...\n",
      "Copying tile_num_32665_L2A.gpkg...\n",
      "Copying tile_num_38789_L2A.gpkg...\n",
      "Copying tile_num_38610_L2A.gpkg...\n",
      "Copying tile_num_38608_L2A.gpkg...\n",
      "Copying tile_num_38609_L2A.gpkg...\n",
      "Copying tile_num_38252_L2A.gpkg...\n",
      "Copying tile_num_38432_L2A.gpkg...\n",
      "Copying tile_num_38426_L2A.gpkg...\n",
      "Copying tile_num_38606_L2A.gpkg...\n",
      "Copying tile_num_38431_L2A.gpkg...\n",
      "Copying tile_num_38427_L2A.gpkg...\n",
      "Copying tile_num_38428_L2A.gpkg...\n",
      "Copying tile_num_38429_L2A.gpkg...\n",
      "Copying tile_num_38607_L2A.gpkg...\n",
      "Copying tile_num_38430_L2A.gpkg...\n",
      "Copying tile_num_38072_L2A.gpkg...\n",
      "Copying tile_num_38071_L2A.gpkg...\n",
      "Copying tile_num_38070_L2A.gpkg...\n",
      "Copying tile_num_38251_L2A.gpkg...\n",
      "Copying tile_num_38248_L2A.gpkg...\n",
      "Copying tile_num_37889_L2A.gpkg...\n",
      "Copying tile_num_38249_L2A.gpkg...\n",
      "Copying tile_num_38250_L2A.gpkg...\n",
      "Copying tile_num_38247_L2A.gpkg...\n",
      "Copying tile_num_37890_L2A.gpkg...\n",
      "Copying tile_num_37891_L2A.gpkg...\n",
      "Copying tile_num_37888_L2A.gpkg...\n",
      "Copying tile_num_37892_L2A.gpkg...\n",
      "Copying tile_num_38067_L2A.gpkg...\n",
      "Copying tile_num_38431_L2A.gpkg...\n",
      "Copying tile_num_31945_L2A.gpkg...\n",
      "Copying tile_num_32485_L2A.gpkg...\n",
      "Copying tile_num_38070_L2A.gpkg...\n",
      "Copying tile_num_38067_L2A.gpkg...\n",
      "Copying tile_num_32480_L2A.gpkg...\n",
      "Copying tile_num_38249_L2A.gpkg...\n",
      "Copying tile_num_32304_L2A.gpkg...\n",
      "Copying tile_num_32299_L2A.gpkg...\n",
      "Copying tile_num_31764_L2A.gpkg...\n",
      "Copying tile_num_38789_L2A.gpkg...\n",
      "Copying tile_num_32481_L2A.gpkg...\n",
      "Copying tile_num_38252_L2A.gpkg...\n",
      "Copying tile_num_37887_L2A.gpkg...\n",
      "Copying tile_num_37892_L2A.gpkg...\n",
      "Copying tile_num_38068_L2A.gpkg...\n",
      "Copying tile_num_37711_L2A.gpkg...\n",
      "Copying tile_num_37888_L2A.gpkg...\n",
      "Copying tile_num_38067_L2A.gpkg...\n",
      "Copying tile_num_38069_L2A.gpkg...\n",
      "Copying tile_num_37891_L2A.gpkg...\n",
      "Copying tile_num_38071_L2A.gpkg...\n",
      "Copying tile_num_38069_L2A.gpkg...\n",
      "Copying tile_num_38070_L2A.gpkg...\n",
      "Copying tile_num_37887_L2A.gpkg...\n",
      "Copying tile_num_37890_L2A.gpkg...\n",
      "Copying tile_num_38248_L2A.gpkg...\n",
      "Copying tile_num_38427_L2A.gpkg...\n",
      "Copying tile_num_38428_L2A.gpkg...\n",
      "Copying tile_num_38429_L2A.gpkg...\n"
     ]
    }
   ],
   "source": [
    "import subprocess\n",
    "\n",
    "root_dir = \"/projects/my-private-bucket/dps_output/gedi-subset/0.9.0/gedi-subset/2025/01/10\"  # Can now set name\n",
    "out_dir = \"/projects/my-public-bucket/GEDI_global_PA_v2/WDPA_gedi_L2A_tiles\"\n",
    "\n",
    "for dirName, subdirList, fileList in os.walk(root_dir):\n",
    "#    print(\"Found directory: %s\" % dirName)\n",
    "    for fname in fileList:\n",
    "        if fname.endswith(\"L2A.gpkg\"):\n",
    "            source_path = os.path.join(dirName, fname)\n",
    "            #print(source_path)\n",
    "            target_path = os.path.join(out_dir, fname)\n",
    "            #print(target_path)\n",
    "#            if not os.path.exists(target_path):  # Check if file doesn’t exist in target directory\n",
    "            print(f\"Copying {fname}...\")\n",
    "            subprocess.call(['cp', source_path, target_path])\n",
    "#            else:\n",
    "#                print(f\"{fname} already exists in the target directory. Skipping...\")"
   ]
  },
  {
   "cell_type": "code",
   "execution_count": 70,
   "id": "867fdc3f",
   "metadata": {},
   "outputs": [
    {
     "name": "stdout",
     "output_type": "stream",
     "text": [
      "1002\n"
     ]
    }
   ],
   "source": [
    "# Define the folder path containing the output files from subsetting of tiles\n",
    "folder_path = \"/projects/my-public-bucket/GEDI_global_PA_v2/WDPA_gedi_L2A_tiles\"\n",
    "\n",
    "# Create a list to store the GeoPackage file paths\n",
    "gpkg_files = []\n",
    "\n",
    "# Use glob to find all .gpkg files in the folder\n",
    "pattern1 = os.path.join(folder_path, '*.gpkg')\n",
    "gpkg_files = glob.glob(pattern1)\n",
    "print(len(gpkg_files))\n"
   ]
  },
  {
   "cell_type": "code",
   "execution_count": null,
   "id": "fcfe46d9-0cf7-477a-ab02-5f9d022145d6",
   "metadata": {},
   "outputs": [],
   "source": []
  }
 ],
 "metadata": {
  "kernelspec": {
   "display_name": "Python 3 (ipykernel)",
   "language": "python",
   "name": "python3"
  },
  "language_info": {
   "codemirror_mode": {
    "name": "ipython",
    "version": 3
   },
   "file_extension": ".py",
   "mimetype": "text/x-python",
   "name": "python",
   "nbconvert_exporter": "python",
   "pygments_lexer": "ipython3",
   "version": "3.10.13"
  }
 },
 "nbformat": 4,
 "nbformat_minor": 5
}
