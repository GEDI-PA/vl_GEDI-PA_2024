{
 "cells": [
  {
   "cell_type": "code",
   "execution_count": 3,
   "id": "d166454e-bc4f-4515-b456-37db962ff442",
   "metadata": {},
   "outputs": [],
   "source": [
    "### 2024 SEP 6 ###"
   ]
  },
  {
   "cell_type": "code",
   "execution_count": 4,
   "id": "81b0f6a8-03c1-4ad1-8c48-ef651e8209ed",
   "metadata": {},
   "outputs": [],
   "source": [
    "##\n",
    "# conda install -c conda-forge r-optmatch\n",
    "##"
   ]
  },
  {
   "cell_type": "code",
   "execution_count": 5,
   "id": "1bce450c-5f93-4220-98e6-b8fb731ad0c9",
   "metadata": {},
   "outputs": [
    {
     "name": "stderr",
     "output_type": "stream",
     "text": [
      "Updating HTML index of packages in '.Library'\n",
      "\n",
      "Making 'packages.html' ...\n",
      " done\n",
      "\n",
      "Updating HTML index of packages in '.Library'\n",
      "\n",
      "Making 'packages.html' ...\n",
      " done\n",
      "\n"
     ]
    }
   ],
   "source": [
    "install.packages(\"s3\")\n",
    "install.packages(\"doParallel\")"
   ]
  },
  {
   "cell_type": "code",
   "execution_count": 6,
   "id": "d4c7f73c-7497-4918-a3af-7264474a634d",
   "metadata": {},
   "outputs": [
    {
     "name": "stderr",
     "output_type": "stream",
     "text": [
      "Loading required package: iterators\n",
      "\n",
      "Loading required package: parallel\n",
      "\n"
     ]
    }
   ],
   "source": [
    "library(\"terra\")\n",
    "library(\"dplyr\")\n",
    "library(\"sf\")\n",
    "#install.packages(\"s3\")\n",
    "library(\"s3\")\n",
    "\n",
    "library(\"sp\")\n",
    "library(\"foreach\")\n",
    "library(\"stringr\")\n",
    "library(\"aws.s3\")\n",
    "#conda install -c conda-forge r-optmatch #r-ggmap r-hrbrthemes r-Hmisc\n",
    "library(\"optmatch\")\n",
    "#install.packages(\"doParallel\")\n",
    "library(\"doParallel\")\n"
   ]
  },
  {
   "cell_type": "code",
   "execution_count": 7,
   "id": "d21127ac-70b2-4151-80a8-15eba8ea3c69",
   "metadata": {},
   "outputs": [],
   "source": [
    "#To test, we define the variables manually. For final version, run the commented out section below\n",
    "#iso3 <-\"Bpt\"\n",
    "iso3 <-\"Bce\"\n",
    "gediwk <- 24\n",
    "mproc <- 1"
   ]
  },
  {
   "cell_type": "code",
   "execution_count": 8,
   "id": "dec9ad1b-551c-4baf-bd87-84145c94e8d4",
   "metadata": {},
   "outputs": [],
   "source": [
    "#-------------------------------------------------------------------------------\n",
    "#args = commandArgs(trailingOnly=TRUE)\n",
    "#if (length(args)==0) {\n",
    "#  stop(\"At least one argument must be supplied (input file).n\", call.=FALSE)\n",
    "#} else if (length(args)>=1) {\n",
    "#  \n",
    "#  iso3 <- args[1]  #country to process\n",
    "#  gediwk <- args[2]   #the # of weeks GEDI data to use\n",
    "#  mproc <- as.integer(args[3])  #the number of cores to use for matching \n",
    "#}\n",
    "#-------------------------------------------------------------------------------"
   ]
  },
  {
   "cell_type": "code",
   "execution_count": 9,
   "id": "334dc817-140c-4c85-a654-09dc6dc27766",
   "metadata": {},
   "outputs": [
    {
     "name": "stdout",
     "output_type": "stream",
     "text": [
      "Step 0: Loading global variables for Bce with wk 24 data \n"
     ]
    },
    {
     "name": "stderr",
     "output_type": "stream",
     "text": [
      "\u001b[36mℹ\u001b[39m \u001b[34m\u001b[34ms3://maap-ops-workspace/shared/leitoldv/GEDI_global_PA_v2/wwf_ecoregions_key.csv\u001b[34m\u001b[39m already exists at \u001b[34m\u001b[34m/projects/.local/share/R/s3/maap-ops-workspace/shared/leitoldv/GEDI_global_PA_v2/wwf_ecoregions_key.csv\u001b[34m\u001b[39m\n",
      "\n",
      "\u001b[36mℹ\u001b[39m \u001b[34m\u001b[34ms3://maap-ops-workspace/shared/leitoldv/GEDI_global_PA_v2/WDPA_shapefiles/WDPA_polygons/Bce_PA_poly.rds\u001b[34m\u001b[39m already exists at \u001b[34m\u001b[34m/projects/.local/share/R/s3/maap-ops-workspace/shared/leitoldv/GEDI_global_PA_v2/WDPA_shapefiles/WDPA_polygons/Bce_PA_poly.rds\u001b[34m\u001b[39m\n",
      "\n",
      "\u001b[36mℹ\u001b[39m \u001b[34m\u001b[34ms3://maap-ops-workspace/shared/leitoldv/GEDI_global_PA_v2/GEDI_ANCI_PFT_r1000m_EASE2.0_UMD_v1_projection_defined_6933.tif\u001b[34m\u001b[39m already exists at \u001b[34m\u001b[34m/projects/.local/share/R/s3/maap-ops-workspace/shared/leitoldv/GEDI_global_PA_v2/GEDI_ANCI_PFT_r1000m_EASE2.0_UMD_v1_projection_defined_6933.tif\u001b[34m\u001b[39m\n",
      "\n",
      "\u001b[36mℹ\u001b[39m \u001b[34m\u001b[34ms3://maap-ops-workspace/shared/leitoldv/GEDI_global_PA_v2/GEDI_ANCI_CONTINENT_r1000m_EASE2.0_UMD_v1_revised_projection_defined_6933.tif\u001b[34m\u001b[39m already exists at \u001b[34m\u001b[34m/projects/.local/share/R/s3/maap-ops-workspace/shared/leitoldv/GEDI_global_PA_v2/GEDI_ANCI_CONTINENT_r1000m_EASE2.0_UMD_v1_revised_projection_defined_6933.tif\u001b[34m\u001b[39m\n",
      "\n",
      "\u001b[36mℹ\u001b[39m all files already exist\n",
      "\n",
      "\u001b[36mℹ\u001b[39m \u001b[34m\u001b[34ms3://maap-ops-workspace/shared/leitoldv/GEDI_global_PA_v2/WDPA_countries/shp/Bce.shp\u001b[34m\u001b[39m already exists at \u001b[34m\u001b[34m/projects/.local/share/R/s3/maap-ops-workspace/shared/leitoldv/GEDI_global_PA_v2/WDPA_countries/shp/Bce.shp\u001b[34m\u001b[39m\n",
      "\n"
     ]
    },
    {
     "name": "stdout",
     "output_type": "stream",
     "text": [
      "Reading layer `Bce' from data source \n",
      "  `/projects/.local/share/R/s3/maap-ops-workspace/shared/leitoldv/GEDI_global_PA_v2/WDPA_countries/shp/Bce.shp' \n",
      "  using driver `ESRI Shapefile'\n",
      "Simple feature collection with 1 feature and 7 fields\n",
      "Geometry type: POLYGON\n",
      "Dimension:     XY\n",
      "Bounding box:  xmin: -60.10991 ymin: -24.68502 xmax: -41.5222 ymax: -2.340799\n",
      "Geodetic CRS:  WGS 84\n"
     ]
    },
    {
     "name": "stderr",
     "output_type": "stream",
     "text": [
      "\u001b[36mℹ\u001b[39m \u001b[34m\u001b[34ms3://maap-ops-workspace/shared/leitoldv/GEDI_global_PA_v2/rf_noclimate.RData\u001b[34m\u001b[39m already exists at \u001b[34m\u001b[34m/projects/.local/share/R/s3/maap-ops-workspace/shared/leitoldv/GEDI_global_PA_v2/rf_noclimate.RData\u001b[34m\u001b[39m\n",
      "\n",
      "\u001b[36mℹ\u001b[39m \u001b[34m\u001b[34ms3://maap-ops-workspace/shared/leitoldv/GEDI_global_PA_v2/matching_func_2024.R\u001b[34m\u001b[39m already exists at \u001b[34m\u001b[34m/projects/.local/share/R/s3/maap-ops-workspace/shared/leitoldv/GEDI_global_PA_v2/matching_func_2024.R\u001b[34m\u001b[39m\n",
      "\n"
     ]
    }
   ],
   "source": [
    "cat(\"Step 0: Loading global variables for\", iso3,\"with wk\", gediwk, \"data \\n\")\n",
    "\n",
    "#f.path <- \"/projects/my-public-bucket/GEDI_global_PA_v2/\"\n",
    "f.path <- \"s3://maap-ops-workspace/shared/leitoldv/GEDI_global_PA_v2/\"\n",
    "\n",
    "matching_tifs <- c(\"wwf_biomes\",\"wwf_ecoreg\",\"lc2000\",\"d2roads\", \"dcities\",\"dem\",\n",
    "                   \"pop_cnt_2000\",\"pop_den_2000\",\"slope\", \"tt2cities_2000\", \"wc_prec_1990-1999\",\n",
    "                   \"wc_tmax_1990-1999\",\"wc_tavg_1990-1999\",\"wc_tmin_1990-1999\" )\n",
    "\n",
    "ecoreg_key <- read.csv(s3_get(paste(f.path,\"wwf_ecoregions_key.csv\",sep=\"\")))\n",
    "#unlink(s3_get(paste(f.path,\"wwf_ecoregions_key.csv\",sep=\"\")))\n",
    "\n",
    "allPAs <- readRDS(s3_get(paste(f.path,\"WDPA_shapefiles/WDPA_polygons/\",iso3,\"_PA_poly.rds\",sep=\"\")))\n",
    "\n",
    "MCD12Q1 <- rast(s3_get(paste(f.path,\"GEDI_ANCI_PFT_r1000m_EASE2.0_UMD_v1_projection_defined_6933.tif\",sep=\"\")))\n",
    "crs(MCD12Q1)  <- \"epsg:6933\"\n",
    "\n",
    "world_region <- rast(s3_get(paste(f.path,\"GEDI_ANCI_CONTINENT_r1000m_EASE2.0_UMD_v1_revised_projection_defined_6933.tif\",sep=\"\")))\n",
    "crs(world_region)  <- \"epsg:6933\"\n",
    "\n",
    "s3_get_files(c(paste(f.path,\"WDPA_countries/shp/\",iso3,\".shp\",sep=\"\"),\n",
    "              paste(f.path,\"WDPA_countries/shp/\",iso3,\".shx\",sep=\"\"),\n",
    "              paste(f.path,\"WDPA_countries/shp/\",iso3,\".prj\",sep=\"\"),\n",
    "              paste(f.path,\"WDPA_countries/shp/\",iso3,\".dbf\",sep=\"\")),confirm = FALSE)\n",
    "adm <- st_read(s3_get(paste(f.path,\"WDPA_countries/shp/\",iso3,\".shp\",sep=\"\")))\n",
    "\n",
    "#s3_path <- paste(\"/vsis3/maap-ops-workspace/shared/leitoldv/GEDI_global_PA_v2/WDPA_countries/shp/\",iso3,\".shp\",sep=\"\") #Redo this for the gpkg\n",
    "#adm <- st_read(s3_path)\n",
    "adm_prj <- project(vect(adm), \"epsg:6933\")\n",
    "\n",
    "load(s3_get(paste(f.path,\"rf_noclimate.RData\",sep=\"\")))\n",
    "#source(s3_get(paste(f.path,\"matching_func.R\",sep=\"\")))\n",
    "source(s3_get(paste(f.path,\"matching_func_2024.R\",sep=\"\")))\n"
   ]
  },
  {
   "cell_type": "code",
   "execution_count": 10,
   "id": "12ccf296-d5de-462f-b394-e468a77422bb",
   "metadata": {},
   "outputs": [
    {
     "name": "stderr",
     "output_type": "stream",
     "text": [
      "\u001b[36mℹ\u001b[39m \u001b[34m\u001b[34ms3://maap-ops-workspace/shared/leitoldv/GEDI_global_PA_v2/WDPA_matching_points/Bce/Bce_prepped_control_wk24.RDS\u001b[34m\u001b[39m already exists at \u001b[34m\u001b[34m/projects/.local/share/R/s3/maap-ops-workspace/shared/leitoldv/GEDI_global_PA_v2/WDPA_matching_points/Bce/Bce_prepped_control_wk24.RDS\u001b[34m\u001b[39m\n",
      "\n"
     ]
    }
   ],
   "source": [
    "#STEP4. Set up spatial points data frames (control + each PA) for point matching\n",
    "# if (file.exists(paste(f.path,\"WDPA_matching_results/\",iso3,\"_wk\",gediwk,\"/\",iso3,\"_matching_output_wk\",gediwk,\".RDS\", sep=\"\"))){\n",
    "d_control_local <- readRDS(s3_get(paste(f.path,\"WDPA_matching_points/\",iso3,\"/\",iso3,\"_prepped_control_wk\",gediwk,\".RDS\",sep=\"\")))\n",
    "d_control_local <- d_control_local[complete.cases(d_control_local), ]  #filter away non-complete cases w/ NA in control set\n"
   ]
  },
  {
   "cell_type": "code",
   "execution_count": 11,
   "id": "84602548-5977-4b40-a2cc-edef543e3c9a",
   "metadata": {},
   "outputs": [
    {
     "name": "stdout",
     "output_type": "stream",
     "text": [
      "                                         wwfbiom                     wwfecoreg\n",
      "1 Tropical & Subtropical Moist Broadleaf Forests Madeira-Tapaj�s moist forests\n",
      "  land_cover   d2road   d2city elevation    popcnt    popden    slope  tt2city\n",
      "1  l1_forest 1.290241 1.663434       350 0.4444671 0.5269362 1.542959 569.5668\n",
      "      prec max_temp mean_temp min_temp       lon       lat status UID\n",
      "1 6194.241 33.90995  24.86701 13.91815 -59.09232 -11.43025  FALSE   1\n"
     ]
    }
   ],
   "source": [
    "print(d_control_local[1,])"
   ]
  },
  {
   "cell_type": "code",
   "execution_count": 12,
   "id": "e50be24d-e045-456a-9426-6bb873243d89",
   "metadata": {},
   "outputs": [
    {
     "name": "stderr",
     "output_type": "stream",
     "text": [
      "\u001b[36mℹ\u001b[39m \u001b[34m\u001b[34ms3://maap-ops-workspace/shared/leitoldv/GEDI_global_PA_v2/WDPA_matching_points/Bce/Bce_testPAs_fileindex.csv\u001b[34m\u001b[39m already exists at \u001b[34m\u001b[34m/projects/.local/share/R/s3/maap-ops-workspace/shared/leitoldv/GEDI_global_PA_v2/WDPA_matching_points/Bce/Bce_testPAs_fileindex.csv\u001b[34m\u001b[39m\n",
      "\n"
     ]
    },
    {
     "data": {
      "text/html": [
       "'Bce_prepped_pa_58_wk24.RDS'"
      ],
      "text/latex": [
       "'Bce\\_prepped\\_pa\\_58\\_wk24.RDS'"
      ],
      "text/markdown": [
       "'Bce_prepped_pa_58_wk24.RDS'"
      ],
      "text/plain": [
       "[1] \"Bce_prepped_pa_58_wk24.RDS\""
      ]
     },
     "metadata": {},
     "output_type": "display_data"
    },
    {
     "data": {
      "text/html": [
       "356"
      ],
      "text/latex": [
       "356"
      ],
      "text/markdown": [
       "356"
      ],
      "text/plain": [
       "[1] 356"
      ]
     },
     "metadata": {},
     "output_type": "display_data"
    }
   ],
   "source": [
    "f.path <- \"s3://maap-ops-workspace/shared/leitoldv/GEDI_global_PA_v2/\"\n",
    "testPAs_fileindex <- read.csv(s3_get(paste(f.path,\"WDPA_matching_points/\",iso3,\"/\",iso3,\"_testPAs_fileindex.csv\",sep=\"\")))\n",
    "d_PAs <- testPAs_fileindex[!is.na(testPAs_fileindex[,\"filename\"]),]$filename\n",
    "d_PAs[1]\n",
    "length(d_PAs)"
   ]
  },
  {
   "cell_type": "code",
   "execution_count": 13,
   "id": "85a964f9-8a99-42e2-8188-d6a7221b5317",
   "metadata": {},
   "outputs": [],
   "source": [
    "f.path <- \"/projects/my-public-bucket/GEDI_global_PA_v2/\"\n",
    "#f.path <- \"s3://maap-ops-workspace/shared/leitoldv/GEDI_global_PA_v2/\"\n",
    "#if(!dir.exists(paste(f.path0,\"WDPA_matching_results/\",iso3,\"_wk\",gediwk,\"/\",sep=\"\"))){\n",
    "  # cat(\"Matching result dir does not EXISTS\\n\")\n",
    "dir.create(file.path(paste(f.path,\"WDPA_matching_results/\",iso3,\"_wk\",gediwk,\"/\",sep=\"\")))"
   ]
  },
  {
   "cell_type": "code",
   "execution_count": 14,
   "id": "03396718-4d07-476f-9b94-520a222eddee",
   "metadata": {},
   "outputs": [],
   "source": [
    "#d_PAs <- d_PAs[1:10]"
   ]
  },
  {
   "cell_type": "code",
   "execution_count": null,
   "id": "1235be04-271a-4cc2-ac7f-ce47dd1f7c9d",
   "metadata": {},
   "outputs": [
    {
     "name": "stderr",
     "output_type": "stream",
     "text": [
      "\n",
      "Attaching package: ‘magrittr’\n",
      "\n",
      "\n",
      "The following objects are masked from ‘package:terra’:\n",
      "\n",
      "    extract, inset\n",
      "\n",
      "\n",
      "\n",
      "Attaching package: ‘tidyr’\n",
      "\n",
      "\n",
      "The following object is masked from ‘package:magrittr’:\n",
      "\n",
      "    extract\n",
      "\n",
      "\n",
      "The following object is masked from ‘package:terra’:\n",
      "\n",
      "    extract\n",
      "\n",
      "\n"
     ]
    }
   ],
   "source": [
    "#Initialize an empty list to store filenames\n",
    "#output_filenames <- cbind(d_PAs, rep(NA, length(d_PAs)))\n",
    "#colnames(output_filenames) <- c(\"prepped_PA\", \"matched_PA\")\n",
    "#matched_PA <- c()\n",
    "\n",
    "registerDoParallel(mproc)\n",
    "# cat(\"Parallel processing\",getDoParWorkers(),\"PAs \\n\")\n",
    "startTime <- Sys.time()\n",
    "#d_PAs <- list.files(paste(f.path,\"WDPA_matching_points/\",iso3,\"/\",iso3,\"_testPAs/\", sep=\"\"), pattern=paste(\"wk\",gediwk,sep=\"\"), full.names=FALSE)\n",
    "\n",
    "foreach(this_pa=d_PAs,.combine = foreach_rbind, .packages=c('sp','magrittr', 'dplyr','tidyr','optmatch','doParallel')) %dopar% {\n",
    "  pa <- this_pa\n",
    "  #id_pa <- pa %>%str_split(\"_\") %>% unlist %>% .[[3]]\n",
    "  id_pa <- this_pa%>%readr::parse_number() %>% unique() #%>%str_split(\"_\") %>% unlist %>% .[4] #With new files, check where PA ID is in string\n",
    "  cat(id_pa, \"in\",iso3,\"\\n\")\n",
    "  cat(\"No.\", match(pa,d_PAs),\"of total\",length(d_PAs),\"PAs in \", iso3, \"\\n\" )\n",
    "  d_pa <- readRDS(paste(f.path,\"WDPA_matching_points/\",iso3,\"/\",iso3,\"_testPAs/\",pa, sep=\"\"))\n",
    "  cat(iso3, \"pa no.\",id_pa, \"has\",nrow(d_pa),\" of treatment \\n\")\n",
    "  d_filtered_prop <- tryCatch(propensity_filter(d_pa, d_control_local), error=function(e) return(NA))  #return a df of control and treatment after complete cases and propensity filters are applied\n",
    "  cat(\"Propensity score filtered DF dimension is\",dim(d_filtered_prop),\"\\n\")\n",
    "  d_wocat_all <- tryCatch(filter(d_filtered_prop, status),error=function(e) return(NA))\n",
    "  d_control_all <- tryCatch(filter(d_filtered_prop, !status),error=function(e) return(NA))\n",
    "  \n",
    "  n_control <- dim(d_control_all)[1]\n",
    "  # ids_all <- d_control_all$UID   #seq(1,n_control)\n",
    "  ids_all0 <- tryCatch(d_control_all$UID, error=function(e) return(NA))\n",
    "  ids_all <- d_control_all$UID\n",
    "  set.seed(125)\n",
    "  cat(\"Using number of cores:\",getDoParWorkers(),\"\\n\")\n",
    "  N <- ceiling(nrow(d_wocat_all)/300)\n",
    "  l <- tryCatch(split(d_wocat_all, sample(1:N, nrow(d_wocat_all), replace=TRUE)),error=function(e) return(NULL))\n",
    "  # l <- tryCatch(split(d_wocat_all, (as.numeric(rownames(d_wocat_all))-1) %/% 300),error=function(e) return(0))\n",
    "  \n",
    "#  if (length(l)<50 && length(l)>0 ){\n",
    "  if (length(l)>0 ){\n",
    "    pa_match <- data.frame()\n",
    "    for (pa_c in 1:length(l)){\n",
    "      ids_all <- d_control_all$UID\n",
    "      cat(\"chunk\",pa_c,\"of PA\", id_pa,\"\\n\")\n",
    "      \n",
    "      d_wocat_chunk <- l[[pa_c]]\n",
    "      # #sample the control dataset to the size of the sample dataset, keep unsampled ids to iterate until full number of matches found\n",
    "      n_treatment <- dim(d_wocat_chunk)[1]\n",
    "      \n",
    "      t <- ifelse(floor(n_control/n_treatment)<=7, ifelse(floor(n_control/n_treatment)<1, 1,floor(n_control/n_treatment)),7)   #floor(n_control/n_treatment))\n",
    "      n_sample <- round(n_treatment*t)    #now the n_control is 1.4 times the number of n_treatment, 7 will set the if ststament below to flase\n",
    "      m_all2_out <- data.frame()\n",
    "      Bscore <- data.frame()\n",
    "      n_matches <- 0\n",
    "      tryCatch(\n",
    "        while(n_matches < n_treatment){\n",
    "          n_ids <- length(ids_all)\n",
    "          cat(\"n ids\",n_ids,\"\\n\")\n",
    "          if(n_ids > n_sample){\n",
    "            set.seed(125)\n",
    "            sample_ids_bar <- sample(ids_all, n_sample)\n",
    "            sample_ids <- sample(ids_all0, n_sample)\n",
    "            d_control_sample <- d_control_all[d_control_all$UID %in% sample_ids,]\n",
    "            ids_all <-setdiff(ids_all, sample_ids_bar)    #ids_all[-sample_ids]\n",
    "            cat(\"protected uid\", head(d_wocat_chunk$UID),\"\\n\")\n",
    "            # All approaches\n",
    "            new_d <- tryCatch(rbind(d_wocat_chunk,d_control_sample),error=function(e) return(NULL))\n",
    "            # new_d <- tryCatch(rbind(d_wocat_chunk,d_control_all),error=function(e) return(NULL))\n",
    "            #create a smaller distance matrix\n",
    "            m_all <- tryCatch(match_wocat(new_d, pid=id_pa),error=function(e) return(NULL))\n",
    "            # m_all <- match_wocat(new_d)\n",
    "            m_all2 <- tryCatch(m_all[1,],error=function(e) return(NULL))\n",
    "            # m_all2 <- m_all[1,]\n",
    "            n_matches_temp <- tryCatch(nrow(m_all2$df),error=function(e) return(NULL))\n",
    "            # n_matches_temp <- nrow(m_all2$df)\n",
    "            if(!is.null(n_matches_temp)){\n",
    "              # n_matches <- n_matches + nrow(m_all2$df)\n",
    "              m_all2$df$pa_id <- rep(id_pa,n_matches_temp)\n",
    "              m_all2_out <- rbind(m_all2_out, m_all2$df)\n",
    "              matched_protected <- m_all2$df %>% dplyr::filter(status==TRUE)\n",
    "              matched_control <- m_all2$df %>% dplyr::filter(status==FALSE)\n",
    "              cat(\"matched_protected\", nrow(matched_protected),\"\\n\")\n",
    "              n_matches <- n_matches + nrow(matched_protected)\n",
    "              d_wocat_chunk <- d_wocat_chunk[-(match(matched_protected$UID,d_wocat_chunk$UID)),]\n",
    "              # d_control_all <- d_control_all[-(match(matched_control$UID,d_control$UID)),]\n",
    "            } \n",
    "            # ids_all <-setdiff(ids_all, sample_ids)\n",
    "            ids_all0 <-setdiff(ids_all0, matched_control$UID)\n",
    "            # else {\n",
    "            #   n_treatment <- 0  #if not macthes are found in this sampling\n",
    "            # }\n",
    "          } else {n_treatment <- n_matches}\n",
    "        }, error=function(e) return(NULL))\n",
    "      # ids_all0 <-setdiff(ids_all0, matched_control$UID)\n",
    "      match_score <- m_all2_out\n",
    "      cat(table(match_score$status),\"\\n\")\n",
    "      pa_match <- rbind(pa_match,match_score)\n",
    "    }\n",
    "#  } else if (length(l)>=900){\n",
    "  } else{\n",
    "    pa_match <- NULL\n",
    "  }\n",
    "\n",
    "    output_filename <- paste(iso3,\"_pa_\", id_pa,\"_matching_results_wk\",gediwk,\".RDS\", sep=\"\")\n",
    "    saveRDS(pa_match, file=paste(f.path,\"WDPA_matching_results/\",iso3,\"_wk\",gediwk,\"/\",output_filename, sep=\"\"))\n",
    "  \n",
    "  # Append the filename to the list\n",
    "#  matched_PA <- c(matched_PA, output_filename)\n",
    "#  print(output_filename)\n",
    "                                       \n",
    "  cat(\"Results exported for PA\", id_pa, \"\\n\")\n",
    "  rm(pa_match)\n",
    "  return(NULL)\n",
    "}\n",
    "\n",
    "tElapsed <- Sys.time()-startTime\n",
    "# cat(tElapsed, \"for matching all PAs in\", iso3,\"\\n\")\n",
    "stopImplicitCluster()\n",
    "cat(\"Done matching for\",iso3,\". Finishing...\\n\")\n",
    "\n",
    "# Write the list of filenames to a CSV file\n",
    "#output_filenames$matched_PA <- matched_PA\n",
    "#write.csv(output_filenames, file=paste(f.path,\"WDPA_matching_results/\",iso3,\"_wk\",gediwk,\"_matching_result_filenames.csv\", sep=\"\"), row.names = FALSE, col.names = FALSE)\n"
   ]
  },
  {
   "cell_type": "code",
   "execution_count": null,
   "id": "a7ae64d5-79fb-4ef9-bee7-6e17d7d8311a",
   "metadata": {},
   "outputs": [],
   "source": [
    "output_path <- paste(\"/projects/my-public-bucket/GEDI_global_PA_v2/WDPA_matching_results/\",iso3,\"_wk24\",sep=\"\")"
   ]
  },
  {
   "cell_type": "code",
   "execution_count": null,
   "id": "4fa7b23d-0041-4d12-9251-6ce4b2e2c3c6",
   "metadata": {},
   "outputs": [],
   "source": [
    "list.files(output_path, full.names=F)"
   ]
  },
  {
   "cell_type": "code",
   "execution_count": null,
   "id": "784ec7bc-43e1-4bfc-9293-4c81895b7fa8",
   "metadata": {},
   "outputs": [],
   "source": [
    "write.csv(data.frame(list.files(output_path, full.names=F)),\n",
    "          file=paste(\"/projects/my-public-bucket/GEDI_global_PA_v2/WDPA_matching_results/\",iso3,\"_wk24_filelist.csv\",sep=\"\"))"
   ]
  },
  {
   "cell_type": "code",
   "execution_count": null,
   "id": "30fb3cf1-aac1-4bb4-a3dc-ab9d762d19ef",
   "metadata": {},
   "outputs": [],
   "source": [
    "##\n",
    "matching_results <- list.files(output_path, full.names=T)\n",
    "length(matching_results)\n",
    "##\n",
    "for(i in 1:length(matching_results)){\n",
    "    m_data <- readRDS(matching_results[i])\n",
    "    print(nrow(m_data))\n",
    "    }\n"
   ]
  },
  {
   "cell_type": "code",
   "execution_count": null,
   "id": "9f36eb9e-caec-4ed5-8ef7-236456445309",
   "metadata": {},
   "outputs": [],
   "source": []
  },
  {
   "cell_type": "code",
   "execution_count": null,
   "id": "47776c38-d258-4ae4-85c4-019bce1a12fe",
   "metadata": {},
   "outputs": [],
   "source": []
  },
  {
   "cell_type": "code",
   "execution_count": null,
   "id": "22a35f6b-b1c5-49a4-bfe8-4588a373ec63",
   "metadata": {},
   "outputs": [],
   "source": []
  }
 ],
 "metadata": {
  "kernelspec": {
   "display_name": "R",
   "language": "R",
   "name": "ir"
  },
  "language_info": {
   "codemirror_mode": "r",
   "file_extension": ".r",
   "mimetype": "text/x-r-source",
   "name": "R",
   "pygments_lexer": "r",
   "version": "4.2.3"
  }
 },
 "nbformat": 4,
 "nbformat_minor": 5
}
