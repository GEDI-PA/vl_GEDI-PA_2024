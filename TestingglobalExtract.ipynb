{
 "cells": [
  {
   "cell_type": "code",
   "execution_count": 14,
   "id": "32be172e-8806-4498-84a8-25f74c8ebf87",
   "metadata": {},
   "outputs": [
    {
     "name": "stderr",
     "output_type": "stream",
     "text": [
      "also installing the dependencies ‘bitops’, ‘gt’, ‘roxygen2’\n",
      "\n",
      "\n",
      "Updating HTML index of packages in '.Library'\n",
      "\n",
      "Making 'packages.html' ...\n",
      " done\n",
      "\n"
     ]
    }
   ],
   "source": [
    "conda install -c conda-forge r-paws r-terra r-optmatch r-sp r-sf r-rgeos r-dplyr r-plyr r-ggplot2 r-mapview r-stringr r-maptools r-gridExtra r-lattice r-MASS r-foreach r-doParallel r-rlang r-tidyr r-magrittr r-aws.s3 r-rgeos r-rlemon r-svd r-sparsem r-survival"
   ]
  },
  {
   "cell_type": "code",
   "execution_count": 2,
   "id": "3c8b3fff-abff-45f0-8c44-27ca8e45ebf0",
   "metadata": {},
   "outputs": [
    {
     "name": "stderr",
     "output_type": "stream",
     "text": [
      "Updating HTML index of packages in '.Library'\n",
      "\n",
      "Making 'packages.html' ...\n",
      " done\n",
      "\n",
      "Warning message in install.packages(\"optmatch\"):\n",
      "“installation of package ‘optmatch’ had non-zero exit status”\n",
      "Updating HTML index of packages in '.Library'\n",
      "\n",
      "Making 'packages.html' ...\n",
      " done\n",
      "\n",
      "Updating HTML index of packages in '.Library'\n",
      "\n",
      "Making 'packages.html' ...\n",
      " done\n",
      "\n"
     ]
    }
   ],
   "source": [
    "install.packages(\"s3\")\n",
    "install.packages(\"optmatch\")\n",
    "install.packages(\"RItools\")"
   ]
  },
  {
   "cell_type": "code",
   "execution_count": 3,
   "id": "e22de70b-09aa-419a-afa9-f9c1c0c5f977",
   "metadata": {},
   "outputs": [],
   "source": [
    "options(warn=-1)\n",
    "options(dplyr.summarise.inform = FALSE)\n",
    "\n",
    "packages <- c(\"sp\",\"sf\",\"rgeos\",\"dplyr\",\"plyr\",\"ggplot2\",\"mapview\",\"stringr\",\"terra\",\n",
    "              \"maptools\",\"gridExtra\",\"lattice\",\"MASS\",\"foreach\",\"optmatch\",\"doParallel\",\"RItools\",\n",
    "              \"rlang\",\"tidyr\",\"magrittr\",\"aws.s3\",\"s3\")"
   ]
  },
  {
   "cell_type": "code",
   "execution_count": 4,
   "id": "fe003a52-cd0d-45bc-b8af-bc2d0ed71ecf",
   "metadata": {},
   "outputs": [],
   "source": [
    "package.check <- lapply(packages, FUN = function(x) {\n",
    "  suppressPackageStartupMessages(library(x, character.only = TRUE))\n",
    "})"
   ]
  },
  {
   "cell_type": "code",
   "execution_count": 5,
   "id": "7e1b3676-064b-4429-96bb-6e6a0ce8df98",
   "metadata": {},
   "outputs": [],
   "source": [
    "s3 <- paws::s3()"
   ]
  },
  {
   "cell_type": "code",
   "execution_count": 6,
   "id": "3051417c-1987-426f-bffd-c9f3776b1c0a",
   "metadata": {},
   "outputs": [],
   "source": [
    "iso3<- \"GNB\"\n",
    "gediwk<-24"
   ]
  },
  {
   "cell_type": "code",
   "execution_count": 7,
   "id": "d6774504-2bc6-4d62-8433-e6cc13a62287",
   "metadata": {},
   "outputs": [],
   "source": [
    "f.path <- \"s3://maap-ops-workspace/shared/leitoldv/GEDI_global_PA_v2/\"\n",
    "gedipath<- \"/vsis3/maap-ops-workspace/shared/abarenblitt/GEDI_global_PA_v2/\" #Make sure to specify username\n",
    "f.path3<- \"~/output/WDPA_matching_results/\" #Rename folder to \"output\" since DPS looks for this, move up in the code, set as default but allow an argument to change output file\n"
   ]
  },
  {
   "cell_type": "code",
   "execution_count": 8,
   "id": "f5acef5d-b67c-4d6e-8fe4-4d442d73224e",
   "metadata": {},
   "outputs": [
    {
     "name": "stdout",
     "output_type": "stream",
     "text": [
      "Step 0: Loading global variables to process country GNB with GEDI data until week 24 \n"
     ]
    },
    {
     "name": "stderr",
     "output_type": "stream",
     "text": [
      "\u001b[36mℹ\u001b[39m \u001b[34m\u001b[34ms3://maap-ops-workspace/shared/leitoldv/GEDI_global_PA_v2/wwf_ecoregions_key.csv\u001b[34m\u001b[39m already exists at \u001b[34m\u001b[34m/projects/.local/share/R/s3/maap-ops-workspace/shared/leitoldv/GEDI_global_PA_v2/wwf_ecoregions_key.csv\u001b[34m\u001b[39m\n",
      "\n",
      "\u001b[36mℹ\u001b[39m \u001b[34m\u001b[34ms3://maap-ops-workspace/shared/leitoldv/GEDI_global_PA_v2/WDPA_shapefiles/WDPA_polygons/GNB_PA_poly.rds\u001b[34m\u001b[39m already exists at \u001b[34m\u001b[34m/projects/.local/share/R/s3/maap-ops-workspace/shared/leitoldv/GEDI_global_PA_v2/WDPA_shapefiles/WDPA_polygons/GNB_PA_poly.rds\u001b[34m\u001b[39m\n",
      "\n",
      "\u001b[36mℹ\u001b[39m \u001b[34m\u001b[34ms3://maap-ops-workspace/shared/leitoldv/GEDI_global_PA_v2/GEDI_ANCI_PFT_r1000m_EASE2.0_UMD_v1_projection_defined_6933.tif\u001b[34m\u001b[39m already exists at \u001b[34m\u001b[34m/projects/.local/share/R/s3/maap-ops-workspace/shared/leitoldv/GEDI_global_PA_v2/GEDI_ANCI_PFT_r1000m_EASE2.0_UMD_v1_projection_defined_6933.tif\u001b[34m\u001b[39m\n",
      "\n",
      "\u001b[36mℹ\u001b[39m \u001b[34m\u001b[34ms3://maap-ops-workspace/shared/leitoldv/GEDI_global_PA_v2/GEDI_ANCI_CONTINENT_r1000m_EASE2.0_UMD_v1_revised_projection_defined_6933.tif\u001b[34m\u001b[39m already exists at \u001b[34m\u001b[34m/projects/.local/share/R/s3/maap-ops-workspace/shared/leitoldv/GEDI_global_PA_v2/GEDI_ANCI_CONTINENT_r1000m_EASE2.0_UMD_v1_revised_projection_defined_6933.tif\u001b[34m\u001b[39m\n",
      "\n"
     ]
    },
    {
     "name": "stdout",
     "output_type": "stream",
     "text": [
      "Reading layer `GNB' from data source \n",
      "  `/vsis3/maap-ops-workspace/shared/leitoldv/GEDI_global_PA_v2/WDPA_countries/shp/GNB.shp' \n",
      "  using driver `ESRI Shapefile'\n",
      "Simple feature collection with 1 feature and 94 fields\n",
      "Geometry type: MULTIPOLYGON\n",
      "Dimension:     XY\n",
      "Bounding box:  xmin: -16.72844 ymin: 10.92764 xmax: -13.66071 ymax: 12.67943\n",
      "Geodetic CRS:  WGS 84\n"
     ]
    },
    {
     "name": "stderr",
     "output_type": "stream",
     "text": [
      "\u001b[36mℹ\u001b[39m \u001b[34m\u001b[34ms3://maap-ops-workspace/shared/leitoldv/GEDI_global_PA_v2/rf_noclimate.RData\u001b[34m\u001b[39m already exists at \u001b[34m\u001b[34m/projects/.local/share/R/s3/maap-ops-workspace/shared/leitoldv/GEDI_global_PA_v2/rf_noclimate.RData\u001b[34m\u001b[39m\n",
      "\n"
     ]
    }
   ],
   "source": [
    "cat(\"Step 0: Loading global variables to process country\", iso3,\"with GEDI data until week\", gediwk, \"\\n\")\n",
    "\n",
    "matching_tifs <- c(\"wwf_biomes\",\"wwf_ecoreg\",\"lc2000\",\"d2roads\", \"dcities\",\"dem\",\n",
    "                   \"pop_cnt_2000\",\"pop_den_2000\",\"slope\", \"tt2cities_2000\", \"wc_prec_1990-1999\",\n",
    "                   \"wc_tmax_1990-1999\",\"wc_tavg_1990-1999\",\"wc_tmin_1990-1999\" )\n",
    "\n",
    "ecoreg_key <- read.csv(s3_get(paste(f.path,\"wwf_ecoregions_key.csv\",sep=\"\")))\n",
    "#unlink(s3_get(paste(f.path,\"wwf_ecoregions_key.csv\",sep=\"\")))\n",
    "\n",
    "allPAs <- readRDS(s3_get(paste(f.path,\"WDPA_shapefiles/WDPA_polygons/\",iso3,\"_PA_poly.rds\",sep=\"\")))\n",
    "\n",
    "MCD12Q1 <- rast(s3_get(paste(f.path,\"GEDI_ANCI_PFT_r1000m_EASE2.0_UMD_v1_projection_defined_6933.tif\",sep=\"\")))\n",
    "crs(MCD12Q1)  <- \"epsg:6933\"\n",
    "\n",
    "world_region <- rast(s3_get(paste(f.path,\"GEDI_ANCI_CONTINENT_r1000m_EASE2.0_UMD_v1_revised_projection_defined_6933.tif\",sep=\"\")))\n",
    "crs(world_region)  <- \"epsg:6933\"\n",
    "\n",
    "s3_path <- paste(\"/vsis3/maap-ops-workspace/shared/leitoldv/GEDI_global_PA_v2/WDPA_countries/shp/\",iso3,\".shp\",sep=\"\") #Redo this \n",
    "\n",
    "adm <- st_read(s3_path)\n",
    "\n",
    "adm_prj <- project(vect(adm), \"epsg:6933\")\n",
    "\n",
    "load(s3_get(paste(f.path,\"rf_noclimate.RData\",sep=\"\")))\n",
    "\n",
    "flag <- \"run all\""
   ]
  },
  {
   "cell_type": "code",
   "execution_count": 9,
   "id": "8a629ce7-2629-4804-b83f-df216688c866",
   "metadata": {},
   "outputs": [
    {
     "name": "stdout",
     "output_type": "stream",
     "text": [
      "Step 5: Performing WK  24 GEDI extraction for GNB \n"
     ]
    },
    {
     "data": {
      "text/html": [
       "<style>\n",
       ".list-inline {list-style: none; margin:0; padding: 0}\n",
       ".list-inline>li {display: inline-block}\n",
       ".list-inline>li:not(:last-child)::after {content: \"\\00b7\"; padding: 0 .5ex}\n",
       "</style>\n",
       "<ol class=list-inline><li>'/projects/output/WDPA_matching_results/GNB_wk24/GNB_pa_11610_matching_results_wk24.RDS'</li><li>'/projects/output/WDPA_matching_results/GNB_wk24/GNB_pa_145507_matching_results_wk24.RDS'</li><li>'/projects/output/WDPA_matching_results/GNB_wk24/GNB_pa_29806_matching_results_wk24.RDS'</li><li>'/projects/output/WDPA_matching_results/GNB_wk24/GNB_pa_317051_matching_results_wk24.RDS'</li><li>'/projects/output/WDPA_matching_results/GNB_wk24/GNB_pa_33046_matching_results_wk24.RDS'</li><li>'/projects/output/WDPA_matching_results/GNB_wk24/GNB_pa_33047_matching_results_wk24.RDS'</li><li>'/projects/output/WDPA_matching_results/GNB_wk24/GNB_pa_33048_matching_results_wk24.RDS'</li><li>'/projects/output/WDPA_matching_results/GNB_wk24/GNB_pa_33050_matching_results_wk24.RDS'</li><li>'/projects/output/WDPA_matching_results/GNB_wk24/GNB_pa_342655_matching_results_wk24.RDS'</li><li>'/projects/output/WDPA_matching_results/GNB_wk24/GNB_pa_342656_matching_results_wk24.RDS'</li><li>'/projects/output/WDPA_matching_results/GNB_wk24/GNB_pa_342658_matching_results_wk24.RDS'</li><li>'/projects/output/WDPA_matching_results/GNB_wk24/GNB_pa_342659_matching_results_wk24.RDS'</li><li>'/projects/output/WDPA_matching_results/GNB_wk24/GNB_pa_342660_matching_results_wk24.RDS'</li><li>'/projects/output/WDPA_matching_results/GNB_wk24/GNB_pa_342661_matching_results_wk24.RDS'</li><li>'/projects/output/WDPA_matching_results/GNB_wk24/GNB_pa_342662_matching_results_wk24.RDS'</li><li>'/projects/output/WDPA_matching_results/GNB_wk24/GNB_pa_342670_matching_results_wk24.RDS'</li><li>'/projects/output/WDPA_matching_results/GNB_wk24/GNB_pa_342671_matching_results_wk24.RDS'</li><li>'/projects/output/WDPA_matching_results/GNB_wk24/GNB_pa_342672_matching_results_wk24.RDS'</li><li>'/projects/output/WDPA_matching_results/GNB_wk24/GNB_pa_342673_matching_results_wk24.RDS'</li><li>'/projects/output/WDPA_matching_results/GNB_wk24/GNB_pa_351088_matching_results_wk24.RDS'</li><li>'/projects/output/WDPA_matching_results/GNB_wk24/GNB_pa_555626105_matching_results_wk24.RDS'</li><li>'/projects/output/WDPA_matching_results/GNB_wk24/GNB_pa_555626106_matching_results_wk24.RDS'</li><li>'/projects/output/WDPA_matching_results/GNB_wk24/GNB_pa_555703681_matching_results_wk24.RDS'</li></ol>\n"
      ],
      "text/latex": [
       "\\begin{enumerate*}\n",
       "\\item '/projects/output/WDPA\\_matching\\_results/GNB\\_wk24/GNB\\_pa\\_11610\\_matching\\_results\\_wk24.RDS'\n",
       "\\item '/projects/output/WDPA\\_matching\\_results/GNB\\_wk24/GNB\\_pa\\_145507\\_matching\\_results\\_wk24.RDS'\n",
       "\\item '/projects/output/WDPA\\_matching\\_results/GNB\\_wk24/GNB\\_pa\\_29806\\_matching\\_results\\_wk24.RDS'\n",
       "\\item '/projects/output/WDPA\\_matching\\_results/GNB\\_wk24/GNB\\_pa\\_317051\\_matching\\_results\\_wk24.RDS'\n",
       "\\item '/projects/output/WDPA\\_matching\\_results/GNB\\_wk24/GNB\\_pa\\_33046\\_matching\\_results\\_wk24.RDS'\n",
       "\\item '/projects/output/WDPA\\_matching\\_results/GNB\\_wk24/GNB\\_pa\\_33047\\_matching\\_results\\_wk24.RDS'\n",
       "\\item '/projects/output/WDPA\\_matching\\_results/GNB\\_wk24/GNB\\_pa\\_33048\\_matching\\_results\\_wk24.RDS'\n",
       "\\item '/projects/output/WDPA\\_matching\\_results/GNB\\_wk24/GNB\\_pa\\_33050\\_matching\\_results\\_wk24.RDS'\n",
       "\\item '/projects/output/WDPA\\_matching\\_results/GNB\\_wk24/GNB\\_pa\\_342655\\_matching\\_results\\_wk24.RDS'\n",
       "\\item '/projects/output/WDPA\\_matching\\_results/GNB\\_wk24/GNB\\_pa\\_342656\\_matching\\_results\\_wk24.RDS'\n",
       "\\item '/projects/output/WDPA\\_matching\\_results/GNB\\_wk24/GNB\\_pa\\_342658\\_matching\\_results\\_wk24.RDS'\n",
       "\\item '/projects/output/WDPA\\_matching\\_results/GNB\\_wk24/GNB\\_pa\\_342659\\_matching\\_results\\_wk24.RDS'\n",
       "\\item '/projects/output/WDPA\\_matching\\_results/GNB\\_wk24/GNB\\_pa\\_342660\\_matching\\_results\\_wk24.RDS'\n",
       "\\item '/projects/output/WDPA\\_matching\\_results/GNB\\_wk24/GNB\\_pa\\_342661\\_matching\\_results\\_wk24.RDS'\n",
       "\\item '/projects/output/WDPA\\_matching\\_results/GNB\\_wk24/GNB\\_pa\\_342662\\_matching\\_results\\_wk24.RDS'\n",
       "\\item '/projects/output/WDPA\\_matching\\_results/GNB\\_wk24/GNB\\_pa\\_342670\\_matching\\_results\\_wk24.RDS'\n",
       "\\item '/projects/output/WDPA\\_matching\\_results/GNB\\_wk24/GNB\\_pa\\_342671\\_matching\\_results\\_wk24.RDS'\n",
       "\\item '/projects/output/WDPA\\_matching\\_results/GNB\\_wk24/GNB\\_pa\\_342672\\_matching\\_results\\_wk24.RDS'\n",
       "\\item '/projects/output/WDPA\\_matching\\_results/GNB\\_wk24/GNB\\_pa\\_342673\\_matching\\_results\\_wk24.RDS'\n",
       "\\item '/projects/output/WDPA\\_matching\\_results/GNB\\_wk24/GNB\\_pa\\_351088\\_matching\\_results\\_wk24.RDS'\n",
       "\\item '/projects/output/WDPA\\_matching\\_results/GNB\\_wk24/GNB\\_pa\\_555626105\\_matching\\_results\\_wk24.RDS'\n",
       "\\item '/projects/output/WDPA\\_matching\\_results/GNB\\_wk24/GNB\\_pa\\_555626106\\_matching\\_results\\_wk24.RDS'\n",
       "\\item '/projects/output/WDPA\\_matching\\_results/GNB\\_wk24/GNB\\_pa\\_555703681\\_matching\\_results\\_wk24.RDS'\n",
       "\\end{enumerate*}\n"
      ],
      "text/markdown": [
       "1. '/projects/output/WDPA_matching_results/GNB_wk24/GNB_pa_11610_matching_results_wk24.RDS'\n",
       "2. '/projects/output/WDPA_matching_results/GNB_wk24/GNB_pa_145507_matching_results_wk24.RDS'\n",
       "3. '/projects/output/WDPA_matching_results/GNB_wk24/GNB_pa_29806_matching_results_wk24.RDS'\n",
       "4. '/projects/output/WDPA_matching_results/GNB_wk24/GNB_pa_317051_matching_results_wk24.RDS'\n",
       "5. '/projects/output/WDPA_matching_results/GNB_wk24/GNB_pa_33046_matching_results_wk24.RDS'\n",
       "6. '/projects/output/WDPA_matching_results/GNB_wk24/GNB_pa_33047_matching_results_wk24.RDS'\n",
       "7. '/projects/output/WDPA_matching_results/GNB_wk24/GNB_pa_33048_matching_results_wk24.RDS'\n",
       "8. '/projects/output/WDPA_matching_results/GNB_wk24/GNB_pa_33050_matching_results_wk24.RDS'\n",
       "9. '/projects/output/WDPA_matching_results/GNB_wk24/GNB_pa_342655_matching_results_wk24.RDS'\n",
       "10. '/projects/output/WDPA_matching_results/GNB_wk24/GNB_pa_342656_matching_results_wk24.RDS'\n",
       "11. '/projects/output/WDPA_matching_results/GNB_wk24/GNB_pa_342658_matching_results_wk24.RDS'\n",
       "12. '/projects/output/WDPA_matching_results/GNB_wk24/GNB_pa_342659_matching_results_wk24.RDS'\n",
       "13. '/projects/output/WDPA_matching_results/GNB_wk24/GNB_pa_342660_matching_results_wk24.RDS'\n",
       "14. '/projects/output/WDPA_matching_results/GNB_wk24/GNB_pa_342661_matching_results_wk24.RDS'\n",
       "15. '/projects/output/WDPA_matching_results/GNB_wk24/GNB_pa_342662_matching_results_wk24.RDS'\n",
       "16. '/projects/output/WDPA_matching_results/GNB_wk24/GNB_pa_342670_matching_results_wk24.RDS'\n",
       "17. '/projects/output/WDPA_matching_results/GNB_wk24/GNB_pa_342671_matching_results_wk24.RDS'\n",
       "18. '/projects/output/WDPA_matching_results/GNB_wk24/GNB_pa_342672_matching_results_wk24.RDS'\n",
       "19. '/projects/output/WDPA_matching_results/GNB_wk24/GNB_pa_342673_matching_results_wk24.RDS'\n",
       "20. '/projects/output/WDPA_matching_results/GNB_wk24/GNB_pa_351088_matching_results_wk24.RDS'\n",
       "21. '/projects/output/WDPA_matching_results/GNB_wk24/GNB_pa_555626105_matching_results_wk24.RDS'\n",
       "22. '/projects/output/WDPA_matching_results/GNB_wk24/GNB_pa_555626106_matching_results_wk24.RDS'\n",
       "23. '/projects/output/WDPA_matching_results/GNB_wk24/GNB_pa_555703681_matching_results_wk24.RDS'\n",
       "\n",
       "\n"
      ],
      "text/plain": [
       " [1] \"/projects/output/WDPA_matching_results/GNB_wk24/GNB_pa_11610_matching_results_wk24.RDS\"    \n",
       " [2] \"/projects/output/WDPA_matching_results/GNB_wk24/GNB_pa_145507_matching_results_wk24.RDS\"   \n",
       " [3] \"/projects/output/WDPA_matching_results/GNB_wk24/GNB_pa_29806_matching_results_wk24.RDS\"    \n",
       " [4] \"/projects/output/WDPA_matching_results/GNB_wk24/GNB_pa_317051_matching_results_wk24.RDS\"   \n",
       " [5] \"/projects/output/WDPA_matching_results/GNB_wk24/GNB_pa_33046_matching_results_wk24.RDS\"    \n",
       " [6] \"/projects/output/WDPA_matching_results/GNB_wk24/GNB_pa_33047_matching_results_wk24.RDS\"    \n",
       " [7] \"/projects/output/WDPA_matching_results/GNB_wk24/GNB_pa_33048_matching_results_wk24.RDS\"    \n",
       " [8] \"/projects/output/WDPA_matching_results/GNB_wk24/GNB_pa_33050_matching_results_wk24.RDS\"    \n",
       " [9] \"/projects/output/WDPA_matching_results/GNB_wk24/GNB_pa_342655_matching_results_wk24.RDS\"   \n",
       "[10] \"/projects/output/WDPA_matching_results/GNB_wk24/GNB_pa_342656_matching_results_wk24.RDS\"   \n",
       "[11] \"/projects/output/WDPA_matching_results/GNB_wk24/GNB_pa_342658_matching_results_wk24.RDS\"   \n",
       "[12] \"/projects/output/WDPA_matching_results/GNB_wk24/GNB_pa_342659_matching_results_wk24.RDS\"   \n",
       "[13] \"/projects/output/WDPA_matching_results/GNB_wk24/GNB_pa_342660_matching_results_wk24.RDS\"   \n",
       "[14] \"/projects/output/WDPA_matching_results/GNB_wk24/GNB_pa_342661_matching_results_wk24.RDS\"   \n",
       "[15] \"/projects/output/WDPA_matching_results/GNB_wk24/GNB_pa_342662_matching_results_wk24.RDS\"   \n",
       "[16] \"/projects/output/WDPA_matching_results/GNB_wk24/GNB_pa_342670_matching_results_wk24.RDS\"   \n",
       "[17] \"/projects/output/WDPA_matching_results/GNB_wk24/GNB_pa_342671_matching_results_wk24.RDS\"   \n",
       "[18] \"/projects/output/WDPA_matching_results/GNB_wk24/GNB_pa_342672_matching_results_wk24.RDS\"   \n",
       "[19] \"/projects/output/WDPA_matching_results/GNB_wk24/GNB_pa_342673_matching_results_wk24.RDS\"   \n",
       "[20] \"/projects/output/WDPA_matching_results/GNB_wk24/GNB_pa_351088_matching_results_wk24.RDS\"   \n",
       "[21] \"/projects/output/WDPA_matching_results/GNB_wk24/GNB_pa_555626105_matching_results_wk24.RDS\"\n",
       "[22] \"/projects/output/WDPA_matching_results/GNB_wk24/GNB_pa_555626106_matching_results_wk24.RDS\"\n",
       "[23] \"/projects/output/WDPA_matching_results/GNB_wk24/GNB_pa_555703681_matching_results_wk24.RDS\""
      ]
     },
     "metadata": {},
     "output_type": "display_data"
    }
   ],
   "source": [
    "#---------------STEP5. GEDI PROCESSING - using GEDI shots to extract the treatment/control status, also extract the MODIS PFT for AGB prediction---------------- \n",
    "# if (file.exists(paste(f.path,\"WDPA_GEDI_extract/\",iso3,\"_wk\",gediwk,\"/\",iso3,\"_gedi_extracted_matching_wk\",gediwk,\".RDS\", sep=\"\"))){\n",
    "cat(paste(\"Step 5: Performing WK \",gediwk,\"GEDI extraction for\", iso3,\"\\n\"))\n",
    "#matched_all <-read.csv(paste(f.path,\"WDPA_extract4_residual_PAs/\", iso3, \"_wk_\", gediwk, \"_null_matches_rerun.csv\",sep=\"\")) \n",
    "matched_all<-list.files(paste(f.path3,iso3,\"_wk\",gediwk,sep=\"\"), pattern=\".RDS\", full.names = TRUE)\n",
    "matched_all"
   ]
  },
  {
   "cell_type": "code",
   "execution_count": 10,
   "id": "db8b0ba3-4049-4cf1-b15f-d2e9b1e1a14d",
   "metadata": {},
   "outputs": [
    {
     "name": "stdout",
     "output_type": "stream",
     "text": [
      "[1] \"/projects/output/WDPA_matching_results/GNB_wk24/GNB_pa_11610_matching_results_wk24.RDS\"\n",
      "[1] \"/projects/output/WDPA_matching_results/GNB_wk24/GNB_pa_145507_matching_results_wk24.RDS\"\n",
      "[1] \"/projects/output/WDPA_matching_results/GNB_wk24/GNB_pa_29806_matching_results_wk24.RDS\"\n",
      "[1] \"/projects/output/WDPA_matching_results/GNB_wk24/GNB_pa_317051_matching_results_wk24.RDS\"\n",
      "[1] \"/projects/output/WDPA_matching_results/GNB_wk24/GNB_pa_33046_matching_results_wk24.RDS\"\n",
      "[1] \"/projects/output/WDPA_matching_results/GNB_wk24/GNB_pa_33047_matching_results_wk24.RDS\"\n",
      "[1] \"/projects/output/WDPA_matching_results/GNB_wk24/GNB_pa_33048_matching_results_wk24.RDS\"\n",
      "[1] \"/projects/output/WDPA_matching_results/GNB_wk24/GNB_pa_33050_matching_results_wk24.RDS\"\n",
      "[1] \"/projects/output/WDPA_matching_results/GNB_wk24/GNB_pa_342655_matching_results_wk24.RDS\"\n",
      "[1] \"/projects/output/WDPA_matching_results/GNB_wk24/GNB_pa_342656_matching_results_wk24.RDS\"\n",
      "[1] \"/projects/output/WDPA_matching_results/GNB_wk24/GNB_pa_342658_matching_results_wk24.RDS\"\n",
      "[1] \"/projects/output/WDPA_matching_results/GNB_wk24/GNB_pa_342659_matching_results_wk24.RDS\"\n",
      "[1] \"/projects/output/WDPA_matching_results/GNB_wk24/GNB_pa_342660_matching_results_wk24.RDS\"\n",
      "[1] \"/projects/output/WDPA_matching_results/GNB_wk24/GNB_pa_342661_matching_results_wk24.RDS\"\n",
      "[1] \"/projects/output/WDPA_matching_results/GNB_wk24/GNB_pa_342662_matching_results_wk24.RDS\"\n",
      "[1] \"/projects/output/WDPA_matching_results/GNB_wk24/GNB_pa_342670_matching_results_wk24.RDS\"\n",
      "[1] \"/projects/output/WDPA_matching_results/GNB_wk24/GNB_pa_342671_matching_results_wk24.RDS\"\n",
      "[1] \"/projects/output/WDPA_matching_results/GNB_wk24/GNB_pa_342672_matching_results_wk24.RDS\"\n",
      "[1] \"/projects/output/WDPA_matching_results/GNB_wk24/GNB_pa_342673_matching_results_wk24.RDS\"\n",
      "[1] \"/projects/output/WDPA_matching_results/GNB_wk24/GNB_pa_351088_matching_results_wk24.RDS\"\n",
      "[1] \"/projects/output/WDPA_matching_results/GNB_wk24/GNB_pa_555626105_matching_results_wk24.RDS\"\n",
      "[1] \"/projects/output/WDPA_matching_results/GNB_wk24/GNB_pa_555626106_matching_results_wk24.RDS\"\n",
      "[1] \"/projects/output/WDPA_matching_results/GNB_wk24/GNB_pa_555703681_matching_results_wk24.RDS\"\n"
     ]
    },
    {
     "data": {
      "text/html": [
       "20"
      ],
      "text/latex": [
       "20"
      ],
      "text/markdown": [
       "20"
      ],
      "text/plain": [
       "[1] 20"
      ]
     },
     "metadata": {},
     "output_type": "display_data"
    }
   ],
   "source": [
    "matched_PAs <- foreach(this_rds=matched_all, .combine = c, .packages=c('sp','magrittr', 'dplyr','tidyr','terra')) %do% {   #non-NA matched results\n",
    "  matched_PAs=c()\n",
    "  print(this_rds)\n",
    "  if(nchar(iso3)>3){\n",
    "    id_pa <- basename(this_rds)%>%readr::parse_number() %>% unique()  \n",
    "  } else {\n",
    "    id_pa <- basename(this_rds)%>%readr::parse_number() %>% unique()\n",
    "  }\n",
    "  matched <- readRDS(paste(f.path3,iso3,\"_wk\",gediwk,\"/\",iso3,\"_pa_\", id_pa,\"_matching_results_wk\",gediwk,\".RDS\", sep=\"\"))\n",
    "  if(!is.null(matched)){\n",
    "    if(nrow(matched)!=0){\n",
    "      matched_PAs=c(matched_PAs,this_rds) \n",
    "    }\n",
    "  }else {\n",
    "    # print(this_rds)\n",
    "    matched_PAs=matched_PAs\n",
    "  }\n",
    "  return(matched_PAs)\n",
    "}\n",
    "length(matched_PAs)"
   ]
  },
  {
   "cell_type": "code",
   "execution_count": 11,
   "id": "eaac4592-e890-48eb-a911-205a8374be51",
   "metadata": {},
   "outputs": [
    {
     "name": "stdout",
     "output_type": "stream",
     "text": [
      "Step 5: runing extraction on all 20 of non-NA matched results in GNB \n"
     ]
    }
   ],
   "source": [
    "if(flag==\"run all\"){  #determine how many PAs to run the extraction process\n",
    "  matched_PAs <- matched_PAs\n",
    "  cat(\"Step 5: runing extraction on all\", length(matched_PAs),\"of non-NA matched results in\", iso3,\"\\n\")\n",
    "} else if (flag==\"run remaining\"){\n",
    "  pattern1 = c(paste(\"wk\",gediwk,sep=\"\"),\"RDS\")\n",
    "  extracted_PAid <- list.files(paste(f.path3,\"WDPA_GEDI_extract/\",iso3,\"_wk\",gediwk,\"/\",sep=\"\"), full.names = F, pattern=paste0(pattern1, collapse=\"|\"))%>%\n",
    "    readr::parse_number() %>% unique()\n",
    "  matched_PA_id <- matched_PAs %>% readr::parse_number()\n",
    "  runPA_id <- matched_PA_id[!(matched_PA_id %in% extracted_PAid)]\n",
    "  if (length(runPA_id)>0){\n",
    "    Pattern2 <-  paste(runPA_id, collapse=\"|\")\n",
    "    runPA <-  matched_PAs[grepl(Pattern2,matched_PAs)]\n",
    "    # runPA_ind <- str_detect(matched_PAs, paste(runPA_id, collapse = \"|\"))\n",
    "    matched_PAs <-runPA\n",
    "  } else {\n",
    "    matched_PAs <- NULL\n",
    "    cat(\"Step 5 already done for\", iso3, \"\\n\")\n",
    "  }\n",
    "}"
   ]
  },
  {
   "cell_type": "code",
   "execution_count": 12,
   "id": "3f131d61-31be-4d4d-bb85-f299eb9472f1",
   "metadata": {},
   "outputs": [],
   "source": [
    "source(\"matching_func_2024.r\")"
   ]
  },
  {
   "cell_type": "code",
   "execution_count": 34,
   "id": "f98dfdd5-67fe-41dc-b27f-f8ac30d4975b",
   "metadata": {},
   "outputs": [
    {
     "name": "stdout",
     "output_type": "stream",
     "text": [
      "Converting the matched csv to a raster stack for extraction\n",
      "\n",
      "  0   1 \n",
      "568 568 \n",
      "Readng in no.  1 csv of  7 csvs for iso3 GNB \n",
      "Reading layer `tile_num_29418_L4A' from data source \n",
      "  `/vsis3/maap-ops-workspace/shared/abarenblitt/GEDI_global_PA_v2/WDPA_gedi_L4A_tiles/tile_num_29418_L4A.gpkg' \n",
      "  using driver `GPKG'\n",
      "Integer64 values larger than 9.0072e+15 lost significance after conversion to double;\n",
      "use argument int64_as_string = TRUE to import them lossless, as character\n",
      "Simple feature collection with 173700 features and 11 fields\n",
      "Geometry type: POINT\n",
      "Dimension:     XY\n",
      "Bounding box:  xmin: -16.79044 ymin: 12.00004 xmax: -16 ymax: 12.99999\n",
      "Geodetic CRS:  WGS 84\n",
      "Reading layer `tile_num_29418_L2A' from data source \n",
      "  `/vsis3/maap-ops-workspace/shared/abarenblitt/GEDI_global_PA_v2/WDPA_gedi_L2A_tiles/tile_num_29418_L2A.gpkg' \n",
      "  using driver `GPKG'\n",
      "Integer64 values larger than 9.0072e+15 lost significance after conversion to double;\n",
      "use argument int64_as_string = TRUE to import them lossless, as character\n",
      "Simple feature collection with 846905 features and 17 fields\n",
      "Geometry type: POINT\n",
      "Dimension:     XY\n",
      "Bounding box:  xmin: -17 ymin: 12 xmax: -16 ymax: 13\n",
      "Geodetic CRS:  WGS 84\n",
      "[1] 2738544      22\n",
      "[1]  0 31\n",
      "3.599558 for extracting all PAs in GNB \n",
      "Done GEDI for no.  4 pa out of 20 \n",
      "[1] \"output df 0\"  \"output df 12\"\n",
      "317051 in GNB results is written to dir\n"
     ]
    },
    {
     "data": {
      "text/plain": [
       "NULL"
      ]
     },
     "metadata": {},
     "output_type": "display_data"
    }
   ],
   "source": [
    "this_rds<-matched_PAs[4]\n",
    "id_pa <- basename(this_rds)%>%readr::parse_number() %>% unique()\n",
    "    \n",
    "    matched <- readRDS(paste(f.path3,iso3,\"_wk\",gediwk,\"/\",iso3,\"_pa_\",id_pa,\"_matching_results_wk24.RDS\", sep=\"\"))\n",
    "    \n",
    "    if (is.null(matched)==TRUE  | nrow(matched)==0) {\n",
    "        cat(\"Matched result is null for PA\", id_pa, \"quitting...\\n\")\n",
    "        next  # Skip to the next iteration\n",
    "    } else if (!is.null(matched)==TRUE){\n",
    "    mras  <- tryCatch(matched2ras(matched),\n",
    "                      error=function(cond){\n",
    "                        message(cond)\n",
    "                        cat(\"Matched result is likely null for country\", iso3,\"pa\", id_pa, \"dimension of the match is\", dim(matched),\"\\n\")\n",
    "                        # writeLines(\"Matched results is likely null for country\", paste(f.path,\"WDPA_log/\",iso3,\"_log_matching.txt\", sep=\"\"))\n",
    "                        return(NULL)}) #convert the macthed df to a raster stack \n",
    "    print(table(mras$status[]))\n",
    "    if(table(mras$status[])[2]==0 | table(mras$status[])[1]==0 | is.null(mras)){\n",
    "      cat(\"Rasterized results unbalanced for PA\", id_pa, \"quitting...\\n\")\n",
    "      next  # Skip to the next iteration\n",
    "    } else {\n",
    "        \n",
    "      startTime <- Sys.time()\n",
    "        \n",
    "      iso_matched_gedi<- extract_gedi(matched=matched, mras = mras)#}  #run filtered csvs on mras for extarction\n",
    "        \n",
    "        if (is.null(iso_matched_gedi)) {\n",
    "        cat(\"Matched result is null for PA\", id_pa, \"quitting...\\n\")\n",
    "        next  # Skip to the next iteration\n",
    "        }\n",
    "\n",
    "      tElapsed <- Sys.time()-startTime\n",
    "      cat(tElapsed, \"for extracting all PAs in\", iso3,\"\\n\")\n",
    "      cat(\"Done GEDI for no. \",grep(unique(matched$pa_id), matched_PAs),\"pa out of\", length(matched_PAs),\"\\n\")\n",
    "\n",
    "      iso_matched_gedi <-  iso_matched_gedi %>%\n",
    "            dplyr::select(\"pa_id\",\"status\",\n",
    "                      \"wwfbiom\",\"wwfecoreg\",\"shot_number\",\"lon_lowestmode\", \n",
    "                      \"lat_lowestmode\", \"lon_lowestmode\", \n",
    "                      \"lat_lowestmode\",\"rh25\", \"rh50\", \"rh75\",\"rh90\", \"rh98\")  #write to individual country folder\n",
    "        \n",
    "      if (length(unique(iso_matched_gedi$wwfbiom)) >1){\n",
    "        pabiome <- iso_matched_gedi$wwfbiom %>% unique() %>% gsub('\\\\b(\\\\pL)\\\\pL{2,}|.','\\\\U\\\\1',.,perl = TRUE)%>% str_c( collapse = \"+\")\n",
    "      } else if (length(unique(iso_matched_gedi$wwfbiom))==1){\n",
    "        pabiome <- iso_matched_gedi$wwfbiom %>% unique() %>% gsub('\\\\b(\\\\pL)\\\\pL{2,}|.','\\\\U\\\\1',.,perl = TRUE)\n",
    "      } else {\n",
    "        pabiome <- iso_matched_gedi$wwfbiom %>% unique()\n",
    "      }\n",
    "\n",
    "      continent <- unique(iso_matched_gedi$region) %>% getmode()\n",
    "      print(paste('output df',dim(iso_matched_gedi)))\n",
    "\n",
    "      dir.create(file.path(paste(f.path3,\"WDPA_GEDI_extract/\",sep=\"\")),recursive=TRUE)\n",
    "      saveRDS(iso_matched_gedi, file=paste(f.path3,\"WDPA_GEDI_extract/\",iso3,\"_pa_\", id_pa,\"_gedi_wk_\",gediwk,\"_conti_\",\"biome_\",pabiome,\".RDS\", sep=\"\"))\n",
    "      write.csv(iso_matched_gedi, file=paste(f.path3,\"WDPA_GEDI_extract/\",iso3,\"_pa_\", id_pa,\"_iso_matched_gedi_sub_wk_\",gediwk,\".csv\", sep=\"\"))\n",
    "      cat(id_pa,\"in\",iso3,\"results is written to dir\\n\")\n",
    "    }\n",
    "    }\n",
    "    \n",
    "    return(NULL)"
   ]
  },
  {
   "cell_type": "code",
   "execution_count": 99,
   "id": "f0b532fe-6274-47c4-a615-ceab0a019af0",
   "metadata": {},
   "outputs": [
    {
     "data": {
      "text/html": [
       "<style>\n",
       ".list-inline {list-style: none; margin:0; padding: 0}\n",
       ".list-inline>li {display: inline-block}\n",
       ".list-inline>li:not(:last-child)::after {content: \"\\00b7\"; padding: 0 .5ex}\n",
       "</style>\n",
       "<ol class=list-inline><li>2332936</li><li>22</li></ol>\n"
      ],
      "text/latex": [
       "\\begin{enumerate*}\n",
       "\\item 2332936\n",
       "\\item 22\n",
       "\\end{enumerate*}\n"
      ],
      "text/markdown": [
       "1. 2332936\n",
       "2. 22\n",
       "\n",
       "\n"
      ],
      "text/plain": [
       "[1] 2332936      22"
      ]
     },
     "metadata": {},
     "output_type": "display_data"
    }
   ],
   "source": [
    "dim(gedi_l24)"
   ]
  },
  {
   "cell_type": "code",
   "execution_count": 100,
   "id": "89295e57-92ad-4987-9e84-b1e30de9016f",
   "metadata": {},
   "outputs": [],
   "source": [
    "iso_matched_gedi_df <- data.frame()\n",
    "\n",
    "gedi_l24_sp <- gedi_l24 %>% \n",
    "     SpatialPointsDataFrame(coords=.[,c(\"lon_lowestmode\",\"lat_lowestmode\")],\n",
    "                                     proj4string=CRS(\"+init=epsg:4326\"), data=.) %>%spTransform(., CRS(\"+init=epsg:6933\"))"
   ]
  },
  {
   "cell_type": "code",
   "execution_count": 101,
   "id": "9b9a67ad-2620-4023-ab1d-c579e1dd4410",
   "metadata": {},
   "outputs": [],
   "source": [
    "matched_gedi <- terra::extract(mras,vect(gedi_l24_sp), df=TRUE)"
   ]
  },
  {
   "cell_type": "code",
   "execution_count": 102,
   "id": "616c7e8b-66fa-4caf-81ec-9288ebaa05a5",
   "metadata": {},
   "outputs": [
    {
     "data": {
      "image/png": "[encoded data removed]",
      "text/plain": [
       "plot without title"
      ]
     },
     "metadata": {
      "image/png": {
       "height": 420,
       "width": 420
      }
     },
     "output_type": "display_data"
    }
   ],
   "source": [
    "plot(gedi_l24_sp)"
   ]
  },
  {
   "cell_type": "code",
   "execution_count": 103,
   "id": "a2ea662c-5608-4a42-955e-104a3b491266",
   "metadata": {},
   "outputs": [
    {
     "data": {
      "image/png": "[encoded data removed]",
      "text/plain": [
       "plot without title"
      ]
     },
     "metadata": {
      "image/png": {
       "height": 420,
       "width": 420
      }
     },
     "output_type": "display_data"
    }
   ],
   "source": [
    "plot(mras$status)\n",
    "plot(gedi_l24_sp,add=T)"
   ]
  },
  {
   "cell_type": "code",
   "execution_count": 19,
   "id": "41429e66-a04e-43d0-b611-a24239e4e36c",
   "metadata": {},
   "outputs": [],
   "source": [
    "allOut <- read.csv(\"~/GEDI_PA/vl_GEDI-PA_2024/GNB_pa.csv\")"
   ]
  },
  {
   "cell_type": "code",
   "execution_count": 15,
   "id": "ea1fde40-a541-4d28-910f-e2ec2ebdc5cf",
   "metadata": {},
   "outputs": [],
   "source": [
    "# summary(allOut)"
   ]
  },
  {
   "cell_type": "code",
   "execution_count": 20,
   "id": "263f6bf4-ddcb-4993-82a0-57a3038bac0d",
   "metadata": {},
   "outputs": [],
   "source": [
    "data_sf <- st_as_sf(allOut, coords = c(\"lon\", \"lat\"), crs = 4326)"
   ]
  },
  {
   "cell_type": "code",
   "execution_count": 53,
   "id": "77a75907-fbcd-42ef-b78a-e94e7db6c99e",
   "metadata": {},
   "outputs": [],
   "source": [
    "results <- s3$list_objects_v2(Bucket = \"maap-ops-workspace\", \n",
    "                            Prefix=paste(\"shared/abarenblitt/GEDI_global_PA_v2/WDPA_gedi_L2A_tiles/\",sep=\"\"))\n",
    "    all_gedil2_f <- sapply(results$Contents, function(x) {x$Key})\n",
    "    pattern=paste(\".gpkg\",sep=\"\")\n",
    "    all_gedil2_f <- grep(pattern, all_gedil2_f, value=TRUE)\n",
    "    all_gedil2_f <- basename(all_gedil2_f)[4:5] #Currently specifying working files\n",
    "    \n",
    "    results4 <- s3$list_objects_v2(Bucket = \"maap-ops-workspace\", \n",
    "                                Prefix=paste(\"shared/abarenblitt/GEDI_global_PA_v2/WDPA_gedi_L4A_tiles/\",sep=\"\"))\n",
    "    all_gedil4_f <- sapply(results4$Contents, function(x) {x$Key})\n",
    "    pattern4=paste(\".gpkg\",sep=\"\")\n",
    "    all_gedil4_f <- grep(pattern4, all_gedil4_f, value=TRUE)\n",
    "    all_gedil4_f <- basename(all_gedil4_f)[4:5] #Currently specifying working files"
   ]
  },
  {
   "cell_type": "code",
   "execution_count": 14,
   "id": "3eb9edd7-5643-4694-b940-bf741a72f61f",
   "metadata": {},
   "outputs": [
    {
     "data": {
      "text/html": [
       "<style>\n",
       ".list-inline {list-style: none; margin:0; padding: 0}\n",
       ".list-inline>li {display: inline-block}\n",
       ".list-inline>li:not(:last-child)::after {content: \"\\00b7\"; padding: 0 .5ex}\n",
       "</style>\n",
       "<ol class=list-inline><li>'tile_num_29418_L2A.gpkg'</li><li>'tile_num_29419_L2A.gpkg'</li><li>'tile_num_29598_L2A.gpkg'</li><li>'tile_num_29599_L2A.gpkg'</li><li>'tile_num_29600_L2A.gpkg'</li><li>'tile_num_29778_L2A.gpkg'</li><li>'tile_num_29779_L2A.gpkg'</li><li>'tile_num_29780_L2A.gpkg'</li><li>'tile_num_29958_L2A.gpkg'</li><li>'tile_num_29959_L2A.gpkg'</li></ol>\n"
      ],
      "text/latex": [
       "\\begin{enumerate*}\n",
       "\\item 'tile\\_num\\_29418\\_L2A.gpkg'\n",
       "\\item 'tile\\_num\\_29419\\_L2A.gpkg'\n",
       "\\item 'tile\\_num\\_29598\\_L2A.gpkg'\n",
       "\\item 'tile\\_num\\_29599\\_L2A.gpkg'\n",
       "\\item 'tile\\_num\\_29600\\_L2A.gpkg'\n",
       "\\item 'tile\\_num\\_29778\\_L2A.gpkg'\n",
       "\\item 'tile\\_num\\_29779\\_L2A.gpkg'\n",
       "\\item 'tile\\_num\\_29780\\_L2A.gpkg'\n",
       "\\item 'tile\\_num\\_29958\\_L2A.gpkg'\n",
       "\\item 'tile\\_num\\_29959\\_L2A.gpkg'\n",
       "\\end{enumerate*}\n"
      ],
      "text/markdown": [
       "1. 'tile_num_29418_L2A.gpkg'\n",
       "2. 'tile_num_29419_L2A.gpkg'\n",
       "3. 'tile_num_29598_L2A.gpkg'\n",
       "4. 'tile_num_29599_L2A.gpkg'\n",
       "5. 'tile_num_29600_L2A.gpkg'\n",
       "6. 'tile_num_29778_L2A.gpkg'\n",
       "7. 'tile_num_29779_L2A.gpkg'\n",
       "8. 'tile_num_29780_L2A.gpkg'\n",
       "9. 'tile_num_29958_L2A.gpkg'\n",
       "10. 'tile_num_29959_L2A.gpkg'\n",
       "\n",
       "\n"
      ],
      "text/plain": [
       " [1] \"tile_num_29418_L2A.gpkg\" \"tile_num_29419_L2A.gpkg\"\n",
       " [3] \"tile_num_29598_L2A.gpkg\" \"tile_num_29599_L2A.gpkg\"\n",
       " [5] \"tile_num_29600_L2A.gpkg\" \"tile_num_29778_L2A.gpkg\"\n",
       " [7] \"tile_num_29779_L2A.gpkg\" \"tile_num_29780_L2A.gpkg\"\n",
       " [9] \"tile_num_29958_L2A.gpkg\" \"tile_num_29959_L2A.gpkg\""
      ]
     },
     "metadata": {},
     "output_type": "display_data"
    }
   ],
   "source": [
    "all_gedil2_f"
   ]
  },
  {
   "cell_type": "code",
   "execution_count": 141,
   "id": "f49f62de-6815-4949-ac52-f05185951e70",
   "metadata": {},
   "outputs": [
    {
     "name": "stdout",
     "output_type": "stream",
     "text": [
      "Reading layer `tile_num_29959_L4A' from data source \n",
      "  `/vsis3/maap-ops-workspace/shared/abarenblitt/GEDI_global_PA_v2/WDPA_gedi_L4A_tiles/tile_num_29959_L4A.gpkg' \n",
      "  using driver `GPKG'\n",
      "Integer64 values larger than 9.0072e+15 lost significance after conversion to double;\n",
      "use argument int64_as_string = TRUE to import them lossless, as character\n",
      "Simple feature collection with 149672 features and 11 fields\n",
      "Geometry type: POINT\n",
      "Dimension:     XY\n",
      "Bounding box:  xmin: -14 ymin: 11 xmax: -13 ymax: 12\n",
      "Geodetic CRS:  WGS 84\n"
     ]
    }
   ],
   "source": [
    "gedil4_f <- as.data.frame(st_read(paste(gedipath,\"WDPA_gedi_L4A_tiles/\",all_gedil4_f[this_csvid],sep=\"\")))"
   ]
  },
  {
   "cell_type": "code",
   "execution_count": null,
   "id": "c86edb19-61bd-49b7-b58c-0cd69eb4bf1b",
   "metadata": {},
   "outputs": [],
   "source": [
    "dim(gedil4_f)"
   ]
  },
  {
   "cell_type": "code",
   "execution_count": 142,
   "id": "95b19445-e652-4545-9204-79fb5e7b1f95",
   "metadata": {},
   "outputs": [
    {
     "name": "stdout",
     "output_type": "stream",
     "text": [
      "Reading layer `tile_num_29959_L2A' from data source \n",
      "  `/vsis3/maap-ops-workspace/shared/abarenblitt/GEDI_global_PA_v2/WDPA_gedi_L2A_tiles/tile_num_29959_L2A.gpkg' \n",
      "  using driver `GPKG'\n",
      "Integer64 values larger than 9.0072e+15 lost significance after conversion to double;\n",
      "use argument int64_as_string = TRUE to import them lossless, as character\n",
      "Simple feature collection with 1114307 features and 17 fields\n",
      "Geometry type: POINT\n",
      "Dimension:     XY\n",
      "Bounding box:  xmin: -14 ymin: 11 xmax: -13 ymax: 12\n",
      "Geodetic CRS:  WGS 84\n"
     ]
    }
   ],
   "source": [
    "gedil2_f <- as.data.frame(st_read(paste(gedipath,\"WDPA_gedi_L2A_tiles/\",all_gedil2_f[this_csvid],sep=\"\")))"
   ]
  },
  {
   "cell_type": "code",
   "execution_count": 31,
   "id": "66d3a751-704b-4bd0-95e9-01ee1dce6d16",
   "metadata": {},
   "outputs": [
    {
     "data": {
      "text/html": [
       "<style>\n",
       ".list-inline {list-style: none; margin:0; padding: 0}\n",
       ".list-inline>li {display: inline-block}\n",
       ".list-inline>li:not(:last-child)::after {content: \"\\00b7\"; padding: 0 .5ex}\n",
       "</style>\n",
       "<ol class=list-inline><li>'tile_num_29599_L2A.gpkg'</li><li>'tile_num_29600_L2A.gpkg'</li></ol>\n"
      ],
      "text/latex": [
       "\\begin{enumerate*}\n",
       "\\item 'tile\\_num\\_29599\\_L2A.gpkg'\n",
       "\\item 'tile\\_num\\_29600\\_L2A.gpkg'\n",
       "\\end{enumerate*}\n"
      ],
      "text/markdown": [
       "1. 'tile_num_29599_L2A.gpkg'\n",
       "2. 'tile_num_29600_L2A.gpkg'\n",
       "\n",
       "\n"
      ],
      "text/plain": [
       "[1] \"tile_num_29599_L2A.gpkg\" \"tile_num_29600_L2A.gpkg\""
      ]
     },
     "metadata": {},
     "output_type": "display_data"
    }
   ],
   "source": [
    "results <- s3$list_objects_v2(Bucket = \"maap-ops-workspace\", \n",
    "                            Prefix=paste(\"shared/abarenblitt/GEDI_global_PA_v2/WDPA_gedi_L2A_tiles/\",sep=\"\"))\n",
    "    all_gedil2_f <- sapply(results$Contents, function(x) {x$Key})\n",
    "    pattern=paste(\".gpkg\",sep=\"\")\n",
    "    all_gedil2_f <- grep(pattern, all_gedil2_f, value=TRUE)\n",
    "    all_gedil2_f <- basename(all_gedil2_f)[4:5]\n",
    "\n",
    "all_gedil2_f"
   ]
  },
  {
   "cell_type": "code",
   "execution_count": 70,
   "id": "f7fa2ffe-e230-45b6-b2a3-28ed51fd529b",
   "metadata": {},
   "outputs": [],
   "source": [
    "extract_gedi <- function(matched, mras){\n",
    "    results <- s3$list_objects_v2(Bucket = \"maap-ops-workspace\", \n",
    "                            Prefix=paste(\"shared/abarenblitt/GEDI_global_PA_v2/WDPA_gedi_L2A_tiles/\",sep=\"\"))\n",
    "    all_gedil2_f <- sapply(results$Contents, function(x) {x$Key})\n",
    "    pattern=paste(\".gpkg\",sep=\"\")\n",
    "    all_gedil2_f <- grep(pattern, all_gedil2_f, value=TRUE)\n",
    "    all_gedil2_f <- basename(all_gedil2_f)[4:5] #Currently specifying working files\n",
    "    \n",
    "    results4 <- s3$list_objects_v2(Bucket = \"maap-ops-workspace\", \n",
    "                                Prefix=paste(\"shared/abarenblitt/GEDI_global_PA_v2/WDPA_gedi_L4A_tiles/\",sep=\"\"))\n",
    "    all_gedil4_f <- sapply(results4$Contents, function(x) {x$Key})\n",
    "    pattern4=paste(\".gpkg\",sep=\"\")\n",
    "    all_gedil4_f <- grep(pattern4, all_gedil4_f, value=TRUE)\n",
    "    all_gedil4_f <- basename(all_gedil4_f)[4:5] #Currently specifying working files\n",
    "  \n",
    "    # Initialize an empty list to store results\n",
    "    results_list <- list()\n",
    "    iso_matched_gedi_df <- NULL # Initialize before loop\n",
    "\n",
    "            # Iterate over the sequence of indices for your files\n",
    "    for (this_csvid in seq_along(all_gedil2_f)) {\n",
    "                cat(\"Reading in no. \", this_csvid, \"csv of \", length(all_gedil2_f), \"csvs for iso3\", iso3, \"\\n\")\n",
    "                \n",
    "                # Read GEDI L4A data\n",
    "                gedil4_f_path <- paste(gedipath, \"WDPA_gedi_L4A_tiles/\", all_gedil4_f[this_csvid], sep = \"\")\n",
    "                gedil4_f <- as.data.frame(st_read(gedil4_f_path))\n",
    "                \n",
    "                # Read GEDI L2A data\n",
    "                gedil2_f_path <- paste(gedipath, \"WDPA_gedi_L2A_tiles/\", all_gedil2_f[this_csvid], sep = \"\")\n",
    "                gedil2_f <- as.data.frame(st_read(gedil2_f_path))\n",
    "            \n",
    "                # Check if GEDI L4A data is empty\n",
    "                if (nrow(gedil4_f) < 1) {\n",
    "                    cat(\"Error: No data for GEDI L4A\\n\")\n",
    "                    gedi_l24 <- gedil2_f\n",
    "                    gedi_l24$agbd <- NA\n",
    "                    gedi_l24$agbd_se <- NA\n",
    "                    gedi_l24$agbd_t <- NA\n",
    "                    gedi_l24$agbd_t_se <- NA\n",
    "                } else {\n",
    "                    # Select relevant columns from GEDI L4A\n",
    "                    gedi_l4_sub <- gedil4_f %>%\n",
    "                        dplyr::select(shot_number, agbd, agbd_se, agbd_t, agbd_t_se)\n",
    "                    \n",
    "                    # Join with GEDI L2A data\n",
    "                    gedi_l24 <- inner_join(gedil2_f, gedi_l4_sub, by = \"shot_number\")\n",
    "                }\n",
    "            \n",
    "                print(dim(gedi_l24))\n",
    "            \n",
    "                # Initialize empty spatial object for the current iteration\n",
    "                gedi_l24_sp <- NULL\n",
    "            \n",
    "                # Convert to spatial points data frame if there is data\n",
    "                if (nrow(gedi_l24) > 0) {\n",
    "                    gedi_l24_sp <- SpatialPointsDataFrame(\n",
    "                        coords = gedi_l24[, c(\"lon_lowestmode\", \"lat_lowestmode\")],\n",
    "                        data = gedi_l24,\n",
    "                        proj4string = CRS(\"+init=epsg:4326\")\n",
    "                    ) %>% spTransform(CRS(\"+init=epsg:6933\"))\n",
    "                matched_gedi <- terra::extract(mras,vect(gedi_l24_sp), df=TRUE)\n",
    "                matched_gedi_metrics <- cbind(matched_gedi,gedi_l24_sp@data)\n",
    "                matched_gedi_metrics_filtered <- matched_gedi_metrics %>% dplyr::filter(!is.na(status)) %>% \n",
    "                convertFactor(matched0 = matched,exgedi = .) \n",
    "\n",
    "            iso_matched_gedi_df <- rbind(matched_gedi_metrics_filtered,iso_matched_gedi_df)\n",
    "            print(dim(iso_matched_gedi_df))\n",
    "         }\n",
    "        \n",
    "        # Store results in a list\n",
    "        results_list[[this_csvid]] <- iso_matched_gedi_df\n",
    "    }\n",
    "    \n",
    "    # Combine all results\n",
    "    if (!is.null(iso_matched_gedi_df)) {\n",
    "        iso_matched_gedi_df <- do.call(rbind, results_list)\n",
    "    }\n",
    "    \n",
    "    cat(\"Done GEDI processing\\n\")\n",
    "    return(iso_matched_gedi_df)\n",
    "}"
   ]
  },
  {
   "cell_type": "code",
   "execution_count": 147,
   "id": "ed3337c7-65cc-4299-8c9e-893bd5753146",
   "metadata": {},
   "outputs": [
    {
     "name": "stdout",
     "output_type": "stream",
     "text": [
      "Readng in no.  1 csv of  10 csvs for iso3 GNB \n",
      "Reading layer `tile_num_29418_L4A' from data source \n",
      "  `/vsis3/maap-ops-workspace/shared/abarenblitt/GEDI_global_PA_v2/WDPA_gedi_L4A_tiles/tile_num_29418_L4A.gpkg' \n",
      "  using driver `GPKG'\n",
      "Integer64 values larger than 9.0072e+15 lost significance after conversion to double;\n",
      "use argument int64_as_string = TRUE to import them lossless, as character\n",
      "Simple feature collection with 173700 features and 11 fields\n",
      "Geometry type: POINT\n",
      "Dimension:     XY\n",
      "Bounding box:  xmin: -16.79044 ymin: 12.00004 xmax: -16 ymax: 12.99999\n",
      "Geodetic CRS:  WGS 84\n",
      "Reading layer `tile_num_29418_L2A' from data source \n",
      "  `/vsis3/maap-ops-workspace/shared/abarenblitt/GEDI_global_PA_v2/WDPA_gedi_L2A_tiles/tile_num_29418_L2A.gpkg' \n",
      "  using driver `GPKG'\n",
      "Integer64 values larger than 9.0072e+15 lost significance after conversion to double;\n",
      "use argument int64_as_string = TRUE to import them lossless, as character\n",
      "Simple feature collection with 846905 features and 17 fields\n",
      "Geometry type: POINT\n",
      "Dimension:     XY\n",
      "Bounding box:  xmin: -17 ymin: 12 xmax: -16 ymax: 13\n",
      "Geodetic CRS:  WGS 84\n",
      "[1] 2738544      22\n"
     ]
    }
   ],
   "source": [
    "ex_out <- for (this_csvid in seq_along(length(all_gedil2_f))) {\n",
    "        ##add the GEDI l4a model prediction for AGB here :\n",
    "        cat(\"Readng in no. \", this_csvid,\"csv of \", length(all_gedil2_f),\"csvs for iso3\",iso3,\"\\n\")\n",
    "\n",
    "    # for (this_gedi4 in all_gedil4_f[this_csvid]){\n",
    "            gedil4_f <- as.data.frame(st_read(paste(gedipath,\"WDPA_gedi_L4A_tiles/\",all_gedil4_f[this_csvid],sep=\"\")))\n",
    "    # }\n",
    "    # for (this_gedi2 in all_gedil2_f[this_csvid]){\n",
    "            gedil2_f <- as.data.frame(st_read(paste(gedipath,\"WDPA_gedi_L2A_tiles/\",all_gedil2_f[this_csvid],sep=\"\")))\n",
    "    # }\n",
    "            if (nrow(gedil4_f) < 1){   #is.na(gedi_l4) || \n",
    "              cat(\"error\")\n",
    "              gedi_l24 <- gedil2_f\n",
    "              gedi_l24$agbd <- NA\n",
    "              gedi_l24$agbd_se <- NA\n",
    "              gedi_l24$agbd_t <- NA\n",
    "              gedi_l24$agbd_t_se <- NA\n",
    "            } else {\n",
    "              gedi_l4_sub <- gedil4_f %>%\n",
    "                dplyr::select(shot_number, agbd, agbd_se, agbd_t, agbd_t_se)\n",
    "              gedi_l24 <- inner_join(gedil2_f, gedi_l4_sub, by=\"shot_number\")\n",
    "\n",
    "            }\n",
    "\n",
    "        print(dim(gedi_l24))\n",
    "        iso_matched_gedi_df <- data.frame()\n",
    "        if(nrow(gedi_l24)>0){\n",
    "            gedi_l24_sp <- gedi_l24 %>% \n",
    "                SpatialPointsDataFrame(coords=.[,c(\"lon_lowestmode\",\"lat_lowestmode\")],\n",
    "                                     proj4string=CRS(\"+init=epsg:4326\"), data=.) %>%spTransform(., CRS(\"+init=epsg:6933\"))\n",
    "        }\n",
    "        return(gedi_l24_sp)\n",
    "}"
   ]
  },
  {
   "cell_type": "code",
   "execution_count": 16,
   "id": "0cb1f3fe-b6a3-471e-b31e-01f5b74a412c",
   "metadata": {},
   "outputs": [
    {
     "name": "stdout",
     "output_type": "stream",
     "text": [
      "Reading in no.  1 csv of  3 csvs for iso3 GNB \n",
      "Reading layer `tile_num_29418_L4A' from data source \n",
      "  `/vsis3/maap-ops-workspace/shared/abarenblitt/GEDI_global_PA_v2/WDPA_gedi_L4A_tiles/tile_num_29418_L4A.gpkg' \n",
      "  using driver `GPKG'\n",
      "Integer64 values larger than 9.0072e+15 lost significance after conversion to double;\n",
      "use argument int64_as_string = TRUE to import them lossless, as character\n",
      "Simple feature collection with 173700 features and 11 fields\n",
      "Geometry type: POINT\n",
      "Dimension:     XY\n",
      "Bounding box:  xmin: -16.79044 ymin: 12.00004 xmax: -16 ymax: 12.99999\n",
      "Geodetic CRS:  WGS 84\n",
      "Reading layer `tile_num_29418_L2A' from data source \n",
      "  `/vsis3/maap-ops-workspace/shared/abarenblitt/GEDI_global_PA_v2/WDPA_gedi_L2A_tiles/tile_num_29418_L2A.gpkg' \n",
      "  using driver `GPKG'\n",
      "Integer64 values larger than 9.0072e+15 lost significance after conversion to double;\n",
      "use argument int64_as_string = TRUE to import them lossless, as character\n",
      "Simple feature collection with 846905 features and 17 fields\n",
      "Geometry type: POINT\n",
      "Dimension:     XY\n",
      "Bounding box:  xmin: -17 ymin: 12 xmax: -16 ymax: 13\n",
      "Geodetic CRS:  WGS 84\n",
      "[1] 2738544      22\n",
      "Reading in no.  2 csv of  3 csvs for iso3 GNB \n",
      "Reading layer `tile_num_29419_L4A' from data source \n",
      "  `/vsis3/maap-ops-workspace/shared/abarenblitt/GEDI_global_PA_v2/WDPA_gedi_L4A_tiles/tile_num_29419_L4A.gpkg' \n",
      "  using driver `GPKG'\n",
      "Integer64 values larger than 9.0072e+15 lost significance after conversion to double;\n",
      "use argument int64_as_string = TRUE to import them lossless, as character\n",
      "Simple feature collection with 39226 features and 11 fields\n",
      "Geometry type: POINT\n",
      "Dimension:     XY\n",
      "Bounding box:  xmin: -16.47767 ymin: 11.02345 xmax: -16.00001 ymax: 11.99999\n",
      "Geodetic CRS:  WGS 84\n",
      "Reading layer `tile_num_29419_L2A' from data source \n",
      "  `/vsis3/maap-ops-workspace/shared/abarenblitt/GEDI_global_PA_v2/WDPA_gedi_L2A_tiles/tile_num_29419_L2A.gpkg' \n",
      "  using driver `GPKG'\n",
      "Integer64 values larger than 9.0072e+15 lost significance after conversion to double;\n",
      "use argument int64_as_string = TRUE to import them lossless, as character\n",
      "Simple feature collection with 595807 features and 17 fields\n",
      "Geometry type: POINT\n",
      "Dimension:     XY\n",
      "Bounding box:  xmin: -17 ymin: 11.00001 xmax: -16 ymax: 12\n",
      "Geodetic CRS:  WGS 84\n",
      "[1] 724584     22\n",
      "Reading in no.  3 csv of  3 csvs for iso3 GNB \n",
      "Reading layer `tile_num_29598_L4A' from data source \n",
      "  `/vsis3/maap-ops-workspace/shared/abarenblitt/GEDI_global_PA_v2/WDPA_gedi_L4A_tiles/tile_num_29598_L4A.gpkg' \n",
      "  using driver `GPKG'\n",
      "Integer64 values larger than 9.0072e+15 lost significance after conversion to double;\n",
      "use argument int64_as_string = TRUE to import them lossless, as character\n",
      "Simple feature collection with 242019 features and 11 fields\n",
      "Geometry type: POINT\n",
      "Dimension:     XY\n",
      "Bounding box:  xmin: -16 ymin: 12 xmax: -15 ymax: 12.99999\n",
      "Geodetic CRS:  WGS 84\n",
      "Reading layer `tile_num_29598_L2A' from data source \n",
      "  `/vsis3/maap-ops-workspace/shared/abarenblitt/GEDI_global_PA_v2/WDPA_gedi_L2A_tiles/tile_num_29598_L2A.gpkg' \n",
      "  using driver `GPKG'\n",
      "Integer64 values larger than 9.0072e+15 lost significance after conversion to double;\n",
      "use argument int64_as_string = TRUE to import them lossless, as character\n",
      "Simple feature collection with 783118 features and 17 fields\n",
      "Geometry type: POINT\n",
      "Dimension:     XY\n",
      "Bounding box:  xmin: -16 ymin: 12 xmax: -15 ymax: 13\n",
      "Geodetic CRS:  WGS 84\n",
      "[1] 4249303      22\n"
     ]
    }
   ],
   "source": [
    "results_list <- list()\n",
    "\n",
    "# Iterate over the sequence of indices for your files\n",
    "for (this_csvid in seq_along(all_gedil2_f)) {\n",
    "    cat(\"Reading in no. \", this_csvid, \"csv of \", length(all_gedil2_f), \"csvs for iso3\", iso3, \"\\n\")\n",
    "    \n",
    "    # Read GEDI L4A data\n",
    "    gedil4_f_path <- paste(gedipath, \"WDPA_gedi_L4A_tiles/\", all_gedil4_f[this_csvid], sep = \"\")\n",
    "    gedil4_f <- as.data.frame(st_read(gedil4_f_path))\n",
    "    \n",
    "    # Read GEDI L2A data\n",
    "    gedil2_f_path <- paste(gedipath, \"WDPA_gedi_L2A_tiles/\", all_gedil2_f[this_csvid], sep = \"\")\n",
    "    gedil2_f <- as.data.frame(st_read(gedil2_f_path))\n",
    "\n",
    "    # Check if GEDI L4A data is empty\n",
    "    if (nrow(gedil4_f) < 1) {\n",
    "        cat(\"Error: No data for GEDI L4A\\n\")\n",
    "        gedi_l24 <- gedil4_f\n",
    "        gedi_l24$agbd <- NA\n",
    "        gedi_l24$agbd_se <- NA\n",
    "        gedi_l24$agbd_t <- NA\n",
    "        gedi_l24$agbd_t_se <- NA\n",
    "    } else {\n",
    "        # Select relevant columns from GEDI L4A\n",
    "        gedi_l4_sub <- gedil4_f %>%\n",
    "            dplyr::select(shot_number, agbd, agbd_se, agbd_t, agbd_t_se)\n",
    "        \n",
    "        # Join with GEDI L2A data\n",
    "        gedi_l24 <- inner_join(gedil2_f, gedi_l4_sub, by = \"shot_number\")\n",
    "    }\n",
    "\n",
    "    print(dim(gedi_l24))\n",
    "\n",
    "    # Initialize empty spatial object for the current iteration\n",
    "    gedi_l24_sp <- NULL\n",
    "\n",
    "    # Convert to spatial points data frame if there is data\n",
    "    if (nrow(gedi_l24) > 0) {\n",
    "        gedi_l24_sp <- SpatialPointsDataFrame(\n",
    "            coords = gedi_l24[, c(\"lon_lowestmode\", \"lat_lowestmode\")],\n",
    "            data = gedi_l24,\n",
    "            proj4string = CRS(\"+init=epsg:4326\")\n",
    "        ) %>% spTransform(CRS(\"+init=epsg:6933\"))\n",
    "    }\n",
    "    \n",
    "    # Store result in the list\n",
    "    results_list[[this_csvid]] <- gedi_l24_sp\n",
    "}"
   ]
  },
  {
   "cell_type": "code",
   "execution_count": 22,
   "id": "d8c06318-7475-4e66-a18d-1300e5e26f02",
   "metadata": {},
   "outputs": [],
   "source": [
    "single_result <- results_list[[2]]"
   ]
  },
  {
   "cell_type": "code",
   "execution_count": 23,
   "id": "0d96eb5a-8604-4c2a-8584-f9c09769cb72",
   "metadata": {},
   "outputs": [],
   "source": [
    "single_result_sf <- st_as_sf(single_result)"
   ]
  },
  {
   "cell_type": "code",
   "execution_count": 55,
   "id": "f11cccdd-7b27-4496-b0bd-c1e8ebbd25c0",
   "metadata": {},
   "outputs": [],
   "source": [
    "matched<-readRDS(\"~/output/WDPA_matching_results/GNB_wk24/GNB_pa_351088_matching_results_wk24.RDS\")"
   ]
  },
  {
   "cell_type": "code",
   "execution_count": 24,
   "id": "23c2e639-c4ac-479a-8f86-66f691c24f98",
   "metadata": {},
   "outputs": [
    {
     "data": {
      "image/png": "[encoded data removed]",
      "text/plain": [
       "plot without title"
      ]
     },
     "metadata": {
      "image/png": {
       "height": 420,
       "width": 420
      }
     },
     "output_type": "display_data"
    }
   ],
   "source": [
    "ggplot(data_sf) +\n",
    "  geom_sf(aes(color = status), size = 1) + \n",
    "  geom_sf(data = single_result_sf, color = \"black\", linetype = \"dashed\") +\n",
    "  theme_minimal() +\n",
    "  scale_color_manual(values = c(\"TRUE\" = \"purple\", \"FALSE\" = \"blue\"))+\n",
    "  labs(title = \"Spatial Points from CSV\",\n",
    "       x = \"Longitude\",\n",
    "       y = \"Latitude\",\n",
    "      color = \"Status\")"
   ]
  },
  {
   "cell_type": "code",
   "execution_count": 57,
   "id": "e63182e5-c463-444b-b23a-51e9e6ba5f0c",
   "metadata": {},
   "outputs": [
    {
     "data": {
      "text/html": [
       "<style>\n",
       ".list-inline {list-style: none; margin:0; padding: 0}\n",
       ".list-inline>li {display: inline-block}\n",
       ".list-inline>li:not(:last-child)::after {content: \"\\00b7\"; padding: 0 .5ex}\n",
       "</style>\n",
       "<ol class=list-inline><li>'tile_num_29599_L2A.gpkg'</li><li>'tile_num_29600_L2A.gpkg'</li></ol>\n"
      ],
      "text/latex": [
       "\\begin{enumerate*}\n",
       "\\item 'tile\\_num\\_29599\\_L2A.gpkg'\n",
       "\\item 'tile\\_num\\_29600\\_L2A.gpkg'\n",
       "\\end{enumerate*}\n"
      ],
      "text/markdown": [
       "1. 'tile_num_29599_L2A.gpkg'\n",
       "2. 'tile_num_29600_L2A.gpkg'\n",
       "\n",
       "\n"
      ],
      "text/plain": [
       "[1] \"tile_num_29599_L2A.gpkg\" \"tile_num_29600_L2A.gpkg\""
      ]
     },
     "metadata": {},
     "output_type": "display_data"
    }
   ],
   "source": [
    "all_gedil2_f"
   ]
  },
  {
   "cell_type": "code",
   "execution_count": 62,
   "id": "40aacf73-9ad3-4534-8dd6-b590c0b86a6d",
   "metadata": {},
   "outputs": [
    {
     "name": "stdout",
     "output_type": "stream",
     "text": [
      "Reading layer `tile_num_29599_L2A' from data source \n",
      "  `/projects/my-public-bucket/GEDI_global_PA_v2/WDPA_gedi_L2A_tiles/tile_num_29599_L2A.gpkg' \n",
      "  using driver `GPKG'\n",
      "Integer64 values larger than 9.0072e+15 lost significance after conversion to double;\n",
      "use argument int64_as_string = TRUE to import them lossless, as character\n",
      "Simple feature collection with 503976 features and 17 fields\n",
      "Geometry type: POINT\n",
      "Dimension:     XY\n",
      "Bounding box:  xmin: -16 ymin: 11.00001 xmax: -15 ymax: 12\n",
      "Geodetic CRS:  WGS 84\n"
     ]
    }
   ],
   "source": [
    "gediGrid<-st_read(\"~/my-public-bucket/GEDI_global_PA_v2/WDPA_gedi_L2A_tiles/tile_num_29599_L2A.gpkg\")"
   ]
  },
  {
   "cell_type": "code",
   "execution_count": 66,
   "id": "d241bc3e-e10e-4e55-924a-f77a6361b1fe",
   "metadata": {},
   "outputs": [
    {
     "name": "stdout",
     "output_type": "stream",
     "text": [
      "tibble [272 × 22] (S3: tbl_df/tbl/data.frame)\n",
      " $ lat              : num [1:272] 11.4 11.4 11.4 11.4 11.4 ...\n",
      " $ lon              : num [1:272] -15 -15.1 -15.1 -15 -15.1 ...\n",
      " $ UID              : int [1:272] 8 12 23 49 59 60 129 166 170 184 ...\n",
      " $ status           : logi [1:272] TRUE TRUE TRUE TRUE TRUE TRUE ...\n",
      " $ land_cover       : Factor w/ 5 levels \"l1_forest\",\"l2_grassland\",..: 4 4 4 4 4 4 4 4 4 4 ...\n",
      " $ wwfbiom          : Factor w/ 2 levels \"Tropical & Subtropical Grasslands, Savannas & Shrublands\",..: 2 2 2 2 2 2 2 2 2 2 ...\n",
      " $ wwfecoreg        : Factor w/ 2 levels \"Guinean forest-savanna mosaic\",..: 2 2 2 2 2 2 2 2 2 2 ...\n",
      " $ elevation        : num [1:272] 8 5 5 21 30 13 7 11 5 7 ...\n",
      " $ slope            : num [1:272] 0.363 0.196 0.196 0.603 0.348 ...\n",
      " $ mean_temp        : num [1:272] 27.7 27.7 27.7 27.7 27.7 ...\n",
      " $ max_temp         : num [1:272] 37.8 37.8 37.8 37.8 37.8 ...\n",
      " $ min_temp         : num [1:272] 16.9 17 17 17 17 ...\n",
      " $ prec             : num [1:272] 7754 7710 7710 7710 7807 ...\n",
      " $ d2road           : num [1:272] 0.05 0.0507 0.0507 0.03 0.0167 ...\n",
      " $ d2city           : num [1:272] 0.722 0.702 0.702 0.726 0.731 ...\n",
      " $ popden           : num [1:272] 20.9 20.9 20.9 20.9 20.9 ...\n",
      " $ tt2city          : num [1:272] 462 549 549 423 387 ...\n",
      " $ popcnt           : num [1:272] 17.6 17.6 17.6 17.6 17.6 ...\n",
      " $ propensity_score : num [1:272] 0.593 0.623 0.623 0.569 0.571 ...\n",
      " $ propensity_scoreA: Named num [1:272] 1.06 1.1 1.1 1.09 1.07 ...\n",
      "  ..- attr(*, \"names\")= chr [1:272] \"2\" \"3\" \"6\" \"12\" ...\n",
      " $ matched          : Factor w/ 70 levels \"l4_wetlands.Mangroves.Guinean mangroves.1\",..: 1 12 23 34 45 56 67 68 69 2 ...\n",
      "  ..- attr(*, \"names\")= chr [1:272] \"2\" \"3\" \"6\" \"12\" ...\n",
      " $ pa_id            : num [1:272] 351088 351088 351088 351088 351088 ...\n"
     ]
    }
   ],
   "source": [
    "str(matched)"
   ]
  },
  {
   "cell_type": "code",
   "execution_count": 133,
   "id": "5a78ed85-84ee-4a0e-924d-1bcf37f80168",
   "metadata": {},
   "outputs": [
    {
     "name": "stdout",
     "output_type": "stream",
     "text": [
      "S4 class 'SpatVector' [package \"terra\"]\n"
     ]
    }
   ],
   "source": [
    "str(vect(gedi_l24_sp))"
   ]
  },
  {
   "cell_type": "code",
   "execution_count": 47,
   "id": "fe02453f-77c3-49d9-8e04-51b1fd7c1870",
   "metadata": {},
   "outputs": [
    {
     "data": {
      "text/html": [
       "<table class=\"dataframe\">\n",
       "<caption>A data.frame: 0 × 31</caption>\n",
       "<thead>\n",
       "\t<tr><th scope=col>ID</th><th scope=col>status</th><th scope=col>pa_id</th><th scope=col>wwfbiom</th><th scope=col>wwfecoreg</th><th scope=col>UID</th><th scope=col>pft</th><th scope=col>region</th><th scope=col>filename</th><th scope=col>rh70</th><th scope=col>⋯</th><th scope=col>lat_lowestmode</th><th scope=col>rh50</th><th scope=col>shot_number</th><th scope=col>rh60</th><th scope=col>agbd</th><th scope=col>agbd_se</th><th scope=col>agbd_t</th><th scope=col>agbd_t_se</th><th scope=col>geometry</th><th scope=col>stratum</th></tr>\n",
       "\t<tr><th scope=col>&lt;dbl&gt;</th><th scope=col>&lt;dbl&gt;</th><th scope=col>&lt;dbl&gt;</th><th scope=col>&lt;fct&gt;</th><th scope=col>&lt;fct&gt;</th><th scope=col>&lt;dbl&gt;</th><th scope=col>&lt;fct&gt;</th><th scope=col>&lt;fct&gt;</th><th scope=col>&lt;chr&gt;</th><th scope=col>&lt;dbl&gt;</th><th scope=col>⋯</th><th scope=col>&lt;dbl&gt;</th><th scope=col>&lt;dbl&gt;</th><th scope=col>&lt;dbl&gt;</th><th scope=col>&lt;dbl&gt;</th><th scope=col>&lt;dbl&gt;</th><th scope=col>&lt;dbl&gt;</th><th scope=col>&lt;dbl&gt;</th><th scope=col>&lt;dbl&gt;</th><th scope=col>&lt;GEOMETRY [°]&gt;</th><th scope=col>&lt;chr&gt;</th></tr>\n",
       "</thead>\n",
       "<tbody>\n",
       "</tbody>\n",
       "</table>\n"
      ],
      "text/latex": [
       "A data.frame: 0 × 31\n",
       "\\begin{tabular}{lllllllllllllllllllll}\n",
       " ID & status & pa\\_id & wwfbiom & wwfecoreg & UID & pft & region & filename & rh70 & ⋯ & lat\\_lowestmode & rh50 & shot\\_number & rh60 & agbd & agbd\\_se & agbd\\_t & agbd\\_t\\_se & geometry & stratum\\\\\n",
       " <dbl> & <dbl> & <dbl> & <fct> & <fct> & <dbl> & <fct> & <fct> & <chr> & <dbl> & ⋯ & <dbl> & <dbl> & <dbl> & <dbl> & <dbl> & <dbl> & <dbl> & <dbl> & <GEOMETRY {[}°{]}> & <chr>\\\\\n",
       "\\hline\n",
       "\\end{tabular}\n"
      ],
      "text/markdown": [
       "\n",
       "A data.frame: 0 × 31\n",
       "\n",
       "| ID &lt;dbl&gt; | status &lt;dbl&gt; | pa_id &lt;dbl&gt; | wwfbiom &lt;fct&gt; | wwfecoreg &lt;fct&gt; | UID &lt;dbl&gt; | pft &lt;fct&gt; | region &lt;fct&gt; | filename &lt;chr&gt; | rh70 &lt;dbl&gt; | ⋯ ⋯ | lat_lowestmode &lt;dbl&gt; | rh50 &lt;dbl&gt; | shot_number &lt;dbl&gt; | rh60 &lt;dbl&gt; | agbd &lt;dbl&gt; | agbd_se &lt;dbl&gt; | agbd_t &lt;dbl&gt; | agbd_t_se &lt;dbl&gt; | geometry &lt;GEOMETRY [°]&gt; | stratum &lt;chr&gt; |\n",
       "|---|---|---|---|---|---|---|---|---|---|---|---|---|---|---|---|---|---|---|---|---|\n",
       "\n"
      ],
      "text/plain": [
       "     ID status pa_id wwfbiom wwfecoreg UID pft region filename rh70 ⋯\n",
       "     lat_lowestmode rh50 shot_number rh60 agbd agbd_se agbd_t agbd_t_se\n",
       "     geometry stratum"
      ]
     },
     "metadata": {},
     "output_type": "display_data"
    }
   ],
   "source": []
  },
  {
   "cell_type": "code",
   "execution_count": 51,
   "id": "2b25c83d-d91c-4dd6-869e-2f122e6d752f",
   "metadata": {},
   "outputs": [
    {
     "ename": "ERROR",
     "evalue": "Error in st_as_sf(gedi_l24_sp): object 'gedi_l24_sp' not found\n",
     "output_type": "error",
     "traceback": [
      "Error in st_as_sf(gedi_l24_sp): object 'gedi_l24_sp' not found\nTraceback:\n",
      "1. st_as_sf(gedi_l24_sp)"
     ]
    }
   ],
   "source": [
    "test<-st_as_sf(matched, coords = c(\"lon\", \"lat\"), crs = 4326)\n",
    "res <- st_as_sf(gedi_l24_sp)\n",
    "ggplot(test) +\n",
    "  geom_sf(aes(color = status), size = 1) + \n",
    "  geom_sf(data = res, color = \"black\", linetype = \"dashed\") +\n",
    "  theme_minimal() +\n",
    "  scale_color_manual(values = c(\"TRUE\" = \"purple\", \"FALSE\" = \"blue\"))+\n",
    "  labs(title = \"Spatial Points from CSV\",\n",
    "       x = \"Longitude\",\n",
    "       y = \"Latitude\",\n",
    "      color = \"Status\")"
   ]
  },
  {
   "cell_type": "code",
   "execution_count": 28,
   "id": "7590af00-dfee-4f6d-8cf3-a61380d3223b",
   "metadata": {},
   "outputs": [
    {
     "name": "stdout",
     "output_type": "stream",
     "text": [
      "Converting the matched csv to a raster stack for extraction\n"
     ]
    }
   ],
   "source": [
    " mras  <- tryCatch(matched2ras(matched),\n",
    "                      error=function(cond){\n",
    "                        message(cond)\n",
    "                        cat(\"Matched result is likely null for country\", iso3,\"pa\", id_pa, \"dimension of the match is\", dim(matched),\"\\n\")\n",
    "                        # writeLines(\"Matched results is likely null for country\", paste(f.path,\"WDPA_log/\",iso3,\"_log_matching.txt\", sep=\"\"))\n",
    "                        return(NULL)})"
   ]
  },
  {
   "cell_type": "code",
   "execution_count": 50,
   "id": "0b1b5c9b-c6e2-4f15-a851-3d10a87c6f7e",
   "metadata": {},
   "outputs": [
    {
     "name": "stdout",
     "output_type": "stream",
     "text": [
      "\n",
      "  0   1 \n",
      "568 568 \n"
     ]
    }
   ],
   "source": [
    "print(table(mras$status[]))"
   ]
  },
  {
   "cell_type": "code",
   "execution_count": 71,
   "id": "8d7a7897-599b-41c5-9474-1b750efb82ff",
   "metadata": {},
   "outputs": [
    {
     "name": "stdout",
     "output_type": "stream",
     "text": [
      "Reading in no.  1 csv of  2 csvs for iso3 GNB \n",
      "Reading layer `tile_num_29599_L4A' from data source \n",
      "  `/vsis3/maap-ops-workspace/shared/abarenblitt/GEDI_global_PA_v2/WDPA_gedi_L4A_tiles/tile_num_29599_L4A.gpkg' \n",
      "  using driver `GPKG'\n",
      "Integer64 values larger than 9.0072e+15 lost significance after conversion to double;\n",
      "use argument int64_as_string = TRUE to import them lossless, as character\n",
      "Simple feature collection with 126259 features and 11 fields\n",
      "Geometry type: POINT\n",
      "Dimension:     XY\n",
      "Bounding box:  xmin: -15.99999 ymin: 11.00002 xmax: -15 ymax: 12\n",
      "Geodetic CRS:  WGS 84\n",
      "Reading layer `tile_num_29599_L2A' from data source \n",
      "  `/vsis3/maap-ops-workspace/shared/abarenblitt/GEDI_global_PA_v2/WDPA_gedi_L2A_tiles/tile_num_29599_L2A.gpkg' \n",
      "  using driver `GPKG'\n",
      "Integer64 values larger than 9.0072e+15 lost significance after conversion to double;\n",
      "use argument int64_as_string = TRUE to import them lossless, as character\n",
      "Simple feature collection with 503976 features and 17 fields\n",
      "Geometry type: POINT\n",
      "Dimension:     XY\n",
      "Bounding box:  xmin: -16 ymin: 11.00001 xmax: -15 ymax: 12\n",
      "Geodetic CRS:  WGS 84\n",
      "[1] 2133849      22\n",
      "[1]  0 31\n",
      "Reading in no.  2 csv of  2 csvs for iso3 GNB \n",
      "Reading layer `tile_num_29600_L4A' from data source \n",
      "  `/vsis3/maap-ops-workspace/shared/abarenblitt/GEDI_global_PA_v2/WDPA_gedi_L4A_tiles/tile_num_29600_L4A.gpkg' \n",
      "  using driver `GPKG'\n",
      "Integer64 values larger than 9.0072e+15 lost significance after conversion to double;\n",
      "use argument int64_as_string = TRUE to import them lossless, as character\n",
      "Simple feature collection with 4335 features and 11 fields\n",
      "Geometry type: POINT\n",
      "Dimension:     XY\n",
      "Bounding box:  xmin: -15.72844 ymin: 10.77799 xmax: -15.00005 ymax: 10.99997\n",
      "Geodetic CRS:  WGS 84\n",
      "Reading layer `tile_num_29600_L2A' from data source \n",
      "  `/vsis3/maap-ops-workspace/shared/abarenblitt/GEDI_global_PA_v2/WDPA_gedi_L2A_tiles/tile_num_29600_L2A.gpkg' \n",
      "  using driver `GPKG'\n",
      "Integer64 values larger than 9.0072e+15 lost significance after conversion to double;\n",
      "use argument int64_as_string = TRUE to import them lossless, as character\n",
      "Simple feature collection with 488861 features and 17 fields\n",
      "Geometry type: POINT\n",
      "Dimension:     XY\n",
      "Bounding box:  xmin: -16 ymin: 10 xmax: -15 ymax: 11\n",
      "Geodetic CRS:  WGS 84\n",
      "[1] 58206    22\n",
      "[1]  0 31\n",
      "Done GEDI processing\n"
     ]
    }
   ],
   "source": [
    "iso_matched_gedi<- extract_gedi(matched=matched, mras = mras)"
   ]
  },
  {
   "cell_type": "code",
   "execution_count": 72,
   "id": "4131ea5f-3b2c-4b8a-91b1-905a21e0cba7",
   "metadata": {},
   "outputs": [
    {
     "data": {
      "text/html": [
       "<table class=\"dataframe\">\n",
       "<caption>A data.frame: 0 × 31</caption>\n",
       "<thead>\n",
       "\t<tr><th scope=col>ID</th><th scope=col>status</th><th scope=col>pa_id</th><th scope=col>wwfbiom</th><th scope=col>wwfecoreg</th><th scope=col>UID</th><th scope=col>pft</th><th scope=col>region</th><th scope=col>filename</th><th scope=col>rh30</th><th scope=col>⋯</th><th scope=col>rh20</th><th scope=col>rh40</th><th scope=col>rh50</th><th scope=col>lat_lowestmode</th><th scope=col>agbd</th><th scope=col>agbd_se</th><th scope=col>agbd_t</th><th scope=col>agbd_t_se</th><th scope=col>geometry</th><th scope=col>stratum</th></tr>\n",
       "\t<tr><th scope=col>&lt;dbl&gt;</th><th scope=col>&lt;dbl&gt;</th><th scope=col>&lt;dbl&gt;</th><th scope=col>&lt;fct&gt;</th><th scope=col>&lt;fct&gt;</th><th scope=col>&lt;dbl&gt;</th><th scope=col>&lt;fct&gt;</th><th scope=col>&lt;fct&gt;</th><th scope=col>&lt;chr&gt;</th><th scope=col>&lt;dbl&gt;</th><th scope=col>⋯</th><th scope=col>&lt;dbl&gt;</th><th scope=col>&lt;dbl&gt;</th><th scope=col>&lt;dbl&gt;</th><th scope=col>&lt;dbl&gt;</th><th scope=col>&lt;dbl&gt;</th><th scope=col>&lt;dbl&gt;</th><th scope=col>&lt;dbl&gt;</th><th scope=col>&lt;dbl&gt;</th><th scope=col>&lt;GEOMETRY [°]&gt;</th><th scope=col>&lt;chr&gt;</th></tr>\n",
       "</thead>\n",
       "<tbody>\n",
       "</tbody>\n",
       "</table>\n"
      ],
      "text/latex": [
       "A data.frame: 0 × 31\n",
       "\\begin{tabular}{lllllllllllllllllllll}\n",
       " ID & status & pa\\_id & wwfbiom & wwfecoreg & UID & pft & region & filename & rh30 & ⋯ & rh20 & rh40 & rh50 & lat\\_lowestmode & agbd & agbd\\_se & agbd\\_t & agbd\\_t\\_se & geometry & stratum\\\\\n",
       " <dbl> & <dbl> & <dbl> & <fct> & <fct> & <dbl> & <fct> & <fct> & <chr> & <dbl> & ⋯ & <dbl> & <dbl> & <dbl> & <dbl> & <dbl> & <dbl> & <dbl> & <dbl> & <GEOMETRY {[}°{]}> & <chr>\\\\\n",
       "\\hline\n",
       "\\end{tabular}\n"
      ],
      "text/markdown": [
       "\n",
       "A data.frame: 0 × 31\n",
       "\n",
       "| ID &lt;dbl&gt; | status &lt;dbl&gt; | pa_id &lt;dbl&gt; | wwfbiom &lt;fct&gt; | wwfecoreg &lt;fct&gt; | UID &lt;dbl&gt; | pft &lt;fct&gt; | region &lt;fct&gt; | filename &lt;chr&gt; | rh30 &lt;dbl&gt; | ⋯ ⋯ | rh20 &lt;dbl&gt; | rh40 &lt;dbl&gt; | rh50 &lt;dbl&gt; | lat_lowestmode &lt;dbl&gt; | agbd &lt;dbl&gt; | agbd_se &lt;dbl&gt; | agbd_t &lt;dbl&gt; | agbd_t_se &lt;dbl&gt; | geometry &lt;GEOMETRY [°]&gt; | stratum &lt;chr&gt; |\n",
       "|---|---|---|---|---|---|---|---|---|---|---|---|---|---|---|---|---|---|---|---|---|\n",
       "\n"
      ],
      "text/plain": [
       "     ID status pa_id wwfbiom wwfecoreg UID pft region filename rh30 ⋯ rh20 rh40\n",
       "     rh50 lat_lowestmode agbd agbd_se agbd_t agbd_t_se geometry stratum"
      ]
     },
     "metadata": {},
     "output_type": "display_data"
    }
   ],
   "source": [
    "iso_matched_gedi"
   ]
  },
  {
   "cell_type": "code",
   "execution_count": 27,
   "id": "ffa99d25-28bd-42f0-bb83-70d0dfa497a9",
   "metadata": {},
   "outputs": [
    {
     "name": "stdout",
     "output_type": "stream",
     "text": [
      "Extracting for no.  1 pa out of 20 \n",
      "Converting the matched csv to a raster stack for extraction\n",
      "\n",
      " 0  1 \n",
      "25 25 \n",
      "Readng in no.  1 csv of  7 csvs for iso3 GNB \n",
      "Reading layer `tile_num_29418_L4A' from data source \n",
      "  `/vsis3/maap-ops-workspace/shared/abarenblitt/GEDI_global_PA_v2/WDPA_gedi_L4A_tiles/tile_num_29418_L4A.gpkg' \n",
      "  using driver `GPKG'\n",
      "Integer64 values larger than 9.0072e+15 lost significance after conversion to double;\n",
      "use argument int64_as_string = TRUE to import them lossless, as character\n",
      "Simple feature collection with 173700 features and 11 fields\n",
      "Geometry type: POINT\n",
      "Dimension:     XY\n",
      "Bounding box:  xmin: -16.79044 ymin: 12.00004 xmax: -16 ymax: 12.99999\n",
      "Geodetic CRS:  WGS 84\n",
      "Reading layer `tile_num_29418_L2A' from data source \n",
      "  `/vsis3/maap-ops-workspace/shared/abarenblitt/GEDI_global_PA_v2/WDPA_gedi_L2A_tiles/tile_num_29418_L2A.gpkg' \n",
      "  using driver `GPKG'\n",
      "Integer64 values larger than 9.0072e+15 lost significance after conversion to double;\n",
      "use argument int64_as_string = TRUE to import them lossless, as character\n",
      "Simple feature collection with 846905 features and 17 fields\n",
      "Geometry type: POINT\n",
      "Dimension:     XY\n",
      "Bounding box:  xmin: -17 ymin: 12 xmax: -16 ymax: 13\n",
      "Geodetic CRS:  WGS 84\n",
      "[1] 2738544      22\n",
      "[1]  0 31\n",
      "3.449465 for extracting all PAs in GNB \n",
      "Done GEDI for no.  1 pa out of 20 \n",
      "[1] \"output df 0\"  \"output df 12\"\n",
      "11610 in GNB results is written to dir\n"
     ]
    }
   ],
   "source": [
    "#### THIS LOOP DOES NOT CONTINUE LOOPING ####\n",
    "\n",
    "for(this_rds in matched_PAs){\n",
    "   \n",
    "    cat(\"Extracting for no. \", match(this_rds,matched_PAs),\"pa out of\", length(matched_PAs),\"\\n\")\n",
    "   \n",
    "    id_pa <- basename(this_rds)%>%readr::parse_number() %>% unique()\n",
    "    \n",
    "    matched <- readRDS(paste(f.path3,iso3,\"_wk\",gediwk,\"/\",iso3,\"_pa_\",id_pa,\"_matching_results_wk24.RDS\", sep=\"\"))\n",
    "    \n",
    "    if (is.null(matched)==TRUE  | nrow(matched)==0) {\n",
    "        cat(\"Matched result is null for PA\", id_pa, \"quitting...\\n\")\n",
    "        next  # Skip to the next iteration\n",
    "    } else if (!is.null(matched)==TRUE){\n",
    "    mras  <- tryCatch(matched2ras(matched),\n",
    "                      error=function(cond){\n",
    "                        message(cond)\n",
    "                        cat(\"Matched result is likely null for country\", iso3,\"pa\", id_pa, \"dimension of the match is\", dim(matched),\"\\n\")\n",
    "                        # writeLines(\"Matched results is likely null for country\", paste(f.path,\"WDPA_log/\",iso3,\"_log_matching.txt\", sep=\"\"))\n",
    "                        return(NULL)}) #convert the macthed df to a raster stack \n",
    "    print(table(mras$status[]))\n",
    "    if(table(mras$status[])[2]==0 | table(mras$status[])[1]==0 | is.null(mras)){\n",
    "      cat(\"Rasterized results unbalanced for PA\", id_pa, \"quitting...\\n\")\n",
    "      next  # Skip to the next iteration\n",
    "    } else {\n",
    "        \n",
    "      startTime <- Sys.time()\n",
    "        \n",
    "      iso_matched_gedi<- extract_gedi(matched=matched, mras = mras)#}  #run filtered csvs on mras for extarction\n",
    "        \n",
    "        if (is.null(iso_matched_gedi)) {\n",
    "        cat(\"Matched result is null for PA\", id_pa, \"quitting...\\n\")\n",
    "        next  # Skip to the next iteration\n",
    "        }\n",
    "\n",
    "      tElapsed <- Sys.time()-startTime\n",
    "      cat(tElapsed, \"for extracting all PAs in\", iso3,\"\\n\")\n",
    "      cat(\"Done GEDI for no. \",grep(unique(matched$pa_id), matched_PAs),\"pa out of\", length(matched_PAs),\"\\n\")\n",
    "\n",
    "      iso_matched_gedi <-  iso_matched_gedi %>%\n",
    "            dplyr::select(\"pa_id\",\"status\",\n",
    "                      \"wwfbiom\",\"wwfecoreg\",\"shot_number\",\"lon_lowestmode\", \n",
    "                      \"lat_lowestmode\", \"lon_lowestmode\", \n",
    "                      \"lat_lowestmode\",\"rh25\", \"rh50\", \"rh75\",\"rh90\", \"rh98\")  #write to individual country folder\n",
    "        \n",
    "      if (length(unique(iso_matched_gedi$wwfbiom)) >1){\n",
    "        pabiome <- iso_matched_gedi$wwfbiom %>% unique() %>% gsub('\\\\b(\\\\pL)\\\\pL{2,}|.','\\\\U\\\\1',.,perl = TRUE)%>% str_c( collapse = \"+\")\n",
    "      } else if (length(unique(iso_matched_gedi$wwfbiom))==1){\n",
    "        pabiome <- iso_matched_gedi$wwfbiom %>% unique() %>% gsub('\\\\b(\\\\pL)\\\\pL{2,}|.','\\\\U\\\\1',.,perl = TRUE)\n",
    "      } else {\n",
    "        pabiome <- iso_matched_gedi$wwfbiom %>% unique()\n",
    "      }\n",
    "\n",
    "      continent <- unique(iso_matched_gedi$region) %>% getmode()\n",
    "      print(paste('output df',dim(iso_matched_gedi)))\n",
    "\n",
    "      dir.create(file.path(paste(f.path3,\"WDPA_GEDI_extract/\",sep=\"\")),recursive=TRUE)\n",
    "      saveRDS(iso_matched_gedi, file=paste(f.path3,\"WDPA_GEDI_extract/\",iso3,\"_pa_\", id_pa,\"_gedi_wk_\",gediwk,\"_conti_\",\"biome_\",pabiome,\".RDS\", sep=\"\"))\n",
    "      write.csv(iso_matched_gedi, file=paste(f.path3,\"WDPA_GEDI_extract/\",iso3,\"_pa_\", id_pa,\"_iso_matched_gedi_sub_wk_\",gediwk,\".csv\", sep=\"\"))\n",
    "      cat(id_pa,\"in\",iso3,\"results is written to dir\\n\")\n",
    "    }\n",
    "    }\n",
    "    \n",
    "    return(NULL)\n",
    "}\n"
   ]
  },
  {
   "cell_type": "code",
   "execution_count": 1,
   "id": "be166ed1-b0c7-4264-9144-d8655eeab5be",
   "metadata": {},
   "outputs": [
    {
     "ename": "ERROR",
     "evalue": "Error in print(matched_PAs): object 'matched_PAs' not found\n",
     "output_type": "error",
     "traceback": [
      "Error in print(matched_PAs): object 'matched_PAs' not found\nTraceback:\n",
      "1. print(matched_PAs)"
     ]
    }
   ],
   "source": [
    "print(matched_PAs)"
   ]
  },
  {
   "cell_type": "code",
   "execution_count": null,
   "id": "05bc8fa4-6caa-492c-840e-c6c56658659a",
   "metadata": {},
   "outputs": [],
   "source": [
    "## Changed error catching and loop now works ##\n",
    "matched_PAs<-matched_PAs[8:20]\n",
    "\n",
    "for (this_rds in matched_PAs) {\n",
    "    \n",
    "    # Extract PA ID from the filename\n",
    "    id_pa <- basename(this_rds) %>% readr::parse_number() %>% unique()\n",
    "    \n",
    "    # Construct the path to read the RDS file\n",
    "    rds_path <- paste(f.path3, iso3, \"_wk\", gediwk, \"/\", iso3, \"_pa_\", id_pa, \"_matching_results_wk24.RDS\", sep = \"\")\n",
    "    \n",
    "    # Read the RDS file with error handling\n",
    "    matched <- tryCatch({\n",
    "        readRDS(rds_path)\n",
    "    }, error = function(e) {\n",
    "        cat(\"Error reading RDS file for PA\", id_pa, \":\", e$message, \"\\n\")\n",
    "        return(NULL)\n",
    "    })\n",
    "    \n",
    "    # Skip iteration if matched is NULL or has no rows\n",
    "    if (is.null(matched) || nrow(matched) == 0) {\n",
    "        cat(\"Matched result is null or empty for PA\", id_pa, \"quitting...\\n\")\n",
    "        next  # Skip to the next iteration\n",
    "    }\n",
    "    \n",
    "    # Convert matched data frame to raster stack with error handling\n",
    "    mras <- tryCatch({\n",
    "        matched2ras(matched)\n",
    "    }, error = function(e) {\n",
    "        cat(\"Error converting matched data to raster stack for PA\", id_pa, \":\", e$message, \"\\n\")\n",
    "        return(NULL)\n",
    "    })\n",
    "    \n",
    "    # Check if raster stack is valid\n",
    "    if (is.null(mras) || any(table(mras$status[]) == 0)) {\n",
    "        cat(\"Rasterized results unbalanced or null for PA\", id_pa, \"quitting...\\n\")\n",
    "        next  # Skip to the next iteration\n",
    "    }\n",
    "    \n",
    "    # Start timing for extraction\n",
    "    startTime <- Sys.time()\n",
    "    \n",
    "    # Extract GEDI data with error handling\n",
    "    iso_matched_gedi <- tryCatch({\n",
    "        extract_gedi(matched = matched, mras = mras)\n",
    "    }, error = function(e) {\n",
    "        cat(\"Error extracting GEDI data for PA\", id_pa, \":\", e$message, \"\\n\")\n",
    "        return(NULL)\n",
    "    })\n",
    "    \n",
    "    # Check if extraction results are valid\n",
    "    if (is.null(iso_matched_gedi)) {\n",
    "        cat(\"GEDI extraction result is null for PA\", id_pa, \"quitting...\\n\")\n",
    "        next  # Skip to the next iteration\n",
    "    }\n",
    "    \n",
    "    # Calculate elapsed time\n",
    "    tElapsed <- Sys.time() - startTime\n",
    "    cat(tElapsed, \"for extracting all PAs in\", iso3, \"\\n\")\n",
    "    cat(\"Done GEDI for PA\", match(this_rds, matched_PAs), \"out of\", length(matched_PAs), \"\\n\")\n",
    "    \n",
    "    # Process and select columns\n",
    "    iso_matched_gedi <- iso_matched_gedi %>%\n",
    "        dplyr::select(\"pa_id\", \"status\", \"wwfbiom\", \"wwfecoreg\", \"shot_number\", \"lon_lowestmode\",\n",
    "                      \"lat_lowestmode\", \"rh25\", \"rh50\", \"rh75\", \"rh90\", \"rh98\",\"UID\")\n",
    "    \n",
    "    # Determine biome name\n",
    "    if (length(unique(iso_matched_gedi$wwfbiom)) > 1) {\n",
    "        pabiome <- iso_matched_gedi$wwfbiom %>%\n",
    "            unique() %>%\n",
    "            gsub('\\\\b(\\\\pL)\\\\pL{2,}|.', '\\\\U\\\\1', ., perl = TRUE) %>%\n",
    "            str_c(collapse = \"+\")\n",
    "    } else if (length(unique(iso_matched_gedi$wwfbiom)) == 1) {\n",
    "        pabiome <- iso_matched_gedi$wwfbiom %>%\n",
    "            unique() %>%\n",
    "            gsub('\\\\b(\\\\pL)\\\\pL{2,}|.', '\\\\U\\\\1', ., perl = TRUE)\n",
    "    } else {\n",
    "        pabiome <- iso_matched_gedi$wwfbiom %>% unique()\n",
    "    }\n",
    "    \n",
    "    # Determine continent mode\n",
    "    continent <- unique(iso_matched_gedi$region) %>% getmode()\n",
    "    \n",
    "    # Print dimensions of output dataframe\n",
    "    cat('Output df dimensions:', dim(iso_matched_gedi), \"\\n\")\n",
    "    \n",
    "    # Create output directory if it does not exist\n",
    "    dir.create(file.path(f.path3, \"WDPA_GEDI_extract\"), recursive = TRUE, showWarnings = FALSE)\n",
    "    \n",
    "    # Save results to RDS and CSV files\n",
    "    saveRDS(iso_matched_gedi, file = paste(f.path3, \"WDPA_GEDI_extract/\", iso3, \"_pa_\", id_pa, \n",
    "                                           \"_gedi_wk_\", gediwk, \"_conti_\", \"biome_\", pabiome, \".RDS\", sep = \"\"))\n",
    "    write.csv(iso_matched_gedi, file = paste(f.path3, \"WDPA_GEDI_extract/\", iso3, \"_pa_\", id_pa, \n",
    "                                              \"_iso_matched_gedi_sub_wk_\", gediwk, \".csv\", sep = \"\"))\n",
    "    \n",
    "    cat(id_pa, \"in\", iso3, \"results are written to directory\\n\")\n",
    "}"
   ]
  },
  {
   "cell_type": "markdown",
   "id": "439084e1-6ca4-4282-ae40-23387a971f48",
   "metadata": {},
   "source": []
  }
 ],
 "metadata": {
  "kernelspec": {
   "display_name": "R",
   "language": "R",
   "name": "ir"
  },
  "language_info": {
   "codemirror_mode": "r",
   "file_extension": ".r",
   "mimetype": "text/x-r-source",
   "name": "R",
   "pygments_lexer": "r",
   "version": "4.2.3"
  }
 },
 "nbformat": 4,
 "nbformat_minor": 5
}
