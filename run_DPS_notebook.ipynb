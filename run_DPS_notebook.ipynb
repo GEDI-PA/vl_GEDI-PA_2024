{
 "cells": [
  {
   "cell_type": "markdown",
   "id": "ea52006a-f045-4acc-822f-05de4b3f0f17",
   "metadata": {},
   "source": [
    "## Run GEDI PA DPS Jobs"
   ]
  },
  {
   "cell_type": "code",
   "execution_count": null,
   "id": "ee6c7387-9a98-4a70-8442-cc1da0d2b282",
   "metadata": {},
   "outputs": [],
   "source": [
    "#register algorithm \n",
    "maap.register_algorithm_from_yaml_file(\"/projects/vl_GEDI-PA_2024/run_gedi_pa_setup.yml\").text\n",
    "\n"
   ]
  }
 ],
 "metadata": {
  "kernelspec": {
   "display_name": "R",
   "language": "R",
   "name": "ir"
  },
  "language_info": {
   "codemirror_mode": "r",
   "file_extension": ".r",
   "mimetype": "text/x-r-source",
   "name": "R",
   "pygments_lexer": "r",
   "version": "4.2.3"
  }
 },
 "nbformat": 4,
 "nbformat_minor": 5
}
