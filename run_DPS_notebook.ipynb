{
 "cells": [
  {
   "cell_type": "code",
   "execution_count": 20,
   "id": "175e69d7-b627-47a6-aa54-25a9cb91e9c5",
   "metadata": {
    "tags": []
   },
   "outputs": [],
   "source": [
    "from maap.maap import MAAP\n",
    "maap = MAAP(maap_host='api.maap-project.org')\n",
    "\n",
    "username = maap.profile.account_info()[\"username\"]\n",
    "assert username"
   ]
  },
  {
   "cell_type": "markdown",
   "id": "d9894110-6c87-4f17-bb7a-23840133ad93",
   "metadata": {},
   "source": [
    "## Run DPS Notebook"
   ]
  },
  {
   "cell_type": "code",
   "execution_count": 23,
   "id": "9fcaae29-f895-4b8b-8a3f-5bf87e3bd76e",
   "metadata": {
    "tags": []
   },
   "outputs": [
    {
     "data": {
      "text/plain": [
       "'{\"code\": 200, \"message\": {\"id\": \"91dfb3a4edff20c7049825101f015b67c8a05d3a\", \"short_id\": \"91dfb3a4\", \"created_at\": \"2024-07-30T17:28:34.000+00:00\", \"parent_ids\": [\"4efc9f7b533dfa31549466298c2619634bd47954\"], \"title\": \"Registering algorithm: run_gedi_pa_prepping\", \"message\": \"Registering algorithm: run_gedi_pa_prepping\", \"author_name\": \"root\", \"author_email\": \"root@845666954fdb\", \"authored_date\": \"2024-07-30T17:28:34.000+00:00\", \"committer_name\": \"root\", \"committer_email\": \"root@845666954fdb\", \"committed_date\": \"2024-07-30T17:28:34.000+00:00\", \"trailers\": {}, \"web_url\": \"https://repo.maap-project.org/root/register-job-hysds-v4/-/commit/91dfb3a4edff20c7049825101f015b67c8a05d3a\", \"stats\": {\"additions\": 1, \"deletions\": 1, \"total\": 2}, \"status\": \"created\", \"project_id\": 3, \"last_pipeline\": {\"id\": 14291, \"iid\": 1331, \"project_id\": 3, \"sha\": \"91dfb3a4edff20c7049825101f015b67c8a05d3a\", \"ref\": \"main\", \"status\": \"created\", \"source\": \"push\", \"created_at\": \"2024-07-30T17:28:35.925Z\", \"updated_at\": \"2024-07-30T17:28:35.925Z\", \"web_url\": \"https://repo.maap-project.org/root/register-job-hysds-v4/-/pipelines/14291\"}, \"job_web_url\": \"https://repo.maap-project.org/root/register-job-hysds-v4/-/jobs/14576\", \"job_log_url\": \"https://repo.maap-project.org/root/register-job-hysds-v4/-/jobs/14576/raw\"}}\\n'"
      ]
     },
     "execution_count": 23,
     "metadata": {},
     "output_type": "execute_result"
    }
   ],
   "source": [
    "#register algorithm \n",
    "#maap.register_algorithm_from_yaml_file(\"/projects/vl_GEDI-PA_2024/run_gedi_pa_setup.yml\").text\n",
    "\n",
    "maap.register_algorithm_from_yaml_file(\"/projects/GEDI_PA/vl_GEDI-PA_2024/run_gedi_pa_setup.yml\").text\n"
   ]
  },
  {
   "cell_type": "markdown",
   "id": "fa28f87d-ecdc-41c4-8e76-44d8ad1b4447",
   "metadata": {},
   "source": [
    "## Commit with Tag for running\n",
    "1) Add version name as a map_boreal_2022_v2 or whatever is appropriate - both to this notebook and algorithm config yaml\n",
    "\n",
    "2) follow git instructions (every time):\n",
    "git add changes\n",
    "git commit -m 'message'\n",
    "git tag -f boreal_agb_2024_v6\n",
    "\n",
    "git push\n",
    "git push origin -f boreal_agb_2024_v6\n",
    "\n",
    "\n",
    "3) if it looks weird check git log to make sure tag is at same place as origin and dps\n"
   ]
  },
  {
   "cell_type": "code",
   "execution_count": 28,
   "id": "2406234d-99e0-4fc3-93e2-7e7050c4774f",
   "metadata": {},
   "outputs": [
    {
     "name": "stdout",
     "output_type": "stream",
     "text": [
      "{'job_id': 'b7d11e2f-1478-4416-b555-0f32bc27f7a4', 'status': 'success', 'machine_type': None, 'architecture': None, 'machine_memory_size': None, 'directory_size': None, 'operating_system': None, 'job_start_time': None, 'job_end_time': None, 'job_duration_seconds': None, 'cpu_usage': None, 'cache_usage': None, 'mem_usage': None, 'max_mem_usage': None, 'swap_usage': None, 'read_io_stats': None, 'write_io_stats': None, 'sync_io_stats': None, 'async_io_stats': None, 'total_io_stats': None, 'error_details': None, 'response_code': 200, 'outputs': []}\n",
      "CPU times: user 7.17 ms, sys: 0 ns, total: 7.17 ms\n",
      "Wall time: 121 ms\n"
     ]
    }
   ],
   "source": [
    "%%time\n",
    "#submit_results_df_list = []\n",
    "#len_input_list = len(DPS_INPUT_TILE_NUM_LIST)\n",
    "iso_list= ['BRA'] #'SEN NIG LIB'\n",
    "\n",
    "ALGO_ID = \"run_gedi_pa_prepping\"\n",
    "USER = username\n",
    "WORKER_TYPE = 'maap-dps-worker-16gb' #RAM should be low enough for 16 gb\n",
    "IDENTIFIER = 'testJUL29'\n",
    "res = [] #List of job ids\n",
    "for iso in iso_list:\n",
    "    submit_result = maap.submitJob(\n",
    "        identifier=IDENTIFIER,\n",
    "        algo_id=ALGO_ID,\n",
    "        version='main',\n",
    "        username=username,\n",
    "        queue=WORKER_TYPE,\n",
    "        c=iso,\n",
    "    )\n",
    "\n",
    "    print(submit_result)\n",
    "    #Add code to batch check for failed jobs, make list, for each job check status\n",
    "\n"
   ]
  }
 ],
 "metadata": {
  "kernelspec": {
   "display_name": "Python 3 (ipykernel)",
   "language": "python",
   "name": "python3"
  },
  "language_info": {
   "codemirror_mode": {
    "name": "ipython",
    "version": 3
   },
   "file_extension": ".py",
   "mimetype": "text/x-python",
   "name": "python",
   "nbconvert_exporter": "python",
   "pygments_lexer": "ipython3",
   "version": "3.10.13"
  }
 },
 "nbformat": 4,
 "nbformat_minor": 5
}
