{
 "cells": [
  {
   "cell_type": "code",
   "execution_count": 5,
   "id": "175e69d7-b627-47a6-aa54-25a9cb91e9c5",
   "metadata": {
    "tags": []
   },
   "outputs": [],
   "source": [
    "from maap.maap import MAAP\n",
    "maap = MAAP(maap_host='api.maap-project.org')\n",
    "\n",
    "username = maap.profile.account_info()[\"username\"]\n",
    "assert username"
   ]
  },
  {
   "cell_type": "markdown",
   "id": "d9894110-6c87-4f17-bb7a-23840133ad93",
   "metadata": {},
   "source": [
    "## Run DPS Notebook"
   ]
  },
  {
   "cell_type": "code",
   "execution_count": 6,
   "id": "9fcaae29-f895-4b8b-8a3f-5bf87e3bd76e",
   "metadata": {
    "tags": []
   },
   "outputs": [
    {
     "data": {
      "text/plain": [
       "'{\"code\": 200, \"message\": {\"id\": \"0ee2c5d26ddb3e649677ef2565d26c0ed8c0c7bc\", \"short_id\": \"0ee2c5d2\", \"created_at\": \"2024-11-21T19:05:59.000+00:00\", \"parent_ids\": [\"5833f9a3e47d3f02f089b38aca2c1f4859fa32e1\"], \"title\": \"Registering algorithm: run_gedi_pa_prepping_123\", \"message\": \"Registering algorithm: run_gedi_pa_prepping_123\", \"author_name\": \"root\", \"author_email\": \"root@f2a98435594f\", \"authored_date\": \"2024-11-21T19:05:59.000+00:00\", \"committer_name\": \"root\", \"committer_email\": \"root@f2a98435594f\", \"committed_date\": \"2024-11-21T19:05:59.000+00:00\", \"trailers\": {}, \"extended_trailers\": {}, \"web_url\": \"https://repo.maap-project.org/root/register-job-hysds-v4/-/commit/0ee2c5d26ddb3e649677ef2565d26c0ed8c0c7bc\", \"stats\": {\"additions\": 0, \"deletions\": 0, \"total\": 0}, \"status\": \"created\", \"project_id\": 3, \"last_pipeline\": {\"id\": 14936, \"iid\": 1782, \"project_id\": 3, \"sha\": \"0ee2c5d26ddb3e649677ef2565d26c0ed8c0c7bc\", \"ref\": \"hysds-v5\", \"status\": \"created\", \"source\": \"push\", \"created_at\": \"2024-11-21T19:06:00.748Z\", \"updated_at\": \"2024-11-21T19:06:00.748Z\", \"web_url\": \"https://repo.maap-project.org/root/register-job-hysds-v4/-/pipelines/14936\"}, \"job_web_url\": \"https://repo.maap-project.org/root/register-job-hysds-v4/-/jobs/15227\", \"job_log_url\": \"https://repo.maap-project.org/root/register-job-hysds-v4/-/jobs/15227/raw\"}}\\n'"
      ]
     },
     "execution_count": 6,
     "metadata": {},
     "output_type": "execute_result"
    }
   ],
   "source": [
    "#register algorithm \n",
    "#maap.register_algorithm_from_yaml_file(\"/projects/vl_GEDI-PA_2024/run_gedi_pa_setup.yml\").text\n",
    "\n",
    "maap.register_algorithm_from_yaml_file(\"/projects/my-public-bucket/GEDI_PA/vl_GEDI-PA_2024/run_gedi_pa_setup.yml\").text\n"
   ]
  },
  {
   "cell_type": "markdown",
   "id": "fa28f87d-ecdc-41c4-8e76-44d8ad1b4447",
   "metadata": {},
   "source": [
    "## Commit with Tag for running\n",
    "1) Add version name as a map_boreal_2022_v2 or whatever is appropriate - both to this notebook and algorithm config yaml\n",
    "\n",
    "2) follow git instructions (every time):\n",
    "git add changes\n",
    "git commit -m 'message'\n",
    "git tag -f boreal_agb_2024_v6\n",
    "\n",
    "git push\n",
    "git push origin -f boreal_agb_2024_v6\n",
    "\n",
    "\n",
    "3) if it looks weird check git log to make sure tag is at same place as origin and dps\n"
   ]
  },
  {
   "cell_type": "code",
   "execution_count": 7,
   "id": "2406234d-99e0-4fc3-93e2-7e7050c4774f",
   "metadata": {},
   "outputs": [
    {
     "name": "stdout",
     "output_type": "stream",
     "text": [
      "{'job_id': 'd707ddf9-74bb-49d9-90f2-9223220a1a1b', 'status': 'success', 'machine_type': None, 'architecture': None, 'machine_memory_size': None, 'directory_size': None, 'operating_system': None, 'job_start_time': None, 'job_end_time': None, 'job_duration_seconds': None, 'cpu_usage': None, 'cache_usage': None, 'mem_usage': None, 'max_mem_usage': None, 'swap_usage': None, 'read_io_stats': None, 'write_io_stats': None, 'sync_io_stats': None, 'async_io_stats': None, 'total_io_stats': None, 'error_details': None, 'response_code': 200, 'outputs': []}\n",
      "CPU times: user 23.9 ms, sys: 0 ns, total: 23.9 ms\n",
      "Wall time: 151 ms\n"
     ]
    }
   ],
   "source": [
    "%%time\n",
    "#submit_results_df_list = []\n",
    "#len_input_list = len(DPS_INPUT_TILE_NUM_LIST)\n",
    "iso_list= ['GNB'] #'SEN NIG LIB'\n",
    "\n",
    "ALGO_ID = \"run_gedi_pa_prepping_123\"\n",
    "USER = username\n",
    "WORKER_TYPE = 'maap-dps-worker-16gb' #RAM should be low enough for 16 gb\n",
    "IDENTIFIER = 'GNBNov21'\n",
    "res = [] #List of job ids\n",
    "for iso in iso_list:\n",
    "    submit_result = maap.submitJob(\n",
    "        identifier=IDENTIFIER,\n",
    "        algo_id=ALGO_ID,\n",
    "        version='main',\n",
    "        username=username,\n",
    "        queue=WORKER_TYPE,\n",
    "        c=iso,\n",
    "    )\n",
    "\n",
    "    print(submit_result)\n",
    "    #Add code to batch check for failed jobs, make list, for each job check status\n",
    "\n"
   ]
  },
  {
   "cell_type": "code",
   "execution_count": 18,
   "id": "948bc9c1-5276-4994-8d2f-be94ea5286c7",
   "metadata": {},
   "outputs": [],
   "source": [
    "import os"
   ]
  },
  {
   "cell_type": "code",
   "execution_count": 26,
   "id": "fe1e5f13-8404-4ae1-8cba-1ce08ec26cb1",
   "metadata": {},
   "outputs": [
    {
     "name": "stdout",
     "output_type": "stream",
     "text": [
      "0\n"
     ]
    }
   ],
   "source": [
    "# Define the folder path containing the output files from subsetting of tiles\n",
    "# f.path2 <- \"s3://maap-ops-workspace/shared/abarenblitt/GEDI_global_PA_v2/\"\n",
    "folder_path = os.path.join(\"/projects/my-public-bucket/GEDI_global_PA_v2/Matching_Results/\",iso,iso+\"_testPAs\")\n",
    "\n",
    "print(len([entry for entry in os.listdir(folder_path) if os.path.isfile(os.path.join(folder_path, entry))]))"
   ]
  },
  {
   "cell_type": "code",
   "execution_count": 28,
   "id": "8c04367d-6eb7-41c6-81fa-010049e5734a",
   "metadata": {},
   "outputs": [
    {
     "name": "stdout",
     "output_type": "stream",
     "text": [
      "Copying prepped_pa_11610_wk24.RDS...\n",
      "Copying prepped_pa_145507_wk24.RDS...\n",
      "Copying prepped_pa_29806_wk24.RDS...\n",
      "Copying prepped_pa_317051_wk24.RDS...\n",
      "Copying prepped_pa_33046_wk24.RDS...\n",
      "Copying prepped_pa_33047_wk24.RDS...\n",
      "Copying prepped_pa_33048_wk24.RDS...\n",
      "Copying prepped_pa_33050_wk24.RDS...\n",
      "Copying prepped_pa_342655_wk24.RDS...\n",
      "Copying prepped_pa_342656_wk24.RDS...\n",
      "Copying prepped_pa_342658_wk24.RDS...\n",
      "Copying prepped_pa_342659_wk24.RDS...\n",
      "Copying prepped_pa_342660_wk24.RDS...\n",
      "Copying prepped_pa_342661_wk24.RDS...\n",
      "Copying prepped_pa_342662_wk24.RDS...\n",
      "Copying prepped_pa_342670_wk24.RDS...\n",
      "Copying prepped_pa_342671_wk24.RDS...\n",
      "Copying prepped_pa_342672_wk24.RDS...\n",
      "Copying prepped_pa_342673_wk24.RDS...\n",
      "Copying prepped_pa_351088_wk24.RDS...\n",
      "Copying prepped_pa_555626105_wk24.RDS...\n",
      "Copying prepped_pa_555626106_wk24.RDS...\n",
      "Copying prepped_pa_555703681_wk24.RDS...\n"
     ]
    }
   ],
   "source": [
    "import subprocess\n",
    "root_dir = \"/projects/my-private-bucket/dps_output/run_gedi_pa_prepping_123/main/GNBNov21/2024/11/21/13/21/50/475082/GNB_testPAs\"  # Can now set name\n",
    "out_dir = os.path.join(\"/projects/my-public-bucket/GEDI_global_PA_v2/Matching_Results/\",iso,iso+\"_testPAs\")\n",
    "\n",
    "\n",
    "for dirName, subdirList, fileList in os.walk(root_dir):\n",
    "#    print(\"Found directory: %s\" % dirName)\n",
    "    for fname in fileList:\n",
    "        if fname:\n",
    "            source_path = os.path.join(dirName, fname)\n",
    "            #print(source_path)\n",
    "            target_path = os.path.join(out_dir, fname)\n",
    "            #print(target_path)\n",
    "            if not os.path.exists(out_dir):\n",
    "                os.makedirs(out_dir)\n",
    "            if not os.path.exists(target_path):  # Check if file doesn’t exist in target directory\n",
    "                print(f\"Copying {fname}...\")\n",
    "                subprocess.call(['cp', source_path, target_path])\n",
    "#            else:\n",
    "#                print(f\"{fname} already exists in the target directory. Skipping...\")"
   ]
  },
  {
   "cell_type": "code",
   "execution_count": 26,
   "id": "6c9aa0f3-952b-49b6-8aa8-05d839c04fb5",
   "metadata": {},
   "outputs": [
    {
     "name": "stdout",
     "output_type": "stream",
     "text": [
      "0\n"
     ]
    }
   ],
   "source": [
    "# Define the folder path containing the output files from subsetting of tiles\n",
    "# f.path2 <- \"s3://maap-ops-workspace/shared/abarenblitt/GEDI_global_PA_v2/\"\n",
    "folder_path = os.path.join(\"/projects/my-public-bucket/GEDI_global_PA_v2/Matching_Results/\",iso,\"WDPA_grids\")\n",
    "\n",
    "print(len([entry for entry in os.listdir(folder_path) if os.path.isfile(os.path.join(folder_path, entry))]))"
   ]
  },
  {
   "cell_type": "code",
   "execution_count": 29,
   "id": "3e8aef9b-7580-4a55-a739-d44376d1772a",
   "metadata": {},
   "outputs": [
    {
     "name": "stdout",
     "output_type": "stream",
     "text": [
      "Copying GNB_grid_wk24.RDS...\n",
      "Copying GNB_prepped_control_wk24.RDS...\n"
     ]
    }
   ],
   "source": [
    "import subprocess\n",
    "root_dir = \"/projects/my-private-bucket/dps_output/run_gedi_pa_prepping_123/main/GNBNov21/2024/11/21/13/21/50/475082/WDPA_grids\"  # Can now set name\n",
    "out_dir = os.path.join(\"/projects/my-public-bucket/GEDI_global_PA_v2/Matching_Results/\",iso,\"WDPA_grids\")\n",
    "\n",
    "\n",
    "for dirName, subdirList, fileList in os.walk(root_dir):\n",
    "#    print(\"Found directory: %s\" % dirName)\n",
    "    for fname in fileList:\n",
    "        if fname:\n",
    "            source_path = os.path.join(dirName, fname)\n",
    "            #print(source_path)\n",
    "            target_path = os.path.join(out_dir, fname)\n",
    "            #print(target_path)\n",
    "            if not os.path.exists(out_dir):\n",
    "                os.makedirs(out_dir)\n",
    "            if not os.path.exists(target_path):  # Check if file doesn’t exist in target directory\n",
    "                print(f\"Copying {fname}...\")\n",
    "                subprocess.call(['cp', source_path, target_path])\n",
    "#            else:\n",
    "#                print(f\"{fname} already exists in the target directory. Skipping...\")"
   ]
  }
 ],
 "metadata": {
  "kernelspec": {
   "display_name": "Python 3 (ipykernel)",
   "language": "python",
   "name": "python3"
  },
  "language_info": {
   "codemirror_mode": {
    "name": "ipython",
    "version": 3
   },
   "file_extension": ".py",
   "mimetype": "text/x-python",
   "name": "python",
   "nbconvert_exporter": "python",
   "pygments_lexer": "ipython3",
   "version": "3.10.13"
  }
 },
 "nbformat": 4,
 "nbformat_minor": 5
}
