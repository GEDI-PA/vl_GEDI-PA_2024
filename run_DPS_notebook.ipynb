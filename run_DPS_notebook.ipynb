{
 "cells": [
  {
   "cell_type": "code",
   "execution_count": 2,
   "id": "175e69d7-b627-47a6-aa54-25a9cb91e9c5",
   "metadata": {
    "tags": []
   },
   "outputs": [],
   "source": [
    "from maap.maap import MAAP\n",
    "maap = MAAP(maap_host='api.maap-project.org')"
   ]
  },
  {
   "cell_type": "markdown",
   "id": "d9894110-6c87-4f17-bb7a-23840133ad93",
   "metadata": {},
   "source": [
    "## Run DPS Notebook"
   ]
  },
  {
   "cell_type": "code",
   "execution_count": 5,
   "id": "9fcaae29-f895-4b8b-8a3f-5bf87e3bd76e",
   "metadata": {
    "tags": []
   },
   "outputs": [
    {
     "data": {
      "text/plain": [
       "'<!doctype html>\\n<html lang=en>\\n<title>500 Internal Server Error</title>\\n<h1>Internal Server Error</h1>\\n<p>The server encountered an internal error and was unable to complete your request. Either the server is overloaded or there is an error in the application.</p>\\n'"
      ]
     },
     "execution_count": 5,
     "metadata": {},
     "output_type": "execute_result"
    }
   ],
   "source": [
    "#register algorithm \n",
    "#maap.register_algorithm_from_yaml_file(\"/projects/vl_GEDI-PA_2024/run_gedi_pa_setup.yml\").text\n",
    "\n",
    "maap.register_algorithm_from_yaml_file(\"/projects/my-public-bucket/GEDI_global_PA_v2/vl_GEDI-PA_2024/run_gedi_pa_setup_step5.yml\").text\n",
    "#maap.register_algorithm_from_yaml_file(\"s3://maap-ops-workspace/shared/leitoldv/GEDI_global_PA_v2/run_gedi_pa_setup_step5.yml\").text\n"
   ]
  },
  {
   "cell_type": "code",
   "execution_count": null,
   "id": "5d92f711-0e8a-409e-8ba0-cb8e729f7914",
   "metadata": {},
   "outputs": [],
   "source": []
  },
  {
   "cell_type": "markdown",
   "id": "fa28f87d-ecdc-41c4-8e76-44d8ad1b4447",
   "metadata": {},
   "source": [
    "## Commit with Tag for running\n",
    "1) Add version name as a map_boreal_2022_v2 or whatever is appropriate - both to this notebook and algorithm config yaml\n",
    "\n",
    "2) follow git instructions (every time):\n",
    "git add changes\n",
    "git commit -m 'message'\n",
    "git tag -f boreal_agb_2024_v6\n",
    "\n",
    "git push\n",
    "git push origin -f boreal_agb_2024_v6\n",
    "\n",
    "\n",
    "3) if it looks weird check git log to make sure tag is at same place as origin and dps\n"
   ]
  },
  {
   "cell_type": "code",
   "execution_count": null,
   "id": "2406234d-99e0-4fc3-93e2-7e7050c4774f",
   "metadata": {},
   "outputs": [],
   "source": [
    "%%time\n",
    "#submit_results_df_list = []\n",
    "#len_input_list = len(DPS_INPUT_TILE_NUM_LIST)\n",
    "iso_list= 'BLZ ECU PER'\n",
    "\n",
    "ALGO_ID = \"run_gedi_pa_prepping\"\n",
    "USER = 'leitoldv'\n",
    "WORKER_TYPE = 'maap-dps-worker-32gb'\n",
    "IDENTIFIER = 'testJUL25'\n",
    "\n",
    "for i in enumerate(iso_list):\n",
    "\n",
    "    DPS_num = i+1    \n",
    "    in_param_dict = {'c': i\n",
    "        #             'wk': '24',\n",
    "        #'boreal_vect': 'https://maap-ops-workspace.s3.us-west-2.amazonaws.com/shared/nathanmthomas/analyze_agb/input_zones/wwf_circumboreal_Dissolve.geojson',\n",
    "        #'boreal_vect_fn': 'input/wwf_circumboreal_Dissolve.geojson'\n",
    "                    }\n",
    "    \n",
    "    submit_result = maap.submitJob(\n",
    "            identifier=IDENTIFIER,\n",
    "            algo_id=ALGO_ID,\n",
    "            version='v1',\n",
    "            username='leitoldv',\n",
    "            queue='maap-dps-worker-64gb',\n",
    "            c='',\n",
    "            )\n",
    "\n",
    "    print(submit_result)\n"
   ]
  }
 ],
 "metadata": {
  "kernelspec": {
   "display_name": "Python 3 (ipykernel)",
   "language": "python",
   "name": "python3"
  },
  "language_info": {
   "codemirror_mode": {
    "name": "ipython",
    "version": 3
   },
   "file_extension": ".py",
   "mimetype": "text/x-python",
   "name": "python",
   "nbconvert_exporter": "python",
   "pygments_lexer": "ipython3",
   "version": "3.10.13"
  }
 },
 "nbformat": 4,
 "nbformat_minor": 5
}
