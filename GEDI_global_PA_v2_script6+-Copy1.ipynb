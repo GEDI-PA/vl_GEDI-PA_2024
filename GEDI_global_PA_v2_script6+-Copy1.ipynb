{
 "cells": [
  {
   "cell_type": "code",
   "execution_count": 1,
   "id": "ba2260d9-d54a-4bd6-8a64-ecf988134a90",
   "metadata": {},
   "outputs": [],
   "source": [
    "## calculating GEDI summary stats from extracted dataframes"
   ]
  },
  {
   "cell_type": "code",
   "execution_count": 2,
   "id": "8f071baa-3248-40a1-88f2-68672c5e0fbb",
   "metadata": {},
   "outputs": [
    {
     "name": "stderr",
     "output_type": "stream",
     "text": [
      "Warning message in install.packages(\"s3\"):\n",
      "“installation of package ‘s3’ had non-zero exit status”\n",
      "Updating HTML index of packages in '.Library'\n",
      "\n",
      "Making 'packages.html' ...\n",
      " done\n",
      "\n"
     ]
    }
   ],
   "source": [
    "install.packages(\"s3\")\n",
    "#install.packages(\"doParallel\")\n",
    "#install.packages(\"RItools\")    "
   ]
  },
  {
   "cell_type": "code",
   "execution_count": 3,
   "id": "b8ee78bd-f1ae-419a-8f56-8bbead3471a0",
   "metadata": {},
   "outputs": [
    {
     "name": "stderr",
     "output_type": "stream",
     "text": [
      "terra 1.7.29\n",
      "\n",
      "\n",
      "Attaching package: ‘dplyr’\n",
      "\n",
      "\n",
      "The following objects are masked from ‘package:terra’:\n",
      "\n",
      "    intersect, union\n",
      "\n",
      "\n",
      "The following objects are masked from ‘package:stats’:\n",
      "\n",
      "    filter, lag\n",
      "\n",
      "\n",
      "The following objects are masked from ‘package:base’:\n",
      "\n",
      "    intersect, setdiff, setequal, union\n",
      "\n",
      "\n",
      "Linking to GEOS 3.11.2, GDAL 3.7.0, PROJ 9.2.0; sf_use_s2() is TRUE\n",
      "\n"
     ]
    }
   ],
   "source": [
    "library(\"terra\")\n",
    "library(\"dplyr\")\n",
    "library(\"sf\")\n",
    "library(\"s3\")\n",
    "library(\"sp\")\n",
    "library(\"foreach\")\n",
    "library(\"stringr\")\n",
    "library(\"aws.s3\")\n",
    "#library(\"doParallel\")\n",
    "#library(\"RItools\")"
   ]
  },
  {
   "cell_type": "code",
   "execution_count": 4,
   "id": "d8ff358b-e530-4588-87a2-e9920fc8a32b",
   "metadata": {},
   "outputs": [],
   "source": [
    "#f.path <- \"s3://maap-ops-workspace/shared/leitoldv/GEDI_global_PA_v2/\"\n",
    "f.path <- \"/projects/my-public-bucket/GEDI_global_PA_v2/\"\n",
    "gediwk <- 24\n",
    "#iso3 <- \"Bpt\""
   ]
  },
  {
   "cell_type": "code",
   "execution_count": 5,
   "id": "fe183658-059e-49da-8a5c-4405e0cdd3e0",
   "metadata": {},
   "outputs": [
    {
     "data": {
      "text/html": [
       "240"
      ],
      "text/latex": [
       "240"
      ],
      "text/markdown": [
       "240"
      ],
      "text/plain": [
       "[1] 240"
      ]
     },
     "metadata": {},
     "output_type": "display_data"
    },
    {
     "data": {
      "text/html": [
       "417"
      ],
      "text/latex": [
       "417"
      ],
      "text/markdown": [
       "417"
      ],
      "text/plain": [
       "[1] 417"
      ]
     },
     "metadata": {},
     "output_type": "display_data"
    },
    {
     "data": {
      "text/html": [
       "53"
      ],
      "text/latex": [
       "53"
      ],
      "text/markdown": [
       "53"
      ],
      "text/plain": [
       "[1] 53"
      ]
     },
     "metadata": {},
     "output_type": "display_data"
    },
    {
     "data": {
      "text/html": [
       "335"
      ],
      "text/latex": [
       "335"
      ],
      "text/markdown": [
       "335"
      ],
      "text/plain": [
       "[1] 335"
      ]
     },
     "metadata": {},
     "output_type": "display_data"
    },
    {
     "data": {
      "text/html": [
       "615"
      ],
      "text/latex": [
       "615"
      ],
      "text/markdown": [
       "615"
      ],
      "text/plain": [
       "[1] 615"
      ]
     },
     "metadata": {},
     "output_type": "display_data"
    },
    {
     "data": {
      "text/html": [
       "31"
      ],
      "text/latex": [
       "31"
      ],
      "text/markdown": [
       "31"
      ],
      "text/plain": [
       "[1] 31"
      ]
     },
     "metadata": {},
     "output_type": "display_data"
    },
    {
     "data": {
      "text/html": [
       "26"
      ],
      "text/latex": [
       "26"
      ],
      "text/markdown": [
       "26"
      ],
      "text/plain": [
       "[1] 26"
      ]
     },
     "metadata": {},
     "output_type": "display_data"
    }
   ],
   "source": [
    "iso3 <- \"BaE\"\n",
    "gedi_paf_BaE <- list.files(paste(f.path,\"WDPA_extract/\",iso3,\"_wk\",gediwk,sep=\"\"), pattern=\".RDS\", full.names = TRUE)\n",
    "length(gedi_paf_BaE)\n",
    "\n",
    "iso3 <- \"BaW\"\n",
    "gedi_paf_BaW <- list.files(paste(f.path,\"WDPA_extract/\",iso3,\"_wk\",gediwk,sep=\"\"), pattern=\".RDS\", full.names = TRUE)\n",
    "length(gedi_paf_BaW)\n",
    "\n",
    "iso3 <- \"Bca\"\n",
    "gedi_paf_Bca <- list.files(paste(f.path,\"WDPA_extract/\",iso3,\"_wk\",gediwk,sep=\"\"), pattern=\".RDS\", full.names = TRUE)\n",
    "length(gedi_paf_Bca)\n",
    "\n",
    "iso3 <- \"Bce\"\n",
    "gedi_paf_Bce <- list.files(paste(f.path,\"WDPA_extract/\",iso3,\"_wk\",gediwk,sep=\"\"), pattern=\".RDS\", full.names = TRUE)\n",
    "length(gedi_paf_Bce)\n",
    "\n",
    "iso3 <- \"Bma\"\n",
    "gedi_paf_Bma <- list.files(paste(f.path,\"WDPA_extract/\",iso3,\"_wk\",gediwk,sep=\"\"), pattern=\".RDS\", full.names = TRUE)\n",
    "length(gedi_paf_Bma)\n",
    "\n",
    "iso3 <- \"Bpp\"\n",
    "gedi_paf_Bpp <- list.files(paste(f.path,\"WDPA_extract/\",iso3,\"_wk\",gediwk,sep=\"\"), pattern=\".RDS\", full.names = TRUE)\n",
    "length(gedi_paf_Bpp)\n",
    "\n",
    "iso3 <- \"Bpt\"\n",
    "gedi_paf_Bpt <- list.files(paste(f.path,\"WDPA_extract/\",iso3,\"_wk\",gediwk,sep=\"\"), pattern=\".RDS\", full.names = TRUE)\n",
    "length(gedi_paf_Bpt)\n"
   ]
  },
  {
   "cell_type": "code",
   "execution_count": 6,
   "id": "ee27edd2-5a41-4831-b3ff-4462eb4b6722",
   "metadata": {},
   "outputs": [
    {
     "data": {
      "text/html": [
       "1717"
      ],
      "text/latex": [
       "1717"
      ],
      "text/markdown": [
       "1717"
      ],
      "text/plain": [
       "[1] 1717"
      ]
     },
     "metadata": {},
     "output_type": "display_data"
    }
   ],
   "source": [
    "gedi_paf_ALL <- c(gedi_paf_BaE, gedi_paf_BaW, gedi_paf_Bca,\n",
    "                  gedi_paf_Bce, gedi_paf_Bma, gedi_paf_Bpp, gedi_paf_Bpt)\n",
    "length(gedi_paf_ALL)"
   ]
  },
  {
   "cell_type": "code",
   "execution_count": 7,
   "id": "98fd97db-2d94-4bb0-bf2c-4a1bcfd76c4d",
   "metadata": {},
   "outputs": [
    {
     "name": "stdout",
     "output_type": "stream",
     "text": [
      "[1] 1717\n",
      "[1] 1621\n"
     ]
    }
   ],
   "source": [
    "gedi_paid_ALL <- c()\n",
    "\n",
    "for(i in 1:length(gedi_paf_ALL)){\n",
    "\n",
    "    this_paf <- gedi_paf_ALL[i]\n",
    "    this_paid <- basename(this_paf) %>% readr::parse_number() %>% unique()\n",
    "    gedi_paid_ALL <- c(gedi_paid_ALL, this_paid)\n",
    "    #print(this_paid)\n",
    "}\n",
    "\n",
    "print(length(gedi_paid_ALL))\n",
    "print(length(unique(gedi_paid_ALL)))"
   ]
  },
  {
   "cell_type": "code",
   "execution_count": 8,
   "id": "382673e3-efb9-427f-83e5-87a6a9355e5a",
   "metadata": {},
   "outputs": [
    {
     "data": {
      "text/html": [
       "96"
      ],
      "text/latex": [
       "96"
      ],
      "text/markdown": [
       "96"
      ],
      "text/plain": [
       "[1] 96"
      ]
     },
     "metadata": {},
     "output_type": "display_data"
    },
    {
     "data": {
      "text/html": [
       "1527"
      ],
      "text/latex": [
       "1527"
      ],
      "text/markdown": [
       "1527"
      ],
      "text/plain": [
       "[1] 1527"
      ]
     },
     "metadata": {},
     "output_type": "display_data"
    }
   ],
   "source": [
    "gedi_paid_DUP <- gedi_paid_ALL[which(duplicated(gedi_paid_ALL))]\n",
    "length(gedi_paid_DUP)\n",
    "\n",
    "gedi_paid_UNQ <- setdiff(gedi_paid_ALL, gedi_paid_DUP)\n",
    "length(gedi_paid_UNQ)"
   ]
  },
  {
   "cell_type": "code",
   "execution_count": null,
   "id": "fec5e3b6-c963-43bc-8752-57d1755f8164",
   "metadata": {},
   "outputs": [],
   "source": [
    "for(i in 1:length(gedi_paid_DUP)){\n",
    "\n",
    "DUP_id <- gedi_paid_DUP[i]\n",
    "#print(DUP_id)\n",
    "DUP_paf <- gedi_paf_ALL[which(gedi_paid_ALL == DUP_id)]\n",
    "#print(length(DUP_paf))\n",
    "\n",
    "    if(length(DUP_paf) == 2){\n",
    "    \n",
    "        pa_metrics1 <- readRDS(DUP_paf[1]) %>% unique()\n",
    "        pa_metrics2 <- readRDS(DUP_paf[2]) %>% unique()    \n",
    "        pa_metrics_ALL <- rbind(pa_metrics1, pa_metrics2)    \n",
    "        wwfbiom <- strsplit(strsplit(DUP_paf[1], split=c(\"_conti_biome_\"))[[1]][2], split=\".RDS\")[[1]]\n",
    "    write.csv(pa_metrics_ALL,\n",
    "          file=paste(f.path,\"/WDPA_extract/pa_stats_ALL/BRA_pa_\",DUP_id,\"_gedi_wk24_\",wwfbiom,\".csv\",sep=\"\"))\n",
    "    }\n",
    "\n",
    "    else if(length(DUP_paf) == 3){\n",
    "        pa_metrics1 <- readRDS(DUP_paf[1]) %>% unique()\n",
    "        pa_metrics2 <- readRDS(DUP_paf[2]) %>% unique()\n",
    "        pa_metrics3 <- readRDS(DUP_paf[3]) %>% unique()\n",
    "        pa_metrics_ALL <- rbind(pa_metrics1, pa_metrics2, pa_metrics3)\n",
    "        wwfbiom <- strsplit(strsplit(DUP_paf[1], split=c(\"_conti_biome_\"))[[1]][2], split=\".RDS\")[[1]]\n",
    "    write.csv(pa_metrics_ALL,\n",
    "          file=paste(f.path,\"/WDPA_extract/pa_stats_ALL/BRA_pa_\",DUP_id,\"_gedi_wk24_\",wwfbiom,\".csv\",sep=\"\"))\n",
    "    }\n",
    "\n",
    "    else if(length(DUP_paf) > 3){\n",
    "        print(paste(\"there are more than 3 files with pa_id = \", DUP_id, sep=\"\"))\n",
    "    }\n",
    "}"
   ]
  },
  {
   "cell_type": "code",
   "execution_count": 66,
   "id": "8811f69d-42ac-455c-a5b0-23f6bbd82a5c",
   "metadata": {},
   "outputs": [
    {
     "ename": "ERROR",
     "evalue": "Error in utils::write.table(pa_metrics, file = paste(f.path, \"/WDPA_extract/pa_stats_ALL/BRA_pa_\", : Error writing to connection:  Software caused connection abort\n",
     "output_type": "error",
     "traceback": [
      "Error in utils::write.table(pa_metrics, file = paste(f.path, \"/WDPA_extract/pa_stats_ALL/BRA_pa_\", : Error writing to connection:  Software caused connection abort\nTraceback:\n",
      "1. write.csv(pa_metrics, file = paste(f.path, \"/WDPA_extract/pa_stats_ALL/BRA_pa_\", \n .     UNQ_id, \"_gedi_wk24_\", wwfbiom, \".csv\", sep = \"\"))",
      "2. eval.parent(Call)",
      "3. eval(expr, p)",
      "4. eval(expr, p)",
      "5. utils::write.table(pa_metrics, file = paste(f.path, \"/WDPA_extract/pa_stats_ALL/BRA_pa_\", \n .     UNQ_id, \"_gedi_wk24_\", wwfbiom, \".csv\", sep = \"\"), col.names = NA, \n .     sep = \",\", dec = \".\", qmethod = \"double\")"
     ]
    },
    {
     "name": "stderr",
     "output_type": "stream",
     "text": [
      "Warning message in close.connection(file):\n",
      "“Problem closing connection:  Transport endpoint is not connected”\n"
     ]
    }
   ],
   "source": [
    "#------------\n",
    "for(i in 1:length(gedi_paid_UNQ)){\n",
    "\n",
    "    UNQ_id <- gedi_paid_UNQ[i]\n",
    "    UNQ_paf <- gedi_paf_ALL[which(gedi_paid_ALL == UNQ_id)]\n",
    "    wwfbiom <- strsplit(strsplit(UNQ_paf[1], split=c(\"_conti_biome_\"))[[1]][2], split=\".RDS\")[[1]]\n",
    "    #print(UNQ_paf)\n",
    "\n",
    "    if(file.exists(paste(f.path,\"/WDPA_extract/pa_stats_ALL/BRA_pa_\",UNQ_id,\"_gedi_wk24_\",wwfbiom,\".csv\",sep=\"\"))){\n",
    "        print(paste(\"csv file already exists for\",UNQ_paf,sep=\"\"))\n",
    "    } else {\n",
    "\n",
    "    print(UNQ_id)\n",
    "    pa_metrics <- readRDS(UNQ_paf) %>% unique()\n",
    "    wwfbiom <- strsplit(strsplit(UNQ_paf, split=c(\"_conti_biome_\"))[[1]][2], split=\".RDS\")[[1]]\n",
    "    write.csv(pa_metrics,\n",
    "        file=paste(f.path,\"/WDPA_extract/pa_stats_ALL/BRA_pa_\",UNQ_id,\"_gedi_wk24_\",wwfbiom,\".csv\",sep=\"\"))\n",
    "    }\n",
    "}\n",
    "\n",
    "print(length(list.files(paste(f.path,\"/WDPA_extract/pa_stats_ALL/\",sep=\"\"))))\n"
   ]
  },
  {
   "cell_type": "code",
   "execution_count": 9,
   "id": "decee813-0ed6-4eb9-bf26-46a06920ca51",
   "metadata": {},
   "outputs": [
    {
     "data": {
      "text/html": [
       "230"
      ],
      "text/latex": [
       "230"
      ],
      "text/markdown": [
       "230"
      ],
      "text/plain": [
       "[1] 230"
      ]
     },
     "metadata": {},
     "output_type": "display_data"
    }
   ],
   "source": [
    "length(list.files(paste(f.path,\"/WDPA_extract/pa_stats_ALL/\",sep=\"\")))"
   ]
  },
  {
   "cell_type": "code",
   "execution_count": null,
   "id": "0df52297-a095-485b-aedb-db41187e38db",
   "metadata": {},
   "outputs": [],
   "source": []
  },
  {
   "cell_type": "code",
   "execution_count": null,
   "id": "98bc38dd-44b3-48f7-b327-3946e6106de7",
   "metadata": {},
   "outputs": [],
   "source": []
  }
 ],
 "metadata": {
  "kernelspec": {
   "display_name": "R",
   "language": "R",
   "name": "ir"
  },
  "language_info": {
   "codemirror_mode": "r",
   "file_extension": ".r",
   "mimetype": "text/x-r-source",
   "name": "R",
   "pygments_lexer": "r",
   "version": "4.2.3"
  }
 },
 "nbformat": 4,
 "nbformat_minor": 5
}
