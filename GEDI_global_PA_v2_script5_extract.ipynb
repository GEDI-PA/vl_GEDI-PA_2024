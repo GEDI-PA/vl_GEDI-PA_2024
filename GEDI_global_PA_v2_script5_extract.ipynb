{
 "cells": [
  {
   "cell_type": "code",
   "execution_count": null,
   "id": "32aeaaac-7d6f-488b-b136-ada54bb8f840",
   "metadata": {},
   "outputs": [],
   "source": [
    "## ---------------- SEP5 testing gedi extraction code -----------------------"
   ]
  },
  {
   "cell_type": "code",
   "execution_count": null,
   "id": "375b9c98-0ce5-4bb8-86dd-29410a0eabee",
   "metadata": {},
   "outputs": [],
   "source": [
    "##\n",
    "# conda install -c conda-forge r-optmatch\n",
    "##"
   ]
  },
  {
   "cell_type": "code",
   "execution_count": 1,
   "id": "bb019e34-2538-4e39-828f-e670636a0436",
   "metadata": {},
   "outputs": [
    {
     "name": "stderr",
     "output_type": "stream",
     "text": [
      "Updating HTML index of packages in '.Library'\n",
      "\n",
      "Making 'packages.html' ...\n",
      " done\n",
      "\n",
      "also installing the dependency ‘svd’\n",
      "\n",
      "\n",
      "Warning message in install.packages(\"RItools\"):\n",
      "“installation of package ‘svd’ had non-zero exit status”\n",
      "Warning message in install.packages(\"RItools\"):\n",
      "“installation of package ‘RItools’ had non-zero exit status”\n",
      "Updating HTML index of packages in '.Library'\n",
      "\n",
      "Making 'packages.html' ...\n",
      " done\n",
      "\n"
     ]
    }
   ],
   "source": [
    "install.packages(\"s3\")\n",
    "install.packages(\"RItools\")    "
   ]
  },
  {
   "cell_type": "code",
   "execution_count": 2,
   "id": "aa085b6a-d865-4ff5-8c40-e26b9fe93940",
   "metadata": {},
   "outputs": [
    {
     "name": "stderr",
     "output_type": "stream",
     "text": [
      "terra 1.7.29\n",
      "\n",
      "\n",
      "Attaching package: ‘dplyr’\n",
      "\n",
      "\n",
      "The following objects are masked from ‘package:terra’:\n",
      "\n",
      "    intersect, union\n",
      "\n",
      "\n",
      "The following objects are masked from ‘package:stats’:\n",
      "\n",
      "    filter, lag\n",
      "\n",
      "\n",
      "The following objects are masked from ‘package:base’:\n",
      "\n",
      "    intersect, setdiff, setequal, union\n",
      "\n",
      "\n",
      "Linking to GEOS 3.11.2, GDAL 3.7.0, PROJ 9.2.0; sf_use_s2() is TRUE\n",
      "\n"
     ]
    },
    {
     "ename": "ERROR",
     "evalue": "Error in library(\"RItools\"): there is no package called ‘RItools’\n",
     "output_type": "error",
     "traceback": [
      "Error in library(\"RItools\"): there is no package called ‘RItools’\nTraceback:\n",
      "1. library(\"RItools\")"
     ]
    }
   ],
   "source": [
    "library(\"terra\")\n",
    "library(\"dplyr\")\n",
    "library(\"sf\")\n",
    "#install.packages(\"s3\")\n",
    "library(\"s3\")\n",
    "\n",
    "library(\"sp\")\n",
    "library(\"foreach\")\n",
    "library(\"stringr\")\n",
    "library(\"aws.s3\")\n",
    "#conda install -c conda-forge r-optmatch #r-ggmap r-hrbrthemes r-Hmisc\n",
    "#library(\"optmatch\")\n",
    "#install.packages(\"doParallel\")\n",
    "#library(\"doParallel\")\n",
    "#install.packages(\"RItools\")    \n",
    "library(\"RItools\")\n"
   ]
  },
  {
   "cell_type": "code",
   "execution_count": 3,
   "id": "62cdb96c-9e67-4aa4-ac5d-436e5d467d8b",
   "metadata": {},
   "outputs": [
    {
     "ename": "ERROR",
     "evalue": "Error in loadNamespace(x): there is no package called ‘paws’\n",
     "output_type": "error",
     "traceback": [
      "Error in loadNamespace(x): there is no package called ‘paws’\nTraceback:\n",
      "1. loadNamespace(x)",
      "2. withRestarts(stop(cond), retry_loadNamespace = function() NULL)",
      "3. withOneRestart(expr, restarts[[1L]])",
      "4. doWithOneRestart(return(expr), restart)"
     ]
    }
   ],
   "source": [
    "s3 <- paws::s3()"
   ]
  },
  {
   "cell_type": "code",
   "execution_count": 4,
   "id": "2ced8004-1639-432b-9c12-d0cb5f6632fc",
   "metadata": {},
   "outputs": [],
   "source": [
    "#To test, we define the variables manually. For final version, run the commented out section below\n",
    "#iso3 <-\"Bpt\"\n",
    "iso3 <-\"Bpp\"\n",
    "gediwk <- 24\n",
    "mproc <- 1"
   ]
  },
  {
   "cell_type": "code",
   "execution_count": 5,
   "id": "6d063ab5-b6c7-45a5-b852-55e85691de33",
   "metadata": {},
   "outputs": [],
   "source": [
    "#-------------------------------------------------------------------------------\n",
    "#args = commandArgs(trailingOnly=TRUE)\n",
    "#if (length(args)==0) {\n",
    "#  stop(\"At least one argument must be supplied (input file).n\", call.=FALSE)\n",
    "#} else if (length(args)>=1) {\n",
    "#  \n",
    "#  iso3 <- args[1]  #country to process\n",
    "#  gediwk <- args[2]   #the # of weeks GEDI data to use\n",
    "#  mproc <- as.integer(args[3])  #the number of cores to use for matching \n",
    "#}\n",
    "#-------------------------------------------------------------------------------"
   ]
  },
  {
   "cell_type": "code",
   "execution_count": 6,
   "id": "715b5c20-70ed-4406-9077-e0a70295e4f9",
   "metadata": {},
   "outputs": [
    {
     "name": "stdout",
     "output_type": "stream",
     "text": [
      "Step 0: Loading global variables for Bpp with wk 24 data \n"
     ]
    },
    {
     "name": "stderr",
     "output_type": "stream",
     "text": [
      "\u001b[36mℹ\u001b[39m \u001b[34m\u001b[34ms3://maap-ops-workspace/shared/leitoldv/GEDI_global_PA_v2/wwf_ecoregions_key.csv\u001b[34m\u001b[39m already exists at \u001b[34m\u001b[34m/projects/.local/share/R/s3/maap-ops-workspace/shared/leitoldv/GEDI_global_PA_v2/wwf_ecoregions_key.csv\u001b[34m\u001b[39m\n",
      "\n",
      "\u001b[36mℹ\u001b[39m \u001b[34m\u001b[34ms3://maap-ops-workspace/shared/leitoldv/GEDI_global_PA_v2/WDPA_shapefiles/WDPA_polygons/Bpp_PA_poly.rds\u001b[34m\u001b[39m already exists at \u001b[34m\u001b[34m/projects/.local/share/R/s3/maap-ops-workspace/shared/leitoldv/GEDI_global_PA_v2/WDPA_shapefiles/WDPA_polygons/Bpp_PA_poly.rds\u001b[34m\u001b[39m\n",
      "\n",
      "\u001b[36mℹ\u001b[39m \u001b[34m\u001b[34ms3://maap-ops-workspace/shared/leitoldv/GEDI_global_PA_v2/GEDI_ANCI_PFT_r1000m_EASE2.0_UMD_v1_projection_defined_6933.tif\u001b[34m\u001b[39m already exists at \u001b[34m\u001b[34m/projects/.local/share/R/s3/maap-ops-workspace/shared/leitoldv/GEDI_global_PA_v2/GEDI_ANCI_PFT_r1000m_EASE2.0_UMD_v1_projection_defined_6933.tif\u001b[34m\u001b[39m\n",
      "\n",
      "\u001b[36mℹ\u001b[39m \u001b[34m\u001b[34ms3://maap-ops-workspace/shared/leitoldv/GEDI_global_PA_v2/GEDI_ANCI_CONTINENT_r1000m_EASE2.0_UMD_v1_revised_projection_defined_6933.tif\u001b[34m\u001b[39m already exists at \u001b[34m\u001b[34m/projects/.local/share/R/s3/maap-ops-workspace/shared/leitoldv/GEDI_global_PA_v2/GEDI_ANCI_CONTINENT_r1000m_EASE2.0_UMD_v1_revised_projection_defined_6933.tif\u001b[34m\u001b[39m\n",
      "\n",
      "\u001b[36mℹ\u001b[39m all files already exist\n",
      "\n",
      "\u001b[36mℹ\u001b[39m \u001b[34m\u001b[34ms3://maap-ops-workspace/shared/leitoldv/GEDI_global_PA_v2/WDPA_countries/shp/Bpp.shp\u001b[34m\u001b[39m already exists at \u001b[34m\u001b[34m/projects/.local/share/R/s3/maap-ops-workspace/shared/leitoldv/GEDI_global_PA_v2/WDPA_countries/shp/Bpp.shp\u001b[34m\u001b[39m\n",
      "\n"
     ]
    },
    {
     "name": "stdout",
     "output_type": "stream",
     "text": [
      "Reading layer `Bpp' from data source \n",
      "  `/projects/.local/share/R/s3/maap-ops-workspace/shared/leitoldv/GEDI_global_PA_v2/WDPA_countries/shp/Bpp.shp' \n",
      "  using driver `ESRI Shapefile'\n",
      "Simple feature collection with 1 feature and 7 fields\n",
      "Geometry type: POLYGON\n",
      "Dimension:     XY\n",
      "Bounding box:  xmin: -57.64434 ymin: -33.75473 xmax: -49.7159 ymax: -28.08345\n",
      "Geodetic CRS:  WGS 84\n"
     ]
    },
    {
     "name": "stderr",
     "output_type": "stream",
     "text": [
      "\u001b[36mℹ\u001b[39m \u001b[34m\u001b[34ms3://maap-ops-workspace/shared/leitoldv/GEDI_global_PA_v2/rf_noclimate.RData\u001b[34m\u001b[39m already exists at \u001b[34m\u001b[34m/projects/.local/share/R/s3/maap-ops-workspace/shared/leitoldv/GEDI_global_PA_v2/rf_noclimate.RData\u001b[34m\u001b[39m\n",
      "\n",
      "\u001b[36mℹ\u001b[39m \u001b[34m\u001b[34ms3://maap-ops-workspace/shared/leitoldv/GEDI_global_PA_v2/matching_func_2024.R\u001b[34m\u001b[39m already exists at \u001b[34m\u001b[34m/projects/.local/share/R/s3/maap-ops-workspace/shared/leitoldv/GEDI_global_PA_v2/matching_func_2024.R\u001b[34m\u001b[39m\n",
      "\n"
     ]
    }
   ],
   "source": [
    "cat(\"Step 0: Loading global variables for\", iso3,\"with wk\", gediwk, \"data \\n\")\n",
    "\n",
    "#f.path <- \"/projects/my-public-bucket/GEDI_global_PA_v2/\"\n",
    "f.path <- \"s3://maap-ops-workspace/shared/leitoldv/GEDI_global_PA_v2/\"\n",
    "\n",
    "matching_tifs <- c(\"wwf_biomes\",\"wwf_ecoreg\",\"lc2000\",\"d2roads\", \"dcities\",\"dem\",\n",
    "                   \"pop_cnt_2000\",\"pop_den_2000\",\"slope\", \"tt2cities_2000\", \"wc_prec_1990-1999\",\n",
    "                   \"wc_tmax_1990-1999\",\"wc_tavg_1990-1999\",\"wc_tmin_1990-1999\" )\n",
    "\n",
    "ecoreg_key <- read.csv(s3_get(paste(f.path,\"wwf_ecoregions_key.csv\",sep=\"\")))\n",
    "#unlink(s3_get(paste(f.path,\"wwf_ecoregions_key.csv\",sep=\"\")))\n",
    "\n",
    "allPAs <- readRDS(s3_get(paste(f.path,\"WDPA_shapefiles/WDPA_polygons/\",iso3,\"_PA_poly.rds\",sep=\"\")))\n",
    "\n",
    "MCD12Q1 <- rast(s3_get(paste(f.path,\"GEDI_ANCI_PFT_r1000m_EASE2.0_UMD_v1_projection_defined_6933.tif\",sep=\"\")))\n",
    "crs(MCD12Q1)  <- \"epsg:6933\"\n",
    "\n",
    "world_region <- rast(s3_get(paste(f.path,\"GEDI_ANCI_CONTINENT_r1000m_EASE2.0_UMD_v1_revised_projection_defined_6933.tif\",sep=\"\")))\n",
    "crs(world_region)  <- \"epsg:6933\"\n",
    "\n",
    "s3_get_files(c(paste(f.path,\"WDPA_countries/shp/\",iso3,\".shp\",sep=\"\"),\n",
    "              paste(f.path,\"WDPA_countries/shp/\",iso3,\".shx\",sep=\"\"),\n",
    "              paste(f.path,\"WDPA_countries/shp/\",iso3,\".prj\",sep=\"\"),\n",
    "              paste(f.path,\"WDPA_countries/shp/\",iso3,\".dbf\",sep=\"\")),confirm = FALSE)\n",
    "adm <- st_read(s3_get(paste(f.path,\"WDPA_countries/shp/\",iso3,\".shp\",sep=\"\")))\n",
    "\n",
    "#s3_path <- paste(\"/vsis3/maap-ops-workspace/shared/leitoldv/GEDI_global_PA_v2/WDPA_countries/shp/\",iso3,\".shp\",sep=\"\") #Redo this for the gpkg\n",
    "#adm <- st_read(s3_path)\n",
    "adm_prj <- project(vect(adm), \"epsg:6933\")\n",
    "\n",
    "load(s3_get(paste(f.path,\"rf_noclimate.RData\",sep=\"\")))\n",
    "#source(s3_get(paste(f.path,\"matching_func.R\",sep=\"\")))\n",
    "source(s3_get(paste(f.path,\"matching_func_2024.R\",sep=\"\")))\n",
    "\n",
    "flag <- \"run all\""
   ]
  },
  {
   "cell_type": "code",
   "execution_count": 7,
   "id": "d79924a1-23ba-40a0-81ee-87219004c19c",
   "metadata": {},
   "outputs": [
    {
     "name": "stdout",
     "output_type": "stream",
     "text": [
      "Step 5: Performing WK  24 GEDI extraction for Bpp \n"
     ]
    },
    {
     "name": "stderr",
     "output_type": "stream",
     "text": [
      "\u001b[36mℹ\u001b[39m \u001b[34m\u001b[34ms3://maap-ops-workspace/shared/leitoldv/GEDI_global_PA_v2/WDPA_matching_results/Bpp_wk24_filelist.csv\u001b[34m\u001b[39m already exists at \u001b[34m\u001b[34m/projects/.local/share/R/s3/maap-ops-workspace/shared/leitoldv/GEDI_global_PA_v2/WDPA_matching_results/Bpp_wk24_filelist.csv\u001b[34m\u001b[39m\n",
      "\n"
     ]
    },
    {
     "data": {
      "text/html": [
       "<style>\n",
       ".list-inline {list-style: none; margin:0; padding: 0}\n",
       ".list-inline>li {display: inline-block}\n",
       ".list-inline>li:not(:last-child)::after {content: \"\\00b7\"; padding: 0 .5ex}\n",
       "</style>\n",
       "<ol class=list-inline><li>'Bpp_pa_16083_matching_results_wk24.RDS'</li><li>'Bpp_pa_16091_matching_results_wk24.RDS'</li><li>'Bpp_pa_16092_matching_results_wk24.RDS'</li><li>'Bpp_pa_19448_matching_results_wk24.RDS'</li><li>'Bpp_pa_33601_matching_results_wk24.RDS'</li><li>'Bpp_pa_352082_matching_results_wk24.RDS'</li><li>'Bpp_pa_352575_matching_results_wk24.RDS'</li><li>'Bpp_pa_352576_matching_results_wk24.RDS'</li><li>'Bpp_pa_352578_matching_results_wk24.RDS'</li><li>'Bpp_pa_478460_matching_results_wk24.RDS'</li><li>'Bpp_pa_555542598_matching_results_wk24.RDS'</li><li>'Bpp_pa_555542614_matching_results_wk24.RDS'</li><li>'Bpp_pa_555542615_matching_results_wk24.RDS'</li><li>'Bpp_pa_555542616_matching_results_wk24.RDS'</li><li>'Bpp_pa_555542635_matching_results_wk24.RDS'</li><li>'Bpp_pa_555542636_matching_results_wk24.RDS'</li><li>'Bpp_pa_555542637_matching_results_wk24.RDS'</li><li>'Bpp_pa_555576468_matching_results_wk24.RDS'</li><li>'Bpp_pa_555600305_matching_results_wk24.RDS'</li><li>'Bpp_pa_555624851_matching_results_wk24.RDS'</li><li>'Bpp_pa_555636496_matching_results_wk24.RDS'</li><li>'Bpp_pa_555636497_matching_results_wk24.RDS'</li><li>'Bpp_pa_555682084_matching_results_wk24.RDS'</li><li>'Bpp_pa_555682099_matching_results_wk24.RDS'</li><li>'Bpp_pa_555682190_matching_results_wk24.RDS'</li><li>'Bpp_pa_555682217_matching_results_wk24.RDS'</li><li>'Bpp_pa_555682226_matching_results_wk24.RDS'</li><li>'Bpp_pa_555682259_matching_results_wk24.RDS'</li><li>'Bpp_pa_555682271_matching_results_wk24.RDS'</li><li>'Bpp_pa_555682349_matching_results_wk24.RDS'</li><li>'Bpp_pa_67817_matching_results_wk24.RDS'</li><li>'Bpp_pa_7908_matching_results_wk24.RDS'</li></ol>\n"
      ],
      "text/latex": [
       "\\begin{enumerate*}\n",
       "\\item 'Bpp\\_pa\\_16083\\_matching\\_results\\_wk24.RDS'\n",
       "\\item 'Bpp\\_pa\\_16091\\_matching\\_results\\_wk24.RDS'\n",
       "\\item 'Bpp\\_pa\\_16092\\_matching\\_results\\_wk24.RDS'\n",
       "\\item 'Bpp\\_pa\\_19448\\_matching\\_results\\_wk24.RDS'\n",
       "\\item 'Bpp\\_pa\\_33601\\_matching\\_results\\_wk24.RDS'\n",
       "\\item 'Bpp\\_pa\\_352082\\_matching\\_results\\_wk24.RDS'\n",
       "\\item 'Bpp\\_pa\\_352575\\_matching\\_results\\_wk24.RDS'\n",
       "\\item 'Bpp\\_pa\\_352576\\_matching\\_results\\_wk24.RDS'\n",
       "\\item 'Bpp\\_pa\\_352578\\_matching\\_results\\_wk24.RDS'\n",
       "\\item 'Bpp\\_pa\\_478460\\_matching\\_results\\_wk24.RDS'\n",
       "\\item 'Bpp\\_pa\\_555542598\\_matching\\_results\\_wk24.RDS'\n",
       "\\item 'Bpp\\_pa\\_555542614\\_matching\\_results\\_wk24.RDS'\n",
       "\\item 'Bpp\\_pa\\_555542615\\_matching\\_results\\_wk24.RDS'\n",
       "\\item 'Bpp\\_pa\\_555542616\\_matching\\_results\\_wk24.RDS'\n",
       "\\item 'Bpp\\_pa\\_555542635\\_matching\\_results\\_wk24.RDS'\n",
       "\\item 'Bpp\\_pa\\_555542636\\_matching\\_results\\_wk24.RDS'\n",
       "\\item 'Bpp\\_pa\\_555542637\\_matching\\_results\\_wk24.RDS'\n",
       "\\item 'Bpp\\_pa\\_555576468\\_matching\\_results\\_wk24.RDS'\n",
       "\\item 'Bpp\\_pa\\_555600305\\_matching\\_results\\_wk24.RDS'\n",
       "\\item 'Bpp\\_pa\\_555624851\\_matching\\_results\\_wk24.RDS'\n",
       "\\item 'Bpp\\_pa\\_555636496\\_matching\\_results\\_wk24.RDS'\n",
       "\\item 'Bpp\\_pa\\_555636497\\_matching\\_results\\_wk24.RDS'\n",
       "\\item 'Bpp\\_pa\\_555682084\\_matching\\_results\\_wk24.RDS'\n",
       "\\item 'Bpp\\_pa\\_555682099\\_matching\\_results\\_wk24.RDS'\n",
       "\\item 'Bpp\\_pa\\_555682190\\_matching\\_results\\_wk24.RDS'\n",
       "\\item 'Bpp\\_pa\\_555682217\\_matching\\_results\\_wk24.RDS'\n",
       "\\item 'Bpp\\_pa\\_555682226\\_matching\\_results\\_wk24.RDS'\n",
       "\\item 'Bpp\\_pa\\_555682259\\_matching\\_results\\_wk24.RDS'\n",
       "\\item 'Bpp\\_pa\\_555682271\\_matching\\_results\\_wk24.RDS'\n",
       "\\item 'Bpp\\_pa\\_555682349\\_matching\\_results\\_wk24.RDS'\n",
       "\\item 'Bpp\\_pa\\_67817\\_matching\\_results\\_wk24.RDS'\n",
       "\\item 'Bpp\\_pa\\_7908\\_matching\\_results\\_wk24.RDS'\n",
       "\\end{enumerate*}\n"
      ],
      "text/markdown": [
       "1. 'Bpp_pa_16083_matching_results_wk24.RDS'\n",
       "2. 'Bpp_pa_16091_matching_results_wk24.RDS'\n",
       "3. 'Bpp_pa_16092_matching_results_wk24.RDS'\n",
       "4. 'Bpp_pa_19448_matching_results_wk24.RDS'\n",
       "5. 'Bpp_pa_33601_matching_results_wk24.RDS'\n",
       "6. 'Bpp_pa_352082_matching_results_wk24.RDS'\n",
       "7. 'Bpp_pa_352575_matching_results_wk24.RDS'\n",
       "8. 'Bpp_pa_352576_matching_results_wk24.RDS'\n",
       "9. 'Bpp_pa_352578_matching_results_wk24.RDS'\n",
       "10. 'Bpp_pa_478460_matching_results_wk24.RDS'\n",
       "11. 'Bpp_pa_555542598_matching_results_wk24.RDS'\n",
       "12. 'Bpp_pa_555542614_matching_results_wk24.RDS'\n",
       "13. 'Bpp_pa_555542615_matching_results_wk24.RDS'\n",
       "14. 'Bpp_pa_555542616_matching_results_wk24.RDS'\n",
       "15. 'Bpp_pa_555542635_matching_results_wk24.RDS'\n",
       "16. 'Bpp_pa_555542636_matching_results_wk24.RDS'\n",
       "17. 'Bpp_pa_555542637_matching_results_wk24.RDS'\n",
       "18. 'Bpp_pa_555576468_matching_results_wk24.RDS'\n",
       "19. 'Bpp_pa_555600305_matching_results_wk24.RDS'\n",
       "20. 'Bpp_pa_555624851_matching_results_wk24.RDS'\n",
       "21. 'Bpp_pa_555636496_matching_results_wk24.RDS'\n",
       "22. 'Bpp_pa_555636497_matching_results_wk24.RDS'\n",
       "23. 'Bpp_pa_555682084_matching_results_wk24.RDS'\n",
       "24. 'Bpp_pa_555682099_matching_results_wk24.RDS'\n",
       "25. 'Bpp_pa_555682190_matching_results_wk24.RDS'\n",
       "26. 'Bpp_pa_555682217_matching_results_wk24.RDS'\n",
       "27. 'Bpp_pa_555682226_matching_results_wk24.RDS'\n",
       "28. 'Bpp_pa_555682259_matching_results_wk24.RDS'\n",
       "29. 'Bpp_pa_555682271_matching_results_wk24.RDS'\n",
       "30. 'Bpp_pa_555682349_matching_results_wk24.RDS'\n",
       "31. 'Bpp_pa_67817_matching_results_wk24.RDS'\n",
       "32. 'Bpp_pa_7908_matching_results_wk24.RDS'\n",
       "\n",
       "\n"
      ],
      "text/plain": [
       " [1] \"Bpp_pa_16083_matching_results_wk24.RDS\"    \n",
       " [2] \"Bpp_pa_16091_matching_results_wk24.RDS\"    \n",
       " [3] \"Bpp_pa_16092_matching_results_wk24.RDS\"    \n",
       " [4] \"Bpp_pa_19448_matching_results_wk24.RDS\"    \n",
       " [5] \"Bpp_pa_33601_matching_results_wk24.RDS\"    \n",
       " [6] \"Bpp_pa_352082_matching_results_wk24.RDS\"   \n",
       " [7] \"Bpp_pa_352575_matching_results_wk24.RDS\"   \n",
       " [8] \"Bpp_pa_352576_matching_results_wk24.RDS\"   \n",
       " [9] \"Bpp_pa_352578_matching_results_wk24.RDS\"   \n",
       "[10] \"Bpp_pa_478460_matching_results_wk24.RDS\"   \n",
       "[11] \"Bpp_pa_555542598_matching_results_wk24.RDS\"\n",
       "[12] \"Bpp_pa_555542614_matching_results_wk24.RDS\"\n",
       "[13] \"Bpp_pa_555542615_matching_results_wk24.RDS\"\n",
       "[14] \"Bpp_pa_555542616_matching_results_wk24.RDS\"\n",
       "[15] \"Bpp_pa_555542635_matching_results_wk24.RDS\"\n",
       "[16] \"Bpp_pa_555542636_matching_results_wk24.RDS\"\n",
       "[17] \"Bpp_pa_555542637_matching_results_wk24.RDS\"\n",
       "[18] \"Bpp_pa_555576468_matching_results_wk24.RDS\"\n",
       "[19] \"Bpp_pa_555600305_matching_results_wk24.RDS\"\n",
       "[20] \"Bpp_pa_555624851_matching_results_wk24.RDS\"\n",
       "[21] \"Bpp_pa_555636496_matching_results_wk24.RDS\"\n",
       "[22] \"Bpp_pa_555636497_matching_results_wk24.RDS\"\n",
       "[23] \"Bpp_pa_555682084_matching_results_wk24.RDS\"\n",
       "[24] \"Bpp_pa_555682099_matching_results_wk24.RDS\"\n",
       "[25] \"Bpp_pa_555682190_matching_results_wk24.RDS\"\n",
       "[26] \"Bpp_pa_555682217_matching_results_wk24.RDS\"\n",
       "[27] \"Bpp_pa_555682226_matching_results_wk24.RDS\"\n",
       "[28] \"Bpp_pa_555682259_matching_results_wk24.RDS\"\n",
       "[29] \"Bpp_pa_555682271_matching_results_wk24.RDS\"\n",
       "[30] \"Bpp_pa_555682349_matching_results_wk24.RDS\"\n",
       "[31] \"Bpp_pa_67817_matching_results_wk24.RDS\"    \n",
       "[32] \"Bpp_pa_7908_matching_results_wk24.RDS\"     "
      ]
     },
     "metadata": {},
     "output_type": "display_data"
    }
   ],
   "source": [
    "#---------------STEP5. GEDI PROCESSING ---------------- \n",
    "#using GEDI shots to extract the treatment/control status, also extract the MODIS PFT for AGB prediction\n",
    "\n",
    "# if (file.exists(paste(f.path,\"WDPA_GEDI_extract/\",iso3,\"_wk\",gediwk,\"/\",iso3,\"_gedi_extracted_matching_wk\",gediwk,\".RDS\", sep=\"\"))){\n",
    "cat(paste(\"Step 5: Performing WK \", gediwk, \"GEDI extraction for\", iso3,\"\\n\"))\n",
    "#matched_all <-read.csv(paste(f.path,\"WDPA_extract4_residual_PAs/\", iso3, \"_wk_\", gediwk, \"_null_matches_rerun.csv\",sep=\"\")) \n",
    "matched_all <- read.csv(s3_get(paste(f.path,\"WDPA_matching_results/\",iso3,\"_wk24_filelist.csv\",sep=\"\")))[,2]\n",
    "matched_all\n",
    "     "
   ]
  },
  {
   "cell_type": "code",
   "execution_count": 8,
   "id": "b6d1293d-7b7e-4f50-aba1-29a4b2867dd1",
   "metadata": {},
   "outputs": [
    {
     "name": "stderr",
     "output_type": "stream",
     "text": [
      "\n",
      "Attaching package: ‘magrittr’\n",
      "\n",
      "\n",
      "The following objects are masked from ‘package:terra’:\n",
      "\n",
      "    extract, inset\n",
      "\n",
      "\n",
      "\n",
      "Attaching package: ‘tidyr’\n",
      "\n",
      "\n",
      "The following object is masked from ‘package:magrittr’:\n",
      "\n",
      "    extract\n",
      "\n",
      "\n",
      "The following object is masked from ‘package:terra’:\n",
      "\n",
      "    extract\n",
      "\n",
      "\n"
     ]
    },
    {
     "name": "stdout",
     "output_type": "stream",
     "text": [
      "[1] \"Bpp_pa_16083_matching_results_wk24.RDS\"\n",
      "[1] \"Bpp_pa_16091_matching_results_wk24.RDS\"\n",
      "[1] \"Bpp_pa_16092_matching_results_wk24.RDS\"\n",
      "[1] \"Bpp_pa_19448_matching_results_wk24.RDS\"\n",
      "[1] \"Bpp_pa_33601_matching_results_wk24.RDS\"\n",
      "[1] \"Bpp_pa_352082_matching_results_wk24.RDS\"\n",
      "[1] \"Bpp_pa_352575_matching_results_wk24.RDS\"\n",
      "[1] \"Bpp_pa_352576_matching_results_wk24.RDS\"\n",
      "[1] \"Bpp_pa_352578_matching_results_wk24.RDS\"\n",
      "[1] \"Bpp_pa_478460_matching_results_wk24.RDS\"\n",
      "[1] \"Bpp_pa_555542598_matching_results_wk24.RDS\"\n",
      "[1] \"Bpp_pa_555542614_matching_results_wk24.RDS\"\n",
      "[1] \"Bpp_pa_555542615_matching_results_wk24.RDS\"\n",
      "[1] \"Bpp_pa_555542616_matching_results_wk24.RDS\"\n",
      "[1] \"Bpp_pa_555542635_matching_results_wk24.RDS\"\n",
      "[1] \"Bpp_pa_555542636_matching_results_wk24.RDS\"\n",
      "[1] \"Bpp_pa_555542637_matching_results_wk24.RDS\"\n",
      "[1] \"Bpp_pa_555576468_matching_results_wk24.RDS\"\n",
      "[1] \"Bpp_pa_555600305_matching_results_wk24.RDS\"\n",
      "[1] \"Bpp_pa_555624851_matching_results_wk24.RDS\"\n",
      "[1] \"Bpp_pa_555636496_matching_results_wk24.RDS\"\n",
      "[1] \"Bpp_pa_555636497_matching_results_wk24.RDS\"\n",
      "[1] \"Bpp_pa_555682084_matching_results_wk24.RDS\"\n",
      "[1] \"Bpp_pa_555682099_matching_results_wk24.RDS\"\n",
      "[1] \"Bpp_pa_555682190_matching_results_wk24.RDS\"\n",
      "[1] \"Bpp_pa_555682217_matching_results_wk24.RDS\"\n",
      "[1] \"Bpp_pa_555682226_matching_results_wk24.RDS\"\n",
      "[1] \"Bpp_pa_555682259_matching_results_wk24.RDS\"\n",
      "[1] \"Bpp_pa_555682271_matching_results_wk24.RDS\"\n",
      "[1] \"Bpp_pa_555682349_matching_results_wk24.RDS\"\n",
      "[1] \"Bpp_pa_67817_matching_results_wk24.RDS\"\n",
      "[1] \"Bpp_pa_7908_matching_results_wk24.RDS\"\n"
     ]
    },
    {
     "data": {
      "text/html": [
       "31"
      ],
      "text/latex": [
       "31"
      ],
      "text/markdown": [
       "31"
      ],
      "text/plain": [
       "[1] 31"
      ]
     },
     "metadata": {},
     "output_type": "display_data"
    }
   ],
   "source": [
    "f.path <- \"/projects/my-public-bucket/GEDI_global_PA_v2/\"\n",
    "#f.path <- \"s3://maap-ops-workspace/shared/leitoldv/GEDI_global_PA_v2/\"\n",
    "\n",
    "matched_PAs <- foreach(this_rds=matched_all, .combine = c, .packages=c('sp','magrittr', 'dplyr','tidyr','terra')) %do% {  #non-NA matched results\n",
    "  matched_PAs=c()\n",
    "  print(this_rds)\n",
    "  if(nchar(iso3)>3){\n",
    "    id_pa <- basename(this_rds)%>%readr::parse_number() %>% unique()  \n",
    "  } else {\n",
    "    id_pa <- basename(this_rds)%>%readr::parse_number() %>% unique()\n",
    "  }\n",
    "  matched <- readRDS(paste(f.path,\"WDPA_matching_results/\",iso3,\"_wk\",gediwk,\"/\",iso3,\"_pa_\",id_pa,\"_matching_results_wk\",gediwk,\".RDS\",sep=\"\"))\n",
    "  if(!is.null(matched)){\n",
    "    if(nrow(matched)!=0){\n",
    "      matched_PAs=c(matched_PAs,this_rds) \n",
    "    }\n",
    "  }else {\n",
    "    # print(this_rds)\n",
    "    matched_PAs=matched_PAs\n",
    "  }\n",
    "  return(matched_PAs)\n",
    "}\n",
    "length(matched_PAs)"
   ]
  },
  {
   "cell_type": "code",
   "execution_count": 9,
   "id": "0a062203-2c43-46ec-a811-6dfc3b3ab110",
   "metadata": {},
   "outputs": [
    {
     "name": "stdout",
     "output_type": "stream",
     "text": [
      "Step 5: runing extraction on all 31 of non-NA matched results in Bpp \n"
     ]
    }
   ],
   "source": [
    "if(flag==\"run all\"){  #determine how many PAs to run the extraction process\n",
    "  matched_PAs <- matched_PAs\n",
    "  cat(\"Step 5: runing extraction on all\", length(matched_PAs),\"of non-NA matched results in\", iso3,\"\\n\")\n",
    "} else if (flag==\"run remaining\"){\n",
    "  pattern1 = c(paste(\"wk\",gediwk,sep=\"\"),\"RDS\")\n",
    "  extracted_PAid <- list.files(paste(f.path3,\"WDPA_GEDI_extract/\",iso3,\"_wk\",gediwk,\"/\",sep=\"\"), full.names = F, pattern=paste0(pattern1, collapse=\"|\"))%>%\n",
    "    readr::parse_number() %>% unique()\n",
    "  matched_PA_id <- matched_PAs %>% readr::parse_number()\n",
    "  runPA_id <- matched_PA_id[!(matched_PA_id %in% extracted_PAid)]\n",
    "  if (length(runPA_id)>0){\n",
    "    Pattern2 <-  paste(runPA_id, collapse=\"|\")\n",
    "    runPA <-  matched_PAs[grepl(Pattern2,matched_PAs)]\n",
    "    # runPA_ind <- str_detect(matched_PAs, paste(runPA_id, collapse = \"|\"))\n",
    "    matched_PAs <-runPA\n",
    "  } else {\n",
    "    matched_PAs <- NULL\n",
    "    cat(\"Step 5 already done for\", iso3, \"\\n\")\n",
    "  }\n",
    "}"
   ]
  },
  {
   "cell_type": "code",
   "execution_count": 10,
   "id": "5aec7792-0c33-4bb8-98b0-8f53dcf38072",
   "metadata": {},
   "outputs": [
    {
     "data": {
      "text/html": [
       "'Bpp_pa_16083_matching_results_wk24.RDS'"
      ],
      "text/latex": [
       "'Bpp\\_pa\\_16083\\_matching\\_results\\_wk24.RDS'"
      ],
      "text/markdown": [
       "'Bpp_pa_16083_matching_results_wk24.RDS'"
      ],
      "text/plain": [
       "[1] \"Bpp_pa_16083_matching_results_wk24.RDS\""
      ]
     },
     "metadata": {},
     "output_type": "display_data"
    }
   ],
   "source": [
    "matched_PAs[1]"
   ]
  },
  {
   "cell_type": "code",
   "execution_count": 11,
   "id": "217fde1f-e76c-4a1f-9e0e-bdba87d3c239",
   "metadata": {},
   "outputs": [],
   "source": [
    "#f.path <- \"s3://maap-ops-workspace/shared/leitoldv/GEDI_global_PA_v2/\"\n",
    "#source(s3_get(paste(f.path,\"matching_func_2024.R\",sep=\"\")))\n",
    "f.path <- \"/projects/my-public-bucket/GEDI_global_PA_v2/\"\n",
    "source(paste(f.path,\"matching_func_2024.R\",sep=\"\"))"
   ]
  },
  {
   "cell_type": "code",
   "execution_count": null,
   "id": "94251855-eaa3-4110-bc94-58dd25bfbe24",
   "metadata": {},
   "outputs": [
    {
     "name": "stdout",
     "output_type": "stream",
     "text": [
      "Bpp converting the matched csv to a raster stack for extraction\n",
      "\n",
      "0 1 \n",
      "5 5 \n"
     ]
    },
    {
     "name": "stderr",
     "output_type": "stream",
     "text": [
      "\u001b[36mℹ\u001b[39m \u001b[34m\u001b[34ms3://maap-ops-workspace/shared/leitoldv/GEDI_global_PA_v2/vero_1deg_tileindex/tileindex_Bpp.csv\u001b[34m\u001b[39m already exists at \u001b[34m\u001b[34m/projects/.local/share/R/s3/maap-ops-workspace/shared/leitoldv/GEDI_global_PA_v2/vero_1deg_tileindex/tileindex_Bpp.csv\u001b[34m\u001b[39m\n",
      "\n"
     ]
    }
   ],
   "source": [
    "f.path <- \"/projects/my-public-bucket/GEDI_global_PA_v2/\"\n",
    "\n",
    "this_rds <- matched_PAs[1]\n",
    "id_pa <- basename(this_rds) %>% readr::parse_number() %>% unique()\n",
    "    \n",
    "    matched <- readRDS(paste(f.path,\"WDPA_matching_results/\",iso3,\"_wk\",gediwk,\"/\",iso3,\"_pa_\",id_pa,\"_matching_results_wk\",gediwk,\".RDS\",sep=\"\"))\n",
    "  \n",
    "    if (is.null(matched)==TRUE  | nrow(matched)==0) {\n",
    "        cat(\"Matched result is null for PA\", id_pa, \"quitting...\\n\")\n",
    "        next  # Skip to the next iteration\n",
    "    } else if (!is.null(matched)==TRUE){\n",
    "    mras  <- tryCatch(matched2ras(matched),\n",
    "                      error=function(cond){\n",
    "                        message(cond)\n",
    "                        cat(\"Matched result is likely null for country\", iso3,\"pa\", id_pa, \"dimension of the match is\", dim(matched),\"\\n\")\n",
    "                        # writeLines(\"Matched results is likely null for country\", paste(f.path,\"WDPA_log/\",iso3,\"_log_matching.txt\", sep=\"\"))\n",
    "                        return(NULL)}) #convert the macthed df to a raster stack \n",
    "    print(table(mras$status[]))\n",
    "    if(table(mras$status[])[2]==0 | table(mras$status[])[1]==0 | is.null(mras)){\n",
    "      cat(\"Rasterized results unbalanced for PA\", id_pa, \"quitting...\\n\")\n",
    "      next  # Skip to the next iteration\n",
    "    } else {\n",
    "        \n",
    "      startTime <- Sys.time()\n",
    "        \n",
    "      iso_matched_gedi <- extract_gedi(matched=matched, mras=mras, iso3=iso3)#}  #run filtered csvs on mras for extarction\n",
    "        \n",
    "        if (is.null(iso_matched_gedi)) {\n",
    "        cat(\"Matched result is null for PA\", id_pa, \"quitting...\\n\")\n",
    "        next  # Skip to the next iteration\n",
    "        }\n",
    "\n",
    "      tElapsed <- Sys.time()-startTime\n",
    "      cat(tElapsed, \"for extracting all PAs in\", iso3,\"\\n\")\n",
    "      cat(\"Done GEDI for no. \",grep(unique(matched$pa_id), matched_PAs),\"pa out of\", length(matched_PAs),\"\\n\")\n",
    "\n",
    "      iso_matched_gedi <-  iso_matched_gedi %>%\n",
    "            dplyr::select(\"pa_id\",\"status\",\n",
    "                      \"wwfbiom\",\"wwfecoreg\",\"shot_number\",\"lon_lowestmode\", \n",
    "                      \"lat_lowestmode\", \"lon_lowestmode\", \n",
    "                      \"lat_lowestmode\",\"rh25\", \"rh50\", \"rh75\",\"rh90\", \"rh98\")  #write to individual country folder\n",
    "        \n",
    "      if (length(unique(iso_matched_gedi$wwfbiom)) >1){\n",
    "#       pabiome <- iso_matched_gedi$wwfbiom %>% unique() %>% gsub(\"\\b(\\pL)\\pL{2,}|.\",\"\\U\\1\",.,perl = TRUE)%>% str_c( collapse = \"+\")\n",
    "        pabiome <- iso_matched_gedi$wwfbiom %>% unique() %>% str_replace_all(\"\\\\b(\\\\p{L})\\\\p{L}{2,}|.\", \"\\\\U\\\\1\", perl = TRUE) %>% str_c(collapse = \"+\")\n",
    "      } else if (length(unique(iso_matched_gedi$wwfbiom))==1){\n",
    "        pabiome <- iso_matched_gedi$wwfbiom %>% unique() %>% str_replace_all(\"\\\\b(\\\\p{L})\\\\p{L}{2,}|.\", \"\\\\U\\\\1\", perl = TRUE)\n",
    "      } else {\n",
    "        pabiome <- iso_matched_gedi$wwfbiom %>% unique() }\n",
    "        continent <- unique(iso_matched_gedi$region) %>% getmode()\n",
    "      print(paste('output df',dim(iso_matched_gedi)))\n",
    "\n",
    "      dir.create(file.path(paste(f.path,\"WDPA_GEDI_extract/\",sep=\"\")),recursive=TRUE)\n",
    "      saveRDS(iso_matched_gedi, file=paste(f.path,\"WDPA_GEDI_extract/\",iso3,\"_pa_\", id_pa,\"_gedi_wk_\",gediwk,\"_conti_\",\"biome_\",pabiome,\".RDS\", sep=\"\"))\n",
    "      write.csv(iso_matched_gedi, file=paste(f.path,\"WDPA_GEDI_extract/\",iso3,\"_pa_\", id_pa,\"_iso_matched_gedi_sub_wk_\",gediwk,\".csv\", sep=\"\"))\n",
    "      cat(id_pa,\"in\",iso3,\"result is written to dir\\n\")\n",
    "    }\n",
    "    }\n",
    "    \n",
    "    return(NULL)"
   ]
  },
  {
   "cell_type": "code",
   "execution_count": null,
   "id": "a5cebaba-a975-4056-b5ba-92d57181066b",
   "metadata": {},
   "outputs": [],
   "source": []
  },
  {
   "cell_type": "code",
   "execution_count": null,
   "id": "34b5f39f-af66-4910-b8da-eeca2ba73997",
   "metadata": {},
   "outputs": [],
   "source": []
  },
  {
   "cell_type": "code",
   "execution_count": null,
   "id": "a4f1cc8f-9745-4a84-a747-a35122daf9a4",
   "metadata": {},
   "outputs": [],
   "source": [
    "allOut <- read.csv(\"~/GEDI_PA/vl_GEDI-PA_2024/GNB_pa.csv\")"
   ]
  },
  {
   "cell_type": "code",
   "execution_count": null,
   "id": "bf01bd09-b276-4b31-a0be-24a30da120d0",
   "metadata": {},
   "outputs": [],
   "source": [
    "data_sf <- st_as_sf(allOut, coords = c(\"lon\", \"lat\"), crs = 4326)\n"
   ]
  },
  {
   "cell_type": "code",
   "execution_count": null,
   "id": "f047b5af-a71f-4e7d-b6cd-1daf73552bcd",
   "metadata": {},
   "outputs": [],
   "source": [
    "results <- s3$list_objects_v2(Bucket = \"maap-ops-workspace\", \n",
    "                            Prefix=paste(\"shared/abarenblitt/GEDI_global_PA_v2/WDPA_gedi_L2A_tiles/\",sep=\"\"))\n",
    "    all_gedil2_f <- sapply(results$Contents, function(x) {x$Key})\n",
    "    pattern=paste(\".gpkg\",sep=\"\")\n",
    "    all_gedil2_f <- grep(pattern, all_gedil2_f, value=TRUE)\n",
    "    all_gedil2_f <- basename(all_gedil2_f)[4:5] #Currently specifying working files\n",
    "    \n",
    "    results4 <- s3$list_objects_v2(Bucket = \"maap-ops-workspace\", \n",
    "                                Prefix=paste(\"shared/abarenblitt/GEDI_global_PA_v2/WDPA_gedi_L4A_tiles/\",sep=\"\"))\n",
    "    all_gedil4_f <- sapply(results4$Contents, function(x) {x$Key})\n",
    "    pattern4=paste(\".gpkg\",sep=\"\")\n",
    "    all_gedil4_f <- grep(pattern4, all_gedil4_f, value=TRUE)\n",
    "    all_gedil4_f <- basename(all_gedil4_f)[4:5] #Currently specifying working files\n"
   ]
  },
  {
   "cell_type": "code",
   "execution_count": null,
   "id": "6da39210-60df-4301-b3ce-7ea90ad04653",
   "metadata": {},
   "outputs": [],
   "source": [
    "all_gedil2_f"
   ]
  },
  {
   "cell_type": "code",
   "execution_count": null,
   "id": "8877d7c6-39b4-41fc-8f71-64bc577b2899",
   "metadata": {},
   "outputs": [],
   "source": [
    "gedil4_f <- as.data.frame(st_read(paste(gedipath,\"WDPA_gedi_L4A_tiles/\",all_gedil4_f[this_csvid],sep=\"\")))"
   ]
  },
  {
   "cell_type": "code",
   "execution_count": null,
   "id": "ee484121-e2b0-4e3d-80be-a2990fdbc12a",
   "metadata": {},
   "outputs": [],
   "source": [
    "gedil2_f <- as.data.frame(st_read(paste(gedipath,\"WDPA_gedi_L2A_tiles/\",all_gedil2_f[this_csvid],sep=\"\")))"
   ]
  },
  {
   "cell_type": "code",
   "execution_count": null,
   "id": "82ab4551-085a-4314-884d-4ea1e80df2ff",
   "metadata": {},
   "outputs": [],
   "source": [
    "results <- s3$list_objects_v2(Bucket = \"maap-ops-workspace\", \n",
    "                            Prefix=paste(\"shared/abarenblitt/GEDI_global_PA_v2/WDPA_gedi_L2A_tiles/\",sep=\"\"))\n",
    "    all_gedil2_f <- sapply(results$Contents, function(x) {x$Key})\n",
    "    pattern=paste(\".gpkg\",sep=\"\")\n",
    "    all_gedil2_f <- grep(pattern, all_gedil2_f, value=TRUE)\n",
    "    all_gedil2_f <- basename(all_gedil2_f)[4:5]\n",
    "\n",
    "all_gedil2_f"
   ]
  },
  {
   "cell_type": "code",
   "execution_count": null,
   "id": "367f2087-5adc-4126-bafc-f5d3a53272cd",
   "metadata": {},
   "outputs": [],
   "source": []
  },
  {
   "cell_type": "code",
   "execution_count": null,
   "id": "7826e144-47be-4c8d-a694-1f74a453f44b",
   "metadata": {},
   "outputs": [],
   "source": [
    "extract_gedi <- function(matched, mras){\n",
    "    results <- s3$list_objects_v2(Bucket = \"maap-ops-workspace\", \n",
    "                            Prefix=paste(\"shared/abarenblitt/GEDI_global_PA_v2/WDPA_gedi_L2A_tiles/\",sep=\"\"))\n",
    "    all_gedil2_f <- sapply(results$Contents, function(x) {x$Key})\n",
    "    pattern=paste(\".gpkg\",sep=\"\")\n",
    "    all_gedil2_f <- grep(pattern, all_gedil2_f, value=TRUE)\n",
    "    all_gedil2_f <- basename(all_gedil2_f)[4:5] #Currently specifying working files\n",
    "    \n",
    "    results4 <- s3$list_objects_v2(Bucket = \"maap-ops-workspace\", \n",
    "                                Prefix=paste(\"shared/abarenblitt/GEDI_global_PA_v2/WDPA_gedi_L4A_tiles/\",sep=\"\"))\n",
    "    all_gedil4_f <- sapply(results4$Contents, function(x) {x$Key})\n",
    "    pattern4=paste(\".gpkg\",sep=\"\")\n",
    "    all_gedil4_f <- grep(pattern4, all_gedil4_f, value=TRUE)\n",
    "    all_gedil4_f <- basename(all_gedil4_f)[4:5] #Currently specifying working files\n",
    "  \n",
    "    # Initialize an empty list to store results\n",
    "    results_list <- list()\n",
    "    iso_matched_gedi_df <- NULL # Initialize before loop\n",
    "\n",
    "            # Iterate over the sequence of indices for your files\n",
    "    for (this_csvid in seq_along(all_gedil2_f)) {\n",
    "                cat(\"Reading in no. \", this_csvid, \"csv of \", length(all_gedil2_f), \"csvs for iso3\", iso3, \"\\n\")\n",
    "                \n",
    "                # Read GEDI L4A data\n",
    "                gedil4_f_path <- paste(gedipath, \"WDPA_gedi_L4A_tiles/\", all_gedil4_f[this_csvid], sep = \"\")\n",
    "                gedil4_f <- as.data.frame(st_read(gedil4_f_path))\n",
    "                \n",
    "                # Read GEDI L2A data\n",
    "                gedil2_f_path <- paste(gedipath, \"WDPA_gedi_L2A_tiles/\", all_gedil2_f[this_csvid], sep = \"\")\n",
    "                gedil2_f <- as.data.frame(st_read(gedil2_f_path))\n",
    "            \n",
    "                # Check if GEDI L4A data is empty\n",
    "                if (nrow(gedil4_f) < 1) {\n",
    "                    cat(\"Error: No data for GEDI L4A\\n\")\n",
    "                    gedi_l24 <- gedil2_f\n",
    "                    gedi_l24\n",
    "agbd_se <- NA\n",
    "                    gedi_l24\n",
    "agbd_t_se <- NA\n",
    "                } else {\n",
    "                    # Select relevant columns from GEDI L4A\n",
    "                    gedi_l4_sub <- gedil4_f %>%\n",
    "                        dplyr::select(shot_number, agbd, agbd_se, agbd_t, agbd_t_se)\n",
    "                    \n",
    "                    # Join with GEDI L2A data\n",
    "                    gedi_l24 <- inner_join(gedil2_f, gedi_l4_sub, by = \"shot_number\")\n",
    "                }\n",
    "            \n",
    "                print(dim(gedi_l24))\n",
    "            \n",
    "                # Initialize empty spatial object for the current iteration\n",
    "                gedi_l24_sp <- NULL\n",
    "            \n",
    "                # Convert to spatial points data frame if there is data\n",
    "                if (nrow(gedi_l24) > 0) {\n",
    "                    gedi_l24_sp <- SpatialPointsDataFrame(\n",
    "                        coords = gedi_l24[, c(\"lon_lowestmode\", \"lat_lowestmode\")],\n",
    "                        data = gedi_l24,\n",
    "                        proj4string = CRS(\"+init=epsg:4326\")\n",
    "                    ) %>% spTransform(CRS(\"+init=epsg:6933\"))\n",
    "                matched_gedi <- terra::extract(mras,vect(gedi_l24_sp), df=TRUE)\n",
    "                matched_gedi_metrics <- cbind(matched_gedi,gedi_l24_sp@data)\n",
    "                matched_gedi_metrics_filtered <- matched_gedi_metrics %>% dplyr::filter(!is.na(status)) %>% \n",
    "                convertFactor(matched0 = matched,exgedi = .) \n",
    "\n",
    "            iso_matched_gedi_df <- rbind(matched_gedi_metrics_filtered,iso_matched_gedi_df)\n",
    "            print(dim(iso_matched_gedi_df))\n",
    "         }\n",
    "        \n",
    "        # Store results in a list\n",
    "        results_list[[this_csvid]] <- iso_matched_gedi_df\n",
    "    }\n",
    "    \n",
    "    # Combine all results\n",
    "    if (!is.null(iso_matched_gedi_df)) {\n",
    "        iso_matched_gedi_df <- do.call(rbind, results_list)\n",
    "    }\n",
    "    \n",
    "    cat(\"Done GEDI processing\\n\")\n",
    "    return(iso_matched_gedi_df)\n",
    "}\n",
    "     "
   ]
  },
  {
   "cell_type": "code",
   "execution_count": null,
   "id": "55f858d4-1e63-4b8c-83ef-bd0a2df3ad82",
   "metadata": {},
   "outputs": [],
   "source": [
    "ex_out <- for (this_csvid in seq_along(length(all_gedil2_f))) {\n",
    "        ##add the GEDI l4a model prediction for AGB here :\n",
    "        cat(\"Readng in no. \", this_csvid,\"csv of \", length(all_gedil2_f),\"csvs for iso3\",iso3,\"\\n\")\n",
    "\n",
    "    # for (this_gedi4 in all_gedil4_f[this_csvid]){\n",
    "            gedil4_f <- as.data.frame(st_read(paste(gedipath,\"WDPA_gedi_L4A_tiles/\",all_gedil4_f[this_csvid],sep=\"\")))\n",
    "    # }\n",
    "    # for (this_gedi2 in all_gedil2_f[this_csvid]){\n",
    "            gedil2_f <- as.data.frame(st_read(paste(gedipath,\"WDPA_gedi_L2A_tiles/\",all_gedil2_f[this_csvid],sep=\"\")))\n",
    "    # }\n",
    "            if (nrow(gedil4_f) < 1){   #is.na(gedi_l4) || \n",
    "              cat(\"error\")\n",
    "              gedi_l24 <- gedil2_f\n",
    "              gedi_l24\n",
    "agbd_se <- NA\n",
    "              gedi_l24\n",
    "agbd_t_se <- NA\n",
    "            } else {\n",
    "              gedi_l4_sub <- gedil4_f %>%\n",
    "                dplyr::select(shot_number, agbd, agbd_se, agbd_t, agbd_t_se)\n",
    "              gedi_l24 <- inner_join(gedil2_f, gedi_l4_sub, by=\"shot_number\")\n",
    "\n",
    "            }\n",
    "\n",
    "        print(dim(gedi_l24))\n",
    "        iso_matched_gedi_df <- data.frame()\n",
    "        if(nrow(gedi_l24)>0){\n",
    "            gedi_l24_sp <- gedi_l24 %>% \n",
    "                SpatialPointsDataFrame(coords=.[,c(\"lon_lowestmode\",\"lat_lowestmode\")],\n",
    "                                     proj4string=CRS(\"+init=epsg:4326\"), data=.) %>%spTransform(., CRS(\"+init=epsg:6933\"))\n",
    "        }\n",
    "        return(gedi_l24_sp)\n",
    "}\n",
    "     "
   ]
  },
  {
   "cell_type": "code",
   "execution_count": null,
   "id": "15b3f1c0-fc2b-493d-ab92-75c17b21b727",
   "metadata": {},
   "outputs": [],
   "source": [
    "results_list <- list()\n",
    "\n",
    "# Iterate over the sequence of indices for your files\n",
    "for (this_csvid in seq_along(all_gedil2_f)) {\n",
    "    cat(\"Reading in no. \", this_csvid, \"csv of \", length(all_gedil2_f), \"csvs for iso3\", iso3, \"\\n\")\n",
    "    \n",
    "    # Read GEDI L4A data\n",
    "    gedil4_f_path <- paste(gedipath, \"WDPA_gedi_L4A_tiles/\", all_gedil4_f[this_csvid], sep = \"\")\n",
    "    gedil4_f <- as.data.frame(st_read(gedil4_f_path))\n",
    "    \n",
    "    # Read GEDI L2A data\n",
    "    gedil2_f_path <- paste(gedipath, \"WDPA_gedi_L2A_tiles/\", all_gedil2_f[this_csvid], sep = \"\")\n",
    "    gedil2_f <- as.data.frame(st_read(gedil2_f_path))\n",
    "\n",
    "    # Check if GEDI L4A data is empty\n",
    "    if (nrow(gedil4_f) < 1) {\n",
    "        cat(\"Error: No data for GEDI L4A\\n\")\n",
    "        gedi_l24 <- gedil4_f\n",
    "        gedi_l24\n",
    "agbd_se <- NA\n",
    "        gedi_l24\n",
    "agbd_t_se <- NA\n",
    "    } else {\n",
    "        # Select relevant columns from GEDI L4A\n",
    "        gedi_l4_sub <- gedil4_f %>%\n",
    "            dplyr::select(shot_number, agbd, agbd_se, agbd_t, agbd_t_se)\n",
    "        \n",
    "        # Join with GEDI L2A data\n",
    "        gedi_l24 <- inner_join(gedil2_f, gedi_l4_sub, by = \"shot_number\")\n",
    "    }\n",
    "\n",
    "    print(dim(gedi_l24))\n",
    "\n",
    "    # Initialize empty spatial object for the current iteration\n",
    "    gedi_l24_sp <- NULL\n",
    "\n",
    "    # Convert to spatial points data frame if there is data\n",
    "    if (nrow(gedi_l24) > 0) {\n",
    "        gedi_l24_sp <- SpatialPointsDataFrame(\n",
    "            coords = gedi_l24[, c(\"lon_lowestmode\", \"lat_lowestmode\")],\n",
    "            data = gedi_l24,\n",
    "            proj4string = CRS(\"+init=epsg:4326\")\n",
    "        ) %>% spTransform(CRS(\"+init=epsg:6933\"))\n",
    "    }\n",
    "    \n",
    "    # Store result in the list\n",
    "    results_list[[this_csvid]] <- gedi_l24_sp\n",
    "}"
   ]
  },
  {
   "cell_type": "code",
   "execution_count": null,
   "id": "17bb918f-995c-44b0-bf3c-a9d7c3856540",
   "metadata": {},
   "outputs": [],
   "source": [
    "single_result <- results_list[[2]]\n"
   ]
  },
  {
   "cell_type": "code",
   "execution_count": null,
   "id": "d041d815-1b0a-4852-b76f-64d64a84b3d1",
   "metadata": {},
   "outputs": [],
   "source": [
    "single_result_sf <- st_as_sf(single_result)\n"
   ]
  },
  {
   "cell_type": "code",
   "execution_count": null,
   "id": "4361aefc-cae8-443b-8b42-7a0e82813d76",
   "metadata": {},
   "outputs": [],
   "source": [
    "matched<-readRDS(\"~/output/WDPA_matching_results/GNB_wk24/GNB_pa_351088_matching_results_wk24.RDS\")\n"
   ]
  },
  {
   "cell_type": "code",
   "execution_count": null,
   "id": "2b0817b0-0345-4623-96e1-c36dd5ca7dc7",
   "metadata": {},
   "outputs": [],
   "source": [
    "ggplot(data_sf) +\n",
    "  geom_sf(aes(color = status), size = 1) + \n",
    "  geom_sf(data = single_result_sf, color = \"black\", linetype = \"dashed\") +\n",
    "  theme_minimal() +\n",
    "  scale_color_manual(values = c(\"TRUE\" = \"purple\", \"FALSE\" = \"blue\"))+\n",
    "  labs(title = \"Spatial Points from CSV\",\n",
    "       x = \"Longitude\",\n",
    "       y = \"Latitude\",\n",
    "      color = \"Status\")\n",
    "     \n"
   ]
  },
  {
   "cell_type": "code",
   "execution_count": null,
   "id": "871c3203-d213-42b3-a807-ff159426c74c",
   "metadata": {},
   "outputs": [],
   "source": [
    "all_gedil2_f\n"
   ]
  },
  {
   "cell_type": "code",
   "execution_count": null,
   "id": "abb485d7-fbbf-45c2-b660-5c03ba5c882b",
   "metadata": {},
   "outputs": [],
   "source": [
    "gediGrid<-st_read(\"~/my-public-bucket/GEDI_global_PA_v2/WDPA_gedi_L2A_tiles/tile_num_29599_L2A.gpkg\")\n"
   ]
  },
  {
   "cell_type": "code",
   "execution_count": null,
   "id": "591f68b4-50b5-46bd-8a9a-248cad7a76c8",
   "metadata": {},
   "outputs": [],
   "source": []
  }
 ],
 "metadata": {
  "kernelspec": {
   "display_name": "R",
   "language": "R",
   "name": "ir"
  },
  "language_info": {
   "codemirror_mode": "r",
   "file_extension": ".r",
   "mimetype": "text/x-r-source",
   "name": "R",
   "pygments_lexer": "r",
   "version": "4.2.3"
  }
 },
 "nbformat": 4,
 "nbformat_minor": 5
}
