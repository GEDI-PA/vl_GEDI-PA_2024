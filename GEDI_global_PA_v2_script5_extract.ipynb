{
 "cells": [
  {
   "cell_type": "code",
   "execution_count": null,
   "id": "32aeaaac-7d6f-488b-b136-ada54bb8f840",
   "metadata": {},
   "outputs": [],
   "source": [
    "## ---------------- SEP5 testing gedi extraction code -----------------------"
   ]
  },
  {
   "cell_type": "code",
   "execution_count": null,
   "id": "375b9c98-0ce5-4bb8-86dd-29410a0eabee",
   "metadata": {},
   "outputs": [],
   "source": [
    "##\n",
    "# conda install -c conda-forge r-optmatch\n",
    "# conda install -c conda-forge r-RItools\n",
    "##"
   ]
  },
  {
   "cell_type": "code",
   "execution_count": 68,
   "id": "bb019e34-2538-4e39-828f-e670636a0436",
   "metadata": {},
   "outputs": [
    {
     "name": "stderr",
     "output_type": "stream",
     "text": [
      "Updating HTML index of packages in '.Library'\n",
      "\n",
      "Making 'packages.html' ...\n",
      " done\n",
      "\n",
      "also installing the dependency ‘svd’\n",
      "\n",
      "\n",
      "Updating HTML index of packages in '.Library'\n",
      "\n",
      "Making 'packages.html' ...\n",
      " done\n",
      "\n"
     ]
    }
   ],
   "source": [
    "install.packages(\"s3\")\n",
    "install.packages(\"RItools\")    "
   ]
  },
  {
   "cell_type": "code",
   "execution_count": 3,
   "id": "aa085b6a-d865-4ff5-8c40-e26b9fe93940",
   "metadata": {},
   "outputs": [
    {
     "name": "stderr",
     "output_type": "stream",
     "text": [
      "terra 1.7.29\n",
      "\n",
      "\n",
      "Attaching package: ‘dplyr’\n",
      "\n",
      "\n",
      "The following objects are masked from ‘package:terra’:\n",
      "\n",
      "    intersect, union\n",
      "\n",
      "\n",
      "The following objects are masked from ‘package:stats’:\n",
      "\n",
      "    filter, lag\n",
      "\n",
      "\n",
      "The following objects are masked from ‘package:base’:\n",
      "\n",
      "    intersect, setdiff, setequal, union\n",
      "\n",
      "\n",
      "Linking to GEOS 3.11.2, GDAL 3.7.0, PROJ 9.2.0; sf_use_s2() is TRUE\n",
      "\n"
     ]
    },
    {
     "ename": "ERROR",
     "evalue": "Error in library(\"RItools\"): there is no package called ‘RItools’\n",
     "output_type": "error",
     "traceback": [
      "Error in library(\"RItools\"): there is no package called ‘RItools’\nTraceback:\n",
      "1. library(\"RItools\")"
     ]
    }
   ],
   "source": [
    "library(\"terra\")\n",
    "library(\"dplyr\")\n",
    "library(\"sf\")\n",
    "#install.packages(\"s3\")\n",
    "library(\"s3\")\n",
    "\n",
    "library(\"sp\")\n",
    "library(\"foreach\")\n",
    "library(\"stringr\")\n",
    "library(\"aws.s3\")\n",
    "#conda install -c conda-forge r-optmatch #r-ggmap r-hrbrthemes r-Hmisc\n",
    "#library(\"optmatch\")\n",
    "#install.packages(\"doParallel\")\n",
    "#library(\"doParallel\")\n",
    "#install.packages(\"RItools\")    \n",
    "library(\"RItools\")\n"
   ]
  },
  {
   "cell_type": "code",
   "execution_count": 4,
   "id": "62cdb96c-9e67-4aa4-ac5d-436e5d467d8b",
   "metadata": {},
   "outputs": [],
   "source": [
    "#s3 <- paws::s3()"
   ]
  },
  {
   "cell_type": "code",
   "execution_count": 5,
   "id": "2ced8004-1639-432b-9c12-d0cb5f6632fc",
   "metadata": {},
   "outputs": [],
   "source": [
    "#To test, we define the variables manually. For final version, run the commented out section below\n",
    "#iso3 <-\"Bpt\"\n",
    "iso3 <-\"Bpt\"\n",
    "gediwk <- 24\n",
    "mproc <- 1"
   ]
  },
  {
   "cell_type": "code",
   "execution_count": 6,
   "id": "6d063ab5-b6c7-45a5-b852-55e85691de33",
   "metadata": {},
   "outputs": [],
   "source": [
    "#-------------------------------------------------------------------------------\n",
    "#args = commandArgs(trailingOnly=TRUE)\n",
    "#if (length(args)==0) {\n",
    "#  stop(\"At least one argument must be supplied (input file).n\", call.=FALSE)\n",
    "#} else if (length(args)>=1) {\n",
    "#  \n",
    "#  iso3 <- args[1]  #country to process\n",
    "#  gediwk <- args[2]   #the # of weeks GEDI data to use\n",
    "#  mproc <- as.integer(args[3])  #the number of cores to use for matching \n",
    "#}\n",
    "#-------------------------------------------------------------------------------"
   ]
  },
  {
   "cell_type": "code",
   "execution_count": 7,
   "id": "715b5c20-70ed-4406-9077-e0a70295e4f9",
   "metadata": {},
   "outputs": [
    {
     "name": "stdout",
     "output_type": "stream",
     "text": [
      "Step 0: Loading global variables for Bpt with wk 24 data \n"
     ]
    },
    {
     "name": "stderr",
     "output_type": "stream",
     "text": [
      "\u001b[36mℹ\u001b[39m \u001b[34m\u001b[34ms3://maap-ops-workspace/shared/leitoldv/GEDI_global_PA_v2/wwf_ecoregions_key.csv\u001b[34m\u001b[39m already exists at \u001b[34m\u001b[34m/projects/.local/share/R/s3/maap-ops-workspace/shared/leitoldv/GEDI_global_PA_v2/wwf_ecoregions_key.csv\u001b[34m\u001b[39m\n",
      "\n",
      "\u001b[36mℹ\u001b[39m \u001b[34m\u001b[34ms3://maap-ops-workspace/shared/leitoldv/GEDI_global_PA_v2/WDPA_shapefiles/WDPA_polygons/Bpt_PA_poly.rds\u001b[34m\u001b[39m already exists at \u001b[34m\u001b[34m/projects/.local/share/R/s3/maap-ops-workspace/shared/leitoldv/GEDI_global_PA_v2/WDPA_shapefiles/WDPA_polygons/Bpt_PA_poly.rds\u001b[34m\u001b[39m\n",
      "\n",
      "\u001b[36mℹ\u001b[39m \u001b[34m\u001b[34ms3://maap-ops-workspace/shared/leitoldv/GEDI_global_PA_v2/GEDI_ANCI_PFT_r1000m_EASE2.0_UMD_v1_projection_defined_6933.tif\u001b[34m\u001b[39m already exists at \u001b[34m\u001b[34m/projects/.local/share/R/s3/maap-ops-workspace/shared/leitoldv/GEDI_global_PA_v2/GEDI_ANCI_PFT_r1000m_EASE2.0_UMD_v1_projection_defined_6933.tif\u001b[34m\u001b[39m\n",
      "\n",
      "\u001b[36mℹ\u001b[39m \u001b[34m\u001b[34ms3://maap-ops-workspace/shared/leitoldv/GEDI_global_PA_v2/GEDI_ANCI_CONTINENT_r1000m_EASE2.0_UMD_v1_revised_projection_defined_6933.tif\u001b[34m\u001b[39m already exists at \u001b[34m\u001b[34m/projects/.local/share/R/s3/maap-ops-workspace/shared/leitoldv/GEDI_global_PA_v2/GEDI_ANCI_CONTINENT_r1000m_EASE2.0_UMD_v1_revised_projection_defined_6933.tif\u001b[34m\u001b[39m\n",
      "\n",
      "\u001b[36mℹ\u001b[39m all files already exist\n",
      "\n",
      "\u001b[36mℹ\u001b[39m \u001b[34m\u001b[34ms3://maap-ops-workspace/shared/leitoldv/GEDI_global_PA_v2/WDPA_countries/shp/Bpt.shp\u001b[34m\u001b[39m already exists at \u001b[34m\u001b[34m/projects/.local/share/R/s3/maap-ops-workspace/shared/leitoldv/GEDI_global_PA_v2/WDPA_countries/shp/Bpt.shp\u001b[34m\u001b[39m\n",
      "\n"
     ]
    },
    {
     "name": "stdout",
     "output_type": "stream",
     "text": [
      "Reading layer `Bpt' from data source \n",
      "  `/projects/.local/share/R/s3/maap-ops-workspace/shared/leitoldv/GEDI_global_PA_v2/WDPA_countries/shp/Bpt.shp' \n",
      "  using driver `ESRI Shapefile'\n",
      "Simple feature collection with 1 feature and 7 fields\n",
      "Geometry type: POLYGON\n",
      "Dimension:     XY\n",
      "Bounding box:  xmin: -59.18886 ymin: -22.11834 xmax: -54.92231 ymax: -15.52386\n",
      "Geodetic CRS:  WGS 84\n"
     ]
    },
    {
     "name": "stderr",
     "output_type": "stream",
     "text": [
      "\u001b[36mℹ\u001b[39m \u001b[34m\u001b[34ms3://maap-ops-workspace/shared/leitoldv/GEDI_global_PA_v2/rf_noclimate.RData\u001b[34m\u001b[39m already exists at \u001b[34m\u001b[34m/projects/.local/share/R/s3/maap-ops-workspace/shared/leitoldv/GEDI_global_PA_v2/rf_noclimate.RData\u001b[34m\u001b[39m\n",
      "\n",
      "\u001b[36mℹ\u001b[39m \u001b[34m\u001b[34ms3://maap-ops-workspace/shared/leitoldv/GEDI_global_PA_v2/vl_GEDI-PA_2024/matching_func_2024.R\u001b[34m\u001b[39m already exists at \u001b[34m\u001b[34m/projects/.local/share/R/s3/maap-ops-workspace/shared/leitoldv/GEDI_global_PA_v2/vl_GEDI-PA_2024/matching_func_2024.R\u001b[34m\u001b[39m\n",
      "\n"
     ]
    }
   ],
   "source": [
    "cat(\"Step 0: Loading global variables for\", iso3,\"with wk\", gediwk, \"data \\n\")\n",
    "\n",
    "#f.path <- \"/projects/my-public-bucket/GEDI_global_PA_v2/\"\n",
    "f.path <- \"s3://maap-ops-workspace/shared/leitoldv/GEDI_global_PA_v2/\"\n",
    "\n",
    "matching_tifs <- c(\"wwf_biomes\",\"wwf_ecoreg\",\"lc2000\",\"d2roads\", \"dcities\",\"dem\",\n",
    "                   \"pop_cnt_2000\",\"pop_den_2000\",\"slope\", \"tt2cities_2000\", \"wc_prec_1990-1999\",\n",
    "                   \"wc_tmax_1990-1999\",\"wc_tavg_1990-1999\",\"wc_tmin_1990-1999\" )\n",
    "\n",
    "ecoreg_key <- read.csv(s3_get(paste(f.path,\"wwf_ecoregions_key.csv\",sep=\"\")))\n",
    "#unlink(s3_get(paste(f.path,\"wwf_ecoregions_key.csv\",sep=\"\")))\n",
    "\n",
    "allPAs <- readRDS(s3_get(paste(f.path,\"WDPA_shapefiles/WDPA_polygons/\",iso3,\"_PA_poly.rds\",sep=\"\")))\n",
    "\n",
    "MCD12Q1 <- rast(s3_get(paste(f.path,\"GEDI_ANCI_PFT_r1000m_EASE2.0_UMD_v1_projection_defined_6933.tif\",sep=\"\")))\n",
    "crs(MCD12Q1)  <- \"epsg:6933\"\n",
    "\n",
    "world_region <- rast(s3_get(paste(f.path,\"GEDI_ANCI_CONTINENT_r1000m_EASE2.0_UMD_v1_revised_projection_defined_6933.tif\",sep=\"\")))\n",
    "crs(world_region)  <- \"epsg:6933\"\n",
    "\n",
    "s3_get_files(c(paste(f.path,\"WDPA_countries/shp/\",iso3,\".shp\",sep=\"\"),\n",
    "              paste(f.path,\"WDPA_countries/shp/\",iso3,\".shx\",sep=\"\"),\n",
    "              paste(f.path,\"WDPA_countries/shp/\",iso3,\".prj\",sep=\"\"),\n",
    "              paste(f.path,\"WDPA_countries/shp/\",iso3,\".dbf\",sep=\"\")),confirm = FALSE)\n",
    "adm <- st_read(s3_get(paste(f.path,\"WDPA_countries/shp/\",iso3,\".shp\",sep=\"\")))\n",
    "\n",
    "#s3_path <- paste(\"/vsis3/maap-ops-workspace/shared/leitoldv/GEDI_global_PA_v2/WDPA_countries/shp/\",iso3,\".shp\",sep=\"\") #Redo this for the gpkg\n",
    "#adm <- st_read(s3_path)\n",
    "adm_prj <- project(vect(adm), \"epsg:6933\")\n",
    "\n",
    "load(s3_get(paste(f.path,\"rf_noclimate.RData\",sep=\"\")))\n",
    "#source(s3_get(paste(f.path,\"matching_func.R\",sep=\"\")))\n",
    "source(s3_get(paste(f.path,\"vl_GEDI-PA_2024/matching_func_2024.R\",sep=\"\")))\n",
    "\n",
    "flag <- \"run all\"\n",
    "#flag <- \"run remaining\""
   ]
  },
  {
   "cell_type": "code",
   "execution_count": 8,
   "id": "d79924a1-23ba-40a0-81ee-87219004c19c",
   "metadata": {},
   "outputs": [
    {
     "name": "stdout",
     "output_type": "stream",
     "text": [
      "Step 5: Performing WK  24 GEDI extraction for Bpt \n"
     ]
    },
    {
     "name": "stderr",
     "output_type": "stream",
     "text": [
      "\u001b[36mℹ\u001b[39m \u001b[34m\u001b[34ms3://maap-ops-workspace/shared/leitoldv/GEDI_global_PA_v2/WDPA_matching_results/Bpt_wk24_filelist.csv\u001b[34m\u001b[39m already exists at \u001b[34m\u001b[34m/projects/.local/share/R/s3/maap-ops-workspace/shared/leitoldv/GEDI_global_PA_v2/WDPA_matching_results/Bpt_wk24_filelist.csv\u001b[34m\u001b[39m\n",
      "\n"
     ]
    },
    {
     "data": {
      "text/html": [
       "<style>\n",
       ".list-inline {list-style: none; margin:0; padding: 0}\n",
       ".list-inline>li {display: inline-block}\n",
       ".list-inline>li:not(:last-child)::after {content: \"\\00b7\"; padding: 0 .5ex}\n",
       "</style>\n",
       "<ol class=list-inline><li>'Bpt_pa_220297_matching_results_wk24.RDS'</li><li>'Bpt_pa_2220_matching_results_wk24.RDS'</li><li>'Bpt_pa_2581_matching_results_wk24.RDS'</li><li>'Bpt_pa_33968_matching_results_wk24.RDS'</li><li>'Bpt_pa_33985_matching_results_wk24.RDS'</li><li>'Bpt_pa_352016_matching_results_wk24.RDS'</li><li>'Bpt_pa_352021_matching_results_wk24.RDS'</li><li>'Bpt_pa_352270_matching_results_wk24.RDS'</li><li>'Bpt_pa_352271_matching_results_wk24.RDS'</li><li>'Bpt_pa_352430_matching_results_wk24.RDS'</li><li>'Bpt_pa_352461_matching_results_wk24.RDS'</li><li>'Bpt_pa_352463_matching_results_wk24.RDS'</li><li>'Bpt_pa_352466_matching_results_wk24.RDS'</li><li>'Bpt_pa_478452_matching_results_wk24.RDS'</li><li>'Bpt_pa_555542500_matching_results_wk24.RDS'</li><li>'Bpt_pa_555542528_matching_results_wk24.RDS'</li><li>'Bpt_pa_555542552_matching_results_wk24.RDS'</li><li>'Bpt_pa_555542777_matching_results_wk24.RDS'</li><li>'Bpt_pa_555576153_matching_results_wk24.RDS'</li><li>'Bpt_pa_555576191_matching_results_wk24.RDS'</li><li>'Bpt_pa_555576276_matching_results_wk24.RDS'</li><li>'Bpt_pa_555576295_matching_results_wk24.RDS'</li><li>'Bpt_pa_555576310_matching_results_wk24.RDS'</li><li>'Bpt_pa_555576396_matching_results_wk24.RDS'</li><li>'Bpt_pa_555576444_matching_results_wk24.RDS'</li><li>'Bpt_pa_555599959_matching_results_wk24.RDS'</li><li>'Bpt_pa_555600164_matching_results_wk24.RDS'</li><li>'Bpt_pa_555682279_matching_results_wk24.RDS'</li><li>'Bpt_pa_67816_matching_results_wk24.RDS'</li></ol>\n"
      ],
      "text/latex": [
       "\\begin{enumerate*}\n",
       "\\item 'Bpt\\_pa\\_220297\\_matching\\_results\\_wk24.RDS'\n",
       "\\item 'Bpt\\_pa\\_2220\\_matching\\_results\\_wk24.RDS'\n",
       "\\item 'Bpt\\_pa\\_2581\\_matching\\_results\\_wk24.RDS'\n",
       "\\item 'Bpt\\_pa\\_33968\\_matching\\_results\\_wk24.RDS'\n",
       "\\item 'Bpt\\_pa\\_33985\\_matching\\_results\\_wk24.RDS'\n",
       "\\item 'Bpt\\_pa\\_352016\\_matching\\_results\\_wk24.RDS'\n",
       "\\item 'Bpt\\_pa\\_352021\\_matching\\_results\\_wk24.RDS'\n",
       "\\item 'Bpt\\_pa\\_352270\\_matching\\_results\\_wk24.RDS'\n",
       "\\item 'Bpt\\_pa\\_352271\\_matching\\_results\\_wk24.RDS'\n",
       "\\item 'Bpt\\_pa\\_352430\\_matching\\_results\\_wk24.RDS'\n",
       "\\item 'Bpt\\_pa\\_352461\\_matching\\_results\\_wk24.RDS'\n",
       "\\item 'Bpt\\_pa\\_352463\\_matching\\_results\\_wk24.RDS'\n",
       "\\item 'Bpt\\_pa\\_352466\\_matching\\_results\\_wk24.RDS'\n",
       "\\item 'Bpt\\_pa\\_478452\\_matching\\_results\\_wk24.RDS'\n",
       "\\item 'Bpt\\_pa\\_555542500\\_matching\\_results\\_wk24.RDS'\n",
       "\\item 'Bpt\\_pa\\_555542528\\_matching\\_results\\_wk24.RDS'\n",
       "\\item 'Bpt\\_pa\\_555542552\\_matching\\_results\\_wk24.RDS'\n",
       "\\item 'Bpt\\_pa\\_555542777\\_matching\\_results\\_wk24.RDS'\n",
       "\\item 'Bpt\\_pa\\_555576153\\_matching\\_results\\_wk24.RDS'\n",
       "\\item 'Bpt\\_pa\\_555576191\\_matching\\_results\\_wk24.RDS'\n",
       "\\item 'Bpt\\_pa\\_555576276\\_matching\\_results\\_wk24.RDS'\n",
       "\\item 'Bpt\\_pa\\_555576295\\_matching\\_results\\_wk24.RDS'\n",
       "\\item 'Bpt\\_pa\\_555576310\\_matching\\_results\\_wk24.RDS'\n",
       "\\item 'Bpt\\_pa\\_555576396\\_matching\\_results\\_wk24.RDS'\n",
       "\\item 'Bpt\\_pa\\_555576444\\_matching\\_results\\_wk24.RDS'\n",
       "\\item 'Bpt\\_pa\\_555599959\\_matching\\_results\\_wk24.RDS'\n",
       "\\item 'Bpt\\_pa\\_555600164\\_matching\\_results\\_wk24.RDS'\n",
       "\\item 'Bpt\\_pa\\_555682279\\_matching\\_results\\_wk24.RDS'\n",
       "\\item 'Bpt\\_pa\\_67816\\_matching\\_results\\_wk24.RDS'\n",
       "\\end{enumerate*}\n"
      ],
      "text/markdown": [
       "1. 'Bpt_pa_220297_matching_results_wk24.RDS'\n",
       "2. 'Bpt_pa_2220_matching_results_wk24.RDS'\n",
       "3. 'Bpt_pa_2581_matching_results_wk24.RDS'\n",
       "4. 'Bpt_pa_33968_matching_results_wk24.RDS'\n",
       "5. 'Bpt_pa_33985_matching_results_wk24.RDS'\n",
       "6. 'Bpt_pa_352016_matching_results_wk24.RDS'\n",
       "7. 'Bpt_pa_352021_matching_results_wk24.RDS'\n",
       "8. 'Bpt_pa_352270_matching_results_wk24.RDS'\n",
       "9. 'Bpt_pa_352271_matching_results_wk24.RDS'\n",
       "10. 'Bpt_pa_352430_matching_results_wk24.RDS'\n",
       "11. 'Bpt_pa_352461_matching_results_wk24.RDS'\n",
       "12. 'Bpt_pa_352463_matching_results_wk24.RDS'\n",
       "13. 'Bpt_pa_352466_matching_results_wk24.RDS'\n",
       "14. 'Bpt_pa_478452_matching_results_wk24.RDS'\n",
       "15. 'Bpt_pa_555542500_matching_results_wk24.RDS'\n",
       "16. 'Bpt_pa_555542528_matching_results_wk24.RDS'\n",
       "17. 'Bpt_pa_555542552_matching_results_wk24.RDS'\n",
       "18. 'Bpt_pa_555542777_matching_results_wk24.RDS'\n",
       "19. 'Bpt_pa_555576153_matching_results_wk24.RDS'\n",
       "20. 'Bpt_pa_555576191_matching_results_wk24.RDS'\n",
       "21. 'Bpt_pa_555576276_matching_results_wk24.RDS'\n",
       "22. 'Bpt_pa_555576295_matching_results_wk24.RDS'\n",
       "23. 'Bpt_pa_555576310_matching_results_wk24.RDS'\n",
       "24. 'Bpt_pa_555576396_matching_results_wk24.RDS'\n",
       "25. 'Bpt_pa_555576444_matching_results_wk24.RDS'\n",
       "26. 'Bpt_pa_555599959_matching_results_wk24.RDS'\n",
       "27. 'Bpt_pa_555600164_matching_results_wk24.RDS'\n",
       "28. 'Bpt_pa_555682279_matching_results_wk24.RDS'\n",
       "29. 'Bpt_pa_67816_matching_results_wk24.RDS'\n",
       "\n",
       "\n"
      ],
      "text/plain": [
       " [1] \"Bpt_pa_220297_matching_results_wk24.RDS\"   \n",
       " [2] \"Bpt_pa_2220_matching_results_wk24.RDS\"     \n",
       " [3] \"Bpt_pa_2581_matching_results_wk24.RDS\"     \n",
       " [4] \"Bpt_pa_33968_matching_results_wk24.RDS\"    \n",
       " [5] \"Bpt_pa_33985_matching_results_wk24.RDS\"    \n",
       " [6] \"Bpt_pa_352016_matching_results_wk24.RDS\"   \n",
       " [7] \"Bpt_pa_352021_matching_results_wk24.RDS\"   \n",
       " [8] \"Bpt_pa_352270_matching_results_wk24.RDS\"   \n",
       " [9] \"Bpt_pa_352271_matching_results_wk24.RDS\"   \n",
       "[10] \"Bpt_pa_352430_matching_results_wk24.RDS\"   \n",
       "[11] \"Bpt_pa_352461_matching_results_wk24.RDS\"   \n",
       "[12] \"Bpt_pa_352463_matching_results_wk24.RDS\"   \n",
       "[13] \"Bpt_pa_352466_matching_results_wk24.RDS\"   \n",
       "[14] \"Bpt_pa_478452_matching_results_wk24.RDS\"   \n",
       "[15] \"Bpt_pa_555542500_matching_results_wk24.RDS\"\n",
       "[16] \"Bpt_pa_555542528_matching_results_wk24.RDS\"\n",
       "[17] \"Bpt_pa_555542552_matching_results_wk24.RDS\"\n",
       "[18] \"Bpt_pa_555542777_matching_results_wk24.RDS\"\n",
       "[19] \"Bpt_pa_555576153_matching_results_wk24.RDS\"\n",
       "[20] \"Bpt_pa_555576191_matching_results_wk24.RDS\"\n",
       "[21] \"Bpt_pa_555576276_matching_results_wk24.RDS\"\n",
       "[22] \"Bpt_pa_555576295_matching_results_wk24.RDS\"\n",
       "[23] \"Bpt_pa_555576310_matching_results_wk24.RDS\"\n",
       "[24] \"Bpt_pa_555576396_matching_results_wk24.RDS\"\n",
       "[25] \"Bpt_pa_555576444_matching_results_wk24.RDS\"\n",
       "[26] \"Bpt_pa_555599959_matching_results_wk24.RDS\"\n",
       "[27] \"Bpt_pa_555600164_matching_results_wk24.RDS\"\n",
       "[28] \"Bpt_pa_555682279_matching_results_wk24.RDS\"\n",
       "[29] \"Bpt_pa_67816_matching_results_wk24.RDS\"    "
      ]
     },
     "metadata": {},
     "output_type": "display_data"
    },
    {
     "data": {
      "text/html": [
       "29"
      ],
      "text/latex": [
       "29"
      ],
      "text/markdown": [
       "29"
      ],
      "text/plain": [
       "[1] 29"
      ]
     },
     "metadata": {},
     "output_type": "display_data"
    }
   ],
   "source": [
    "#---------------STEP5. GEDI PROCESSING ---------------- \n",
    "#using GEDI shots to extract the treatment/control status, also extract the MODIS PFT for AGB prediction\n",
    "\n",
    "# if (file.exists(paste(f.path,\"WDPA_GEDI_extract/\",iso3,\"_wk\",gediwk,\"/\",iso3,\"_gedi_extracted_matching_wk\",gediwk,\".RDS\", sep=\"\"))){\n",
    "cat(paste(\"Step 5: Performing WK \", gediwk, \"GEDI extraction for\", iso3,\"\\n\"))\n",
    "#matched_all <-read.csv(paste(f.path,\"WDPA_extract4_residual_PAs/\", iso3, \"_wk_\", gediwk, \"_null_matches_rerun.csv\",sep=\"\")) \n",
    "matched_all <- read.csv(s3_get(paste(f.path,\"WDPA_matching_results/\",iso3,\"_wk24_filelist.csv\",sep=\"\")))[,2]\n",
    "matched_all\n",
    "length(matched_all)   "
   ]
  },
  {
   "cell_type": "code",
   "execution_count": 9,
   "id": "b6d1293d-7b7e-4f50-aba1-29a4b2867dd1",
   "metadata": {},
   "outputs": [
    {
     "name": "stderr",
     "output_type": "stream",
     "text": [
      "\n",
      "Attaching package: ‘magrittr’\n",
      "\n",
      "\n",
      "The following objects are masked from ‘package:terra’:\n",
      "\n",
      "    extract, inset\n",
      "\n",
      "\n",
      "\n",
      "Attaching package: ‘tidyr’\n",
      "\n",
      "\n",
      "The following object is masked from ‘package:magrittr’:\n",
      "\n",
      "    extract\n",
      "\n",
      "\n",
      "The following object is masked from ‘package:terra’:\n",
      "\n",
      "    extract\n",
      "\n",
      "\n"
     ]
    },
    {
     "name": "stdout",
     "output_type": "stream",
     "text": [
      "[1] \"Bpt_pa_220297_matching_results_wk24.RDS\"\n",
      "[1] \"Bpt_pa_2220_matching_results_wk24.RDS\"\n",
      "[1] \"Bpt_pa_2581_matching_results_wk24.RDS\"\n",
      "[1] \"Bpt_pa_33968_matching_results_wk24.RDS\"\n",
      "[1] \"Bpt_pa_33985_matching_results_wk24.RDS\"\n",
      "[1] \"Bpt_pa_352016_matching_results_wk24.RDS\"\n",
      "[1] \"Bpt_pa_352021_matching_results_wk24.RDS\"\n",
      "[1] \"Bpt_pa_352270_matching_results_wk24.RDS\"\n",
      "[1] \"Bpt_pa_352271_matching_results_wk24.RDS\"\n",
      "[1] \"Bpt_pa_352430_matching_results_wk24.RDS\"\n",
      "[1] \"Bpt_pa_352461_matching_results_wk24.RDS\"\n",
      "[1] \"Bpt_pa_352463_matching_results_wk24.RDS\"\n",
      "[1] \"Bpt_pa_352466_matching_results_wk24.RDS\"\n",
      "[1] \"Bpt_pa_478452_matching_results_wk24.RDS\"\n",
      "[1] \"Bpt_pa_555542500_matching_results_wk24.RDS\"\n",
      "[1] \"Bpt_pa_555542528_matching_results_wk24.RDS\"\n",
      "[1] \"Bpt_pa_555542552_matching_results_wk24.RDS\"\n",
      "[1] \"Bpt_pa_555542777_matching_results_wk24.RDS\"\n",
      "[1] \"Bpt_pa_555576153_matching_results_wk24.RDS\"\n",
      "[1] \"Bpt_pa_555576191_matching_results_wk24.RDS\"\n",
      "[1] \"Bpt_pa_555576276_matching_results_wk24.RDS\"\n",
      "[1] \"Bpt_pa_555576295_matching_results_wk24.RDS\"\n",
      "[1] \"Bpt_pa_555576310_matching_results_wk24.RDS\"\n",
      "[1] \"Bpt_pa_555576396_matching_results_wk24.RDS\"\n",
      "[1] \"Bpt_pa_555576444_matching_results_wk24.RDS\"\n",
      "[1] \"Bpt_pa_555599959_matching_results_wk24.RDS\"\n",
      "[1] \"Bpt_pa_555600164_matching_results_wk24.RDS\"\n",
      "[1] \"Bpt_pa_555682279_matching_results_wk24.RDS\"\n",
      "[1] \"Bpt_pa_67816_matching_results_wk24.RDS\"\n"
     ]
    },
    {
     "data": {
      "text/html": [
       "26"
      ],
      "text/latex": [
       "26"
      ],
      "text/markdown": [
       "26"
      ],
      "text/plain": [
       "[1] 26"
      ]
     },
     "metadata": {},
     "output_type": "display_data"
    }
   ],
   "source": [
    "f.path <- \"/projects/my-public-bucket/GEDI_global_PA_v2/\"\n",
    "#f.path <- \"s3://maap-ops-workspace/shared/leitoldv/GEDI_global_PA_v2/\"\n",
    "\n",
    "matched_PAs <- foreach(this_rds=matched_all, .combine = c, .packages=c('sp','magrittr', 'dplyr','tidyr','terra')) %do% {  #non-NA matched results\n",
    "  matched_PAs=c()\n",
    "  print(this_rds)\n",
    "  if(nchar(iso3)>3){\n",
    "    id_pa <- basename(this_rds)%>%readr::parse_number() %>% unique()  \n",
    "  } else {\n",
    "    id_pa <- basename(this_rds)%>%readr::parse_number() %>% unique()\n",
    "  }\n",
    "  matched <- readRDS(paste(f.path,\"WDPA_matching_results/\",iso3,\"_wk\",gediwk,\"/\",iso3,\"_pa_\",id_pa,\"_matching_results_wk\",gediwk,\".RDS\",sep=\"\"))\n",
    "  if(!is.null(matched)){\n",
    "    if(nrow(matched)!=0){\n",
    "      matched_PAs=c(matched_PAs,this_rds) \n",
    "    }\n",
    "  }else {\n",
    "    # print(this_rds)\n",
    "    matched_PAs=matched_PAs\n",
    "  }\n",
    "  return(matched_PAs)\n",
    "}\n",
    "length(matched_PAs)"
   ]
  },
  {
   "cell_type": "code",
   "execution_count": 10,
   "id": "0a062203-2c43-46ec-a811-6dfc3b3ab110",
   "metadata": {},
   "outputs": [
    {
     "name": "stdout",
     "output_type": "stream",
     "text": [
      "Step 5: running extraction on all 26 of non-NA matched results in Bpt \n"
     ]
    }
   ],
   "source": [
    "if(flag==\"run all\"){  #determine how many PAs to run the extraction process\n",
    "  matched_PAs <- matched_PAs\n",
    "  cat(\"Step 5: running extraction on all\", length(matched_PAs),\"of non-NA matched results in\", iso3,\"\\n\")\n",
    "} else if (flag==\"run remaining\"){\n",
    "  pattern1 = c(paste(\"wk\",gediwk,sep=\"\"),\"RDS\")\n",
    "  extracted_PAid <- list.files(paste(f.path,\"WDPA_GEDI_extract/\",iso3,\"_wk\",gediwk,\"/\",sep=\"\"), full.names = F, pattern=paste0(pattern1, collapse=\"|\"))%>%\n",
    "    readr::parse_number() %>% unique()\n",
    "  matched_PA_id <- matched_PAs %>% readr::parse_number()\n",
    "  runPA_id <- matched_PA_id[!(matched_PA_id %in% extracted_PAid)]\n",
    "  if (length(runPA_id)>0){\n",
    "    Pattern2 <-  paste(runPA_id, collapse=\"|\")\n",
    "    runPA <-  matched_PAs[grepl(Pattern2,matched_PAs)]\n",
    "    # runPA_ind <- str_detect(matched_PAs, paste(runPA_id, collapse = \"|\"))\n",
    "    matched_PAs <-runPA\n",
    "  } else {\n",
    "    matched_PAs <- NULL\n",
    "    cat(\"Step 5 already done for\", iso3, \"\\n\")\n",
    "  }\n",
    "}"
   ]
  },
  {
   "cell_type": "code",
   "execution_count": 11,
   "id": "217fde1f-e76c-4a1f-9e0e-bdba87d3c239",
   "metadata": {},
   "outputs": [],
   "source": [
    "#f.path <- \"s3://maap-ops-workspace/shared/leitoldv/GEDI_global_PA_v2/\"\n",
    "#source(s3_get(paste(f.path,\"vl_GEDI-PA_2024/matching_func_2024.R\",sep=\"\")))\n",
    "f.path <- \"/projects/my-public-bucket/GEDI_global_PA_v2/\"\n",
    "source(paste(f.path,\"vl_GEDI-PA_2024/matching_func_2024.R\",sep=\"\"))"
   ]
  },
  {
   "cell_type": "code",
   "execution_count": 35,
   "id": "7f144612-7ea9-4b9a-b825-11699161c28f",
   "metadata": {},
   "outputs": [
    {
     "name": "stdout",
     "output_type": "stream",
     "text": [
      "[1] \"Bpt_pa_555576153_matching_results_wk24.RDS\"\n"
     ]
    }
   ],
   "source": [
    "f.path <- \"s3://maap-ops-workspace/shared/leitoldv/GEDI_global_PA_v2/\"\n",
    "\n",
    "this_rds <- matched_PAs[18]\n",
    "id_pa <- basename(this_rds) %>% readr::parse_number() %>% unique()\n",
    "print(this_rds)"
   ]
  },
  {
   "cell_type": "code",
   "execution_count": 36,
   "id": "02d98b94-5229-4c6f-a88b-5e994eccb2b8",
   "metadata": {},
   "outputs": [],
   "source": [
    "matched <- readRDS(s3_get(paste(f.path,\"WDPA_matching_results/\",iso3,\"_wk\",gediwk,\"/\",iso3,\"_pa_\",id_pa,\"_matching_results_wk\",gediwk,\".RDS\",sep=\"\")))"
   ]
  },
  {
   "cell_type": "code",
   "execution_count": 37,
   "id": "a1caaf77-f47f-4dcc-9f65-3d18d0005097",
   "metadata": {},
   "outputs": [
    {
     "data": {
      "text/html": [
       "<table class=\"dataframe\">\n",
       "<caption>A tibble: 6 × 21</caption>\n",
       "<thead>\n",
       "\t<tr><th scope=col>lat</th><th scope=col>lon</th><th scope=col>UID</th><th scope=col>status</th><th scope=col>land_cover</th><th scope=col>wwfbiom</th><th scope=col>wwfecoreg</th><th scope=col>elevation</th><th scope=col>slope</th><th scope=col>mean_temp</th><th scope=col>⋯</th><th scope=col>min_temp</th><th scope=col>prec</th><th scope=col>d2road</th><th scope=col>d2city</th><th scope=col>popden</th><th scope=col>tt2city</th><th scope=col>popcnt</th><th scope=col>propensity_score</th><th scope=col>matched</th><th scope=col>pa_id</th></tr>\n",
       "\t<tr><th scope=col>&lt;dbl&gt;</th><th scope=col>&lt;dbl&gt;</th><th scope=col>&lt;int&gt;</th><th scope=col>&lt;lgl&gt;</th><th scope=col>&lt;fct&gt;</th><th scope=col>&lt;fct&gt;</th><th scope=col>&lt;fct&gt;</th><th scope=col>&lt;dbl&gt;</th><th scope=col>&lt;dbl&gt;</th><th scope=col>&lt;dbl&gt;</th><th scope=col>⋯</th><th scope=col>&lt;dbl&gt;</th><th scope=col>&lt;dbl&gt;</th><th scope=col>&lt;dbl&gt;</th><th scope=col>&lt;dbl&gt;</th><th scope=col>&lt;dbl&gt;</th><th scope=col>&lt;dbl&gt;</th><th scope=col>&lt;dbl&gt;</th><th scope=col>&lt;dbl&gt;</th><th scope=col>&lt;fct&gt;</th><th scope=col>&lt;dbl&gt;</th></tr>\n",
       "</thead>\n",
       "<tbody>\n",
       "\t<tr><td>-18.21290</td><td>-56.14627</td><td>1</td><td>TRUE</td><td>l4_wetlands</td><td>Flooded Grasslands &amp; Savannas</td><td>Pantanal</td><td>134</td><td>0.00000000</td><td>25.52893</td><td>⋯</td><td>13.63345</td><td>4438.776</td><td>0.2704162</td><td>2.315766</td><td>0.01423765</td><td>454.5520</td><td>0.01163853</td><td>0.007222026</td><td>l4_wetlands.1</td><td>555576153</td></tr>\n",
       "\t<tr><td>-18.21290</td><td>-56.13589</td><td>2</td><td>TRUE</td><td>l4_wetlands</td><td>Flooded Grasslands &amp; Savannas</td><td>Pantanal</td><td>134</td><td>0.07729086</td><td>25.52893</td><td>⋯</td><td>13.63345</td><td>4438.776</td><td>0.2635230</td><td>2.310317</td><td>0.01423765</td><td>443.7720</td><td>0.01163853</td><td>0.007058870</td><td>l4_wetlands.2</td><td>555576153</td></tr>\n",
       "\t<tr><td>-18.21290</td><td>-56.12552</td><td>3</td><td>TRUE</td><td>l4_wetlands</td><td>Flooded Grasslands &amp; Savannas</td><td>Pantanal</td><td>134</td><td>0.12286700</td><td>25.51922</td><td>⋯</td><td>13.60062</td><td>4443.585</td><td>0.2567153</td><td>2.304885</td><td>0.01423766</td><td>444.8444</td><td>0.01163853</td><td>0.006965286</td><td>l4_wetlands.3</td><td>555576153</td></tr>\n",
       "\t<tr><td>-18.21290</td><td>-56.11515</td><td>4</td><td>TRUE</td><td>l4_wetlands</td><td>Flooded Grasslands &amp; Savannas</td><td>Pantanal</td><td>135</td><td>0.12802088</td><td>25.49636</td><td>⋯</td><td>13.52332</td><td>4454.910</td><td>0.2499999</td><td>2.299471</td><td>0.01423765</td><td>440.0235</td><td>0.01163853</td><td>0.006880701</td><td>l4_wetlands.4</td><td>555576153</td></tr>\n",
       "\t<tr><td>-18.21290</td><td>-56.10477</td><td>5</td><td>TRUE</td><td>l4_wetlands</td><td>Flooded Grasslands &amp; Savannas</td><td>Pantanal</td><td>138</td><td>0.05611214</td><td>25.49636</td><td>⋯</td><td>13.52332</td><td>4454.910</td><td>0.2429562</td><td>2.294074</td><td>0.01423765</td><td>420.4587</td><td>0.01163853</td><td>0.006799711</td><td>l4_wetlands.5</td><td>555576153</td></tr>\n",
       "\t<tr><td>-18.22115</td><td>-56.14627</td><td>6</td><td>TRUE</td><td>l4_wetlands</td><td>Flooded Grasslands &amp; Savannas</td><td>Pantanal</td><td>134</td><td>0.04068607</td><td>25.52893</td><td>⋯</td><td>13.63345</td><td>4438.776</td><td>0.2751261</td><td>2.322070</td><td>0.01423765</td><td>518.8923</td><td>0.01163797</td><td>0.007508595</td><td>l4_wetlands.6</td><td>555576153</td></tr>\n",
       "</tbody>\n",
       "</table>\n"
      ],
      "text/latex": [
       "A tibble: 6 × 21\n",
       "\\begin{tabular}{lllllllllllllllllllll}\n",
       " lat & lon & UID & status & land\\_cover & wwfbiom & wwfecoreg & elevation & slope & mean\\_temp & ⋯ & min\\_temp & prec & d2road & d2city & popden & tt2city & popcnt & propensity\\_score & matched & pa\\_id\\\\\n",
       " <dbl> & <dbl> & <int> & <lgl> & <fct> & <fct> & <fct> & <dbl> & <dbl> & <dbl> & ⋯ & <dbl> & <dbl> & <dbl> & <dbl> & <dbl> & <dbl> & <dbl> & <dbl> & <fct> & <dbl>\\\\\n",
       "\\hline\n",
       "\t -18.21290 & -56.14627 & 1 & TRUE & l4\\_wetlands & Flooded Grasslands \\& Savannas & Pantanal & 134 & 0.00000000 & 25.52893 & ⋯ & 13.63345 & 4438.776 & 0.2704162 & 2.315766 & 0.01423765 & 454.5520 & 0.01163853 & 0.007222026 & l4\\_wetlands.1 & 555576153\\\\\n",
       "\t -18.21290 & -56.13589 & 2 & TRUE & l4\\_wetlands & Flooded Grasslands \\& Savannas & Pantanal & 134 & 0.07729086 & 25.52893 & ⋯ & 13.63345 & 4438.776 & 0.2635230 & 2.310317 & 0.01423765 & 443.7720 & 0.01163853 & 0.007058870 & l4\\_wetlands.2 & 555576153\\\\\n",
       "\t -18.21290 & -56.12552 & 3 & TRUE & l4\\_wetlands & Flooded Grasslands \\& Savannas & Pantanal & 134 & 0.12286700 & 25.51922 & ⋯ & 13.60062 & 4443.585 & 0.2567153 & 2.304885 & 0.01423766 & 444.8444 & 0.01163853 & 0.006965286 & l4\\_wetlands.3 & 555576153\\\\\n",
       "\t -18.21290 & -56.11515 & 4 & TRUE & l4\\_wetlands & Flooded Grasslands \\& Savannas & Pantanal & 135 & 0.12802088 & 25.49636 & ⋯ & 13.52332 & 4454.910 & 0.2499999 & 2.299471 & 0.01423765 & 440.0235 & 0.01163853 & 0.006880701 & l4\\_wetlands.4 & 555576153\\\\\n",
       "\t -18.21290 & -56.10477 & 5 & TRUE & l4\\_wetlands & Flooded Grasslands \\& Savannas & Pantanal & 138 & 0.05611214 & 25.49636 & ⋯ & 13.52332 & 4454.910 & 0.2429562 & 2.294074 & 0.01423765 & 420.4587 & 0.01163853 & 0.006799711 & l4\\_wetlands.5 & 555576153\\\\\n",
       "\t -18.22115 & -56.14627 & 6 & TRUE & l4\\_wetlands & Flooded Grasslands \\& Savannas & Pantanal & 134 & 0.04068607 & 25.52893 & ⋯ & 13.63345 & 4438.776 & 0.2751261 & 2.322070 & 0.01423765 & 518.8923 & 0.01163797 & 0.007508595 & l4\\_wetlands.6 & 555576153\\\\\n",
       "\\end{tabular}\n"
      ],
      "text/markdown": [
       "\n",
       "A tibble: 6 × 21\n",
       "\n",
       "| lat &lt;dbl&gt; | lon &lt;dbl&gt; | UID &lt;int&gt; | status &lt;lgl&gt; | land_cover &lt;fct&gt; | wwfbiom &lt;fct&gt; | wwfecoreg &lt;fct&gt; | elevation &lt;dbl&gt; | slope &lt;dbl&gt; | mean_temp &lt;dbl&gt; | ⋯ ⋯ | min_temp &lt;dbl&gt; | prec &lt;dbl&gt; | d2road &lt;dbl&gt; | d2city &lt;dbl&gt; | popden &lt;dbl&gt; | tt2city &lt;dbl&gt; | popcnt &lt;dbl&gt; | propensity_score &lt;dbl&gt; | matched &lt;fct&gt; | pa_id &lt;dbl&gt; |\n",
       "|---|---|---|---|---|---|---|---|---|---|---|---|---|---|---|---|---|---|---|---|---|\n",
       "| -18.21290 | -56.14627 | 1 | TRUE | l4_wetlands | Flooded Grasslands &amp; Savannas | Pantanal | 134 | 0.00000000 | 25.52893 | ⋯ | 13.63345 | 4438.776 | 0.2704162 | 2.315766 | 0.01423765 | 454.5520 | 0.01163853 | 0.007222026 | l4_wetlands.1 | 555576153 |\n",
       "| -18.21290 | -56.13589 | 2 | TRUE | l4_wetlands | Flooded Grasslands &amp; Savannas | Pantanal | 134 | 0.07729086 | 25.52893 | ⋯ | 13.63345 | 4438.776 | 0.2635230 | 2.310317 | 0.01423765 | 443.7720 | 0.01163853 | 0.007058870 | l4_wetlands.2 | 555576153 |\n",
       "| -18.21290 | -56.12552 | 3 | TRUE | l4_wetlands | Flooded Grasslands &amp; Savannas | Pantanal | 134 | 0.12286700 | 25.51922 | ⋯ | 13.60062 | 4443.585 | 0.2567153 | 2.304885 | 0.01423766 | 444.8444 | 0.01163853 | 0.006965286 | l4_wetlands.3 | 555576153 |\n",
       "| -18.21290 | -56.11515 | 4 | TRUE | l4_wetlands | Flooded Grasslands &amp; Savannas | Pantanal | 135 | 0.12802088 | 25.49636 | ⋯ | 13.52332 | 4454.910 | 0.2499999 | 2.299471 | 0.01423765 | 440.0235 | 0.01163853 | 0.006880701 | l4_wetlands.4 | 555576153 |\n",
       "| -18.21290 | -56.10477 | 5 | TRUE | l4_wetlands | Flooded Grasslands &amp; Savannas | Pantanal | 138 | 0.05611214 | 25.49636 | ⋯ | 13.52332 | 4454.910 | 0.2429562 | 2.294074 | 0.01423765 | 420.4587 | 0.01163853 | 0.006799711 | l4_wetlands.5 | 555576153 |\n",
       "| -18.22115 | -56.14627 | 6 | TRUE | l4_wetlands | Flooded Grasslands &amp; Savannas | Pantanal | 134 | 0.04068607 | 25.52893 | ⋯ | 13.63345 | 4438.776 | 0.2751261 | 2.322070 | 0.01423765 | 518.8923 | 0.01163797 | 0.007508595 | l4_wetlands.6 | 555576153 |\n",
       "\n"
      ],
      "text/plain": [
       "  lat       lon       UID status land_cover  wwfbiom                      \n",
       "1 -18.21290 -56.14627 1   TRUE   l4_wetlands Flooded Grasslands & Savannas\n",
       "2 -18.21290 -56.13589 2   TRUE   l4_wetlands Flooded Grasslands & Savannas\n",
       "3 -18.21290 -56.12552 3   TRUE   l4_wetlands Flooded Grasslands & Savannas\n",
       "4 -18.21290 -56.11515 4   TRUE   l4_wetlands Flooded Grasslands & Savannas\n",
       "5 -18.21290 -56.10477 5   TRUE   l4_wetlands Flooded Grasslands & Savannas\n",
       "6 -18.22115 -56.14627 6   TRUE   l4_wetlands Flooded Grasslands & Savannas\n",
       "  wwfecoreg elevation slope      mean_temp ⋯ min_temp prec     d2road   \n",
       "1 Pantanal  134       0.00000000 25.52893  ⋯ 13.63345 4438.776 0.2704162\n",
       "2 Pantanal  134       0.07729086 25.52893  ⋯ 13.63345 4438.776 0.2635230\n",
       "3 Pantanal  134       0.12286700 25.51922  ⋯ 13.60062 4443.585 0.2567153\n",
       "4 Pantanal  135       0.12802088 25.49636  ⋯ 13.52332 4454.910 0.2499999\n",
       "5 Pantanal  138       0.05611214 25.49636  ⋯ 13.52332 4454.910 0.2429562\n",
       "6 Pantanal  134       0.04068607 25.52893  ⋯ 13.63345 4438.776 0.2751261\n",
       "  d2city   popden     tt2city  popcnt     propensity_score matched      \n",
       "1 2.315766 0.01423765 454.5520 0.01163853 0.007222026      l4_wetlands.1\n",
       "2 2.310317 0.01423765 443.7720 0.01163853 0.007058870      l4_wetlands.2\n",
       "3 2.304885 0.01423766 444.8444 0.01163853 0.006965286      l4_wetlands.3\n",
       "4 2.299471 0.01423765 440.0235 0.01163853 0.006880701      l4_wetlands.4\n",
       "5 2.294074 0.01423765 420.4587 0.01163853 0.006799711      l4_wetlands.5\n",
       "6 2.322070 0.01423765 518.8923 0.01163797 0.007508595      l4_wetlands.6\n",
       "  pa_id    \n",
       "1 555576153\n",
       "2 555576153\n",
       "3 555576153\n",
       "4 555576153\n",
       "5 555576153\n",
       "6 555576153"
      ]
     },
     "metadata": {},
     "output_type": "display_data"
    },
    {
     "data": {
      "text/html": [
       "176"
      ],
      "text/latex": [
       "176"
      ],
      "text/markdown": [
       "176"
      ],
      "text/plain": [
       "[1] 176"
      ]
     },
     "metadata": {},
     "output_type": "display_data"
    }
   ],
   "source": [
    "head(matched)\n",
    "nrow(matched)"
   ]
  },
  {
   "cell_type": "code",
   "execution_count": 38,
   "id": "6ffe117d-308d-4fb8-9e84-660549535c29",
   "metadata": {},
   "outputs": [
    {
     "name": "stdout",
     "output_type": "stream",
     "text": [
      "Bpt converting the matched csv to a raster stack for extraction\n",
      "\n",
      " 0  1 \n",
      "88 88 \n"
     ]
    },
    {
     "data": {
      "text/plain": [
       "class       : SpatRaster \n",
       "dimensions  : 488, 244, 7  (nrow, ncol, nlyr)\n",
       "resolution  : 1000, 1000  (x, y)\n",
       "extent      : -5558530, -5314530, -2513350, -2025350  (xmin, xmax, ymin, ymax)\n",
       "coord. ref. : WGS 84 / NSIDC EASE-Grid 2.0 Global (EPSG:6933) \n",
       "source(s)   : memory\n",
       "names       : status,     pa_id, wwfbiom, wwfecoreg,    UID, pft, ... \n",
       "min values  :      0, 555576153,       1,         1,      1,   0, ... \n",
       "max values  :      1, 555576153,       1,         1, 123578,  11, ... "
      ]
     },
     "metadata": {},
     "output_type": "display_data"
    }
   ],
   "source": [
    "mras  <- tryCatch(matched2ras(matched),\n",
    "                      error=function(cond){\n",
    "                        message(cond)\n",
    "                        cat(\"Matched result is likely null for country\", iso3,\"pa\", id_pa, \"dimension of the match is\", dim(matched),\"\\n\")\n",
    "                        # writeLines(\"Matched results is likely null for country\", paste(f.path,\"WDPA_log/\",iso3,\"_log_matching.txt\", sep=\"\"))\n",
    "                        return(NULL)}) #convert the macthed df to a raster stack \n",
    "print(table(mras$status[]))\n",
    "mras"
   ]
  },
  {
   "cell_type": "code",
   "execution_count": 39,
   "id": "fe614f2b-1115-43e6-ad26-879c796fe29e",
   "metadata": {},
   "outputs": [
    {
     "data": {
      "image/png": "[encoded data removed]",
      "text/plain": [
       "plot without title"
      ]
     },
     "metadata": {
      "image/png": {
       "height": 420,
       "width": 420
      }
     },
     "output_type": "display_data"
    }
   ],
   "source": [
    "plot(mras)"
   ]
  },
  {
   "cell_type": "code",
   "execution_count": 40,
   "id": "52756dbc-b268-4178-9829-2711570cd6bc",
   "metadata": {},
   "outputs": [
    {
     "name": "stderr",
     "output_type": "stream",
     "text": [
      "\u001b[36mℹ\u001b[39m \u001b[34m\u001b[34ms3://maap-ops-workspace/shared/leitoldv/GEDI_global_PA_v2/vero_1deg_tileindex/tileindex_Bpt.csv\u001b[34m\u001b[39m already exists at \u001b[34m\u001b[34m/projects/.local/share/R/s3/maap-ops-workspace/shared/leitoldv/GEDI_global_PA_v2/vero_1deg_tileindex/tileindex_Bpt.csv\u001b[34m\u001b[39m\n",
      "\n"
     ]
    },
    {
     "name": "stdout",
     "output_type": "stream",
     "text": [
      " [1] 21707 21886 21887 21888 21890 21891 22066 22067 22068 22069 22070 22071\n",
      "[13] 22072 22073 22246 22247 22248 22249 22250 22251 22426 22427 22428 22429\n",
      "[25] 22430 22431 22607 22608 22609\n"
     ]
    },
    {
     "data": {
      "text/html": [
       "29"
      ],
      "text/latex": [
       "29"
      ],
      "text/markdown": [
       "29"
      ],
      "text/plain": [
       "[1] 29"
      ]
     },
     "metadata": {},
     "output_type": "display_data"
    },
    {
     "data": {
      "text/html": [
       "29"
      ],
      "text/latex": [
       "29"
      ],
      "text/markdown": [
       "29"
      ],
      "text/plain": [
       "[1] 29"
      ]
     },
     "metadata": {},
     "output_type": "display_data"
    },
    {
     "data": {
      "text/html": [
       "<style>\n",
       ".list-inline {list-style: none; margin:0; padding: 0}\n",
       ".list-inline>li {display: inline-block}\n",
       ".list-inline>li:not(:last-child)::after {content: \"\\00b7\"; padding: 0 .5ex}\n",
       "</style>\n",
       "<ol class=list-inline><li>'tile_num_21707_L2A.gpkg'</li><li>'tile_num_21886_L2A.gpkg'</li><li>'tile_num_21887_L2A.gpkg'</li><li>'tile_num_21888_L2A.gpkg'</li><li>'tile_num_21890_L2A.gpkg'</li><li>'tile_num_21891_L2A.gpkg'</li><li>'tile_num_22066_L2A.gpkg'</li><li>'tile_num_22067_L2A.gpkg'</li><li>'tile_num_22068_L2A.gpkg'</li><li>'tile_num_22069_L2A.gpkg'</li><li>'tile_num_22070_L2A.gpkg'</li><li>'tile_num_22071_L2A.gpkg'</li><li>'tile_num_22072_L2A.gpkg'</li><li>'tile_num_22073_L2A.gpkg'</li><li>'tile_num_22246_L2A.gpkg'</li><li>'tile_num_22247_L2A.gpkg'</li><li>'tile_num_22248_L2A.gpkg'</li><li>'tile_num_22249_L2A.gpkg'</li><li>'tile_num_22250_L2A.gpkg'</li><li>'tile_num_22251_L2A.gpkg'</li><li>'tile_num_22426_L2A.gpkg'</li><li>'tile_num_22427_L2A.gpkg'</li><li>'tile_num_22428_L2A.gpkg'</li><li>'tile_num_22429_L2A.gpkg'</li><li>'tile_num_22430_L2A.gpkg'</li><li>'tile_num_22431_L2A.gpkg'</li><li>'tile_num_22607_L2A.gpkg'</li><li>'tile_num_22608_L2A.gpkg'</li><li>'tile_num_22609_L2A.gpkg'</li></ol>\n"
      ],
      "text/latex": [
       "\\begin{enumerate*}\n",
       "\\item 'tile\\_num\\_21707\\_L2A.gpkg'\n",
       "\\item 'tile\\_num\\_21886\\_L2A.gpkg'\n",
       "\\item 'tile\\_num\\_21887\\_L2A.gpkg'\n",
       "\\item 'tile\\_num\\_21888\\_L2A.gpkg'\n",
       "\\item 'tile\\_num\\_21890\\_L2A.gpkg'\n",
       "\\item 'tile\\_num\\_21891\\_L2A.gpkg'\n",
       "\\item 'tile\\_num\\_22066\\_L2A.gpkg'\n",
       "\\item 'tile\\_num\\_22067\\_L2A.gpkg'\n",
       "\\item 'tile\\_num\\_22068\\_L2A.gpkg'\n",
       "\\item 'tile\\_num\\_22069\\_L2A.gpkg'\n",
       "\\item 'tile\\_num\\_22070\\_L2A.gpkg'\n",
       "\\item 'tile\\_num\\_22071\\_L2A.gpkg'\n",
       "\\item 'tile\\_num\\_22072\\_L2A.gpkg'\n",
       "\\item 'tile\\_num\\_22073\\_L2A.gpkg'\n",
       "\\item 'tile\\_num\\_22246\\_L2A.gpkg'\n",
       "\\item 'tile\\_num\\_22247\\_L2A.gpkg'\n",
       "\\item 'tile\\_num\\_22248\\_L2A.gpkg'\n",
       "\\item 'tile\\_num\\_22249\\_L2A.gpkg'\n",
       "\\item 'tile\\_num\\_22250\\_L2A.gpkg'\n",
       "\\item 'tile\\_num\\_22251\\_L2A.gpkg'\n",
       "\\item 'tile\\_num\\_22426\\_L2A.gpkg'\n",
       "\\item 'tile\\_num\\_22427\\_L2A.gpkg'\n",
       "\\item 'tile\\_num\\_22428\\_L2A.gpkg'\n",
       "\\item 'tile\\_num\\_22429\\_L2A.gpkg'\n",
       "\\item 'tile\\_num\\_22430\\_L2A.gpkg'\n",
       "\\item 'tile\\_num\\_22431\\_L2A.gpkg'\n",
       "\\item 'tile\\_num\\_22607\\_L2A.gpkg'\n",
       "\\item 'tile\\_num\\_22608\\_L2A.gpkg'\n",
       "\\item 'tile\\_num\\_22609\\_L2A.gpkg'\n",
       "\\end{enumerate*}\n"
      ],
      "text/markdown": [
       "1. 'tile_num_21707_L2A.gpkg'\n",
       "2. 'tile_num_21886_L2A.gpkg'\n",
       "3. 'tile_num_21887_L2A.gpkg'\n",
       "4. 'tile_num_21888_L2A.gpkg'\n",
       "5. 'tile_num_21890_L2A.gpkg'\n",
       "6. 'tile_num_21891_L2A.gpkg'\n",
       "7. 'tile_num_22066_L2A.gpkg'\n",
       "8. 'tile_num_22067_L2A.gpkg'\n",
       "9. 'tile_num_22068_L2A.gpkg'\n",
       "10. 'tile_num_22069_L2A.gpkg'\n",
       "11. 'tile_num_22070_L2A.gpkg'\n",
       "12. 'tile_num_22071_L2A.gpkg'\n",
       "13. 'tile_num_22072_L2A.gpkg'\n",
       "14. 'tile_num_22073_L2A.gpkg'\n",
       "15. 'tile_num_22246_L2A.gpkg'\n",
       "16. 'tile_num_22247_L2A.gpkg'\n",
       "17. 'tile_num_22248_L2A.gpkg'\n",
       "18. 'tile_num_22249_L2A.gpkg'\n",
       "19. 'tile_num_22250_L2A.gpkg'\n",
       "20. 'tile_num_22251_L2A.gpkg'\n",
       "21. 'tile_num_22426_L2A.gpkg'\n",
       "22. 'tile_num_22427_L2A.gpkg'\n",
       "23. 'tile_num_22428_L2A.gpkg'\n",
       "24. 'tile_num_22429_L2A.gpkg'\n",
       "25. 'tile_num_22430_L2A.gpkg'\n",
       "26. 'tile_num_22431_L2A.gpkg'\n",
       "27. 'tile_num_22607_L2A.gpkg'\n",
       "28. 'tile_num_22608_L2A.gpkg'\n",
       "29. 'tile_num_22609_L2A.gpkg'\n",
       "\n",
       "\n"
      ],
      "text/plain": [
       " [1] \"tile_num_21707_L2A.gpkg\" \"tile_num_21886_L2A.gpkg\"\n",
       " [3] \"tile_num_21887_L2A.gpkg\" \"tile_num_21888_L2A.gpkg\"\n",
       " [5] \"tile_num_21890_L2A.gpkg\" \"tile_num_21891_L2A.gpkg\"\n",
       " [7] \"tile_num_22066_L2A.gpkg\" \"tile_num_22067_L2A.gpkg\"\n",
       " [9] \"tile_num_22068_L2A.gpkg\" \"tile_num_22069_L2A.gpkg\"\n",
       "[11] \"tile_num_22070_L2A.gpkg\" \"tile_num_22071_L2A.gpkg\"\n",
       "[13] \"tile_num_22072_L2A.gpkg\" \"tile_num_22073_L2A.gpkg\"\n",
       "[15] \"tile_num_22246_L2A.gpkg\" \"tile_num_22247_L2A.gpkg\"\n",
       "[17] \"tile_num_22248_L2A.gpkg\" \"tile_num_22249_L2A.gpkg\"\n",
       "[19] \"tile_num_22250_L2A.gpkg\" \"tile_num_22251_L2A.gpkg\"\n",
       "[21] \"tile_num_22426_L2A.gpkg\" \"tile_num_22427_L2A.gpkg\"\n",
       "[23] \"tile_num_22428_L2A.gpkg\" \"tile_num_22429_L2A.gpkg\"\n",
       "[25] \"tile_num_22430_L2A.gpkg\" \"tile_num_22431_L2A.gpkg\"\n",
       "[27] \"tile_num_22607_L2A.gpkg\" \"tile_num_22608_L2A.gpkg\"\n",
       "[29] \"tile_num_22609_L2A.gpkg\""
      ]
     },
     "metadata": {},
     "output_type": "display_data"
    }
   ],
   "source": [
    "  f.path <- \"s3://maap-ops-workspace/shared/leitoldv/GEDI_global_PA_v2/\"\n",
    "  f.path_l2 <- paste(f.path,\"WDPA_gedi_L2A_tiles/\",sep=\"\")\n",
    "  f.path_l4 <- paste(f.path,\"WDPA_gedi_L4A_tiles/\",sep=\"\")\n",
    "\n",
    "  tileindex_df <- read.csv(s3_get(paste(f.path,\"vero_1deg_tileindex/tileindex_\",iso3,\".csv\", sep=\"\")))\n",
    "  iso3_tiles <- tileindex_df$tileindex\n",
    "  print(iso3_tiles)\n",
    "\n",
    "  all_gedil2_f <- c()\n",
    "  all_gedil4_f <- c()\n",
    "  for(i in 1:length(iso3_tiles)){\n",
    "    iso3_tile_in <- paste(\"tile_num_\",iso3_tiles[i],sep=\"\")\n",
    "    gedi_file_l2 <- paste(iso3_tile_in,\"_L2A.gpkg\",sep=\"\")\n",
    "    gedi_file_l4 <- paste(iso3_tile_in,\"_L4A.gpkg\",sep=\"\")\n",
    "    all_gedil2_f <- c(all_gedil2_f, gedi_file_l2)\n",
    "    all_gedil4_f <- c(all_gedil4_f, gedi_file_l4)\n",
    "    }\n",
    "\n",
    "length(all_gedil2_f)\n",
    "length(all_gedil4_f)\n",
    "\n",
    "all_gedil2_f"
   ]
  },
  {
   "cell_type": "code",
   "execution_count": 41,
   "id": "e324d30f-1819-497b-afff-c20cab644be5",
   "metadata": {},
   "outputs": [],
   "source": [
    "# Initialize an empty list to store results\n",
    "results_list <- list()\n",
    "iso_matched_gedi_df <- NULL # Initialize before loop\n"
   ]
  },
  {
   "cell_type": "code",
   "execution_count": 42,
   "id": "565332c5-6fa8-4435-9caf-c12b8e68e2f4",
   "metadata": {},
   "outputs": [
    {
     "data": {
      "text/html": [
       "<style>\n",
       ".list-inline {list-style: none; margin:0; padding: 0}\n",
       ".list-inline>li {display: inline-block}\n",
       ".list-inline>li:not(:last-child)::after {content: \"\\00b7\"; padding: 0 .5ex}\n",
       "</style>\n",
       "<ol class=list-inline><li>1</li><li>2</li><li>3</li><li>4</li><li>5</li><li>6</li><li>7</li><li>8</li><li>9</li><li>10</li><li>11</li><li>12</li><li>13</li><li>14</li><li>15</li><li>16</li><li>17</li><li>18</li><li>19</li><li>20</li><li>21</li><li>22</li><li>23</li><li>24</li><li>25</li><li>26</li><li>27</li><li>28</li><li>29</li></ol>\n"
      ],
      "text/latex": [
       "\\begin{enumerate*}\n",
       "\\item 1\n",
       "\\item 2\n",
       "\\item 3\n",
       "\\item 4\n",
       "\\item 5\n",
       "\\item 6\n",
       "\\item 7\n",
       "\\item 8\n",
       "\\item 9\n",
       "\\item 10\n",
       "\\item 11\n",
       "\\item 12\n",
       "\\item 13\n",
       "\\item 14\n",
       "\\item 15\n",
       "\\item 16\n",
       "\\item 17\n",
       "\\item 18\n",
       "\\item 19\n",
       "\\item 20\n",
       "\\item 21\n",
       "\\item 22\n",
       "\\item 23\n",
       "\\item 24\n",
       "\\item 25\n",
       "\\item 26\n",
       "\\item 27\n",
       "\\item 28\n",
       "\\item 29\n",
       "\\end{enumerate*}\n"
      ],
      "text/markdown": [
       "1. 1\n",
       "2. 2\n",
       "3. 3\n",
       "4. 4\n",
       "5. 5\n",
       "6. 6\n",
       "7. 7\n",
       "8. 8\n",
       "9. 9\n",
       "10. 10\n",
       "11. 11\n",
       "12. 12\n",
       "13. 13\n",
       "14. 14\n",
       "15. 15\n",
       "16. 16\n",
       "17. 17\n",
       "18. 18\n",
       "19. 19\n",
       "20. 20\n",
       "21. 21\n",
       "22. 22\n",
       "23. 23\n",
       "24. 24\n",
       "25. 25\n",
       "26. 26\n",
       "27. 27\n",
       "28. 28\n",
       "29. 29\n",
       "\n",
       "\n"
      ],
      "text/plain": [
       " [1]  1  2  3  4  5  6  7  8  9 10 11 12 13 14 15 16 17 18 19 20 21 22 23 24 25\n",
       "[26] 26 27 28 29"
      ]
     },
     "metadata": {},
     "output_type": "display_data"
    }
   ],
   "source": [
    "seq_along(all_gedil2_f)"
   ]
  },
  {
   "cell_type": "code",
   "execution_count": 43,
   "id": "3f0315f2-5955-4815-9992-ce08845990dd",
   "metadata": {},
   "outputs": [],
   "source": [
    "this_csvid <- 18"
   ]
  },
  {
   "cell_type": "code",
   "execution_count": 44,
   "id": "fb200c42-7153-4e00-ab82-44ae05894cb5",
   "metadata": {},
   "outputs": [
    {
     "data": {
      "text/html": [
       "'tile_num_22249_L4A.gpkg'"
      ],
      "text/latex": [
       "'tile\\_num\\_22249\\_L4A.gpkg'"
      ],
      "text/markdown": [
       "'tile_num_22249_L4A.gpkg'"
      ],
      "text/plain": [
       "[1] \"tile_num_22249_L4A.gpkg\""
      ]
     },
     "metadata": {},
     "output_type": "display_data"
    }
   ],
   "source": [
    "all_gedil4_f[this_csvid]"
   ]
  },
  {
   "cell_type": "code",
   "execution_count": 45,
   "id": "6eead4e6-56fe-404a-80fe-2eb5bb53cbcd",
   "metadata": {},
   "outputs": [
    {
     "data": {
      "text/html": [
       "'tile_num_22249_L2A.gpkg'"
      ],
      "text/latex": [
       "'tile\\_num\\_22249\\_L2A.gpkg'"
      ],
      "text/markdown": [
       "'tile_num_22249_L2A.gpkg'"
      ],
      "text/plain": [
       "[1] \"tile_num_22249_L2A.gpkg\""
      ]
     },
     "metadata": {},
     "output_type": "display_data"
    }
   ],
   "source": [
    "all_gedil2_f[this_csvid]"
   ]
  },
  {
   "cell_type": "code",
   "execution_count": 46,
   "id": "28e98f87-3def-4bc8-a693-0651bada0184",
   "metadata": {},
   "outputs": [],
   "source": [
    "#f.path <- \"/projects/my-public-bucket/GEDI_global_PA_v2/\"\n",
    "\n",
    "# Read GEDI L4A data\n",
    "#gedil4_f_path <- paste(f.path, \"WDPA_gedi_L4A_tiles/\", all_gedil4_f[this_csvid], sep = \"\")\n",
    "#gedil4_f <- as.data.frame(st_read((gedil4_f_path)))\n",
    "                \n",
    "# Read GEDI L2A data\n",
    "#gedil2_f_path <- paste(f.path, \"WDPA_gedi_L2A_tiles/\", all_gedil2_f[this_csvid], sep = \"\")\n",
    "#gedil2_f <- as.data.frame(st_read((gedil2_f_path)))\n",
    "                "
   ]
  },
  {
   "cell_type": "code",
   "execution_count": 47,
   "id": "540207ad-35d0-4908-9175-6456478a390e",
   "metadata": {},
   "outputs": [
    {
     "name": "stderr",
     "output_type": "stream",
     "text": [
      "\u001b[36mℹ\u001b[39m \u001b[34m\u001b[34ms3://maap-ops-workspace/shared/leitoldv/GEDI_global_PA_v2/WDPA_gedi_L4A_tiles/tile_num_22249_L4A.gpkg\u001b[34m\u001b[39m already exists at \u001b[34m\u001b[34m/projects/.local/share/R/s3/maap-ops-workspace/shared/leitoldv/GEDI_global_PA_v2/WDPA_gedi_L4A_tiles/tile_num_22249_L4A.gpkg\u001b[34m\u001b[39m\n",
      "\n"
     ]
    },
    {
     "name": "stdout",
     "output_type": "stream",
     "text": [
      "Reading layer `tile_num_22249_L4A' from data source \n",
      "  `/projects/.local/share/R/s3/maap-ops-workspace/shared/leitoldv/GEDI_global_PA_v2/WDPA_gedi_L4A_tiles/tile_num_22249_L4A.gpkg' \n",
      "  using driver `GPKG'\n",
      "Integer64 values larger than 9.0072e+15 lost significance after conversion to double;\n",
      "use argument int64_as_string = TRUE to import them lossless, as character\n",
      "Simple feature collection with 725452 features and 11 fields\n",
      "Geometry type: POINT\n",
      "Dimension:     XY\n",
      "Bounding box:  xmin: -57 ymin: -19 xmax: -56 ymax: -18\n",
      "Geodetic CRS:  WGS 84\n"
     ]
    },
    {
     "name": "stderr",
     "output_type": "stream",
     "text": [
      "\u001b[36mℹ\u001b[39m \u001b[34m\u001b[34ms3://maap-ops-workspace/shared/leitoldv/GEDI_global_PA_v2/WDPA_gedi_L2A_tiles/tile_num_22249_L2A.gpkg\u001b[34m\u001b[39m already exists at \u001b[34m\u001b[34m/projects/.local/share/R/s3/maap-ops-workspace/shared/leitoldv/GEDI_global_PA_v2/WDPA_gedi_L2A_tiles/tile_num_22249_L2A.gpkg\u001b[34m\u001b[39m\n",
      "\n"
     ]
    },
    {
     "name": "stdout",
     "output_type": "stream",
     "text": [
      "Reading layer `tile_num_22249_L2A' from data source \n",
      "  `/projects/.local/share/R/s3/maap-ops-workspace/shared/leitoldv/GEDI_global_PA_v2/WDPA_gedi_L2A_tiles/tile_num_22249_L2A.gpkg' \n",
      "  using driver `GPKG'\n",
      "Integer64 values larger than 9.0072e+15 lost significance after conversion to double;\n",
      "use argument int64_as_string = TRUE to import them lossless, as character\n",
      "Simple feature collection with 1180604 features and 17 fields\n",
      "Geometry type: POINT\n",
      "Dimension:     XY\n",
      "Bounding box:  xmin: -57 ymin: -19 xmax: -56 ymax: -18\n",
      "Geodetic CRS:  WGS 84\n"
     ]
    }
   ],
   "source": [
    "f.path <- \"s3://maap-ops-workspace/shared/leitoldv/GEDI_global_PA_v2/\"      \n",
    "\n",
    "# Read GEDI L4A data\n",
    "gedil4_f_path <- paste(f.path, \"WDPA_gedi_L4A_tiles/\", all_gedil4_f[this_csvid], sep = \"\")\n",
    "gedil4_f <- as.data.frame(st_read(s3_get(gedil4_f_path)))\n",
    "                \n",
    "# Read GEDI L2A data\n",
    "gedil2_f_path <- paste(f.path, \"WDPA_gedi_L2A_tiles/\", all_gedil2_f[this_csvid], sep = \"\")\n",
    "gedil2_f <- as.data.frame(st_read(s3_get(gedil2_f_path)))\n",
    "                "
   ]
  },
  {
   "cell_type": "code",
   "execution_count": 48,
   "id": "4bbe0ba5-14ad-47f6-bc89-6cba7bf09858",
   "metadata": {},
   "outputs": [
    {
     "name": "stdout",
     "output_type": "stream",
     "text": [
      "[1] 12994608       22\n"
     ]
    },
    {
     "data": {
      "text/html": [
       "<table class=\"dataframe\">\n",
       "<caption>A data.frame: 6 × 22</caption>\n",
       "<thead>\n",
       "\t<tr><th></th><th scope=col>filename</th><th scope=col>rh80</th><th scope=col>rh40</th><th scope=col>rh25</th><th scope=col>rh75</th><th scope=col>rh30</th><th scope=col>rh70</th><th scope=col>rh98</th><th scope=col>shot_number</th><th scope=col>rh90</th><th scope=col>⋯</th><th scope=col>lat_lowestmode</th><th scope=col>rh10</th><th scope=col>lon_lowestmode</th><th scope=col>rh60</th><th scope=col>rh20</th><th scope=col>geom</th><th scope=col>agbd</th><th scope=col>agbd_se</th><th scope=col>agbd_t</th><th scope=col>agbd_t_se</th></tr>\n",
       "\t<tr><th></th><th scope=col>&lt;chr&gt;</th><th scope=col>&lt;dbl&gt;</th><th scope=col>&lt;dbl&gt;</th><th scope=col>&lt;dbl&gt;</th><th scope=col>&lt;dbl&gt;</th><th scope=col>&lt;dbl&gt;</th><th scope=col>&lt;dbl&gt;</th><th scope=col>&lt;dbl&gt;</th><th scope=col>&lt;dbl&gt;</th><th scope=col>&lt;dbl&gt;</th><th scope=col>⋯</th><th scope=col>&lt;dbl&gt;</th><th scope=col>&lt;dbl&gt;</th><th scope=col>&lt;dbl&gt;</th><th scope=col>&lt;dbl&gt;</th><th scope=col>&lt;dbl&gt;</th><th scope=col>&lt;POINT [°]&gt;</th><th scope=col>&lt;dbl&gt;</th><th scope=col>&lt;dbl&gt;</th><th scope=col>&lt;dbl&gt;</th><th scope=col>&lt;dbl&gt;</th></tr>\n",
       "</thead>\n",
       "<tbody>\n",
       "\t<tr><th scope=row>1</th><td>GEDI02_A_2019141083048_O02477_04_T00281_02_003_01_V002.h5</td><td>1.16</td><td>-0.52</td><td>-1.19</td><td>0.89</td><td>-0.93</td><td>0.67</td><td>2.77</td><td>2.477e+16</td><td>1.75</td><td>⋯</td><td>-18.22520</td><td>-2.09</td><td>-56.00039</td><td>0.26</td><td>-1.46</td><td>POINT (-56.00039 -18.2252)</td><td>0.214032</td><td>13.11856</td><td> 0.4400018</td><td>3.444754</td></tr>\n",
       "\t<tr><th scope=row>2</th><td>GEDI02_A_2019141083048_O02477_04_T00281_02_003_01_V002.h5</td><td>2.09</td><td>-0.14</td><td>-0.86</td><td>1.64</td><td>-0.59</td><td>1.31</td><td>5.20</td><td>2.477e+16</td><td>3.25</td><td>⋯</td><td>-18.22478</td><td>-1.90</td><td>-56.00072</td><td>0.71</td><td>-1.12</td><td>POINT (-56.00072 -18.22478)</td><td>0.214032</td><td>13.11856</td><td> 0.4400018</td><td>3.444754</td></tr>\n",
       "\t<tr><th scope=row>3</th><td>GEDI02_A_2019141083048_O02477_04_T00281_02_003_01_V002.h5</td><td>1.16</td><td>-0.44</td><td>-1.08</td><td>0.93</td><td>-0.86</td><td>0.71</td><td>2.99</td><td>2.477e+16</td><td>1.83</td><td>⋯</td><td>-18.22437</td><td>-2.05</td><td>-56.00104</td><td>0.29</td><td>-1.34</td><td>POINT (-56.00104 -18.22437)</td><td>0.214032</td><td>13.11856</td><td> 0.4400018</td><td>3.444754</td></tr>\n",
       "\t<tr><th scope=row>4</th><td>GEDI02_A_2019141083048_O02477_04_T00281_02_003_01_V002.h5</td><td>1.19</td><td>-0.48</td><td>-1.12</td><td>0.93</td><td>-0.89</td><td>0.71</td><td>2.92</td><td>2.477e+16</td><td>1.87</td><td>⋯</td><td>-18.22396</td><td>-2.09</td><td>-56.00137</td><td>0.29</td><td>-1.38</td><td>POINT (-56.00137 -18.22396)</td><td>0.000000</td><td>13.12568</td><td>-0.2257686</td><td>3.445688</td></tr>\n",
       "\t<tr><th scope=row>5</th><td>GEDI02_A_2019141083048_O02477_04_T00281_02_003_01_V002.h5</td><td>1.34</td><td>-0.37</td><td>-1.04</td><td>1.08</td><td>-0.78</td><td>0.86</td><td>3.40</td><td>2.477e+16</td><td>2.09</td><td>⋯</td><td>-18.22355</td><td>-2.17</td><td>-56.00170</td><td>0.41</td><td>-1.31</td><td>POINT (-56.0017 -18.22355)</td><td>0.000000</td><td>13.12568</td><td>-0.2257686</td><td>3.445688</td></tr>\n",
       "\t<tr><th scope=row>6</th><td>GEDI02_A_2019141083048_O02477_04_T00281_02_003_01_V002.h5</td><td>1.12</td><td>-0.52</td><td>-1.19</td><td>0.86</td><td>-0.97</td><td>0.63</td><td>2.84</td><td>2.477e+16</td><td>1.79</td><td>⋯</td><td>-18.22313</td><td>-2.24</td><td>-56.00203</td><td>0.26</td><td>-1.49</td><td>POINT (-56.00203 -18.22313)</td><td>0.000000</td><td>13.12568</td><td>-0.2257686</td><td>3.445688</td></tr>\n",
       "</tbody>\n",
       "</table>\n"
      ],
      "text/latex": [
       "A data.frame: 6 × 22\n",
       "\\begin{tabular}{r|lllllllllllllllllllll}\n",
       "  & filename & rh80 & rh40 & rh25 & rh75 & rh30 & rh70 & rh98 & shot\\_number & rh90 & ⋯ & lat\\_lowestmode & rh10 & lon\\_lowestmode & rh60 & rh20 & geom & agbd & agbd\\_se & agbd\\_t & agbd\\_t\\_se\\\\\n",
       "  & <chr> & <dbl> & <dbl> & <dbl> & <dbl> & <dbl> & <dbl> & <dbl> & <dbl> & <dbl> & ⋯ & <dbl> & <dbl> & <dbl> & <dbl> & <dbl> & <POINT {[}°{]}> & <dbl> & <dbl> & <dbl> & <dbl>\\\\\n",
       "\\hline\n",
       "\t1 & GEDI02\\_A\\_2019141083048\\_O02477\\_04\\_T00281\\_02\\_003\\_01\\_V002.h5 & 1.16 & -0.52 & -1.19 & 0.89 & -0.93 & 0.67 & 2.77 & 2.477e+16 & 1.75 & ⋯ & -18.22520 & -2.09 & -56.00039 & 0.26 & -1.46 & POINT (-56.00039 -18.2252) & 0.214032 & 13.11856 &  0.4400018 & 3.444754\\\\\n",
       "\t2 & GEDI02\\_A\\_2019141083048\\_O02477\\_04\\_T00281\\_02\\_003\\_01\\_V002.h5 & 2.09 & -0.14 & -0.86 & 1.64 & -0.59 & 1.31 & 5.20 & 2.477e+16 & 3.25 & ⋯ & -18.22478 & -1.90 & -56.00072 & 0.71 & -1.12 & POINT (-56.00072 -18.22478) & 0.214032 & 13.11856 &  0.4400018 & 3.444754\\\\\n",
       "\t3 & GEDI02\\_A\\_2019141083048\\_O02477\\_04\\_T00281\\_02\\_003\\_01\\_V002.h5 & 1.16 & -0.44 & -1.08 & 0.93 & -0.86 & 0.71 & 2.99 & 2.477e+16 & 1.83 & ⋯ & -18.22437 & -2.05 & -56.00104 & 0.29 & -1.34 & POINT (-56.00104 -18.22437) & 0.214032 & 13.11856 &  0.4400018 & 3.444754\\\\\n",
       "\t4 & GEDI02\\_A\\_2019141083048\\_O02477\\_04\\_T00281\\_02\\_003\\_01\\_V002.h5 & 1.19 & -0.48 & -1.12 & 0.93 & -0.89 & 0.71 & 2.92 & 2.477e+16 & 1.87 & ⋯ & -18.22396 & -2.09 & -56.00137 & 0.29 & -1.38 & POINT (-56.00137 -18.22396) & 0.000000 & 13.12568 & -0.2257686 & 3.445688\\\\\n",
       "\t5 & GEDI02\\_A\\_2019141083048\\_O02477\\_04\\_T00281\\_02\\_003\\_01\\_V002.h5 & 1.34 & -0.37 & -1.04 & 1.08 & -0.78 & 0.86 & 3.40 & 2.477e+16 & 2.09 & ⋯ & -18.22355 & -2.17 & -56.00170 & 0.41 & -1.31 & POINT (-56.0017 -18.22355) & 0.000000 & 13.12568 & -0.2257686 & 3.445688\\\\\n",
       "\t6 & GEDI02\\_A\\_2019141083048\\_O02477\\_04\\_T00281\\_02\\_003\\_01\\_V002.h5 & 1.12 & -0.52 & -1.19 & 0.86 & -0.97 & 0.63 & 2.84 & 2.477e+16 & 1.79 & ⋯ & -18.22313 & -2.24 & -56.00203 & 0.26 & -1.49 & POINT (-56.00203 -18.22313) & 0.000000 & 13.12568 & -0.2257686 & 3.445688\\\\\n",
       "\\end{tabular}\n"
      ],
      "text/markdown": [
       "\n",
       "A data.frame: 6 × 22\n",
       "\n",
       "| <!--/--> | filename &lt;chr&gt; | rh80 &lt;dbl&gt; | rh40 &lt;dbl&gt; | rh25 &lt;dbl&gt; | rh75 &lt;dbl&gt; | rh30 &lt;dbl&gt; | rh70 &lt;dbl&gt; | rh98 &lt;dbl&gt; | shot_number &lt;dbl&gt; | rh90 &lt;dbl&gt; | ⋯ ⋯ | lat_lowestmode &lt;dbl&gt; | rh10 &lt;dbl&gt; | lon_lowestmode &lt;dbl&gt; | rh60 &lt;dbl&gt; | rh20 &lt;dbl&gt; | geom &lt;POINT [°]&gt; | agbd &lt;dbl&gt; | agbd_se &lt;dbl&gt; | agbd_t &lt;dbl&gt; | agbd_t_se &lt;dbl&gt; |\n",
       "|---|---|---|---|---|---|---|---|---|---|---|---|---|---|---|---|---|---|---|---|---|---|\n",
       "| 1 | GEDI02_A_2019141083048_O02477_04_T00281_02_003_01_V002.h5 | 1.16 | -0.52 | -1.19 | 0.89 | -0.93 | 0.67 | 2.77 | 2.477e+16 | 1.75 | ⋯ | -18.22520 | -2.09 | -56.00039 | 0.26 | -1.46 | POINT (-56.00039 -18.2252) | 0.214032 | 13.11856 |  0.4400018 | 3.444754 |\n",
       "| 2 | GEDI02_A_2019141083048_O02477_04_T00281_02_003_01_V002.h5 | 2.09 | -0.14 | -0.86 | 1.64 | -0.59 | 1.31 | 5.20 | 2.477e+16 | 3.25 | ⋯ | -18.22478 | -1.90 | -56.00072 | 0.71 | -1.12 | POINT (-56.00072 -18.22478) | 0.214032 | 13.11856 |  0.4400018 | 3.444754 |\n",
       "| 3 | GEDI02_A_2019141083048_O02477_04_T00281_02_003_01_V002.h5 | 1.16 | -0.44 | -1.08 | 0.93 | -0.86 | 0.71 | 2.99 | 2.477e+16 | 1.83 | ⋯ | -18.22437 | -2.05 | -56.00104 | 0.29 | -1.34 | POINT (-56.00104 -18.22437) | 0.214032 | 13.11856 |  0.4400018 | 3.444754 |\n",
       "| 4 | GEDI02_A_2019141083048_O02477_04_T00281_02_003_01_V002.h5 | 1.19 | -0.48 | -1.12 | 0.93 | -0.89 | 0.71 | 2.92 | 2.477e+16 | 1.87 | ⋯ | -18.22396 | -2.09 | -56.00137 | 0.29 | -1.38 | POINT (-56.00137 -18.22396) | 0.000000 | 13.12568 | -0.2257686 | 3.445688 |\n",
       "| 5 | GEDI02_A_2019141083048_O02477_04_T00281_02_003_01_V002.h5 | 1.34 | -0.37 | -1.04 | 1.08 | -0.78 | 0.86 | 3.40 | 2.477e+16 | 2.09 | ⋯ | -18.22355 | -2.17 | -56.00170 | 0.41 | -1.31 | POINT (-56.0017 -18.22355) | 0.000000 | 13.12568 | -0.2257686 | 3.445688 |\n",
       "| 6 | GEDI02_A_2019141083048_O02477_04_T00281_02_003_01_V002.h5 | 1.12 | -0.52 | -1.19 | 0.86 | -0.97 | 0.63 | 2.84 | 2.477e+16 | 1.79 | ⋯ | -18.22313 | -2.24 | -56.00203 | 0.26 | -1.49 | POINT (-56.00203 -18.22313) | 0.000000 | 13.12568 | -0.2257686 | 3.445688 |\n",
       "\n"
      ],
      "text/plain": [
       "  filename                                                  rh80 rh40  rh25 \n",
       "1 GEDI02_A_2019141083048_O02477_04_T00281_02_003_01_V002.h5 1.16 -0.52 -1.19\n",
       "2 GEDI02_A_2019141083048_O02477_04_T00281_02_003_01_V002.h5 2.09 -0.14 -0.86\n",
       "3 GEDI02_A_2019141083048_O02477_04_T00281_02_003_01_V002.h5 1.16 -0.44 -1.08\n",
       "4 GEDI02_A_2019141083048_O02477_04_T00281_02_003_01_V002.h5 1.19 -0.48 -1.12\n",
       "5 GEDI02_A_2019141083048_O02477_04_T00281_02_003_01_V002.h5 1.34 -0.37 -1.04\n",
       "6 GEDI02_A_2019141083048_O02477_04_T00281_02_003_01_V002.h5 1.12 -0.52 -1.19\n",
       "  rh75 rh30  rh70 rh98 shot_number rh90 ⋯ lat_lowestmode rh10  lon_lowestmode\n",
       "1 0.89 -0.93 0.67 2.77 2.477e+16   1.75 ⋯ -18.22520      -2.09 -56.00039     \n",
       "2 1.64 -0.59 1.31 5.20 2.477e+16   3.25 ⋯ -18.22478      -1.90 -56.00072     \n",
       "3 0.93 -0.86 0.71 2.99 2.477e+16   1.83 ⋯ -18.22437      -2.05 -56.00104     \n",
       "4 0.93 -0.89 0.71 2.92 2.477e+16   1.87 ⋯ -18.22396      -2.09 -56.00137     \n",
       "5 1.08 -0.78 0.86 3.40 2.477e+16   2.09 ⋯ -18.22355      -2.17 -56.00170     \n",
       "6 0.86 -0.97 0.63 2.84 2.477e+16   1.79 ⋯ -18.22313      -2.24 -56.00203     \n",
       "  rh60 rh20  geom                        agbd     agbd_se  agbd_t     agbd_t_se\n",
       "1 0.26 -1.46 POINT (-56.00039 -18.2252)  0.214032 13.11856  0.4400018 3.444754 \n",
       "2 0.71 -1.12 POINT (-56.00072 -18.22478) 0.214032 13.11856  0.4400018 3.444754 \n",
       "3 0.29 -1.34 POINT (-56.00104 -18.22437) 0.214032 13.11856  0.4400018 3.444754 \n",
       "4 0.29 -1.38 POINT (-56.00137 -18.22396) 0.000000 13.12568 -0.2257686 3.445688 \n",
       "5 0.41 -1.31 POINT (-56.0017 -18.22355)  0.000000 13.12568 -0.2257686 3.445688 \n",
       "6 0.26 -1.49 POINT (-56.00203 -18.22313) 0.000000 13.12568 -0.2257686 3.445688 "
      ]
     },
     "metadata": {},
     "output_type": "display_data"
    },
    {
     "data": {
      "text/html": [
       "12994608"
      ],
      "text/latex": [
       "12994608"
      ],
      "text/markdown": [
       "12994608"
      ],
      "text/plain": [
       "[1] 12994608"
      ]
     },
     "metadata": {},
     "output_type": "display_data"
    }
   ],
   "source": [
    "# Check if GEDI L4A data is empty\n",
    "if (nrow(gedil4_f) < 1) {\n",
    "    cat(\"Error: No data for GEDI L4A\\n\")\n",
    "    gedi_l24 <- gedil2_f\n",
    "    gedi_l24$agbd <- NA\n",
    "    gedi_l24$agbd_se <- NA\n",
    "    gedi_l24$agbd_t <- NA\n",
    "    gedi_l24$agbd_t_se <- NA\n",
    "} else {\n",
    "    # Select relevant columns from GEDI L4A\n",
    "    gedi_l4_sub <- gedil4_f %>%\n",
    "    dplyr::select(shot_number, agbd, agbd_se, agbd_t, agbd_t_se)\n",
    "                    \n",
    "    # Join with GEDI L2A data\n",
    "    gedi_l24 <- inner_join(gedil2_f, gedi_l4_sub, by = \"shot_number\")\n",
    "}\n",
    "            \n",
    "print(dim(gedi_l24))\n",
    "head(gedi_l24)\n",
    "nrow(gedi_l24)"
   ]
  },
  {
   "cell_type": "code",
   "execution_count": 49,
   "id": "c91c27ab-24fb-49e5-b042-5f282344266d",
   "metadata": {},
   "outputs": [],
   "source": [
    "# Initialize empty spatial object for the current iteration\n",
    "gedi_l24_sp <- NULL\n",
    "            \n",
    "# Convert to spatial points data frame if there is data\n",
    "if (nrow(gedi_l24) > 0) {\n",
    "    gedi_l24_sp <- vect(gedi_l24, geom=c(\"lon_lowestmode\", \"lat_lowestmode\"), crs=\"epsg:4326\")\n",
    "    gedi_l24_sp <- project(gedi_l24_sp, \"epsg:6933\")\n",
    "}"
   ]
  },
  {
   "cell_type": "code",
   "execution_count": 54,
   "id": "e3e0099d-5e00-4216-b910-764a569b154b",
   "metadata": {},
   "outputs": [
    {
     "data": {
      "text/plain": [
       " class       : SpatVector \n",
       " geometry    : points \n",
       " dimensions  : 12994608, 20  (geometries, attributes)\n",
       " extent      : -5499718, -5403232, -2380838, -2259695  (xmin, xmax, ymin, ymax)\n",
       " coord. ref. : WGS 84 / NSIDC EASE-Grid 2.0 Global (EPSG:6933) \n",
       " names       :        filename  rh80  rh40  rh25  rh75  rh30  rh70  rh98\n",
       " type        :           <chr> <num> <num> <num> <num> <num> <num> <num>\n",
       " values      : GEDI02_A_20191~  1.16 -0.52 -1.19  0.89 -0.93  0.67  2.77\n",
       "               GEDI02_A_20191~  2.09 -0.14 -0.86  1.64 -0.59  1.31   5.2\n",
       "               GEDI02_A_20191~  1.16 -0.44 -1.08  0.93 -0.86  0.71  2.99\n",
       " shot_number  rh90 (and 10 more)\n",
       "       <num> <num>              \n",
       "   2.477e+16  1.75              \n",
       "   2.477e+16  3.25              \n",
       "   2.477e+16  1.83              "
      ]
     },
     "metadata": {},
     "output_type": "display_data"
    }
   ],
   "source": [
    "gedi_l24_sp"
   ]
  },
  {
   "cell_type": "code",
   "execution_count": 55,
   "id": "5eedccab-8079-4d9c-b898-3f163aa8394d",
   "metadata": {},
   "outputs": [
    {
     "data": {
      "image/png": "[encoded data removed]",
      "text/plain": [
       "Plot with title “”"
      ]
     },
     "metadata": {
      "image/png": {
       "height": 420,
       "width": 420
      }
     },
     "output_type": "display_data"
    }
   ],
   "source": [
    "plot(gedi_l24_sp, pch=\".\", cex=0.1)"
   ]
  },
  {
   "cell_type": "code",
   "execution_count": 56,
   "id": "fcc94bc8-c999-417d-a136-8012409cdb7a",
   "metadata": {},
   "outputs": [],
   "source": [
    "matched_gedi <- terra::extract(mras, gedi_l24_sp, df=TRUE)"
   ]
  },
  {
   "cell_type": "code",
   "execution_count": 58,
   "id": "8261e87a-73f9-41f6-a32c-bea5eb9e1791",
   "metadata": {},
   "outputs": [],
   "source": [
    "matched_gedi_metrics <- cbind(matched_gedi, gedi_l24_sp)"
   ]
  },
  {
   "cell_type": "code",
   "execution_count": 63,
   "id": "4ae535ec-d59c-4392-9877-18cb34060e19",
   "metadata": {},
   "outputs": [
    {
     "name": "stdout",
     "output_type": "stream",
     "text": [
      "[1] 98029    29\n"
     ]
    }
   ],
   "source": [
    "matched_gedi_metrics_filtered <- matched_gedi_metrics %>% dplyr::filter(!is.na(status)) %>% convertFactor(matched0 = matched, exgedi = .) \n",
    "\n",
    "iso_matched_gedi_df <- rbind(matched_gedi_metrics_filtered,iso_matched_gedi_df)\n",
    "print(dim(iso_matched_gedi_df))"
   ]
  },
  {
   "cell_type": "code",
   "execution_count": null,
   "id": "5cf6ed15-332b-44ae-a547-341289e78a58",
   "metadata": {},
   "outputs": [],
   "source": []
  },
  {
   "cell_type": "code",
   "execution_count": null,
   "id": "c6c55ad8-5d59-4f0f-a940-2a17a1a86432",
   "metadata": {},
   "outputs": [],
   "source": []
  },
  {
   "cell_type": "code",
   "execution_count": null,
   "id": "5509a8ff-786c-4f1b-9c73-446907557f06",
   "metadata": {},
   "outputs": [],
   "source": []
  },
  {
   "cell_type": "code",
   "execution_count": null,
   "id": "29a34528-b712-458b-aa64-94ac758ece0f",
   "metadata": {},
   "outputs": [],
   "source": [
    "#extract_gedi <- function(matched, mras, iso3){\n",
    "  #f.path <- '~/GEDI_PA/Matching_Layers/SEN/SEN_Tiles/'\n",
    "  #f.path <- \"/projects/my-public-bucket/GEDI_global_PA_v2/\"\n",
    "  f.path <- \"s3://maap-ops-workspace/shared/leitoldv/GEDI_global_PA_v2/\"\n",
    "  f.path_l2 <- paste(f.path,\"WDPA_gedi_L2A_tiles/\",sep=\"\")\n",
    "  f.path_l4 <- paste(f.path,\"WDPA_gedi_L4A_tiles/\",sep=\"\")\n",
    "#  all_gedil2_f <- list.files(path=f.path_l2, pattern=\"L2A\", all.files=FALSE, full.names=FALSE)  \n",
    "#  all_gedil4_f <- list.files(path=f.path_l4, pattern=\"L4A\", all.files=FALSE, full.names=FALSE)  \n",
    "\n",
    "  tileindex_df <- read.csv(s3_get(paste(f.path,\"vero_1deg_tileindex/tileindex_\",iso3,\".csv\", sep=\"\")))\n",
    "  iso3_tiles <- tileindex_df$tileindex\n",
    "\n",
    "  all_gedil2_f <- c()\n",
    "  all_gedil4_f <- c()\n",
    "  for(i in 1:length(iso3_tiles)){\n",
    "    iso3_tile_in <- paste(\"tile_num_\",iso3_tiles[i],sep=\"\")\n",
    "    gedi_file_l2 <- paste(iso3_tile_in,\"_L2A.gpkg\",sep=\"\")\n",
    "    gedi_file_l4 <- paste(iso3_tile_in,\"_L4A.gpkg\",sep=\"\")\n",
    "    all_gedil2_f <- c(all_gedil2_f, gedi_file_l2)\n",
    "    all_gedil4_f <- c(all_gedil4_f, gedi_file_l4)\n",
    "    }\n",
    "\n",
    "#  username <- \"leitoldv\"  ##abarenblitt\n",
    "#  prefix_L2A <- paste(\"shared/\",username,\"/GEDI_global_PA_v2/WDPA_gedi_L2A_tiles/\",sep=\"\")\n",
    "#  prefix_L4A <- paste(\"shared/\",username,\"/GEDI_global_PA_v2/WDPA_gedi_L4A_tiles/\",sep=\"\")\n",
    "\n",
    "#  results <- s3$list_objects_v2(Bucket = \"maap-ops-workspace\", Prefix=prefix_L2A)\n",
    "#  all_gedil2_f <- sapply(results$Contents, function(x) {x$Key})\n",
    "#  pattern=paste(\".gpkg\",sep=\"\")\n",
    "#  all_gedil2_f <- grep(pattern, all_gedil2_f, value=TRUE)\n",
    "#  all_gedil2_f <- basename(all_gedil2_f)#[4:6] #Currently specifying working files\n",
    "    \n",
    "#  results4 <- s3$list_objects_v2(Bucket = \"maap-ops-workspace\", Prefix=prefix_L4A)\n",
    "#  all_gedil4_f <- sapply(results4$Contents, function(x) {x$Key})\n",
    "#  pattern4=paste(\".gpkg\",sep=\"\")\n",
    "#  all_gedil4_f <- grep(pattern4, all_gedil4_f, value=TRUE)\n",
    "#  all_gedil4_f <- basename(all_gedil4_f)#[4:6] #Currently specifying working files\n",
    "  \n",
    "  # Initialize an empty list to store results\n",
    "  results_list <- list()\n",
    "  iso_matched_gedi_df <- NULL # Initialize before loop\n",
    "\n",
    "  # Iterate over the sequence of indices for your files\n",
    "  for (this_csvid in seq_along(all_gedil2_f)) {\n",
    "                cat(\"Reading in no. \", this_csvid, \"csv of \", length(all_gedil2_f), \"csvs for iso3\", iso3, \"\\n\")\n",
    "                \n",
    "                f.path <- \"/projects/my-public-bucket/GEDI_global_PA_v2/\"\n",
    "      \n",
    "                # Read GEDI L4A data\n",
    "                gedil4_f_path <- paste(f.path, \"WDPA_gedi_L4A_tiles/\", all_gedil4_f[this_csvid], sep = \"\")\n",
    "                #gedil4_f <- as.data.frame(st_read(s3_get(gedil4_f_path)))\n",
    "                gedil4_f <- as.data.frame(st_read((gedil4_f_path)))\n",
    "                \n",
    "                # Read GEDI L2A data\n",
    "                gedil2_f_path <- paste(f.path, \"WDPA_gedi_L2A_tiles/\", all_gedil2_f[this_csvid], sep = \"\")\n",
    "                #gedil2_f <- as.data.frame(st_read(s3_get(gedil2_f_path)))\n",
    "                gedil2_f <- as.data.frame(st_read((gedil2_f_path)))\n",
    "                \n",
    "                # Check if GEDI L4A data is empty\n",
    "                if (nrow(gedil4_f) < 1) {\n",
    "                    cat(\"Error: No data for GEDI L4A\\n\")\n",
    "                    gedi_l24 <- gedil2_f\n",
    "                    gedi_l24$agbd <- NA\n",
    "                    gedi_l24$agbd_se <- NA\n",
    "                    gedi_l24$agbd_t <- NA\n",
    "                    gedi_l24$agbd_t_se <- NA\n",
    "                } else {\n",
    "                    # Select relevant columns from GEDI L4A\n",
    "                    gedi_l4_sub <- gedil4_f %>%\n",
    "                        dplyr::select(shot_number, agbd, agbd_se, agbd_t, agbd_t_se)\n",
    "                    \n",
    "                    # Join with GEDI L2A data\n",
    "                    gedi_l24 <- inner_join(gedil2_f, gedi_l4_sub, by = \"shot_number\")\n",
    "                }\n",
    "            \n",
    "                print(dim(gedi_l24))\n",
    "            \n",
    "                # Initialize empty spatial object for the current iteration\n",
    "                gedi_l24_sp <- NULL\n",
    "            \n",
    "                # Convert to spatial points data frame if there is data\n",
    "                if (nrow(gedi_l24) > 0) {\n",
    "                    gedi_l24_sp <- SpatialPointsDataFrame(\n",
    "                        coords = gedi_l24[, c(\"lon_lowestmode\", \"lat_lowestmode\")],\n",
    "                        data = gedi_l24,\n",
    "                        proj4string = CRS(\"+init=epsg:4326\")\n",
    "                    ) %>% spTransform(CRS(\"+init=epsg:6933\"))\n",
    "                matched_gedi <- terra::extract(mras,vect(gedi_l24_sp), df=TRUE)\n",
    "                matched_gedi_metrics <- cbind(matched_gedi,gedi_l24_sp@data)\n",
    "                matched_gedi_metrics_filtered <- matched_gedi_metrics %>% dplyr::filter(!is.na(status)) %>% \n",
    "                convertFactor(matched0 = matched,exgedi = .) \n",
    "\n",
    "            iso_matched_gedi_df <- rbind(matched_gedi_metrics_filtered,iso_matched_gedi_df)\n",
    "            print(dim(iso_matched_gedi_df))\n",
    "         }\n",
    "        \n",
    "        # Store results in a list\n",
    "        results_list[[this_csvid]] <- iso_matched_gedi_df\n",
    "    }\n",
    "    \n",
    "    # Combine all results\n",
    "    if (!is.null(iso_matched_gedi_df)) {\n",
    "        iso_matched_gedi_df <- do.call(rbind, results_list)\n",
    "    }\n",
    "    \n",
    "    cat(\"Done GEDI processing\\n\")\n",
    "    return(iso_matched_gedi_df)\n",
    "}\n"
   ]
  },
  {
   "cell_type": "code",
   "execution_count": null,
   "id": "4324220b-ed25-4db4-88ca-034ddd03d141",
   "metadata": {},
   "outputs": [],
   "source": []
  },
  {
   "cell_type": "code",
   "execution_count": null,
   "id": "49c72d6a-c559-4d25-aa0c-18bf3776b4c9",
   "metadata": {},
   "outputs": [],
   "source": []
  },
  {
   "cell_type": "code",
   "execution_count": null,
   "id": "fa920075-918c-4b56-a76e-7c105b22ef25",
   "metadata": {},
   "outputs": [],
   "source": []
  },
  {
   "cell_type": "code",
   "execution_count": null,
   "id": "556205d7-2f4b-4573-8400-a4e65f47ca5b",
   "metadata": {},
   "outputs": [],
   "source": []
  },
  {
   "cell_type": "code",
   "execution_count": null,
   "id": "f28cf871-4343-414f-b2bc-22d435aa160c",
   "metadata": {},
   "outputs": [],
   "source": []
  },
  {
   "cell_type": "code",
   "execution_count": 67,
   "id": "aa9b2c8a-ea98-4fa5-af53-aee5dd0adb2d",
   "metadata": {},
   "outputs": [
    {
     "name": "stderr",
     "output_type": "stream",
     "text": [
      "\u001b[36mℹ\u001b[39m \u001b[34m\u001b[34ms3://maap-ops-workspace/shared/leitoldv/GEDI_global_PA_v2/vero_1deg_tileindex/tileindex_Bpt.csv\u001b[34m\u001b[39m already exists at \u001b[34m\u001b[34m/projects/.local/share/R/s3/maap-ops-workspace/shared/leitoldv/GEDI_global_PA_v2/vero_1deg_tileindex/tileindex_Bpt.csv\u001b[34m\u001b[39m\n",
      "\n"
     ]
    },
    {
     "name": "stdout",
     "output_type": "stream",
     "text": [
      "Reading in no.  1 csv of  29 csvs for iso3 Bpt \n",
      "Reading layer `tile_num_21707_L4A' from data source \n",
      "  `/projects/my-public-bucket/GEDI_global_PA_v2/WDPA_gedi_L4A_tiles/tile_num_21707_L4A.gpkg' \n",
      "  using driver `GPKG'\n",
      "Integer64 values larger than 9.0072e+15 lost significance after conversion to double;\n",
      "use argument int64_as_string = TRUE to import them lossless, as character\n",
      "Simple feature collection with 298827 features and 11 fields\n",
      "Geometry type: POINT\n",
      "Dimension:     XY\n",
      "Bounding box:  xmin: -59.99999 ymin: -16.99999 xmax: -59 ymax: -16\n",
      "Geodetic CRS:  WGS 84\n",
      "Reading layer `tile_num_21707_L2A' from data source \n",
      "  `/projects/my-public-bucket/GEDI_global_PA_v2/WDPA_gedi_L2A_tiles/tile_num_21707_L2A.gpkg' \n",
      "  using driver `GPKG'\n",
      "Integer64 values larger than 9.0072e+15 lost significance after conversion to double;\n",
      "use argument int64_as_string = TRUE to import them lossless, as character\n",
      "Simple feature collection with 1021606 features and 17 fields\n",
      "Geometry type: POINT\n",
      "Dimension:     XY\n",
      "Bounding box:  xmin: -60 ymin: -17 xmax: -59 ymax: -16\n",
      "Geodetic CRS:  WGS 84\n",
      "[1] 5777565      22\n",
      "[1]  0 31\n",
      "Reading in no.  2 csv of  29 csvs for iso3 Bpt \n",
      "Reading layer `tile_num_21886_L4A' from data source \n",
      "  `/projects/my-public-bucket/GEDI_global_PA_v2/WDPA_gedi_L4A_tiles/tile_num_21886_L4A.gpkg' \n",
      "  using driver `GPKG'\n",
      "Integer64 values larger than 9.0072e+15 lost significance after conversion to double;\n",
      "use argument int64_as_string = TRUE to import them lossless, as character\n",
      "Simple feature collection with 574572 features and 11 fields\n",
      "Geometry type: POINT\n",
      "Dimension:     XY\n",
      "Bounding box:  xmin: -59 ymin: -16 xmax: -58 ymax: -15\n",
      "Geodetic CRS:  WGS 84\n",
      "Reading layer `tile_num_21886_L2A' from data source \n",
      "  `/projects/my-public-bucket/GEDI_global_PA_v2/WDPA_gedi_L2A_tiles/tile_num_21886_L2A.gpkg' \n",
      "  using driver `GPKG'\n",
      "Integer64 values larger than 9.0072e+15 lost significance after conversion to double;\n",
      "use argument int64_as_string = TRUE to import them lossless, as character\n",
      "Simple feature collection with 967598 features and 17 fields\n",
      "Geometry type: POINT\n",
      "Dimension:     XY\n",
      "Bounding box:  xmin: -59 ymin: -16 xmax: -58 ymax: -15\n",
      "Geodetic CRS:  WGS 84\n",
      "[1] 11072561       22\n",
      "[1]  0 31\n",
      "Reading in no.  3 csv of  29 csvs for iso3 Bpt \n",
      "Reading layer `tile_num_21887_L4A' from data source \n",
      "  `/projects/my-public-bucket/GEDI_global_PA_v2/WDPA_gedi_L4A_tiles/tile_num_21887_L4A.gpkg' \n",
      "  using driver `GPKG'\n",
      "Integer64 values larger than 9.0072e+15 lost significance after conversion to double;\n",
      "use argument int64_as_string = TRUE to import them lossless, as character\n",
      "Simple feature collection with 533535 features and 11 fields\n",
      "Geometry type: POINT\n",
      "Dimension:     XY\n",
      "Bounding box:  xmin: -59 ymin: -17 xmax: -58 ymax: -16\n",
      "Geodetic CRS:  WGS 84\n",
      "Reading layer `tile_num_21887_L2A' from data source \n",
      "  `/projects/my-public-bucket/GEDI_global_PA_v2/WDPA_gedi_L2A_tiles/tile_num_21887_L2A.gpkg' \n",
      "  using driver `GPKG'\n",
      "Integer64 values larger than 9.0072e+15 lost significance after conversion to double;\n",
      "use argument int64_as_string = TRUE to import them lossless, as character\n",
      "Simple feature collection with 1018412 features and 17 fields\n",
      "Geometry type: POINT\n",
      "Dimension:     XY\n",
      "Bounding box:  xmin: -59 ymin: -17 xmax: -58 ymax: -16\n",
      "Geodetic CRS:  WGS 84\n",
      "[1] 9792231      22\n",
      "[1]  0 31\n",
      "Reading in no.  4 csv of  29 csvs for iso3 Bpt \n",
      "Reading layer `tile_num_21888_L4A' from data source \n",
      "  `/projects/my-public-bucket/GEDI_global_PA_v2/WDPA_gedi_L4A_tiles/tile_num_21888_L4A.gpkg' \n",
      "  using driver `GPKG'\n",
      "Integer64 values larger than 9.0072e+15 lost significance after conversion to double;\n",
      "use argument int64_as_string = TRUE to import them lossless, as character\n",
      "Simple feature collection with 375667 features and 11 fields\n",
      "Geometry type: POINT\n",
      "Dimension:     XY\n",
      "Bounding box:  xmin: -59 ymin: -18 xmax: -58 ymax: -17\n",
      "Geodetic CRS:  WGS 84\n",
      "Reading layer `tile_num_21888_L2A' from data source \n",
      "  `/projects/my-public-bucket/GEDI_global_PA_v2/WDPA_gedi_L2A_tiles/tile_num_21888_L2A.gpkg' \n",
      "  using driver `GPKG'\n",
      "Integer64 values larger than 9.0072e+15 lost significance after conversion to double;\n",
      "use argument int64_as_string = TRUE to import them lossless, as character\n",
      "Simple feature collection with 1173714 features and 17 fields\n",
      "Geometry type: POINT\n",
      "Dimension:     XY\n",
      "Bounding box:  xmin: -59 ymin: -18 xmax: -58 ymax: -17\n",
      "Geodetic CRS:  WGS 84\n",
      "[1] 7165506      22\n",
      "[1]  0 31\n",
      "Reading in no.  5 csv of  29 csvs for iso3 Bpt \n",
      "Reading layer `tile_num_21890_L4A' from data source \n",
      "  `/projects/my-public-bucket/GEDI_global_PA_v2/WDPA_gedi_L4A_tiles/tile_num_21890_L4A.gpkg' \n",
      "  using driver `GPKG'\n",
      "Integer64 values larger than 9.0072e+15 lost significance after conversion to double;\n",
      "use argument int64_as_string = TRUE to import them lossless, as character\n",
      "Simple feature collection with 406812 features and 11 fields\n",
      "Geometry type: POINT\n",
      "Dimension:     XY\n",
      "Bounding box:  xmin: -59 ymin: -20 xmax: -58 ymax: -19\n",
      "Geodetic CRS:  WGS 84\n",
      "Reading layer `tile_num_21890_L2A' from data source \n",
      "  `/projects/my-public-bucket/GEDI_global_PA_v2/WDPA_gedi_L2A_tiles/tile_num_21890_L2A.gpkg' \n",
      "  using driver `GPKG'\n",
      "Integer64 values larger than 9.0072e+15 lost significance after conversion to double;\n",
      "use argument int64_as_string = TRUE to import them lossless, as character\n",
      "Simple feature collection with 1198119 features and 17 fields\n",
      "Geometry type: POINT\n",
      "Dimension:     XY\n",
      "Bounding box:  xmin: -59 ymin: -20 xmax: -58 ymax: -19\n",
      "Geodetic CRS:  WGS 84\n",
      "[1] 7639012      22\n",
      "[1]  0 31\n",
      "Reading in no.  6 csv of  29 csvs for iso3 Bpt \n",
      "Reading layer `tile_num_21891_L4A' from data source \n",
      "  `/projects/my-public-bucket/GEDI_global_PA_v2/WDPA_gedi_L4A_tiles/tile_num_21891_L4A.gpkg' \n",
      "  using driver `GPKG'\n",
      "Integer64 values larger than 9.0072e+15 lost significance after conversion to double;\n",
      "use argument int64_as_string = TRUE to import them lossless, as character\n",
      "Simple feature collection with 475643 features and 11 fields\n",
      "Geometry type: POINT\n",
      "Dimension:     XY\n",
      "Bounding box:  xmin: -59 ymin: -21 xmax: -58.00001 ymax: -20\n",
      "Geodetic CRS:  WGS 84\n",
      "Reading layer `tile_num_21891_L2A' from data source \n",
      "  `/projects/my-public-bucket/GEDI_global_PA_v2/WDPA_gedi_L2A_tiles/tile_num_21891_L2A.gpkg' \n",
      "  using driver `GPKG'\n",
      "Integer64 values larger than 9.0072e+15 lost significance after conversion to double;\n",
      "use argument int64_as_string = TRUE to import them lossless, as character\n",
      "Simple feature collection with 1114836 features and 17 fields\n",
      "Geometry type: POINT\n",
      "Dimension:     XY\n",
      "Bounding box:  xmin: -59 ymin: -21 xmax: -58 ymax: -20\n",
      "Geodetic CRS:  WGS 84\n",
      "[1] 9232853      22\n",
      "[1]  0 31\n",
      "Reading in no.  7 csv of  29 csvs for iso3 Bpt \n",
      "Reading layer `tile_num_22066_L4A' from data source \n",
      "  `/projects/my-public-bucket/GEDI_global_PA_v2/WDPA_gedi_L4A_tiles/tile_num_22066_L4A.gpkg' \n",
      "  using driver `GPKG'\n",
      "Integer64 values larger than 9.0072e+15 lost significance after conversion to double;\n",
      "use argument int64_as_string = TRUE to import them lossless, as character\n",
      "Simple feature collection with 569423 features and 11 fields\n",
      "Geometry type: POINT\n",
      "Dimension:     XY\n",
      "Bounding box:  xmin: -58 ymin: -16 xmax: -57 ymax: -15\n",
      "Geodetic CRS:  WGS 84\n",
      "Reading layer `tile_num_22066_L2A' from data source \n",
      "  `/projects/my-public-bucket/GEDI_global_PA_v2/WDPA_gedi_L2A_tiles/tile_num_22066_L2A.gpkg' \n",
      "  using driver `GPKG'\n",
      "Integer64 values larger than 9.0072e+15 lost significance after conversion to double;\n",
      "use argument int64_as_string = TRUE to import them lossless, as character\n",
      "Simple feature collection with 901412 features and 17 fields\n",
      "Geometry type: POINT\n",
      "Dimension:     XY\n",
      "Bounding box:  xmin: -58 ymin: -16 xmax: -57 ymax: -15\n",
      "Geodetic CRS:  WGS 84\n",
      "[1] 11451416       22\n",
      "[1]  0 31\n",
      "Reading in no.  8 csv of  29 csvs for iso3 Bpt \n",
      "Reading layer `tile_num_22067_L4A' from data source \n",
      "  `/projects/my-public-bucket/GEDI_global_PA_v2/WDPA_gedi_L4A_tiles/tile_num_22067_L4A.gpkg' \n",
      "  using driver `GPKG'\n",
      "Integer64 values larger than 9.0072e+15 lost significance after conversion to double;\n",
      "use argument int64_as_string = TRUE to import them lossless, as character\n",
      "Simple feature collection with 607847 features and 11 fields\n",
      "Geometry type: POINT\n",
      "Dimension:     XY\n",
      "Bounding box:  xmin: -58 ymin: -17 xmax: -57 ymax: -16\n",
      "Geodetic CRS:  WGS 84\n"
     ]
    },
    {
     "ename": "ERROR",
     "evalue": "Error in (function (cond) : error in evaluating the argument 'x' in selecting a method for function 'as.data.frame': Cannot open \"/projects/my-public-bucket/GEDI_global_PA_v2/WDPA_gedi_L2A_tiles/tile_num_22067_L2A.gpkg\"; The source could be corrupt or not supported. See `st_drivers()` for a list of supported formats.\n",
     "output_type": "error",
     "traceback": [
      "Error in (function (cond) : error in evaluating the argument 'x' in selecting a method for function 'as.data.frame': Cannot open \"/projects/my-public-bucket/GEDI_global_PA_v2/WDPA_gedi_L2A_tiles/tile_num_22067_L2A.gpkg\"; The source could be corrupt or not supported. See `st_drivers()` for a list of supported formats.\nTraceback:\n",
      "1. extract_gedi(matched = matched, mras = mras, iso3 = iso3)",
      "2. as.data.frame(st_read((gedil2_f_path)))",
      "3. st_read((gedil2_f_path))",
      "4. st_read.character((gedil2_f_path))",
      "5. CPL_read_ogr(dsn, layer, query, as.character(options), quiet, \n .     type, fid_column_name, drivers, wkt_filter, promote_to_multi, \n .     int64_as_string, dsn_exists, dsn_isdb, getOption(\"width\"))",
      "6. stop(structure(list(message = \"Cannot open \\\"/projects/my-public-bucket/GEDI_global_PA_v2/WDPA_gedi_L2A_tiles/tile_num_22067_L2A.gpkg\\\"; The source could be corrupt or not supported. See `st_drivers()` for a list of supported formats.\", \n .     call = NULL, cppstack = NULL), class = c(\"Rcpp::exception\", \n . \"C++Error\", \"error\", \"condition\")))",
      "7. (function (cond) \n . .Internal(C_tryCatchHelper(addr, 1L, cond)))(structure(list(message = \"Cannot open \\\"/projects/my-public-bucket/GEDI_global_PA_v2/WDPA_gedi_L2A_tiles/tile_num_22067_L2A.gpkg\\\"; The source could be corrupt or not supported. See `st_drivers()` for a list of supported formats.\", \n .     call = NULL, cppstack = NULL), class = c(\"Rcpp::exception\", \n . \"C++Error\", \"error\", \"condition\")))"
     ]
    }
   ],
   "source": [
    "iso_matched_gedi <- extract_gedi(matched=matched, mras=mras, iso3=iso3)"
   ]
  },
  {
   "cell_type": "code",
   "execution_count": 48,
   "id": "94251855-eaa3-4110-bc94-58dd25bfbe24",
   "metadata": {},
   "outputs": [
    {
     "name": "stdout",
     "output_type": "stream",
     "text": [
      "Bpp converting the matched csv to a raster stack for extraction\n",
      "\n",
      " 0  1 \n",
      "34 34 \n"
     ]
    },
    {
     "name": "stderr",
     "output_type": "stream",
     "text": [
      "\u001b[36mℹ\u001b[39m \u001b[34m\u001b[34ms3://maap-ops-workspace/shared/leitoldv/GEDI_global_PA_v2/vero_1deg_tileindex/tileindex_Bpp.csv\u001b[34m\u001b[39m already exists at \u001b[34m\u001b[34m/projects/.local/share/R/s3/maap-ops-workspace/shared/leitoldv/GEDI_global_PA_v2/vero_1deg_tileindex/tileindex_Bpp.csv\u001b[34m\u001b[39m\n",
      "\n"
     ]
    }
   ],
   "source": [
    "#f.path <- \"/projects/my-public-bucket/GEDI_global_PA_v2/\"\n",
    "f.path <- \"s3://maap-ops-workspace/shared/leitoldv/GEDI_global_PA_v2/\"\n",
    "\n",
    "this_rds <- matched_PAs[2]\n",
    "id_pa <- basename(this_rds) %>% readr::parse_number() %>% unique()\n",
    "    \n",
    "    #matched <- readRDS(paste(f.path,\"WDPA_matching_results/\",iso3,\"_wk\",gediwk,\"/\",iso3,\"_pa_\",id_pa,\"_matching_results_wk\",gediwk,\".RDS\",sep=\"\"))\n",
    "    matched <- readRDS(s3_get(paste(f.path,\"WDPA_matching_results/\",iso3,\"_wk\",gediwk,\"/\",iso3,\"_pa_\",id_pa,\"_matching_results_wk\",gediwk,\".RDS\",sep=\"\")))\n",
    "  \n",
    "    if (is.null(matched)==TRUE  | nrow(matched)==0) {\n",
    "        cat(\"Matched result is null for PA\", id_pa, \"quitting...\\n\")\n",
    "        next  # Skip to the next iteration\n",
    "    } else if (!is.null(matched)==TRUE){\n",
    "    mras  <- tryCatch(matched2ras(matched),\n",
    "                      error=function(cond){\n",
    "                        message(cond)\n",
    "                        cat(\"Matched result is likely null for country\", iso3,\"pa\", id_pa, \"dimension of the match is\", dim(matched),\"\\n\")\n",
    "                        # writeLines(\"Matched results is likely null for country\", paste(f.path,\"WDPA_log/\",iso3,\"_log_matching.txt\", sep=\"\"))\n",
    "                        return(NULL)}) #convert the macthed df to a raster stack \n",
    "    print(table(mras$status[]))\n",
    "    if(table(mras$status[])[2]==0 | table(mras$status[])[1]==0 | is.null(mras)){\n",
    "      cat(\"Rasterized results unbalanced for PA\", id_pa, \"quitting...\\n\")\n",
    "      next  # Skip to the next iteration\n",
    "    } else {\n",
    "        \n",
    "      startTime <- Sys.time()\n",
    "        \n",
    "      iso_matched_gedi <- extract_gedi(matched=matched, mras=mras, iso3=iso3)#}  #run filtered csvs on mras for extarction\n",
    "        \n",
    "        if (is.null(iso_matched_gedi)) {\n",
    "        cat(\"Matched result is null for PA\", id_pa, \"quitting...\\n\")\n",
    "        next  # Skip to the next iteration\n",
    "        }\n",
    "\n",
    "      tElapsed <- Sys.time()-startTime\n",
    "      cat(tElapsed, \"for extracting all PAs in\", iso3,\"\\n\")\n",
    "      cat(\"Done GEDI for no. \",grep(unique(matched$pa_id), matched_PAs),\"pa out of\", length(matched_PAs),\"\\n\")\n",
    "\n",
    "      iso_matched_gedi <-  iso_matched_gedi %>%\n",
    "            dplyr::select(\"pa_id\",\"status\",\n",
    "                      \"wwfbiom\",\"wwfecoreg\",\"shot_number\",\"lon_lowestmode\", \n",
    "                      \"lat_lowestmode\", \"lon_lowestmode\", \n",
    "                      \"lat_lowestmode\",\"rh25\", \"rh50\", \"rh75\",\"rh90\", \"rh98\")  #write to individual country folder\n",
    "        \n",
    "      if (length(unique(iso_matched_gedi$wwfbiom)) >1){\n",
    "#       pabiome <- iso_matched_gedi$wwfbiom %>% unique() %>% gsub(\"\\b(\\pL)\\pL{2,}|.\",\"\\U\\1\",.,perl = TRUE)%>% str_c( collapse = \"+\")\n",
    "#       pabiome <- iso_matched_gedi$wwfbiom %>% unique() %>% str_replace_all(\"\\\\b(\\\\p{L})\\\\p{L}{2,}|.\", \"\\\\U\\\\1\", perl = TRUE) %>% str_c(collapse = \"+\")\n",
    "        pabiome <- iso_matched_gedi$wwfbiom %>% unique() %>% str_replace_all(\"\\\\b(\\\\p{L})\\\\p{L}{2,}|.\", \"\\\\U\\\\1\") %>% str_c(collapse = \"+\")\n",
    "      } else if (length(unique(iso_matched_gedi$wwfbiom))==1){\n",
    "#       pabiome <- iso_matched_gedi$wwfbiom %>% unique() %>% str_replace_all(\"\\\\b(\\\\p{L})\\\\p{L}{2,}|.\", \"\\\\U\\\\1\", perl = TRUE)\n",
    "        pabiome <- iso_matched_gedi$wwfbiom %>% unique() %>% str_replace_all(\"\\\\b(\\\\p{L})\\\\p{L}{2,}|.\", \"\\\\U\\\\1\")\n",
    "      } else {\n",
    "        pabiome <- iso_matched_gedi$wwfbiom %>% unique() }\n",
    "        continent <- unique(iso_matched_gedi$region) %>% getmode()\n",
    "      print(paste('output df',dim(iso_matched_gedi)))\n",
    "\n",
    "      #dir.create(file.path(paste(\"output/WDPA_GEDI_extract/\",sep=\"\")),recursive=TRUE)\n",
    "      #saveRDS(iso_matched_gedi, file=paste(\"output/WDPA_GEDI_extract/\",iso3,\"_pa_\", id_pa,\"_gedi_wk_\",gediwk,\"_conti_\",\"biome_\",pabiome,\".RDS\", sep=\"\"))\n",
    "      #write.csv(iso_matched_gedi, file=paste(\"output/WDPA_GEDI_extract/\",iso3,\"_pa_\", id_pa,\"_iso_matched_gedi_sub_wk_\",gediwk,\".csv\", sep=\"\"))\n",
    "      dir.create(file.path(paste(\"/projects/my-public-bucket/GEDI_global_PA_v2/WDPA_GEDI_extract/\",sep=\"\")),recursive=TRUE)\n",
    "      saveRDS(iso_matched_gedi, file=paste(\"/projects/my-public-bucket/GEDI_global_PA_v2/WDPA_GEDI_extract/\",iso3,\"_pa_\", id_pa,\"_gedi_wk_\",gediwk,\"_conti_\",\"biome_\",pabiome,\".RDS\", sep=\"\"))\n",
    "      write.csv(iso_matched_gedi, file=paste(\"/projects/my-public-bucket/GEDI_global_PA_v2/WDPA_GEDI_extract/\",iso3,\"_pa_\", id_pa,\"_iso_matched_gedi_sub_wk_\",gediwk,\".csv\", sep=\"\"))\n",
    "      cat(id_pa,\"in\",iso3,\"result is written to dir\\n\")\n",
    "    }\n",
    "}\n"
   ]
  },
  {
   "cell_type": "code",
   "execution_count": null,
   "id": "a5cebaba-a975-4056-b5ba-92d57181066b",
   "metadata": {},
   "outputs": [],
   "source": [
    "print(\"extracting done\")"
   ]
  },
  {
   "cell_type": "code",
   "execution_count": null,
   "id": "34b5f39f-af66-4910-b8da-eeca2ba73997",
   "metadata": {},
   "outputs": [],
   "source": []
  },
  {
   "cell_type": "code",
   "execution_count": null,
   "id": "a4f1cc8f-9745-4a84-a747-a35122daf9a4",
   "metadata": {},
   "outputs": [],
   "source": [
    "allOut <- read.csv(\"~/GEDI_PA/vl_GEDI-PA_2024/GNB_pa.csv\")"
   ]
  },
  {
   "cell_type": "code",
   "execution_count": null,
   "id": "bf01bd09-b276-4b31-a0be-24a30da120d0",
   "metadata": {},
   "outputs": [],
   "source": [
    "data_sf <- st_as_sf(allOut, coords = c(\"lon\", \"lat\"), crs = 4326)\n"
   ]
  },
  {
   "cell_type": "code",
   "execution_count": null,
   "id": "f047b5af-a71f-4e7d-b6cd-1daf73552bcd",
   "metadata": {},
   "outputs": [],
   "source": [
    "results <- s3$list_objects_v2(Bucket = \"maap-ops-workspace\", \n",
    "                            Prefix=paste(\"shared/abarenblitt/GEDI_global_PA_v2/WDPA_gedi_L2A_tiles/\",sep=\"\"))\n",
    "    all_gedil2_f <- sapply(results$Contents, function(x) {x$Key})\n",
    "    pattern=paste(\".gpkg\",sep=\"\")\n",
    "    all_gedil2_f <- grep(pattern, all_gedil2_f, value=TRUE)\n",
    "    all_gedil2_f <- basename(all_gedil2_f)[4:5] #Currently specifying working files\n",
    "    \n",
    "    results4 <- s3$list_objects_v2(Bucket = \"maap-ops-workspace\", \n",
    "                                Prefix=paste(\"shared/abarenblitt/GEDI_global_PA_v2/WDPA_gedi_L4A_tiles/\",sep=\"\"))\n",
    "    all_gedil4_f <- sapply(results4$Contents, function(x) {x$Key})\n",
    "    pattern4=paste(\".gpkg\",sep=\"\")\n",
    "    all_gedil4_f <- grep(pattern4, all_gedil4_f, value=TRUE)\n",
    "    all_gedil4_f <- basename(all_gedil4_f)[4:5] #Currently specifying working files\n"
   ]
  },
  {
   "cell_type": "code",
   "execution_count": null,
   "id": "6da39210-60df-4301-b3ce-7ea90ad04653",
   "metadata": {},
   "outputs": [],
   "source": [
    "all_gedil2_f"
   ]
  },
  {
   "cell_type": "code",
   "execution_count": null,
   "id": "8877d7c6-39b4-41fc-8f71-64bc577b2899",
   "metadata": {},
   "outputs": [],
   "source": [
    "gedil4_f <- as.data.frame(st_read(paste(gedipath,\"WDPA_gedi_L4A_tiles/\",all_gedil4_f[this_csvid],sep=\"\")))"
   ]
  },
  {
   "cell_type": "code",
   "execution_count": null,
   "id": "ee484121-e2b0-4e3d-80be-a2990fdbc12a",
   "metadata": {},
   "outputs": [],
   "source": [
    "gedil2_f <- as.data.frame(st_read(paste(gedipath,\"WDPA_gedi_L2A_tiles/\",all_gedil2_f[this_csvid],sep=\"\")))"
   ]
  },
  {
   "cell_type": "code",
   "execution_count": null,
   "id": "82ab4551-085a-4314-884d-4ea1e80df2ff",
   "metadata": {},
   "outputs": [],
   "source": [
    "results <- s3$list_objects_v2(Bucket = \"maap-ops-workspace\", \n",
    "                            Prefix=paste(\"shared/abarenblitt/GEDI_global_PA_v2/WDPA_gedi_L2A_tiles/\",sep=\"\"))\n",
    "    all_gedil2_f <- sapply(results$Contents, function(x) {x$Key})\n",
    "    pattern=paste(\".gpkg\",sep=\"\")\n",
    "    all_gedil2_f <- grep(pattern, all_gedil2_f, value=TRUE)\n",
    "    all_gedil2_f <- basename(all_gedil2_f)[4:5]\n",
    "\n",
    "all_gedil2_f"
   ]
  },
  {
   "cell_type": "code",
   "execution_count": null,
   "id": "367f2087-5adc-4126-bafc-f5d3a53272cd",
   "metadata": {},
   "outputs": [],
   "source": []
  },
  {
   "cell_type": "code",
   "execution_count": null,
   "id": "7826e144-47be-4c8d-a694-1f74a453f44b",
   "metadata": {},
   "outputs": [],
   "source": [
    "extract_gedi <- function(matched, mras){\n",
    "    results <- s3$list_objects_v2(Bucket = \"maap-ops-workspace\", \n",
    "                            Prefix=paste(\"shared/abarenblitt/GEDI_global_PA_v2/WDPA_gedi_L2A_tiles/\",sep=\"\"))\n",
    "    all_gedil2_f <- sapply(results$Contents, function(x) {x$Key})\n",
    "    pattern=paste(\".gpkg\",sep=\"\")\n",
    "    all_gedil2_f <- grep(pattern, all_gedil2_f, value=TRUE)\n",
    "    all_gedil2_f <- basename(all_gedil2_f)[4:5] #Currently specifying working files\n",
    "    \n",
    "    results4 <- s3$list_objects_v2(Bucket = \"maap-ops-workspace\", \n",
    "                                Prefix=paste(\"shared/abarenblitt/GEDI_global_PA_v2/WDPA_gedi_L4A_tiles/\",sep=\"\"))\n",
    "    all_gedil4_f <- sapply(results4$Contents, function(x) {x$Key})\n",
    "    pattern4=paste(\".gpkg\",sep=\"\")\n",
    "    all_gedil4_f <- grep(pattern4, all_gedil4_f, value=TRUE)\n",
    "    all_gedil4_f <- basename(all_gedil4_f)[4:5] #Currently specifying working files\n",
    "  \n",
    "    # Initialize an empty list to store results\n",
    "    results_list <- list()\n",
    "    iso_matched_gedi_df <- NULL # Initialize before loop\n",
    "\n",
    "            # Iterate over the sequence of indices for your files\n",
    "    for (this_csvid in seq_along(all_gedil2_f)) {\n",
    "                cat(\"Reading in no. \", this_csvid, \"csv of \", length(all_gedil2_f), \"csvs for iso3\", iso3, \"\\n\")\n",
    "                \n",
    "                # Read GEDI L4A data\n",
    "                gedil4_f_path <- paste(gedipath, \"WDPA_gedi_L4A_tiles/\", all_gedil4_f[this_csvid], sep = \"\")\n",
    "                gedil4_f <- as.data.frame(st_read(gedil4_f_path))\n",
    "                \n",
    "                # Read GEDI L2A data\n",
    "                gedil2_f_path <- paste(gedipath, \"WDPA_gedi_L2A_tiles/\", all_gedil2_f[this_csvid], sep = \"\")\n",
    "                gedil2_f <- as.data.frame(st_read(gedil2_f_path))\n",
    "            \n",
    "                # Check if GEDI L4A data is empty\n",
    "                if (nrow(gedil4_f) < 1) {\n",
    "                    cat(\"Error: No data for GEDI L4A\\n\")\n",
    "                    gedi_l24 <- gedil2_f\n",
    "                    gedi_l24\n",
    "agbd_se <- NA\n",
    "                    gedi_l24\n",
    "agbd_t_se <- NA\n",
    "                } else {\n",
    "                    # Select relevant columns from GEDI L4A\n",
    "                    gedi_l4_sub <- gedil4_f %>%\n",
    "                        dplyr::select(shot_number, agbd, agbd_se, agbd_t, agbd_t_se)\n",
    "                    \n",
    "                    # Join with GEDI L2A data\n",
    "                    gedi_l24 <- inner_join(gedil2_f, gedi_l4_sub, by = \"shot_number\")\n",
    "                }\n",
    "            \n",
    "                print(dim(gedi_l24))\n",
    "            \n",
    "                # Initialize empty spatial object for the current iteration\n",
    "                gedi_l24_sp <- NULL\n",
    "            \n",
    "                # Convert to spatial points data frame if there is data\n",
    "                if (nrow(gedi_l24) > 0) {\n",
    "                    gedi_l24_sp <- SpatialPointsDataFrame(\n",
    "                        coords = gedi_l24[, c(\"lon_lowestmode\", \"lat_lowestmode\")],\n",
    "                        data = gedi_l24,\n",
    "                        proj4string = CRS(\"+init=epsg:4326\")\n",
    "                    ) %>% spTransform(CRS(\"+init=epsg:6933\"))\n",
    "                matched_gedi <- terra::extract(mras,vect(gedi_l24_sp), df=TRUE)\n",
    "                matched_gedi_metrics <- cbind(matched_gedi,gedi_l24_sp@data)\n",
    "                matched_gedi_metrics_filtered <- matched_gedi_metrics %>% dplyr::filter(!is.na(status)) %>% \n",
    "                convertFactor(matched0 = matched,exgedi = .) \n",
    "\n",
    "            iso_matched_gedi_df <- rbind(matched_gedi_metrics_filtered,iso_matched_gedi_df)\n",
    "            print(dim(iso_matched_gedi_df))\n",
    "         }\n",
    "        \n",
    "        # Store results in a list\n",
    "        results_list[[this_csvid]] <- iso_matched_gedi_df\n",
    "    }\n",
    "    \n",
    "    # Combine all results\n",
    "    if (!is.null(iso_matched_gedi_df)) {\n",
    "        iso_matched_gedi_df <- do.call(rbind, results_list)\n",
    "    }\n",
    "    \n",
    "    cat(\"Done GEDI processing\\n\")\n",
    "    return(iso_matched_gedi_df)\n",
    "}\n",
    "     "
   ]
  },
  {
   "cell_type": "code",
   "execution_count": null,
   "id": "55f858d4-1e63-4b8c-83ef-bd0a2df3ad82",
   "metadata": {},
   "outputs": [],
   "source": [
    "ex_out <- for (this_csvid in seq_along(length(all_gedil2_f))) {\n",
    "        ##add the GEDI l4a model prediction for AGB here :\n",
    "        cat(\"Readng in no. \", this_csvid,\"csv of \", length(all_gedil2_f),\"csvs for iso3\",iso3,\"\\n\")\n",
    "\n",
    "    # for (this_gedi4 in all_gedil4_f[this_csvid]){\n",
    "            gedil4_f <- as.data.frame(st_read(paste(gedipath,\"WDPA_gedi_L4A_tiles/\",all_gedil4_f[this_csvid],sep=\"\")))\n",
    "    # }\n",
    "    # for (this_gedi2 in all_gedil2_f[this_csvid]){\n",
    "            gedil2_f <- as.data.frame(st_read(paste(gedipath,\"WDPA_gedi_L2A_tiles/\",all_gedil2_f[this_csvid],sep=\"\")))\n",
    "    # }\n",
    "            if (nrow(gedil4_f) < 1){   #is.na(gedi_l4) || \n",
    "              cat(\"error\")\n",
    "              gedi_l24 <- gedil2_f\n",
    "              gedi_l24\n",
    "agbd_se <- NA\n",
    "              gedi_l24\n",
    "agbd_t_se <- NA\n",
    "            } else {\n",
    "              gedi_l4_sub <- gedil4_f %>%\n",
    "                dplyr::select(shot_number, agbd, agbd_se, agbd_t, agbd_t_se)\n",
    "              gedi_l24 <- inner_join(gedil2_f, gedi_l4_sub, by=\"shot_number\")\n",
    "\n",
    "            }\n",
    "\n",
    "        print(dim(gedi_l24))\n",
    "        iso_matched_gedi_df <- data.frame()\n",
    "        if(nrow(gedi_l24)>0){\n",
    "            gedi_l24_sp <- gedi_l24 %>% \n",
    "                SpatialPointsDataFrame(coords=.[,c(\"lon_lowestmode\",\"lat_lowestmode\")],\n",
    "                                     proj4string=CRS(\"+init=epsg:4326\"), data=.) %>%spTransform(., CRS(\"+init=epsg:6933\"))\n",
    "        }\n",
    "        return(gedi_l24_sp)\n",
    "}\n",
    "     "
   ]
  },
  {
   "cell_type": "code",
   "execution_count": null,
   "id": "15b3f1c0-fc2b-493d-ab92-75c17b21b727",
   "metadata": {},
   "outputs": [],
   "source": [
    "results_list <- list()\n",
    "\n",
    "# Iterate over the sequence of indices for your files\n",
    "for (this_csvid in seq_along(all_gedil2_f)) {\n",
    "    cat(\"Reading in no. \", this_csvid, \"csv of \", length(all_gedil2_f), \"csvs for iso3\", iso3, \"\\n\")\n",
    "    \n",
    "    # Read GEDI L4A data\n",
    "    gedil4_f_path <- paste(gedipath, \"WDPA_gedi_L4A_tiles/\", all_gedil4_f[this_csvid], sep = \"\")\n",
    "    gedil4_f <- as.data.frame(st_read(gedil4_f_path))\n",
    "    \n",
    "    # Read GEDI L2A data\n",
    "    gedil2_f_path <- paste(gedipath, \"WDPA_gedi_L2A_tiles/\", all_gedil2_f[this_csvid], sep = \"\")\n",
    "    gedil2_f <- as.data.frame(st_read(gedil2_f_path))\n",
    "\n",
    "    # Check if GEDI L4A data is empty\n",
    "    if (nrow(gedil4_f) < 1) {\n",
    "        cat(\"Error: No data for GEDI L4A\\n\")\n",
    "        gedi_l24 <- gedil4_f\n",
    "        gedi_l24\n",
    "agbd_se <- NA\n",
    "        gedi_l24\n",
    "agbd_t_se <- NA\n",
    "    } else {\n",
    "        # Select relevant columns from GEDI L4A\n",
    "        gedi_l4_sub <- gedil4_f %>%\n",
    "            dplyr::select(shot_number, agbd, agbd_se, agbd_t, agbd_t_se)\n",
    "        \n",
    "        # Join with GEDI L2A data\n",
    "        gedi_l24 <- inner_join(gedil2_f, gedi_l4_sub, by = \"shot_number\")\n",
    "    }\n",
    "\n",
    "    print(dim(gedi_l24))\n",
    "\n",
    "    # Initialize empty spatial object for the current iteration\n",
    "    gedi_l24_sp <- NULL\n",
    "\n",
    "    # Convert to spatial points data frame if there is data\n",
    "    if (nrow(gedi_l24) > 0) {\n",
    "        gedi_l24_sp <- SpatialPointsDataFrame(\n",
    "            coords = gedi_l24[, c(\"lon_lowestmode\", \"lat_lowestmode\")],\n",
    "            data = gedi_l24,\n",
    "            proj4string = CRS(\"+init=epsg:4326\")\n",
    "        ) %>% spTransform(CRS(\"+init=epsg:6933\"))\n",
    "    }\n",
    "    \n",
    "    # Store result in the list\n",
    "    results_list[[this_csvid]] <- gedi_l24_sp\n",
    "}"
   ]
  },
  {
   "cell_type": "code",
   "execution_count": null,
   "id": "17bb918f-995c-44b0-bf3c-a9d7c3856540",
   "metadata": {},
   "outputs": [],
   "source": [
    "single_result <- results_list[[2]]\n"
   ]
  },
  {
   "cell_type": "code",
   "execution_count": null,
   "id": "d041d815-1b0a-4852-b76f-64d64a84b3d1",
   "metadata": {},
   "outputs": [],
   "source": [
    "single_result_sf <- st_as_sf(single_result)\n"
   ]
  },
  {
   "cell_type": "code",
   "execution_count": null,
   "id": "4361aefc-cae8-443b-8b42-7a0e82813d76",
   "metadata": {},
   "outputs": [],
   "source": [
    "matched<-readRDS(\"~/output/WDPA_matching_results/GNB_wk24/GNB_pa_351088_matching_results_wk24.RDS\")\n"
   ]
  },
  {
   "cell_type": "code",
   "execution_count": null,
   "id": "2b0817b0-0345-4623-96e1-c36dd5ca7dc7",
   "metadata": {},
   "outputs": [],
   "source": [
    "ggplot(data_sf) +\n",
    "  geom_sf(aes(color = status), size = 1) + \n",
    "  geom_sf(data = single_result_sf, color = \"black\", linetype = \"dashed\") +\n",
    "  theme_minimal() +\n",
    "  scale_color_manual(values = c(\"TRUE\" = \"purple\", \"FALSE\" = \"blue\"))+\n",
    "  labs(title = \"Spatial Points from CSV\",\n",
    "       x = \"Longitude\",\n",
    "       y = \"Latitude\",\n",
    "      color = \"Status\")\n",
    "     \n"
   ]
  },
  {
   "cell_type": "code",
   "execution_count": null,
   "id": "871c3203-d213-42b3-a807-ff159426c74c",
   "metadata": {},
   "outputs": [],
   "source": [
    "all_gedil2_f\n"
   ]
  },
  {
   "cell_type": "code",
   "execution_count": null,
   "id": "abb485d7-fbbf-45c2-b660-5c03ba5c882b",
   "metadata": {},
   "outputs": [],
   "source": [
    "gediGrid<-st_read(\"~/my-public-bucket/GEDI_global_PA_v2/WDPA_gedi_L2A_tiles/tile_num_29599_L2A.gpkg\")\n"
   ]
  },
  {
   "cell_type": "code",
   "execution_count": null,
   "id": "591f68b4-50b5-46bd-8a9a-248cad7a76c8",
   "metadata": {},
   "outputs": [],
   "source": []
  }
 ],
 "metadata": {
  "kernelspec": {
   "display_name": "R",
   "language": "R",
   "name": "ir"
  },
  "language_info": {
   "codemirror_mode": "r",
   "file_extension": ".r",
   "mimetype": "text/x-r-source",
   "name": "R",
   "pygments_lexer": "r",
   "version": "4.2.3"
  }
 },
 "nbformat": 4,
 "nbformat_minor": 5
}
