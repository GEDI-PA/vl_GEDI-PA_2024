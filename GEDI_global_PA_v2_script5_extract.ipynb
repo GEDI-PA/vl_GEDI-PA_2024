{
 "cells": [
  {
   "cell_type": "code",
   "execution_count": null,
   "id": "32aeaaac-7d6f-488b-b136-ada54bb8f840",
   "metadata": {},
   "outputs": [],
   "source": [
    "## ---------------- SEP5 testing gedi extraction code -----------------------"
   ]
  },
  {
   "cell_type": "code",
   "execution_count": null,
   "id": "375b9c98-0ce5-4bb8-86dd-29410a0eabee",
   "metadata": {},
   "outputs": [],
   "source": [
    "##\n",
    "# conda install -c conda-forge r-optmatch\n",
    "# conda install -c conda-forge r-RItools\n",
    "##"
   ]
  },
  {
   "cell_type": "code",
   "execution_count": 68,
   "id": "bb019e34-2538-4e39-828f-e670636a0436",
   "metadata": {},
   "outputs": [
    {
     "name": "stderr",
     "output_type": "stream",
     "text": [
      "Updating HTML index of packages in '.Library'\n",
      "\n",
      "Making 'packages.html' ...\n",
      " done\n",
      "\n",
      "also installing the dependency ‘svd’\n",
      "\n",
      "\n",
      "Updating HTML index of packages in '.Library'\n",
      "\n",
      "Making 'packages.html' ...\n",
      " done\n",
      "\n"
     ]
    }
   ],
   "source": [
    "install.packages(\"s3\")\n",
    "install.packages(\"RItools\")    "
   ]
  },
  {
   "cell_type": "code",
   "execution_count": 3,
   "id": "aa085b6a-d865-4ff5-8c40-e26b9fe93940",
   "metadata": {},
   "outputs": [
    {
     "name": "stderr",
     "output_type": "stream",
     "text": [
      "terra 1.7.29\n",
      "\n",
      "\n",
      "Attaching package: ‘dplyr’\n",
      "\n",
      "\n",
      "The following objects are masked from ‘package:terra’:\n",
      "\n",
      "    intersect, union\n",
      "\n",
      "\n",
      "The following objects are masked from ‘package:stats’:\n",
      "\n",
      "    filter, lag\n",
      "\n",
      "\n",
      "The following objects are masked from ‘package:base’:\n",
      "\n",
      "    intersect, setdiff, setequal, union\n",
      "\n",
      "\n",
      "Linking to GEOS 3.11.2, GDAL 3.7.0, PROJ 9.2.0; sf_use_s2() is TRUE\n",
      "\n"
     ]
    },
    {
     "ename": "ERROR",
     "evalue": "Error in library(\"RItools\"): there is no package called ‘RItools’\n",
     "output_type": "error",
     "traceback": [
      "Error in library(\"RItools\"): there is no package called ‘RItools’\nTraceback:\n",
      "1. library(\"RItools\")"
     ]
    }
   ],
   "source": [
    "library(\"terra\")\n",
    "library(\"dplyr\")\n",
    "library(\"sf\")\n",
    "#install.packages(\"s3\")\n",
    "library(\"s3\")\n",
    "\n",
    "library(\"sp\")\n",
    "library(\"foreach\")\n",
    "library(\"stringr\")\n",
    "library(\"aws.s3\")\n",
    "#conda install -c conda-forge r-optmatch #r-ggmap r-hrbrthemes r-Hmisc\n",
    "#library(\"optmatch\")\n",
    "#install.packages(\"doParallel\")\n",
    "#library(\"doParallel\")\n",
    "#install.packages(\"RItools\")    \n",
    "library(\"RItools\")\n"
   ]
  },
  {
   "cell_type": "code",
   "execution_count": 4,
   "id": "62cdb96c-9e67-4aa4-ac5d-436e5d467d8b",
   "metadata": {},
   "outputs": [],
   "source": [
    "#s3 <- paws::s3()"
   ]
  },
  {
   "cell_type": "code",
   "execution_count": 5,
   "id": "2ced8004-1639-432b-9c12-d0cb5f6632fc",
   "metadata": {},
   "outputs": [],
   "source": [
    "#To test, we define the variables manually. For final version, run the commented out section below\n",
    "#iso3 <-\"Bpt\"\n",
    "iso3 <-\"Bpt\"\n",
    "gediwk <- 24\n",
    "mproc <- 1"
   ]
  },
  {
   "cell_type": "code",
   "execution_count": 6,
   "id": "6d063ab5-b6c7-45a5-b852-55e85691de33",
   "metadata": {},
   "outputs": [],
   "source": [
    "#-------------------------------------------------------------------------------\n",
    "#args = commandArgs(trailingOnly=TRUE)\n",
    "#if (length(args)==0) {\n",
    "#  stop(\"At least one argument must be supplied (input file).n\", call.=FALSE)\n",
    "#} else if (length(args)>=1) {\n",
    "#  \n",
    "#  iso3 <- args[1]  #country to process\n",
    "#  gediwk <- args[2]   #the # of weeks GEDI data to use\n",
    "#  mproc <- as.integer(args[3])  #the number of cores to use for matching \n",
    "#}\n",
    "#-------------------------------------------------------------------------------"
   ]
  },
  {
   "cell_type": "code",
   "execution_count": 7,
   "id": "715b5c20-70ed-4406-9077-e0a70295e4f9",
   "metadata": {},
   "outputs": [
    {
     "name": "stdout",
     "output_type": "stream",
     "text": [
      "Step 0: Loading global variables for Bpt with wk 24 data \n"
     ]
    },
    {
     "name": "stderr",
     "output_type": "stream",
     "text": [
      "\u001b[36mℹ\u001b[39m \u001b[34m\u001b[34ms3://maap-ops-workspace/shared/leitoldv/GEDI_global_PA_v2/wwf_ecoregions_key.csv\u001b[34m\u001b[39m already exists at \u001b[34m\u001b[34m/projects/.local/share/R/s3/maap-ops-workspace/shared/leitoldv/GEDI_global_PA_v2/wwf_ecoregions_key.csv\u001b[34m\u001b[39m\n",
      "\n",
      "\u001b[36mℹ\u001b[39m \u001b[34m\u001b[34ms3://maap-ops-workspace/shared/leitoldv/GEDI_global_PA_v2/WDPA_shapefiles/WDPA_polygons/Bpt_PA_poly.rds\u001b[34m\u001b[39m already exists at \u001b[34m\u001b[34m/projects/.local/share/R/s3/maap-ops-workspace/shared/leitoldv/GEDI_global_PA_v2/WDPA_shapefiles/WDPA_polygons/Bpt_PA_poly.rds\u001b[34m\u001b[39m\n",
      "\n",
      "\u001b[36mℹ\u001b[39m \u001b[34m\u001b[34ms3://maap-ops-workspace/shared/leitoldv/GEDI_global_PA_v2/GEDI_ANCI_PFT_r1000m_EASE2.0_UMD_v1_projection_defined_6933.tif\u001b[34m\u001b[39m already exists at \u001b[34m\u001b[34m/projects/.local/share/R/s3/maap-ops-workspace/shared/leitoldv/GEDI_global_PA_v2/GEDI_ANCI_PFT_r1000m_EASE2.0_UMD_v1_projection_defined_6933.tif\u001b[34m\u001b[39m\n",
      "\n",
      "\u001b[36mℹ\u001b[39m \u001b[34m\u001b[34ms3://maap-ops-workspace/shared/leitoldv/GEDI_global_PA_v2/GEDI_ANCI_CONTINENT_r1000m_EASE2.0_UMD_v1_revised_projection_defined_6933.tif\u001b[34m\u001b[39m already exists at \u001b[34m\u001b[34m/projects/.local/share/R/s3/maap-ops-workspace/shared/leitoldv/GEDI_global_PA_v2/GEDI_ANCI_CONTINENT_r1000m_EASE2.0_UMD_v1_revised_projection_defined_6933.tif\u001b[34m\u001b[39m\n",
      "\n",
      "\u001b[36mℹ\u001b[39m all files already exist\n",
      "\n",
      "\u001b[36mℹ\u001b[39m \u001b[34m\u001b[34ms3://maap-ops-workspace/shared/leitoldv/GEDI_global_PA_v2/WDPA_countries/shp/Bpt.shp\u001b[34m\u001b[39m already exists at \u001b[34m\u001b[34m/projects/.local/share/R/s3/maap-ops-workspace/shared/leitoldv/GEDI_global_PA_v2/WDPA_countries/shp/Bpt.shp\u001b[34m\u001b[39m\n",
      "\n"
     ]
    },
    {
     "name": "stdout",
     "output_type": "stream",
     "text": [
      "Reading layer `Bpt' from data source \n",
      "  `/projects/.local/share/R/s3/maap-ops-workspace/shared/leitoldv/GEDI_global_PA_v2/WDPA_countries/shp/Bpt.shp' \n",
      "  using driver `ESRI Shapefile'\n",
      "Simple feature collection with 1 feature and 7 fields\n",
      "Geometry type: POLYGON\n",
      "Dimension:     XY\n",
      "Bounding box:  xmin: -59.18886 ymin: -22.11834 xmax: -54.92231 ymax: -15.52386\n",
      "Geodetic CRS:  WGS 84\n"
     ]
    },
    {
     "name": "stderr",
     "output_type": "stream",
     "text": [
      "\u001b[36mℹ\u001b[39m \u001b[34m\u001b[34ms3://maap-ops-workspace/shared/leitoldv/GEDI_global_PA_v2/rf_noclimate.RData\u001b[34m\u001b[39m already exists at \u001b[34m\u001b[34m/projects/.local/share/R/s3/maap-ops-workspace/shared/leitoldv/GEDI_global_PA_v2/rf_noclimate.RData\u001b[34m\u001b[39m\n",
      "\n",
      "\u001b[36mℹ\u001b[39m \u001b[34m\u001b[34ms3://maap-ops-workspace/shared/leitoldv/GEDI_global_PA_v2/vl_GEDI-PA_2024/matching_func_2024.R\u001b[34m\u001b[39m already exists at \u001b[34m\u001b[34m/projects/.local/share/R/s3/maap-ops-workspace/shared/leitoldv/GEDI_global_PA_v2/vl_GEDI-PA_2024/matching_func_2024.R\u001b[34m\u001b[39m\n",
      "\n"
     ]
    }
   ],
   "source": [
    "cat(\"Step 0: Loading global variables for\", iso3,\"with wk\", gediwk, \"data \\n\")\n",
    "\n",
    "#f.path <- \"/projects/my-public-bucket/GEDI_global_PA_v2/\"\n",
    "f.path <- \"s3://maap-ops-workspace/shared/leitoldv/GEDI_global_PA_v2/\"\n",
    "\n",
    "matching_tifs <- c(\"wwf_biomes\",\"wwf_ecoreg\",\"lc2000\",\"d2roads\", \"dcities\",\"dem\",\n",
    "                   \"pop_cnt_2000\",\"pop_den_2000\",\"slope\", \"tt2cities_2000\", \"wc_prec_1990-1999\",\n",
    "                   \"wc_tmax_1990-1999\",\"wc_tavg_1990-1999\",\"wc_tmin_1990-1999\" )\n",
    "\n",
    "ecoreg_key <- read.csv(s3_get(paste(f.path,\"wwf_ecoregions_key.csv\",sep=\"\")))\n",
    "#unlink(s3_get(paste(f.path,\"wwf_ecoregions_key.csv\",sep=\"\")))\n",
    "\n",
    "allPAs <- readRDS(s3_get(paste(f.path,\"WDPA_shapefiles/WDPA_polygons/\",iso3,\"_PA_poly.rds\",sep=\"\")))\n",
    "\n",
    "MCD12Q1 <- rast(s3_get(paste(f.path,\"GEDI_ANCI_PFT_r1000m_EASE2.0_UMD_v1_projection_defined_6933.tif\",sep=\"\")))\n",
    "crs(MCD12Q1)  <- \"epsg:6933\"\n",
    "\n",
    "world_region <- rast(s3_get(paste(f.path,\"GEDI_ANCI_CONTINENT_r1000m_EASE2.0_UMD_v1_revised_projection_defined_6933.tif\",sep=\"\")))\n",
    "crs(world_region)  <- \"epsg:6933\"\n",
    "\n",
    "s3_get_files(c(paste(f.path,\"WDPA_countries/shp/\",iso3,\".shp\",sep=\"\"),\n",
    "              paste(f.path,\"WDPA_countries/shp/\",iso3,\".shx\",sep=\"\"),\n",
    "              paste(f.path,\"WDPA_countries/shp/\",iso3,\".prj\",sep=\"\"),\n",
    "              paste(f.path,\"WDPA_countries/shp/\",iso3,\".dbf\",sep=\"\")),confirm = FALSE)\n",
    "adm <- st_read(s3_get(paste(f.path,\"WDPA_countries/shp/\",iso3,\".shp\",sep=\"\")))\n",
    "\n",
    "#s3_path <- paste(\"/vsis3/maap-ops-workspace/shared/leitoldv/GEDI_global_PA_v2/WDPA_countries/shp/\",iso3,\".shp\",sep=\"\") #Redo this for the gpkg\n",
    "#adm <- st_read(s3_path)\n",
    "adm_prj <- project(vect(adm), \"epsg:6933\")\n",
    "\n",
    "load(s3_get(paste(f.path,\"rf_noclimate.RData\",sep=\"\")))\n",
    "#source(s3_get(paste(f.path,\"matching_func.R\",sep=\"\")))\n",
    "source(s3_get(paste(f.path,\"vl_GEDI-PA_2024/matching_func_2024.R\",sep=\"\")))\n",
    "\n",
    "flag <- \"run all\"\n",
    "#flag <- \"run remaining\""
   ]
  },
  {
   "cell_type": "code",
   "execution_count": 8,
   "id": "d79924a1-23ba-40a0-81ee-87219004c19c",
   "metadata": {},
   "outputs": [
    {
     "name": "stdout",
     "output_type": "stream",
     "text": [
      "Step 5: Performing WK  24 GEDI extraction for Bpt \n"
     ]
    },
    {
     "name": "stderr",
     "output_type": "stream",
     "text": [
      "\u001b[36mℹ\u001b[39m \u001b[34m\u001b[34ms3://maap-ops-workspace/shared/leitoldv/GEDI_global_PA_v2/WDPA_matching_results/Bpt_wk24_filelist.csv\u001b[34m\u001b[39m already exists at \u001b[34m\u001b[34m/projects/.local/share/R/s3/maap-ops-workspace/shared/leitoldv/GEDI_global_PA_v2/WDPA_matching_results/Bpt_wk24_filelist.csv\u001b[34m\u001b[39m\n",
      "\n"
     ]
    },
    {
     "data": {
      "text/html": [
       "<style>\n",
       ".list-inline {list-style: none; margin:0; padding: 0}\n",
       ".list-inline>li {display: inline-block}\n",
       ".list-inline>li:not(:last-child)::after {content: \"\\00b7\"; padding: 0 .5ex}\n",
       "</style>\n",
       "<ol class=list-inline><li>'Bpt_pa_220297_matching_results_wk24.RDS'</li><li>'Bpt_pa_2220_matching_results_wk24.RDS'</li><li>'Bpt_pa_2581_matching_results_wk24.RDS'</li><li>'Bpt_pa_33968_matching_results_wk24.RDS'</li><li>'Bpt_pa_33985_matching_results_wk24.RDS'</li><li>'Bpt_pa_352016_matching_results_wk24.RDS'</li><li>'Bpt_pa_352021_matching_results_wk24.RDS'</li><li>'Bpt_pa_352270_matching_results_wk24.RDS'</li><li>'Bpt_pa_352271_matching_results_wk24.RDS'</li><li>'Bpt_pa_352430_matching_results_wk24.RDS'</li><li>'Bpt_pa_352461_matching_results_wk24.RDS'</li><li>'Bpt_pa_352463_matching_results_wk24.RDS'</li><li>'Bpt_pa_352466_matching_results_wk24.RDS'</li><li>'Bpt_pa_478452_matching_results_wk24.RDS'</li><li>'Bpt_pa_555542500_matching_results_wk24.RDS'</li><li>'Bpt_pa_555542528_matching_results_wk24.RDS'</li><li>'Bpt_pa_555542552_matching_results_wk24.RDS'</li><li>'Bpt_pa_555542777_matching_results_wk24.RDS'</li><li>'Bpt_pa_555576153_matching_results_wk24.RDS'</li><li>'Bpt_pa_555576191_matching_results_wk24.RDS'</li><li>'Bpt_pa_555576276_matching_results_wk24.RDS'</li><li>'Bpt_pa_555576295_matching_results_wk24.RDS'</li><li>'Bpt_pa_555576310_matching_results_wk24.RDS'</li><li>'Bpt_pa_555576396_matching_results_wk24.RDS'</li><li>'Bpt_pa_555576444_matching_results_wk24.RDS'</li><li>'Bpt_pa_555599959_matching_results_wk24.RDS'</li><li>'Bpt_pa_555600164_matching_results_wk24.RDS'</li><li>'Bpt_pa_555682279_matching_results_wk24.RDS'</li><li>'Bpt_pa_67816_matching_results_wk24.RDS'</li></ol>\n"
      ],
      "text/latex": [
       "\\begin{enumerate*}\n",
       "\\item 'Bpt\\_pa\\_220297\\_matching\\_results\\_wk24.RDS'\n",
       "\\item 'Bpt\\_pa\\_2220\\_matching\\_results\\_wk24.RDS'\n",
       "\\item 'Bpt\\_pa\\_2581\\_matching\\_results\\_wk24.RDS'\n",
       "\\item 'Bpt\\_pa\\_33968\\_matching\\_results\\_wk24.RDS'\n",
       "\\item 'Bpt\\_pa\\_33985\\_matching\\_results\\_wk24.RDS'\n",
       "\\item 'Bpt\\_pa\\_352016\\_matching\\_results\\_wk24.RDS'\n",
       "\\item 'Bpt\\_pa\\_352021\\_matching\\_results\\_wk24.RDS'\n",
       "\\item 'Bpt\\_pa\\_352270\\_matching\\_results\\_wk24.RDS'\n",
       "\\item 'Bpt\\_pa\\_352271\\_matching\\_results\\_wk24.RDS'\n",
       "\\item 'Bpt\\_pa\\_352430\\_matching\\_results\\_wk24.RDS'\n",
       "\\item 'Bpt\\_pa\\_352461\\_matching\\_results\\_wk24.RDS'\n",
       "\\item 'Bpt\\_pa\\_352463\\_matching\\_results\\_wk24.RDS'\n",
       "\\item 'Bpt\\_pa\\_352466\\_matching\\_results\\_wk24.RDS'\n",
       "\\item 'Bpt\\_pa\\_478452\\_matching\\_results\\_wk24.RDS'\n",
       "\\item 'Bpt\\_pa\\_555542500\\_matching\\_results\\_wk24.RDS'\n",
       "\\item 'Bpt\\_pa\\_555542528\\_matching\\_results\\_wk24.RDS'\n",
       "\\item 'Bpt\\_pa\\_555542552\\_matching\\_results\\_wk24.RDS'\n",
       "\\item 'Bpt\\_pa\\_555542777\\_matching\\_results\\_wk24.RDS'\n",
       "\\item 'Bpt\\_pa\\_555576153\\_matching\\_results\\_wk24.RDS'\n",
       "\\item 'Bpt\\_pa\\_555576191\\_matching\\_results\\_wk24.RDS'\n",
       "\\item 'Bpt\\_pa\\_555576276\\_matching\\_results\\_wk24.RDS'\n",
       "\\item 'Bpt\\_pa\\_555576295\\_matching\\_results\\_wk24.RDS'\n",
       "\\item 'Bpt\\_pa\\_555576310\\_matching\\_results\\_wk24.RDS'\n",
       "\\item 'Bpt\\_pa\\_555576396\\_matching\\_results\\_wk24.RDS'\n",
       "\\item 'Bpt\\_pa\\_555576444\\_matching\\_results\\_wk24.RDS'\n",
       "\\item 'Bpt\\_pa\\_555599959\\_matching\\_results\\_wk24.RDS'\n",
       "\\item 'Bpt\\_pa\\_555600164\\_matching\\_results\\_wk24.RDS'\n",
       "\\item 'Bpt\\_pa\\_555682279\\_matching\\_results\\_wk24.RDS'\n",
       "\\item 'Bpt\\_pa\\_67816\\_matching\\_results\\_wk24.RDS'\n",
       "\\end{enumerate*}\n"
      ],
      "text/markdown": [
       "1. 'Bpt_pa_220297_matching_results_wk24.RDS'\n",
       "2. 'Bpt_pa_2220_matching_results_wk24.RDS'\n",
       "3. 'Bpt_pa_2581_matching_results_wk24.RDS'\n",
       "4. 'Bpt_pa_33968_matching_results_wk24.RDS'\n",
       "5. 'Bpt_pa_33985_matching_results_wk24.RDS'\n",
       "6. 'Bpt_pa_352016_matching_results_wk24.RDS'\n",
       "7. 'Bpt_pa_352021_matching_results_wk24.RDS'\n",
       "8. 'Bpt_pa_352270_matching_results_wk24.RDS'\n",
       "9. 'Bpt_pa_352271_matching_results_wk24.RDS'\n",
       "10. 'Bpt_pa_352430_matching_results_wk24.RDS'\n",
       "11. 'Bpt_pa_352461_matching_results_wk24.RDS'\n",
       "12. 'Bpt_pa_352463_matching_results_wk24.RDS'\n",
       "13. 'Bpt_pa_352466_matching_results_wk24.RDS'\n",
       "14. 'Bpt_pa_478452_matching_results_wk24.RDS'\n",
       "15. 'Bpt_pa_555542500_matching_results_wk24.RDS'\n",
       "16. 'Bpt_pa_555542528_matching_results_wk24.RDS'\n",
       "17. 'Bpt_pa_555542552_matching_results_wk24.RDS'\n",
       "18. 'Bpt_pa_555542777_matching_results_wk24.RDS'\n",
       "19. 'Bpt_pa_555576153_matching_results_wk24.RDS'\n",
       "20. 'Bpt_pa_555576191_matching_results_wk24.RDS'\n",
       "21. 'Bpt_pa_555576276_matching_results_wk24.RDS'\n",
       "22. 'Bpt_pa_555576295_matching_results_wk24.RDS'\n",
       "23. 'Bpt_pa_555576310_matching_results_wk24.RDS'\n",
       "24. 'Bpt_pa_555576396_matching_results_wk24.RDS'\n",
       "25. 'Bpt_pa_555576444_matching_results_wk24.RDS'\n",
       "26. 'Bpt_pa_555599959_matching_results_wk24.RDS'\n",
       "27. 'Bpt_pa_555600164_matching_results_wk24.RDS'\n",
       "28. 'Bpt_pa_555682279_matching_results_wk24.RDS'\n",
       "29. 'Bpt_pa_67816_matching_results_wk24.RDS'\n",
       "\n",
       "\n"
      ],
      "text/plain": [
       " [1] \"Bpt_pa_220297_matching_results_wk24.RDS\"   \n",
       " [2] \"Bpt_pa_2220_matching_results_wk24.RDS\"     \n",
       " [3] \"Bpt_pa_2581_matching_results_wk24.RDS\"     \n",
       " [4] \"Bpt_pa_33968_matching_results_wk24.RDS\"    \n",
       " [5] \"Bpt_pa_33985_matching_results_wk24.RDS\"    \n",
       " [6] \"Bpt_pa_352016_matching_results_wk24.RDS\"   \n",
       " [7] \"Bpt_pa_352021_matching_results_wk24.RDS\"   \n",
       " [8] \"Bpt_pa_352270_matching_results_wk24.RDS\"   \n",
       " [9] \"Bpt_pa_352271_matching_results_wk24.RDS\"   \n",
       "[10] \"Bpt_pa_352430_matching_results_wk24.RDS\"   \n",
       "[11] \"Bpt_pa_352461_matching_results_wk24.RDS\"   \n",
       "[12] \"Bpt_pa_352463_matching_results_wk24.RDS\"   \n",
       "[13] \"Bpt_pa_352466_matching_results_wk24.RDS\"   \n",
       "[14] \"Bpt_pa_478452_matching_results_wk24.RDS\"   \n",
       "[15] \"Bpt_pa_555542500_matching_results_wk24.RDS\"\n",
       "[16] \"Bpt_pa_555542528_matching_results_wk24.RDS\"\n",
       "[17] \"Bpt_pa_555542552_matching_results_wk24.RDS\"\n",
       "[18] \"Bpt_pa_555542777_matching_results_wk24.RDS\"\n",
       "[19] \"Bpt_pa_555576153_matching_results_wk24.RDS\"\n",
       "[20] \"Bpt_pa_555576191_matching_results_wk24.RDS\"\n",
       "[21] \"Bpt_pa_555576276_matching_results_wk24.RDS\"\n",
       "[22] \"Bpt_pa_555576295_matching_results_wk24.RDS\"\n",
       "[23] \"Bpt_pa_555576310_matching_results_wk24.RDS\"\n",
       "[24] \"Bpt_pa_555576396_matching_results_wk24.RDS\"\n",
       "[25] \"Bpt_pa_555576444_matching_results_wk24.RDS\"\n",
       "[26] \"Bpt_pa_555599959_matching_results_wk24.RDS\"\n",
       "[27] \"Bpt_pa_555600164_matching_results_wk24.RDS\"\n",
       "[28] \"Bpt_pa_555682279_matching_results_wk24.RDS\"\n",
       "[29] \"Bpt_pa_67816_matching_results_wk24.RDS\"    "
      ]
     },
     "metadata": {},
     "output_type": "display_data"
    },
    {
     "data": {
      "text/html": [
       "29"
      ],
      "text/latex": [
       "29"
      ],
      "text/markdown": [
       "29"
      ],
      "text/plain": [
       "[1] 29"
      ]
     },
     "metadata": {},
     "output_type": "display_data"
    }
   ],
   "source": [
    "#---------------STEP5. GEDI PROCESSING ---------------- \n",
    "#using GEDI shots to extract the treatment/control status, also extract the MODIS PFT for AGB prediction\n",
    "\n",
    "# if (file.exists(paste(f.path,\"WDPA_GEDI_extract/\",iso3,\"_wk\",gediwk,\"/\",iso3,\"_gedi_extracted_matching_wk\",gediwk,\".RDS\", sep=\"\"))){\n",
    "cat(paste(\"Step 5: Performing WK \", gediwk, \"GEDI extraction for\", iso3,\"\\n\"))\n",
    "#matched_all <-read.csv(paste(f.path,\"WDPA_extract4_residual_PAs/\", iso3, \"_wk_\", gediwk, \"_null_matches_rerun.csv\",sep=\"\")) \n",
    "matched_all <- read.csv(s3_get(paste(f.path,\"WDPA_matching_results/\",iso3,\"_wk24_filelist.csv\",sep=\"\")))[,2]\n",
    "matched_all\n",
    "length(matched_all)   "
   ]
  },
  {
   "cell_type": "code",
   "execution_count": 9,
   "id": "b6d1293d-7b7e-4f50-aba1-29a4b2867dd1",
   "metadata": {},
   "outputs": [
    {
     "name": "stderr",
     "output_type": "stream",
     "text": [
      "\n",
      "Attaching package: ‘magrittr’\n",
      "\n",
      "\n",
      "The following objects are masked from ‘package:terra’:\n",
      "\n",
      "    extract, inset\n",
      "\n",
      "\n",
      "\n",
      "Attaching package: ‘tidyr’\n",
      "\n",
      "\n",
      "The following object is masked from ‘package:magrittr’:\n",
      "\n",
      "    extract\n",
      "\n",
      "\n",
      "The following object is masked from ‘package:terra’:\n",
      "\n",
      "    extract\n",
      "\n",
      "\n"
     ]
    },
    {
     "name": "stdout",
     "output_type": "stream",
     "text": [
      "[1] \"Bpt_pa_220297_matching_results_wk24.RDS\"\n",
      "[1] \"Bpt_pa_2220_matching_results_wk24.RDS\"\n",
      "[1] \"Bpt_pa_2581_matching_results_wk24.RDS\"\n",
      "[1] \"Bpt_pa_33968_matching_results_wk24.RDS\"\n",
      "[1] \"Bpt_pa_33985_matching_results_wk24.RDS\"\n",
      "[1] \"Bpt_pa_352016_matching_results_wk24.RDS\"\n",
      "[1] \"Bpt_pa_352021_matching_results_wk24.RDS\"\n",
      "[1] \"Bpt_pa_352270_matching_results_wk24.RDS\"\n",
      "[1] \"Bpt_pa_352271_matching_results_wk24.RDS\"\n",
      "[1] \"Bpt_pa_352430_matching_results_wk24.RDS\"\n",
      "[1] \"Bpt_pa_352461_matching_results_wk24.RDS\"\n",
      "[1] \"Bpt_pa_352463_matching_results_wk24.RDS\"\n",
      "[1] \"Bpt_pa_352466_matching_results_wk24.RDS\"\n",
      "[1] \"Bpt_pa_478452_matching_results_wk24.RDS\"\n",
      "[1] \"Bpt_pa_555542500_matching_results_wk24.RDS\"\n",
      "[1] \"Bpt_pa_555542528_matching_results_wk24.RDS\"\n",
      "[1] \"Bpt_pa_555542552_matching_results_wk24.RDS\"\n",
      "[1] \"Bpt_pa_555542777_matching_results_wk24.RDS\"\n",
      "[1] \"Bpt_pa_555576153_matching_results_wk24.RDS\"\n",
      "[1] \"Bpt_pa_555576191_matching_results_wk24.RDS\"\n",
      "[1] \"Bpt_pa_555576276_matching_results_wk24.RDS\"\n",
      "[1] \"Bpt_pa_555576295_matching_results_wk24.RDS\"\n",
      "[1] \"Bpt_pa_555576310_matching_results_wk24.RDS\"\n",
      "[1] \"Bpt_pa_555576396_matching_results_wk24.RDS\"\n",
      "[1] \"Bpt_pa_555576444_matching_results_wk24.RDS\"\n",
      "[1] \"Bpt_pa_555599959_matching_results_wk24.RDS\"\n",
      "[1] \"Bpt_pa_555600164_matching_results_wk24.RDS\"\n",
      "[1] \"Bpt_pa_555682279_matching_results_wk24.RDS\"\n",
      "[1] \"Bpt_pa_67816_matching_results_wk24.RDS\"\n"
     ]
    },
    {
     "data": {
      "text/html": [
       "26"
      ],
      "text/latex": [
       "26"
      ],
      "text/markdown": [
       "26"
      ],
      "text/plain": [
       "[1] 26"
      ]
     },
     "metadata": {},
     "output_type": "display_data"
    }
   ],
   "source": [
    "f.path <- \"/projects/my-public-bucket/GEDI_global_PA_v2/\"\n",
    "#f.path <- \"s3://maap-ops-workspace/shared/leitoldv/GEDI_global_PA_v2/\"\n",
    "\n",
    "matched_PAs <- foreach(this_rds=matched_all, .combine = c, .packages=c('sp','magrittr', 'dplyr','tidyr','terra')) %do% {  #non-NA matched results\n",
    "  matched_PAs=c()\n",
    "  print(this_rds)\n",
    "  if(nchar(iso3)>3){\n",
    "    id_pa <- basename(this_rds)%>%readr::parse_number() %>% unique()  \n",
    "  } else {\n",
    "    id_pa <- basename(this_rds)%>%readr::parse_number() %>% unique()\n",
    "  }\n",
    "  matched <- readRDS(paste(f.path,\"WDPA_matching_results/\",iso3,\"_wk\",gediwk,\"/\",iso3,\"_pa_\",id_pa,\"_matching_results_wk\",gediwk,\".RDS\",sep=\"\"))\n",
    "  if(!is.null(matched)){\n",
    "    if(nrow(matched)!=0){\n",
    "      matched_PAs=c(matched_PAs,this_rds) \n",
    "    }\n",
    "  }else {\n",
    "    # print(this_rds)\n",
    "    matched_PAs=matched_PAs\n",
    "  }\n",
    "  return(matched_PAs)\n",
    "}\n",
    "length(matched_PAs)"
   ]
  },
  {
   "cell_type": "code",
   "execution_count": 10,
   "id": "0a062203-2c43-46ec-a811-6dfc3b3ab110",
   "metadata": {},
   "outputs": [
    {
     "name": "stdout",
     "output_type": "stream",
     "text": [
      "Step 5: running extraction on all 26 of non-NA matched results in Bpt \n"
     ]
    }
   ],
   "source": [
    "if(flag==\"run all\"){  #determine how many PAs to run the extraction process\n",
    "  matched_PAs <- matched_PAs\n",
    "  cat(\"Step 5: running extraction on all\", length(matched_PAs),\"of non-NA matched results in\", iso3,\"\\n\")\n",
    "} else if (flag==\"run remaining\"){\n",
    "  pattern1 = c(paste(\"wk\",gediwk,sep=\"\"),\"RDS\")\n",
    "  extracted_PAid <- list.files(paste(f.path,\"WDPA_GEDI_extract/\",iso3,\"_wk\",gediwk,\"/\",sep=\"\"), full.names = F, pattern=paste0(pattern1, collapse=\"|\"))%>%\n",
    "    readr::parse_number() %>% unique()\n",
    "  matched_PA_id <- matched_PAs %>% readr::parse_number()\n",
    "  runPA_id <- matched_PA_id[!(matched_PA_id %in% extracted_PAid)]\n",
    "  if (length(runPA_id)>0){\n",
    "    Pattern2 <-  paste(runPA_id, collapse=\"|\")\n",
    "    runPA <-  matched_PAs[grepl(Pattern2,matched_PAs)]\n",
    "    # runPA_ind <- str_detect(matched_PAs, paste(runPA_id, collapse = \"|\"))\n",
    "    matched_PAs <-runPA\n",
    "  } else {\n",
    "    matched_PAs <- NULL\n",
    "    cat(\"Step 5 already done for\", iso3, \"\\n\")\n",
    "  }\n",
    "}"
   ]
  },
  {
   "cell_type": "code",
   "execution_count": 67,
   "id": "217fde1f-e76c-4a1f-9e0e-bdba87d3c239",
   "metadata": {},
   "outputs": [],
   "source": [
    "#f.path <- \"s3://maap-ops-workspace/shared/leitoldv/GEDI_global_PA_v2/\"\n",
    "#source(s3_get(paste(f.path,\"vl_GEDI-PA_2024/matching_func_2024.R\",sep=\"\")))\n",
    "f.path <- \"/projects/my-public-bucket/GEDI_global_PA_v2/\"\n",
    "source(paste(f.path,\"vl_GEDI-PA_2024/matching_func_2024.R\",sep=\"\"))"
   ]
  },
  {
   "cell_type": "code",
   "execution_count": 68,
   "id": "7f144612-7ea9-4b9a-b825-11699161c28f",
   "metadata": {},
   "outputs": [
    {
     "name": "stdout",
     "output_type": "stream",
     "text": [
      "[1] \"Bpt_pa_555576153_matching_results_wk24.RDS\"\n"
     ]
    }
   ],
   "source": [
    "f.path <- \"s3://maap-ops-workspace/shared/leitoldv/GEDI_global_PA_v2/\"\n",
    "\n",
    "this_rds <- matched_PAs[18]\n",
    "id_pa <- basename(this_rds) %>% readr::parse_number() %>% unique()\n",
    "print(this_rds)"
   ]
  },
  {
   "cell_type": "code",
   "execution_count": 69,
   "id": "02d98b94-5229-4c6f-a88b-5e994eccb2b8",
   "metadata": {},
   "outputs": [
    {
     "name": "stderr",
     "output_type": "stream",
     "text": [
      "\u001b[36mℹ\u001b[39m \u001b[34m\u001b[34ms3://maap-ops-workspace/shared/leitoldv/GEDI_global_PA_v2/WDPA_matching_results/Bpt_wk24/Bpt_pa_555576153_matching_results_wk24.RDS\u001b[34m\u001b[39m already exists at \u001b[34m\u001b[34m/projects/.local/share/R/s3/maap-ops-workspace/shared/leitoldv/GEDI_global_PA_v2/WDPA_matching_results/Bpt_wk24/Bpt_pa_555576153_matching_results_wk24.RDS\u001b[34m\u001b[39m\n",
      "\n"
     ]
    }
   ],
   "source": [
    "matched <- readRDS(s3_get(paste(f.path,\"WDPA_matching_results/\",iso3,\"_wk\",gediwk,\"/\",iso3,\"_pa_\",id_pa,\"_matching_results_wk\",gediwk,\".RDS\",sep=\"\")))"
   ]
  },
  {
   "cell_type": "code",
   "execution_count": 70,
   "id": "a1caaf77-f47f-4dcc-9f65-3d18d0005097",
   "metadata": {},
   "outputs": [
    {
     "data": {
      "text/html": [
       "<table class=\"dataframe\">\n",
       "<caption>A tibble: 6 × 21</caption>\n",
       "<thead>\n",
       "\t<tr><th scope=col>lat</th><th scope=col>lon</th><th scope=col>UID</th><th scope=col>status</th><th scope=col>land_cover</th><th scope=col>wwfbiom</th><th scope=col>wwfecoreg</th><th scope=col>elevation</th><th scope=col>slope</th><th scope=col>mean_temp</th><th scope=col>⋯</th><th scope=col>min_temp</th><th scope=col>prec</th><th scope=col>d2road</th><th scope=col>d2city</th><th scope=col>popden</th><th scope=col>tt2city</th><th scope=col>popcnt</th><th scope=col>propensity_score</th><th scope=col>matched</th><th scope=col>pa_id</th></tr>\n",
       "\t<tr><th scope=col>&lt;dbl&gt;</th><th scope=col>&lt;dbl&gt;</th><th scope=col>&lt;int&gt;</th><th scope=col>&lt;lgl&gt;</th><th scope=col>&lt;fct&gt;</th><th scope=col>&lt;fct&gt;</th><th scope=col>&lt;fct&gt;</th><th scope=col>&lt;dbl&gt;</th><th scope=col>&lt;dbl&gt;</th><th scope=col>&lt;dbl&gt;</th><th scope=col>⋯</th><th scope=col>&lt;dbl&gt;</th><th scope=col>&lt;dbl&gt;</th><th scope=col>&lt;dbl&gt;</th><th scope=col>&lt;dbl&gt;</th><th scope=col>&lt;dbl&gt;</th><th scope=col>&lt;dbl&gt;</th><th scope=col>&lt;dbl&gt;</th><th scope=col>&lt;dbl&gt;</th><th scope=col>&lt;fct&gt;</th><th scope=col>&lt;dbl&gt;</th></tr>\n",
       "</thead>\n",
       "<tbody>\n",
       "\t<tr><td>-18.21290</td><td>-56.14627</td><td>1</td><td>TRUE</td><td>l4_wetlands</td><td>Flooded Grasslands &amp; Savannas</td><td>Pantanal</td><td>134</td><td>0.00000000</td><td>25.52893</td><td>⋯</td><td>13.63345</td><td>4438.776</td><td>0.2704162</td><td>2.315766</td><td>0.01423765</td><td>454.5520</td><td>0.01163853</td><td>0.007222026</td><td>l4_wetlands.1</td><td>555576153</td></tr>\n",
       "\t<tr><td>-18.21290</td><td>-56.13589</td><td>2</td><td>TRUE</td><td>l4_wetlands</td><td>Flooded Grasslands &amp; Savannas</td><td>Pantanal</td><td>134</td><td>0.07729086</td><td>25.52893</td><td>⋯</td><td>13.63345</td><td>4438.776</td><td>0.2635230</td><td>2.310317</td><td>0.01423765</td><td>443.7720</td><td>0.01163853</td><td>0.007058870</td><td>l4_wetlands.2</td><td>555576153</td></tr>\n",
       "\t<tr><td>-18.21290</td><td>-56.12552</td><td>3</td><td>TRUE</td><td>l4_wetlands</td><td>Flooded Grasslands &amp; Savannas</td><td>Pantanal</td><td>134</td><td>0.12286700</td><td>25.51922</td><td>⋯</td><td>13.60062</td><td>4443.585</td><td>0.2567153</td><td>2.304885</td><td>0.01423766</td><td>444.8444</td><td>0.01163853</td><td>0.006965286</td><td>l4_wetlands.3</td><td>555576153</td></tr>\n",
       "\t<tr><td>-18.21290</td><td>-56.11515</td><td>4</td><td>TRUE</td><td>l4_wetlands</td><td>Flooded Grasslands &amp; Savannas</td><td>Pantanal</td><td>135</td><td>0.12802088</td><td>25.49636</td><td>⋯</td><td>13.52332</td><td>4454.910</td><td>0.2499999</td><td>2.299471</td><td>0.01423765</td><td>440.0235</td><td>0.01163853</td><td>0.006880701</td><td>l4_wetlands.4</td><td>555576153</td></tr>\n",
       "\t<tr><td>-18.21290</td><td>-56.10477</td><td>5</td><td>TRUE</td><td>l4_wetlands</td><td>Flooded Grasslands &amp; Savannas</td><td>Pantanal</td><td>138</td><td>0.05611214</td><td>25.49636</td><td>⋯</td><td>13.52332</td><td>4454.910</td><td>0.2429562</td><td>2.294074</td><td>0.01423765</td><td>420.4587</td><td>0.01163853</td><td>0.006799711</td><td>l4_wetlands.5</td><td>555576153</td></tr>\n",
       "\t<tr><td>-18.22115</td><td>-56.14627</td><td>6</td><td>TRUE</td><td>l4_wetlands</td><td>Flooded Grasslands &amp; Savannas</td><td>Pantanal</td><td>134</td><td>0.04068607</td><td>25.52893</td><td>⋯</td><td>13.63345</td><td>4438.776</td><td>0.2751261</td><td>2.322070</td><td>0.01423765</td><td>518.8923</td><td>0.01163797</td><td>0.007508595</td><td>l4_wetlands.6</td><td>555576153</td></tr>\n",
       "</tbody>\n",
       "</table>\n"
      ],
      "text/latex": [
       "A tibble: 6 × 21\n",
       "\\begin{tabular}{lllllllllllllllllllll}\n",
       " lat & lon & UID & status & land\\_cover & wwfbiom & wwfecoreg & elevation & slope & mean\\_temp & ⋯ & min\\_temp & prec & d2road & d2city & popden & tt2city & popcnt & propensity\\_score & matched & pa\\_id\\\\\n",
       " <dbl> & <dbl> & <int> & <lgl> & <fct> & <fct> & <fct> & <dbl> & <dbl> & <dbl> & ⋯ & <dbl> & <dbl> & <dbl> & <dbl> & <dbl> & <dbl> & <dbl> & <dbl> & <fct> & <dbl>\\\\\n",
       "\\hline\n",
       "\t -18.21290 & -56.14627 & 1 & TRUE & l4\\_wetlands & Flooded Grasslands \\& Savannas & Pantanal & 134 & 0.00000000 & 25.52893 & ⋯ & 13.63345 & 4438.776 & 0.2704162 & 2.315766 & 0.01423765 & 454.5520 & 0.01163853 & 0.007222026 & l4\\_wetlands.1 & 555576153\\\\\n",
       "\t -18.21290 & -56.13589 & 2 & TRUE & l4\\_wetlands & Flooded Grasslands \\& Savannas & Pantanal & 134 & 0.07729086 & 25.52893 & ⋯ & 13.63345 & 4438.776 & 0.2635230 & 2.310317 & 0.01423765 & 443.7720 & 0.01163853 & 0.007058870 & l4\\_wetlands.2 & 555576153\\\\\n",
       "\t -18.21290 & -56.12552 & 3 & TRUE & l4\\_wetlands & Flooded Grasslands \\& Savannas & Pantanal & 134 & 0.12286700 & 25.51922 & ⋯ & 13.60062 & 4443.585 & 0.2567153 & 2.304885 & 0.01423766 & 444.8444 & 0.01163853 & 0.006965286 & l4\\_wetlands.3 & 555576153\\\\\n",
       "\t -18.21290 & -56.11515 & 4 & TRUE & l4\\_wetlands & Flooded Grasslands \\& Savannas & Pantanal & 135 & 0.12802088 & 25.49636 & ⋯ & 13.52332 & 4454.910 & 0.2499999 & 2.299471 & 0.01423765 & 440.0235 & 0.01163853 & 0.006880701 & l4\\_wetlands.4 & 555576153\\\\\n",
       "\t -18.21290 & -56.10477 & 5 & TRUE & l4\\_wetlands & Flooded Grasslands \\& Savannas & Pantanal & 138 & 0.05611214 & 25.49636 & ⋯ & 13.52332 & 4454.910 & 0.2429562 & 2.294074 & 0.01423765 & 420.4587 & 0.01163853 & 0.006799711 & l4\\_wetlands.5 & 555576153\\\\\n",
       "\t -18.22115 & -56.14627 & 6 & TRUE & l4\\_wetlands & Flooded Grasslands \\& Savannas & Pantanal & 134 & 0.04068607 & 25.52893 & ⋯ & 13.63345 & 4438.776 & 0.2751261 & 2.322070 & 0.01423765 & 518.8923 & 0.01163797 & 0.007508595 & l4\\_wetlands.6 & 555576153\\\\\n",
       "\\end{tabular}\n"
      ],
      "text/markdown": [
       "\n",
       "A tibble: 6 × 21\n",
       "\n",
       "| lat &lt;dbl&gt; | lon &lt;dbl&gt; | UID &lt;int&gt; | status &lt;lgl&gt; | land_cover &lt;fct&gt; | wwfbiom &lt;fct&gt; | wwfecoreg &lt;fct&gt; | elevation &lt;dbl&gt; | slope &lt;dbl&gt; | mean_temp &lt;dbl&gt; | ⋯ ⋯ | min_temp &lt;dbl&gt; | prec &lt;dbl&gt; | d2road &lt;dbl&gt; | d2city &lt;dbl&gt; | popden &lt;dbl&gt; | tt2city &lt;dbl&gt; | popcnt &lt;dbl&gt; | propensity_score &lt;dbl&gt; | matched &lt;fct&gt; | pa_id &lt;dbl&gt; |\n",
       "|---|---|---|---|---|---|---|---|---|---|---|---|---|---|---|---|---|---|---|---|---|\n",
       "| -18.21290 | -56.14627 | 1 | TRUE | l4_wetlands | Flooded Grasslands &amp; Savannas | Pantanal | 134 | 0.00000000 | 25.52893 | ⋯ | 13.63345 | 4438.776 | 0.2704162 | 2.315766 | 0.01423765 | 454.5520 | 0.01163853 | 0.007222026 | l4_wetlands.1 | 555576153 |\n",
       "| -18.21290 | -56.13589 | 2 | TRUE | l4_wetlands | Flooded Grasslands &amp; Savannas | Pantanal | 134 | 0.07729086 | 25.52893 | ⋯ | 13.63345 | 4438.776 | 0.2635230 | 2.310317 | 0.01423765 | 443.7720 | 0.01163853 | 0.007058870 | l4_wetlands.2 | 555576153 |\n",
       "| -18.21290 | -56.12552 | 3 | TRUE | l4_wetlands | Flooded Grasslands &amp; Savannas | Pantanal | 134 | 0.12286700 | 25.51922 | ⋯ | 13.60062 | 4443.585 | 0.2567153 | 2.304885 | 0.01423766 | 444.8444 | 0.01163853 | 0.006965286 | l4_wetlands.3 | 555576153 |\n",
       "| -18.21290 | -56.11515 | 4 | TRUE | l4_wetlands | Flooded Grasslands &amp; Savannas | Pantanal | 135 | 0.12802088 | 25.49636 | ⋯ | 13.52332 | 4454.910 | 0.2499999 | 2.299471 | 0.01423765 | 440.0235 | 0.01163853 | 0.006880701 | l4_wetlands.4 | 555576153 |\n",
       "| -18.21290 | -56.10477 | 5 | TRUE | l4_wetlands | Flooded Grasslands &amp; Savannas | Pantanal | 138 | 0.05611214 | 25.49636 | ⋯ | 13.52332 | 4454.910 | 0.2429562 | 2.294074 | 0.01423765 | 420.4587 | 0.01163853 | 0.006799711 | l4_wetlands.5 | 555576153 |\n",
       "| -18.22115 | -56.14627 | 6 | TRUE | l4_wetlands | Flooded Grasslands &amp; Savannas | Pantanal | 134 | 0.04068607 | 25.52893 | ⋯ | 13.63345 | 4438.776 | 0.2751261 | 2.322070 | 0.01423765 | 518.8923 | 0.01163797 | 0.007508595 | l4_wetlands.6 | 555576153 |\n",
       "\n"
      ],
      "text/plain": [
       "  lat       lon       UID status land_cover  wwfbiom                      \n",
       "1 -18.21290 -56.14627 1   TRUE   l4_wetlands Flooded Grasslands & Savannas\n",
       "2 -18.21290 -56.13589 2   TRUE   l4_wetlands Flooded Grasslands & Savannas\n",
       "3 -18.21290 -56.12552 3   TRUE   l4_wetlands Flooded Grasslands & Savannas\n",
       "4 -18.21290 -56.11515 4   TRUE   l4_wetlands Flooded Grasslands & Savannas\n",
       "5 -18.21290 -56.10477 5   TRUE   l4_wetlands Flooded Grasslands & Savannas\n",
       "6 -18.22115 -56.14627 6   TRUE   l4_wetlands Flooded Grasslands & Savannas\n",
       "  wwfecoreg elevation slope      mean_temp ⋯ min_temp prec     d2road   \n",
       "1 Pantanal  134       0.00000000 25.52893  ⋯ 13.63345 4438.776 0.2704162\n",
       "2 Pantanal  134       0.07729086 25.52893  ⋯ 13.63345 4438.776 0.2635230\n",
       "3 Pantanal  134       0.12286700 25.51922  ⋯ 13.60062 4443.585 0.2567153\n",
       "4 Pantanal  135       0.12802088 25.49636  ⋯ 13.52332 4454.910 0.2499999\n",
       "5 Pantanal  138       0.05611214 25.49636  ⋯ 13.52332 4454.910 0.2429562\n",
       "6 Pantanal  134       0.04068607 25.52893  ⋯ 13.63345 4438.776 0.2751261\n",
       "  d2city   popden     tt2city  popcnt     propensity_score matched      \n",
       "1 2.315766 0.01423765 454.5520 0.01163853 0.007222026      l4_wetlands.1\n",
       "2 2.310317 0.01423765 443.7720 0.01163853 0.007058870      l4_wetlands.2\n",
       "3 2.304885 0.01423766 444.8444 0.01163853 0.006965286      l4_wetlands.3\n",
       "4 2.299471 0.01423765 440.0235 0.01163853 0.006880701      l4_wetlands.4\n",
       "5 2.294074 0.01423765 420.4587 0.01163853 0.006799711      l4_wetlands.5\n",
       "6 2.322070 0.01423765 518.8923 0.01163797 0.007508595      l4_wetlands.6\n",
       "  pa_id    \n",
       "1 555576153\n",
       "2 555576153\n",
       "3 555576153\n",
       "4 555576153\n",
       "5 555576153\n",
       "6 555576153"
      ]
     },
     "metadata": {},
     "output_type": "display_data"
    },
    {
     "data": {
      "text/html": [
       "176"
      ],
      "text/latex": [
       "176"
      ],
      "text/markdown": [
       "176"
      ],
      "text/plain": [
       "[1] 176"
      ]
     },
     "metadata": {},
     "output_type": "display_data"
    }
   ],
   "source": [
    "head(matched)\n",
    "nrow(matched)"
   ]
  },
  {
   "cell_type": "code",
   "execution_count": 71,
   "id": "6ffe117d-308d-4fb8-9e84-660549535c29",
   "metadata": {},
   "outputs": [
    {
     "name": "stdout",
     "output_type": "stream",
     "text": [
      "Bpt converting the matched csv to a raster stack for extraction\n",
      "\n",
      " 0  1 \n",
      "88 88 \n"
     ]
    },
    {
     "data": {
      "text/plain": [
       "class       : SpatRaster \n",
       "dimensions  : 488, 244, 7  (nrow, ncol, nlyr)\n",
       "resolution  : 1000, 1000  (x, y)\n",
       "extent      : -5558530, -5314530, -2513350, -2025350  (xmin, xmax, ymin, ymax)\n",
       "coord. ref. : WGS 84 / NSIDC EASE-Grid 2.0 Global (EPSG:6933) \n",
       "source(s)   : memory\n",
       "names       : status,     pa_id, wwfbiom, wwfecoreg,    UID, pft, ... \n",
       "min values  :      0, 555576153,       1,         1,      1,   0, ... \n",
       "max values  :      1, 555576153,       1,         1, 123578,  11, ... "
      ]
     },
     "metadata": {},
     "output_type": "display_data"
    }
   ],
   "source": [
    "mras  <- tryCatch(matched2ras(matched),\n",
    "                      error=function(cond){\n",
    "                        message(cond)\n",
    "                        cat(\"Matched result is likely null for country\", iso3,\"pa\", id_pa, \"dimension of the match is\", dim(matched),\"\\n\")\n",
    "                        # writeLines(\"Matched results is likely null for country\", paste(f.path,\"WDPA_log/\",iso3,\"_log_matching.txt\", sep=\"\"))\n",
    "                        return(NULL)}) #convert the macthed df to a raster stack \n",
    "print(table(mras$status[]))\n",
    "mras"
   ]
  },
  {
   "cell_type": "code",
   "execution_count": 72,
   "id": "fe614f2b-1115-43e6-ad26-879c796fe29e",
   "metadata": {},
   "outputs": [
    {
     "data": {
      "image/png": "[encoded data removed]",
      "text/plain": [
       "plot without title"
      ]
     },
     "metadata": {
      "image/png": {
       "height": 420,
       "width": 420
      }
     },
     "output_type": "display_data"
    }
   ],
   "source": [
    "plot(mras)"
   ]
  },
  {
   "cell_type": "code",
   "execution_count": null,
   "id": "f28cf871-4343-414f-b2bc-22d435aa160c",
   "metadata": {},
   "outputs": [],
   "source": []
  },
  {
   "cell_type": "code",
   "execution_count": 73,
   "id": "aa9b2c8a-ea98-4fa5-af53-aee5dd0adb2d",
   "metadata": {},
   "outputs": [
    {
     "name": "stderr",
     "output_type": "stream",
     "text": [
      "\u001b[36mℹ\u001b[39m \u001b[34m\u001b[34ms3://maap-ops-workspace/shared/leitoldv/GEDI_global_PA_v2/vero_1deg_tileindex/tileindex_Bpt.csv\u001b[34m\u001b[39m already exists at \u001b[34m\u001b[34m/projects/.local/share/R/s3/maap-ops-workspace/shared/leitoldv/GEDI_global_PA_v2/vero_1deg_tileindex/tileindex_Bpt.csv\u001b[34m\u001b[39m\n",
      "\n"
     ]
    },
    {
     "name": "stdout",
     "output_type": "stream",
     "text": [
      "Reading in no.  1 csv of  29 csvs for iso3 Bpt \n"
     ]
    },
    {
     "name": "stderr",
     "output_type": "stream",
     "text": [
      "\u001b[36mℹ\u001b[39m \u001b[34m\u001b[34ms3://maap-ops-workspace/shared/leitoldv/GEDI_global_PA_v2/WDPA_gedi_L4A_tiles/tile_num_21707_L4A.gpkg\u001b[34m\u001b[39m already exists at \u001b[34m\u001b[34m/projects/.local/share/R/s3/maap-ops-workspace/shared/leitoldv/GEDI_global_PA_v2/WDPA_gedi_L4A_tiles/tile_num_21707_L4A.gpkg\u001b[34m\u001b[39m\n",
      "\n"
     ]
    },
    {
     "name": "stdout",
     "output_type": "stream",
     "text": [
      "Reading layer `tile_num_21707_L4A' from data source \n",
      "  `/projects/.local/share/R/s3/maap-ops-workspace/shared/leitoldv/GEDI_global_PA_v2/WDPA_gedi_L4A_tiles/tile_num_21707_L4A.gpkg' \n",
      "  using driver `GPKG'\n",
      "Integer64 values larger than 9.0072e+15 lost significance after conversion to double;\n",
      "use argument int64_as_string = TRUE to import them lossless, as character\n",
      "Simple feature collection with 298827 features and 11 fields\n",
      "Geometry type: POINT\n",
      "Dimension:     XY\n",
      "Bounding box:  xmin: -59.99999 ymin: -16.99999 xmax: -59 ymax: -16\n",
      "Geodetic CRS:  WGS 84\n"
     ]
    },
    {
     "name": "stderr",
     "output_type": "stream",
     "text": [
      "\u001b[36mℹ\u001b[39m \u001b[34m\u001b[34ms3://maap-ops-workspace/shared/leitoldv/GEDI_global_PA_v2/WDPA_gedi_L2A_tiles/tile_num_21707_L2A.gpkg\u001b[34m\u001b[39m already exists at \u001b[34m\u001b[34m/projects/.local/share/R/s3/maap-ops-workspace/shared/leitoldv/GEDI_global_PA_v2/WDPA_gedi_L2A_tiles/tile_num_21707_L2A.gpkg\u001b[34m\u001b[39m\n",
      "\n"
     ]
    },
    {
     "name": "stdout",
     "output_type": "stream",
     "text": [
      "Reading layer `tile_num_21707_L2A' from data source \n",
      "  `/projects/.local/share/R/s3/maap-ops-workspace/shared/leitoldv/GEDI_global_PA_v2/WDPA_gedi_L2A_tiles/tile_num_21707_L2A.gpkg' \n",
      "  using driver `GPKG'\n",
      "Integer64 values larger than 9.0072e+15 lost significance after conversion to double;\n",
      "use argument int64_as_string = TRUE to import them lossless, as character\n",
      "Simple feature collection with 1021606 features and 17 fields\n",
      "Geometry type: POINT\n",
      "Dimension:     XY\n",
      "Bounding box:  xmin: -60 ymin: -17 xmax: -59 ymax: -16\n",
      "Geodetic CRS:  WGS 84\n",
      "[1] 5777565      22\n",
      "[1] 5777565\n",
      "[1]  0 29\n",
      "Reading in no.  2 csv of  29 csvs for iso3 Bpt \n"
     ]
    },
    {
     "name": "stderr",
     "output_type": "stream",
     "text": [
      "\u001b[36mℹ\u001b[39m \u001b[34m\u001b[34ms3://maap-ops-workspace/shared/leitoldv/GEDI_global_PA_v2/WDPA_gedi_L4A_tiles/tile_num_21886_L4A.gpkg\u001b[34m\u001b[39m already exists at \u001b[34m\u001b[34m/projects/.local/share/R/s3/maap-ops-workspace/shared/leitoldv/GEDI_global_PA_v2/WDPA_gedi_L4A_tiles/tile_num_21886_L4A.gpkg\u001b[34m\u001b[39m\n",
      "\n"
     ]
    },
    {
     "name": "stdout",
     "output_type": "stream",
     "text": [
      "Reading layer `tile_num_21886_L4A' from data source \n",
      "  `/projects/.local/share/R/s3/maap-ops-workspace/shared/leitoldv/GEDI_global_PA_v2/WDPA_gedi_L4A_tiles/tile_num_21886_L4A.gpkg' \n",
      "  using driver `GPKG'\n",
      "Integer64 values larger than 9.0072e+15 lost significance after conversion to double;\n",
      "use argument int64_as_string = TRUE to import them lossless, as character\n",
      "Simple feature collection with 574572 features and 11 fields\n",
      "Geometry type: POINT\n",
      "Dimension:     XY\n",
      "Bounding box:  xmin: -59 ymin: -16 xmax: -58 ymax: -15\n",
      "Geodetic CRS:  WGS 84\n",
      "Reading layer `tile_num_21886_L2A' from data source \n",
      "  `/projects/.local/share/R/s3/maap-ops-workspace/shared/leitoldv/GEDI_global_PA_v2/WDPA_gedi_L2A_tiles/tile_num_21886_L2A.gpkg' \n",
      "  using driver `GPKG'\n",
      "Integer64 values larger than 9.0072e+15 lost significance after conversion to double;\n",
      "use argument int64_as_string = TRUE to import them lossless, as character\n",
      "Simple feature collection with 967598 features and 17 fields\n",
      "Geometry type: POINT\n",
      "Dimension:     XY\n",
      "Bounding box:  xmin: -59 ymin: -16 xmax: -58 ymax: -15\n",
      "Geodetic CRS:  WGS 84\n",
      "[1] 11072561       22\n",
      "[1] 11072561\n",
      "[1]  0 29\n",
      "Reading in no.  3 csv of  29 csvs for iso3 Bpt \n"
     ]
    },
    {
     "name": "stderr",
     "output_type": "stream",
     "text": [
      "\u001b[36mℹ\u001b[39m \u001b[34m\u001b[34ms3://maap-ops-workspace/shared/leitoldv/GEDI_global_PA_v2/WDPA_gedi_L4A_tiles/tile_num_21887_L4A.gpkg\u001b[34m\u001b[39m already exists at \u001b[34m\u001b[34m/projects/.local/share/R/s3/maap-ops-workspace/shared/leitoldv/GEDI_global_PA_v2/WDPA_gedi_L4A_tiles/tile_num_21887_L4A.gpkg\u001b[34m\u001b[39m\n",
      "\n"
     ]
    },
    {
     "name": "stdout",
     "output_type": "stream",
     "text": [
      "Reading layer `tile_num_21887_L4A' from data source \n",
      "  `/projects/.local/share/R/s3/maap-ops-workspace/shared/leitoldv/GEDI_global_PA_v2/WDPA_gedi_L4A_tiles/tile_num_21887_L4A.gpkg' \n",
      "  using driver `GPKG'\n",
      "Integer64 values larger than 9.0072e+15 lost significance after conversion to double;\n",
      "use argument int64_as_string = TRUE to import them lossless, as character\n",
      "Simple feature collection with 533535 features and 11 fields\n",
      "Geometry type: POINT\n",
      "Dimension:     XY\n",
      "Bounding box:  xmin: -59 ymin: -17 xmax: -58 ymax: -16\n",
      "Geodetic CRS:  WGS 84\n",
      "Reading layer `tile_num_21887_L2A' from data source \n",
      "  `/projects/.local/share/R/s3/maap-ops-workspace/shared/leitoldv/GEDI_global_PA_v2/WDPA_gedi_L2A_tiles/tile_num_21887_L2A.gpkg' \n",
      "  using driver `GPKG'\n",
      "Integer64 values larger than 9.0072e+15 lost significance after conversion to double;\n",
      "use argument int64_as_string = TRUE to import them lossless, as character\n",
      "Simple feature collection with 1018412 features and 17 fields\n",
      "Geometry type: POINT\n",
      "Dimension:     XY\n",
      "Bounding box:  xmin: -59 ymin: -17 xmax: -58 ymax: -16\n",
      "Geodetic CRS:  WGS 84\n",
      "[1] 9792231      22\n",
      "[1] 9792231\n",
      "[1]  0 29\n",
      "Reading in no.  4 csv of  29 csvs for iso3 Bpt \n"
     ]
    },
    {
     "name": "stderr",
     "output_type": "stream",
     "text": [
      "\u001b[36mℹ\u001b[39m \u001b[34m\u001b[34ms3://maap-ops-workspace/shared/leitoldv/GEDI_global_PA_v2/WDPA_gedi_L4A_tiles/tile_num_21888_L4A.gpkg\u001b[34m\u001b[39m already exists at \u001b[34m\u001b[34m/projects/.local/share/R/s3/maap-ops-workspace/shared/leitoldv/GEDI_global_PA_v2/WDPA_gedi_L4A_tiles/tile_num_21888_L4A.gpkg\u001b[34m\u001b[39m\n",
      "\n"
     ]
    },
    {
     "name": "stdout",
     "output_type": "stream",
     "text": [
      "Reading layer `tile_num_21888_L4A' from data source \n",
      "  `/projects/.local/share/R/s3/maap-ops-workspace/shared/leitoldv/GEDI_global_PA_v2/WDPA_gedi_L4A_tiles/tile_num_21888_L4A.gpkg' \n",
      "  using driver `GPKG'\n",
      "Integer64 values larger than 9.0072e+15 lost significance after conversion to double;\n",
      "use argument int64_as_string = TRUE to import them lossless, as character\n",
      "Simple feature collection with 375667 features and 11 fields\n",
      "Geometry type: POINT\n",
      "Dimension:     XY\n",
      "Bounding box:  xmin: -59 ymin: -18 xmax: -58 ymax: -17\n",
      "Geodetic CRS:  WGS 84\n",
      "Reading layer `tile_num_21888_L2A' from data source \n",
      "  `/projects/.local/share/R/s3/maap-ops-workspace/shared/leitoldv/GEDI_global_PA_v2/WDPA_gedi_L2A_tiles/tile_num_21888_L2A.gpkg' \n",
      "  using driver `GPKG'\n",
      "Integer64 values larger than 9.0072e+15 lost significance after conversion to double;\n",
      "use argument int64_as_string = TRUE to import them lossless, as character\n",
      "Simple feature collection with 1173714 features and 17 fields\n",
      "Geometry type: POINT\n",
      "Dimension:     XY\n",
      "Bounding box:  xmin: -59 ymin: -18 xmax: -58 ymax: -17\n",
      "Geodetic CRS:  WGS 84\n",
      "[1] 7165506      22\n",
      "[1] 7165506\n",
      "[1]  0 29\n",
      "Reading in no.  5 csv of  29 csvs for iso3 Bpt \n"
     ]
    },
    {
     "name": "stderr",
     "output_type": "stream",
     "text": [
      "\u001b[36mℹ\u001b[39m \u001b[34m\u001b[34ms3://maap-ops-workspace/shared/leitoldv/GEDI_global_PA_v2/WDPA_gedi_L4A_tiles/tile_num_21890_L4A.gpkg\u001b[34m\u001b[39m already exists at \u001b[34m\u001b[34m/projects/.local/share/R/s3/maap-ops-workspace/shared/leitoldv/GEDI_global_PA_v2/WDPA_gedi_L4A_tiles/tile_num_21890_L4A.gpkg\u001b[34m\u001b[39m\n",
      "\n"
     ]
    },
    {
     "name": "stdout",
     "output_type": "stream",
     "text": [
      "Reading layer `tile_num_21890_L4A' from data source \n",
      "  `/projects/.local/share/R/s3/maap-ops-workspace/shared/leitoldv/GEDI_global_PA_v2/WDPA_gedi_L4A_tiles/tile_num_21890_L4A.gpkg' \n",
      "  using driver `GPKG'\n",
      "Integer64 values larger than 9.0072e+15 lost significance after conversion to double;\n",
      "use argument int64_as_string = TRUE to import them lossless, as character\n",
      "Simple feature collection with 406812 features and 11 fields\n",
      "Geometry type: POINT\n",
      "Dimension:     XY\n",
      "Bounding box:  xmin: -59 ymin: -20 xmax: -58 ymax: -19\n",
      "Geodetic CRS:  WGS 84\n",
      "Reading layer `tile_num_21890_L2A' from data source \n",
      "  `/projects/.local/share/R/s3/maap-ops-workspace/shared/leitoldv/GEDI_global_PA_v2/WDPA_gedi_L2A_tiles/tile_num_21890_L2A.gpkg' \n",
      "  using driver `GPKG'\n",
      "Integer64 values larger than 9.0072e+15 lost significance after conversion to double;\n",
      "use argument int64_as_string = TRUE to import them lossless, as character\n",
      "Simple feature collection with 1198119 features and 17 fields\n",
      "Geometry type: POINT\n",
      "Dimension:     XY\n",
      "Bounding box:  xmin: -59 ymin: -20 xmax: -58 ymax: -19\n",
      "Geodetic CRS:  WGS 84\n",
      "[1] 7639012      22\n",
      "[1] 7639012\n",
      "[1]  0 29\n",
      "Reading in no.  6 csv of  29 csvs for iso3 Bpt \n"
     ]
    },
    {
     "name": "stderr",
     "output_type": "stream",
     "text": [
      "\u001b[36mℹ\u001b[39m \u001b[34m\u001b[34ms3://maap-ops-workspace/shared/leitoldv/GEDI_global_PA_v2/WDPA_gedi_L4A_tiles/tile_num_21891_L4A.gpkg\u001b[34m\u001b[39m already exists at \u001b[34m\u001b[34m/projects/.local/share/R/s3/maap-ops-workspace/shared/leitoldv/GEDI_global_PA_v2/WDPA_gedi_L4A_tiles/tile_num_21891_L4A.gpkg\u001b[34m\u001b[39m\n",
      "\n"
     ]
    },
    {
     "name": "stdout",
     "output_type": "stream",
     "text": [
      "Reading layer `tile_num_21891_L4A' from data source \n",
      "  `/projects/.local/share/R/s3/maap-ops-workspace/shared/leitoldv/GEDI_global_PA_v2/WDPA_gedi_L4A_tiles/tile_num_21891_L4A.gpkg' \n",
      "  using driver `GPKG'\n",
      "Integer64 values larger than 9.0072e+15 lost significance after conversion to double;\n",
      "use argument int64_as_string = TRUE to import them lossless, as character\n",
      "Simple feature collection with 475643 features and 11 fields\n",
      "Geometry type: POINT\n",
      "Dimension:     XY\n",
      "Bounding box:  xmin: -59 ymin: -21 xmax: -58.00001 ymax: -20\n",
      "Geodetic CRS:  WGS 84\n",
      "Reading layer `tile_num_21891_L2A' from data source \n",
      "  `/projects/.local/share/R/s3/maap-ops-workspace/shared/leitoldv/GEDI_global_PA_v2/WDPA_gedi_L2A_tiles/tile_num_21891_L2A.gpkg' \n",
      "  using driver `GPKG'\n",
      "Integer64 values larger than 9.0072e+15 lost significance after conversion to double;\n",
      "use argument int64_as_string = TRUE to import them lossless, as character\n",
      "Simple feature collection with 1114836 features and 17 fields\n",
      "Geometry type: POINT\n",
      "Dimension:     XY\n",
      "Bounding box:  xmin: -59 ymin: -21 xmax: -58 ymax: -20\n",
      "Geodetic CRS:  WGS 84\n",
      "[1] 9232853      22\n",
      "[1] 9232853\n",
      "[1]  0 29\n",
      "Reading in no.  7 csv of  29 csvs for iso3 Bpt \n"
     ]
    },
    {
     "name": "stderr",
     "output_type": "stream",
     "text": [
      "\u001b[36mℹ\u001b[39m \u001b[34m\u001b[34ms3://maap-ops-workspace/shared/leitoldv/GEDI_global_PA_v2/WDPA_gedi_L4A_tiles/tile_num_22066_L4A.gpkg\u001b[34m\u001b[39m already exists at \u001b[34m\u001b[34m/projects/.local/share/R/s3/maap-ops-workspace/shared/leitoldv/GEDI_global_PA_v2/WDPA_gedi_L4A_tiles/tile_num_22066_L4A.gpkg\u001b[34m\u001b[39m\n",
      "\n"
     ]
    },
    {
     "name": "stdout",
     "output_type": "stream",
     "text": [
      "Reading layer `tile_num_22066_L4A' from data source \n",
      "  `/projects/.local/share/R/s3/maap-ops-workspace/shared/leitoldv/GEDI_global_PA_v2/WDPA_gedi_L4A_tiles/tile_num_22066_L4A.gpkg' \n",
      "  using driver `GPKG'\n",
      "Integer64 values larger than 9.0072e+15 lost significance after conversion to double;\n",
      "use argument int64_as_string = TRUE to import them lossless, as character\n",
      "Simple feature collection with 569423 features and 11 fields\n",
      "Geometry type: POINT\n",
      "Dimension:     XY\n",
      "Bounding box:  xmin: -58 ymin: -16 xmax: -57 ymax: -15\n",
      "Geodetic CRS:  WGS 84\n",
      "Reading layer `tile_num_22066_L2A' from data source \n",
      "  `/projects/.local/share/R/s3/maap-ops-workspace/shared/leitoldv/GEDI_global_PA_v2/WDPA_gedi_L2A_tiles/tile_num_22066_L2A.gpkg' \n",
      "  using driver `GPKG'\n",
      "Integer64 values larger than 9.0072e+15 lost significance after conversion to double;\n",
      "use argument int64_as_string = TRUE to import them lossless, as character\n",
      "Simple feature collection with 901412 features and 17 fields\n",
      "Geometry type: POINT\n",
      "Dimension:     XY\n",
      "Bounding box:  xmin: -58 ymin: -16 xmax: -57 ymax: -15\n",
      "Geodetic CRS:  WGS 84\n",
      "[1] 11451416       22\n",
      "[1] 11451416\n",
      "[1]  0 29\n",
      "Reading in no.  8 csv of  29 csvs for iso3 Bpt \n"
     ]
    },
    {
     "name": "stderr",
     "output_type": "stream",
     "text": [
      "\u001b[36mℹ\u001b[39m \u001b[34m\u001b[34ms3://maap-ops-workspace/shared/leitoldv/GEDI_global_PA_v2/WDPA_gedi_L4A_tiles/tile_num_22067_L4A.gpkg\u001b[34m\u001b[39m already exists at \u001b[34m\u001b[34m/projects/.local/share/R/s3/maap-ops-workspace/shared/leitoldv/GEDI_global_PA_v2/WDPA_gedi_L4A_tiles/tile_num_22067_L4A.gpkg\u001b[34m\u001b[39m\n",
      "\n"
     ]
    },
    {
     "name": "stdout",
     "output_type": "stream",
     "text": [
      "Reading layer `tile_num_22067_L4A' from data source \n",
      "  `/projects/.local/share/R/s3/maap-ops-workspace/shared/leitoldv/GEDI_global_PA_v2/WDPA_gedi_L4A_tiles/tile_num_22067_L4A.gpkg' \n",
      "  using driver `GPKG'\n",
      "Integer64 values larger than 9.0072e+15 lost significance after conversion to double;\n",
      "use argument int64_as_string = TRUE to import them lossless, as character\n",
      "Simple feature collection with 607847 features and 11 fields\n",
      "Geometry type: POINT\n",
      "Dimension:     XY\n",
      "Bounding box:  xmin: -58 ymin: -17 xmax: -57 ymax: -16\n",
      "Geodetic CRS:  WGS 84\n"
     ]
    },
    {
     "ename": "ERROR",
     "evalue": "Error in (function (cond) : error in evaluating the argument 'x' in selecting a method for function 'as.data.frame': Cannot open \"/projects/.local/share/R/s3/maap-ops-workspace/shared/leitoldv/GEDI_global_PA_v2/WDPA_gedi_L2A_tiles/tile_num_22067_L2A.gpkg\"; The source could be corrupt or not supported. See `st_drivers()` for a list of supported formats.\n",
     "output_type": "error",
     "traceback": [
      "Error in (function (cond) : error in evaluating the argument 'x' in selecting a method for function 'as.data.frame': Cannot open \"/projects/.local/share/R/s3/maap-ops-workspace/shared/leitoldv/GEDI_global_PA_v2/WDPA_gedi_L2A_tiles/tile_num_22067_L2A.gpkg\"; The source could be corrupt or not supported. See `st_drivers()` for a list of supported formats.\nTraceback:\n",
      "1. extract_gedi(matched = matched, mras = mras, iso3 = iso3)",
      "2. as.data.frame(st_read(s3_get(gedil2_f_path)))",
      "3. st_read(s3_get(gedil2_f_path))",
      "4. st_read.character(s3_get(gedil2_f_path))",
      "5. CPL_read_ogr(dsn, layer, query, as.character(options), quiet, \n .     type, fid_column_name, drivers, wkt_filter, promote_to_multi, \n .     int64_as_string, dsn_exists, dsn_isdb, getOption(\"width\"))",
      "6. stop(structure(list(message = \"Cannot open \\\"/projects/.local/share/R/s3/maap-ops-workspace/shared/leitoldv/GEDI_global_PA_v2/WDPA_gedi_L2A_tiles/tile_num_22067_L2A.gpkg\\\"; The source could be corrupt or not supported. See `st_drivers()` for a list of supported formats.\", \n .     call = NULL, cppstack = NULL), class = c(\"Rcpp::exception\", \n . \"C++Error\", \"error\", \"condition\")))",
      "7. (function (cond) \n . .Internal(C_tryCatchHelper(addr, 1L, cond)))(structure(list(message = \"Cannot open \\\"/projects/.local/share/R/s3/maap-ops-workspace/shared/leitoldv/GEDI_global_PA_v2/WDPA_gedi_L2A_tiles/tile_num_22067_L2A.gpkg\\\"; The source could be corrupt or not supported. See `st_drivers()` for a list of supported formats.\", \n .     call = NULL, cppstack = NULL), class = c(\"Rcpp::exception\", \n . \"C++Error\", \"error\", \"condition\")))"
     ]
    }
   ],
   "source": [
    "iso_matched_gedi <- extract_gedi(matched=matched, mras=mras, iso3=iso3)"
   ]
  },
  {
   "cell_type": "code",
   "execution_count": 103,
   "id": "9f025fa3-2db7-4807-a486-ace6ab961a88",
   "metadata": {},
   "outputs": [
    {
     "name": "stderr",
     "output_type": "stream",
     "text": [
      "\u001b[36mℹ\u001b[39m \u001b[34m\u001b[34ms3://maap-ops-workspace/shared/leitoldv/GEDI_global_PA_v2/WDPA_gedi_L2A_tiles/tile_num_22249_L2A.gpkg\u001b[34m\u001b[39m already exists at \u001b[34m\u001b[34m/projects/.local/share/R/s3/maap-ops-workspace/shared/leitoldv/GEDI_global_PA_v2/WDPA_gedi_L2A_tiles/tile_num_22249_L2A.gpkg\u001b[34m\u001b[39m\n",
      "\n"
     ]
    }
   ],
   "source": [
    "gedil4_f <- vect(s3_get(paste(\"s3://maap-ops-workspace/shared/leitoldv/GEDI_global_PA_v2/WDPA_gedi_L2A_tiles/\", all_gedil2_f[this_csvid], sep = \"\")))"
   ]
  },
  {
   "cell_type": "code",
   "execution_count": 98,
   "id": "3fa700c5-06c9-4913-bbcf-06c38eed7c9b",
   "metadata": {},
   "outputs": [
    {
     "name": "stderr",
     "output_type": "stream",
     "text": [
      "\u001b[36mℹ\u001b[39m \u001b[34m\u001b[34ms3://maap-ops-workspace/shared/leitoldv/GEDI_global_PA_v2/WDPA_gedi_L4A_tiles/tile_num_22249_L4A.gpkg\u001b[34m\u001b[39m already exists at \u001b[34m\u001b[34m/projects/.local/share/R/s3/maap-ops-workspace/shared/leitoldv/GEDI_global_PA_v2/WDPA_gedi_L4A_tiles/tile_num_22249_L4A.gpkg\u001b[34m\u001b[39m\n",
      "\n"
     ]
    }
   ],
   "source": [
    "gedil4_f <- vect(s3_get(paste(\"s3://maap-ops-workspace/shared/leitoldv/GEDI_global_PA_v2/WDPA_gedi_L4A_tiles/\", all_gedil4_f[this_csvid], sep = \"\")))"
   ]
  },
  {
   "cell_type": "code",
   "execution_count": 99,
   "id": "b9179fa8-bdc9-410d-b4f2-f13896cfce91",
   "metadata": {},
   "outputs": [
    {
     "data": {
      "text/plain": [
       " class       : SpatVector \n",
       " geometry    : points \n",
       " dimensions  : 725452, 11  (geometries, attributes)\n",
       " extent      : -57, -56, -19, -18  (xmin, xmax, ymin, ymax)\n",
       " source      : tile_num_22249_L4A.gpkg\n",
       " coord. ref. : lon/lat WGS 84 (EPSG:4326) \n",
       " names       :        filename geolocation/sensitivity_a2  agbd_t agbd_se\n",
       " type        :           <chr>                      <num>   <num>   <num>\n",
       " values      : GEDI04_A_20191~                       0.97    0.44   13.12\n",
       "               GEDI04_A_20191~                     0.9715 -0.2258   13.13\n",
       "               GEDI04_A_20191~                     0.9825   6.676   13.09\n",
       " agbd_t_se shot_number sensitivity lon_lowestmode elev_lowestmode\n",
       "     <num>       <int>       <num>          <num>           <num>\n",
       "     3.445   586265356        0.97            -56             141\n",
       "     3.446   586265353      0.9715            -56             141\n",
       "     3.441   586265345      0.9883            -56           136.7\n",
       " lat_lowestmode  agbd\n",
       "          <num> <num>\n",
       "         -18.22 0.214\n",
       "         -18.22     0\n",
       "         -18.22 49.28"
      ]
     },
     "metadata": {},
     "output_type": "display_data"
    }
   ],
   "source": [
    "gedil4_f"
   ]
  },
  {
   "cell_type": "code",
   "execution_count": 100,
   "id": "6262464f-73fe-418f-a5f5-f0defb4789df",
   "metadata": {},
   "outputs": [
    {
     "data": {
      "text/html": [
       "<style>\n",
       ".list-inline {list-style: none; margin:0; padding: 0}\n",
       ".list-inline>li {display: inline-block}\n",
       ".list-inline>li:not(:last-child)::after {content: \"\\00b7\"; padding: 0 .5ex}\n",
       "</style>\n",
       "<ol class=list-inline><li>'filename'</li><li>'geolocation/sensitivity_a2'</li><li>'agbd_t'</li><li>'agbd_se'</li><li>'agbd_t_se'</li><li>'shot_number'</li><li>'sensitivity'</li><li>'lon_lowestmode'</li><li>'elev_lowestmode'</li><li>'lat_lowestmode'</li><li>'agbd'</li></ol>\n"
      ],
      "text/latex": [
       "\\begin{enumerate*}\n",
       "\\item 'filename'\n",
       "\\item 'geolocation/sensitivity\\_a2'\n",
       "\\item 'agbd\\_t'\n",
       "\\item 'agbd\\_se'\n",
       "\\item 'agbd\\_t\\_se'\n",
       "\\item 'shot\\_number'\n",
       "\\item 'sensitivity'\n",
       "\\item 'lon\\_lowestmode'\n",
       "\\item 'elev\\_lowestmode'\n",
       "\\item 'lat\\_lowestmode'\n",
       "\\item 'agbd'\n",
       "\\end{enumerate*}\n"
      ],
      "text/markdown": [
       "1. 'filename'\n",
       "2. 'geolocation/sensitivity_a2'\n",
       "3. 'agbd_t'\n",
       "4. 'agbd_se'\n",
       "5. 'agbd_t_se'\n",
       "6. 'shot_number'\n",
       "7. 'sensitivity'\n",
       "8. 'lon_lowestmode'\n",
       "9. 'elev_lowestmode'\n",
       "10. 'lat_lowestmode'\n",
       "11. 'agbd'\n",
       "\n",
       "\n"
      ],
      "text/plain": [
       " [1] \"filename\"                   \"geolocation/sensitivity_a2\"\n",
       " [3] \"agbd_t\"                     \"agbd_se\"                   \n",
       " [5] \"agbd_t_se\"                  \"shot_number\"               \n",
       " [7] \"sensitivity\"                \"lon_lowestmode\"            \n",
       " [9] \"elev_lowestmode\"            \"lat_lowestmode\"            \n",
       "[11] \"agbd\"                      "
      ]
     },
     "metadata": {},
     "output_type": "display_data"
    }
   ],
   "source": [
    "names(gedil4_f)"
   ]
  },
  {
   "cell_type": "code",
   "execution_count": 102,
   "id": "1b974389-ce04-4bd4-91bb-259cac1756dd",
   "metadata": {},
   "outputs": [
    {
     "data": {
      "text/plain": [
       " class       : SpatVector \n",
       " geometry    : points \n",
       " dimensions  : 725452, 5  (geometries, attributes)\n",
       " extent      : -57, -56, -19, -18  (xmin, xmax, ymin, ymax)\n",
       " source      : tile_num_22249_L4A.gpkg\n",
       " coord. ref. : lon/lat WGS 84 (EPSG:4326) \n",
       " names       : shot_number  agbd agbd_se  agbd_t agbd_t_se\n",
       " type        :       <int> <num>   <num>   <num>     <num>\n",
       " values      :   586265356 0.214   13.12    0.44     3.445\n",
       "                 586265353     0   13.13 -0.2258     3.446\n",
       "                 586265345 49.28   13.09   6.676     3.441"
      ]
     },
     "metadata": {},
     "output_type": "display_data"
    }
   ],
   "source": [
    "gedil4_f[, c(\"shot_number\",\"agbd\",\"agbd_se\",\"agbd_t\",\"agbd_t_se\")]"
   ]
  },
  {
   "cell_type": "code",
   "execution_count": 109,
   "id": "3e1a2f58-134a-41c6-a441-017342c03f06",
   "metadata": {},
   "outputs": [],
   "source": [
    "gedi_l4_sub <- gedil4_f[, c(\"shot_number\",\"agbd\",\"agbd_se\",\"agbd_t\",\"agbd_t_se\")]"
   ]
  },
  {
   "cell_type": "code",
   "execution_count": 110,
   "id": "124e4803-f210-43aa-9b02-15ee45386044",
   "metadata": {},
   "outputs": [
    {
     "data": {
      "text/plain": [
       " class       : SpatVector \n",
       " geometry    : points \n",
       " dimensions  : 725452, 5  (geometries, attributes)\n",
       " extent      : -57, -56, -19, -18  (xmin, xmax, ymin, ymax)\n",
       " source      : tile_num_22249_L4A.gpkg\n",
       " coord. ref. : lon/lat WGS 84 (EPSG:4326) \n",
       " names       : shot_number  agbd agbd_se  agbd_t agbd_t_se\n",
       " type        :       <int> <num>   <num>   <num>     <num>\n",
       " values      :   586265356 0.214   13.12    0.44     3.445\n",
       "                 586265353     0   13.13 -0.2258     3.446\n",
       "                 586265345 49.28   13.09   6.676     3.441"
      ]
     },
     "metadata": {},
     "output_type": "display_data"
    }
   ],
   "source": [
    "gedi_l4_sub"
   ]
  },
  {
   "cell_type": "code",
   "execution_count": 111,
   "id": "7eb7e85e-8051-43b6-b77d-b08aee86ac24",
   "metadata": {},
   "outputs": [
    {
     "name": "stderr",
     "output_type": "stream",
     "text": [
      "\u001b[36mℹ\u001b[39m \u001b[34m\u001b[34ms3://maap-ops-workspace/shared/leitoldv/GEDI_global_PA_v2/WDPA_gedi_L4A_tiles/tile_num_22249_L4A.gpkg\u001b[34m\u001b[39m already exists at \u001b[34m\u001b[34m/projects/.local/share/R/s3/maap-ops-workspace/shared/leitoldv/GEDI_global_PA_v2/WDPA_gedi_L4A_tiles/tile_num_22249_L4A.gpkg\u001b[34m\u001b[39m\n",
      "\n",
      "\u001b[36mℹ\u001b[39m \u001b[34m\u001b[34ms3://maap-ops-workspace/shared/leitoldv/GEDI_global_PA_v2/WDPA_gedi_L2A_tiles/tile_num_22249_L2A.gpkg\u001b[34m\u001b[39m already exists at \u001b[34m\u001b[34m/projects/.local/share/R/s3/maap-ops-workspace/shared/leitoldv/GEDI_global_PA_v2/WDPA_gedi_L2A_tiles/tile_num_22249_L2A.gpkg\u001b[34m\u001b[39m\n",
      "\n"
     ]
    }
   ],
   "source": [
    "gedil4_f_path <- paste(f.path, \"WDPA_gedi_L4A_tiles/\", all_gedil4_f[this_csvid], sep = \"\")\n",
    "                #gedil4_f <- as.data.frame(st_read(s3_get(gedil4_f_path)))\n",
    "                #gedil4_f <- as.data.frame(st_read((gedil4_f_path)))\n",
    "                gedil4_f <- vect(s3_get(gedil4_f_path))\n",
    "                \n",
    "                # Read GEDI L2A data\n",
    "                gedil2_f_path <- paste(f.path, \"WDPA_gedi_L2A_tiles/\", all_gedil2_f[this_csvid], sep = \"\")\n",
    "                #gedil2_f <- as.data.frame(st_read(s3_get(gedil2_f_path)))\n",
    "                #gedil2_f <- as.data.frame(st_read((gedil2_f_path)))\n",
    "                gedil2_f <- vect(s3_get(gedil2_f_path))\n",
    "                \n",
    "                # Check if GEDI L4A data is empty\n",
    "                if (nrow(gedil4_f) < 1) {\n",
    "                    cat(\"Error: No data for GEDI L4A\\n\")\n",
    "                    gedi_l24 <- gedil2_f\n",
    "                    gedi_l24$agbd <- NA\n",
    "                    gedi_l24$agbd_se <- NA\n",
    "                    gedi_l24$agbd_t <- NA\n",
    "                    gedi_l24$agbd_t_se <- NA\n",
    "                } else {\n",
    "                    # Select relevant columns from GEDI L4A\n",
    "                    #gedi_l4_sub <- gedil4_f %>% dplyr::select(shot_number, agbd, agbd_se, agbd_t, agbd_t_se)\n",
    "                    gedi_l4_sub <- gedil4_f[, c(\"shot_number\",\"agbd\",\"agbd_se\",\"agbd_t\",\"agbd_t_se\")]\n",
    "                    \n",
    "                    # Join with GEDI L2A data\n",
    "                    gedi_l24 <- merge(gedil2_f, gedi_l4_sub, by = \"shot_number\")\n",
    "                }\n",
    "            "
   ]
  },
  {
   "cell_type": "code",
   "execution_count": 112,
   "id": "dd8400b6-0c92-4ab5-9441-a7a60ecc65fd",
   "metadata": {},
   "outputs": [
    {
     "data": {
      "text/plain": [
       " class       : SpatVector \n",
       " geometry    : points \n",
       " dimensions  : 723295, 21  (geometries, attributes)\n",
       " extent      : -57, -56, -19, -18  (xmin, xmax, ymin, ymax)\n",
       " coord. ref. : lon/lat WGS 84 (EPSG:4326) \n",
       " names       : shot_number        filename  rh80  rh40  rh25  rh75  rh30  rh70\n",
       " type        :       <int>           <chr> <num> <num> <num> <num> <num> <num>\n",
       " values      :   586265356 GEDI02_A_20191~  2.09 -0.14 -0.86  1.64 -0.59  1.31\n",
       "                 586265353 GEDI02_A_20191~  1.34 -0.37 -1.04  1.08 -0.78  0.86\n",
       "                 586265345 GEDI02_A_20191~  5.42  1.16 -0.41  4.68  0.11     4\n",
       "  rh98  rh90 (and 11 more)\n",
       " <num> <num>              \n",
       "   5.2  3.25              \n",
       "   3.4  2.09              \n",
       " 10.33  7.63              "
      ]
     },
     "metadata": {},
     "output_type": "display_data"
    }
   ],
   "source": [
    "gedi_l24"
   ]
  },
  {
   "cell_type": "code",
   "execution_count": 114,
   "id": "ea8436e2-aac2-4eba-9327-4e524578d895",
   "metadata": {},
   "outputs": [],
   "source": [
    "gedi_l24_sp <- gedi_l24\n",
    "gedi_l24_sp <- project(gedi_l24_sp, \"epsg:6933\")                "
   ]
  },
  {
   "cell_type": "code",
   "execution_count": 115,
   "id": "099ccdc4-7d61-4f6a-8655-dd01b0115861",
   "metadata": {},
   "outputs": [
    {
     "data": {
      "text/plain": [
       " class       : SpatVector \n",
       " geometry    : points \n",
       " dimensions  : 723295, 21  (geometries, attributes)\n",
       " extent      : -5499718, -5403232, -2380838, -2259695  (xmin, xmax, ymin, ymax)\n",
       " coord. ref. : WGS 84 / NSIDC EASE-Grid 2.0 Global (EPSG:6933) \n",
       " names       : shot_number        filename  rh80  rh40  rh25  rh75  rh30  rh70\n",
       " type        :       <int>           <chr> <num> <num> <num> <num> <num> <num>\n",
       " values      :   586265356 GEDI02_A_20191~  2.09 -0.14 -0.86  1.64 -0.59  1.31\n",
       "                 586265353 GEDI02_A_20191~  1.34 -0.37 -1.04  1.08 -0.78  0.86\n",
       "                 586265345 GEDI02_A_20191~  5.42  1.16 -0.41  4.68  0.11     4\n",
       "  rh98  rh90 (and 11 more)\n",
       " <num> <num>              \n",
       "   5.2  3.25              \n",
       "   3.4  2.09              \n",
       " 10.33  7.63              "
      ]
     },
     "metadata": {},
     "output_type": "display_data"
    }
   ],
   "source": [
    "gedi_l24_sp"
   ]
  },
  {
   "cell_type": "code",
   "execution_count": 117,
   "id": "a6c0120c-1f12-496e-8492-5c706c34d98d",
   "metadata": {},
   "outputs": [],
   "source": [
    "iso_matched_gedi_df <- NULL "
   ]
  },
  {
   "cell_type": "code",
   "execution_count": 118,
   "id": "02d6e5c3-23c6-4bf4-86f0-c3239e628b81",
   "metadata": {},
   "outputs": [
    {
     "name": "stdout",
     "output_type": "stream",
     "text": [
      "[1] 7073   30\n"
     ]
    }
   ],
   "source": [
    "matched_gedi <- terra::extract(mras, gedi_l24_sp, df=TRUE)\n",
    "                matched_gedi_metrics <- cbind(matched_gedi, gedi_l24_sp)\n",
    "                matched_gedi_metrics_filtered <- matched_gedi_metrics %>% dplyr::filter(!is.na(status)) %>%\n",
    "                                                    convertFactor(matched0 = matched,exgedi = .) \n",
    "\n",
    "            iso_matched_gedi_df <- rbind(matched_gedi_metrics_filtered, iso_matched_gedi_df)\n",
    "            print(dim(iso_matched_gedi_df))"
   ]
  },
  {
   "cell_type": "code",
   "execution_count": 119,
   "id": "e9a195ab-c0ea-49ee-8158-4253224735c3",
   "metadata": {},
   "outputs": [
    {
     "data": {
      "text/html": [
       "<table class=\"dataframe\">\n",
       "<caption>A data.frame: 7073 × 30</caption>\n",
       "<thead>\n",
       "\t<tr><th scope=col>ID</th><th scope=col>status</th><th scope=col>pa_id</th><th scope=col>wwfbiom</th><th scope=col>wwfecoreg</th><th scope=col>UID</th><th scope=col>pft</th><th scope=col>region</th><th scope=col>shot_number</th><th scope=col>filename</th><th scope=col>⋯</th><th scope=col>lat_lowestmode</th><th scope=col>rh10</th><th scope=col>lon_lowestmode</th><th scope=col>rh60</th><th scope=col>rh20</th><th scope=col>agbd</th><th scope=col>agbd_se</th><th scope=col>agbd_t</th><th scope=col>agbd_t_se</th><th scope=col>stratum</th></tr>\n",
       "\t<tr><th scope=col>&lt;dbl&gt;</th><th scope=col>&lt;dbl&gt;</th><th scope=col>&lt;dbl&gt;</th><th scope=col>&lt;fct&gt;</th><th scope=col>&lt;fct&gt;</th><th scope=col>&lt;dbl&gt;</th><th scope=col>&lt;fct&gt;</th><th scope=col>&lt;fct&gt;</th><th scope=col>&lt;int&gt;</th><th scope=col>&lt;chr&gt;</th><th scope=col>⋯</th><th scope=col>&lt;dbl&gt;</th><th scope=col>&lt;dbl&gt;</th><th scope=col>&lt;dbl&gt;</th><th scope=col>&lt;dbl&gt;</th><th scope=col>&lt;dbl&gt;</th><th scope=col>&lt;dbl&gt;</th><th scope=col>&lt;dbl&gt;</th><th scope=col>&lt;dbl&gt;</th><th scope=col>&lt;dbl&gt;</th><th scope=col>&lt;chr&gt;</th></tr>\n",
       "</thead>\n",
       "<tbody>\n",
       "\t<tr><td>2452</td><td>1</td><td>555576153</td><td>Flooded Grasslands &amp; Savannas</td><td>Pantanal</td><td>60</td><td>DBT</td><td>SA</td><td>1722349412</td><td>GEDI02_A_2019141083048_O02477_04_T00281_02_003_01_V002.h5</td><td>⋯</td><td>-18.26763</td><td>-1.46</td><td>-56.01351</td><td> 3.33</td><td>-0.56</td><td> 5.79434776</td><td>13.10631</td><td> 2.2893772</td><td>3.443145</td><td>DBT_SA</td></tr>\n",
       "\t<tr><td>2453</td><td>1</td><td>555576153</td><td>Flooded Grasslands &amp; Savannas</td><td>Pantanal</td><td>60</td><td>DBT</td><td>SA</td><td>1722349411</td><td>GEDI02_A_2019141083048_O02477_04_T00281_02_003_01_V002.h5</td><td>⋯</td><td>-18.26722</td><td>-2.35</td><td>-56.01384</td><td> 0.22</td><td>-1.53</td><td> 0.00000000</td><td>13.12777</td><td>-0.4535378</td><td>3.445962</td><td>DBT_SA</td></tr>\n",
       "\t<tr><td>2454</td><td>1</td><td>555576153</td><td>Flooded Grasslands &amp; Savannas</td><td>Pantanal</td><td>60</td><td>DBT</td><td>SA</td><td>1722349409</td><td>GEDI02_A_2019141083048_O02477_04_T00281_02_003_01_V002.h5</td><td>⋯</td><td>-18.26640</td><td>-2.09</td><td>-56.01451</td><td> 0.26</td><td>-1.38</td><td> 0.00000000</td><td>13.12819</td><td>-0.4699277</td><td>3.446018</td><td>DBT_SA</td></tr>\n",
       "\t<tr><td>2455</td><td>1</td><td>555576153</td><td>Flooded Grasslands &amp; Savannas</td><td>Pantanal</td><td>60</td><td>DBT</td><td>SA</td><td>1722349406</td><td>GEDI02_A_2019141083048_O02477_04_T00281_02_003_01_V002.h5</td><td>⋯</td><td>-18.26518</td><td>-1.68</td><td>-56.01552</td><td> 4.45</td><td>-0.33</td><td> 8.69748020</td><td>13.10720</td><td> 2.8048639</td><td>3.443262</td><td>DBT_SA</td></tr>\n",
       "\t<tr><td>2456</td><td>1</td><td>555576153</td><td>Flooded Grasslands &amp; Savannas</td><td>Pantanal</td><td>60</td><td>DBT</td><td>SA</td><td>1722349404</td><td>GEDI02_A_2019141083048_O02477_04_T00281_02_003_01_V002.h5</td><td>⋯</td><td>-18.26436</td><td>-2.09</td><td>-56.01619</td><td> 0.18</td><td>-1.38</td><td> 0.00000000</td><td>13.12955</td><td>-0.5789179</td><td>3.446197</td><td>DBT_SA</td></tr>\n",
       "\t<tr><td>2457</td><td>1</td><td>555576153</td><td>Flooded Grasslands &amp; Savannas</td><td>Pantanal</td><td>60</td><td>DBT</td><td>SA</td><td>1722349399</td><td>GEDI02_A_2019141083048_O02477_04_T00281_02_003_01_V002.h5</td><td>⋯</td><td>-18.26232</td><td>-2.32</td><td>-56.01785</td><td> 0.41</td><td>-1.49</td><td> 0.00000000</td><td>13.12428</td><td>-0.1471569</td><td>3.445504</td><td>DBT_SA</td></tr>\n",
       "\t<tr><td>2458</td><td>1</td><td>555576153</td><td>Flooded Grasslands &amp; Savannas</td><td>Pantanal</td><td>60</td><td>DBT</td><td>SA</td><td>1722349398</td><td>GEDI02_A_2019141083048_O02477_04_T00281_02_003_01_V002.h5</td><td>⋯</td><td>-18.26192</td><td>-2.47</td><td>-56.01819</td><td> 0.18</td><td>-1.61</td><td> 0.00000000</td><td>13.12745</td><td>-0.4669918</td><td>3.445921</td><td>DBT_SA</td></tr>\n",
       "\t<tr><td>2459</td><td>1</td><td>555576153</td><td>Flooded Grasslands &amp; Savannas</td><td>Pantanal</td><td>60</td><td>DBT</td><td>SA</td><td>1722349397</td><td>GEDI02_A_2019141083048_O02477_04_T00281_02_003_01_V002.h5</td><td>⋯</td><td>-18.26151</td><td>-2.62</td><td>-56.01852</td><td> 0.22</td><td>-1.72</td><td> 0.00000000</td><td>13.12536</td><td>-0.2956575</td><td>3.445647</td><td>DBT_SA</td></tr>\n",
       "\t<tr><td>2460</td><td>1</td><td>555576153</td><td>Flooded Grasslands &amp; Savannas</td><td>Pantanal</td><td>60</td><td>DBT</td><td>SA</td><td>1722349396</td><td>GEDI02_A_2019141083048_O02477_04_T00281_02_003_01_V002.h5</td><td>⋯</td><td>-18.26110</td><td>-2.28</td><td>-56.01885</td><td> 0.22</td><td>-1.49</td><td> 0.00000000</td><td>13.12745</td><td>-0.4304667</td><td>3.445920</td><td>DBT_SA</td></tr>\n",
       "\t<tr><td>3108</td><td>1</td><td>555576153</td><td>Flooded Grasslands &amp; Savannas</td><td>Pantanal</td><td>60</td><td>DBT</td><td>SA</td><td>1074629352</td><td>GEDI02_A_2019141083048_O02477_04_T00281_02_003_01_V002.h5</td><td>⋯</td><td>-18.26893</td><td>-1.90</td><td>-56.01947</td><td> 3.40</td><td>-0.78</td><td>12.94494343</td><td>13.09954</td><td> 3.4218831</td><td>3.442255</td><td>DBT_SA</td></tr>\n",
       "\t<tr><td>3109</td><td>1</td><td>555576153</td><td>Flooded Grasslands &amp; Savannas</td><td>Pantanal</td><td>60</td><td>DBT</td><td>SA</td><td>1074629351</td><td>GEDI02_A_2019141083048_O02477_04_T00281_02_003_01_V002.h5</td><td>⋯</td><td>-18.26852</td><td>-0.22</td><td>-56.01980</td><td>10.78</td><td> 2.58</td><td>49.56725693</td><td>13.09650</td><td> 6.6959548</td><td>3.441855</td><td>DBT_SA</td></tr>\n",
       "\t<tr><td>3110</td><td>1</td><td>555576153</td><td>Flooded Grasslands &amp; Savannas</td><td>Pantanal</td><td>60</td><td>DBT</td><td>SA</td><td>1074629350</td><td>GEDI02_A_2019141083048_O02477_04_T00281_02_003_01_V002.h5</td><td>⋯</td><td>-18.26730</td><td>-1.64</td><td>-56.02080</td><td> 5.16</td><td>-0.52</td><td>14.14614677</td><td>13.10016</td><td> 3.5771253</td><td>3.442337</td><td>DBT_SA</td></tr>\n",
       "\t<tr><td>3111</td><td>1</td><td>555576153</td><td>Flooded Grasslands &amp; Savannas</td><td>Pantanal</td><td>60</td><td>DBT</td><td>SA</td><td>1074629349</td><td>GEDI02_A_2019141083048_O02477_04_T00281_02_003_01_V002.h5</td><td>⋯</td><td>-18.26689</td><td>-1.46</td><td>-56.02113</td><td> 4.34</td><td>-0.22</td><td> 8.40072250</td><td>13.10750</td><td> 2.7565978</td><td>3.443302</td><td>DBT_SA</td></tr>\n",
       "\t<tr><td>3112</td><td>1</td><td>555576153</td><td>Flooded Grasslands &amp; Savannas</td><td>Pantanal</td><td>60</td><td>DBT</td><td>SA</td><td>1074629348</td><td>GEDI02_A_2019141083048_O02477_04_T00281_02_003_01_V002.h5</td><td>⋯</td><td>-18.26649</td><td>-1.53</td><td>-56.02146</td><td> 5.35</td><td>-0.33</td><td>16.24703979</td><td>13.10054</td><td> 3.8335595</td><td>3.442388</td><td>DBT_SA</td></tr>\n",
       "\t<tr><td>3113</td><td>1</td><td>555576153</td><td>Flooded Grasslands &amp; Savannas</td><td>Pantanal</td><td>60</td><td>DBT</td><td>SA</td><td>1074629347</td><td>GEDI02_A_2019141083048_O02477_04_T00281_02_003_01_V002.h5</td><td>⋯</td><td>-18.26608</td><td>-2.88</td><td>-56.02180</td><td> 0.14</td><td>-1.87</td><td> 0.00000000</td><td>13.12555</td><td>-0.3453220</td><td>3.445672</td><td>DBT_SA</td></tr>\n",
       "\t<tr><td>3114</td><td>1</td><td>555576153</td><td>Flooded Grasslands &amp; Savannas</td><td>Pantanal</td><td>60</td><td>DBT</td><td>SA</td><td>1074629346</td><td>GEDI02_A_2019141083048_O02477_04_T00281_02_003_01_V002.h5</td><td>⋯</td><td>-18.26567</td><td>-2.39</td><td>-56.02213</td><td> 0.41</td><td>-1.49</td><td> 0.15915917</td><td>13.11787</td><td> 0.3794293</td><td>3.444663</td><td>DBT_SA</td></tr>\n",
       "\t<tr><td>3115</td><td>1</td><td>555576153</td><td>Flooded Grasslands &amp; Savannas</td><td>Pantanal</td><td>60</td><td>DBT</td><td>SA</td><td>1074629345</td><td>GEDI02_A_2019141083048_O02477_04_T00281_02_003_01_V002.h5</td><td>⋯</td><td>-18.26526</td><td>-2.95</td><td>-56.02246</td><td> 1.94</td><td>-1.61</td><td> 2.99869514</td><td>13.10930</td><td> 1.6469531</td><td>3.443538</td><td>DBT_SA</td></tr>\n",
       "\t<tr><td>3116</td><td>1</td><td>555576153</td><td>Flooded Grasslands &amp; Savannas</td><td>Pantanal</td><td>60</td><td>DBT</td><td>SA</td><td>1074629344</td><td>GEDI02_A_2019141083048_O02477_04_T00281_02_003_01_V002.h5</td><td>⋯</td><td>-18.26486</td><td>-2.28</td><td>-56.02279</td><td> 0.26</td><td>-1.49</td><td> 0.00000000</td><td>13.12713</td><td>-0.3941228</td><td>3.445878</td><td>DBT_SA</td></tr>\n",
       "\t<tr><td>3117</td><td>1</td><td>555576153</td><td>Flooded Grasslands &amp; Savannas</td><td>Pantanal</td><td>60</td><td>DBT</td><td>SA</td><td>1074629342</td><td>GEDI02_A_2019141083048_O02477_04_T00281_02_003_01_V002.h5</td><td>⋯</td><td>-18.26404</td><td>-2.47</td><td>-56.02345</td><td> 0.33</td><td>-1.57</td><td> 0.01289632</td><td>13.12063</td><td> 0.1080060</td><td>3.445025</td><td>DBT_SA</td></tr>\n",
       "\t<tr><td>3118</td><td>1</td><td>555576153</td><td>Flooded Grasslands &amp; Savannas</td><td>Pantanal</td><td>59</td><td>GS </td><td>SA</td><td>1074629341</td><td>GEDI02_A_2019141083048_O02477_04_T00281_02_003_01_V002.h5</td><td>⋯</td><td>-18.26323</td><td>-2.28</td><td>-56.02411</td><td> 0.29</td><td>-1.49</td><td> 0.00000000</td><td>13.12504</td><td>-0.2228801</td><td>3.445605</td><td>GS_SA </td></tr>\n",
       "\t<tr><td>3119</td><td>1</td><td>555576153</td><td>Flooded Grasslands &amp; Savannas</td><td>Pantanal</td><td>59</td><td>GS </td><td>SA</td><td>1074629340</td><td>GEDI02_A_2019141083048_O02477_04_T00281_02_003_01_V002.h5</td><td>⋯</td><td>-18.26282</td><td>-2.28</td><td>-56.02444</td><td> 0.22</td><td>-1.49</td><td> 0.00000000</td><td>13.12777</td><td>-0.4535378</td><td>3.445962</td><td>GS_SA </td></tr>\n",
       "\t<tr><td>3120</td><td>1</td><td>555576153</td><td>Flooded Grasslands &amp; Savannas</td><td>Pantanal</td><td>59</td><td>GS </td><td>SA</td><td>1074629339</td><td>GEDI02_A_2019141083048_O02477_04_T00281_02_003_01_V002.h5</td><td>⋯</td><td>-18.26241</td><td>-2.32</td><td>-56.02477</td><td> 0.18</td><td>-1.53</td><td> 0.00000000</td><td>13.12877</td><td>-0.5427159</td><td>3.446094</td><td>GS_SA </td></tr>\n",
       "\t<tr><td>3121</td><td>1</td><td>555576153</td><td>Flooded Grasslands &amp; Savannas</td><td>Pantanal</td><td>59</td><td>GS </td><td>SA</td><td>1074629338</td><td>GEDI02_A_2019141083048_O02477_04_T00281_02_003_01_V002.h5</td><td>⋯</td><td>-18.26200</td><td>-2.32</td><td>-56.02510</td><td> 0.22</td><td>-1.53</td><td> 0.00000000</td><td>13.12807</td><td>-0.4932322</td><td>3.446002</td><td>GS_SA </td></tr>\n",
       "\t<tr><td>3122</td><td>1</td><td>555576153</td><td>Flooded Grasslands &amp; Savannas</td><td>Pantanal</td><td>59</td><td>GS </td><td>SA</td><td>1074629337</td><td>GEDI02_A_2019141083048_O02477_04_T00281_02_003_01_V002.h5</td><td>⋯</td><td>-18.26160</td><td>-2.20</td><td>-56.02543</td><td> 0.29</td><td>-1.42</td><td> 0.00000000</td><td>13.12564</td><td>-0.2855068</td><td>3.445683</td><td>GS_SA </td></tr>\n",
       "\t<tr><td>3123</td><td>1</td><td>555576153</td><td>Flooded Grasslands &amp; Savannas</td><td>Pantanal</td><td>59</td><td>GS </td><td>SA</td><td>1074629336</td><td>GEDI02_A_2019141083048_O02477_04_T00281_02_003_01_V002.h5</td><td>⋯</td><td>-18.26119</td><td>-2.28</td><td>-56.02576</td><td> 0.22</td><td>-1.49</td><td> 0.00000000</td><td>13.12828</td><td>-0.4898082</td><td>3.446029</td><td>GS_SA </td></tr>\n",
       "\t<tr><td>3124</td><td>1</td><td>555576153</td><td>Flooded Grasslands &amp; Savannas</td><td>Pantanal</td><td>59</td><td>GS </td><td>SA</td><td>1074629335</td><td>GEDI02_A_2019141083048_O02477_04_T00281_02_003_01_V002.h5</td><td>⋯</td><td>-18.26078</td><td>-2.17</td><td>-56.02609</td><td> 0.22</td><td>-1.42</td><td> 0.00000000</td><td>13.12846</td><td>-0.5030023</td><td>3.446054</td><td>GS_SA </td></tr>\n",
       "\t<tr><td>4163</td><td>1</td><td>555576153</td><td>Flooded Grasslands &amp; Savannas</td><td>Pantanal</td><td>39</td><td>GS </td><td>SA</td><td> 909087248</td><td>GEDI02_A_2019141191934_O02484_01_T01711_02_003_01_V002.h5</td><td>⋯</td><td>-18.25962</td><td>-2.02</td><td>-56.14023</td><td> 0.48</td><td>-1.23</td><td> 0.00000000</td><td>13.12624</td><td>-0.2486437</td><td>3.445761</td><td>GS_SA </td></tr>\n",
       "\t<tr><td>4164</td><td>1</td><td>555576153</td><td>Flooded Grasslands &amp; Savannas</td><td>Pantanal</td><td>39</td><td>GS </td><td>SA</td><td> 909087253</td><td>GEDI02_A_2019141191934_O02484_01_T01711_02_003_01_V002.h5</td><td>⋯</td><td>-18.25760</td><td>-2.13</td><td>-56.13854</td><td> 0.33</td><td>-1.34</td><td> 0.00000000</td><td>13.12763</td><td>-0.3938564</td><td>3.445944</td><td>GS_SA </td></tr>\n",
       "\t<tr><td>4165</td><td>1</td><td>555576153</td><td>Flooded Grasslands &amp; Savannas</td><td>Pantanal</td><td>40</td><td>GS </td><td>SA</td><td> 909087259</td><td>GEDI02_A_2019141191934_O02484_01_T01711_02_003_01_V002.h5</td><td>⋯</td><td>-18.25518</td><td>-1.94</td><td>-56.13650</td><td> 0.33</td><td>-1.19</td><td> 0.00000000</td><td>13.12749</td><td>-0.3706954</td><td>3.445926</td><td>GS_SA </td></tr>\n",
       "\t<tr><td>4166</td><td>1</td><td>555576153</td><td>Flooded Grasslands &amp; Savannas</td><td>Pantanal</td><td>40</td><td>GS </td><td>SA</td><td> 909087261</td><td>GEDI02_A_2019141191934_O02484_01_T01711_02_003_01_V002.h5</td><td>⋯</td><td>-18.25438</td><td>-2.05</td><td>-56.13583</td><td> 0.29</td><td>-1.31</td><td> 0.00000000</td><td>13.12795</td><td>-0.4169275</td><td>3.445987</td><td>GS_SA </td></tr>\n",
       "\t<tr><td>⋮</td><td>⋮</td><td>⋮</td><td>⋮</td><td>⋮</td><td>⋮</td><td>⋮</td><td>⋮</td><td>⋮</td><td>⋮</td><td>⋱</td><td>⋮</td><td>⋮</td><td>⋮</td><td>⋮</td><td>⋮</td><td>⋮</td><td>⋮</td><td>⋮</td><td>⋮</td><td>⋮</td></tr>\n",
       "\t<tr><td>714449</td><td>0</td><td>555576153</td><td>Flooded Grasslands &amp; Savannas</td><td>Pantanal</td><td>71052</td><td>GS</td><td>SA</td><td> -736459342</td><td>GEDI02_A_2022343094820_O22604_01_T07403_02_003_02_V002.h5</td><td>⋯</td><td>-18.45262</td><td>-2.32</td><td>-56.14729</td><td>0.22</td><td>-1.49</td><td> 0.00000000</td><td>13.12777</td><td>-0.4535378</td><td>3.445962</td><td>GS_SA</td></tr>\n",
       "\t<tr><td>714450</td><td>0</td><td>555576153</td><td>Flooded Grasslands &amp; Savannas</td><td>Pantanal</td><td>71052</td><td>GS</td><td>SA</td><td> -736459341</td><td>GEDI02_A_2022343094820_O22604_01_T07403_02_003_02_V002.h5</td><td>⋯</td><td>-18.45221</td><td>-2.35</td><td>-56.14696</td><td>0.18</td><td>-1.53</td><td> 0.00000000</td><td>13.12789</td><td>-0.4800426</td><td>3.445978</td><td>GS_SA</td></tr>\n",
       "\t<tr><td>714451</td><td>0</td><td>555576153</td><td>Flooded Grasslands &amp; Savannas</td><td>Pantanal</td><td>71052</td><td>GS</td><td>SA</td><td> -736459340</td><td>GEDI02_A_2022343094820_O22604_01_T07403_02_003_02_V002.h5</td><td>⋯</td><td>-18.45181</td><td>-2.39</td><td>-56.14662</td><td>0.26</td><td>-1.53</td><td> 0.00000000</td><td>13.12507</td><td>-0.2560397</td><td>3.445608</td><td>GS_SA</td></tr>\n",
       "\t<tr><td>714452</td><td>0</td><td>555576153</td><td>Flooded Grasslands &amp; Savannas</td><td>Pantanal</td><td>71052</td><td>GS</td><td>SA</td><td> -736459338</td><td>GEDI02_A_2022343094820_O22604_01_T07403_02_003_02_V002.h5</td><td>⋯</td><td>-18.45100</td><td>-2.24</td><td>-56.14596</td><td>0.41</td><td>-1.42</td><td> 1.93046308</td><td>13.10902</td><td> 1.3214351</td><td>3.443501</td><td>GS_SA</td></tr>\n",
       "\t<tr><td>714453</td><td>0</td><td>555576153</td><td>Flooded Grasslands &amp; Savannas</td><td>Pantanal</td><td>71052</td><td>GS</td><td>SA</td><td> -736459337</td><td>GEDI02_A_2022343094820_O22604_01_T07403_02_003_02_V002.h5</td><td>⋯</td><td>-18.45059</td><td>-2.24</td><td>-56.14562</td><td>0.18</td><td>-1.49</td><td> 0.00000000</td><td>13.12910</td><td>-0.5658207</td><td>3.446137</td><td>GS_SA</td></tr>\n",
       "\t<tr><td>714454</td><td>0</td><td>555576153</td><td>Flooded Grasslands &amp; Savannas</td><td>Pantanal</td><td>70955</td><td>GS</td><td>SA</td><td> -736459334</td><td>GEDI02_A_2022343094820_O22604_01_T07403_02_003_02_V002.h5</td><td>⋯</td><td>-18.44938</td><td>-2.20</td><td>-56.14463</td><td>1.04</td><td>-1.31</td><td> 1.93459821</td><td>13.11029</td><td> 1.3228496</td><td>3.443668</td><td>GS_SA</td></tr>\n",
       "\t<tr><td>714455</td><td>0</td><td>555576153</td><td>Flooded Grasslands &amp; Savannas</td><td>Pantanal</td><td>70955</td><td>GS</td><td>SA</td><td> -736459333</td><td>GEDI02_A_2022343094820_O22604_01_T07403_02_003_02_V002.h5</td><td>⋯</td><td>-18.44897</td><td>-1.83</td><td>-56.14429</td><td>4.19</td><td>-0.59</td><td>14.78725529</td><td>13.09942</td><td> 3.6572855</td><td>3.442239</td><td>GS_SA</td></tr>\n",
       "\t<tr><td>714456</td><td>0</td><td>555576153</td><td>Flooded Grasslands &amp; Savannas</td><td>Pantanal</td><td>70955</td><td>GS</td><td>SA</td><td> -736459332</td><td>GEDI02_A_2022343094820_O22604_01_T07403_02_003_02_V002.h5</td><td>⋯</td><td>-18.44856</td><td>-1.64</td><td>-56.14396</td><td>4.08</td><td>-0.59</td><td>11.85449314</td><td>13.10115</td><td> 3.2745874</td><td>3.442467</td><td>GS_SA</td></tr>\n",
       "\t<tr><td>714457</td><td>0</td><td>555576153</td><td>Flooded Grasslands &amp; Savannas</td><td>Pantanal</td><td>70955</td><td>GS</td><td>SA</td><td> -736459331</td><td>GEDI02_A_2022343094820_O22604_01_T07403_02_003_02_V002.h5</td><td>⋯</td><td>-18.44816</td><td>-1.87</td><td>-56.14363</td><td>2.09</td><td>-0.86</td><td> 4.93302441</td><td>13.10575</td><td> 2.1123784</td><td>3.443071</td><td>GS_SA</td></tr>\n",
       "\t<tr><td>714458</td><td>0</td><td>555576153</td><td>Flooded Grasslands &amp; Savannas</td><td>Pantanal</td><td>70955</td><td>GS</td><td>SA</td><td> -736459330</td><td>GEDI02_A_2022343094820_O22604_01_T07403_02_003_02_V002.h5</td><td>⋯</td><td>-18.44775</td><td>-1.12</td><td>-56.14329</td><td>5.99</td><td> 0.07</td><td>16.37988281</td><td>13.10129</td><td> 3.8492000</td><td>3.442486</td><td>GS_SA</td></tr>\n",
       "\t<tr><td>714459</td><td>0</td><td>555576153</td><td>Flooded Grasslands &amp; Savannas</td><td>Pantanal</td><td>70955</td><td>GS</td><td>SA</td><td> -736459329</td><td>GEDI02_A_2022343094820_O22604_01_T07403_02_003_02_V002.h5</td><td>⋯</td><td>-18.44735</td><td>-1.75</td><td>-56.14296</td><td>1.01</td><td>-0.97</td><td>12.03252125</td><td>13.10006</td><td> 3.2990842</td><td>3.442324</td><td>GS_SA</td></tr>\n",
       "\t<tr><td>714460</td><td>0</td><td>555576153</td><td>Flooded Grasslands &amp; Savannas</td><td>Pantanal</td><td>70955</td><td>GS</td><td>SA</td><td> -736459328</td><td>GEDI02_A_2022343094820_O22604_01_T07403_02_003_02_V002.h5</td><td>⋯</td><td>-18.44694</td><td>-2.13</td><td>-56.14263</td><td>0.48</td><td>-1.38</td><td> 1.26032829</td><td>13.11135</td><td> 1.0677189</td><td>3.443806</td><td>GS_SA</td></tr>\n",
       "\t<tr><td>714461</td><td>0</td><td>555576153</td><td>Flooded Grasslands &amp; Savannas</td><td>Pantanal</td><td>70955</td><td>GS</td><td>SA</td><td> -736459327</td><td>GEDI02_A_2022343094820_O22604_01_T07403_02_003_02_V002.h5</td><td>⋯</td><td>-18.44654</td><td>-2.28</td><td>-56.14229</td><td>0.29</td><td>-1.49</td><td> 0.00000000</td><td>13.12433</td><td>-0.1869154</td><td>3.445512</td><td>GS_SA</td></tr>\n",
       "\t<tr><td>714462</td><td>0</td><td>555576153</td><td>Flooded Grasslands &amp; Savannas</td><td>Pantanal</td><td>70955</td><td>GS</td><td>SA</td><td> -736459325</td><td>GEDI02_A_2022343094820_O22604_01_T07403_02_003_02_V002.h5</td><td>⋯</td><td>-18.44573</td><td>-2.28</td><td>-56.14163</td><td>0.71</td><td>-1.38</td><td> 0.12923239</td><td>13.11952</td><td> 0.3419013</td><td>3.444879</td><td>GS_SA</td></tr>\n",
       "\t<tr><td>714463</td><td>0</td><td>555576153</td><td>Flooded Grasslands &amp; Savannas</td><td>Pantanal</td><td>70955</td><td>GS</td><td>SA</td><td> -736459324</td><td>GEDI02_A_2022343094820_O22604_01_T07403_02_003_02_V002.h5</td><td>⋯</td><td>-18.44532</td><td>-2.02</td><td>-56.14130</td><td>1.53</td><td>-1.12</td><td> 6.85458803</td><td>13.10280</td><td> 2.4900367</td><td>3.442684</td><td>GS_SA</td></tr>\n",
       "\t<tr><td>714464</td><td>0</td><td>555576153</td><td>Flooded Grasslands &amp; Savannas</td><td>Pantanal</td><td>70955</td><td>GS</td><td>SA</td><td> -736459322</td><td>GEDI02_A_2022343094820_O22604_01_T07403_02_003_02_V002.h5</td><td>⋯</td><td>-18.44451</td><td>-1.87</td><td>-56.14063</td><td>3.89</td><td>-0.63</td><td>10.68128681</td><td>13.10262</td><td> 3.1083281</td><td>3.442661</td><td>GS_SA</td></tr>\n",
       "\t<tr><td>714465</td><td>0</td><td>555576153</td><td>Flooded Grasslands &amp; Savannas</td><td>Pantanal</td><td>70955</td><td>GS</td><td>SA</td><td> -736459321</td><td>GEDI02_A_2022343094820_O22604_01_T07403_02_003_02_V002.h5</td><td>⋯</td><td>-18.44411</td><td>-1.94</td><td>-56.14030</td><td>2.17</td><td>-0.89</td><td>10.93070221</td><td>13.10017</td><td> 3.1444097</td><td>3.442338</td><td>GS_SA</td></tr>\n",
       "\t<tr><td>714466</td><td>0</td><td>555576153</td><td>Flooded Grasslands &amp; Savannas</td><td>Pantanal</td><td>70955</td><td>GS</td><td>SA</td><td> -736459320</td><td>GEDI02_A_2022343094820_O22604_01_T07403_02_003_02_V002.h5</td><td>⋯</td><td>-18.44370</td><td>-2.28</td><td>-56.13996</td><td>0.41</td><td>-1.46</td><td> 0.12819064</td><td>13.11845</td><td> 0.3405205</td><td>3.444739</td><td>GS_SA</td></tr>\n",
       "\t<tr><td>714467</td><td>0</td><td>555576153</td><td>Flooded Grasslands &amp; Savannas</td><td>Pantanal</td><td>70955</td><td>GS</td><td>SA</td><td> -736459319</td><td>GEDI02_A_2022343094820_O22604_01_T07403_02_003_02_V002.h5</td><td>⋯</td><td>-18.44330</td><td>-2.17</td><td>-56.13963</td><td>0.22</td><td>-1.42</td><td> 0.00000000</td><td>13.12658</td><td>-0.3678848</td><td>3.445807</td><td>GS_SA</td></tr>\n",
       "\t<tr><td>714468</td><td>0</td><td>555576153</td><td>Flooded Grasslands &amp; Savannas</td><td>Pantanal</td><td>70955</td><td>GS</td><td>SA</td><td> -736459318</td><td>GEDI02_A_2022343094820_O22604_01_T07403_02_003_02_V002.h5</td><td>⋯</td><td>-18.44290</td><td>-2.24</td><td>-56.13930</td><td>0.18</td><td>-1.46</td><td> 0.00000000</td><td>13.12884</td><td>-0.5293981</td><td>3.446103</td><td>GS_SA</td></tr>\n",
       "\t<tr><td>714469</td><td>0</td><td>555576153</td><td>Flooded Grasslands &amp; Savannas</td><td>Pantanal</td><td>70955</td><td>GS</td><td>SA</td><td> -736459317</td><td>GEDI02_A_2022343094820_O22604_01_T07403_02_003_02_V002.h5</td><td>⋯</td><td>-18.44249</td><td>-1.79</td><td>-56.13896</td><td>6.28</td><td>-0.22</td><td>25.55006218</td><td>13.09663</td><td> 4.8074088</td><td>3.441873</td><td>GS_SA</td></tr>\n",
       "\t<tr><td>714472</td><td>0</td><td>555576153</td><td>Flooded Grasslands &amp; Savannas</td><td>Pantanal</td><td>70859</td><td>NA</td><td>SA</td><td> -736459308</td><td>GEDI02_A_2022343094820_O22604_01_T07403_02_003_02_V002.h5</td><td>⋯</td><td>-18.43885</td><td>-2.17</td><td>-56.13596</td><td>0.18</td><td>-1.42</td><td> 0.00000000</td><td>13.12982</td><td>-0.6153575</td><td>3.446231</td><td>NA_SA</td></tr>\n",
       "\t<tr><td>714473</td><td>0</td><td>555576153</td><td>Flooded Grasslands &amp; Savannas</td><td>Pantanal</td><td>70859</td><td>NA</td><td>SA</td><td> -736459305</td><td>GEDI02_A_2022343094820_O22604_01_T07403_02_003_02_V002.h5</td><td>⋯</td><td>-18.43764</td><td>-2.05</td><td>-56.13496</td><td>2.62</td><td>-1.01</td><td> 7.90432024</td><td>13.10237</td><td> 2.6739135</td><td>3.442627</td><td>NA_SA</td></tr>\n",
       "\t<tr><td>714474</td><td>0</td><td>555576153</td><td>Flooded Grasslands &amp; Savannas</td><td>Pantanal</td><td>70859</td><td>NA</td><td>SA</td><td> -736459303</td><td>GEDI02_A_2022343094820_O22604_01_T07403_02_003_02_V002.h5</td><td>⋯</td><td>-18.43683</td><td>-2.13</td><td>-56.13430</td><td>0.82</td><td>-1.27</td><td> 2.11292267</td><td>13.10932</td><td> 1.3824737</td><td>3.443541</td><td>NA_SA</td></tr>\n",
       "\t<tr><td>714475</td><td>0</td><td>555576153</td><td>Flooded Grasslands &amp; Savannas</td><td>Pantanal</td><td>70859</td><td>NA</td><td>SA</td><td> -736459298</td><td>GEDI02_A_2022343094820_O22604_01_T07403_02_003_02_V002.h5</td><td>⋯</td><td>-18.43480</td><td>-1.49</td><td>-56.13263</td><td>4.30</td><td>-0.44</td><td>16.42945480</td><td>13.09834</td><td> 3.8550203</td><td>3.442098</td><td>NA_SA</td></tr>\n",
       "\t<tr><td>714476</td><td>0</td><td>555576153</td><td>Flooded Grasslands &amp; Savannas</td><td>Pantanal</td><td>70859</td><td>NA</td><td>SA</td><td> -736459296</td><td>GEDI02_A_2022343094820_O22604_01_T07403_02_003_02_V002.h5</td><td>⋯</td><td>-18.43399</td><td>-2.20</td><td>-56.13196</td><td>3.51</td><td>-0.97</td><td>10.30300331</td><td>13.10152</td><td> 3.0527904</td><td>3.442516</td><td>NA_SA</td></tr>\n",
       "\t<tr><td>720203</td><td>1</td><td>555576153</td><td>Flooded Grasslands &amp; Savannas</td><td>Pantanal</td><td><span style=white-space:pre-wrap>    6</span></td><td>GS</td><td>SA</td><td> 1402222149</td><td>GEDI02_A_2023035111433_O23489_01_T02981_02_003_02_V002.h5</td><td>⋯</td><td>-18.22171</td><td>-2.39</td><td>-56.14036</td><td>0.14</td><td>-1.57</td><td> 0.00000000</td><td>13.12889</td><td>-0.5692382</td><td>3.446110</td><td>GS_SA</td></tr>\n",
       "\t<tr><td>720204</td><td>1</td><td>555576153</td><td>Flooded Grasslands &amp; Savannas</td><td>Pantanal</td><td><span style=white-space:pre-wrap>    6</span></td><td>GS</td><td>SA</td><td> 1402222150</td><td>GEDI02_A_2023035111433_O23489_01_T02981_02_003_02_V002.h5</td><td>⋯</td><td>-18.22130</td><td>-2.46</td><td>-56.14003</td><td>0.29</td><td>-1.53</td><td> 0.00000000</td><td>13.12699</td><td>-0.3842414</td><td>3.445860</td><td>GS_SA</td></tr>\n",
       "\t<tr><td>720207</td><td>1</td><td>555576153</td><td>Flooded Grasslands &amp; Savannas</td><td>Pantanal</td><td><span style=white-space:pre-wrap>    7</span></td><td>GS</td><td>SA</td><td>-1676898459</td><td>GEDI02_A_2023035111433_O23489_01_T02981_02_003_02_V002.h5</td><td>⋯</td><td>-18.22316</td><td>-2.65</td><td>-56.13429</td><td>0.56</td><td>-1.60</td><td> 0.01561047</td><td>13.12144</td><td> 0.1188292</td><td>3.445132</td><td>GS_SA</td></tr>\n",
       "\t<tr><td>720236</td><td>1</td><td>555576153</td><td>Flooded Grasslands &amp; Savannas</td><td>Pantanal</td><td><span style=white-space:pre-wrap>   15</span></td><td>GS</td><td>SA</td><td><span style=white-space:pre-wrap>  106800575</span></td><td>GEDI02_A_2023035111433_O23489_01_T02981_02_003_02_V002.h5</td><td>⋯</td><td>-18.23068</td><td>-1.60</td><td>-56.12310</td><td>0.26</td><td>-1.04</td><td> 0.00000000</td><td>13.13102</td><td>-0.6282279</td><td>3.446389</td><td>GS_SA</td></tr>\n",
       "</tbody>\n",
       "</table>\n"
      ],
      "text/latex": [
       "A data.frame: 7073 × 30\n",
       "\\begin{tabular}{lllllllllllllllllllll}\n",
       " ID & status & pa\\_id & wwfbiom & wwfecoreg & UID & pft & region & shot\\_number & filename & ⋯ & lat\\_lowestmode & rh10 & lon\\_lowestmode & rh60 & rh20 & agbd & agbd\\_se & agbd\\_t & agbd\\_t\\_se & stratum\\\\\n",
       " <dbl> & <dbl> & <dbl> & <fct> & <fct> & <dbl> & <fct> & <fct> & <int> & <chr> & ⋯ & <dbl> & <dbl> & <dbl> & <dbl> & <dbl> & <dbl> & <dbl> & <dbl> & <dbl> & <chr>\\\\\n",
       "\\hline\n",
       "\t 2452 & 1 & 555576153 & Flooded Grasslands \\& Savannas & Pantanal & 60 & DBT & SA & 1722349412 & GEDI02\\_A\\_2019141083048\\_O02477\\_04\\_T00281\\_02\\_003\\_01\\_V002.h5 & ⋯ & -18.26763 & -1.46 & -56.01351 &  3.33 & -0.56 &  5.79434776 & 13.10631 &  2.2893772 & 3.443145 & DBT\\_SA\\\\\n",
       "\t 2453 & 1 & 555576153 & Flooded Grasslands \\& Savannas & Pantanal & 60 & DBT & SA & 1722349411 & GEDI02\\_A\\_2019141083048\\_O02477\\_04\\_T00281\\_02\\_003\\_01\\_V002.h5 & ⋯ & -18.26722 & -2.35 & -56.01384 &  0.22 & -1.53 &  0.00000000 & 13.12777 & -0.4535378 & 3.445962 & DBT\\_SA\\\\\n",
       "\t 2454 & 1 & 555576153 & Flooded Grasslands \\& Savannas & Pantanal & 60 & DBT & SA & 1722349409 & GEDI02\\_A\\_2019141083048\\_O02477\\_04\\_T00281\\_02\\_003\\_01\\_V002.h5 & ⋯ & -18.26640 & -2.09 & -56.01451 &  0.26 & -1.38 &  0.00000000 & 13.12819 & -0.4699277 & 3.446018 & DBT\\_SA\\\\\n",
       "\t 2455 & 1 & 555576153 & Flooded Grasslands \\& Savannas & Pantanal & 60 & DBT & SA & 1722349406 & GEDI02\\_A\\_2019141083048\\_O02477\\_04\\_T00281\\_02\\_003\\_01\\_V002.h5 & ⋯ & -18.26518 & -1.68 & -56.01552 &  4.45 & -0.33 &  8.69748020 & 13.10720 &  2.8048639 & 3.443262 & DBT\\_SA\\\\\n",
       "\t 2456 & 1 & 555576153 & Flooded Grasslands \\& Savannas & Pantanal & 60 & DBT & SA & 1722349404 & GEDI02\\_A\\_2019141083048\\_O02477\\_04\\_T00281\\_02\\_003\\_01\\_V002.h5 & ⋯ & -18.26436 & -2.09 & -56.01619 &  0.18 & -1.38 &  0.00000000 & 13.12955 & -0.5789179 & 3.446197 & DBT\\_SA\\\\\n",
       "\t 2457 & 1 & 555576153 & Flooded Grasslands \\& Savannas & Pantanal & 60 & DBT & SA & 1722349399 & GEDI02\\_A\\_2019141083048\\_O02477\\_04\\_T00281\\_02\\_003\\_01\\_V002.h5 & ⋯ & -18.26232 & -2.32 & -56.01785 &  0.41 & -1.49 &  0.00000000 & 13.12428 & -0.1471569 & 3.445504 & DBT\\_SA\\\\\n",
       "\t 2458 & 1 & 555576153 & Flooded Grasslands \\& Savannas & Pantanal & 60 & DBT & SA & 1722349398 & GEDI02\\_A\\_2019141083048\\_O02477\\_04\\_T00281\\_02\\_003\\_01\\_V002.h5 & ⋯ & -18.26192 & -2.47 & -56.01819 &  0.18 & -1.61 &  0.00000000 & 13.12745 & -0.4669918 & 3.445921 & DBT\\_SA\\\\\n",
       "\t 2459 & 1 & 555576153 & Flooded Grasslands \\& Savannas & Pantanal & 60 & DBT & SA & 1722349397 & GEDI02\\_A\\_2019141083048\\_O02477\\_04\\_T00281\\_02\\_003\\_01\\_V002.h5 & ⋯ & -18.26151 & -2.62 & -56.01852 &  0.22 & -1.72 &  0.00000000 & 13.12536 & -0.2956575 & 3.445647 & DBT\\_SA\\\\\n",
       "\t 2460 & 1 & 555576153 & Flooded Grasslands \\& Savannas & Pantanal & 60 & DBT & SA & 1722349396 & GEDI02\\_A\\_2019141083048\\_O02477\\_04\\_T00281\\_02\\_003\\_01\\_V002.h5 & ⋯ & -18.26110 & -2.28 & -56.01885 &  0.22 & -1.49 &  0.00000000 & 13.12745 & -0.4304667 & 3.445920 & DBT\\_SA\\\\\n",
       "\t 3108 & 1 & 555576153 & Flooded Grasslands \\& Savannas & Pantanal & 60 & DBT & SA & 1074629352 & GEDI02\\_A\\_2019141083048\\_O02477\\_04\\_T00281\\_02\\_003\\_01\\_V002.h5 & ⋯ & -18.26893 & -1.90 & -56.01947 &  3.40 & -0.78 & 12.94494343 & 13.09954 &  3.4218831 & 3.442255 & DBT\\_SA\\\\\n",
       "\t 3109 & 1 & 555576153 & Flooded Grasslands \\& Savannas & Pantanal & 60 & DBT & SA & 1074629351 & GEDI02\\_A\\_2019141083048\\_O02477\\_04\\_T00281\\_02\\_003\\_01\\_V002.h5 & ⋯ & -18.26852 & -0.22 & -56.01980 & 10.78 &  2.58 & 49.56725693 & 13.09650 &  6.6959548 & 3.441855 & DBT\\_SA\\\\\n",
       "\t 3110 & 1 & 555576153 & Flooded Grasslands \\& Savannas & Pantanal & 60 & DBT & SA & 1074629350 & GEDI02\\_A\\_2019141083048\\_O02477\\_04\\_T00281\\_02\\_003\\_01\\_V002.h5 & ⋯ & -18.26730 & -1.64 & -56.02080 &  5.16 & -0.52 & 14.14614677 & 13.10016 &  3.5771253 & 3.442337 & DBT\\_SA\\\\\n",
       "\t 3111 & 1 & 555576153 & Flooded Grasslands \\& Savannas & Pantanal & 60 & DBT & SA & 1074629349 & GEDI02\\_A\\_2019141083048\\_O02477\\_04\\_T00281\\_02\\_003\\_01\\_V002.h5 & ⋯ & -18.26689 & -1.46 & -56.02113 &  4.34 & -0.22 &  8.40072250 & 13.10750 &  2.7565978 & 3.443302 & DBT\\_SA\\\\\n",
       "\t 3112 & 1 & 555576153 & Flooded Grasslands \\& Savannas & Pantanal & 60 & DBT & SA & 1074629348 & GEDI02\\_A\\_2019141083048\\_O02477\\_04\\_T00281\\_02\\_003\\_01\\_V002.h5 & ⋯ & -18.26649 & -1.53 & -56.02146 &  5.35 & -0.33 & 16.24703979 & 13.10054 &  3.8335595 & 3.442388 & DBT\\_SA\\\\\n",
       "\t 3113 & 1 & 555576153 & Flooded Grasslands \\& Savannas & Pantanal & 60 & DBT & SA & 1074629347 & GEDI02\\_A\\_2019141083048\\_O02477\\_04\\_T00281\\_02\\_003\\_01\\_V002.h5 & ⋯ & -18.26608 & -2.88 & -56.02180 &  0.14 & -1.87 &  0.00000000 & 13.12555 & -0.3453220 & 3.445672 & DBT\\_SA\\\\\n",
       "\t 3114 & 1 & 555576153 & Flooded Grasslands \\& Savannas & Pantanal & 60 & DBT & SA & 1074629346 & GEDI02\\_A\\_2019141083048\\_O02477\\_04\\_T00281\\_02\\_003\\_01\\_V002.h5 & ⋯ & -18.26567 & -2.39 & -56.02213 &  0.41 & -1.49 &  0.15915917 & 13.11787 &  0.3794293 & 3.444663 & DBT\\_SA\\\\\n",
       "\t 3115 & 1 & 555576153 & Flooded Grasslands \\& Savannas & Pantanal & 60 & DBT & SA & 1074629345 & GEDI02\\_A\\_2019141083048\\_O02477\\_04\\_T00281\\_02\\_003\\_01\\_V002.h5 & ⋯ & -18.26526 & -2.95 & -56.02246 &  1.94 & -1.61 &  2.99869514 & 13.10930 &  1.6469531 & 3.443538 & DBT\\_SA\\\\\n",
       "\t 3116 & 1 & 555576153 & Flooded Grasslands \\& Savannas & Pantanal & 60 & DBT & SA & 1074629344 & GEDI02\\_A\\_2019141083048\\_O02477\\_04\\_T00281\\_02\\_003\\_01\\_V002.h5 & ⋯ & -18.26486 & -2.28 & -56.02279 &  0.26 & -1.49 &  0.00000000 & 13.12713 & -0.3941228 & 3.445878 & DBT\\_SA\\\\\n",
       "\t 3117 & 1 & 555576153 & Flooded Grasslands \\& Savannas & Pantanal & 60 & DBT & SA & 1074629342 & GEDI02\\_A\\_2019141083048\\_O02477\\_04\\_T00281\\_02\\_003\\_01\\_V002.h5 & ⋯ & -18.26404 & -2.47 & -56.02345 &  0.33 & -1.57 &  0.01289632 & 13.12063 &  0.1080060 & 3.445025 & DBT\\_SA\\\\\n",
       "\t 3118 & 1 & 555576153 & Flooded Grasslands \\& Savannas & Pantanal & 59 & GS  & SA & 1074629341 & GEDI02\\_A\\_2019141083048\\_O02477\\_04\\_T00281\\_02\\_003\\_01\\_V002.h5 & ⋯ & -18.26323 & -2.28 & -56.02411 &  0.29 & -1.49 &  0.00000000 & 13.12504 & -0.2228801 & 3.445605 & GS\\_SA \\\\\n",
       "\t 3119 & 1 & 555576153 & Flooded Grasslands \\& Savannas & Pantanal & 59 & GS  & SA & 1074629340 & GEDI02\\_A\\_2019141083048\\_O02477\\_04\\_T00281\\_02\\_003\\_01\\_V002.h5 & ⋯ & -18.26282 & -2.28 & -56.02444 &  0.22 & -1.49 &  0.00000000 & 13.12777 & -0.4535378 & 3.445962 & GS\\_SA \\\\\n",
       "\t 3120 & 1 & 555576153 & Flooded Grasslands \\& Savannas & Pantanal & 59 & GS  & SA & 1074629339 & GEDI02\\_A\\_2019141083048\\_O02477\\_04\\_T00281\\_02\\_003\\_01\\_V002.h5 & ⋯ & -18.26241 & -2.32 & -56.02477 &  0.18 & -1.53 &  0.00000000 & 13.12877 & -0.5427159 & 3.446094 & GS\\_SA \\\\\n",
       "\t 3121 & 1 & 555576153 & Flooded Grasslands \\& Savannas & Pantanal & 59 & GS  & SA & 1074629338 & GEDI02\\_A\\_2019141083048\\_O02477\\_04\\_T00281\\_02\\_003\\_01\\_V002.h5 & ⋯ & -18.26200 & -2.32 & -56.02510 &  0.22 & -1.53 &  0.00000000 & 13.12807 & -0.4932322 & 3.446002 & GS\\_SA \\\\\n",
       "\t 3122 & 1 & 555576153 & Flooded Grasslands \\& Savannas & Pantanal & 59 & GS  & SA & 1074629337 & GEDI02\\_A\\_2019141083048\\_O02477\\_04\\_T00281\\_02\\_003\\_01\\_V002.h5 & ⋯ & -18.26160 & -2.20 & -56.02543 &  0.29 & -1.42 &  0.00000000 & 13.12564 & -0.2855068 & 3.445683 & GS\\_SA \\\\\n",
       "\t 3123 & 1 & 555576153 & Flooded Grasslands \\& Savannas & Pantanal & 59 & GS  & SA & 1074629336 & GEDI02\\_A\\_2019141083048\\_O02477\\_04\\_T00281\\_02\\_003\\_01\\_V002.h5 & ⋯ & -18.26119 & -2.28 & -56.02576 &  0.22 & -1.49 &  0.00000000 & 13.12828 & -0.4898082 & 3.446029 & GS\\_SA \\\\\n",
       "\t 3124 & 1 & 555576153 & Flooded Grasslands \\& Savannas & Pantanal & 59 & GS  & SA & 1074629335 & GEDI02\\_A\\_2019141083048\\_O02477\\_04\\_T00281\\_02\\_003\\_01\\_V002.h5 & ⋯ & -18.26078 & -2.17 & -56.02609 &  0.22 & -1.42 &  0.00000000 & 13.12846 & -0.5030023 & 3.446054 & GS\\_SA \\\\\n",
       "\t 4163 & 1 & 555576153 & Flooded Grasslands \\& Savannas & Pantanal & 39 & GS  & SA &  909087248 & GEDI02\\_A\\_2019141191934\\_O02484\\_01\\_T01711\\_02\\_003\\_01\\_V002.h5 & ⋯ & -18.25962 & -2.02 & -56.14023 &  0.48 & -1.23 &  0.00000000 & 13.12624 & -0.2486437 & 3.445761 & GS\\_SA \\\\\n",
       "\t 4164 & 1 & 555576153 & Flooded Grasslands \\& Savannas & Pantanal & 39 & GS  & SA &  909087253 & GEDI02\\_A\\_2019141191934\\_O02484\\_01\\_T01711\\_02\\_003\\_01\\_V002.h5 & ⋯ & -18.25760 & -2.13 & -56.13854 &  0.33 & -1.34 &  0.00000000 & 13.12763 & -0.3938564 & 3.445944 & GS\\_SA \\\\\n",
       "\t 4165 & 1 & 555576153 & Flooded Grasslands \\& Savannas & Pantanal & 40 & GS  & SA &  909087259 & GEDI02\\_A\\_2019141191934\\_O02484\\_01\\_T01711\\_02\\_003\\_01\\_V002.h5 & ⋯ & -18.25518 & -1.94 & -56.13650 &  0.33 & -1.19 &  0.00000000 & 13.12749 & -0.3706954 & 3.445926 & GS\\_SA \\\\\n",
       "\t 4166 & 1 & 555576153 & Flooded Grasslands \\& Savannas & Pantanal & 40 & GS  & SA &  909087261 & GEDI02\\_A\\_2019141191934\\_O02484\\_01\\_T01711\\_02\\_003\\_01\\_V002.h5 & ⋯ & -18.25438 & -2.05 & -56.13583 &  0.29 & -1.31 &  0.00000000 & 13.12795 & -0.4169275 & 3.445987 & GS\\_SA \\\\\n",
       "\t ⋮ & ⋮ & ⋮ & ⋮ & ⋮ & ⋮ & ⋮ & ⋮ & ⋮ & ⋮ & ⋱ & ⋮ & ⋮ & ⋮ & ⋮ & ⋮ & ⋮ & ⋮ & ⋮ & ⋮ & ⋮\\\\\n",
       "\t 714449 & 0 & 555576153 & Flooded Grasslands \\& Savannas & Pantanal & 71052 & GS & SA &  -736459342 & GEDI02\\_A\\_2022343094820\\_O22604\\_01\\_T07403\\_02\\_003\\_02\\_V002.h5 & ⋯ & -18.45262 & -2.32 & -56.14729 & 0.22 & -1.49 &  0.00000000 & 13.12777 & -0.4535378 & 3.445962 & GS\\_SA\\\\\n",
       "\t 714450 & 0 & 555576153 & Flooded Grasslands \\& Savannas & Pantanal & 71052 & GS & SA &  -736459341 & GEDI02\\_A\\_2022343094820\\_O22604\\_01\\_T07403\\_02\\_003\\_02\\_V002.h5 & ⋯ & -18.45221 & -2.35 & -56.14696 & 0.18 & -1.53 &  0.00000000 & 13.12789 & -0.4800426 & 3.445978 & GS\\_SA\\\\\n",
       "\t 714451 & 0 & 555576153 & Flooded Grasslands \\& Savannas & Pantanal & 71052 & GS & SA &  -736459340 & GEDI02\\_A\\_2022343094820\\_O22604\\_01\\_T07403\\_02\\_003\\_02\\_V002.h5 & ⋯ & -18.45181 & -2.39 & -56.14662 & 0.26 & -1.53 &  0.00000000 & 13.12507 & -0.2560397 & 3.445608 & GS\\_SA\\\\\n",
       "\t 714452 & 0 & 555576153 & Flooded Grasslands \\& Savannas & Pantanal & 71052 & GS & SA &  -736459338 & GEDI02\\_A\\_2022343094820\\_O22604\\_01\\_T07403\\_02\\_003\\_02\\_V002.h5 & ⋯ & -18.45100 & -2.24 & -56.14596 & 0.41 & -1.42 &  1.93046308 & 13.10902 &  1.3214351 & 3.443501 & GS\\_SA\\\\\n",
       "\t 714453 & 0 & 555576153 & Flooded Grasslands \\& Savannas & Pantanal & 71052 & GS & SA &  -736459337 & GEDI02\\_A\\_2022343094820\\_O22604\\_01\\_T07403\\_02\\_003\\_02\\_V002.h5 & ⋯ & -18.45059 & -2.24 & -56.14562 & 0.18 & -1.49 &  0.00000000 & 13.12910 & -0.5658207 & 3.446137 & GS\\_SA\\\\\n",
       "\t 714454 & 0 & 555576153 & Flooded Grasslands \\& Savannas & Pantanal & 70955 & GS & SA &  -736459334 & GEDI02\\_A\\_2022343094820\\_O22604\\_01\\_T07403\\_02\\_003\\_02\\_V002.h5 & ⋯ & -18.44938 & -2.20 & -56.14463 & 1.04 & -1.31 &  1.93459821 & 13.11029 &  1.3228496 & 3.443668 & GS\\_SA\\\\\n",
       "\t 714455 & 0 & 555576153 & Flooded Grasslands \\& Savannas & Pantanal & 70955 & GS & SA &  -736459333 & GEDI02\\_A\\_2022343094820\\_O22604\\_01\\_T07403\\_02\\_003\\_02\\_V002.h5 & ⋯ & -18.44897 & -1.83 & -56.14429 & 4.19 & -0.59 & 14.78725529 & 13.09942 &  3.6572855 & 3.442239 & GS\\_SA\\\\\n",
       "\t 714456 & 0 & 555576153 & Flooded Grasslands \\& Savannas & Pantanal & 70955 & GS & SA &  -736459332 & GEDI02\\_A\\_2022343094820\\_O22604\\_01\\_T07403\\_02\\_003\\_02\\_V002.h5 & ⋯ & -18.44856 & -1.64 & -56.14396 & 4.08 & -0.59 & 11.85449314 & 13.10115 &  3.2745874 & 3.442467 & GS\\_SA\\\\\n",
       "\t 714457 & 0 & 555576153 & Flooded Grasslands \\& Savannas & Pantanal & 70955 & GS & SA &  -736459331 & GEDI02\\_A\\_2022343094820\\_O22604\\_01\\_T07403\\_02\\_003\\_02\\_V002.h5 & ⋯ & -18.44816 & -1.87 & -56.14363 & 2.09 & -0.86 &  4.93302441 & 13.10575 &  2.1123784 & 3.443071 & GS\\_SA\\\\\n",
       "\t 714458 & 0 & 555576153 & Flooded Grasslands \\& Savannas & Pantanal & 70955 & GS & SA &  -736459330 & GEDI02\\_A\\_2022343094820\\_O22604\\_01\\_T07403\\_02\\_003\\_02\\_V002.h5 & ⋯ & -18.44775 & -1.12 & -56.14329 & 5.99 &  0.07 & 16.37988281 & 13.10129 &  3.8492000 & 3.442486 & GS\\_SA\\\\\n",
       "\t 714459 & 0 & 555576153 & Flooded Grasslands \\& Savannas & Pantanal & 70955 & GS & SA &  -736459329 & GEDI02\\_A\\_2022343094820\\_O22604\\_01\\_T07403\\_02\\_003\\_02\\_V002.h5 & ⋯ & -18.44735 & -1.75 & -56.14296 & 1.01 & -0.97 & 12.03252125 & 13.10006 &  3.2990842 & 3.442324 & GS\\_SA\\\\\n",
       "\t 714460 & 0 & 555576153 & Flooded Grasslands \\& Savannas & Pantanal & 70955 & GS & SA &  -736459328 & GEDI02\\_A\\_2022343094820\\_O22604\\_01\\_T07403\\_02\\_003\\_02\\_V002.h5 & ⋯ & -18.44694 & -2.13 & -56.14263 & 0.48 & -1.38 &  1.26032829 & 13.11135 &  1.0677189 & 3.443806 & GS\\_SA\\\\\n",
       "\t 714461 & 0 & 555576153 & Flooded Grasslands \\& Savannas & Pantanal & 70955 & GS & SA &  -736459327 & GEDI02\\_A\\_2022343094820\\_O22604\\_01\\_T07403\\_02\\_003\\_02\\_V002.h5 & ⋯ & -18.44654 & -2.28 & -56.14229 & 0.29 & -1.49 &  0.00000000 & 13.12433 & -0.1869154 & 3.445512 & GS\\_SA\\\\\n",
       "\t 714462 & 0 & 555576153 & Flooded Grasslands \\& Savannas & Pantanal & 70955 & GS & SA &  -736459325 & GEDI02\\_A\\_2022343094820\\_O22604\\_01\\_T07403\\_02\\_003\\_02\\_V002.h5 & ⋯ & -18.44573 & -2.28 & -56.14163 & 0.71 & -1.38 &  0.12923239 & 13.11952 &  0.3419013 & 3.444879 & GS\\_SA\\\\\n",
       "\t 714463 & 0 & 555576153 & Flooded Grasslands \\& Savannas & Pantanal & 70955 & GS & SA &  -736459324 & GEDI02\\_A\\_2022343094820\\_O22604\\_01\\_T07403\\_02\\_003\\_02\\_V002.h5 & ⋯ & -18.44532 & -2.02 & -56.14130 & 1.53 & -1.12 &  6.85458803 & 13.10280 &  2.4900367 & 3.442684 & GS\\_SA\\\\\n",
       "\t 714464 & 0 & 555576153 & Flooded Grasslands \\& Savannas & Pantanal & 70955 & GS & SA &  -736459322 & GEDI02\\_A\\_2022343094820\\_O22604\\_01\\_T07403\\_02\\_003\\_02\\_V002.h5 & ⋯ & -18.44451 & -1.87 & -56.14063 & 3.89 & -0.63 & 10.68128681 & 13.10262 &  3.1083281 & 3.442661 & GS\\_SA\\\\\n",
       "\t 714465 & 0 & 555576153 & Flooded Grasslands \\& Savannas & Pantanal & 70955 & GS & SA &  -736459321 & GEDI02\\_A\\_2022343094820\\_O22604\\_01\\_T07403\\_02\\_003\\_02\\_V002.h5 & ⋯ & -18.44411 & -1.94 & -56.14030 & 2.17 & -0.89 & 10.93070221 & 13.10017 &  3.1444097 & 3.442338 & GS\\_SA\\\\\n",
       "\t 714466 & 0 & 555576153 & Flooded Grasslands \\& Savannas & Pantanal & 70955 & GS & SA &  -736459320 & GEDI02\\_A\\_2022343094820\\_O22604\\_01\\_T07403\\_02\\_003\\_02\\_V002.h5 & ⋯ & -18.44370 & -2.28 & -56.13996 & 0.41 & -1.46 &  0.12819064 & 13.11845 &  0.3405205 & 3.444739 & GS\\_SA\\\\\n",
       "\t 714467 & 0 & 555576153 & Flooded Grasslands \\& Savannas & Pantanal & 70955 & GS & SA &  -736459319 & GEDI02\\_A\\_2022343094820\\_O22604\\_01\\_T07403\\_02\\_003\\_02\\_V002.h5 & ⋯ & -18.44330 & -2.17 & -56.13963 & 0.22 & -1.42 &  0.00000000 & 13.12658 & -0.3678848 & 3.445807 & GS\\_SA\\\\\n",
       "\t 714468 & 0 & 555576153 & Flooded Grasslands \\& Savannas & Pantanal & 70955 & GS & SA &  -736459318 & GEDI02\\_A\\_2022343094820\\_O22604\\_01\\_T07403\\_02\\_003\\_02\\_V002.h5 & ⋯ & -18.44290 & -2.24 & -56.13930 & 0.18 & -1.46 &  0.00000000 & 13.12884 & -0.5293981 & 3.446103 & GS\\_SA\\\\\n",
       "\t 714469 & 0 & 555576153 & Flooded Grasslands \\& Savannas & Pantanal & 70955 & GS & SA &  -736459317 & GEDI02\\_A\\_2022343094820\\_O22604\\_01\\_T07403\\_02\\_003\\_02\\_V002.h5 & ⋯ & -18.44249 & -1.79 & -56.13896 & 6.28 & -0.22 & 25.55006218 & 13.09663 &  4.8074088 & 3.441873 & GS\\_SA\\\\\n",
       "\t 714472 & 0 & 555576153 & Flooded Grasslands \\& Savannas & Pantanal & 70859 & NA & SA &  -736459308 & GEDI02\\_A\\_2022343094820\\_O22604\\_01\\_T07403\\_02\\_003\\_02\\_V002.h5 & ⋯ & -18.43885 & -2.17 & -56.13596 & 0.18 & -1.42 &  0.00000000 & 13.12982 & -0.6153575 & 3.446231 & NA\\_SA\\\\\n",
       "\t 714473 & 0 & 555576153 & Flooded Grasslands \\& Savannas & Pantanal & 70859 & NA & SA &  -736459305 & GEDI02\\_A\\_2022343094820\\_O22604\\_01\\_T07403\\_02\\_003\\_02\\_V002.h5 & ⋯ & -18.43764 & -2.05 & -56.13496 & 2.62 & -1.01 &  7.90432024 & 13.10237 &  2.6739135 & 3.442627 & NA\\_SA\\\\\n",
       "\t 714474 & 0 & 555576153 & Flooded Grasslands \\& Savannas & Pantanal & 70859 & NA & SA &  -736459303 & GEDI02\\_A\\_2022343094820\\_O22604\\_01\\_T07403\\_02\\_003\\_02\\_V002.h5 & ⋯ & -18.43683 & -2.13 & -56.13430 & 0.82 & -1.27 &  2.11292267 & 13.10932 &  1.3824737 & 3.443541 & NA\\_SA\\\\\n",
       "\t 714475 & 0 & 555576153 & Flooded Grasslands \\& Savannas & Pantanal & 70859 & NA & SA &  -736459298 & GEDI02\\_A\\_2022343094820\\_O22604\\_01\\_T07403\\_02\\_003\\_02\\_V002.h5 & ⋯ & -18.43480 & -1.49 & -56.13263 & 4.30 & -0.44 & 16.42945480 & 13.09834 &  3.8550203 & 3.442098 & NA\\_SA\\\\\n",
       "\t 714476 & 0 & 555576153 & Flooded Grasslands \\& Savannas & Pantanal & 70859 & NA & SA &  -736459296 & GEDI02\\_A\\_2022343094820\\_O22604\\_01\\_T07403\\_02\\_003\\_02\\_V002.h5 & ⋯ & -18.43399 & -2.20 & -56.13196 & 3.51 & -0.97 & 10.30300331 & 13.10152 &  3.0527904 & 3.442516 & NA\\_SA\\\\\n",
       "\t 720203 & 1 & 555576153 & Flooded Grasslands \\& Savannas & Pantanal &     6 & GS & SA &  1402222149 & GEDI02\\_A\\_2023035111433\\_O23489\\_01\\_T02981\\_02\\_003\\_02\\_V002.h5 & ⋯ & -18.22171 & -2.39 & -56.14036 & 0.14 & -1.57 &  0.00000000 & 13.12889 & -0.5692382 & 3.446110 & GS\\_SA\\\\\n",
       "\t 720204 & 1 & 555576153 & Flooded Grasslands \\& Savannas & Pantanal &     6 & GS & SA &  1402222150 & GEDI02\\_A\\_2023035111433\\_O23489\\_01\\_T02981\\_02\\_003\\_02\\_V002.h5 & ⋯ & -18.22130 & -2.46 & -56.14003 & 0.29 & -1.53 &  0.00000000 & 13.12699 & -0.3842414 & 3.445860 & GS\\_SA\\\\\n",
       "\t 720207 & 1 & 555576153 & Flooded Grasslands \\& Savannas & Pantanal &     7 & GS & SA & -1676898459 & GEDI02\\_A\\_2023035111433\\_O23489\\_01\\_T02981\\_02\\_003\\_02\\_V002.h5 & ⋯ & -18.22316 & -2.65 & -56.13429 & 0.56 & -1.60 &  0.01561047 & 13.12144 &  0.1188292 & 3.445132 & GS\\_SA\\\\\n",
       "\t 720236 & 1 & 555576153 & Flooded Grasslands \\& Savannas & Pantanal &    15 & GS & SA &   106800575 & GEDI02\\_A\\_2023035111433\\_O23489\\_01\\_T02981\\_02\\_003\\_02\\_V002.h5 & ⋯ & -18.23068 & -1.60 & -56.12310 & 0.26 & -1.04 &  0.00000000 & 13.13102 & -0.6282279 & 3.446389 & GS\\_SA\\\\\n",
       "\\end{tabular}\n"
      ],
      "text/markdown": [
       "\n",
       "A data.frame: 7073 × 30\n",
       "\n",
       "| ID &lt;dbl&gt; | status &lt;dbl&gt; | pa_id &lt;dbl&gt; | wwfbiom &lt;fct&gt; | wwfecoreg &lt;fct&gt; | UID &lt;dbl&gt; | pft &lt;fct&gt; | region &lt;fct&gt; | shot_number &lt;int&gt; | filename &lt;chr&gt; | ⋯ ⋯ | lat_lowestmode &lt;dbl&gt; | rh10 &lt;dbl&gt; | lon_lowestmode &lt;dbl&gt; | rh60 &lt;dbl&gt; | rh20 &lt;dbl&gt; | agbd &lt;dbl&gt; | agbd_se &lt;dbl&gt; | agbd_t &lt;dbl&gt; | agbd_t_se &lt;dbl&gt; | stratum &lt;chr&gt; |\n",
       "|---|---|---|---|---|---|---|---|---|---|---|---|---|---|---|---|---|---|---|---|---|\n",
       "| 2452 | 1 | 555576153 | Flooded Grasslands &amp; Savannas | Pantanal | 60 | DBT | SA | 1722349412 | GEDI02_A_2019141083048_O02477_04_T00281_02_003_01_V002.h5 | ⋯ | -18.26763 | -1.46 | -56.01351 |  3.33 | -0.56 |  5.79434776 | 13.10631 |  2.2893772 | 3.443145 | DBT_SA |\n",
       "| 2453 | 1 | 555576153 | Flooded Grasslands &amp; Savannas | Pantanal | 60 | DBT | SA | 1722349411 | GEDI02_A_2019141083048_O02477_04_T00281_02_003_01_V002.h5 | ⋯ | -18.26722 | -2.35 | -56.01384 |  0.22 | -1.53 |  0.00000000 | 13.12777 | -0.4535378 | 3.445962 | DBT_SA |\n",
       "| 2454 | 1 | 555576153 | Flooded Grasslands &amp; Savannas | Pantanal | 60 | DBT | SA | 1722349409 | GEDI02_A_2019141083048_O02477_04_T00281_02_003_01_V002.h5 | ⋯ | -18.26640 | -2.09 | -56.01451 |  0.26 | -1.38 |  0.00000000 | 13.12819 | -0.4699277 | 3.446018 | DBT_SA |\n",
       "| 2455 | 1 | 555576153 | Flooded Grasslands &amp; Savannas | Pantanal | 60 | DBT | SA | 1722349406 | GEDI02_A_2019141083048_O02477_04_T00281_02_003_01_V002.h5 | ⋯ | -18.26518 | -1.68 | -56.01552 |  4.45 | -0.33 |  8.69748020 | 13.10720 |  2.8048639 | 3.443262 | DBT_SA |\n",
       "| 2456 | 1 | 555576153 | Flooded Grasslands &amp; Savannas | Pantanal | 60 | DBT | SA | 1722349404 | GEDI02_A_2019141083048_O02477_04_T00281_02_003_01_V002.h5 | ⋯ | -18.26436 | -2.09 | -56.01619 |  0.18 | -1.38 |  0.00000000 | 13.12955 | -0.5789179 | 3.446197 | DBT_SA |\n",
       "| 2457 | 1 | 555576153 | Flooded Grasslands &amp; Savannas | Pantanal | 60 | DBT | SA | 1722349399 | GEDI02_A_2019141083048_O02477_04_T00281_02_003_01_V002.h5 | ⋯ | -18.26232 | -2.32 | -56.01785 |  0.41 | -1.49 |  0.00000000 | 13.12428 | -0.1471569 | 3.445504 | DBT_SA |\n",
       "| 2458 | 1 | 555576153 | Flooded Grasslands &amp; Savannas | Pantanal | 60 | DBT | SA | 1722349398 | GEDI02_A_2019141083048_O02477_04_T00281_02_003_01_V002.h5 | ⋯ | -18.26192 | -2.47 | -56.01819 |  0.18 | -1.61 |  0.00000000 | 13.12745 | -0.4669918 | 3.445921 | DBT_SA |\n",
       "| 2459 | 1 | 555576153 | Flooded Grasslands &amp; Savannas | Pantanal | 60 | DBT | SA | 1722349397 | GEDI02_A_2019141083048_O02477_04_T00281_02_003_01_V002.h5 | ⋯ | -18.26151 | -2.62 | -56.01852 |  0.22 | -1.72 |  0.00000000 | 13.12536 | -0.2956575 | 3.445647 | DBT_SA |\n",
       "| 2460 | 1 | 555576153 | Flooded Grasslands &amp; Savannas | Pantanal | 60 | DBT | SA | 1722349396 | GEDI02_A_2019141083048_O02477_04_T00281_02_003_01_V002.h5 | ⋯ | -18.26110 | -2.28 | -56.01885 |  0.22 | -1.49 |  0.00000000 | 13.12745 | -0.4304667 | 3.445920 | DBT_SA |\n",
       "| 3108 | 1 | 555576153 | Flooded Grasslands &amp; Savannas | Pantanal | 60 | DBT | SA | 1074629352 | GEDI02_A_2019141083048_O02477_04_T00281_02_003_01_V002.h5 | ⋯ | -18.26893 | -1.90 | -56.01947 |  3.40 | -0.78 | 12.94494343 | 13.09954 |  3.4218831 | 3.442255 | DBT_SA |\n",
       "| 3109 | 1 | 555576153 | Flooded Grasslands &amp; Savannas | Pantanal | 60 | DBT | SA | 1074629351 | GEDI02_A_2019141083048_O02477_04_T00281_02_003_01_V002.h5 | ⋯ | -18.26852 | -0.22 | -56.01980 | 10.78 |  2.58 | 49.56725693 | 13.09650 |  6.6959548 | 3.441855 | DBT_SA |\n",
       "| 3110 | 1 | 555576153 | Flooded Grasslands &amp; Savannas | Pantanal | 60 | DBT | SA | 1074629350 | GEDI02_A_2019141083048_O02477_04_T00281_02_003_01_V002.h5 | ⋯ | -18.26730 | -1.64 | -56.02080 |  5.16 | -0.52 | 14.14614677 | 13.10016 |  3.5771253 | 3.442337 | DBT_SA |\n",
       "| 3111 | 1 | 555576153 | Flooded Grasslands &amp; Savannas | Pantanal | 60 | DBT | SA | 1074629349 | GEDI02_A_2019141083048_O02477_04_T00281_02_003_01_V002.h5 | ⋯ | -18.26689 | -1.46 | -56.02113 |  4.34 | -0.22 |  8.40072250 | 13.10750 |  2.7565978 | 3.443302 | DBT_SA |\n",
       "| 3112 | 1 | 555576153 | Flooded Grasslands &amp; Savannas | Pantanal | 60 | DBT | SA | 1074629348 | GEDI02_A_2019141083048_O02477_04_T00281_02_003_01_V002.h5 | ⋯ | -18.26649 | -1.53 | -56.02146 |  5.35 | -0.33 | 16.24703979 | 13.10054 |  3.8335595 | 3.442388 | DBT_SA |\n",
       "| 3113 | 1 | 555576153 | Flooded Grasslands &amp; Savannas | Pantanal | 60 | DBT | SA | 1074629347 | GEDI02_A_2019141083048_O02477_04_T00281_02_003_01_V002.h5 | ⋯ | -18.26608 | -2.88 | -56.02180 |  0.14 | -1.87 |  0.00000000 | 13.12555 | -0.3453220 | 3.445672 | DBT_SA |\n",
       "| 3114 | 1 | 555576153 | Flooded Grasslands &amp; Savannas | Pantanal | 60 | DBT | SA | 1074629346 | GEDI02_A_2019141083048_O02477_04_T00281_02_003_01_V002.h5 | ⋯ | -18.26567 | -2.39 | -56.02213 |  0.41 | -1.49 |  0.15915917 | 13.11787 |  0.3794293 | 3.444663 | DBT_SA |\n",
       "| 3115 | 1 | 555576153 | Flooded Grasslands &amp; Savannas | Pantanal | 60 | DBT | SA | 1074629345 | GEDI02_A_2019141083048_O02477_04_T00281_02_003_01_V002.h5 | ⋯ | -18.26526 | -2.95 | -56.02246 |  1.94 | -1.61 |  2.99869514 | 13.10930 |  1.6469531 | 3.443538 | DBT_SA |\n",
       "| 3116 | 1 | 555576153 | Flooded Grasslands &amp; Savannas | Pantanal | 60 | DBT | SA | 1074629344 | GEDI02_A_2019141083048_O02477_04_T00281_02_003_01_V002.h5 | ⋯ | -18.26486 | -2.28 | -56.02279 |  0.26 | -1.49 |  0.00000000 | 13.12713 | -0.3941228 | 3.445878 | DBT_SA |\n",
       "| 3117 | 1 | 555576153 | Flooded Grasslands &amp; Savannas | Pantanal | 60 | DBT | SA | 1074629342 | GEDI02_A_2019141083048_O02477_04_T00281_02_003_01_V002.h5 | ⋯ | -18.26404 | -2.47 | -56.02345 |  0.33 | -1.57 |  0.01289632 | 13.12063 |  0.1080060 | 3.445025 | DBT_SA |\n",
       "| 3118 | 1 | 555576153 | Flooded Grasslands &amp; Savannas | Pantanal | 59 | GS  | SA | 1074629341 | GEDI02_A_2019141083048_O02477_04_T00281_02_003_01_V002.h5 | ⋯ | -18.26323 | -2.28 | -56.02411 |  0.29 | -1.49 |  0.00000000 | 13.12504 | -0.2228801 | 3.445605 | GS_SA  |\n",
       "| 3119 | 1 | 555576153 | Flooded Grasslands &amp; Savannas | Pantanal | 59 | GS  | SA | 1074629340 | GEDI02_A_2019141083048_O02477_04_T00281_02_003_01_V002.h5 | ⋯ | -18.26282 | -2.28 | -56.02444 |  0.22 | -1.49 |  0.00000000 | 13.12777 | -0.4535378 | 3.445962 | GS_SA  |\n",
       "| 3120 | 1 | 555576153 | Flooded Grasslands &amp; Savannas | Pantanal | 59 | GS  | SA | 1074629339 | GEDI02_A_2019141083048_O02477_04_T00281_02_003_01_V002.h5 | ⋯ | -18.26241 | -2.32 | -56.02477 |  0.18 | -1.53 |  0.00000000 | 13.12877 | -0.5427159 | 3.446094 | GS_SA  |\n",
       "| 3121 | 1 | 555576153 | Flooded Grasslands &amp; Savannas | Pantanal | 59 | GS  | SA | 1074629338 | GEDI02_A_2019141083048_O02477_04_T00281_02_003_01_V002.h5 | ⋯ | -18.26200 | -2.32 | -56.02510 |  0.22 | -1.53 |  0.00000000 | 13.12807 | -0.4932322 | 3.446002 | GS_SA  |\n",
       "| 3122 | 1 | 555576153 | Flooded Grasslands &amp; Savannas | Pantanal | 59 | GS  | SA | 1074629337 | GEDI02_A_2019141083048_O02477_04_T00281_02_003_01_V002.h5 | ⋯ | -18.26160 | -2.20 | -56.02543 |  0.29 | -1.42 |  0.00000000 | 13.12564 | -0.2855068 | 3.445683 | GS_SA  |\n",
       "| 3123 | 1 | 555576153 | Flooded Grasslands &amp; Savannas | Pantanal | 59 | GS  | SA | 1074629336 | GEDI02_A_2019141083048_O02477_04_T00281_02_003_01_V002.h5 | ⋯ | -18.26119 | -2.28 | -56.02576 |  0.22 | -1.49 |  0.00000000 | 13.12828 | -0.4898082 | 3.446029 | GS_SA  |\n",
       "| 3124 | 1 | 555576153 | Flooded Grasslands &amp; Savannas | Pantanal | 59 | GS  | SA | 1074629335 | GEDI02_A_2019141083048_O02477_04_T00281_02_003_01_V002.h5 | ⋯ | -18.26078 | -2.17 | -56.02609 |  0.22 | -1.42 |  0.00000000 | 13.12846 | -0.5030023 | 3.446054 | GS_SA  |\n",
       "| 4163 | 1 | 555576153 | Flooded Grasslands &amp; Savannas | Pantanal | 39 | GS  | SA |  909087248 | GEDI02_A_2019141191934_O02484_01_T01711_02_003_01_V002.h5 | ⋯ | -18.25962 | -2.02 | -56.14023 |  0.48 | -1.23 |  0.00000000 | 13.12624 | -0.2486437 | 3.445761 | GS_SA  |\n",
       "| 4164 | 1 | 555576153 | Flooded Grasslands &amp; Savannas | Pantanal | 39 | GS  | SA |  909087253 | GEDI02_A_2019141191934_O02484_01_T01711_02_003_01_V002.h5 | ⋯ | -18.25760 | -2.13 | -56.13854 |  0.33 | -1.34 |  0.00000000 | 13.12763 | -0.3938564 | 3.445944 | GS_SA  |\n",
       "| 4165 | 1 | 555576153 | Flooded Grasslands &amp; Savannas | Pantanal | 40 | GS  | SA |  909087259 | GEDI02_A_2019141191934_O02484_01_T01711_02_003_01_V002.h5 | ⋯ | -18.25518 | -1.94 | -56.13650 |  0.33 | -1.19 |  0.00000000 | 13.12749 | -0.3706954 | 3.445926 | GS_SA  |\n",
       "| 4166 | 1 | 555576153 | Flooded Grasslands &amp; Savannas | Pantanal | 40 | GS  | SA |  909087261 | GEDI02_A_2019141191934_O02484_01_T01711_02_003_01_V002.h5 | ⋯ | -18.25438 | -2.05 | -56.13583 |  0.29 | -1.31 |  0.00000000 | 13.12795 | -0.4169275 | 3.445987 | GS_SA  |\n",
       "| ⋮ | ⋮ | ⋮ | ⋮ | ⋮ | ⋮ | ⋮ | ⋮ | ⋮ | ⋮ | ⋱ | ⋮ | ⋮ | ⋮ | ⋮ | ⋮ | ⋮ | ⋮ | ⋮ | ⋮ | ⋮ |\n",
       "| 714449 | 0 | 555576153 | Flooded Grasslands &amp; Savannas | Pantanal | 71052 | GS | SA |  -736459342 | GEDI02_A_2022343094820_O22604_01_T07403_02_003_02_V002.h5 | ⋯ | -18.45262 | -2.32 | -56.14729 | 0.22 | -1.49 |  0.00000000 | 13.12777 | -0.4535378 | 3.445962 | GS_SA |\n",
       "| 714450 | 0 | 555576153 | Flooded Grasslands &amp; Savannas | Pantanal | 71052 | GS | SA |  -736459341 | GEDI02_A_2022343094820_O22604_01_T07403_02_003_02_V002.h5 | ⋯ | -18.45221 | -2.35 | -56.14696 | 0.18 | -1.53 |  0.00000000 | 13.12789 | -0.4800426 | 3.445978 | GS_SA |\n",
       "| 714451 | 0 | 555576153 | Flooded Grasslands &amp; Savannas | Pantanal | 71052 | GS | SA |  -736459340 | GEDI02_A_2022343094820_O22604_01_T07403_02_003_02_V002.h5 | ⋯ | -18.45181 | -2.39 | -56.14662 | 0.26 | -1.53 |  0.00000000 | 13.12507 | -0.2560397 | 3.445608 | GS_SA |\n",
       "| 714452 | 0 | 555576153 | Flooded Grasslands &amp; Savannas | Pantanal | 71052 | GS | SA |  -736459338 | GEDI02_A_2022343094820_O22604_01_T07403_02_003_02_V002.h5 | ⋯ | -18.45100 | -2.24 | -56.14596 | 0.41 | -1.42 |  1.93046308 | 13.10902 |  1.3214351 | 3.443501 | GS_SA |\n",
       "| 714453 | 0 | 555576153 | Flooded Grasslands &amp; Savannas | Pantanal | 71052 | GS | SA |  -736459337 | GEDI02_A_2022343094820_O22604_01_T07403_02_003_02_V002.h5 | ⋯ | -18.45059 | -2.24 | -56.14562 | 0.18 | -1.49 |  0.00000000 | 13.12910 | -0.5658207 | 3.446137 | GS_SA |\n",
       "| 714454 | 0 | 555576153 | Flooded Grasslands &amp; Savannas | Pantanal | 70955 | GS | SA |  -736459334 | GEDI02_A_2022343094820_O22604_01_T07403_02_003_02_V002.h5 | ⋯ | -18.44938 | -2.20 | -56.14463 | 1.04 | -1.31 |  1.93459821 | 13.11029 |  1.3228496 | 3.443668 | GS_SA |\n",
       "| 714455 | 0 | 555576153 | Flooded Grasslands &amp; Savannas | Pantanal | 70955 | GS | SA |  -736459333 | GEDI02_A_2022343094820_O22604_01_T07403_02_003_02_V002.h5 | ⋯ | -18.44897 | -1.83 | -56.14429 | 4.19 | -0.59 | 14.78725529 | 13.09942 |  3.6572855 | 3.442239 | GS_SA |\n",
       "| 714456 | 0 | 555576153 | Flooded Grasslands &amp; Savannas | Pantanal | 70955 | GS | SA |  -736459332 | GEDI02_A_2022343094820_O22604_01_T07403_02_003_02_V002.h5 | ⋯ | -18.44856 | -1.64 | -56.14396 | 4.08 | -0.59 | 11.85449314 | 13.10115 |  3.2745874 | 3.442467 | GS_SA |\n",
       "| 714457 | 0 | 555576153 | Flooded Grasslands &amp; Savannas | Pantanal | 70955 | GS | SA |  -736459331 | GEDI02_A_2022343094820_O22604_01_T07403_02_003_02_V002.h5 | ⋯ | -18.44816 | -1.87 | -56.14363 | 2.09 | -0.86 |  4.93302441 | 13.10575 |  2.1123784 | 3.443071 | GS_SA |\n",
       "| 714458 | 0 | 555576153 | Flooded Grasslands &amp; Savannas | Pantanal | 70955 | GS | SA |  -736459330 | GEDI02_A_2022343094820_O22604_01_T07403_02_003_02_V002.h5 | ⋯ | -18.44775 | -1.12 | -56.14329 | 5.99 |  0.07 | 16.37988281 | 13.10129 |  3.8492000 | 3.442486 | GS_SA |\n",
       "| 714459 | 0 | 555576153 | Flooded Grasslands &amp; Savannas | Pantanal | 70955 | GS | SA |  -736459329 | GEDI02_A_2022343094820_O22604_01_T07403_02_003_02_V002.h5 | ⋯ | -18.44735 | -1.75 | -56.14296 | 1.01 | -0.97 | 12.03252125 | 13.10006 |  3.2990842 | 3.442324 | GS_SA |\n",
       "| 714460 | 0 | 555576153 | Flooded Grasslands &amp; Savannas | Pantanal | 70955 | GS | SA |  -736459328 | GEDI02_A_2022343094820_O22604_01_T07403_02_003_02_V002.h5 | ⋯ | -18.44694 | -2.13 | -56.14263 | 0.48 | -1.38 |  1.26032829 | 13.11135 |  1.0677189 | 3.443806 | GS_SA |\n",
       "| 714461 | 0 | 555576153 | Flooded Grasslands &amp; Savannas | Pantanal | 70955 | GS | SA |  -736459327 | GEDI02_A_2022343094820_O22604_01_T07403_02_003_02_V002.h5 | ⋯ | -18.44654 | -2.28 | -56.14229 | 0.29 | -1.49 |  0.00000000 | 13.12433 | -0.1869154 | 3.445512 | GS_SA |\n",
       "| 714462 | 0 | 555576153 | Flooded Grasslands &amp; Savannas | Pantanal | 70955 | GS | SA |  -736459325 | GEDI02_A_2022343094820_O22604_01_T07403_02_003_02_V002.h5 | ⋯ | -18.44573 | -2.28 | -56.14163 | 0.71 | -1.38 |  0.12923239 | 13.11952 |  0.3419013 | 3.444879 | GS_SA |\n",
       "| 714463 | 0 | 555576153 | Flooded Grasslands &amp; Savannas | Pantanal | 70955 | GS | SA |  -736459324 | GEDI02_A_2022343094820_O22604_01_T07403_02_003_02_V002.h5 | ⋯ | -18.44532 | -2.02 | -56.14130 | 1.53 | -1.12 |  6.85458803 | 13.10280 |  2.4900367 | 3.442684 | GS_SA |\n",
       "| 714464 | 0 | 555576153 | Flooded Grasslands &amp; Savannas | Pantanal | 70955 | GS | SA |  -736459322 | GEDI02_A_2022343094820_O22604_01_T07403_02_003_02_V002.h5 | ⋯ | -18.44451 | -1.87 | -56.14063 | 3.89 | -0.63 | 10.68128681 | 13.10262 |  3.1083281 | 3.442661 | GS_SA |\n",
       "| 714465 | 0 | 555576153 | Flooded Grasslands &amp; Savannas | Pantanal | 70955 | GS | SA |  -736459321 | GEDI02_A_2022343094820_O22604_01_T07403_02_003_02_V002.h5 | ⋯ | -18.44411 | -1.94 | -56.14030 | 2.17 | -0.89 | 10.93070221 | 13.10017 |  3.1444097 | 3.442338 | GS_SA |\n",
       "| 714466 | 0 | 555576153 | Flooded Grasslands &amp; Savannas | Pantanal | 70955 | GS | SA |  -736459320 | GEDI02_A_2022343094820_O22604_01_T07403_02_003_02_V002.h5 | ⋯ | -18.44370 | -2.28 | -56.13996 | 0.41 | -1.46 |  0.12819064 | 13.11845 |  0.3405205 | 3.444739 | GS_SA |\n",
       "| 714467 | 0 | 555576153 | Flooded Grasslands &amp; Savannas | Pantanal | 70955 | GS | SA |  -736459319 | GEDI02_A_2022343094820_O22604_01_T07403_02_003_02_V002.h5 | ⋯ | -18.44330 | -2.17 | -56.13963 | 0.22 | -1.42 |  0.00000000 | 13.12658 | -0.3678848 | 3.445807 | GS_SA |\n",
       "| 714468 | 0 | 555576153 | Flooded Grasslands &amp; Savannas | Pantanal | 70955 | GS | SA |  -736459318 | GEDI02_A_2022343094820_O22604_01_T07403_02_003_02_V002.h5 | ⋯ | -18.44290 | -2.24 | -56.13930 | 0.18 | -1.46 |  0.00000000 | 13.12884 | -0.5293981 | 3.446103 | GS_SA |\n",
       "| 714469 | 0 | 555576153 | Flooded Grasslands &amp; Savannas | Pantanal | 70955 | GS | SA |  -736459317 | GEDI02_A_2022343094820_O22604_01_T07403_02_003_02_V002.h5 | ⋯ | -18.44249 | -1.79 | -56.13896 | 6.28 | -0.22 | 25.55006218 | 13.09663 |  4.8074088 | 3.441873 | GS_SA |\n",
       "| 714472 | 0 | 555576153 | Flooded Grasslands &amp; Savannas | Pantanal | 70859 | NA | SA |  -736459308 | GEDI02_A_2022343094820_O22604_01_T07403_02_003_02_V002.h5 | ⋯ | -18.43885 | -2.17 | -56.13596 | 0.18 | -1.42 |  0.00000000 | 13.12982 | -0.6153575 | 3.446231 | NA_SA |\n",
       "| 714473 | 0 | 555576153 | Flooded Grasslands &amp; Savannas | Pantanal | 70859 | NA | SA |  -736459305 | GEDI02_A_2022343094820_O22604_01_T07403_02_003_02_V002.h5 | ⋯ | -18.43764 | -2.05 | -56.13496 | 2.62 | -1.01 |  7.90432024 | 13.10237 |  2.6739135 | 3.442627 | NA_SA |\n",
       "| 714474 | 0 | 555576153 | Flooded Grasslands &amp; Savannas | Pantanal | 70859 | NA | SA |  -736459303 | GEDI02_A_2022343094820_O22604_01_T07403_02_003_02_V002.h5 | ⋯ | -18.43683 | -2.13 | -56.13430 | 0.82 | -1.27 |  2.11292267 | 13.10932 |  1.3824737 | 3.443541 | NA_SA |\n",
       "| 714475 | 0 | 555576153 | Flooded Grasslands &amp; Savannas | Pantanal | 70859 | NA | SA |  -736459298 | GEDI02_A_2022343094820_O22604_01_T07403_02_003_02_V002.h5 | ⋯ | -18.43480 | -1.49 | -56.13263 | 4.30 | -0.44 | 16.42945480 | 13.09834 |  3.8550203 | 3.442098 | NA_SA |\n",
       "| 714476 | 0 | 555576153 | Flooded Grasslands &amp; Savannas | Pantanal | 70859 | NA | SA |  -736459296 | GEDI02_A_2022343094820_O22604_01_T07403_02_003_02_V002.h5 | ⋯ | -18.43399 | -2.20 | -56.13196 | 3.51 | -0.97 | 10.30300331 | 13.10152 |  3.0527904 | 3.442516 | NA_SA |\n",
       "| 720203 | 1 | 555576153 | Flooded Grasslands &amp; Savannas | Pantanal |     6 | GS | SA |  1402222149 | GEDI02_A_2023035111433_O23489_01_T02981_02_003_02_V002.h5 | ⋯ | -18.22171 | -2.39 | -56.14036 | 0.14 | -1.57 |  0.00000000 | 13.12889 | -0.5692382 | 3.446110 | GS_SA |\n",
       "| 720204 | 1 | 555576153 | Flooded Grasslands &amp; Savannas | Pantanal |     6 | GS | SA |  1402222150 | GEDI02_A_2023035111433_O23489_01_T02981_02_003_02_V002.h5 | ⋯ | -18.22130 | -2.46 | -56.14003 | 0.29 | -1.53 |  0.00000000 | 13.12699 | -0.3842414 | 3.445860 | GS_SA |\n",
       "| 720207 | 1 | 555576153 | Flooded Grasslands &amp; Savannas | Pantanal |     7 | GS | SA | -1676898459 | GEDI02_A_2023035111433_O23489_01_T02981_02_003_02_V002.h5 | ⋯ | -18.22316 | -2.65 | -56.13429 | 0.56 | -1.60 |  0.01561047 | 13.12144 |  0.1188292 | 3.445132 | GS_SA |\n",
       "| 720236 | 1 | 555576153 | Flooded Grasslands &amp; Savannas | Pantanal |    15 | GS | SA |   106800575 | GEDI02_A_2023035111433_O23489_01_T02981_02_003_02_V002.h5 | ⋯ | -18.23068 | -1.60 | -56.12310 | 0.26 | -1.04 |  0.00000000 | 13.13102 | -0.6282279 | 3.446389 | GS_SA |\n",
       "\n"
      ],
      "text/plain": [
       "     ID     status pa_id     wwfbiom                       wwfecoreg UID   pft\n",
       "1    2452   1      555576153 Flooded Grasslands & Savannas Pantanal  60    DBT\n",
       "2    2453   1      555576153 Flooded Grasslands & Savannas Pantanal  60    DBT\n",
       "3    2454   1      555576153 Flooded Grasslands & Savannas Pantanal  60    DBT\n",
       "4    2455   1      555576153 Flooded Grasslands & Savannas Pantanal  60    DBT\n",
       "5    2456   1      555576153 Flooded Grasslands & Savannas Pantanal  60    DBT\n",
       "6    2457   1      555576153 Flooded Grasslands & Savannas Pantanal  60    DBT\n",
       "7    2458   1      555576153 Flooded Grasslands & Savannas Pantanal  60    DBT\n",
       "8    2459   1      555576153 Flooded Grasslands & Savannas Pantanal  60    DBT\n",
       "9    2460   1      555576153 Flooded Grasslands & Savannas Pantanal  60    DBT\n",
       "10   3108   1      555576153 Flooded Grasslands & Savannas Pantanal  60    DBT\n",
       "11   3109   1      555576153 Flooded Grasslands & Savannas Pantanal  60    DBT\n",
       "12   3110   1      555576153 Flooded Grasslands & Savannas Pantanal  60    DBT\n",
       "13   3111   1      555576153 Flooded Grasslands & Savannas Pantanal  60    DBT\n",
       "14   3112   1      555576153 Flooded Grasslands & Savannas Pantanal  60    DBT\n",
       "15   3113   1      555576153 Flooded Grasslands & Savannas Pantanal  60    DBT\n",
       "16   3114   1      555576153 Flooded Grasslands & Savannas Pantanal  60    DBT\n",
       "17   3115   1      555576153 Flooded Grasslands & Savannas Pantanal  60    DBT\n",
       "18   3116   1      555576153 Flooded Grasslands & Savannas Pantanal  60    DBT\n",
       "19   3117   1      555576153 Flooded Grasslands & Savannas Pantanal  60    DBT\n",
       "20   3118   1      555576153 Flooded Grasslands & Savannas Pantanal  59    GS \n",
       "21   3119   1      555576153 Flooded Grasslands & Savannas Pantanal  59    GS \n",
       "22   3120   1      555576153 Flooded Grasslands & Savannas Pantanal  59    GS \n",
       "23   3121   1      555576153 Flooded Grasslands & Savannas Pantanal  59    GS \n",
       "24   3122   1      555576153 Flooded Grasslands & Savannas Pantanal  59    GS \n",
       "25   3123   1      555576153 Flooded Grasslands & Savannas Pantanal  59    GS \n",
       "26   3124   1      555576153 Flooded Grasslands & Savannas Pantanal  59    GS \n",
       "27   4163   1      555576153 Flooded Grasslands & Savannas Pantanal  39    GS \n",
       "28   4164   1      555576153 Flooded Grasslands & Savannas Pantanal  39    GS \n",
       "29   4165   1      555576153 Flooded Grasslands & Savannas Pantanal  40    GS \n",
       "30   4166   1      555576153 Flooded Grasslands & Savannas Pantanal  40    GS \n",
       "⋮    ⋮      ⋮      ⋮         ⋮                             ⋮         ⋮     ⋮  \n",
       "7044 714449 0      555576153 Flooded Grasslands & Savannas Pantanal  71052 GS \n",
       "7045 714450 0      555576153 Flooded Grasslands & Savannas Pantanal  71052 GS \n",
       "7046 714451 0      555576153 Flooded Grasslands & Savannas Pantanal  71052 GS \n",
       "7047 714452 0      555576153 Flooded Grasslands & Savannas Pantanal  71052 GS \n",
       "7048 714453 0      555576153 Flooded Grasslands & Savannas Pantanal  71052 GS \n",
       "7049 714454 0      555576153 Flooded Grasslands & Savannas Pantanal  70955 GS \n",
       "7050 714455 0      555576153 Flooded Grasslands & Savannas Pantanal  70955 GS \n",
       "7051 714456 0      555576153 Flooded Grasslands & Savannas Pantanal  70955 GS \n",
       "7052 714457 0      555576153 Flooded Grasslands & Savannas Pantanal  70955 GS \n",
       "7053 714458 0      555576153 Flooded Grasslands & Savannas Pantanal  70955 GS \n",
       "7054 714459 0      555576153 Flooded Grasslands & Savannas Pantanal  70955 GS \n",
       "7055 714460 0      555576153 Flooded Grasslands & Savannas Pantanal  70955 GS \n",
       "7056 714461 0      555576153 Flooded Grasslands & Savannas Pantanal  70955 GS \n",
       "7057 714462 0      555576153 Flooded Grasslands & Savannas Pantanal  70955 GS \n",
       "7058 714463 0      555576153 Flooded Grasslands & Savannas Pantanal  70955 GS \n",
       "7059 714464 0      555576153 Flooded Grasslands & Savannas Pantanal  70955 GS \n",
       "7060 714465 0      555576153 Flooded Grasslands & Savannas Pantanal  70955 GS \n",
       "7061 714466 0      555576153 Flooded Grasslands & Savannas Pantanal  70955 GS \n",
       "7062 714467 0      555576153 Flooded Grasslands & Savannas Pantanal  70955 GS \n",
       "7063 714468 0      555576153 Flooded Grasslands & Savannas Pantanal  70955 GS \n",
       "7064 714469 0      555576153 Flooded Grasslands & Savannas Pantanal  70955 GS \n",
       "7065 714472 0      555576153 Flooded Grasslands & Savannas Pantanal  70859 NA \n",
       "7066 714473 0      555576153 Flooded Grasslands & Savannas Pantanal  70859 NA \n",
       "7067 714474 0      555576153 Flooded Grasslands & Savannas Pantanal  70859 NA \n",
       "7068 714475 0      555576153 Flooded Grasslands & Savannas Pantanal  70859 NA \n",
       "7069 714476 0      555576153 Flooded Grasslands & Savannas Pantanal  70859 NA \n",
       "7070 720203 1      555576153 Flooded Grasslands & Savannas Pantanal      6 GS \n",
       "7071 720204 1      555576153 Flooded Grasslands & Savannas Pantanal      6 GS \n",
       "7072 720207 1      555576153 Flooded Grasslands & Savannas Pantanal      7 GS \n",
       "7073 720236 1      555576153 Flooded Grasslands & Savannas Pantanal     15 GS \n",
       "     region shot_number\n",
       "1    SA     1722349412 \n",
       "2    SA     1722349411 \n",
       "3    SA     1722349409 \n",
       "4    SA     1722349406 \n",
       "5    SA     1722349404 \n",
       "6    SA     1722349399 \n",
       "7    SA     1722349398 \n",
       "8    SA     1722349397 \n",
       "9    SA     1722349396 \n",
       "10   SA     1074629352 \n",
       "11   SA     1074629351 \n",
       "12   SA     1074629350 \n",
       "13   SA     1074629349 \n",
       "14   SA     1074629348 \n",
       "15   SA     1074629347 \n",
       "16   SA     1074629346 \n",
       "17   SA     1074629345 \n",
       "18   SA     1074629344 \n",
       "19   SA     1074629342 \n",
       "20   SA     1074629341 \n",
       "21   SA     1074629340 \n",
       "22   SA     1074629339 \n",
       "23   SA     1074629338 \n",
       "24   SA     1074629337 \n",
       "25   SA     1074629336 \n",
       "26   SA     1074629335 \n",
       "27   SA      909087248 \n",
       "28   SA      909087253 \n",
       "29   SA      909087259 \n",
       "30   SA      909087261 \n",
       "⋮    ⋮      ⋮          \n",
       "7044 SA      -736459342\n",
       "7045 SA      -736459341\n",
       "7046 SA      -736459340\n",
       "7047 SA      -736459338\n",
       "7048 SA      -736459337\n",
       "7049 SA      -736459334\n",
       "7050 SA      -736459333\n",
       "7051 SA      -736459332\n",
       "7052 SA      -736459331\n",
       "7053 SA      -736459330\n",
       "7054 SA      -736459329\n",
       "7055 SA      -736459328\n",
       "7056 SA      -736459327\n",
       "7057 SA      -736459325\n",
       "7058 SA      -736459324\n",
       "7059 SA      -736459322\n",
       "7060 SA      -736459321\n",
       "7061 SA      -736459320\n",
       "7062 SA      -736459319\n",
       "7063 SA      -736459318\n",
       "7064 SA      -736459317\n",
       "7065 SA      -736459308\n",
       "7066 SA      -736459305\n",
       "7067 SA      -736459303\n",
       "7068 SA      -736459298\n",
       "7069 SA      -736459296\n",
       "7070 SA      1402222149\n",
       "7071 SA      1402222150\n",
       "7072 SA     -1676898459\n",
       "7073 SA       106800575\n",
       "     filename                                                  ⋯ lat_lowestmode\n",
       "1    GEDI02_A_2019141083048_O02477_04_T00281_02_003_01_V002.h5 ⋯ -18.26763     \n",
       "2    GEDI02_A_2019141083048_O02477_04_T00281_02_003_01_V002.h5 ⋯ -18.26722     \n",
       "3    GEDI02_A_2019141083048_O02477_04_T00281_02_003_01_V002.h5 ⋯ -18.26640     \n",
       "4    GEDI02_A_2019141083048_O02477_04_T00281_02_003_01_V002.h5 ⋯ -18.26518     \n",
       "5    GEDI02_A_2019141083048_O02477_04_T00281_02_003_01_V002.h5 ⋯ -18.26436     \n",
       "6    GEDI02_A_2019141083048_O02477_04_T00281_02_003_01_V002.h5 ⋯ -18.26232     \n",
       "7    GEDI02_A_2019141083048_O02477_04_T00281_02_003_01_V002.h5 ⋯ -18.26192     \n",
       "8    GEDI02_A_2019141083048_O02477_04_T00281_02_003_01_V002.h5 ⋯ -18.26151     \n",
       "9    GEDI02_A_2019141083048_O02477_04_T00281_02_003_01_V002.h5 ⋯ -18.26110     \n",
       "10   GEDI02_A_2019141083048_O02477_04_T00281_02_003_01_V002.h5 ⋯ -18.26893     \n",
       "11   GEDI02_A_2019141083048_O02477_04_T00281_02_003_01_V002.h5 ⋯ -18.26852     \n",
       "12   GEDI02_A_2019141083048_O02477_04_T00281_02_003_01_V002.h5 ⋯ -18.26730     \n",
       "13   GEDI02_A_2019141083048_O02477_04_T00281_02_003_01_V002.h5 ⋯ -18.26689     \n",
       "14   GEDI02_A_2019141083048_O02477_04_T00281_02_003_01_V002.h5 ⋯ -18.26649     \n",
       "15   GEDI02_A_2019141083048_O02477_04_T00281_02_003_01_V002.h5 ⋯ -18.26608     \n",
       "16   GEDI02_A_2019141083048_O02477_04_T00281_02_003_01_V002.h5 ⋯ -18.26567     \n",
       "17   GEDI02_A_2019141083048_O02477_04_T00281_02_003_01_V002.h5 ⋯ -18.26526     \n",
       "18   GEDI02_A_2019141083048_O02477_04_T00281_02_003_01_V002.h5 ⋯ -18.26486     \n",
       "19   GEDI02_A_2019141083048_O02477_04_T00281_02_003_01_V002.h5 ⋯ -18.26404     \n",
       "20   GEDI02_A_2019141083048_O02477_04_T00281_02_003_01_V002.h5 ⋯ -18.26323     \n",
       "21   GEDI02_A_2019141083048_O02477_04_T00281_02_003_01_V002.h5 ⋯ -18.26282     \n",
       "22   GEDI02_A_2019141083048_O02477_04_T00281_02_003_01_V002.h5 ⋯ -18.26241     \n",
       "23   GEDI02_A_2019141083048_O02477_04_T00281_02_003_01_V002.h5 ⋯ -18.26200     \n",
       "24   GEDI02_A_2019141083048_O02477_04_T00281_02_003_01_V002.h5 ⋯ -18.26160     \n",
       "25   GEDI02_A_2019141083048_O02477_04_T00281_02_003_01_V002.h5 ⋯ -18.26119     \n",
       "26   GEDI02_A_2019141083048_O02477_04_T00281_02_003_01_V002.h5 ⋯ -18.26078     \n",
       "27   GEDI02_A_2019141191934_O02484_01_T01711_02_003_01_V002.h5 ⋯ -18.25962     \n",
       "28   GEDI02_A_2019141191934_O02484_01_T01711_02_003_01_V002.h5 ⋯ -18.25760     \n",
       "29   GEDI02_A_2019141191934_O02484_01_T01711_02_003_01_V002.h5 ⋯ -18.25518     \n",
       "30   GEDI02_A_2019141191934_O02484_01_T01711_02_003_01_V002.h5 ⋯ -18.25438     \n",
       "⋮    ⋮                                                         ⋱ ⋮             \n",
       "7044 GEDI02_A_2022343094820_O22604_01_T07403_02_003_02_V002.h5 ⋯ -18.45262     \n",
       "7045 GEDI02_A_2022343094820_O22604_01_T07403_02_003_02_V002.h5 ⋯ -18.45221     \n",
       "7046 GEDI02_A_2022343094820_O22604_01_T07403_02_003_02_V002.h5 ⋯ -18.45181     \n",
       "7047 GEDI02_A_2022343094820_O22604_01_T07403_02_003_02_V002.h5 ⋯ -18.45100     \n",
       "7048 GEDI02_A_2022343094820_O22604_01_T07403_02_003_02_V002.h5 ⋯ -18.45059     \n",
       "7049 GEDI02_A_2022343094820_O22604_01_T07403_02_003_02_V002.h5 ⋯ -18.44938     \n",
       "7050 GEDI02_A_2022343094820_O22604_01_T07403_02_003_02_V002.h5 ⋯ -18.44897     \n",
       "7051 GEDI02_A_2022343094820_O22604_01_T07403_02_003_02_V002.h5 ⋯ -18.44856     \n",
       "7052 GEDI02_A_2022343094820_O22604_01_T07403_02_003_02_V002.h5 ⋯ -18.44816     \n",
       "7053 GEDI02_A_2022343094820_O22604_01_T07403_02_003_02_V002.h5 ⋯ -18.44775     \n",
       "7054 GEDI02_A_2022343094820_O22604_01_T07403_02_003_02_V002.h5 ⋯ -18.44735     \n",
       "7055 GEDI02_A_2022343094820_O22604_01_T07403_02_003_02_V002.h5 ⋯ -18.44694     \n",
       "7056 GEDI02_A_2022343094820_O22604_01_T07403_02_003_02_V002.h5 ⋯ -18.44654     \n",
       "7057 GEDI02_A_2022343094820_O22604_01_T07403_02_003_02_V002.h5 ⋯ -18.44573     \n",
       "7058 GEDI02_A_2022343094820_O22604_01_T07403_02_003_02_V002.h5 ⋯ -18.44532     \n",
       "7059 GEDI02_A_2022343094820_O22604_01_T07403_02_003_02_V002.h5 ⋯ -18.44451     \n",
       "7060 GEDI02_A_2022343094820_O22604_01_T07403_02_003_02_V002.h5 ⋯ -18.44411     \n",
       "7061 GEDI02_A_2022343094820_O22604_01_T07403_02_003_02_V002.h5 ⋯ -18.44370     \n",
       "7062 GEDI02_A_2022343094820_O22604_01_T07403_02_003_02_V002.h5 ⋯ -18.44330     \n",
       "7063 GEDI02_A_2022343094820_O22604_01_T07403_02_003_02_V002.h5 ⋯ -18.44290     \n",
       "7064 GEDI02_A_2022343094820_O22604_01_T07403_02_003_02_V002.h5 ⋯ -18.44249     \n",
       "7065 GEDI02_A_2022343094820_O22604_01_T07403_02_003_02_V002.h5 ⋯ -18.43885     \n",
       "7066 GEDI02_A_2022343094820_O22604_01_T07403_02_003_02_V002.h5 ⋯ -18.43764     \n",
       "7067 GEDI02_A_2022343094820_O22604_01_T07403_02_003_02_V002.h5 ⋯ -18.43683     \n",
       "7068 GEDI02_A_2022343094820_O22604_01_T07403_02_003_02_V002.h5 ⋯ -18.43480     \n",
       "7069 GEDI02_A_2022343094820_O22604_01_T07403_02_003_02_V002.h5 ⋯ -18.43399     \n",
       "7070 GEDI02_A_2023035111433_O23489_01_T02981_02_003_02_V002.h5 ⋯ -18.22171     \n",
       "7071 GEDI02_A_2023035111433_O23489_01_T02981_02_003_02_V002.h5 ⋯ -18.22130     \n",
       "7072 GEDI02_A_2023035111433_O23489_01_T02981_02_003_02_V002.h5 ⋯ -18.22316     \n",
       "7073 GEDI02_A_2023035111433_O23489_01_T02981_02_003_02_V002.h5 ⋯ -18.23068     \n",
       "     rh10  lon_lowestmode rh60  rh20  agbd        agbd_se  agbd_t     agbd_t_se\n",
       "1    -1.46 -56.01351       3.33 -0.56  5.79434776 13.10631  2.2893772 3.443145 \n",
       "2    -2.35 -56.01384       0.22 -1.53  0.00000000 13.12777 -0.4535378 3.445962 \n",
       "3    -2.09 -56.01451       0.26 -1.38  0.00000000 13.12819 -0.4699277 3.446018 \n",
       "4    -1.68 -56.01552       4.45 -0.33  8.69748020 13.10720  2.8048639 3.443262 \n",
       "5    -2.09 -56.01619       0.18 -1.38  0.00000000 13.12955 -0.5789179 3.446197 \n",
       "6    -2.32 -56.01785       0.41 -1.49  0.00000000 13.12428 -0.1471569 3.445504 \n",
       "7    -2.47 -56.01819       0.18 -1.61  0.00000000 13.12745 -0.4669918 3.445921 \n",
       "8    -2.62 -56.01852       0.22 -1.72  0.00000000 13.12536 -0.2956575 3.445647 \n",
       "9    -2.28 -56.01885       0.22 -1.49  0.00000000 13.12745 -0.4304667 3.445920 \n",
       "10   -1.90 -56.01947       3.40 -0.78 12.94494343 13.09954  3.4218831 3.442255 \n",
       "11   -0.22 -56.01980      10.78  2.58 49.56725693 13.09650  6.6959548 3.441855 \n",
       "12   -1.64 -56.02080       5.16 -0.52 14.14614677 13.10016  3.5771253 3.442337 \n",
       "13   -1.46 -56.02113       4.34 -0.22  8.40072250 13.10750  2.7565978 3.443302 \n",
       "14   -1.53 -56.02146       5.35 -0.33 16.24703979 13.10054  3.8335595 3.442388 \n",
       "15   -2.88 -56.02180       0.14 -1.87  0.00000000 13.12555 -0.3453220 3.445672 \n",
       "16   -2.39 -56.02213       0.41 -1.49  0.15915917 13.11787  0.3794293 3.444663 \n",
       "17   -2.95 -56.02246       1.94 -1.61  2.99869514 13.10930  1.6469531 3.443538 \n",
       "18   -2.28 -56.02279       0.26 -1.49  0.00000000 13.12713 -0.3941228 3.445878 \n",
       "19   -2.47 -56.02345       0.33 -1.57  0.01289632 13.12063  0.1080060 3.445025 \n",
       "20   -2.28 -56.02411       0.29 -1.49  0.00000000 13.12504 -0.2228801 3.445605 \n",
       "21   -2.28 -56.02444       0.22 -1.49  0.00000000 13.12777 -0.4535378 3.445962 \n",
       "22   -2.32 -56.02477       0.18 -1.53  0.00000000 13.12877 -0.5427159 3.446094 \n",
       "23   -2.32 -56.02510       0.22 -1.53  0.00000000 13.12807 -0.4932322 3.446002 \n",
       "24   -2.20 -56.02543       0.29 -1.42  0.00000000 13.12564 -0.2855068 3.445683 \n",
       "25   -2.28 -56.02576       0.22 -1.49  0.00000000 13.12828 -0.4898082 3.446029 \n",
       "26   -2.17 -56.02609       0.22 -1.42  0.00000000 13.12846 -0.5030023 3.446054 \n",
       "27   -2.02 -56.14023       0.48 -1.23  0.00000000 13.12624 -0.2486437 3.445761 \n",
       "28   -2.13 -56.13854       0.33 -1.34  0.00000000 13.12763 -0.3938564 3.445944 \n",
       "29   -1.94 -56.13650       0.33 -1.19  0.00000000 13.12749 -0.3706954 3.445926 \n",
       "30   -2.05 -56.13583       0.29 -1.31  0.00000000 13.12795 -0.4169275 3.445987 \n",
       "⋮    ⋮     ⋮              ⋮     ⋮     ⋮           ⋮        ⋮          ⋮        \n",
       "7044 -2.32 -56.14729      0.22  -1.49  0.00000000 13.12777 -0.4535378 3.445962 \n",
       "7045 -2.35 -56.14696      0.18  -1.53  0.00000000 13.12789 -0.4800426 3.445978 \n",
       "7046 -2.39 -56.14662      0.26  -1.53  0.00000000 13.12507 -0.2560397 3.445608 \n",
       "7047 -2.24 -56.14596      0.41  -1.42  1.93046308 13.10902  1.3214351 3.443501 \n",
       "7048 -2.24 -56.14562      0.18  -1.49  0.00000000 13.12910 -0.5658207 3.446137 \n",
       "7049 -2.20 -56.14463      1.04  -1.31  1.93459821 13.11029  1.3228496 3.443668 \n",
       "7050 -1.83 -56.14429      4.19  -0.59 14.78725529 13.09942  3.6572855 3.442239 \n",
       "7051 -1.64 -56.14396      4.08  -0.59 11.85449314 13.10115  3.2745874 3.442467 \n",
       "7052 -1.87 -56.14363      2.09  -0.86  4.93302441 13.10575  2.1123784 3.443071 \n",
       "7053 -1.12 -56.14329      5.99   0.07 16.37988281 13.10129  3.8492000 3.442486 \n",
       "7054 -1.75 -56.14296      1.01  -0.97 12.03252125 13.10006  3.2990842 3.442324 \n",
       "7055 -2.13 -56.14263      0.48  -1.38  1.26032829 13.11135  1.0677189 3.443806 \n",
       "7056 -2.28 -56.14229      0.29  -1.49  0.00000000 13.12433 -0.1869154 3.445512 \n",
       "7057 -2.28 -56.14163      0.71  -1.38  0.12923239 13.11952  0.3419013 3.444879 \n",
       "7058 -2.02 -56.14130      1.53  -1.12  6.85458803 13.10280  2.4900367 3.442684 \n",
       "7059 -1.87 -56.14063      3.89  -0.63 10.68128681 13.10262  3.1083281 3.442661 \n",
       "7060 -1.94 -56.14030      2.17  -0.89 10.93070221 13.10017  3.1444097 3.442338 \n",
       "7061 -2.28 -56.13996      0.41  -1.46  0.12819064 13.11845  0.3405205 3.444739 \n",
       "7062 -2.17 -56.13963      0.22  -1.42  0.00000000 13.12658 -0.3678848 3.445807 \n",
       "7063 -2.24 -56.13930      0.18  -1.46  0.00000000 13.12884 -0.5293981 3.446103 \n",
       "7064 -1.79 -56.13896      6.28  -0.22 25.55006218 13.09663  4.8074088 3.441873 \n",
       "7065 -2.17 -56.13596      0.18  -1.42  0.00000000 13.12982 -0.6153575 3.446231 \n",
       "7066 -2.05 -56.13496      2.62  -1.01  7.90432024 13.10237  2.6739135 3.442627 \n",
       "7067 -2.13 -56.13430      0.82  -1.27  2.11292267 13.10932  1.3824737 3.443541 \n",
       "7068 -1.49 -56.13263      4.30  -0.44 16.42945480 13.09834  3.8550203 3.442098 \n",
       "7069 -2.20 -56.13196      3.51  -0.97 10.30300331 13.10152  3.0527904 3.442516 \n",
       "7070 -2.39 -56.14036      0.14  -1.57  0.00000000 13.12889 -0.5692382 3.446110 \n",
       "7071 -2.46 -56.14003      0.29  -1.53  0.00000000 13.12699 -0.3842414 3.445860 \n",
       "7072 -2.65 -56.13429      0.56  -1.60  0.01561047 13.12144  0.1188292 3.445132 \n",
       "7073 -1.60 -56.12310      0.26  -1.04  0.00000000 13.13102 -0.6282279 3.446389 \n",
       "     stratum\n",
       "1    DBT_SA \n",
       "2    DBT_SA \n",
       "3    DBT_SA \n",
       "4    DBT_SA \n",
       "5    DBT_SA \n",
       "6    DBT_SA \n",
       "7    DBT_SA \n",
       "8    DBT_SA \n",
       "9    DBT_SA \n",
       "10   DBT_SA \n",
       "11   DBT_SA \n",
       "12   DBT_SA \n",
       "13   DBT_SA \n",
       "14   DBT_SA \n",
       "15   DBT_SA \n",
       "16   DBT_SA \n",
       "17   DBT_SA \n",
       "18   DBT_SA \n",
       "19   DBT_SA \n",
       "20   GS_SA  \n",
       "21   GS_SA  \n",
       "22   GS_SA  \n",
       "23   GS_SA  \n",
       "24   GS_SA  \n",
       "25   GS_SA  \n",
       "26   GS_SA  \n",
       "27   GS_SA  \n",
       "28   GS_SA  \n",
       "29   GS_SA  \n",
       "30   GS_SA  \n",
       "⋮    ⋮      \n",
       "7044 GS_SA  \n",
       "7045 GS_SA  \n",
       "7046 GS_SA  \n",
       "7047 GS_SA  \n",
       "7048 GS_SA  \n",
       "7049 GS_SA  \n",
       "7050 GS_SA  \n",
       "7051 GS_SA  \n",
       "7052 GS_SA  \n",
       "7053 GS_SA  \n",
       "7054 GS_SA  \n",
       "7055 GS_SA  \n",
       "7056 GS_SA  \n",
       "7057 GS_SA  \n",
       "7058 GS_SA  \n",
       "7059 GS_SA  \n",
       "7060 GS_SA  \n",
       "7061 GS_SA  \n",
       "7062 GS_SA  \n",
       "7063 GS_SA  \n",
       "7064 GS_SA  \n",
       "7065 NA_SA  \n",
       "7066 NA_SA  \n",
       "7067 NA_SA  \n",
       "7068 NA_SA  \n",
       "7069 NA_SA  \n",
       "7070 GS_SA  \n",
       "7071 GS_SA  \n",
       "7072 GS_SA  \n",
       "7073 GS_SA  "
      ]
     },
     "metadata": {},
     "output_type": "display_data"
    }
   ],
   "source": [
    "iso_matched_gedi_df"
   ]
  },
  {
   "cell_type": "code",
   "execution_count": 48,
   "id": "94251855-eaa3-4110-bc94-58dd25bfbe24",
   "metadata": {},
   "outputs": [
    {
     "name": "stdout",
     "output_type": "stream",
     "text": [
      "Bpp converting the matched csv to a raster stack for extraction\n",
      "\n",
      " 0  1 \n",
      "34 34 \n"
     ]
    },
    {
     "name": "stderr",
     "output_type": "stream",
     "text": [
      "\u001b[36mℹ\u001b[39m \u001b[34m\u001b[34ms3://maap-ops-workspace/shared/leitoldv/GEDI_global_PA_v2/vero_1deg_tileindex/tileindex_Bpp.csv\u001b[34m\u001b[39m already exists at \u001b[34m\u001b[34m/projects/.local/share/R/s3/maap-ops-workspace/shared/leitoldv/GEDI_global_PA_v2/vero_1deg_tileindex/tileindex_Bpp.csv\u001b[34m\u001b[39m\n",
      "\n"
     ]
    }
   ],
   "source": [
    "#f.path <- \"/projects/my-public-bucket/GEDI_global_PA_v2/\"\n",
    "f.path <- \"s3://maap-ops-workspace/shared/leitoldv/GEDI_global_PA_v2/\"\n",
    "\n",
    "this_rds <- matched_PAs[2]\n",
    "id_pa <- basename(this_rds) %>% readr::parse_number() %>% unique()\n",
    "    \n",
    "    #matched <- readRDS(paste(f.path,\"WDPA_matching_results/\",iso3,\"_wk\",gediwk,\"/\",iso3,\"_pa_\",id_pa,\"_matching_results_wk\",gediwk,\".RDS\",sep=\"\"))\n",
    "    matched <- readRDS(s3_get(paste(f.path,\"WDPA_matching_results/\",iso3,\"_wk\",gediwk,\"/\",iso3,\"_pa_\",id_pa,\"_matching_results_wk\",gediwk,\".RDS\",sep=\"\")))\n",
    "  \n",
    "    if (is.null(matched)==TRUE  | nrow(matched)==0) {\n",
    "        cat(\"Matched result is null for PA\", id_pa, \"quitting...\\n\")\n",
    "        next  # Skip to the next iteration\n",
    "    } else if (!is.null(matched)==TRUE){\n",
    "    mras  <- tryCatch(matched2ras(matched),\n",
    "                      error=function(cond){\n",
    "                        message(cond)\n",
    "                        cat(\"Matched result is likely null for country\", iso3,\"pa\", id_pa, \"dimension of the match is\", dim(matched),\"\\n\")\n",
    "                        # writeLines(\"Matched results is likely null for country\", paste(f.path,\"WDPA_log/\",iso3,\"_log_matching.txt\", sep=\"\"))\n",
    "                        return(NULL)}) #convert the macthed df to a raster stack \n",
    "    print(table(mras$status[]))\n",
    "    if(table(mras$status[])[2]==0 | table(mras$status[])[1]==0 | is.null(mras)){\n",
    "      cat(\"Rasterized results unbalanced for PA\", id_pa, \"quitting...\\n\")\n",
    "      next  # Skip to the next iteration\n",
    "    } else {\n",
    "        \n",
    "      startTime <- Sys.time()\n",
    "        \n",
    "      iso_matched_gedi <- extract_gedi(matched=matched, mras=mras, iso3=iso3)#}  #run filtered csvs on mras for extarction\n",
    "        \n",
    "        if (is.null(iso_matched_gedi)) {\n",
    "        cat(\"Matched result is null for PA\", id_pa, \"quitting...\\n\")\n",
    "        next  # Skip to the next iteration\n",
    "        }\n",
    "\n",
    "      tElapsed <- Sys.time()-startTime\n",
    "      cat(tElapsed, \"for extracting all PAs in\", iso3,\"\\n\")\n",
    "      cat(\"Done GEDI for no. \",grep(unique(matched$pa_id), matched_PAs),\"pa out of\", length(matched_PAs),\"\\n\")\n",
    "\n",
    "      iso_matched_gedi <-  iso_matched_gedi %>%\n",
    "            dplyr::select(\"pa_id\",\"status\",\n",
    "                      \"wwfbiom\",\"wwfecoreg\",\"shot_number\",\"lon_lowestmode\", \n",
    "                      \"lat_lowestmode\", \"lon_lowestmode\", \n",
    "                      \"lat_lowestmode\",\"rh25\", \"rh50\", \"rh75\",\"rh90\", \"rh98\")  #write to individual country folder\n",
    "        \n",
    "      if (length(unique(iso_matched_gedi$wwfbiom)) >1){\n",
    "#       pabiome <- iso_matched_gedi$wwfbiom %>% unique() %>% gsub(\"\\b(\\pL)\\pL{2,}|.\",\"\\U\\1\",.,perl = TRUE)%>% str_c( collapse = \"+\")\n",
    "#       pabiome <- iso_matched_gedi$wwfbiom %>% unique() %>% str_replace_all(\"\\\\b(\\\\p{L})\\\\p{L}{2,}|.\", \"\\\\U\\\\1\", perl = TRUE) %>% str_c(collapse = \"+\")\n",
    "        pabiome <- iso_matched_gedi$wwfbiom %>% unique() %>% str_replace_all(\"\\\\b(\\\\p{L})\\\\p{L}{2,}|.\", \"\\\\U\\\\1\") %>% str_c(collapse = \"+\")\n",
    "      } else if (length(unique(iso_matched_gedi$wwfbiom))==1){\n",
    "#       pabiome <- iso_matched_gedi$wwfbiom %>% unique() %>% str_replace_all(\"\\\\b(\\\\p{L})\\\\p{L}{2,}|.\", \"\\\\U\\\\1\", perl = TRUE)\n",
    "        pabiome <- iso_matched_gedi$wwfbiom %>% unique() %>% str_replace_all(\"\\\\b(\\\\p{L})\\\\p{L}{2,}|.\", \"\\\\U\\\\1\")\n",
    "      } else {\n",
    "        pabiome <- iso_matched_gedi$wwfbiom %>% unique() }\n",
    "        continent <- unique(iso_matched_gedi$region) %>% getmode()\n",
    "      print(paste('output df',dim(iso_matched_gedi)))\n",
    "\n",
    "      #dir.create(file.path(paste(\"output/WDPA_GEDI_extract/\",sep=\"\")),recursive=TRUE)\n",
    "      #saveRDS(iso_matched_gedi, file=paste(\"output/WDPA_GEDI_extract/\",iso3,\"_pa_\", id_pa,\"_gedi_wk_\",gediwk,\"_conti_\",\"biome_\",pabiome,\".RDS\", sep=\"\"))\n",
    "      #write.csv(iso_matched_gedi, file=paste(\"output/WDPA_GEDI_extract/\",iso3,\"_pa_\", id_pa,\"_iso_matched_gedi_sub_wk_\",gediwk,\".csv\", sep=\"\"))\n",
    "      dir.create(file.path(paste(\"/projects/my-public-bucket/GEDI_global_PA_v2/WDPA_GEDI_extract/\",sep=\"\")),recursive=TRUE)\n",
    "      saveRDS(iso_matched_gedi, file=paste(\"/projects/my-public-bucket/GEDI_global_PA_v2/WDPA_GEDI_extract/\",iso3,\"_pa_\", id_pa,\"_gedi_wk_\",gediwk,\"_conti_\",\"biome_\",pabiome,\".RDS\", sep=\"\"))\n",
    "      write.csv(iso_matched_gedi, file=paste(\"/projects/my-public-bucket/GEDI_global_PA_v2/WDPA_GEDI_extract/\",iso3,\"_pa_\", id_pa,\"_iso_matched_gedi_sub_wk_\",gediwk,\".csv\", sep=\"\"))\n",
    "      cat(id_pa,\"in\",iso3,\"result is written to dir\\n\")\n",
    "    }\n",
    "}\n"
   ]
  },
  {
   "cell_type": "code",
   "execution_count": null,
   "id": "a5cebaba-a975-4056-b5ba-92d57181066b",
   "metadata": {},
   "outputs": [],
   "source": [
    "print(\"extracting done\")"
   ]
  },
  {
   "cell_type": "code",
   "execution_count": null,
   "id": "34b5f39f-af66-4910-b8da-eeca2ba73997",
   "metadata": {},
   "outputs": [],
   "source": []
  },
  {
   "cell_type": "code",
   "execution_count": null,
   "id": "a4f1cc8f-9745-4a84-a747-a35122daf9a4",
   "metadata": {},
   "outputs": [],
   "source": [
    "allOut <- read.csv(\"~/GEDI_PA/vl_GEDI-PA_2024/GNB_pa.csv\")"
   ]
  },
  {
   "cell_type": "code",
   "execution_count": null,
   "id": "bf01bd09-b276-4b31-a0be-24a30da120d0",
   "metadata": {},
   "outputs": [],
   "source": [
    "data_sf <- st_as_sf(allOut, coords = c(\"lon\", \"lat\"), crs = 4326)\n"
   ]
  },
  {
   "cell_type": "code",
   "execution_count": null,
   "id": "f047b5af-a71f-4e7d-b6cd-1daf73552bcd",
   "metadata": {},
   "outputs": [],
   "source": [
    "results <- s3$list_objects_v2(Bucket = \"maap-ops-workspace\", \n",
    "                            Prefix=paste(\"shared/abarenblitt/GEDI_global_PA_v2/WDPA_gedi_L2A_tiles/\",sep=\"\"))\n",
    "    all_gedil2_f <- sapply(results$Contents, function(x) {x$Key})\n",
    "    pattern=paste(\".gpkg\",sep=\"\")\n",
    "    all_gedil2_f <- grep(pattern, all_gedil2_f, value=TRUE)\n",
    "    all_gedil2_f <- basename(all_gedil2_f)[4:5] #Currently specifying working files\n",
    "    \n",
    "    results4 <- s3$list_objects_v2(Bucket = \"maap-ops-workspace\", \n",
    "                                Prefix=paste(\"shared/abarenblitt/GEDI_global_PA_v2/WDPA_gedi_L4A_tiles/\",sep=\"\"))\n",
    "    all_gedil4_f <- sapply(results4$Contents, function(x) {x$Key})\n",
    "    pattern4=paste(\".gpkg\",sep=\"\")\n",
    "    all_gedil4_f <- grep(pattern4, all_gedil4_f, value=TRUE)\n",
    "    all_gedil4_f <- basename(all_gedil4_f)[4:5] #Currently specifying working files\n"
   ]
  },
  {
   "cell_type": "code",
   "execution_count": null,
   "id": "6da39210-60df-4301-b3ce-7ea90ad04653",
   "metadata": {},
   "outputs": [],
   "source": [
    "all_gedil2_f"
   ]
  },
  {
   "cell_type": "code",
   "execution_count": null,
   "id": "8877d7c6-39b4-41fc-8f71-64bc577b2899",
   "metadata": {},
   "outputs": [],
   "source": [
    "gedil4_f <- as.data.frame(st_read(paste(gedipath,\"WDPA_gedi_L4A_tiles/\",all_gedil4_f[this_csvid],sep=\"\")))"
   ]
  },
  {
   "cell_type": "code",
   "execution_count": null,
   "id": "ee484121-e2b0-4e3d-80be-a2990fdbc12a",
   "metadata": {},
   "outputs": [],
   "source": [
    "gedil2_f <- as.data.frame(st_read(paste(gedipath,\"WDPA_gedi_L2A_tiles/\",all_gedil2_f[this_csvid],sep=\"\")))"
   ]
  },
  {
   "cell_type": "code",
   "execution_count": null,
   "id": "82ab4551-085a-4314-884d-4ea1e80df2ff",
   "metadata": {},
   "outputs": [],
   "source": [
    "results <- s3$list_objects_v2(Bucket = \"maap-ops-workspace\", \n",
    "                            Prefix=paste(\"shared/abarenblitt/GEDI_global_PA_v2/WDPA_gedi_L2A_tiles/\",sep=\"\"))\n",
    "    all_gedil2_f <- sapply(results$Contents, function(x) {x$Key})\n",
    "    pattern=paste(\".gpkg\",sep=\"\")\n",
    "    all_gedil2_f <- grep(pattern, all_gedil2_f, value=TRUE)\n",
    "    all_gedil2_f <- basename(all_gedil2_f)[4:5]\n",
    "\n",
    "all_gedil2_f"
   ]
  },
  {
   "cell_type": "code",
   "execution_count": null,
   "id": "367f2087-5adc-4126-bafc-f5d3a53272cd",
   "metadata": {},
   "outputs": [],
   "source": []
  },
  {
   "cell_type": "code",
   "execution_count": null,
   "id": "7826e144-47be-4c8d-a694-1f74a453f44b",
   "metadata": {},
   "outputs": [],
   "source": [
    "extract_gedi <- function(matched, mras){\n",
    "    results <- s3$list_objects_v2(Bucket = \"maap-ops-workspace\", \n",
    "                            Prefix=paste(\"shared/abarenblitt/GEDI_global_PA_v2/WDPA_gedi_L2A_tiles/\",sep=\"\"))\n",
    "    all_gedil2_f <- sapply(results$Contents, function(x) {x$Key})\n",
    "    pattern=paste(\".gpkg\",sep=\"\")\n",
    "    all_gedil2_f <- grep(pattern, all_gedil2_f, value=TRUE)\n",
    "    all_gedil2_f <- basename(all_gedil2_f)[4:5] #Currently specifying working files\n",
    "    \n",
    "    results4 <- s3$list_objects_v2(Bucket = \"maap-ops-workspace\", \n",
    "                                Prefix=paste(\"shared/abarenblitt/GEDI_global_PA_v2/WDPA_gedi_L4A_tiles/\",sep=\"\"))\n",
    "    all_gedil4_f <- sapply(results4$Contents, function(x) {x$Key})\n",
    "    pattern4=paste(\".gpkg\",sep=\"\")\n",
    "    all_gedil4_f <- grep(pattern4, all_gedil4_f, value=TRUE)\n",
    "    all_gedil4_f <- basename(all_gedil4_f)[4:5] #Currently specifying working files\n",
    "  \n",
    "    # Initialize an empty list to store results\n",
    "    results_list <- list()\n",
    "    iso_matched_gedi_df <- NULL # Initialize before loop\n",
    "\n",
    "            # Iterate over the sequence of indices for your files\n",
    "    for (this_csvid in seq_along(all_gedil2_f)) {\n",
    "                cat(\"Reading in no. \", this_csvid, \"csv of \", length(all_gedil2_f), \"csvs for iso3\", iso3, \"\\n\")\n",
    "                \n",
    "                # Read GEDI L4A data\n",
    "                gedil4_f_path <- paste(gedipath, \"WDPA_gedi_L4A_tiles/\", all_gedil4_f[this_csvid], sep = \"\")\n",
    "                gedil4_f <- as.data.frame(st_read(gedil4_f_path))\n",
    "                \n",
    "                # Read GEDI L2A data\n",
    "                gedil2_f_path <- paste(gedipath, \"WDPA_gedi_L2A_tiles/\", all_gedil2_f[this_csvid], sep = \"\")\n",
    "                gedil2_f <- as.data.frame(st_read(gedil2_f_path))\n",
    "            \n",
    "                # Check if GEDI L4A data is empty\n",
    "                if (nrow(gedil4_f) < 1) {\n",
    "                    cat(\"Error: No data for GEDI L4A\\n\")\n",
    "                    gedi_l24 <- gedil2_f\n",
    "                    gedi_l24\n",
    "agbd_se <- NA\n",
    "                    gedi_l24\n",
    "agbd_t_se <- NA\n",
    "                } else {\n",
    "                    # Select relevant columns from GEDI L4A\n",
    "                    gedi_l4_sub <- gedil4_f %>%\n",
    "                        dplyr::select(shot_number, agbd, agbd_se, agbd_t, agbd_t_se)\n",
    "                    \n",
    "                    # Join with GEDI L2A data\n",
    "                    gedi_l24 <- inner_join(gedil2_f, gedi_l4_sub, by = \"shot_number\")\n",
    "                }\n",
    "            \n",
    "                print(dim(gedi_l24))\n",
    "            \n",
    "                # Initialize empty spatial object for the current iteration\n",
    "                gedi_l24_sp <- NULL\n",
    "            \n",
    "                # Convert to spatial points data frame if there is data\n",
    "                if (nrow(gedi_l24) > 0) {\n",
    "                    gedi_l24_sp <- SpatialPointsDataFrame(\n",
    "                        coords = gedi_l24[, c(\"lon_lowestmode\", \"lat_lowestmode\")],\n",
    "                        data = gedi_l24,\n",
    "                        proj4string = CRS(\"+init=epsg:4326\")\n",
    "                    ) %>% spTransform(CRS(\"+init=epsg:6933\"))\n",
    "                matched_gedi <- terra::extract(mras,vect(gedi_l24_sp), df=TRUE)\n",
    "                matched_gedi_metrics <- cbind(matched_gedi,gedi_l24_sp@data)\n",
    "                matched_gedi_metrics_filtered <- matched_gedi_metrics %>% dplyr::filter(!is.na(status)) %>% \n",
    "                convertFactor(matched0 = matched,exgedi = .) \n",
    "\n",
    "            iso_matched_gedi_df <- rbind(matched_gedi_metrics_filtered,iso_matched_gedi_df)\n",
    "            print(dim(iso_matched_gedi_df))\n",
    "         }\n",
    "        \n",
    "        # Store results in a list\n",
    "        results_list[[this_csvid]] <- iso_matched_gedi_df\n",
    "    }\n",
    "    \n",
    "    # Combine all results\n",
    "    if (!is.null(iso_matched_gedi_df)) {\n",
    "        iso_matched_gedi_df <- do.call(rbind, results_list)\n",
    "    }\n",
    "    \n",
    "    cat(\"Done GEDI processing\\n\")\n",
    "    return(iso_matched_gedi_df)\n",
    "}\n",
    "     "
   ]
  },
  {
   "cell_type": "code",
   "execution_count": null,
   "id": "55f858d4-1e63-4b8c-83ef-bd0a2df3ad82",
   "metadata": {},
   "outputs": [],
   "source": [
    "ex_out <- for (this_csvid in seq_along(length(all_gedil2_f))) {\n",
    "        ##add the GEDI l4a model prediction for AGB here :\n",
    "        cat(\"Readng in no. \", this_csvid,\"csv of \", length(all_gedil2_f),\"csvs for iso3\",iso3,\"\\n\")\n",
    "\n",
    "    # for (this_gedi4 in all_gedil4_f[this_csvid]){\n",
    "            gedil4_f <- as.data.frame(st_read(paste(gedipath,\"WDPA_gedi_L4A_tiles/\",all_gedil4_f[this_csvid],sep=\"\")))\n",
    "    # }\n",
    "    # for (this_gedi2 in all_gedil2_f[this_csvid]){\n",
    "            gedil2_f <- as.data.frame(st_read(paste(gedipath,\"WDPA_gedi_L2A_tiles/\",all_gedil2_f[this_csvid],sep=\"\")))\n",
    "    # }\n",
    "            if (nrow(gedil4_f) < 1){   #is.na(gedi_l4) || \n",
    "              cat(\"error\")\n",
    "              gedi_l24 <- gedil2_f\n",
    "              gedi_l24\n",
    "agbd_se <- NA\n",
    "              gedi_l24\n",
    "agbd_t_se <- NA\n",
    "            } else {\n",
    "              gedi_l4_sub <- gedil4_f %>%\n",
    "                dplyr::select(shot_number, agbd, agbd_se, agbd_t, agbd_t_se)\n",
    "              gedi_l24 <- inner_join(gedil2_f, gedi_l4_sub, by=\"shot_number\")\n",
    "\n",
    "            }\n",
    "\n",
    "        print(dim(gedi_l24))\n",
    "        iso_matched_gedi_df <- data.frame()\n",
    "        if(nrow(gedi_l24)>0){\n",
    "            gedi_l24_sp <- gedi_l24 %>% \n",
    "                SpatialPointsDataFrame(coords=.[,c(\"lon_lowestmode\",\"lat_lowestmode\")],\n",
    "                                     proj4string=CRS(\"+init=epsg:4326\"), data=.) %>%spTransform(., CRS(\"+init=epsg:6933\"))\n",
    "        }\n",
    "        return(gedi_l24_sp)\n",
    "}\n",
    "     "
   ]
  },
  {
   "cell_type": "code",
   "execution_count": null,
   "id": "15b3f1c0-fc2b-493d-ab92-75c17b21b727",
   "metadata": {},
   "outputs": [],
   "source": [
    "results_list <- list()\n",
    "\n",
    "# Iterate over the sequence of indices for your files\n",
    "for (this_csvid in seq_along(all_gedil2_f)) {\n",
    "    cat(\"Reading in no. \", this_csvid, \"csv of \", length(all_gedil2_f), \"csvs for iso3\", iso3, \"\\n\")\n",
    "    \n",
    "    # Read GEDI L4A data\n",
    "    gedil4_f_path <- paste(gedipath, \"WDPA_gedi_L4A_tiles/\", all_gedil4_f[this_csvid], sep = \"\")\n",
    "    gedil4_f <- as.data.frame(st_read(gedil4_f_path))\n",
    "    \n",
    "    # Read GEDI L2A data\n",
    "    gedil2_f_path <- paste(gedipath, \"WDPA_gedi_L2A_tiles/\", all_gedil2_f[this_csvid], sep = \"\")\n",
    "    gedil2_f <- as.data.frame(st_read(gedil2_f_path))\n",
    "\n",
    "    # Check if GEDI L4A data is empty\n",
    "    if (nrow(gedil4_f) < 1) {\n",
    "        cat(\"Error: No data for GEDI L4A\\n\")\n",
    "        gedi_l24 <- gedil4_f\n",
    "        gedi_l24\n",
    "agbd_se <- NA\n",
    "        gedi_l24\n",
    "agbd_t_se <- NA\n",
    "    } else {\n",
    "        # Select relevant columns from GEDI L4A\n",
    "        gedi_l4_sub <- gedil4_f %>%\n",
    "            dplyr::select(shot_number, agbd, agbd_se, agbd_t, agbd_t_se)\n",
    "        \n",
    "        # Join with GEDI L2A data\n",
    "        gedi_l24 <- inner_join(gedil2_f, gedi_l4_sub, by = \"shot_number\")\n",
    "    }\n",
    "\n",
    "    print(dim(gedi_l24))\n",
    "\n",
    "    # Initialize empty spatial object for the current iteration\n",
    "    gedi_l24_sp <- NULL\n",
    "\n",
    "    # Convert to spatial points data frame if there is data\n",
    "    if (nrow(gedi_l24) > 0) {\n",
    "        gedi_l24_sp <- SpatialPointsDataFrame(\n",
    "            coords = gedi_l24[, c(\"lon_lowestmode\", \"lat_lowestmode\")],\n",
    "            data = gedi_l24,\n",
    "            proj4string = CRS(\"+init=epsg:4326\")\n",
    "        ) %>% spTransform(CRS(\"+init=epsg:6933\"))\n",
    "    }\n",
    "    \n",
    "    # Store result in the list\n",
    "    results_list[[this_csvid]] <- gedi_l24_sp\n",
    "}"
   ]
  },
  {
   "cell_type": "code",
   "execution_count": null,
   "id": "17bb918f-995c-44b0-bf3c-a9d7c3856540",
   "metadata": {},
   "outputs": [],
   "source": [
    "single_result <- results_list[[2]]\n"
   ]
  },
  {
   "cell_type": "code",
   "execution_count": null,
   "id": "d041d815-1b0a-4852-b76f-64d64a84b3d1",
   "metadata": {},
   "outputs": [],
   "source": [
    "single_result_sf <- st_as_sf(single_result)\n"
   ]
  },
  {
   "cell_type": "code",
   "execution_count": null,
   "id": "4361aefc-cae8-443b-8b42-7a0e82813d76",
   "metadata": {},
   "outputs": [],
   "source": [
    "matched<-readRDS(\"~/output/WDPA_matching_results/GNB_wk24/GNB_pa_351088_matching_results_wk24.RDS\")\n"
   ]
  },
  {
   "cell_type": "code",
   "execution_count": null,
   "id": "2b0817b0-0345-4623-96e1-c36dd5ca7dc7",
   "metadata": {},
   "outputs": [],
   "source": [
    "ggplot(data_sf) +\n",
    "  geom_sf(aes(color = status), size = 1) + \n",
    "  geom_sf(data = single_result_sf, color = \"black\", linetype = \"dashed\") +\n",
    "  theme_minimal() +\n",
    "  scale_color_manual(values = c(\"TRUE\" = \"purple\", \"FALSE\" = \"blue\"))+\n",
    "  labs(title = \"Spatial Points from CSV\",\n",
    "       x = \"Longitude\",\n",
    "       y = \"Latitude\",\n",
    "      color = \"Status\")\n",
    "     \n"
   ]
  },
  {
   "cell_type": "code",
   "execution_count": null,
   "id": "871c3203-d213-42b3-a807-ff159426c74c",
   "metadata": {},
   "outputs": [],
   "source": [
    "all_gedil2_f\n"
   ]
  },
  {
   "cell_type": "code",
   "execution_count": null,
   "id": "abb485d7-fbbf-45c2-b660-5c03ba5c882b",
   "metadata": {},
   "outputs": [],
   "source": [
    "gediGrid<-st_read(\"~/my-public-bucket/GEDI_global_PA_v2/WDPA_gedi_L2A_tiles/tile_num_29599_L2A.gpkg\")\n"
   ]
  },
  {
   "cell_type": "code",
   "execution_count": null,
   "id": "591f68b4-50b5-46bd-8a9a-248cad7a76c8",
   "metadata": {},
   "outputs": [],
   "source": []
  }
 ],
 "metadata": {
  "kernelspec": {
   "display_name": "R",
   "language": "R",
   "name": "ir"
  },
  "language_info": {
   "codemirror_mode": "r",
   "file_extension": ".r",
   "mimetype": "text/x-r-source",
   "name": "R",
   "pygments_lexer": "r",
   "version": "4.2.3"
  }
 },
 "nbformat": 4,
 "nbformat_minor": 5
}
