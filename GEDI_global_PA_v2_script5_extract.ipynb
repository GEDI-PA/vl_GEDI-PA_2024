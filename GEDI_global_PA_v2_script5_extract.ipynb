{
 "cells": [
  {
   "cell_type": "code",
   "execution_count": null,
   "id": "32aeaaac-7d6f-488b-b136-ada54bb8f840",
   "metadata": {},
   "outputs": [],
   "source": [
    "## ---------------- SEP5 testing gedi extraction code -----------------------"
   ]
  },
  {
   "cell_type": "code",
   "execution_count": null,
   "id": "375b9c98-0ce5-4bb8-86dd-29410a0eabee",
   "metadata": {},
   "outputs": [],
   "source": [
    "##\n",
    "# conda install -c conda-forge r-optmatch\n",
    "# conda install -c conda-forge r-RItools\n",
    "##"
   ]
  },
  {
   "cell_type": "code",
   "execution_count": 17,
   "id": "bb019e34-2538-4e39-828f-e670636a0436",
   "metadata": {},
   "outputs": [
    {
     "name": "stderr",
     "output_type": "stream",
     "text": [
      "Updating HTML index of packages in '.Library'\n",
      "\n",
      "Making 'packages.html' ...\n",
      " done\n",
      "\n",
      "Updating HTML index of packages in '.Library'\n",
      "\n",
      "Making 'packages.html' ...\n",
      " done\n",
      "\n"
     ]
    }
   ],
   "source": [
    "install.packages(\"s3\")\n",
    "install.packages(\"doParallel\")\n",
    "#install.packages(\"RItools\")    "
   ]
  },
  {
   "cell_type": "code",
   "execution_count": 18,
   "id": "aa085b6a-d865-4ff5-8c40-e26b9fe93940",
   "metadata": {},
   "outputs": [],
   "source": [
    "library(\"terra\")\n",
    "library(\"dplyr\")\n",
    "library(\"sf\")\n",
    "#install.packages(\"s3\")\n",
    "library(\"s3\")\n",
    "\n",
    "library(\"sp\")\n",
    "library(\"foreach\")\n",
    "library(\"stringr\")\n",
    "library(\"aws.s3\")\n",
    "#conda install -c conda-forge r-optmatch #r-ggmap r-hrbrthemes r-Hmisc\n",
    "#library(\"optmatch\")\n",
    "#install.packages(\"doParallel\")\n",
    "library(\"doParallel\")\n",
    "#install.packages(\"RItools\")    \n",
    "#library(\"RItools\")\n"
   ]
  },
  {
   "cell_type": "code",
   "execution_count": 19,
   "id": "62cdb96c-9e67-4aa4-ac5d-436e5d467d8b",
   "metadata": {},
   "outputs": [],
   "source": [
    "#s3 <- paws::s3()"
   ]
  },
  {
   "cell_type": "code",
   "execution_count": 20,
   "id": "2ced8004-1639-432b-9c12-d0cb5f6632fc",
   "metadata": {},
   "outputs": [],
   "source": [
    "#To test, we define the variables manually. For final version, run the commented out section below\n",
    "#iso3 <-\"Bpt\"\n",
    "iso3 <-\"BaE\"\n",
    "#iso3 <- \"Bca\"\n",
    "gediwk <- 24\n",
    "mproc <- 1"
   ]
  },
  {
   "cell_type": "code",
   "execution_count": 21,
   "id": "6d063ab5-b6c7-45a5-b852-55e85691de33",
   "metadata": {},
   "outputs": [],
   "source": [
    "#-------------------------------------------------------------------------------\n",
    "#args = commandArgs(trailingOnly=TRUE)\n",
    "#if (length(args)==0) {\n",
    "#  stop(\"At least one argument must be supplied (input file).n\", call.=FALSE)\n",
    "#} else if (length(args)>=1) {\n",
    "#  \n",
    "#  iso3 <- args[1]  #country to process\n",
    "#  gediwk <- args[2]   #the # of weeks GEDI data to use\n",
    "#  mproc <- as.integer(args[3])  #the number of cores to use for matching \n",
    "#}\n",
    "#-------------------------------------------------------------------------------"
   ]
  },
  {
   "cell_type": "code",
   "execution_count": 51,
   "id": "715b5c20-70ed-4406-9077-e0a70295e4f9",
   "metadata": {},
   "outputs": [
    {
     "name": "stdout",
     "output_type": "stream",
     "text": [
      "Step 0: Loading global variables for BaE with wk 24 data \n"
     ]
    },
    {
     "name": "stderr",
     "output_type": "stream",
     "text": [
      "\u001b[36mℹ\u001b[39m \u001b[34m\u001b[34ms3://maap-ops-workspace/shared/leitoldv/GEDI_global_PA_v2/wwf_ecoregions_key.csv\u001b[34m\u001b[39m already exists at \u001b[34m\u001b[34m/projects/.local/share/R/s3/maap-ops-workspace/shared/leitoldv/GEDI_global_PA_v2/wwf_ecoregions_key.csv\u001b[34m\u001b[39m\n",
      "\n",
      "\u001b[36mℹ\u001b[39m \u001b[34m\u001b[34ms3://maap-ops-workspace/shared/leitoldv/GEDI_global_PA_v2/WDPA_shapefiles/WDPA_polygons/BaE_PA_poly.rds\u001b[34m\u001b[39m already exists at \u001b[34m\u001b[34m/projects/.local/share/R/s3/maap-ops-workspace/shared/leitoldv/GEDI_global_PA_v2/WDPA_shapefiles/WDPA_polygons/BaE_PA_poly.rds\u001b[34m\u001b[39m\n",
      "\n",
      "\u001b[36mℹ\u001b[39m \u001b[34m\u001b[34ms3://maap-ops-workspace/shared/leitoldv/GEDI_global_PA_v2/GEDI_ANCI_PFT_r1000m_EASE2.0_UMD_v1_projection_defined_6933.tif\u001b[34m\u001b[39m already exists at \u001b[34m\u001b[34m/projects/.local/share/R/s3/maap-ops-workspace/shared/leitoldv/GEDI_global_PA_v2/GEDI_ANCI_PFT_r1000m_EASE2.0_UMD_v1_projection_defined_6933.tif\u001b[34m\u001b[39m\n",
      "\n",
      "\u001b[36mℹ\u001b[39m \u001b[34m\u001b[34ms3://maap-ops-workspace/shared/leitoldv/GEDI_global_PA_v2/GEDI_ANCI_CONTINENT_r1000m_EASE2.0_UMD_v1_revised_projection_defined_6933.tif\u001b[34m\u001b[39m already exists at \u001b[34m\u001b[34m/projects/.local/share/R/s3/maap-ops-workspace/shared/leitoldv/GEDI_global_PA_v2/GEDI_ANCI_CONTINENT_r1000m_EASE2.0_UMD_v1_revised_projection_defined_6933.tif\u001b[34m\u001b[39m\n",
      "\n",
      "\u001b[36mℹ\u001b[39m all files already exist\n",
      "\n",
      "\u001b[36mℹ\u001b[39m \u001b[34m\u001b[34ms3://maap-ops-workspace/shared/leitoldv/GEDI_global_PA_v2/WDPA_countries/shp/BaE.shp\u001b[34m\u001b[39m already exists at \u001b[34m\u001b[34m/projects/.local/share/R/s3/maap-ops-workspace/shared/leitoldv/GEDI_global_PA_v2/WDPA_countries/shp/BaE.shp\u001b[34m\u001b[39m\n",
      "\n"
     ]
    },
    {
     "name": "stdout",
     "output_type": "stream",
     "text": [
      "Reading layer `BaE' from data source \n",
      "  `/projects/.local/share/R/s3/maap-ops-workspace/shared/leitoldv/GEDI_global_PA_v2/WDPA_countries/shp/BaE.shp' \n",
      "  using driver `ESRI Shapefile'\n",
      "Simple feature collection with 1 feature and 7 fields\n",
      "Geometry type: MULTIPOLYGON\n",
      "Dimension:     XY\n",
      "Bounding box:  xmin: -61.6113 ymin: -16.30581 xmax: -43.61394 ymax: 4.430496\n",
      "Geodetic CRS:  WGS 84\n"
     ]
    },
    {
     "name": "stderr",
     "output_type": "stream",
     "text": [
      "\u001b[36mℹ\u001b[39m \u001b[34m\u001b[34ms3://maap-ops-workspace/shared/leitoldv/GEDI_global_PA_v2/rf_noclimate.RData\u001b[34m\u001b[39m already exists at \u001b[34m\u001b[34m/projects/.local/share/R/s3/maap-ops-workspace/shared/leitoldv/GEDI_global_PA_v2/rf_noclimate.RData\u001b[34m\u001b[39m\n",
      "\n"
     ]
    }
   ],
   "source": [
    "cat(\"Step 0: Loading global variables for\", iso3,\"with wk\", gediwk, \"data \\n\")\n",
    "\n",
    "#f.path <- \"/projects/my-public-bucket/GEDI_global_PA_v2/\"\n",
    "f.path <- \"s3://maap-ops-workspace/shared/leitoldv/GEDI_global_PA_v2/\"\n",
    "\n",
    "matching_tifs <- c(\"wwf_biomes\",\"wwf_ecoreg\",\"lc2000\",\"d2roads\", \"dcities\",\"dem\",\n",
    "                   \"pop_cnt_2000\",\"pop_den_2000\",\"slope\", \"tt2cities_2000\", \"wc_prec_1990-1999\",\n",
    "                   \"wc_tmax_1990-1999\",\"wc_tavg_1990-1999\",\"wc_tmin_1990-1999\" )\n",
    "\n",
    "ecoreg_key <- read.csv(s3_get(paste(f.path,\"wwf_ecoregions_key.csv\",sep=\"\")))\n",
    "#unlink(s3_get(paste(f.path,\"wwf_ecoregions_key.csv\",sep=\"\")))\n",
    "\n",
    "allPAs <- readRDS(s3_get(paste(f.path,\"WDPA_shapefiles/WDPA_polygons/\",iso3,\"_PA_poly.rds\",sep=\"\")))\n",
    "\n",
    "MCD12Q1 <- rast(s3_get(paste(f.path,\"GEDI_ANCI_PFT_r1000m_EASE2.0_UMD_v1_projection_defined_6933.tif\",sep=\"\")))\n",
    "crs(MCD12Q1)  <- \"epsg:6933\"\n",
    "\n",
    "world_region <- rast(s3_get(paste(f.path,\"GEDI_ANCI_CONTINENT_r1000m_EASE2.0_UMD_v1_revised_projection_defined_6933.tif\",sep=\"\")))\n",
    "crs(world_region)  <- \"epsg:6933\"\n",
    "\n",
    "s3_get_files(c(paste(f.path,\"WDPA_countries/shp/\",iso3,\".shp\",sep=\"\"),\n",
    "              paste(f.path,\"WDPA_countries/shp/\",iso3,\".shx\",sep=\"\"),\n",
    "              paste(f.path,\"WDPA_countries/shp/\",iso3,\".prj\",sep=\"\"),\n",
    "              paste(f.path,\"WDPA_countries/shp/\",iso3,\".dbf\",sep=\"\")),confirm = FALSE)\n",
    "adm <- st_read(s3_get(paste(f.path,\"WDPA_countries/shp/\",iso3,\".shp\",sep=\"\")))\n",
    "\n",
    "#s3_path <- paste(\"/vsis3/maap-ops-workspace/shared/leitoldv/GEDI_global_PA_v2/WDPA_countries/shp/\",iso3,\".shp\",sep=\"\") #Redo this for the gpkg\n",
    "#adm <- st_read(s3_path)\n",
    "adm_prj <- project(vect(adm), \"epsg:6933\")\n",
    "\n",
    "load(s3_get(paste(f.path,\"rf_noclimate.RData\",sep=\"\")))\n",
    "#source(s3_get(paste(f.path,\"matching_func.R\",sep=\"\")))\n",
    "source(\"/projects/my-public-bucket/GEDI_global_PA_v2/vl_GEDI-PA_2024/matching_func_2024.R\")\n",
    "\n",
    "#flag <- \"run all\"\n",
    "#flag <- \"run remaining\""
   ]
  },
  {
   "cell_type": "code",
   "execution_count": 52,
   "id": "d79924a1-23ba-40a0-81ee-87219004c19c",
   "metadata": {},
   "outputs": [
    {
     "name": "stdout",
     "output_type": "stream",
     "text": [
      "Step 5: Performing WK  24 GEDI extraction for BaE \n"
     ]
    },
    {
     "name": "stderr",
     "output_type": "stream",
     "text": [
      "\u001b[36mℹ\u001b[39m \u001b[34m\u001b[34ms3://maap-ops-workspace/shared/leitoldv/GEDI_global_PA_v2/WDPA_matching_results/BaE_wk24_filelist.csv\u001b[34m\u001b[39m already exists at \u001b[34m\u001b[34m/projects/.local/share/R/s3/maap-ops-workspace/shared/leitoldv/GEDI_global_PA_v2/WDPA_matching_results/BaE_wk24_filelist.csv\u001b[34m\u001b[39m\n",
      "\n"
     ]
    },
    {
     "data": {
      "text/html": [
       "266"
      ],
      "text/latex": [
       "266"
      ],
      "text/markdown": [
       "266"
      ],
      "text/plain": [
       "[1] 266"
      ]
     },
     "metadata": {},
     "output_type": "display_data"
    }
   ],
   "source": [
    "#---------------STEP5. GEDI PROCESSING ---------------- \n",
    "#using GEDI shots to extract the treatment/control status, also extract the MODIS PFT for AGB prediction\n",
    "\n",
    "# if (file.exists(paste(f.path,\"WDPA_GEDI_extract/\",iso3,\"_wk\",gediwk,\"/\",iso3,\"_gedi_extracted_matching_wk\",gediwk,\".RDS\", sep=\"\"))){\n",
    "cat(paste(\"Step 5: Performing WK \", gediwk, \"GEDI extraction for\", iso3,\"\\n\"))\n",
    "#matched_all <-read.csv(paste(f.path,\"WDPA_extract4_residual_PAs/\", iso3, \"_wk_\", gediwk, \"_null_matches_rerun.csv\",sep=\"\")) \n",
    "matched_all <- read.csv(s3_get(paste(f.path,\"WDPA_matching_results/\",iso3,\"_wk24_filelist.csv\",sep=\"\")))[,2]\n",
    "length(matched_all)   "
   ]
  },
  {
   "cell_type": "code",
   "execution_count": 53,
   "id": "b6d1293d-7b7e-4f50-aba1-29a4b2867dd1",
   "metadata": {},
   "outputs": [
    {
     "name": "stdout",
     "output_type": "stream",
     "text": [
      "[1] \"BaE_pa_101761_matching_results_wk24.RDS\"\n"
     ]
    },
    {
     "name": "stderr",
     "output_type": "stream",
     "text": [
      "\u001b[36mℹ\u001b[39m \u001b[34m\u001b[34ms3://maap-ops-workspace/shared/leitoldv/GEDI_global_PA_v2/WDPA_matching_results/BaE_wk24/BaE_pa_101761_matching_results_wk24.RDS\u001b[34m\u001b[39m already exists at \u001b[34m\u001b[34m/projects/.local/share/R/s3/maap-ops-workspace/shared/leitoldv/GEDI_global_PA_v2/WDPA_matching_results/BaE_wk24/BaE_pa_101761_matching_results_wk24.RDS\u001b[34m\u001b[39m\n",
      "\n"
     ]
    },
    {
     "name": "stdout",
     "output_type": "stream",
     "text": [
      "[1] \"BaE_pa_10795_matching_results_wk24.RDS\"\n"
     ]
    },
    {
     "name": "stderr",
     "output_type": "stream",
     "text": [
      "\u001b[36mℹ\u001b[39m \u001b[34m\u001b[34ms3://maap-ops-workspace/shared/leitoldv/GEDI_global_PA_v2/WDPA_matching_results/BaE_wk24/BaE_pa_10795_matching_results_wk24.RDS\u001b[34m\u001b[39m already exists at \u001b[34m\u001b[34m/projects/.local/share/R/s3/maap-ops-workspace/shared/leitoldv/GEDI_global_PA_v2/WDPA_matching_results/BaE_wk24/BaE_pa_10795_matching_results_wk24.RDS\u001b[34m\u001b[39m\n",
      "\n"
     ]
    },
    {
     "name": "stdout",
     "output_type": "stream",
     "text": [
      "[1] \"BaE_pa_10801_matching_results_wk24.RDS\"\n"
     ]
    },
    {
     "name": "stderr",
     "output_type": "stream",
     "text": [
      "\u001b[36mℹ\u001b[39m \u001b[34m\u001b[34ms3://maap-ops-workspace/shared/leitoldv/GEDI_global_PA_v2/WDPA_matching_results/BaE_wk24/BaE_pa_10801_matching_results_wk24.RDS\u001b[34m\u001b[39m already exists at \u001b[34m\u001b[34m/projects/.local/share/R/s3/maap-ops-workspace/shared/leitoldv/GEDI_global_PA_v2/WDPA_matching_results/BaE_wk24/BaE_pa_10801_matching_results_wk24.RDS\u001b[34m\u001b[39m\n",
      "\n"
     ]
    },
    {
     "name": "stdout",
     "output_type": "stream",
     "text": [
      "[1] \"BaE_pa_10802_matching_results_wk24.RDS\"\n"
     ]
    },
    {
     "name": "stderr",
     "output_type": "stream",
     "text": [
      "\u001b[36mℹ\u001b[39m \u001b[34m\u001b[34ms3://maap-ops-workspace/shared/leitoldv/GEDI_global_PA_v2/WDPA_matching_results/BaE_wk24/BaE_pa_10802_matching_results_wk24.RDS\u001b[34m\u001b[39m already exists at \u001b[34m\u001b[34m/projects/.local/share/R/s3/maap-ops-workspace/shared/leitoldv/GEDI_global_PA_v2/WDPA_matching_results/BaE_wk24/BaE_pa_10802_matching_results_wk24.RDS\u001b[34m\u001b[39m\n",
      "\n"
     ]
    },
    {
     "name": "stdout",
     "output_type": "stream",
     "text": [
      "[1] \"BaE_pa_10803_matching_results_wk24.RDS\"\n"
     ]
    },
    {
     "name": "stderr",
     "output_type": "stream",
     "text": [
      "\u001b[36mℹ\u001b[39m \u001b[34m\u001b[34ms3://maap-ops-workspace/shared/leitoldv/GEDI_global_PA_v2/WDPA_matching_results/BaE_wk24/BaE_pa_10803_matching_results_wk24.RDS\u001b[34m\u001b[39m already exists at \u001b[34m\u001b[34m/projects/.local/share/R/s3/maap-ops-workspace/shared/leitoldv/GEDI_global_PA_v2/WDPA_matching_results/BaE_wk24/BaE_pa_10803_matching_results_wk24.RDS\u001b[34m\u001b[39m\n",
      "\n"
     ]
    },
    {
     "name": "stdout",
     "output_type": "stream",
     "text": [
      "[1] \"BaE_pa_115686_matching_results_wk24.RDS\"\n"
     ]
    },
    {
     "name": "stderr",
     "output_type": "stream",
     "text": [
      "\u001b[36mℹ\u001b[39m \u001b[34m\u001b[34ms3://maap-ops-workspace/shared/leitoldv/GEDI_global_PA_v2/WDPA_matching_results/BaE_wk24/BaE_pa_115686_matching_results_wk24.RDS\u001b[34m\u001b[39m already exists at \u001b[34m\u001b[34m/projects/.local/share/R/s3/maap-ops-workspace/shared/leitoldv/GEDI_global_PA_v2/WDPA_matching_results/BaE_wk24/BaE_pa_115686_matching_results_wk24.RDS\u001b[34m\u001b[39m\n",
      "\n"
     ]
    },
    {
     "name": "stdout",
     "output_type": "stream",
     "text": [
      "[1] \"BaE_pa_115699_matching_results_wk24.RDS\"\n"
     ]
    },
    {
     "name": "stderr",
     "output_type": "stream",
     "text": [
      "\u001b[36mℹ\u001b[39m \u001b[34m\u001b[34ms3://maap-ops-workspace/shared/leitoldv/GEDI_global_PA_v2/WDPA_matching_results/BaE_wk24/BaE_pa_115699_matching_results_wk24.RDS\u001b[34m\u001b[39m already exists at \u001b[34m\u001b[34m/projects/.local/share/R/s3/maap-ops-workspace/shared/leitoldv/GEDI_global_PA_v2/WDPA_matching_results/BaE_wk24/BaE_pa_115699_matching_results_wk24.RDS\u001b[34m\u001b[39m\n",
      "\n"
     ]
    },
    {
     "name": "stdout",
     "output_type": "stream",
     "text": [
      "[1] \"BaE_pa_115700_matching_results_wk24.RDS\"\n"
     ]
    },
    {
     "name": "stderr",
     "output_type": "stream",
     "text": [
      "\u001b[36mℹ\u001b[39m \u001b[34m\u001b[34ms3://maap-ops-workspace/shared/leitoldv/GEDI_global_PA_v2/WDPA_matching_results/BaE_wk24/BaE_pa_115700_matching_results_wk24.RDS\u001b[34m\u001b[39m already exists at \u001b[34m\u001b[34m/projects/.local/share/R/s3/maap-ops-workspace/shared/leitoldv/GEDI_global_PA_v2/WDPA_matching_results/BaE_wk24/BaE_pa_115700_matching_results_wk24.RDS\u001b[34m\u001b[39m\n",
      "\n"
     ]
    },
    {
     "name": "stdout",
     "output_type": "stream",
     "text": [
      "[1] \"BaE_pa_115765_matching_results_wk24.RDS\"\n"
     ]
    },
    {
     "name": "stderr",
     "output_type": "stream",
     "text": [
      "\u001b[36mℹ\u001b[39m \u001b[34m\u001b[34ms3://maap-ops-workspace/shared/leitoldv/GEDI_global_PA_v2/WDPA_matching_results/BaE_wk24/BaE_pa_115765_matching_results_wk24.RDS\u001b[34m\u001b[39m already exists at \u001b[34m\u001b[34m/projects/.local/share/R/s3/maap-ops-workspace/shared/leitoldv/GEDI_global_PA_v2/WDPA_matching_results/BaE_wk24/BaE_pa_115765_matching_results_wk24.RDS\u001b[34m\u001b[39m\n",
      "\n"
     ]
    },
    {
     "name": "stdout",
     "output_type": "stream",
     "text": [
      "[1] \"BaE_pa_115769_matching_results_wk24.RDS\"\n"
     ]
    },
    {
     "name": "stderr",
     "output_type": "stream",
     "text": [
      "\u001b[36mℹ\u001b[39m \u001b[34m\u001b[34ms3://maap-ops-workspace/shared/leitoldv/GEDI_global_PA_v2/WDPA_matching_results/BaE_wk24/BaE_pa_115769_matching_results_wk24.RDS\u001b[34m\u001b[39m already exists at \u001b[34m\u001b[34m/projects/.local/share/R/s3/maap-ops-workspace/shared/leitoldv/GEDI_global_PA_v2/WDPA_matching_results/BaE_wk24/BaE_pa_115769_matching_results_wk24.RDS\u001b[34m\u001b[39m\n",
      "\n"
     ]
    },
    {
     "name": "stdout",
     "output_type": "stream",
     "text": [
      "[1] \"BaE_pa_115772_matching_results_wk24.RDS\"\n"
     ]
    },
    {
     "name": "stderr",
     "output_type": "stream",
     "text": [
      "\u001b[36mℹ\u001b[39m \u001b[34m\u001b[34ms3://maap-ops-workspace/shared/leitoldv/GEDI_global_PA_v2/WDPA_matching_results/BaE_wk24/BaE_pa_115772_matching_results_wk24.RDS\u001b[34m\u001b[39m already exists at \u001b[34m\u001b[34m/projects/.local/share/R/s3/maap-ops-workspace/shared/leitoldv/GEDI_global_PA_v2/WDPA_matching_results/BaE_wk24/BaE_pa_115772_matching_results_wk24.RDS\u001b[34m\u001b[39m\n",
      "\n"
     ]
    },
    {
     "name": "stdout",
     "output_type": "stream",
     "text": [
      "[1] \"BaE_pa_19450_matching_results_wk24.RDS\"\n"
     ]
    },
    {
     "name": "stderr",
     "output_type": "stream",
     "text": [
      "\u001b[36mℹ\u001b[39m \u001b[34m\u001b[34ms3://maap-ops-workspace/shared/leitoldv/GEDI_global_PA_v2/WDPA_matching_results/BaE_wk24/BaE_pa_19450_matching_results_wk24.RDS\u001b[34m\u001b[39m already exists at \u001b[34m\u001b[34m/projects/.local/share/R/s3/maap-ops-workspace/shared/leitoldv/GEDI_global_PA_v2/WDPA_matching_results/BaE_wk24/BaE_pa_19450_matching_results_wk24.RDS\u001b[34m\u001b[39m\n",
      "\n"
     ]
    },
    {
     "name": "stdout",
     "output_type": "stream",
     "text": [
      "[1] \"BaE_pa_19505_matching_results_wk24.RDS\"\n"
     ]
    },
    {
     "name": "stderr",
     "output_type": "stream",
     "text": [
      "\u001b[36mℹ\u001b[39m \u001b[34m\u001b[34ms3://maap-ops-workspace/shared/leitoldv/GEDI_global_PA_v2/WDPA_matching_results/BaE_wk24/BaE_pa_19505_matching_results_wk24.RDS\u001b[34m\u001b[39m already exists at \u001b[34m\u001b[34m/projects/.local/share/R/s3/maap-ops-workspace/shared/leitoldv/GEDI_global_PA_v2/WDPA_matching_results/BaE_wk24/BaE_pa_19505_matching_results_wk24.RDS\u001b[34m\u001b[39m\n",
      "\n"
     ]
    },
    {
     "name": "stdout",
     "output_type": "stream",
     "text": [
      "[1] \"BaE_pa_19506_matching_results_wk24.RDS\"\n"
     ]
    },
    {
     "name": "stderr",
     "output_type": "stream",
     "text": [
      "\u001b[36mℹ\u001b[39m \u001b[34m\u001b[34ms3://maap-ops-workspace/shared/leitoldv/GEDI_global_PA_v2/WDPA_matching_results/BaE_wk24/BaE_pa_19506_matching_results_wk24.RDS\u001b[34m\u001b[39m already exists at \u001b[34m\u001b[34m/projects/.local/share/R/s3/maap-ops-workspace/shared/leitoldv/GEDI_global_PA_v2/WDPA_matching_results/BaE_wk24/BaE_pa_19506_matching_results_wk24.RDS\u001b[34m\u001b[39m\n",
      "\n"
     ]
    },
    {
     "name": "stdout",
     "output_type": "stream",
     "text": [
      "[1] \"BaE_pa_19745_matching_results_wk24.RDS\"\n"
     ]
    },
    {
     "name": "stderr",
     "output_type": "stream",
     "text": [
      "\u001b[36mℹ\u001b[39m \u001b[34m\u001b[34ms3://maap-ops-workspace/shared/leitoldv/GEDI_global_PA_v2/WDPA_matching_results/BaE_wk24/BaE_pa_19745_matching_results_wk24.RDS\u001b[34m\u001b[39m already exists at \u001b[34m\u001b[34m/projects/.local/share/R/s3/maap-ops-workspace/shared/leitoldv/GEDI_global_PA_v2/WDPA_matching_results/BaE_wk24/BaE_pa_19745_matching_results_wk24.RDS\u001b[34m\u001b[39m\n",
      "\n"
     ]
    },
    {
     "name": "stdout",
     "output_type": "stream",
     "text": [
      "[1] \"BaE_pa_19755_matching_results_wk24.RDS\"\n"
     ]
    },
    {
     "name": "stderr",
     "output_type": "stream",
     "text": [
      "\u001b[36mℹ\u001b[39m \u001b[34m\u001b[34ms3://maap-ops-workspace/shared/leitoldv/GEDI_global_PA_v2/WDPA_matching_results/BaE_wk24/BaE_pa_19755_matching_results_wk24.RDS\u001b[34m\u001b[39m already exists at \u001b[34m\u001b[34m/projects/.local/share/R/s3/maap-ops-workspace/shared/leitoldv/GEDI_global_PA_v2/WDPA_matching_results/BaE_wk24/BaE_pa_19755_matching_results_wk24.RDS\u001b[34m\u001b[39m\n",
      "\n"
     ]
    },
    {
     "name": "stdout",
     "output_type": "stream",
     "text": [
      "[1] \"BaE_pa_198359_matching_results_wk24.RDS\"\n"
     ]
    },
    {
     "name": "stderr",
     "output_type": "stream",
     "text": [
      "\u001b[36mℹ\u001b[39m \u001b[34m\u001b[34ms3://maap-ops-workspace/shared/leitoldv/GEDI_global_PA_v2/WDPA_matching_results/BaE_wk24/BaE_pa_198359_matching_results_wk24.RDS\u001b[34m\u001b[39m already exists at \u001b[34m\u001b[34m/projects/.local/share/R/s3/maap-ops-workspace/shared/leitoldv/GEDI_global_PA_v2/WDPA_matching_results/BaE_wk24/BaE_pa_198359_matching_results_wk24.RDS\u001b[34m\u001b[39m\n",
      "\n"
     ]
    },
    {
     "name": "stdout",
     "output_type": "stream",
     "text": [
      "[1] \"BaE_pa_198360_matching_results_wk24.RDS\"\n"
     ]
    },
    {
     "name": "stderr",
     "output_type": "stream",
     "text": [
      "\u001b[36mℹ\u001b[39m \u001b[34m\u001b[34ms3://maap-ops-workspace/shared/leitoldv/GEDI_global_PA_v2/WDPA_matching_results/BaE_wk24/BaE_pa_198360_matching_results_wk24.RDS\u001b[34m\u001b[39m already exists at \u001b[34m\u001b[34m/projects/.local/share/R/s3/maap-ops-workspace/shared/leitoldv/GEDI_global_PA_v2/WDPA_matching_results/BaE_wk24/BaE_pa_198360_matching_results_wk24.RDS\u001b[34m\u001b[39m\n",
      "\n"
     ]
    },
    {
     "name": "stdout",
     "output_type": "stream",
     "text": [
      "[1] \"BaE_pa_198361_matching_results_wk24.RDS\"\n"
     ]
    },
    {
     "name": "stderr",
     "output_type": "stream",
     "text": [
      "\u001b[36mℹ\u001b[39m \u001b[34m\u001b[34ms3://maap-ops-workspace/shared/leitoldv/GEDI_global_PA_v2/WDPA_matching_results/BaE_wk24/BaE_pa_198361_matching_results_wk24.RDS\u001b[34m\u001b[39m already exists at \u001b[34m\u001b[34m/projects/.local/share/R/s3/maap-ops-workspace/shared/leitoldv/GEDI_global_PA_v2/WDPA_matching_results/BaE_wk24/BaE_pa_198361_matching_results_wk24.RDS\u001b[34m\u001b[39m\n",
      "\n"
     ]
    },
    {
     "name": "stdout",
     "output_type": "stream",
     "text": [
      "[1] \"BaE_pa_198362_matching_results_wk24.RDS\"\n"
     ]
    },
    {
     "name": "stderr",
     "output_type": "stream",
     "text": [
      "\u001b[36mℹ\u001b[39m \u001b[34m\u001b[34ms3://maap-ops-workspace/shared/leitoldv/GEDI_global_PA_v2/WDPA_matching_results/BaE_wk24/BaE_pa_198362_matching_results_wk24.RDS\u001b[34m\u001b[39m already exists at \u001b[34m\u001b[34m/projects/.local/share/R/s3/maap-ops-workspace/shared/leitoldv/GEDI_global_PA_v2/WDPA_matching_results/BaE_wk24/BaE_pa_198362_matching_results_wk24.RDS\u001b[34m\u001b[39m\n",
      "\n"
     ]
    },
    {
     "name": "stdout",
     "output_type": "stream",
     "text": [
      "[1] \"BaE_pa_198363_matching_results_wk24.RDS\"\n"
     ]
    },
    {
     "name": "stderr",
     "output_type": "stream",
     "text": [
      "\u001b[36mℹ\u001b[39m \u001b[34m\u001b[34ms3://maap-ops-workspace/shared/leitoldv/GEDI_global_PA_v2/WDPA_matching_results/BaE_wk24/BaE_pa_198363_matching_results_wk24.RDS\u001b[34m\u001b[39m already exists at \u001b[34m\u001b[34m/projects/.local/share/R/s3/maap-ops-workspace/shared/leitoldv/GEDI_global_PA_v2/WDPA_matching_results/BaE_wk24/BaE_pa_198363_matching_results_wk24.RDS\u001b[34m\u001b[39m\n",
      "\n"
     ]
    },
    {
     "name": "stdout",
     "output_type": "stream",
     "text": [
      "[1] \"BaE_pa_2219_matching_results_wk24.RDS\"\n"
     ]
    },
    {
     "name": "stderr",
     "output_type": "stream",
     "text": [
      "\u001b[36mℹ\u001b[39m \u001b[34m\u001b[34ms3://maap-ops-workspace/shared/leitoldv/GEDI_global_PA_v2/WDPA_matching_results/BaE_wk24/BaE_pa_2219_matching_results_wk24.RDS\u001b[34m\u001b[39m already exists at \u001b[34m\u001b[34m/projects/.local/share/R/s3/maap-ops-workspace/shared/leitoldv/GEDI_global_PA_v2/WDPA_matching_results/BaE_wk24/BaE_pa_2219_matching_results_wk24.RDS\u001b[34m\u001b[39m\n",
      "\n"
     ]
    },
    {
     "name": "stdout",
     "output_type": "stream",
     "text": [
      "[1] \"BaE_pa_31769_matching_results_wk24.RDS\"\n"
     ]
    },
    {
     "name": "stderr",
     "output_type": "stream",
     "text": [
      "\u001b[36mℹ\u001b[39m \u001b[34m\u001b[34ms3://maap-ops-workspace/shared/leitoldv/GEDI_global_PA_v2/WDPA_matching_results/BaE_wk24/BaE_pa_31769_matching_results_wk24.RDS\u001b[34m\u001b[39m already exists at \u001b[34m\u001b[34m/projects/.local/share/R/s3/maap-ops-workspace/shared/leitoldv/GEDI_global_PA_v2/WDPA_matching_results/BaE_wk24/BaE_pa_31769_matching_results_wk24.RDS\u001b[34m\u001b[39m\n",
      "\n"
     ]
    },
    {
     "name": "stdout",
     "output_type": "stream",
     "text": [
      "[1] \"BaE_pa_31770_matching_results_wk24.RDS\"\n"
     ]
    },
    {
     "name": "stderr",
     "output_type": "stream",
     "text": [
      "\u001b[36mℹ\u001b[39m \u001b[34m\u001b[34ms3://maap-ops-workspace/shared/leitoldv/GEDI_global_PA_v2/WDPA_matching_results/BaE_wk24/BaE_pa_31770_matching_results_wk24.RDS\u001b[34m\u001b[39m already exists at \u001b[34m\u001b[34m/projects/.local/share/R/s3/maap-ops-workspace/shared/leitoldv/GEDI_global_PA_v2/WDPA_matching_results/BaE_wk24/BaE_pa_31770_matching_results_wk24.RDS\u001b[34m\u001b[39m\n",
      "\n"
     ]
    },
    {
     "name": "stdout",
     "output_type": "stream",
     "text": [
      "[1] \"BaE_pa_31776_matching_results_wk24.RDS\"\n"
     ]
    },
    {
     "name": "stderr",
     "output_type": "stream",
     "text": [
      "\u001b[36mℹ\u001b[39m \u001b[34m\u001b[34ms3://maap-ops-workspace/shared/leitoldv/GEDI_global_PA_v2/WDPA_matching_results/BaE_wk24/BaE_pa_31776_matching_results_wk24.RDS\u001b[34m\u001b[39m already exists at \u001b[34m\u001b[34m/projects/.local/share/R/s3/maap-ops-workspace/shared/leitoldv/GEDI_global_PA_v2/WDPA_matching_results/BaE_wk24/BaE_pa_31776_matching_results_wk24.RDS\u001b[34m\u001b[39m\n",
      "\n"
     ]
    },
    {
     "name": "stdout",
     "output_type": "stream",
     "text": [
      "[1] \"BaE_pa_33524_matching_results_wk24.RDS\"\n"
     ]
    },
    {
     "name": "stderr",
     "output_type": "stream",
     "text": [
      "\u001b[36mℹ\u001b[39m \u001b[34m\u001b[34ms3://maap-ops-workspace/shared/leitoldv/GEDI_global_PA_v2/WDPA_matching_results/BaE_wk24/BaE_pa_33524_matching_results_wk24.RDS\u001b[34m\u001b[39m already exists at \u001b[34m\u001b[34m/projects/.local/share/R/s3/maap-ops-workspace/shared/leitoldv/GEDI_global_PA_v2/WDPA_matching_results/BaE_wk24/BaE_pa_33524_matching_results_wk24.RDS\u001b[34m\u001b[39m\n",
      "\n"
     ]
    },
    {
     "name": "stdout",
     "output_type": "stream",
     "text": [
      "[1] \"BaE_pa_33569_matching_results_wk24.RDS\"\n"
     ]
    },
    {
     "name": "stderr",
     "output_type": "stream",
     "text": [
      "\u001b[36mℹ\u001b[39m \u001b[34m\u001b[34ms3://maap-ops-workspace/shared/leitoldv/GEDI_global_PA_v2/WDPA_matching_results/BaE_wk24/BaE_pa_33569_matching_results_wk24.RDS\u001b[34m\u001b[39m already exists at \u001b[34m\u001b[34m/projects/.local/share/R/s3/maap-ops-workspace/shared/leitoldv/GEDI_global_PA_v2/WDPA_matching_results/BaE_wk24/BaE_pa_33569_matching_results_wk24.RDS\u001b[34m\u001b[39m\n",
      "\n"
     ]
    },
    {
     "name": "stdout",
     "output_type": "stream",
     "text": [
      "[1] \"BaE_pa_33623_matching_results_wk24.RDS\"\n"
     ]
    },
    {
     "name": "stderr",
     "output_type": "stream",
     "text": [
      "\u001b[36mℹ\u001b[39m \u001b[34m\u001b[34ms3://maap-ops-workspace/shared/leitoldv/GEDI_global_PA_v2/WDPA_matching_results/BaE_wk24/BaE_pa_33623_matching_results_wk24.RDS\u001b[34m\u001b[39m already exists at \u001b[34m\u001b[34m/projects/.local/share/R/s3/maap-ops-workspace/shared/leitoldv/GEDI_global_PA_v2/WDPA_matching_results/BaE_wk24/BaE_pa_33623_matching_results_wk24.RDS\u001b[34m\u001b[39m\n",
      "\n"
     ]
    },
    {
     "name": "stdout",
     "output_type": "stream",
     "text": [
      "[1] \"BaE_pa_33712_matching_results_wk24.RDS\"\n"
     ]
    },
    {
     "name": "stderr",
     "output_type": "stream",
     "text": [
      "\u001b[36mℹ\u001b[39m \u001b[34m\u001b[34ms3://maap-ops-workspace/shared/leitoldv/GEDI_global_PA_v2/WDPA_matching_results/BaE_wk24/BaE_pa_33712_matching_results_wk24.RDS\u001b[34m\u001b[39m already exists at \u001b[34m\u001b[34m/projects/.local/share/R/s3/maap-ops-workspace/shared/leitoldv/GEDI_global_PA_v2/WDPA_matching_results/BaE_wk24/BaE_pa_33712_matching_results_wk24.RDS\u001b[34m\u001b[39m\n",
      "\n"
     ]
    },
    {
     "name": "stdout",
     "output_type": "stream",
     "text": [
      "[1] \"BaE_pa_33809_matching_results_wk24.RDS\"\n"
     ]
    },
    {
     "name": "stderr",
     "output_type": "stream",
     "text": [
      "\u001b[36mℹ\u001b[39m \u001b[34m\u001b[34ms3://maap-ops-workspace/shared/leitoldv/GEDI_global_PA_v2/WDPA_matching_results/BaE_wk24/BaE_pa_33809_matching_results_wk24.RDS\u001b[34m\u001b[39m already exists at \u001b[34m\u001b[34m/projects/.local/share/R/s3/maap-ops-workspace/shared/leitoldv/GEDI_global_PA_v2/WDPA_matching_results/BaE_wk24/BaE_pa_33809_matching_results_wk24.RDS\u001b[34m\u001b[39m\n",
      "\n"
     ]
    },
    {
     "name": "stdout",
     "output_type": "stream",
     "text": [
      "[1] \"BaE_pa_33810_matching_results_wk24.RDS\"\n"
     ]
    },
    {
     "name": "stderr",
     "output_type": "stream",
     "text": [
      "\u001b[36mℹ\u001b[39m \u001b[34m\u001b[34ms3://maap-ops-workspace/shared/leitoldv/GEDI_global_PA_v2/WDPA_matching_results/BaE_wk24/BaE_pa_33810_matching_results_wk24.RDS\u001b[34m\u001b[39m already exists at \u001b[34m\u001b[34m/projects/.local/share/R/s3/maap-ops-workspace/shared/leitoldv/GEDI_global_PA_v2/WDPA_matching_results/BaE_wk24/BaE_pa_33810_matching_results_wk24.RDS\u001b[34m\u001b[39m\n",
      "\n"
     ]
    },
    {
     "name": "stdout",
     "output_type": "stream",
     "text": [
      "[1] \"BaE_pa_33811_matching_results_wk24.RDS\"\n"
     ]
    },
    {
     "name": "stderr",
     "output_type": "stream",
     "text": [
      "\u001b[36mℹ\u001b[39m \u001b[34m\u001b[34ms3://maap-ops-workspace/shared/leitoldv/GEDI_global_PA_v2/WDPA_matching_results/BaE_wk24/BaE_pa_33811_matching_results_wk24.RDS\u001b[34m\u001b[39m already exists at \u001b[34m\u001b[34m/projects/.local/share/R/s3/maap-ops-workspace/shared/leitoldv/GEDI_global_PA_v2/WDPA_matching_results/BaE_wk24/BaE_pa_33811_matching_results_wk24.RDS\u001b[34m\u001b[39m\n",
      "\n"
     ]
    },
    {
     "name": "stdout",
     "output_type": "stream",
     "text": [
      "[1] \"BaE_pa_33812_matching_results_wk24.RDS\"\n"
     ]
    },
    {
     "name": "stderr",
     "output_type": "stream",
     "text": [
      "\u001b[36mℹ\u001b[39m \u001b[34m\u001b[34ms3://maap-ops-workspace/shared/leitoldv/GEDI_global_PA_v2/WDPA_matching_results/BaE_wk24/BaE_pa_33812_matching_results_wk24.RDS\u001b[34m\u001b[39m already exists at \u001b[34m\u001b[34m/projects/.local/share/R/s3/maap-ops-workspace/shared/leitoldv/GEDI_global_PA_v2/WDPA_matching_results/BaE_wk24/BaE_pa_33812_matching_results_wk24.RDS\u001b[34m\u001b[39m\n",
      "\n"
     ]
    },
    {
     "name": "stdout",
     "output_type": "stream",
     "text": [
      "[1] \"BaE_pa_33889_matching_results_wk24.RDS\"\n"
     ]
    },
    {
     "name": "stderr",
     "output_type": "stream",
     "text": [
      "\u001b[36mℹ\u001b[39m \u001b[34m\u001b[34ms3://maap-ops-workspace/shared/leitoldv/GEDI_global_PA_v2/WDPA_matching_results/BaE_wk24/BaE_pa_33889_matching_results_wk24.RDS\u001b[34m\u001b[39m already exists at \u001b[34m\u001b[34m/projects/.local/share/R/s3/maap-ops-workspace/shared/leitoldv/GEDI_global_PA_v2/WDPA_matching_results/BaE_wk24/BaE_pa_33889_matching_results_wk24.RDS\u001b[34m\u001b[39m\n",
      "\n"
     ]
    },
    {
     "name": "stdout",
     "output_type": "stream",
     "text": [
      "[1] \"BaE_pa_33926_matching_results_wk24.RDS\"\n"
     ]
    },
    {
     "name": "stderr",
     "output_type": "stream",
     "text": [
      "\u001b[36mℹ\u001b[39m \u001b[34m\u001b[34ms3://maap-ops-workspace/shared/leitoldv/GEDI_global_PA_v2/WDPA_matching_results/BaE_wk24/BaE_pa_33926_matching_results_wk24.RDS\u001b[34m\u001b[39m already exists at \u001b[34m\u001b[34m/projects/.local/share/R/s3/maap-ops-workspace/shared/leitoldv/GEDI_global_PA_v2/WDPA_matching_results/BaE_wk24/BaE_pa_33926_matching_results_wk24.RDS\u001b[34m\u001b[39m\n",
      "\n"
     ]
    },
    {
     "name": "stdout",
     "output_type": "stream",
     "text": [
      "[1] \"BaE_pa_33927_matching_results_wk24.RDS\"\n"
     ]
    },
    {
     "name": "stderr",
     "output_type": "stream",
     "text": [
      "\u001b[36mℹ\u001b[39m \u001b[34m\u001b[34ms3://maap-ops-workspace/shared/leitoldv/GEDI_global_PA_v2/WDPA_matching_results/BaE_wk24/BaE_pa_33927_matching_results_wk24.RDS\u001b[34m\u001b[39m already exists at \u001b[34m\u001b[34m/projects/.local/share/R/s3/maap-ops-workspace/shared/leitoldv/GEDI_global_PA_v2/WDPA_matching_results/BaE_wk24/BaE_pa_33927_matching_results_wk24.RDS\u001b[34m\u001b[39m\n",
      "\n"
     ]
    },
    {
     "name": "stdout",
     "output_type": "stream",
     "text": [
      "[1] \"BaE_pa_33928_matching_results_wk24.RDS\"\n"
     ]
    },
    {
     "name": "stderr",
     "output_type": "stream",
     "text": [
      "\u001b[36mℹ\u001b[39m \u001b[34m\u001b[34ms3://maap-ops-workspace/shared/leitoldv/GEDI_global_PA_v2/WDPA_matching_results/BaE_wk24/BaE_pa_33928_matching_results_wk24.RDS\u001b[34m\u001b[39m already exists at \u001b[34m\u001b[34m/projects/.local/share/R/s3/maap-ops-workspace/shared/leitoldv/GEDI_global_PA_v2/WDPA_matching_results/BaE_wk24/BaE_pa_33928_matching_results_wk24.RDS\u001b[34m\u001b[39m\n",
      "\n"
     ]
    },
    {
     "name": "stdout",
     "output_type": "stream",
     "text": [
      "[1] \"BaE_pa_33931_matching_results_wk24.RDS\"\n"
     ]
    },
    {
     "name": "stderr",
     "output_type": "stream",
     "text": [
      "\u001b[36mℹ\u001b[39m \u001b[34m\u001b[34ms3://maap-ops-workspace/shared/leitoldv/GEDI_global_PA_v2/WDPA_matching_results/BaE_wk24/BaE_pa_33931_matching_results_wk24.RDS\u001b[34m\u001b[39m already exists at \u001b[34m\u001b[34m/projects/.local/share/R/s3/maap-ops-workspace/shared/leitoldv/GEDI_global_PA_v2/WDPA_matching_results/BaE_wk24/BaE_pa_33931_matching_results_wk24.RDS\u001b[34m\u001b[39m\n",
      "\n"
     ]
    },
    {
     "name": "stdout",
     "output_type": "stream",
     "text": [
      "[1] \"BaE_pa_33932_matching_results_wk24.RDS\"\n"
     ]
    },
    {
     "name": "stderr",
     "output_type": "stream",
     "text": [
      "\u001b[36mℹ\u001b[39m \u001b[34m\u001b[34ms3://maap-ops-workspace/shared/leitoldv/GEDI_global_PA_v2/WDPA_matching_results/BaE_wk24/BaE_pa_33932_matching_results_wk24.RDS\u001b[34m\u001b[39m already exists at \u001b[34m\u001b[34m/projects/.local/share/R/s3/maap-ops-workspace/shared/leitoldv/GEDI_global_PA_v2/WDPA_matching_results/BaE_wk24/BaE_pa_33932_matching_results_wk24.RDS\u001b[34m\u001b[39m\n",
      "\n"
     ]
    },
    {
     "name": "stdout",
     "output_type": "stream",
     "text": [
      "[1] \"BaE_pa_33933_matching_results_wk24.RDS\"\n"
     ]
    },
    {
     "name": "stderr",
     "output_type": "stream",
     "text": [
      "\u001b[36mℹ\u001b[39m \u001b[34m\u001b[34ms3://maap-ops-workspace/shared/leitoldv/GEDI_global_PA_v2/WDPA_matching_results/BaE_wk24/BaE_pa_33933_matching_results_wk24.RDS\u001b[34m\u001b[39m already exists at \u001b[34m\u001b[34m/projects/.local/share/R/s3/maap-ops-workspace/shared/leitoldv/GEDI_global_PA_v2/WDPA_matching_results/BaE_wk24/BaE_pa_33933_matching_results_wk24.RDS\u001b[34m\u001b[39m\n",
      "\n"
     ]
    },
    {
     "name": "stdout",
     "output_type": "stream",
     "text": [
      "[1] \"BaE_pa_33939_matching_results_wk24.RDS\"\n"
     ]
    },
    {
     "name": "stderr",
     "output_type": "stream",
     "text": [
      "\u001b[36mℹ\u001b[39m \u001b[34m\u001b[34ms3://maap-ops-workspace/shared/leitoldv/GEDI_global_PA_v2/WDPA_matching_results/BaE_wk24/BaE_pa_33939_matching_results_wk24.RDS\u001b[34m\u001b[39m already exists at \u001b[34m\u001b[34m/projects/.local/share/R/s3/maap-ops-workspace/shared/leitoldv/GEDI_global_PA_v2/WDPA_matching_results/BaE_wk24/BaE_pa_33939_matching_results_wk24.RDS\u001b[34m\u001b[39m\n",
      "\n"
     ]
    },
    {
     "name": "stdout",
     "output_type": "stream",
     "text": [
      "[1] \"BaE_pa_33941_matching_results_wk24.RDS\"\n"
     ]
    },
    {
     "name": "stderr",
     "output_type": "stream",
     "text": [
      "\u001b[36mℹ\u001b[39m \u001b[34m\u001b[34ms3://maap-ops-workspace/shared/leitoldv/GEDI_global_PA_v2/WDPA_matching_results/BaE_wk24/BaE_pa_33941_matching_results_wk24.RDS\u001b[34m\u001b[39m already exists at \u001b[34m\u001b[34m/projects/.local/share/R/s3/maap-ops-workspace/shared/leitoldv/GEDI_global_PA_v2/WDPA_matching_results/BaE_wk24/BaE_pa_33941_matching_results_wk24.RDS\u001b[34m\u001b[39m\n",
      "\n"
     ]
    },
    {
     "name": "stdout",
     "output_type": "stream",
     "text": [
      "[1] \"BaE_pa_33942_matching_results_wk24.RDS\"\n"
     ]
    },
    {
     "name": "stderr",
     "output_type": "stream",
     "text": [
      "\u001b[36mℹ\u001b[39m \u001b[34m\u001b[34ms3://maap-ops-workspace/shared/leitoldv/GEDI_global_PA_v2/WDPA_matching_results/BaE_wk24/BaE_pa_33942_matching_results_wk24.RDS\u001b[34m\u001b[39m already exists at \u001b[34m\u001b[34m/projects/.local/share/R/s3/maap-ops-workspace/shared/leitoldv/GEDI_global_PA_v2/WDPA_matching_results/BaE_wk24/BaE_pa_33942_matching_results_wk24.RDS\u001b[34m\u001b[39m\n",
      "\n"
     ]
    },
    {
     "name": "stdout",
     "output_type": "stream",
     "text": [
      "[1] \"BaE_pa_33951_matching_results_wk24.RDS\"\n"
     ]
    },
    {
     "name": "stderr",
     "output_type": "stream",
     "text": [
      "\u001b[36mℹ\u001b[39m \u001b[34m\u001b[34ms3://maap-ops-workspace/shared/leitoldv/GEDI_global_PA_v2/WDPA_matching_results/BaE_wk24/BaE_pa_33951_matching_results_wk24.RDS\u001b[34m\u001b[39m already exists at \u001b[34m\u001b[34m/projects/.local/share/R/s3/maap-ops-workspace/shared/leitoldv/GEDI_global_PA_v2/WDPA_matching_results/BaE_wk24/BaE_pa_33951_matching_results_wk24.RDS\u001b[34m\u001b[39m\n",
      "\n"
     ]
    },
    {
     "name": "stdout",
     "output_type": "stream",
     "text": [
      "[1] \"BaE_pa_33952_matching_results_wk24.RDS\"\n"
     ]
    },
    {
     "name": "stderr",
     "output_type": "stream",
     "text": [
      "\u001b[36mℹ\u001b[39m \u001b[34m\u001b[34ms3://maap-ops-workspace/shared/leitoldv/GEDI_global_PA_v2/WDPA_matching_results/BaE_wk24/BaE_pa_33952_matching_results_wk24.RDS\u001b[34m\u001b[39m already exists at \u001b[34m\u001b[34m/projects/.local/share/R/s3/maap-ops-workspace/shared/leitoldv/GEDI_global_PA_v2/WDPA_matching_results/BaE_wk24/BaE_pa_33952_matching_results_wk24.RDS\u001b[34m\u001b[39m\n",
      "\n"
     ]
    },
    {
     "name": "stdout",
     "output_type": "stream",
     "text": [
      "[1] \"BaE_pa_33953_matching_results_wk24.RDS\"\n"
     ]
    },
    {
     "name": "stderr",
     "output_type": "stream",
     "text": [
      "\u001b[36mℹ\u001b[39m \u001b[34m\u001b[34ms3://maap-ops-workspace/shared/leitoldv/GEDI_global_PA_v2/WDPA_matching_results/BaE_wk24/BaE_pa_33953_matching_results_wk24.RDS\u001b[34m\u001b[39m already exists at \u001b[34m\u001b[34m/projects/.local/share/R/s3/maap-ops-workspace/shared/leitoldv/GEDI_global_PA_v2/WDPA_matching_results/BaE_wk24/BaE_pa_33953_matching_results_wk24.RDS\u001b[34m\u001b[39m\n",
      "\n"
     ]
    },
    {
     "name": "stdout",
     "output_type": "stream",
     "text": [
      "[1] \"BaE_pa_33957_matching_results_wk24.RDS\"\n"
     ]
    },
    {
     "name": "stderr",
     "output_type": "stream",
     "text": [
      "\u001b[36mℹ\u001b[39m \u001b[34m\u001b[34ms3://maap-ops-workspace/shared/leitoldv/GEDI_global_PA_v2/WDPA_matching_results/BaE_wk24/BaE_pa_33957_matching_results_wk24.RDS\u001b[34m\u001b[39m already exists at \u001b[34m\u001b[34m/projects/.local/share/R/s3/maap-ops-workspace/shared/leitoldv/GEDI_global_PA_v2/WDPA_matching_results/BaE_wk24/BaE_pa_33957_matching_results_wk24.RDS\u001b[34m\u001b[39m\n",
      "\n"
     ]
    },
    {
     "name": "stdout",
     "output_type": "stream",
     "text": [
      "[1] \"BaE_pa_33958_matching_results_wk24.RDS\"\n"
     ]
    },
    {
     "name": "stderr",
     "output_type": "stream",
     "text": [
      "\u001b[36mℹ\u001b[39m \u001b[34m\u001b[34ms3://maap-ops-workspace/shared/leitoldv/GEDI_global_PA_v2/WDPA_matching_results/BaE_wk24/BaE_pa_33958_matching_results_wk24.RDS\u001b[34m\u001b[39m already exists at \u001b[34m\u001b[34m/projects/.local/share/R/s3/maap-ops-workspace/shared/leitoldv/GEDI_global_PA_v2/WDPA_matching_results/BaE_wk24/BaE_pa_33958_matching_results_wk24.RDS\u001b[34m\u001b[39m\n",
      "\n"
     ]
    },
    {
     "name": "stdout",
     "output_type": "stream",
     "text": [
      "[1] \"BaE_pa_33965_matching_results_wk24.RDS\"\n"
     ]
    },
    {
     "name": "stderr",
     "output_type": "stream",
     "text": [
      "\u001b[36mℹ\u001b[39m \u001b[34m\u001b[34ms3://maap-ops-workspace/shared/leitoldv/GEDI_global_PA_v2/WDPA_matching_results/BaE_wk24/BaE_pa_33965_matching_results_wk24.RDS\u001b[34m\u001b[39m already exists at \u001b[34m\u001b[34m/projects/.local/share/R/s3/maap-ops-workspace/shared/leitoldv/GEDI_global_PA_v2/WDPA_matching_results/BaE_wk24/BaE_pa_33965_matching_results_wk24.RDS\u001b[34m\u001b[39m\n",
      "\n"
     ]
    },
    {
     "name": "stdout",
     "output_type": "stream",
     "text": [
      "[1] \"BaE_pa_33969_matching_results_wk24.RDS\"\n"
     ]
    },
    {
     "name": "stderr",
     "output_type": "stream",
     "text": [
      "\u001b[36mℹ\u001b[39m \u001b[34m\u001b[34ms3://maap-ops-workspace/shared/leitoldv/GEDI_global_PA_v2/WDPA_matching_results/BaE_wk24/BaE_pa_33969_matching_results_wk24.RDS\u001b[34m\u001b[39m already exists at \u001b[34m\u001b[34m/projects/.local/share/R/s3/maap-ops-workspace/shared/leitoldv/GEDI_global_PA_v2/WDPA_matching_results/BaE_wk24/BaE_pa_33969_matching_results_wk24.RDS\u001b[34m\u001b[39m\n",
      "\n"
     ]
    },
    {
     "name": "stdout",
     "output_type": "stream",
     "text": [
      "[1] \"BaE_pa_33972_matching_results_wk24.RDS\"\n"
     ]
    },
    {
     "name": "stderr",
     "output_type": "stream",
     "text": [
      "\u001b[36mℹ\u001b[39m \u001b[34m\u001b[34ms3://maap-ops-workspace/shared/leitoldv/GEDI_global_PA_v2/WDPA_matching_results/BaE_wk24/BaE_pa_33972_matching_results_wk24.RDS\u001b[34m\u001b[39m already exists at \u001b[34m\u001b[34m/projects/.local/share/R/s3/maap-ops-workspace/shared/leitoldv/GEDI_global_PA_v2/WDPA_matching_results/BaE_wk24/BaE_pa_33972_matching_results_wk24.RDS\u001b[34m\u001b[39m\n",
      "\n"
     ]
    },
    {
     "name": "stdout",
     "output_type": "stream",
     "text": [
      "[1] \"BaE_pa_33980_matching_results_wk24.RDS\"\n"
     ]
    },
    {
     "name": "stderr",
     "output_type": "stream",
     "text": [
      "\u001b[36mℹ\u001b[39m \u001b[34m\u001b[34ms3://maap-ops-workspace/shared/leitoldv/GEDI_global_PA_v2/WDPA_matching_results/BaE_wk24/BaE_pa_33980_matching_results_wk24.RDS\u001b[34m\u001b[39m already exists at \u001b[34m\u001b[34m/projects/.local/share/R/s3/maap-ops-workspace/shared/leitoldv/GEDI_global_PA_v2/WDPA_matching_results/BaE_wk24/BaE_pa_33980_matching_results_wk24.RDS\u001b[34m\u001b[39m\n",
      "\n"
     ]
    },
    {
     "name": "stdout",
     "output_type": "stream",
     "text": [
      "[1] \"BaE_pa_33981_matching_results_wk24.RDS\"\n"
     ]
    },
    {
     "name": "stderr",
     "output_type": "stream",
     "text": [
      "\u001b[36mℹ\u001b[39m \u001b[34m\u001b[34ms3://maap-ops-workspace/shared/leitoldv/GEDI_global_PA_v2/WDPA_matching_results/BaE_wk24/BaE_pa_33981_matching_results_wk24.RDS\u001b[34m\u001b[39m already exists at \u001b[34m\u001b[34m/projects/.local/share/R/s3/maap-ops-workspace/shared/leitoldv/GEDI_global_PA_v2/WDPA_matching_results/BaE_wk24/BaE_pa_33981_matching_results_wk24.RDS\u001b[34m\u001b[39m\n",
      "\n"
     ]
    },
    {
     "name": "stdout",
     "output_type": "stream",
     "text": [
      "[1] \"BaE_pa_33987_matching_results_wk24.RDS\"\n"
     ]
    },
    {
     "name": "stderr",
     "output_type": "stream",
     "text": [
      "\u001b[36mℹ\u001b[39m \u001b[34m\u001b[34ms3://maap-ops-workspace/shared/leitoldv/GEDI_global_PA_v2/WDPA_matching_results/BaE_wk24/BaE_pa_33987_matching_results_wk24.RDS\u001b[34m\u001b[39m already exists at \u001b[34m\u001b[34m/projects/.local/share/R/s3/maap-ops-workspace/shared/leitoldv/GEDI_global_PA_v2/WDPA_matching_results/BaE_wk24/BaE_pa_33987_matching_results_wk24.RDS\u001b[34m\u001b[39m\n",
      "\n"
     ]
    },
    {
     "name": "stdout",
     "output_type": "stream",
     "text": [
      "[1] \"BaE_pa_33989_matching_results_wk24.RDS\"\n"
     ]
    },
    {
     "name": "stderr",
     "output_type": "stream",
     "text": [
      "\u001b[36mℹ\u001b[39m \u001b[34m\u001b[34ms3://maap-ops-workspace/shared/leitoldv/GEDI_global_PA_v2/WDPA_matching_results/BaE_wk24/BaE_pa_33989_matching_results_wk24.RDS\u001b[34m\u001b[39m already exists at \u001b[34m\u001b[34m/projects/.local/share/R/s3/maap-ops-workspace/shared/leitoldv/GEDI_global_PA_v2/WDPA_matching_results/BaE_wk24/BaE_pa_33989_matching_results_wk24.RDS\u001b[34m\u001b[39m\n",
      "\n"
     ]
    },
    {
     "name": "stdout",
     "output_type": "stream",
     "text": [
      "[1] \"BaE_pa_33990_matching_results_wk24.RDS\"\n"
     ]
    },
    {
     "name": "stderr",
     "output_type": "stream",
     "text": [
      "\u001b[36mℹ\u001b[39m \u001b[34m\u001b[34ms3://maap-ops-workspace/shared/leitoldv/GEDI_global_PA_v2/WDPA_matching_results/BaE_wk24/BaE_pa_33990_matching_results_wk24.RDS\u001b[34m\u001b[39m already exists at \u001b[34m\u001b[34m/projects/.local/share/R/s3/maap-ops-workspace/shared/leitoldv/GEDI_global_PA_v2/WDPA_matching_results/BaE_wk24/BaE_pa_33990_matching_results_wk24.RDS\u001b[34m\u001b[39m\n",
      "\n"
     ]
    },
    {
     "name": "stdout",
     "output_type": "stream",
     "text": [
      "[1] \"BaE_pa_33991_matching_results_wk24.RDS\"\n"
     ]
    },
    {
     "name": "stderr",
     "output_type": "stream",
     "text": [
      "\u001b[36mℹ\u001b[39m \u001b[34m\u001b[34ms3://maap-ops-workspace/shared/leitoldv/GEDI_global_PA_v2/WDPA_matching_results/BaE_wk24/BaE_pa_33991_matching_results_wk24.RDS\u001b[34m\u001b[39m already exists at \u001b[34m\u001b[34m/projects/.local/share/R/s3/maap-ops-workspace/shared/leitoldv/GEDI_global_PA_v2/WDPA_matching_results/BaE_wk24/BaE_pa_33991_matching_results_wk24.RDS\u001b[34m\u001b[39m\n",
      "\n"
     ]
    },
    {
     "name": "stdout",
     "output_type": "stream",
     "text": [
      "[1] \"BaE_pa_33992_matching_results_wk24.RDS\"\n"
     ]
    },
    {
     "name": "stderr",
     "output_type": "stream",
     "text": [
      "\u001b[36mℹ\u001b[39m \u001b[34m\u001b[34ms3://maap-ops-workspace/shared/leitoldv/GEDI_global_PA_v2/WDPA_matching_results/BaE_wk24/BaE_pa_33992_matching_results_wk24.RDS\u001b[34m\u001b[39m already exists at \u001b[34m\u001b[34m/projects/.local/share/R/s3/maap-ops-workspace/shared/leitoldv/GEDI_global_PA_v2/WDPA_matching_results/BaE_wk24/BaE_pa_33992_matching_results_wk24.RDS\u001b[34m\u001b[39m\n",
      "\n"
     ]
    },
    {
     "name": "stdout",
     "output_type": "stream",
     "text": [
      "[1] \"BaE_pa_33993_matching_results_wk24.RDS\"\n"
     ]
    },
    {
     "name": "stderr",
     "output_type": "stream",
     "text": [
      "\u001b[36mℹ\u001b[39m \u001b[34m\u001b[34ms3://maap-ops-workspace/shared/leitoldv/GEDI_global_PA_v2/WDPA_matching_results/BaE_wk24/BaE_pa_33993_matching_results_wk24.RDS\u001b[34m\u001b[39m already exists at \u001b[34m\u001b[34m/projects/.local/share/R/s3/maap-ops-workspace/shared/leitoldv/GEDI_global_PA_v2/WDPA_matching_results/BaE_wk24/BaE_pa_33993_matching_results_wk24.RDS\u001b[34m\u001b[39m\n",
      "\n"
     ]
    },
    {
     "name": "stdout",
     "output_type": "stream",
     "text": [
      "[1] \"BaE_pa_33994_matching_results_wk24.RDS\"\n"
     ]
    },
    {
     "name": "stderr",
     "output_type": "stream",
     "text": [
      "\u001b[36mℹ\u001b[39m \u001b[34m\u001b[34ms3://maap-ops-workspace/shared/leitoldv/GEDI_global_PA_v2/WDPA_matching_results/BaE_wk24/BaE_pa_33994_matching_results_wk24.RDS\u001b[34m\u001b[39m already exists at \u001b[34m\u001b[34m/projects/.local/share/R/s3/maap-ops-workspace/shared/leitoldv/GEDI_global_PA_v2/WDPA_matching_results/BaE_wk24/BaE_pa_33994_matching_results_wk24.RDS\u001b[34m\u001b[39m\n",
      "\n"
     ]
    },
    {
     "name": "stdout",
     "output_type": "stream",
     "text": [
      "[1] \"BaE_pa_33995_matching_results_wk24.RDS\"\n"
     ]
    },
    {
     "name": "stderr",
     "output_type": "stream",
     "text": [
      "\u001b[36mℹ\u001b[39m \u001b[34m\u001b[34ms3://maap-ops-workspace/shared/leitoldv/GEDI_global_PA_v2/WDPA_matching_results/BaE_wk24/BaE_pa_33995_matching_results_wk24.RDS\u001b[34m\u001b[39m already exists at \u001b[34m\u001b[34m/projects/.local/share/R/s3/maap-ops-workspace/shared/leitoldv/GEDI_global_PA_v2/WDPA_matching_results/BaE_wk24/BaE_pa_33995_matching_results_wk24.RDS\u001b[34m\u001b[39m\n",
      "\n"
     ]
    },
    {
     "name": "stdout",
     "output_type": "stream",
     "text": [
      "[1] \"BaE_pa_33998_matching_results_wk24.RDS\"\n"
     ]
    },
    {
     "name": "stderr",
     "output_type": "stream",
     "text": [
      "\u001b[36mℹ\u001b[39m \u001b[34m\u001b[34ms3://maap-ops-workspace/shared/leitoldv/GEDI_global_PA_v2/WDPA_matching_results/BaE_wk24/BaE_pa_33998_matching_results_wk24.RDS\u001b[34m\u001b[39m already exists at \u001b[34m\u001b[34m/projects/.local/share/R/s3/maap-ops-workspace/shared/leitoldv/GEDI_global_PA_v2/WDPA_matching_results/BaE_wk24/BaE_pa_33998_matching_results_wk24.RDS\u001b[34m\u001b[39m\n",
      "\n"
     ]
    },
    {
     "name": "stdout",
     "output_type": "stream",
     "text": [
      "[1] \"BaE_pa_34000_matching_results_wk24.RDS\"\n"
     ]
    },
    {
     "name": "stderr",
     "output_type": "stream",
     "text": [
      "\u001b[36mℹ\u001b[39m \u001b[34m\u001b[34ms3://maap-ops-workspace/shared/leitoldv/GEDI_global_PA_v2/WDPA_matching_results/BaE_wk24/BaE_pa_34000_matching_results_wk24.RDS\u001b[34m\u001b[39m already exists at \u001b[34m\u001b[34m/projects/.local/share/R/s3/maap-ops-workspace/shared/leitoldv/GEDI_global_PA_v2/WDPA_matching_results/BaE_wk24/BaE_pa_34000_matching_results_wk24.RDS\u001b[34m\u001b[39m\n",
      "\n"
     ]
    },
    {
     "name": "stdout",
     "output_type": "stream",
     "text": [
      "[1] \"BaE_pa_34001_matching_results_wk24.RDS\"\n"
     ]
    },
    {
     "name": "stderr",
     "output_type": "stream",
     "text": [
      "\u001b[36mℹ\u001b[39m \u001b[34m\u001b[34ms3://maap-ops-workspace/shared/leitoldv/GEDI_global_PA_v2/WDPA_matching_results/BaE_wk24/BaE_pa_34001_matching_results_wk24.RDS\u001b[34m\u001b[39m already exists at \u001b[34m\u001b[34m/projects/.local/share/R/s3/maap-ops-workspace/shared/leitoldv/GEDI_global_PA_v2/WDPA_matching_results/BaE_wk24/BaE_pa_34001_matching_results_wk24.RDS\u001b[34m\u001b[39m\n",
      "\n"
     ]
    },
    {
     "name": "stdout",
     "output_type": "stream",
     "text": [
      "[1] \"BaE_pa_34004_matching_results_wk24.RDS\"\n"
     ]
    },
    {
     "name": "stderr",
     "output_type": "stream",
     "text": [
      "\u001b[36mℹ\u001b[39m \u001b[34m\u001b[34ms3://maap-ops-workspace/shared/leitoldv/GEDI_global_PA_v2/WDPA_matching_results/BaE_wk24/BaE_pa_34004_matching_results_wk24.RDS\u001b[34m\u001b[39m already exists at \u001b[34m\u001b[34m/projects/.local/share/R/s3/maap-ops-workspace/shared/leitoldv/GEDI_global_PA_v2/WDPA_matching_results/BaE_wk24/BaE_pa_34004_matching_results_wk24.RDS\u001b[34m\u001b[39m\n",
      "\n"
     ]
    },
    {
     "name": "stdout",
     "output_type": "stream",
     "text": [
      "[1] \"BaE_pa_34007_matching_results_wk24.RDS\"\n"
     ]
    },
    {
     "name": "stderr",
     "output_type": "stream",
     "text": [
      "\u001b[36mℹ\u001b[39m \u001b[34m\u001b[34ms3://maap-ops-workspace/shared/leitoldv/GEDI_global_PA_v2/WDPA_matching_results/BaE_wk24/BaE_pa_34007_matching_results_wk24.RDS\u001b[34m\u001b[39m already exists at \u001b[34m\u001b[34m/projects/.local/share/R/s3/maap-ops-workspace/shared/leitoldv/GEDI_global_PA_v2/WDPA_matching_results/BaE_wk24/BaE_pa_34007_matching_results_wk24.RDS\u001b[34m\u001b[39m\n",
      "\n"
     ]
    },
    {
     "name": "stdout",
     "output_type": "stream",
     "text": [
      "[1] \"BaE_pa_34009_matching_results_wk24.RDS\"\n"
     ]
    },
    {
     "name": "stderr",
     "output_type": "stream",
     "text": [
      "\u001b[36mℹ\u001b[39m \u001b[34m\u001b[34ms3://maap-ops-workspace/shared/leitoldv/GEDI_global_PA_v2/WDPA_matching_results/BaE_wk24/BaE_pa_34009_matching_results_wk24.RDS\u001b[34m\u001b[39m already exists at \u001b[34m\u001b[34m/projects/.local/share/R/s3/maap-ops-workspace/shared/leitoldv/GEDI_global_PA_v2/WDPA_matching_results/BaE_wk24/BaE_pa_34009_matching_results_wk24.RDS\u001b[34m\u001b[39m\n",
      "\n"
     ]
    },
    {
     "name": "stdout",
     "output_type": "stream",
     "text": [
      "[1] \"BaE_pa_34010_matching_results_wk24.RDS\"\n"
     ]
    },
    {
     "name": "stderr",
     "output_type": "stream",
     "text": [
      "\u001b[36mℹ\u001b[39m \u001b[34m\u001b[34ms3://maap-ops-workspace/shared/leitoldv/GEDI_global_PA_v2/WDPA_matching_results/BaE_wk24/BaE_pa_34010_matching_results_wk24.RDS\u001b[34m\u001b[39m already exists at \u001b[34m\u001b[34m/projects/.local/share/R/s3/maap-ops-workspace/shared/leitoldv/GEDI_global_PA_v2/WDPA_matching_results/BaE_wk24/BaE_pa_34010_matching_results_wk24.RDS\u001b[34m\u001b[39m\n",
      "\n"
     ]
    },
    {
     "name": "stdout",
     "output_type": "stream",
     "text": [
      "[1] \"BaE_pa_34012_matching_results_wk24.RDS\"\n"
     ]
    },
    {
     "name": "stderr",
     "output_type": "stream",
     "text": [
      "\u001b[36mℹ\u001b[39m \u001b[34m\u001b[34ms3://maap-ops-workspace/shared/leitoldv/GEDI_global_PA_v2/WDPA_matching_results/BaE_wk24/BaE_pa_34012_matching_results_wk24.RDS\u001b[34m\u001b[39m already exists at \u001b[34m\u001b[34m/projects/.local/share/R/s3/maap-ops-workspace/shared/leitoldv/GEDI_global_PA_v2/WDPA_matching_results/BaE_wk24/BaE_pa_34012_matching_results_wk24.RDS\u001b[34m\u001b[39m\n",
      "\n"
     ]
    },
    {
     "name": "stdout",
     "output_type": "stream",
     "text": [
      "[1] \"BaE_pa_34013_matching_results_wk24.RDS\"\n"
     ]
    },
    {
     "name": "stderr",
     "output_type": "stream",
     "text": [
      "\u001b[36mℹ\u001b[39m \u001b[34m\u001b[34ms3://maap-ops-workspace/shared/leitoldv/GEDI_global_PA_v2/WDPA_matching_results/BaE_wk24/BaE_pa_34013_matching_results_wk24.RDS\u001b[34m\u001b[39m already exists at \u001b[34m\u001b[34m/projects/.local/share/R/s3/maap-ops-workspace/shared/leitoldv/GEDI_global_PA_v2/WDPA_matching_results/BaE_wk24/BaE_pa_34013_matching_results_wk24.RDS\u001b[34m\u001b[39m\n",
      "\n"
     ]
    },
    {
     "name": "stdout",
     "output_type": "stream",
     "text": [
      "[1] \"BaE_pa_34015_matching_results_wk24.RDS\"\n"
     ]
    },
    {
     "name": "stderr",
     "output_type": "stream",
     "text": [
      "\u001b[36mℹ\u001b[39m \u001b[34m\u001b[34ms3://maap-ops-workspace/shared/leitoldv/GEDI_global_PA_v2/WDPA_matching_results/BaE_wk24/BaE_pa_34015_matching_results_wk24.RDS\u001b[34m\u001b[39m already exists at \u001b[34m\u001b[34m/projects/.local/share/R/s3/maap-ops-workspace/shared/leitoldv/GEDI_global_PA_v2/WDPA_matching_results/BaE_wk24/BaE_pa_34015_matching_results_wk24.RDS\u001b[34m\u001b[39m\n",
      "\n"
     ]
    },
    {
     "name": "stdout",
     "output_type": "stream",
     "text": [
      "[1] \"BaE_pa_34016_matching_results_wk24.RDS\"\n"
     ]
    },
    {
     "name": "stderr",
     "output_type": "stream",
     "text": [
      "\u001b[36mℹ\u001b[39m \u001b[34m\u001b[34ms3://maap-ops-workspace/shared/leitoldv/GEDI_global_PA_v2/WDPA_matching_results/BaE_wk24/BaE_pa_34016_matching_results_wk24.RDS\u001b[34m\u001b[39m already exists at \u001b[34m\u001b[34m/projects/.local/share/R/s3/maap-ops-workspace/shared/leitoldv/GEDI_global_PA_v2/WDPA_matching_results/BaE_wk24/BaE_pa_34016_matching_results_wk24.RDS\u001b[34m\u001b[39m\n",
      "\n"
     ]
    },
    {
     "name": "stdout",
     "output_type": "stream",
     "text": [
      "[1] \"BaE_pa_34017_matching_results_wk24.RDS\"\n"
     ]
    },
    {
     "name": "stderr",
     "output_type": "stream",
     "text": [
      "\u001b[36mℹ\u001b[39m \u001b[34m\u001b[34ms3://maap-ops-workspace/shared/leitoldv/GEDI_global_PA_v2/WDPA_matching_results/BaE_wk24/BaE_pa_34017_matching_results_wk24.RDS\u001b[34m\u001b[39m already exists at \u001b[34m\u001b[34m/projects/.local/share/R/s3/maap-ops-workspace/shared/leitoldv/GEDI_global_PA_v2/WDPA_matching_results/BaE_wk24/BaE_pa_34017_matching_results_wk24.RDS\u001b[34m\u001b[39m\n",
      "\n"
     ]
    },
    {
     "name": "stdout",
     "output_type": "stream",
     "text": [
      "[1] \"BaE_pa_34018_matching_results_wk24.RDS\"\n"
     ]
    },
    {
     "name": "stderr",
     "output_type": "stream",
     "text": [
      "\u001b[36mℹ\u001b[39m \u001b[34m\u001b[34ms3://maap-ops-workspace/shared/leitoldv/GEDI_global_PA_v2/WDPA_matching_results/BaE_wk24/BaE_pa_34018_matching_results_wk24.RDS\u001b[34m\u001b[39m already exists at \u001b[34m\u001b[34m/projects/.local/share/R/s3/maap-ops-workspace/shared/leitoldv/GEDI_global_PA_v2/WDPA_matching_results/BaE_wk24/BaE_pa_34018_matching_results_wk24.RDS\u001b[34m\u001b[39m\n",
      "\n"
     ]
    },
    {
     "name": "stdout",
     "output_type": "stream",
     "text": [
      "[1] \"BaE_pa_34022_matching_results_wk24.RDS\"\n"
     ]
    },
    {
     "name": "stderr",
     "output_type": "stream",
     "text": [
      "\u001b[36mℹ\u001b[39m \u001b[34m\u001b[34ms3://maap-ops-workspace/shared/leitoldv/GEDI_global_PA_v2/WDPA_matching_results/BaE_wk24/BaE_pa_34022_matching_results_wk24.RDS\u001b[34m\u001b[39m already exists at \u001b[34m\u001b[34m/projects/.local/share/R/s3/maap-ops-workspace/shared/leitoldv/GEDI_global_PA_v2/WDPA_matching_results/BaE_wk24/BaE_pa_34022_matching_results_wk24.RDS\u001b[34m\u001b[39m\n",
      "\n"
     ]
    },
    {
     "name": "stdout",
     "output_type": "stream",
     "text": [
      "[1] \"BaE_pa_34031_matching_results_wk24.RDS\"\n"
     ]
    },
    {
     "name": "stderr",
     "output_type": "stream",
     "text": [
      "\u001b[36mℹ\u001b[39m \u001b[34m\u001b[34ms3://maap-ops-workspace/shared/leitoldv/GEDI_global_PA_v2/WDPA_matching_results/BaE_wk24/BaE_pa_34031_matching_results_wk24.RDS\u001b[34m\u001b[39m already exists at \u001b[34m\u001b[34m/projects/.local/share/R/s3/maap-ops-workspace/shared/leitoldv/GEDI_global_PA_v2/WDPA_matching_results/BaE_wk24/BaE_pa_34031_matching_results_wk24.RDS\u001b[34m\u001b[39m\n",
      "\n"
     ]
    },
    {
     "name": "stdout",
     "output_type": "stream",
     "text": [
      "[1] \"BaE_pa_34041_matching_results_wk24.RDS\"\n"
     ]
    },
    {
     "name": "stderr",
     "output_type": "stream",
     "text": [
      "\u001b[36mℹ\u001b[39m \u001b[34m\u001b[34ms3://maap-ops-workspace/shared/leitoldv/GEDI_global_PA_v2/WDPA_matching_results/BaE_wk24/BaE_pa_34041_matching_results_wk24.RDS\u001b[34m\u001b[39m already exists at \u001b[34m\u001b[34m/projects/.local/share/R/s3/maap-ops-workspace/shared/leitoldv/GEDI_global_PA_v2/WDPA_matching_results/BaE_wk24/BaE_pa_34041_matching_results_wk24.RDS\u001b[34m\u001b[39m\n",
      "\n"
     ]
    },
    {
     "name": "stdout",
     "output_type": "stream",
     "text": [
      "[1] \"BaE_pa_34043_matching_results_wk24.RDS\"\n"
     ]
    },
    {
     "name": "stderr",
     "output_type": "stream",
     "text": [
      "\u001b[36mℹ\u001b[39m \u001b[34m\u001b[34ms3://maap-ops-workspace/shared/leitoldv/GEDI_global_PA_v2/WDPA_matching_results/BaE_wk24/BaE_pa_34043_matching_results_wk24.RDS\u001b[34m\u001b[39m already exists at \u001b[34m\u001b[34m/projects/.local/share/R/s3/maap-ops-workspace/shared/leitoldv/GEDI_global_PA_v2/WDPA_matching_results/BaE_wk24/BaE_pa_34043_matching_results_wk24.RDS\u001b[34m\u001b[39m\n",
      "\n"
     ]
    },
    {
     "name": "stdout",
     "output_type": "stream",
     "text": [
      "[1] \"BaE_pa_34665_matching_results_wk24.RDS\"\n"
     ]
    },
    {
     "name": "stderr",
     "output_type": "stream",
     "text": [
      "\u001b[36mℹ\u001b[39m \u001b[34m\u001b[34ms3://maap-ops-workspace/shared/leitoldv/GEDI_global_PA_v2/WDPA_matching_results/BaE_wk24/BaE_pa_34665_matching_results_wk24.RDS\u001b[34m\u001b[39m already exists at \u001b[34m\u001b[34m/projects/.local/share/R/s3/maap-ops-workspace/shared/leitoldv/GEDI_global_PA_v2/WDPA_matching_results/BaE_wk24/BaE_pa_34665_matching_results_wk24.RDS\u001b[34m\u001b[39m\n",
      "\n"
     ]
    },
    {
     "name": "stdout",
     "output_type": "stream",
     "text": [
      "[1] \"BaE_pa_34842_matching_results_wk24.RDS\"\n"
     ]
    },
    {
     "name": "stderr",
     "output_type": "stream",
     "text": [
      "\u001b[36mℹ\u001b[39m \u001b[34m\u001b[34ms3://maap-ops-workspace/shared/leitoldv/GEDI_global_PA_v2/WDPA_matching_results/BaE_wk24/BaE_pa_34842_matching_results_wk24.RDS\u001b[34m\u001b[39m already exists at \u001b[34m\u001b[34m/projects/.local/share/R/s3/maap-ops-workspace/shared/leitoldv/GEDI_global_PA_v2/WDPA_matching_results/BaE_wk24/BaE_pa_34842_matching_results_wk24.RDS\u001b[34m\u001b[39m\n",
      "\n"
     ]
    },
    {
     "name": "stdout",
     "output_type": "stream",
     "text": [
      "[1] \"BaE_pa_34843_matching_results_wk24.RDS\"\n"
     ]
    },
    {
     "name": "stderr",
     "output_type": "stream",
     "text": [
      "\u001b[36mℹ\u001b[39m \u001b[34m\u001b[34ms3://maap-ops-workspace/shared/leitoldv/GEDI_global_PA_v2/WDPA_matching_results/BaE_wk24/BaE_pa_34843_matching_results_wk24.RDS\u001b[34m\u001b[39m already exists at \u001b[34m\u001b[34m/projects/.local/share/R/s3/maap-ops-workspace/shared/leitoldv/GEDI_global_PA_v2/WDPA_matching_results/BaE_wk24/BaE_pa_34843_matching_results_wk24.RDS\u001b[34m\u001b[39m\n",
      "\n"
     ]
    },
    {
     "name": "stdout",
     "output_type": "stream",
     "text": [
      "[1] \"BaE_pa_34845_matching_results_wk24.RDS\"\n"
     ]
    },
    {
     "name": "stderr",
     "output_type": "stream",
     "text": [
      "\u001b[36mℹ\u001b[39m \u001b[34m\u001b[34ms3://maap-ops-workspace/shared/leitoldv/GEDI_global_PA_v2/WDPA_matching_results/BaE_wk24/BaE_pa_34845_matching_results_wk24.RDS\u001b[34m\u001b[39m already exists at \u001b[34m\u001b[34m/projects/.local/share/R/s3/maap-ops-workspace/shared/leitoldv/GEDI_global_PA_v2/WDPA_matching_results/BaE_wk24/BaE_pa_34845_matching_results_wk24.RDS\u001b[34m\u001b[39m\n",
      "\n"
     ]
    },
    {
     "name": "stdout",
     "output_type": "stream",
     "text": [
      "[1] \"BaE_pa_34849_matching_results_wk24.RDS\"\n"
     ]
    },
    {
     "name": "stderr",
     "output_type": "stream",
     "text": [
      "\u001b[36mℹ\u001b[39m \u001b[34m\u001b[34ms3://maap-ops-workspace/shared/leitoldv/GEDI_global_PA_v2/WDPA_matching_results/BaE_wk24/BaE_pa_34849_matching_results_wk24.RDS\u001b[34m\u001b[39m already exists at \u001b[34m\u001b[34m/projects/.local/share/R/s3/maap-ops-workspace/shared/leitoldv/GEDI_global_PA_v2/WDPA_matching_results/BaE_wk24/BaE_pa_34849_matching_results_wk24.RDS\u001b[34m\u001b[39m\n",
      "\n"
     ]
    },
    {
     "name": "stdout",
     "output_type": "stream",
     "text": [
      "[1] \"BaE_pa_351711_matching_results_wk24.RDS\"\n"
     ]
    },
    {
     "name": "stderr",
     "output_type": "stream",
     "text": [
      "\u001b[36mℹ\u001b[39m \u001b[34m\u001b[34ms3://maap-ops-workspace/shared/leitoldv/GEDI_global_PA_v2/WDPA_matching_results/BaE_wk24/BaE_pa_351711_matching_results_wk24.RDS\u001b[34m\u001b[39m already exists at \u001b[34m\u001b[34m/projects/.local/share/R/s3/maap-ops-workspace/shared/leitoldv/GEDI_global_PA_v2/WDPA_matching_results/BaE_wk24/BaE_pa_351711_matching_results_wk24.RDS\u001b[34m\u001b[39m\n",
      "\n"
     ]
    },
    {
     "name": "stdout",
     "output_type": "stream",
     "text": [
      "[1] \"BaE_pa_351712_matching_results_wk24.RDS\"\n"
     ]
    },
    {
     "name": "stderr",
     "output_type": "stream",
     "text": [
      "\u001b[36mℹ\u001b[39m \u001b[34m\u001b[34ms3://maap-ops-workspace/shared/leitoldv/GEDI_global_PA_v2/WDPA_matching_results/BaE_wk24/BaE_pa_351712_matching_results_wk24.RDS\u001b[34m\u001b[39m already exists at \u001b[34m\u001b[34m/projects/.local/share/R/s3/maap-ops-workspace/shared/leitoldv/GEDI_global_PA_v2/WDPA_matching_results/BaE_wk24/BaE_pa_351712_matching_results_wk24.RDS\u001b[34m\u001b[39m\n",
      "\n"
     ]
    },
    {
     "name": "stdout",
     "output_type": "stream",
     "text": [
      "[1] \"BaE_pa_351776_matching_results_wk24.RDS\"\n"
     ]
    },
    {
     "name": "stderr",
     "output_type": "stream",
     "text": [
      "\u001b[36mℹ\u001b[39m \u001b[34m\u001b[34ms3://maap-ops-workspace/shared/leitoldv/GEDI_global_PA_v2/WDPA_matching_results/BaE_wk24/BaE_pa_351776_matching_results_wk24.RDS\u001b[34m\u001b[39m already exists at \u001b[34m\u001b[34m/projects/.local/share/R/s3/maap-ops-workspace/shared/leitoldv/GEDI_global_PA_v2/WDPA_matching_results/BaE_wk24/BaE_pa_351776_matching_results_wk24.RDS\u001b[34m\u001b[39m\n",
      "\n"
     ]
    },
    {
     "name": "stdout",
     "output_type": "stream",
     "text": [
      "[1] \"BaE_pa_351778_matching_results_wk24.RDS\"\n"
     ]
    },
    {
     "name": "stderr",
     "output_type": "stream",
     "text": [
      "\u001b[36mℹ\u001b[39m \u001b[34m\u001b[34ms3://maap-ops-workspace/shared/leitoldv/GEDI_global_PA_v2/WDPA_matching_results/BaE_wk24/BaE_pa_351778_matching_results_wk24.RDS\u001b[34m\u001b[39m already exists at \u001b[34m\u001b[34m/projects/.local/share/R/s3/maap-ops-workspace/shared/leitoldv/GEDI_global_PA_v2/WDPA_matching_results/BaE_wk24/BaE_pa_351778_matching_results_wk24.RDS\u001b[34m\u001b[39m\n",
      "\n"
     ]
    },
    {
     "name": "stdout",
     "output_type": "stream",
     "text": [
      "[1] \"BaE_pa_351779_matching_results_wk24.RDS\"\n"
     ]
    },
    {
     "name": "stderr",
     "output_type": "stream",
     "text": [
      "\u001b[36mℹ\u001b[39m \u001b[34m\u001b[34ms3://maap-ops-workspace/shared/leitoldv/GEDI_global_PA_v2/WDPA_matching_results/BaE_wk24/BaE_pa_351779_matching_results_wk24.RDS\u001b[34m\u001b[39m already exists at \u001b[34m\u001b[34m/projects/.local/share/R/s3/maap-ops-workspace/shared/leitoldv/GEDI_global_PA_v2/WDPA_matching_results/BaE_wk24/BaE_pa_351779_matching_results_wk24.RDS\u001b[34m\u001b[39m\n",
      "\n"
     ]
    },
    {
     "name": "stdout",
     "output_type": "stream",
     "text": [
      "[1] \"BaE_pa_351780_matching_results_wk24.RDS\"\n"
     ]
    },
    {
     "name": "stderr",
     "output_type": "stream",
     "text": [
      "\u001b[36mℹ\u001b[39m \u001b[34m\u001b[34ms3://maap-ops-workspace/shared/leitoldv/GEDI_global_PA_v2/WDPA_matching_results/BaE_wk24/BaE_pa_351780_matching_results_wk24.RDS\u001b[34m\u001b[39m already exists at \u001b[34m\u001b[34m/projects/.local/share/R/s3/maap-ops-workspace/shared/leitoldv/GEDI_global_PA_v2/WDPA_matching_results/BaE_wk24/BaE_pa_351780_matching_results_wk24.RDS\u001b[34m\u001b[39m\n",
      "\n"
     ]
    },
    {
     "name": "stdout",
     "output_type": "stream",
     "text": [
      "[1] \"BaE_pa_351781_matching_results_wk24.RDS\"\n"
     ]
    },
    {
     "name": "stderr",
     "output_type": "stream",
     "text": [
      "\u001b[36mℹ\u001b[39m \u001b[34m\u001b[34ms3://maap-ops-workspace/shared/leitoldv/GEDI_global_PA_v2/WDPA_matching_results/BaE_wk24/BaE_pa_351781_matching_results_wk24.RDS\u001b[34m\u001b[39m already exists at \u001b[34m\u001b[34m/projects/.local/share/R/s3/maap-ops-workspace/shared/leitoldv/GEDI_global_PA_v2/WDPA_matching_results/BaE_wk24/BaE_pa_351781_matching_results_wk24.RDS\u001b[34m\u001b[39m\n",
      "\n"
     ]
    },
    {
     "name": "stdout",
     "output_type": "stream",
     "text": [
      "[1] \"BaE_pa_351782_matching_results_wk24.RDS\"\n"
     ]
    },
    {
     "name": "stderr",
     "output_type": "stream",
     "text": [
      "\u001b[36mℹ\u001b[39m \u001b[34m\u001b[34ms3://maap-ops-workspace/shared/leitoldv/GEDI_global_PA_v2/WDPA_matching_results/BaE_wk24/BaE_pa_351782_matching_results_wk24.RDS\u001b[34m\u001b[39m already exists at \u001b[34m\u001b[34m/projects/.local/share/R/s3/maap-ops-workspace/shared/leitoldv/GEDI_global_PA_v2/WDPA_matching_results/BaE_wk24/BaE_pa_351782_matching_results_wk24.RDS\u001b[34m\u001b[39m\n",
      "\n"
     ]
    },
    {
     "name": "stdout",
     "output_type": "stream",
     "text": [
      "[1] \"BaE_pa_351783_matching_results_wk24.RDS\"\n"
     ]
    },
    {
     "name": "stderr",
     "output_type": "stream",
     "text": [
      "\u001b[36mℹ\u001b[39m \u001b[34m\u001b[34ms3://maap-ops-workspace/shared/leitoldv/GEDI_global_PA_v2/WDPA_matching_results/BaE_wk24/BaE_pa_351783_matching_results_wk24.RDS\u001b[34m\u001b[39m already exists at \u001b[34m\u001b[34m/projects/.local/share/R/s3/maap-ops-workspace/shared/leitoldv/GEDI_global_PA_v2/WDPA_matching_results/BaE_wk24/BaE_pa_351783_matching_results_wk24.RDS\u001b[34m\u001b[39m\n",
      "\n"
     ]
    },
    {
     "name": "stdout",
     "output_type": "stream",
     "text": [
      "[1] \"BaE_pa_351784_matching_results_wk24.RDS\"\n"
     ]
    },
    {
     "name": "stderr",
     "output_type": "stream",
     "text": [
      "\u001b[36mℹ\u001b[39m \u001b[34m\u001b[34ms3://maap-ops-workspace/shared/leitoldv/GEDI_global_PA_v2/WDPA_matching_results/BaE_wk24/BaE_pa_351784_matching_results_wk24.RDS\u001b[34m\u001b[39m already exists at \u001b[34m\u001b[34m/projects/.local/share/R/s3/maap-ops-workspace/shared/leitoldv/GEDI_global_PA_v2/WDPA_matching_results/BaE_wk24/BaE_pa_351784_matching_results_wk24.RDS\u001b[34m\u001b[39m\n",
      "\n"
     ]
    },
    {
     "name": "stdout",
     "output_type": "stream",
     "text": [
      "[1] \"BaE_pa_351785_matching_results_wk24.RDS\"\n"
     ]
    },
    {
     "name": "stderr",
     "output_type": "stream",
     "text": [
      "\u001b[36mℹ\u001b[39m \u001b[34m\u001b[34ms3://maap-ops-workspace/shared/leitoldv/GEDI_global_PA_v2/WDPA_matching_results/BaE_wk24/BaE_pa_351785_matching_results_wk24.RDS\u001b[34m\u001b[39m already exists at \u001b[34m\u001b[34m/projects/.local/share/R/s3/maap-ops-workspace/shared/leitoldv/GEDI_global_PA_v2/WDPA_matching_results/BaE_wk24/BaE_pa_351785_matching_results_wk24.RDS\u001b[34m\u001b[39m\n",
      "\n"
     ]
    },
    {
     "name": "stdout",
     "output_type": "stream",
     "text": [
      "[1] \"BaE_pa_351786_matching_results_wk24.RDS\"\n"
     ]
    },
    {
     "name": "stderr",
     "output_type": "stream",
     "text": [
      "\u001b[36mℹ\u001b[39m \u001b[34m\u001b[34ms3://maap-ops-workspace/shared/leitoldv/GEDI_global_PA_v2/WDPA_matching_results/BaE_wk24/BaE_pa_351786_matching_results_wk24.RDS\u001b[34m\u001b[39m already exists at \u001b[34m\u001b[34m/projects/.local/share/R/s3/maap-ops-workspace/shared/leitoldv/GEDI_global_PA_v2/WDPA_matching_results/BaE_wk24/BaE_pa_351786_matching_results_wk24.RDS\u001b[34m\u001b[39m\n",
      "\n"
     ]
    },
    {
     "name": "stdout",
     "output_type": "stream",
     "text": [
      "[1] \"BaE_pa_351795_matching_results_wk24.RDS\"\n"
     ]
    },
    {
     "name": "stderr",
     "output_type": "stream",
     "text": [
      "\u001b[36mℹ\u001b[39m \u001b[34m\u001b[34ms3://maap-ops-workspace/shared/leitoldv/GEDI_global_PA_v2/WDPA_matching_results/BaE_wk24/BaE_pa_351795_matching_results_wk24.RDS\u001b[34m\u001b[39m already exists at \u001b[34m\u001b[34m/projects/.local/share/R/s3/maap-ops-workspace/shared/leitoldv/GEDI_global_PA_v2/WDPA_matching_results/BaE_wk24/BaE_pa_351795_matching_results_wk24.RDS\u001b[34m\u001b[39m\n",
      "\n"
     ]
    },
    {
     "name": "stdout",
     "output_type": "stream",
     "text": [
      "[1] \"BaE_pa_351796_matching_results_wk24.RDS\"\n"
     ]
    },
    {
     "name": "stderr",
     "output_type": "stream",
     "text": [
      "\u001b[36mℹ\u001b[39m \u001b[34m\u001b[34ms3://maap-ops-workspace/shared/leitoldv/GEDI_global_PA_v2/WDPA_matching_results/BaE_wk24/BaE_pa_351796_matching_results_wk24.RDS\u001b[34m\u001b[39m already exists at \u001b[34m\u001b[34m/projects/.local/share/R/s3/maap-ops-workspace/shared/leitoldv/GEDI_global_PA_v2/WDPA_matching_results/BaE_wk24/BaE_pa_351796_matching_results_wk24.RDS\u001b[34m\u001b[39m\n",
      "\n"
     ]
    },
    {
     "name": "stdout",
     "output_type": "stream",
     "text": [
      "[1] \"BaE_pa_351797_matching_results_wk24.RDS\"\n"
     ]
    },
    {
     "name": "stderr",
     "output_type": "stream",
     "text": [
      "\u001b[36mℹ\u001b[39m \u001b[34m\u001b[34ms3://maap-ops-workspace/shared/leitoldv/GEDI_global_PA_v2/WDPA_matching_results/BaE_wk24/BaE_pa_351797_matching_results_wk24.RDS\u001b[34m\u001b[39m already exists at \u001b[34m\u001b[34m/projects/.local/share/R/s3/maap-ops-workspace/shared/leitoldv/GEDI_global_PA_v2/WDPA_matching_results/BaE_wk24/BaE_pa_351797_matching_results_wk24.RDS\u001b[34m\u001b[39m\n",
      "\n"
     ]
    },
    {
     "name": "stdout",
     "output_type": "stream",
     "text": [
      "[1] \"BaE_pa_351798_matching_results_wk24.RDS\"\n"
     ]
    },
    {
     "name": "stderr",
     "output_type": "stream",
     "text": [
      "\u001b[36mℹ\u001b[39m \u001b[34m\u001b[34ms3://maap-ops-workspace/shared/leitoldv/GEDI_global_PA_v2/WDPA_matching_results/BaE_wk24/BaE_pa_351798_matching_results_wk24.RDS\u001b[34m\u001b[39m already exists at \u001b[34m\u001b[34m/projects/.local/share/R/s3/maap-ops-workspace/shared/leitoldv/GEDI_global_PA_v2/WDPA_matching_results/BaE_wk24/BaE_pa_351798_matching_results_wk24.RDS\u001b[34m\u001b[39m\n",
      "\n"
     ]
    },
    {
     "name": "stdout",
     "output_type": "stream",
     "text": [
      "[1] \"BaE_pa_351799_matching_results_wk24.RDS\"\n"
     ]
    },
    {
     "name": "stderr",
     "output_type": "stream",
     "text": [
      "\u001b[36mℹ\u001b[39m \u001b[34m\u001b[34ms3://maap-ops-workspace/shared/leitoldv/GEDI_global_PA_v2/WDPA_matching_results/BaE_wk24/BaE_pa_351799_matching_results_wk24.RDS\u001b[34m\u001b[39m already exists at \u001b[34m\u001b[34m/projects/.local/share/R/s3/maap-ops-workspace/shared/leitoldv/GEDI_global_PA_v2/WDPA_matching_results/BaE_wk24/BaE_pa_351799_matching_results_wk24.RDS\u001b[34m\u001b[39m\n",
      "\n"
     ]
    },
    {
     "name": "stdout",
     "output_type": "stream",
     "text": [
      "[1] \"BaE_pa_351800_matching_results_wk24.RDS\"\n"
     ]
    },
    {
     "name": "stderr",
     "output_type": "stream",
     "text": [
      "\u001b[36mℹ\u001b[39m \u001b[34m\u001b[34ms3://maap-ops-workspace/shared/leitoldv/GEDI_global_PA_v2/WDPA_matching_results/BaE_wk24/BaE_pa_351800_matching_results_wk24.RDS\u001b[34m\u001b[39m already exists at \u001b[34m\u001b[34m/projects/.local/share/R/s3/maap-ops-workspace/shared/leitoldv/GEDI_global_PA_v2/WDPA_matching_results/BaE_wk24/BaE_pa_351800_matching_results_wk24.RDS\u001b[34m\u001b[39m\n",
      "\n"
     ]
    },
    {
     "name": "stdout",
     "output_type": "stream",
     "text": [
      "[1] \"BaE_pa_351801_matching_results_wk24.RDS\"\n"
     ]
    },
    {
     "name": "stderr",
     "output_type": "stream",
     "text": [
      "\u001b[36mℹ\u001b[39m \u001b[34m\u001b[34ms3://maap-ops-workspace/shared/leitoldv/GEDI_global_PA_v2/WDPA_matching_results/BaE_wk24/BaE_pa_351801_matching_results_wk24.RDS\u001b[34m\u001b[39m already exists at \u001b[34m\u001b[34m/projects/.local/share/R/s3/maap-ops-workspace/shared/leitoldv/GEDI_global_PA_v2/WDPA_matching_results/BaE_wk24/BaE_pa_351801_matching_results_wk24.RDS\u001b[34m\u001b[39m\n",
      "\n"
     ]
    },
    {
     "name": "stdout",
     "output_type": "stream",
     "text": [
      "[1] \"BaE_pa_351802_matching_results_wk24.RDS\"\n"
     ]
    },
    {
     "name": "stderr",
     "output_type": "stream",
     "text": [
      "\u001b[36mℹ\u001b[39m \u001b[34m\u001b[34ms3://maap-ops-workspace/shared/leitoldv/GEDI_global_PA_v2/WDPA_matching_results/BaE_wk24/BaE_pa_351802_matching_results_wk24.RDS\u001b[34m\u001b[39m already exists at \u001b[34m\u001b[34m/projects/.local/share/R/s3/maap-ops-workspace/shared/leitoldv/GEDI_global_PA_v2/WDPA_matching_results/BaE_wk24/BaE_pa_351802_matching_results_wk24.RDS\u001b[34m\u001b[39m\n",
      "\n"
     ]
    },
    {
     "name": "stdout",
     "output_type": "stream",
     "text": [
      "[1] \"BaE_pa_351805_matching_results_wk24.RDS\"\n"
     ]
    },
    {
     "name": "stderr",
     "output_type": "stream",
     "text": [
      "\u001b[36mℹ\u001b[39m \u001b[34m\u001b[34ms3://maap-ops-workspace/shared/leitoldv/GEDI_global_PA_v2/WDPA_matching_results/BaE_wk24/BaE_pa_351805_matching_results_wk24.RDS\u001b[34m\u001b[39m already exists at \u001b[34m\u001b[34m/projects/.local/share/R/s3/maap-ops-workspace/shared/leitoldv/GEDI_global_PA_v2/WDPA_matching_results/BaE_wk24/BaE_pa_351805_matching_results_wk24.RDS\u001b[34m\u001b[39m\n",
      "\n"
     ]
    },
    {
     "name": "stdout",
     "output_type": "stream",
     "text": [
      "[1] \"BaE_pa_351813_matching_results_wk24.RDS\"\n"
     ]
    },
    {
     "name": "stderr",
     "output_type": "stream",
     "text": [
      "\u001b[36mℹ\u001b[39m \u001b[34m\u001b[34ms3://maap-ops-workspace/shared/leitoldv/GEDI_global_PA_v2/WDPA_matching_results/BaE_wk24/BaE_pa_351813_matching_results_wk24.RDS\u001b[34m\u001b[39m already exists at \u001b[34m\u001b[34m/projects/.local/share/R/s3/maap-ops-workspace/shared/leitoldv/GEDI_global_PA_v2/WDPA_matching_results/BaE_wk24/BaE_pa_351813_matching_results_wk24.RDS\u001b[34m\u001b[39m\n",
      "\n"
     ]
    },
    {
     "name": "stdout",
     "output_type": "stream",
     "text": [
      "[1] \"BaE_pa_351814_matching_results_wk24.RDS\"\n"
     ]
    },
    {
     "name": "stderr",
     "output_type": "stream",
     "text": [
      "\u001b[36mℹ\u001b[39m \u001b[34m\u001b[34ms3://maap-ops-workspace/shared/leitoldv/GEDI_global_PA_v2/WDPA_matching_results/BaE_wk24/BaE_pa_351814_matching_results_wk24.RDS\u001b[34m\u001b[39m already exists at \u001b[34m\u001b[34m/projects/.local/share/R/s3/maap-ops-workspace/shared/leitoldv/GEDI_global_PA_v2/WDPA_matching_results/BaE_wk24/BaE_pa_351814_matching_results_wk24.RDS\u001b[34m\u001b[39m\n",
      "\n"
     ]
    },
    {
     "name": "stdout",
     "output_type": "stream",
     "text": [
      "[1] \"BaE_pa_351815_matching_results_wk24.RDS\"\n"
     ]
    },
    {
     "name": "stderr",
     "output_type": "stream",
     "text": [
      "\u001b[36mℹ\u001b[39m \u001b[34m\u001b[34ms3://maap-ops-workspace/shared/leitoldv/GEDI_global_PA_v2/WDPA_matching_results/BaE_wk24/BaE_pa_351815_matching_results_wk24.RDS\u001b[34m\u001b[39m already exists at \u001b[34m\u001b[34m/projects/.local/share/R/s3/maap-ops-workspace/shared/leitoldv/GEDI_global_PA_v2/WDPA_matching_results/BaE_wk24/BaE_pa_351815_matching_results_wk24.RDS\u001b[34m\u001b[39m\n",
      "\n"
     ]
    },
    {
     "name": "stdout",
     "output_type": "stream",
     "text": [
      "[1] \"BaE_pa_351816_matching_results_wk24.RDS\"\n"
     ]
    },
    {
     "name": "stderr",
     "output_type": "stream",
     "text": [
      "\u001b[36mℹ\u001b[39m \u001b[34m\u001b[34ms3://maap-ops-workspace/shared/leitoldv/GEDI_global_PA_v2/WDPA_matching_results/BaE_wk24/BaE_pa_351816_matching_results_wk24.RDS\u001b[34m\u001b[39m already exists at \u001b[34m\u001b[34m/projects/.local/share/R/s3/maap-ops-workspace/shared/leitoldv/GEDI_global_PA_v2/WDPA_matching_results/BaE_wk24/BaE_pa_351816_matching_results_wk24.RDS\u001b[34m\u001b[39m\n",
      "\n"
     ]
    },
    {
     "name": "stdout",
     "output_type": "stream",
     "text": [
      "[1] \"BaE_pa_351817_matching_results_wk24.RDS\"\n"
     ]
    },
    {
     "name": "stderr",
     "output_type": "stream",
     "text": [
      "\u001b[36mℹ\u001b[39m \u001b[34m\u001b[34ms3://maap-ops-workspace/shared/leitoldv/GEDI_global_PA_v2/WDPA_matching_results/BaE_wk24/BaE_pa_351817_matching_results_wk24.RDS\u001b[34m\u001b[39m already exists at \u001b[34m\u001b[34m/projects/.local/share/R/s3/maap-ops-workspace/shared/leitoldv/GEDI_global_PA_v2/WDPA_matching_results/BaE_wk24/BaE_pa_351817_matching_results_wk24.RDS\u001b[34m\u001b[39m\n",
      "\n"
     ]
    },
    {
     "name": "stdout",
     "output_type": "stream",
     "text": [
      "[1] \"BaE_pa_351818_matching_results_wk24.RDS\"\n"
     ]
    },
    {
     "name": "stderr",
     "output_type": "stream",
     "text": [
      "\u001b[36mℹ\u001b[39m \u001b[34m\u001b[34ms3://maap-ops-workspace/shared/leitoldv/GEDI_global_PA_v2/WDPA_matching_results/BaE_wk24/BaE_pa_351818_matching_results_wk24.RDS\u001b[34m\u001b[39m already exists at \u001b[34m\u001b[34m/projects/.local/share/R/s3/maap-ops-workspace/shared/leitoldv/GEDI_global_PA_v2/WDPA_matching_results/BaE_wk24/BaE_pa_351818_matching_results_wk24.RDS\u001b[34m\u001b[39m\n",
      "\n"
     ]
    },
    {
     "name": "stdout",
     "output_type": "stream",
     "text": [
      "[1] \"BaE_pa_351819_matching_results_wk24.RDS\"\n"
     ]
    },
    {
     "name": "stderr",
     "output_type": "stream",
     "text": [
      "\u001b[36mℹ\u001b[39m \u001b[34m\u001b[34ms3://maap-ops-workspace/shared/leitoldv/GEDI_global_PA_v2/WDPA_matching_results/BaE_wk24/BaE_pa_351819_matching_results_wk24.RDS\u001b[34m\u001b[39m already exists at \u001b[34m\u001b[34m/projects/.local/share/R/s3/maap-ops-workspace/shared/leitoldv/GEDI_global_PA_v2/WDPA_matching_results/BaE_wk24/BaE_pa_351819_matching_results_wk24.RDS\u001b[34m\u001b[39m\n",
      "\n"
     ]
    },
    {
     "name": "stdout",
     "output_type": "stream",
     "text": [
      "[1] \"BaE_pa_351822_matching_results_wk24.RDS\"\n"
     ]
    },
    {
     "name": "stderr",
     "output_type": "stream",
     "text": [
      "\u001b[36mℹ\u001b[39m \u001b[34m\u001b[34ms3://maap-ops-workspace/shared/leitoldv/GEDI_global_PA_v2/WDPA_matching_results/BaE_wk24/BaE_pa_351822_matching_results_wk24.RDS\u001b[34m\u001b[39m already exists at \u001b[34m\u001b[34m/projects/.local/share/R/s3/maap-ops-workspace/shared/leitoldv/GEDI_global_PA_v2/WDPA_matching_results/BaE_wk24/BaE_pa_351822_matching_results_wk24.RDS\u001b[34m\u001b[39m\n",
      "\n"
     ]
    },
    {
     "name": "stdout",
     "output_type": "stream",
     "text": [
      "[1] \"BaE_pa_351830_matching_results_wk24.RDS\"\n"
     ]
    },
    {
     "name": "stderr",
     "output_type": "stream",
     "text": [
      "\u001b[36mℹ\u001b[39m \u001b[34m\u001b[34ms3://maap-ops-workspace/shared/leitoldv/GEDI_global_PA_v2/WDPA_matching_results/BaE_wk24/BaE_pa_351830_matching_results_wk24.RDS\u001b[34m\u001b[39m already exists at \u001b[34m\u001b[34m/projects/.local/share/R/s3/maap-ops-workspace/shared/leitoldv/GEDI_global_PA_v2/WDPA_matching_results/BaE_wk24/BaE_pa_351830_matching_results_wk24.RDS\u001b[34m\u001b[39m\n",
      "\n"
     ]
    },
    {
     "name": "stdout",
     "output_type": "stream",
     "text": [
      "[1] \"BaE_pa_351831_matching_results_wk24.RDS\"\n"
     ]
    },
    {
     "name": "stderr",
     "output_type": "stream",
     "text": [
      "\u001b[36mℹ\u001b[39m \u001b[34m\u001b[34ms3://maap-ops-workspace/shared/leitoldv/GEDI_global_PA_v2/WDPA_matching_results/BaE_wk24/BaE_pa_351831_matching_results_wk24.RDS\u001b[34m\u001b[39m already exists at \u001b[34m\u001b[34m/projects/.local/share/R/s3/maap-ops-workspace/shared/leitoldv/GEDI_global_PA_v2/WDPA_matching_results/BaE_wk24/BaE_pa_351831_matching_results_wk24.RDS\u001b[34m\u001b[39m\n",
      "\n"
     ]
    },
    {
     "name": "stdout",
     "output_type": "stream",
     "text": [
      "[1] \"BaE_pa_351833_matching_results_wk24.RDS\"\n"
     ]
    },
    {
     "name": "stderr",
     "output_type": "stream",
     "text": [
      "\u001b[36mℹ\u001b[39m \u001b[34m\u001b[34ms3://maap-ops-workspace/shared/leitoldv/GEDI_global_PA_v2/WDPA_matching_results/BaE_wk24/BaE_pa_351833_matching_results_wk24.RDS\u001b[34m\u001b[39m already exists at \u001b[34m\u001b[34m/projects/.local/share/R/s3/maap-ops-workspace/shared/leitoldv/GEDI_global_PA_v2/WDPA_matching_results/BaE_wk24/BaE_pa_351833_matching_results_wk24.RDS\u001b[34m\u001b[39m\n",
      "\n"
     ]
    },
    {
     "name": "stdout",
     "output_type": "stream",
     "text": [
      "[1] \"BaE_pa_351835_matching_results_wk24.RDS\"\n"
     ]
    },
    {
     "name": "stderr",
     "output_type": "stream",
     "text": [
      "\u001b[36mℹ\u001b[39m \u001b[34m\u001b[34ms3://maap-ops-workspace/shared/leitoldv/GEDI_global_PA_v2/WDPA_matching_results/BaE_wk24/BaE_pa_351835_matching_results_wk24.RDS\u001b[34m\u001b[39m already exists at \u001b[34m\u001b[34m/projects/.local/share/R/s3/maap-ops-workspace/shared/leitoldv/GEDI_global_PA_v2/WDPA_matching_results/BaE_wk24/BaE_pa_351835_matching_results_wk24.RDS\u001b[34m\u001b[39m\n",
      "\n"
     ]
    },
    {
     "name": "stdout",
     "output_type": "stream",
     "text": [
      "[1] \"BaE_pa_351838_matching_results_wk24.RDS\"\n"
     ]
    },
    {
     "name": "stderr",
     "output_type": "stream",
     "text": [
      "\u001b[36mℹ\u001b[39m \u001b[34m\u001b[34ms3://maap-ops-workspace/shared/leitoldv/GEDI_global_PA_v2/WDPA_matching_results/BaE_wk24/BaE_pa_351838_matching_results_wk24.RDS\u001b[34m\u001b[39m already exists at \u001b[34m\u001b[34m/projects/.local/share/R/s3/maap-ops-workspace/shared/leitoldv/GEDI_global_PA_v2/WDPA_matching_results/BaE_wk24/BaE_pa_351838_matching_results_wk24.RDS\u001b[34m\u001b[39m\n",
      "\n"
     ]
    },
    {
     "name": "stdout",
     "output_type": "stream",
     "text": [
      "[1] \"BaE_pa_351839_matching_results_wk24.RDS\"\n"
     ]
    },
    {
     "name": "stderr",
     "output_type": "stream",
     "text": [
      "\u001b[36mℹ\u001b[39m \u001b[34m\u001b[34ms3://maap-ops-workspace/shared/leitoldv/GEDI_global_PA_v2/WDPA_matching_results/BaE_wk24/BaE_pa_351839_matching_results_wk24.RDS\u001b[34m\u001b[39m already exists at \u001b[34m\u001b[34m/projects/.local/share/R/s3/maap-ops-workspace/shared/leitoldv/GEDI_global_PA_v2/WDPA_matching_results/BaE_wk24/BaE_pa_351839_matching_results_wk24.RDS\u001b[34m\u001b[39m\n",
      "\n"
     ]
    },
    {
     "name": "stdout",
     "output_type": "stream",
     "text": [
      "[1] \"BaE_pa_351900_matching_results_wk24.RDS\"\n"
     ]
    },
    {
     "name": "stderr",
     "output_type": "stream",
     "text": [
      "\u001b[36mℹ\u001b[39m \u001b[34m\u001b[34ms3://maap-ops-workspace/shared/leitoldv/GEDI_global_PA_v2/WDPA_matching_results/BaE_wk24/BaE_pa_351900_matching_results_wk24.RDS\u001b[34m\u001b[39m already exists at \u001b[34m\u001b[34m/projects/.local/share/R/s3/maap-ops-workspace/shared/leitoldv/GEDI_global_PA_v2/WDPA_matching_results/BaE_wk24/BaE_pa_351900_matching_results_wk24.RDS\u001b[34m\u001b[39m\n",
      "\n"
     ]
    },
    {
     "name": "stdout",
     "output_type": "stream",
     "text": [
      "[1] \"BaE_pa_351904_matching_results_wk24.RDS\"\n"
     ]
    },
    {
     "name": "stderr",
     "output_type": "stream",
     "text": [
      "\u001b[36mℹ\u001b[39m \u001b[34m\u001b[34ms3://maap-ops-workspace/shared/leitoldv/GEDI_global_PA_v2/WDPA_matching_results/BaE_wk24/BaE_pa_351904_matching_results_wk24.RDS\u001b[34m\u001b[39m already exists at \u001b[34m\u001b[34m/projects/.local/share/R/s3/maap-ops-workspace/shared/leitoldv/GEDI_global_PA_v2/WDPA_matching_results/BaE_wk24/BaE_pa_351904_matching_results_wk24.RDS\u001b[34m\u001b[39m\n",
      "\n"
     ]
    },
    {
     "name": "stdout",
     "output_type": "stream",
     "text": [
      "[1] \"BaE_pa_351997_matching_results_wk24.RDS\"\n"
     ]
    },
    {
     "name": "stderr",
     "output_type": "stream",
     "text": [
      "\u001b[36mℹ\u001b[39m \u001b[34m\u001b[34ms3://maap-ops-workspace/shared/leitoldv/GEDI_global_PA_v2/WDPA_matching_results/BaE_wk24/BaE_pa_351997_matching_results_wk24.RDS\u001b[34m\u001b[39m already exists at \u001b[34m\u001b[34m/projects/.local/share/R/s3/maap-ops-workspace/shared/leitoldv/GEDI_global_PA_v2/WDPA_matching_results/BaE_wk24/BaE_pa_351997_matching_results_wk24.RDS\u001b[34m\u001b[39m\n",
      "\n"
     ]
    },
    {
     "name": "stdout",
     "output_type": "stream",
     "text": [
      "[1] \"BaE_pa_352013_matching_results_wk24.RDS\"\n"
     ]
    },
    {
     "name": "stderr",
     "output_type": "stream",
     "text": [
      "\u001b[36mℹ\u001b[39m \u001b[34m\u001b[34ms3://maap-ops-workspace/shared/leitoldv/GEDI_global_PA_v2/WDPA_matching_results/BaE_wk24/BaE_pa_352013_matching_results_wk24.RDS\u001b[34m\u001b[39m already exists at \u001b[34m\u001b[34m/projects/.local/share/R/s3/maap-ops-workspace/shared/leitoldv/GEDI_global_PA_v2/WDPA_matching_results/BaE_wk24/BaE_pa_352013_matching_results_wk24.RDS\u001b[34m\u001b[39m\n",
      "\n"
     ]
    },
    {
     "name": "stdout",
     "output_type": "stream",
     "text": [
      "[1] \"BaE_pa_352027_matching_results_wk24.RDS\"\n"
     ]
    },
    {
     "name": "stderr",
     "output_type": "stream",
     "text": [
      "\u001b[36mℹ\u001b[39m \u001b[34m\u001b[34ms3://maap-ops-workspace/shared/leitoldv/GEDI_global_PA_v2/WDPA_matching_results/BaE_wk24/BaE_pa_352027_matching_results_wk24.RDS\u001b[34m\u001b[39m already exists at \u001b[34m\u001b[34m/projects/.local/share/R/s3/maap-ops-workspace/shared/leitoldv/GEDI_global_PA_v2/WDPA_matching_results/BaE_wk24/BaE_pa_352027_matching_results_wk24.RDS\u001b[34m\u001b[39m\n",
      "\n"
     ]
    },
    {
     "name": "stdout",
     "output_type": "stream",
     "text": [
      "[1] \"BaE_pa_352057_matching_results_wk24.RDS\"\n"
     ]
    },
    {
     "name": "stderr",
     "output_type": "stream",
     "text": [
      "\u001b[36mℹ\u001b[39m \u001b[34m\u001b[34ms3://maap-ops-workspace/shared/leitoldv/GEDI_global_PA_v2/WDPA_matching_results/BaE_wk24/BaE_pa_352057_matching_results_wk24.RDS\u001b[34m\u001b[39m already exists at \u001b[34m\u001b[34m/projects/.local/share/R/s3/maap-ops-workspace/shared/leitoldv/GEDI_global_PA_v2/WDPA_matching_results/BaE_wk24/BaE_pa_352057_matching_results_wk24.RDS\u001b[34m\u001b[39m\n",
      "\n"
     ]
    },
    {
     "name": "stdout",
     "output_type": "stream",
     "text": [
      "[1] \"BaE_pa_352062_matching_results_wk24.RDS\"\n"
     ]
    },
    {
     "name": "stderr",
     "output_type": "stream",
     "text": [
      "\u001b[36mℹ\u001b[39m \u001b[34m\u001b[34ms3://maap-ops-workspace/shared/leitoldv/GEDI_global_PA_v2/WDPA_matching_results/BaE_wk24/BaE_pa_352062_matching_results_wk24.RDS\u001b[34m\u001b[39m already exists at \u001b[34m\u001b[34m/projects/.local/share/R/s3/maap-ops-workspace/shared/leitoldv/GEDI_global_PA_v2/WDPA_matching_results/BaE_wk24/BaE_pa_352062_matching_results_wk24.RDS\u001b[34m\u001b[39m\n",
      "\n"
     ]
    },
    {
     "name": "stdout",
     "output_type": "stream",
     "text": [
      "[1] \"BaE_pa_352128_matching_results_wk24.RDS\"\n"
     ]
    },
    {
     "name": "stderr",
     "output_type": "stream",
     "text": [
      "\u001b[36mℹ\u001b[39m \u001b[34m\u001b[34ms3://maap-ops-workspace/shared/leitoldv/GEDI_global_PA_v2/WDPA_matching_results/BaE_wk24/BaE_pa_352128_matching_results_wk24.RDS\u001b[34m\u001b[39m already exists at \u001b[34m\u001b[34m/projects/.local/share/R/s3/maap-ops-workspace/shared/leitoldv/GEDI_global_PA_v2/WDPA_matching_results/BaE_wk24/BaE_pa_352128_matching_results_wk24.RDS\u001b[34m\u001b[39m\n",
      "\n"
     ]
    },
    {
     "name": "stdout",
     "output_type": "stream",
     "text": [
      "[1] \"BaE_pa_352130_matching_results_wk24.RDS\"\n"
     ]
    },
    {
     "name": "stderr",
     "output_type": "stream",
     "text": [
      "\u001b[36mℹ\u001b[39m \u001b[34m\u001b[34ms3://maap-ops-workspace/shared/leitoldv/GEDI_global_PA_v2/WDPA_matching_results/BaE_wk24/BaE_pa_352130_matching_results_wk24.RDS\u001b[34m\u001b[39m already exists at \u001b[34m\u001b[34m/projects/.local/share/R/s3/maap-ops-workspace/shared/leitoldv/GEDI_global_PA_v2/WDPA_matching_results/BaE_wk24/BaE_pa_352130_matching_results_wk24.RDS\u001b[34m\u001b[39m\n",
      "\n"
     ]
    },
    {
     "name": "stdout",
     "output_type": "stream",
     "text": [
      "[1] \"BaE_pa_352150_matching_results_wk24.RDS\"\n"
     ]
    },
    {
     "name": "stderr",
     "output_type": "stream",
     "text": [
      "\u001b[36mℹ\u001b[39m \u001b[34m\u001b[34ms3://maap-ops-workspace/shared/leitoldv/GEDI_global_PA_v2/WDPA_matching_results/BaE_wk24/BaE_pa_352150_matching_results_wk24.RDS\u001b[34m\u001b[39m already exists at \u001b[34m\u001b[34m/projects/.local/share/R/s3/maap-ops-workspace/shared/leitoldv/GEDI_global_PA_v2/WDPA_matching_results/BaE_wk24/BaE_pa_352150_matching_results_wk24.RDS\u001b[34m\u001b[39m\n",
      "\n"
     ]
    },
    {
     "name": "stdout",
     "output_type": "stream",
     "text": [
      "[1] \"BaE_pa_352151_matching_results_wk24.RDS\"\n"
     ]
    },
    {
     "name": "stderr",
     "output_type": "stream",
     "text": [
      "\u001b[36mℹ\u001b[39m \u001b[34m\u001b[34ms3://maap-ops-workspace/shared/leitoldv/GEDI_global_PA_v2/WDPA_matching_results/BaE_wk24/BaE_pa_352151_matching_results_wk24.RDS\u001b[34m\u001b[39m already exists at \u001b[34m\u001b[34m/projects/.local/share/R/s3/maap-ops-workspace/shared/leitoldv/GEDI_global_PA_v2/WDPA_matching_results/BaE_wk24/BaE_pa_352151_matching_results_wk24.RDS\u001b[34m\u001b[39m\n",
      "\n"
     ]
    },
    {
     "name": "stdout",
     "output_type": "stream",
     "text": [
      "[1] \"BaE_pa_352152_matching_results_wk24.RDS\"\n"
     ]
    },
    {
     "name": "stderr",
     "output_type": "stream",
     "text": [
      "\u001b[36mℹ\u001b[39m \u001b[34m\u001b[34ms3://maap-ops-workspace/shared/leitoldv/GEDI_global_PA_v2/WDPA_matching_results/BaE_wk24/BaE_pa_352152_matching_results_wk24.RDS\u001b[34m\u001b[39m already exists at \u001b[34m\u001b[34m/projects/.local/share/R/s3/maap-ops-workspace/shared/leitoldv/GEDI_global_PA_v2/WDPA_matching_results/BaE_wk24/BaE_pa_352152_matching_results_wk24.RDS\u001b[34m\u001b[39m\n",
      "\n"
     ]
    },
    {
     "name": "stdout",
     "output_type": "stream",
     "text": [
      "[1] \"BaE_pa_352153_matching_results_wk24.RDS\"\n"
     ]
    },
    {
     "name": "stderr",
     "output_type": "stream",
     "text": [
      "\u001b[36mℹ\u001b[39m \u001b[34m\u001b[34ms3://maap-ops-workspace/shared/leitoldv/GEDI_global_PA_v2/WDPA_matching_results/BaE_wk24/BaE_pa_352153_matching_results_wk24.RDS\u001b[34m\u001b[39m already exists at \u001b[34m\u001b[34m/projects/.local/share/R/s3/maap-ops-workspace/shared/leitoldv/GEDI_global_PA_v2/WDPA_matching_results/BaE_wk24/BaE_pa_352153_matching_results_wk24.RDS\u001b[34m\u001b[39m\n",
      "\n"
     ]
    },
    {
     "name": "stdout",
     "output_type": "stream",
     "text": [
      "[1] \"BaE_pa_352154_matching_results_wk24.RDS\"\n"
     ]
    },
    {
     "name": "stderr",
     "output_type": "stream",
     "text": [
      "\u001b[36mℹ\u001b[39m \u001b[34m\u001b[34ms3://maap-ops-workspace/shared/leitoldv/GEDI_global_PA_v2/WDPA_matching_results/BaE_wk24/BaE_pa_352154_matching_results_wk24.RDS\u001b[34m\u001b[39m already exists at \u001b[34m\u001b[34m/projects/.local/share/R/s3/maap-ops-workspace/shared/leitoldv/GEDI_global_PA_v2/WDPA_matching_results/BaE_wk24/BaE_pa_352154_matching_results_wk24.RDS\u001b[34m\u001b[39m\n",
      "\n"
     ]
    },
    {
     "name": "stdout",
     "output_type": "stream",
     "text": [
      "[1] \"BaE_pa_352156_matching_results_wk24.RDS\"\n"
     ]
    },
    {
     "name": "stderr",
     "output_type": "stream",
     "text": [
      "\u001b[36mℹ\u001b[39m \u001b[34m\u001b[34ms3://maap-ops-workspace/shared/leitoldv/GEDI_global_PA_v2/WDPA_matching_results/BaE_wk24/BaE_pa_352156_matching_results_wk24.RDS\u001b[34m\u001b[39m already exists at \u001b[34m\u001b[34m/projects/.local/share/R/s3/maap-ops-workspace/shared/leitoldv/GEDI_global_PA_v2/WDPA_matching_results/BaE_wk24/BaE_pa_352156_matching_results_wk24.RDS\u001b[34m\u001b[39m\n",
      "\n"
     ]
    },
    {
     "name": "stdout",
     "output_type": "stream",
     "text": [
      "[1] \"BaE_pa_352157_matching_results_wk24.RDS\"\n"
     ]
    },
    {
     "name": "stderr",
     "output_type": "stream",
     "text": [
      "\u001b[36mℹ\u001b[39m \u001b[34m\u001b[34ms3://maap-ops-workspace/shared/leitoldv/GEDI_global_PA_v2/WDPA_matching_results/BaE_wk24/BaE_pa_352157_matching_results_wk24.RDS\u001b[34m\u001b[39m already exists at \u001b[34m\u001b[34m/projects/.local/share/R/s3/maap-ops-workspace/shared/leitoldv/GEDI_global_PA_v2/WDPA_matching_results/BaE_wk24/BaE_pa_352157_matching_results_wk24.RDS\u001b[34m\u001b[39m\n",
      "\n"
     ]
    },
    {
     "name": "stdout",
     "output_type": "stream",
     "text": [
      "[1] \"BaE_pa_352158_matching_results_wk24.RDS\"\n"
     ]
    },
    {
     "name": "stderr",
     "output_type": "stream",
     "text": [
      "\u001b[36mℹ\u001b[39m \u001b[34m\u001b[34ms3://maap-ops-workspace/shared/leitoldv/GEDI_global_PA_v2/WDPA_matching_results/BaE_wk24/BaE_pa_352158_matching_results_wk24.RDS\u001b[34m\u001b[39m already exists at \u001b[34m\u001b[34m/projects/.local/share/R/s3/maap-ops-workspace/shared/leitoldv/GEDI_global_PA_v2/WDPA_matching_results/BaE_wk24/BaE_pa_352158_matching_results_wk24.RDS\u001b[34m\u001b[39m\n",
      "\n"
     ]
    },
    {
     "name": "stdout",
     "output_type": "stream",
     "text": [
      "[1] \"BaE_pa_352197_matching_results_wk24.RDS\"\n"
     ]
    },
    {
     "name": "stderr",
     "output_type": "stream",
     "text": [
      "\u001b[36mℹ\u001b[39m \u001b[34m\u001b[34ms3://maap-ops-workspace/shared/leitoldv/GEDI_global_PA_v2/WDPA_matching_results/BaE_wk24/BaE_pa_352197_matching_results_wk24.RDS\u001b[34m\u001b[39m already exists at \u001b[34m\u001b[34m/projects/.local/share/R/s3/maap-ops-workspace/shared/leitoldv/GEDI_global_PA_v2/WDPA_matching_results/BaE_wk24/BaE_pa_352197_matching_results_wk24.RDS\u001b[34m\u001b[39m\n",
      "\n"
     ]
    },
    {
     "name": "stdout",
     "output_type": "stream",
     "text": [
      "[1] \"BaE_pa_352198_matching_results_wk24.RDS\"\n"
     ]
    },
    {
     "name": "stderr",
     "output_type": "stream",
     "text": [
      "\u001b[36mℹ\u001b[39m \u001b[34m\u001b[34ms3://maap-ops-workspace/shared/leitoldv/GEDI_global_PA_v2/WDPA_matching_results/BaE_wk24/BaE_pa_352198_matching_results_wk24.RDS\u001b[34m\u001b[39m already exists at \u001b[34m\u001b[34m/projects/.local/share/R/s3/maap-ops-workspace/shared/leitoldv/GEDI_global_PA_v2/WDPA_matching_results/BaE_wk24/BaE_pa_352198_matching_results_wk24.RDS\u001b[34m\u001b[39m\n",
      "\n"
     ]
    },
    {
     "name": "stdout",
     "output_type": "stream",
     "text": [
      "[1] \"BaE_pa_352199_matching_results_wk24.RDS\"\n"
     ]
    },
    {
     "name": "stderr",
     "output_type": "stream",
     "text": [
      "\u001b[36mℹ\u001b[39m \u001b[34m\u001b[34ms3://maap-ops-workspace/shared/leitoldv/GEDI_global_PA_v2/WDPA_matching_results/BaE_wk24/BaE_pa_352199_matching_results_wk24.RDS\u001b[34m\u001b[39m already exists at \u001b[34m\u001b[34m/projects/.local/share/R/s3/maap-ops-workspace/shared/leitoldv/GEDI_global_PA_v2/WDPA_matching_results/BaE_wk24/BaE_pa_352199_matching_results_wk24.RDS\u001b[34m\u001b[39m\n",
      "\n"
     ]
    },
    {
     "name": "stdout",
     "output_type": "stream",
     "text": [
      "[1] \"BaE_pa_352200_matching_results_wk24.RDS\"\n"
     ]
    },
    {
     "name": "stderr",
     "output_type": "stream",
     "text": [
      "\u001b[36mℹ\u001b[39m \u001b[34m\u001b[34ms3://maap-ops-workspace/shared/leitoldv/GEDI_global_PA_v2/WDPA_matching_results/BaE_wk24/BaE_pa_352200_matching_results_wk24.RDS\u001b[34m\u001b[39m already exists at \u001b[34m\u001b[34m/projects/.local/share/R/s3/maap-ops-workspace/shared/leitoldv/GEDI_global_PA_v2/WDPA_matching_results/BaE_wk24/BaE_pa_352200_matching_results_wk24.RDS\u001b[34m\u001b[39m\n",
      "\n"
     ]
    },
    {
     "name": "stdout",
     "output_type": "stream",
     "text": [
      "[1] \"BaE_pa_352201_matching_results_wk24.RDS\"\n"
     ]
    },
    {
     "name": "stderr",
     "output_type": "stream",
     "text": [
      "\u001b[36mℹ\u001b[39m \u001b[34m\u001b[34ms3://maap-ops-workspace/shared/leitoldv/GEDI_global_PA_v2/WDPA_matching_results/BaE_wk24/BaE_pa_352201_matching_results_wk24.RDS\u001b[34m\u001b[39m already exists at \u001b[34m\u001b[34m/projects/.local/share/R/s3/maap-ops-workspace/shared/leitoldv/GEDI_global_PA_v2/WDPA_matching_results/BaE_wk24/BaE_pa_352201_matching_results_wk24.RDS\u001b[34m\u001b[39m\n",
      "\n"
     ]
    },
    {
     "name": "stdout",
     "output_type": "stream",
     "text": [
      "[1] \"BaE_pa_352202_matching_results_wk24.RDS\"\n"
     ]
    },
    {
     "name": "stderr",
     "output_type": "stream",
     "text": [
      "\u001b[36mℹ\u001b[39m \u001b[34m\u001b[34ms3://maap-ops-workspace/shared/leitoldv/GEDI_global_PA_v2/WDPA_matching_results/BaE_wk24/BaE_pa_352202_matching_results_wk24.RDS\u001b[34m\u001b[39m already exists at \u001b[34m\u001b[34m/projects/.local/share/R/s3/maap-ops-workspace/shared/leitoldv/GEDI_global_PA_v2/WDPA_matching_results/BaE_wk24/BaE_pa_352202_matching_results_wk24.RDS\u001b[34m\u001b[39m\n",
      "\n"
     ]
    },
    {
     "name": "stdout",
     "output_type": "stream",
     "text": [
      "[1] \"BaE_pa_352203_matching_results_wk24.RDS\"\n"
     ]
    },
    {
     "name": "stderr",
     "output_type": "stream",
     "text": [
      "\u001b[36mℹ\u001b[39m \u001b[34m\u001b[34ms3://maap-ops-workspace/shared/leitoldv/GEDI_global_PA_v2/WDPA_matching_results/BaE_wk24/BaE_pa_352203_matching_results_wk24.RDS\u001b[34m\u001b[39m already exists at \u001b[34m\u001b[34m/projects/.local/share/R/s3/maap-ops-workspace/shared/leitoldv/GEDI_global_PA_v2/WDPA_matching_results/BaE_wk24/BaE_pa_352203_matching_results_wk24.RDS\u001b[34m\u001b[39m\n",
      "\n"
     ]
    },
    {
     "name": "stdout",
     "output_type": "stream",
     "text": [
      "[1] \"BaE_pa_352204_matching_results_wk24.RDS\"\n"
     ]
    },
    {
     "name": "stderr",
     "output_type": "stream",
     "text": [
      "\u001b[36mℹ\u001b[39m \u001b[34m\u001b[34ms3://maap-ops-workspace/shared/leitoldv/GEDI_global_PA_v2/WDPA_matching_results/BaE_wk24/BaE_pa_352204_matching_results_wk24.RDS\u001b[34m\u001b[39m already exists at \u001b[34m\u001b[34m/projects/.local/share/R/s3/maap-ops-workspace/shared/leitoldv/GEDI_global_PA_v2/WDPA_matching_results/BaE_wk24/BaE_pa_352204_matching_results_wk24.RDS\u001b[34m\u001b[39m\n",
      "\n"
     ]
    },
    {
     "name": "stdout",
     "output_type": "stream",
     "text": [
      "[1] \"BaE_pa_352211_matching_results_wk24.RDS\"\n"
     ]
    },
    {
     "name": "stderr",
     "output_type": "stream",
     "text": [
      "\u001b[36mℹ\u001b[39m \u001b[34m\u001b[34ms3://maap-ops-workspace/shared/leitoldv/GEDI_global_PA_v2/WDPA_matching_results/BaE_wk24/BaE_pa_352211_matching_results_wk24.RDS\u001b[34m\u001b[39m already exists at \u001b[34m\u001b[34m/projects/.local/share/R/s3/maap-ops-workspace/shared/leitoldv/GEDI_global_PA_v2/WDPA_matching_results/BaE_wk24/BaE_pa_352211_matching_results_wk24.RDS\u001b[34m\u001b[39m\n",
      "\n"
     ]
    },
    {
     "name": "stdout",
     "output_type": "stream",
     "text": [
      "[1] \"BaE_pa_352212_matching_results_wk24.RDS\"\n"
     ]
    },
    {
     "name": "stderr",
     "output_type": "stream",
     "text": [
      "\u001b[36mℹ\u001b[39m \u001b[34m\u001b[34ms3://maap-ops-workspace/shared/leitoldv/GEDI_global_PA_v2/WDPA_matching_results/BaE_wk24/BaE_pa_352212_matching_results_wk24.RDS\u001b[34m\u001b[39m already exists at \u001b[34m\u001b[34m/projects/.local/share/R/s3/maap-ops-workspace/shared/leitoldv/GEDI_global_PA_v2/WDPA_matching_results/BaE_wk24/BaE_pa_352212_matching_results_wk24.RDS\u001b[34m\u001b[39m\n",
      "\n"
     ]
    },
    {
     "name": "stdout",
     "output_type": "stream",
     "text": [
      "[1] \"BaE_pa_352217_matching_results_wk24.RDS\"\n"
     ]
    },
    {
     "name": "stderr",
     "output_type": "stream",
     "text": [
      "\u001b[36mℹ\u001b[39m \u001b[34m\u001b[34ms3://maap-ops-workspace/shared/leitoldv/GEDI_global_PA_v2/WDPA_matching_results/BaE_wk24/BaE_pa_352217_matching_results_wk24.RDS\u001b[34m\u001b[39m already exists at \u001b[34m\u001b[34m/projects/.local/share/R/s3/maap-ops-workspace/shared/leitoldv/GEDI_global_PA_v2/WDPA_matching_results/BaE_wk24/BaE_pa_352217_matching_results_wk24.RDS\u001b[34m\u001b[39m\n",
      "\n"
     ]
    },
    {
     "name": "stdout",
     "output_type": "stream",
     "text": [
      "[1] \"BaE_pa_352219_matching_results_wk24.RDS\"\n"
     ]
    },
    {
     "name": "stderr",
     "output_type": "stream",
     "text": [
      "\u001b[36mℹ\u001b[39m \u001b[34m\u001b[34ms3://maap-ops-workspace/shared/leitoldv/GEDI_global_PA_v2/WDPA_matching_results/BaE_wk24/BaE_pa_352219_matching_results_wk24.RDS\u001b[34m\u001b[39m already exists at \u001b[34m\u001b[34m/projects/.local/share/R/s3/maap-ops-workspace/shared/leitoldv/GEDI_global_PA_v2/WDPA_matching_results/BaE_wk24/BaE_pa_352219_matching_results_wk24.RDS\u001b[34m\u001b[39m\n",
      "\n"
     ]
    },
    {
     "name": "stdout",
     "output_type": "stream",
     "text": [
      "[1] \"BaE_pa_352220_matching_results_wk24.RDS\"\n"
     ]
    },
    {
     "name": "stderr",
     "output_type": "stream",
     "text": [
      "\u001b[36mℹ\u001b[39m \u001b[34m\u001b[34ms3://maap-ops-workspace/shared/leitoldv/GEDI_global_PA_v2/WDPA_matching_results/BaE_wk24/BaE_pa_352220_matching_results_wk24.RDS\u001b[34m\u001b[39m already exists at \u001b[34m\u001b[34m/projects/.local/share/R/s3/maap-ops-workspace/shared/leitoldv/GEDI_global_PA_v2/WDPA_matching_results/BaE_wk24/BaE_pa_352220_matching_results_wk24.RDS\u001b[34m\u001b[39m\n",
      "\n"
     ]
    },
    {
     "name": "stdout",
     "output_type": "stream",
     "text": [
      "[1] \"BaE_pa_352260_matching_results_wk24.RDS\"\n"
     ]
    },
    {
     "name": "stderr",
     "output_type": "stream",
     "text": [
      "\u001b[36mℹ\u001b[39m \u001b[34m\u001b[34ms3://maap-ops-workspace/shared/leitoldv/GEDI_global_PA_v2/WDPA_matching_results/BaE_wk24/BaE_pa_352260_matching_results_wk24.RDS\u001b[34m\u001b[39m already exists at \u001b[34m\u001b[34m/projects/.local/share/R/s3/maap-ops-workspace/shared/leitoldv/GEDI_global_PA_v2/WDPA_matching_results/BaE_wk24/BaE_pa_352260_matching_results_wk24.RDS\u001b[34m\u001b[39m\n",
      "\n"
     ]
    },
    {
     "name": "stdout",
     "output_type": "stream",
     "text": [
      "[1] \"BaE_pa_352261_matching_results_wk24.RDS\"\n"
     ]
    },
    {
     "name": "stderr",
     "output_type": "stream",
     "text": [
      "\u001b[36mℹ\u001b[39m \u001b[34m\u001b[34ms3://maap-ops-workspace/shared/leitoldv/GEDI_global_PA_v2/WDPA_matching_results/BaE_wk24/BaE_pa_352261_matching_results_wk24.RDS\u001b[34m\u001b[39m already exists at \u001b[34m\u001b[34m/projects/.local/share/R/s3/maap-ops-workspace/shared/leitoldv/GEDI_global_PA_v2/WDPA_matching_results/BaE_wk24/BaE_pa_352261_matching_results_wk24.RDS\u001b[34m\u001b[39m\n",
      "\n"
     ]
    },
    {
     "name": "stdout",
     "output_type": "stream",
     "text": [
      "[1] \"BaE_pa_352274_matching_results_wk24.RDS\"\n"
     ]
    },
    {
     "name": "stderr",
     "output_type": "stream",
     "text": [
      "\u001b[36mℹ\u001b[39m \u001b[34m\u001b[34ms3://maap-ops-workspace/shared/leitoldv/GEDI_global_PA_v2/WDPA_matching_results/BaE_wk24/BaE_pa_352274_matching_results_wk24.RDS\u001b[34m\u001b[39m already exists at \u001b[34m\u001b[34m/projects/.local/share/R/s3/maap-ops-workspace/shared/leitoldv/GEDI_global_PA_v2/WDPA_matching_results/BaE_wk24/BaE_pa_352274_matching_results_wk24.RDS\u001b[34m\u001b[39m\n",
      "\n"
     ]
    },
    {
     "name": "stdout",
     "output_type": "stream",
     "text": [
      "[1] \"BaE_pa_352353_matching_results_wk24.RDS\"\n"
     ]
    },
    {
     "name": "stderr",
     "output_type": "stream",
     "text": [
      "\u001b[36mℹ\u001b[39m \u001b[34m\u001b[34ms3://maap-ops-workspace/shared/leitoldv/GEDI_global_PA_v2/WDPA_matching_results/BaE_wk24/BaE_pa_352353_matching_results_wk24.RDS\u001b[34m\u001b[39m already exists at \u001b[34m\u001b[34m/projects/.local/share/R/s3/maap-ops-workspace/shared/leitoldv/GEDI_global_PA_v2/WDPA_matching_results/BaE_wk24/BaE_pa_352353_matching_results_wk24.RDS\u001b[34m\u001b[39m\n",
      "\n"
     ]
    },
    {
     "name": "stdout",
     "output_type": "stream",
     "text": [
      "[1] \"BaE_pa_352364_matching_results_wk24.RDS\"\n"
     ]
    },
    {
     "name": "stderr",
     "output_type": "stream",
     "text": [
      "\u001b[36mℹ\u001b[39m \u001b[34m\u001b[34ms3://maap-ops-workspace/shared/leitoldv/GEDI_global_PA_v2/WDPA_matching_results/BaE_wk24/BaE_pa_352364_matching_results_wk24.RDS\u001b[34m\u001b[39m already exists at \u001b[34m\u001b[34m/projects/.local/share/R/s3/maap-ops-workspace/shared/leitoldv/GEDI_global_PA_v2/WDPA_matching_results/BaE_wk24/BaE_pa_352364_matching_results_wk24.RDS\u001b[34m\u001b[39m\n",
      "\n"
     ]
    },
    {
     "name": "stdout",
     "output_type": "stream",
     "text": [
      "[1] \"BaE_pa_352367_matching_results_wk24.RDS\"\n"
     ]
    },
    {
     "name": "stderr",
     "output_type": "stream",
     "text": [
      "\u001b[36mℹ\u001b[39m \u001b[34m\u001b[34ms3://maap-ops-workspace/shared/leitoldv/GEDI_global_PA_v2/WDPA_matching_results/BaE_wk24/BaE_pa_352367_matching_results_wk24.RDS\u001b[34m\u001b[39m already exists at \u001b[34m\u001b[34m/projects/.local/share/R/s3/maap-ops-workspace/shared/leitoldv/GEDI_global_PA_v2/WDPA_matching_results/BaE_wk24/BaE_pa_352367_matching_results_wk24.RDS\u001b[34m\u001b[39m\n",
      "\n"
     ]
    },
    {
     "name": "stdout",
     "output_type": "stream",
     "text": [
      "[1] \"BaE_pa_352369_matching_results_wk24.RDS\"\n"
     ]
    },
    {
     "name": "stderr",
     "output_type": "stream",
     "text": [
      "\u001b[36mℹ\u001b[39m \u001b[34m\u001b[34ms3://maap-ops-workspace/shared/leitoldv/GEDI_global_PA_v2/WDPA_matching_results/BaE_wk24/BaE_pa_352369_matching_results_wk24.RDS\u001b[34m\u001b[39m already exists at \u001b[34m\u001b[34m/projects/.local/share/R/s3/maap-ops-workspace/shared/leitoldv/GEDI_global_PA_v2/WDPA_matching_results/BaE_wk24/BaE_pa_352369_matching_results_wk24.RDS\u001b[34m\u001b[39m\n",
      "\n"
     ]
    },
    {
     "name": "stdout",
     "output_type": "stream",
     "text": [
      "[1] \"BaE_pa_352370_matching_results_wk24.RDS\"\n"
     ]
    },
    {
     "name": "stderr",
     "output_type": "stream",
     "text": [
      "\u001b[36mℹ\u001b[39m \u001b[34m\u001b[34ms3://maap-ops-workspace/shared/leitoldv/GEDI_global_PA_v2/WDPA_matching_results/BaE_wk24/BaE_pa_352370_matching_results_wk24.RDS\u001b[34m\u001b[39m already exists at \u001b[34m\u001b[34m/projects/.local/share/R/s3/maap-ops-workspace/shared/leitoldv/GEDI_global_PA_v2/WDPA_matching_results/BaE_wk24/BaE_pa_352370_matching_results_wk24.RDS\u001b[34m\u001b[39m\n",
      "\n"
     ]
    },
    {
     "name": "stdout",
     "output_type": "stream",
     "text": [
      "[1] \"BaE_pa_352371_matching_results_wk24.RDS\"\n"
     ]
    },
    {
     "name": "stderr",
     "output_type": "stream",
     "text": [
      "\u001b[36mℹ\u001b[39m \u001b[34m\u001b[34ms3://maap-ops-workspace/shared/leitoldv/GEDI_global_PA_v2/WDPA_matching_results/BaE_wk24/BaE_pa_352371_matching_results_wk24.RDS\u001b[34m\u001b[39m already exists at \u001b[34m\u001b[34m/projects/.local/share/R/s3/maap-ops-workspace/shared/leitoldv/GEDI_global_PA_v2/WDPA_matching_results/BaE_wk24/BaE_pa_352371_matching_results_wk24.RDS\u001b[34m\u001b[39m\n",
      "\n"
     ]
    },
    {
     "name": "stdout",
     "output_type": "stream",
     "text": [
      "[1] \"BaE_pa_352372_matching_results_wk24.RDS\"\n"
     ]
    },
    {
     "name": "stderr",
     "output_type": "stream",
     "text": [
      "\u001b[36mℹ\u001b[39m \u001b[34m\u001b[34ms3://maap-ops-workspace/shared/leitoldv/GEDI_global_PA_v2/WDPA_matching_results/BaE_wk24/BaE_pa_352372_matching_results_wk24.RDS\u001b[34m\u001b[39m already exists at \u001b[34m\u001b[34m/projects/.local/share/R/s3/maap-ops-workspace/shared/leitoldv/GEDI_global_PA_v2/WDPA_matching_results/BaE_wk24/BaE_pa_352372_matching_results_wk24.RDS\u001b[34m\u001b[39m\n",
      "\n"
     ]
    },
    {
     "name": "stdout",
     "output_type": "stream",
     "text": [
      "[1] \"BaE_pa_352373_matching_results_wk24.RDS\"\n"
     ]
    },
    {
     "name": "stderr",
     "output_type": "stream",
     "text": [
      "\u001b[36mℹ\u001b[39m \u001b[34m\u001b[34ms3://maap-ops-workspace/shared/leitoldv/GEDI_global_PA_v2/WDPA_matching_results/BaE_wk24/BaE_pa_352373_matching_results_wk24.RDS\u001b[34m\u001b[39m already exists at \u001b[34m\u001b[34m/projects/.local/share/R/s3/maap-ops-workspace/shared/leitoldv/GEDI_global_PA_v2/WDPA_matching_results/BaE_wk24/BaE_pa_352373_matching_results_wk24.RDS\u001b[34m\u001b[39m\n",
      "\n"
     ]
    },
    {
     "name": "stdout",
     "output_type": "stream",
     "text": [
      "[1] \"BaE_pa_352374_matching_results_wk24.RDS\"\n"
     ]
    },
    {
     "name": "stderr",
     "output_type": "stream",
     "text": [
      "\u001b[36mℹ\u001b[39m \u001b[34m\u001b[34ms3://maap-ops-workspace/shared/leitoldv/GEDI_global_PA_v2/WDPA_matching_results/BaE_wk24/BaE_pa_352374_matching_results_wk24.RDS\u001b[34m\u001b[39m already exists at \u001b[34m\u001b[34m/projects/.local/share/R/s3/maap-ops-workspace/shared/leitoldv/GEDI_global_PA_v2/WDPA_matching_results/BaE_wk24/BaE_pa_352374_matching_results_wk24.RDS\u001b[34m\u001b[39m\n",
      "\n"
     ]
    },
    {
     "name": "stdout",
     "output_type": "stream",
     "text": [
      "[1] \"BaE_pa_352375_matching_results_wk24.RDS\"\n"
     ]
    },
    {
     "name": "stderr",
     "output_type": "stream",
     "text": [
      "\u001b[36mℹ\u001b[39m \u001b[34m\u001b[34ms3://maap-ops-workspace/shared/leitoldv/GEDI_global_PA_v2/WDPA_matching_results/BaE_wk24/BaE_pa_352375_matching_results_wk24.RDS\u001b[34m\u001b[39m already exists at \u001b[34m\u001b[34m/projects/.local/share/R/s3/maap-ops-workspace/shared/leitoldv/GEDI_global_PA_v2/WDPA_matching_results/BaE_wk24/BaE_pa_352375_matching_results_wk24.RDS\u001b[34m\u001b[39m\n",
      "\n"
     ]
    },
    {
     "name": "stdout",
     "output_type": "stream",
     "text": [
      "[1] \"BaE_pa_352376_matching_results_wk24.RDS\"\n"
     ]
    },
    {
     "name": "stderr",
     "output_type": "stream",
     "text": [
      "\u001b[36mℹ\u001b[39m \u001b[34m\u001b[34ms3://maap-ops-workspace/shared/leitoldv/GEDI_global_PA_v2/WDPA_matching_results/BaE_wk24/BaE_pa_352376_matching_results_wk24.RDS\u001b[34m\u001b[39m already exists at \u001b[34m\u001b[34m/projects/.local/share/R/s3/maap-ops-workspace/shared/leitoldv/GEDI_global_PA_v2/WDPA_matching_results/BaE_wk24/BaE_pa_352376_matching_results_wk24.RDS\u001b[34m\u001b[39m\n",
      "\n"
     ]
    },
    {
     "name": "stdout",
     "output_type": "stream",
     "text": [
      "[1] \"BaE_pa_352377_matching_results_wk24.RDS\"\n"
     ]
    },
    {
     "name": "stderr",
     "output_type": "stream",
     "text": [
      "\u001b[36mℹ\u001b[39m \u001b[34m\u001b[34ms3://maap-ops-workspace/shared/leitoldv/GEDI_global_PA_v2/WDPA_matching_results/BaE_wk24/BaE_pa_352377_matching_results_wk24.RDS\u001b[34m\u001b[39m already exists at \u001b[34m\u001b[34m/projects/.local/share/R/s3/maap-ops-workspace/shared/leitoldv/GEDI_global_PA_v2/WDPA_matching_results/BaE_wk24/BaE_pa_352377_matching_results_wk24.RDS\u001b[34m\u001b[39m\n",
      "\n"
     ]
    },
    {
     "name": "stdout",
     "output_type": "stream",
     "text": [
      "[1] \"BaE_pa_352378_matching_results_wk24.RDS\"\n"
     ]
    },
    {
     "name": "stderr",
     "output_type": "stream",
     "text": [
      "\u001b[36mℹ\u001b[39m \u001b[34m\u001b[34ms3://maap-ops-workspace/shared/leitoldv/GEDI_global_PA_v2/WDPA_matching_results/BaE_wk24/BaE_pa_352378_matching_results_wk24.RDS\u001b[34m\u001b[39m already exists at \u001b[34m\u001b[34m/projects/.local/share/R/s3/maap-ops-workspace/shared/leitoldv/GEDI_global_PA_v2/WDPA_matching_results/BaE_wk24/BaE_pa_352378_matching_results_wk24.RDS\u001b[34m\u001b[39m\n",
      "\n"
     ]
    },
    {
     "name": "stdout",
     "output_type": "stream",
     "text": [
      "[1] \"BaE_pa_352379_matching_results_wk24.RDS\"\n"
     ]
    },
    {
     "name": "stderr",
     "output_type": "stream",
     "text": [
      "\u001b[36mℹ\u001b[39m \u001b[34m\u001b[34ms3://maap-ops-workspace/shared/leitoldv/GEDI_global_PA_v2/WDPA_matching_results/BaE_wk24/BaE_pa_352379_matching_results_wk24.RDS\u001b[34m\u001b[39m already exists at \u001b[34m\u001b[34m/projects/.local/share/R/s3/maap-ops-workspace/shared/leitoldv/GEDI_global_PA_v2/WDPA_matching_results/BaE_wk24/BaE_pa_352379_matching_results_wk24.RDS\u001b[34m\u001b[39m\n",
      "\n"
     ]
    },
    {
     "name": "stdout",
     "output_type": "stream",
     "text": [
      "[1] \"BaE_pa_352380_matching_results_wk24.RDS\"\n"
     ]
    },
    {
     "name": "stderr",
     "output_type": "stream",
     "text": [
      "\u001b[36mℹ\u001b[39m \u001b[34m\u001b[34ms3://maap-ops-workspace/shared/leitoldv/GEDI_global_PA_v2/WDPA_matching_results/BaE_wk24/BaE_pa_352380_matching_results_wk24.RDS\u001b[34m\u001b[39m already exists at \u001b[34m\u001b[34m/projects/.local/share/R/s3/maap-ops-workspace/shared/leitoldv/GEDI_global_PA_v2/WDPA_matching_results/BaE_wk24/BaE_pa_352380_matching_results_wk24.RDS\u001b[34m\u001b[39m\n",
      "\n"
     ]
    },
    {
     "name": "stdout",
     "output_type": "stream",
     "text": [
      "[1] \"BaE_pa_352381_matching_results_wk24.RDS\"\n"
     ]
    },
    {
     "name": "stderr",
     "output_type": "stream",
     "text": [
      "\u001b[36mℹ\u001b[39m \u001b[34m\u001b[34ms3://maap-ops-workspace/shared/leitoldv/GEDI_global_PA_v2/WDPA_matching_results/BaE_wk24/BaE_pa_352381_matching_results_wk24.RDS\u001b[34m\u001b[39m already exists at \u001b[34m\u001b[34m/projects/.local/share/R/s3/maap-ops-workspace/shared/leitoldv/GEDI_global_PA_v2/WDPA_matching_results/BaE_wk24/BaE_pa_352381_matching_results_wk24.RDS\u001b[34m\u001b[39m\n",
      "\n"
     ]
    },
    {
     "name": "stdout",
     "output_type": "stream",
     "text": [
      "[1] \"BaE_pa_352382_matching_results_wk24.RDS\"\n"
     ]
    },
    {
     "name": "stderr",
     "output_type": "stream",
     "text": [
      "\u001b[36mℹ\u001b[39m \u001b[34m\u001b[34ms3://maap-ops-workspace/shared/leitoldv/GEDI_global_PA_v2/WDPA_matching_results/BaE_wk24/BaE_pa_352382_matching_results_wk24.RDS\u001b[34m\u001b[39m already exists at \u001b[34m\u001b[34m/projects/.local/share/R/s3/maap-ops-workspace/shared/leitoldv/GEDI_global_PA_v2/WDPA_matching_results/BaE_wk24/BaE_pa_352382_matching_results_wk24.RDS\u001b[34m\u001b[39m\n",
      "\n"
     ]
    },
    {
     "name": "stdout",
     "output_type": "stream",
     "text": [
      "[1] \"BaE_pa_352383_matching_results_wk24.RDS\"\n"
     ]
    },
    {
     "name": "stderr",
     "output_type": "stream",
     "text": [
      "\u001b[36mℹ\u001b[39m \u001b[34m\u001b[34ms3://maap-ops-workspace/shared/leitoldv/GEDI_global_PA_v2/WDPA_matching_results/BaE_wk24/BaE_pa_352383_matching_results_wk24.RDS\u001b[34m\u001b[39m already exists at \u001b[34m\u001b[34m/projects/.local/share/R/s3/maap-ops-workspace/shared/leitoldv/GEDI_global_PA_v2/WDPA_matching_results/BaE_wk24/BaE_pa_352383_matching_results_wk24.RDS\u001b[34m\u001b[39m\n",
      "\n"
     ]
    },
    {
     "name": "stdout",
     "output_type": "stream",
     "text": [
      "[1] \"BaE_pa_352384_matching_results_wk24.RDS\"\n"
     ]
    },
    {
     "name": "stderr",
     "output_type": "stream",
     "text": [
      "\u001b[36mℹ\u001b[39m \u001b[34m\u001b[34ms3://maap-ops-workspace/shared/leitoldv/GEDI_global_PA_v2/WDPA_matching_results/BaE_wk24/BaE_pa_352384_matching_results_wk24.RDS\u001b[34m\u001b[39m already exists at \u001b[34m\u001b[34m/projects/.local/share/R/s3/maap-ops-workspace/shared/leitoldv/GEDI_global_PA_v2/WDPA_matching_results/BaE_wk24/BaE_pa_352384_matching_results_wk24.RDS\u001b[34m\u001b[39m\n",
      "\n"
     ]
    },
    {
     "name": "stdout",
     "output_type": "stream",
     "text": [
      "[1] \"BaE_pa_352385_matching_results_wk24.RDS\"\n"
     ]
    },
    {
     "name": "stderr",
     "output_type": "stream",
     "text": [
      "\u001b[36mℹ\u001b[39m \u001b[34m\u001b[34ms3://maap-ops-workspace/shared/leitoldv/GEDI_global_PA_v2/WDPA_matching_results/BaE_wk24/BaE_pa_352385_matching_results_wk24.RDS\u001b[34m\u001b[39m already exists at \u001b[34m\u001b[34m/projects/.local/share/R/s3/maap-ops-workspace/shared/leitoldv/GEDI_global_PA_v2/WDPA_matching_results/BaE_wk24/BaE_pa_352385_matching_results_wk24.RDS\u001b[34m\u001b[39m\n",
      "\n"
     ]
    },
    {
     "name": "stdout",
     "output_type": "stream",
     "text": [
      "[1] \"BaE_pa_352386_matching_results_wk24.RDS\"\n"
     ]
    },
    {
     "name": "stderr",
     "output_type": "stream",
     "text": [
      "\u001b[36mℹ\u001b[39m \u001b[34m\u001b[34ms3://maap-ops-workspace/shared/leitoldv/GEDI_global_PA_v2/WDPA_matching_results/BaE_wk24/BaE_pa_352386_matching_results_wk24.RDS\u001b[34m\u001b[39m already exists at \u001b[34m\u001b[34m/projects/.local/share/R/s3/maap-ops-workspace/shared/leitoldv/GEDI_global_PA_v2/WDPA_matching_results/BaE_wk24/BaE_pa_352386_matching_results_wk24.RDS\u001b[34m\u001b[39m\n",
      "\n"
     ]
    },
    {
     "name": "stdout",
     "output_type": "stream",
     "text": [
      "[1] \"BaE_pa_352388_matching_results_wk24.RDS\"\n"
     ]
    },
    {
     "name": "stderr",
     "output_type": "stream",
     "text": [
      "\u001b[36mℹ\u001b[39m \u001b[34m\u001b[34ms3://maap-ops-workspace/shared/leitoldv/GEDI_global_PA_v2/WDPA_matching_results/BaE_wk24/BaE_pa_352388_matching_results_wk24.RDS\u001b[34m\u001b[39m already exists at \u001b[34m\u001b[34m/projects/.local/share/R/s3/maap-ops-workspace/shared/leitoldv/GEDI_global_PA_v2/WDPA_matching_results/BaE_wk24/BaE_pa_352388_matching_results_wk24.RDS\u001b[34m\u001b[39m\n",
      "\n"
     ]
    },
    {
     "name": "stdout",
     "output_type": "stream",
     "text": [
      "[1] \"BaE_pa_352389_matching_results_wk24.RDS\"\n"
     ]
    },
    {
     "name": "stderr",
     "output_type": "stream",
     "text": [
      "\u001b[36mℹ\u001b[39m \u001b[34m\u001b[34ms3://maap-ops-workspace/shared/leitoldv/GEDI_global_PA_v2/WDPA_matching_results/BaE_wk24/BaE_pa_352389_matching_results_wk24.RDS\u001b[34m\u001b[39m already exists at \u001b[34m\u001b[34m/projects/.local/share/R/s3/maap-ops-workspace/shared/leitoldv/GEDI_global_PA_v2/WDPA_matching_results/BaE_wk24/BaE_pa_352389_matching_results_wk24.RDS\u001b[34m\u001b[39m\n",
      "\n"
     ]
    },
    {
     "name": "stdout",
     "output_type": "stream",
     "text": [
      "[1] \"BaE_pa_352391_matching_results_wk24.RDS\"\n"
     ]
    },
    {
     "name": "stderr",
     "output_type": "stream",
     "text": [
      "\u001b[36mℹ\u001b[39m \u001b[34m\u001b[34ms3://maap-ops-workspace/shared/leitoldv/GEDI_global_PA_v2/WDPA_matching_results/BaE_wk24/BaE_pa_352391_matching_results_wk24.RDS\u001b[34m\u001b[39m already exists at \u001b[34m\u001b[34m/projects/.local/share/R/s3/maap-ops-workspace/shared/leitoldv/GEDI_global_PA_v2/WDPA_matching_results/BaE_wk24/BaE_pa_352391_matching_results_wk24.RDS\u001b[34m\u001b[39m\n",
      "\n"
     ]
    },
    {
     "name": "stdout",
     "output_type": "stream",
     "text": [
      "[1] \"BaE_pa_352392_matching_results_wk24.RDS\"\n"
     ]
    },
    {
     "name": "stderr",
     "output_type": "stream",
     "text": [
      "\u001b[36mℹ\u001b[39m \u001b[34m\u001b[34ms3://maap-ops-workspace/shared/leitoldv/GEDI_global_PA_v2/WDPA_matching_results/BaE_wk24/BaE_pa_352392_matching_results_wk24.RDS\u001b[34m\u001b[39m already exists at \u001b[34m\u001b[34m/projects/.local/share/R/s3/maap-ops-workspace/shared/leitoldv/GEDI_global_PA_v2/WDPA_matching_results/BaE_wk24/BaE_pa_352392_matching_results_wk24.RDS\u001b[34m\u001b[39m\n",
      "\n"
     ]
    },
    {
     "name": "stdout",
     "output_type": "stream",
     "text": [
      "[1] \"BaE_pa_352394_matching_results_wk24.RDS\"\n"
     ]
    },
    {
     "name": "stderr",
     "output_type": "stream",
     "text": [
      "\u001b[36mℹ\u001b[39m \u001b[34m\u001b[34ms3://maap-ops-workspace/shared/leitoldv/GEDI_global_PA_v2/WDPA_matching_results/BaE_wk24/BaE_pa_352394_matching_results_wk24.RDS\u001b[34m\u001b[39m already exists at \u001b[34m\u001b[34m/projects/.local/share/R/s3/maap-ops-workspace/shared/leitoldv/GEDI_global_PA_v2/WDPA_matching_results/BaE_wk24/BaE_pa_352394_matching_results_wk24.RDS\u001b[34m\u001b[39m\n",
      "\n"
     ]
    },
    {
     "name": "stdout",
     "output_type": "stream",
     "text": [
      "[1] \"BaE_pa_352395_matching_results_wk24.RDS\"\n"
     ]
    },
    {
     "name": "stderr",
     "output_type": "stream",
     "text": [
      "\u001b[36mℹ\u001b[39m \u001b[34m\u001b[34ms3://maap-ops-workspace/shared/leitoldv/GEDI_global_PA_v2/WDPA_matching_results/BaE_wk24/BaE_pa_352395_matching_results_wk24.RDS\u001b[34m\u001b[39m already exists at \u001b[34m\u001b[34m/projects/.local/share/R/s3/maap-ops-workspace/shared/leitoldv/GEDI_global_PA_v2/WDPA_matching_results/BaE_wk24/BaE_pa_352395_matching_results_wk24.RDS\u001b[34m\u001b[39m\n",
      "\n"
     ]
    },
    {
     "name": "stdout",
     "output_type": "stream",
     "text": [
      "[1] \"BaE_pa_352396_matching_results_wk24.RDS\"\n"
     ]
    },
    {
     "name": "stderr",
     "output_type": "stream",
     "text": [
      "\u001b[36mℹ\u001b[39m \u001b[34m\u001b[34ms3://maap-ops-workspace/shared/leitoldv/GEDI_global_PA_v2/WDPA_matching_results/BaE_wk24/BaE_pa_352396_matching_results_wk24.RDS\u001b[34m\u001b[39m already exists at \u001b[34m\u001b[34m/projects/.local/share/R/s3/maap-ops-workspace/shared/leitoldv/GEDI_global_PA_v2/WDPA_matching_results/BaE_wk24/BaE_pa_352396_matching_results_wk24.RDS\u001b[34m\u001b[39m\n",
      "\n"
     ]
    },
    {
     "name": "stdout",
     "output_type": "stream",
     "text": [
      "[1] \"BaE_pa_352397_matching_results_wk24.RDS\"\n"
     ]
    },
    {
     "name": "stderr",
     "output_type": "stream",
     "text": [
      "\u001b[36mℹ\u001b[39m \u001b[34m\u001b[34ms3://maap-ops-workspace/shared/leitoldv/GEDI_global_PA_v2/WDPA_matching_results/BaE_wk24/BaE_pa_352397_matching_results_wk24.RDS\u001b[34m\u001b[39m already exists at \u001b[34m\u001b[34m/projects/.local/share/R/s3/maap-ops-workspace/shared/leitoldv/GEDI_global_PA_v2/WDPA_matching_results/BaE_wk24/BaE_pa_352397_matching_results_wk24.RDS\u001b[34m\u001b[39m\n",
      "\n"
     ]
    },
    {
     "name": "stdout",
     "output_type": "stream",
     "text": [
      "[1] \"BaE_pa_352398_matching_results_wk24.RDS\"\n"
     ]
    },
    {
     "name": "stderr",
     "output_type": "stream",
     "text": [
      "\u001b[36mℹ\u001b[39m \u001b[34m\u001b[34ms3://maap-ops-workspace/shared/leitoldv/GEDI_global_PA_v2/WDPA_matching_results/BaE_wk24/BaE_pa_352398_matching_results_wk24.RDS\u001b[34m\u001b[39m already exists at \u001b[34m\u001b[34m/projects/.local/share/R/s3/maap-ops-workspace/shared/leitoldv/GEDI_global_PA_v2/WDPA_matching_results/BaE_wk24/BaE_pa_352398_matching_results_wk24.RDS\u001b[34m\u001b[39m\n",
      "\n"
     ]
    },
    {
     "name": "stdout",
     "output_type": "stream",
     "text": [
      "[1] \"BaE_pa_352399_matching_results_wk24.RDS\"\n"
     ]
    },
    {
     "name": "stderr",
     "output_type": "stream",
     "text": [
      "\u001b[36mℹ\u001b[39m \u001b[34m\u001b[34ms3://maap-ops-workspace/shared/leitoldv/GEDI_global_PA_v2/WDPA_matching_results/BaE_wk24/BaE_pa_352399_matching_results_wk24.RDS\u001b[34m\u001b[39m already exists at \u001b[34m\u001b[34m/projects/.local/share/R/s3/maap-ops-workspace/shared/leitoldv/GEDI_global_PA_v2/WDPA_matching_results/BaE_wk24/BaE_pa_352399_matching_results_wk24.RDS\u001b[34m\u001b[39m\n",
      "\n"
     ]
    },
    {
     "name": "stdout",
     "output_type": "stream",
     "text": [
      "[1] \"BaE_pa_352410_matching_results_wk24.RDS\"\n"
     ]
    },
    {
     "name": "stderr",
     "output_type": "stream",
     "text": [
      "\u001b[36mℹ\u001b[39m \u001b[34m\u001b[34ms3://maap-ops-workspace/shared/leitoldv/GEDI_global_PA_v2/WDPA_matching_results/BaE_wk24/BaE_pa_352410_matching_results_wk24.RDS\u001b[34m\u001b[39m already exists at \u001b[34m\u001b[34m/projects/.local/share/R/s3/maap-ops-workspace/shared/leitoldv/GEDI_global_PA_v2/WDPA_matching_results/BaE_wk24/BaE_pa_352410_matching_results_wk24.RDS\u001b[34m\u001b[39m\n",
      "\n"
     ]
    },
    {
     "name": "stdout",
     "output_type": "stream",
     "text": [
      "[1] \"BaE_pa_352412_matching_results_wk24.RDS\"\n"
     ]
    },
    {
     "name": "stderr",
     "output_type": "stream",
     "text": [
      "\u001b[36mℹ\u001b[39m \u001b[34m\u001b[34ms3://maap-ops-workspace/shared/leitoldv/GEDI_global_PA_v2/WDPA_matching_results/BaE_wk24/BaE_pa_352412_matching_results_wk24.RDS\u001b[34m\u001b[39m already exists at \u001b[34m\u001b[34m/projects/.local/share/R/s3/maap-ops-workspace/shared/leitoldv/GEDI_global_PA_v2/WDPA_matching_results/BaE_wk24/BaE_pa_352412_matching_results_wk24.RDS\u001b[34m\u001b[39m\n",
      "\n"
     ]
    },
    {
     "name": "stdout",
     "output_type": "stream",
     "text": [
      "[1] \"BaE_pa_352413_matching_results_wk24.RDS\"\n"
     ]
    },
    {
     "name": "stderr",
     "output_type": "stream",
     "text": [
      "\u001b[36mℹ\u001b[39m \u001b[34m\u001b[34ms3://maap-ops-workspace/shared/leitoldv/GEDI_global_PA_v2/WDPA_matching_results/BaE_wk24/BaE_pa_352413_matching_results_wk24.RDS\u001b[34m\u001b[39m already exists at \u001b[34m\u001b[34m/projects/.local/share/R/s3/maap-ops-workspace/shared/leitoldv/GEDI_global_PA_v2/WDPA_matching_results/BaE_wk24/BaE_pa_352413_matching_results_wk24.RDS\u001b[34m\u001b[39m\n",
      "\n"
     ]
    },
    {
     "name": "stdout",
     "output_type": "stream",
     "text": [
      "[1] \"BaE_pa_352414_matching_results_wk24.RDS\"\n"
     ]
    },
    {
     "name": "stderr",
     "output_type": "stream",
     "text": [
      "\u001b[36mℹ\u001b[39m \u001b[34m\u001b[34ms3://maap-ops-workspace/shared/leitoldv/GEDI_global_PA_v2/WDPA_matching_results/BaE_wk24/BaE_pa_352414_matching_results_wk24.RDS\u001b[34m\u001b[39m already exists at \u001b[34m\u001b[34m/projects/.local/share/R/s3/maap-ops-workspace/shared/leitoldv/GEDI_global_PA_v2/WDPA_matching_results/BaE_wk24/BaE_pa_352414_matching_results_wk24.RDS\u001b[34m\u001b[39m\n",
      "\n"
     ]
    },
    {
     "name": "stdout",
     "output_type": "stream",
     "text": [
      "[1] \"BaE_pa_352415_matching_results_wk24.RDS\"\n"
     ]
    },
    {
     "name": "stderr",
     "output_type": "stream",
     "text": [
      "\u001b[36mℹ\u001b[39m \u001b[34m\u001b[34ms3://maap-ops-workspace/shared/leitoldv/GEDI_global_PA_v2/WDPA_matching_results/BaE_wk24/BaE_pa_352415_matching_results_wk24.RDS\u001b[34m\u001b[39m already exists at \u001b[34m\u001b[34m/projects/.local/share/R/s3/maap-ops-workspace/shared/leitoldv/GEDI_global_PA_v2/WDPA_matching_results/BaE_wk24/BaE_pa_352415_matching_results_wk24.RDS\u001b[34m\u001b[39m\n",
      "\n"
     ]
    },
    {
     "name": "stdout",
     "output_type": "stream",
     "text": [
      "[1] \"BaE_pa_352416_matching_results_wk24.RDS\"\n"
     ]
    },
    {
     "name": "stderr",
     "output_type": "stream",
     "text": [
      "\u001b[36mℹ\u001b[39m \u001b[34m\u001b[34ms3://maap-ops-workspace/shared/leitoldv/GEDI_global_PA_v2/WDPA_matching_results/BaE_wk24/BaE_pa_352416_matching_results_wk24.RDS\u001b[34m\u001b[39m already exists at \u001b[34m\u001b[34m/projects/.local/share/R/s3/maap-ops-workspace/shared/leitoldv/GEDI_global_PA_v2/WDPA_matching_results/BaE_wk24/BaE_pa_352416_matching_results_wk24.RDS\u001b[34m\u001b[39m\n",
      "\n"
     ]
    },
    {
     "name": "stdout",
     "output_type": "stream",
     "text": [
      "[1] \"BaE_pa_352417_matching_results_wk24.RDS\"\n"
     ]
    },
    {
     "name": "stderr",
     "output_type": "stream",
     "text": [
      "\u001b[36mℹ\u001b[39m \u001b[34m\u001b[34ms3://maap-ops-workspace/shared/leitoldv/GEDI_global_PA_v2/WDPA_matching_results/BaE_wk24/BaE_pa_352417_matching_results_wk24.RDS\u001b[34m\u001b[39m already exists at \u001b[34m\u001b[34m/projects/.local/share/R/s3/maap-ops-workspace/shared/leitoldv/GEDI_global_PA_v2/WDPA_matching_results/BaE_wk24/BaE_pa_352417_matching_results_wk24.RDS\u001b[34m\u001b[39m\n",
      "\n"
     ]
    },
    {
     "name": "stdout",
     "output_type": "stream",
     "text": [
      "[1] \"BaE_pa_352421_matching_results_wk24.RDS\"\n"
     ]
    },
    {
     "name": "stderr",
     "output_type": "stream",
     "text": [
      "\u001b[36mℹ\u001b[39m \u001b[34m\u001b[34ms3://maap-ops-workspace/shared/leitoldv/GEDI_global_PA_v2/WDPA_matching_results/BaE_wk24/BaE_pa_352421_matching_results_wk24.RDS\u001b[34m\u001b[39m already exists at \u001b[34m\u001b[34m/projects/.local/share/R/s3/maap-ops-workspace/shared/leitoldv/GEDI_global_PA_v2/WDPA_matching_results/BaE_wk24/BaE_pa_352421_matching_results_wk24.RDS\u001b[34m\u001b[39m\n",
      "\n"
     ]
    },
    {
     "name": "stdout",
     "output_type": "stream",
     "text": [
      "[1] \"BaE_pa_352422_matching_results_wk24.RDS\"\n"
     ]
    },
    {
     "name": "stderr",
     "output_type": "stream",
     "text": [
      "\u001b[36mℹ\u001b[39m \u001b[34m\u001b[34ms3://maap-ops-workspace/shared/leitoldv/GEDI_global_PA_v2/WDPA_matching_results/BaE_wk24/BaE_pa_352422_matching_results_wk24.RDS\u001b[34m\u001b[39m already exists at \u001b[34m\u001b[34m/projects/.local/share/R/s3/maap-ops-workspace/shared/leitoldv/GEDI_global_PA_v2/WDPA_matching_results/BaE_wk24/BaE_pa_352422_matching_results_wk24.RDS\u001b[34m\u001b[39m\n",
      "\n"
     ]
    },
    {
     "name": "stdout",
     "output_type": "stream",
     "text": [
      "[1] \"BaE_pa_352423_matching_results_wk24.RDS\"\n"
     ]
    },
    {
     "name": "stderr",
     "output_type": "stream",
     "text": [
      "\u001b[36mℹ\u001b[39m \u001b[34m\u001b[34ms3://maap-ops-workspace/shared/leitoldv/GEDI_global_PA_v2/WDPA_matching_results/BaE_wk24/BaE_pa_352423_matching_results_wk24.RDS\u001b[34m\u001b[39m already exists at \u001b[34m\u001b[34m/projects/.local/share/R/s3/maap-ops-workspace/shared/leitoldv/GEDI_global_PA_v2/WDPA_matching_results/BaE_wk24/BaE_pa_352423_matching_results_wk24.RDS\u001b[34m\u001b[39m\n",
      "\n"
     ]
    },
    {
     "name": "stdout",
     "output_type": "stream",
     "text": [
      "[1] \"BaE_pa_41093_matching_results_wk24.RDS\"\n"
     ]
    },
    {
     "name": "stderr",
     "output_type": "stream",
     "text": [
      "\u001b[36mℹ\u001b[39m \u001b[34m\u001b[34ms3://maap-ops-workspace/shared/leitoldv/GEDI_global_PA_v2/WDPA_matching_results/BaE_wk24/BaE_pa_41093_matching_results_wk24.RDS\u001b[34m\u001b[39m already exists at \u001b[34m\u001b[34m/projects/.local/share/R/s3/maap-ops-workspace/shared/leitoldv/GEDI_global_PA_v2/WDPA_matching_results/BaE_wk24/BaE_pa_41093_matching_results_wk24.RDS\u001b[34m\u001b[39m\n",
      "\n"
     ]
    },
    {
     "name": "stdout",
     "output_type": "stream",
     "text": [
      "[1] \"BaE_pa_42_matching_results_wk24.RDS\"\n"
     ]
    },
    {
     "name": "stderr",
     "output_type": "stream",
     "text": [
      "\u001b[36mℹ\u001b[39m \u001b[34m\u001b[34ms3://maap-ops-workspace/shared/leitoldv/GEDI_global_PA_v2/WDPA_matching_results/BaE_wk24/BaE_pa_42_matching_results_wk24.RDS\u001b[34m\u001b[39m already exists at \u001b[34m\u001b[34m/projects/.local/share/R/s3/maap-ops-workspace/shared/leitoldv/GEDI_global_PA_v2/WDPA_matching_results/BaE_wk24/BaE_pa_42_matching_results_wk24.RDS\u001b[34m\u001b[39m\n",
      "\n"
     ]
    },
    {
     "name": "stdout",
     "output_type": "stream",
     "text": [
      "[1] \"BaE_pa_43_matching_results_wk24.RDS\"\n"
     ]
    },
    {
     "name": "stderr",
     "output_type": "stream",
     "text": [
      "\u001b[36mℹ\u001b[39m \u001b[34m\u001b[34ms3://maap-ops-workspace/shared/leitoldv/GEDI_global_PA_v2/WDPA_matching_results/BaE_wk24/BaE_pa_43_matching_results_wk24.RDS\u001b[34m\u001b[39m already exists at \u001b[34m\u001b[34m/projects/.local/share/R/s3/maap-ops-workspace/shared/leitoldv/GEDI_global_PA_v2/WDPA_matching_results/BaE_wk24/BaE_pa_43_matching_results_wk24.RDS\u001b[34m\u001b[39m\n",
      "\n"
     ]
    },
    {
     "name": "stdout",
     "output_type": "stream",
     "text": [
      "[1] \"BaE_pa_44_matching_results_wk24.RDS\"\n"
     ]
    },
    {
     "name": "stderr",
     "output_type": "stream",
     "text": [
      "\u001b[36mℹ\u001b[39m \u001b[34m\u001b[34ms3://maap-ops-workspace/shared/leitoldv/GEDI_global_PA_v2/WDPA_matching_results/BaE_wk24/BaE_pa_44_matching_results_wk24.RDS\u001b[34m\u001b[39m already exists at \u001b[34m\u001b[34m/projects/.local/share/R/s3/maap-ops-workspace/shared/leitoldv/GEDI_global_PA_v2/WDPA_matching_results/BaE_wk24/BaE_pa_44_matching_results_wk24.RDS\u001b[34m\u001b[39m\n",
      "\n"
     ]
    },
    {
     "name": "stdout",
     "output_type": "stream",
     "text": [
      "[1] \"BaE_pa_478408_matching_results_wk24.RDS\"\n"
     ]
    },
    {
     "name": "stderr",
     "output_type": "stream",
     "text": [
      "\u001b[36mℹ\u001b[39m \u001b[34m\u001b[34ms3://maap-ops-workspace/shared/leitoldv/GEDI_global_PA_v2/WDPA_matching_results/BaE_wk24/BaE_pa_478408_matching_results_wk24.RDS\u001b[34m\u001b[39m already exists at \u001b[34m\u001b[34m/projects/.local/share/R/s3/maap-ops-workspace/shared/leitoldv/GEDI_global_PA_v2/WDPA_matching_results/BaE_wk24/BaE_pa_478408_matching_results_wk24.RDS\u001b[34m\u001b[39m\n",
      "\n"
     ]
    },
    {
     "name": "stdout",
     "output_type": "stream",
     "text": [
      "[1] \"BaE_pa_478409_matching_results_wk24.RDS\"\n"
     ]
    },
    {
     "name": "stderr",
     "output_type": "stream",
     "text": [
      "\u001b[36mℹ\u001b[39m \u001b[34m\u001b[34ms3://maap-ops-workspace/shared/leitoldv/GEDI_global_PA_v2/WDPA_matching_results/BaE_wk24/BaE_pa_478409_matching_results_wk24.RDS\u001b[34m\u001b[39m already exists at \u001b[34m\u001b[34m/projects/.local/share/R/s3/maap-ops-workspace/shared/leitoldv/GEDI_global_PA_v2/WDPA_matching_results/BaE_wk24/BaE_pa_478409_matching_results_wk24.RDS\u001b[34m\u001b[39m\n",
      "\n"
     ]
    },
    {
     "name": "stdout",
     "output_type": "stream",
     "text": [
      "[1] \"BaE_pa_478422_matching_results_wk24.RDS\"\n"
     ]
    },
    {
     "name": "stderr",
     "output_type": "stream",
     "text": [
      "\u001b[36mℹ\u001b[39m \u001b[34m\u001b[34ms3://maap-ops-workspace/shared/leitoldv/GEDI_global_PA_v2/WDPA_matching_results/BaE_wk24/BaE_pa_478422_matching_results_wk24.RDS\u001b[34m\u001b[39m already exists at \u001b[34m\u001b[34m/projects/.local/share/R/s3/maap-ops-workspace/shared/leitoldv/GEDI_global_PA_v2/WDPA_matching_results/BaE_wk24/BaE_pa_478422_matching_results_wk24.RDS\u001b[34m\u001b[39m\n",
      "\n"
     ]
    },
    {
     "name": "stdout",
     "output_type": "stream",
     "text": [
      "[1] \"BaE_pa_478426_matching_results_wk24.RDS\"\n"
     ]
    },
    {
     "name": "stderr",
     "output_type": "stream",
     "text": [
      "\u001b[36mℹ\u001b[39m \u001b[34m\u001b[34ms3://maap-ops-workspace/shared/leitoldv/GEDI_global_PA_v2/WDPA_matching_results/BaE_wk24/BaE_pa_478426_matching_results_wk24.RDS\u001b[34m\u001b[39m already exists at \u001b[34m\u001b[34m/projects/.local/share/R/s3/maap-ops-workspace/shared/leitoldv/GEDI_global_PA_v2/WDPA_matching_results/BaE_wk24/BaE_pa_478426_matching_results_wk24.RDS\u001b[34m\u001b[39m\n",
      "\n"
     ]
    },
    {
     "name": "stdout",
     "output_type": "stream",
     "text": [
      "[1] \"BaE_pa_478483_matching_results_wk24.RDS\"\n"
     ]
    },
    {
     "name": "stderr",
     "output_type": "stream",
     "text": [
      "\u001b[36mℹ\u001b[39m \u001b[34m\u001b[34ms3://maap-ops-workspace/shared/leitoldv/GEDI_global_PA_v2/WDPA_matching_results/BaE_wk24/BaE_pa_478483_matching_results_wk24.RDS\u001b[34m\u001b[39m already exists at \u001b[34m\u001b[34m/projects/.local/share/R/s3/maap-ops-workspace/shared/leitoldv/GEDI_global_PA_v2/WDPA_matching_results/BaE_wk24/BaE_pa_478483_matching_results_wk24.RDS\u001b[34m\u001b[39m\n",
      "\n"
     ]
    },
    {
     "name": "stdout",
     "output_type": "stream",
     "text": [
      "[1] \"BaE_pa_478525_matching_results_wk24.RDS\"\n"
     ]
    },
    {
     "name": "stderr",
     "output_type": "stream",
     "text": [
      "\u001b[36mℹ\u001b[39m \u001b[34m\u001b[34ms3://maap-ops-workspace/shared/leitoldv/GEDI_global_PA_v2/WDPA_matching_results/BaE_wk24/BaE_pa_478525_matching_results_wk24.RDS\u001b[34m\u001b[39m already exists at \u001b[34m\u001b[34m/projects/.local/share/R/s3/maap-ops-workspace/shared/leitoldv/GEDI_global_PA_v2/WDPA_matching_results/BaE_wk24/BaE_pa_478525_matching_results_wk24.RDS\u001b[34m\u001b[39m\n",
      "\n"
     ]
    },
    {
     "name": "stdout",
     "output_type": "stream",
     "text": [
      "[1] \"BaE_pa_478528_matching_results_wk24.RDS\"\n"
     ]
    },
    {
     "name": "stderr",
     "output_type": "stream",
     "text": [
      "\u001b[36mℹ\u001b[39m \u001b[34m\u001b[34ms3://maap-ops-workspace/shared/leitoldv/GEDI_global_PA_v2/WDPA_matching_results/BaE_wk24/BaE_pa_478528_matching_results_wk24.RDS\u001b[34m\u001b[39m already exists at \u001b[34m\u001b[34m/projects/.local/share/R/s3/maap-ops-workspace/shared/leitoldv/GEDI_global_PA_v2/WDPA_matching_results/BaE_wk24/BaE_pa_478528_matching_results_wk24.RDS\u001b[34m\u001b[39m\n",
      "\n"
     ]
    },
    {
     "name": "stdout",
     "output_type": "stream",
     "text": [
      "[1] \"BaE_pa_478590_matching_results_wk24.RDS\"\n"
     ]
    },
    {
     "name": "stderr",
     "output_type": "stream",
     "text": [
      "\u001b[36mℹ\u001b[39m \u001b[34m\u001b[34ms3://maap-ops-workspace/shared/leitoldv/GEDI_global_PA_v2/WDPA_matching_results/BaE_wk24/BaE_pa_478590_matching_results_wk24.RDS\u001b[34m\u001b[39m already exists at \u001b[34m\u001b[34m/projects/.local/share/R/s3/maap-ops-workspace/shared/leitoldv/GEDI_global_PA_v2/WDPA_matching_results/BaE_wk24/BaE_pa_478590_matching_results_wk24.RDS\u001b[34m\u001b[39m\n",
      "\n"
     ]
    },
    {
     "name": "stdout",
     "output_type": "stream",
     "text": [
      "[1] \"BaE_pa_4891_matching_results_wk24.RDS\"\n"
     ]
    },
    {
     "name": "stderr",
     "output_type": "stream",
     "text": [
      "\u001b[36mℹ\u001b[39m \u001b[34m\u001b[34ms3://maap-ops-workspace/shared/leitoldv/GEDI_global_PA_v2/WDPA_matching_results/BaE_wk24/BaE_pa_4891_matching_results_wk24.RDS\u001b[34m\u001b[39m already exists at \u001b[34m\u001b[34m/projects/.local/share/R/s3/maap-ops-workspace/shared/leitoldv/GEDI_global_PA_v2/WDPA_matching_results/BaE_wk24/BaE_pa_4891_matching_results_wk24.RDS\u001b[34m\u001b[39m\n",
      "\n"
     ]
    },
    {
     "name": "stdout",
     "output_type": "stream",
     "text": [
      "[1] \"BaE_pa_55_matching_results_wk24.RDS\"\n"
     ]
    },
    {
     "name": "stderr",
     "output_type": "stream",
     "text": [
      "\u001b[36mℹ\u001b[39m \u001b[34m\u001b[34ms3://maap-ops-workspace/shared/leitoldv/GEDI_global_PA_v2/WDPA_matching_results/BaE_wk24/BaE_pa_55_matching_results_wk24.RDS\u001b[34m\u001b[39m already exists at \u001b[34m\u001b[34m/projects/.local/share/R/s3/maap-ops-workspace/shared/leitoldv/GEDI_global_PA_v2/WDPA_matching_results/BaE_wk24/BaE_pa_55_matching_results_wk24.RDS\u001b[34m\u001b[39m\n",
      "\n"
     ]
    },
    {
     "name": "stdout",
     "output_type": "stream",
     "text": [
      "[1] \"BaE_pa_555542510_matching_results_wk24.RDS\"\n"
     ]
    },
    {
     "name": "stderr",
     "output_type": "stream",
     "text": [
      "\u001b[36mℹ\u001b[39m \u001b[34m\u001b[34ms3://maap-ops-workspace/shared/leitoldv/GEDI_global_PA_v2/WDPA_matching_results/BaE_wk24/BaE_pa_555542510_matching_results_wk24.RDS\u001b[34m\u001b[39m already exists at \u001b[34m\u001b[34m/projects/.local/share/R/s3/maap-ops-workspace/shared/leitoldv/GEDI_global_PA_v2/WDPA_matching_results/BaE_wk24/BaE_pa_555542510_matching_results_wk24.RDS\u001b[34m\u001b[39m\n",
      "\n"
     ]
    },
    {
     "name": "stdout",
     "output_type": "stream",
     "text": [
      "[1] \"BaE_pa_555542512_matching_results_wk24.RDS\"\n"
     ]
    },
    {
     "name": "stderr",
     "output_type": "stream",
     "text": [
      "\u001b[36mℹ\u001b[39m \u001b[34m\u001b[34ms3://maap-ops-workspace/shared/leitoldv/GEDI_global_PA_v2/WDPA_matching_results/BaE_wk24/BaE_pa_555542512_matching_results_wk24.RDS\u001b[34m\u001b[39m already exists at \u001b[34m\u001b[34m/projects/.local/share/R/s3/maap-ops-workspace/shared/leitoldv/GEDI_global_PA_v2/WDPA_matching_results/BaE_wk24/BaE_pa_555542512_matching_results_wk24.RDS\u001b[34m\u001b[39m\n",
      "\n"
     ]
    },
    {
     "name": "stdout",
     "output_type": "stream",
     "text": [
      "[1] \"BaE_pa_555542514_matching_results_wk24.RDS\"\n"
     ]
    },
    {
     "name": "stderr",
     "output_type": "stream",
     "text": [
      "\u001b[36mℹ\u001b[39m \u001b[34m\u001b[34ms3://maap-ops-workspace/shared/leitoldv/GEDI_global_PA_v2/WDPA_matching_results/BaE_wk24/BaE_pa_555542514_matching_results_wk24.RDS\u001b[34m\u001b[39m already exists at \u001b[34m\u001b[34m/projects/.local/share/R/s3/maap-ops-workspace/shared/leitoldv/GEDI_global_PA_v2/WDPA_matching_results/BaE_wk24/BaE_pa_555542514_matching_results_wk24.RDS\u001b[34m\u001b[39m\n",
      "\n"
     ]
    },
    {
     "name": "stdout",
     "output_type": "stream",
     "text": [
      "[1] \"BaE_pa_555542542_matching_results_wk24.RDS\"\n"
     ]
    },
    {
     "name": "stderr",
     "output_type": "stream",
     "text": [
      "\u001b[36mℹ\u001b[39m \u001b[34m\u001b[34ms3://maap-ops-workspace/shared/leitoldv/GEDI_global_PA_v2/WDPA_matching_results/BaE_wk24/BaE_pa_555542542_matching_results_wk24.RDS\u001b[34m\u001b[39m already exists at \u001b[34m\u001b[34m/projects/.local/share/R/s3/maap-ops-workspace/shared/leitoldv/GEDI_global_PA_v2/WDPA_matching_results/BaE_wk24/BaE_pa_555542542_matching_results_wk24.RDS\u001b[34m\u001b[39m\n",
      "\n"
     ]
    },
    {
     "name": "stdout",
     "output_type": "stream",
     "text": [
      "[1] \"BaE_pa_555542547_matching_results_wk24.RDS\"\n"
     ]
    },
    {
     "name": "stderr",
     "output_type": "stream",
     "text": [
      "\u001b[36mℹ\u001b[39m \u001b[34m\u001b[34ms3://maap-ops-workspace/shared/leitoldv/GEDI_global_PA_v2/WDPA_matching_results/BaE_wk24/BaE_pa_555542547_matching_results_wk24.RDS\u001b[34m\u001b[39m already exists at \u001b[34m\u001b[34m/projects/.local/share/R/s3/maap-ops-workspace/shared/leitoldv/GEDI_global_PA_v2/WDPA_matching_results/BaE_wk24/BaE_pa_555542547_matching_results_wk24.RDS\u001b[34m\u001b[39m\n",
      "\n"
     ]
    },
    {
     "name": "stdout",
     "output_type": "stream",
     "text": [
      "[1] \"BaE_pa_555542548_matching_results_wk24.RDS\"\n"
     ]
    },
    {
     "name": "stderr",
     "output_type": "stream",
     "text": [
      "\u001b[36mℹ\u001b[39m \u001b[34m\u001b[34ms3://maap-ops-workspace/shared/leitoldv/GEDI_global_PA_v2/WDPA_matching_results/BaE_wk24/BaE_pa_555542548_matching_results_wk24.RDS\u001b[34m\u001b[39m already exists at \u001b[34m\u001b[34m/projects/.local/share/R/s3/maap-ops-workspace/shared/leitoldv/GEDI_global_PA_v2/WDPA_matching_results/BaE_wk24/BaE_pa_555542548_matching_results_wk24.RDS\u001b[34m\u001b[39m\n",
      "\n"
     ]
    },
    {
     "name": "stdout",
     "output_type": "stream",
     "text": [
      "[1] \"BaE_pa_555542553_matching_results_wk24.RDS\"\n"
     ]
    },
    {
     "name": "stderr",
     "output_type": "stream",
     "text": [
      "\u001b[36mℹ\u001b[39m \u001b[34m\u001b[34ms3://maap-ops-workspace/shared/leitoldv/GEDI_global_PA_v2/WDPA_matching_results/BaE_wk24/BaE_pa_555542553_matching_results_wk24.RDS\u001b[34m\u001b[39m already exists at \u001b[34m\u001b[34m/projects/.local/share/R/s3/maap-ops-workspace/shared/leitoldv/GEDI_global_PA_v2/WDPA_matching_results/BaE_wk24/BaE_pa_555542553_matching_results_wk24.RDS\u001b[34m\u001b[39m\n",
      "\n"
     ]
    },
    {
     "name": "stdout",
     "output_type": "stream",
     "text": [
      "[1] \"BaE_pa_555542554_matching_results_wk24.RDS\"\n"
     ]
    },
    {
     "name": "stderr",
     "output_type": "stream",
     "text": [
      "\u001b[36mℹ\u001b[39m \u001b[34m\u001b[34ms3://maap-ops-workspace/shared/leitoldv/GEDI_global_PA_v2/WDPA_matching_results/BaE_wk24/BaE_pa_555542554_matching_results_wk24.RDS\u001b[34m\u001b[39m already exists at \u001b[34m\u001b[34m/projects/.local/share/R/s3/maap-ops-workspace/shared/leitoldv/GEDI_global_PA_v2/WDPA_matching_results/BaE_wk24/BaE_pa_555542554_matching_results_wk24.RDS\u001b[34m\u001b[39m\n",
      "\n"
     ]
    },
    {
     "name": "stdout",
     "output_type": "stream",
     "text": [
      "[1] \"BaE_pa_555542561_matching_results_wk24.RDS\"\n"
     ]
    },
    {
     "name": "stderr",
     "output_type": "stream",
     "text": [
      "\u001b[36mℹ\u001b[39m \u001b[34m\u001b[34ms3://maap-ops-workspace/shared/leitoldv/GEDI_global_PA_v2/WDPA_matching_results/BaE_wk24/BaE_pa_555542561_matching_results_wk24.RDS\u001b[34m\u001b[39m already exists at \u001b[34m\u001b[34m/projects/.local/share/R/s3/maap-ops-workspace/shared/leitoldv/GEDI_global_PA_v2/WDPA_matching_results/BaE_wk24/BaE_pa_555542561_matching_results_wk24.RDS\u001b[34m\u001b[39m\n",
      "\n"
     ]
    },
    {
     "name": "stdout",
     "output_type": "stream",
     "text": [
      "[1] \"BaE_pa_555542568_matching_results_wk24.RDS\"\n"
     ]
    },
    {
     "name": "stderr",
     "output_type": "stream",
     "text": [
      "\u001b[36mℹ\u001b[39m \u001b[34m\u001b[34ms3://maap-ops-workspace/shared/leitoldv/GEDI_global_PA_v2/WDPA_matching_results/BaE_wk24/BaE_pa_555542568_matching_results_wk24.RDS\u001b[34m\u001b[39m already exists at \u001b[34m\u001b[34m/projects/.local/share/R/s3/maap-ops-workspace/shared/leitoldv/GEDI_global_PA_v2/WDPA_matching_results/BaE_wk24/BaE_pa_555542568_matching_results_wk24.RDS\u001b[34m\u001b[39m\n",
      "\n"
     ]
    },
    {
     "name": "stdout",
     "output_type": "stream",
     "text": [
      "[1] \"BaE_pa_555542569_matching_results_wk24.RDS\"\n"
     ]
    },
    {
     "name": "stderr",
     "output_type": "stream",
     "text": [
      "\u001b[36mℹ\u001b[39m \u001b[34m\u001b[34ms3://maap-ops-workspace/shared/leitoldv/GEDI_global_PA_v2/WDPA_matching_results/BaE_wk24/BaE_pa_555542569_matching_results_wk24.RDS\u001b[34m\u001b[39m already exists at \u001b[34m\u001b[34m/projects/.local/share/R/s3/maap-ops-workspace/shared/leitoldv/GEDI_global_PA_v2/WDPA_matching_results/BaE_wk24/BaE_pa_555542569_matching_results_wk24.RDS\u001b[34m\u001b[39m\n",
      "\n"
     ]
    },
    {
     "name": "stdout",
     "output_type": "stream",
     "text": [
      "[1] \"BaE_pa_555542570_matching_results_wk24.RDS\"\n"
     ]
    },
    {
     "name": "stderr",
     "output_type": "stream",
     "text": [
      "\u001b[36mℹ\u001b[39m \u001b[34m\u001b[34ms3://maap-ops-workspace/shared/leitoldv/GEDI_global_PA_v2/WDPA_matching_results/BaE_wk24/BaE_pa_555542570_matching_results_wk24.RDS\u001b[34m\u001b[39m already exists at \u001b[34m\u001b[34m/projects/.local/share/R/s3/maap-ops-workspace/shared/leitoldv/GEDI_global_PA_v2/WDPA_matching_results/BaE_wk24/BaE_pa_555542570_matching_results_wk24.RDS\u001b[34m\u001b[39m\n",
      "\n"
     ]
    },
    {
     "name": "stdout",
     "output_type": "stream",
     "text": [
      "[1] \"BaE_pa_555542571_matching_results_wk24.RDS\"\n"
     ]
    },
    {
     "name": "stderr",
     "output_type": "stream",
     "text": [
      "\u001b[36mℹ\u001b[39m \u001b[34m\u001b[34ms3://maap-ops-workspace/shared/leitoldv/GEDI_global_PA_v2/WDPA_matching_results/BaE_wk24/BaE_pa_555542571_matching_results_wk24.RDS\u001b[34m\u001b[39m already exists at \u001b[34m\u001b[34m/projects/.local/share/R/s3/maap-ops-workspace/shared/leitoldv/GEDI_global_PA_v2/WDPA_matching_results/BaE_wk24/BaE_pa_555542571_matching_results_wk24.RDS\u001b[34m\u001b[39m\n",
      "\n"
     ]
    },
    {
     "name": "stdout",
     "output_type": "stream",
     "text": [
      "[1] \"BaE_pa_555542573_matching_results_wk24.RDS\"\n"
     ]
    },
    {
     "name": "stderr",
     "output_type": "stream",
     "text": [
      "\u001b[36mℹ\u001b[39m \u001b[34m\u001b[34ms3://maap-ops-workspace/shared/leitoldv/GEDI_global_PA_v2/WDPA_matching_results/BaE_wk24/BaE_pa_555542573_matching_results_wk24.RDS\u001b[34m\u001b[39m already exists at \u001b[34m\u001b[34m/projects/.local/share/R/s3/maap-ops-workspace/shared/leitoldv/GEDI_global_PA_v2/WDPA_matching_results/BaE_wk24/BaE_pa_555542573_matching_results_wk24.RDS\u001b[34m\u001b[39m\n",
      "\n"
     ]
    },
    {
     "name": "stdout",
     "output_type": "stream",
     "text": [
      "[1] \"BaE_pa_555542589_matching_results_wk24.RDS\"\n"
     ]
    },
    {
     "name": "stderr",
     "output_type": "stream",
     "text": [
      "\u001b[36mℹ\u001b[39m \u001b[34m\u001b[34ms3://maap-ops-workspace/shared/leitoldv/GEDI_global_PA_v2/WDPA_matching_results/BaE_wk24/BaE_pa_555542589_matching_results_wk24.RDS\u001b[34m\u001b[39m already exists at \u001b[34m\u001b[34m/projects/.local/share/R/s3/maap-ops-workspace/shared/leitoldv/GEDI_global_PA_v2/WDPA_matching_results/BaE_wk24/BaE_pa_555542589_matching_results_wk24.RDS\u001b[34m\u001b[39m\n",
      "\n"
     ]
    },
    {
     "name": "stdout",
     "output_type": "stream",
     "text": [
      "[1] \"BaE_pa_555542590_matching_results_wk24.RDS\"\n"
     ]
    },
    {
     "name": "stderr",
     "output_type": "stream",
     "text": [
      "\u001b[36mℹ\u001b[39m \u001b[34m\u001b[34ms3://maap-ops-workspace/shared/leitoldv/GEDI_global_PA_v2/WDPA_matching_results/BaE_wk24/BaE_pa_555542590_matching_results_wk24.RDS\u001b[34m\u001b[39m already exists at \u001b[34m\u001b[34m/projects/.local/share/R/s3/maap-ops-workspace/shared/leitoldv/GEDI_global_PA_v2/WDPA_matching_results/BaE_wk24/BaE_pa_555542590_matching_results_wk24.RDS\u001b[34m\u001b[39m\n",
      "\n"
     ]
    },
    {
     "name": "stdout",
     "output_type": "stream",
     "text": [
      "[1] \"BaE_pa_555542591_matching_results_wk24.RDS\"\n"
     ]
    },
    {
     "name": "stderr",
     "output_type": "stream",
     "text": [
      "\u001b[36mℹ\u001b[39m \u001b[34m\u001b[34ms3://maap-ops-workspace/shared/leitoldv/GEDI_global_PA_v2/WDPA_matching_results/BaE_wk24/BaE_pa_555542591_matching_results_wk24.RDS\u001b[34m\u001b[39m already exists at \u001b[34m\u001b[34m/projects/.local/share/R/s3/maap-ops-workspace/shared/leitoldv/GEDI_global_PA_v2/WDPA_matching_results/BaE_wk24/BaE_pa_555542591_matching_results_wk24.RDS\u001b[34m\u001b[39m\n",
      "\n"
     ]
    },
    {
     "name": "stdout",
     "output_type": "stream",
     "text": [
      "[1] \"BaE_pa_555542592_matching_results_wk24.RDS\"\n"
     ]
    },
    {
     "name": "stderr",
     "output_type": "stream",
     "text": [
      "\u001b[36mℹ\u001b[39m \u001b[34m\u001b[34ms3://maap-ops-workspace/shared/leitoldv/GEDI_global_PA_v2/WDPA_matching_results/BaE_wk24/BaE_pa_555542592_matching_results_wk24.RDS\u001b[34m\u001b[39m already exists at \u001b[34m\u001b[34m/projects/.local/share/R/s3/maap-ops-workspace/shared/leitoldv/GEDI_global_PA_v2/WDPA_matching_results/BaE_wk24/BaE_pa_555542592_matching_results_wk24.RDS\u001b[34m\u001b[39m\n",
      "\n"
     ]
    },
    {
     "name": "stdout",
     "output_type": "stream",
     "text": [
      "[1] \"BaE_pa_555542593_matching_results_wk24.RDS\"\n"
     ]
    },
    {
     "name": "stderr",
     "output_type": "stream",
     "text": [
      "\u001b[36mℹ\u001b[39m \u001b[34m\u001b[34ms3://maap-ops-workspace/shared/leitoldv/GEDI_global_PA_v2/WDPA_matching_results/BaE_wk24/BaE_pa_555542593_matching_results_wk24.RDS\u001b[34m\u001b[39m already exists at \u001b[34m\u001b[34m/projects/.local/share/R/s3/maap-ops-workspace/shared/leitoldv/GEDI_global_PA_v2/WDPA_matching_results/BaE_wk24/BaE_pa_555542593_matching_results_wk24.RDS\u001b[34m\u001b[39m\n",
      "\n"
     ]
    },
    {
     "name": "stdout",
     "output_type": "stream",
     "text": [
      "[1] \"BaE_pa_555542611_matching_results_wk24.RDS\"\n"
     ]
    },
    {
     "name": "stderr",
     "output_type": "stream",
     "text": [
      "\u001b[36mℹ\u001b[39m \u001b[34m\u001b[34ms3://maap-ops-workspace/shared/leitoldv/GEDI_global_PA_v2/WDPA_matching_results/BaE_wk24/BaE_pa_555542611_matching_results_wk24.RDS\u001b[34m\u001b[39m already exists at \u001b[34m\u001b[34m/projects/.local/share/R/s3/maap-ops-workspace/shared/leitoldv/GEDI_global_PA_v2/WDPA_matching_results/BaE_wk24/BaE_pa_555542611_matching_results_wk24.RDS\u001b[34m\u001b[39m\n",
      "\n"
     ]
    },
    {
     "name": "stdout",
     "output_type": "stream",
     "text": [
      "[1] \"BaE_pa_555542613_matching_results_wk24.RDS\"\n"
     ]
    },
    {
     "name": "stderr",
     "output_type": "stream",
     "text": [
      "\u001b[36mℹ\u001b[39m \u001b[34m\u001b[34ms3://maap-ops-workspace/shared/leitoldv/GEDI_global_PA_v2/WDPA_matching_results/BaE_wk24/BaE_pa_555542613_matching_results_wk24.RDS\u001b[34m\u001b[39m already exists at \u001b[34m\u001b[34m/projects/.local/share/R/s3/maap-ops-workspace/shared/leitoldv/GEDI_global_PA_v2/WDPA_matching_results/BaE_wk24/BaE_pa_555542613_matching_results_wk24.RDS\u001b[34m\u001b[39m\n",
      "\n"
     ]
    },
    {
     "name": "stdout",
     "output_type": "stream",
     "text": [
      "[1] \"BaE_pa_555542625_matching_results_wk24.RDS\"\n"
     ]
    },
    {
     "name": "stderr",
     "output_type": "stream",
     "text": [
      "\u001b[36mℹ\u001b[39m \u001b[34m\u001b[34ms3://maap-ops-workspace/shared/leitoldv/GEDI_global_PA_v2/WDPA_matching_results/BaE_wk24/BaE_pa_555542625_matching_results_wk24.RDS\u001b[34m\u001b[39m already exists at \u001b[34m\u001b[34m/projects/.local/share/R/s3/maap-ops-workspace/shared/leitoldv/GEDI_global_PA_v2/WDPA_matching_results/BaE_wk24/BaE_pa_555542625_matching_results_wk24.RDS\u001b[34m\u001b[39m\n",
      "\n"
     ]
    },
    {
     "name": "stdout",
     "output_type": "stream",
     "text": [
      "[1] \"BaE_pa_555542654_matching_results_wk24.RDS\"\n"
     ]
    },
    {
     "name": "stderr",
     "output_type": "stream",
     "text": [
      "\u001b[36mℹ\u001b[39m \u001b[34m\u001b[34ms3://maap-ops-workspace/shared/leitoldv/GEDI_global_PA_v2/WDPA_matching_results/BaE_wk24/BaE_pa_555542654_matching_results_wk24.RDS\u001b[34m\u001b[39m already exists at \u001b[34m\u001b[34m/projects/.local/share/R/s3/maap-ops-workspace/shared/leitoldv/GEDI_global_PA_v2/WDPA_matching_results/BaE_wk24/BaE_pa_555542654_matching_results_wk24.RDS\u001b[34m\u001b[39m\n",
      "\n"
     ]
    },
    {
     "name": "stdout",
     "output_type": "stream",
     "text": [
      "[1] \"BaE_pa_555542657_matching_results_wk24.RDS\"\n"
     ]
    },
    {
     "name": "stderr",
     "output_type": "stream",
     "text": [
      "\u001b[36mℹ\u001b[39m \u001b[34m\u001b[34ms3://maap-ops-workspace/shared/leitoldv/GEDI_global_PA_v2/WDPA_matching_results/BaE_wk24/BaE_pa_555542657_matching_results_wk24.RDS\u001b[34m\u001b[39m already exists at \u001b[34m\u001b[34m/projects/.local/share/R/s3/maap-ops-workspace/shared/leitoldv/GEDI_global_PA_v2/WDPA_matching_results/BaE_wk24/BaE_pa_555542657_matching_results_wk24.RDS\u001b[34m\u001b[39m\n",
      "\n"
     ]
    },
    {
     "name": "stdout",
     "output_type": "stream",
     "text": [
      "[1] \"BaE_pa_555542658_matching_results_wk24.RDS\"\n"
     ]
    },
    {
     "name": "stderr",
     "output_type": "stream",
     "text": [
      "\u001b[36mℹ\u001b[39m \u001b[34m\u001b[34ms3://maap-ops-workspace/shared/leitoldv/GEDI_global_PA_v2/WDPA_matching_results/BaE_wk24/BaE_pa_555542658_matching_results_wk24.RDS\u001b[34m\u001b[39m already exists at \u001b[34m\u001b[34m/projects/.local/share/R/s3/maap-ops-workspace/shared/leitoldv/GEDI_global_PA_v2/WDPA_matching_results/BaE_wk24/BaE_pa_555542658_matching_results_wk24.RDS\u001b[34m\u001b[39m\n",
      "\n"
     ]
    },
    {
     "name": "stdout",
     "output_type": "stream",
     "text": [
      "[1] \"BaE_pa_555542659_matching_results_wk24.RDS\"\n"
     ]
    },
    {
     "name": "stderr",
     "output_type": "stream",
     "text": [
      "\u001b[36mℹ\u001b[39m \u001b[34m\u001b[34ms3://maap-ops-workspace/shared/leitoldv/GEDI_global_PA_v2/WDPA_matching_results/BaE_wk24/BaE_pa_555542659_matching_results_wk24.RDS\u001b[34m\u001b[39m already exists at \u001b[34m\u001b[34m/projects/.local/share/R/s3/maap-ops-workspace/shared/leitoldv/GEDI_global_PA_v2/WDPA_matching_results/BaE_wk24/BaE_pa_555542659_matching_results_wk24.RDS\u001b[34m\u001b[39m\n",
      "\n"
     ]
    },
    {
     "name": "stdout",
     "output_type": "stream",
     "text": [
      "[1] \"BaE_pa_555544167_matching_results_wk24.RDS\"\n"
     ]
    },
    {
     "name": "stderr",
     "output_type": "stream",
     "text": [
      "\u001b[36mℹ\u001b[39m \u001b[34m\u001b[34ms3://maap-ops-workspace/shared/leitoldv/GEDI_global_PA_v2/WDPA_matching_results/BaE_wk24/BaE_pa_555544167_matching_results_wk24.RDS\u001b[34m\u001b[39m already exists at \u001b[34m\u001b[34m/projects/.local/share/R/s3/maap-ops-workspace/shared/leitoldv/GEDI_global_PA_v2/WDPA_matching_results/BaE_wk24/BaE_pa_555544167_matching_results_wk24.RDS\u001b[34m\u001b[39m\n",
      "\n"
     ]
    },
    {
     "name": "stdout",
     "output_type": "stream",
     "text": [
      "[1] \"BaE_pa_555576152_matching_results_wk24.RDS\"\n"
     ]
    },
    {
     "name": "stderr",
     "output_type": "stream",
     "text": [
      "\u001b[36mℹ\u001b[39m \u001b[34m\u001b[34ms3://maap-ops-workspace/shared/leitoldv/GEDI_global_PA_v2/WDPA_matching_results/BaE_wk24/BaE_pa_555576152_matching_results_wk24.RDS\u001b[34m\u001b[39m already exists at \u001b[34m\u001b[34m/projects/.local/share/R/s3/maap-ops-workspace/shared/leitoldv/GEDI_global_PA_v2/WDPA_matching_results/BaE_wk24/BaE_pa_555576152_matching_results_wk24.RDS\u001b[34m\u001b[39m\n",
      "\n"
     ]
    },
    {
     "name": "stdout",
     "output_type": "stream",
     "text": [
      "[1] \"BaE_pa_555576166_matching_results_wk24.RDS\"\n"
     ]
    },
    {
     "name": "stderr",
     "output_type": "stream",
     "text": [
      "\u001b[36mℹ\u001b[39m \u001b[34m\u001b[34ms3://maap-ops-workspace/shared/leitoldv/GEDI_global_PA_v2/WDPA_matching_results/BaE_wk24/BaE_pa_555576166_matching_results_wk24.RDS\u001b[34m\u001b[39m already exists at \u001b[34m\u001b[34m/projects/.local/share/R/s3/maap-ops-workspace/shared/leitoldv/GEDI_global_PA_v2/WDPA_matching_results/BaE_wk24/BaE_pa_555576166_matching_results_wk24.RDS\u001b[34m\u001b[39m\n",
      "\n"
     ]
    },
    {
     "name": "stdout",
     "output_type": "stream",
     "text": [
      "[1] \"BaE_pa_555576202_matching_results_wk24.RDS\"\n"
     ]
    },
    {
     "name": "stderr",
     "output_type": "stream",
     "text": [
      "\u001b[36mℹ\u001b[39m \u001b[34m\u001b[34ms3://maap-ops-workspace/shared/leitoldv/GEDI_global_PA_v2/WDPA_matching_results/BaE_wk24/BaE_pa_555576202_matching_results_wk24.RDS\u001b[34m\u001b[39m already exists at \u001b[34m\u001b[34m/projects/.local/share/R/s3/maap-ops-workspace/shared/leitoldv/GEDI_global_PA_v2/WDPA_matching_results/BaE_wk24/BaE_pa_555576202_matching_results_wk24.RDS\u001b[34m\u001b[39m\n",
      "\n"
     ]
    },
    {
     "name": "stdout",
     "output_type": "stream",
     "text": [
      "[1] \"BaE_pa_555576204_matching_results_wk24.RDS\"\n"
     ]
    },
    {
     "name": "stderr",
     "output_type": "stream",
     "text": [
      "\u001b[36mℹ\u001b[39m \u001b[34m\u001b[34ms3://maap-ops-workspace/shared/leitoldv/GEDI_global_PA_v2/WDPA_matching_results/BaE_wk24/BaE_pa_555576204_matching_results_wk24.RDS\u001b[34m\u001b[39m already exists at \u001b[34m\u001b[34m/projects/.local/share/R/s3/maap-ops-workspace/shared/leitoldv/GEDI_global_PA_v2/WDPA_matching_results/BaE_wk24/BaE_pa_555576204_matching_results_wk24.RDS\u001b[34m\u001b[39m\n",
      "\n"
     ]
    },
    {
     "name": "stdout",
     "output_type": "stream",
     "text": [
      "[1] \"BaE_pa_555576225_matching_results_wk24.RDS\"\n"
     ]
    },
    {
     "name": "stderr",
     "output_type": "stream",
     "text": [
      "\u001b[36mℹ\u001b[39m \u001b[34m\u001b[34ms3://maap-ops-workspace/shared/leitoldv/GEDI_global_PA_v2/WDPA_matching_results/BaE_wk24/BaE_pa_555576225_matching_results_wk24.RDS\u001b[34m\u001b[39m already exists at \u001b[34m\u001b[34m/projects/.local/share/R/s3/maap-ops-workspace/shared/leitoldv/GEDI_global_PA_v2/WDPA_matching_results/BaE_wk24/BaE_pa_555576225_matching_results_wk24.RDS\u001b[34m\u001b[39m\n",
      "\n"
     ]
    },
    {
     "name": "stdout",
     "output_type": "stream",
     "text": [
      "[1] \"BaE_pa_555576311_matching_results_wk24.RDS\"\n"
     ]
    },
    {
     "name": "stderr",
     "output_type": "stream",
     "text": [
      "\u001b[36mℹ\u001b[39m \u001b[34m\u001b[34ms3://maap-ops-workspace/shared/leitoldv/GEDI_global_PA_v2/WDPA_matching_results/BaE_wk24/BaE_pa_555576311_matching_results_wk24.RDS\u001b[34m\u001b[39m already exists at \u001b[34m\u001b[34m/projects/.local/share/R/s3/maap-ops-workspace/shared/leitoldv/GEDI_global_PA_v2/WDPA_matching_results/BaE_wk24/BaE_pa_555576311_matching_results_wk24.RDS\u001b[34m\u001b[39m\n",
      "\n"
     ]
    },
    {
     "name": "stdout",
     "output_type": "stream",
     "text": [
      "[1] \"BaE_pa_555576316_matching_results_wk24.RDS\"\n"
     ]
    },
    {
     "name": "stderr",
     "output_type": "stream",
     "text": [
      "\u001b[36mℹ\u001b[39m \u001b[34m\u001b[34ms3://maap-ops-workspace/shared/leitoldv/GEDI_global_PA_v2/WDPA_matching_results/BaE_wk24/BaE_pa_555576316_matching_results_wk24.RDS\u001b[34m\u001b[39m already exists at \u001b[34m\u001b[34m/projects/.local/share/R/s3/maap-ops-workspace/shared/leitoldv/GEDI_global_PA_v2/WDPA_matching_results/BaE_wk24/BaE_pa_555576316_matching_results_wk24.RDS\u001b[34m\u001b[39m\n",
      "\n"
     ]
    },
    {
     "name": "stdout",
     "output_type": "stream",
     "text": [
      "[1] \"BaE_pa_555576424_matching_results_wk24.RDS\"\n"
     ]
    },
    {
     "name": "stderr",
     "output_type": "stream",
     "text": [
      "\u001b[36mℹ\u001b[39m \u001b[34m\u001b[34ms3://maap-ops-workspace/shared/leitoldv/GEDI_global_PA_v2/WDPA_matching_results/BaE_wk24/BaE_pa_555576424_matching_results_wk24.RDS\u001b[34m\u001b[39m already exists at \u001b[34m\u001b[34m/projects/.local/share/R/s3/maap-ops-workspace/shared/leitoldv/GEDI_global_PA_v2/WDPA_matching_results/BaE_wk24/BaE_pa_555576424_matching_results_wk24.RDS\u001b[34m\u001b[39m\n",
      "\n"
     ]
    },
    {
     "name": "stdout",
     "output_type": "stream",
     "text": [
      "[1] \"BaE_pa_555599951_matching_results_wk24.RDS\"\n"
     ]
    },
    {
     "name": "stderr",
     "output_type": "stream",
     "text": [
      "\u001b[36mℹ\u001b[39m \u001b[34m\u001b[34ms3://maap-ops-workspace/shared/leitoldv/GEDI_global_PA_v2/WDPA_matching_results/BaE_wk24/BaE_pa_555599951_matching_results_wk24.RDS\u001b[34m\u001b[39m already exists at \u001b[34m\u001b[34m/projects/.local/share/R/s3/maap-ops-workspace/shared/leitoldv/GEDI_global_PA_v2/WDPA_matching_results/BaE_wk24/BaE_pa_555599951_matching_results_wk24.RDS\u001b[34m\u001b[39m\n",
      "\n"
     ]
    },
    {
     "name": "stdout",
     "output_type": "stream",
     "text": [
      "[1] \"BaE_pa_555600059_matching_results_wk24.RDS\"\n"
     ]
    },
    {
     "name": "stderr",
     "output_type": "stream",
     "text": [
      "\u001b[36mℹ\u001b[39m \u001b[34m\u001b[34ms3://maap-ops-workspace/shared/leitoldv/GEDI_global_PA_v2/WDPA_matching_results/BaE_wk24/BaE_pa_555600059_matching_results_wk24.RDS\u001b[34m\u001b[39m already exists at \u001b[34m\u001b[34m/projects/.local/share/R/s3/maap-ops-workspace/shared/leitoldv/GEDI_global_PA_v2/WDPA_matching_results/BaE_wk24/BaE_pa_555600059_matching_results_wk24.RDS\u001b[34m\u001b[39m\n",
      "\n"
     ]
    },
    {
     "name": "stdout",
     "output_type": "stream",
     "text": [
      "[1] \"BaE_pa_555600076_matching_results_wk24.RDS\"\n"
     ]
    },
    {
     "name": "stderr",
     "output_type": "stream",
     "text": [
      "\u001b[36mℹ\u001b[39m \u001b[34m\u001b[34ms3://maap-ops-workspace/shared/leitoldv/GEDI_global_PA_v2/WDPA_matching_results/BaE_wk24/BaE_pa_555600076_matching_results_wk24.RDS\u001b[34m\u001b[39m already exists at \u001b[34m\u001b[34m/projects/.local/share/R/s3/maap-ops-workspace/shared/leitoldv/GEDI_global_PA_v2/WDPA_matching_results/BaE_wk24/BaE_pa_555600076_matching_results_wk24.RDS\u001b[34m\u001b[39m\n",
      "\n"
     ]
    },
    {
     "name": "stdout",
     "output_type": "stream",
     "text": [
      "[1] \"BaE_pa_555600216_matching_results_wk24.RDS\"\n"
     ]
    },
    {
     "name": "stderr",
     "output_type": "stream",
     "text": [
      "\u001b[36mℹ\u001b[39m \u001b[34m\u001b[34ms3://maap-ops-workspace/shared/leitoldv/GEDI_global_PA_v2/WDPA_matching_results/BaE_wk24/BaE_pa_555600216_matching_results_wk24.RDS\u001b[34m\u001b[39m already exists at \u001b[34m\u001b[34m/projects/.local/share/R/s3/maap-ops-workspace/shared/leitoldv/GEDI_global_PA_v2/WDPA_matching_results/BaE_wk24/BaE_pa_555600216_matching_results_wk24.RDS\u001b[34m\u001b[39m\n",
      "\n"
     ]
    },
    {
     "name": "stdout",
     "output_type": "stream",
     "text": [
      "[1] \"BaE_pa_555600245_matching_results_wk24.RDS\"\n"
     ]
    },
    {
     "name": "stderr",
     "output_type": "stream",
     "text": [
      "\u001b[36mℹ\u001b[39m \u001b[34m\u001b[34ms3://maap-ops-workspace/shared/leitoldv/GEDI_global_PA_v2/WDPA_matching_results/BaE_wk24/BaE_pa_555600245_matching_results_wk24.RDS\u001b[34m\u001b[39m already exists at \u001b[34m\u001b[34m/projects/.local/share/R/s3/maap-ops-workspace/shared/leitoldv/GEDI_global_PA_v2/WDPA_matching_results/BaE_wk24/BaE_pa_555600245_matching_results_wk24.RDS\u001b[34m\u001b[39m\n",
      "\n"
     ]
    },
    {
     "name": "stdout",
     "output_type": "stream",
     "text": [
      "[1] \"BaE_pa_555600255_matching_results_wk24.RDS\"\n"
     ]
    },
    {
     "name": "stderr",
     "output_type": "stream",
     "text": [
      "\u001b[36mℹ\u001b[39m \u001b[34m\u001b[34ms3://maap-ops-workspace/shared/leitoldv/GEDI_global_PA_v2/WDPA_matching_results/BaE_wk24/BaE_pa_555600255_matching_results_wk24.RDS\u001b[34m\u001b[39m already exists at \u001b[34m\u001b[34m/projects/.local/share/R/s3/maap-ops-workspace/shared/leitoldv/GEDI_global_PA_v2/WDPA_matching_results/BaE_wk24/BaE_pa_555600255_matching_results_wk24.RDS\u001b[34m\u001b[39m\n",
      "\n"
     ]
    },
    {
     "name": "stdout",
     "output_type": "stream",
     "text": [
      "[1] \"BaE_pa_555600266_matching_results_wk24.RDS\"\n"
     ]
    },
    {
     "name": "stderr",
     "output_type": "stream",
     "text": [
      "\u001b[36mℹ\u001b[39m \u001b[34m\u001b[34ms3://maap-ops-workspace/shared/leitoldv/GEDI_global_PA_v2/WDPA_matching_results/BaE_wk24/BaE_pa_555600266_matching_results_wk24.RDS\u001b[34m\u001b[39m already exists at \u001b[34m\u001b[34m/projects/.local/share/R/s3/maap-ops-workspace/shared/leitoldv/GEDI_global_PA_v2/WDPA_matching_results/BaE_wk24/BaE_pa_555600266_matching_results_wk24.RDS\u001b[34m\u001b[39m\n",
      "\n"
     ]
    },
    {
     "name": "stdout",
     "output_type": "stream",
     "text": [
      "[1] \"BaE_pa_555600294_matching_results_wk24.RDS\"\n"
     ]
    },
    {
     "name": "stderr",
     "output_type": "stream",
     "text": [
      "\u001b[36mℹ\u001b[39m \u001b[34m\u001b[34ms3://maap-ops-workspace/shared/leitoldv/GEDI_global_PA_v2/WDPA_matching_results/BaE_wk24/BaE_pa_555600294_matching_results_wk24.RDS\u001b[34m\u001b[39m already exists at \u001b[34m\u001b[34m/projects/.local/share/R/s3/maap-ops-workspace/shared/leitoldv/GEDI_global_PA_v2/WDPA_matching_results/BaE_wk24/BaE_pa_555600294_matching_results_wk24.RDS\u001b[34m\u001b[39m\n",
      "\n"
     ]
    },
    {
     "name": "stdout",
     "output_type": "stream",
     "text": [
      "[1] \"BaE_pa_555636552_matching_results_wk24.RDS\"\n"
     ]
    },
    {
     "name": "stderr",
     "output_type": "stream",
     "text": [
      "\u001b[36mℹ\u001b[39m \u001b[34m\u001b[34ms3://maap-ops-workspace/shared/leitoldv/GEDI_global_PA_v2/WDPA_matching_results/BaE_wk24/BaE_pa_555636552_matching_results_wk24.RDS\u001b[34m\u001b[39m already exists at \u001b[34m\u001b[34m/projects/.local/share/R/s3/maap-ops-workspace/shared/leitoldv/GEDI_global_PA_v2/WDPA_matching_results/BaE_wk24/BaE_pa_555636552_matching_results_wk24.RDS\u001b[34m\u001b[39m\n",
      "\n"
     ]
    },
    {
     "name": "stdout",
     "output_type": "stream",
     "text": [
      "[1] \"BaE_pa_555636565_matching_results_wk24.RDS\"\n"
     ]
    },
    {
     "name": "stderr",
     "output_type": "stream",
     "text": [
      "\u001b[36mℹ\u001b[39m \u001b[34m\u001b[34ms3://maap-ops-workspace/shared/leitoldv/GEDI_global_PA_v2/WDPA_matching_results/BaE_wk24/BaE_pa_555636565_matching_results_wk24.RDS\u001b[34m\u001b[39m already exists at \u001b[34m\u001b[34m/projects/.local/share/R/s3/maap-ops-workspace/shared/leitoldv/GEDI_global_PA_v2/WDPA_matching_results/BaE_wk24/BaE_pa_555636565_matching_results_wk24.RDS\u001b[34m\u001b[39m\n",
      "\n"
     ]
    },
    {
     "name": "stdout",
     "output_type": "stream",
     "text": [
      "[1] \"BaE_pa_555636592_matching_results_wk24.RDS\"\n"
     ]
    },
    {
     "name": "stderr",
     "output_type": "stream",
     "text": [
      "\u001b[36mℹ\u001b[39m \u001b[34m\u001b[34ms3://maap-ops-workspace/shared/leitoldv/GEDI_global_PA_v2/WDPA_matching_results/BaE_wk24/BaE_pa_555636592_matching_results_wk24.RDS\u001b[34m\u001b[39m already exists at \u001b[34m\u001b[34m/projects/.local/share/R/s3/maap-ops-workspace/shared/leitoldv/GEDI_global_PA_v2/WDPA_matching_results/BaE_wk24/BaE_pa_555636592_matching_results_wk24.RDS\u001b[34m\u001b[39m\n",
      "\n"
     ]
    },
    {
     "name": "stdout",
     "output_type": "stream",
     "text": [
      "[1] \"BaE_pa_555636599_matching_results_wk24.RDS\"\n"
     ]
    },
    {
     "name": "stderr",
     "output_type": "stream",
     "text": [
      "\u001b[36mℹ\u001b[39m \u001b[34m\u001b[34ms3://maap-ops-workspace/shared/leitoldv/GEDI_global_PA_v2/WDPA_matching_results/BaE_wk24/BaE_pa_555636599_matching_results_wk24.RDS\u001b[34m\u001b[39m already exists at \u001b[34m\u001b[34m/projects/.local/share/R/s3/maap-ops-workspace/shared/leitoldv/GEDI_global_PA_v2/WDPA_matching_results/BaE_wk24/BaE_pa_555636599_matching_results_wk24.RDS\u001b[34m\u001b[39m\n",
      "\n"
     ]
    },
    {
     "name": "stdout",
     "output_type": "stream",
     "text": [
      "[1] \"BaE_pa_555636621_matching_results_wk24.RDS\"\n"
     ]
    },
    {
     "name": "stderr",
     "output_type": "stream",
     "text": [
      "\u001b[36mℹ\u001b[39m \u001b[34m\u001b[34ms3://maap-ops-workspace/shared/leitoldv/GEDI_global_PA_v2/WDPA_matching_results/BaE_wk24/BaE_pa_555636621_matching_results_wk24.RDS\u001b[34m\u001b[39m already exists at \u001b[34m\u001b[34m/projects/.local/share/R/s3/maap-ops-workspace/shared/leitoldv/GEDI_global_PA_v2/WDPA_matching_results/BaE_wk24/BaE_pa_555636621_matching_results_wk24.RDS\u001b[34m\u001b[39m\n",
      "\n"
     ]
    },
    {
     "name": "stdout",
     "output_type": "stream",
     "text": [
      "[1] \"BaE_pa_555636630_matching_results_wk24.RDS\"\n"
     ]
    },
    {
     "name": "stderr",
     "output_type": "stream",
     "text": [
      "\u001b[36mℹ\u001b[39m \u001b[34m\u001b[34ms3://maap-ops-workspace/shared/leitoldv/GEDI_global_PA_v2/WDPA_matching_results/BaE_wk24/BaE_pa_555636630_matching_results_wk24.RDS\u001b[34m\u001b[39m already exists at \u001b[34m\u001b[34m/projects/.local/share/R/s3/maap-ops-workspace/shared/leitoldv/GEDI_global_PA_v2/WDPA_matching_results/BaE_wk24/BaE_pa_555636630_matching_results_wk24.RDS\u001b[34m\u001b[39m\n",
      "\n"
     ]
    },
    {
     "name": "stdout",
     "output_type": "stream",
     "text": [
      "[1] \"BaE_pa_555636639_matching_results_wk24.RDS\"\n"
     ]
    },
    {
     "name": "stderr",
     "output_type": "stream",
     "text": [
      "\u001b[36mℹ\u001b[39m \u001b[34m\u001b[34ms3://maap-ops-workspace/shared/leitoldv/GEDI_global_PA_v2/WDPA_matching_results/BaE_wk24/BaE_pa_555636639_matching_results_wk24.RDS\u001b[34m\u001b[39m already exists at \u001b[34m\u001b[34m/projects/.local/share/R/s3/maap-ops-workspace/shared/leitoldv/GEDI_global_PA_v2/WDPA_matching_results/BaE_wk24/BaE_pa_555636639_matching_results_wk24.RDS\u001b[34m\u001b[39m\n",
      "\n"
     ]
    },
    {
     "name": "stdout",
     "output_type": "stream",
     "text": [
      "[1] \"BaE_pa_555636646_matching_results_wk24.RDS\"\n"
     ]
    },
    {
     "name": "stderr",
     "output_type": "stream",
     "text": [
      "\u001b[36mℹ\u001b[39m \u001b[34m\u001b[34ms3://maap-ops-workspace/shared/leitoldv/GEDI_global_PA_v2/WDPA_matching_results/BaE_wk24/BaE_pa_555636646_matching_results_wk24.RDS\u001b[34m\u001b[39m already exists at \u001b[34m\u001b[34m/projects/.local/share/R/s3/maap-ops-workspace/shared/leitoldv/GEDI_global_PA_v2/WDPA_matching_results/BaE_wk24/BaE_pa_555636646_matching_results_wk24.RDS\u001b[34m\u001b[39m\n",
      "\n"
     ]
    },
    {
     "name": "stdout",
     "output_type": "stream",
     "text": [
      "[1] \"BaE_pa_555637331_matching_results_wk24.RDS\"\n"
     ]
    },
    {
     "name": "stderr",
     "output_type": "stream",
     "text": [
      "\u001b[36mℹ\u001b[39m \u001b[34m\u001b[34ms3://maap-ops-workspace/shared/leitoldv/GEDI_global_PA_v2/WDPA_matching_results/BaE_wk24/BaE_pa_555637331_matching_results_wk24.RDS\u001b[34m\u001b[39m already exists at \u001b[34m\u001b[34m/projects/.local/share/R/s3/maap-ops-workspace/shared/leitoldv/GEDI_global_PA_v2/WDPA_matching_results/BaE_wk24/BaE_pa_555637331_matching_results_wk24.RDS\u001b[34m\u001b[39m\n",
      "\n"
     ]
    },
    {
     "name": "stdout",
     "output_type": "stream",
     "text": [
      "[1] \"BaE_pa_555682121_matching_results_wk24.RDS\"\n"
     ]
    },
    {
     "name": "stderr",
     "output_type": "stream",
     "text": [
      "\u001b[36mℹ\u001b[39m \u001b[34m\u001b[34ms3://maap-ops-workspace/shared/leitoldv/GEDI_global_PA_v2/WDPA_matching_results/BaE_wk24/BaE_pa_555682121_matching_results_wk24.RDS\u001b[34m\u001b[39m already exists at \u001b[34m\u001b[34m/projects/.local/share/R/s3/maap-ops-workspace/shared/leitoldv/GEDI_global_PA_v2/WDPA_matching_results/BaE_wk24/BaE_pa_555682121_matching_results_wk24.RDS\u001b[34m\u001b[39m\n",
      "\n"
     ]
    },
    {
     "name": "stdout",
     "output_type": "stream",
     "text": [
      "[1] \"BaE_pa_555682123_matching_results_wk24.RDS\"\n"
     ]
    },
    {
     "name": "stderr",
     "output_type": "stream",
     "text": [
      "\u001b[36mℹ\u001b[39m \u001b[34m\u001b[34ms3://maap-ops-workspace/shared/leitoldv/GEDI_global_PA_v2/WDPA_matching_results/BaE_wk24/BaE_pa_555682123_matching_results_wk24.RDS\u001b[34m\u001b[39m already exists at \u001b[34m\u001b[34m/projects/.local/share/R/s3/maap-ops-workspace/shared/leitoldv/GEDI_global_PA_v2/WDPA_matching_results/BaE_wk24/BaE_pa_555682123_matching_results_wk24.RDS\u001b[34m\u001b[39m\n",
      "\n"
     ]
    },
    {
     "name": "stdout",
     "output_type": "stream",
     "text": [
      "[1] \"BaE_pa_555682274_matching_results_wk24.RDS\"\n"
     ]
    },
    {
     "name": "stderr",
     "output_type": "stream",
     "text": [
      "\u001b[36mℹ\u001b[39m \u001b[34m\u001b[34ms3://maap-ops-workspace/shared/leitoldv/GEDI_global_PA_v2/WDPA_matching_results/BaE_wk24/BaE_pa_555682274_matching_results_wk24.RDS\u001b[34m\u001b[39m already exists at \u001b[34m\u001b[34m/projects/.local/share/R/s3/maap-ops-workspace/shared/leitoldv/GEDI_global_PA_v2/WDPA_matching_results/BaE_wk24/BaE_pa_555682274_matching_results_wk24.RDS\u001b[34m\u001b[39m\n",
      "\n"
     ]
    },
    {
     "name": "stdout",
     "output_type": "stream",
     "text": [
      "[1] \"BaE_pa_555682320_matching_results_wk24.RDS\"\n"
     ]
    },
    {
     "name": "stderr",
     "output_type": "stream",
     "text": [
      "\u001b[36mℹ\u001b[39m \u001b[34m\u001b[34ms3://maap-ops-workspace/shared/leitoldv/GEDI_global_PA_v2/WDPA_matching_results/BaE_wk24/BaE_pa_555682320_matching_results_wk24.RDS\u001b[34m\u001b[39m already exists at \u001b[34m\u001b[34m/projects/.local/share/R/s3/maap-ops-workspace/shared/leitoldv/GEDI_global_PA_v2/WDPA_matching_results/BaE_wk24/BaE_pa_555682320_matching_results_wk24.RDS\u001b[34m\u001b[39m\n",
      "\n"
     ]
    },
    {
     "name": "stdout",
     "output_type": "stream",
     "text": [
      "[1] \"BaE_pa_555682336_matching_results_wk24.RDS\"\n"
     ]
    },
    {
     "name": "stderr",
     "output_type": "stream",
     "text": [
      "\u001b[36mℹ\u001b[39m \u001b[34m\u001b[34ms3://maap-ops-workspace/shared/leitoldv/GEDI_global_PA_v2/WDPA_matching_results/BaE_wk24/BaE_pa_555682336_matching_results_wk24.RDS\u001b[34m\u001b[39m already exists at \u001b[34m\u001b[34m/projects/.local/share/R/s3/maap-ops-workspace/shared/leitoldv/GEDI_global_PA_v2/WDPA_matching_results/BaE_wk24/BaE_pa_555682336_matching_results_wk24.RDS\u001b[34m\u001b[39m\n",
      "\n"
     ]
    },
    {
     "name": "stdout",
     "output_type": "stream",
     "text": [
      "[1] \"BaE_pa_57_matching_results_wk24.RDS\"\n"
     ]
    },
    {
     "name": "stderr",
     "output_type": "stream",
     "text": [
      "\u001b[36mℹ\u001b[39m \u001b[34m\u001b[34ms3://maap-ops-workspace/shared/leitoldv/GEDI_global_PA_v2/WDPA_matching_results/BaE_wk24/BaE_pa_57_matching_results_wk24.RDS\u001b[34m\u001b[39m already exists at \u001b[34m\u001b[34m/projects/.local/share/R/s3/maap-ops-workspace/shared/leitoldv/GEDI_global_PA_v2/WDPA_matching_results/BaE_wk24/BaE_pa_57_matching_results_wk24.RDS\u001b[34m\u001b[39m\n",
      "\n"
     ]
    },
    {
     "name": "stdout",
     "output_type": "stream",
     "text": [
      "[1] \"BaE_pa_6074_matching_results_wk24.RDS\"\n"
     ]
    },
    {
     "name": "stderr",
     "output_type": "stream",
     "text": [
      "\u001b[36mℹ\u001b[39m \u001b[34m\u001b[34ms3://maap-ops-workspace/shared/leitoldv/GEDI_global_PA_v2/WDPA_matching_results/BaE_wk24/BaE_pa_6074_matching_results_wk24.RDS\u001b[34m\u001b[39m already exists at \u001b[34m\u001b[34m/projects/.local/share/R/s3/maap-ops-workspace/shared/leitoldv/GEDI_global_PA_v2/WDPA_matching_results/BaE_wk24/BaE_pa_6074_matching_results_wk24.RDS\u001b[34m\u001b[39m\n",
      "\n"
     ]
    },
    {
     "name": "stdout",
     "output_type": "stream",
     "text": [
      "[1] \"BaE_pa_94064_matching_results_wk24.RDS\"\n"
     ]
    },
    {
     "name": "stderr",
     "output_type": "stream",
     "text": [
      "\u001b[36mℹ\u001b[39m \u001b[34m\u001b[34ms3://maap-ops-workspace/shared/leitoldv/GEDI_global_PA_v2/WDPA_matching_results/BaE_wk24/BaE_pa_94064_matching_results_wk24.RDS\u001b[34m\u001b[39m already exists at \u001b[34m\u001b[34m/projects/.local/share/R/s3/maap-ops-workspace/shared/leitoldv/GEDI_global_PA_v2/WDPA_matching_results/BaE_wk24/BaE_pa_94064_matching_results_wk24.RDS\u001b[34m\u001b[39m\n",
      "\n"
     ]
    },
    {
     "name": "stdout",
     "output_type": "stream",
     "text": [
      "[1] 240\n"
     ]
    }
   ],
   "source": [
    "#f.path <- \"/projects/my-public-bucket/GEDI_global_PA_v2/\"\n",
    "f.path <- \"s3://maap-ops-workspace/shared/leitoldv/GEDI_global_PA_v2/\"\n",
    "\n",
    "matched_PAs <- foreach(this_rds=matched_all, .combine = c, .packages=c('sp','magrittr', 'dplyr','tidyr','terra')) %do% {  #non-NA matched results\n",
    "  matched_PAs=c()\n",
    "  print(this_rds)\n",
    "  if(nchar(iso3)>3){\n",
    "    id_pa <- basename(this_rds)%>%readr::parse_number() %>% unique()  \n",
    "  } else {\n",
    "    id_pa <- basename(this_rds)%>%readr::parse_number() %>% unique()\n",
    "  }\n",
    "  matched <- readRDS(s3_get(paste(f.path,\"WDPA_matching_results/\",iso3,\"_wk\",gediwk,\"/\",iso3,\"_pa_\",id_pa,\"_matching_results_wk\",gediwk,\".RDS\",sep=\"\")))\n",
    "  if(!is.null(matched)){\n",
    "    if(nrow(matched)!=0){\n",
    "      matched_PAs=c(matched_PAs,this_rds) \n",
    "    }\n",
    "  }else {\n",
    "    # print(this_rds)\n",
    "    matched_PAs=matched_PAs\n",
    "  }\n",
    "  return(matched_PAs)\n",
    "}\n",
    "print(length(matched_PAs))\n"
   ]
  },
  {
   "cell_type": "code",
   "execution_count": 54,
   "id": "8b821070-c5c9-415d-a6ff-53ed18a2de95",
   "metadata": {},
   "outputs": [
    {
     "name": "stdout",
     "output_type": "stream",
     "text": [
      "[1] 240\n"
     ]
    }
   ],
   "source": [
    "print(length(matched_PAs))"
   ]
  },
  {
   "cell_type": "code",
   "execution_count": 55,
   "id": "0a062203-2c43-46ec-a811-6dfc3b3ab110",
   "metadata": {},
   "outputs": [
    {
     "data": {
      "text/html": [
       "240"
      ],
      "text/latex": [
       "240"
      ],
      "text/markdown": [
       "240"
      ],
      "text/plain": [
       "[1] 240"
      ]
     },
     "metadata": {},
     "output_type": "display_data"
    }
   ],
   "source": [
    "f.path <- \"/projects/my-public-bucket/GEDI_global_PA_v2/\"\n",
    "#f.path <- \"s3://maap-ops-workspace/shared/leitoldv/GEDI_global_PA_v2/\"\n",
    "\n",
    "#flag <- \"run all\"\n",
    "flag <- \"run remaining\"\n",
    "\n",
    "if(flag==\"run all\"){  #determine how many PAs to run the extraction process\n",
    "  matched_PAs <- matched_PAs\n",
    "  cat(\"Step 5: running extraction on all\", length(matched_PAs),\"of non-NA matched results in\", iso3,\"\\n\")\n",
    "} else if (flag==\"run remaining\"){\n",
    "  pattern1 = c(paste(\"wk\",gediwk,sep=\"\"),\"RDS\")\n",
    "  extracted_PAid <- list.files(paste(f.path,\"WDPA_extract/\",iso3,\"_wk\",gediwk,\"/\",sep=\"\"), full.names = F, pattern=paste0(pattern1, collapse=\"|\"))%>%\n",
    "    readr::parse_number() %>% unique()\n",
    "  matched_PA_id <- matched_PAs %>% readr::parse_number()\n",
    "  runPA_id <- matched_PA_id[!(matched_PA_id %in% extracted_PAid)]\n",
    "  if (length(runPA_id)>0){\n",
    "    Pattern2 <-  paste(runPA_id, collapse=\"|\")\n",
    "    runPA <-  matched_PAs[grepl(Pattern2,matched_PAs)]\n",
    "    # runPA_ind <- str_detect(matched_PAs, paste(runPA_id, collapse = \"|\"))\n",
    "    matched_PAs <- runPA\n",
    "  } else {\n",
    "    matched_PAs <- NULL\n",
    "    cat(\"Step 5 already done for\", iso3, \"\\n\")\n",
    "  }\n",
    "}\n",
    "\n",
    "length(matched_PAs)  ##remaining PAs to be extracted\n"
   ]
  },
  {
   "cell_type": "code",
   "execution_count": 56,
   "id": "0e6fb59d-6a61-4a21-8324-cc33c325fc15",
   "metadata": {},
   "outputs": [
    {
     "data": {
      "text/html": [
       "1"
      ],
      "text/latex": [
       "1"
      ],
      "text/markdown": [
       "1"
      ],
      "text/plain": [
       "[1] 1"
      ]
     },
     "metadata": {},
     "output_type": "display_data"
    }
   ],
   "source": [
    "mproc"
   ]
  },
  {
   "cell_type": "code",
   "execution_count": 57,
   "id": "1564f7a2-4923-4933-b09b-6e08751abf60",
   "metadata": {},
   "outputs": [],
   "source": [
    "f.path <- \"s3://maap-ops-workspace/shared/leitoldv/GEDI_global_PA_v2/\""
   ]
  },
  {
   "cell_type": "code",
   "execution_count": 58,
   "id": "9b07de32-b0b6-4513-8ff6-d51c2d7149cb",
   "metadata": {},
   "outputs": [],
   "source": [
    "## Try just one test PA first... (e.g.matched_PAs[2])\n",
    "this_rds <- matched_PAs[1]"
   ]
  },
  {
   "cell_type": "code",
   "execution_count": null,
   "id": "7e27f71c-f9b8-45d4-8c07-62ad128ba2be",
   "metadata": {},
   "outputs": [
    {
     "name": "stdout",
     "output_type": "stream",
     "text": [
      "Extracting for no.  1 pa out of 240 \n"
     ]
    },
    {
     "name": "stderr",
     "output_type": "stream",
     "text": [
      "\u001b[36mℹ\u001b[39m \u001b[34m\u001b[34ms3://maap-ops-workspace/shared/leitoldv/GEDI_global_PA_v2/WDPA_matching_results/BaE_wk24/BaE_pa_101761_matching_results_wk24.RDS\u001b[34m\u001b[39m already exists at \u001b[34m\u001b[34m/projects/.local/share/R/s3/maap-ops-workspace/shared/leitoldv/GEDI_global_PA_v2/WDPA_matching_results/BaE_wk24/BaE_pa_101761_matching_results_wk24.RDS\u001b[34m\u001b[39m\n",
      "\n"
     ]
    },
    {
     "name": "stdout",
     "output_type": "stream",
     "text": [
      "BaE converting the matched csv to a raster stack for extraction\n",
      "\n",
      "   0    1 \n",
      "8723 8723 \n"
     ]
    },
    {
     "name": "stderr",
     "output_type": "stream",
     "text": [
      "\u001b[36mℹ\u001b[39m \u001b[34m\u001b[34ms3://maap-ops-workspace/shared/leitoldv/GEDI_global_PA_v2/vero_1deg_tileindex/tileindex_BaE.csv\u001b[34m\u001b[39m already exists at \u001b[34m\u001b[34m/projects/.local/share/R/s3/maap-ops-workspace/shared/leitoldv/GEDI_global_PA_v2/vero_1deg_tileindex/tileindex_BaE.csv\u001b[34m\u001b[39m\n",
      "\n"
     ]
    },
    {
     "name": "stdout",
     "output_type": "stream",
     "text": [
      "Reading in no.  1 GPKG file of  222 GPKG tiles for iso3 BaE \n"
     ]
    },
    {
     "name": "stderr",
     "output_type": "stream",
     "text": [
      "\u001b[36mℹ\u001b[39m \u001b[34m\u001b[34ms3://maap-ops-workspace/shared/leitoldv/GEDI_global_PA_v2/WDPA_gedi_L4A_tiles/tile_num_21339_L4A.gpkg\u001b[34m\u001b[39m already exists at \u001b[34m\u001b[34m/projects/.local/share/R/s3/maap-ops-workspace/shared/leitoldv/GEDI_global_PA_v2/WDPA_gedi_L4A_tiles/tile_num_21339_L4A.gpkg\u001b[34m\u001b[39m\n",
      "\n",
      "\u001b[36mℹ\u001b[39m \u001b[34m\u001b[34ms3://maap-ops-workspace/shared/leitoldv/GEDI_global_PA_v2/WDPA_gedi_L2A_tiles/tile_num_21339_L2A.gpkg\u001b[34m\u001b[39m already exists at \u001b[34m\u001b[34m/projects/.local/share/R/s3/maap-ops-workspace/shared/leitoldv/GEDI_global_PA_v2/WDPA_gedi_L2A_tiles/tile_num_21339_L2A.gpkg\u001b[34m\u001b[39m\n",
      "\n"
     ]
    },
    {
     "name": "stdout",
     "output_type": "stream",
     "text": [
      "GEDI dataframe for  1 GPKG file has 643706 rows and  12 columns \n",
      " [1] \"shot_number\"    \"filename\"       \"lat_lowestmode\" \"lon_lowestmode\"\n",
      " [5] \"rh25\"           \"rh50\"           \"rh75\"           \"rh98\"          \n",
      " [9] \"agbd\"           \"agbd_se\"        \"agbd_t\"         \"agbd_t_se\"     \n",
      "GEDI dataframe has 0 rows and  21 columns \n",
      "Reading in no.  2 GPKG file of  222 GPKG tiles for iso3 BaE \n"
     ]
    },
    {
     "name": "stderr",
     "output_type": "stream",
     "text": [
      "\u001b[36mℹ\u001b[39m \u001b[34m\u001b[34ms3://maap-ops-workspace/shared/leitoldv/GEDI_global_PA_v2/WDPA_gedi_L4A_tiles/tile_num_21340_L4A.gpkg\u001b[34m\u001b[39m already exists at \u001b[34m\u001b[34m/projects/.local/share/R/s3/maap-ops-workspace/shared/leitoldv/GEDI_global_PA_v2/WDPA_gedi_L4A_tiles/tile_num_21340_L4A.gpkg\u001b[34m\u001b[39m\n",
      "\n",
      "\u001b[36mℹ\u001b[39m \u001b[34m\u001b[34ms3://maap-ops-workspace/shared/leitoldv/GEDI_global_PA_v2/WDPA_gedi_L2A_tiles/tile_num_21340_L2A.gpkg\u001b[34m\u001b[39m already exists at \u001b[34m\u001b[34m/projects/.local/share/R/s3/maap-ops-workspace/shared/leitoldv/GEDI_global_PA_v2/WDPA_gedi_L2A_tiles/tile_num_21340_L2A.gpkg\u001b[34m\u001b[39m\n",
      "\n"
     ]
    },
    {
     "name": "stdout",
     "output_type": "stream",
     "text": [
      "GEDI dataframe for  2 GPKG file has 691657 rows and  12 columns \n",
      " [1] \"shot_number\"    \"filename\"       \"lat_lowestmode\" \"lon_lowestmode\"\n",
      " [5] \"rh25\"           \"rh50\"           \"rh75\"           \"rh98\"          \n",
      " [9] \"agbd\"           \"agbd_se\"        \"agbd_t\"         \"agbd_t_se\"     \n",
      "GEDI dataframe has 467 rows and  21 columns \n",
      "Reading in no.  3 GPKG file of  222 GPKG tiles for iso3 BaE \n"
     ]
    },
    {
     "name": "stderr",
     "output_type": "stream",
     "text": [
      "\u001b[36mℹ\u001b[39m \u001b[34m\u001b[34ms3://maap-ops-workspace/shared/leitoldv/GEDI_global_PA_v2/WDPA_gedi_L4A_tiles/tile_num_21341_L4A.gpkg\u001b[34m\u001b[39m already exists at \u001b[34m\u001b[34m/projects/.local/share/R/s3/maap-ops-workspace/shared/leitoldv/GEDI_global_PA_v2/WDPA_gedi_L4A_tiles/tile_num_21341_L4A.gpkg\u001b[34m\u001b[39m\n",
      "\n",
      "\u001b[36mℹ\u001b[39m \u001b[34m\u001b[34ms3://maap-ops-workspace/shared/leitoldv/GEDI_global_PA_v2/WDPA_gedi_L2A_tiles/tile_num_21341_L2A.gpkg\u001b[34m\u001b[39m already exists at \u001b[34m\u001b[34m/projects/.local/share/R/s3/maap-ops-workspace/shared/leitoldv/GEDI_global_PA_v2/WDPA_gedi_L2A_tiles/tile_num_21341_L2A.gpkg\u001b[34m\u001b[39m\n",
      "\n"
     ]
    },
    {
     "name": "stdout",
     "output_type": "stream",
     "text": [
      "GEDI dataframe for  3 GPKG file has 632637 rows and  12 columns \n",
      " [1] \"shot_number\"    \"filename\"       \"lat_lowestmode\" \"lon_lowestmode\"\n",
      " [5] \"rh25\"           \"rh50\"           \"rh75\"           \"rh98\"          \n",
      " [9] \"agbd\"           \"agbd_se\"        \"agbd_t\"         \"agbd_t_se\"     \n",
      "GEDI dataframe has 18854 rows and  21 columns \n",
      "Reading in no.  4 GPKG file of  222 GPKG tiles for iso3 BaE \n"
     ]
    },
    {
     "name": "stderr",
     "output_type": "stream",
     "text": [
      "\u001b[36mℹ\u001b[39m \u001b[34m\u001b[34ms3://maap-ops-workspace/shared/leitoldv/GEDI_global_PA_v2/WDPA_gedi_L4A_tiles/tile_num_21519_L4A.gpkg\u001b[34m\u001b[39m already exists at \u001b[34m\u001b[34m/projects/.local/share/R/s3/maap-ops-workspace/shared/leitoldv/GEDI_global_PA_v2/WDPA_gedi_L4A_tiles/tile_num_21519_L4A.gpkg\u001b[34m\u001b[39m\n",
      "\n",
      "\u001b[36mℹ\u001b[39m \u001b[34m\u001b[34ms3://maap-ops-workspace/shared/leitoldv/GEDI_global_PA_v2/WDPA_gedi_L2A_tiles/tile_num_21519_L2A.gpkg\u001b[34m\u001b[39m already exists at \u001b[34m\u001b[34m/projects/.local/share/R/s3/maap-ops-workspace/shared/leitoldv/GEDI_global_PA_v2/WDPA_gedi_L2A_tiles/tile_num_21519_L2A.gpkg\u001b[34m\u001b[39m\n",
      "\n"
     ]
    },
    {
     "name": "stdout",
     "output_type": "stream",
     "text": [
      "GEDI dataframe for  4 GPKG file has 792406 rows and  12 columns \n",
      " [1] \"shot_number\"    \"filename\"       \"lat_lowestmode\" \"lon_lowestmode\"\n",
      " [5] \"rh25\"           \"rh50\"           \"rh75\"           \"rh98\"          \n",
      " [9] \"agbd\"           \"agbd_se\"        \"agbd_t\"         \"agbd_t_se\"     \n",
      "GEDI dataframe has 18854 rows and  21 columns \n",
      "Reading in no.  5 GPKG file of  222 GPKG tiles for iso3 BaE \n"
     ]
    },
    {
     "name": "stderr",
     "output_type": "stream",
     "text": [
      "\u001b[36mℹ\u001b[39m \u001b[34m\u001b[34ms3://maap-ops-workspace/shared/leitoldv/GEDI_global_PA_v2/WDPA_gedi_L4A_tiles/tile_num_21520_L4A.gpkg\u001b[34m\u001b[39m already exists at \u001b[34m\u001b[34m/projects/.local/share/R/s3/maap-ops-workspace/shared/leitoldv/GEDI_global_PA_v2/WDPA_gedi_L4A_tiles/tile_num_21520_L4A.gpkg\u001b[34m\u001b[39m\n",
      "\n",
      "\u001b[36mℹ\u001b[39m \u001b[34m\u001b[34ms3://maap-ops-workspace/shared/leitoldv/GEDI_global_PA_v2/WDPA_gedi_L2A_tiles/tile_num_21520_L2A.gpkg\u001b[34m\u001b[39m already exists at \u001b[34m\u001b[34m/projects/.local/share/R/s3/maap-ops-workspace/shared/leitoldv/GEDI_global_PA_v2/WDPA_gedi_L2A_tiles/tile_num_21520_L2A.gpkg\u001b[34m\u001b[39m\n",
      "\n"
     ]
    },
    {
     "name": "stdout",
     "output_type": "stream",
     "text": [
      "GEDI dataframe for  5 GPKG file has 713710 rows and  12 columns \n",
      " [1] \"shot_number\"    \"filename\"       \"lat_lowestmode\" \"lon_lowestmode\"\n",
      " [5] \"rh25\"           \"rh50\"           \"rh75\"           \"rh98\"          \n",
      " [9] \"agbd\"           \"agbd_se\"        \"agbd_t\"         \"agbd_t_se\"     \n",
      "GEDI dataframe has 18854 rows and  21 columns \n",
      "Reading in no.  6 GPKG file of  222 GPKG tiles for iso3 BaE \n"
     ]
    },
    {
     "name": "stderr",
     "output_type": "stream",
     "text": [
      "\u001b[36mℹ\u001b[39m \u001b[34m\u001b[34ms3://maap-ops-workspace/shared/leitoldv/GEDI_global_PA_v2/WDPA_gedi_L4A_tiles/tile_num_21521_L4A.gpkg\u001b[34m\u001b[39m already exists at \u001b[34m\u001b[34m/projects/.local/share/R/s3/maap-ops-workspace/shared/leitoldv/GEDI_global_PA_v2/WDPA_gedi_L4A_tiles/tile_num_21521_L4A.gpkg\u001b[34m\u001b[39m\n",
      "\n",
      "\u001b[36mℹ\u001b[39m \u001b[34m\u001b[34ms3://maap-ops-workspace/shared/leitoldv/GEDI_global_PA_v2/WDPA_gedi_L2A_tiles/tile_num_21521_L2A.gpkg\u001b[34m\u001b[39m already exists at \u001b[34m\u001b[34m/projects/.local/share/R/s3/maap-ops-workspace/shared/leitoldv/GEDI_global_PA_v2/WDPA_gedi_L2A_tiles/tile_num_21521_L2A.gpkg\u001b[34m\u001b[39m\n",
      "\n"
     ]
    },
    {
     "name": "stdout",
     "output_type": "stream",
     "text": [
      "GEDI dataframe for  6 GPKG file has 735355 rows and  12 columns \n",
      " [1] \"shot_number\"    \"filename\"       \"lat_lowestmode\" \"lon_lowestmode\"\n",
      " [5] \"rh25\"           \"rh50\"           \"rh75\"           \"rh98\"          \n",
      " [9] \"agbd\"           \"agbd_se\"        \"agbd_t\"         \"agbd_t_se\"     \n",
      "GEDI dataframe has 19241 rows and  21 columns \n",
      "Reading in no.  7 GPKG file of  222 GPKG tiles for iso3 BaE \n"
     ]
    },
    {
     "name": "stderr",
     "output_type": "stream",
     "text": [
      "\u001b[36mℹ\u001b[39m \u001b[34m\u001b[34ms3://maap-ops-workspace/shared/leitoldv/GEDI_global_PA_v2/WDPA_gedi_L4A_tiles/tile_num_21522_L4A.gpkg\u001b[34m\u001b[39m already exists at \u001b[34m\u001b[34m/projects/.local/share/R/s3/maap-ops-workspace/shared/leitoldv/GEDI_global_PA_v2/WDPA_gedi_L4A_tiles/tile_num_21522_L4A.gpkg\u001b[34m\u001b[39m\n",
      "\n",
      "\u001b[36mℹ\u001b[39m \u001b[34m\u001b[34ms3://maap-ops-workspace/shared/leitoldv/GEDI_global_PA_v2/WDPA_gedi_L2A_tiles/tile_num_21522_L2A.gpkg\u001b[34m\u001b[39m already exists at \u001b[34m\u001b[34m/projects/.local/share/R/s3/maap-ops-workspace/shared/leitoldv/GEDI_global_PA_v2/WDPA_gedi_L2A_tiles/tile_num_21522_L2A.gpkg\u001b[34m\u001b[39m\n",
      "\n"
     ]
    },
    {
     "name": "stdout",
     "output_type": "stream",
     "text": [
      "GEDI dataframe for  7 GPKG file has 767676 rows and  12 columns \n",
      " [1] \"shot_number\"    \"filename\"       \"lat_lowestmode\" \"lon_lowestmode\"\n",
      " [5] \"rh25\"           \"rh50\"           \"rh75\"           \"rh98\"          \n",
      " [9] \"agbd\"           \"agbd_se\"        \"agbd_t\"         \"agbd_t_se\"     \n",
      "GEDI dataframe has 19241 rows and  21 columns \n",
      "Reading in no.  8 GPKG file of  222 GPKG tiles for iso3 BaE \n"
     ]
    },
    {
     "name": "stderr",
     "output_type": "stream",
     "text": [
      "\u001b[36mℹ\u001b[39m \u001b[34m\u001b[34ms3://maap-ops-workspace/shared/leitoldv/GEDI_global_PA_v2/WDPA_gedi_L4A_tiles/tile_num_21523_L4A.gpkg\u001b[34m\u001b[39m already exists at \u001b[34m\u001b[34m/projects/.local/share/R/s3/maap-ops-workspace/shared/leitoldv/GEDI_global_PA_v2/WDPA_gedi_L4A_tiles/tile_num_21523_L4A.gpkg\u001b[34m\u001b[39m\n",
      "\n",
      "\u001b[36mℹ\u001b[39m \u001b[34m\u001b[34ms3://maap-ops-workspace/shared/leitoldv/GEDI_global_PA_v2/WDPA_gedi_L2A_tiles/tile_num_21523_L2A.gpkg\u001b[34m\u001b[39m already exists at \u001b[34m\u001b[34m/projects/.local/share/R/s3/maap-ops-workspace/shared/leitoldv/GEDI_global_PA_v2/WDPA_gedi_L2A_tiles/tile_num_21523_L2A.gpkg\u001b[34m\u001b[39m\n",
      "\n"
     ]
    },
    {
     "name": "stdout",
     "output_type": "stream",
     "text": [
      "GEDI dataframe for  8 GPKG file has 765781 rows and  12 columns \n",
      " [1] \"shot_number\"    \"filename\"       \"lat_lowestmode\" \"lon_lowestmode\"\n",
      " [5] \"rh25\"           \"rh50\"           \"rh75\"           \"rh98\"          \n",
      " [9] \"agbd\"           \"agbd_se\"        \"agbd_t\"         \"agbd_t_se\"     \n",
      "GEDI dataframe has 19241 rows and  21 columns \n",
      "Reading in no.  9 GPKG file of  222 GPKG tiles for iso3 BaE \n"
     ]
    },
    {
     "name": "stderr",
     "output_type": "stream",
     "text": [
      "\u001b[36mℹ\u001b[39m \u001b[34m\u001b[34ms3://maap-ops-workspace/shared/leitoldv/GEDI_global_PA_v2/WDPA_gedi_L4A_tiles/tile_num_21524_L4A.gpkg\u001b[34m\u001b[39m already exists at \u001b[34m\u001b[34m/projects/.local/share/R/s3/maap-ops-workspace/shared/leitoldv/GEDI_global_PA_v2/WDPA_gedi_L4A_tiles/tile_num_21524_L4A.gpkg\u001b[34m\u001b[39m\n",
      "\n",
      "\u001b[36mℹ\u001b[39m \u001b[34m\u001b[34ms3://maap-ops-workspace/shared/leitoldv/GEDI_global_PA_v2/WDPA_gedi_L2A_tiles/tile_num_21524_L2A.gpkg\u001b[34m\u001b[39m already exists at \u001b[34m\u001b[34m/projects/.local/share/R/s3/maap-ops-workspace/shared/leitoldv/GEDI_global_PA_v2/WDPA_gedi_L2A_tiles/tile_num_21524_L2A.gpkg\u001b[34m\u001b[39m\n",
      "\n"
     ]
    },
    {
     "name": "stdout",
     "output_type": "stream",
     "text": [
      "GEDI dataframe for  9 GPKG file has 708464 rows and  12 columns \n",
      " [1] \"shot_number\"    \"filename\"       \"lat_lowestmode\" \"lon_lowestmode\"\n",
      " [5] \"rh25\"           \"rh50\"           \"rh75\"           \"rh98\"          \n",
      " [9] \"agbd\"           \"agbd_se\"        \"agbd_t\"         \"agbd_t_se\"     \n",
      "GEDI dataframe has 19241 rows and  21 columns \n",
      "Reading in no.  10 GPKG file of  222 GPKG tiles for iso3 BaE \n"
     ]
    },
    {
     "name": "stderr",
     "output_type": "stream",
     "text": [
      "\u001b[36mℹ\u001b[39m \u001b[34m\u001b[34ms3://maap-ops-workspace/shared/leitoldv/GEDI_global_PA_v2/WDPA_gedi_L4A_tiles/tile_num_21525_L4A.gpkg\u001b[34m\u001b[39m already exists at \u001b[34m\u001b[34m/projects/.local/share/R/s3/maap-ops-workspace/shared/leitoldv/GEDI_global_PA_v2/WDPA_gedi_L4A_tiles/tile_num_21525_L4A.gpkg\u001b[34m\u001b[39m\n",
      "\n",
      "\u001b[36mℹ\u001b[39m \u001b[34m\u001b[34ms3://maap-ops-workspace/shared/leitoldv/GEDI_global_PA_v2/WDPA_gedi_L2A_tiles/tile_num_21525_L2A.gpkg\u001b[34m\u001b[39m already exists at \u001b[34m\u001b[34m/projects/.local/share/R/s3/maap-ops-workspace/shared/leitoldv/GEDI_global_PA_v2/WDPA_gedi_L2A_tiles/tile_num_21525_L2A.gpkg\u001b[34m\u001b[39m\n",
      "\n"
     ]
    },
    {
     "name": "stdout",
     "output_type": "stream",
     "text": [
      "GEDI dataframe for  10 GPKG file has 854141 rows and  12 columns \n",
      " [1] \"shot_number\"    \"filename\"       \"lat_lowestmode\" \"lon_lowestmode\"\n",
      " [5] \"rh25\"           \"rh50\"           \"rh75\"           \"rh98\"          \n",
      " [9] \"agbd\"           \"agbd_se\"        \"agbd_t\"         \"agbd_t_se\"     \n",
      "GEDI dataframe has 19241 rows and  21 columns \n",
      "Reading in no.  11 GPKG file of  222 GPKG tiles for iso3 BaE \n"
     ]
    },
    {
     "name": "stderr",
     "output_type": "stream",
     "text": [
      "\u001b[36mℹ\u001b[39m \u001b[34m\u001b[34ms3://maap-ops-workspace/shared/leitoldv/GEDI_global_PA_v2/WDPA_gedi_L4A_tiles/tile_num_21526_L4A.gpkg\u001b[34m\u001b[39m already exists at \u001b[34m\u001b[34m/projects/.local/share/R/s3/maap-ops-workspace/shared/leitoldv/GEDI_global_PA_v2/WDPA_gedi_L4A_tiles/tile_num_21526_L4A.gpkg\u001b[34m\u001b[39m\n",
      "\n",
      "\u001b[36mℹ\u001b[39m \u001b[34m\u001b[34ms3://maap-ops-workspace/shared/leitoldv/GEDI_global_PA_v2/WDPA_gedi_L2A_tiles/tile_num_21526_L2A.gpkg\u001b[34m\u001b[39m already exists at \u001b[34m\u001b[34m/projects/.local/share/R/s3/maap-ops-workspace/shared/leitoldv/GEDI_global_PA_v2/WDPA_gedi_L2A_tiles/tile_num_21526_L2A.gpkg\u001b[34m\u001b[39m\n",
      "\n"
     ]
    },
    {
     "name": "stdout",
     "output_type": "stream",
     "text": [
      "GEDI dataframe for  11 GPKG file has 656718 rows and  12 columns \n",
      " [1] \"shot_number\"    \"filename\"       \"lat_lowestmode\" \"lon_lowestmode\"\n",
      " [5] \"rh25\"           \"rh50\"           \"rh75\"           \"rh98\"          \n",
      " [9] \"agbd\"           \"agbd_se\"        \"agbd_t\"         \"agbd_t_se\"     \n",
      "GEDI dataframe has 19241 rows and  21 columns \n",
      "Reading in no.  12 GPKG file of  222 GPKG tiles for iso3 BaE \n"
     ]
    },
    {
     "name": "stderr",
     "output_type": "stream",
     "text": [
      "\u001b[36mℹ\u001b[39m \u001b[34m\u001b[34ms3://maap-ops-workspace/shared/leitoldv/GEDI_global_PA_v2/WDPA_gedi_L4A_tiles/tile_num_21527_L4A.gpkg\u001b[34m\u001b[39m already exists at \u001b[34m\u001b[34m/projects/.local/share/R/s3/maap-ops-workspace/shared/leitoldv/GEDI_global_PA_v2/WDPA_gedi_L4A_tiles/tile_num_21527_L4A.gpkg\u001b[34m\u001b[39m\n",
      "\n",
      "\u001b[36mℹ\u001b[39m \u001b[34m\u001b[34ms3://maap-ops-workspace/shared/leitoldv/GEDI_global_PA_v2/WDPA_gedi_L2A_tiles/tile_num_21527_L2A.gpkg\u001b[34m\u001b[39m already exists at \u001b[34m\u001b[34m/projects/.local/share/R/s3/maap-ops-workspace/shared/leitoldv/GEDI_global_PA_v2/WDPA_gedi_L2A_tiles/tile_num_21527_L2A.gpkg\u001b[34m\u001b[39m\n",
      "\n"
     ]
    },
    {
     "name": "stdout",
     "output_type": "stream",
     "text": [
      "GEDI dataframe for  12 GPKG file has 215130 rows and  12 columns \n",
      " [1] \"shot_number\"    \"filename\"       \"lat_lowestmode\" \"lon_lowestmode\"\n",
      " [5] \"rh25\"           \"rh50\"           \"rh75\"           \"rh98\"          \n",
      " [9] \"agbd\"           \"agbd_se\"        \"agbd_t\"         \"agbd_t_se\"     \n",
      "GEDI dataframe has 19241 rows and  21 columns \n",
      "Reading in no.  13 GPKG file of  222 GPKG tiles for iso3 BaE \n"
     ]
    },
    {
     "name": "stderr",
     "output_type": "stream",
     "text": [
      "\u001b[36mℹ\u001b[39m \u001b[34m\u001b[34ms3://maap-ops-workspace/shared/leitoldv/GEDI_global_PA_v2/WDPA_gedi_L4A_tiles/tile_num_21699_L4A.gpkg\u001b[34m\u001b[39m already exists at \u001b[34m\u001b[34m/projects/.local/share/R/s3/maap-ops-workspace/shared/leitoldv/GEDI_global_PA_v2/WDPA_gedi_L4A_tiles/tile_num_21699_L4A.gpkg\u001b[34m\u001b[39m\n",
      "\n",
      "\u001b[36mℹ\u001b[39m \u001b[34m\u001b[34ms3://maap-ops-workspace/shared/leitoldv/GEDI_global_PA_v2/WDPA_gedi_L2A_tiles/tile_num_21699_L2A.gpkg\u001b[34m\u001b[39m already exists at \u001b[34m\u001b[34m/projects/.local/share/R/s3/maap-ops-workspace/shared/leitoldv/GEDI_global_PA_v2/WDPA_gedi_L2A_tiles/tile_num_21699_L2A.gpkg\u001b[34m\u001b[39m\n",
      "\n"
     ]
    },
    {
     "name": "stdout",
     "output_type": "stream",
     "text": [
      "GEDI dataframe for  13 GPKG file has 910573 rows and  12 columns \n",
      " [1] \"shot_number\"    \"filename\"       \"lat_lowestmode\" \"lon_lowestmode\"\n",
      " [5] \"rh25\"           \"rh50\"           \"rh75\"           \"rh98\"          \n",
      " [9] \"agbd\"           \"agbd_se\"        \"agbd_t\"         \"agbd_t_se\"     \n",
      "GEDI dataframe has 19241 rows and  21 columns \n",
      "Reading in no.  14 GPKG file of  222 GPKG tiles for iso3 BaE \n"
     ]
    },
    {
     "name": "stderr",
     "output_type": "stream",
     "text": [
      "\u001b[36mℹ\u001b[39m \u001b[34m\u001b[34ms3://maap-ops-workspace/shared/leitoldv/GEDI_global_PA_v2/WDPA_gedi_L4A_tiles/tile_num_21700_L4A.gpkg\u001b[34m\u001b[39m already exists at \u001b[34m\u001b[34m/projects/.local/share/R/s3/maap-ops-workspace/shared/leitoldv/GEDI_global_PA_v2/WDPA_gedi_L4A_tiles/tile_num_21700_L4A.gpkg\u001b[34m\u001b[39m\n",
      "\n",
      "\u001b[36mℹ\u001b[39m \u001b[34m\u001b[34ms3://maap-ops-workspace/shared/leitoldv/GEDI_global_PA_v2/WDPA_gedi_L2A_tiles/tile_num_21700_L2A.gpkg\u001b[34m\u001b[39m already exists at \u001b[34m\u001b[34m/projects/.local/share/R/s3/maap-ops-workspace/shared/leitoldv/GEDI_global_PA_v2/WDPA_gedi_L2A_tiles/tile_num_21700_L2A.gpkg\u001b[34m\u001b[39m\n",
      "\n"
     ]
    },
    {
     "name": "stdout",
     "output_type": "stream",
     "text": [
      "GEDI dataframe for  14 GPKG file has 693041 rows and  12 columns \n",
      " [1] \"shot_number\"    \"filename\"       \"lat_lowestmode\" \"lon_lowestmode\"\n",
      " [5] \"rh25\"           \"rh50\"           \"rh75\"           \"rh98\"          \n",
      " [9] \"agbd\"           \"agbd_se\"        \"agbd_t\"         \"agbd_t_se\"     \n",
      "GEDI dataframe has 19241 rows and  21 columns \n",
      "Reading in no.  15 GPKG file of  222 GPKG tiles for iso3 BaE \n"
     ]
    },
    {
     "name": "stderr",
     "output_type": "stream",
     "text": [
      "\u001b[36mℹ\u001b[39m \u001b[34m\u001b[34ms3://maap-ops-workspace/shared/leitoldv/GEDI_global_PA_v2/WDPA_gedi_L4A_tiles/tile_num_21701_L4A.gpkg\u001b[34m\u001b[39m already exists at \u001b[34m\u001b[34m/projects/.local/share/R/s3/maap-ops-workspace/shared/leitoldv/GEDI_global_PA_v2/WDPA_gedi_L4A_tiles/tile_num_21701_L4A.gpkg\u001b[34m\u001b[39m\n",
      "\n",
      "\u001b[36mℹ\u001b[39m \u001b[34m\u001b[34ms3://maap-ops-workspace/shared/leitoldv/GEDI_global_PA_v2/WDPA_gedi_L2A_tiles/tile_num_21701_L2A.gpkg\u001b[34m\u001b[39m already exists at \u001b[34m\u001b[34m/projects/.local/share/R/s3/maap-ops-workspace/shared/leitoldv/GEDI_global_PA_v2/WDPA_gedi_L2A_tiles/tile_num_21701_L2A.gpkg\u001b[34m\u001b[39m\n",
      "\n"
     ]
    },
    {
     "name": "stdout",
     "output_type": "stream",
     "text": [
      "GEDI dataframe for  15 GPKG file has 816929 rows and  12 columns \n",
      " [1] \"shot_number\"    \"filename\"       \"lat_lowestmode\" \"lon_lowestmode\"\n",
      " [5] \"rh25\"           \"rh50\"           \"rh75\"           \"rh98\"          \n",
      " [9] \"agbd\"           \"agbd_se\"        \"agbd_t\"         \"agbd_t_se\"     \n",
      "GEDI dataframe has 19241 rows and  21 columns \n",
      "Reading in no.  16 GPKG file of  222 GPKG tiles for iso3 BaE \n"
     ]
    },
    {
     "name": "stderr",
     "output_type": "stream",
     "text": [
      "\u001b[36mℹ\u001b[39m \u001b[34m\u001b[34ms3://maap-ops-workspace/shared/leitoldv/GEDI_global_PA_v2/WDPA_gedi_L4A_tiles/tile_num_21702_L4A.gpkg\u001b[34m\u001b[39m already exists at \u001b[34m\u001b[34m/projects/.local/share/R/s3/maap-ops-workspace/shared/leitoldv/GEDI_global_PA_v2/WDPA_gedi_L4A_tiles/tile_num_21702_L4A.gpkg\u001b[34m\u001b[39m\n",
      "\n",
      "\u001b[36mℹ\u001b[39m \u001b[34m\u001b[34ms3://maap-ops-workspace/shared/leitoldv/GEDI_global_PA_v2/WDPA_gedi_L2A_tiles/tile_num_21702_L2A.gpkg\u001b[34m\u001b[39m already exists at \u001b[34m\u001b[34m/projects/.local/share/R/s3/maap-ops-workspace/shared/leitoldv/GEDI_global_PA_v2/WDPA_gedi_L2A_tiles/tile_num_21702_L2A.gpkg\u001b[34m\u001b[39m\n",
      "\n"
     ]
    },
    {
     "name": "stdout",
     "output_type": "stream",
     "text": [
      "GEDI dataframe for  16 GPKG file has 926715 rows and  12 columns \n",
      " [1] \"shot_number\"    \"filename\"       \"lat_lowestmode\" \"lon_lowestmode\"\n",
      " [5] \"rh25\"           \"rh50\"           \"rh75\"           \"rh98\"          \n",
      " [9] \"agbd\"           \"agbd_se\"        \"agbd_t\"         \"agbd_t_se\"     \n",
      "GEDI dataframe has 19241 rows and  21 columns \n",
      "Reading in no.  17 GPKG file of  222 GPKG tiles for iso3 BaE \n"
     ]
    },
    {
     "name": "stderr",
     "output_type": "stream",
     "text": [
      "\u001b[36mℹ\u001b[39m \u001b[34m\u001b[34ms3://maap-ops-workspace/shared/leitoldv/GEDI_global_PA_v2/WDPA_gedi_L4A_tiles/tile_num_21703_L4A.gpkg\u001b[34m\u001b[39m already exists at \u001b[34m\u001b[34m/projects/.local/share/R/s3/maap-ops-workspace/shared/leitoldv/GEDI_global_PA_v2/WDPA_gedi_L4A_tiles/tile_num_21703_L4A.gpkg\u001b[34m\u001b[39m\n",
      "\n",
      "\u001b[36mℹ\u001b[39m \u001b[34m\u001b[34ms3://maap-ops-workspace/shared/leitoldv/GEDI_global_PA_v2/WDPA_gedi_L2A_tiles/tile_num_21703_L2A.gpkg\u001b[34m\u001b[39m already exists at \u001b[34m\u001b[34m/projects/.local/share/R/s3/maap-ops-workspace/shared/leitoldv/GEDI_global_PA_v2/WDPA_gedi_L2A_tiles/tile_num_21703_L2A.gpkg\u001b[34m\u001b[39m\n",
      "\n"
     ]
    },
    {
     "name": "stdout",
     "output_type": "stream",
     "text": [
      "GEDI dataframe for  17 GPKG file has 864370 rows and  12 columns \n",
      " [1] \"shot_number\"    \"filename\"       \"lat_lowestmode\" \"lon_lowestmode\"\n",
      " [5] \"rh25\"           \"rh50\"           \"rh75\"           \"rh98\"          \n",
      " [9] \"agbd\"           \"agbd_se\"        \"agbd_t\"         \"agbd_t_se\"     \n",
      "GEDI dataframe has 19241 rows and  21 columns \n",
      "Reading in no.  18 GPKG file of  222 GPKG tiles for iso3 BaE \n"
     ]
    },
    {
     "name": "stderr",
     "output_type": "stream",
     "text": [
      "\u001b[36mℹ\u001b[39m \u001b[34m\u001b[34ms3://maap-ops-workspace/shared/leitoldv/GEDI_global_PA_v2/WDPA_gedi_L4A_tiles/tile_num_21704_L4A.gpkg\u001b[34m\u001b[39m already exists at \u001b[34m\u001b[34m/projects/.local/share/R/s3/maap-ops-workspace/shared/leitoldv/GEDI_global_PA_v2/WDPA_gedi_L4A_tiles/tile_num_21704_L4A.gpkg\u001b[34m\u001b[39m\n",
      "\n",
      "\u001b[36mℹ\u001b[39m \u001b[34m\u001b[34ms3://maap-ops-workspace/shared/leitoldv/GEDI_global_PA_v2/WDPA_gedi_L2A_tiles/tile_num_21704_L2A.gpkg\u001b[34m\u001b[39m already exists at \u001b[34m\u001b[34m/projects/.local/share/R/s3/maap-ops-workspace/shared/leitoldv/GEDI_global_PA_v2/WDPA_gedi_L2A_tiles/tile_num_21704_L2A.gpkg\u001b[34m\u001b[39m\n",
      "\n"
     ]
    },
    {
     "name": "stdout",
     "output_type": "stream",
     "text": [
      "GEDI dataframe for  18 GPKG file has 687687 rows and  12 columns \n",
      " [1] \"shot_number\"    \"filename\"       \"lat_lowestmode\" \"lon_lowestmode\"\n",
      " [5] \"rh25\"           \"rh50\"           \"rh75\"           \"rh98\"          \n",
      " [9] \"agbd\"           \"agbd_se\"        \"agbd_t\"         \"agbd_t_se\"     \n",
      "GEDI dataframe has 19241 rows and  21 columns \n",
      "Reading in no.  19 GPKG file of  222 GPKG tiles for iso3 BaE \n"
     ]
    },
    {
     "name": "stderr",
     "output_type": "stream",
     "text": [
      "\u001b[36mℹ\u001b[39m \u001b[34m\u001b[34ms3://maap-ops-workspace/shared/leitoldv/GEDI_global_PA_v2/WDPA_gedi_L4A_tiles/tile_num_21705_L4A.gpkg\u001b[34m\u001b[39m already exists at \u001b[34m\u001b[34m/projects/.local/share/R/s3/maap-ops-workspace/shared/leitoldv/GEDI_global_PA_v2/WDPA_gedi_L4A_tiles/tile_num_21705_L4A.gpkg\u001b[34m\u001b[39m\n",
      "\n",
      "\u001b[36mℹ\u001b[39m \u001b[34m\u001b[34ms3://maap-ops-workspace/shared/leitoldv/GEDI_global_PA_v2/WDPA_gedi_L2A_tiles/tile_num_21705_L2A.gpkg\u001b[34m\u001b[39m already exists at \u001b[34m\u001b[34m/projects/.local/share/R/s3/maap-ops-workspace/shared/leitoldv/GEDI_global_PA_v2/WDPA_gedi_L2A_tiles/tile_num_21705_L2A.gpkg\u001b[34m\u001b[39m\n",
      "\n"
     ]
    },
    {
     "name": "stdout",
     "output_type": "stream",
     "text": [
      "GEDI dataframe for  19 GPKG file has 563856 rows and  12 columns \n",
      " [1] \"shot_number\"    \"filename\"       \"lat_lowestmode\" \"lon_lowestmode\"\n",
      " [5] \"rh25\"           \"rh50\"           \"rh75\"           \"rh98\"          \n",
      " [9] \"agbd\"           \"agbd_se\"        \"agbd_t\"         \"agbd_t_se\"     \n",
      "GEDI dataframe has 19241 rows and  21 columns \n",
      "Reading in no.  20 GPKG file of  222 GPKG tiles for iso3 BaE \n"
     ]
    },
    {
     "name": "stderr",
     "output_type": "stream",
     "text": [
      "\u001b[36mℹ\u001b[39m \u001b[34m\u001b[34ms3://maap-ops-workspace/shared/leitoldv/GEDI_global_PA_v2/WDPA_gedi_L4A_tiles/tile_num_21706_L4A.gpkg\u001b[34m\u001b[39m already exists at \u001b[34m\u001b[34m/projects/.local/share/R/s3/maap-ops-workspace/shared/leitoldv/GEDI_global_PA_v2/WDPA_gedi_L4A_tiles/tile_num_21706_L4A.gpkg\u001b[34m\u001b[39m\n",
      "\n",
      "\u001b[36mℹ\u001b[39m \u001b[34m\u001b[34ms3://maap-ops-workspace/shared/leitoldv/GEDI_global_PA_v2/WDPA_gedi_L2A_tiles/tile_num_21706_L2A.gpkg\u001b[34m\u001b[39m already exists at \u001b[34m\u001b[34m/projects/.local/share/R/s3/maap-ops-workspace/shared/leitoldv/GEDI_global_PA_v2/WDPA_gedi_L2A_tiles/tile_num_21706_L2A.gpkg\u001b[34m\u001b[39m\n",
      "\n"
     ]
    },
    {
     "name": "stdout",
     "output_type": "stream",
     "text": [
      "GEDI dataframe for  20 GPKG file has 624041 rows and  12 columns \n",
      " [1] \"shot_number\"    \"filename\"       \"lat_lowestmode\" \"lon_lowestmode\"\n",
      " [5] \"rh25\"           \"rh50\"           \"rh75\"           \"rh98\"          \n",
      " [9] \"agbd\"           \"agbd_se\"        \"agbd_t\"         \"agbd_t_se\"     \n",
      "GEDI dataframe has 19241 rows and  21 columns \n",
      "Reading in no.  21 GPKG file of  222 GPKG tiles for iso3 BaE \n"
     ]
    },
    {
     "name": "stderr",
     "output_type": "stream",
     "text": [
      "\u001b[36mℹ\u001b[39m \u001b[34m\u001b[34ms3://maap-ops-workspace/shared/leitoldv/GEDI_global_PA_v2/WDPA_gedi_L4A_tiles/tile_num_21707_L4A.gpkg\u001b[34m\u001b[39m already exists at \u001b[34m\u001b[34m/projects/.local/share/R/s3/maap-ops-workspace/shared/leitoldv/GEDI_global_PA_v2/WDPA_gedi_L4A_tiles/tile_num_21707_L4A.gpkg\u001b[34m\u001b[39m\n",
      "\n",
      "\u001b[36mℹ\u001b[39m \u001b[34m\u001b[34ms3://maap-ops-workspace/shared/leitoldv/GEDI_global_PA_v2/WDPA_gedi_L2A_tiles/tile_num_21707_L2A.gpkg\u001b[34m\u001b[39m already exists at \u001b[34m\u001b[34m/projects/.local/share/R/s3/maap-ops-workspace/shared/leitoldv/GEDI_global_PA_v2/WDPA_gedi_L2A_tiles/tile_num_21707_L2A.gpkg\u001b[34m\u001b[39m\n",
      "\n"
     ]
    },
    {
     "name": "stdout",
     "output_type": "stream",
     "text": [
      "GEDI dataframe for  21 GPKG file has 298311 rows and  12 columns \n",
      " [1] \"shot_number\"    \"filename\"       \"lat_lowestmode\" \"lon_lowestmode\"\n",
      " [5] \"rh25\"           \"rh50\"           \"rh75\"           \"rh98\"          \n",
      " [9] \"agbd\"           \"agbd_se\"        \"agbd_t\"         \"agbd_t_se\"     \n",
      "GEDI dataframe has 19241 rows and  21 columns \n",
      "Reading in no.  22 GPKG file of  222 GPKG tiles for iso3 BaE \n"
     ]
    },
    {
     "name": "stderr",
     "output_type": "stream",
     "text": [
      "\u001b[36mℹ\u001b[39m \u001b[34m\u001b[34ms3://maap-ops-workspace/shared/leitoldv/GEDI_global_PA_v2/WDPA_gedi_L4A_tiles/tile_num_21869_L4A.gpkg\u001b[34m\u001b[39m already exists at \u001b[34m\u001b[34m/projects/.local/share/R/s3/maap-ops-workspace/shared/leitoldv/GEDI_global_PA_v2/WDPA_gedi_L4A_tiles/tile_num_21869_L4A.gpkg\u001b[34m\u001b[39m\n",
      "\n",
      "\u001b[36mℹ\u001b[39m \u001b[34m\u001b[34ms3://maap-ops-workspace/shared/leitoldv/GEDI_global_PA_v2/WDPA_gedi_L2A_tiles/tile_num_21869_L2A.gpkg\u001b[34m\u001b[39m already exists at \u001b[34m\u001b[34m/projects/.local/share/R/s3/maap-ops-workspace/shared/leitoldv/GEDI_global_PA_v2/WDPA_gedi_L2A_tiles/tile_num_21869_L2A.gpkg\u001b[34m\u001b[39m\n",
      "\n"
     ]
    },
    {
     "name": "stdout",
     "output_type": "stream",
     "text": [
      "GEDI dataframe for  22 GPKG file has 576996 rows and  12 columns \n",
      " [1] \"shot_number\"    \"filename\"       \"lat_lowestmode\" \"lon_lowestmode\"\n",
      " [5] \"rh25\"           \"rh50\"           \"rh75\"           \"rh98\"          \n",
      " [9] \"agbd\"           \"agbd_se\"        \"agbd_t\"         \"agbd_t_se\"     \n",
      "GEDI dataframe has 19241 rows and  21 columns \n",
      "Reading in no.  23 GPKG file of  222 GPKG tiles for iso3 BaE \n"
     ]
    },
    {
     "name": "stderr",
     "output_type": "stream",
     "text": [
      "\u001b[36mℹ\u001b[39m \u001b[34m\u001b[34ms3://maap-ops-workspace/shared/leitoldv/GEDI_global_PA_v2/WDPA_gedi_L4A_tiles/tile_num_21870_L4A.gpkg\u001b[34m\u001b[39m already exists at \u001b[34m\u001b[34m/projects/.local/share/R/s3/maap-ops-workspace/shared/leitoldv/GEDI_global_PA_v2/WDPA_gedi_L4A_tiles/tile_num_21870_L4A.gpkg\u001b[34m\u001b[39m\n",
      "\n",
      "\u001b[36mℹ\u001b[39m \u001b[34m\u001b[34ms3://maap-ops-workspace/shared/leitoldv/GEDI_global_PA_v2/WDPA_gedi_L2A_tiles/tile_num_21870_L2A.gpkg\u001b[34m\u001b[39m already exists at \u001b[34m\u001b[34m/projects/.local/share/R/s3/maap-ops-workspace/shared/leitoldv/GEDI_global_PA_v2/WDPA_gedi_L2A_tiles/tile_num_21870_L2A.gpkg\u001b[34m\u001b[39m\n",
      "\n"
     ]
    },
    {
     "name": "stdout",
     "output_type": "stream",
     "text": [
      "GEDI dataframe for  23 GPKG file has 746960 rows and  12 columns \n",
      " [1] \"shot_number\"    \"filename\"       \"lat_lowestmode\" \"lon_lowestmode\"\n",
      " [5] \"rh25\"           \"rh50\"           \"rh75\"           \"rh98\"          \n",
      " [9] \"agbd\"           \"agbd_se\"        \"agbd_t\"         \"agbd_t_se\"     \n",
      "GEDI dataframe has 19241 rows and  21 columns \n",
      "Reading in no.  24 GPKG file of  222 GPKG tiles for iso3 BaE \n"
     ]
    },
    {
     "name": "stderr",
     "output_type": "stream",
     "text": [
      "\u001b[36mℹ\u001b[39m \u001b[34m\u001b[34ms3://maap-ops-workspace/shared/leitoldv/GEDI_global_PA_v2/WDPA_gedi_L4A_tiles/tile_num_21871_L4A.gpkg\u001b[34m\u001b[39m already exists at \u001b[34m\u001b[34m/projects/.local/share/R/s3/maap-ops-workspace/shared/leitoldv/GEDI_global_PA_v2/WDPA_gedi_L4A_tiles/tile_num_21871_L4A.gpkg\u001b[34m\u001b[39m\n",
      "\n",
      "\u001b[36mℹ\u001b[39m \u001b[34m\u001b[34ms3://maap-ops-workspace/shared/leitoldv/GEDI_global_PA_v2/WDPA_gedi_L2A_tiles/tile_num_21871_L2A.gpkg\u001b[34m\u001b[39m already exists at \u001b[34m\u001b[34m/projects/.local/share/R/s3/maap-ops-workspace/shared/leitoldv/GEDI_global_PA_v2/WDPA_gedi_L2A_tiles/tile_num_21871_L2A.gpkg\u001b[34m\u001b[39m\n",
      "\n"
     ]
    },
    {
     "name": "stdout",
     "output_type": "stream",
     "text": [
      "GEDI dataframe for  24 GPKG file has 744137 rows and  12 columns \n",
      " [1] \"shot_number\"    \"filename\"       \"lat_lowestmode\" \"lon_lowestmode\"\n",
      " [5] \"rh25\"           \"rh50\"           \"rh75\"           \"rh98\"          \n",
      " [9] \"agbd\"           \"agbd_se\"        \"agbd_t\"         \"agbd_t_se\"     \n",
      "GEDI dataframe has 19241 rows and  21 columns \n",
      "Reading in no.  25 GPKG file of  222 GPKG tiles for iso3 BaE \n"
     ]
    },
    {
     "name": "stderr",
     "output_type": "stream",
     "text": [
      "\u001b[36mℹ\u001b[39m \u001b[34m\u001b[34ms3://maap-ops-workspace/shared/leitoldv/GEDI_global_PA_v2/WDPA_gedi_L4A_tiles/tile_num_21872_L4A.gpkg\u001b[34m\u001b[39m already exists at \u001b[34m\u001b[34m/projects/.local/share/R/s3/maap-ops-workspace/shared/leitoldv/GEDI_global_PA_v2/WDPA_gedi_L4A_tiles/tile_num_21872_L4A.gpkg\u001b[34m\u001b[39m\n",
      "\n",
      "\u001b[36mℹ\u001b[39m \u001b[34m\u001b[34ms3://maap-ops-workspace/shared/leitoldv/GEDI_global_PA_v2/WDPA_gedi_L2A_tiles/tile_num_21872_L2A.gpkg\u001b[34m\u001b[39m already exists at \u001b[34m\u001b[34m/projects/.local/share/R/s3/maap-ops-workspace/shared/leitoldv/GEDI_global_PA_v2/WDPA_gedi_L2A_tiles/tile_num_21872_L2A.gpkg\u001b[34m\u001b[39m\n",
      "\n"
     ]
    },
    {
     "name": "stdout",
     "output_type": "stream",
     "text": [
      "GEDI dataframe for  25 GPKG file has 678570 rows and  12 columns \n",
      " [1] \"shot_number\"    \"filename\"       \"lat_lowestmode\" \"lon_lowestmode\"\n",
      " [5] \"rh25\"           \"rh50\"           \"rh75\"           \"rh98\"          \n",
      " [9] \"agbd\"           \"agbd_se\"        \"agbd_t\"         \"agbd_t_se\"     \n",
      "GEDI dataframe has 19241 rows and  21 columns \n",
      "Reading in no.  26 GPKG file of  222 GPKG tiles for iso3 BaE \n"
     ]
    },
    {
     "name": "stderr",
     "output_type": "stream",
     "text": [
      "\u001b[36mℹ\u001b[39m \u001b[34m\u001b[34ms3://maap-ops-workspace/shared/leitoldv/GEDI_global_PA_v2/WDPA_gedi_L4A_tiles/tile_num_21876_L4A.gpkg\u001b[34m\u001b[39m already exists at \u001b[34m\u001b[34m/projects/.local/share/R/s3/maap-ops-workspace/shared/leitoldv/GEDI_global_PA_v2/WDPA_gedi_L4A_tiles/tile_num_21876_L4A.gpkg\u001b[34m\u001b[39m\n",
      "\n",
      "\u001b[36mℹ\u001b[39m \u001b[34m\u001b[34ms3://maap-ops-workspace/shared/leitoldv/GEDI_global_PA_v2/WDPA_gedi_L2A_tiles/tile_num_21876_L2A.gpkg\u001b[34m\u001b[39m already exists at \u001b[34m\u001b[34m/projects/.local/share/R/s3/maap-ops-workspace/shared/leitoldv/GEDI_global_PA_v2/WDPA_gedi_L2A_tiles/tile_num_21876_L2A.gpkg\u001b[34m\u001b[39m\n",
      "\n"
     ]
    },
    {
     "name": "stdout",
     "output_type": "stream",
     "text": [
      "GEDI dataframe for  26 GPKG file has 686506 rows and  12 columns \n",
      " [1] \"shot_number\"    \"filename\"       \"lat_lowestmode\" \"lon_lowestmode\"\n",
      " [5] \"rh25\"           \"rh50\"           \"rh75\"           \"rh98\"          \n",
      " [9] \"agbd\"           \"agbd_se\"        \"agbd_t\"         \"agbd_t_se\"     \n",
      "GEDI dataframe has 19241 rows and  21 columns \n",
      "Reading in no.  27 GPKG file of  222 GPKG tiles for iso3 BaE \n"
     ]
    },
    {
     "name": "stderr",
     "output_type": "stream",
     "text": [
      "\u001b[36mℹ\u001b[39m \u001b[34m\u001b[34ms3://maap-ops-workspace/shared/leitoldv/GEDI_global_PA_v2/WDPA_gedi_L4A_tiles/tile_num_21877_L4A.gpkg\u001b[34m\u001b[39m already exists at \u001b[34m\u001b[34m/projects/.local/share/R/s3/maap-ops-workspace/shared/leitoldv/GEDI_global_PA_v2/WDPA_gedi_L4A_tiles/tile_num_21877_L4A.gpkg\u001b[34m\u001b[39m\n",
      "\n",
      "\u001b[36mℹ\u001b[39m \u001b[34m\u001b[34ms3://maap-ops-workspace/shared/leitoldv/GEDI_global_PA_v2/WDPA_gedi_L2A_tiles/tile_num_21877_L2A.gpkg\u001b[34m\u001b[39m already exists at \u001b[34m\u001b[34m/projects/.local/share/R/s3/maap-ops-workspace/shared/leitoldv/GEDI_global_PA_v2/WDPA_gedi_L2A_tiles/tile_num_21877_L2A.gpkg\u001b[34m\u001b[39m\n",
      "\n"
     ]
    },
    {
     "name": "stdout",
     "output_type": "stream",
     "text": [
      "GEDI dataframe for  27 GPKG file has 625624 rows and  12 columns \n",
      " [1] \"shot_number\"    \"filename\"       \"lat_lowestmode\" \"lon_lowestmode\"\n",
      " [5] \"rh25\"           \"rh50\"           \"rh75\"           \"rh98\"          \n",
      " [9] \"agbd\"           \"agbd_se\"        \"agbd_t\"         \"agbd_t_se\"     \n",
      "GEDI dataframe has 19241 rows and  21 columns \n",
      "Reading in no.  28 GPKG file of  222 GPKG tiles for iso3 BaE \n"
     ]
    },
    {
     "name": "stderr",
     "output_type": "stream",
     "text": [
      "\u001b[36mℹ\u001b[39m \u001b[34m\u001b[34ms3://maap-ops-workspace/shared/leitoldv/GEDI_global_PA_v2/WDPA_gedi_L4A_tiles/tile_num_21878_L4A.gpkg\u001b[34m\u001b[39m already exists at \u001b[34m\u001b[34m/projects/.local/share/R/s3/maap-ops-workspace/shared/leitoldv/GEDI_global_PA_v2/WDPA_gedi_L4A_tiles/tile_num_21878_L4A.gpkg\u001b[34m\u001b[39m\n",
      "\n",
      "\u001b[36mℹ\u001b[39m \u001b[34m\u001b[34ms3://maap-ops-workspace/shared/leitoldv/GEDI_global_PA_v2/WDPA_gedi_L2A_tiles/tile_num_21878_L2A.gpkg\u001b[34m\u001b[39m already exists at \u001b[34m\u001b[34m/projects/.local/share/R/s3/maap-ops-workspace/shared/leitoldv/GEDI_global_PA_v2/WDPA_gedi_L2A_tiles/tile_num_21878_L2A.gpkg\u001b[34m\u001b[39m\n",
      "\n"
     ]
    },
    {
     "name": "stdout",
     "output_type": "stream",
     "text": [
      "GEDI dataframe for  28 GPKG file has 658579 rows and  12 columns \n",
      " [1] \"shot_number\"    \"filename\"       \"lat_lowestmode\" \"lon_lowestmode\"\n",
      " [5] \"rh25\"           \"rh50\"           \"rh75\"           \"rh98\"          \n",
      " [9] \"agbd\"           \"agbd_se\"        \"agbd_t\"         \"agbd_t_se\"     \n",
      "GEDI dataframe has 19241 rows and  21 columns \n",
      "Reading in no.  29 GPKG file of  222 GPKG tiles for iso3 BaE \n"
     ]
    },
    {
     "name": "stderr",
     "output_type": "stream",
     "text": [
      "\u001b[36mℹ\u001b[39m \u001b[34m\u001b[34ms3://maap-ops-workspace/shared/leitoldv/GEDI_global_PA_v2/WDPA_gedi_L4A_tiles/tile_num_21879_L4A.gpkg\u001b[34m\u001b[39m already exists at \u001b[34m\u001b[34m/projects/.local/share/R/s3/maap-ops-workspace/shared/leitoldv/GEDI_global_PA_v2/WDPA_gedi_L4A_tiles/tile_num_21879_L4A.gpkg\u001b[34m\u001b[39m\n",
      "\n",
      "\u001b[36mℹ\u001b[39m \u001b[34m\u001b[34ms3://maap-ops-workspace/shared/leitoldv/GEDI_global_PA_v2/WDPA_gedi_L2A_tiles/tile_num_21879_L2A.gpkg\u001b[34m\u001b[39m already exists at \u001b[34m\u001b[34m/projects/.local/share/R/s3/maap-ops-workspace/shared/leitoldv/GEDI_global_PA_v2/WDPA_gedi_L2A_tiles/tile_num_21879_L2A.gpkg\u001b[34m\u001b[39m\n",
      "\n"
     ]
    },
    {
     "name": "stdout",
     "output_type": "stream",
     "text": [
      "GEDI dataframe for  29 GPKG file has 955907 rows and  12 columns \n",
      " [1] \"shot_number\"    \"filename\"       \"lat_lowestmode\" \"lon_lowestmode\"\n",
      " [5] \"rh25\"           \"rh50\"           \"rh75\"           \"rh98\"          \n",
      " [9] \"agbd\"           \"agbd_se\"        \"agbd_t\"         \"agbd_t_se\"     \n",
      "GEDI dataframe has 19241 rows and  21 columns \n",
      "Reading in no.  30 GPKG file of  222 GPKG tiles for iso3 BaE \n"
     ]
    },
    {
     "name": "stderr",
     "output_type": "stream",
     "text": [
      "\u001b[36mℹ\u001b[39m \u001b[34m\u001b[34ms3://maap-ops-workspace/shared/leitoldv/GEDI_global_PA_v2/WDPA_gedi_L4A_tiles/tile_num_21880_L4A.gpkg\u001b[34m\u001b[39m already exists at \u001b[34m\u001b[34m/projects/.local/share/R/s3/maap-ops-workspace/shared/leitoldv/GEDI_global_PA_v2/WDPA_gedi_L4A_tiles/tile_num_21880_L4A.gpkg\u001b[34m\u001b[39m\n",
      "\n",
      "\u001b[36mℹ\u001b[39m \u001b[34m\u001b[34ms3://maap-ops-workspace/shared/leitoldv/GEDI_global_PA_v2/WDPA_gedi_L2A_tiles/tile_num_21880_L2A.gpkg\u001b[34m\u001b[39m already exists at \u001b[34m\u001b[34m/projects/.local/share/R/s3/maap-ops-workspace/shared/leitoldv/GEDI_global_PA_v2/WDPA_gedi_L2A_tiles/tile_num_21880_L2A.gpkg\u001b[34m\u001b[39m\n",
      "\n"
     ]
    },
    {
     "name": "stdout",
     "output_type": "stream",
     "text": [
      "GEDI dataframe for  30 GPKG file has 965812 rows and  12 columns \n",
      " [1] \"shot_number\"    \"filename\"       \"lat_lowestmode\" \"lon_lowestmode\"\n",
      " [5] \"rh25\"           \"rh50\"           \"rh75\"           \"rh98\"          \n",
      " [9] \"agbd\"           \"agbd_se\"        \"agbd_t\"         \"agbd_t_se\"     \n",
      "GEDI dataframe has 19241 rows and  21 columns \n",
      "Reading in no.  31 GPKG file of  222 GPKG tiles for iso3 BaE \n"
     ]
    },
    {
     "name": "stderr",
     "output_type": "stream",
     "text": [
      "\u001b[36mℹ\u001b[39m \u001b[34m\u001b[34ms3://maap-ops-workspace/shared/leitoldv/GEDI_global_PA_v2/WDPA_gedi_L4A_tiles/tile_num_21881_L4A.gpkg\u001b[34m\u001b[39m already exists at \u001b[34m\u001b[34m/projects/.local/share/R/s3/maap-ops-workspace/shared/leitoldv/GEDI_global_PA_v2/WDPA_gedi_L4A_tiles/tile_num_21881_L4A.gpkg\u001b[34m\u001b[39m\n",
      "\n",
      "\u001b[36mℹ\u001b[39m \u001b[34m\u001b[34ms3://maap-ops-workspace/shared/leitoldv/GEDI_global_PA_v2/WDPA_gedi_L2A_tiles/tile_num_21881_L2A.gpkg\u001b[34m\u001b[39m already exists at \u001b[34m\u001b[34m/projects/.local/share/R/s3/maap-ops-workspace/shared/leitoldv/GEDI_global_PA_v2/WDPA_gedi_L2A_tiles/tile_num_21881_L2A.gpkg\u001b[34m\u001b[39m\n",
      "\n"
     ]
    },
    {
     "name": "stdout",
     "output_type": "stream",
     "text": [
      "GEDI dataframe for  31 GPKG file has 830609 rows and  12 columns \n",
      " [1] \"shot_number\"    \"filename\"       \"lat_lowestmode\" \"lon_lowestmode\"\n",
      " [5] \"rh25\"           \"rh50\"           \"rh75\"           \"rh98\"          \n",
      " [9] \"agbd\"           \"agbd_se\"        \"agbd_t\"         \"agbd_t_se\"     \n",
      "GEDI dataframe has 19241 rows and  21 columns \n",
      "Reading in no.  32 GPKG file of  222 GPKG tiles for iso3 BaE \n"
     ]
    },
    {
     "name": "stderr",
     "output_type": "stream",
     "text": [
      "\u001b[36mℹ\u001b[39m \u001b[34m\u001b[34ms3://maap-ops-workspace/shared/leitoldv/GEDI_global_PA_v2/WDPA_gedi_L4A_tiles/tile_num_21882_L4A.gpkg\u001b[34m\u001b[39m already exists at \u001b[34m\u001b[34m/projects/.local/share/R/s3/maap-ops-workspace/shared/leitoldv/GEDI_global_PA_v2/WDPA_gedi_L4A_tiles/tile_num_21882_L4A.gpkg\u001b[34m\u001b[39m\n",
      "\n",
      "\u001b[36mℹ\u001b[39m \u001b[34m\u001b[34ms3://maap-ops-workspace/shared/leitoldv/GEDI_global_PA_v2/WDPA_gedi_L2A_tiles/tile_num_21882_L2A.gpkg\u001b[34m\u001b[39m already exists at \u001b[34m\u001b[34m/projects/.local/share/R/s3/maap-ops-workspace/shared/leitoldv/GEDI_global_PA_v2/WDPA_gedi_L2A_tiles/tile_num_21882_L2A.gpkg\u001b[34m\u001b[39m\n",
      "\n"
     ]
    },
    {
     "name": "stdout",
     "output_type": "stream",
     "text": [
      "GEDI dataframe for  32 GPKG file has 756437 rows and  12 columns \n",
      " [1] \"shot_number\"    \"filename\"       \"lat_lowestmode\" \"lon_lowestmode\"\n",
      " [5] \"rh25\"           \"rh50\"           \"rh75\"           \"rh98\"          \n",
      " [9] \"agbd\"           \"agbd_se\"        \"agbd_t\"         \"agbd_t_se\"     \n",
      "GEDI dataframe has 19241 rows and  21 columns \n",
      "Reading in no.  33 GPKG file of  222 GPKG tiles for iso3 BaE \n"
     ]
    },
    {
     "name": "stderr",
     "output_type": "stream",
     "text": [
      "\u001b[36mℹ\u001b[39m \u001b[34m\u001b[34ms3://maap-ops-workspace/shared/leitoldv/GEDI_global_PA_v2/WDPA_gedi_L4A_tiles/tile_num_21883_L4A.gpkg\u001b[34m\u001b[39m already exists at \u001b[34m\u001b[34m/projects/.local/share/R/s3/maap-ops-workspace/shared/leitoldv/GEDI_global_PA_v2/WDPA_gedi_L4A_tiles/tile_num_21883_L4A.gpkg\u001b[34m\u001b[39m\n",
      "\n",
      "\u001b[36mℹ\u001b[39m \u001b[34m\u001b[34ms3://maap-ops-workspace/shared/leitoldv/GEDI_global_PA_v2/WDPA_gedi_L2A_tiles/tile_num_21883_L2A.gpkg\u001b[34m\u001b[39m already exists at \u001b[34m\u001b[34m/projects/.local/share/R/s3/maap-ops-workspace/shared/leitoldv/GEDI_global_PA_v2/WDPA_gedi_L2A_tiles/tile_num_21883_L2A.gpkg\u001b[34m\u001b[39m\n",
      "\n"
     ]
    },
    {
     "name": "stdout",
     "output_type": "stream",
     "text": [
      "GEDI dataframe for  33 GPKG file has 813205 rows and  12 columns \n",
      " [1] \"shot_number\"    \"filename\"       \"lat_lowestmode\" \"lon_lowestmode\"\n",
      " [5] \"rh25\"           \"rh50\"           \"rh75\"           \"rh98\"          \n",
      " [9] \"agbd\"           \"agbd_se\"        \"agbd_t\"         \"agbd_t_se\"     \n",
      "GEDI dataframe has 19241 rows and  21 columns \n",
      "Reading in no.  34 GPKG file of  222 GPKG tiles for iso3 BaE \n"
     ]
    },
    {
     "name": "stderr",
     "output_type": "stream",
     "text": [
      "\u001b[36mℹ\u001b[39m \u001b[34m\u001b[34ms3://maap-ops-workspace/shared/leitoldv/GEDI_global_PA_v2/WDPA_gedi_L4A_tiles/tile_num_21885_L4A.gpkg\u001b[34m\u001b[39m already exists at \u001b[34m\u001b[34m/projects/.local/share/R/s3/maap-ops-workspace/shared/leitoldv/GEDI_global_PA_v2/WDPA_gedi_L4A_tiles/tile_num_21885_L4A.gpkg\u001b[34m\u001b[39m\n",
      "\n",
      "\u001b[36mℹ\u001b[39m \u001b[34m\u001b[34ms3://maap-ops-workspace/shared/leitoldv/GEDI_global_PA_v2/WDPA_gedi_L2A_tiles/tile_num_21885_L2A.gpkg\u001b[34m\u001b[39m already exists at \u001b[34m\u001b[34m/projects/.local/share/R/s3/maap-ops-workspace/shared/leitoldv/GEDI_global_PA_v2/WDPA_gedi_L2A_tiles/tile_num_21885_L2A.gpkg\u001b[34m\u001b[39m\n",
      "\n"
     ]
    },
    {
     "name": "stdout",
     "output_type": "stream",
     "text": [
      "GEDI dataframe for  34 GPKG file has 345107 rows and  12 columns \n",
      " [1] \"shot_number\"    \"filename\"       \"lat_lowestmode\" \"lon_lowestmode\"\n",
      " [5] \"rh25\"           \"rh50\"           \"rh75\"           \"rh98\"          \n",
      " [9] \"agbd\"           \"agbd_se\"        \"agbd_t\"         \"agbd_t_se\"     \n",
      "GEDI dataframe has 19241 rows and  21 columns \n",
      "Reading in no.  35 GPKG file of  222 GPKG tiles for iso3 BaE \n"
     ]
    },
    {
     "name": "stderr",
     "output_type": "stream",
     "text": [
      "\u001b[36mℹ\u001b[39m \u001b[34m\u001b[34ms3://maap-ops-workspace/shared/leitoldv/GEDI_global_PA_v2/WDPA_gedi_L4A_tiles/tile_num_21886_L4A.gpkg\u001b[34m\u001b[39m already exists at \u001b[34m\u001b[34m/projects/.local/share/R/s3/maap-ops-workspace/shared/leitoldv/GEDI_global_PA_v2/WDPA_gedi_L4A_tiles/tile_num_21886_L4A.gpkg\u001b[34m\u001b[39m\n",
      "\n",
      "\u001b[36mℹ\u001b[39m \u001b[34m\u001b[34ms3://maap-ops-workspace/shared/leitoldv/GEDI_global_PA_v2/WDPA_gedi_L2A_tiles/tile_num_21886_L2A.gpkg\u001b[34m\u001b[39m already exists at \u001b[34m\u001b[34m/projects/.local/share/R/s3/maap-ops-workspace/shared/leitoldv/GEDI_global_PA_v2/WDPA_gedi_L2A_tiles/tile_num_21886_L2A.gpkg\u001b[34m\u001b[39m\n",
      "\n"
     ]
    },
    {
     "name": "stdout",
     "output_type": "stream",
     "text": [
      "GEDI dataframe for  35 GPKG file has 573229 rows and  12 columns \n",
      " [1] \"shot_number\"    \"filename\"       \"lat_lowestmode\" \"lon_lowestmode\"\n",
      " [5] \"rh25\"           \"rh50\"           \"rh75\"           \"rh98\"          \n",
      " [9] \"agbd\"           \"agbd_se\"        \"agbd_t\"         \"agbd_t_se\"     \n",
      "GEDI dataframe has 19241 rows and  21 columns \n",
      "Reading in no.  36 GPKG file of  222 GPKG tiles for iso3 BaE \n"
     ]
    },
    {
     "name": "stderr",
     "output_type": "stream",
     "text": [
      "\u001b[36mℹ\u001b[39m \u001b[34m\u001b[34ms3://maap-ops-workspace/shared/leitoldv/GEDI_global_PA_v2/WDPA_gedi_L4A_tiles/tile_num_21887_L4A.gpkg\u001b[34m\u001b[39m already exists at \u001b[34m\u001b[34m/projects/.local/share/R/s3/maap-ops-workspace/shared/leitoldv/GEDI_global_PA_v2/WDPA_gedi_L4A_tiles/tile_num_21887_L4A.gpkg\u001b[34m\u001b[39m\n",
      "\n",
      "\u001b[36mℹ\u001b[39m \u001b[34m\u001b[34ms3://maap-ops-workspace/shared/leitoldv/GEDI_global_PA_v2/WDPA_gedi_L2A_tiles/tile_num_21887_L2A.gpkg\u001b[34m\u001b[39m already exists at \u001b[34m\u001b[34m/projects/.local/share/R/s3/maap-ops-workspace/shared/leitoldv/GEDI_global_PA_v2/WDPA_gedi_L2A_tiles/tile_num_21887_L2A.gpkg\u001b[34m\u001b[39m\n",
      "\n"
     ]
    },
    {
     "name": "stdout",
     "output_type": "stream",
     "text": [
      "GEDI dataframe for  36 GPKG file has 531877 rows and  12 columns \n",
      " [1] \"shot_number\"    \"filename\"       \"lat_lowestmode\" \"lon_lowestmode\"\n",
      " [5] \"rh25\"           \"rh50\"           \"rh75\"           \"rh98\"          \n",
      " [9] \"agbd\"           \"agbd_se\"        \"agbd_t\"         \"agbd_t_se\"     \n",
      "GEDI dataframe has 19241 rows and  21 columns \n",
      "Reading in no.  37 GPKG file of  222 GPKG tiles for iso3 BaE \n"
     ]
    },
    {
     "name": "stderr",
     "output_type": "stream",
     "text": [
      "\u001b[36mℹ\u001b[39m \u001b[34m\u001b[34ms3://maap-ops-workspace/shared/leitoldv/GEDI_global_PA_v2/WDPA_gedi_L4A_tiles/tile_num_22049_L4A.gpkg\u001b[34m\u001b[39m already exists at \u001b[34m\u001b[34m/projects/.local/share/R/s3/maap-ops-workspace/shared/leitoldv/GEDI_global_PA_v2/WDPA_gedi_L4A_tiles/tile_num_22049_L4A.gpkg\u001b[34m\u001b[39m\n",
      "\n",
      "\u001b[36mℹ\u001b[39m \u001b[34m\u001b[34ms3://maap-ops-workspace/shared/leitoldv/GEDI_global_PA_v2/WDPA_gedi_L2A_tiles/tile_num_22049_L2A.gpkg\u001b[34m\u001b[39m already exists at \u001b[34m\u001b[34m/projects/.local/share/R/s3/maap-ops-workspace/shared/leitoldv/GEDI_global_PA_v2/WDPA_gedi_L2A_tiles/tile_num_22049_L2A.gpkg\u001b[34m\u001b[39m\n",
      "\n"
     ]
    },
    {
     "name": "stdout",
     "output_type": "stream",
     "text": [
      "GEDI dataframe for  37 GPKG file has 555513 rows and  12 columns \n",
      " [1] \"shot_number\"    \"filename\"       \"lat_lowestmode\" \"lon_lowestmode\"\n",
      " [5] \"rh25\"           \"rh50\"           \"rh75\"           \"rh98\"          \n",
      " [9] \"agbd\"           \"agbd_se\"        \"agbd_t\"         \"agbd_t_se\"     \n",
      "GEDI dataframe has 19241 rows and  21 columns \n",
      "Reading in no.  38 GPKG file of  222 GPKG tiles for iso3 BaE \n"
     ]
    },
    {
     "name": "stderr",
     "output_type": "stream",
     "text": [
      "\u001b[36mℹ\u001b[39m \u001b[34m\u001b[34ms3://maap-ops-workspace/shared/leitoldv/GEDI_global_PA_v2/WDPA_gedi_L4A_tiles/tile_num_22050_L4A.gpkg\u001b[34m\u001b[39m already exists at \u001b[34m\u001b[34m/projects/.local/share/R/s3/maap-ops-workspace/shared/leitoldv/GEDI_global_PA_v2/WDPA_gedi_L4A_tiles/tile_num_22050_L4A.gpkg\u001b[34m\u001b[39m\n",
      "\n",
      "\u001b[36mℹ\u001b[39m \u001b[34m\u001b[34ms3://maap-ops-workspace/shared/leitoldv/GEDI_global_PA_v2/WDPA_gedi_L2A_tiles/tile_num_22050_L2A.gpkg\u001b[34m\u001b[39m already exists at \u001b[34m\u001b[34m/projects/.local/share/R/s3/maap-ops-workspace/shared/leitoldv/GEDI_global_PA_v2/WDPA_gedi_L2A_tiles/tile_num_22050_L2A.gpkg\u001b[34m\u001b[39m\n",
      "\n"
     ]
    },
    {
     "name": "stdout",
     "output_type": "stream",
     "text": [
      "GEDI dataframe for  38 GPKG file has 583113 rows and  12 columns \n",
      " [1] \"shot_number\"    \"filename\"       \"lat_lowestmode\" \"lon_lowestmode\"\n",
      " [5] \"rh25\"           \"rh50\"           \"rh75\"           \"rh98\"          \n",
      " [9] \"agbd\"           \"agbd_se\"        \"agbd_t\"         \"agbd_t_se\"     \n",
      "GEDI dataframe has 19241 rows and  21 columns \n",
      "Reading in no.  39 GPKG file of  222 GPKG tiles for iso3 BaE \n"
     ]
    },
    {
     "name": "stderr",
     "output_type": "stream",
     "text": [
      "\u001b[36mℹ\u001b[39m \u001b[34m\u001b[34ms3://maap-ops-workspace/shared/leitoldv/GEDI_global_PA_v2/WDPA_gedi_L4A_tiles/tile_num_22051_L4A.gpkg\u001b[34m\u001b[39m already exists at \u001b[34m\u001b[34m/projects/.local/share/R/s3/maap-ops-workspace/shared/leitoldv/GEDI_global_PA_v2/WDPA_gedi_L4A_tiles/tile_num_22051_L4A.gpkg\u001b[34m\u001b[39m\n",
      "\n",
      "\u001b[36mℹ\u001b[39m \u001b[34m\u001b[34ms3://maap-ops-workspace/shared/leitoldv/GEDI_global_PA_v2/WDPA_gedi_L2A_tiles/tile_num_22051_L2A.gpkg\u001b[34m\u001b[39m already exists at \u001b[34m\u001b[34m/projects/.local/share/R/s3/maap-ops-workspace/shared/leitoldv/GEDI_global_PA_v2/WDPA_gedi_L2A_tiles/tile_num_22051_L2A.gpkg\u001b[34m\u001b[39m\n",
      "\n"
     ]
    },
    {
     "name": "stdout",
     "output_type": "stream",
     "text": [
      "GEDI dataframe for  39 GPKG file has 704048 rows and  12 columns \n",
      " [1] \"shot_number\"    \"filename\"       \"lat_lowestmode\" \"lon_lowestmode\"\n",
      " [5] \"rh25\"           \"rh50\"           \"rh75\"           \"rh98\"          \n",
      " [9] \"agbd\"           \"agbd_se\"        \"agbd_t\"         \"agbd_t_se\"     \n",
      "GEDI dataframe has 19241 rows and  21 columns \n",
      "Reading in no.  40 GPKG file of  222 GPKG tiles for iso3 BaE \n"
     ]
    },
    {
     "name": "stderr",
     "output_type": "stream",
     "text": [
      "\u001b[36mℹ\u001b[39m \u001b[34m\u001b[34ms3://maap-ops-workspace/shared/leitoldv/GEDI_global_PA_v2/WDPA_gedi_L4A_tiles/tile_num_22052_L4A.gpkg\u001b[34m\u001b[39m already exists at \u001b[34m\u001b[34m/projects/.local/share/R/s3/maap-ops-workspace/shared/leitoldv/GEDI_global_PA_v2/WDPA_gedi_L4A_tiles/tile_num_22052_L4A.gpkg\u001b[34m\u001b[39m\n",
      "\n",
      "\u001b[36mℹ\u001b[39m \u001b[34m\u001b[34ms3://maap-ops-workspace/shared/leitoldv/GEDI_global_PA_v2/WDPA_gedi_L2A_tiles/tile_num_22052_L2A.gpkg\u001b[34m\u001b[39m already exists at \u001b[34m\u001b[34m/projects/.local/share/R/s3/maap-ops-workspace/shared/leitoldv/GEDI_global_PA_v2/WDPA_gedi_L2A_tiles/tile_num_22052_L2A.gpkg\u001b[34m\u001b[39m\n",
      "\n"
     ]
    },
    {
     "name": "stdout",
     "output_type": "stream",
     "text": [
      "GEDI dataframe for  40 GPKG file has 976705 rows and  12 columns \n",
      " [1] \"shot_number\"    \"filename\"       \"lat_lowestmode\" \"lon_lowestmode\"\n",
      " [5] \"rh25\"           \"rh50\"           \"rh75\"           \"rh98\"          \n",
      " [9] \"agbd\"           \"agbd_se\"        \"agbd_t\"         \"agbd_t_se\"     \n",
      "GEDI dataframe has 19241 rows and  21 columns \n",
      "Reading in no.  41 GPKG file of  222 GPKG tiles for iso3 BaE \n"
     ]
    },
    {
     "name": "stderr",
     "output_type": "stream",
     "text": [
      "\u001b[36mℹ\u001b[39m \u001b[34m\u001b[34ms3://maap-ops-workspace/shared/leitoldv/GEDI_global_PA_v2/WDPA_gedi_L4A_tiles/tile_num_22054_L4A.gpkg\u001b[34m\u001b[39m already exists at \u001b[34m\u001b[34m/projects/.local/share/R/s3/maap-ops-workspace/shared/leitoldv/GEDI_global_PA_v2/WDPA_gedi_L4A_tiles/tile_num_22054_L4A.gpkg\u001b[34m\u001b[39m\n",
      "\n",
      "\u001b[36mℹ\u001b[39m \u001b[34m\u001b[34ms3://maap-ops-workspace/shared/leitoldv/GEDI_global_PA_v2/WDPA_gedi_L2A_tiles/tile_num_22054_L2A.gpkg\u001b[34m\u001b[39m already exists at \u001b[34m\u001b[34m/projects/.local/share/R/s3/maap-ops-workspace/shared/leitoldv/GEDI_global_PA_v2/WDPA_gedi_L2A_tiles/tile_num_22054_L2A.gpkg\u001b[34m\u001b[39m\n",
      "\n"
     ]
    },
    {
     "name": "stdout",
     "output_type": "stream",
     "text": [
      "GEDI dataframe for  41 GPKG file has 576788 rows and  12 columns \n",
      " [1] \"shot_number\"    \"filename\"       \"lat_lowestmode\" \"lon_lowestmode\"\n",
      " [5] \"rh25\"           \"rh50\"           \"rh75\"           \"rh98\"          \n",
      " [9] \"agbd\"           \"agbd_se\"        \"agbd_t\"         \"agbd_t_se\"     \n",
      "GEDI dataframe has 19241 rows and  21 columns \n",
      "Reading in no.  42 GPKG file of  222 GPKG tiles for iso3 BaE \n"
     ]
    },
    {
     "name": "stderr",
     "output_type": "stream",
     "text": [
      "\u001b[36mℹ\u001b[39m \u001b[34m\u001b[34ms3://maap-ops-workspace/shared/leitoldv/GEDI_global_PA_v2/WDPA_gedi_L4A_tiles/tile_num_22055_L4A.gpkg\u001b[34m\u001b[39m already exists at \u001b[34m\u001b[34m/projects/.local/share/R/s3/maap-ops-workspace/shared/leitoldv/GEDI_global_PA_v2/WDPA_gedi_L4A_tiles/tile_num_22055_L4A.gpkg\u001b[34m\u001b[39m\n",
      "\n",
      "\u001b[36mℹ\u001b[39m \u001b[34m\u001b[34ms3://maap-ops-workspace/shared/leitoldv/GEDI_global_PA_v2/WDPA_gedi_L2A_tiles/tile_num_22055_L2A.gpkg\u001b[34m\u001b[39m already exists at \u001b[34m\u001b[34m/projects/.local/share/R/s3/maap-ops-workspace/shared/leitoldv/GEDI_global_PA_v2/WDPA_gedi_L2A_tiles/tile_num_22055_L2A.gpkg\u001b[34m\u001b[39m\n",
      "\n"
     ]
    },
    {
     "name": "stdout",
     "output_type": "stream",
     "text": [
      "GEDI dataframe for  42 GPKG file has 711881 rows and  12 columns \n",
      " [1] \"shot_number\"    \"filename\"       \"lat_lowestmode\" \"lon_lowestmode\"\n",
      " [5] \"rh25\"           \"rh50\"           \"rh75\"           \"rh98\"          \n",
      " [9] \"agbd\"           \"agbd_se\"        \"agbd_t\"         \"agbd_t_se\"     \n",
      "GEDI dataframe has 19241 rows and  21 columns \n",
      "Reading in no.  43 GPKG file of  222 GPKG tiles for iso3 BaE \n"
     ]
    },
    {
     "name": "stderr",
     "output_type": "stream",
     "text": [
      "\u001b[36mℹ\u001b[39m \u001b[34m\u001b[34ms3://maap-ops-workspace/shared/leitoldv/GEDI_global_PA_v2/WDPA_gedi_L4A_tiles/tile_num_22056_L4A.gpkg\u001b[34m\u001b[39m already exists at \u001b[34m\u001b[34m/projects/.local/share/R/s3/maap-ops-workspace/shared/leitoldv/GEDI_global_PA_v2/WDPA_gedi_L4A_tiles/tile_num_22056_L4A.gpkg\u001b[34m\u001b[39m\n",
      "\n",
      "\u001b[36mℹ\u001b[39m \u001b[34m\u001b[34ms3://maap-ops-workspace/shared/leitoldv/GEDI_global_PA_v2/WDPA_gedi_L2A_tiles/tile_num_22056_L2A.gpkg\u001b[34m\u001b[39m already exists at \u001b[34m\u001b[34m/projects/.local/share/R/s3/maap-ops-workspace/shared/leitoldv/GEDI_global_PA_v2/WDPA_gedi_L2A_tiles/tile_num_22056_L2A.gpkg\u001b[34m\u001b[39m\n",
      "\n"
     ]
    },
    {
     "name": "stdout",
     "output_type": "stream",
     "text": [
      "GEDI dataframe for  43 GPKG file has 675780 rows and  12 columns \n",
      " [1] \"shot_number\"    \"filename\"       \"lat_lowestmode\" \"lon_lowestmode\"\n",
      " [5] \"rh25\"           \"rh50\"           \"rh75\"           \"rh98\"          \n",
      " [9] \"agbd\"           \"agbd_se\"        \"agbd_t\"         \"agbd_t_se\"     \n",
      "GEDI dataframe has 19241 rows and  21 columns \n",
      "Reading in no.  44 GPKG file of  222 GPKG tiles for iso3 BaE \n"
     ]
    },
    {
     "name": "stderr",
     "output_type": "stream",
     "text": [
      "\u001b[36mℹ\u001b[39m \u001b[34m\u001b[34ms3://maap-ops-workspace/shared/leitoldv/GEDI_global_PA_v2/WDPA_gedi_L4A_tiles/tile_num_22057_L4A.gpkg\u001b[34m\u001b[39m already exists at \u001b[34m\u001b[34m/projects/.local/share/R/s3/maap-ops-workspace/shared/leitoldv/GEDI_global_PA_v2/WDPA_gedi_L4A_tiles/tile_num_22057_L4A.gpkg\u001b[34m\u001b[39m\n",
      "\n",
      "\u001b[36mℹ\u001b[39m \u001b[34m\u001b[34ms3://maap-ops-workspace/shared/leitoldv/GEDI_global_PA_v2/WDPA_gedi_L2A_tiles/tile_num_22057_L2A.gpkg\u001b[34m\u001b[39m already exists at \u001b[34m\u001b[34m/projects/.local/share/R/s3/maap-ops-workspace/shared/leitoldv/GEDI_global_PA_v2/WDPA_gedi_L2A_tiles/tile_num_22057_L2A.gpkg\u001b[34m\u001b[39m\n",
      "\n"
     ]
    },
    {
     "name": "stdout",
     "output_type": "stream",
     "text": [
      "GEDI dataframe for  44 GPKG file has 693268 rows and  12 columns \n",
      " [1] \"shot_number\"    \"filename\"       \"lat_lowestmode\" \"lon_lowestmode\"\n",
      " [5] \"rh25\"           \"rh50\"           \"rh75\"           \"rh98\"          \n",
      " [9] \"agbd\"           \"agbd_se\"        \"agbd_t\"         \"agbd_t_se\"     \n",
      "GEDI dataframe has 19241 rows and  21 columns \n",
      "Reading in no.  45 GPKG file of  222 GPKG tiles for iso3 BaE \n"
     ]
    },
    {
     "name": "stderr",
     "output_type": "stream",
     "text": [
      "\u001b[36mℹ\u001b[39m \u001b[34m\u001b[34ms3://maap-ops-workspace/shared/leitoldv/GEDI_global_PA_v2/WDPA_gedi_L4A_tiles/tile_num_22058_L4A.gpkg\u001b[34m\u001b[39m already exists at \u001b[34m\u001b[34m/projects/.local/share/R/s3/maap-ops-workspace/shared/leitoldv/GEDI_global_PA_v2/WDPA_gedi_L4A_tiles/tile_num_22058_L4A.gpkg\u001b[34m\u001b[39m\n",
      "\n",
      "\u001b[36mℹ\u001b[39m \u001b[34m\u001b[34ms3://maap-ops-workspace/shared/leitoldv/GEDI_global_PA_v2/WDPA_gedi_L2A_tiles/tile_num_22058_L2A.gpkg\u001b[34m\u001b[39m already exists at \u001b[34m\u001b[34m/projects/.local/share/R/s3/maap-ops-workspace/shared/leitoldv/GEDI_global_PA_v2/WDPA_gedi_L2A_tiles/tile_num_22058_L2A.gpkg\u001b[34m\u001b[39m\n",
      "\n"
     ]
    },
    {
     "name": "stdout",
     "output_type": "stream",
     "text": [
      "GEDI dataframe for  45 GPKG file has 673315 rows and  12 columns \n",
      " [1] \"shot_number\"    \"filename\"       \"lat_lowestmode\" \"lon_lowestmode\"\n",
      " [5] \"rh25\"           \"rh50\"           \"rh75\"           \"rh98\"          \n",
      " [9] \"agbd\"           \"agbd_se\"        \"agbd_t\"         \"agbd_t_se\"     \n",
      "GEDI dataframe has 19241 rows and  21 columns \n",
      "Reading in no.  46 GPKG file of  222 GPKG tiles for iso3 BaE \n"
     ]
    },
    {
     "name": "stderr",
     "output_type": "stream",
     "text": [
      "\u001b[36mℹ\u001b[39m \u001b[34m\u001b[34ms3://maap-ops-workspace/shared/leitoldv/GEDI_global_PA_v2/WDPA_gedi_L4A_tiles/tile_num_22059_L4A.gpkg\u001b[34m\u001b[39m already exists at \u001b[34m\u001b[34m/projects/.local/share/R/s3/maap-ops-workspace/shared/leitoldv/GEDI_global_PA_v2/WDPA_gedi_L4A_tiles/tile_num_22059_L4A.gpkg\u001b[34m\u001b[39m\n",
      "\n",
      "\u001b[36mℹ\u001b[39m \u001b[34m\u001b[34ms3://maap-ops-workspace/shared/leitoldv/GEDI_global_PA_v2/WDPA_gedi_L2A_tiles/tile_num_22059_L2A.gpkg\u001b[34m\u001b[39m already exists at \u001b[34m\u001b[34m/projects/.local/share/R/s3/maap-ops-workspace/shared/leitoldv/GEDI_global_PA_v2/WDPA_gedi_L2A_tiles/tile_num_22059_L2A.gpkg\u001b[34m\u001b[39m\n",
      "\n"
     ]
    },
    {
     "name": "stdout",
     "output_type": "stream",
     "text": [
      "GEDI dataframe for  46 GPKG file has 750281 rows and  12 columns \n",
      " [1] \"shot_number\"    \"filename\"       \"lat_lowestmode\" \"lon_lowestmode\"\n",
      " [5] \"rh25\"           \"rh50\"           \"rh75\"           \"rh98\"          \n",
      " [9] \"agbd\"           \"agbd_se\"        \"agbd_t\"         \"agbd_t_se\"     \n",
      "GEDI dataframe has 19241 rows and  21 columns \n",
      "Reading in no.  47 GPKG file of  222 GPKG tiles for iso3 BaE \n"
     ]
    },
    {
     "name": "stderr",
     "output_type": "stream",
     "text": [
      "\u001b[36mℹ\u001b[39m \u001b[34m\u001b[34ms3://maap-ops-workspace/shared/leitoldv/GEDI_global_PA_v2/WDPA_gedi_L4A_tiles/tile_num_22060_L4A.gpkg\u001b[34m\u001b[39m already exists at \u001b[34m\u001b[34m/projects/.local/share/R/s3/maap-ops-workspace/shared/leitoldv/GEDI_global_PA_v2/WDPA_gedi_L4A_tiles/tile_num_22060_L4A.gpkg\u001b[34m\u001b[39m\n",
      "\n",
      "\u001b[36mℹ\u001b[39m \u001b[34m\u001b[34ms3://maap-ops-workspace/shared/leitoldv/GEDI_global_PA_v2/WDPA_gedi_L2A_tiles/tile_num_22060_L2A.gpkg\u001b[34m\u001b[39m already exists at \u001b[34m\u001b[34m/projects/.local/share/R/s3/maap-ops-workspace/shared/leitoldv/GEDI_global_PA_v2/WDPA_gedi_L2A_tiles/tile_num_22060_L2A.gpkg\u001b[34m\u001b[39m\n",
      "\n"
     ]
    },
    {
     "name": "stdout",
     "output_type": "stream",
     "text": [
      "GEDI dataframe for  47 GPKG file has 843804 rows and  12 columns \n",
      " [1] \"shot_number\"    \"filename\"       \"lat_lowestmode\" \"lon_lowestmode\"\n",
      " [5] \"rh25\"           \"rh50\"           \"rh75\"           \"rh98\"          \n",
      " [9] \"agbd\"           \"agbd_se\"        \"agbd_t\"         \"agbd_t_se\"     \n",
      "GEDI dataframe has 19241 rows and  21 columns \n",
      "Reading in no.  48 GPKG file of  222 GPKG tiles for iso3 BaE \n"
     ]
    },
    {
     "name": "stderr",
     "output_type": "stream",
     "text": [
      "\u001b[36mℹ\u001b[39m \u001b[34m\u001b[34ms3://maap-ops-workspace/shared/leitoldv/GEDI_global_PA_v2/WDPA_gedi_L4A_tiles/tile_num_22061_L4A.gpkg\u001b[34m\u001b[39m already exists at \u001b[34m\u001b[34m/projects/.local/share/R/s3/maap-ops-workspace/shared/leitoldv/GEDI_global_PA_v2/WDPA_gedi_L4A_tiles/tile_num_22061_L4A.gpkg\u001b[34m\u001b[39m\n",
      "\n",
      "\u001b[36mℹ\u001b[39m \u001b[34m\u001b[34ms3://maap-ops-workspace/shared/leitoldv/GEDI_global_PA_v2/WDPA_gedi_L2A_tiles/tile_num_22061_L2A.gpkg\u001b[34m\u001b[39m already exists at \u001b[34m\u001b[34m/projects/.local/share/R/s3/maap-ops-workspace/shared/leitoldv/GEDI_global_PA_v2/WDPA_gedi_L2A_tiles/tile_num_22061_L2A.gpkg\u001b[34m\u001b[39m\n",
      "\n"
     ]
    },
    {
     "name": "stdout",
     "output_type": "stream",
     "text": [
      "GEDI dataframe for  48 GPKG file has 1035772 rows and  12 columns \n",
      " [1] \"shot_number\"    \"filename\"       \"lat_lowestmode\" \"lon_lowestmode\"\n",
      " [5] \"rh25\"           \"rh50\"           \"rh75\"           \"rh98\"          \n",
      " [9] \"agbd\"           \"agbd_se\"        \"agbd_t\"         \"agbd_t_se\"     \n",
      "GEDI dataframe has 19241 rows and  21 columns \n",
      "Reading in no.  49 GPKG file of  222 GPKG tiles for iso3 BaE \n"
     ]
    },
    {
     "name": "stderr",
     "output_type": "stream",
     "text": [
      "\u001b[36mℹ\u001b[39m \u001b[34m\u001b[34ms3://maap-ops-workspace/shared/leitoldv/GEDI_global_PA_v2/WDPA_gedi_L4A_tiles/tile_num_22062_L4A.gpkg\u001b[34m\u001b[39m already exists at \u001b[34m\u001b[34m/projects/.local/share/R/s3/maap-ops-workspace/shared/leitoldv/GEDI_global_PA_v2/WDPA_gedi_L4A_tiles/tile_num_22062_L4A.gpkg\u001b[34m\u001b[39m\n",
      "\n",
      "\u001b[36mℹ\u001b[39m \u001b[34m\u001b[34ms3://maap-ops-workspace/shared/leitoldv/GEDI_global_PA_v2/WDPA_gedi_L2A_tiles/tile_num_22062_L2A.gpkg\u001b[34m\u001b[39m already exists at \u001b[34m\u001b[34m/projects/.local/share/R/s3/maap-ops-workspace/shared/leitoldv/GEDI_global_PA_v2/WDPA_gedi_L2A_tiles/tile_num_22062_L2A.gpkg\u001b[34m\u001b[39m\n",
      "\n"
     ]
    },
    {
     "name": "stdout",
     "output_type": "stream",
     "text": [
      "GEDI dataframe for  49 GPKG file has 773208 rows and  12 columns \n",
      " [1] \"shot_number\"    \"filename\"       \"lat_lowestmode\" \"lon_lowestmode\"\n",
      " [5] \"rh25\"           \"rh50\"           \"rh75\"           \"rh98\"          \n",
      " [9] \"agbd\"           \"agbd_se\"        \"agbd_t\"         \"agbd_t_se\"     \n",
      "GEDI dataframe has 19241 rows and  21 columns \n",
      "Reading in no.  50 GPKG file of  222 GPKG tiles for iso3 BaE \n"
     ]
    },
    {
     "name": "stderr",
     "output_type": "stream",
     "text": [
      "\u001b[36mℹ\u001b[39m \u001b[34m\u001b[34ms3://maap-ops-workspace/shared/leitoldv/GEDI_global_PA_v2/WDPA_gedi_L4A_tiles/tile_num_22063_L4A.gpkg\u001b[34m\u001b[39m already exists at \u001b[34m\u001b[34m/projects/.local/share/R/s3/maap-ops-workspace/shared/leitoldv/GEDI_global_PA_v2/WDPA_gedi_L4A_tiles/tile_num_22063_L4A.gpkg\u001b[34m\u001b[39m\n",
      "\n",
      "\u001b[36mℹ\u001b[39m \u001b[34m\u001b[34ms3://maap-ops-workspace/shared/leitoldv/GEDI_global_PA_v2/WDPA_gedi_L2A_tiles/tile_num_22063_L2A.gpkg\u001b[34m\u001b[39m already exists at \u001b[34m\u001b[34m/projects/.local/share/R/s3/maap-ops-workspace/shared/leitoldv/GEDI_global_PA_v2/WDPA_gedi_L2A_tiles/tile_num_22063_L2A.gpkg\u001b[34m\u001b[39m\n",
      "\n"
     ]
    },
    {
     "name": "stdout",
     "output_type": "stream",
     "text": [
      "GEDI dataframe for  50 GPKG file has 739944 rows and  12 columns \n",
      " [1] \"shot_number\"    \"filename\"       \"lat_lowestmode\" \"lon_lowestmode\"\n",
      " [5] \"rh25\"           \"rh50\"           \"rh75\"           \"rh98\"          \n",
      " [9] \"agbd\"           \"agbd_se\"        \"agbd_t\"         \"agbd_t_se\"     \n",
      "GEDI dataframe has 19241 rows and  21 columns \n",
      "Reading in no.  51 GPKG file of  222 GPKG tiles for iso3 BaE \n"
     ]
    },
    {
     "name": "stderr",
     "output_type": "stream",
     "text": [
      "\u001b[36mℹ\u001b[39m \u001b[34m\u001b[34ms3://maap-ops-workspace/shared/leitoldv/GEDI_global_PA_v2/WDPA_gedi_L4A_tiles/tile_num_22064_L4A.gpkg\u001b[34m\u001b[39m already exists at \u001b[34m\u001b[34m/projects/.local/share/R/s3/maap-ops-workspace/shared/leitoldv/GEDI_global_PA_v2/WDPA_gedi_L4A_tiles/tile_num_22064_L4A.gpkg\u001b[34m\u001b[39m\n",
      "\n",
      "\u001b[36mℹ\u001b[39m \u001b[34m\u001b[34ms3://maap-ops-workspace/shared/leitoldv/GEDI_global_PA_v2/WDPA_gedi_L2A_tiles/tile_num_22064_L2A.gpkg\u001b[34m\u001b[39m already exists at \u001b[34m\u001b[34m/projects/.local/share/R/s3/maap-ops-workspace/shared/leitoldv/GEDI_global_PA_v2/WDPA_gedi_L2A_tiles/tile_num_22064_L2A.gpkg\u001b[34m\u001b[39m\n",
      "\n"
     ]
    },
    {
     "name": "stdout",
     "output_type": "stream",
     "text": [
      "GEDI dataframe for  51 GPKG file has 609705 rows and  12 columns \n",
      " [1] \"shot_number\"    \"filename\"       \"lat_lowestmode\" \"lon_lowestmode\"\n",
      " [5] \"rh25\"           \"rh50\"           \"rh75\"           \"rh98\"          \n",
      " [9] \"agbd\"           \"agbd_se\"        \"agbd_t\"         \"agbd_t_se\"     \n",
      "GEDI dataframe has 19241 rows and  21 columns \n",
      "Reading in no.  52 GPKG file of  222 GPKG tiles for iso3 BaE \n"
     ]
    },
    {
     "name": "stderr",
     "output_type": "stream",
     "text": [
      "\u001b[36mℹ\u001b[39m \u001b[34m\u001b[34ms3://maap-ops-workspace/shared/leitoldv/GEDI_global_PA_v2/WDPA_gedi_L4A_tiles/tile_num_22065_L4A.gpkg\u001b[34m\u001b[39m already exists at \u001b[34m\u001b[34m/projects/.local/share/R/s3/maap-ops-workspace/shared/leitoldv/GEDI_global_PA_v2/WDPA_gedi_L4A_tiles/tile_num_22065_L4A.gpkg\u001b[34m\u001b[39m\n",
      "\n",
      "\u001b[36mℹ\u001b[39m \u001b[34m\u001b[34ms3://maap-ops-workspace/shared/leitoldv/GEDI_global_PA_v2/WDPA_gedi_L2A_tiles/tile_num_22065_L2A.gpkg\u001b[34m\u001b[39m already exists at \u001b[34m\u001b[34m/projects/.local/share/R/s3/maap-ops-workspace/shared/leitoldv/GEDI_global_PA_v2/WDPA_gedi_L2A_tiles/tile_num_22065_L2A.gpkg\u001b[34m\u001b[39m\n",
      "\n"
     ]
    },
    {
     "name": "stdout",
     "output_type": "stream",
     "text": [
      "GEDI dataframe for  52 GPKG file has 361094 rows and  12 columns \n",
      " [1] \"shot_number\"    \"filename\"       \"lat_lowestmode\" \"lon_lowestmode\"\n",
      " [5] \"rh25\"           \"rh50\"           \"rh75\"           \"rh98\"          \n",
      " [9] \"agbd\"           \"agbd_se\"        \"agbd_t\"         \"agbd_t_se\"     \n",
      "GEDI dataframe has 19241 rows and  21 columns \n",
      "Reading in no.  53 GPKG file of  222 GPKG tiles for iso3 BaE \n"
     ]
    },
    {
     "name": "stderr",
     "output_type": "stream",
     "text": [
      "\u001b[36mℹ\u001b[39m \u001b[34m\u001b[34ms3://maap-ops-workspace/shared/leitoldv/GEDI_global_PA_v2/WDPA_gedi_L4A_tiles/tile_num_22066_L4A.gpkg\u001b[34m\u001b[39m already exists at \u001b[34m\u001b[34m/projects/.local/share/R/s3/maap-ops-workspace/shared/leitoldv/GEDI_global_PA_v2/WDPA_gedi_L4A_tiles/tile_num_22066_L4A.gpkg\u001b[34m\u001b[39m\n",
      "\n",
      "\u001b[36mℹ\u001b[39m \u001b[34m\u001b[34ms3://maap-ops-workspace/shared/leitoldv/GEDI_global_PA_v2/WDPA_gedi_L2A_tiles/tile_num_22066_L2A.gpkg\u001b[34m\u001b[39m already exists at \u001b[34m\u001b[34m/projects/.local/share/R/s3/maap-ops-workspace/shared/leitoldv/GEDI_global_PA_v2/WDPA_gedi_L2A_tiles/tile_num_22066_L2A.gpkg\u001b[34m\u001b[39m\n",
      "\n"
     ]
    },
    {
     "name": "stdout",
     "output_type": "stream",
     "text": [
      "GEDI dataframe for  53 GPKG file has 567758 rows and  12 columns \n",
      " [1] \"shot_number\"    \"filename\"       \"lat_lowestmode\" \"lon_lowestmode\"\n",
      " [5] \"rh25\"           \"rh50\"           \"rh75\"           \"rh98\"          \n",
      " [9] \"agbd\"           \"agbd_se\"        \"agbd_t\"         \"agbd_t_se\"     \n",
      "GEDI dataframe has 19241 rows and  21 columns \n",
      "Reading in no.  54 GPKG file of  222 GPKG tiles for iso3 BaE \n"
     ]
    },
    {
     "name": "stderr",
     "output_type": "stream",
     "text": [
      "\u001b[36mℹ\u001b[39m \u001b[34m\u001b[34ms3://maap-ops-workspace/shared/leitoldv/GEDI_global_PA_v2/WDPA_gedi_L4A_tiles/tile_num_22067_L4A.gpkg\u001b[34m\u001b[39m already exists at \u001b[34m\u001b[34m/projects/.local/share/R/s3/maap-ops-workspace/shared/leitoldv/GEDI_global_PA_v2/WDPA_gedi_L4A_tiles/tile_num_22067_L4A.gpkg\u001b[34m\u001b[39m\n",
      "\n",
      "\u001b[36mℹ\u001b[39m \u001b[34m\u001b[34ms3://maap-ops-workspace/shared/leitoldv/GEDI_global_PA_v2/WDPA_gedi_L2A_tiles/tile_num_22067_L2A.gpkg\u001b[34m\u001b[39m already exists at \u001b[34m\u001b[34m/projects/.local/share/R/s3/maap-ops-workspace/shared/leitoldv/GEDI_global_PA_v2/WDPA_gedi_L2A_tiles/tile_num_22067_L2A.gpkg\u001b[34m\u001b[39m\n",
      "\n"
     ]
    },
    {
     "name": "stdout",
     "output_type": "stream",
     "text": [
      "GEDI dataframe for  54 GPKG file has 605798 rows and  12 columns \n",
      " [1] \"shot_number\"    \"filename\"       \"lat_lowestmode\" \"lon_lowestmode\"\n",
      " [5] \"rh25\"           \"rh50\"           \"rh75\"           \"rh98\"          \n",
      " [9] \"agbd\"           \"agbd_se\"        \"agbd_t\"         \"agbd_t_se\"     \n",
      "GEDI dataframe has 19241 rows and  21 columns \n",
      "Reading in no.  55 GPKG file of  222 GPKG tiles for iso3 BaE \n"
     ]
    },
    {
     "name": "stderr",
     "output_type": "stream",
     "text": [
      "\u001b[36mℹ\u001b[39m \u001b[34m\u001b[34ms3://maap-ops-workspace/shared/leitoldv/GEDI_global_PA_v2/WDPA_gedi_L4A_tiles/tile_num_22228_L4A.gpkg\u001b[34m\u001b[39m already exists at \u001b[34m\u001b[34m/projects/.local/share/R/s3/maap-ops-workspace/shared/leitoldv/GEDI_global_PA_v2/WDPA_gedi_L4A_tiles/tile_num_22228_L4A.gpkg\u001b[34m\u001b[39m\n",
      "\n",
      "\u001b[36mℹ\u001b[39m \u001b[34m\u001b[34ms3://maap-ops-workspace/shared/leitoldv/GEDI_global_PA_v2/WDPA_gedi_L2A_tiles/tile_num_22228_L2A.gpkg\u001b[34m\u001b[39m already exists at \u001b[34m\u001b[34m/projects/.local/share/R/s3/maap-ops-workspace/shared/leitoldv/GEDI_global_PA_v2/WDPA_gedi_L2A_tiles/tile_num_22228_L2A.gpkg\u001b[34m\u001b[39m\n",
      "\n"
     ]
    },
    {
     "name": "stdout",
     "output_type": "stream",
     "text": [
      "GEDI dataframe for  55 GPKG file has 523741 rows and  12 columns \n",
      " [1] \"shot_number\"    \"filename\"       \"lat_lowestmode\" \"lon_lowestmode\"\n",
      " [5] \"rh25\"           \"rh50\"           \"rh75\"           \"rh98\"          \n",
      " [9] \"agbd\"           \"agbd_se\"        \"agbd_t\"         \"agbd_t_se\"     \n",
      "GEDI dataframe has 19241 rows and  21 columns \n",
      "Reading in no.  56 GPKG file of  222 GPKG tiles for iso3 BaE \n"
     ]
    },
    {
     "name": "stderr",
     "output_type": "stream",
     "text": [
      "\u001b[36mℹ\u001b[39m \u001b[34m\u001b[34ms3://maap-ops-workspace/shared/leitoldv/GEDI_global_PA_v2/WDPA_gedi_L4A_tiles/tile_num_22229_L4A.gpkg\u001b[34m\u001b[39m already exists at \u001b[34m\u001b[34m/projects/.local/share/R/s3/maap-ops-workspace/shared/leitoldv/GEDI_global_PA_v2/WDPA_gedi_L4A_tiles/tile_num_22229_L4A.gpkg\u001b[34m\u001b[39m\n",
      "\n",
      "\u001b[36mℹ\u001b[39m \u001b[34m\u001b[34ms3://maap-ops-workspace/shared/leitoldv/GEDI_global_PA_v2/WDPA_gedi_L2A_tiles/tile_num_22229_L2A.gpkg\u001b[34m\u001b[39m already exists at \u001b[34m\u001b[34m/projects/.local/share/R/s3/maap-ops-workspace/shared/leitoldv/GEDI_global_PA_v2/WDPA_gedi_L2A_tiles/tile_num_22229_L2A.gpkg\u001b[34m\u001b[39m\n",
      "\n"
     ]
    },
    {
     "name": "stdout",
     "output_type": "stream",
     "text": [
      "GEDI dataframe for  56 GPKG file has 525881 rows and  12 columns \n",
      " [1] \"shot_number\"    \"filename\"       \"lat_lowestmode\" \"lon_lowestmode\"\n",
      " [5] \"rh25\"           \"rh50\"           \"rh75\"           \"rh98\"          \n",
      " [9] \"agbd\"           \"agbd_se\"        \"agbd_t\"         \"agbd_t_se\"     \n",
      "GEDI dataframe has 19241 rows and  21 columns \n",
      "Reading in no.  57 GPKG file of  222 GPKG tiles for iso3 BaE \n"
     ]
    },
    {
     "name": "stderr",
     "output_type": "stream",
     "text": [
      "\u001b[36mℹ\u001b[39m \u001b[34m\u001b[34ms3://maap-ops-workspace/shared/leitoldv/GEDI_global_PA_v2/WDPA_gedi_L4A_tiles/tile_num_22230_L4A.gpkg\u001b[34m\u001b[39m already exists at \u001b[34m\u001b[34m/projects/.local/share/R/s3/maap-ops-workspace/shared/leitoldv/GEDI_global_PA_v2/WDPA_gedi_L4A_tiles/tile_num_22230_L4A.gpkg\u001b[34m\u001b[39m\n",
      "\n",
      "\u001b[36mℹ\u001b[39m \u001b[34m\u001b[34ms3://maap-ops-workspace/shared/leitoldv/GEDI_global_PA_v2/WDPA_gedi_L2A_tiles/tile_num_22230_L2A.gpkg\u001b[34m\u001b[39m already exists at \u001b[34m\u001b[34m/projects/.local/share/R/s3/maap-ops-workspace/shared/leitoldv/GEDI_global_PA_v2/WDPA_gedi_L2A_tiles/tile_num_22230_L2A.gpkg\u001b[34m\u001b[39m\n",
      "\n"
     ]
    },
    {
     "name": "stdout",
     "output_type": "stream",
     "text": [
      "GEDI dataframe for  57 GPKG file has 657066 rows and  12 columns \n",
      " [1] \"shot_number\"    \"filename\"       \"lat_lowestmode\" \"lon_lowestmode\"\n",
      " [5] \"rh25\"           \"rh50\"           \"rh75\"           \"rh98\"          \n",
      " [9] \"agbd\"           \"agbd_se\"        \"agbd_t\"         \"agbd_t_se\"     \n",
      "GEDI dataframe has 19241 rows and  21 columns \n",
      "Reading in no.  58 GPKG file of  222 GPKG tiles for iso3 BaE \n"
     ]
    },
    {
     "name": "stderr",
     "output_type": "stream",
     "text": [
      "\u001b[36mℹ\u001b[39m \u001b[34m\u001b[34ms3://maap-ops-workspace/shared/leitoldv/GEDI_global_PA_v2/WDPA_gedi_L4A_tiles/tile_num_22231_L4A.gpkg\u001b[34m\u001b[39m already exists at \u001b[34m\u001b[34m/projects/.local/share/R/s3/maap-ops-workspace/shared/leitoldv/GEDI_global_PA_v2/WDPA_gedi_L4A_tiles/tile_num_22231_L4A.gpkg\u001b[34m\u001b[39m\n",
      "\n",
      "\u001b[36mℹ\u001b[39m \u001b[34m\u001b[34ms3://maap-ops-workspace/shared/leitoldv/GEDI_global_PA_v2/WDPA_gedi_L2A_tiles/tile_num_22231_L2A.gpkg\u001b[34m\u001b[39m already exists at \u001b[34m\u001b[34m/projects/.local/share/R/s3/maap-ops-workspace/shared/leitoldv/GEDI_global_PA_v2/WDPA_gedi_L2A_tiles/tile_num_22231_L2A.gpkg\u001b[34m\u001b[39m\n",
      "\n"
     ]
    },
    {
     "name": "stdout",
     "output_type": "stream",
     "text": [
      "GEDI dataframe for  58 GPKG file has 700681 rows and  12 columns \n",
      " [1] \"shot_number\"    \"filename\"       \"lat_lowestmode\" \"lon_lowestmode\"\n",
      " [5] \"rh25\"           \"rh50\"           \"rh75\"           \"rh98\"          \n",
      " [9] \"agbd\"           \"agbd_se\"        \"agbd_t\"         \"agbd_t_se\"     \n",
      "GEDI dataframe has 21312 rows and  21 columns \n",
      "Reading in no.  59 GPKG file of  222 GPKG tiles for iso3 BaE \n"
     ]
    },
    {
     "name": "stderr",
     "output_type": "stream",
     "text": [
      "\u001b[36mℹ\u001b[39m \u001b[34m\u001b[34ms3://maap-ops-workspace/shared/leitoldv/GEDI_global_PA_v2/WDPA_gedi_L4A_tiles/tile_num_22232_L4A.gpkg\u001b[34m\u001b[39m already exists at \u001b[34m\u001b[34m/projects/.local/share/R/s3/maap-ops-workspace/shared/leitoldv/GEDI_global_PA_v2/WDPA_gedi_L4A_tiles/tile_num_22232_L4A.gpkg\u001b[34m\u001b[39m\n",
      "\n",
      "\u001b[36mℹ\u001b[39m \u001b[34m\u001b[34ms3://maap-ops-workspace/shared/leitoldv/GEDI_global_PA_v2/WDPA_gedi_L2A_tiles/tile_num_22232_L2A.gpkg\u001b[34m\u001b[39m already exists at \u001b[34m\u001b[34m/projects/.local/share/R/s3/maap-ops-workspace/shared/leitoldv/GEDI_global_PA_v2/WDPA_gedi_L2A_tiles/tile_num_22232_L2A.gpkg\u001b[34m\u001b[39m\n",
      "\n"
     ]
    },
    {
     "name": "stdout",
     "output_type": "stream",
     "text": [
      "GEDI dataframe for  59 GPKG file has 668175 rows and  12 columns \n",
      " [1] \"shot_number\"    \"filename\"       \"lat_lowestmode\" \"lon_lowestmode\"\n",
      " [5] \"rh25\"           \"rh50\"           \"rh75\"           \"rh98\"          \n",
      " [9] \"agbd\"           \"agbd_se\"        \"agbd_t\"         \"agbd_t_se\"     \n",
      "GEDI dataframe has 25735 rows and  21 columns \n",
      "Reading in no.  60 GPKG file of  222 GPKG tiles for iso3 BaE \n"
     ]
    },
    {
     "name": "stderr",
     "output_type": "stream",
     "text": [
      "\u001b[36mℹ\u001b[39m \u001b[34m\u001b[34ms3://maap-ops-workspace/shared/leitoldv/GEDI_global_PA_v2/WDPA_gedi_L4A_tiles/tile_num_22233_L4A.gpkg\u001b[34m\u001b[39m already exists at \u001b[34m\u001b[34m/projects/.local/share/R/s3/maap-ops-workspace/shared/leitoldv/GEDI_global_PA_v2/WDPA_gedi_L4A_tiles/tile_num_22233_L4A.gpkg\u001b[34m\u001b[39m\n",
      "\n",
      "\u001b[36mℹ\u001b[39m \u001b[34m\u001b[34ms3://maap-ops-workspace/shared/leitoldv/GEDI_global_PA_v2/WDPA_gedi_L2A_tiles/tile_num_22233_L2A.gpkg\u001b[34m\u001b[39m already exists at \u001b[34m\u001b[34m/projects/.local/share/R/s3/maap-ops-workspace/shared/leitoldv/GEDI_global_PA_v2/WDPA_gedi_L2A_tiles/tile_num_22233_L2A.gpkg\u001b[34m\u001b[39m\n",
      "\n"
     ]
    },
    {
     "name": "stdout",
     "output_type": "stream",
     "text": [
      "GEDI dataframe for  60 GPKG file has 543576 rows and  12 columns \n",
      " [1] \"shot_number\"    \"filename\"       \"lat_lowestmode\" \"lon_lowestmode\"\n",
      " [5] \"rh25\"           \"rh50\"           \"rh75\"           \"rh98\"          \n",
      " [9] \"agbd\"           \"agbd_se\"        \"agbd_t\"         \"agbd_t_se\"     \n",
      "GEDI dataframe has 25735 rows and  21 columns \n",
      "Reading in no.  61 GPKG file of  222 GPKG tiles for iso3 BaE \n"
     ]
    },
    {
     "name": "stderr",
     "output_type": "stream",
     "text": [
      "\u001b[36mℹ\u001b[39m \u001b[34m\u001b[34ms3://maap-ops-workspace/shared/leitoldv/GEDI_global_PA_v2/WDPA_gedi_L4A_tiles/tile_num_22234_L4A.gpkg\u001b[34m\u001b[39m already exists at \u001b[34m\u001b[34m/projects/.local/share/R/s3/maap-ops-workspace/shared/leitoldv/GEDI_global_PA_v2/WDPA_gedi_L4A_tiles/tile_num_22234_L4A.gpkg\u001b[34m\u001b[39m\n",
      "\n",
      "\u001b[36mℹ\u001b[39m \u001b[34m\u001b[34ms3://maap-ops-workspace/shared/leitoldv/GEDI_global_PA_v2/WDPA_gedi_L2A_tiles/tile_num_22234_L2A.gpkg\u001b[34m\u001b[39m already exists at \u001b[34m\u001b[34m/projects/.local/share/R/s3/maap-ops-workspace/shared/leitoldv/GEDI_global_PA_v2/WDPA_gedi_L2A_tiles/tile_num_22234_L2A.gpkg\u001b[34m\u001b[39m\n",
      "\n"
     ]
    },
    {
     "name": "stdout",
     "output_type": "stream",
     "text": [
      "GEDI dataframe for  61 GPKG file has 806424 rows and  12 columns \n",
      " [1] \"shot_number\"    \"filename\"       \"lat_lowestmode\" \"lon_lowestmode\"\n",
      " [5] \"rh25\"           \"rh50\"           \"rh75\"           \"rh98\"          \n",
      " [9] \"agbd\"           \"agbd_se\"        \"agbd_t\"         \"agbd_t_se\"     \n",
      "GEDI dataframe has 25735 rows and  21 columns \n",
      "Reading in no.  62 GPKG file of  222 GPKG tiles for iso3 BaE \n"
     ]
    },
    {
     "name": "stderr",
     "output_type": "stream",
     "text": [
      "\u001b[36mℹ\u001b[39m \u001b[34m\u001b[34ms3://maap-ops-workspace/shared/leitoldv/GEDI_global_PA_v2/WDPA_gedi_L4A_tiles/tile_num_22235_L4A.gpkg\u001b[34m\u001b[39m already exists at \u001b[34m\u001b[34m/projects/.local/share/R/s3/maap-ops-workspace/shared/leitoldv/GEDI_global_PA_v2/WDPA_gedi_L4A_tiles/tile_num_22235_L4A.gpkg\u001b[34m\u001b[39m\n",
      "\n",
      "\u001b[36mℹ\u001b[39m \u001b[34m\u001b[34ms3://maap-ops-workspace/shared/leitoldv/GEDI_global_PA_v2/WDPA_gedi_L2A_tiles/tile_num_22235_L2A.gpkg\u001b[34m\u001b[39m already exists at \u001b[34m\u001b[34m/projects/.local/share/R/s3/maap-ops-workspace/shared/leitoldv/GEDI_global_PA_v2/WDPA_gedi_L2A_tiles/tile_num_22235_L2A.gpkg\u001b[34m\u001b[39m\n",
      "\n"
     ]
    },
    {
     "name": "stdout",
     "output_type": "stream",
     "text": [
      "GEDI dataframe for  62 GPKG file has 669919 rows and  12 columns \n",
      " [1] \"shot_number\"    \"filename\"       \"lat_lowestmode\" \"lon_lowestmode\"\n",
      " [5] \"rh25\"           \"rh50\"           \"rh75\"           \"rh98\"          \n",
      " [9] \"agbd\"           \"agbd_se\"        \"agbd_t\"         \"agbd_t_se\"     \n",
      "GEDI dataframe has 25822 rows and  21 columns \n",
      "Reading in no.  63 GPKG file of  222 GPKG tiles for iso3 BaE \n"
     ]
    },
    {
     "name": "stderr",
     "output_type": "stream",
     "text": [
      "\u001b[36mℹ\u001b[39m \u001b[34m\u001b[34ms3://maap-ops-workspace/shared/leitoldv/GEDI_global_PA_v2/WDPA_gedi_L4A_tiles/tile_num_22236_L4A.gpkg\u001b[34m\u001b[39m already exists at \u001b[34m\u001b[34m/projects/.local/share/R/s3/maap-ops-workspace/shared/leitoldv/GEDI_global_PA_v2/WDPA_gedi_L4A_tiles/tile_num_22236_L4A.gpkg\u001b[34m\u001b[39m\n",
      "\n",
      "\u001b[36mℹ\u001b[39m \u001b[34m\u001b[34ms3://maap-ops-workspace/shared/leitoldv/GEDI_global_PA_v2/WDPA_gedi_L2A_tiles/tile_num_22236_L2A.gpkg\u001b[34m\u001b[39m already exists at \u001b[34m\u001b[34m/projects/.local/share/R/s3/maap-ops-workspace/shared/leitoldv/GEDI_global_PA_v2/WDPA_gedi_L2A_tiles/tile_num_22236_L2A.gpkg\u001b[34m\u001b[39m\n",
      "\n"
     ]
    },
    {
     "name": "stdout",
     "output_type": "stream",
     "text": [
      "GEDI dataframe for  63 GPKG file has 740759 rows and  12 columns \n",
      " [1] \"shot_number\"    \"filename\"       \"lat_lowestmode\" \"lon_lowestmode\"\n",
      " [5] \"rh25\"           \"rh50\"           \"rh75\"           \"rh98\"          \n",
      " [9] \"agbd\"           \"agbd_se\"        \"agbd_t\"         \"agbd_t_se\"     \n",
      "GEDI dataframe has 25822 rows and  21 columns \n",
      "Reading in no.  64 GPKG file of  222 GPKG tiles for iso3 BaE \n"
     ]
    },
    {
     "name": "stderr",
     "output_type": "stream",
     "text": [
      "\u001b[36mℹ\u001b[39m \u001b[34m\u001b[34ms3://maap-ops-workspace/shared/leitoldv/GEDI_global_PA_v2/WDPA_gedi_L4A_tiles/tile_num_22237_L4A.gpkg\u001b[34m\u001b[39m already exists at \u001b[34m\u001b[34m/projects/.local/share/R/s3/maap-ops-workspace/shared/leitoldv/GEDI_global_PA_v2/WDPA_gedi_L4A_tiles/tile_num_22237_L4A.gpkg\u001b[34m\u001b[39m\n",
      "\n",
      "\u001b[36mℹ\u001b[39m \u001b[34m\u001b[34ms3://maap-ops-workspace/shared/leitoldv/GEDI_global_PA_v2/WDPA_gedi_L2A_tiles/tile_num_22237_L2A.gpkg\u001b[34m\u001b[39m already exists at \u001b[34m\u001b[34m/projects/.local/share/R/s3/maap-ops-workspace/shared/leitoldv/GEDI_global_PA_v2/WDPA_gedi_L2A_tiles/tile_num_22237_L2A.gpkg\u001b[34m\u001b[39m\n",
      "\n"
     ]
    },
    {
     "name": "stdout",
     "output_type": "stream",
     "text": [
      "GEDI dataframe for  64 GPKG file has 733576 rows and  12 columns \n",
      " [1] \"shot_number\"    \"filename\"       \"lat_lowestmode\" \"lon_lowestmode\"\n",
      " [5] \"rh25\"           \"rh50\"           \"rh75\"           \"rh98\"          \n",
      " [9] \"agbd\"           \"agbd_se\"        \"agbd_t\"         \"agbd_t_se\"     \n",
      "GEDI dataframe has 25822 rows and  21 columns \n",
      "Reading in no.  65 GPKG file of  222 GPKG tiles for iso3 BaE \n"
     ]
    },
    {
     "name": "stderr",
     "output_type": "stream",
     "text": [
      "\u001b[36mℹ\u001b[39m \u001b[34m\u001b[34ms3://maap-ops-workspace/shared/leitoldv/GEDI_global_PA_v2/WDPA_gedi_L4A_tiles/tile_num_22238_L4A.gpkg\u001b[34m\u001b[39m already exists at \u001b[34m\u001b[34m/projects/.local/share/R/s3/maap-ops-workspace/shared/leitoldv/GEDI_global_PA_v2/WDPA_gedi_L4A_tiles/tile_num_22238_L4A.gpkg\u001b[34m\u001b[39m\n",
      "\n",
      "\u001b[36mℹ\u001b[39m \u001b[34m\u001b[34ms3://maap-ops-workspace/shared/leitoldv/GEDI_global_PA_v2/WDPA_gedi_L2A_tiles/tile_num_22238_L2A.gpkg\u001b[34m\u001b[39m already exists at \u001b[34m\u001b[34m/projects/.local/share/R/s3/maap-ops-workspace/shared/leitoldv/GEDI_global_PA_v2/WDPA_gedi_L2A_tiles/tile_num_22238_L2A.gpkg\u001b[34m\u001b[39m\n",
      "\n"
     ]
    },
    {
     "name": "stdout",
     "output_type": "stream",
     "text": [
      "GEDI dataframe for  65 GPKG file has 828330 rows and  12 columns \n",
      " [1] \"shot_number\"    \"filename\"       \"lat_lowestmode\" \"lon_lowestmode\"\n",
      " [5] \"rh25\"           \"rh50\"           \"rh75\"           \"rh98\"          \n",
      " [9] \"agbd\"           \"agbd_se\"        \"agbd_t\"         \"agbd_t_se\"     \n",
      "GEDI dataframe has 25822 rows and  21 columns \n",
      "Reading in no.  66 GPKG file of  222 GPKG tiles for iso3 BaE \n"
     ]
    },
    {
     "name": "stderr",
     "output_type": "stream",
     "text": [
      "\u001b[36mℹ\u001b[39m \u001b[34m\u001b[34ms3://maap-ops-workspace/shared/leitoldv/GEDI_global_PA_v2/WDPA_gedi_L4A_tiles/tile_num_22239_L4A.gpkg\u001b[34m\u001b[39m already exists at \u001b[34m\u001b[34m/projects/.local/share/R/s3/maap-ops-workspace/shared/leitoldv/GEDI_global_PA_v2/WDPA_gedi_L4A_tiles/tile_num_22239_L4A.gpkg\u001b[34m\u001b[39m\n",
      "\n",
      "\u001b[36mℹ\u001b[39m \u001b[34m\u001b[34ms3://maap-ops-workspace/shared/leitoldv/GEDI_global_PA_v2/WDPA_gedi_L2A_tiles/tile_num_22239_L2A.gpkg\u001b[34m\u001b[39m already exists at \u001b[34m\u001b[34m/projects/.local/share/R/s3/maap-ops-workspace/shared/leitoldv/GEDI_global_PA_v2/WDPA_gedi_L2A_tiles/tile_num_22239_L2A.gpkg\u001b[34m\u001b[39m\n",
      "\n"
     ]
    },
    {
     "name": "stdout",
     "output_type": "stream",
     "text": [
      "GEDI dataframe for  66 GPKG file has 857738 rows and  12 columns \n",
      " [1] \"shot_number\"    \"filename\"       \"lat_lowestmode\" \"lon_lowestmode\"\n",
      " [5] \"rh25\"           \"rh50\"           \"rh75\"           \"rh98\"          \n",
      " [9] \"agbd\"           \"agbd_se\"        \"agbd_t\"         \"agbd_t_se\"     \n",
      "GEDI dataframe has 67085 rows and  21 columns \n",
      "Reading in no.  67 GPKG file of  222 GPKG tiles for iso3 BaE \n"
     ]
    },
    {
     "name": "stderr",
     "output_type": "stream",
     "text": [
      "\u001b[36mℹ\u001b[39m \u001b[34m\u001b[34ms3://maap-ops-workspace/shared/leitoldv/GEDI_global_PA_v2/WDPA_gedi_L4A_tiles/tile_num_22240_L4A.gpkg\u001b[34m\u001b[39m already exists at \u001b[34m\u001b[34m/projects/.local/share/R/s3/maap-ops-workspace/shared/leitoldv/GEDI_global_PA_v2/WDPA_gedi_L4A_tiles/tile_num_22240_L4A.gpkg\u001b[34m\u001b[39m\n",
      "\n",
      "\u001b[36mℹ\u001b[39m \u001b[34m\u001b[34ms3://maap-ops-workspace/shared/leitoldv/GEDI_global_PA_v2/WDPA_gedi_L2A_tiles/tile_num_22240_L2A.gpkg\u001b[34m\u001b[39m already exists at \u001b[34m\u001b[34m/projects/.local/share/R/s3/maap-ops-workspace/shared/leitoldv/GEDI_global_PA_v2/WDPA_gedi_L2A_tiles/tile_num_22240_L2A.gpkg\u001b[34m\u001b[39m\n",
      "\n"
     ]
    },
    {
     "name": "stdout",
     "output_type": "stream",
     "text": [
      "GEDI dataframe for  67 GPKG file has 711761 rows and  12 columns \n",
      " [1] \"shot_number\"    \"filename\"       \"lat_lowestmode\" \"lon_lowestmode\"\n",
      " [5] \"rh25\"           \"rh50\"           \"rh75\"           \"rh98\"          \n",
      " [9] \"agbd\"           \"agbd_se\"        \"agbd_t\"         \"agbd_t_se\"     \n",
      "GEDI dataframe has 67085 rows and  21 columns \n",
      "Reading in no.  68 GPKG file of  222 GPKG tiles for iso3 BaE \n"
     ]
    },
    {
     "name": "stderr",
     "output_type": "stream",
     "text": [
      "\u001b[36mℹ\u001b[39m \u001b[34m\u001b[34ms3://maap-ops-workspace/shared/leitoldv/GEDI_global_PA_v2/WDPA_gedi_L4A_tiles/tile_num_22241_L4A.gpkg\u001b[34m\u001b[39m already exists at \u001b[34m\u001b[34m/projects/.local/share/R/s3/maap-ops-workspace/shared/leitoldv/GEDI_global_PA_v2/WDPA_gedi_L4A_tiles/tile_num_22241_L4A.gpkg\u001b[34m\u001b[39m\n",
      "\n",
      "\u001b[36mℹ\u001b[39m \u001b[34m\u001b[34ms3://maap-ops-workspace/shared/leitoldv/GEDI_global_PA_v2/WDPA_gedi_L2A_tiles/tile_num_22241_L2A.gpkg\u001b[34m\u001b[39m already exists at \u001b[34m\u001b[34m/projects/.local/share/R/s3/maap-ops-workspace/shared/leitoldv/GEDI_global_PA_v2/WDPA_gedi_L2A_tiles/tile_num_22241_L2A.gpkg\u001b[34m\u001b[39m\n",
      "\n"
     ]
    },
    {
     "name": "stdout",
     "output_type": "stream",
     "text": [
      "GEDI dataframe for  68 GPKG file has 796492 rows and  12 columns \n",
      " [1] \"shot_number\"    \"filename\"       \"lat_lowestmode\" \"lon_lowestmode\"\n",
      " [5] \"rh25\"           \"rh50\"           \"rh75\"           \"rh98\"          \n",
      " [9] \"agbd\"           \"agbd_se\"        \"agbd_t\"         \"agbd_t_se\"     \n",
      "GEDI dataframe has 67085 rows and  21 columns \n",
      "Reading in no.  69 GPKG file of  222 GPKG tiles for iso3 BaE \n"
     ]
    },
    {
     "name": "stderr",
     "output_type": "stream",
     "text": [
      "\u001b[36mℹ\u001b[39m \u001b[34m\u001b[34ms3://maap-ops-workspace/shared/leitoldv/GEDI_global_PA_v2/WDPA_gedi_L4A_tiles/tile_num_22242_L4A.gpkg\u001b[34m\u001b[39m already exists at \u001b[34m\u001b[34m/projects/.local/share/R/s3/maap-ops-workspace/shared/leitoldv/GEDI_global_PA_v2/WDPA_gedi_L4A_tiles/tile_num_22242_L4A.gpkg\u001b[34m\u001b[39m\n",
      "\n",
      "\u001b[36mℹ\u001b[39m \u001b[34m\u001b[34ms3://maap-ops-workspace/shared/leitoldv/GEDI_global_PA_v2/WDPA_gedi_L2A_tiles/tile_num_22242_L2A.gpkg\u001b[34m\u001b[39m already exists at \u001b[34m\u001b[34m/projects/.local/share/R/s3/maap-ops-workspace/shared/leitoldv/GEDI_global_PA_v2/WDPA_gedi_L2A_tiles/tile_num_22242_L2A.gpkg\u001b[34m\u001b[39m\n",
      "\n"
     ]
    },
    {
     "name": "stdout",
     "output_type": "stream",
     "text": [
      "GEDI dataframe for  69 GPKG file has 790576 rows and  12 columns \n",
      " [1] \"shot_number\"    \"filename\"       \"lat_lowestmode\" \"lon_lowestmode\"\n",
      " [5] \"rh25\"           \"rh50\"           \"rh75\"           \"rh98\"          \n",
      " [9] \"agbd\"           \"agbd_se\"        \"agbd_t\"         \"agbd_t_se\"     \n",
      "GEDI dataframe has 67085 rows and  21 columns \n",
      "Reading in no.  70 GPKG file of  222 GPKG tiles for iso3 BaE \n"
     ]
    },
    {
     "name": "stderr",
     "output_type": "stream",
     "text": [
      "\u001b[36mℹ\u001b[39m \u001b[34m\u001b[34ms3://maap-ops-workspace/shared/leitoldv/GEDI_global_PA_v2/WDPA_gedi_L4A_tiles/tile_num_22243_L4A.gpkg\u001b[34m\u001b[39m already exists at \u001b[34m\u001b[34m/projects/.local/share/R/s3/maap-ops-workspace/shared/leitoldv/GEDI_global_PA_v2/WDPA_gedi_L4A_tiles/tile_num_22243_L4A.gpkg\u001b[34m\u001b[39m\n",
      "\n",
      "\u001b[36mℹ\u001b[39m \u001b[34m\u001b[34ms3://maap-ops-workspace/shared/leitoldv/GEDI_global_PA_v2/WDPA_gedi_L2A_tiles/tile_num_22243_L2A.gpkg\u001b[34m\u001b[39m already exists at \u001b[34m\u001b[34m/projects/.local/share/R/s3/maap-ops-workspace/shared/leitoldv/GEDI_global_PA_v2/WDPA_gedi_L2A_tiles/tile_num_22243_L2A.gpkg\u001b[34m\u001b[39m\n",
      "\n"
     ]
    },
    {
     "name": "stdout",
     "output_type": "stream",
     "text": [
      "GEDI dataframe for  70 GPKG file has 662089 rows and  12 columns \n",
      " [1] \"shot_number\"    \"filename\"       \"lat_lowestmode\" \"lon_lowestmode\"\n",
      " [5] \"rh25\"           \"rh50\"           \"rh75\"           \"rh98\"          \n",
      " [9] \"agbd\"           \"agbd_se\"        \"agbd_t\"         \"agbd_t_se\"     \n",
      "GEDI dataframe has 67125 rows and  21 columns \n",
      "Reading in no.  71 GPKG file of  222 GPKG tiles for iso3 BaE \n"
     ]
    },
    {
     "name": "stderr",
     "output_type": "stream",
     "text": [
      "\u001b[36mℹ\u001b[39m \u001b[34m\u001b[34ms3://maap-ops-workspace/shared/leitoldv/GEDI_global_PA_v2/WDPA_gedi_L4A_tiles/tile_num_22244_L4A.gpkg\u001b[34m\u001b[39m already exists at \u001b[34m\u001b[34m/projects/.local/share/R/s3/maap-ops-workspace/shared/leitoldv/GEDI_global_PA_v2/WDPA_gedi_L4A_tiles/tile_num_22244_L4A.gpkg\u001b[34m\u001b[39m\n",
      "\n",
      "\u001b[36mℹ\u001b[39m \u001b[34m\u001b[34ms3://maap-ops-workspace/shared/leitoldv/GEDI_global_PA_v2/WDPA_gedi_L2A_tiles/tile_num_22244_L2A.gpkg\u001b[34m\u001b[39m already exists at \u001b[34m\u001b[34m/projects/.local/share/R/s3/maap-ops-workspace/shared/leitoldv/GEDI_global_PA_v2/WDPA_gedi_L2A_tiles/tile_num_22244_L2A.gpkg\u001b[34m\u001b[39m\n",
      "\n"
     ]
    },
    {
     "name": "stdout",
     "output_type": "stream",
     "text": [
      "GEDI dataframe for  71 GPKG file has 601125 rows and  12 columns \n",
      " [1] \"shot_number\"    \"filename\"       \"lat_lowestmode\" \"lon_lowestmode\"\n",
      " [5] \"rh25\"           \"rh50\"           \"rh75\"           \"rh98\"          \n",
      " [9] \"agbd\"           \"agbd_se\"        \"agbd_t\"         \"agbd_t_se\"     \n",
      "GEDI dataframe has 67125 rows and  21 columns \n",
      "Reading in no.  72 GPKG file of  222 GPKG tiles for iso3 BaE \n"
     ]
    },
    {
     "name": "stderr",
     "output_type": "stream",
     "text": [
      "\u001b[36mℹ\u001b[39m \u001b[34m\u001b[34ms3://maap-ops-workspace/shared/leitoldv/GEDI_global_PA_v2/WDPA_gedi_L4A_tiles/tile_num_22245_L4A.gpkg\u001b[34m\u001b[39m already exists at \u001b[34m\u001b[34m/projects/.local/share/R/s3/maap-ops-workspace/shared/leitoldv/GEDI_global_PA_v2/WDPA_gedi_L4A_tiles/tile_num_22245_L4A.gpkg\u001b[34m\u001b[39m\n",
      "\n",
      "\u001b[36mℹ\u001b[39m \u001b[34m\u001b[34ms3://maap-ops-workspace/shared/leitoldv/GEDI_global_PA_v2/WDPA_gedi_L2A_tiles/tile_num_22245_L2A.gpkg\u001b[34m\u001b[39m already exists at \u001b[34m\u001b[34m/projects/.local/share/R/s3/maap-ops-workspace/shared/leitoldv/GEDI_global_PA_v2/WDPA_gedi_L2A_tiles/tile_num_22245_L2A.gpkg\u001b[34m\u001b[39m\n",
      "\n"
     ]
    },
    {
     "name": "stdout",
     "output_type": "stream",
     "text": [
      "GEDI dataframe for  72 GPKG file has 501599 rows and  12 columns \n",
      " [1] \"shot_number\"    \"filename\"       \"lat_lowestmode\" \"lon_lowestmode\"\n",
      " [5] \"rh25\"           \"rh50\"           \"rh75\"           \"rh98\"          \n",
      " [9] \"agbd\"           \"agbd_se\"        \"agbd_t\"         \"agbd_t_se\"     \n",
      "GEDI dataframe has 67125 rows and  21 columns \n",
      "Reading in no.  73 GPKG file of  222 GPKG tiles for iso3 BaE \n"
     ]
    },
    {
     "name": "stderr",
     "output_type": "stream",
     "text": [
      "\u001b[36mℹ\u001b[39m \u001b[34m\u001b[34ms3://maap-ops-workspace/shared/leitoldv/GEDI_global_PA_v2/WDPA_gedi_L4A_tiles/tile_num_22246_L4A.gpkg\u001b[34m\u001b[39m already exists at \u001b[34m\u001b[34m/projects/.local/share/R/s3/maap-ops-workspace/shared/leitoldv/GEDI_global_PA_v2/WDPA_gedi_L4A_tiles/tile_num_22246_L4A.gpkg\u001b[34m\u001b[39m\n",
      "\n",
      "\u001b[36mℹ\u001b[39m \u001b[34m\u001b[34ms3://maap-ops-workspace/shared/leitoldv/GEDI_global_PA_v2/WDPA_gedi_L2A_tiles/tile_num_22246_L2A.gpkg\u001b[34m\u001b[39m already exists at \u001b[34m\u001b[34m/projects/.local/share/R/s3/maap-ops-workspace/shared/leitoldv/GEDI_global_PA_v2/WDPA_gedi_L2A_tiles/tile_num_22246_L2A.gpkg\u001b[34m\u001b[39m\n",
      "\n"
     ]
    },
    {
     "name": "stdout",
     "output_type": "stream",
     "text": [
      "GEDI dataframe for  73 GPKG file has 524843 rows and  12 columns \n",
      " [1] \"shot_number\"    \"filename\"       \"lat_lowestmode\" \"lon_lowestmode\"\n",
      " [5] \"rh25\"           \"rh50\"           \"rh75\"           \"rh98\"          \n",
      " [9] \"agbd\"           \"agbd_se\"        \"agbd_t\"         \"agbd_t_se\"     \n",
      "GEDI dataframe has 67125 rows and  21 columns \n",
      "Reading in no.  74 GPKG file of  222 GPKG tiles for iso3 BaE \n"
     ]
    },
    {
     "name": "stderr",
     "output_type": "stream",
     "text": [
      "\u001b[36mℹ\u001b[39m \u001b[34m\u001b[34ms3://maap-ops-workspace/shared/leitoldv/GEDI_global_PA_v2/WDPA_gedi_L4A_tiles/tile_num_22408_L4A.gpkg\u001b[34m\u001b[39m already exists at \u001b[34m\u001b[34m/projects/.local/share/R/s3/maap-ops-workspace/shared/leitoldv/GEDI_global_PA_v2/WDPA_gedi_L4A_tiles/tile_num_22408_L4A.gpkg\u001b[34m\u001b[39m\n",
      "\n",
      "\u001b[36mℹ\u001b[39m \u001b[34m\u001b[34ms3://maap-ops-workspace/shared/leitoldv/GEDI_global_PA_v2/WDPA_gedi_L2A_tiles/tile_num_22408_L2A.gpkg\u001b[34m\u001b[39m already exists at \u001b[34m\u001b[34m/projects/.local/share/R/s3/maap-ops-workspace/shared/leitoldv/GEDI_global_PA_v2/WDPA_gedi_L2A_tiles/tile_num_22408_L2A.gpkg\u001b[34m\u001b[39m\n",
      "\n"
     ]
    },
    {
     "name": "stdout",
     "output_type": "stream",
     "text": [
      "GEDI dataframe for  74 GPKG file has 695886 rows and  12 columns \n",
      " [1] \"shot_number\"    \"filename\"       \"lat_lowestmode\" \"lon_lowestmode\"\n",
      " [5] \"rh25\"           \"rh50\"           \"rh75\"           \"rh98\"          \n",
      " [9] \"agbd\"           \"agbd_se\"        \"agbd_t\"         \"agbd_t_se\"     \n",
      "GEDI dataframe has 67125 rows and  21 columns \n",
      "Reading in no.  75 GPKG file of  222 GPKG tiles for iso3 BaE \n"
     ]
    },
    {
     "name": "stderr",
     "output_type": "stream",
     "text": [
      "\u001b[36mℹ\u001b[39m \u001b[34m\u001b[34ms3://maap-ops-workspace/shared/leitoldv/GEDI_global_PA_v2/WDPA_gedi_L4A_tiles/tile_num_22409_L4A.gpkg\u001b[34m\u001b[39m already exists at \u001b[34m\u001b[34m/projects/.local/share/R/s3/maap-ops-workspace/shared/leitoldv/GEDI_global_PA_v2/WDPA_gedi_L4A_tiles/tile_num_22409_L4A.gpkg\u001b[34m\u001b[39m\n",
      "\n",
      "\u001b[36mℹ\u001b[39m \u001b[34m\u001b[34ms3://maap-ops-workspace/shared/leitoldv/GEDI_global_PA_v2/WDPA_gedi_L2A_tiles/tile_num_22409_L2A.gpkg\u001b[34m\u001b[39m already exists at \u001b[34m\u001b[34m/projects/.local/share/R/s3/maap-ops-workspace/shared/leitoldv/GEDI_global_PA_v2/WDPA_gedi_L2A_tiles/tile_num_22409_L2A.gpkg\u001b[34m\u001b[39m\n",
      "\n"
     ]
    },
    {
     "name": "stdout",
     "output_type": "stream",
     "text": [
      "GEDI dataframe for  75 GPKG file has 633513 rows and  12 columns \n",
      " [1] \"shot_number\"    \"filename\"       \"lat_lowestmode\" \"lon_lowestmode\"\n",
      " [5] \"rh25\"           \"rh50\"           \"rh75\"           \"rh98\"          \n",
      " [9] \"agbd\"           \"agbd_se\"        \"agbd_t\"         \"agbd_t_se\"     \n",
      "GEDI dataframe has 67125 rows and  21 columns \n",
      "Reading in no.  76 GPKG file of  222 GPKG tiles for iso3 BaE \n"
     ]
    },
    {
     "name": "stderr",
     "output_type": "stream",
     "text": [
      "\u001b[36mℹ\u001b[39m \u001b[34m\u001b[34ms3://maap-ops-workspace/shared/leitoldv/GEDI_global_PA_v2/WDPA_gedi_L4A_tiles/tile_num_22410_L4A.gpkg\u001b[34m\u001b[39m already exists at \u001b[34m\u001b[34m/projects/.local/share/R/s3/maap-ops-workspace/shared/leitoldv/GEDI_global_PA_v2/WDPA_gedi_L4A_tiles/tile_num_22410_L4A.gpkg\u001b[34m\u001b[39m\n",
      "\n",
      "\u001b[36mℹ\u001b[39m \u001b[34m\u001b[34ms3://maap-ops-workspace/shared/leitoldv/GEDI_global_PA_v2/WDPA_gedi_L2A_tiles/tile_num_22410_L2A.gpkg\u001b[34m\u001b[39m already exists at \u001b[34m\u001b[34m/projects/.local/share/R/s3/maap-ops-workspace/shared/leitoldv/GEDI_global_PA_v2/WDPA_gedi_L2A_tiles/tile_num_22410_L2A.gpkg\u001b[34m\u001b[39m\n",
      "\n"
     ]
    },
    {
     "name": "stdout",
     "output_type": "stream",
     "text": [
      "GEDI dataframe for  76 GPKG file has 798921 rows and  12 columns \n",
      " [1] \"shot_number\"    \"filename\"       \"lat_lowestmode\" \"lon_lowestmode\"\n",
      " [5] \"rh25\"           \"rh50\"           \"rh75\"           \"rh98\"          \n",
      " [9] \"agbd\"           \"agbd_se\"        \"agbd_t\"         \"agbd_t_se\"     \n",
      "GEDI dataframe has 67125 rows and  21 columns \n",
      "Reading in no.  77 GPKG file of  222 GPKG tiles for iso3 BaE \n"
     ]
    },
    {
     "name": "stderr",
     "output_type": "stream",
     "text": [
      "\u001b[36mℹ\u001b[39m \u001b[34m\u001b[34ms3://maap-ops-workspace/shared/leitoldv/GEDI_global_PA_v2/WDPA_gedi_L4A_tiles/tile_num_22411_L4A.gpkg\u001b[34m\u001b[39m already exists at \u001b[34m\u001b[34m/projects/.local/share/R/s3/maap-ops-workspace/shared/leitoldv/GEDI_global_PA_v2/WDPA_gedi_L4A_tiles/tile_num_22411_L4A.gpkg\u001b[34m\u001b[39m\n",
      "\n",
      "\u001b[36mℹ\u001b[39m \u001b[34m\u001b[34ms3://maap-ops-workspace/shared/leitoldv/GEDI_global_PA_v2/WDPA_gedi_L2A_tiles/tile_num_22411_L2A.gpkg\u001b[34m\u001b[39m already exists at \u001b[34m\u001b[34m/projects/.local/share/R/s3/maap-ops-workspace/shared/leitoldv/GEDI_global_PA_v2/WDPA_gedi_L2A_tiles/tile_num_22411_L2A.gpkg\u001b[34m\u001b[39m\n",
      "\n"
     ]
    },
    {
     "name": "stdout",
     "output_type": "stream",
     "text": [
      "GEDI dataframe for  77 GPKG file has 713297 rows and  12 columns \n",
      " [1] \"shot_number\"    \"filename\"       \"lat_lowestmode\" \"lon_lowestmode\"\n",
      " [5] \"rh25\"           \"rh50\"           \"rh75\"           \"rh98\"          \n",
      " [9] \"agbd\"           \"agbd_se\"        \"agbd_t\"         \"agbd_t_se\"     \n",
      "GEDI dataframe has 67125 rows and  21 columns \n",
      "Reading in no.  78 GPKG file of  222 GPKG tiles for iso3 BaE \n"
     ]
    },
    {
     "name": "stderr",
     "output_type": "stream",
     "text": [
      "\u001b[36mℹ\u001b[39m \u001b[34m\u001b[34ms3://maap-ops-workspace/shared/leitoldv/GEDI_global_PA_v2/WDPA_gedi_L4A_tiles/tile_num_22412_L4A.gpkg\u001b[34m\u001b[39m already exists at \u001b[34m\u001b[34m/projects/.local/share/R/s3/maap-ops-workspace/shared/leitoldv/GEDI_global_PA_v2/WDPA_gedi_L4A_tiles/tile_num_22412_L4A.gpkg\u001b[34m\u001b[39m\n",
      "\n",
      "\u001b[36mℹ\u001b[39m \u001b[34m\u001b[34ms3://maap-ops-workspace/shared/leitoldv/GEDI_global_PA_v2/WDPA_gedi_L2A_tiles/tile_num_22412_L2A.gpkg\u001b[34m\u001b[39m already exists at \u001b[34m\u001b[34m/projects/.local/share/R/s3/maap-ops-workspace/shared/leitoldv/GEDI_global_PA_v2/WDPA_gedi_L2A_tiles/tile_num_22412_L2A.gpkg\u001b[34m\u001b[39m\n",
      "\n"
     ]
    },
    {
     "name": "stdout",
     "output_type": "stream",
     "text": [
      "GEDI dataframe for  78 GPKG file has 509306 rows and  12 columns \n",
      " [1] \"shot_number\"    \"filename\"       \"lat_lowestmode\" \"lon_lowestmode\"\n",
      " [5] \"rh25\"           \"rh50\"           \"rh75\"           \"rh98\"          \n",
      " [9] \"agbd\"           \"agbd_se\"        \"agbd_t\"         \"agbd_t_se\"     \n",
      "GEDI dataframe has 68713 rows and  21 columns \n",
      "Reading in no.  79 GPKG file of  222 GPKG tiles for iso3 BaE \n"
     ]
    },
    {
     "name": "stderr",
     "output_type": "stream",
     "text": [
      "\u001b[36mℹ\u001b[39m \u001b[34m\u001b[34ms3://maap-ops-workspace/shared/leitoldv/GEDI_global_PA_v2/WDPA_gedi_L4A_tiles/tile_num_22413_L4A.gpkg\u001b[34m\u001b[39m already exists at \u001b[34m\u001b[34m/projects/.local/share/R/s3/maap-ops-workspace/shared/leitoldv/GEDI_global_PA_v2/WDPA_gedi_L4A_tiles/tile_num_22413_L4A.gpkg\u001b[34m\u001b[39m\n",
      "\n",
      "\u001b[36mℹ\u001b[39m \u001b[34m\u001b[34ms3://maap-ops-workspace/shared/leitoldv/GEDI_global_PA_v2/WDPA_gedi_L2A_tiles/tile_num_22413_L2A.gpkg\u001b[34m\u001b[39m already exists at \u001b[34m\u001b[34m/projects/.local/share/R/s3/maap-ops-workspace/shared/leitoldv/GEDI_global_PA_v2/WDPA_gedi_L2A_tiles/tile_num_22413_L2A.gpkg\u001b[34m\u001b[39m\n",
      "\n"
     ]
    },
    {
     "name": "stdout",
     "output_type": "stream",
     "text": [
      "GEDI dataframe for  79 GPKG file has 467663 rows and  12 columns \n",
      " [1] \"shot_number\"    \"filename\"       \"lat_lowestmode\" \"lon_lowestmode\"\n",
      " [5] \"rh25\"           \"rh50\"           \"rh75\"           \"rh98\"          \n",
      " [9] \"agbd\"           \"agbd_se\"        \"agbd_t\"         \"agbd_t_se\"     \n",
      "GEDI dataframe has 68713 rows and  21 columns \n",
      "Reading in no.  80 GPKG file of  222 GPKG tiles for iso3 BaE \n"
     ]
    },
    {
     "name": "stderr",
     "output_type": "stream",
     "text": [
      "\u001b[36mℹ\u001b[39m \u001b[34m\u001b[34ms3://maap-ops-workspace/shared/leitoldv/GEDI_global_PA_v2/WDPA_gedi_L4A_tiles/tile_num_22414_L4A.gpkg\u001b[34m\u001b[39m already exists at \u001b[34m\u001b[34m/projects/.local/share/R/s3/maap-ops-workspace/shared/leitoldv/GEDI_global_PA_v2/WDPA_gedi_L4A_tiles/tile_num_22414_L4A.gpkg\u001b[34m\u001b[39m\n",
      "\n",
      "\u001b[36mℹ\u001b[39m \u001b[34m\u001b[34ms3://maap-ops-workspace/shared/leitoldv/GEDI_global_PA_v2/WDPA_gedi_L2A_tiles/tile_num_22414_L2A.gpkg\u001b[34m\u001b[39m already exists at \u001b[34m\u001b[34m/projects/.local/share/R/s3/maap-ops-workspace/shared/leitoldv/GEDI_global_PA_v2/WDPA_gedi_L2A_tiles/tile_num_22414_L2A.gpkg\u001b[34m\u001b[39m\n",
      "\n"
     ]
    },
    {
     "name": "stdout",
     "output_type": "stream",
     "text": [
      "GEDI dataframe for  80 GPKG file has 763611 rows and  12 columns \n",
      " [1] \"shot_number\"    \"filename\"       \"lat_lowestmode\" \"lon_lowestmode\"\n",
      " [5] \"rh25\"           \"rh50\"           \"rh75\"           \"rh98\"          \n",
      " [9] \"agbd\"           \"agbd_se\"        \"agbd_t\"         \"agbd_t_se\"     \n",
      "GEDI dataframe has 68713 rows and  21 columns \n",
      "Reading in no.  81 GPKG file of  222 GPKG tiles for iso3 BaE \n"
     ]
    },
    {
     "name": "stderr",
     "output_type": "stream",
     "text": [
      "\u001b[36mℹ\u001b[39m \u001b[34m\u001b[34ms3://maap-ops-workspace/shared/leitoldv/GEDI_global_PA_v2/WDPA_gedi_L4A_tiles/tile_num_22415_L4A.gpkg\u001b[34m\u001b[39m already exists at \u001b[34m\u001b[34m/projects/.local/share/R/s3/maap-ops-workspace/shared/leitoldv/GEDI_global_PA_v2/WDPA_gedi_L4A_tiles/tile_num_22415_L4A.gpkg\u001b[34m\u001b[39m\n",
      "\n",
      "\u001b[36mℹ\u001b[39m \u001b[34m\u001b[34ms3://maap-ops-workspace/shared/leitoldv/GEDI_global_PA_v2/WDPA_gedi_L2A_tiles/tile_num_22415_L2A.gpkg\u001b[34m\u001b[39m already exists at \u001b[34m\u001b[34m/projects/.local/share/R/s3/maap-ops-workspace/shared/leitoldv/GEDI_global_PA_v2/WDPA_gedi_L2A_tiles/tile_num_22415_L2A.gpkg\u001b[34m\u001b[39m\n",
      "\n"
     ]
    },
    {
     "name": "stdout",
     "output_type": "stream",
     "text": [
      "GEDI dataframe for  81 GPKG file has 850616 rows and  12 columns \n",
      " [1] \"shot_number\"    \"filename\"       \"lat_lowestmode\" \"lon_lowestmode\"\n",
      " [5] \"rh25\"           \"rh50\"           \"rh75\"           \"rh98\"          \n",
      " [9] \"agbd\"           \"agbd_se\"        \"agbd_t\"         \"agbd_t_se\"     \n",
      "GEDI dataframe has 70930 rows and  21 columns \n",
      "Reading in no.  82 GPKG file of  222 GPKG tiles for iso3 BaE \n"
     ]
    },
    {
     "name": "stderr",
     "output_type": "stream",
     "text": [
      "\u001b[36mℹ\u001b[39m \u001b[34m\u001b[34ms3://maap-ops-workspace/shared/leitoldv/GEDI_global_PA_v2/WDPA_gedi_L4A_tiles/tile_num_22416_L4A.gpkg\u001b[34m\u001b[39m already exists at \u001b[34m\u001b[34m/projects/.local/share/R/s3/maap-ops-workspace/shared/leitoldv/GEDI_global_PA_v2/WDPA_gedi_L4A_tiles/tile_num_22416_L4A.gpkg\u001b[34m\u001b[39m\n",
      "\n",
      "\u001b[36mℹ\u001b[39m \u001b[34m\u001b[34ms3://maap-ops-workspace/shared/leitoldv/GEDI_global_PA_v2/WDPA_gedi_L2A_tiles/tile_num_22416_L2A.gpkg\u001b[34m\u001b[39m already exists at \u001b[34m\u001b[34m/projects/.local/share/R/s3/maap-ops-workspace/shared/leitoldv/GEDI_global_PA_v2/WDPA_gedi_L2A_tiles/tile_num_22416_L2A.gpkg\u001b[34m\u001b[39m\n",
      "\n"
     ]
    },
    {
     "name": "stdout",
     "output_type": "stream",
     "text": [
      "GEDI dataframe for  82 GPKG file has 883381 rows and  12 columns \n",
      " [1] \"shot_number\"    \"filename\"       \"lat_lowestmode\" \"lon_lowestmode\"\n",
      " [5] \"rh25\"           \"rh50\"           \"rh75\"           \"rh98\"          \n",
      " [9] \"agbd\"           \"agbd_se\"        \"agbd_t\"         \"agbd_t_se\"     \n",
      "GEDI dataframe has 70930 rows and  21 columns \n",
      "Reading in no.  83 GPKG file of  222 GPKG tiles for iso3 BaE \n"
     ]
    },
    {
     "name": "stderr",
     "output_type": "stream",
     "text": [
      "\u001b[36mℹ\u001b[39m \u001b[34m\u001b[34ms3://maap-ops-workspace/shared/leitoldv/GEDI_global_PA_v2/WDPA_gedi_L4A_tiles/tile_num_22417_L4A.gpkg\u001b[34m\u001b[39m already exists at \u001b[34m\u001b[34m/projects/.local/share/R/s3/maap-ops-workspace/shared/leitoldv/GEDI_global_PA_v2/WDPA_gedi_L4A_tiles/tile_num_22417_L4A.gpkg\u001b[34m\u001b[39m\n",
      "\n",
      "\u001b[36mℹ\u001b[39m \u001b[34m\u001b[34ms3://maap-ops-workspace/shared/leitoldv/GEDI_global_PA_v2/WDPA_gedi_L2A_tiles/tile_num_22417_L2A.gpkg\u001b[34m\u001b[39m already exists at \u001b[34m\u001b[34m/projects/.local/share/R/s3/maap-ops-workspace/shared/leitoldv/GEDI_global_PA_v2/WDPA_gedi_L2A_tiles/tile_num_22417_L2A.gpkg\u001b[34m\u001b[39m\n",
      "\n"
     ]
    },
    {
     "name": "stdout",
     "output_type": "stream",
     "text": [
      "GEDI dataframe for  83 GPKG file has 711141 rows and  12 columns \n",
      " [1] \"shot_number\"    \"filename\"       \"lat_lowestmode\" \"lon_lowestmode\"\n",
      " [5] \"rh25\"           \"rh50\"           \"rh75\"           \"rh98\"          \n",
      " [9] \"agbd\"           \"agbd_se\"        \"agbd_t\"         \"agbd_t_se\"     \n",
      "GEDI dataframe has 71021 rows and  21 columns \n",
      "Reading in no.  84 GPKG file of  222 GPKG tiles for iso3 BaE \n"
     ]
    },
    {
     "name": "stderr",
     "output_type": "stream",
     "text": [
      "\u001b[36mℹ\u001b[39m \u001b[34m\u001b[34ms3://maap-ops-workspace/shared/leitoldv/GEDI_global_PA_v2/WDPA_gedi_L4A_tiles/tile_num_22418_L4A.gpkg\u001b[34m\u001b[39m already exists at \u001b[34m\u001b[34m/projects/.local/share/R/s3/maap-ops-workspace/shared/leitoldv/GEDI_global_PA_v2/WDPA_gedi_L4A_tiles/tile_num_22418_L4A.gpkg\u001b[34m\u001b[39m\n",
      "\n",
      "\u001b[36mℹ\u001b[39m \u001b[34m\u001b[34ms3://maap-ops-workspace/shared/leitoldv/GEDI_global_PA_v2/WDPA_gedi_L2A_tiles/tile_num_22418_L2A.gpkg\u001b[34m\u001b[39m already exists at \u001b[34m\u001b[34m/projects/.local/share/R/s3/maap-ops-workspace/shared/leitoldv/GEDI_global_PA_v2/WDPA_gedi_L2A_tiles/tile_num_22418_L2A.gpkg\u001b[34m\u001b[39m\n",
      "\n"
     ]
    },
    {
     "name": "stdout",
     "output_type": "stream",
     "text": [
      "GEDI dataframe for  84 GPKG file has 819755 rows and  12 columns \n",
      " [1] \"shot_number\"    \"filename\"       \"lat_lowestmode\" \"lon_lowestmode\"\n",
      " [5] \"rh25\"           \"rh50\"           \"rh75\"           \"rh98\"          \n",
      " [9] \"agbd\"           \"agbd_se\"        \"agbd_t\"         \"agbd_t_se\"     \n",
      "GEDI dataframe has 71021 rows and  21 columns \n",
      "Reading in no.  85 GPKG file of  222 GPKG tiles for iso3 BaE \n"
     ]
    },
    {
     "name": "stderr",
     "output_type": "stream",
     "text": [
      "\u001b[36mℹ\u001b[39m \u001b[34m\u001b[34ms3://maap-ops-workspace/shared/leitoldv/GEDI_global_PA_v2/WDPA_gedi_L4A_tiles/tile_num_22419_L4A.gpkg\u001b[34m\u001b[39m already exists at \u001b[34m\u001b[34m/projects/.local/share/R/s3/maap-ops-workspace/shared/leitoldv/GEDI_global_PA_v2/WDPA_gedi_L4A_tiles/tile_num_22419_L4A.gpkg\u001b[34m\u001b[39m\n",
      "\n",
      "\u001b[36mℹ\u001b[39m \u001b[34m\u001b[34ms3://maap-ops-workspace/shared/leitoldv/GEDI_global_PA_v2/WDPA_gedi_L2A_tiles/tile_num_22419_L2A.gpkg\u001b[34m\u001b[39m already exists at \u001b[34m\u001b[34m/projects/.local/share/R/s3/maap-ops-workspace/shared/leitoldv/GEDI_global_PA_v2/WDPA_gedi_L2A_tiles/tile_num_22419_L2A.gpkg\u001b[34m\u001b[39m\n",
      "\n"
     ]
    },
    {
     "name": "stdout",
     "output_type": "stream",
     "text": [
      "GEDI dataframe for  85 GPKG file has 805563 rows and  12 columns \n",
      " [1] \"shot_number\"    \"filename\"       \"lat_lowestmode\" \"lon_lowestmode\"\n",
      " [5] \"rh25\"           \"rh50\"           \"rh75\"           \"rh98\"          \n",
      " [9] \"agbd\"           \"agbd_se\"        \"agbd_t\"         \"agbd_t_se\"     \n",
      "GEDI dataframe has 134305 rows and  21 columns \n",
      "Reading in no.  86 GPKG file of  222 GPKG tiles for iso3 BaE \n"
     ]
    },
    {
     "name": "stderr",
     "output_type": "stream",
     "text": [
      "\u001b[36mℹ\u001b[39m \u001b[34m\u001b[34ms3://maap-ops-workspace/shared/leitoldv/GEDI_global_PA_v2/WDPA_gedi_L4A_tiles/tile_num_22420_L4A.gpkg\u001b[34m\u001b[39m already exists at \u001b[34m\u001b[34m/projects/.local/share/R/s3/maap-ops-workspace/shared/leitoldv/GEDI_global_PA_v2/WDPA_gedi_L4A_tiles/tile_num_22420_L4A.gpkg\u001b[34m\u001b[39m\n",
      "\n",
      "\u001b[36mℹ\u001b[39m \u001b[34m\u001b[34ms3://maap-ops-workspace/shared/leitoldv/GEDI_global_PA_v2/WDPA_gedi_L2A_tiles/tile_num_22420_L2A.gpkg\u001b[34m\u001b[39m already exists at \u001b[34m\u001b[34m/projects/.local/share/R/s3/maap-ops-workspace/shared/leitoldv/GEDI_global_PA_v2/WDPA_gedi_L2A_tiles/tile_num_22420_L2A.gpkg\u001b[34m\u001b[39m\n",
      "\n"
     ]
    },
    {
     "name": "stdout",
     "output_type": "stream",
     "text": [
      "GEDI dataframe for  86 GPKG file has 671310 rows and  12 columns \n",
      " [1] \"shot_number\"    \"filename\"       \"lat_lowestmode\" \"lon_lowestmode\"\n",
      " [5] \"rh25\"           \"rh50\"           \"rh75\"           \"rh98\"          \n",
      " [9] \"agbd\"           \"agbd_se\"        \"agbd_t\"         \"agbd_t_se\"     \n",
      "GEDI dataframe has 155244 rows and  21 columns \n",
      "Reading in no.  87 GPKG file of  222 GPKG tiles for iso3 BaE \n"
     ]
    },
    {
     "name": "stderr",
     "output_type": "stream",
     "text": [
      "\u001b[36mℹ\u001b[39m \u001b[34m\u001b[34ms3://maap-ops-workspace/shared/leitoldv/GEDI_global_PA_v2/WDPA_gedi_L4A_tiles/tile_num_22421_L4A.gpkg\u001b[34m\u001b[39m already exists at \u001b[34m\u001b[34m/projects/.local/share/R/s3/maap-ops-workspace/shared/leitoldv/GEDI_global_PA_v2/WDPA_gedi_L4A_tiles/tile_num_22421_L4A.gpkg\u001b[34m\u001b[39m\n",
      "\n",
      "\u001b[36mℹ\u001b[39m \u001b[34m\u001b[34ms3://maap-ops-workspace/shared/leitoldv/GEDI_global_PA_v2/WDPA_gedi_L2A_tiles/tile_num_22421_L2A.gpkg\u001b[34m\u001b[39m already exists at \u001b[34m\u001b[34m/projects/.local/share/R/s3/maap-ops-workspace/shared/leitoldv/GEDI_global_PA_v2/WDPA_gedi_L2A_tiles/tile_num_22421_L2A.gpkg\u001b[34m\u001b[39m\n",
      "\n"
     ]
    },
    {
     "name": "stdout",
     "output_type": "stream",
     "text": [
      "GEDI dataframe for  87 GPKG file has 520949 rows and  12 columns \n",
      " [1] \"shot_number\"    \"filename\"       \"lat_lowestmode\" \"lon_lowestmode\"\n",
      " [5] \"rh25\"           \"rh50\"           \"rh75\"           \"rh98\"          \n",
      " [9] \"agbd\"           \"agbd_se\"        \"agbd_t\"         \"agbd_t_se\"     \n",
      "GEDI dataframe has 155244 rows and  21 columns \n",
      "Reading in no.  88 GPKG file of  222 GPKG tiles for iso3 BaE \n"
     ]
    },
    {
     "name": "stderr",
     "output_type": "stream",
     "text": [
      "\u001b[36mℹ\u001b[39m \u001b[34m\u001b[34ms3://maap-ops-workspace/shared/leitoldv/GEDI_global_PA_v2/WDPA_gedi_L4A_tiles/tile_num_22422_L4A.gpkg\u001b[34m\u001b[39m already exists at \u001b[34m\u001b[34m/projects/.local/share/R/s3/maap-ops-workspace/shared/leitoldv/GEDI_global_PA_v2/WDPA_gedi_L4A_tiles/tile_num_22422_L4A.gpkg\u001b[34m\u001b[39m\n",
      "\n",
      "\u001b[36mℹ\u001b[39m \u001b[34m\u001b[34ms3://maap-ops-workspace/shared/leitoldv/GEDI_global_PA_v2/WDPA_gedi_L2A_tiles/tile_num_22422_L2A.gpkg\u001b[34m\u001b[39m already exists at \u001b[34m\u001b[34m/projects/.local/share/R/s3/maap-ops-workspace/shared/leitoldv/GEDI_global_PA_v2/WDPA_gedi_L2A_tiles/tile_num_22422_L2A.gpkg\u001b[34m\u001b[39m\n",
      "\n"
     ]
    },
    {
     "name": "stdout",
     "output_type": "stream",
     "text": [
      "GEDI dataframe for  88 GPKG file has 612815 rows and  12 columns \n",
      " [1] \"shot_number\"    \"filename\"       \"lat_lowestmode\" \"lon_lowestmode\"\n",
      " [5] \"rh25\"           \"rh50\"           \"rh75\"           \"rh98\"          \n",
      " [9] \"agbd\"           \"agbd_se\"        \"agbd_t\"         \"agbd_t_se\"     \n",
      "GEDI dataframe has 155244 rows and  21 columns \n",
      "Reading in no.  89 GPKG file of  222 GPKG tiles for iso3 BaE \n"
     ]
    },
    {
     "name": "stderr",
     "output_type": "stream",
     "text": [
      "\u001b[36mℹ\u001b[39m \u001b[34m\u001b[34ms3://maap-ops-workspace/shared/leitoldv/GEDI_global_PA_v2/WDPA_gedi_L4A_tiles/tile_num_22423_L4A.gpkg\u001b[34m\u001b[39m already exists at \u001b[34m\u001b[34m/projects/.local/share/R/s3/maap-ops-workspace/shared/leitoldv/GEDI_global_PA_v2/WDPA_gedi_L4A_tiles/tile_num_22423_L4A.gpkg\u001b[34m\u001b[39m\n",
      "\n",
      "\u001b[36mℹ\u001b[39m \u001b[34m\u001b[34ms3://maap-ops-workspace/shared/leitoldv/GEDI_global_PA_v2/WDPA_gedi_L2A_tiles/tile_num_22423_L2A.gpkg\u001b[34m\u001b[39m already exists at \u001b[34m\u001b[34m/projects/.local/share/R/s3/maap-ops-workspace/shared/leitoldv/GEDI_global_PA_v2/WDPA_gedi_L2A_tiles/tile_num_22423_L2A.gpkg\u001b[34m\u001b[39m\n",
      "\n"
     ]
    },
    {
     "name": "stdout",
     "output_type": "stream",
     "text": [
      "GEDI dataframe for  89 GPKG file has 666060 rows and  12 columns \n",
      " [1] \"shot_number\"    \"filename\"       \"lat_lowestmode\" \"lon_lowestmode\"\n",
      " [5] \"rh25\"           \"rh50\"           \"rh75\"           \"rh98\"          \n",
      " [9] \"agbd\"           \"agbd_se\"        \"agbd_t\"         \"agbd_t_se\"     \n",
      "GEDI dataframe has 155244 rows and  21 columns \n",
      "Reading in no.  90 GPKG file of  222 GPKG tiles for iso3 BaE \n"
     ]
    },
    {
     "name": "stderr",
     "output_type": "stream",
     "text": [
      "\u001b[36mℹ\u001b[39m \u001b[34m\u001b[34ms3://maap-ops-workspace/shared/leitoldv/GEDI_global_PA_v2/WDPA_gedi_L4A_tiles/tile_num_22424_L4A.gpkg\u001b[34m\u001b[39m already exists at \u001b[34m\u001b[34m/projects/.local/share/R/s3/maap-ops-workspace/shared/leitoldv/GEDI_global_PA_v2/WDPA_gedi_L4A_tiles/tile_num_22424_L4A.gpkg\u001b[34m\u001b[39m\n",
      "\n",
      "\u001b[36mℹ\u001b[39m \u001b[34m\u001b[34ms3://maap-ops-workspace/shared/leitoldv/GEDI_global_PA_v2/WDPA_gedi_L2A_tiles/tile_num_22424_L2A.gpkg\u001b[34m\u001b[39m already exists at \u001b[34m\u001b[34m/projects/.local/share/R/s3/maap-ops-workspace/shared/leitoldv/GEDI_global_PA_v2/WDPA_gedi_L2A_tiles/tile_num_22424_L2A.gpkg\u001b[34m\u001b[39m\n",
      "\n"
     ]
    },
    {
     "name": "stdout",
     "output_type": "stream",
     "text": [
      "GEDI dataframe for  90 GPKG file has 695439 rows and  12 columns \n",
      " [1] \"shot_number\"    \"filename\"       \"lat_lowestmode\" \"lon_lowestmode\"\n",
      " [5] \"rh25\"           \"rh50\"           \"rh75\"           \"rh98\"          \n",
      " [9] \"agbd\"           \"agbd_se\"        \"agbd_t\"         \"agbd_t_se\"     \n",
      "GEDI dataframe has 155244 rows and  21 columns \n",
      "Reading in no.  91 GPKG file of  222 GPKG tiles for iso3 BaE \n"
     ]
    },
    {
     "name": "stderr",
     "output_type": "stream",
     "text": [
      "\u001b[36mℹ\u001b[39m \u001b[34m\u001b[34ms3://maap-ops-workspace/shared/leitoldv/GEDI_global_PA_v2/WDPA_gedi_L4A_tiles/tile_num_22588_L4A.gpkg\u001b[34m\u001b[39m already exists at \u001b[34m\u001b[34m/projects/.local/share/R/s3/maap-ops-workspace/shared/leitoldv/GEDI_global_PA_v2/WDPA_gedi_L4A_tiles/tile_num_22588_L4A.gpkg\u001b[34m\u001b[39m\n",
      "\n",
      "\u001b[36mℹ\u001b[39m \u001b[34m\u001b[34ms3://maap-ops-workspace/shared/leitoldv/GEDI_global_PA_v2/WDPA_gedi_L2A_tiles/tile_num_22588_L2A.gpkg\u001b[34m\u001b[39m already exists at \u001b[34m\u001b[34m/projects/.local/share/R/s3/maap-ops-workspace/shared/leitoldv/GEDI_global_PA_v2/WDPA_gedi_L2A_tiles/tile_num_22588_L2A.gpkg\u001b[34m\u001b[39m\n",
      "\n"
     ]
    },
    {
     "name": "stdout",
     "output_type": "stream",
     "text": [
      "GEDI dataframe for  91 GPKG file has 812396 rows and  12 columns \n",
      " [1] \"shot_number\"    \"filename\"       \"lat_lowestmode\" \"lon_lowestmode\"\n",
      " [5] \"rh25\"           \"rh50\"           \"rh75\"           \"rh98\"          \n",
      " [9] \"agbd\"           \"agbd_se\"        \"agbd_t\"         \"agbd_t_se\"     \n",
      "GEDI dataframe has 155244 rows and  21 columns \n",
      "Reading in no.  92 GPKG file of  222 GPKG tiles for iso3 BaE \n"
     ]
    },
    {
     "name": "stderr",
     "output_type": "stream",
     "text": [
      "\u001b[36mℹ\u001b[39m \u001b[34m\u001b[34ms3://maap-ops-workspace/shared/leitoldv/GEDI_global_PA_v2/WDPA_gedi_L4A_tiles/tile_num_22589_L4A.gpkg\u001b[34m\u001b[39m already exists at \u001b[34m\u001b[34m/projects/.local/share/R/s3/maap-ops-workspace/shared/leitoldv/GEDI_global_PA_v2/WDPA_gedi_L4A_tiles/tile_num_22589_L4A.gpkg\u001b[34m\u001b[39m\n",
      "\n",
      "\u001b[36mℹ\u001b[39m \u001b[34m\u001b[34ms3://maap-ops-workspace/shared/leitoldv/GEDI_global_PA_v2/WDPA_gedi_L2A_tiles/tile_num_22589_L2A.gpkg\u001b[34m\u001b[39m already exists at \u001b[34m\u001b[34m/projects/.local/share/R/s3/maap-ops-workspace/shared/leitoldv/GEDI_global_PA_v2/WDPA_gedi_L2A_tiles/tile_num_22589_L2A.gpkg\u001b[34m\u001b[39m\n",
      "\n"
     ]
    },
    {
     "name": "stdout",
     "output_type": "stream",
     "text": [
      "GEDI dataframe for  92 GPKG file has 802312 rows and  12 columns \n",
      " [1] \"shot_number\"    \"filename\"       \"lat_lowestmode\" \"lon_lowestmode\"\n",
      " [5] \"rh25\"           \"rh50\"           \"rh75\"           \"rh98\"          \n",
      " [9] \"agbd\"           \"agbd_se\"        \"agbd_t\"         \"agbd_t_se\"     \n",
      "GEDI dataframe has 155244 rows and  21 columns \n",
      "Reading in no.  93 GPKG file of  222 GPKG tiles for iso3 BaE \n"
     ]
    },
    {
     "name": "stderr",
     "output_type": "stream",
     "text": [
      "\u001b[36mℹ\u001b[39m \u001b[34m\u001b[34ms3://maap-ops-workspace/shared/leitoldv/GEDI_global_PA_v2/WDPA_gedi_L4A_tiles/tile_num_22590_L4A.gpkg\u001b[34m\u001b[39m already exists at \u001b[34m\u001b[34m/projects/.local/share/R/s3/maap-ops-workspace/shared/leitoldv/GEDI_global_PA_v2/WDPA_gedi_L4A_tiles/tile_num_22590_L4A.gpkg\u001b[34m\u001b[39m\n",
      "\n",
      "\u001b[36mℹ\u001b[39m \u001b[34m\u001b[34ms3://maap-ops-workspace/shared/leitoldv/GEDI_global_PA_v2/WDPA_gedi_L2A_tiles/tile_num_22590_L2A.gpkg\u001b[34m\u001b[39m already exists at \u001b[34m\u001b[34m/projects/.local/share/R/s3/maap-ops-workspace/shared/leitoldv/GEDI_global_PA_v2/WDPA_gedi_L2A_tiles/tile_num_22590_L2A.gpkg\u001b[34m\u001b[39m\n",
      "\n"
     ]
    },
    {
     "name": "stdout",
     "output_type": "stream",
     "text": [
      "GEDI dataframe for  93 GPKG file has 735739 rows and  12 columns \n",
      " [1] \"shot_number\"    \"filename\"       \"lat_lowestmode\" \"lon_lowestmode\"\n",
      " [5] \"rh25\"           \"rh50\"           \"rh75\"           \"rh98\"          \n",
      " [9] \"agbd\"           \"agbd_se\"        \"agbd_t\"         \"agbd_t_se\"     \n",
      "GEDI dataframe has 155244 rows and  21 columns \n",
      "Reading in no.  94 GPKG file of  222 GPKG tiles for iso3 BaE \n"
     ]
    },
    {
     "name": "stderr",
     "output_type": "stream",
     "text": [
      "\u001b[36mℹ\u001b[39m \u001b[34m\u001b[34ms3://maap-ops-workspace/shared/leitoldv/GEDI_global_PA_v2/WDPA_gedi_L4A_tiles/tile_num_22591_L4A.gpkg\u001b[34m\u001b[39m already exists at \u001b[34m\u001b[34m/projects/.local/share/R/s3/maap-ops-workspace/shared/leitoldv/GEDI_global_PA_v2/WDPA_gedi_L4A_tiles/tile_num_22591_L4A.gpkg\u001b[34m\u001b[39m\n",
      "\n",
      "\u001b[36mℹ\u001b[39m \u001b[34m\u001b[34ms3://maap-ops-workspace/shared/leitoldv/GEDI_global_PA_v2/WDPA_gedi_L2A_tiles/tile_num_22591_L2A.gpkg\u001b[34m\u001b[39m already exists at \u001b[34m\u001b[34m/projects/.local/share/R/s3/maap-ops-workspace/shared/leitoldv/GEDI_global_PA_v2/WDPA_gedi_L2A_tiles/tile_num_22591_L2A.gpkg\u001b[34m\u001b[39m\n",
      "\n"
     ]
    },
    {
     "name": "stdout",
     "output_type": "stream",
     "text": [
      "GEDI dataframe for  94 GPKG file has 604690 rows and  12 columns \n",
      " [1] \"shot_number\"    \"filename\"       \"lat_lowestmode\" \"lon_lowestmode\"\n",
      " [5] \"rh25\"           \"rh50\"           \"rh75\"           \"rh98\"          \n",
      " [9] \"agbd\"           \"agbd_se\"        \"agbd_t\"         \"agbd_t_se\"     \n",
      "GEDI dataframe has 155244 rows and  21 columns \n",
      "Reading in no.  95 GPKG file of  222 GPKG tiles for iso3 BaE \n"
     ]
    },
    {
     "name": "stderr",
     "output_type": "stream",
     "text": [
      "\u001b[36mℹ\u001b[39m \u001b[34m\u001b[34ms3://maap-ops-workspace/shared/leitoldv/GEDI_global_PA_v2/WDPA_gedi_L4A_tiles/tile_num_22592_L4A.gpkg\u001b[34m\u001b[39m already exists at \u001b[34m\u001b[34m/projects/.local/share/R/s3/maap-ops-workspace/shared/leitoldv/GEDI_global_PA_v2/WDPA_gedi_L4A_tiles/tile_num_22592_L4A.gpkg\u001b[34m\u001b[39m\n",
      "\n",
      "\u001b[36mℹ\u001b[39m \u001b[34m\u001b[34ms3://maap-ops-workspace/shared/leitoldv/GEDI_global_PA_v2/WDPA_gedi_L2A_tiles/tile_num_22592_L2A.gpkg\u001b[34m\u001b[39m already exists at \u001b[34m\u001b[34m/projects/.local/share/R/s3/maap-ops-workspace/shared/leitoldv/GEDI_global_PA_v2/WDPA_gedi_L2A_tiles/tile_num_22592_L2A.gpkg\u001b[34m\u001b[39m\n",
      "\n"
     ]
    },
    {
     "name": "stdout",
     "output_type": "stream",
     "text": [
      "GEDI dataframe for  95 GPKG file has 504296 rows and  12 columns \n",
      " [1] \"shot_number\"    \"filename\"       \"lat_lowestmode\" \"lon_lowestmode\"\n",
      " [5] \"rh25\"           \"rh50\"           \"rh75\"           \"rh98\"          \n",
      " [9] \"agbd\"           \"agbd_se\"        \"agbd_t\"         \"agbd_t_se\"     \n",
      "GEDI dataframe has 168537 rows and  21 columns \n",
      "Reading in no.  96 GPKG file of  222 GPKG tiles for iso3 BaE \n"
     ]
    },
    {
     "name": "stderr",
     "output_type": "stream",
     "text": [
      "\u001b[36mℹ\u001b[39m \u001b[34m\u001b[34ms3://maap-ops-workspace/shared/leitoldv/GEDI_global_PA_v2/WDPA_gedi_L4A_tiles/tile_num_22593_L4A.gpkg\u001b[34m\u001b[39m already exists at \u001b[34m\u001b[34m/projects/.local/share/R/s3/maap-ops-workspace/shared/leitoldv/GEDI_global_PA_v2/WDPA_gedi_L4A_tiles/tile_num_22593_L4A.gpkg\u001b[34m\u001b[39m\n",
      "\n",
      "\u001b[36mℹ\u001b[39m \u001b[34m\u001b[34ms3://maap-ops-workspace/shared/leitoldv/GEDI_global_PA_v2/WDPA_gedi_L2A_tiles/tile_num_22593_L2A.gpkg\u001b[34m\u001b[39m already exists at \u001b[34m\u001b[34m/projects/.local/share/R/s3/maap-ops-workspace/shared/leitoldv/GEDI_global_PA_v2/WDPA_gedi_L2A_tiles/tile_num_22593_L2A.gpkg\u001b[34m\u001b[39m\n",
      "\n"
     ]
    },
    {
     "name": "stdout",
     "output_type": "stream",
     "text": [
      "GEDI dataframe for  96 GPKG file has 344223 rows and  12 columns \n",
      " [1] \"shot_number\"    \"filename\"       \"lat_lowestmode\" \"lon_lowestmode\"\n",
      " [5] \"rh25\"           \"rh50\"           \"rh75\"           \"rh98\"          \n",
      " [9] \"agbd\"           \"agbd_se\"        \"agbd_t\"         \"agbd_t_se\"     \n",
      "GEDI dataframe has 168910 rows and  21 columns \n",
      "Reading in no.  97 GPKG file of  222 GPKG tiles for iso3 BaE \n"
     ]
    },
    {
     "name": "stderr",
     "output_type": "stream",
     "text": [
      "\u001b[36mℹ\u001b[39m \u001b[34m\u001b[34ms3://maap-ops-workspace/shared/leitoldv/GEDI_global_PA_v2/WDPA_gedi_L4A_tiles/tile_num_22594_L4A.gpkg\u001b[34m\u001b[39m already exists at \u001b[34m\u001b[34m/projects/.local/share/R/s3/maap-ops-workspace/shared/leitoldv/GEDI_global_PA_v2/WDPA_gedi_L4A_tiles/tile_num_22594_L4A.gpkg\u001b[34m\u001b[39m\n",
      "\n",
      "\u001b[36mℹ\u001b[39m \u001b[34m\u001b[34ms3://maap-ops-workspace/shared/leitoldv/GEDI_global_PA_v2/WDPA_gedi_L2A_tiles/tile_num_22594_L2A.gpkg\u001b[34m\u001b[39m already exists at \u001b[34m\u001b[34m/projects/.local/share/R/s3/maap-ops-workspace/shared/leitoldv/GEDI_global_PA_v2/WDPA_gedi_L2A_tiles/tile_num_22594_L2A.gpkg\u001b[34m\u001b[39m\n",
      "\n"
     ]
    },
    {
     "name": "stdout",
     "output_type": "stream",
     "text": [
      "GEDI dataframe for  97 GPKG file has 625264 rows and  12 columns \n",
      " [1] \"shot_number\"    \"filename\"       \"lat_lowestmode\" \"lon_lowestmode\"\n",
      " [5] \"rh25\"           \"rh50\"           \"rh75\"           \"rh98\"          \n",
      " [9] \"agbd\"           \"agbd_se\"        \"agbd_t\"         \"agbd_t_se\"     \n",
      "GEDI dataframe has 174932 rows and  21 columns \n",
      "Reading in no.  98 GPKG file of  222 GPKG tiles for iso3 BaE \n"
     ]
    },
    {
     "name": "stderr",
     "output_type": "stream",
     "text": [
      "\u001b[36mℹ\u001b[39m \u001b[34m\u001b[34ms3://maap-ops-workspace/shared/leitoldv/GEDI_global_PA_v2/WDPA_gedi_L4A_tiles/tile_num_22595_L4A.gpkg\u001b[34m\u001b[39m already exists at \u001b[34m\u001b[34m/projects/.local/share/R/s3/maap-ops-workspace/shared/leitoldv/GEDI_global_PA_v2/WDPA_gedi_L4A_tiles/tile_num_22595_L4A.gpkg\u001b[34m\u001b[39m\n",
      "\n",
      "\u001b[36mℹ\u001b[39m \u001b[34m\u001b[34ms3://maap-ops-workspace/shared/leitoldv/GEDI_global_PA_v2/WDPA_gedi_L2A_tiles/tile_num_22595_L2A.gpkg\u001b[34m\u001b[39m already exists at \u001b[34m\u001b[34m/projects/.local/share/R/s3/maap-ops-workspace/shared/leitoldv/GEDI_global_PA_v2/WDPA_gedi_L2A_tiles/tile_num_22595_L2A.gpkg\u001b[34m\u001b[39m\n",
      "\n"
     ]
    },
    {
     "name": "stdout",
     "output_type": "stream",
     "text": [
      "GEDI dataframe for  98 GPKG file has 739700 rows and  12 columns \n",
      " [1] \"shot_number\"    \"filename\"       \"lat_lowestmode\" \"lon_lowestmode\"\n",
      " [5] \"rh25\"           \"rh50\"           \"rh75\"           \"rh98\"          \n",
      " [9] \"agbd\"           \"agbd_se\"        \"agbd_t\"         \"agbd_t_se\"     \n",
      "GEDI dataframe has 175604 rows and  21 columns \n",
      "Reading in no.  99 GPKG file of  222 GPKG tiles for iso3 BaE \n"
     ]
    },
    {
     "name": "stderr",
     "output_type": "stream",
     "text": [
      "\u001b[36mℹ\u001b[39m \u001b[34m\u001b[34ms3://maap-ops-workspace/shared/leitoldv/GEDI_global_PA_v2/WDPA_gedi_L4A_tiles/tile_num_22596_L4A.gpkg\u001b[34m\u001b[39m already exists at \u001b[34m\u001b[34m/projects/.local/share/R/s3/maap-ops-workspace/shared/leitoldv/GEDI_global_PA_v2/WDPA_gedi_L4A_tiles/tile_num_22596_L4A.gpkg\u001b[34m\u001b[39m\n",
      "\n",
      "\u001b[36mℹ\u001b[39m \u001b[34m\u001b[34ms3://maap-ops-workspace/shared/leitoldv/GEDI_global_PA_v2/WDPA_gedi_L2A_tiles/tile_num_22596_L2A.gpkg\u001b[34m\u001b[39m already exists at \u001b[34m\u001b[34m/projects/.local/share/R/s3/maap-ops-workspace/shared/leitoldv/GEDI_global_PA_v2/WDPA_gedi_L2A_tiles/tile_num_22596_L2A.gpkg\u001b[34m\u001b[39m\n",
      "\n"
     ]
    },
    {
     "name": "stdout",
     "output_type": "stream",
     "text": [
      "GEDI dataframe for  99 GPKG file has 965649 rows and  12 columns \n",
      " [1] \"shot_number\"    \"filename\"       \"lat_lowestmode\" \"lon_lowestmode\"\n",
      " [5] \"rh25\"           \"rh50\"           \"rh75\"           \"rh98\"          \n",
      " [9] \"agbd\"           \"agbd_se\"        \"agbd_t\"         \"agbd_t_se\"     \n",
      "GEDI dataframe has 175604 rows and  21 columns \n",
      "Reading in no.  100 GPKG file of  222 GPKG tiles for iso3 BaE \n"
     ]
    },
    {
     "name": "stderr",
     "output_type": "stream",
     "text": [
      "\u001b[36mℹ\u001b[39m \u001b[34m\u001b[34ms3://maap-ops-workspace/shared/leitoldv/GEDI_global_PA_v2/WDPA_gedi_L4A_tiles/tile_num_22597_L4A.gpkg\u001b[34m\u001b[39m already exists at \u001b[34m\u001b[34m/projects/.local/share/R/s3/maap-ops-workspace/shared/leitoldv/GEDI_global_PA_v2/WDPA_gedi_L4A_tiles/tile_num_22597_L4A.gpkg\u001b[34m\u001b[39m\n",
      "\n",
      "\u001b[36mℹ\u001b[39m \u001b[34m\u001b[34ms3://maap-ops-workspace/shared/leitoldv/GEDI_global_PA_v2/WDPA_gedi_L2A_tiles/tile_num_22597_L2A.gpkg\u001b[34m\u001b[39m already exists at \u001b[34m\u001b[34m/projects/.local/share/R/s3/maap-ops-workspace/shared/leitoldv/GEDI_global_PA_v2/WDPA_gedi_L2A_tiles/tile_num_22597_L2A.gpkg\u001b[34m\u001b[39m\n",
      "\n"
     ]
    },
    {
     "name": "stdout",
     "output_type": "stream",
     "text": [
      "GEDI dataframe for  100 GPKG file has 1098930 rows and  12 columns \n",
      " [1] \"shot_number\"    \"filename\"       \"lat_lowestmode\" \"lon_lowestmode\"\n",
      " [5] \"rh25\"           \"rh50\"           \"rh75\"           \"rh98\"          \n",
      " [9] \"agbd\"           \"agbd_se\"        \"agbd_t\"         \"agbd_t_se\"     \n",
      "GEDI dataframe has 175604 rows and  21 columns \n",
      "Reading in no.  101 GPKG file of  222 GPKG tiles for iso3 BaE \n"
     ]
    },
    {
     "name": "stderr",
     "output_type": "stream",
     "text": [
      "\u001b[36mℹ\u001b[39m \u001b[34m\u001b[34ms3://maap-ops-workspace/shared/leitoldv/GEDI_global_PA_v2/WDPA_gedi_L4A_tiles/tile_num_22598_L4A.gpkg\u001b[34m\u001b[39m already exists at \u001b[34m\u001b[34m/projects/.local/share/R/s3/maap-ops-workspace/shared/leitoldv/GEDI_global_PA_v2/WDPA_gedi_L4A_tiles/tile_num_22598_L4A.gpkg\u001b[34m\u001b[39m\n",
      "\n",
      "\u001b[36mℹ\u001b[39m \u001b[34m\u001b[34ms3://maap-ops-workspace/shared/leitoldv/GEDI_global_PA_v2/WDPA_gedi_L2A_tiles/tile_num_22598_L2A.gpkg\u001b[34m\u001b[39m already exists at \u001b[34m\u001b[34m/projects/.local/share/R/s3/maap-ops-workspace/shared/leitoldv/GEDI_global_PA_v2/WDPA_gedi_L2A_tiles/tile_num_22598_L2A.gpkg\u001b[34m\u001b[39m\n",
      "\n"
     ]
    },
    {
     "name": "stdout",
     "output_type": "stream",
     "text": [
      "GEDI dataframe for  101 GPKG file has 854371 rows and  12 columns \n",
      " [1] \"shot_number\"    \"filename\"       \"lat_lowestmode\" \"lon_lowestmode\"\n",
      " [5] \"rh25\"           \"rh50\"           \"rh75\"           \"rh98\"          \n",
      " [9] \"agbd\"           \"agbd_se\"        \"agbd_t\"         \"agbd_t_se\"     \n",
      "GEDI dataframe has 175604 rows and  21 columns \n",
      "Reading in no.  102 GPKG file of  222 GPKG tiles for iso3 BaE \n"
     ]
    },
    {
     "name": "stderr",
     "output_type": "stream",
     "text": [
      "\u001b[36mℹ\u001b[39m \u001b[34m\u001b[34ms3://maap-ops-workspace/shared/leitoldv/GEDI_global_PA_v2/WDPA_gedi_L4A_tiles/tile_num_22599_L4A.gpkg\u001b[34m\u001b[39m already exists at \u001b[34m\u001b[34m/projects/.local/share/R/s3/maap-ops-workspace/shared/leitoldv/GEDI_global_PA_v2/WDPA_gedi_L4A_tiles/tile_num_22599_L4A.gpkg\u001b[34m\u001b[39m\n",
      "\n",
      "\u001b[36mℹ\u001b[39m \u001b[34m\u001b[34ms3://maap-ops-workspace/shared/leitoldv/GEDI_global_PA_v2/WDPA_gedi_L2A_tiles/tile_num_22599_L2A.gpkg\u001b[34m\u001b[39m already exists at \u001b[34m\u001b[34m/projects/.local/share/R/s3/maap-ops-workspace/shared/leitoldv/GEDI_global_PA_v2/WDPA_gedi_L2A_tiles/tile_num_22599_L2A.gpkg\u001b[34m\u001b[39m\n",
      "\n"
     ]
    },
    {
     "name": "stdout",
     "output_type": "stream",
     "text": [
      "GEDI dataframe for  102 GPKG file has 726061 rows and  12 columns \n",
      " [1] \"shot_number\"    \"filename\"       \"lat_lowestmode\" \"lon_lowestmode\"\n",
      " [5] \"rh25\"           \"rh50\"           \"rh75\"           \"rh98\"          \n",
      " [9] \"agbd\"           \"agbd_se\"        \"agbd_t\"         \"agbd_t_se\"     \n",
      "GEDI dataframe has 175861 rows and  21 columns \n",
      "Reading in no.  103 GPKG file of  222 GPKG tiles for iso3 BaE \n"
     ]
    },
    {
     "name": "stderr",
     "output_type": "stream",
     "text": [
      "\u001b[36mℹ\u001b[39m \u001b[34m\u001b[34ms3://maap-ops-workspace/shared/leitoldv/GEDI_global_PA_v2/WDPA_gedi_L4A_tiles/tile_num_22600_L4A.gpkg\u001b[34m\u001b[39m already exists at \u001b[34m\u001b[34m/projects/.local/share/R/s3/maap-ops-workspace/shared/leitoldv/GEDI_global_PA_v2/WDPA_gedi_L4A_tiles/tile_num_22600_L4A.gpkg\u001b[34m\u001b[39m\n",
      "\n",
      "\u001b[36mℹ\u001b[39m \u001b[34m\u001b[34ms3://maap-ops-workspace/shared/leitoldv/GEDI_global_PA_v2/WDPA_gedi_L2A_tiles/tile_num_22600_L2A.gpkg\u001b[34m\u001b[39m already exists at \u001b[34m\u001b[34m/projects/.local/share/R/s3/maap-ops-workspace/shared/leitoldv/GEDI_global_PA_v2/WDPA_gedi_L2A_tiles/tile_num_22600_L2A.gpkg\u001b[34m\u001b[39m\n",
      "\n"
     ]
    },
    {
     "name": "stdout",
     "output_type": "stream",
     "text": [
      "GEDI dataframe for  103 GPKG file has 765477 rows and  12 columns \n",
      " [1] \"shot_number\"    \"filename\"       \"lat_lowestmode\" \"lon_lowestmode\"\n",
      " [5] \"rh25\"           \"rh50\"           \"rh75\"           \"rh98\"          \n",
      " [9] \"agbd\"           \"agbd_se\"        \"agbd_t\"         \"agbd_t_se\"     \n",
      "GEDI dataframe has 176236 rows and  21 columns \n",
      "Reading in no.  104 GPKG file of  222 GPKG tiles for iso3 BaE \n"
     ]
    },
    {
     "name": "stderr",
     "output_type": "stream",
     "text": [
      "\u001b[36mℹ\u001b[39m \u001b[34m\u001b[34ms3://maap-ops-workspace/shared/leitoldv/GEDI_global_PA_v2/WDPA_gedi_L4A_tiles/tile_num_22601_L4A.gpkg\u001b[34m\u001b[39m already exists at \u001b[34m\u001b[34m/projects/.local/share/R/s3/maap-ops-workspace/shared/leitoldv/GEDI_global_PA_v2/WDPA_gedi_L4A_tiles/tile_num_22601_L4A.gpkg\u001b[34m\u001b[39m\n",
      "\n",
      "\u001b[36mℹ\u001b[39m \u001b[34m\u001b[34ms3://maap-ops-workspace/shared/leitoldv/GEDI_global_PA_v2/WDPA_gedi_L2A_tiles/tile_num_22601_L2A.gpkg\u001b[34m\u001b[39m already exists at \u001b[34m\u001b[34m/projects/.local/share/R/s3/maap-ops-workspace/shared/leitoldv/GEDI_global_PA_v2/WDPA_gedi_L2A_tiles/tile_num_22601_L2A.gpkg\u001b[34m\u001b[39m\n",
      "\n"
     ]
    },
    {
     "name": "stdout",
     "output_type": "stream",
     "text": [
      "GEDI dataframe for  104 GPKG file has 642982 rows and  12 columns \n",
      " [1] \"shot_number\"    \"filename\"       \"lat_lowestmode\" \"lon_lowestmode\"\n",
      " [5] \"rh25\"           \"rh50\"           \"rh75\"           \"rh98\"          \n",
      " [9] \"agbd\"           \"agbd_se\"        \"agbd_t\"         \"agbd_t_se\"     \n",
      "GEDI dataframe has 176236 rows and  21 columns \n",
      "Reading in no.  105 GPKG file of  222 GPKG tiles for iso3 BaE \n"
     ]
    },
    {
     "name": "stderr",
     "output_type": "stream",
     "text": [
      "\u001b[36mℹ\u001b[39m \u001b[34m\u001b[34ms3://maap-ops-workspace/shared/leitoldv/GEDI_global_PA_v2/WDPA_gedi_L4A_tiles/tile_num_22602_L4A.gpkg\u001b[34m\u001b[39m already exists at \u001b[34m\u001b[34m/projects/.local/share/R/s3/maap-ops-workspace/shared/leitoldv/GEDI_global_PA_v2/WDPA_gedi_L4A_tiles/tile_num_22602_L4A.gpkg\u001b[34m\u001b[39m\n",
      "\n",
      "\u001b[36mℹ\u001b[39m \u001b[34m\u001b[34ms3://maap-ops-workspace/shared/leitoldv/GEDI_global_PA_v2/WDPA_gedi_L2A_tiles/tile_num_22602_L2A.gpkg\u001b[34m\u001b[39m already exists at \u001b[34m\u001b[34m/projects/.local/share/R/s3/maap-ops-workspace/shared/leitoldv/GEDI_global_PA_v2/WDPA_gedi_L2A_tiles/tile_num_22602_L2A.gpkg\u001b[34m\u001b[39m\n",
      "\n"
     ]
    },
    {
     "name": "stdout",
     "output_type": "stream",
     "text": [
      "GEDI dataframe for  105 GPKG file has 700453 rows and  12 columns \n",
      " [1] \"shot_number\"    \"filename\"       \"lat_lowestmode\" \"lon_lowestmode\"\n",
      " [5] \"rh25\"           \"rh50\"           \"rh75\"           \"rh98\"          \n",
      " [9] \"agbd\"           \"agbd_se\"        \"agbd_t\"         \"agbd_t_se\"     \n",
      "GEDI dataframe has 176236 rows and  21 columns \n",
      "Reading in no.  106 GPKG file of  222 GPKG tiles for iso3 BaE \n"
     ]
    },
    {
     "name": "stderr",
     "output_type": "stream",
     "text": [
      "\u001b[36mℹ\u001b[39m \u001b[34m\u001b[34ms3://maap-ops-workspace/shared/leitoldv/GEDI_global_PA_v2/WDPA_gedi_L4A_tiles/tile_num_22603_L4A.gpkg\u001b[34m\u001b[39m already exists at \u001b[34m\u001b[34m/projects/.local/share/R/s3/maap-ops-workspace/shared/leitoldv/GEDI_global_PA_v2/WDPA_gedi_L4A_tiles/tile_num_22603_L4A.gpkg\u001b[34m\u001b[39m\n",
      "\n",
      "\u001b[36mℹ\u001b[39m \u001b[34m\u001b[34ms3://maap-ops-workspace/shared/leitoldv/GEDI_global_PA_v2/WDPA_gedi_L2A_tiles/tile_num_22603_L2A.gpkg\u001b[34m\u001b[39m already exists at \u001b[34m\u001b[34m/projects/.local/share/R/s3/maap-ops-workspace/shared/leitoldv/GEDI_global_PA_v2/WDPA_gedi_L2A_tiles/tile_num_22603_L2A.gpkg\u001b[34m\u001b[39m\n",
      "\n"
     ]
    },
    {
     "name": "stdout",
     "output_type": "stream",
     "text": [
      "GEDI dataframe for  106 GPKG file has 822144 rows and  12 columns \n",
      " [1] \"shot_number\"    \"filename\"       \"lat_lowestmode\" \"lon_lowestmode\"\n",
      " [5] \"rh25\"           \"rh50\"           \"rh75\"           \"rh98\"          \n",
      " [9] \"agbd\"           \"agbd_se\"        \"agbd_t\"         \"agbd_t_se\"     \n",
      "GEDI dataframe has 176236 rows and  21 columns \n",
      "Reading in no.  107 GPKG file of  222 GPKG tiles for iso3 BaE \n"
     ]
    },
    {
     "name": "stderr",
     "output_type": "stream",
     "text": [
      "\u001b[36mℹ\u001b[39m \u001b[34m\u001b[34ms3://maap-ops-workspace/shared/leitoldv/GEDI_global_PA_v2/WDPA_gedi_L4A_tiles/tile_num_22604_L4A.gpkg\u001b[34m\u001b[39m already exists at \u001b[34m\u001b[34m/projects/.local/share/R/s3/maap-ops-workspace/shared/leitoldv/GEDI_global_PA_v2/WDPA_gedi_L4A_tiles/tile_num_22604_L4A.gpkg\u001b[34m\u001b[39m\n",
      "\n",
      "\u001b[36mℹ\u001b[39m \u001b[34m\u001b[34ms3://maap-ops-workspace/shared/leitoldv/GEDI_global_PA_v2/WDPA_gedi_L2A_tiles/tile_num_22604_L2A.gpkg\u001b[34m\u001b[39m already exists at \u001b[34m\u001b[34m/projects/.local/share/R/s3/maap-ops-workspace/shared/leitoldv/GEDI_global_PA_v2/WDPA_gedi_L2A_tiles/tile_num_22604_L2A.gpkg\u001b[34m\u001b[39m\n",
      "\n"
     ]
    },
    {
     "name": "stdout",
     "output_type": "stream",
     "text": [
      "GEDI dataframe for  107 GPKG file has 926912 rows and  12 columns \n",
      " [1] \"shot_number\"    \"filename\"       \"lat_lowestmode\" \"lon_lowestmode\"\n",
      " [5] \"rh25\"           \"rh50\"           \"rh75\"           \"rh98\"          \n",
      " [9] \"agbd\"           \"agbd_se\"        \"agbd_t\"         \"agbd_t_se\"     \n",
      "GEDI dataframe has 176236 rows and  21 columns \n",
      "Reading in no.  108 GPKG file of  222 GPKG tiles for iso3 BaE \n"
     ]
    },
    {
     "name": "stderr",
     "output_type": "stream",
     "text": [
      "\u001b[36mℹ\u001b[39m \u001b[34m\u001b[34ms3://maap-ops-workspace/shared/leitoldv/GEDI_global_PA_v2/WDPA_gedi_L4A_tiles/tile_num_22768_L4A.gpkg\u001b[34m\u001b[39m already exists at \u001b[34m\u001b[34m/projects/.local/share/R/s3/maap-ops-workspace/shared/leitoldv/GEDI_global_PA_v2/WDPA_gedi_L4A_tiles/tile_num_22768_L4A.gpkg\u001b[34m\u001b[39m\n",
      "\n",
      "\u001b[36mℹ\u001b[39m \u001b[34m\u001b[34ms3://maap-ops-workspace/shared/leitoldv/GEDI_global_PA_v2/WDPA_gedi_L2A_tiles/tile_num_22768_L2A.gpkg\u001b[34m\u001b[39m already exists at \u001b[34m\u001b[34m/projects/.local/share/R/s3/maap-ops-workspace/shared/leitoldv/GEDI_global_PA_v2/WDPA_gedi_L2A_tiles/tile_num_22768_L2A.gpkg\u001b[34m\u001b[39m\n",
      "\n"
     ]
    },
    {
     "name": "stdout",
     "output_type": "stream",
     "text": [
      "GEDI dataframe for  108 GPKG file has 645805 rows and  12 columns \n",
      " [1] \"shot_number\"    \"filename\"       \"lat_lowestmode\" \"lon_lowestmode\"\n",
      " [5] \"rh25\"           \"rh50\"           \"rh75\"           \"rh98\"          \n",
      " [9] \"agbd\"           \"agbd_se\"        \"agbd_t\"         \"agbd_t_se\"     \n",
      "GEDI dataframe has 176236 rows and  21 columns \n",
      "Reading in no.  109 GPKG file of  222 GPKG tiles for iso3 BaE \n"
     ]
    },
    {
     "name": "stderr",
     "output_type": "stream",
     "text": [
      "\u001b[36mℹ\u001b[39m \u001b[34m\u001b[34ms3://maap-ops-workspace/shared/leitoldv/GEDI_global_PA_v2/WDPA_gedi_L4A_tiles/tile_num_22769_L4A.gpkg\u001b[34m\u001b[39m already exists at \u001b[34m\u001b[34m/projects/.local/share/R/s3/maap-ops-workspace/shared/leitoldv/GEDI_global_PA_v2/WDPA_gedi_L4A_tiles/tile_num_22769_L4A.gpkg\u001b[34m\u001b[39m\n",
      "\n",
      "\u001b[36mℹ\u001b[39m \u001b[34m\u001b[34ms3://maap-ops-workspace/shared/leitoldv/GEDI_global_PA_v2/WDPA_gedi_L2A_tiles/tile_num_22769_L2A.gpkg\u001b[34m\u001b[39m already exists at \u001b[34m\u001b[34m/projects/.local/share/R/s3/maap-ops-workspace/shared/leitoldv/GEDI_global_PA_v2/WDPA_gedi_L2A_tiles/tile_num_22769_L2A.gpkg\u001b[34m\u001b[39m\n",
      "\n"
     ]
    },
    {
     "name": "stdout",
     "output_type": "stream",
     "text": [
      "GEDI dataframe for  109 GPKG file has 675866 rows and  12 columns \n",
      " [1] \"shot_number\"    \"filename\"       \"lat_lowestmode\" \"lon_lowestmode\"\n",
      " [5] \"rh25\"           \"rh50\"           \"rh75\"           \"rh98\"          \n",
      " [9] \"agbd\"           \"agbd_se\"        \"agbd_t\"         \"agbd_t_se\"     \n",
      "GEDI dataframe has 176236 rows and  21 columns \n",
      "Reading in no.  110 GPKG file of  222 GPKG tiles for iso3 BaE \n"
     ]
    },
    {
     "name": "stderr",
     "output_type": "stream",
     "text": [
      "\u001b[36mℹ\u001b[39m \u001b[34m\u001b[34ms3://maap-ops-workspace/shared/leitoldv/GEDI_global_PA_v2/WDPA_gedi_L4A_tiles/tile_num_22770_L4A.gpkg\u001b[34m\u001b[39m already exists at \u001b[34m\u001b[34m/projects/.local/share/R/s3/maap-ops-workspace/shared/leitoldv/GEDI_global_PA_v2/WDPA_gedi_L4A_tiles/tile_num_22770_L4A.gpkg\u001b[34m\u001b[39m\n",
      "\n",
      "\u001b[36mℹ\u001b[39m \u001b[34m\u001b[34ms3://maap-ops-workspace/shared/leitoldv/GEDI_global_PA_v2/WDPA_gedi_L2A_tiles/tile_num_22770_L2A.gpkg\u001b[34m\u001b[39m already exists at \u001b[34m\u001b[34m/projects/.local/share/R/s3/maap-ops-workspace/shared/leitoldv/GEDI_global_PA_v2/WDPA_gedi_L2A_tiles/tile_num_22770_L2A.gpkg\u001b[34m\u001b[39m\n",
      "\n"
     ]
    },
    {
     "name": "stdout",
     "output_type": "stream",
     "text": [
      "GEDI dataframe for  110 GPKG file has 653081 rows and  12 columns \n",
      " [1] \"shot_number\"    \"filename\"       \"lat_lowestmode\" \"lon_lowestmode\"\n",
      " [5] \"rh25\"           \"rh50\"           \"rh75\"           \"rh98\"          \n",
      " [9] \"agbd\"           \"agbd_se\"        \"agbd_t\"         \"agbd_t_se\"     \n",
      "GEDI dataframe has 213862 rows and  21 columns \n",
      "Reading in no.  111 GPKG file of  222 GPKG tiles for iso3 BaE \n"
     ]
    },
    {
     "name": "stderr",
     "output_type": "stream",
     "text": [
      "\u001b[36mℹ\u001b[39m \u001b[34m\u001b[34ms3://maap-ops-workspace/shared/leitoldv/GEDI_global_PA_v2/WDPA_gedi_L4A_tiles/tile_num_22771_L4A.gpkg\u001b[34m\u001b[39m already exists at \u001b[34m\u001b[34m/projects/.local/share/R/s3/maap-ops-workspace/shared/leitoldv/GEDI_global_PA_v2/WDPA_gedi_L4A_tiles/tile_num_22771_L4A.gpkg\u001b[34m\u001b[39m\n",
      "\n",
      "\u001b[36mℹ\u001b[39m \u001b[34m\u001b[34ms3://maap-ops-workspace/shared/leitoldv/GEDI_global_PA_v2/WDPA_gedi_L2A_tiles/tile_num_22771_L2A.gpkg\u001b[34m\u001b[39m already exists at \u001b[34m\u001b[34m/projects/.local/share/R/s3/maap-ops-workspace/shared/leitoldv/GEDI_global_PA_v2/WDPA_gedi_L2A_tiles/tile_num_22771_L2A.gpkg\u001b[34m\u001b[39m\n",
      "\n"
     ]
    },
    {
     "name": "stdout",
     "output_type": "stream",
     "text": [
      "GEDI dataframe for  111 GPKG file has 593919 rows and  12 columns \n",
      " [1] \"shot_number\"    \"filename\"       \"lat_lowestmode\" \"lon_lowestmode\"\n",
      " [5] \"rh25\"           \"rh50\"           \"rh75\"           \"rh98\"          \n",
      " [9] \"agbd\"           \"agbd_se\"        \"agbd_t\"         \"agbd_t_se\"     \n",
      "GEDI dataframe has 213990 rows and  21 columns \n",
      "Reading in no.  112 GPKG file of  222 GPKG tiles for iso3 BaE \n"
     ]
    },
    {
     "name": "stderr",
     "output_type": "stream",
     "text": [
      "\u001b[36mℹ\u001b[39m \u001b[34m\u001b[34ms3://maap-ops-workspace/shared/leitoldv/GEDI_global_PA_v2/WDPA_gedi_L4A_tiles/tile_num_22772_L4A.gpkg\u001b[34m\u001b[39m already exists at \u001b[34m\u001b[34m/projects/.local/share/R/s3/maap-ops-workspace/shared/leitoldv/GEDI_global_PA_v2/WDPA_gedi_L4A_tiles/tile_num_22772_L4A.gpkg\u001b[34m\u001b[39m\n",
      "\n",
      "\u001b[36mℹ\u001b[39m \u001b[34m\u001b[34ms3://maap-ops-workspace/shared/leitoldv/GEDI_global_PA_v2/WDPA_gedi_L2A_tiles/tile_num_22772_L2A.gpkg\u001b[34m\u001b[39m already exists at \u001b[34m\u001b[34m/projects/.local/share/R/s3/maap-ops-workspace/shared/leitoldv/GEDI_global_PA_v2/WDPA_gedi_L2A_tiles/tile_num_22772_L2A.gpkg\u001b[34m\u001b[39m\n",
      "\n"
     ]
    },
    {
     "name": "stdout",
     "output_type": "stream",
     "text": [
      "GEDI dataframe for  112 GPKG file has 546225 rows and  12 columns \n",
      " [1] \"shot_number\"    \"filename\"       \"lat_lowestmode\" \"lon_lowestmode\"\n",
      " [5] \"rh25\"           \"rh50\"           \"rh75\"           \"rh98\"          \n",
      " [9] \"agbd\"           \"agbd_se\"        \"agbd_t\"         \"agbd_t_se\"     \n",
      "GEDI dataframe has 218365 rows and  21 columns \n",
      "Reading in no.  113 GPKG file of  222 GPKG tiles for iso3 BaE \n"
     ]
    },
    {
     "name": "stderr",
     "output_type": "stream",
     "text": [
      "\u001b[36mℹ\u001b[39m \u001b[34m\u001b[34ms3://maap-ops-workspace/shared/leitoldv/GEDI_global_PA_v2/WDPA_gedi_L4A_tiles/tile_num_22773_L4A.gpkg\u001b[34m\u001b[39m already exists at \u001b[34m\u001b[34m/projects/.local/share/R/s3/maap-ops-workspace/shared/leitoldv/GEDI_global_PA_v2/WDPA_gedi_L4A_tiles/tile_num_22773_L4A.gpkg\u001b[34m\u001b[39m\n",
      "\n",
      "\u001b[36mℹ\u001b[39m \u001b[34m\u001b[34ms3://maap-ops-workspace/shared/leitoldv/GEDI_global_PA_v2/WDPA_gedi_L2A_tiles/tile_num_22773_L2A.gpkg\u001b[34m\u001b[39m already exists at \u001b[34m\u001b[34m/projects/.local/share/R/s3/maap-ops-workspace/shared/leitoldv/GEDI_global_PA_v2/WDPA_gedi_L2A_tiles/tile_num_22773_L2A.gpkg\u001b[34m\u001b[39m\n",
      "\n"
     ]
    },
    {
     "name": "stdout",
     "output_type": "stream",
     "text": [
      "GEDI dataframe for  113 GPKG file has 587811 rows and  12 columns \n",
      " [1] \"shot_number\"    \"filename\"       \"lat_lowestmode\" \"lon_lowestmode\"\n",
      " [5] \"rh25\"           \"rh50\"           \"rh75\"           \"rh98\"          \n",
      " [9] \"agbd\"           \"agbd_se\"        \"agbd_t\"         \"agbd_t_se\"     \n",
      "GEDI dataframe has 219140 rows and  21 columns \n",
      "Reading in no.  114 GPKG file of  222 GPKG tiles for iso3 BaE \n"
     ]
    },
    {
     "name": "stderr",
     "output_type": "stream",
     "text": [
      "\u001b[36mℹ\u001b[39m \u001b[34m\u001b[34ms3://maap-ops-workspace/shared/leitoldv/GEDI_global_PA_v2/WDPA_gedi_L4A_tiles/tile_num_22774_L4A.gpkg\u001b[34m\u001b[39m already exists at \u001b[34m\u001b[34m/projects/.local/share/R/s3/maap-ops-workspace/shared/leitoldv/GEDI_global_PA_v2/WDPA_gedi_L4A_tiles/tile_num_22774_L4A.gpkg\u001b[34m\u001b[39m\n",
      "\n",
      "\u001b[36mℹ\u001b[39m \u001b[34m\u001b[34ms3://maap-ops-workspace/shared/leitoldv/GEDI_global_PA_v2/WDPA_gedi_L2A_tiles/tile_num_22774_L2A.gpkg\u001b[34m\u001b[39m already exists at \u001b[34m\u001b[34m/projects/.local/share/R/s3/maap-ops-workspace/shared/leitoldv/GEDI_global_PA_v2/WDPA_gedi_L2A_tiles/tile_num_22774_L2A.gpkg\u001b[34m\u001b[39m\n",
      "\n"
     ]
    },
    {
     "name": "stdout",
     "output_type": "stream",
     "text": [
      "GEDI dataframe for  114 GPKG file has 726600 rows and  12 columns \n",
      " [1] \"shot_number\"    \"filename\"       \"lat_lowestmode\" \"lon_lowestmode\"\n",
      " [5] \"rh25\"           \"rh50\"           \"rh75\"           \"rh98\"          \n",
      " [9] \"agbd\"           \"agbd_se\"        \"agbd_t\"         \"agbd_t_se\"     \n",
      "GEDI dataframe has 222264 rows and  21 columns \n",
      "Reading in no.  115 GPKG file of  222 GPKG tiles for iso3 BaE \n"
     ]
    },
    {
     "name": "stderr",
     "output_type": "stream",
     "text": [
      "\u001b[36mℹ\u001b[39m \u001b[34m\u001b[34ms3://maap-ops-workspace/shared/leitoldv/GEDI_global_PA_v2/WDPA_gedi_L4A_tiles/tile_num_22775_L4A.gpkg\u001b[34m\u001b[39m already exists at \u001b[34m\u001b[34m/projects/.local/share/R/s3/maap-ops-workspace/shared/leitoldv/GEDI_global_PA_v2/WDPA_gedi_L4A_tiles/tile_num_22775_L4A.gpkg\u001b[34m\u001b[39m\n",
      "\n",
      "\u001b[36mℹ\u001b[39m \u001b[34m\u001b[34ms3://maap-ops-workspace/shared/leitoldv/GEDI_global_PA_v2/WDPA_gedi_L2A_tiles/tile_num_22775_L2A.gpkg\u001b[34m\u001b[39m already exists at \u001b[34m\u001b[34m/projects/.local/share/R/s3/maap-ops-workspace/shared/leitoldv/GEDI_global_PA_v2/WDPA_gedi_L2A_tiles/tile_num_22775_L2A.gpkg\u001b[34m\u001b[39m\n",
      "\n"
     ]
    },
    {
     "name": "stdout",
     "output_type": "stream",
     "text": [
      "GEDI dataframe for  115 GPKG file has 862703 rows and  12 columns \n",
      " [1] \"shot_number\"    \"filename\"       \"lat_lowestmode\" \"lon_lowestmode\"\n",
      " [5] \"rh25\"           \"rh50\"           \"rh75\"           \"rh98\"          \n",
      " [9] \"agbd\"           \"agbd_se\"        \"agbd_t\"         \"agbd_t_se\"     \n",
      "GEDI dataframe has 222281 rows and  21 columns \n",
      "Reading in no.  116 GPKG file of  222 GPKG tiles for iso3 BaE \n"
     ]
    },
    {
     "name": "stderr",
     "output_type": "stream",
     "text": [
      "\u001b[36mℹ\u001b[39m \u001b[34m\u001b[34ms3://maap-ops-workspace/shared/leitoldv/GEDI_global_PA_v2/WDPA_gedi_L4A_tiles/tile_num_22776_L4A.gpkg\u001b[34m\u001b[39m already exists at \u001b[34m\u001b[34m/projects/.local/share/R/s3/maap-ops-workspace/shared/leitoldv/GEDI_global_PA_v2/WDPA_gedi_L4A_tiles/tile_num_22776_L4A.gpkg\u001b[34m\u001b[39m\n",
      "\n",
      "\u001b[36mℹ\u001b[39m \u001b[34m\u001b[34ms3://maap-ops-workspace/shared/leitoldv/GEDI_global_PA_v2/WDPA_gedi_L2A_tiles/tile_num_22776_L2A.gpkg\u001b[34m\u001b[39m already exists at \u001b[34m\u001b[34m/projects/.local/share/R/s3/maap-ops-workspace/shared/leitoldv/GEDI_global_PA_v2/WDPA_gedi_L2A_tiles/tile_num_22776_L2A.gpkg\u001b[34m\u001b[39m\n",
      "\n"
     ]
    },
    {
     "name": "stdout",
     "output_type": "stream",
     "text": [
      "GEDI dataframe for  116 GPKG file has 837374 rows and  12 columns \n",
      " [1] \"shot_number\"    \"filename\"       \"lat_lowestmode\" \"lon_lowestmode\"\n",
      " [5] \"rh25\"           \"rh50\"           \"rh75\"           \"rh98\"          \n",
      " [9] \"agbd\"           \"agbd_se\"        \"agbd_t\"         \"agbd_t_se\"     \n",
      "GEDI dataframe has 222281 rows and  21 columns \n",
      "Reading in no.  117 GPKG file of  222 GPKG tiles for iso3 BaE \n"
     ]
    },
    {
     "name": "stderr",
     "output_type": "stream",
     "text": [
      "\u001b[36mℹ\u001b[39m \u001b[34m\u001b[34ms3://maap-ops-workspace/shared/leitoldv/GEDI_global_PA_v2/WDPA_gedi_L4A_tiles/tile_num_22777_L4A.gpkg\u001b[34m\u001b[39m already exists at \u001b[34m\u001b[34m/projects/.local/share/R/s3/maap-ops-workspace/shared/leitoldv/GEDI_global_PA_v2/WDPA_gedi_L4A_tiles/tile_num_22777_L4A.gpkg\u001b[34m\u001b[39m\n",
      "\n",
      "\u001b[36mℹ\u001b[39m \u001b[34m\u001b[34ms3://maap-ops-workspace/shared/leitoldv/GEDI_global_PA_v2/WDPA_gedi_L2A_tiles/tile_num_22777_L2A.gpkg\u001b[34m\u001b[39m already exists at \u001b[34m\u001b[34m/projects/.local/share/R/s3/maap-ops-workspace/shared/leitoldv/GEDI_global_PA_v2/WDPA_gedi_L2A_tiles/tile_num_22777_L2A.gpkg\u001b[34m\u001b[39m\n",
      "\n"
     ]
    },
    {
     "name": "stdout",
     "output_type": "stream",
     "text": [
      "GEDI dataframe for  117 GPKG file has 757725 rows and  12 columns \n",
      " [1] \"shot_number\"    \"filename\"       \"lat_lowestmode\" \"lon_lowestmode\"\n",
      " [5] \"rh25\"           \"rh50\"           \"rh75\"           \"rh98\"          \n",
      " [9] \"agbd\"           \"agbd_se\"        \"agbd_t\"         \"agbd_t_se\"     \n",
      "GEDI dataframe has 222281 rows and  21 columns \n",
      "Reading in no.  118 GPKG file of  222 GPKG tiles for iso3 BaE \n"
     ]
    },
    {
     "name": "stderr",
     "output_type": "stream",
     "text": [
      "\u001b[36mℹ\u001b[39m \u001b[34m\u001b[34ms3://maap-ops-workspace/shared/leitoldv/GEDI_global_PA_v2/WDPA_gedi_L4A_tiles/tile_num_22778_L4A.gpkg\u001b[34m\u001b[39m already exists at \u001b[34m\u001b[34m/projects/.local/share/R/s3/maap-ops-workspace/shared/leitoldv/GEDI_global_PA_v2/WDPA_gedi_L4A_tiles/tile_num_22778_L4A.gpkg\u001b[34m\u001b[39m\n",
      "\n",
      "\u001b[36mℹ\u001b[39m \u001b[34m\u001b[34ms3://maap-ops-workspace/shared/leitoldv/GEDI_global_PA_v2/WDPA_gedi_L2A_tiles/tile_num_22778_L2A.gpkg\u001b[34m\u001b[39m already exists at \u001b[34m\u001b[34m/projects/.local/share/R/s3/maap-ops-workspace/shared/leitoldv/GEDI_global_PA_v2/WDPA_gedi_L2A_tiles/tile_num_22778_L2A.gpkg\u001b[34m\u001b[39m\n",
      "\n"
     ]
    },
    {
     "name": "stdout",
     "output_type": "stream",
     "text": [
      "GEDI dataframe for  118 GPKG file has 987811 rows and  12 columns \n",
      " [1] \"shot_number\"    \"filename\"       \"lat_lowestmode\" \"lon_lowestmode\"\n",
      " [5] \"rh25\"           \"rh50\"           \"rh75\"           \"rh98\"          \n",
      " [9] \"agbd\"           \"agbd_se\"        \"agbd_t\"         \"agbd_t_se\"     \n",
      "GEDI dataframe has 222281 rows and  21 columns \n",
      "Reading in no.  119 GPKG file of  222 GPKG tiles for iso3 BaE \n"
     ]
    },
    {
     "name": "stderr",
     "output_type": "stream",
     "text": [
      "\u001b[36mℹ\u001b[39m \u001b[34m\u001b[34ms3://maap-ops-workspace/shared/leitoldv/GEDI_global_PA_v2/WDPA_gedi_L4A_tiles/tile_num_22779_L4A.gpkg\u001b[34m\u001b[39m already exists at \u001b[34m\u001b[34m/projects/.local/share/R/s3/maap-ops-workspace/shared/leitoldv/GEDI_global_PA_v2/WDPA_gedi_L4A_tiles/tile_num_22779_L4A.gpkg\u001b[34m\u001b[39m\n",
      "\n",
      "\u001b[36mℹ\u001b[39m \u001b[34m\u001b[34ms3://maap-ops-workspace/shared/leitoldv/GEDI_global_PA_v2/WDPA_gedi_L2A_tiles/tile_num_22779_L2A.gpkg\u001b[34m\u001b[39m already exists at \u001b[34m\u001b[34m/projects/.local/share/R/s3/maap-ops-workspace/shared/leitoldv/GEDI_global_PA_v2/WDPA_gedi_L2A_tiles/tile_num_22779_L2A.gpkg\u001b[34m\u001b[39m\n",
      "\n"
     ]
    },
    {
     "name": "stdout",
     "output_type": "stream",
     "text": [
      "GEDI dataframe for  119 GPKG file has 842743 rows and  12 columns \n",
      " [1] \"shot_number\"    \"filename\"       \"lat_lowestmode\" \"lon_lowestmode\"\n",
      " [5] \"rh25\"           \"rh50\"           \"rh75\"           \"rh98\"          \n",
      " [9] \"agbd\"           \"agbd_se\"        \"agbd_t\"         \"agbd_t_se\"     \n",
      "GEDI dataframe has 222281 rows and  21 columns \n",
      "Reading in no.  120 GPKG file of  222 GPKG tiles for iso3 BaE \n"
     ]
    },
    {
     "name": "stderr",
     "output_type": "stream",
     "text": [
      "\u001b[36mℹ\u001b[39m \u001b[34m\u001b[34ms3://maap-ops-workspace/shared/leitoldv/GEDI_global_PA_v2/WDPA_gedi_L4A_tiles/tile_num_22780_L4A.gpkg\u001b[34m\u001b[39m already exists at \u001b[34m\u001b[34m/projects/.local/share/R/s3/maap-ops-workspace/shared/leitoldv/GEDI_global_PA_v2/WDPA_gedi_L4A_tiles/tile_num_22780_L4A.gpkg\u001b[34m\u001b[39m\n",
      "\n",
      "\u001b[36mℹ\u001b[39m \u001b[34m\u001b[34ms3://maap-ops-workspace/shared/leitoldv/GEDI_global_PA_v2/WDPA_gedi_L2A_tiles/tile_num_22780_L2A.gpkg\u001b[34m\u001b[39m already exists at \u001b[34m\u001b[34m/projects/.local/share/R/s3/maap-ops-workspace/shared/leitoldv/GEDI_global_PA_v2/WDPA_gedi_L2A_tiles/tile_num_22780_L2A.gpkg\u001b[34m\u001b[39m\n",
      "\n"
     ]
    },
    {
     "name": "stdout",
     "output_type": "stream",
     "text": [
      "GEDI dataframe for  120 GPKG file has 785293 rows and  12 columns \n",
      " [1] \"shot_number\"    \"filename\"       \"lat_lowestmode\" \"lon_lowestmode\"\n",
      " [5] \"rh25\"           \"rh50\"           \"rh75\"           \"rh98\"          \n",
      " [9] \"agbd\"           \"agbd_se\"        \"agbd_t\"         \"agbd_t_se\"     \n",
      "GEDI dataframe has 222281 rows and  21 columns \n",
      "Reading in no.  121 GPKG file of  222 GPKG tiles for iso3 BaE \n"
     ]
    },
    {
     "name": "stderr",
     "output_type": "stream",
     "text": [
      "\u001b[36mℹ\u001b[39m \u001b[34m\u001b[34ms3://maap-ops-workspace/shared/leitoldv/GEDI_global_PA_v2/WDPA_gedi_L4A_tiles/tile_num_22781_L4A.gpkg\u001b[34m\u001b[39m already exists at \u001b[34m\u001b[34m/projects/.local/share/R/s3/maap-ops-workspace/shared/leitoldv/GEDI_global_PA_v2/WDPA_gedi_L4A_tiles/tile_num_22781_L4A.gpkg\u001b[34m\u001b[39m\n",
      "\n",
      "\u001b[36mℹ\u001b[39m \u001b[34m\u001b[34ms3://maap-ops-workspace/shared/leitoldv/GEDI_global_PA_v2/WDPA_gedi_L2A_tiles/tile_num_22781_L2A.gpkg\u001b[34m\u001b[39m already exists at \u001b[34m\u001b[34m/projects/.local/share/R/s3/maap-ops-workspace/shared/leitoldv/GEDI_global_PA_v2/WDPA_gedi_L2A_tiles/tile_num_22781_L2A.gpkg\u001b[34m\u001b[39m\n",
      "\n"
     ]
    },
    {
     "name": "stdout",
     "output_type": "stream",
     "text": [
      "GEDI dataframe for  121 GPKG file has 770378 rows and  12 columns \n",
      " [1] \"shot_number\"    \"filename\"       \"lat_lowestmode\" \"lon_lowestmode\"\n",
      " [5] \"rh25\"           \"rh50\"           \"rh75\"           \"rh98\"          \n",
      " [9] \"agbd\"           \"agbd_se\"        \"agbd_t\"         \"agbd_t_se\"     \n",
      "GEDI dataframe has 222281 rows and  21 columns \n",
      "Reading in no.  122 GPKG file of  222 GPKG tiles for iso3 BaE \n"
     ]
    },
    {
     "name": "stderr",
     "output_type": "stream",
     "text": [
      "\u001b[36mℹ\u001b[39m \u001b[34m\u001b[34ms3://maap-ops-workspace/shared/leitoldv/GEDI_global_PA_v2/WDPA_gedi_L4A_tiles/tile_num_22782_L4A.gpkg\u001b[34m\u001b[39m already exists at \u001b[34m\u001b[34m/projects/.local/share/R/s3/maap-ops-workspace/shared/leitoldv/GEDI_global_PA_v2/WDPA_gedi_L4A_tiles/tile_num_22782_L4A.gpkg\u001b[34m\u001b[39m\n",
      "\n",
      "\u001b[36mℹ\u001b[39m \u001b[34m\u001b[34ms3://maap-ops-workspace/shared/leitoldv/GEDI_global_PA_v2/WDPA_gedi_L2A_tiles/tile_num_22782_L2A.gpkg\u001b[34m\u001b[39m already exists at \u001b[34m\u001b[34m/projects/.local/share/R/s3/maap-ops-workspace/shared/leitoldv/GEDI_global_PA_v2/WDPA_gedi_L2A_tiles/tile_num_22782_L2A.gpkg\u001b[34m\u001b[39m\n",
      "\n"
     ]
    },
    {
     "name": "stdout",
     "output_type": "stream",
     "text": [
      "GEDI dataframe for  122 GPKG file has 979070 rows and  12 columns \n",
      " [1] \"shot_number\"    \"filename\"       \"lat_lowestmode\" \"lon_lowestmode\"\n",
      " [5] \"rh25\"           \"rh50\"           \"rh75\"           \"rh98\"          \n",
      " [9] \"agbd\"           \"agbd_se\"        \"agbd_t\"         \"agbd_t_se\"     \n",
      "GEDI dataframe has 222281 rows and  21 columns \n",
      "Reading in no.  123 GPKG file of  222 GPKG tiles for iso3 BaE \n"
     ]
    },
    {
     "name": "stderr",
     "output_type": "stream",
     "text": [
      "\u001b[36mℹ\u001b[39m \u001b[34m\u001b[34ms3://maap-ops-workspace/shared/leitoldv/GEDI_global_PA_v2/WDPA_gedi_L4A_tiles/tile_num_22783_L4A.gpkg\u001b[34m\u001b[39m already exists at \u001b[34m\u001b[34m/projects/.local/share/R/s3/maap-ops-workspace/shared/leitoldv/GEDI_global_PA_v2/WDPA_gedi_L4A_tiles/tile_num_22783_L4A.gpkg\u001b[34m\u001b[39m\n",
      "\n",
      "\u001b[36mℹ\u001b[39m \u001b[34m\u001b[34ms3://maap-ops-workspace/shared/leitoldv/GEDI_global_PA_v2/WDPA_gedi_L2A_tiles/tile_num_22783_L2A.gpkg\u001b[34m\u001b[39m already exists at \u001b[34m\u001b[34m/projects/.local/share/R/s3/maap-ops-workspace/shared/leitoldv/GEDI_global_PA_v2/WDPA_gedi_L2A_tiles/tile_num_22783_L2A.gpkg\u001b[34m\u001b[39m\n",
      "\n"
     ]
    },
    {
     "name": "stdout",
     "output_type": "stream",
     "text": [
      "GEDI dataframe for  123 GPKG file has 1038217 rows and  12 columns \n",
      " [1] \"shot_number\"    \"filename\"       \"lat_lowestmode\" \"lon_lowestmode\"\n",
      " [5] \"rh25\"           \"rh50\"           \"rh75\"           \"rh98\"          \n",
      " [9] \"agbd\"           \"agbd_se\"        \"agbd_t\"         \"agbd_t_se\"     \n",
      "GEDI dataframe has 222281 rows and  21 columns \n",
      "Reading in no.  124 GPKG file of  222 GPKG tiles for iso3 BaE \n"
     ]
    },
    {
     "name": "stderr",
     "output_type": "stream",
     "text": [
      "\u001b[36mℹ\u001b[39m \u001b[34m\u001b[34ms3://maap-ops-workspace/shared/leitoldv/GEDI_global_PA_v2/WDPA_gedi_L4A_tiles/tile_num_22784_L4A.gpkg\u001b[34m\u001b[39m already exists at \u001b[34m\u001b[34m/projects/.local/share/R/s3/maap-ops-workspace/shared/leitoldv/GEDI_global_PA_v2/WDPA_gedi_L4A_tiles/tile_num_22784_L4A.gpkg\u001b[34m\u001b[39m\n",
      "\n",
      "\u001b[36mℹ\u001b[39m \u001b[34m\u001b[34ms3://maap-ops-workspace/shared/leitoldv/GEDI_global_PA_v2/WDPA_gedi_L2A_tiles/tile_num_22784_L2A.gpkg\u001b[34m\u001b[39m already exists at \u001b[34m\u001b[34m/projects/.local/share/R/s3/maap-ops-workspace/shared/leitoldv/GEDI_global_PA_v2/WDPA_gedi_L2A_tiles/tile_num_22784_L2A.gpkg\u001b[34m\u001b[39m\n",
      "\n"
     ]
    },
    {
     "name": "stdout",
     "output_type": "stream",
     "text": [
      "GEDI dataframe for  124 GPKG file has 724413 rows and  12 columns \n",
      " [1] \"shot_number\"    \"filename\"       \"lat_lowestmode\" \"lon_lowestmode\"\n",
      " [5] \"rh25\"           \"rh50\"           \"rh75\"           \"rh98\"          \n",
      " [9] \"agbd\"           \"agbd_se\"        \"agbd_t\"         \"agbd_t_se\"     \n",
      "GEDI dataframe has 222281 rows and  21 columns \n",
      "Reading in no.  125 GPKG file of  222 GPKG tiles for iso3 BaE \n"
     ]
    },
    {
     "name": "stderr",
     "output_type": "stream",
     "text": [
      "\u001b[36mℹ\u001b[39m \u001b[34m\u001b[34ms3://maap-ops-workspace/shared/leitoldv/GEDI_global_PA_v2/WDPA_gedi_L4A_tiles/tile_num_22947_L4A.gpkg\u001b[34m\u001b[39m already exists at \u001b[34m\u001b[34m/projects/.local/share/R/s3/maap-ops-workspace/shared/leitoldv/GEDI_global_PA_v2/WDPA_gedi_L4A_tiles/tile_num_22947_L4A.gpkg\u001b[34m\u001b[39m\n",
      "\n",
      "\u001b[36mℹ\u001b[39m \u001b[34m\u001b[34ms3://maap-ops-workspace/shared/leitoldv/GEDI_global_PA_v2/WDPA_gedi_L2A_tiles/tile_num_22947_L2A.gpkg\u001b[34m\u001b[39m already exists at \u001b[34m\u001b[34m/projects/.local/share/R/s3/maap-ops-workspace/shared/leitoldv/GEDI_global_PA_v2/WDPA_gedi_L2A_tiles/tile_num_22947_L2A.gpkg\u001b[34m\u001b[39m\n",
      "\n"
     ]
    },
    {
     "name": "stdout",
     "output_type": "stream",
     "text": [
      "GEDI dataframe for  125 GPKG file has 529450 rows and  12 columns \n",
      " [1] \"shot_number\"    \"filename\"       \"lat_lowestmode\" \"lon_lowestmode\"\n",
      " [5] \"rh25\"           \"rh50\"           \"rh75\"           \"rh98\"          \n",
      " [9] \"agbd\"           \"agbd_se\"        \"agbd_t\"         \"agbd_t_se\"     \n",
      "GEDI dataframe has 222281 rows and  21 columns \n",
      "Reading in no.  126 GPKG file of  222 GPKG tiles for iso3 BaE \n"
     ]
    },
    {
     "name": "stderr",
     "output_type": "stream",
     "text": [
      "\u001b[36mℹ\u001b[39m \u001b[34m\u001b[34ms3://maap-ops-workspace/shared/leitoldv/GEDI_global_PA_v2/WDPA_gedi_L4A_tiles/tile_num_22948_L4A.gpkg\u001b[34m\u001b[39m already exists at \u001b[34m\u001b[34m/projects/.local/share/R/s3/maap-ops-workspace/shared/leitoldv/GEDI_global_PA_v2/WDPA_gedi_L4A_tiles/tile_num_22948_L4A.gpkg\u001b[34m\u001b[39m\n",
      "\n",
      "\u001b[36mℹ\u001b[39m \u001b[34m\u001b[34ms3://maap-ops-workspace/shared/leitoldv/GEDI_global_PA_v2/WDPA_gedi_L2A_tiles/tile_num_22948_L2A.gpkg\u001b[34m\u001b[39m already exists at \u001b[34m\u001b[34m/projects/.local/share/R/s3/maap-ops-workspace/shared/leitoldv/GEDI_global_PA_v2/WDPA_gedi_L2A_tiles/tile_num_22948_L2A.gpkg\u001b[34m\u001b[39m\n",
      "\n"
     ]
    },
    {
     "name": "stdout",
     "output_type": "stream",
     "text": [
      "GEDI dataframe for  126 GPKG file has 468932 rows and  12 columns \n",
      " [1] \"shot_number\"    \"filename\"       \"lat_lowestmode\" \"lon_lowestmode\"\n",
      " [5] \"rh25\"           \"rh50\"           \"rh75\"           \"rh98\"          \n",
      " [9] \"agbd\"           \"agbd_se\"        \"agbd_t\"         \"agbd_t_se\"     \n",
      "GEDI dataframe has 222281 rows and  21 columns \n",
      "Reading in no.  127 GPKG file of  222 GPKG tiles for iso3 BaE \n"
     ]
    },
    {
     "name": "stderr",
     "output_type": "stream",
     "text": [
      "\u001b[36mℹ\u001b[39m \u001b[34m\u001b[34ms3://maap-ops-workspace/shared/leitoldv/GEDI_global_PA_v2/WDPA_gedi_L4A_tiles/tile_num_22949_L4A.gpkg\u001b[34m\u001b[39m already exists at \u001b[34m\u001b[34m/projects/.local/share/R/s3/maap-ops-workspace/shared/leitoldv/GEDI_global_PA_v2/WDPA_gedi_L4A_tiles/tile_num_22949_L4A.gpkg\u001b[34m\u001b[39m\n",
      "\n",
      "\u001b[36mℹ\u001b[39m \u001b[34m\u001b[34ms3://maap-ops-workspace/shared/leitoldv/GEDI_global_PA_v2/WDPA_gedi_L2A_tiles/tile_num_22949_L2A.gpkg\u001b[34m\u001b[39m already exists at \u001b[34m\u001b[34m/projects/.local/share/R/s3/maap-ops-workspace/shared/leitoldv/GEDI_global_PA_v2/WDPA_gedi_L2A_tiles/tile_num_22949_L2A.gpkg\u001b[34m\u001b[39m\n",
      "\n"
     ]
    },
    {
     "name": "stdout",
     "output_type": "stream",
     "text": [
      "GEDI dataframe for  127 GPKG file has 433643 rows and  12 columns \n",
      " [1] \"shot_number\"    \"filename\"       \"lat_lowestmode\" \"lon_lowestmode\"\n",
      " [5] \"rh25\"           \"rh50\"           \"rh75\"           \"rh98\"          \n",
      " [9] \"agbd\"           \"agbd_se\"        \"agbd_t\"         \"agbd_t_se\"     \n",
      "GEDI dataframe has 222281 rows and  21 columns \n",
      "Reading in no.  128 GPKG file of  222 GPKG tiles for iso3 BaE \n"
     ]
    },
    {
     "name": "stderr",
     "output_type": "stream",
     "text": [
      "\u001b[36mℹ\u001b[39m \u001b[34m\u001b[34ms3://maap-ops-workspace/shared/leitoldv/GEDI_global_PA_v2/WDPA_gedi_L4A_tiles/tile_num_22950_L4A.gpkg\u001b[34m\u001b[39m already exists at \u001b[34m\u001b[34m/projects/.local/share/R/s3/maap-ops-workspace/shared/leitoldv/GEDI_global_PA_v2/WDPA_gedi_L4A_tiles/tile_num_22950_L4A.gpkg\u001b[34m\u001b[39m\n",
      "\n",
      "\u001b[36mℹ\u001b[39m \u001b[34m\u001b[34ms3://maap-ops-workspace/shared/leitoldv/GEDI_global_PA_v2/WDPA_gedi_L2A_tiles/tile_num_22950_L2A.gpkg\u001b[34m\u001b[39m already exists at \u001b[34m\u001b[34m/projects/.local/share/R/s3/maap-ops-workspace/shared/leitoldv/GEDI_global_PA_v2/WDPA_gedi_L2A_tiles/tile_num_22950_L2A.gpkg\u001b[34m\u001b[39m\n",
      "\n"
     ]
    },
    {
     "name": "stdout",
     "output_type": "stream",
     "text": [
      "GEDI dataframe for  128 GPKG file has 571470 rows and  12 columns \n",
      " [1] \"shot_number\"    \"filename\"       \"lat_lowestmode\" \"lon_lowestmode\"\n",
      " [5] \"rh25\"           \"rh50\"           \"rh75\"           \"rh98\"          \n",
      " [9] \"agbd\"           \"agbd_se\"        \"agbd_t\"         \"agbd_t_se\"     \n",
      "GEDI dataframe has 531049 rows and  21 columns \n",
      "Reading in no.  129 GPKG file of  222 GPKG tiles for iso3 BaE \n"
     ]
    },
    {
     "name": "stderr",
     "output_type": "stream",
     "text": [
      "\u001b[36mℹ\u001b[39m \u001b[34m\u001b[34ms3://maap-ops-workspace/shared/leitoldv/GEDI_global_PA_v2/WDPA_gedi_L4A_tiles/tile_num_22951_L4A.gpkg\u001b[34m\u001b[39m already exists at \u001b[34m\u001b[34m/projects/.local/share/R/s3/maap-ops-workspace/shared/leitoldv/GEDI_global_PA_v2/WDPA_gedi_L4A_tiles/tile_num_22951_L4A.gpkg\u001b[34m\u001b[39m\n",
      "\n",
      "\u001b[36mℹ\u001b[39m \u001b[34m\u001b[34ms3://maap-ops-workspace/shared/leitoldv/GEDI_global_PA_v2/WDPA_gedi_L2A_tiles/tile_num_22951_L2A.gpkg\u001b[34m\u001b[39m already exists at \u001b[34m\u001b[34m/projects/.local/share/R/s3/maap-ops-workspace/shared/leitoldv/GEDI_global_PA_v2/WDPA_gedi_L2A_tiles/tile_num_22951_L2A.gpkg\u001b[34m\u001b[39m\n",
      "\n"
     ]
    },
    {
     "name": "stdout",
     "output_type": "stream",
     "text": [
      "GEDI dataframe for  129 GPKG file has 683429 rows and  12 columns \n",
      " [1] \"shot_number\"    \"filename\"       \"lat_lowestmode\" \"lon_lowestmode\"\n",
      " [5] \"rh25\"           \"rh50\"           \"rh75\"           \"rh98\"          \n",
      " [9] \"agbd\"           \"agbd_se\"        \"agbd_t\"         \"agbd_t_se\"     \n",
      "GEDI dataframe has 655547 rows and  21 columns \n",
      "Reading in no.  130 GPKG file of  222 GPKG tiles for iso3 BaE \n"
     ]
    },
    {
     "name": "stderr",
     "output_type": "stream",
     "text": [
      "\u001b[36mℹ\u001b[39m \u001b[34m\u001b[34ms3://maap-ops-workspace/shared/leitoldv/GEDI_global_PA_v2/WDPA_gedi_L4A_tiles/tile_num_22952_L4A.gpkg\u001b[34m\u001b[39m already exists at \u001b[34m\u001b[34m/projects/.local/share/R/s3/maap-ops-workspace/shared/leitoldv/GEDI_global_PA_v2/WDPA_gedi_L4A_tiles/tile_num_22952_L4A.gpkg\u001b[34m\u001b[39m\n",
      "\n",
      "\u001b[36mℹ\u001b[39m \u001b[34m\u001b[34ms3://maap-ops-workspace/shared/leitoldv/GEDI_global_PA_v2/WDPA_gedi_L2A_tiles/tile_num_22952_L2A.gpkg\u001b[34m\u001b[39m already exists at \u001b[34m\u001b[34m/projects/.local/share/R/s3/maap-ops-workspace/shared/leitoldv/GEDI_global_PA_v2/WDPA_gedi_L2A_tiles/tile_num_22952_L2A.gpkg\u001b[34m\u001b[39m\n",
      "\n"
     ]
    },
    {
     "name": "stdout",
     "output_type": "stream",
     "text": [
      "GEDI dataframe for  130 GPKG file has 438056 rows and  12 columns \n",
      " [1] \"shot_number\"    \"filename\"       \"lat_lowestmode\" \"lon_lowestmode\"\n",
      " [5] \"rh25\"           \"rh50\"           \"rh75\"           \"rh98\"          \n",
      " [9] \"agbd\"           \"agbd_se\"        \"agbd_t\"         \"agbd_t_se\"     \n",
      "GEDI dataframe has 656674 rows and  21 columns \n",
      "Reading in no.  131 GPKG file of  222 GPKG tiles for iso3 BaE \n"
     ]
    },
    {
     "name": "stderr",
     "output_type": "stream",
     "text": [
      "\u001b[36mℹ\u001b[39m \u001b[34m\u001b[34ms3://maap-ops-workspace/shared/leitoldv/GEDI_global_PA_v2/WDPA_gedi_L4A_tiles/tile_num_22953_L4A.gpkg\u001b[34m\u001b[39m already exists at \u001b[34m\u001b[34m/projects/.local/share/R/s3/maap-ops-workspace/shared/leitoldv/GEDI_global_PA_v2/WDPA_gedi_L4A_tiles/tile_num_22953_L4A.gpkg\u001b[34m\u001b[39m\n",
      "\n",
      "\u001b[36mℹ\u001b[39m \u001b[34m\u001b[34ms3://maap-ops-workspace/shared/leitoldv/GEDI_global_PA_v2/WDPA_gedi_L2A_tiles/tile_num_22953_L2A.gpkg\u001b[34m\u001b[39m already exists at \u001b[34m\u001b[34m/projects/.local/share/R/s3/maap-ops-workspace/shared/leitoldv/GEDI_global_PA_v2/WDPA_gedi_L2A_tiles/tile_num_22953_L2A.gpkg\u001b[34m\u001b[39m\n",
      "\n"
     ]
    },
    {
     "name": "stdout",
     "output_type": "stream",
     "text": [
      "GEDI dataframe for  131 GPKG file has 730910 rows and  12 columns \n",
      " [1] \"shot_number\"    \"filename\"       \"lat_lowestmode\" \"lon_lowestmode\"\n",
      " [5] \"rh25\"           \"rh50\"           \"rh75\"           \"rh98\"          \n",
      " [9] \"agbd\"           \"agbd_se\"        \"agbd_t\"         \"agbd_t_se\"     \n",
      "GEDI dataframe has 656674 rows and  21 columns \n",
      "Reading in no.  132 GPKG file of  222 GPKG tiles for iso3 BaE \n"
     ]
    },
    {
     "name": "stderr",
     "output_type": "stream",
     "text": [
      "\u001b[36mℹ\u001b[39m \u001b[34m\u001b[34ms3://maap-ops-workspace/shared/leitoldv/GEDI_global_PA_v2/WDPA_gedi_L4A_tiles/tile_num_22954_L4A.gpkg\u001b[34m\u001b[39m already exists at \u001b[34m\u001b[34m/projects/.local/share/R/s3/maap-ops-workspace/shared/leitoldv/GEDI_global_PA_v2/WDPA_gedi_L4A_tiles/tile_num_22954_L4A.gpkg\u001b[34m\u001b[39m\n",
      "\n",
      "\u001b[36mℹ\u001b[39m \u001b[34m\u001b[34ms3://maap-ops-workspace/shared/leitoldv/GEDI_global_PA_v2/WDPA_gedi_L2A_tiles/tile_num_22954_L2A.gpkg\u001b[34m\u001b[39m already exists at \u001b[34m\u001b[34m/projects/.local/share/R/s3/maap-ops-workspace/shared/leitoldv/GEDI_global_PA_v2/WDPA_gedi_L2A_tiles/tile_num_22954_L2A.gpkg\u001b[34m\u001b[39m\n",
      "\n"
     ]
    },
    {
     "name": "stdout",
     "output_type": "stream",
     "text": [
      "GEDI dataframe for  132 GPKG file has 717756 rows and  12 columns \n",
      " [1] \"shot_number\"    \"filename\"       \"lat_lowestmode\" \"lon_lowestmode\"\n",
      " [5] \"rh25\"           \"rh50\"           \"rh75\"           \"rh98\"          \n",
      " [9] \"agbd\"           \"agbd_se\"        \"agbd_t\"         \"agbd_t_se\"     \n",
      "GEDI dataframe has 671737 rows and  21 columns \n",
      "Reading in no.  133 GPKG file of  222 GPKG tiles for iso3 BaE \n"
     ]
    },
    {
     "name": "stderr",
     "output_type": "stream",
     "text": [
      "\u001b[36mℹ\u001b[39m \u001b[34m\u001b[34ms3://maap-ops-workspace/shared/leitoldv/GEDI_global_PA_v2/WDPA_gedi_L4A_tiles/tile_num_22955_L4A.gpkg\u001b[34m\u001b[39m already exists at \u001b[34m\u001b[34m/projects/.local/share/R/s3/maap-ops-workspace/shared/leitoldv/GEDI_global_PA_v2/WDPA_gedi_L4A_tiles/tile_num_22955_L4A.gpkg\u001b[34m\u001b[39m\n",
      "\n",
      "\u001b[36mℹ\u001b[39m \u001b[34m\u001b[34ms3://maap-ops-workspace/shared/leitoldv/GEDI_global_PA_v2/WDPA_gedi_L2A_tiles/tile_num_22955_L2A.gpkg\u001b[34m\u001b[39m already exists at \u001b[34m\u001b[34m/projects/.local/share/R/s3/maap-ops-workspace/shared/leitoldv/GEDI_global_PA_v2/WDPA_gedi_L2A_tiles/tile_num_22955_L2A.gpkg\u001b[34m\u001b[39m\n",
      "\n"
     ]
    },
    {
     "name": "stdout",
     "output_type": "stream",
     "text": [
      "GEDI dataframe for  133 GPKG file has 849351 rows and  12 columns \n",
      " [1] \"shot_number\"    \"filename\"       \"lat_lowestmode\" \"lon_lowestmode\"\n",
      " [5] \"rh25\"           \"rh50\"           \"rh75\"           \"rh98\"          \n",
      " [9] \"agbd\"           \"agbd_se\"        \"agbd_t\"         \"agbd_t_se\"     \n",
      "GEDI dataframe has 672373 rows and  21 columns \n",
      "Reading in no.  134 GPKG file of  222 GPKG tiles for iso3 BaE \n"
     ]
    },
    {
     "name": "stderr",
     "output_type": "stream",
     "text": [
      "\u001b[36mℹ\u001b[39m \u001b[34m\u001b[34ms3://maap-ops-workspace/shared/leitoldv/GEDI_global_PA_v2/WDPA_gedi_L4A_tiles/tile_num_22956_L4A.gpkg\u001b[34m\u001b[39m already exists at \u001b[34m\u001b[34m/projects/.local/share/R/s3/maap-ops-workspace/shared/leitoldv/GEDI_global_PA_v2/WDPA_gedi_L4A_tiles/tile_num_22956_L4A.gpkg\u001b[34m\u001b[39m\n",
      "\n",
      "\u001b[36mℹ\u001b[39m \u001b[34m\u001b[34ms3://maap-ops-workspace/shared/leitoldv/GEDI_global_PA_v2/WDPA_gedi_L2A_tiles/tile_num_22956_L2A.gpkg\u001b[34m\u001b[39m already exists at \u001b[34m\u001b[34m/projects/.local/share/R/s3/maap-ops-workspace/shared/leitoldv/GEDI_global_PA_v2/WDPA_gedi_L2A_tiles/tile_num_22956_L2A.gpkg\u001b[34m\u001b[39m\n",
      "\n"
     ]
    },
    {
     "name": "stdout",
     "output_type": "stream",
     "text": [
      "GEDI dataframe for  134 GPKG file has 748408 rows and  12 columns \n",
      " [1] \"shot_number\"    \"filename\"       \"lat_lowestmode\" \"lon_lowestmode\"\n",
      " [5] \"rh25\"           \"rh50\"           \"rh75\"           \"rh98\"          \n",
      " [9] \"agbd\"           \"agbd_se\"        \"agbd_t\"         \"agbd_t_se\"     \n",
      "GEDI dataframe has 672373 rows and  21 columns \n",
      "Reading in no.  135 GPKG file of  222 GPKG tiles for iso3 BaE \n"
     ]
    },
    {
     "name": "stderr",
     "output_type": "stream",
     "text": [
      "\u001b[36mℹ\u001b[39m \u001b[34m\u001b[34ms3://maap-ops-workspace/shared/leitoldv/GEDI_global_PA_v2/WDPA_gedi_L4A_tiles/tile_num_22957_L4A.gpkg\u001b[34m\u001b[39m already exists at \u001b[34m\u001b[34m/projects/.local/share/R/s3/maap-ops-workspace/shared/leitoldv/GEDI_global_PA_v2/WDPA_gedi_L4A_tiles/tile_num_22957_L4A.gpkg\u001b[34m\u001b[39m\n",
      "\n",
      "\u001b[36mℹ\u001b[39m \u001b[34m\u001b[34ms3://maap-ops-workspace/shared/leitoldv/GEDI_global_PA_v2/WDPA_gedi_L2A_tiles/tile_num_22957_L2A.gpkg\u001b[34m\u001b[39m already exists at \u001b[34m\u001b[34m/projects/.local/share/R/s3/maap-ops-workspace/shared/leitoldv/GEDI_global_PA_v2/WDPA_gedi_L2A_tiles/tile_num_22957_L2A.gpkg\u001b[34m\u001b[39m\n",
      "\n"
     ]
    },
    {
     "name": "stdout",
     "output_type": "stream",
     "text": [
      "GEDI dataframe for  135 GPKG file has 532331 rows and  12 columns \n",
      " [1] \"shot_number\"    \"filename\"       \"lat_lowestmode\" \"lon_lowestmode\"\n",
      " [5] \"rh25\"           \"rh50\"           \"rh75\"           \"rh98\"          \n",
      " [9] \"agbd\"           \"agbd_se\"        \"agbd_t\"         \"agbd_t_se\"     \n",
      "GEDI dataframe has 672965 rows and  21 columns \n",
      "Reading in no.  136 GPKG file of  222 GPKG tiles for iso3 BaE \n"
     ]
    },
    {
     "name": "stderr",
     "output_type": "stream",
     "text": [
      "\u001b[36mℹ\u001b[39m \u001b[34m\u001b[34ms3://maap-ops-workspace/shared/leitoldv/GEDI_global_PA_v2/WDPA_gedi_L4A_tiles/tile_num_22958_L4A.gpkg\u001b[34m\u001b[39m already exists at \u001b[34m\u001b[34m/projects/.local/share/R/s3/maap-ops-workspace/shared/leitoldv/GEDI_global_PA_v2/WDPA_gedi_L4A_tiles/tile_num_22958_L4A.gpkg\u001b[34m\u001b[39m\n",
      "\n",
      "\u001b[36mℹ\u001b[39m \u001b[34m\u001b[34ms3://maap-ops-workspace/shared/leitoldv/GEDI_global_PA_v2/WDPA_gedi_L2A_tiles/tile_num_22958_L2A.gpkg\u001b[34m\u001b[39m already exists at \u001b[34m\u001b[34m/projects/.local/share/R/s3/maap-ops-workspace/shared/leitoldv/GEDI_global_PA_v2/WDPA_gedi_L2A_tiles/tile_num_22958_L2A.gpkg\u001b[34m\u001b[39m\n",
      "\n"
     ]
    },
    {
     "name": "stdout",
     "output_type": "stream",
     "text": [
      "GEDI dataframe for  136 GPKG file has 732054 rows and  12 columns \n",
      " [1] \"shot_number\"    \"filename\"       \"lat_lowestmode\" \"lon_lowestmode\"\n",
      " [5] \"rh25\"           \"rh50\"           \"rh75\"           \"rh98\"          \n",
      " [9] \"agbd\"           \"agbd_se\"        \"agbd_t\"         \"agbd_t_se\"     \n",
      "GEDI dataframe has 672965 rows and  21 columns \n",
      "Reading in no.  137 GPKG file of  222 GPKG tiles for iso3 BaE \n"
     ]
    },
    {
     "name": "stderr",
     "output_type": "stream",
     "text": [
      "\u001b[36mℹ\u001b[39m \u001b[34m\u001b[34ms3://maap-ops-workspace/shared/leitoldv/GEDI_global_PA_v2/WDPA_gedi_L4A_tiles/tile_num_22959_L4A.gpkg\u001b[34m\u001b[39m already exists at \u001b[34m\u001b[34m/projects/.local/share/R/s3/maap-ops-workspace/shared/leitoldv/GEDI_global_PA_v2/WDPA_gedi_L4A_tiles/tile_num_22959_L4A.gpkg\u001b[34m\u001b[39m\n",
      "\n",
      "\u001b[36mℹ\u001b[39m \u001b[34m\u001b[34ms3://maap-ops-workspace/shared/leitoldv/GEDI_global_PA_v2/WDPA_gedi_L2A_tiles/tile_num_22959_L2A.gpkg\u001b[34m\u001b[39m already exists at \u001b[34m\u001b[34m/projects/.local/share/R/s3/maap-ops-workspace/shared/leitoldv/GEDI_global_PA_v2/WDPA_gedi_L2A_tiles/tile_num_22959_L2A.gpkg\u001b[34m\u001b[39m\n",
      "\n"
     ]
    },
    {
     "name": "stdout",
     "output_type": "stream",
     "text": [
      "GEDI dataframe for  137 GPKG file has 936992 rows and  12 columns \n",
      " [1] \"shot_number\"    \"filename\"       \"lat_lowestmode\" \"lon_lowestmode\"\n",
      " [5] \"rh25\"           \"rh50\"           \"rh75\"           \"rh98\"          \n",
      " [9] \"agbd\"           \"agbd_se\"        \"agbd_t\"         \"agbd_t_se\"     \n",
      "GEDI dataframe has 672965 rows and  21 columns \n",
      "Reading in no.  138 GPKG file of  222 GPKG tiles for iso3 BaE \n"
     ]
    },
    {
     "name": "stderr",
     "output_type": "stream",
     "text": [
      "\u001b[36mℹ\u001b[39m \u001b[34m\u001b[34ms3://maap-ops-workspace/shared/leitoldv/GEDI_global_PA_v2/WDPA_gedi_L4A_tiles/tile_num_22960_L4A.gpkg\u001b[34m\u001b[39m already exists at \u001b[34m\u001b[34m/projects/.local/share/R/s3/maap-ops-workspace/shared/leitoldv/GEDI_global_PA_v2/WDPA_gedi_L4A_tiles/tile_num_22960_L4A.gpkg\u001b[34m\u001b[39m\n",
      "\n",
      "\u001b[36mℹ\u001b[39m \u001b[34m\u001b[34ms3://maap-ops-workspace/shared/leitoldv/GEDI_global_PA_v2/WDPA_gedi_L2A_tiles/tile_num_22960_L2A.gpkg\u001b[34m\u001b[39m already exists at \u001b[34m\u001b[34m/projects/.local/share/R/s3/maap-ops-workspace/shared/leitoldv/GEDI_global_PA_v2/WDPA_gedi_L2A_tiles/tile_num_22960_L2A.gpkg\u001b[34m\u001b[39m\n",
      "\n"
     ]
    },
    {
     "name": "stdout",
     "output_type": "stream",
     "text": [
      "GEDI dataframe for  138 GPKG file has 926117 rows and  12 columns \n",
      " [1] \"shot_number\"    \"filename\"       \"lat_lowestmode\" \"lon_lowestmode\"\n",
      " [5] \"rh25\"           \"rh50\"           \"rh75\"           \"rh98\"          \n",
      " [9] \"agbd\"           \"agbd_se\"        \"agbd_t\"         \"agbd_t_se\"     \n",
      "GEDI dataframe has 672965 rows and  21 columns \n",
      "Reading in no.  139 GPKG file of  222 GPKG tiles for iso3 BaE \n"
     ]
    },
    {
     "name": "stderr",
     "output_type": "stream",
     "text": [
      "\u001b[36mℹ\u001b[39m \u001b[34m\u001b[34ms3://maap-ops-workspace/shared/leitoldv/GEDI_global_PA_v2/WDPA_gedi_L4A_tiles/tile_num_22961_L4A.gpkg\u001b[34m\u001b[39m already exists at \u001b[34m\u001b[34m/projects/.local/share/R/s3/maap-ops-workspace/shared/leitoldv/GEDI_global_PA_v2/WDPA_gedi_L4A_tiles/tile_num_22961_L4A.gpkg\u001b[34m\u001b[39m\n",
      "\n",
      "\u001b[36mℹ\u001b[39m \u001b[34m\u001b[34ms3://maap-ops-workspace/shared/leitoldv/GEDI_global_PA_v2/WDPA_gedi_L2A_tiles/tile_num_22961_L2A.gpkg\u001b[34m\u001b[39m already exists at \u001b[34m\u001b[34m/projects/.local/share/R/s3/maap-ops-workspace/shared/leitoldv/GEDI_global_PA_v2/WDPA_gedi_L2A_tiles/tile_num_22961_L2A.gpkg\u001b[34m\u001b[39m\n",
      "\n"
     ]
    },
    {
     "name": "stdout",
     "output_type": "stream",
     "text": [
      "GEDI dataframe for  139 GPKG file has 770446 rows and  12 columns \n",
      " [1] \"shot_number\"    \"filename\"       \"lat_lowestmode\" \"lon_lowestmode\"\n",
      " [5] \"rh25\"           \"rh50\"           \"rh75\"           \"rh98\"          \n",
      " [9] \"agbd\"           \"agbd_se\"        \"agbd_t\"         \"agbd_t_se\"     \n",
      "GEDI dataframe has 672965 rows and  21 columns \n",
      "Reading in no.  140 GPKG file of  222 GPKG tiles for iso3 BaE \n"
     ]
    },
    {
     "name": "stderr",
     "output_type": "stream",
     "text": [
      "\u001b[36mℹ\u001b[39m \u001b[34m\u001b[34ms3://maap-ops-workspace/shared/leitoldv/GEDI_global_PA_v2/WDPA_gedi_L4A_tiles/tile_num_22962_L4A.gpkg\u001b[34m\u001b[39m already exists at \u001b[34m\u001b[34m/projects/.local/share/R/s3/maap-ops-workspace/shared/leitoldv/GEDI_global_PA_v2/WDPA_gedi_L4A_tiles/tile_num_22962_L4A.gpkg\u001b[34m\u001b[39m\n",
      "\n",
      "\u001b[36mℹ\u001b[39m \u001b[34m\u001b[34ms3://maap-ops-workspace/shared/leitoldv/GEDI_global_PA_v2/WDPA_gedi_L2A_tiles/tile_num_22962_L2A.gpkg\u001b[34m\u001b[39m already exists at \u001b[34m\u001b[34m/projects/.local/share/R/s3/maap-ops-workspace/shared/leitoldv/GEDI_global_PA_v2/WDPA_gedi_L2A_tiles/tile_num_22962_L2A.gpkg\u001b[34m\u001b[39m\n",
      "\n"
     ]
    },
    {
     "name": "stdout",
     "output_type": "stream",
     "text": [
      "GEDI dataframe for  140 GPKG file has 962613 rows and  12 columns \n",
      " [1] \"shot_number\"    \"filename\"       \"lat_lowestmode\" \"lon_lowestmode\"\n",
      " [5] \"rh25\"           \"rh50\"           \"rh75\"           \"rh98\"          \n",
      " [9] \"agbd\"           \"agbd_se\"        \"agbd_t\"         \"agbd_t_se\"     \n",
      "GEDI dataframe has 672965 rows and  21 columns \n",
      "Reading in no.  141 GPKG file of  222 GPKG tiles for iso3 BaE \n"
     ]
    },
    {
     "name": "stderr",
     "output_type": "stream",
     "text": [
      "\u001b[36mℹ\u001b[39m \u001b[34m\u001b[34ms3://maap-ops-workspace/shared/leitoldv/GEDI_global_PA_v2/WDPA_gedi_L4A_tiles/tile_num_22963_L4A.gpkg\u001b[34m\u001b[39m already exists at \u001b[34m\u001b[34m/projects/.local/share/R/s3/maap-ops-workspace/shared/leitoldv/GEDI_global_PA_v2/WDPA_gedi_L4A_tiles/tile_num_22963_L4A.gpkg\u001b[34m\u001b[39m\n",
      "\n",
      "\u001b[36mℹ\u001b[39m \u001b[34m\u001b[34ms3://maap-ops-workspace/shared/leitoldv/GEDI_global_PA_v2/WDPA_gedi_L2A_tiles/tile_num_22963_L2A.gpkg\u001b[34m\u001b[39m already exists at \u001b[34m\u001b[34m/projects/.local/share/R/s3/maap-ops-workspace/shared/leitoldv/GEDI_global_PA_v2/WDPA_gedi_L2A_tiles/tile_num_22963_L2A.gpkg\u001b[34m\u001b[39m\n",
      "\n"
     ]
    },
    {
     "name": "stdout",
     "output_type": "stream",
     "text": [
      "GEDI dataframe for  141 GPKG file has 824428 rows and  12 columns \n",
      " [1] \"shot_number\"    \"filename\"       \"lat_lowestmode\" \"lon_lowestmode\"\n",
      " [5] \"rh25\"           \"rh50\"           \"rh75\"           \"rh98\"          \n",
      " [9] \"agbd\"           \"agbd_se\"        \"agbd_t\"         \"agbd_t_se\"     \n",
      "GEDI dataframe has 672965 rows and  21 columns \n",
      "Reading in no.  142 GPKG file of  222 GPKG tiles for iso3 BaE \n"
     ]
    },
    {
     "name": "stderr",
     "output_type": "stream",
     "text": [
      "\u001b[36mℹ\u001b[39m \u001b[34m\u001b[34ms3://maap-ops-workspace/shared/leitoldv/GEDI_global_PA_v2/WDPA_gedi_L4A_tiles/tile_num_22964_L4A.gpkg\u001b[34m\u001b[39m already exists at \u001b[34m\u001b[34m/projects/.local/share/R/s3/maap-ops-workspace/shared/leitoldv/GEDI_global_PA_v2/WDPA_gedi_L4A_tiles/tile_num_22964_L4A.gpkg\u001b[34m\u001b[39m\n",
      "\n",
      "\u001b[36mℹ\u001b[39m \u001b[34m\u001b[34ms3://maap-ops-workspace/shared/leitoldv/GEDI_global_PA_v2/WDPA_gedi_L2A_tiles/tile_num_22964_L2A.gpkg\u001b[34m\u001b[39m already exists at \u001b[34m\u001b[34m/projects/.local/share/R/s3/maap-ops-workspace/shared/leitoldv/GEDI_global_PA_v2/WDPA_gedi_L2A_tiles/tile_num_22964_L2A.gpkg\u001b[34m\u001b[39m\n",
      "\n"
     ]
    },
    {
     "name": "stdout",
     "output_type": "stream",
     "text": [
      "GEDI dataframe for  142 GPKG file has 519126 rows and  12 columns \n",
      " [1] \"shot_number\"    \"filename\"       \"lat_lowestmode\" \"lon_lowestmode\"\n",
      " [5] \"rh25\"           \"rh50\"           \"rh75\"           \"rh98\"          \n",
      " [9] \"agbd\"           \"agbd_se\"        \"agbd_t\"         \"agbd_t_se\"     \n",
      "GEDI dataframe has 672965 rows and  21 columns \n",
      "Reading in no.  143 GPKG file of  222 GPKG tiles for iso3 BaE \n"
     ]
    },
    {
     "name": "stderr",
     "output_type": "stream",
     "text": [
      "\u001b[36mℹ\u001b[39m \u001b[34m\u001b[34ms3://maap-ops-workspace/shared/leitoldv/GEDI_global_PA_v2/WDPA_gedi_L4A_tiles/tile_num_23126_L4A.gpkg\u001b[34m\u001b[39m already exists at \u001b[34m\u001b[34m/projects/.local/share/R/s3/maap-ops-workspace/shared/leitoldv/GEDI_global_PA_v2/WDPA_gedi_L4A_tiles/tile_num_23126_L4A.gpkg\u001b[34m\u001b[39m\n",
      "\n",
      "\u001b[36mℹ\u001b[39m \u001b[34m\u001b[34ms3://maap-ops-workspace/shared/leitoldv/GEDI_global_PA_v2/WDPA_gedi_L2A_tiles/tile_num_23126_L2A.gpkg\u001b[34m\u001b[39m already exists at \u001b[34m\u001b[34m/projects/.local/share/R/s3/maap-ops-workspace/shared/leitoldv/GEDI_global_PA_v2/WDPA_gedi_L2A_tiles/tile_num_23126_L2A.gpkg\u001b[34m\u001b[39m\n",
      "\n"
     ]
    },
    {
     "name": "stdout",
     "output_type": "stream",
     "text": [
      "GEDI dataframe for  143 GPKG file has 154819 rows and  12 columns \n",
      " [1] \"shot_number\"    \"filename\"       \"lat_lowestmode\" \"lon_lowestmode\"\n",
      " [5] \"rh25\"           \"rh50\"           \"rh75\"           \"rh98\"          \n",
      " [9] \"agbd\"           \"agbd_se\"        \"agbd_t\"         \"agbd_t_se\"     \n",
      "GEDI dataframe has 672965 rows and  21 columns \n",
      "Reading in no.  144 GPKG file of  222 GPKG tiles for iso3 BaE \n"
     ]
    },
    {
     "name": "stderr",
     "output_type": "stream",
     "text": [
      "\u001b[36mℹ\u001b[39m \u001b[34m\u001b[34ms3://maap-ops-workspace/shared/leitoldv/GEDI_global_PA_v2/WDPA_gedi_L4A_tiles/tile_num_23127_L4A.gpkg\u001b[34m\u001b[39m already exists at \u001b[34m\u001b[34m/projects/.local/share/R/s3/maap-ops-workspace/shared/leitoldv/GEDI_global_PA_v2/WDPA_gedi_L4A_tiles/tile_num_23127_L4A.gpkg\u001b[34m\u001b[39m\n",
      "\n",
      "\u001b[36mℹ\u001b[39m \u001b[34m\u001b[34ms3://maap-ops-workspace/shared/leitoldv/GEDI_global_PA_v2/WDPA_gedi_L2A_tiles/tile_num_23127_L2A.gpkg\u001b[34m\u001b[39m already exists at \u001b[34m\u001b[34m/projects/.local/share/R/s3/maap-ops-workspace/shared/leitoldv/GEDI_global_PA_v2/WDPA_gedi_L2A_tiles/tile_num_23127_L2A.gpkg\u001b[34m\u001b[39m\n",
      "\n"
     ]
    },
    {
     "name": "stdout",
     "output_type": "stream",
     "text": [
      "GEDI dataframe for  144 GPKG file has 397406 rows and  12 columns \n",
      " [1] \"shot_number\"    \"filename\"       \"lat_lowestmode\" \"lon_lowestmode\"\n",
      " [5] \"rh25\"           \"rh50\"           \"rh75\"           \"rh98\"          \n",
      " [9] \"agbd\"           \"agbd_se\"        \"agbd_t\"         \"agbd_t_se\"     \n",
      "GEDI dataframe has 672965 rows and  21 columns \n",
      "Reading in no.  145 GPKG file of  222 GPKG tiles for iso3 BaE \n"
     ]
    },
    {
     "name": "stderr",
     "output_type": "stream",
     "text": [
      "\u001b[36mℹ\u001b[39m \u001b[34m\u001b[34ms3://maap-ops-workspace/shared/leitoldv/GEDI_global_PA_v2/WDPA_gedi_L4A_tiles/tile_num_23128_L4A.gpkg\u001b[34m\u001b[39m already exists at \u001b[34m\u001b[34m/projects/.local/share/R/s3/maap-ops-workspace/shared/leitoldv/GEDI_global_PA_v2/WDPA_gedi_L4A_tiles/tile_num_23128_L4A.gpkg\u001b[34m\u001b[39m\n",
      "\n",
      "\u001b[36mℹ\u001b[39m \u001b[34m\u001b[34ms3://maap-ops-workspace/shared/leitoldv/GEDI_global_PA_v2/WDPA_gedi_L2A_tiles/tile_num_23128_L2A.gpkg\u001b[34m\u001b[39m already exists at \u001b[34m\u001b[34m/projects/.local/share/R/s3/maap-ops-workspace/shared/leitoldv/GEDI_global_PA_v2/WDPA_gedi_L2A_tiles/tile_num_23128_L2A.gpkg\u001b[34m\u001b[39m\n",
      "\n"
     ]
    },
    {
     "name": "stdout",
     "output_type": "stream",
     "text": [
      "GEDI dataframe for  145 GPKG file has 513087 rows and  12 columns \n",
      " [1] \"shot_number\"    \"filename\"       \"lat_lowestmode\" \"lon_lowestmode\"\n",
      " [5] \"rh25\"           \"rh50\"           \"rh75\"           \"rh98\"          \n",
      " [9] \"agbd\"           \"agbd_se\"        \"agbd_t\"         \"agbd_t_se\"     \n",
      "GEDI dataframe has 672965 rows and  21 columns \n",
      "Reading in no.  146 GPKG file of  222 GPKG tiles for iso3 BaE \n"
     ]
    },
    {
     "name": "stderr",
     "output_type": "stream",
     "text": [
      "\u001b[36mℹ\u001b[39m \u001b[34m\u001b[34ms3://maap-ops-workspace/shared/leitoldv/GEDI_global_PA_v2/WDPA_gedi_L4A_tiles/tile_num_23129_L4A.gpkg\u001b[34m\u001b[39m already exists at \u001b[34m\u001b[34m/projects/.local/share/R/s3/maap-ops-workspace/shared/leitoldv/GEDI_global_PA_v2/WDPA_gedi_L4A_tiles/tile_num_23129_L4A.gpkg\u001b[34m\u001b[39m\n",
      "\n",
      "\u001b[36mℹ\u001b[39m \u001b[34m\u001b[34ms3://maap-ops-workspace/shared/leitoldv/GEDI_global_PA_v2/WDPA_gedi_L2A_tiles/tile_num_23129_L2A.gpkg\u001b[34m\u001b[39m already exists at \u001b[34m\u001b[34m/projects/.local/share/R/s3/maap-ops-workspace/shared/leitoldv/GEDI_global_PA_v2/WDPA_gedi_L2A_tiles/tile_num_23129_L2A.gpkg\u001b[34m\u001b[39m\n",
      "\n"
     ]
    },
    {
     "name": "stdout",
     "output_type": "stream",
     "text": [
      "GEDI dataframe for  146 GPKG file has 468509 rows and  12 columns \n",
      " [1] \"shot_number\"    \"filename\"       \"lat_lowestmode\" \"lon_lowestmode\"\n",
      " [5] \"rh25\"           \"rh50\"           \"rh75\"           \"rh98\"          \n",
      " [9] \"agbd\"           \"agbd_se\"        \"agbd_t\"         \"agbd_t_se\"     \n",
      "GEDI dataframe has 676106 rows and  21 columns \n",
      "Reading in no.  147 GPKG file of  222 GPKG tiles for iso3 BaE \n"
     ]
    },
    {
     "name": "stderr",
     "output_type": "stream",
     "text": [
      "\u001b[36mℹ\u001b[39m \u001b[34m\u001b[34ms3://maap-ops-workspace/shared/leitoldv/GEDI_global_PA_v2/WDPA_gedi_L4A_tiles/tile_num_23130_L4A.gpkg\u001b[34m\u001b[39m already exists at \u001b[34m\u001b[34m/projects/.local/share/R/s3/maap-ops-workspace/shared/leitoldv/GEDI_global_PA_v2/WDPA_gedi_L4A_tiles/tile_num_23130_L4A.gpkg\u001b[34m\u001b[39m\n",
      "\n",
      "\u001b[36mℹ\u001b[39m \u001b[34m\u001b[34ms3://maap-ops-workspace/shared/leitoldv/GEDI_global_PA_v2/WDPA_gedi_L2A_tiles/tile_num_23130_L2A.gpkg\u001b[34m\u001b[39m already exists at \u001b[34m\u001b[34m/projects/.local/share/R/s3/maap-ops-workspace/shared/leitoldv/GEDI_global_PA_v2/WDPA_gedi_L2A_tiles/tile_num_23130_L2A.gpkg\u001b[34m\u001b[39m\n",
      "\n"
     ]
    },
    {
     "name": "stdout",
     "output_type": "stream",
     "text": [
      "GEDI dataframe for  147 GPKG file has 513192 rows and  12 columns \n",
      " [1] \"shot_number\"    \"filename\"       \"lat_lowestmode\" \"lon_lowestmode\"\n",
      " [5] \"rh25\"           \"rh50\"           \"rh75\"           \"rh98\"          \n",
      " [9] \"agbd\"           \"agbd_se\"        \"agbd_t\"         \"agbd_t_se\"     \n",
      "GEDI dataframe has 699159 rows and  21 columns \n",
      "Reading in no.  148 GPKG file of  222 GPKG tiles for iso3 BaE \n"
     ]
    },
    {
     "name": "stderr",
     "output_type": "stream",
     "text": [
      "\u001b[36mℹ\u001b[39m \u001b[34m\u001b[34ms3://maap-ops-workspace/shared/leitoldv/GEDI_global_PA_v2/WDPA_gedi_L4A_tiles/tile_num_23131_L4A.gpkg\u001b[34m\u001b[39m already exists at \u001b[34m\u001b[34m/projects/.local/share/R/s3/maap-ops-workspace/shared/leitoldv/GEDI_global_PA_v2/WDPA_gedi_L4A_tiles/tile_num_23131_L4A.gpkg\u001b[34m\u001b[39m\n",
      "\n",
      "\u001b[36mℹ\u001b[39m \u001b[34m\u001b[34ms3://maap-ops-workspace/shared/leitoldv/GEDI_global_PA_v2/WDPA_gedi_L2A_tiles/tile_num_23131_L2A.gpkg\u001b[34m\u001b[39m already exists at \u001b[34m\u001b[34m/projects/.local/share/R/s3/maap-ops-workspace/shared/leitoldv/GEDI_global_PA_v2/WDPA_gedi_L2A_tiles/tile_num_23131_L2A.gpkg\u001b[34m\u001b[39m\n",
      "\n"
     ]
    },
    {
     "name": "stdout",
     "output_type": "stream",
     "text": [
      "GEDI dataframe for  148 GPKG file has 554645 rows and  12 columns \n",
      " [1] \"shot_number\"    \"filename\"       \"lat_lowestmode\" \"lon_lowestmode\"\n",
      " [5] \"rh25\"           \"rh50\"           \"rh75\"           \"rh98\"          \n",
      " [9] \"agbd\"           \"agbd_se\"        \"agbd_t\"         \"agbd_t_se\"     \n",
      "GEDI dataframe has 725286 rows and  21 columns \n",
      "Reading in no.  149 GPKG file of  222 GPKG tiles for iso3 BaE \n"
     ]
    },
    {
     "name": "stderr",
     "output_type": "stream",
     "text": [
      "\u001b[36mℹ\u001b[39m \u001b[34m\u001b[34ms3://maap-ops-workspace/shared/leitoldv/GEDI_global_PA_v2/WDPA_gedi_L4A_tiles/tile_num_23132_L4A.gpkg\u001b[34m\u001b[39m already exists at \u001b[34m\u001b[34m/projects/.local/share/R/s3/maap-ops-workspace/shared/leitoldv/GEDI_global_PA_v2/WDPA_gedi_L4A_tiles/tile_num_23132_L4A.gpkg\u001b[34m\u001b[39m\n",
      "\n",
      "\u001b[36mℹ\u001b[39m \u001b[34m\u001b[34ms3://maap-ops-workspace/shared/leitoldv/GEDI_global_PA_v2/WDPA_gedi_L2A_tiles/tile_num_23132_L2A.gpkg\u001b[34m\u001b[39m already exists at \u001b[34m\u001b[34m/projects/.local/share/R/s3/maap-ops-workspace/shared/leitoldv/GEDI_global_PA_v2/WDPA_gedi_L2A_tiles/tile_num_23132_L2A.gpkg\u001b[34m\u001b[39m\n",
      "\n"
     ]
    },
    {
     "name": "stdout",
     "output_type": "stream",
     "text": [
      "GEDI dataframe for  149 GPKG file has 705466 rows and  12 columns \n",
      " [1] \"shot_number\"    \"filename\"       \"lat_lowestmode\" \"lon_lowestmode\"\n",
      " [5] \"rh25\"           \"rh50\"           \"rh75\"           \"rh98\"          \n",
      " [9] \"agbd\"           \"agbd_se\"        \"agbd_t\"         \"agbd_t_se\"     \n",
      "GEDI dataframe has 727803 rows and  21 columns \n",
      "Reading in no.  150 GPKG file of  222 GPKG tiles for iso3 BaE \n"
     ]
    },
    {
     "name": "stderr",
     "output_type": "stream",
     "text": [
      "\u001b[36mℹ\u001b[39m \u001b[34m\u001b[34ms3://maap-ops-workspace/shared/leitoldv/GEDI_global_PA_v2/WDPA_gedi_L4A_tiles/tile_num_23133_L4A.gpkg\u001b[34m\u001b[39m already exists at \u001b[34m\u001b[34m/projects/.local/share/R/s3/maap-ops-workspace/shared/leitoldv/GEDI_global_PA_v2/WDPA_gedi_L4A_tiles/tile_num_23133_L4A.gpkg\u001b[34m\u001b[39m\n",
      "\n",
      "\u001b[36mℹ\u001b[39m \u001b[34m\u001b[34ms3://maap-ops-workspace/shared/leitoldv/GEDI_global_PA_v2/WDPA_gedi_L2A_tiles/tile_num_23133_L2A.gpkg\u001b[34m\u001b[39m already exists at \u001b[34m\u001b[34m/projects/.local/share/R/s3/maap-ops-workspace/shared/leitoldv/GEDI_global_PA_v2/WDPA_gedi_L2A_tiles/tile_num_23133_L2A.gpkg\u001b[34m\u001b[39m\n",
      "\n"
     ]
    },
    {
     "name": "stdout",
     "output_type": "stream",
     "text": [
      "GEDI dataframe for  150 GPKG file has 867652 rows and  12 columns \n",
      " [1] \"shot_number\"    \"filename\"       \"lat_lowestmode\" \"lon_lowestmode\"\n",
      " [5] \"rh25\"           \"rh50\"           \"rh75\"           \"rh98\"          \n",
      " [9] \"agbd\"           \"agbd_se\"        \"agbd_t\"         \"agbd_t_se\"     \n",
      "GEDI dataframe has 737936 rows and  21 columns \n",
      "Reading in no.  151 GPKG file of  222 GPKG tiles for iso3 BaE \n"
     ]
    },
    {
     "name": "stderr",
     "output_type": "stream",
     "text": [
      "\u001b[36mℹ\u001b[39m \u001b[34m\u001b[34ms3://maap-ops-workspace/shared/leitoldv/GEDI_global_PA_v2/WDPA_gedi_L4A_tiles/tile_num_23134_L4A.gpkg\u001b[34m\u001b[39m already exists at \u001b[34m\u001b[34m/projects/.local/share/R/s3/maap-ops-workspace/shared/leitoldv/GEDI_global_PA_v2/WDPA_gedi_L4A_tiles/tile_num_23134_L4A.gpkg\u001b[34m\u001b[39m\n",
      "\n",
      "\u001b[36mℹ\u001b[39m \u001b[34m\u001b[34ms3://maap-ops-workspace/shared/leitoldv/GEDI_global_PA_v2/WDPA_gedi_L2A_tiles/tile_num_23134_L2A.gpkg\u001b[34m\u001b[39m already exists at \u001b[34m\u001b[34m/projects/.local/share/R/s3/maap-ops-workspace/shared/leitoldv/GEDI_global_PA_v2/WDPA_gedi_L2A_tiles/tile_num_23134_L2A.gpkg\u001b[34m\u001b[39m\n",
      "\n"
     ]
    },
    {
     "name": "stdout",
     "output_type": "stream",
     "text": [
      "GEDI dataframe for  151 GPKG file has 651459 rows and  12 columns \n",
      " [1] \"shot_number\"    \"filename\"       \"lat_lowestmode\" \"lon_lowestmode\"\n",
      " [5] \"rh25\"           \"rh50\"           \"rh75\"           \"rh98\"          \n",
      " [9] \"agbd\"           \"agbd_se\"        \"agbd_t\"         \"agbd_t_se\"     \n",
      "GEDI dataframe has 751280 rows and  21 columns \n",
      "Reading in no.  152 GPKG file of  222 GPKG tiles for iso3 BaE \n"
     ]
    },
    {
     "name": "stderr",
     "output_type": "stream",
     "text": [
      "\u001b[36mℹ\u001b[39m \u001b[34m\u001b[34ms3://maap-ops-workspace/shared/leitoldv/GEDI_global_PA_v2/WDPA_gedi_L4A_tiles/tile_num_23135_L4A.gpkg\u001b[34m\u001b[39m already exists at \u001b[34m\u001b[34m/projects/.local/share/R/s3/maap-ops-workspace/shared/leitoldv/GEDI_global_PA_v2/WDPA_gedi_L4A_tiles/tile_num_23135_L4A.gpkg\u001b[34m\u001b[39m\n",
      "\n",
      "\u001b[36mℹ\u001b[39m \u001b[34m\u001b[34ms3://maap-ops-workspace/shared/leitoldv/GEDI_global_PA_v2/WDPA_gedi_L2A_tiles/tile_num_23135_L2A.gpkg\u001b[34m\u001b[39m already exists at \u001b[34m\u001b[34m/projects/.local/share/R/s3/maap-ops-workspace/shared/leitoldv/GEDI_global_PA_v2/WDPA_gedi_L2A_tiles/tile_num_23135_L2A.gpkg\u001b[34m\u001b[39m\n",
      "\n"
     ]
    },
    {
     "name": "stdout",
     "output_type": "stream",
     "text": [
      "GEDI dataframe for  152 GPKG file has 736974 rows and  12 columns \n",
      " [1] \"shot_number\"    \"filename\"       \"lat_lowestmode\" \"lon_lowestmode\"\n",
      " [5] \"rh25\"           \"rh50\"           \"rh75\"           \"rh98\"          \n",
      " [9] \"agbd\"           \"agbd_se\"        \"agbd_t\"         \"agbd_t_se\"     \n",
      "GEDI dataframe has 751897 rows and  21 columns \n",
      "Reading in no.  153 GPKG file of  222 GPKG tiles for iso3 BaE \n"
     ]
    },
    {
     "name": "stderr",
     "output_type": "stream",
     "text": [
      "\u001b[36mℹ\u001b[39m \u001b[34m\u001b[34ms3://maap-ops-workspace/shared/leitoldv/GEDI_global_PA_v2/WDPA_gedi_L4A_tiles/tile_num_23136_L4A.gpkg\u001b[34m\u001b[39m already exists at \u001b[34m\u001b[34m/projects/.local/share/R/s3/maap-ops-workspace/shared/leitoldv/GEDI_global_PA_v2/WDPA_gedi_L4A_tiles/tile_num_23136_L4A.gpkg\u001b[34m\u001b[39m\n",
      "\n",
      "\u001b[36mℹ\u001b[39m \u001b[34m\u001b[34ms3://maap-ops-workspace/shared/leitoldv/GEDI_global_PA_v2/WDPA_gedi_L2A_tiles/tile_num_23136_L2A.gpkg\u001b[34m\u001b[39m already exists at \u001b[34m\u001b[34m/projects/.local/share/R/s3/maap-ops-workspace/shared/leitoldv/GEDI_global_PA_v2/WDPA_gedi_L2A_tiles/tile_num_23136_L2A.gpkg\u001b[34m\u001b[39m\n",
      "\n"
     ]
    },
    {
     "name": "stdout",
     "output_type": "stream",
     "text": [
      "GEDI dataframe for  153 GPKG file has 708439 rows and  12 columns \n",
      " [1] \"shot_number\"    \"filename\"       \"lat_lowestmode\" \"lon_lowestmode\"\n",
      " [5] \"rh25\"           \"rh50\"           \"rh75\"           \"rh98\"          \n",
      " [9] \"agbd\"           \"agbd_se\"        \"agbd_t\"         \"agbd_t_se\"     \n",
      "GEDI dataframe has 753173 rows and  21 columns \n",
      "Reading in no.  154 GPKG file of  222 GPKG tiles for iso3 BaE \n"
     ]
    },
    {
     "name": "stderr",
     "output_type": "stream",
     "text": [
      "\u001b[36mℹ\u001b[39m \u001b[34m\u001b[34ms3://maap-ops-workspace/shared/leitoldv/GEDI_global_PA_v2/WDPA_gedi_L4A_tiles/tile_num_23137_L4A.gpkg\u001b[34m\u001b[39m already exists at \u001b[34m\u001b[34m/projects/.local/share/R/s3/maap-ops-workspace/shared/leitoldv/GEDI_global_PA_v2/WDPA_gedi_L4A_tiles/tile_num_23137_L4A.gpkg\u001b[34m\u001b[39m\n",
      "\n",
      "\u001b[36mℹ\u001b[39m \u001b[34m\u001b[34ms3://maap-ops-workspace/shared/leitoldv/GEDI_global_PA_v2/WDPA_gedi_L2A_tiles/tile_num_23137_L2A.gpkg\u001b[34m\u001b[39m already exists at \u001b[34m\u001b[34m/projects/.local/share/R/s3/maap-ops-workspace/shared/leitoldv/GEDI_global_PA_v2/WDPA_gedi_L2A_tiles/tile_num_23137_L2A.gpkg\u001b[34m\u001b[39m\n",
      "\n"
     ]
    },
    {
     "name": "stdout",
     "output_type": "stream",
     "text": [
      "GEDI dataframe for  154 GPKG file has 587885 rows and  12 columns \n",
      " [1] \"shot_number\"    \"filename\"       \"lat_lowestmode\" \"lon_lowestmode\"\n",
      " [5] \"rh25\"           \"rh50\"           \"rh75\"           \"rh98\"          \n",
      " [9] \"agbd\"           \"agbd_se\"        \"agbd_t\"         \"agbd_t_se\"     \n",
      "GEDI dataframe has 757170 rows and  21 columns \n",
      "Reading in no.  155 GPKG file of  222 GPKG tiles for iso3 BaE \n"
     ]
    },
    {
     "name": "stderr",
     "output_type": "stream",
     "text": [
      "\u001b[36mℹ\u001b[39m \u001b[34m\u001b[34ms3://maap-ops-workspace/shared/leitoldv/GEDI_global_PA_v2/WDPA_gedi_L4A_tiles/tile_num_23138_L4A.gpkg\u001b[34m\u001b[39m already exists at \u001b[34m\u001b[34m/projects/.local/share/R/s3/maap-ops-workspace/shared/leitoldv/GEDI_global_PA_v2/WDPA_gedi_L4A_tiles/tile_num_23138_L4A.gpkg\u001b[34m\u001b[39m\n",
      "\n",
      "\u001b[36mℹ\u001b[39m \u001b[34m\u001b[34ms3://maap-ops-workspace/shared/leitoldv/GEDI_global_PA_v2/WDPA_gedi_L2A_tiles/tile_num_23138_L2A.gpkg\u001b[34m\u001b[39m already exists at \u001b[34m\u001b[34m/projects/.local/share/R/s3/maap-ops-workspace/shared/leitoldv/GEDI_global_PA_v2/WDPA_gedi_L2A_tiles/tile_num_23138_L2A.gpkg\u001b[34m\u001b[39m\n",
      "\n"
     ]
    },
    {
     "name": "stdout",
     "output_type": "stream",
     "text": [
      "GEDI dataframe for  155 GPKG file has 710229 rows and  12 columns \n",
      " [1] \"shot_number\"    \"filename\"       \"lat_lowestmode\" \"lon_lowestmode\"\n",
      " [5] \"rh25\"           \"rh50\"           \"rh75\"           \"rh98\"          \n",
      " [9] \"agbd\"           \"agbd_se\"        \"agbd_t\"         \"agbd_t_se\"     \n",
      "GEDI dataframe has 757170 rows and  21 columns \n",
      "Reading in no.  156 GPKG file of  222 GPKG tiles for iso3 BaE \n"
     ]
    },
    {
     "name": "stderr",
     "output_type": "stream",
     "text": [
      "\u001b[36mℹ\u001b[39m \u001b[34m\u001b[34ms3://maap-ops-workspace/shared/leitoldv/GEDI_global_PA_v2/WDPA_gedi_L4A_tiles/tile_num_23139_L4A.gpkg\u001b[34m\u001b[39m already exists at \u001b[34m\u001b[34m/projects/.local/share/R/s3/maap-ops-workspace/shared/leitoldv/GEDI_global_PA_v2/WDPA_gedi_L4A_tiles/tile_num_23139_L4A.gpkg\u001b[34m\u001b[39m\n",
      "\n",
      "\u001b[36mℹ\u001b[39m \u001b[34m\u001b[34ms3://maap-ops-workspace/shared/leitoldv/GEDI_global_PA_v2/WDPA_gedi_L2A_tiles/tile_num_23139_L2A.gpkg\u001b[34m\u001b[39m already exists at \u001b[34m\u001b[34m/projects/.local/share/R/s3/maap-ops-workspace/shared/leitoldv/GEDI_global_PA_v2/WDPA_gedi_L2A_tiles/tile_num_23139_L2A.gpkg\u001b[34m\u001b[39m\n",
      "\n"
     ]
    },
    {
     "name": "stdout",
     "output_type": "stream",
     "text": [
      "GEDI dataframe for  156 GPKG file has 787105 rows and  12 columns \n",
      " [1] \"shot_number\"    \"filename\"       \"lat_lowestmode\" \"lon_lowestmode\"\n",
      " [5] \"rh25\"           \"rh50\"           \"rh75\"           \"rh98\"          \n",
      " [9] \"agbd\"           \"agbd_se\"        \"agbd_t\"         \"agbd_t_se\"     \n",
      "GEDI dataframe has 768956 rows and  21 columns \n",
      "Reading in no.  157 GPKG file of  222 GPKG tiles for iso3 BaE \n"
     ]
    },
    {
     "name": "stderr",
     "output_type": "stream",
     "text": [
      "\u001b[36mℹ\u001b[39m \u001b[34m\u001b[34ms3://maap-ops-workspace/shared/leitoldv/GEDI_global_PA_v2/WDPA_gedi_L4A_tiles/tile_num_23140_L4A.gpkg\u001b[34m\u001b[39m already exists at \u001b[34m\u001b[34m/projects/.local/share/R/s3/maap-ops-workspace/shared/leitoldv/GEDI_global_PA_v2/WDPA_gedi_L4A_tiles/tile_num_23140_L4A.gpkg\u001b[34m\u001b[39m\n",
      "\n",
      "\u001b[36mℹ\u001b[39m \u001b[34m\u001b[34ms3://maap-ops-workspace/shared/leitoldv/GEDI_global_PA_v2/WDPA_gedi_L2A_tiles/tile_num_23140_L2A.gpkg\u001b[34m\u001b[39m already exists at \u001b[34m\u001b[34m/projects/.local/share/R/s3/maap-ops-workspace/shared/leitoldv/GEDI_global_PA_v2/WDPA_gedi_L2A_tiles/tile_num_23140_L2A.gpkg\u001b[34m\u001b[39m\n",
      "\n"
     ]
    },
    {
     "name": "stdout",
     "output_type": "stream",
     "text": [
      "GEDI dataframe for  157 GPKG file has 922495 rows and  12 columns \n",
      " [1] \"shot_number\"    \"filename\"       \"lat_lowestmode\" \"lon_lowestmode\"\n",
      " [5] \"rh25\"           \"rh50\"           \"rh75\"           \"rh98\"          \n",
      " [9] \"agbd\"           \"agbd_se\"        \"agbd_t\"         \"agbd_t_se\"     \n",
      "GEDI dataframe has 770033 rows and  21 columns \n",
      "Reading in no.  158 GPKG file of  222 GPKG tiles for iso3 BaE \n"
     ]
    },
    {
     "name": "stderr",
     "output_type": "stream",
     "text": [
      "\u001b[36mℹ\u001b[39m \u001b[34m\u001b[34ms3://maap-ops-workspace/shared/leitoldv/GEDI_global_PA_v2/WDPA_gedi_L4A_tiles/tile_num_23141_L4A.gpkg\u001b[34m\u001b[39m already exists at \u001b[34m\u001b[34m/projects/.local/share/R/s3/maap-ops-workspace/shared/leitoldv/GEDI_global_PA_v2/WDPA_gedi_L4A_tiles/tile_num_23141_L4A.gpkg\u001b[34m\u001b[39m\n",
      "\n",
      "\u001b[36mℹ\u001b[39m \u001b[34m\u001b[34ms3://maap-ops-workspace/shared/leitoldv/GEDI_global_PA_v2/WDPA_gedi_L2A_tiles/tile_num_23141_L2A.gpkg\u001b[34m\u001b[39m already exists at \u001b[34m\u001b[34m/projects/.local/share/R/s3/maap-ops-workspace/shared/leitoldv/GEDI_global_PA_v2/WDPA_gedi_L2A_tiles/tile_num_23141_L2A.gpkg\u001b[34m\u001b[39m\n",
      "\n"
     ]
    },
    {
     "name": "stdout",
     "output_type": "stream",
     "text": [
      "GEDI dataframe for  158 GPKG file has 837636 rows and  12 columns \n",
      " [1] \"shot_number\"    \"filename\"       \"lat_lowestmode\" \"lon_lowestmode\"\n",
      " [5] \"rh25\"           \"rh50\"           \"rh75\"           \"rh98\"          \n",
      " [9] \"agbd\"           \"agbd_se\"        \"agbd_t\"         \"agbd_t_se\"     \n",
      "GEDI dataframe has 770033 rows and  21 columns \n",
      "Reading in no.  159 GPKG file of  222 GPKG tiles for iso3 BaE \n"
     ]
    },
    {
     "name": "stderr",
     "output_type": "stream",
     "text": [
      "\u001b[36mℹ\u001b[39m \u001b[34m\u001b[34ms3://maap-ops-workspace/shared/leitoldv/GEDI_global_PA_v2/WDPA_gedi_L4A_tiles/tile_num_23142_L4A.gpkg\u001b[34m\u001b[39m already exists at \u001b[34m\u001b[34m/projects/.local/share/R/s3/maap-ops-workspace/shared/leitoldv/GEDI_global_PA_v2/WDPA_gedi_L4A_tiles/tile_num_23142_L4A.gpkg\u001b[34m\u001b[39m\n",
      "\n",
      "\u001b[36mℹ\u001b[39m \u001b[34m\u001b[34ms3://maap-ops-workspace/shared/leitoldv/GEDI_global_PA_v2/WDPA_gedi_L2A_tiles/tile_num_23142_L2A.gpkg\u001b[34m\u001b[39m already exists at \u001b[34m\u001b[34m/projects/.local/share/R/s3/maap-ops-workspace/shared/leitoldv/GEDI_global_PA_v2/WDPA_gedi_L2A_tiles/tile_num_23142_L2A.gpkg\u001b[34m\u001b[39m\n",
      "\n"
     ]
    },
    {
     "name": "stdout",
     "output_type": "stream",
     "text": [
      "GEDI dataframe for  159 GPKG file has 561804 rows and  12 columns \n",
      " [1] \"shot_number\"    \"filename\"       \"lat_lowestmode\" \"lon_lowestmode\"\n",
      " [5] \"rh25\"           \"rh50\"           \"rh75\"           \"rh98\"          \n",
      " [9] \"agbd\"           \"agbd_se\"        \"agbd_t\"         \"agbd_t_se\"     \n",
      "GEDI dataframe has 770033 rows and  21 columns \n",
      "Reading in no.  160 GPKG file of  222 GPKG tiles for iso3 BaE \n"
     ]
    },
    {
     "name": "stderr",
     "output_type": "stream",
     "text": [
      "\u001b[36mℹ\u001b[39m \u001b[34m\u001b[34ms3://maap-ops-workspace/shared/leitoldv/GEDI_global_PA_v2/WDPA_gedi_L4A_tiles/tile_num_23143_L4A.gpkg\u001b[34m\u001b[39m already exists at \u001b[34m\u001b[34m/projects/.local/share/R/s3/maap-ops-workspace/shared/leitoldv/GEDI_global_PA_v2/WDPA_gedi_L4A_tiles/tile_num_23143_L4A.gpkg\u001b[34m\u001b[39m\n",
      "\n",
      "\u001b[36mℹ\u001b[39m \u001b[34m\u001b[34ms3://maap-ops-workspace/shared/leitoldv/GEDI_global_PA_v2/WDPA_gedi_L2A_tiles/tile_num_23143_L2A.gpkg\u001b[34m\u001b[39m already exists at \u001b[34m\u001b[34m/projects/.local/share/R/s3/maap-ops-workspace/shared/leitoldv/GEDI_global_PA_v2/WDPA_gedi_L2A_tiles/tile_num_23143_L2A.gpkg\u001b[34m\u001b[39m\n",
      "\n"
     ]
    },
    {
     "name": "stdout",
     "output_type": "stream",
     "text": [
      "GEDI dataframe for  160 GPKG file has 564530 rows and  12 columns \n",
      " [1] \"shot_number\"    \"filename\"       \"lat_lowestmode\" \"lon_lowestmode\"\n",
      " [5] \"rh25\"           \"rh50\"           \"rh75\"           \"rh98\"          \n",
      " [9] \"agbd\"           \"agbd_se\"        \"agbd_t\"         \"agbd_t_se\"     \n",
      "GEDI dataframe has 770033 rows and  21 columns \n",
      "Reading in no.  161 GPKG file of  222 GPKG tiles for iso3 BaE \n"
     ]
    },
    {
     "name": "stderr",
     "output_type": "stream",
     "text": [
      "\u001b[36mℹ\u001b[39m \u001b[34m\u001b[34ms3://maap-ops-workspace/shared/leitoldv/GEDI_global_PA_v2/WDPA_gedi_L4A_tiles/tile_num_23144_L4A.gpkg\u001b[34m\u001b[39m already exists at \u001b[34m\u001b[34m/projects/.local/share/R/s3/maap-ops-workspace/shared/leitoldv/GEDI_global_PA_v2/WDPA_gedi_L4A_tiles/tile_num_23144_L4A.gpkg\u001b[34m\u001b[39m\n",
      "\n",
      "\u001b[36mℹ\u001b[39m \u001b[34m\u001b[34ms3://maap-ops-workspace/shared/leitoldv/GEDI_global_PA_v2/WDPA_gedi_L2A_tiles/tile_num_23144_L2A.gpkg\u001b[34m\u001b[39m already exists at \u001b[34m\u001b[34m/projects/.local/share/R/s3/maap-ops-workspace/shared/leitoldv/GEDI_global_PA_v2/WDPA_gedi_L2A_tiles/tile_num_23144_L2A.gpkg\u001b[34m\u001b[39m\n",
      "\n"
     ]
    },
    {
     "name": "stdout",
     "output_type": "stream",
     "text": [
      "GEDI dataframe for  161 GPKG file has 385896 rows and  12 columns \n",
      " [1] \"shot_number\"    \"filename\"       \"lat_lowestmode\" \"lon_lowestmode\"\n",
      " [5] \"rh25\"           \"rh50\"           \"rh75\"           \"rh98\"          \n",
      " [9] \"agbd\"           \"agbd_se\"        \"agbd_t\"         \"agbd_t_se\"     \n",
      "GEDI dataframe has 770033 rows and  21 columns \n",
      "Reading in no.  162 GPKG file of  222 GPKG tiles for iso3 BaE \n"
     ]
    },
    {
     "name": "stderr",
     "output_type": "stream",
     "text": [
      "\u001b[36mℹ\u001b[39m \u001b[34m\u001b[34ms3://maap-ops-workspace/shared/leitoldv/GEDI_global_PA_v2/WDPA_gedi_L4A_tiles/tile_num_23307_L4A.gpkg\u001b[34m\u001b[39m already exists at \u001b[34m\u001b[34m/projects/.local/share/R/s3/maap-ops-workspace/shared/leitoldv/GEDI_global_PA_v2/WDPA_gedi_L4A_tiles/tile_num_23307_L4A.gpkg\u001b[34m\u001b[39m\n",
      "\n",
      "\u001b[36mℹ\u001b[39m \u001b[34m\u001b[34ms3://maap-ops-workspace/shared/leitoldv/GEDI_global_PA_v2/WDPA_gedi_L2A_tiles/tile_num_23307_L2A.gpkg\u001b[34m\u001b[39m already exists at \u001b[34m\u001b[34m/projects/.local/share/R/s3/maap-ops-workspace/shared/leitoldv/GEDI_global_PA_v2/WDPA_gedi_L2A_tiles/tile_num_23307_L2A.gpkg\u001b[34m\u001b[39m\n",
      "\n"
     ]
    },
    {
     "name": "stdout",
     "output_type": "stream",
     "text": [
      "GEDI dataframe for  162 GPKG file has 4 rows and  12 columns \n",
      " [1] \"shot_number\"    \"filename\"       \"lat_lowestmode\" \"lon_lowestmode\"\n",
      " [5] \"rh25\"           \"rh50\"           \"rh75\"           \"rh98\"          \n",
      " [9] \"agbd\"           \"agbd_se\"        \"agbd_t\"         \"agbd_t_se\"     \n",
      "GEDI dataframe has 770033 rows and  21 columns \n",
      "Reading in no.  163 GPKG file of  222 GPKG tiles for iso3 BaE \n"
     ]
    },
    {
     "name": "stderr",
     "output_type": "stream",
     "text": [
      "\u001b[36mℹ\u001b[39m \u001b[34m\u001b[34ms3://maap-ops-workspace/shared/leitoldv/GEDI_global_PA_v2/WDPA_gedi_L4A_tiles/tile_num_23308_L4A.gpkg\u001b[34m\u001b[39m already exists at \u001b[34m\u001b[34m/projects/.local/share/R/s3/maap-ops-workspace/shared/leitoldv/GEDI_global_PA_v2/WDPA_gedi_L4A_tiles/tile_num_23308_L4A.gpkg\u001b[34m\u001b[39m\n",
      "\n",
      "\u001b[36mℹ\u001b[39m \u001b[34m\u001b[34ms3://maap-ops-workspace/shared/leitoldv/GEDI_global_PA_v2/WDPA_gedi_L2A_tiles/tile_num_23308_L2A.gpkg\u001b[34m\u001b[39m already exists at \u001b[34m\u001b[34m/projects/.local/share/R/s3/maap-ops-workspace/shared/leitoldv/GEDI_global_PA_v2/WDPA_gedi_L2A_tiles/tile_num_23308_L2A.gpkg\u001b[34m\u001b[39m\n",
      "\n"
     ]
    },
    {
     "name": "stdout",
     "output_type": "stream",
     "text": [
      "GEDI dataframe for  163 GPKG file has 72552 rows and  12 columns \n",
      " [1] \"shot_number\"    \"filename\"       \"lat_lowestmode\" \"lon_lowestmode\"\n",
      " [5] \"rh25\"           \"rh50\"           \"rh75\"           \"rh98\"          \n",
      " [9] \"agbd\"           \"agbd_se\"        \"agbd_t\"         \"agbd_t_se\"     \n",
      "GEDI dataframe has 770925 rows and  21 columns \n",
      "Reading in no.  164 GPKG file of  222 GPKG tiles for iso3 BaE \n"
     ]
    },
    {
     "name": "stderr",
     "output_type": "stream",
     "text": [
      "\u001b[36mℹ\u001b[39m \u001b[34m\u001b[34ms3://maap-ops-workspace/shared/leitoldv/GEDI_global_PA_v2/WDPA_gedi_L4A_tiles/tile_num_23309_L4A.gpkg\u001b[34m\u001b[39m already exists at \u001b[34m\u001b[34m/projects/.local/share/R/s3/maap-ops-workspace/shared/leitoldv/GEDI_global_PA_v2/WDPA_gedi_L4A_tiles/tile_num_23309_L4A.gpkg\u001b[34m\u001b[39m\n",
      "\n",
      "\u001b[36mℹ\u001b[39m \u001b[34m\u001b[34ms3://maap-ops-workspace/shared/leitoldv/GEDI_global_PA_v2/WDPA_gedi_L2A_tiles/tile_num_23309_L2A.gpkg\u001b[34m\u001b[39m already exists at \u001b[34m\u001b[34m/projects/.local/share/R/s3/maap-ops-workspace/shared/leitoldv/GEDI_global_PA_v2/WDPA_gedi_L2A_tiles/tile_num_23309_L2A.gpkg\u001b[34m\u001b[39m\n",
      "\n"
     ]
    },
    {
     "name": "stdout",
     "output_type": "stream",
     "text": [
      "GEDI dataframe for  164 GPKG file has 345286 rows and  12 columns \n",
      " [1] \"shot_number\"    \"filename\"       \"lat_lowestmode\" \"lon_lowestmode\"\n",
      " [5] \"rh25\"           \"rh50\"           \"rh75\"           \"rh98\"          \n",
      " [9] \"agbd\"           \"agbd_se\"        \"agbd_t\"         \"agbd_t_se\"     \n",
      "GEDI dataframe has 774901 rows and  21 columns \n",
      "Reading in no.  165 GPKG file of  222 GPKG tiles for iso3 BaE \n"
     ]
    },
    {
     "name": "stderr",
     "output_type": "stream",
     "text": [
      "\u001b[36mℹ\u001b[39m \u001b[34m\u001b[34ms3://maap-ops-workspace/shared/leitoldv/GEDI_global_PA_v2/WDPA_gedi_L4A_tiles/tile_num_23310_L4A.gpkg\u001b[34m\u001b[39m already exists at \u001b[34m\u001b[34m/projects/.local/share/R/s3/maap-ops-workspace/shared/leitoldv/GEDI_global_PA_v2/WDPA_gedi_L4A_tiles/tile_num_23310_L4A.gpkg\u001b[34m\u001b[39m\n",
      "\n",
      "\u001b[36mℹ\u001b[39m \u001b[34m\u001b[34ms3://maap-ops-workspace/shared/leitoldv/GEDI_global_PA_v2/WDPA_gedi_L2A_tiles/tile_num_23310_L2A.gpkg\u001b[34m\u001b[39m already exists at \u001b[34m\u001b[34m/projects/.local/share/R/s3/maap-ops-workspace/shared/leitoldv/GEDI_global_PA_v2/WDPA_gedi_L2A_tiles/tile_num_23310_L2A.gpkg\u001b[34m\u001b[39m\n",
      "\n"
     ]
    },
    {
     "name": "stdout",
     "output_type": "stream",
     "text": [
      "GEDI dataframe for  165 GPKG file has 371338 rows and  12 columns \n",
      " [1] \"shot_number\"    \"filename\"       \"lat_lowestmode\" \"lon_lowestmode\"\n",
      " [5] \"rh25\"           \"rh50\"           \"rh75\"           \"rh98\"          \n",
      " [9] \"agbd\"           \"agbd_se\"        \"agbd_t\"         \"agbd_t_se\"     \n",
      "GEDI dataframe has 775786 rows and  21 columns \n",
      "Reading in no.  166 GPKG file of  222 GPKG tiles for iso3 BaE \n"
     ]
    },
    {
     "name": "stderr",
     "output_type": "stream",
     "text": [
      "\u001b[36mℹ\u001b[39m \u001b[34m\u001b[34ms3://maap-ops-workspace/shared/leitoldv/GEDI_global_PA_v2/WDPA_gedi_L4A_tiles/tile_num_23311_L4A.gpkg\u001b[34m\u001b[39m already exists at \u001b[34m\u001b[34m/projects/.local/share/R/s3/maap-ops-workspace/shared/leitoldv/GEDI_global_PA_v2/WDPA_gedi_L4A_tiles/tile_num_23311_L4A.gpkg\u001b[34m\u001b[39m\n",
      "\n",
      "\u001b[36mℹ\u001b[39m \u001b[34m\u001b[34ms3://maap-ops-workspace/shared/leitoldv/GEDI_global_PA_v2/WDPA_gedi_L2A_tiles/tile_num_23311_L2A.gpkg\u001b[34m\u001b[39m already exists at \u001b[34m\u001b[34m/projects/.local/share/R/s3/maap-ops-workspace/shared/leitoldv/GEDI_global_PA_v2/WDPA_gedi_L2A_tiles/tile_num_23311_L2A.gpkg\u001b[34m\u001b[39m\n",
      "\n"
     ]
    },
    {
     "name": "stdout",
     "output_type": "stream",
     "text": [
      "GEDI dataframe for  166 GPKG file has 550154 rows and  12 columns \n",
      " [1] \"shot_number\"    \"filename\"       \"lat_lowestmode\" \"lon_lowestmode\"\n",
      " [5] \"rh25\"           \"rh50\"           \"rh75\"           \"rh98\"          \n",
      " [9] \"agbd\"           \"agbd_se\"        \"agbd_t\"         \"agbd_t_se\"     \n",
      "GEDI dataframe has 775786 rows and  21 columns \n",
      "Reading in no.  167 GPKG file of  222 GPKG tiles for iso3 BaE \n"
     ]
    },
    {
     "name": "stderr",
     "output_type": "stream",
     "text": [
      "\u001b[36mℹ\u001b[39m \u001b[34m\u001b[34ms3://maap-ops-workspace/shared/leitoldv/GEDI_global_PA_v2/WDPA_gedi_L4A_tiles/tile_num_23312_L4A.gpkg\u001b[34m\u001b[39m already exists at \u001b[34m\u001b[34m/projects/.local/share/R/s3/maap-ops-workspace/shared/leitoldv/GEDI_global_PA_v2/WDPA_gedi_L4A_tiles/tile_num_23312_L4A.gpkg\u001b[34m\u001b[39m\n",
      "\n",
      "\u001b[36mℹ\u001b[39m \u001b[34m\u001b[34ms3://maap-ops-workspace/shared/leitoldv/GEDI_global_PA_v2/WDPA_gedi_L2A_tiles/tile_num_23312_L2A.gpkg\u001b[34m\u001b[39m already exists at \u001b[34m\u001b[34m/projects/.local/share/R/s3/maap-ops-workspace/shared/leitoldv/GEDI_global_PA_v2/WDPA_gedi_L2A_tiles/tile_num_23312_L2A.gpkg\u001b[34m\u001b[39m\n",
      "\n"
     ]
    },
    {
     "name": "stdout",
     "output_type": "stream",
     "text": [
      "GEDI dataframe for  167 GPKG file has 686140 rows and  12 columns \n",
      " [1] \"shot_number\"    \"filename\"       \"lat_lowestmode\" \"lon_lowestmode\"\n",
      " [5] \"rh25\"           \"rh50\"           \"rh75\"           \"rh98\"          \n",
      " [9] \"agbd\"           \"agbd_se\"        \"agbd_t\"         \"agbd_t_se\"     \n",
      "GEDI dataframe has 781895 rows and  21 columns \n",
      "Reading in no.  168 GPKG file of  222 GPKG tiles for iso3 BaE \n"
     ]
    },
    {
     "name": "stderr",
     "output_type": "stream",
     "text": [
      "\u001b[36mℹ\u001b[39m \u001b[34m\u001b[34ms3://maap-ops-workspace/shared/leitoldv/GEDI_global_PA_v2/WDPA_gedi_L4A_tiles/tile_num_23313_L4A.gpkg\u001b[34m\u001b[39m already exists at \u001b[34m\u001b[34m/projects/.local/share/R/s3/maap-ops-workspace/shared/leitoldv/GEDI_global_PA_v2/WDPA_gedi_L4A_tiles/tile_num_23313_L4A.gpkg\u001b[34m\u001b[39m\n",
      "\n",
      "\u001b[36mℹ\u001b[39m \u001b[34m\u001b[34ms3://maap-ops-workspace/shared/leitoldv/GEDI_global_PA_v2/WDPA_gedi_L2A_tiles/tile_num_23313_L2A.gpkg\u001b[34m\u001b[39m already exists at \u001b[34m\u001b[34m/projects/.local/share/R/s3/maap-ops-workspace/shared/leitoldv/GEDI_global_PA_v2/WDPA_gedi_L2A_tiles/tile_num_23313_L2A.gpkg\u001b[34m\u001b[39m\n",
      "\n"
     ]
    },
    {
     "name": "stdout",
     "output_type": "stream",
     "text": [
      "GEDI dataframe for  168 GPKG file has 685072 rows and  12 columns \n",
      " [1] \"shot_number\"    \"filename\"       \"lat_lowestmode\" \"lon_lowestmode\"\n",
      " [5] \"rh25\"           \"rh50\"           \"rh75\"           \"rh98\"          \n",
      " [9] \"agbd\"           \"agbd_se\"        \"agbd_t\"         \"agbd_t_se\"     \n",
      "GEDI dataframe has 887026 rows and  21 columns \n",
      "Reading in no.  169 GPKG file of  222 GPKG tiles for iso3 BaE \n"
     ]
    },
    {
     "name": "stderr",
     "output_type": "stream",
     "text": [
      "\u001b[36mℹ\u001b[39m \u001b[34m\u001b[34ms3://maap-ops-workspace/shared/leitoldv/GEDI_global_PA_v2/WDPA_gedi_L4A_tiles/tile_num_23314_L4A.gpkg\u001b[34m\u001b[39m already exists at \u001b[34m\u001b[34m/projects/.local/share/R/s3/maap-ops-workspace/shared/leitoldv/GEDI_global_PA_v2/WDPA_gedi_L4A_tiles/tile_num_23314_L4A.gpkg\u001b[34m\u001b[39m\n",
      "\n",
      "\u001b[36mℹ\u001b[39m \u001b[34m\u001b[34ms3://maap-ops-workspace/shared/leitoldv/GEDI_global_PA_v2/WDPA_gedi_L2A_tiles/tile_num_23314_L2A.gpkg\u001b[34m\u001b[39m already exists at \u001b[34m\u001b[34m/projects/.local/share/R/s3/maap-ops-workspace/shared/leitoldv/GEDI_global_PA_v2/WDPA_gedi_L2A_tiles/tile_num_23314_L2A.gpkg\u001b[34m\u001b[39m\n",
      "\n"
     ]
    },
    {
     "name": "stdout",
     "output_type": "stream",
     "text": [
      "GEDI dataframe for  169 GPKG file has 668425 rows and  12 columns \n",
      " [1] \"shot_number\"    \"filename\"       \"lat_lowestmode\" \"lon_lowestmode\"\n",
      " [5] \"rh25\"           \"rh50\"           \"rh75\"           \"rh98\"          \n",
      " [9] \"agbd\"           \"agbd_se\"        \"agbd_t\"         \"agbd_t_se\"     \n",
      "GEDI dataframe has 895905 rows and  21 columns \n",
      "Reading in no.  170 GPKG file of  222 GPKG tiles for iso3 BaE \n"
     ]
    },
    {
     "name": "stderr",
     "output_type": "stream",
     "text": [
      "\u001b[36mℹ\u001b[39m \u001b[34m\u001b[34ms3://maap-ops-workspace/shared/leitoldv/GEDI_global_PA_v2/WDPA_gedi_L4A_tiles/tile_num_23315_L4A.gpkg\u001b[34m\u001b[39m already exists at \u001b[34m\u001b[34m/projects/.local/share/R/s3/maap-ops-workspace/shared/leitoldv/GEDI_global_PA_v2/WDPA_gedi_L4A_tiles/tile_num_23315_L4A.gpkg\u001b[34m\u001b[39m\n",
      "\n",
      "\u001b[36mℹ\u001b[39m \u001b[34m\u001b[34ms3://maap-ops-workspace/shared/leitoldv/GEDI_global_PA_v2/WDPA_gedi_L2A_tiles/tile_num_23315_L2A.gpkg\u001b[34m\u001b[39m already exists at \u001b[34m\u001b[34m/projects/.local/share/R/s3/maap-ops-workspace/shared/leitoldv/GEDI_global_PA_v2/WDPA_gedi_L2A_tiles/tile_num_23315_L2A.gpkg\u001b[34m\u001b[39m\n",
      "\n"
     ]
    },
    {
     "name": "stdout",
     "output_type": "stream",
     "text": [
      "GEDI dataframe for  170 GPKG file has 626786 rows and  12 columns \n",
      " [1] \"shot_number\"    \"filename\"       \"lat_lowestmode\" \"lon_lowestmode\"\n",
      " [5] \"rh25\"           \"rh50\"           \"rh75\"           \"rh98\"          \n",
      " [9] \"agbd\"           \"agbd_se\"        \"agbd_t\"         \"agbd_t_se\"     \n",
      "GEDI dataframe has 900143 rows and  21 columns \n",
      "Reading in no.  171 GPKG file of  222 GPKG tiles for iso3 BaE \n"
     ]
    },
    {
     "name": "stderr",
     "output_type": "stream",
     "text": [
      "\u001b[36mℹ\u001b[39m \u001b[34m\u001b[34ms3://maap-ops-workspace/shared/leitoldv/GEDI_global_PA_v2/WDPA_gedi_L4A_tiles/tile_num_23316_L4A.gpkg\u001b[34m\u001b[39m already exists at \u001b[34m\u001b[34m/projects/.local/share/R/s3/maap-ops-workspace/shared/leitoldv/GEDI_global_PA_v2/WDPA_gedi_L4A_tiles/tile_num_23316_L4A.gpkg\u001b[34m\u001b[39m\n",
      "\n",
      "\u001b[36mℹ\u001b[39m \u001b[34m\u001b[34ms3://maap-ops-workspace/shared/leitoldv/GEDI_global_PA_v2/WDPA_gedi_L2A_tiles/tile_num_23316_L2A.gpkg\u001b[34m\u001b[39m already exists at \u001b[34m\u001b[34m/projects/.local/share/R/s3/maap-ops-workspace/shared/leitoldv/GEDI_global_PA_v2/WDPA_gedi_L2A_tiles/tile_num_23316_L2A.gpkg\u001b[34m\u001b[39m\n",
      "\n"
     ]
    },
    {
     "name": "stdout",
     "output_type": "stream",
     "text": [
      "GEDI dataframe for  171 GPKG file has 684489 rows and  12 columns \n",
      " [1] \"shot_number\"    \"filename\"       \"lat_lowestmode\" \"lon_lowestmode\"\n",
      " [5] \"rh25\"           \"rh50\"           \"rh75\"           \"rh98\"          \n",
      " [9] \"agbd\"           \"agbd_se\"        \"agbd_t\"         \"agbd_t_se\"     \n",
      "GEDI dataframe has 900573 rows and  21 columns \n",
      "Reading in no.  172 GPKG file of  222 GPKG tiles for iso3 BaE \n"
     ]
    },
    {
     "name": "stderr",
     "output_type": "stream",
     "text": [
      "\u001b[36mℹ\u001b[39m \u001b[34m\u001b[34ms3://maap-ops-workspace/shared/leitoldv/GEDI_global_PA_v2/WDPA_gedi_L4A_tiles/tile_num_23317_L4A.gpkg\u001b[34m\u001b[39m already exists at \u001b[34m\u001b[34m/projects/.local/share/R/s3/maap-ops-workspace/shared/leitoldv/GEDI_global_PA_v2/WDPA_gedi_L4A_tiles/tile_num_23317_L4A.gpkg\u001b[34m\u001b[39m\n",
      "\n",
      "\u001b[36mℹ\u001b[39m \u001b[34m\u001b[34ms3://maap-ops-workspace/shared/leitoldv/GEDI_global_PA_v2/WDPA_gedi_L2A_tiles/tile_num_23317_L2A.gpkg\u001b[34m\u001b[39m already exists at \u001b[34m\u001b[34m/projects/.local/share/R/s3/maap-ops-workspace/shared/leitoldv/GEDI_global_PA_v2/WDPA_gedi_L2A_tiles/tile_num_23317_L2A.gpkg\u001b[34m\u001b[39m\n",
      "\n"
     ]
    },
    {
     "name": "stdout",
     "output_type": "stream",
     "text": [
      "GEDI dataframe for  172 GPKG file has 701270 rows and  12 columns \n",
      " [1] \"shot_number\"    \"filename\"       \"lat_lowestmode\" \"lon_lowestmode\"\n",
      " [5] \"rh25\"           \"rh50\"           \"rh75\"           \"rh98\"          \n",
      " [9] \"agbd\"           \"agbd_se\"        \"agbd_t\"         \"agbd_t_se\"     \n",
      "GEDI dataframe has 905530 rows and  21 columns \n",
      "Reading in no.  173 GPKG file of  222 GPKG tiles for iso3 BaE \n"
     ]
    },
    {
     "name": "stderr",
     "output_type": "stream",
     "text": [
      "\u001b[36mℹ\u001b[39m \u001b[34m\u001b[34ms3://maap-ops-workspace/shared/leitoldv/GEDI_global_PA_v2/WDPA_gedi_L4A_tiles/tile_num_23318_L4A.gpkg\u001b[34m\u001b[39m already exists at \u001b[34m\u001b[34m/projects/.local/share/R/s3/maap-ops-workspace/shared/leitoldv/GEDI_global_PA_v2/WDPA_gedi_L4A_tiles/tile_num_23318_L4A.gpkg\u001b[34m\u001b[39m\n",
      "\n",
      "\u001b[36mℹ\u001b[39m \u001b[34m\u001b[34ms3://maap-ops-workspace/shared/leitoldv/GEDI_global_PA_v2/WDPA_gedi_L2A_tiles/tile_num_23318_L2A.gpkg\u001b[34m\u001b[39m already exists at \u001b[34m\u001b[34m/projects/.local/share/R/s3/maap-ops-workspace/shared/leitoldv/GEDI_global_PA_v2/WDPA_gedi_L2A_tiles/tile_num_23318_L2A.gpkg\u001b[34m\u001b[39m\n",
      "\n"
     ]
    },
    {
     "name": "stdout",
     "output_type": "stream",
     "text": [
      "GEDI dataframe for  173 GPKG file has 729875 rows and  12 columns \n",
      " [1] \"shot_number\"    \"filename\"       \"lat_lowestmode\" \"lon_lowestmode\"\n",
      " [5] \"rh25\"           \"rh50\"           \"rh75\"           \"rh98\"          \n",
      " [9] \"agbd\"           \"agbd_se\"        \"agbd_t\"         \"agbd_t_se\"     \n",
      "GEDI dataframe has 916449 rows and  21 columns \n",
      "Reading in no.  174 GPKG file of  222 GPKG tiles for iso3 BaE \n"
     ]
    },
    {
     "name": "stderr",
     "output_type": "stream",
     "text": [
      "\u001b[36mℹ\u001b[39m \u001b[34m\u001b[34ms3://maap-ops-workspace/shared/leitoldv/GEDI_global_PA_v2/WDPA_gedi_L4A_tiles/tile_num_23319_L4A.gpkg\u001b[34m\u001b[39m already exists at \u001b[34m\u001b[34m/projects/.local/share/R/s3/maap-ops-workspace/shared/leitoldv/GEDI_global_PA_v2/WDPA_gedi_L4A_tiles/tile_num_23319_L4A.gpkg\u001b[34m\u001b[39m\n",
      "\n",
      "\u001b[36mℹ\u001b[39m \u001b[34m\u001b[34ms3://maap-ops-workspace/shared/leitoldv/GEDI_global_PA_v2/WDPA_gedi_L2A_tiles/tile_num_23319_L2A.gpkg\u001b[34m\u001b[39m already exists at \u001b[34m\u001b[34m/projects/.local/share/R/s3/maap-ops-workspace/shared/leitoldv/GEDI_global_PA_v2/WDPA_gedi_L2A_tiles/tile_num_23319_L2A.gpkg\u001b[34m\u001b[39m\n",
      "\n"
     ]
    },
    {
     "name": "stdout",
     "output_type": "stream",
     "text": [
      "GEDI dataframe for  174 GPKG file has 774704 rows and  12 columns \n",
      " [1] \"shot_number\"    \"filename\"       \"lat_lowestmode\" \"lon_lowestmode\"\n",
      " [5] \"rh25\"           \"rh50\"           \"rh75\"           \"rh98\"          \n",
      " [9] \"agbd\"           \"agbd_se\"        \"agbd_t\"         \"agbd_t_se\"     \n",
      "GEDI dataframe has 920362 rows and  21 columns \n",
      "Reading in no.  175 GPKG file of  222 GPKG tiles for iso3 BaE \n"
     ]
    },
    {
     "name": "stderr",
     "output_type": "stream",
     "text": [
      "\u001b[36mℹ\u001b[39m \u001b[34m\u001b[34ms3://maap-ops-workspace/shared/leitoldv/GEDI_global_PA_v2/WDPA_gedi_L4A_tiles/tile_num_23320_L4A.gpkg\u001b[34m\u001b[39m already exists at \u001b[34m\u001b[34m/projects/.local/share/R/s3/maap-ops-workspace/shared/leitoldv/GEDI_global_PA_v2/WDPA_gedi_L4A_tiles/tile_num_23320_L4A.gpkg\u001b[34m\u001b[39m\n",
      "\n",
      "\u001b[36mℹ\u001b[39m \u001b[34m\u001b[34ms3://maap-ops-workspace/shared/leitoldv/GEDI_global_PA_v2/WDPA_gedi_L2A_tiles/tile_num_23320_L2A.gpkg\u001b[34m\u001b[39m already exists at \u001b[34m\u001b[34m/projects/.local/share/R/s3/maap-ops-workspace/shared/leitoldv/GEDI_global_PA_v2/WDPA_gedi_L2A_tiles/tile_num_23320_L2A.gpkg\u001b[34m\u001b[39m\n",
      "\n"
     ]
    },
    {
     "name": "stdout",
     "output_type": "stream",
     "text": [
      "GEDI dataframe for  175 GPKG file has 750502 rows and  12 columns \n",
      " [1] \"shot_number\"    \"filename\"       \"lat_lowestmode\" \"lon_lowestmode\"\n",
      " [5] \"rh25\"           \"rh50\"           \"rh75\"           \"rh98\"          \n",
      " [9] \"agbd\"           \"agbd_se\"        \"agbd_t\"         \"agbd_t_se\"     \n",
      "GEDI dataframe has 920638 rows and  21 columns \n",
      "Reading in no.  176 GPKG file of  222 GPKG tiles for iso3 BaE \n"
     ]
    },
    {
     "name": "stderr",
     "output_type": "stream",
     "text": [
      "\u001b[36mℹ\u001b[39m \u001b[34m\u001b[34ms3://maap-ops-workspace/shared/leitoldv/GEDI_global_PA_v2/WDPA_gedi_L4A_tiles/tile_num_23321_L4A.gpkg\u001b[34m\u001b[39m already exists at \u001b[34m\u001b[34m/projects/.local/share/R/s3/maap-ops-workspace/shared/leitoldv/GEDI_global_PA_v2/WDPA_gedi_L4A_tiles/tile_num_23321_L4A.gpkg\u001b[34m\u001b[39m\n",
      "\n",
      "\u001b[36mℹ\u001b[39m \u001b[34m\u001b[34ms3://maap-ops-workspace/shared/leitoldv/GEDI_global_PA_v2/WDPA_gedi_L2A_tiles/tile_num_23321_L2A.gpkg\u001b[34m\u001b[39m already exists at \u001b[34m\u001b[34m/projects/.local/share/R/s3/maap-ops-workspace/shared/leitoldv/GEDI_global_PA_v2/WDPA_gedi_L2A_tiles/tile_num_23321_L2A.gpkg\u001b[34m\u001b[39m\n",
      "\n"
     ]
    },
    {
     "name": "stdout",
     "output_type": "stream",
     "text": [
      "GEDI dataframe for  176 GPKG file has 526264 rows and  12 columns \n",
      " [1] \"shot_number\"    \"filename\"       \"lat_lowestmode\" \"lon_lowestmode\"\n",
      " [5] \"rh25\"           \"rh50\"           \"rh75\"           \"rh98\"          \n",
      " [9] \"agbd\"           \"agbd_se\"        \"agbd_t\"         \"agbd_t_se\"     \n",
      "GEDI dataframe has 920638 rows and  21 columns \n",
      "Reading in no.  177 GPKG file of  222 GPKG tiles for iso3 BaE \n"
     ]
    },
    {
     "name": "stderr",
     "output_type": "stream",
     "text": [
      "\u001b[36mℹ\u001b[39m \u001b[34m\u001b[34ms3://maap-ops-workspace/shared/leitoldv/GEDI_global_PA_v2/WDPA_gedi_L4A_tiles/tile_num_23489_L4A.gpkg\u001b[34m\u001b[39m already exists at \u001b[34m\u001b[34m/projects/.local/share/R/s3/maap-ops-workspace/shared/leitoldv/GEDI_global_PA_v2/WDPA_gedi_L4A_tiles/tile_num_23489_L4A.gpkg\u001b[34m\u001b[39m\n",
      "\n",
      "\u001b[36mℹ\u001b[39m \u001b[34m\u001b[34ms3://maap-ops-workspace/shared/leitoldv/GEDI_global_PA_v2/WDPA_gedi_L2A_tiles/tile_num_23489_L2A.gpkg\u001b[34m\u001b[39m already exists at \u001b[34m\u001b[34m/projects/.local/share/R/s3/maap-ops-workspace/shared/leitoldv/GEDI_global_PA_v2/WDPA_gedi_L2A_tiles/tile_num_23489_L2A.gpkg\u001b[34m\u001b[39m\n",
      "\n"
     ]
    },
    {
     "name": "stdout",
     "output_type": "stream",
     "text": [
      "GEDI dataframe for  177 GPKG file has 25268 rows and  12 columns \n",
      " [1] \"shot_number\"    \"filename\"       \"lat_lowestmode\" \"lon_lowestmode\"\n",
      " [5] \"rh25\"           \"rh50\"           \"rh75\"           \"rh98\"          \n",
      " [9] \"agbd\"           \"agbd_se\"        \"agbd_t\"         \"agbd_t_se\"     \n",
      "GEDI dataframe has 920638 rows and  21 columns \n",
      "Reading in no.  178 GPKG file of  222 GPKG tiles for iso3 BaE \n"
     ]
    },
    {
     "name": "stderr",
     "output_type": "stream",
     "text": [
      "\u001b[36mℹ\u001b[39m \u001b[34m\u001b[34ms3://maap-ops-workspace/shared/leitoldv/GEDI_global_PA_v2/WDPA_gedi_L4A_tiles/tile_num_23490_L4A.gpkg\u001b[34m\u001b[39m already exists at \u001b[34m\u001b[34m/projects/.local/share/R/s3/maap-ops-workspace/shared/leitoldv/GEDI_global_PA_v2/WDPA_gedi_L4A_tiles/tile_num_23490_L4A.gpkg\u001b[34m\u001b[39m\n",
      "\n",
      "\u001b[36mℹ\u001b[39m \u001b[34m\u001b[34ms3://maap-ops-workspace/shared/leitoldv/GEDI_global_PA_v2/WDPA_gedi_L2A_tiles/tile_num_23490_L2A.gpkg\u001b[34m\u001b[39m already exists at \u001b[34m\u001b[34m/projects/.local/share/R/s3/maap-ops-workspace/shared/leitoldv/GEDI_global_PA_v2/WDPA_gedi_L2A_tiles/tile_num_23490_L2A.gpkg\u001b[34m\u001b[39m\n",
      "\n"
     ]
    },
    {
     "name": "stdout",
     "output_type": "stream",
     "text": [
      "GEDI dataframe for  178 GPKG file has 78085 rows and  12 columns \n",
      " [1] \"shot_number\"    \"filename\"       \"lat_lowestmode\" \"lon_lowestmode\"\n",
      " [5] \"rh25\"           \"rh50\"           \"rh75\"           \"rh98\"          \n",
      " [9] \"agbd\"           \"agbd_se\"        \"agbd_t\"         \"agbd_t_se\"     \n",
      "GEDI dataframe has 920638 rows and  21 columns \n",
      "Reading in no.  179 GPKG file of  222 GPKG tiles for iso3 BaE \n"
     ]
    },
    {
     "name": "stderr",
     "output_type": "stream",
     "text": [
      "\u001b[36mℹ\u001b[39m \u001b[34m\u001b[34ms3://maap-ops-workspace/shared/leitoldv/GEDI_global_PA_v2/WDPA_gedi_L4A_tiles/tile_num_23491_L4A.gpkg\u001b[34m\u001b[39m already exists at \u001b[34m\u001b[34m/projects/.local/share/R/s3/maap-ops-workspace/shared/leitoldv/GEDI_global_PA_v2/WDPA_gedi_L4A_tiles/tile_num_23491_L4A.gpkg\u001b[34m\u001b[39m\n",
      "\n",
      "\u001b[36mℹ\u001b[39m \u001b[34m\u001b[34ms3://maap-ops-workspace/shared/leitoldv/GEDI_global_PA_v2/WDPA_gedi_L2A_tiles/tile_num_23491_L2A.gpkg\u001b[34m\u001b[39m already exists at \u001b[34m\u001b[34m/projects/.local/share/R/s3/maap-ops-workspace/shared/leitoldv/GEDI_global_PA_v2/WDPA_gedi_L2A_tiles/tile_num_23491_L2A.gpkg\u001b[34m\u001b[39m\n",
      "\n"
     ]
    },
    {
     "name": "stdout",
     "output_type": "stream",
     "text": [
      "GEDI dataframe for  179 GPKG file has 362054 rows and  12 columns \n",
      " [1] \"shot_number\"    \"filename\"       \"lat_lowestmode\" \"lon_lowestmode\"\n",
      " [5] \"rh25\"           \"rh50\"           \"rh75\"           \"rh98\"          \n",
      " [9] \"agbd\"           \"agbd_se\"        \"agbd_t\"         \"agbd_t_se\"     \n",
      "GEDI dataframe has 920638 rows and  21 columns \n",
      "Reading in no.  180 GPKG file of  222 GPKG tiles for iso3 BaE \n"
     ]
    },
    {
     "name": "stderr",
     "output_type": "stream",
     "text": [
      "\u001b[36mℹ\u001b[39m \u001b[34m\u001b[34ms3://maap-ops-workspace/shared/leitoldv/GEDI_global_PA_v2/WDPA_gedi_L4A_tiles/tile_num_23492_L4A.gpkg\u001b[34m\u001b[39m already exists at \u001b[34m\u001b[34m/projects/.local/share/R/s3/maap-ops-workspace/shared/leitoldv/GEDI_global_PA_v2/WDPA_gedi_L4A_tiles/tile_num_23492_L4A.gpkg\u001b[34m\u001b[39m\n",
      "\n",
      "\u001b[36mℹ\u001b[39m \u001b[34m\u001b[34ms3://maap-ops-workspace/shared/leitoldv/GEDI_global_PA_v2/WDPA_gedi_L2A_tiles/tile_num_23492_L2A.gpkg\u001b[34m\u001b[39m already exists at \u001b[34m\u001b[34m/projects/.local/share/R/s3/maap-ops-workspace/shared/leitoldv/GEDI_global_PA_v2/WDPA_gedi_L2A_tiles/tile_num_23492_L2A.gpkg\u001b[34m\u001b[39m\n",
      "\n"
     ]
    },
    {
     "name": "stdout",
     "output_type": "stream",
     "text": [
      "GEDI dataframe for  180 GPKG file has 431543 rows and  12 columns \n",
      " [1] \"shot_number\"    \"filename\"       \"lat_lowestmode\" \"lon_lowestmode\"\n",
      " [5] \"rh25\"           \"rh50\"           \"rh75\"           \"rh98\"          \n",
      " [9] \"agbd\"           \"agbd_se\"        \"agbd_t\"         \"agbd_t_se\"     \n",
      "GEDI dataframe has 922309 rows and  21 columns \n",
      "Reading in no.  181 GPKG file of  222 GPKG tiles for iso3 BaE \n"
     ]
    },
    {
     "name": "stderr",
     "output_type": "stream",
     "text": [
      "\u001b[36mℹ\u001b[39m \u001b[34m\u001b[34ms3://maap-ops-workspace/shared/leitoldv/GEDI_global_PA_v2/WDPA_gedi_L4A_tiles/tile_num_23493_L4A.gpkg\u001b[34m\u001b[39m already exists at \u001b[34m\u001b[34m/projects/.local/share/R/s3/maap-ops-workspace/shared/leitoldv/GEDI_global_PA_v2/WDPA_gedi_L4A_tiles/tile_num_23493_L4A.gpkg\u001b[34m\u001b[39m\n",
      "\n",
      "\u001b[36mℹ\u001b[39m \u001b[34m\u001b[34ms3://maap-ops-workspace/shared/leitoldv/GEDI_global_PA_v2/WDPA_gedi_L2A_tiles/tile_num_23493_L2A.gpkg\u001b[34m\u001b[39m already exists at \u001b[34m\u001b[34m/projects/.local/share/R/s3/maap-ops-workspace/shared/leitoldv/GEDI_global_PA_v2/WDPA_gedi_L2A_tiles/tile_num_23493_L2A.gpkg\u001b[34m\u001b[39m\n",
      "\n"
     ]
    },
    {
     "name": "stdout",
     "output_type": "stream",
     "text": [
      "GEDI dataframe for  181 GPKG file has 416528 rows and  12 columns \n",
      " [1] \"shot_number\"    \"filename\"       \"lat_lowestmode\" \"lon_lowestmode\"\n",
      " [5] \"rh25\"           \"rh50\"           \"rh75\"           \"rh98\"          \n",
      " [9] \"agbd\"           \"agbd_se\"        \"agbd_t\"         \"agbd_t_se\"     \n",
      "GEDI dataframe has 926726 rows and  21 columns \n",
      "Reading in no.  182 GPKG file of  222 GPKG tiles for iso3 BaE \n"
     ]
    },
    {
     "name": "stderr",
     "output_type": "stream",
     "text": [
      "\u001b[36mℹ\u001b[39m \u001b[34m\u001b[34ms3://maap-ops-workspace/shared/leitoldv/GEDI_global_PA_v2/WDPA_gedi_L4A_tiles/tile_num_23494_L4A.gpkg\u001b[34m\u001b[39m already exists at \u001b[34m\u001b[34m/projects/.local/share/R/s3/maap-ops-workspace/shared/leitoldv/GEDI_global_PA_v2/WDPA_gedi_L4A_tiles/tile_num_23494_L4A.gpkg\u001b[34m\u001b[39m\n",
      "\n",
      "\u001b[36mℹ\u001b[39m \u001b[34m\u001b[34ms3://maap-ops-workspace/shared/leitoldv/GEDI_global_PA_v2/WDPA_gedi_L2A_tiles/tile_num_23494_L2A.gpkg\u001b[34m\u001b[39m already exists at \u001b[34m\u001b[34m/projects/.local/share/R/s3/maap-ops-workspace/shared/leitoldv/GEDI_global_PA_v2/WDPA_gedi_L2A_tiles/tile_num_23494_L2A.gpkg\u001b[34m\u001b[39m\n",
      "\n"
     ]
    },
    {
     "name": "stdout",
     "output_type": "stream",
     "text": [
      "GEDI dataframe for  182 GPKG file has 530957 rows and  12 columns \n",
      " [1] \"shot_number\"    \"filename\"       \"lat_lowestmode\" \"lon_lowestmode\"\n",
      " [5] \"rh25\"           \"rh50\"           \"rh75\"           \"rh98\"          \n",
      " [9] \"agbd\"           \"agbd_se\"        \"agbd_t\"         \"agbd_t_se\"     \n",
      "GEDI dataframe has 926726 rows and  21 columns \n",
      "Reading in no.  183 GPKG file of  222 GPKG tiles for iso3 BaE \n"
     ]
    },
    {
     "name": "stderr",
     "output_type": "stream",
     "text": [
      "\u001b[36mℹ\u001b[39m \u001b[34m\u001b[34ms3://maap-ops-workspace/shared/leitoldv/GEDI_global_PA_v2/WDPA_gedi_L4A_tiles/tile_num_23495_L4A.gpkg\u001b[34m\u001b[39m already exists at \u001b[34m\u001b[34m/projects/.local/share/R/s3/maap-ops-workspace/shared/leitoldv/GEDI_global_PA_v2/WDPA_gedi_L4A_tiles/tile_num_23495_L4A.gpkg\u001b[34m\u001b[39m\n",
      "\n",
      "\u001b[36mℹ\u001b[39m \u001b[34m\u001b[34ms3://maap-ops-workspace/shared/leitoldv/GEDI_global_PA_v2/WDPA_gedi_L2A_tiles/tile_num_23495_L2A.gpkg\u001b[34m\u001b[39m already exists at \u001b[34m\u001b[34m/projects/.local/share/R/s3/maap-ops-workspace/shared/leitoldv/GEDI_global_PA_v2/WDPA_gedi_L2A_tiles/tile_num_23495_L2A.gpkg\u001b[34m\u001b[39m\n",
      "\n"
     ]
    },
    {
     "name": "stdout",
     "output_type": "stream",
     "text": [
      "GEDI dataframe for  183 GPKG file has 536485 rows and  12 columns \n",
      " [1] \"shot_number\"    \"filename\"       \"lat_lowestmode\" \"lon_lowestmode\"\n",
      " [5] \"rh25\"           \"rh50\"           \"rh75\"           \"rh98\"          \n",
      " [9] \"agbd\"           \"agbd_se\"        \"agbd_t\"         \"agbd_t_se\"     \n",
      "GEDI dataframe has 926726 rows and  21 columns \n",
      "Reading in no.  184 GPKG file of  222 GPKG tiles for iso3 BaE \n"
     ]
    },
    {
     "name": "stderr",
     "output_type": "stream",
     "text": [
      "\u001b[36mℹ\u001b[39m \u001b[34m\u001b[34ms3://maap-ops-workspace/shared/leitoldv/GEDI_global_PA_v2/WDPA_gedi_L4A_tiles/tile_num_23496_L4A.gpkg\u001b[34m\u001b[39m already exists at \u001b[34m\u001b[34m/projects/.local/share/R/s3/maap-ops-workspace/shared/leitoldv/GEDI_global_PA_v2/WDPA_gedi_L4A_tiles/tile_num_23496_L4A.gpkg\u001b[34m\u001b[39m\n",
      "\n",
      "\u001b[36mℹ\u001b[39m \u001b[34m\u001b[34ms3://maap-ops-workspace/shared/leitoldv/GEDI_global_PA_v2/WDPA_gedi_L2A_tiles/tile_num_23496_L2A.gpkg\u001b[34m\u001b[39m already exists at \u001b[34m\u001b[34m/projects/.local/share/R/s3/maap-ops-workspace/shared/leitoldv/GEDI_global_PA_v2/WDPA_gedi_L2A_tiles/tile_num_23496_L2A.gpkg\u001b[34m\u001b[39m\n",
      "\n"
     ]
    },
    {
     "name": "stdout",
     "output_type": "stream",
     "text": [
      "GEDI dataframe for  184 GPKG file has 725920 rows and  12 columns \n",
      " [1] \"shot_number\"    \"filename\"       \"lat_lowestmode\" \"lon_lowestmode\"\n",
      " [5] \"rh25\"           \"rh50\"           \"rh75\"           \"rh98\"          \n",
      " [9] \"agbd\"           \"agbd_se\"        \"agbd_t\"         \"agbd_t_se\"     \n",
      "GEDI dataframe has 930884 rows and  21 columns \n",
      "Reading in no.  185 GPKG file of  222 GPKG tiles for iso3 BaE \n"
     ]
    },
    {
     "name": "stderr",
     "output_type": "stream",
     "text": [
      "\u001b[36mℹ\u001b[39m \u001b[34m\u001b[34ms3://maap-ops-workspace/shared/leitoldv/GEDI_global_PA_v2/WDPA_gedi_L4A_tiles/tile_num_23497_L4A.gpkg\u001b[34m\u001b[39m already exists at \u001b[34m\u001b[34m/projects/.local/share/R/s3/maap-ops-workspace/shared/leitoldv/GEDI_global_PA_v2/WDPA_gedi_L4A_tiles/tile_num_23497_L4A.gpkg\u001b[34m\u001b[39m\n",
      "\n",
      "\u001b[36mℹ\u001b[39m \u001b[34m\u001b[34ms3://maap-ops-workspace/shared/leitoldv/GEDI_global_PA_v2/WDPA_gedi_L2A_tiles/tile_num_23497_L2A.gpkg\u001b[34m\u001b[39m already exists at \u001b[34m\u001b[34m/projects/.local/share/R/s3/maap-ops-workspace/shared/leitoldv/GEDI_global_PA_v2/WDPA_gedi_L2A_tiles/tile_num_23497_L2A.gpkg\u001b[34m\u001b[39m\n",
      "\n"
     ]
    },
    {
     "name": "stdout",
     "output_type": "stream",
     "text": [
      "GEDI dataframe for  185 GPKG file has 756797 rows and  12 columns \n",
      " [1] \"shot_number\"    \"filename\"       \"lat_lowestmode\" \"lon_lowestmode\"\n",
      " [5] \"rh25\"           \"rh50\"           \"rh75\"           \"rh98\"          \n",
      " [9] \"agbd\"           \"agbd_se\"        \"agbd_t\"         \"agbd_t_se\"     \n",
      "GEDI dataframe has 932373 rows and  21 columns \n",
      "Reading in no.  186 GPKG file of  222 GPKG tiles for iso3 BaE \n"
     ]
    },
    {
     "name": "stderr",
     "output_type": "stream",
     "text": [
      "\u001b[36mℹ\u001b[39m \u001b[34m\u001b[34ms3://maap-ops-workspace/shared/leitoldv/GEDI_global_PA_v2/WDPA_gedi_L4A_tiles/tile_num_23498_L4A.gpkg\u001b[34m\u001b[39m already exists at \u001b[34m\u001b[34m/projects/.local/share/R/s3/maap-ops-workspace/shared/leitoldv/GEDI_global_PA_v2/WDPA_gedi_L4A_tiles/tile_num_23498_L4A.gpkg\u001b[34m\u001b[39m\n",
      "\n",
      "\u001b[36mℹ\u001b[39m \u001b[34m\u001b[34ms3://maap-ops-workspace/shared/leitoldv/GEDI_global_PA_v2/WDPA_gedi_L2A_tiles/tile_num_23498_L2A.gpkg\u001b[34m\u001b[39m already exists at \u001b[34m\u001b[34m/projects/.local/share/R/s3/maap-ops-workspace/shared/leitoldv/GEDI_global_PA_v2/WDPA_gedi_L2A_tiles/tile_num_23498_L2A.gpkg\u001b[34m\u001b[39m\n",
      "\n"
     ]
    },
    {
     "name": "stdout",
     "output_type": "stream",
     "text": [
      "GEDI dataframe for  186 GPKG file has 778902 rows and  12 columns \n",
      " [1] \"shot_number\"    \"filename\"       \"lat_lowestmode\" \"lon_lowestmode\"\n",
      " [5] \"rh25\"           \"rh50\"           \"rh75\"           \"rh98\"          \n",
      " [9] \"agbd\"           \"agbd_se\"        \"agbd_t\"         \"agbd_t_se\"     \n",
      "GEDI dataframe has 932439 rows and  21 columns \n",
      "Reading in no.  187 GPKG file of  222 GPKG tiles for iso3 BaE \n"
     ]
    },
    {
     "name": "stderr",
     "output_type": "stream",
     "text": [
      "\u001b[36mℹ\u001b[39m \u001b[34m\u001b[34ms3://maap-ops-workspace/shared/leitoldv/GEDI_global_PA_v2/WDPA_gedi_L4A_tiles/tile_num_23499_L4A.gpkg\u001b[34m\u001b[39m already exists at \u001b[34m\u001b[34m/projects/.local/share/R/s3/maap-ops-workspace/shared/leitoldv/GEDI_global_PA_v2/WDPA_gedi_L4A_tiles/tile_num_23499_L4A.gpkg\u001b[34m\u001b[39m\n",
      "\n",
      "\u001b[36mℹ\u001b[39m \u001b[34m\u001b[34ms3://maap-ops-workspace/shared/leitoldv/GEDI_global_PA_v2/WDPA_gedi_L2A_tiles/tile_num_23499_L2A.gpkg\u001b[34m\u001b[39m already exists at \u001b[34m\u001b[34m/projects/.local/share/R/s3/maap-ops-workspace/shared/leitoldv/GEDI_global_PA_v2/WDPA_gedi_L2A_tiles/tile_num_23499_L2A.gpkg\u001b[34m\u001b[39m\n",
      "\n"
     ]
    },
    {
     "name": "stdout",
     "output_type": "stream",
     "text": [
      "GEDI dataframe for  187 GPKG file has 596646 rows and  12 columns \n",
      " [1] \"shot_number\"    \"filename\"       \"lat_lowestmode\" \"lon_lowestmode\"\n",
      " [5] \"rh25\"           \"rh50\"           \"rh75\"           \"rh98\"          \n",
      " [9] \"agbd\"           \"agbd_se\"        \"agbd_t\"         \"agbd_t_se\"     \n",
      "GEDI dataframe has 932514 rows and  21 columns \n",
      "Reading in no.  188 GPKG file of  222 GPKG tiles for iso3 BaE \n"
     ]
    },
    {
     "name": "stderr",
     "output_type": "stream",
     "text": [
      "\u001b[36mℹ\u001b[39m \u001b[34m\u001b[34ms3://maap-ops-workspace/shared/leitoldv/GEDI_global_PA_v2/WDPA_gedi_L4A_tiles/tile_num_23500_L4A.gpkg\u001b[34m\u001b[39m already exists at \u001b[34m\u001b[34m/projects/.local/share/R/s3/maap-ops-workspace/shared/leitoldv/GEDI_global_PA_v2/WDPA_gedi_L4A_tiles/tile_num_23500_L4A.gpkg\u001b[34m\u001b[39m\n",
      "\n",
      "\u001b[36mℹ\u001b[39m \u001b[34m\u001b[34ms3://maap-ops-workspace/shared/leitoldv/GEDI_global_PA_v2/WDPA_gedi_L2A_tiles/tile_num_23500_L2A.gpkg\u001b[34m\u001b[39m already exists at \u001b[34m\u001b[34m/projects/.local/share/R/s3/maap-ops-workspace/shared/leitoldv/GEDI_global_PA_v2/WDPA_gedi_L2A_tiles/tile_num_23500_L2A.gpkg\u001b[34m\u001b[39m\n",
      "\n"
     ]
    },
    {
     "name": "stdout",
     "output_type": "stream",
     "text": [
      "GEDI dataframe for  188 GPKG file has 537505 rows and  12 columns \n",
      " [1] \"shot_number\"    \"filename\"       \"lat_lowestmode\" \"lon_lowestmode\"\n",
      " [5] \"rh25\"           \"rh50\"           \"rh75\"           \"rh98\"          \n",
      " [9] \"agbd\"           \"agbd_se\"        \"agbd_t\"         \"agbd_t_se\"     \n",
      "GEDI dataframe has 932514 rows and  21 columns \n",
      "Reading in no.  189 GPKG file of  222 GPKG tiles for iso3 BaE \n"
     ]
    },
    {
     "name": "stderr",
     "output_type": "stream",
     "text": [
      "\u001b[36mℹ\u001b[39m \u001b[34m\u001b[34ms3://maap-ops-workspace/shared/leitoldv/GEDI_global_PA_v2/WDPA_gedi_L4A_tiles/tile_num_23671_L4A.gpkg\u001b[34m\u001b[39m already exists at \u001b[34m\u001b[34m/projects/.local/share/R/s3/maap-ops-workspace/shared/leitoldv/GEDI_global_PA_v2/WDPA_gedi_L4A_tiles/tile_num_23671_L4A.gpkg\u001b[34m\u001b[39m\n",
      "\n",
      "\u001b[36mℹ\u001b[39m \u001b[34m\u001b[34ms3://maap-ops-workspace/shared/leitoldv/GEDI_global_PA_v2/WDPA_gedi_L2A_tiles/tile_num_23671_L2A.gpkg\u001b[34m\u001b[39m already exists at \u001b[34m\u001b[34m/projects/.local/share/R/s3/maap-ops-workspace/shared/leitoldv/GEDI_global_PA_v2/WDPA_gedi_L2A_tiles/tile_num_23671_L2A.gpkg\u001b[34m\u001b[39m\n",
      "\n"
     ]
    },
    {
     "name": "stdout",
     "output_type": "stream",
     "text": [
      "GEDI dataframe for  189 GPKG file has 128049 rows and  12 columns \n",
      " [1] \"shot_number\"    \"filename\"       \"lat_lowestmode\" \"lon_lowestmode\"\n",
      " [5] \"rh25\"           \"rh50\"           \"rh75\"           \"rh98\"          \n",
      " [9] \"agbd\"           \"agbd_se\"        \"agbd_t\"         \"agbd_t_se\"     \n",
      "GEDI dataframe has 932645 rows and  21 columns \n",
      "Reading in no.  190 GPKG file of  222 GPKG tiles for iso3 BaE \n"
     ]
    },
    {
     "name": "stderr",
     "output_type": "stream",
     "text": [
      "\u001b[36mℹ\u001b[39m \u001b[34m\u001b[34ms3://maap-ops-workspace/shared/leitoldv/GEDI_global_PA_v2/WDPA_gedi_L4A_tiles/tile_num_23672_L4A.gpkg\u001b[34m\u001b[39m already exists at \u001b[34m\u001b[34m/projects/.local/share/R/s3/maap-ops-workspace/shared/leitoldv/GEDI_global_PA_v2/WDPA_gedi_L4A_tiles/tile_num_23672_L4A.gpkg\u001b[34m\u001b[39m\n",
      "\n",
      "\u001b[36mℹ\u001b[39m \u001b[34m\u001b[34ms3://maap-ops-workspace/shared/leitoldv/GEDI_global_PA_v2/WDPA_gedi_L2A_tiles/tile_num_23672_L2A.gpkg\u001b[34m\u001b[39m already exists at \u001b[34m\u001b[34m/projects/.local/share/R/s3/maap-ops-workspace/shared/leitoldv/GEDI_global_PA_v2/WDPA_gedi_L2A_tiles/tile_num_23672_L2A.gpkg\u001b[34m\u001b[39m\n",
      "\n"
     ]
    },
    {
     "name": "stdout",
     "output_type": "stream",
     "text": [
      "GEDI dataframe for  190 GPKG file has 412019 rows and  12 columns \n",
      " [1] \"shot_number\"    \"filename\"       \"lat_lowestmode\" \"lon_lowestmode\"\n",
      " [5] \"rh25\"           \"rh50\"           \"rh75\"           \"rh98\"          \n",
      " [9] \"agbd\"           \"agbd_se\"        \"agbd_t\"         \"agbd_t_se\"     \n",
      "GEDI dataframe has 949185 rows and  21 columns \n",
      "Reading in no.  191 GPKG file of  222 GPKG tiles for iso3 BaE \n"
     ]
    },
    {
     "name": "stderr",
     "output_type": "stream",
     "text": [
      "\u001b[36mℹ\u001b[39m \u001b[34m\u001b[34ms3://maap-ops-workspace/shared/leitoldv/GEDI_global_PA_v2/WDPA_gedi_L4A_tiles/tile_num_23673_L4A.gpkg\u001b[34m\u001b[39m already exists at \u001b[34m\u001b[34m/projects/.local/share/R/s3/maap-ops-workspace/shared/leitoldv/GEDI_global_PA_v2/WDPA_gedi_L4A_tiles/tile_num_23673_L4A.gpkg\u001b[34m\u001b[39m\n",
      "\n",
      "\u001b[36mℹ\u001b[39m \u001b[34m\u001b[34ms3://maap-ops-workspace/shared/leitoldv/GEDI_global_PA_v2/WDPA_gedi_L2A_tiles/tile_num_23673_L2A.gpkg\u001b[34m\u001b[39m already exists at \u001b[34m\u001b[34m/projects/.local/share/R/s3/maap-ops-workspace/shared/leitoldv/GEDI_global_PA_v2/WDPA_gedi_L2A_tiles/tile_num_23673_L2A.gpkg\u001b[34m\u001b[39m\n",
      "\n"
     ]
    },
    {
     "name": "stdout",
     "output_type": "stream",
     "text": [
      "GEDI dataframe for  191 GPKG file has 544575 rows and  12 columns \n",
      " [1] \"shot_number\"    \"filename\"       \"lat_lowestmode\" \"lon_lowestmode\"\n",
      " [5] \"rh25\"           \"rh50\"           \"rh75\"           \"rh98\"          \n",
      " [9] \"agbd\"           \"agbd_se\"        \"agbd_t\"         \"agbd_t_se\"     \n",
      "GEDI dataframe has 949566 rows and  21 columns \n",
      "Reading in no.  192 GPKG file of  222 GPKG tiles for iso3 BaE \n"
     ]
    },
    {
     "name": "stderr",
     "output_type": "stream",
     "text": [
      "\u001b[36mℹ\u001b[39m \u001b[34m\u001b[34ms3://maap-ops-workspace/shared/leitoldv/GEDI_global_PA_v2/WDPA_gedi_L4A_tiles/tile_num_23674_L4A.gpkg\u001b[34m\u001b[39m already exists at \u001b[34m\u001b[34m/projects/.local/share/R/s3/maap-ops-workspace/shared/leitoldv/GEDI_global_PA_v2/WDPA_gedi_L4A_tiles/tile_num_23674_L4A.gpkg\u001b[34m\u001b[39m\n",
      "\n",
      "\u001b[36mℹ\u001b[39m \u001b[34m\u001b[34ms3://maap-ops-workspace/shared/leitoldv/GEDI_global_PA_v2/WDPA_gedi_L2A_tiles/tile_num_23674_L2A.gpkg\u001b[34m\u001b[39m already exists at \u001b[34m\u001b[34m/projects/.local/share/R/s3/maap-ops-workspace/shared/leitoldv/GEDI_global_PA_v2/WDPA_gedi_L2A_tiles/tile_num_23674_L2A.gpkg\u001b[34m\u001b[39m\n",
      "\n"
     ]
    },
    {
     "name": "stdout",
     "output_type": "stream",
     "text": [
      "GEDI dataframe for  192 GPKG file has 663205 rows and  12 columns \n",
      " [1] \"shot_number\"    \"filename\"       \"lat_lowestmode\" \"lon_lowestmode\"\n",
      " [5] \"rh25\"           \"rh50\"           \"rh75\"           \"rh98\"          \n",
      " [9] \"agbd\"           \"agbd_se\"        \"agbd_t\"         \"agbd_t_se\"     \n",
      "GEDI dataframe has 949566 rows and  21 columns \n",
      "Reading in no.  193 GPKG file of  222 GPKG tiles for iso3 BaE \n"
     ]
    },
    {
     "name": "stderr",
     "output_type": "stream",
     "text": [
      "\u001b[36mℹ\u001b[39m \u001b[34m\u001b[34ms3://maap-ops-workspace/shared/leitoldv/GEDI_global_PA_v2/WDPA_gedi_L4A_tiles/tile_num_23675_L4A.gpkg\u001b[34m\u001b[39m already exists at \u001b[34m\u001b[34m/projects/.local/share/R/s3/maap-ops-workspace/shared/leitoldv/GEDI_global_PA_v2/WDPA_gedi_L4A_tiles/tile_num_23675_L4A.gpkg\u001b[34m\u001b[39m\n",
      "\n",
      "\u001b[36mℹ\u001b[39m \u001b[34m\u001b[34ms3://maap-ops-workspace/shared/leitoldv/GEDI_global_PA_v2/WDPA_gedi_L2A_tiles/tile_num_23675_L2A.gpkg\u001b[34m\u001b[39m already exists at \u001b[34m\u001b[34m/projects/.local/share/R/s3/maap-ops-workspace/shared/leitoldv/GEDI_global_PA_v2/WDPA_gedi_L2A_tiles/tile_num_23675_L2A.gpkg\u001b[34m\u001b[39m\n",
      "\n"
     ]
    },
    {
     "name": "stdout",
     "output_type": "stream",
     "text": [
      "GEDI dataframe for  193 GPKG file has 723084 rows and  12 columns \n",
      " [1] \"shot_number\"    \"filename\"       \"lat_lowestmode\" \"lon_lowestmode\"\n",
      " [5] \"rh25\"           \"rh50\"           \"rh75\"           \"rh98\"          \n",
      " [9] \"agbd\"           \"agbd_se\"        \"agbd_t\"         \"agbd_t_se\"     \n",
      "GEDI dataframe has 949566 rows and  21 columns \n",
      "Reading in no.  194 GPKG file of  222 GPKG tiles for iso3 BaE \n"
     ]
    },
    {
     "name": "stderr",
     "output_type": "stream",
     "text": [
      "\u001b[36mℹ\u001b[39m \u001b[34m\u001b[34ms3://maap-ops-workspace/shared/leitoldv/GEDI_global_PA_v2/WDPA_gedi_L4A_tiles/tile_num_23676_L4A.gpkg\u001b[34m\u001b[39m already exists at \u001b[34m\u001b[34m/projects/.local/share/R/s3/maap-ops-workspace/shared/leitoldv/GEDI_global_PA_v2/WDPA_gedi_L4A_tiles/tile_num_23676_L4A.gpkg\u001b[34m\u001b[39m\n",
      "\n",
      "\u001b[36mℹ\u001b[39m \u001b[34m\u001b[34ms3://maap-ops-workspace/shared/leitoldv/GEDI_global_PA_v2/WDPA_gedi_L2A_tiles/tile_num_23676_L2A.gpkg\u001b[34m\u001b[39m already exists at \u001b[34m\u001b[34m/projects/.local/share/R/s3/maap-ops-workspace/shared/leitoldv/GEDI_global_PA_v2/WDPA_gedi_L2A_tiles/tile_num_23676_L2A.gpkg\u001b[34m\u001b[39m\n",
      "\n"
     ]
    },
    {
     "name": "stdout",
     "output_type": "stream",
     "text": [
      "GEDI dataframe for  194 GPKG file has 783420 rows and  12 columns \n",
      " [1] \"shot_number\"    \"filename\"       \"lat_lowestmode\" \"lon_lowestmode\"\n",
      " [5] \"rh25\"           \"rh50\"           \"rh75\"           \"rh98\"          \n",
      " [9] \"agbd\"           \"agbd_se\"        \"agbd_t\"         \"agbd_t_se\"     \n",
      "GEDI dataframe has 949566 rows and  21 columns \n",
      "Reading in no.  195 GPKG file of  222 GPKG tiles for iso3 BaE \n"
     ]
    },
    {
     "name": "stderr",
     "output_type": "stream",
     "text": [
      "\u001b[36mℹ\u001b[39m \u001b[34m\u001b[34ms3://maap-ops-workspace/shared/leitoldv/GEDI_global_PA_v2/WDPA_gedi_L4A_tiles/tile_num_23677_L4A.gpkg\u001b[34m\u001b[39m already exists at \u001b[34m\u001b[34m/projects/.local/share/R/s3/maap-ops-workspace/shared/leitoldv/GEDI_global_PA_v2/WDPA_gedi_L4A_tiles/tile_num_23677_L4A.gpkg\u001b[34m\u001b[39m\n",
      "\n",
      "\u001b[36mℹ\u001b[39m \u001b[34m\u001b[34ms3://maap-ops-workspace/shared/leitoldv/GEDI_global_PA_v2/WDPA_gedi_L2A_tiles/tile_num_23677_L2A.gpkg\u001b[34m\u001b[39m already exists at \u001b[34m\u001b[34m/projects/.local/share/R/s3/maap-ops-workspace/shared/leitoldv/GEDI_global_PA_v2/WDPA_gedi_L2A_tiles/tile_num_23677_L2A.gpkg\u001b[34m\u001b[39m\n",
      "\n"
     ]
    },
    {
     "name": "stdout",
     "output_type": "stream",
     "text": [
      "GEDI dataframe for  195 GPKG file has 936174 rows and  12 columns \n",
      " [1] \"shot_number\"    \"filename\"       \"lat_lowestmode\" \"lon_lowestmode\"\n",
      " [5] \"rh25\"           \"rh50\"           \"rh75\"           \"rh98\"          \n",
      " [9] \"agbd\"           \"agbd_se\"        \"agbd_t\"         \"agbd_t_se\"     \n",
      "GEDI dataframe has 949566 rows and  21 columns \n",
      "Reading in no.  196 GPKG file of  222 GPKG tiles for iso3 BaE \n"
     ]
    },
    {
     "name": "stderr",
     "output_type": "stream",
     "text": [
      "\u001b[36mℹ\u001b[39m \u001b[34m\u001b[34ms3://maap-ops-workspace/shared/leitoldv/GEDI_global_PA_v2/WDPA_gedi_L4A_tiles/tile_num_23678_L4A.gpkg\u001b[34m\u001b[39m already exists at \u001b[34m\u001b[34m/projects/.local/share/R/s3/maap-ops-workspace/shared/leitoldv/GEDI_global_PA_v2/WDPA_gedi_L4A_tiles/tile_num_23678_L4A.gpkg\u001b[34m\u001b[39m\n",
      "\n",
      "\u001b[36mℹ\u001b[39m \u001b[34m\u001b[34ms3://maap-ops-workspace/shared/leitoldv/GEDI_global_PA_v2/WDPA_gedi_L2A_tiles/tile_num_23678_L2A.gpkg\u001b[34m\u001b[39m already exists at \u001b[34m\u001b[34m/projects/.local/share/R/s3/maap-ops-workspace/shared/leitoldv/GEDI_global_PA_v2/WDPA_gedi_L2A_tiles/tile_num_23678_L2A.gpkg\u001b[34m\u001b[39m\n",
      "\n"
     ]
    },
    {
     "name": "stdout",
     "output_type": "stream",
     "text": [
      "GEDI dataframe for  196 GPKG file has 679493 rows and  12 columns \n",
      " [1] \"shot_number\"    \"filename\"       \"lat_lowestmode\" \"lon_lowestmode\"\n",
      " [5] \"rh25\"           \"rh50\"           \"rh75\"           \"rh98\"          \n",
      " [9] \"agbd\"           \"agbd_se\"        \"agbd_t\"         \"agbd_t_se\"     \n",
      "GEDI dataframe has 949566 rows and  21 columns \n",
      "Reading in no.  197 GPKG file of  222 GPKG tiles for iso3 BaE \n"
     ]
    },
    {
     "name": "stderr",
     "output_type": "stream",
     "text": [
      "\u001b[36mℹ\u001b[39m \u001b[34m\u001b[34ms3://maap-ops-workspace/shared/leitoldv/GEDI_global_PA_v2/WDPA_gedi_L4A_tiles/tile_num_23679_L4A.gpkg\u001b[34m\u001b[39m already exists at \u001b[34m\u001b[34m/projects/.local/share/R/s3/maap-ops-workspace/shared/leitoldv/GEDI_global_PA_v2/WDPA_gedi_L4A_tiles/tile_num_23679_L4A.gpkg\u001b[34m\u001b[39m\n",
      "\n",
      "\u001b[36mℹ\u001b[39m \u001b[34m\u001b[34ms3://maap-ops-workspace/shared/leitoldv/GEDI_global_PA_v2/WDPA_gedi_L2A_tiles/tile_num_23679_L2A.gpkg\u001b[34m\u001b[39m already exists at \u001b[34m\u001b[34m/projects/.local/share/R/s3/maap-ops-workspace/shared/leitoldv/GEDI_global_PA_v2/WDPA_gedi_L2A_tiles/tile_num_23679_L2A.gpkg\u001b[34m\u001b[39m\n",
      "\n"
     ]
    },
    {
     "name": "stdout",
     "output_type": "stream",
     "text": [
      "GEDI dataframe for  197 GPKG file has 587771 rows and  12 columns \n",
      " [1] \"shot_number\"    \"filename\"       \"lat_lowestmode\" \"lon_lowestmode\"\n",
      " [5] \"rh25\"           \"rh50\"           \"rh75\"           \"rh98\"          \n",
      " [9] \"agbd\"           \"agbd_se\"        \"agbd_t\"         \"agbd_t_se\"     \n",
      "GEDI dataframe has 949992 rows and  21 columns \n",
      "Reading in no.  198 GPKG file of  222 GPKG tiles for iso3 BaE \n"
     ]
    },
    {
     "name": "stderr",
     "output_type": "stream",
     "text": [
      "\u001b[36mℹ\u001b[39m \u001b[34m\u001b[34ms3://maap-ops-workspace/shared/leitoldv/GEDI_global_PA_v2/WDPA_gedi_L4A_tiles/tile_num_23680_L4A.gpkg\u001b[34m\u001b[39m already exists at \u001b[34m\u001b[34m/projects/.local/share/R/s3/maap-ops-workspace/shared/leitoldv/GEDI_global_PA_v2/WDPA_gedi_L4A_tiles/tile_num_23680_L4A.gpkg\u001b[34m\u001b[39m\n",
      "\n",
      "\u001b[36mℹ\u001b[39m \u001b[34m\u001b[34ms3://maap-ops-workspace/shared/leitoldv/GEDI_global_PA_v2/WDPA_gedi_L2A_tiles/tile_num_23680_L2A.gpkg\u001b[34m\u001b[39m already exists at \u001b[34m\u001b[34m/projects/.local/share/R/s3/maap-ops-workspace/shared/leitoldv/GEDI_global_PA_v2/WDPA_gedi_L2A_tiles/tile_num_23680_L2A.gpkg\u001b[34m\u001b[39m\n",
      "\n"
     ]
    },
    {
     "name": "stdout",
     "output_type": "stream",
     "text": [
      "GEDI dataframe for  198 GPKG file has 579277 rows and  12 columns \n",
      " [1] \"shot_number\"    \"filename\"       \"lat_lowestmode\" \"lon_lowestmode\"\n",
      " [5] \"rh25\"           \"rh50\"           \"rh75\"           \"rh98\"          \n",
      " [9] \"agbd\"           \"agbd_se\"        \"agbd_t\"         \"agbd_t_se\"     \n",
      "GEDI dataframe has 950200 rows and  21 columns \n",
      "Reading in no.  199 GPKG file of  222 GPKG tiles for iso3 BaE \n"
     ]
    },
    {
     "name": "stderr",
     "output_type": "stream",
     "text": [
      "\u001b[36mℹ\u001b[39m \u001b[34m\u001b[34ms3://maap-ops-workspace/shared/leitoldv/GEDI_global_PA_v2/WDPA_gedi_L4A_tiles/tile_num_23851_L4A.gpkg\u001b[34m\u001b[39m already exists at \u001b[34m\u001b[34m/projects/.local/share/R/s3/maap-ops-workspace/shared/leitoldv/GEDI_global_PA_v2/WDPA_gedi_L4A_tiles/tile_num_23851_L4A.gpkg\u001b[34m\u001b[39m\n",
      "\n",
      "\u001b[36mℹ\u001b[39m \u001b[34m\u001b[34ms3://maap-ops-workspace/shared/leitoldv/GEDI_global_PA_v2/WDPA_gedi_L2A_tiles/tile_num_23851_L2A.gpkg\u001b[34m\u001b[39m already exists at \u001b[34m\u001b[34m/projects/.local/share/R/s3/maap-ops-workspace/shared/leitoldv/GEDI_global_PA_v2/WDPA_gedi_L2A_tiles/tile_num_23851_L2A.gpkg\u001b[34m\u001b[39m\n",
      "\n"
     ]
    },
    {
     "name": "stdout",
     "output_type": "stream",
     "text": [
      "GEDI dataframe for  199 GPKG file has 215007 rows and  12 columns \n",
      " [1] \"shot_number\"    \"filename\"       \"lat_lowestmode\" \"lon_lowestmode\"\n",
      " [5] \"rh25\"           \"rh50\"           \"rh75\"           \"rh98\"          \n",
      " [9] \"agbd\"           \"agbd_se\"        \"agbd_t\"         \"agbd_t_se\"     \n",
      "GEDI dataframe has 950727 rows and  21 columns \n",
      "Reading in no.  200 GPKG file of  222 GPKG tiles for iso3 BaE \n"
     ]
    },
    {
     "name": "stderr",
     "output_type": "stream",
     "text": [
      "\u001b[36mℹ\u001b[39m \u001b[34m\u001b[34ms3://maap-ops-workspace/shared/leitoldv/GEDI_global_PA_v2/WDPA_gedi_L4A_tiles/tile_num_23852_L4A.gpkg\u001b[34m\u001b[39m already exists at \u001b[34m\u001b[34m/projects/.local/share/R/s3/maap-ops-workspace/shared/leitoldv/GEDI_global_PA_v2/WDPA_gedi_L4A_tiles/tile_num_23852_L4A.gpkg\u001b[34m\u001b[39m\n",
      "\n",
      "\u001b[36mℹ\u001b[39m \u001b[34m\u001b[34ms3://maap-ops-workspace/shared/leitoldv/GEDI_global_PA_v2/WDPA_gedi_L2A_tiles/tile_num_23852_L2A.gpkg\u001b[34m\u001b[39m already exists at \u001b[34m\u001b[34m/projects/.local/share/R/s3/maap-ops-workspace/shared/leitoldv/GEDI_global_PA_v2/WDPA_gedi_L2A_tiles/tile_num_23852_L2A.gpkg\u001b[34m\u001b[39m\n",
      "\n"
     ]
    },
    {
     "name": "stdout",
     "output_type": "stream",
     "text": [
      "GEDI dataframe for  200 GPKG file has 534473 rows and  12 columns \n",
      " [1] \"shot_number\"    \"filename\"       \"lat_lowestmode\" \"lon_lowestmode\"\n",
      " [5] \"rh25\"           \"rh50\"           \"rh75\"           \"rh98\"          \n",
      " [9] \"agbd\"           \"agbd_se\"        \"agbd_t\"         \"agbd_t_se\"     \n",
      "GEDI dataframe has 957908 rows and  21 columns \n",
      "Reading in no.  201 GPKG file of  222 GPKG tiles for iso3 BaE \n"
     ]
    },
    {
     "name": "stderr",
     "output_type": "stream",
     "text": [
      "\u001b[36mℹ\u001b[39m \u001b[34m\u001b[34ms3://maap-ops-workspace/shared/leitoldv/GEDI_global_PA_v2/WDPA_gedi_L4A_tiles/tile_num_23853_L4A.gpkg\u001b[34m\u001b[39m already exists at \u001b[34m\u001b[34m/projects/.local/share/R/s3/maap-ops-workspace/shared/leitoldv/GEDI_global_PA_v2/WDPA_gedi_L4A_tiles/tile_num_23853_L4A.gpkg\u001b[34m\u001b[39m\n",
      "\n",
      "\u001b[36mℹ\u001b[39m \u001b[34m\u001b[34ms3://maap-ops-workspace/shared/leitoldv/GEDI_global_PA_v2/WDPA_gedi_L2A_tiles/tile_num_23853_L2A.gpkg\u001b[34m\u001b[39m already exists at \u001b[34m\u001b[34m/projects/.local/share/R/s3/maap-ops-workspace/shared/leitoldv/GEDI_global_PA_v2/WDPA_gedi_L2A_tiles/tile_num_23853_L2A.gpkg\u001b[34m\u001b[39m\n",
      "\n"
     ]
    },
    {
     "name": "stdout",
     "output_type": "stream",
     "text": [
      "GEDI dataframe for  201 GPKG file has 570135 rows and  12 columns \n",
      " [1] \"shot_number\"    \"filename\"       \"lat_lowestmode\" \"lon_lowestmode\"\n",
      " [5] \"rh25\"           \"rh50\"           \"rh75\"           \"rh98\"          \n",
      " [9] \"agbd\"           \"agbd_se\"        \"agbd_t\"         \"agbd_t_se\"     \n",
      "GEDI dataframe has 957908 rows and  21 columns \n",
      "Reading in no.  202 GPKG file of  222 GPKG tiles for iso3 BaE \n"
     ]
    },
    {
     "name": "stderr",
     "output_type": "stream",
     "text": [
      "\u001b[36mℹ\u001b[39m \u001b[34m\u001b[34ms3://maap-ops-workspace/shared/leitoldv/GEDI_global_PA_v2/WDPA_gedi_L4A_tiles/tile_num_23854_L4A.gpkg\u001b[34m\u001b[39m already exists at \u001b[34m\u001b[34m/projects/.local/share/R/s3/maap-ops-workspace/shared/leitoldv/GEDI_global_PA_v2/WDPA_gedi_L4A_tiles/tile_num_23854_L4A.gpkg\u001b[34m\u001b[39m\n",
      "\n",
      "\u001b[36mℹ\u001b[39m \u001b[34m\u001b[34ms3://maap-ops-workspace/shared/leitoldv/GEDI_global_PA_v2/WDPA_gedi_L2A_tiles/tile_num_23854_L2A.gpkg\u001b[34m\u001b[39m already exists at \u001b[34m\u001b[34m/projects/.local/share/R/s3/maap-ops-workspace/shared/leitoldv/GEDI_global_PA_v2/WDPA_gedi_L2A_tiles/tile_num_23854_L2A.gpkg\u001b[34m\u001b[39m\n",
      "\n"
     ]
    },
    {
     "name": "stdout",
     "output_type": "stream",
     "text": [
      "GEDI dataframe for  202 GPKG file has 622857 rows and  12 columns \n",
      " [1] \"shot_number\"    \"filename\"       \"lat_lowestmode\" \"lon_lowestmode\"\n",
      " [5] \"rh25\"           \"rh50\"           \"rh75\"           \"rh98\"          \n",
      " [9] \"agbd\"           \"agbd_se\"        \"agbd_t\"         \"agbd_t_se\"     \n",
      "GEDI dataframe has 957908 rows and  21 columns \n",
      "Reading in no.  203 GPKG file of  222 GPKG tiles for iso3 BaE \n"
     ]
    },
    {
     "name": "stderr",
     "output_type": "stream",
     "text": [
      "\u001b[36mℹ\u001b[39m \u001b[34m\u001b[34ms3://maap-ops-workspace/shared/leitoldv/GEDI_global_PA_v2/WDPA_gedi_L4A_tiles/tile_num_23855_L4A.gpkg\u001b[34m\u001b[39m already exists at \u001b[34m\u001b[34m/projects/.local/share/R/s3/maap-ops-workspace/shared/leitoldv/GEDI_global_PA_v2/WDPA_gedi_L4A_tiles/tile_num_23855_L4A.gpkg\u001b[34m\u001b[39m\n",
      "\n",
      "\u001b[36mℹ\u001b[39m \u001b[34m\u001b[34ms3://maap-ops-workspace/shared/leitoldv/GEDI_global_PA_v2/WDPA_gedi_L2A_tiles/tile_num_23855_L2A.gpkg\u001b[34m\u001b[39m already exists at \u001b[34m\u001b[34m/projects/.local/share/R/s3/maap-ops-workspace/shared/leitoldv/GEDI_global_PA_v2/WDPA_gedi_L2A_tiles/tile_num_23855_L2A.gpkg\u001b[34m\u001b[39m\n",
      "\n"
     ]
    },
    {
     "name": "stdout",
     "output_type": "stream",
     "text": [
      "GEDI dataframe for  203 GPKG file has 701805 rows and  12 columns \n",
      " [1] \"shot_number\"    \"filename\"       \"lat_lowestmode\" \"lon_lowestmode\"\n",
      " [5] \"rh25\"           \"rh50\"           \"rh75\"           \"rh98\"          \n",
      " [9] \"agbd\"           \"agbd_se\"        \"agbd_t\"         \"agbd_t_se\"     \n",
      "GEDI dataframe has 957908 rows and  21 columns \n",
      "Reading in no.  204 GPKG file of  222 GPKG tiles for iso3 BaE \n"
     ]
    },
    {
     "name": "stderr",
     "output_type": "stream",
     "text": [
      "\u001b[36mℹ\u001b[39m \u001b[34m\u001b[34ms3://maap-ops-workspace/shared/leitoldv/GEDI_global_PA_v2/WDPA_gedi_L4A_tiles/tile_num_23856_L4A.gpkg\u001b[34m\u001b[39m already exists at \u001b[34m\u001b[34m/projects/.local/share/R/s3/maap-ops-workspace/shared/leitoldv/GEDI_global_PA_v2/WDPA_gedi_L4A_tiles/tile_num_23856_L4A.gpkg\u001b[34m\u001b[39m\n",
      "\n",
      "\u001b[36mℹ\u001b[39m \u001b[34m\u001b[34ms3://maap-ops-workspace/shared/leitoldv/GEDI_global_PA_v2/WDPA_gedi_L2A_tiles/tile_num_23856_L2A.gpkg\u001b[34m\u001b[39m already exists at \u001b[34m\u001b[34m/projects/.local/share/R/s3/maap-ops-workspace/shared/leitoldv/GEDI_global_PA_v2/WDPA_gedi_L2A_tiles/tile_num_23856_L2A.gpkg\u001b[34m\u001b[39m\n",
      "\n"
     ]
    },
    {
     "name": "stdout",
     "output_type": "stream",
     "text": [
      "GEDI dataframe for  204 GPKG file has 676469 rows and  12 columns \n",
      " [1] \"shot_number\"    \"filename\"       \"lat_lowestmode\" \"lon_lowestmode\"\n",
      " [5] \"rh25\"           \"rh50\"           \"rh75\"           \"rh98\"          \n",
      " [9] \"agbd\"           \"agbd_se\"        \"agbd_t\"         \"agbd_t_se\"     \n",
      "GEDI dataframe has 957908 rows and  21 columns \n",
      "Reading in no.  205 GPKG file of  222 GPKG tiles for iso3 BaE \n"
     ]
    },
    {
     "name": "stderr",
     "output_type": "stream",
     "text": [
      "\u001b[36mℹ\u001b[39m \u001b[34m\u001b[34ms3://maap-ops-workspace/shared/leitoldv/GEDI_global_PA_v2/WDPA_gedi_L4A_tiles/tile_num_23857_L4A.gpkg\u001b[34m\u001b[39m already exists at \u001b[34m\u001b[34m/projects/.local/share/R/s3/maap-ops-workspace/shared/leitoldv/GEDI_global_PA_v2/WDPA_gedi_L4A_tiles/tile_num_23857_L4A.gpkg\u001b[34m\u001b[39m\n",
      "\n",
      "\u001b[36mℹ\u001b[39m \u001b[34m\u001b[34ms3://maap-ops-workspace/shared/leitoldv/GEDI_global_PA_v2/WDPA_gedi_L2A_tiles/tile_num_23857_L2A.gpkg\u001b[34m\u001b[39m already exists at \u001b[34m\u001b[34m/projects/.local/share/R/s3/maap-ops-workspace/shared/leitoldv/GEDI_global_PA_v2/WDPA_gedi_L2A_tiles/tile_num_23857_L2A.gpkg\u001b[34m\u001b[39m\n",
      "\n"
     ]
    },
    {
     "name": "stdout",
     "output_type": "stream",
     "text": [
      "GEDI dataframe for  205 GPKG file has 561444 rows and  12 columns \n",
      " [1] \"shot_number\"    \"filename\"       \"lat_lowestmode\" \"lon_lowestmode\"\n",
      " [5] \"rh25\"           \"rh50\"           \"rh75\"           \"rh98\"          \n",
      " [9] \"agbd\"           \"agbd_se\"        \"agbd_t\"         \"agbd_t_se\"     \n",
      "GEDI dataframe has 957908 rows and  21 columns \n",
      "Reading in no.  206 GPKG file of  222 GPKG tiles for iso3 BaE \n"
     ]
    },
    {
     "name": "stderr",
     "output_type": "stream",
     "text": [
      "\u001b[36mℹ\u001b[39m \u001b[34m\u001b[34ms3://maap-ops-workspace/shared/leitoldv/GEDI_global_PA_v2/WDPA_gedi_L4A_tiles/tile_num_24031_L4A.gpkg\u001b[34m\u001b[39m already exists at \u001b[34m\u001b[34m/projects/.local/share/R/s3/maap-ops-workspace/shared/leitoldv/GEDI_global_PA_v2/WDPA_gedi_L4A_tiles/tile_num_24031_L4A.gpkg\u001b[34m\u001b[39m\n",
      "\n",
      "\u001b[36mℹ\u001b[39m \u001b[34m\u001b[34ms3://maap-ops-workspace/shared/leitoldv/GEDI_global_PA_v2/WDPA_gedi_L2A_tiles/tile_num_24031_L2A.gpkg\u001b[34m\u001b[39m already exists at \u001b[34m\u001b[34m/projects/.local/share/R/s3/maap-ops-workspace/shared/leitoldv/GEDI_global_PA_v2/WDPA_gedi_L2A_tiles/tile_num_24031_L2A.gpkg\u001b[34m\u001b[39m\n",
      "\n"
     ]
    },
    {
     "name": "stdout",
     "output_type": "stream",
     "text": [
      "GEDI dataframe for  206 GPKG file has 56577 rows and  12 columns \n",
      " [1] \"shot_number\"    \"filename\"       \"lat_lowestmode\" \"lon_lowestmode\"\n",
      " [5] \"rh25\"           \"rh50\"           \"rh75\"           \"rh98\"          \n",
      " [9] \"agbd\"           \"agbd_se\"        \"agbd_t\"         \"agbd_t_se\"     \n",
      "GEDI dataframe has 957908 rows and  21 columns \n",
      "Reading in no.  207 GPKG file of  222 GPKG tiles for iso3 BaE \n"
     ]
    },
    {
     "name": "stderr",
     "output_type": "stream",
     "text": [
      "\u001b[36mℹ\u001b[39m \u001b[34m\u001b[34ms3://maap-ops-workspace/shared/leitoldv/GEDI_global_PA_v2/WDPA_gedi_L4A_tiles/tile_num_24032_L4A.gpkg\u001b[34m\u001b[39m already exists at \u001b[34m\u001b[34m/projects/.local/share/R/s3/maap-ops-workspace/shared/leitoldv/GEDI_global_PA_v2/WDPA_gedi_L4A_tiles/tile_num_24032_L4A.gpkg\u001b[34m\u001b[39m\n",
      "\n",
      "\u001b[36mℹ\u001b[39m \u001b[34m\u001b[34ms3://maap-ops-workspace/shared/leitoldv/GEDI_global_PA_v2/WDPA_gedi_L2A_tiles/tile_num_24032_L2A.gpkg\u001b[34m\u001b[39m already exists at \u001b[34m\u001b[34m/projects/.local/share/R/s3/maap-ops-workspace/shared/leitoldv/GEDI_global_PA_v2/WDPA_gedi_L2A_tiles/tile_num_24032_L2A.gpkg\u001b[34m\u001b[39m\n",
      "\n"
     ]
    },
    {
     "name": "stdout",
     "output_type": "stream",
     "text": [
      "GEDI dataframe for  207 GPKG file has 785121 rows and  12 columns \n",
      " [1] \"shot_number\"    \"filename\"       \"lat_lowestmode\" \"lon_lowestmode\"\n",
      " [5] \"rh25\"           \"rh50\"           \"rh75\"           \"rh98\"          \n",
      " [9] \"agbd\"           \"agbd_se\"        \"agbd_t\"         \"agbd_t_se\"     \n",
      "GEDI dataframe has 957908 rows and  21 columns \n",
      "Reading in no.  208 GPKG file of  222 GPKG tiles for iso3 BaE \n"
     ]
    },
    {
     "name": "stderr",
     "output_type": "stream",
     "text": [
      "\u001b[36mℹ\u001b[39m \u001b[34m\u001b[34ms3://maap-ops-workspace/shared/leitoldv/GEDI_global_PA_v2/WDPA_gedi_L4A_tiles/tile_num_24033_L4A.gpkg\u001b[34m\u001b[39m already exists at \u001b[34m\u001b[34m/projects/.local/share/R/s3/maap-ops-workspace/shared/leitoldv/GEDI_global_PA_v2/WDPA_gedi_L4A_tiles/tile_num_24033_L4A.gpkg\u001b[34m\u001b[39m\n",
      "\n",
      "\u001b[36mℹ\u001b[39m \u001b[34m\u001b[34ms3://maap-ops-workspace/shared/leitoldv/GEDI_global_PA_v2/WDPA_gedi_L2A_tiles/tile_num_24033_L2A.gpkg\u001b[34m\u001b[39m already exists at \u001b[34m\u001b[34m/projects/.local/share/R/s3/maap-ops-workspace/shared/leitoldv/GEDI_global_PA_v2/WDPA_gedi_L2A_tiles/tile_num_24033_L2A.gpkg\u001b[34m\u001b[39m\n",
      "\n"
     ]
    },
    {
     "name": "stdout",
     "output_type": "stream",
     "text": [
      "GEDI dataframe for  208 GPKG file has 750070 rows and  12 columns \n",
      " [1] \"shot_number\"    \"filename\"       \"lat_lowestmode\" \"lon_lowestmode\"\n",
      " [5] \"rh25\"           \"rh50\"           \"rh75\"           \"rh98\"          \n",
      " [9] \"agbd\"           \"agbd_se\"        \"agbd_t\"         \"agbd_t_se\"     \n",
      "GEDI dataframe has 957908 rows and  21 columns \n",
      "Reading in no.  209 GPKG file of  222 GPKG tiles for iso3 BaE \n"
     ]
    },
    {
     "name": "stderr",
     "output_type": "stream",
     "text": [
      "\u001b[36mℹ\u001b[39m \u001b[34m\u001b[34ms3://maap-ops-workspace/shared/leitoldv/GEDI_global_PA_v2/WDPA_gedi_L4A_tiles/tile_num_24034_L4A.gpkg\u001b[34m\u001b[39m already exists at \u001b[34m\u001b[34m/projects/.local/share/R/s3/maap-ops-workspace/shared/leitoldv/GEDI_global_PA_v2/WDPA_gedi_L4A_tiles/tile_num_24034_L4A.gpkg\u001b[34m\u001b[39m\n",
      "\n",
      "\u001b[36mℹ\u001b[39m \u001b[34m\u001b[34ms3://maap-ops-workspace/shared/leitoldv/GEDI_global_PA_v2/WDPA_gedi_L2A_tiles/tile_num_24034_L2A.gpkg\u001b[34m\u001b[39m already exists at \u001b[34m\u001b[34m/projects/.local/share/R/s3/maap-ops-workspace/shared/leitoldv/GEDI_global_PA_v2/WDPA_gedi_L2A_tiles/tile_num_24034_L2A.gpkg\u001b[34m\u001b[39m\n",
      "\n"
     ]
    },
    {
     "name": "stdout",
     "output_type": "stream",
     "text": [
      "GEDI dataframe for  209 GPKG file has 894876 rows and  12 columns \n",
      " [1] \"shot_number\"    \"filename\"       \"lat_lowestmode\" \"lon_lowestmode\"\n",
      " [5] \"rh25\"           \"rh50\"           \"rh75\"           \"rh98\"          \n",
      " [9] \"agbd\"           \"agbd_se\"        \"agbd_t\"         \"agbd_t_se\"     \n",
      "GEDI dataframe has 957908 rows and  21 columns \n",
      "Reading in no.  210 GPKG file of  222 GPKG tiles for iso3 BaE \n"
     ]
    },
    {
     "name": "stderr",
     "output_type": "stream",
     "text": [
      "\u001b[36mℹ\u001b[39m \u001b[34m\u001b[34ms3://maap-ops-workspace/shared/leitoldv/GEDI_global_PA_v2/WDPA_gedi_L4A_tiles/tile_num_24035_L4A.gpkg\u001b[34m\u001b[39m already exists at \u001b[34m\u001b[34m/projects/.local/share/R/s3/maap-ops-workspace/shared/leitoldv/GEDI_global_PA_v2/WDPA_gedi_L4A_tiles/tile_num_24035_L4A.gpkg\u001b[34m\u001b[39m\n",
      "\n",
      "\u001b[36mℹ\u001b[39m \u001b[34m\u001b[34ms3://maap-ops-workspace/shared/leitoldv/GEDI_global_PA_v2/WDPA_gedi_L2A_tiles/tile_num_24035_L2A.gpkg\u001b[34m\u001b[39m already exists at \u001b[34m\u001b[34m/projects/.local/share/R/s3/maap-ops-workspace/shared/leitoldv/GEDI_global_PA_v2/WDPA_gedi_L2A_tiles/tile_num_24035_L2A.gpkg\u001b[34m\u001b[39m\n",
      "\n"
     ]
    },
    {
     "name": "stdout",
     "output_type": "stream",
     "text": [
      "GEDI dataframe for  210 GPKG file has 623788 rows and  12 columns \n",
      " [1] \"shot_number\"    \"filename\"       \"lat_lowestmode\" \"lon_lowestmode\"\n",
      " [5] \"rh25\"           \"rh50\"           \"rh75\"           \"rh98\"          \n",
      " [9] \"agbd\"           \"agbd_se\"        \"agbd_t\"         \"agbd_t_se\"     \n",
      "GEDI dataframe has 957908 rows and  21 columns \n",
      "Reading in no.  211 GPKG file of  222 GPKG tiles for iso3 BaE \n"
     ]
    },
    {
     "name": "stderr",
     "output_type": "stream",
     "text": [
      "\u001b[36mℹ\u001b[39m \u001b[34m\u001b[34ms3://maap-ops-workspace/shared/leitoldv/GEDI_global_PA_v2/WDPA_gedi_L4A_tiles/tile_num_24036_L4A.gpkg\u001b[34m\u001b[39m already exists at \u001b[34m\u001b[34m/projects/.local/share/R/s3/maap-ops-workspace/shared/leitoldv/GEDI_global_PA_v2/WDPA_gedi_L4A_tiles/tile_num_24036_L4A.gpkg\u001b[34m\u001b[39m\n",
      "\n",
      "\u001b[36mℹ\u001b[39m \u001b[34m\u001b[34ms3://maap-ops-workspace/shared/leitoldv/GEDI_global_PA_v2/WDPA_gedi_L2A_tiles/tile_num_24036_L2A.gpkg\u001b[34m\u001b[39m already exists at \u001b[34m\u001b[34m/projects/.local/share/R/s3/maap-ops-workspace/shared/leitoldv/GEDI_global_PA_v2/WDPA_gedi_L2A_tiles/tile_num_24036_L2A.gpkg\u001b[34m\u001b[39m\n",
      "\n"
     ]
    },
    {
     "name": "stdout",
     "output_type": "stream",
     "text": [
      "GEDI dataframe for  211 GPKG file has 536520 rows and  12 columns \n",
      " [1] \"shot_number\"    \"filename\"       \"lat_lowestmode\" \"lon_lowestmode\"\n",
      " [5] \"rh25\"           \"rh50\"           \"rh75\"           \"rh98\"          \n",
      " [9] \"agbd\"           \"agbd_se\"        \"agbd_t\"         \"agbd_t_se\"     \n",
      "GEDI dataframe has 957908 rows and  21 columns \n",
      "Reading in no.  212 GPKG file of  222 GPKG tiles for iso3 BaE \n"
     ]
    },
    {
     "name": "stderr",
     "output_type": "stream",
     "text": [
      "\u001b[36mℹ\u001b[39m \u001b[34m\u001b[34ms3://maap-ops-workspace/shared/leitoldv/GEDI_global_PA_v2/WDPA_gedi_L4A_tiles/tile_num_24212_L4A.gpkg\u001b[34m\u001b[39m already exists at \u001b[34m\u001b[34m/projects/.local/share/R/s3/maap-ops-workspace/shared/leitoldv/GEDI_global_PA_v2/WDPA_gedi_L4A_tiles/tile_num_24212_L4A.gpkg\u001b[34m\u001b[39m\n",
      "\n",
      "\u001b[36mℹ\u001b[39m \u001b[34m\u001b[34ms3://maap-ops-workspace/shared/leitoldv/GEDI_global_PA_v2/WDPA_gedi_L2A_tiles/tile_num_24212_L2A.gpkg\u001b[34m\u001b[39m already exists at \u001b[34m\u001b[34m/projects/.local/share/R/s3/maap-ops-workspace/shared/leitoldv/GEDI_global_PA_v2/WDPA_gedi_L2A_tiles/tile_num_24212_L2A.gpkg\u001b[34m\u001b[39m\n",
      "\n"
     ]
    },
    {
     "name": "stdout",
     "output_type": "stream",
     "text": [
      "GEDI dataframe for  212 GPKG file has 588507 rows and  12 columns \n",
      " [1] \"shot_number\"    \"filename\"       \"lat_lowestmode\" \"lon_lowestmode\"\n",
      " [5] \"rh25\"           \"rh50\"           \"rh75\"           \"rh98\"          \n",
      " [9] \"agbd\"           \"agbd_se\"        \"agbd_t\"         \"agbd_t_se\"     \n",
      "GEDI dataframe has 966409 rows and  21 columns \n",
      "Reading in no.  213 GPKG file of  222 GPKG tiles for iso3 BaE \n"
     ]
    },
    {
     "name": "stderr",
     "output_type": "stream",
     "text": [
      "\u001b[36mℹ\u001b[39m \u001b[34m\u001b[34ms3://maap-ops-workspace/shared/leitoldv/GEDI_global_PA_v2/WDPA_gedi_L4A_tiles/tile_num_24213_L4A.gpkg\u001b[34m\u001b[39m already exists at \u001b[34m\u001b[34m/projects/.local/share/R/s3/maap-ops-workspace/shared/leitoldv/GEDI_global_PA_v2/WDPA_gedi_L4A_tiles/tile_num_24213_L4A.gpkg\u001b[34m\u001b[39m\n",
      "\n",
      "\u001b[36mℹ\u001b[39m \u001b[34m\u001b[34ms3://maap-ops-workspace/shared/leitoldv/GEDI_global_PA_v2/WDPA_gedi_L2A_tiles/tile_num_24213_L2A.gpkg\u001b[34m\u001b[39m already exists at \u001b[34m\u001b[34m/projects/.local/share/R/s3/maap-ops-workspace/shared/leitoldv/GEDI_global_PA_v2/WDPA_gedi_L2A_tiles/tile_num_24213_L2A.gpkg\u001b[34m\u001b[39m\n",
      "\n"
     ]
    },
    {
     "name": "stdout",
     "output_type": "stream",
     "text": [
      "GEDI dataframe for  213 GPKG file has 762332 rows and  12 columns \n",
      " [1] \"shot_number\"    \"filename\"       \"lat_lowestmode\" \"lon_lowestmode\"\n",
      " [5] \"rh25\"           \"rh50\"           \"rh75\"           \"rh98\"          \n",
      " [9] \"agbd\"           \"agbd_se\"        \"agbd_t\"         \"agbd_t_se\"     \n",
      "GEDI dataframe has 966651 rows and  21 columns \n",
      "Reading in no.  214 GPKG file of  222 GPKG tiles for iso3 BaE \n"
     ]
    },
    {
     "name": "stderr",
     "output_type": "stream",
     "text": [
      "\u001b[36mℹ\u001b[39m \u001b[34m\u001b[34ms3://maap-ops-workspace/shared/leitoldv/GEDI_global_PA_v2/WDPA_gedi_L4A_tiles/tile_num_24214_L4A.gpkg\u001b[34m\u001b[39m already exists at \u001b[34m\u001b[34m/projects/.local/share/R/s3/maap-ops-workspace/shared/leitoldv/GEDI_global_PA_v2/WDPA_gedi_L4A_tiles/tile_num_24214_L4A.gpkg\u001b[34m\u001b[39m\n",
      "\n",
      "\u001b[36mℹ\u001b[39m \u001b[34m\u001b[34ms3://maap-ops-workspace/shared/leitoldv/GEDI_global_PA_v2/WDPA_gedi_L2A_tiles/tile_num_24214_L2A.gpkg\u001b[34m\u001b[39m already exists at \u001b[34m\u001b[34m/projects/.local/share/R/s3/maap-ops-workspace/shared/leitoldv/GEDI_global_PA_v2/WDPA_gedi_L2A_tiles/tile_num_24214_L2A.gpkg\u001b[34m\u001b[39m\n",
      "\n"
     ]
    },
    {
     "name": "stdout",
     "output_type": "stream",
     "text": [
      "GEDI dataframe for  214 GPKG file has 548850 rows and  12 columns \n",
      " [1] \"shot_number\"    \"filename\"       \"lat_lowestmode\" \"lon_lowestmode\"\n",
      " [5] \"rh25\"           \"rh50\"           \"rh75\"           \"rh98\"          \n",
      " [9] \"agbd\"           \"agbd_se\"        \"agbd_t\"         \"agbd_t_se\"     \n",
      "GEDI dataframe has 966651 rows and  21 columns \n",
      "Reading in no.  215 GPKG file of  222 GPKG tiles for iso3 BaE \n"
     ]
    },
    {
     "name": "stderr",
     "output_type": "stream",
     "text": [
      "\u001b[36mℹ\u001b[39m \u001b[34m\u001b[34ms3://maap-ops-workspace/shared/leitoldv/GEDI_global_PA_v2/WDPA_gedi_L4A_tiles/tile_num_24215_L4A.gpkg\u001b[34m\u001b[39m already exists at \u001b[34m\u001b[34m/projects/.local/share/R/s3/maap-ops-workspace/shared/leitoldv/GEDI_global_PA_v2/WDPA_gedi_L4A_tiles/tile_num_24215_L4A.gpkg\u001b[34m\u001b[39m\n",
      "\n",
      "\u001b[36mℹ\u001b[39m \u001b[34m\u001b[34ms3://maap-ops-workspace/shared/leitoldv/GEDI_global_PA_v2/WDPA_gedi_L2A_tiles/tile_num_24215_L2A.gpkg\u001b[34m\u001b[39m already exists at \u001b[34m\u001b[34m/projects/.local/share/R/s3/maap-ops-workspace/shared/leitoldv/GEDI_global_PA_v2/WDPA_gedi_L2A_tiles/tile_num_24215_L2A.gpkg\u001b[34m\u001b[39m\n",
      "\n"
     ]
    },
    {
     "name": "stdout",
     "output_type": "stream",
     "text": [
      "GEDI dataframe for  215 GPKG file has 568787 rows and  12 columns \n",
      " [1] \"shot_number\"    \"filename\"       \"lat_lowestmode\" \"lon_lowestmode\"\n",
      " [5] \"rh25\"           \"rh50\"           \"rh75\"           \"rh98\"          \n",
      " [9] \"agbd\"           \"agbd_se\"        \"agbd_t\"         \"agbd_t_se\"     \n",
      "GEDI dataframe has 966651 rows and  21 columns \n",
      "Reading in no.  216 GPKG file of  222 GPKG tiles for iso3 BaE \n"
     ]
    },
    {
     "name": "stderr",
     "output_type": "stream",
     "text": [
      "\u001b[36mℹ\u001b[39m \u001b[34m\u001b[34ms3://maap-ops-workspace/shared/leitoldv/GEDI_global_PA_v2/WDPA_gedi_L4A_tiles/tile_num_24216_L4A.gpkg\u001b[34m\u001b[39m already exists at \u001b[34m\u001b[34m/projects/.local/share/R/s3/maap-ops-workspace/shared/leitoldv/GEDI_global_PA_v2/WDPA_gedi_L4A_tiles/tile_num_24216_L4A.gpkg\u001b[34m\u001b[39m\n",
      "\n",
      "\u001b[36mℹ\u001b[39m \u001b[34m\u001b[34ms3://maap-ops-workspace/shared/leitoldv/GEDI_global_PA_v2/WDPA_gedi_L2A_tiles/tile_num_24216_L2A.gpkg\u001b[34m\u001b[39m already exists at \u001b[34m\u001b[34m/projects/.local/share/R/s3/maap-ops-workspace/shared/leitoldv/GEDI_global_PA_v2/WDPA_gedi_L2A_tiles/tile_num_24216_L2A.gpkg\u001b[34m\u001b[39m\n",
      "\n"
     ]
    },
    {
     "name": "stdout",
     "output_type": "stream",
     "text": [
      "GEDI dataframe for  216 GPKG file has 445463 rows and  12 columns \n",
      " [1] \"shot_number\"    \"filename\"       \"lat_lowestmode\" \"lon_lowestmode\"\n",
      " [5] \"rh25\"           \"rh50\"           \"rh75\"           \"rh98\"          \n",
      " [9] \"agbd\"           \"agbd_se\"        \"agbd_t\"         \"agbd_t_se\"     \n",
      "GEDI dataframe has 966651 rows and  21 columns \n",
      "Reading in no.  217 GPKG file of  222 GPKG tiles for iso3 BaE \n"
     ]
    },
    {
     "name": "stderr",
     "output_type": "stream",
     "text": [
      "\u001b[36mℹ\u001b[39m \u001b[34m\u001b[34ms3://maap-ops-workspace/shared/leitoldv/GEDI_global_PA_v2/WDPA_gedi_L4A_tiles/tile_num_24392_L4A.gpkg\u001b[34m\u001b[39m already exists at \u001b[34m\u001b[34m/projects/.local/share/R/s3/maap-ops-workspace/shared/leitoldv/GEDI_global_PA_v2/WDPA_gedi_L4A_tiles/tile_num_24392_L4A.gpkg\u001b[34m\u001b[39m\n",
      "\n",
      "\u001b[36mℹ\u001b[39m \u001b[34m\u001b[34ms3://maap-ops-workspace/shared/leitoldv/GEDI_global_PA_v2/WDPA_gedi_L2A_tiles/tile_num_24392_L2A.gpkg\u001b[34m\u001b[39m already exists at \u001b[34m\u001b[34m/projects/.local/share/R/s3/maap-ops-workspace/shared/leitoldv/GEDI_global_PA_v2/WDPA_gedi_L2A_tiles/tile_num_24392_L2A.gpkg\u001b[34m\u001b[39m\n",
      "\n"
     ]
    },
    {
     "name": "stdout",
     "output_type": "stream",
     "text": [
      "GEDI dataframe for  217 GPKG file has 110496 rows and  12 columns \n",
      " [1] \"shot_number\"    \"filename\"       \"lat_lowestmode\" \"lon_lowestmode\"\n",
      " [5] \"rh25\"           \"rh50\"           \"rh75\"           \"rh98\"          \n",
      " [9] \"agbd\"           \"agbd_se\"        \"agbd_t\"         \"agbd_t_se\"     \n",
      "GEDI dataframe has 966651 rows and  21 columns \n",
      "Reading in no.  218 GPKG file of  222 GPKG tiles for iso3 BaE \n"
     ]
    },
    {
     "name": "stderr",
     "output_type": "stream",
     "text": [
      "\u001b[36mℹ\u001b[39m \u001b[34m\u001b[34ms3://maap-ops-workspace/shared/leitoldv/GEDI_global_PA_v2/WDPA_gedi_L4A_tiles/tile_num_24393_L4A.gpkg\u001b[34m\u001b[39m already exists at \u001b[34m\u001b[34m/projects/.local/share/R/s3/maap-ops-workspace/shared/leitoldv/GEDI_global_PA_v2/WDPA_gedi_L4A_tiles/tile_num_24393_L4A.gpkg\u001b[34m\u001b[39m\n",
      "\n",
      "\u001b[36mℹ\u001b[39m \u001b[34m\u001b[34ms3://maap-ops-workspace/shared/leitoldv/GEDI_global_PA_v2/WDPA_gedi_L2A_tiles/tile_num_24393_L2A.gpkg\u001b[34m\u001b[39m already exists at \u001b[34m\u001b[34m/projects/.local/share/R/s3/maap-ops-workspace/shared/leitoldv/GEDI_global_PA_v2/WDPA_gedi_L2A_tiles/tile_num_24393_L2A.gpkg\u001b[34m\u001b[39m\n",
      "\n"
     ]
    },
    {
     "name": "stdout",
     "output_type": "stream",
     "text": [
      "GEDI dataframe for  218 GPKG file has 390215 rows and  12 columns \n",
      " [1] \"shot_number\"    \"filename\"       \"lat_lowestmode\" \"lon_lowestmode\"\n",
      " [5] \"rh25\"           \"rh50\"           \"rh75\"           \"rh98\"          \n",
      " [9] \"agbd\"           \"agbd_se\"        \"agbd_t\"         \"agbd_t_se\"     \n",
      "GEDI dataframe has 966651 rows and  21 columns \n",
      "Reading in no.  219 GPKG file of  222 GPKG tiles for iso3 BaE \n"
     ]
    },
    {
     "name": "stderr",
     "output_type": "stream",
     "text": [
      "\u001b[36mℹ\u001b[39m \u001b[34m\u001b[34ms3://maap-ops-workspace/shared/leitoldv/GEDI_global_PA_v2/WDPA_gedi_L4A_tiles/tile_num_24394_L4A.gpkg\u001b[34m\u001b[39m already exists at \u001b[34m\u001b[34m/projects/.local/share/R/s3/maap-ops-workspace/shared/leitoldv/GEDI_global_PA_v2/WDPA_gedi_L4A_tiles/tile_num_24394_L4A.gpkg\u001b[34m\u001b[39m\n",
      "\n",
      "\u001b[36mℹ\u001b[39m \u001b[34m\u001b[34ms3://maap-ops-workspace/shared/leitoldv/GEDI_global_PA_v2/WDPA_gedi_L2A_tiles/tile_num_24394_L2A.gpkg\u001b[34m\u001b[39m already exists at \u001b[34m\u001b[34m/projects/.local/share/R/s3/maap-ops-workspace/shared/leitoldv/GEDI_global_PA_v2/WDPA_gedi_L2A_tiles/tile_num_24394_L2A.gpkg\u001b[34m\u001b[39m\n",
      "\n"
     ]
    },
    {
     "name": "stdout",
     "output_type": "stream",
     "text": [
      "GEDI dataframe for  219 GPKG file has 576015 rows and  12 columns \n",
      " [1] \"shot_number\"    \"filename\"       \"lat_lowestmode\" \"lon_lowestmode\"\n",
      " [5] \"rh25\"           \"rh50\"           \"rh75\"           \"rh98\"          \n",
      " [9] \"agbd\"           \"agbd_se\"        \"agbd_t\"         \"agbd_t_se\"     \n",
      "GEDI dataframe has 966651 rows and  21 columns \n",
      "Reading in no.  220 GPKG file of  222 GPKG tiles for iso3 BaE \n"
     ]
    },
    {
     "name": "stderr",
     "output_type": "stream",
     "text": [
      "\u001b[36mℹ\u001b[39m \u001b[34m\u001b[34ms3://maap-ops-workspace/shared/leitoldv/GEDI_global_PA_v2/WDPA_gedi_L4A_tiles/tile_num_24395_L4A.gpkg\u001b[34m\u001b[39m already exists at \u001b[34m\u001b[34m/projects/.local/share/R/s3/maap-ops-workspace/shared/leitoldv/GEDI_global_PA_v2/WDPA_gedi_L4A_tiles/tile_num_24395_L4A.gpkg\u001b[34m\u001b[39m\n",
      "\n",
      "\u001b[36mℹ\u001b[39m \u001b[34m\u001b[34ms3://maap-ops-workspace/shared/leitoldv/GEDI_global_PA_v2/WDPA_gedi_L2A_tiles/tile_num_24395_L2A.gpkg\u001b[34m\u001b[39m already exists at \u001b[34m\u001b[34m/projects/.local/share/R/s3/maap-ops-workspace/shared/leitoldv/GEDI_global_PA_v2/WDPA_gedi_L2A_tiles/tile_num_24395_L2A.gpkg\u001b[34m\u001b[39m\n",
      "\n"
     ]
    },
    {
     "name": "stdout",
     "output_type": "stream",
     "text": [
      "GEDI dataframe for  220 GPKG file has 686936 rows and  12 columns \n",
      " [1] \"shot_number\"    \"filename\"       \"lat_lowestmode\" \"lon_lowestmode\"\n",
      " [5] \"rh25\"           \"rh50\"           \"rh75\"           \"rh98\"          \n",
      " [9] \"agbd\"           \"agbd_se\"        \"agbd_t\"         \"agbd_t_se\"     \n",
      "GEDI dataframe has 966651 rows and  21 columns \n",
      "Reading in no.  221 GPKG file of  222 GPKG tiles for iso3 BaE \n"
     ]
    },
    {
     "name": "stderr",
     "output_type": "stream",
     "text": [
      "\u001b[36mℹ\u001b[39m \u001b[34m\u001b[34ms3://maap-ops-workspace/shared/leitoldv/GEDI_global_PA_v2/WDPA_gedi_L4A_tiles/tile_num_24573_L4A.gpkg\u001b[34m\u001b[39m already exists at \u001b[34m\u001b[34m/projects/.local/share/R/s3/maap-ops-workspace/shared/leitoldv/GEDI_global_PA_v2/WDPA_gedi_L4A_tiles/tile_num_24573_L4A.gpkg\u001b[34m\u001b[39m\n",
      "\n",
      "\u001b[36mℹ\u001b[39m \u001b[34m\u001b[34ms3://maap-ops-workspace/shared/leitoldv/GEDI_global_PA_v2/WDPA_gedi_L2A_tiles/tile_num_24573_L2A.gpkg\u001b[34m\u001b[39m already exists at \u001b[34m\u001b[34m/projects/.local/share/R/s3/maap-ops-workspace/shared/leitoldv/GEDI_global_PA_v2/WDPA_gedi_L2A_tiles/tile_num_24573_L2A.gpkg\u001b[34m\u001b[39m\n",
      "\n"
     ]
    },
    {
     "name": "stdout",
     "output_type": "stream",
     "text": [
      "GEDI dataframe for  221 GPKG file has 306924 rows and  12 columns \n",
      " [1] \"shot_number\"    \"filename\"       \"lat_lowestmode\" \"lon_lowestmode\"\n",
      " [5] \"rh25\"           \"rh50\"           \"rh75\"           \"rh98\"          \n",
      " [9] \"agbd\"           \"agbd_se\"        \"agbd_t\"         \"agbd_t_se\"     \n",
      "GEDI dataframe has 966651 rows and  21 columns \n",
      "Reading in no.  222 GPKG file of  222 GPKG tiles for iso3 BaE \n"
     ]
    },
    {
     "name": "stderr",
     "output_type": "stream",
     "text": [
      "\u001b[36mℹ\u001b[39m \u001b[34m\u001b[34ms3://maap-ops-workspace/shared/leitoldv/GEDI_global_PA_v2/WDPA_gedi_L4A_tiles/tile_num_24574_L4A.gpkg\u001b[34m\u001b[39m already exists at \u001b[34m\u001b[34m/projects/.local/share/R/s3/maap-ops-workspace/shared/leitoldv/GEDI_global_PA_v2/WDPA_gedi_L4A_tiles/tile_num_24574_L4A.gpkg\u001b[34m\u001b[39m\n",
      "\n",
      "\u001b[36mℹ\u001b[39m \u001b[34m\u001b[34ms3://maap-ops-workspace/shared/leitoldv/GEDI_global_PA_v2/WDPA_gedi_L2A_tiles/tile_num_24574_L2A.gpkg\u001b[34m\u001b[39m already exists at \u001b[34m\u001b[34m/projects/.local/share/R/s3/maap-ops-workspace/shared/leitoldv/GEDI_global_PA_v2/WDPA_gedi_L2A_tiles/tile_num_24574_L2A.gpkg\u001b[34m\u001b[39m\n",
      "\n"
     ]
    }
   ],
   "source": [
    "#foreach(this_rds=matched_PAs, .combine = foreach_rbind, .packages=c('sp','magrittr', 'dplyr','tidyr')) %dopar% {\n",
    "\n",
    "cat(\"Extracting for no. \", match(this_rds,matched_PAs),\"pa out of\", length(matched_PAs),\"\\n\")\n",
    "#  id_pa <- this_rds %>% str_split(\"_\") %>% unlist %>% .[3]\n",
    "  id_pa <- basename(this_rds) %>% readr::parse_number() %>% unique()\n",
    "#  matched <- readRDS(paste(f.path,\"WDPA_matching_results/\",iso3,\"_wk\",gediwk,\"/\",iso3,\"_pa_\", id_pa,\"_matching_results_wk\",gediwk,\".RDS\", sep=\"\"))\n",
    "  matched <- readRDS(s3_get(paste(f.path,\"WDPA_matching_results/\",iso3,\"_wk\",gediwk,\"/\",iso3,\"_pa_\",id_pa,\"_matching_results_wk\",gediwk,\".RDS\",sep=\"\")))\n",
    "  matched$pa_id <- rep(id_pa, nrow(matched))\n",
    "\n",
    "  if (is.null(matched)==TRUE  | nrow(matched)==0) {\n",
    "    cat(\"Matched result is null for PA\", id_pa, \"quitting...\\n\")\n",
    "  } else if (!is.null(matched)==TRUE){\n",
    "    mras  <- tryCatch(matched2ras(matched),\n",
    "                      error=function(cond){\n",
    "                        message(cond)\n",
    "                        cat(\"Matched result is likely null for country\", iso3,\"pa\", id_pa, \"dimension of the match is\", dim(matched),\"\\n\")\n",
    "                        # writeLines(\"Matched results is likely null for country\", paste(f.path,\"WDPA_log/\",iso3,\"_log_matching.txt\", sep=\"\"))\n",
    "                        return(NULL)}) #convert the macthed df to a raster stack \n",
    "    print(table(mras$status[]))\n",
    "    \n",
    "    if(table(mras$status[])[2]==0 | table(mras$status[])[1]==0 | is.null(mras)){\n",
    "      cat(\"Rasterized results unbalanced for PA\", id_pa, \"quitting...\\n\")\n",
    "    } else {\n",
    "      startTime <- Sys.time()\n",
    "      #iso_matched_gedi<- extract_gedi(matched=matched, mras = mras)  #run filtered csvs on mras for extarction\n",
    "      iso_matched_gedi <- extract_gedi(matched=matched, mras=mras, iso3=iso3)\n",
    "      tElapsed <- Sys.time()-startTime\n",
    "      cat(tElapsed, \"for extracting all PAs in\", iso3,\"\\n\")\n",
    "      # iso_matched_gedi_sub <- iso_matched_gedi %>%\n",
    "      #   dplyr::select(\"pa_id\",\"shot_number\",\"status\",\"DESIG_ENG.x\",\"wwfbiom\",\"wwfecoreg\",\"PADDD\",\"pft\",\"region\",\"lon_lowestmode\",\"lat_lowestmode\",\n",
    "      #                 \"rh_010\",\"rh_020\", \"rh_030\", \"rh_040\",  \"rh_050\",  \"rh_060\" , \"rh_070\",\"rh_075\",  \"rh_080\",  \"rh_090\",  \"rh_098\", \"AGBD\",\"cover\",\"pai\",\"REGION\",\"PFT\")  #write to individual country folder\n",
    "      iso_matched_gedi <-  iso_matched_gedi %>%\n",
    "            dplyr::select(\"pa_id\",\"status\",\"wwfbiom\",\"wwfecoreg\",\"pft\",\"region\",\n",
    "                          \"shot_number\",\"filename\",\"lat_lowestmode\",\"lon_lowestmode\",\n",
    "                          \"rh25\",\"rh50\",\"rh75\",\"rh98\",\"agbd\",\"agbd_se\")\n",
    "    if (length(unique(iso_matched_gedi$wwfbiom)) >1){\n",
    "        pabiome <- iso_matched_gedi$wwfbiom %>% unique() %>% gsub(\"\\\\b(\\\\p{L})\\\\p{L}{2,}|.\",\"\\\\U\\\\1\",.,perl = TRUE)%>% str_c( collapse = \"+\")\n",
    "    } else if (length(unique(iso_matched_gedi$wwfbiom))==1){\n",
    "        pabiome <- iso_matched_gedi$wwfbiom %>% unique() %>% gsub('\\\\b(\\\\p{L})\\\\p{L}{2,}|.','\\\\U\\\\1',.,perl = TRUE)\n",
    "    } else {\n",
    "        pabiome <- iso_matched_gedi$wwfbiom %>% unique()\n",
    "    }\n",
    "    # papaddd <- unique(iso_matched_gedi$PADDD) %>% getmode()\n",
    "    continent <- unique(iso_matched_gedi$region) %>% getmode()\n",
    "    print(paste('output df',dim(iso_matched_gedi)))\n",
    "\n",
    "    #dir.create(file.path(paste(\"output/WDPA_extract/\",iso3,\"_wk\",gediwk,\"/\",sep=\"\")),recursive=TRUE)\n",
    "    #saveRDS(iso_matched_gedi, file=paste(\"output/WDPA_extract/\",iso3,\"_wk\",gediwk,\"/\",iso3,\"_pa_\", id_pa,\"_gedi_wk_\",gediwk,\"_conti_\",\"biome_\",pabiome,\".RDS\", sep=\"\"))\n",
    "    #write.csv(iso_matched_gedi, file=paste(\"output/WDPA_extract/\",iso3,\"_wk\",gediwk,\"/\",iso3,\"_pa_\", id_pa,\"_iso_matched_gedi_sub_wk_\",gediwk,\".csv\", sep=\"\"))\n",
    "    if(!dir.exists(paste(\"/projects/my-public-bucket/GEDI_global_PA_v2/WDPA_extract/\",iso3,\"_wk\",gediwk,\"/\",sep=\"\"))){\n",
    "        dir.create(file.path(paste(\"/projects/my-public-bucket/GEDI_global_PA_v2/WDPA_extract/\",iso3,\"_wk\",gediwk,\"/\",sep=\"\")),recursive=TRUE)\n",
    "    }\n",
    "    saveRDS(iso_matched_gedi, file=paste(\"/projects/my-public-bucket/GEDI_global_PA_v2/WDPA_extract/\",iso3,\"_wk\",gediwk,\"/\",iso3,\"_pa_\", id_pa,\"_gedi_wk_\",gediwk,\"_conti_\",\"biome_\",pabiome,\".RDS\", sep=\"\"))\n",
    "    write.csv(iso_matched_gedi, file=paste(\"/projects/my-public-bucket/GEDI_global_PA_v2/WDPA_extract/\",iso3,\"_wk\",gediwk,\"/\",iso3,\"_pa_\", id_pa,\"_iso_matched_gedi_sub_wk_\",gediwk,\".csv\", sep=\"\"))\n",
    "    cat(id_pa,\"in\",iso3,\"result is written to dir\\n\")\n",
    "  }\n",
    "}\n"
   ]
  },
  {
   "cell_type": "code",
   "execution_count": null,
   "id": "dfc5e1ed-ddb1-4614-8a36-e4fbe7ea4b9a",
   "metadata": {},
   "outputs": [],
   "source": []
  },
  {
   "cell_type": "code",
   "execution_count": null,
   "id": "f785be65-c03d-465a-8f75-ba91121bef73",
   "metadata": {},
   "outputs": [],
   "source": []
  },
  {
   "cell_type": "code",
   "execution_count": null,
   "id": "a2daa25c-0961-4949-908e-d7bc577b5a3d",
   "metadata": {},
   "outputs": [
    {
     "data": {
      "text/html": [
       "1"
      ],
      "text/latex": [
       "1"
      ],
      "text/markdown": [
       "1"
      ],
      "text/plain": [
       "[1] 1"
      ]
     },
     "metadata": {},
     "output_type": "display_data"
    },
    {
     "name": "stderr",
     "output_type": "stream",
     "text": [
      "\n",
      "Attaching package: ‘raster’\n",
      "\n",
      "\n",
      "The following object is masked from ‘package:dplyr’:\n",
      "\n",
      "    select\n",
      "\n",
      "\n"
     ]
    },
    {
     "name": "stdout",
     "output_type": "stream",
     "text": [
      "Extracting for no.  1 pa out of 26 \n"
     ]
    },
    {
     "name": "stderr",
     "output_type": "stream",
     "text": [
      "\u001b[36mℹ\u001b[39m \u001b[34m\u001b[34ms3://maap-ops-workspace/shared/leitoldv/GEDI_global_PA_v2/WDPA_matching_results/Bpt_wk24/Bpt_pa_220297_matching_results_wk24.RDS\u001b[34m\u001b[39m already exists at \u001b[34m\u001b[34m/projects/.local/share/R/s3/maap-ops-workspace/shared/leitoldv/GEDI_global_PA_v2/WDPA_matching_results/Bpt_wk24/Bpt_pa_220297_matching_results_wk24.RDS\u001b[34m\u001b[39m\n",
      "\n"
     ]
    },
    {
     "name": "stdout",
     "output_type": "stream",
     "text": [
      "Bpt converting the matched csv to a raster stack for extraction\n",
      "\n",
      "   0    1 \n",
      "1126 1126 \n"
     ]
    },
    {
     "name": "stderr",
     "output_type": "stream",
     "text": [
      "\u001b[36mℹ\u001b[39m \u001b[34m\u001b[34ms3://maap-ops-workspace/shared/leitoldv/GEDI_global_PA_v2/vero_1deg_tileindex/tileindex_Bpt.csv\u001b[34m\u001b[39m already exists at \u001b[34m\u001b[34m/projects/.local/share/R/s3/maap-ops-workspace/shared/leitoldv/GEDI_global_PA_v2/vero_1deg_tileindex/tileindex_Bpt.csv\u001b[34m\u001b[39m\n",
      "\n"
     ]
    }
   ],
   "source": [
    "registerDoParallel(cores=round(mproc))\n",
    "getDoParWorkers()\n",
    "startTime <- Sys.time()\n",
    "\n",
    "#foreach(this_rds=matched_PAs, .combine = foreach_rbind, .packages=c('sp','magrittr', 'dplyr','tidyr','raster')) %dopar% {\n",
    "foreach(this_rds=matched_PAs, .combine = foreach_rbind, .packages=c('sp','magrittr', 'dplyr','tidyr')) %dopar% {\n",
    "  cat(\"Extracting for no. \", match(this_rds,matched_PAs),\"pa out of\", length(matched_PAs),\"\\n\")\n",
    "#  id_pa <- this_rds %>% str_split(\"_\") %>% unlist %>% .[3]\n",
    "  id_pa <- basename(this_rds) %>% readr::parse_number() %>% unique()\n",
    "#  matched <- readRDS(paste(f.path,\"WDPA_matching_results/\",iso3,\"_wk\",gediwk,\"/\",iso3,\"_pa_\", id_pa,\"_matching_results_wk\",gediwk,\".RDS\", sep=\"\"))\n",
    "  matched <- readRDS(s3_get(paste(f.path,\"WDPA_matching_results/\",iso3,\"_wk\",gediwk,\"/\",iso3,\"_pa_\",id_pa,\"_matching_results_wk\",gediwk,\".RDS\",sep=\"\")))\n",
    "  matched$pa_id <- rep(id_pa, nrow(matched))\n",
    "\n",
    "  if (is.null(matched)==TRUE  | nrow(matched)==0) {\n",
    "    cat(\"Matched result is null for PA\", id_pa, \"quitting...\\n\")\n",
    "  } else if (!is.null(matched)==TRUE){\n",
    "    mras  <- tryCatch(matched2ras(matched),\n",
    "                      error=function(cond){\n",
    "                        message(cond)\n",
    "                        cat(\"Matched result is likely null for country\", iso3,\"pa\", id_pa, \"dimension of the match is\", dim(matched),\"\\n\")\n",
    "                        # writeLines(\"Matched results is likely null for country\", paste(f.path,\"WDPA_log/\",iso3,\"_log_matching.txt\", sep=\"\"))\n",
    "                        return(NULL)}) #convert the macthed df to a raster stack \n",
    "    print(table(mras$status[]))\n",
    "    \n",
    "    if(table(mras$status[])[2]==0 | table(mras$status[])[1]==0 | is.null(mras)){\n",
    "      cat(\"Rasterized results unbalanced for PA\", id_pa, \"quitting...\\n\")\n",
    "    } else {\n",
    "      startTime <- Sys.time()\n",
    "      #iso_matched_gedi<- extract_gedi(matched=matched, mras = mras)  #run filtered csvs on mras for extarction\n",
    "      iso_matched_gedi <- extract_gedi(matched=matched, mras=mras, iso3=iso3)\n",
    "      tElapsed <- Sys.time()-startTime\n",
    "      cat(tElapsed, \"for extracting all PAs in\", iso3,\"\\n\")\n",
    "      # iso_matched_gedi_sub <- iso_matched_gedi %>%\n",
    "      #   dplyr::select(\"pa_id\",\"shot_number\",\"status\",\"DESIG_ENG.x\",\"wwfbiom\",\"wwfecoreg\",\"PADDD\",\"pft\",\"region\",\"lon_lowestmode\",\"lat_lowestmode\",\n",
    "      #                 \"rh_010\",\"rh_020\", \"rh_030\", \"rh_040\",  \"rh_050\",  \"rh_060\" , \"rh_070\",\"rh_075\",  \"rh_080\",  \"rh_090\",  \"rh_098\", \"AGBD\",\"cover\",\"pai\",\"REGION\",\"PFT\")  #write to individual country folder\n",
    "      iso_matched_gedi <-  iso_matched_gedi %>%\n",
    "            dplyr::select(\"pa_id\",\"status\",\"shot_number\", \"lat_lowestmode\", \"lon_lowestmode\", \"wwfbiom\",\"wwfecoreg\",\n",
    "                          \"pft\",\"region\", \"rh25\", \"rh50\", \"rh75\",\"rh90\", \"rh98\", \"agbd\", \"agbd_se\")\n",
    "    if (length(unique(iso_matched_gedi$wwfbiom)) >1){\n",
    "        pabiome <- iso_matched_gedi$wwfbiom %>% unique() %>% gsub(\"\\\\b(\\\\p{L})\\\\p{L}{2,}|.\",\"\\\\U\\\\1\",.,perl = TRUE)%>% str_c( collapse = \"+\")\n",
    "    } else if (length(unique(iso_matched_gedi$wwfbiom))==1){\n",
    "        pabiome <- iso_matched_gedi$wwfbiom %>% unique() %>% gsub('\\\\b(\\\\p{L})\\\\p{L}{2,}|.','\\\\U\\\\1',.,perl = TRUE)\n",
    "    } else {\n",
    "        pabiome <- iso_matched_gedi$wwfbiom %>% unique()\n",
    "    }\n",
    "    # papaddd <- unique(iso_matched_gedi$PADDD) %>% getmode()\n",
    "    continent <- unique(iso_matched_gedi$region) %>% getmode()\n",
    "    print(paste('output df',dim(iso_matched_gedi)))\n",
    "\n",
    "    #dir.create(file.path(paste(\"output/WDPA_extract/\",iso3,\"_wk\",gediwk,\"/\",sep=\"\")),recursive=TRUE)\n",
    "    #saveRDS(iso_matched_gedi, file=paste(\"output/WDPA_extract/\",iso3,\"_wk\",gediwk,\"/\",iso3,\"_pa_\", id_pa,\"_gedi_wk_\",gediwk,\"_conti_\",\"biome_\",pabiome,\".RDS\", sep=\"\"))\n",
    "    #write.csv(iso_matched_gedi, file=paste(\"output/WDPA_extract/\",iso3,\"_wk\",gediwk,\"/\",iso3,\"_pa_\", id_pa,\"_iso_matched_gedi_sub_wk_\",gediwk,\".csv\", sep=\"\"))\n",
    "      dir.create(file.path(paste(\"/projects/my-public-bucket/GEDI_global_PA_v2/WDPA_extract/\",iso3,\"_wk\",gediwk,\"/\",sep=\"\")),recursive=TRUE)\n",
    "      saveRDS(iso_matched_gedi, file=paste(\"/projects/my-public-bucket/GEDI_global_PA_v2/WDPA_extract/\",iso3,\"_wk\",gediwk,\"/\",iso3,\"_pa_\", id_pa,\"_gedi_wk_\",gediwk,\"_conti_\",\"biome_\",pabiome,\".RDS\", sep=\"\"))\n",
    "      write.csv(iso_matched_gedi, file=paste(\"/projects/my-public-bucket/GEDI_global_PA_v2/WDPA_extract/\",iso3,\"_wk\",gediwk,\"/\",iso3,\"_pa_\", id_pa,\"_iso_matched_gedi_sub_wk_\",gediwk,\".csv\", sep=\"\"))\n",
    "      cat(id_pa,\"in\",iso3,\"result is written to dir\\n\")\n",
    "    }\n",
    "  }\n",
    "  return(NULL)\n",
    "}\n",
    "\n",
    "stopImplicitCluster()\n",
    "tElapsed <- Sys.time()-startTime\n",
    "cat(tElapsed, \"for extracting all PAs in\", iso3,\"\\n\")\n",
    "cat(\"Done GEDI extraction for pa in \",iso3,\"\\n\")    \n",
    "\n"
   ]
  },
  {
   "cell_type": "code",
   "execution_count": null,
   "id": "5c620ca7-c4f5-4a93-bedf-619a63cd04ba",
   "metadata": {},
   "outputs": [],
   "source": []
  },
  {
   "cell_type": "code",
   "execution_count": null,
   "id": "fac6b36f-0829-4040-b9c7-42a2a2241250",
   "metadata": {},
   "outputs": [],
   "source": []
  },
  {
   "cell_type": "code",
   "execution_count": 43,
   "id": "7f144612-7ea9-4b9a-b825-11699161c28f",
   "metadata": {},
   "outputs": [
    {
     "name": "stdout",
     "output_type": "stream",
     "text": [
      "[1] \"Bpt_pa_555576153_matching_results_wk24.RDS\"\n"
     ]
    }
   ],
   "source": [
    "#f.path <- \"s3://maap-ops-workspace/shared/leitoldv/GEDI_global_PA_v2/\"\n",
    "\n",
    "#this_rds <- matched_PAs[18]\n",
    "#id_pa <- basename(this_rds) %>% readr::parse_number() %>% unique()\n",
    "#print(this_rds)\n",
    "\n",
    "#matched <- readRDS(s3_get(paste(f.path,\"WDPA_matching_results/\",iso3,\"_wk\",gediwk,\"/\",iso3,\"_pa_\",id_pa,\"_matching_results_wk\",gediwk,\".RDS\",sep=\"\")))\n",
    "#nrow(matched)\n",
    "\n",
    "#mras  <- tryCatch(matched2ras(matched),\n",
    "#                      error=function(cond){\n",
    "#                        message(cond)\n",
    "#                        cat(\"Matched result is likely null for country\", iso3,\"pa\", id_pa, \"dimension of the match is\", dim(matched),\"\\n\")\n",
    "#                        # writeLines(\"Matched results is likely null for country\", paste(f.path,\"WDPA_log/\",iso3,\"_log_matching.txt\", sep=\"\"))\n",
    "#                        return(NULL)}) #convert the macthed df to a raster stack \n",
    "#print(table(mras$status[]))\n",
    "#mras\n",
    "#plot(mras)\n",
    "#\n",
    "#f.path <- \"s3://maap-ops-workspace/shared/leitoldv/GEDI_global_PA_v2/\"\n",
    "#source(s3_get(paste(f.path,\"vl_GEDI-PA_2024/matching_func_2024.R\",sep=\"\")))\n",
    "#\n",
    "#iso_matched_gedi <- extract_gedi(matched=matched, mras=mras, iso3=iso3)\n",
    "#iso_matched_gedi <-  iso_matched_gedi %>%\n",
    "#            dplyr::select(\"pa_id\",\"status\",\"shot_number\", \"lat_lowestmode\", \"lon_lowestmode\", \"wwfbiom\",\"wwfecoreg\",\n",
    "#                          \"pft\",\"region\", \"rh25\", \"rh50\", \"rh75\",\"rh90\", \"rh98\", \"agbd\", \"agbd_se\")\n",
    "#    if (length(unique(iso_matched_gedi$wwfbiom)) >1){\n",
    "#        pabiome <- iso_matched_gedi$wwfbiom %>% unique() %>% gsub(\"\\\\b(\\\\p{L})\\\\p{L}{2,}|.\",\"\\\\U\\\\1\",.,perl = TRUE)%>% str_c( collapse = \"+\")\n",
    "#    } else if (length(unique(iso_matched_gedi$wwfbiom))==1){\n",
    "#        pabiome <- iso_matched_gedi$wwfbiom %>% unique() %>% gsub('\\\\b(\\\\p{L})\\\\p{L}{2,}|.','\\\\U\\\\1',.,perl = TRUE)\n",
    "#    } else {\n",
    "#        pabiome <- iso_matched_gedi$wwfbiom %>% unique()\n",
    "#    }\n",
    "#\n",
    "#f.path <- \"/projects/my-public-bucket/GEDI_global_PA_v2/\"\n",
    "#\n",
    "#dir.create(file.path(paste(f.path,\"WDPA_extract/\",iso3,\"_wk\",gediwk,\"/\",sep=\"\")))\n",
    "#saveRDS(iso_matched_gedi, file=paste(f.path,\"WDPA_extract/\",iso3,\"_wk\",gediwk,\"/\",iso3,\"_pa_\", id_pa,\"_gedi_wk_\",gediwk,\"_conti_\", continent,\"_biome_\",pabiome,\".RDS\", sep=\"\"))\n",
    "#cat(id_pa,\"in\",iso3,\"results is written to dir\\n\")\n"
   ]
  },
  {
   "cell_type": "code",
   "execution_count": 48,
   "id": "78f45333-1411-4d15-afe0-8b8e764ac36d",
   "metadata": {},
   "outputs": [],
   "source": []
  },
  {
   "cell_type": "code",
   "execution_count": null,
   "id": "e6530b6d-7c70-4b5a-8480-163c57e9b04b",
   "metadata": {},
   "outputs": [],
   "source": []
  }
 ],
 "metadata": {
  "kernelspec": {
   "display_name": "R",
   "language": "R",
   "name": "ir"
  },
  "language_info": {
   "codemirror_mode": "r",
   "file_extension": ".r",
   "mimetype": "text/x-r-source",
   "name": "R",
   "pygments_lexer": "r",
   "version": "4.2.3"
  }
 },
 "nbformat": 4,
 "nbformat_minor": 5
}
