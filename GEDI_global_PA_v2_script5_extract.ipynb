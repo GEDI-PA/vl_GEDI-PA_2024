{
 "cells": [
  {
   "cell_type": "code",
   "execution_count": null,
   "id": "32aeaaac-7d6f-488b-b136-ada54bb8f840",
   "metadata": {},
   "outputs": [],
   "source": [
    "## ---------------- SEP5 testing gedi extraction code -----------------------"
   ]
  },
  {
   "cell_type": "code",
   "execution_count": null,
   "id": "375b9c98-0ce5-4bb8-86dd-29410a0eabee",
   "metadata": {},
   "outputs": [],
   "source": [
    "##\n",
    "# conda install -c conda-forge r-optmatch\n",
    "##"
   ]
  },
  {
   "cell_type": "code",
   "execution_count": 44,
   "id": "bb019e34-2538-4e39-828f-e670636a0436",
   "metadata": {},
   "outputs": [
    {
     "name": "stderr",
     "output_type": "stream",
     "text": [
      "Updating HTML index of packages in '.Library'\n",
      "\n",
      "Making 'packages.html' ...\n",
      " done\n",
      "\n",
      "Updating HTML index of packages in '.Library'\n",
      "\n",
      "Making 'packages.html' ...\n",
      " done\n",
      "\n"
     ]
    }
   ],
   "source": [
    "install.packages(\"s3\")\n",
    "install.packages(\"RItools\")    "
   ]
  },
  {
   "cell_type": "code",
   "execution_count": 45,
   "id": "aa085b6a-d865-4ff5-8c40-e26b9fe93940",
   "metadata": {},
   "outputs": [],
   "source": [
    "library(\"terra\")\n",
    "library(\"dplyr\")\n",
    "library(\"sf\")\n",
    "#install.packages(\"s3\")\n",
    "library(\"s3\")\n",
    "\n",
    "library(\"sp\")\n",
    "library(\"foreach\")\n",
    "library(\"stringr\")\n",
    "library(\"aws.s3\")\n",
    "#conda install -c conda-forge r-optmatch #r-ggmap r-hrbrthemes r-Hmisc\n",
    "library(\"optmatch\")\n",
    "#install.packages(\"doParallel\")\n",
    "library(\"doParallel\")\n"
   ]
  },
  {
   "cell_type": "code",
   "execution_count": 46,
   "id": "62cdb96c-9e67-4aa4-ac5d-436e5d467d8b",
   "metadata": {},
   "outputs": [],
   "source": [
    "s3 <- paws::s3()"
   ]
  },
  {
   "cell_type": "code",
   "execution_count": 47,
   "id": "2ced8004-1639-432b-9c12-d0cb5f6632fc",
   "metadata": {},
   "outputs": [],
   "source": [
    "#To test, we define the variables manually. For final version, run the commented out section below\n",
    "#iso3 <-\"Bpt\"\n",
    "iso3 <-\"Bpt\"\n",
    "gediwk <- 24\n",
    "mproc <- 1"
   ]
  },
  {
   "cell_type": "code",
   "execution_count": 48,
   "id": "6d063ab5-b6c7-45a5-b852-55e85691de33",
   "metadata": {},
   "outputs": [],
   "source": [
    "#-------------------------------------------------------------------------------\n",
    "#args = commandArgs(trailingOnly=TRUE)\n",
    "#if (length(args)==0) {\n",
    "#  stop(\"At least one argument must be supplied (input file).n\", call.=FALSE)\n",
    "#} else if (length(args)>=1) {\n",
    "#  \n",
    "#  iso3 <- args[1]  #country to process\n",
    "#  gediwk <- args[2]   #the # of weeks GEDI data to use\n",
    "#  mproc <- as.integer(args[3])  #the number of cores to use for matching \n",
    "#}\n",
    "#-------------------------------------------------------------------------------"
   ]
  },
  {
   "cell_type": "code",
   "execution_count": 49,
   "id": "715b5c20-70ed-4406-9077-e0a70295e4f9",
   "metadata": {},
   "outputs": [
    {
     "name": "stdout",
     "output_type": "stream",
     "text": [
      "Step 0: Loading global variables for Bpt with wk 24 data \n"
     ]
    },
    {
     "name": "stderr",
     "output_type": "stream",
     "text": [
      "\u001b[36mℹ\u001b[39m \u001b[34m\u001b[34ms3://maap-ops-workspace/shared/leitoldv/GEDI_global_PA_v2/wwf_ecoregions_key.csv\u001b[34m\u001b[39m already exists at \u001b[34m\u001b[34m/projects/.local/share/R/s3/maap-ops-workspace/shared/leitoldv/GEDI_global_PA_v2/wwf_ecoregions_key.csv\u001b[34m\u001b[39m\n",
      "\n",
      "\u001b[36mℹ\u001b[39m \u001b[34m\u001b[34ms3://maap-ops-workspace/shared/leitoldv/GEDI_global_PA_v2/WDPA_shapefiles/WDPA_polygons/Bpt_PA_poly.rds\u001b[34m\u001b[39m already exists at \u001b[34m\u001b[34m/projects/.local/share/R/s3/maap-ops-workspace/shared/leitoldv/GEDI_global_PA_v2/WDPA_shapefiles/WDPA_polygons/Bpt_PA_poly.rds\u001b[34m\u001b[39m\n",
      "\n",
      "\u001b[36mℹ\u001b[39m \u001b[34m\u001b[34ms3://maap-ops-workspace/shared/leitoldv/GEDI_global_PA_v2/GEDI_ANCI_PFT_r1000m_EASE2.0_UMD_v1_projection_defined_6933.tif\u001b[34m\u001b[39m already exists at \u001b[34m\u001b[34m/projects/.local/share/R/s3/maap-ops-workspace/shared/leitoldv/GEDI_global_PA_v2/GEDI_ANCI_PFT_r1000m_EASE2.0_UMD_v1_projection_defined_6933.tif\u001b[34m\u001b[39m\n",
      "\n",
      "\u001b[36mℹ\u001b[39m \u001b[34m\u001b[34ms3://maap-ops-workspace/shared/leitoldv/GEDI_global_PA_v2/GEDI_ANCI_CONTINENT_r1000m_EASE2.0_UMD_v1_revised_projection_defined_6933.tif\u001b[34m\u001b[39m already exists at \u001b[34m\u001b[34m/projects/.local/share/R/s3/maap-ops-workspace/shared/leitoldv/GEDI_global_PA_v2/GEDI_ANCI_CONTINENT_r1000m_EASE2.0_UMD_v1_revised_projection_defined_6933.tif\u001b[34m\u001b[39m\n",
      "\n",
      "\u001b[36mℹ\u001b[39m all files already exist\n",
      "\n",
      "\u001b[36mℹ\u001b[39m \u001b[34m\u001b[34ms3://maap-ops-workspace/shared/leitoldv/GEDI_global_PA_v2/WDPA_countries/shp/Bpt.shp\u001b[34m\u001b[39m already exists at \u001b[34m\u001b[34m/projects/.local/share/R/s3/maap-ops-workspace/shared/leitoldv/GEDI_global_PA_v2/WDPA_countries/shp/Bpt.shp\u001b[34m\u001b[39m\n",
      "\n"
     ]
    },
    {
     "name": "stdout",
     "output_type": "stream",
     "text": [
      "Reading layer `Bpt' from data source \n",
      "  `/projects/.local/share/R/s3/maap-ops-workspace/shared/leitoldv/GEDI_global_PA_v2/WDPA_countries/shp/Bpt.shp' \n",
      "  using driver `ESRI Shapefile'\n",
      "Simple feature collection with 1 feature and 7 fields\n",
      "Geometry type: POLYGON\n",
      "Dimension:     XY\n",
      "Bounding box:  xmin: -59.18886 ymin: -22.11834 xmax: -54.92231 ymax: -15.52386\n",
      "Geodetic CRS:  WGS 84\n"
     ]
    },
    {
     "name": "stderr",
     "output_type": "stream",
     "text": [
      "\u001b[36mℹ\u001b[39m \u001b[34m\u001b[34ms3://maap-ops-workspace/shared/leitoldv/GEDI_global_PA_v2/rf_noclimate.RData\u001b[34m\u001b[39m already exists at \u001b[34m\u001b[34m/projects/.local/share/R/s3/maap-ops-workspace/shared/leitoldv/GEDI_global_PA_v2/rf_noclimate.RData\u001b[34m\u001b[39m\n",
      "\n",
      "\u001b[36mℹ\u001b[39m \u001b[34m\u001b[34ms3://maap-ops-workspace/shared/leitoldv/GEDI_global_PA_v2/matching_func_2024.R\u001b[34m\u001b[39m already exists at \u001b[34m\u001b[34m/projects/.local/share/R/s3/maap-ops-workspace/shared/leitoldv/GEDI_global_PA_v2/matching_func_2024.R\u001b[34m\u001b[39m\n",
      "\n"
     ]
    }
   ],
   "source": [
    "cat(\"Step 0: Loading global variables for\", iso3,\"with wk\", gediwk, \"data \\n\")\n",
    "\n",
    "#f.path <- \"/projects/my-public-bucket/GEDI_global_PA_v2/\"\n",
    "f.path <- \"s3://maap-ops-workspace/shared/leitoldv/GEDI_global_PA_v2/\"\n",
    "\n",
    "matching_tifs <- c(\"wwf_biomes\",\"wwf_ecoreg\",\"lc2000\",\"d2roads\", \"dcities\",\"dem\",\n",
    "                   \"pop_cnt_2000\",\"pop_den_2000\",\"slope\", \"tt2cities_2000\", \"wc_prec_1990-1999\",\n",
    "                   \"wc_tmax_1990-1999\",\"wc_tavg_1990-1999\",\"wc_tmin_1990-1999\" )\n",
    "\n",
    "ecoreg_key <- read.csv(s3_get(paste(f.path,\"wwf_ecoregions_key.csv\",sep=\"\")))\n",
    "#unlink(s3_get(paste(f.path,\"wwf_ecoregions_key.csv\",sep=\"\")))\n",
    "\n",
    "allPAs <- readRDS(s3_get(paste(f.path,\"WDPA_shapefiles/WDPA_polygons/\",iso3,\"_PA_poly.rds\",sep=\"\")))\n",
    "\n",
    "MCD12Q1 <- rast(s3_get(paste(f.path,\"GEDI_ANCI_PFT_r1000m_EASE2.0_UMD_v1_projection_defined_6933.tif\",sep=\"\")))\n",
    "crs(MCD12Q1)  <- \"epsg:6933\"\n",
    "\n",
    "world_region <- rast(s3_get(paste(f.path,\"GEDI_ANCI_CONTINENT_r1000m_EASE2.0_UMD_v1_revised_projection_defined_6933.tif\",sep=\"\")))\n",
    "crs(world_region)  <- \"epsg:6933\"\n",
    "\n",
    "s3_get_files(c(paste(f.path,\"WDPA_countries/shp/\",iso3,\".shp\",sep=\"\"),\n",
    "              paste(f.path,\"WDPA_countries/shp/\",iso3,\".shx\",sep=\"\"),\n",
    "              paste(f.path,\"WDPA_countries/shp/\",iso3,\".prj\",sep=\"\"),\n",
    "              paste(f.path,\"WDPA_countries/shp/\",iso3,\".dbf\",sep=\"\")),confirm = FALSE)\n",
    "adm <- st_read(s3_get(paste(f.path,\"WDPA_countries/shp/\",iso3,\".shp\",sep=\"\")))\n",
    "\n",
    "#s3_path <- paste(\"/vsis3/maap-ops-workspace/shared/leitoldv/GEDI_global_PA_v2/WDPA_countries/shp/\",iso3,\".shp\",sep=\"\") #Redo this for the gpkg\n",
    "#adm <- st_read(s3_path)\n",
    "adm_prj <- project(vect(adm), \"epsg:6933\")\n",
    "\n",
    "load(s3_get(paste(f.path,\"rf_noclimate.RData\",sep=\"\")))\n",
    "#source(s3_get(paste(f.path,\"matching_func.R\",sep=\"\")))\n",
    "source(s3_get(paste(f.path,\"matching_func_2024.R\",sep=\"\")))\n",
    "\n",
    "flag <- \"run all\""
   ]
  },
  {
   "cell_type": "code",
   "execution_count": 50,
   "id": "d79924a1-23ba-40a0-81ee-87219004c19c",
   "metadata": {},
   "outputs": [
    {
     "name": "stdout",
     "output_type": "stream",
     "text": [
      "Step 5: Performing WK  24 GEDI extraction for Bpt \n"
     ]
    },
    {
     "name": "stderr",
     "output_type": "stream",
     "text": [
      "\u001b[36mℹ\u001b[39m \u001b[34m\u001b[34ms3://maap-ops-workspace/shared/leitoldv/GEDI_global_PA_v2/WDPA_matching_results/Bpt_wk24_filelist.csv\u001b[34m\u001b[39m already exists at \u001b[34m\u001b[34m/projects/.local/share/R/s3/maap-ops-workspace/shared/leitoldv/GEDI_global_PA_v2/WDPA_matching_results/Bpt_wk24_filelist.csv\u001b[34m\u001b[39m\n",
      "\n"
     ]
    },
    {
     "data": {
      "text/html": [
       "<style>\n",
       ".list-inline {list-style: none; margin:0; padding: 0}\n",
       ".list-inline>li {display: inline-block}\n",
       ".list-inline>li:not(:last-child)::after {content: \"\\00b7\"; padding: 0 .5ex}\n",
       "</style>\n",
       "<ol class=list-inline><li>'Bpt_pa_220297_matching_results_wk24.RDS'</li><li>'Bpt_pa_2220_matching_results_wk24.RDS'</li><li>'Bpt_pa_2581_matching_results_wk24.RDS'</li><li>'Bpt_pa_33968_matching_results_wk24.RDS'</li><li>'Bpt_pa_33985_matching_results_wk24.RDS'</li><li>'Bpt_pa_352016_matching_results_wk24.RDS'</li><li>'Bpt_pa_352021_matching_results_wk24.RDS'</li><li>'Bpt_pa_352270_matching_results_wk24.RDS'</li><li>'Bpt_pa_352271_matching_results_wk24.RDS'</li><li>'Bpt_pa_352430_matching_results_wk24.RDS'</li><li>'Bpt_pa_352461_matching_results_wk24.RDS'</li><li>'Bpt_pa_352463_matching_results_wk24.RDS'</li><li>'Bpt_pa_352466_matching_results_wk24.RDS'</li><li>'Bpt_pa_478452_matching_results_wk24.RDS'</li><li>'Bpt_pa_555542500_matching_results_wk24.RDS'</li><li>'Bpt_pa_555542528_matching_results_wk24.RDS'</li><li>'Bpt_pa_555542552_matching_results_wk24.RDS'</li><li>'Bpt_pa_555542777_matching_results_wk24.RDS'</li><li>'Bpt_pa_555576153_matching_results_wk24.RDS'</li><li>'Bpt_pa_555576191_matching_results_wk24.RDS'</li><li>'Bpt_pa_555576276_matching_results_wk24.RDS'</li><li>'Bpt_pa_555576295_matching_results_wk24.RDS'</li><li>'Bpt_pa_555576310_matching_results_wk24.RDS'</li><li>'Bpt_pa_555576396_matching_results_wk24.RDS'</li><li>'Bpt_pa_555576444_matching_results_wk24.RDS'</li><li>'Bpt_pa_555599959_matching_results_wk24.RDS'</li><li>'Bpt_pa_555600164_matching_results_wk24.RDS'</li><li>'Bpt_pa_555682279_matching_results_wk24.RDS'</li><li>'Bpt_pa_67816_matching_results_wk24.RDS'</li></ol>\n"
      ],
      "text/latex": [
       "\\begin{enumerate*}\n",
       "\\item 'Bpt\\_pa\\_220297\\_matching\\_results\\_wk24.RDS'\n",
       "\\item 'Bpt\\_pa\\_2220\\_matching\\_results\\_wk24.RDS'\n",
       "\\item 'Bpt\\_pa\\_2581\\_matching\\_results\\_wk24.RDS'\n",
       "\\item 'Bpt\\_pa\\_33968\\_matching\\_results\\_wk24.RDS'\n",
       "\\item 'Bpt\\_pa\\_33985\\_matching\\_results\\_wk24.RDS'\n",
       "\\item 'Bpt\\_pa\\_352016\\_matching\\_results\\_wk24.RDS'\n",
       "\\item 'Bpt\\_pa\\_352021\\_matching\\_results\\_wk24.RDS'\n",
       "\\item 'Bpt\\_pa\\_352270\\_matching\\_results\\_wk24.RDS'\n",
       "\\item 'Bpt\\_pa\\_352271\\_matching\\_results\\_wk24.RDS'\n",
       "\\item 'Bpt\\_pa\\_352430\\_matching\\_results\\_wk24.RDS'\n",
       "\\item 'Bpt\\_pa\\_352461\\_matching\\_results\\_wk24.RDS'\n",
       "\\item 'Bpt\\_pa\\_352463\\_matching\\_results\\_wk24.RDS'\n",
       "\\item 'Bpt\\_pa\\_352466\\_matching\\_results\\_wk24.RDS'\n",
       "\\item 'Bpt\\_pa\\_478452\\_matching\\_results\\_wk24.RDS'\n",
       "\\item 'Bpt\\_pa\\_555542500\\_matching\\_results\\_wk24.RDS'\n",
       "\\item 'Bpt\\_pa\\_555542528\\_matching\\_results\\_wk24.RDS'\n",
       "\\item 'Bpt\\_pa\\_555542552\\_matching\\_results\\_wk24.RDS'\n",
       "\\item 'Bpt\\_pa\\_555542777\\_matching\\_results\\_wk24.RDS'\n",
       "\\item 'Bpt\\_pa\\_555576153\\_matching\\_results\\_wk24.RDS'\n",
       "\\item 'Bpt\\_pa\\_555576191\\_matching\\_results\\_wk24.RDS'\n",
       "\\item 'Bpt\\_pa\\_555576276\\_matching\\_results\\_wk24.RDS'\n",
       "\\item 'Bpt\\_pa\\_555576295\\_matching\\_results\\_wk24.RDS'\n",
       "\\item 'Bpt\\_pa\\_555576310\\_matching\\_results\\_wk24.RDS'\n",
       "\\item 'Bpt\\_pa\\_555576396\\_matching\\_results\\_wk24.RDS'\n",
       "\\item 'Bpt\\_pa\\_555576444\\_matching\\_results\\_wk24.RDS'\n",
       "\\item 'Bpt\\_pa\\_555599959\\_matching\\_results\\_wk24.RDS'\n",
       "\\item 'Bpt\\_pa\\_555600164\\_matching\\_results\\_wk24.RDS'\n",
       "\\item 'Bpt\\_pa\\_555682279\\_matching\\_results\\_wk24.RDS'\n",
       "\\item 'Bpt\\_pa\\_67816\\_matching\\_results\\_wk24.RDS'\n",
       "\\end{enumerate*}\n"
      ],
      "text/markdown": [
       "1. 'Bpt_pa_220297_matching_results_wk24.RDS'\n",
       "2. 'Bpt_pa_2220_matching_results_wk24.RDS'\n",
       "3. 'Bpt_pa_2581_matching_results_wk24.RDS'\n",
       "4. 'Bpt_pa_33968_matching_results_wk24.RDS'\n",
       "5. 'Bpt_pa_33985_matching_results_wk24.RDS'\n",
       "6. 'Bpt_pa_352016_matching_results_wk24.RDS'\n",
       "7. 'Bpt_pa_352021_matching_results_wk24.RDS'\n",
       "8. 'Bpt_pa_352270_matching_results_wk24.RDS'\n",
       "9. 'Bpt_pa_352271_matching_results_wk24.RDS'\n",
       "10. 'Bpt_pa_352430_matching_results_wk24.RDS'\n",
       "11. 'Bpt_pa_352461_matching_results_wk24.RDS'\n",
       "12. 'Bpt_pa_352463_matching_results_wk24.RDS'\n",
       "13. 'Bpt_pa_352466_matching_results_wk24.RDS'\n",
       "14. 'Bpt_pa_478452_matching_results_wk24.RDS'\n",
       "15. 'Bpt_pa_555542500_matching_results_wk24.RDS'\n",
       "16. 'Bpt_pa_555542528_matching_results_wk24.RDS'\n",
       "17. 'Bpt_pa_555542552_matching_results_wk24.RDS'\n",
       "18. 'Bpt_pa_555542777_matching_results_wk24.RDS'\n",
       "19. 'Bpt_pa_555576153_matching_results_wk24.RDS'\n",
       "20. 'Bpt_pa_555576191_matching_results_wk24.RDS'\n",
       "21. 'Bpt_pa_555576276_matching_results_wk24.RDS'\n",
       "22. 'Bpt_pa_555576295_matching_results_wk24.RDS'\n",
       "23. 'Bpt_pa_555576310_matching_results_wk24.RDS'\n",
       "24. 'Bpt_pa_555576396_matching_results_wk24.RDS'\n",
       "25. 'Bpt_pa_555576444_matching_results_wk24.RDS'\n",
       "26. 'Bpt_pa_555599959_matching_results_wk24.RDS'\n",
       "27. 'Bpt_pa_555600164_matching_results_wk24.RDS'\n",
       "28. 'Bpt_pa_555682279_matching_results_wk24.RDS'\n",
       "29. 'Bpt_pa_67816_matching_results_wk24.RDS'\n",
       "\n",
       "\n"
      ],
      "text/plain": [
       " [1] \"Bpt_pa_220297_matching_results_wk24.RDS\"   \n",
       " [2] \"Bpt_pa_2220_matching_results_wk24.RDS\"     \n",
       " [3] \"Bpt_pa_2581_matching_results_wk24.RDS\"     \n",
       " [4] \"Bpt_pa_33968_matching_results_wk24.RDS\"    \n",
       " [5] \"Bpt_pa_33985_matching_results_wk24.RDS\"    \n",
       " [6] \"Bpt_pa_352016_matching_results_wk24.RDS\"   \n",
       " [7] \"Bpt_pa_352021_matching_results_wk24.RDS\"   \n",
       " [8] \"Bpt_pa_352270_matching_results_wk24.RDS\"   \n",
       " [9] \"Bpt_pa_352271_matching_results_wk24.RDS\"   \n",
       "[10] \"Bpt_pa_352430_matching_results_wk24.RDS\"   \n",
       "[11] \"Bpt_pa_352461_matching_results_wk24.RDS\"   \n",
       "[12] \"Bpt_pa_352463_matching_results_wk24.RDS\"   \n",
       "[13] \"Bpt_pa_352466_matching_results_wk24.RDS\"   \n",
       "[14] \"Bpt_pa_478452_matching_results_wk24.RDS\"   \n",
       "[15] \"Bpt_pa_555542500_matching_results_wk24.RDS\"\n",
       "[16] \"Bpt_pa_555542528_matching_results_wk24.RDS\"\n",
       "[17] \"Bpt_pa_555542552_matching_results_wk24.RDS\"\n",
       "[18] \"Bpt_pa_555542777_matching_results_wk24.RDS\"\n",
       "[19] \"Bpt_pa_555576153_matching_results_wk24.RDS\"\n",
       "[20] \"Bpt_pa_555576191_matching_results_wk24.RDS\"\n",
       "[21] \"Bpt_pa_555576276_matching_results_wk24.RDS\"\n",
       "[22] \"Bpt_pa_555576295_matching_results_wk24.RDS\"\n",
       "[23] \"Bpt_pa_555576310_matching_results_wk24.RDS\"\n",
       "[24] \"Bpt_pa_555576396_matching_results_wk24.RDS\"\n",
       "[25] \"Bpt_pa_555576444_matching_results_wk24.RDS\"\n",
       "[26] \"Bpt_pa_555599959_matching_results_wk24.RDS\"\n",
       "[27] \"Bpt_pa_555600164_matching_results_wk24.RDS\"\n",
       "[28] \"Bpt_pa_555682279_matching_results_wk24.RDS\"\n",
       "[29] \"Bpt_pa_67816_matching_results_wk24.RDS\"    "
      ]
     },
     "metadata": {},
     "output_type": "display_data"
    }
   ],
   "source": [
    "#---------------STEP5. GEDI PROCESSING ---------------- \n",
    "#using GEDI shots to extract the treatment/control status, also extract the MODIS PFT for AGB prediction\n",
    "\n",
    "# if (file.exists(paste(f.path,\"WDPA_GEDI_extract/\",iso3,\"_wk\",gediwk,\"/\",iso3,\"_gedi_extracted_matching_wk\",gediwk,\".RDS\", sep=\"\"))){\n",
    "cat(paste(\"Step 5: Performing WK \", gediwk, \"GEDI extraction for\", iso3,\"\\n\"))\n",
    "#matched_all <-read.csv(paste(f.path,\"WDPA_extract4_residual_PAs/\", iso3, \"_wk_\", gediwk, \"_null_matches_rerun.csv\",sep=\"\")) \n",
    "matched_all <- read.csv(s3_get(paste(f.path,\"WDPA_matching_results/\",iso3,\"_wk24_filelist.csv\",sep=\"\")))[,2]\n",
    "matched_all\n",
    "     "
   ]
  },
  {
   "cell_type": "code",
   "execution_count": 51,
   "id": "b6d1293d-7b7e-4f50-aba1-29a4b2867dd1",
   "metadata": {},
   "outputs": [
    {
     "name": "stdout",
     "output_type": "stream",
     "text": [
      "[1] \"Bpt_pa_220297_matching_results_wk24.RDS\"\n",
      "[1] \"Bpt_pa_2220_matching_results_wk24.RDS\"\n",
      "[1] \"Bpt_pa_2581_matching_results_wk24.RDS\"\n",
      "[1] \"Bpt_pa_33968_matching_results_wk24.RDS\"\n",
      "[1] \"Bpt_pa_33985_matching_results_wk24.RDS\"\n",
      "[1] \"Bpt_pa_352016_matching_results_wk24.RDS\"\n",
      "[1] \"Bpt_pa_352021_matching_results_wk24.RDS\"\n",
      "[1] \"Bpt_pa_352270_matching_results_wk24.RDS\"\n",
      "[1] \"Bpt_pa_352271_matching_results_wk24.RDS\"\n",
      "[1] \"Bpt_pa_352430_matching_results_wk24.RDS\"\n",
      "[1] \"Bpt_pa_352461_matching_results_wk24.RDS\"\n",
      "[1] \"Bpt_pa_352463_matching_results_wk24.RDS\"\n",
      "[1] \"Bpt_pa_352466_matching_results_wk24.RDS\"\n",
      "[1] \"Bpt_pa_478452_matching_results_wk24.RDS\"\n",
      "[1] \"Bpt_pa_555542500_matching_results_wk24.RDS\"\n",
      "[1] \"Bpt_pa_555542528_matching_results_wk24.RDS\"\n",
      "[1] \"Bpt_pa_555542552_matching_results_wk24.RDS\"\n",
      "[1] \"Bpt_pa_555542777_matching_results_wk24.RDS\"\n",
      "[1] \"Bpt_pa_555576153_matching_results_wk24.RDS\"\n",
      "[1] \"Bpt_pa_555576191_matching_results_wk24.RDS\"\n",
      "[1] \"Bpt_pa_555576276_matching_results_wk24.RDS\"\n",
      "[1] \"Bpt_pa_555576295_matching_results_wk24.RDS\"\n",
      "[1] \"Bpt_pa_555576310_matching_results_wk24.RDS\"\n",
      "[1] \"Bpt_pa_555576396_matching_results_wk24.RDS\"\n",
      "[1] \"Bpt_pa_555576444_matching_results_wk24.RDS\"\n",
      "[1] \"Bpt_pa_555599959_matching_results_wk24.RDS\"\n",
      "[1] \"Bpt_pa_555600164_matching_results_wk24.RDS\"\n",
      "[1] \"Bpt_pa_555682279_matching_results_wk24.RDS\"\n",
      "[1] \"Bpt_pa_67816_matching_results_wk24.RDS\"\n"
     ]
    },
    {
     "data": {
      "text/html": [
       "26"
      ],
      "text/latex": [
       "26"
      ],
      "text/markdown": [
       "26"
      ],
      "text/plain": [
       "[1] 26"
      ]
     },
     "metadata": {},
     "output_type": "display_data"
    }
   ],
   "source": [
    "f.path <- \"/projects/my-public-bucket/GEDI_global_PA_v2/\"\n",
    "#f.path <- \"s3://maap-ops-workspace/shared/leitoldv/GEDI_global_PA_v2/\"\n",
    "\n",
    "matched_PAs <- foreach(this_rds=matched_all, .combine = c, .packages=c('sp','magrittr', 'dplyr','tidyr','terra')) %do% {  #non-NA matched results\n",
    "  matched_PAs=c()\n",
    "  print(this_rds)\n",
    "  if(nchar(iso3)>3){\n",
    "    id_pa <- basename(this_rds)%>%readr::parse_number() %>% unique()  \n",
    "  } else {\n",
    "    id_pa <- basename(this_rds)%>%readr::parse_number() %>% unique()\n",
    "  }\n",
    "  matched <- readRDS(paste(f.path,\"WDPA_matching_results/\",iso3,\"_wk\",gediwk,\"/\",iso3,\"_pa_\",id_pa,\"_matching_results_wk\",gediwk,\".RDS\",sep=\"\"))\n",
    "  if(!is.null(matched)){\n",
    "    if(nrow(matched)!=0){\n",
    "      matched_PAs=c(matched_PAs,this_rds) \n",
    "    }\n",
    "  }else {\n",
    "    # print(this_rds)\n",
    "    matched_PAs=matched_PAs\n",
    "  }\n",
    "  return(matched_PAs)\n",
    "}\n",
    "length(matched_PAs)"
   ]
  },
  {
   "cell_type": "code",
   "execution_count": 52,
   "id": "0a062203-2c43-46ec-a811-6dfc3b3ab110",
   "metadata": {},
   "outputs": [
    {
     "name": "stdout",
     "output_type": "stream",
     "text": [
      "Step 5: runing extraction on all 26 of non-NA matched results in Bpt \n"
     ]
    }
   ],
   "source": [
    "if(flag==\"run all\"){  #determine how many PAs to run the extraction process\n",
    "  matched_PAs <- matched_PAs\n",
    "  cat(\"Step 5: runing extraction on all\", length(matched_PAs),\"of non-NA matched results in\", iso3,\"\\n\")\n",
    "} else if (flag==\"run remaining\"){\n",
    "  pattern1 = c(paste(\"wk\",gediwk,sep=\"\"),\"RDS\")\n",
    "  extracted_PAid <- list.files(paste(f.path3,\"WDPA_GEDI_extract/\",iso3,\"_wk\",gediwk,\"/\",sep=\"\"), full.names = F, pattern=paste0(pattern1, collapse=\"|\"))%>%\n",
    "    readr::parse_number() %>% unique()\n",
    "  matched_PA_id <- matched_PAs %>% readr::parse_number()\n",
    "  runPA_id <- matched_PA_id[!(matched_PA_id %in% extracted_PAid)]\n",
    "  if (length(runPA_id)>0){\n",
    "    Pattern2 <-  paste(runPA_id, collapse=\"|\")\n",
    "    runPA <-  matched_PAs[grepl(Pattern2,matched_PAs)]\n",
    "    # runPA_ind <- str_detect(matched_PAs, paste(runPA_id, collapse = \"|\"))\n",
    "    matched_PAs <-runPA\n",
    "  } else {\n",
    "    matched_PAs <- NULL\n",
    "    cat(\"Step 5 already done for\", iso3, \"\\n\")\n",
    "  }\n",
    "}"
   ]
  },
  {
   "cell_type": "code",
   "execution_count": 53,
   "id": "5aec7792-0c33-4bb8-98b0-8f53dcf38072",
   "metadata": {},
   "outputs": [
    {
     "data": {
      "text/html": [
       "'Bpt_pa_220297_matching_results_wk24.RDS'"
      ],
      "text/latex": [
       "'Bpt\\_pa\\_220297\\_matching\\_results\\_wk24.RDS'"
      ],
      "text/markdown": [
       "'Bpt_pa_220297_matching_results_wk24.RDS'"
      ],
      "text/plain": [
       "[1] \"Bpt_pa_220297_matching_results_wk24.RDS\""
      ]
     },
     "metadata": {},
     "output_type": "display_data"
    }
   ],
   "source": [
    "matched_PAs[1]"
   ]
  },
  {
   "cell_type": "code",
   "execution_count": 57,
   "id": "217fde1f-e76c-4a1f-9e0e-bdba87d3c239",
   "metadata": {},
   "outputs": [
    {
     "name": "stdout",
     "output_type": "stream",
     "text": [
      "Bpt converting the matched csv to a raster stack for extraction\n"
     ]
    },
    {
     "ename": "ERROR",
     "evalue": "Error in extent(buffer(matched_pts, 10000)): could not find function \"extent\"\n",
     "output_type": "error",
     "traceback": [
      "Error in extent(buffer(matched_pts, 10000)): could not find function \"extent\"\nTraceback:\n",
      "1. matched2ras(matched)",
      "2. crop(MCD12Q1, extent(buffer(matched_pts, 10000)))",
      "3. crop(MCD12Q1, extent(buffer(matched_pts, 10000)))",
      "4. .local(x, y, ...)",
      "5. .getExt(y, method = \"crop\")"
     ]
    }
   ],
   "source": [
    "matched2ras(matched)"
   ]
  },
  {
   "cell_type": "code",
   "execution_count": 55,
   "id": "94251855-eaa3-4110-bc94-58dd25bfbe24",
   "metadata": {},
   "outputs": [
    {
     "name": "stdout",
     "output_type": "stream",
     "text": [
      "Bpt converting the matched csv to a raster stack for extraction\n"
     ]
    },
    {
     "ename": "ERROR",
     "evalue": "Error in extent(buffer(matched_pts, 10000)): could not find function \"extent\"\n",
     "output_type": "error",
     "traceback": [
      "Error in extent(buffer(matched_pts, 10000)): could not find function \"extent\"\nTraceback:\n",
      "1. tryCatch(matched2ras(matched), error = function(cond) {\n .     message(cond)\n .     cat(\"Matched result is likely null for country\", iso3, \"pa\", \n .         id_pa, \"dimension of the match is\", dim(matched), \"\\n\")\n .     return(NULL)\n . })   # at line 10-15 of file <text>",
      "2. tryCatchList(expr, classes, parentenv, handlers)",
      "3. tryCatchOne(expr, names, parentenv, handlers[[1L]])",
      "4. value[[3L]](cond)",
      "5. message(cond)   # at line 12 of file <text>",
      "6. withRestarts({\n .     signalCondition(cond)\n .     defaultHandler(cond)\n . }, muffleMessage = function() NULL)",
      "7. withOneRestart(expr, restarts[[1L]])",
      "8. doWithOneRestart(return(expr), restart)"
     ]
    }
   ],
   "source": [
    "this_rds <- matched_PAs[1]\n",
    "id_pa <- basename(this_rds) %>% readr::parse_number() %>% unique()\n",
    "    \n",
    "    matched <- readRDS(paste(f.path,\"WDPA_matching_results/\",iso3,\"_wk\",gediwk,\"/\",iso3,\"_pa_\",id_pa,\"_matching_results_wk\",gediwk,\".RDS\",sep=\"\"))\n",
    "  \n",
    "    if (is.null(matched)==TRUE  | nrow(matched)==0) {\n",
    "        cat(\"Matched result is null for PA\", id_pa, \"quitting...\\n\")\n",
    "        next  # Skip to the next iteration\n",
    "    } else if (!is.null(matched)==TRUE){\n",
    "    mras  <- tryCatch(matched2ras(matched),\n",
    "                      error=function(cond){\n",
    "                        message(cond)\n",
    "                        cat(\"Matched result is likely null for country\", iso3,\"pa\", id_pa, \"dimension of the match is\", dim(matched),\"\\n\")\n",
    "                        # writeLines(\"Matched results is likely null for country\", paste(f.path,\"WDPA_log/\",iso3,\"_log_matching.txt\", sep=\"\"))\n",
    "                        return(NULL)}) #convert the macthed df to a raster stack \n",
    "    print(table(mras$status[]))\n",
    "    if(table(mras$status[])[2]==0 | table(mras$status[])[1]==0 | is.null(mras)){\n",
    "      cat(\"Rasterized results unbalanced for PA\", id_pa, \"quitting...\\n\")\n",
    "      next  # Skip to the next iteration\n",
    "    } else {\n",
    "        \n",
    "      startTime <- Sys.time()\n",
    "        \n",
    "      iso_matched_gedi <- extract_gedi(matched=matched, mras = mras)#}  #run filtered csvs on mras for extarction\n",
    "        \n",
    "        if (is.null(iso_matched_gedi)) {\n",
    "        cat(\"Matched result is null for PA\", id_pa, \"quitting...\\n\")\n",
    "        next  # Skip to the next iteration\n",
    "        }\n",
    "\n",
    "      tElapsed <- Sys.time()-startTime\n",
    "      cat(tElapsed, \"for extracting all PAs in\", iso3,\"\\n\")\n",
    "      cat(\"Done GEDI for no. \",grep(unique(matched$pa_id), matched_PAs),\"pa out of\", length(matched_PAs),\"\\n\")\n",
    "\n",
    "      iso_matched_gedi <-  iso_matched_gedi %>%\n",
    "            dplyr::select(\"pa_id\",\"status\",\n",
    "                      \"wwfbiom\",\"wwfecoreg\",\"shot_number\",\"lon_lowestmode\", \n",
    "                      \"lat_lowestmode\", \"lon_lowestmode\", \n",
    "                      \"lat_lowestmode\",\"rh25\", \"rh50\", \"rh75\",\"rh90\", \"rh98\")  #write to individual country folder\n",
    "        \n",
    "      if (length(unique(iso_matched_gedi$wwfbiom)) >1){\n",
    "#       pabiome <- iso_matched_gedi$wwfbiom %>% unique() %>% gsub(\"\\b(\\pL)\\pL{2,}|.\",\"\\U\\1\",.,perl = TRUE)%>% str_c( collapse = \"+\")\n",
    "        pabiome <- iso_matched_gedi$wwfbiom %>% unique() %>% str_replace_all(\"\\\\b(\\\\p{L})\\\\p{L}{2,}|.\", \"\\\\U\\\\1\", perl = TRUE) %>% str_c(collapse = \"+\")\n",
    "      } else if (length(unique(iso_matched_gedi$wwfbiom))==1){\n",
    "        pabiome <- iso_matched_gedi$wwfbiom %>% unique() %>% str_replace_all(\"\\\\b(\\\\p{L})\\\\p{L}{2,}|.\", \"\\\\U\\\\1\", perl = TRUE)\n",
    "      } else {\n",
    "        pabiome <- iso_matched_gedi$wwfbiom %>% unique() }\n",
    "        continent <- unique(iso_matched_gedi$region) %>% getmode()\n",
    "      print(paste('output df',dim(iso_matched_gedi)))\n",
    "\n",
    "      dir.create(file.path(paste(f.path,\"WDPA_GEDI_extract/\",sep=\"\")),recursive=TRUE)\n",
    "      saveRDS(iso_matched_gedi, file=paste(f.path,\"WDPA_GEDI_extract/\",iso3,\"_pa_\", id_pa,\"_gedi_wk_\",gediwk,\"_conti_\",\"biome_\",pabiome,\".RDS\", sep=\"\"))\n",
    "      write.csv(iso_matched_gedi, file=paste(f.path,\"WDPA_GEDI_extract/\",iso3,\"_pa_\", id_pa,\"_iso_matched_gedi_sub_wk_\",gediwk,\".csv\", sep=\"\"))\n",
    "      cat(id_pa,\"in\",iso3,\"result is written to dir\\n\")\n",
    "    }\n",
    "    }\n",
    "    \n",
    "    return(NULL)"
   ]
  },
  {
   "cell_type": "code",
   "execution_count": null,
   "id": "a5cebaba-a975-4056-b5ba-92d57181066b",
   "metadata": {},
   "outputs": [],
   "source": []
  },
  {
   "cell_type": "code",
   "execution_count": null,
   "id": "34b5f39f-af66-4910-b8da-eeca2ba73997",
   "metadata": {},
   "outputs": [],
   "source": []
  },
  {
   "cell_type": "code",
   "execution_count": null,
   "id": "ae9f0eea-0956-444c-94db-edb149316175",
   "metadata": {},
   "outputs": [],
   "source": [
    "dim(gedi_l24)"
   ]
  },
  {
   "cell_type": "code",
   "execution_count": null,
   "id": "b0952216-5075-4658-a7fb-79facbfa2c46",
   "metadata": {},
   "outputs": [],
   "source": [
    "iso_matched_gedi_df <- data.frame()\n",
    "\n",
    "gedi_l24_sp <- gedi_l24 %>% \n",
    "     SpatialPointsDataFrame(coords=.[,c(\"lon_lowestmode\",\"lat_lowestmode\")],\n",
    "                                     proj4string=CRS(\"+init=epsg:4326\"), data=.) %>%spTransform(., CRS(\"+init=epsg:6933\"))\n",
    "   "
   ]
  },
  {
   "cell_type": "code",
   "execution_count": null,
   "id": "adecc030-c80d-40ec-be04-e66917f2a6f7",
   "metadata": {},
   "outputs": [],
   "source": [
    "matched_gedi <- terra::extract(mras,vect(gedi_l24_sp), df=TRUE)\n"
   ]
  },
  {
   "cell_type": "code",
   "execution_count": null,
   "id": "8c265edd-f259-487a-829f-1c6c0967e010",
   "metadata": {},
   "outputs": [],
   "source": [
    "plot(gedi_l24_sp)\n"
   ]
  },
  {
   "cell_type": "code",
   "execution_count": null,
   "id": "97012a85-5296-4f66-9a25-30a8415c1a23",
   "metadata": {},
   "outputs": [],
   "source": [
    "plot(mras$status)\n",
    "plot(gedi_l24_sp,add=T)"
   ]
  },
  {
   "cell_type": "code",
   "execution_count": null,
   "id": "a4f1cc8f-9745-4a84-a747-a35122daf9a4",
   "metadata": {},
   "outputs": [],
   "source": [
    "allOut <- read.csv(\"~/GEDI_PA/vl_GEDI-PA_2024/GNB_pa.csv\")"
   ]
  },
  {
   "cell_type": "code",
   "execution_count": null,
   "id": "bf01bd09-b276-4b31-a0be-24a30da120d0",
   "metadata": {},
   "outputs": [],
   "source": [
    "data_sf <- st_as_sf(allOut, coords = c(\"lon\", \"lat\"), crs = 4326)\n"
   ]
  },
  {
   "cell_type": "code",
   "execution_count": null,
   "id": "f047b5af-a71f-4e7d-b6cd-1daf73552bcd",
   "metadata": {},
   "outputs": [],
   "source": [
    "results <- s3$list_objects_v2(Bucket = \"maap-ops-workspace\", \n",
    "                            Prefix=paste(\"shared/abarenblitt/GEDI_global_PA_v2/WDPA_gedi_L2A_tiles/\",sep=\"\"))\n",
    "    all_gedil2_f <- sapply(results$Contents, function(x) {x$Key})\n",
    "    pattern=paste(\".gpkg\",sep=\"\")\n",
    "    all_gedil2_f <- grep(pattern, all_gedil2_f, value=TRUE)\n",
    "    all_gedil2_f <- basename(all_gedil2_f)[4:5] #Currently specifying working files\n",
    "    \n",
    "    results4 <- s3$list_objects_v2(Bucket = \"maap-ops-workspace\", \n",
    "                                Prefix=paste(\"shared/abarenblitt/GEDI_global_PA_v2/WDPA_gedi_L4A_tiles/\",sep=\"\"))\n",
    "    all_gedil4_f <- sapply(results4$Contents, function(x) {x$Key})\n",
    "    pattern4=paste(\".gpkg\",sep=\"\")\n",
    "    all_gedil4_f <- grep(pattern4, all_gedil4_f, value=TRUE)\n",
    "    all_gedil4_f <- basename(all_gedil4_f)[4:5] #Currently specifying working files\n"
   ]
  },
  {
   "cell_type": "code",
   "execution_count": null,
   "id": "6da39210-60df-4301-b3ce-7ea90ad04653",
   "metadata": {},
   "outputs": [],
   "source": [
    "all_gedil2_f"
   ]
  },
  {
   "cell_type": "code",
   "execution_count": null,
   "id": "8877d7c6-39b4-41fc-8f71-64bc577b2899",
   "metadata": {},
   "outputs": [],
   "source": [
    "gedil4_f <- as.data.frame(st_read(paste(gedipath,\"WDPA_gedi_L4A_tiles/\",all_gedil4_f[this_csvid],sep=\"\")))"
   ]
  },
  {
   "cell_type": "code",
   "execution_count": null,
   "id": "ee484121-e2b0-4e3d-80be-a2990fdbc12a",
   "metadata": {},
   "outputs": [],
   "source": [
    "gedil2_f <- as.data.frame(st_read(paste(gedipath,\"WDPA_gedi_L2A_tiles/\",all_gedil2_f[this_csvid],sep=\"\")))"
   ]
  },
  {
   "cell_type": "code",
   "execution_count": null,
   "id": "82ab4551-085a-4314-884d-4ea1e80df2ff",
   "metadata": {},
   "outputs": [],
   "source": [
    "results <- s3$list_objects_v2(Bucket = \"maap-ops-workspace\", \n",
    "                            Prefix=paste(\"shared/abarenblitt/GEDI_global_PA_v2/WDPA_gedi_L2A_tiles/\",sep=\"\"))\n",
    "    all_gedil2_f <- sapply(results$Contents, function(x) {x$Key})\n",
    "    pattern=paste(\".gpkg\",sep=\"\")\n",
    "    all_gedil2_f <- grep(pattern, all_gedil2_f, value=TRUE)\n",
    "    all_gedil2_f <- basename(all_gedil2_f)[4:5]\n",
    "\n",
    "all_gedil2_f"
   ]
  },
  {
   "cell_type": "code",
   "execution_count": null,
   "id": "367f2087-5adc-4126-bafc-f5d3a53272cd",
   "metadata": {},
   "outputs": [],
   "source": []
  },
  {
   "cell_type": "code",
   "execution_count": null,
   "id": "7826e144-47be-4c8d-a694-1f74a453f44b",
   "metadata": {},
   "outputs": [],
   "source": [
    "extract_gedi <- function(matched, mras){\n",
    "    results <- s3$list_objects_v2(Bucket = \"maap-ops-workspace\", \n",
    "                            Prefix=paste(\"shared/abarenblitt/GEDI_global_PA_v2/WDPA_gedi_L2A_tiles/\",sep=\"\"))\n",
    "    all_gedil2_f <- sapply(results$Contents, function(x) {x$Key})\n",
    "    pattern=paste(\".gpkg\",sep=\"\")\n",
    "    all_gedil2_f <- grep(pattern, all_gedil2_f, value=TRUE)\n",
    "    all_gedil2_f <- basename(all_gedil2_f)[4:5] #Currently specifying working files\n",
    "    \n",
    "    results4 <- s3$list_objects_v2(Bucket = \"maap-ops-workspace\", \n",
    "                                Prefix=paste(\"shared/abarenblitt/GEDI_global_PA_v2/WDPA_gedi_L4A_tiles/\",sep=\"\"))\n",
    "    all_gedil4_f <- sapply(results4$Contents, function(x) {x$Key})\n",
    "    pattern4=paste(\".gpkg\",sep=\"\")\n",
    "    all_gedil4_f <- grep(pattern4, all_gedil4_f, value=TRUE)\n",
    "    all_gedil4_f <- basename(all_gedil4_f)[4:5] #Currently specifying working files\n",
    "  \n",
    "    # Initialize an empty list to store results\n",
    "    results_list <- list()\n",
    "    iso_matched_gedi_df <- NULL # Initialize before loop\n",
    "\n",
    "            # Iterate over the sequence of indices for your files\n",
    "    for (this_csvid in seq_along(all_gedil2_f)) {\n",
    "                cat(\"Reading in no. \", this_csvid, \"csv of \", length(all_gedil2_f), \"csvs for iso3\", iso3, \"\\n\")\n",
    "                \n",
    "                # Read GEDI L4A data\n",
    "                gedil4_f_path <- paste(gedipath, \"WDPA_gedi_L4A_tiles/\", all_gedil4_f[this_csvid], sep = \"\")\n",
    "                gedil4_f <- as.data.frame(st_read(gedil4_f_path))\n",
    "                \n",
    "                # Read GEDI L2A data\n",
    "                gedil2_f_path <- paste(gedipath, \"WDPA_gedi_L2A_tiles/\", all_gedil2_f[this_csvid], sep = \"\")\n",
    "                gedil2_f <- as.data.frame(st_read(gedil2_f_path))\n",
    "            \n",
    "                # Check if GEDI L4A data is empty\n",
    "                if (nrow(gedil4_f) < 1) {\n",
    "                    cat(\"Error: No data for GEDI L4A\\n\")\n",
    "                    gedi_l24 <- gedil2_f\n",
    "                    gedi_l24\n",
    "agbd_se <- NA\n",
    "                    gedi_l24\n",
    "agbd_t_se <- NA\n",
    "                } else {\n",
    "                    # Select relevant columns from GEDI L4A\n",
    "                    gedi_l4_sub <- gedil4_f %>%\n",
    "                        dplyr::select(shot_number, agbd, agbd_se, agbd_t, agbd_t_se)\n",
    "                    \n",
    "                    # Join with GEDI L2A data\n",
    "                    gedi_l24 <- inner_join(gedil2_f, gedi_l4_sub, by = \"shot_number\")\n",
    "                }\n",
    "            \n",
    "                print(dim(gedi_l24))\n",
    "            \n",
    "                # Initialize empty spatial object for the current iteration\n",
    "                gedi_l24_sp <- NULL\n",
    "            \n",
    "                # Convert to spatial points data frame if there is data\n",
    "                if (nrow(gedi_l24) > 0) {\n",
    "                    gedi_l24_sp <- SpatialPointsDataFrame(\n",
    "                        coords = gedi_l24[, c(\"lon_lowestmode\", \"lat_lowestmode\")],\n",
    "                        data = gedi_l24,\n",
    "                        proj4string = CRS(\"+init=epsg:4326\")\n",
    "                    ) %>% spTransform(CRS(\"+init=epsg:6933\"))\n",
    "                matched_gedi <- terra::extract(mras,vect(gedi_l24_sp), df=TRUE)\n",
    "                matched_gedi_metrics <- cbind(matched_gedi,gedi_l24_sp@data)\n",
    "                matched_gedi_metrics_filtered <- matched_gedi_metrics %>% dplyr::filter(!is.na(status)) %>% \n",
    "                convertFactor(matched0 = matched,exgedi = .) \n",
    "\n",
    "            iso_matched_gedi_df <- rbind(matched_gedi_metrics_filtered,iso_matched_gedi_df)\n",
    "            print(dim(iso_matched_gedi_df))\n",
    "         }\n",
    "        \n",
    "        # Store results in a list\n",
    "        results_list[[this_csvid]] <- iso_matched_gedi_df\n",
    "    }\n",
    "    \n",
    "    # Combine all results\n",
    "    if (!is.null(iso_matched_gedi_df)) {\n",
    "        iso_matched_gedi_df <- do.call(rbind, results_list)\n",
    "    }\n",
    "    \n",
    "    cat(\"Done GEDI processing\\n\")\n",
    "    return(iso_matched_gedi_df)\n",
    "}\n",
    "     "
   ]
  },
  {
   "cell_type": "code",
   "execution_count": null,
   "id": "55f858d4-1e63-4b8c-83ef-bd0a2df3ad82",
   "metadata": {},
   "outputs": [],
   "source": [
    "ex_out <- for (this_csvid in seq_along(length(all_gedil2_f))) {\n",
    "        ##add the GEDI l4a model prediction for AGB here :\n",
    "        cat(\"Readng in no. \", this_csvid,\"csv of \", length(all_gedil2_f),\"csvs for iso3\",iso3,\"\\n\")\n",
    "\n",
    "    # for (this_gedi4 in all_gedil4_f[this_csvid]){\n",
    "            gedil4_f <- as.data.frame(st_read(paste(gedipath,\"WDPA_gedi_L4A_tiles/\",all_gedil4_f[this_csvid],sep=\"\")))\n",
    "    # }\n",
    "    # for (this_gedi2 in all_gedil2_f[this_csvid]){\n",
    "            gedil2_f <- as.data.frame(st_read(paste(gedipath,\"WDPA_gedi_L2A_tiles/\",all_gedil2_f[this_csvid],sep=\"\")))\n",
    "    # }\n",
    "            if (nrow(gedil4_f) < 1){   #is.na(gedi_l4) || \n",
    "              cat(\"error\")\n",
    "              gedi_l24 <- gedil2_f\n",
    "              gedi_l24\n",
    "agbd_se <- NA\n",
    "              gedi_l24\n",
    "agbd_t_se <- NA\n",
    "            } else {\n",
    "              gedi_l4_sub <- gedil4_f %>%\n",
    "                dplyr::select(shot_number, agbd, agbd_se, agbd_t, agbd_t_se)\n",
    "              gedi_l24 <- inner_join(gedil2_f, gedi_l4_sub, by=\"shot_number\")\n",
    "\n",
    "            }\n",
    "\n",
    "        print(dim(gedi_l24))\n",
    "        iso_matched_gedi_df <- data.frame()\n",
    "        if(nrow(gedi_l24)>0){\n",
    "            gedi_l24_sp <- gedi_l24 %>% \n",
    "                SpatialPointsDataFrame(coords=.[,c(\"lon_lowestmode\",\"lat_lowestmode\")],\n",
    "                                     proj4string=CRS(\"+init=epsg:4326\"), data=.) %>%spTransform(., CRS(\"+init=epsg:6933\"))\n",
    "        }\n",
    "        return(gedi_l24_sp)\n",
    "}\n",
    "     "
   ]
  },
  {
   "cell_type": "code",
   "execution_count": null,
   "id": "15b3f1c0-fc2b-493d-ab92-75c17b21b727",
   "metadata": {},
   "outputs": [],
   "source": [
    "results_list <- list()\n",
    "\n",
    "# Iterate over the sequence of indices for your files\n",
    "for (this_csvid in seq_along(all_gedil2_f)) {\n",
    "    cat(\"Reading in no. \", this_csvid, \"csv of \", length(all_gedil2_f), \"csvs for iso3\", iso3, \"\\n\")\n",
    "    \n",
    "    # Read GEDI L4A data\n",
    "    gedil4_f_path <- paste(gedipath, \"WDPA_gedi_L4A_tiles/\", all_gedil4_f[this_csvid], sep = \"\")\n",
    "    gedil4_f <- as.data.frame(st_read(gedil4_f_path))\n",
    "    \n",
    "    # Read GEDI L2A data\n",
    "    gedil2_f_path <- paste(gedipath, \"WDPA_gedi_L2A_tiles/\", all_gedil2_f[this_csvid], sep = \"\")\n",
    "    gedil2_f <- as.data.frame(st_read(gedil2_f_path))\n",
    "\n",
    "    # Check if GEDI L4A data is empty\n",
    "    if (nrow(gedil4_f) < 1) {\n",
    "        cat(\"Error: No data for GEDI L4A\\n\")\n",
    "        gedi_l24 <- gedil4_f\n",
    "        gedi_l24\n",
    "agbd_se <- NA\n",
    "        gedi_l24\n",
    "agbd_t_se <- NA\n",
    "    } else {\n",
    "        # Select relevant columns from GEDI L4A\n",
    "        gedi_l4_sub <- gedil4_f %>%\n",
    "            dplyr::select(shot_number, agbd, agbd_se, agbd_t, agbd_t_se)\n",
    "        \n",
    "        # Join with GEDI L2A data\n",
    "        gedi_l24 <- inner_join(gedil2_f, gedi_l4_sub, by = \"shot_number\")\n",
    "    }\n",
    "\n",
    "    print(dim(gedi_l24))\n",
    "\n",
    "    # Initialize empty spatial object for the current iteration\n",
    "    gedi_l24_sp <- NULL\n",
    "\n",
    "    # Convert to spatial points data frame if there is data\n",
    "    if (nrow(gedi_l24) > 0) {\n",
    "        gedi_l24_sp <- SpatialPointsDataFrame(\n",
    "            coords = gedi_l24[, c(\"lon_lowestmode\", \"lat_lowestmode\")],\n",
    "            data = gedi_l24,\n",
    "            proj4string = CRS(\"+init=epsg:4326\")\n",
    "        ) %>% spTransform(CRS(\"+init=epsg:6933\"))\n",
    "    }\n",
    "    \n",
    "    # Store result in the list\n",
    "    results_list[[this_csvid]] <- gedi_l24_sp\n",
    "}"
   ]
  },
  {
   "cell_type": "code",
   "execution_count": null,
   "id": "17bb918f-995c-44b0-bf3c-a9d7c3856540",
   "metadata": {},
   "outputs": [],
   "source": [
    "single_result <- results_list[[2]]\n"
   ]
  },
  {
   "cell_type": "code",
   "execution_count": null,
   "id": "d041d815-1b0a-4852-b76f-64d64a84b3d1",
   "metadata": {},
   "outputs": [],
   "source": [
    "single_result_sf <- st_as_sf(single_result)\n"
   ]
  },
  {
   "cell_type": "code",
   "execution_count": null,
   "id": "4361aefc-cae8-443b-8b42-7a0e82813d76",
   "metadata": {},
   "outputs": [],
   "source": [
    "matched<-readRDS(\"~/output/WDPA_matching_results/GNB_wk24/GNB_pa_351088_matching_results_wk24.RDS\")\n"
   ]
  },
  {
   "cell_type": "code",
   "execution_count": null,
   "id": "2b0817b0-0345-4623-96e1-c36dd5ca7dc7",
   "metadata": {},
   "outputs": [],
   "source": [
    "ggplot(data_sf) +\n",
    "  geom_sf(aes(color = status), size = 1) + \n",
    "  geom_sf(data = single_result_sf, color = \"black\", linetype = \"dashed\") +\n",
    "  theme_minimal() +\n",
    "  scale_color_manual(values = c(\"TRUE\" = \"purple\", \"FALSE\" = \"blue\"))+\n",
    "  labs(title = \"Spatial Points from CSV\",\n",
    "       x = \"Longitude\",\n",
    "       y = \"Latitude\",\n",
    "      color = \"Status\")\n",
    "     \n"
   ]
  },
  {
   "cell_type": "code",
   "execution_count": null,
   "id": "871c3203-d213-42b3-a807-ff159426c74c",
   "metadata": {},
   "outputs": [],
   "source": [
    "all_gedil2_f\n"
   ]
  },
  {
   "cell_type": "code",
   "execution_count": null,
   "id": "abb485d7-fbbf-45c2-b660-5c03ba5c882b",
   "metadata": {},
   "outputs": [],
   "source": [
    "gediGrid<-st_read(\"~/my-public-bucket/GEDI_global_PA_v2/WDPA_gedi_L2A_tiles/tile_num_29599_L2A.gpkg\")\n"
   ]
  },
  {
   "cell_type": "code",
   "execution_count": null,
   "id": "591f68b4-50b5-46bd-8a9a-248cad7a76c8",
   "metadata": {},
   "outputs": [],
   "source": []
  }
 ],
 "metadata": {
  "kernelspec": {
   "display_name": "R",
   "language": "R",
   "name": "ir"
  },
  "language_info": {
   "codemirror_mode": "r",
   "file_extension": ".r",
   "mimetype": "text/x-r-source",
   "name": "R",
   "pygments_lexer": "r",
   "version": "4.2.3"
  }
 },
 "nbformat": 4,
 "nbformat_minor": 5
}
