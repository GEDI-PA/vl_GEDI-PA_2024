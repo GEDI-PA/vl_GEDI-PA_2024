{
 "cells": [
  {
   "cell_type": "code",
   "execution_count": 11,
   "id": "c6b4894b-cbda-40ba-8dab-e9ddceb76d71",
   "metadata": {
    "tags": []
   },
   "outputs": [],
   "source": [
    "### 2024 JUL 20 ###"
   ]
  },
  {
   "cell_type": "code",
   "execution_count": 12,
   "id": "22c5cf3e-7ad1-4968-8cff-c2934776074e",
   "metadata": {},
   "outputs": [],
   "source": [
    "options(warn=-1)\n",
    "options(dplyr.summarise.inform = FALSE)\n",
    "\n",
    "packages <- c(\"sp\",\"rgdal\",\"sf\",\"rgeos\",\"dplyr\",\"plyr\",\"ggplot2\",\"raster\",\"mapview\",\"stringr\",\n",
    "              \"maptools\",\"gridExtra\",\"lattice\",\"MASS\",\"foreach\",\"optmatch\",\"doParallel\",\n",
    "              \"rlang\",\"tidyr\",\"magrittr\",\"viridis\",\"ggmap\",\"spatialEco\",\"bit64\",\n",
    "              \"randomForest\",\"modelr\",\"geojsonio\",\"rgeos\") #\"hrbrthemes\",\"RItools\",\"Hmisc\",\n",
    "package.check <- lapply(packages, FUN = function(x) {\n",
    "    suppressPackageStartupMessages(library(x, character.only = TRUE))\n",
    "})\n"
   ]
  },
  {
   "cell_type": "code",
   "execution_count": 13,
   "id": "e1c31cac-ac55-4bf0-a43b-44532df9b5ca",
   "metadata": {},
   "outputs": [],
   "source": [
    "# args = commandArgs(trailingOnly=TRUE)\n",
    "# if (length(args)==0) {\n",
    "#   stop(\"At least one argument must be supplied (input file).n\", call.=FALSE)\n",
    "# } else if (length(args)>=1) {\n",
    "#  \n",
    "#   iso3 <- args[1]  #country to process\n",
    "#   gediwk <- args[2]   #the # of weeks GEDI data to use\n",
    "#   mproc <- as.integer(args[3])#the number of cores to use for macthing \n",
    "# }"
   ]
  },
  {
   "cell_type": "code",
   "execution_count": 10,
   "id": "ae7174df-c598-4d63-802d-8634a642cb09",
   "metadata": {},
   "outputs": [],
   "source": [
    "#To test, we define the variables manually. For final version, run the commented out section below\n",
    "gediwk <- 24\n",
    "iso3 <-\"ECU\"\n",
    "mproc <- 1"
   ]
  },
  {
   "cell_type": "code",
   "execution_count": 2,
   "id": "f12acc1f-465d-44e0-832f-b91f71179f3c",
   "metadata": {},
   "outputs": [
    {
     "name": "stdout",
     "output_type": "stream",
     "text": [
      "Step 0: Loading global variables for ECU with wk 24 data \n"
     ]
    }
   ],
   "source": [
    "cat(\"Step 0: Loading global variables for\", iso3, \"with wk\", gediwk, \"data \\n\")"
   ]
  },
  {
   "cell_type": "code",
   "execution_count": 3,
   "id": "528b878c-b4b2-41e9-a1b1-b5e0e8b5add4",
   "metadata": {
    "tags": []
   },
   "outputs": [],
   "source": [
    "f.path <- \"/projects/my-public-bucket/GEDI_global_PA_v2/\"\n",
    "#f.path <- \"https://maap-ops-workspace.s3.us-west-2.amazonaws.com/shared/leitoldv/GEDI_global_PA_v2/\"\n",
    "\n",
    "matching_tifs <- c(\"wwf_biomes\",\"wwf_ecoreg\",\"lc2000\",\"d2roads\", \"dcities\",\"dem\",\n",
    "                   \"pop_cnt_2000\",\"pop_den_2000\",\"slope\", \"tt2cities_2000\", \"wc_prec_1990-1999\",\n",
    "                   \"wc_tmax_1990-1999\",\"wc_tavg_1990-1999\",\"wc_tmin_1990-1999\" )\n"
   ]
  },
  {
   "cell_type": "code",
   "execution_count": 67,
   "id": "b810007d-e151-4e02-a55c-8911fa4bfebf",
   "metadata": {},
   "outputs": [],
   "source": [
    "#install.packages(\"terra\")\n",
    "#conda install -c conda-forge r-terra\n",
    "library(\"terra\")\n",
    "library(\"dplyr\")\n",
    "library(\"sf\")"
   ]
  },
  {
   "cell_type": "code",
   "execution_count": 68,
   "id": "6bddeb7b-2270-4463-bac5-60314af0a4f4",
   "metadata": {},
   "outputs": [],
   "source": [
    "ecoreg_key <- read.csv(paste(f.path,\"wwf_ecoregions_key.csv\",sep=\"\"))\n",
    "\n",
    "allPAs <- readRDS(paste(f.path,\"WDPA_shapefiles/WDPA_polygons/\",iso3,\"_PA_poly.rds\",sep=\"\"))\n",
    "\n",
    "MCD12Q1 <- rast(paste(f.path,\"GEDI_ANCI_PFT_r1000m_EASE2.0_UMD_v1_projection_defined_6933.tif\",sep=\"\"))\n",
    "#projection(MCD12Q1) <- sp::CRS(paste(\"+init=epsg:\",6933,sep=\"\"))\n",
    "crs(MCD12Q1)  <- \"epsg:6933\"\n",
    "\n",
    "world_region <- rast(paste(f.path,\"GEDI_ANCI_CONTINENT_r1000m_EASE2.0_UMD_v1_revised_projection_defined_6933.tif\",sep=\"\"))\n",
    "#projection(world_region) <- sp::CRS(paste(\"+init=epsg:\",6933,sep=\"\"))\n",
    "crs(world_region)  <- \"epsg:6933\"\n",
    "\n",
    "#adm <- readOGR(paste(f.path,\"WDPA_countries/shp/\",iso3,\".shp\",sep=\"\"),verbose=F)\n",
    "#adm_prj <- spTransform(adm, \"+init=epsg:6933\")\n",
    "adm <- vect(paste(f.path,\"WDPA_countries/shp/\",iso3,\".shp\",sep=\"\"))\n",
    "adm_prj <- project(adm, \"epsg:6933\")\n",
    "\n",
    "load(paste(f.path,\"rf_noclimate.RData\",sep=\"\"))\n",
    "source(paste(f.path,\"matching_func.R\",sep=\"\"))\n",
    "source(paste(f.path,\"matching_func_2024.R\",sep=\"\"))\n"
   ]
  },
  {
   "cell_type": "code",
   "execution_count": 78,
   "id": "49262e43-09de-497e-9466-f926adc48e56",
   "metadata": {
    "tags": []
   },
   "outputs": [
    {
     "name": "stdout",
     "output_type": "stream",
     "text": [
      "Step 1: Creating 1km sampling grid filter GEDI data for ECU \n",
      "[1] \"tile_num_15749 does not exist\"\n",
      "[1] \"tile_num_15929 does not exist\"\n",
      "[1] \"tile_num_15930 processing\"\n",
      "[1] \"tile_num_15931 processing\"\n",
      "[1] \"tile_num_15932 processing\"\n",
      "[1] \"tile_num_16110 processing\"\n",
      "[1] \"tile_num_16111 processing\"\n",
      "[1] \"tile_num_16112 processing\"\n",
      "[1] \"tile_num_16291 processing\"\n",
      "[1] \"tile_num_16292 processing\"\n",
      "[1] \"tile_num_17733 processing\"\n",
      "[1] \"tile_num_17910 processing\"\n",
      "[1] \"tile_num_17911 processing\"\n",
      "[1] \"tile_num_17912 processing\"\n",
      "[1] \"tile_num_17913 processing\"\n",
      "[1] \"tile_num_17914 processing\"\n",
      "[1] \"tile_num_17915 processing\"\n",
      "[1] \"tile_num_18089 processing\"\n",
      "[1] \"tile_num_18090 processing\"\n",
      "[1] \"tile_num_18091 processing\"\n",
      "[1] \"tile_num_18092 processing\"\n",
      "[1] \"tile_num_18093 processing\"\n",
      "[1] \"tile_num_18094 processing\"\n",
      "[1] \"tile_num_18095 processing\"\n",
      "[1] \"tile_num_18096 processing\"\n",
      "[1] \"tile_num_18269 processing\"\n",
      "[1] \"tile_num_18270 processing\"\n",
      "[1] \"tile_num_18271 processing\"\n",
      "[1] \"tile_num_18272 processing\"\n",
      "[1] \"tile_num_18273 processing\"\n",
      "[1] \"tile_num_18274 processing\"\n",
      "[1] \"tile_num_18275 processing\"\n",
      "[1] \"tile_num_18450 processing\"\n",
      "[1] \"tile_num_18451 processing\"\n",
      "[1] \"tile_num_18452 processing\"\n",
      "[1] \"tile_num_18453 processing\"\n",
      "[1] \"tile_num_18454 processing\"\n",
      "[1] \"tile_num_18630 processing\"\n",
      "[1] \"tile_num_18631 processing\"\n",
      "[1] \"tile_num_18632 processing\"\n",
      "[1] \"tile_num_18633 processing\"\n",
      "[1] \"tile_num_18810 processing\"\n",
      "[1] \"tile_num_18811 processing\"\n",
      "[1] \"tile_num_18812 processing\"\n",
      "[1] \"tile_num_18813 processing\"\n"
     ]
    }
   ],
   "source": [
    "# STEP1. Create 1km sampling grid with points only where GEDI data is available; first check if grid file exist to avoid reprocessing \n",
    "if(!file.exists(paste(f.path,\"WDPA_grids/\",iso3,\"_grid_wk\",gediwk,\".RDS\", sep=\"\"))){\n",
    "  cat(\"Step 1: Creating 1km sampling grid filter GEDI data for\", iso3,\"\\n\")\n",
    "  GRID.lats <- rast(file.path(f.path,\"EASE2_M01km_lats.tif\"))\n",
    "  GRID.lons <- rast(file.path(f.path,\"EASE2_M01km_lons.tif\"))\n",
    "  GRID.lats.adm   <- crop(GRID.lats, adm_prj)\n",
    "  GRID.lats.adm.m <- mask(GRID.lats.adm, adm_prj)\n",
    "  GRID.lons.adm   <- crop(GRID.lons, adm_prj)\n",
    "  GRID.lons.adm.m <- mask(GRID.lons.adm, adm_prj)\n",
    "  rm(GRID.lats, GRID.lons, GRID.lats.adm, GRID.lons.adm)\n",
    "  \n",
    "  #1.3) extract coordinates of raster cells with valid GEDI data in them\n",
    "  #gedi_folder <- paste(f.path,\"WDPA_gedi_l2a+l2b_clean2/\",iso3,\"/\",sep=\"\")\n",
    "  gedi_folder <- paste(f.path,\"WDPA_gedi_L4A_tiles/\",sep=\"\")\n",
    "  #iso3_tiles <- paste(\"/projects/my-public-bucket/AOIs/vero_1deg_tiles_\",iso3,\"/\",sep=\"\")\n",
    "  #tileindex_df <- read.csv(paste(\"/projects/my-public-bucket/AOIs/vero_1deg_tileindex/tileindex_\",iso3,\".csv\", sep=\"\"))\n",
    "  tileindex_df <- read.csv(paste(f.path,\"vero_1deg_tileindex/tileindex_\",iso3,\".csv\", sep=\"\"))\n",
    "  iso3_tiles <- tileindex_df$tileindexiso3_tiles <- tileindex_df$tileindex\n",
    "    \n",
    "  GRID.coords <- data.frame()\n",
    "  #for(i in 1:length(dir(gedi_folder))){\n",
    "  #for(i in 1:length(dir(iso3_tiles))){\n",
    "  for(i in 1:length(iso3_tiles)){\n",
    "    # print(list.files(gedi_folder)[i])\n",
    "    \n",
    "    iso3_tile_in <- paste(\"tile_num_\",iso3_tiles[i],sep=\"\")\n",
    "    \n",
    "    if(!file.exists(paste(gedi_folder,iso3_tile_in,\"_L4A.gpkg\",sep=\"\"))){\n",
    "        print(paste(iso3_tile_in,\" does not exist\",sep=\"\"))\n",
    "        } else {\n",
    "        print(paste(iso3_tile_in,\" processing\",sep=\"\"))\n",
    "    #gedi_data <- read.csv(list.files(gedi_folder,full.names=TRUE)[i]) %>%\n",
    "    gedi_data <- read_sf(paste(gedi_folder,iso3_tile_in,\"_L4A.gpkg\",sep=\"\"), int64_as_string = TRUE) %>%\n",
    "      dplyr::select(lon_lowestmode,lat_lowestmode)\n",
    "    gedi_data <- gedi_data %>% st_drop_geometry()\n",
    "#    gedi_pts  <- SpatialPoints(coords=gedi_data[,c(\"lon_lowestmode\",\"lat_lowestmode\")],\n",
    "#                               proj4string=CRS(\"+init=epsg:4326\"))\n",
    "#    gedi_pts_prj <- spTransform(gedi_pts, \"+init=epsg:6933\")\n",
    "    gedi_pts  <- vect(gedi_data, geom=c(\"lon_lowestmode\",\"lat_lowestmode\"), crs=\"epsg:4326\", keepgeom=FALSE)        \n",
    "    gedi_pts_prj <- project(gedi_pts, \"epsg:6933\")\n",
    "        \n",
    "    gcount_ras <- rasterize(geom(gedi_pts_prj)[,c(\"x\",\"y\")], GRID.lons.adm.m, fun=\"count\", background=NA)\n",
    "    names(gcount_ras) <- \"gshot_counts\"\n",
    "    #pxid <- raster::extract(gcount_ras,  gedi_pts_prj)\n",
    "    pxid <- extract(gcount_ras, gedi_pts_prj)\n",
    "    #gedi_pts_prj_sp <- gedi_pts_prj %>% SpatialPointsDataFrame(., data=data.frame(pxid))\n",
    "    gedi_pts_prj$pxid <- pxid[,\"gshot_counts\"]\n",
    "    gedi_pts_prj_sp <- gedi_pts_prj    \n",
    "    gedi_pts_prj_sp$pxid[is.na(gedi_pts_prj_sp$pxid)] <- 0\n",
    "    gedi_pts_prj_filtered <- gedi_pts_prj_sp[gedi_pts_prj_sp$pxid >= 1,]  #change the numeric threshold to filter with a different min # of GEDI shots in each 1km cell\n",
    "    \n",
    "    GRID.lons.overlap <- GRID.lons.adm.m[gedi_pts_prj_filtered]\n",
    "    GRID.lats.overlap <- GRID.lats.adm.m[gedi_pts_prj_filtered]\n",
    "    \n",
    "    x.overlap <- GRID.lons.overlap[!is.na(GRID.lons.overlap)]\n",
    "    y.overlap <- GRID.lats.overlap[!is.na(GRID.lats.overlap)]\n",
    "    \n",
    "    xy.overlap <- cbind(x.overlap,y.overlap)\n",
    "    xy.overlap.clean <- unique(xy.overlap)\n",
    "    \n",
    "    GRID.coords <- rbind(GRID.coords, xy.overlap.clean)\n",
    "    }\n",
    "  }\n",
    "  GRID.for.matching <- SpatialPoints(coords = GRID.coords, proj4string=CRS(\"+init=epsg:4326\"))\n",
    "  saveRDS(GRID.for.matching, file = paste(f.path,\"WDPA_grids/\",iso3,\"_grid_wk\",gediwk,\".RDS\", sep=\"\"))\n",
    "} else if (file.exists(paste(f.path,\"WDPA_grids/\",iso3,\"_grid_wk\",gediwk,\".RDS\", sep=\"\"))) {\n",
    "  cat(paste(\"STEP 1: Grid file exists, no need to process grids for \",iso3, \"\\n\"))\n",
    "}\n"
   ]
  },
  {
   "cell_type": "code",
   "execution_count": 100,
   "id": "76672241-0936-4d61-82d1-2933bea3bba8",
   "metadata": {
    "tags": []
   },
   "outputs": [
    {
     "name": "stdout",
     "output_type": "stream",
     "text": [
      "Step 2.0: Reading 1k GRID from RDS for  ECU \n"
     ]
    },
    {
     "data": {
      "text/plain": [
       " class       : SpatVector \n",
       " geometry    : points \n",
       " dimensions  : 257270, 0  (geometries, attributes)\n",
       " extent      : -91.67531, -75.2334, -5.007804, 1.431976  (xmin, xmax, ymin, ymax)\n",
       " coord. ref. : +proj=longlat +datum=WGS84 +no_defs "
      ]
     },
     "metadata": {},
     "output_type": "display_data"
    }
   ],
   "source": [
    "# STEP2. Clip sampling grid to nonPA areas within country & sample raster layers on nonPA grid\n",
    "cat(\"Step 2.0: Reading 1k GRID from RDS for \" ,iso3, \"\\n\")\n",
    "GRID.for.matching <- readRDS(paste(f.path,\"WDPA_grids/\",iso3,\"_grid_wk\",gediwk,\".RDS\", sep=\"\")) \n",
    "GRID.for.matching <- vect(GRID.for.matching)\n",
    "GRID.for.matching"
   ]
  },
  {
   "cell_type": "code",
   "execution_count": 173,
   "id": "aca6ff4f-22d6-465d-9aa8-38c29538366f",
   "metadata": {},
   "outputs": [
    {
     "name": "stdout",
     "output_type": "stream",
     "text": [
      "Step 2.1: Preparing control dataset for ECU \n",
      "[1] \"wwf_biomes\"\n",
      "[1] \"wwf_ecoreg\"\n",
      "[1] \"lc2000\"\n",
      "[1] \"d2roads\"\n",
      "[1] \"dcities\"\n",
      "[1] \"dem\"\n",
      "[1] \"pop_cnt_2000\"\n",
      "[1] \"pop_den_2000\"\n",
      "[1] \"slope\"\n",
      "[1] \"tt2cities_2000\"\n",
      "[1] \"wc_prec_1990-1999\"\n",
      "[1] \"wc_tmax_1990-1999\"\n",
      "[1] \"wc_tavg_1990-1999\"\n",
      "[1] \"wc_tmin_1990-1999\"\n"
     ]
    }
   ],
   "source": [
    "if(!file.exists(paste(f.path,\"WDPA_matching_points/\",iso3,\"/\",iso3,\"_prepped_control_wk\",gediwk,\".RDS\",sep=\"\"))){\n",
    "  if(!dir.exists(paste(f.path,\"WDPA_matching_points/\",iso3,\"/\",sep=\"\"))){\n",
    "      dir.create(paste(f.path,\"WDPA_matching_points/\",iso3,\"/\",sep=\"\"))}    \n",
    "  cat(\"Step 2.1: Preparing control dataset for\", iso3, \"\\n\")\n",
    "  #GRID.pts.nonPA <- GRID.for.matching %>% spTransform(., \"+init=epsg:4326\")\n",
    "  GRID.pts.nonPA <- project(GRID.for.matching, \"epsg:4326\")\n",
    "  for(i in 1:length(allPAs)){\n",
    "    PA          <- vect(allPAs[i,])\n",
    "    PA_prj      <- project(PA, \"epsg:6933\")\n",
    "    #PA_prj_buff <- gBuffer(PA_prj, width = 10000) #10km buffer\n",
    "    PA_prj_buff <- buffer(PA_prj, width = 10000)\n",
    "    PA2         <- project(PA_prj_buff, \"epsg:4326\")\n",
    "    overlap     <- GRID.pts.nonPA[PA2]\n",
    "    if(length(overlap)>0){\n",
    "      GRID.pts.nonPA0 <- st_difference(sf::st_as_sf(GRID.pts.nonPA), sf::st_as_sf(PA2)) ##remove pts inside poly\n",
    "      #GRID.pts.nonPA <- as(GRID.pts.nonPA0$geometry,'Spatial') %>% spTransform(., \"+init=epsg:4326\")\n",
    "      GRID.pts.nonPA <- vect(GRID.pts.nonPA0$geometry)\n",
    "      GRID.pts.nonPA <- project(GRID.pts.nonPA, \"epsg:4326\")\n",
    "    } \n",
    "    # print(length(GRID.pts.nonPA))\n",
    "  }\n",
    "  nonPA_xy  <- geom(GRID.pts.nonPA)[,c(\"x\",\"y\")]\n",
    "  colnames(nonPA_xy)  <- c(\"x\",\"y\")\n",
    "  #nonPA_spdf  <- tryCatch(SpatialPointsDataFrame(nonPA_xy, data=data.frame(nonPA_xy),proj4string=CRS(\"+init=epsg:4326\")),\n",
    "  nonPA_spdf  <- tryCatch(vect(nonPA_xy, crs=\"epsg:4326\"),      \n",
    "                          error=function(cond){\n",
    "                            cat(\"Country too samll, after buffer no grid left, so quit processing country\", iso3, dim(nonPA_xy),\"\\n\")\n",
    "                            writeLines(\"Country too samll, after buffer no grid left\", paste(f.path,\"WDPA_log/\",iso3,\"_log_control.txt\", sep=\"\"))\n",
    "                            return(quit(save=\"no\"))})\n",
    "    \n",
    "    \n",
    "  for (j in 1:length(matching_tifs)){\n",
    "    #ras <- raster(paste(f.path, \"WDPA_input_vars_iso3/\",iso3,\"/\",matching_tifs[j],\".tif\", sep=\"\"))\n",
    "    ras <- rast(paste(f.path, \"WDPA_input_vars_GLOBAL/\",matching_tifs[j],\".tif\", sep=\"\"))\n",
    "    print(matching_tifs[j])\n",
    "    ras_ex <- extract(ras, nonPA_spdf, method=\"simple\", factors=FALSE)\n",
    "    nm <- names(ras)\n",
    "    #nonPA_spdf <- cbind(nonPA_spdf, ras_ex[,matching_tifs[j]])\n",
    "    #names(nonPA_spdf)[j+2] <- matching_tifs[j]\n",
    "    nonPA_spdf$nm <- ras_ex[, matching_tifs[j]]\n",
    "    names(nonPA_spdf)[j] <- matching_tifs[j]\n",
    "  }\n",
    "  nonPA_spdf$x <- geom(nonPA_spdf)[,\"x\"]\n",
    "  nonPA_spdf$y <- geom(nonPA_spdf)[,\"y\"]\n",
    "  \n",
    "  d_control <- nonPA_spdf\n",
    "  d_control$status <- as.logical(\"FALSE\")\n",
    "  names(d_control) <- make.names(names(d_control), allow_ = FALSE)\n",
    "  d_control <- data.frame(d_control) %>%\n",
    "    dplyr::rename(\n",
    "      land_cover = lc2000,\n",
    "      slope = slope,\n",
    "      elevation = dem,\n",
    "      popden = pop.den.2000,\n",
    "      popcnt=pop.cnt.2000,\n",
    "      min_temp=wc.tmin.1990.1999,\n",
    "      max_temp=wc.tmax.1990.1999,\n",
    "      mean_temp = wc.tavg.1990.1999,\n",
    "      prec = wc.prec.1990.1999,\n",
    "      tt2city= tt2cities.2000,\n",
    "      wwfbiom = wwf.biomes,\n",
    "      wwfecoreg = wwf.ecoreg,\n",
    "      d2city = dcities,\n",
    "      d2road = d2roads,\n",
    "      lon = x,\n",
    "      lat = y)\n",
    "  d_control$land_cover <- factor(d_control$land_cover, levels=sequence(7),\n",
    "                                 labels = c(\"l1_forest\",\n",
    "                                            \"l2_grassland\",\n",
    "                                            \"l3_agriculture\",\n",
    "                                            \"l4_wetlands\",\n",
    "                                            \"l5_artificial\",\n",
    "                                            \"l6_other land/bare\",\n",
    "                                            \"l7_water\"))\n",
    "  d_control$wwfbiom <- factor(d_control$wwfbiom,\n",
    "                           levels = as.vector(unique(ecoreg_key[,\"BIOME\"])),\n",
    "                           labels = as.vector(unique(ecoreg_key[,\"BIOME_NAME\"])))\n",
    "  d_control$wwfecoreg <- factor(d_control$wwfecoreg,\n",
    "                             levels = as.vector(ecoreg_key[,\"ECO_ID\"]),\n",
    "                             labels = as.vector(ecoreg_key[,\"ECO_NAME\"]))\n",
    "  \n",
    "  \n",
    "  d_control$UID <-  seq.int(nrow(d_control))\n",
    "  \n",
    "  saveRDS(d_control, file=paste(f.path,\"WDPA_matching_points/\",iso3,\"/\",iso3,\"_prepped_control_wk\",gediwk,\".RDS\",sep=\"\")) \n",
    "  \n",
    "} else if (file.exists(paste(f.path,\"WDPA_matching_points/\",iso3,\"/\",iso3,\"_prepped_control_wk\",gediwk,\".RDS\",sep=\"\"))){\n",
    "  cat(\"Step 2.1: preppred control dataset already exists for\", iso3, \"no need for reprocessing\\n\")\n",
    "}\n"
   ]
  },
  {
   "cell_type": "code",
   "execution_count": 175,
   "id": "34005602-9576-4786-a2b9-e12ca0736ff9",
   "metadata": {},
   "outputs": [
    {
     "data": {
      "image/png": "[encoded data removed]",
      "text/plain": [
       "plot without title"
      ]
     },
     "metadata": {
      "image/png": {
       "height": 420,
       "width": 420
      }
     },
     "output_type": "display_data"
    }
   ],
   "source": [
    "#plot(d_control$lon, d_control$lat, pch=\".\")"
   ]
  },
  {
   "cell_type": "code",
   "execution_count": 177,
   "id": "731594d5-8052-4ed9-8b08-708a9775d7e5",
   "metadata": {},
   "outputs": [
    {
     "name": "stdout",
     "output_type": "stream",
     "text": [
      "Step 3.0: Reading 1k GRID from RDS for  ECU \n"
     ]
    },
    {
     "data": {
      "text/plain": [
       " class       : SpatVector \n",
       " geometry    : points \n",
       " dimensions  : 257270, 0  (geometries, attributes)\n",
       " extent      : -91.67531, -75.2334, -5.007804, 1.431976  (xmin, xmax, ymin, ymax)\n",
       " coord. ref. : +proj=longlat +datum=WGS84 +no_defs "
      ]
     },
     "metadata": {},
     "output_type": "display_data"
    }
   ],
   "source": [
    "#STEP3. Loop through all PAs in iso3 country:\n",
    "# - clip sampling grid to each PA\n",
    "# - sample raster layers on each PA grid\n",
    "# - save each PA sample into prepped_pa_##.RDS file\n",
    "\n",
    "cat(\"Step 3.0: Reading 1k GRID from RDS for \" ,iso3, \"\\n\")\n",
    "GRID.for.matching <- readRDS(paste(f.path,\"WDPA_grids/\",iso3,\"_grid_wk\",gediwk,\".RDS\", sep=\"\")) \n",
    "GRID.for.matching <- vect(GRID.for.matching)\n",
    "GRID.for.matching\n"
   ]
  },
  {
   "cell_type": "code",
   "execution_count": null,
   "id": "ba16fa09-2ca4-4498-8929-e9baf8771194",
   "metadata": {},
   "outputs": [],
   "source": [
    "if(length(dir(paste(f.path,\"WDPA_matching_points/\",iso3,\"/\",iso3,\"_testPAs\",\"/\",sep=\"\"),pattern = paste(gediwk,\".RDS\",sep=\"\")))==0){\n",
    "  if(!dir.exists(paste(f.path,\"WDPA_matching_points/\",iso3,\"/\",iso3,\"_testPAs\",\"/\",sep=\"\"))){\n",
    "      dir.create(paste(f.path,\"WDPA_matching_points/\",iso3,\"/\",iso3,\"_testPAs\",\"/\",sep=\"\"))}\n",
    "  cat(\"Step 3.1: Processing prepped PA treatment dataset for \", iso3, \"\\n\")\n",
    "  for(i in 1:length(allPAs)){\n",
    "    cat(iso3, i, \"out of \", length(allPAs), \"\\n\")\n",
    "    testPA <- vect(allPAs[i,])\n",
    "    testPA <- project(testPA, \"epsg:4326\")\n",
    "    GRID.pts.testPA <- GRID.for.matching[testPA]\n",
    "    \n",
    "    if(length(GRID.pts.testPA)>0){\n",
    "      #testPA_xy <- coordinates(GRID.pts.testPA)\n",
    "      testPA_xy <- geom(GRID.pts.testPA)[,c(\"x\",\"y\")]\n",
    "      colnames(testPA_xy) <- c(\"x\",\"y\")\n",
    "      #testPA_spdf <- SpatialPointsDataFrame(testPA_xy, data=data.frame(testPA_xy), proj4string=CRS(\"+init=epsg:4326\"))\n",
    "      testPA_spdf  <- vect(testPA_xy, crs=\"epsg:4326\")\n",
    "                              \n",
    "        for (j in 1:length(matching_tifs)){\n",
    "        #ras <- raster(paste(f.path, \"WDPA_input_vars_iso3/\",iso3,\"/\",matching_tifs[j],\".tif\", sep=\"\"))\n",
    "        ras <- rast(paste(f.path, \"WDPA_input_vars_GLOBAL/\",matching_tifs[j],\".tif\", sep=\"\"))\n",
    "        ras <- crop(ras, testPA)\n",
    "        ras_ex <- extract(ras, testPA_spdf, method=\"simple\", factors=F)\n",
    "        nm <- names(ras)\n",
    "        #testPA_spdf <- cbind(testPA_spdf, ras_ex[,matching_tifs[j]])\n",
    "        #names(testPA_spdf)[j+2] <- matching_tifs[j]\n",
    "        testPA_spdf$nm <- ras_ex[, matching_tifs[j]]\n",
    "        names(testPA_spdf)[j] <- matching_tifs[j]\n",
    "  }\n",
    "    testPA_spdf$x <- geom(testPA_spdf)[,\"x\"]\n",
    "    testPA_spdf$y <- geom(testPA_spdf)[,\"y\"]\n",
    "      \n",
    "      d_pa <- testPA_spdf\n",
    "      d_pa$status <- as.logical(\"TRUE\")\n",
    "      d_pa$DESIG_ENG <- testPA$DESIG_ENG\n",
    "      d_pa$REP_AREA <- testPA$REP_AREA\n",
    "      d_pa$PA_STATUS <- testPA$STATUS\n",
    "      d_pa$PA_STATUSYR <- testPA$STATUS_YR\n",
    "      d_pa$GOV_TYPE <- testPA$GOV_TYPE\n",
    "      d_pa$OWN_TYPE <- testPA$OWN_TYPE\n",
    "      d_pa$MANG_AUTH <- testPA$MANG_AUTH\n",
    "      names(d_pa) <- make.names(names(d_pa), allow_ = FALSE)\n",
    "      d_pa <- data.frame(d_pa) %>%\n",
    "        dplyr::rename(\n",
    "          land_cover = lc2000,\n",
    "          slope = slope,\n",
    "          elevation = dem,\n",
    "          popden = pop.den.2000,\n",
    "          popcnt=pop.cnt.2000,\n",
    "          min_temp=wc.tmin.1990.1999,\n",
    "          max_temp=wc.tmax.1990.1999,\n",
    "          mean_temp = wc.tavg.1990.1999,\n",
    "          prec = wc.prec.1990.1999,\n",
    "          tt2city= tt2cities.2000,\n",
    "          wwfbiom = wwf.biomes,\n",
    "          wwfecoreg = wwf.ecoreg,\n",
    "          d2city = dcities,\n",
    "          d2road = d2roads,\n",
    "          lon = x,\n",
    "          lat = y)\n",
    "      d_pa$land_cover <- factor(d_pa$land_cover, levels=sequence(7),\n",
    "                                labels = c(\"l1_forest\",\n",
    "                                           \"l2_grassland\",\n",
    "                                           \"l3_agriculture\",\n",
    "                                           \"l4_wetlands\",\n",
    "                                           \"l5_artificial\",\n",
    "                                           \"l6_other land/bare\",\n",
    "                                           \"l7_water\"))\n",
    "      d_pa$wwfbiom <- factor(d_pa$wwfbiom,\n",
    "                          levels = as.vector(unique(ecoreg_key[,\"BIOME\"])),\n",
    "                          labels = as.vector(unique(ecoreg_key[,\"BIOME_NAME\"])))\n",
    "      d_pa$wwfecoreg <- factor(d_pa$wwfecoreg,\n",
    "                            levels = as.vector(ecoreg_key[,\"ECO_ID\"]),\n",
    "                            labels = as.vector(ecoreg_key[,\"ECO_NAME\"]))\n",
    "      \n",
    "      d_pa$UID <- seq.int(nrow(d_pa))\n",
    "      saveRDS(d_pa, file = paste(f.path,\"WDPA_matching_points/\",iso3,\"/\",iso3,\"_testPAs\",\"/\",\"prepped_pa_\",\n",
    "                                 testPA$WDPAID,\"_wk\",gediwk,\".RDS\", sep=\"\")) \n",
    "    }\n",
    "  }\n",
    "} else if (length(dir(paste(f.path,\"WDPA_matching_points/\",iso3,\"/\",iso3,\"_testPAs\",\"/\",sep=\"\"),pattern = paste(gediwk,\".RDS\",sep=\"\")))>0){\n",
    "  cat(\"Step 3.1: prepped PA treatment dataset already exists for \", iso3, \"no need for reprocessing\\n\")\n",
    "}\n"
   ]
  },
  {
   "cell_type": "code",
   "execution_count": null,
   "id": "ad369705-0265-4c31-bc70-c0a0f05ba5a2",
   "metadata": {},
   "outputs": [],
   "source": [
    "plot(d_control$lon, d_control$lat, pch=\".\")\n",
    "points(d_pa$lon, d_pa$lat, pch=\".\", col=\"red\")"
   ]
  },
  {
   "cell_type": "code",
   "execution_count": null,
   "id": "5bcd1792-83a3-4a7c-8cdc-a6a827db75a5",
   "metadata": {},
   "outputs": [],
   "source": []
  }
 ],
 "metadata": {
  "kernelspec": {
   "display_name": "R",
   "language": "R",
   "name": "ir"
  },
  "language_info": {
   "codemirror_mode": "r",
   "file_extension": ".r",
   "mimetype": "text/x-r-source",
   "name": "R",
   "pygments_lexer": "r",
   "version": "4.2.3"
  }
 },
 "nbformat": 4,
 "nbformat_minor": 5
}
