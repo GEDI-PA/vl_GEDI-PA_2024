{
 "cells": [
  {
   "cell_type": "code",
   "execution_count": 11,
   "id": "c6b4894b-cbda-40ba-8dab-e9ddceb76d71",
   "metadata": {
    "tags": []
   },
   "outputs": [],
   "source": [
    "### 2024 JUL 20 ###"
   ]
  },
  {
   "cell_type": "code",
   "execution_count": 1,
   "id": "36eb92d6-6d62-4b7f-8e0e-da288ef78575",
   "metadata": {},
   "outputs": [
    {
     "ename": "ERROR",
     "evalue": "Error in parse(text = input): <text>:2:7: unexpected symbol\n1: #----run in a terminal window\n2: conda install\n         ^\n",
     "output_type": "error",
     "traceback": [
      "Error in parse(text = input): <text>:2:7: unexpected symbol\n1: #----run in a terminal window\n2: conda install\n         ^\nTraceback:\n"
     ]
    }
   ],
   "source": [
    "#----run in a terminal window\n",
    "conda install -c conda-forge r-optmatch #r-ggmap r-hrbrthemes r-Hmisc\n",
    "conda install -c conda-forge r-ggmap #r-hrbrthemes r-Hmisc\n",
    "conda install -c conda-forge r-hrbrthemes #r-Hmisc\n",
    "conda install -c conda-forge r-Hmisc\n",
    "#---------------------------\n",
    "conda install -c r r-ritools\n",
    "#---------------------------"
   ]
  },
  {
   "cell_type": "code",
   "execution_count": 1,
   "id": "0d963af7-f7b7-4507-a45e-fa2e0034d336",
   "metadata": {},
   "outputs": [
    {
     "name": "stderr",
     "output_type": "stream",
     "text": [
      "Updating HTML index of packages in '.Library'\n",
      "\n",
      "Making 'packages.html' ...\n",
      " done\n",
      "\n",
      "Warning message in install.packages(\"rlang\"):\n",
      "“installation of package ‘rlang’ had non-zero exit status”\n",
      "Updating HTML index of packages in '.Library'\n",
      "\n",
      "Making 'packages.html' ...\n",
      " done\n",
      "\n",
      "Updating HTML index of packages in '.Library'\n",
      "\n",
      "Making 'packages.html' ...\n",
      " done\n",
      "\n",
      "Updating HTML index of packages in '.Library'\n",
      "\n",
      "Making 'packages.html' ...\n",
      " done\n",
      "\n"
     ]
    }
   ],
   "source": [
    "#---------------------------\n",
    "install.packages(\"doParallel\")\n",
    "install.packages(\"rlang\")\n",
    "install.packages(\"spatialEco\", version=\"1.3.2\")\n",
    "install.packages(\"mapview\")\n",
    "#---------------------------\n",
    "install.packages(\"s3\")\n",
    "#---------------------------"
   ]
  },
  {
   "cell_type": "code",
   "execution_count": 3,
   "id": "22c5cf3e-7ad1-4968-8cff-c2934776074e",
   "metadata": {},
   "outputs": [],
   "source": [
    "options(warn=-1)\n",
    "options(dplyr.summarise.inform = FALSE)\n",
    "\n",
    "packages <- c(\"sp\",\"rgdal\",\"sf\",\"rgeos\",\"dplyr\",\"plyr\",\"ggplot2\",\"raster\",\"mapview\",\"stringr\",\n",
    "              \"maptools\",\"gridExtra\",\"lattice\",\"MASS\",\"foreach\",\"optmatch\",\n",
    "              \"rlang\",\"tidyr\",\"magrittr\",\"viridis\",\"ggmap\",\"spatialEco\",\"bit64\",\n",
    "              \"randomForest\",\"modelr\",\"geojsonio\",\"rgeos\") #\"doParallel\",\"hrbrthemes\",\"RItools\",\"Hmisc\",\n",
    "package.check <- lapply(packages, FUN = function(x) {\n",
    "    suppressPackageStartupMessages(library(x, character.only = TRUE))\n",
    "})\n"
   ]
  },
  {
   "cell_type": "code",
   "execution_count": null,
   "id": "95b44780-858c-4fb9-9854-1d6c012044c3",
   "metadata": {},
   "outputs": [],
   "source": []
  }
 ],
 "metadata": {
  "kernelspec": {
   "display_name": "R",
   "language": "R",
   "name": "ir"
  },
  "language_info": {
   "codemirror_mode": "r",
   "file_extension": ".r",
   "mimetype": "text/x-r-source",
   "name": "R",
   "pygments_lexer": "r",
   "version": "4.3.3"
  }
 },
 "nbformat": 4,
 "nbformat_minor": 5
}
