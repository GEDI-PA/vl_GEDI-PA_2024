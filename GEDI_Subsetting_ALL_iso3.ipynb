{
 "cells": [
  {
   "cell_type": "code",
   "execution_count": 150,
   "id": "c879111c-c6cc-4dfc-a257-60106c347c36",
   "metadata": {
    "scrolled": true
   },
   "outputs": [
    {
     "name": "stdout",
     "output_type": "stream",
     "text": [
      "Requirement already satisfied: geopandas in /opt/conda/envs/r/lib/python3.10/site-packages (0.14.4)\n",
      "Requirement already satisfied: fiona>=1.8.21 in /opt/conda/envs/r/lib/python3.10/site-packages (from geopandas) (1.9.4)\n",
      "Requirement already satisfied: numpy>=1.22 in /opt/conda/envs/r/lib/python3.10/site-packages (from geopandas) (1.26.4)\n",
      "Requirement already satisfied: packaging in /opt/conda/envs/r/lib/python3.10/site-packages (from geopandas) (24.1)\n",
      "Requirement already satisfied: pandas>=1.4.0 in /opt/conda/envs/r/lib/python3.10/site-packages (from geopandas) (2.2.2)\n",
      "Requirement already satisfied: pyproj>=3.3.0 in /opt/conda/envs/r/lib/python3.10/site-packages (from geopandas) (3.5.0)\n",
      "Requirement already satisfied: shapely>=1.8.0 in /opt/conda/envs/r/lib/python3.10/site-packages (from geopandas) (2.0.1)\n",
      "Requirement already satisfied: attrs>=19.2.0 in /opt/conda/envs/r/lib/python3.10/site-packages (from fiona>=1.8.21->geopandas) (24.2.0)\n",
      "Requirement already satisfied: certifi in /opt/conda/envs/r/lib/python3.10/site-packages (from fiona>=1.8.21->geopandas) (2024.8.30)\n",
      "Requirement already satisfied: click~=8.0 in /opt/conda/envs/r/lib/python3.10/site-packages (from fiona>=1.8.21->geopandas) (8.1.7)\n",
      "Requirement already satisfied: click-plugins>=1.0 in /opt/conda/envs/r/lib/python3.10/site-packages (from fiona>=1.8.21->geopandas) (1.1.1)\n",
      "Requirement already satisfied: cligj>=0.5 in /opt/conda/envs/r/lib/python3.10/site-packages (from fiona>=1.8.21->geopandas) (0.7.2)\n",
      "Requirement already satisfied: six in /opt/conda/envs/r/lib/python3.10/site-packages (from fiona>=1.8.21->geopandas) (1.16.0)\n",
      "Requirement already satisfied: python-dateutil>=2.8.2 in /opt/conda/envs/r/lib/python3.10/site-packages (from pandas>=1.4.0->geopandas) (2.9.0)\n",
      "Requirement already satisfied: pytz>=2020.1 in /opt/conda/envs/r/lib/python3.10/site-packages (from pandas>=1.4.0->geopandas) (2024.2)\n",
      "Requirement already satisfied: tzdata>=2022.7 in /opt/conda/envs/r/lib/python3.10/site-packages (from pandas>=1.4.0->geopandas) (2024.2)\n",
      "\u001b[33mWARNING: Running pip as the 'root' user can result in broken permissions and conflicting behaviour with the system package manager. It is recommended to use a virtual environment instead: https://pip.pypa.io/warnings/venv\u001b[0m\u001b[33m\n",
      "\u001b[0mRequirement already satisfied: contextily in /opt/conda/envs/r/lib/python3.10/site-packages (1.6.2)\n",
      "Requirement already satisfied: geopy in /opt/conda/envs/r/lib/python3.10/site-packages (from contextily) (2.4.1)\n",
      "Requirement already satisfied: matplotlib in /opt/conda/envs/r/lib/python3.10/site-packages (from contextily) (3.7.3)\n",
      "Requirement already satisfied: mercantile in /opt/conda/envs/r/lib/python3.10/site-packages (from contextily) (1.2.1)\n",
      "Requirement already satisfied: pillow in /opt/conda/envs/r/lib/python3.10/site-packages (from contextily) (10.0.0)\n",
      "Requirement already satisfied: rasterio in /opt/conda/envs/r/lib/python3.10/site-packages (from contextily) (1.3.7)\n",
      "Requirement already satisfied: requests in /opt/conda/envs/r/lib/python3.10/site-packages (from contextily) (2.31.0)\n",
      "Requirement already satisfied: joblib in /opt/conda/envs/r/lib/python3.10/site-packages (from contextily) (1.4.2)\n",
      "Requirement already satisfied: xyzservices in /opt/conda/envs/r/lib/python3.10/site-packages (from contextily) (2024.9.0)\n",
      "Requirement already satisfied: geographiclib<3,>=1.52 in /opt/conda/envs/r/lib/python3.10/site-packages (from geopy->contextily) (2.0)\n",
      "Requirement already satisfied: contourpy>=1.0.1 in /opt/conda/envs/r/lib/python3.10/site-packages (from matplotlib->contextily) (1.3.0)\n",
      "Requirement already satisfied: cycler>=0.10 in /opt/conda/envs/r/lib/python3.10/site-packages (from matplotlib->contextily) (0.12.1)\n",
      "Requirement already satisfied: fonttools>=4.22.0 in /opt/conda/envs/r/lib/python3.10/site-packages (from matplotlib->contextily) (4.54.1)\n",
      "Requirement already satisfied: kiwisolver>=1.0.1 in /opt/conda/envs/r/lib/python3.10/site-packages (from matplotlib->contextily) (1.4.7)\n",
      "Requirement already satisfied: numpy<2,>=1.20 in /opt/conda/envs/r/lib/python3.10/site-packages (from matplotlib->contextily) (1.26.4)\n",
      "Requirement already satisfied: packaging>=20.0 in /opt/conda/envs/r/lib/python3.10/site-packages (from matplotlib->contextily) (24.1)\n",
      "Requirement already satisfied: pyparsing>=2.3.1 in /opt/conda/envs/r/lib/python3.10/site-packages (from matplotlib->contextily) (3.1.4)\n",
      "Requirement already satisfied: python-dateutil>=2.7 in /opt/conda/envs/r/lib/python3.10/site-packages (from matplotlib->contextily) (2.9.0)\n",
      "Requirement already satisfied: click>=3.0 in /opt/conda/envs/r/lib/python3.10/site-packages (from mercantile->contextily) (8.1.7)\n",
      "Requirement already satisfied: affine in /opt/conda/envs/r/lib/python3.10/site-packages (from rasterio->contextily) (2.4.0)\n",
      "Requirement already satisfied: attrs in /opt/conda/envs/r/lib/python3.10/site-packages (from rasterio->contextily) (24.2.0)\n",
      "Requirement already satisfied: certifi in /opt/conda/envs/r/lib/python3.10/site-packages (from rasterio->contextily) (2024.8.30)\n",
      "Requirement already satisfied: cligj>=0.5 in /opt/conda/envs/r/lib/python3.10/site-packages (from rasterio->contextily) (0.7.2)\n",
      "Requirement already satisfied: snuggs>=1.4.1 in /opt/conda/envs/r/lib/python3.10/site-packages (from rasterio->contextily) (1.4.7)\n",
      "Requirement already satisfied: click-plugins in /opt/conda/envs/r/lib/python3.10/site-packages (from rasterio->contextily) (1.1.1)\n",
      "Requirement already satisfied: setuptools in /opt/conda/envs/r/lib/python3.10/site-packages (from rasterio->contextily) (69.5.1)\n",
      "Requirement already satisfied: charset-normalizer<4,>=2 in /opt/conda/envs/r/lib/python3.10/site-packages (from requests->contextily) (3.3.2)\n",
      "Requirement already satisfied: idna<4,>=2.5 in /opt/conda/envs/r/lib/python3.10/site-packages (from requests->contextily) (3.10)\n",
      "Requirement already satisfied: urllib3<3,>=1.21.1 in /opt/conda/envs/r/lib/python3.10/site-packages (from requests->contextily) (1.26.19)\n",
      "Requirement already satisfied: six>=1.5 in /opt/conda/envs/r/lib/python3.10/site-packages (from python-dateutil>=2.7->matplotlib->contextily) (1.16.0)\n",
      "\u001b[33mWARNING: Running pip as the 'root' user can result in broken permissions and conflicting behaviour with the system package manager. It is recommended to use a virtual environment instead: https://pip.pypa.io/warnings/venv\u001b[0m\u001b[33m\n",
      "\u001b[0m"
     ]
    }
   ],
   "source": [
    "!pip install geopandas\n",
    "!pip install contextily"
   ]
  },
  {
   "cell_type": "code",
   "execution_count": 151,
   "id": "4cc8f20a-ac26-454a-a32f-52eb70d0f2d6",
   "metadata": {},
   "outputs": [],
   "source": [
    "from maap.maap import MAAP\n",
    "maap = MAAP(maap_host='api.maap-project.org')\n",
    "\n",
    "def job_status_for(job_id: str) -> str:\n",
    "    response = maap.getJobStatus(job_id)\n",
    "    response.raise_for_status()\n",
    "   \n",
    "    root = ET.fromstring(response.text)\n",
    "    status_element = root.find('.//{http://www.opengis.net/wps/2.0}Status')\n",
    "   \n",
    "    return status_element.text\n",
    "\n",
    "def job_result_for(job_id: str) -> str:\n",
    "    response = maap.getJobResult(job_id)\n",
    "    response.raise_for_status()\n",
    "   \n",
    "    root = ET.fromstring(response.text)\n",
    "\n",
    "    return root.find('.//{http://www.opengis.net/wps/2.0}Data').text\n",
    "\n",
    "def to_job_output_dir(job_result_url: str) -> str:\n",
    "    url_path = urlparse(job_result_url).path\n",
    "    # The S3 Key is the URL path excluding the `/{username}` prefix\n",
    "    s3_key = \"/\".join(url_path.split(\"/\")[2:])\n",
    "\n",
    "    return f\"/projects/my-private-bucket/{s3_key}\"\n",
    "\n",
    "def wait_for_job(job_id: str) -> str:\n",
    "    return job_status_for(job_id)"
   ]
  },
  {
   "cell_type": "code",
   "execution_count": 152,
   "id": "2fc333fc-b985-4354-8b92-bcd09287bc9c",
   "metadata": {},
   "outputs": [],
   "source": [
    "#pip install geopandas\n",
    "#pip install shapely\n",
    "#Import numpy for making column inputs easier\n",
    "import numpy as np\n",
    "import pandas as pd\n",
    "import geopandas as gpd\n",
    "import backoff\n",
    "import shapely\n",
    "import glob\n",
    "import os"
   ]
  },
  {
   "cell_type": "code",
   "execution_count": 153,
   "id": "1ac841ef-9b40-42c6-8624-f63ed9697aa7",
   "metadata": {},
   "outputs": [],
   "source": [
    "import xml.etree.ElementTree as ET\n",
    "from urllib.parse import urlparse\n",
    "\n",
    "def job_status_for(job_id: str) -> str:\n",
    "    response = maap.getJobStatus(job_id)\n",
    "    response.raise_for_status()\n",
    "    \n",
    "    root = ET.fromstring(response.text)\n",
    "    status_element = root.find('.//{http://www.opengis.net/wps/2.0}Status')\n",
    "    \n",
    "    return status_element.text\n",
    "\n",
    "def job_result_for(job_id: str) -> str:\n",
    "    response = maap.getJobResult(job_id)\n",
    "    response.raise_for_status()\n",
    "    \n",
    "    root = ET.fromstring(response.text)\n",
    "\n",
    "    return root.find('.//{http://www.opengis.net/wps/2.0}Data').text\n",
    "\n",
    "def to_job_output_dir(job_result_url: str) -> str:\n",
    "    url_path = urlparse(job_result_url).path\n",
    "    # The S3 Key is the URL path excluding the `/{username}` prefix\n",
    "    s3_key = \"/\".join(url_path.split(\"/\")[2:])\n",
    "\n",
    "    return f\"/projects/my-private-bucket/{s3_key}\""
   ]
  },
  {
   "cell_type": "code",
   "execution_count": 154,
   "id": "cab5a81e-2d4e-49dc-b0b2-f940ddcbdce3",
   "metadata": {},
   "outputs": [],
   "source": [
    "iso3 = \"COD\"  ##ARG URY\n",
    "file_path = f\"/projects/my-public-bucket/GEDI_global_PA_v2/vero_1deg_tileindex/tileindex_{iso3}.csv\"\n",
    "tileindex_df = pd.read_csv(file_path)\n",
    "# Display the first few rows of the DataFrame\n",
    "#print(tileindex_df.head())"
   ]
  },
  {
   "cell_type": "code",
   "execution_count": null,
   "id": "d298332c-3488-40ff-a993-62ae27d056b4",
   "metadata": {},
   "outputs": [],
   "source": [
    "36810\n",
    "36811\n",
    "37171\n",
    "37174\n",
    "37355\n",
    "37706"
   ]
  },
  {
   "cell_type": "code",
   "execution_count": 155,
   "id": "b9a378bc-a1f1-4028-9f51-0f4dba6bd2eb",
   "metadata": {},
   "outputs": [
    {
     "name": "stdout",
     "output_type": "stream",
     "text": [
      "238\n"
     ]
    },
    {
     "data": {
      "text/plain": [
       "'tile_num_34655'"
      ]
     },
     "execution_count": 155,
     "metadata": {},
     "output_type": "execute_result"
    }
   ],
   "source": [
    "json_files = tileindex_df['s3path']\n",
    "AOIs = json_files\n",
    "print(len(AOIs))\n",
    "#36806\n",
    "aoi_name = os.path.basename(AOIs[0]).split('.')[0]\n",
    "aoi_name"
   ]
  },
  {
   "cell_type": "code",
   "execution_count": 98,
   "id": "41ead335-7e1f-4ce9-a21f-dc3ea5057dc7",
   "metadata": {},
   "outputs": [],
   "source": [
    "indices = [3,17,114,119,120,121,136,158,176,177,182,187,190,191,192,193,195,196,205,206,209,215,217,221,233]"
   ]
  },
  {
   "cell_type": "code",
   "execution_count": 128,
   "id": "5d5a3a60-c58a-4ffb-9648-dfdc5ce3a706",
   "metadata": {},
   "outputs": [],
   "source": [
    "indices = [124,125,161,164,184,212]"
   ]
  },
  {
   "cell_type": "code",
   "execution_count": 23,
   "id": "fbad9aff-8968-4f25-b7c0-a26fa420f152",
   "metadata": {},
   "outputs": [],
   "source": [
    "# list(json_files)"
   ]
  },
  {
   "cell_type": "code",
   "execution_count": 156,
   "id": "a58c69aa-5af6-4d14-acd8-3620c9591a3e",
   "metadata": {},
   "outputs": [],
   "source": [
    "username = maap.profile.account_info()[\"username\"]\n",
    "# username = \"abarenblitt\"\n",
    "assert username"
   ]
  },
  {
   "cell_type": "code",
   "execution_count": 165,
   "id": "551b4bcd-d60a-4eba-aed6-4e8719727e9a",
   "metadata": {},
   "outputs": [
    {
     "name": "stdout",
     "output_type": "stream",
     "text": [
      "Thanks, I'll run the GEDI L2A subsetter for tile_num_36814!!\n"
     ]
    }
   ],
   "source": [
    "#Set up run to pull products for all GEDI products simultaneously #To run for only 1 or 2 products, change \"PRODUCTS\"\n",
    "\n",
    "# PRODUCTS = [\"L4A\"]  #To run for only 1 or 2 products, change \"PRODUCTS\"\n",
    "PRODUCTS = [\"L2A\"] #,\"L2A\",\"L2B\"]  #To run for only 1 or 2 products, change \"PRODUCTS\"\n",
    "# PRODUCTS = [\"L2B\"] #,\"L2A\",\"L2B\"]  #To run for only 1 or 2 products, change \"PRODUCTS\"\n",
    "# PRODUCTS = [\"L2A\",\"L4A\",\"L2B\"]  #To run for only 1 or 2 products, change \"PRODUCTS\"\n",
    "\n",
    "\n",
    "variables = []\n",
    "for n in np.arange(0, 30,1):\n",
    "    variables.append('cover_z' + str(n))\n",
    "    variables.append('pai_z' + str(n))\n",
    "    variables.append('pavd_z' + str(n))\n",
    "\n",
    "AOIs = json_files#[123:126]\n",
    "# AOIs = [json_files[i] for i in indices if i < len(json_files)]  # Check if index is within bounds\n",
    "\n",
    "for each_aoi in AOIs: \n",
    "    if \"L2A\" in PRODUCTS:\n",
    "        out_dir = os.path.join(\"/projects/my-public-bucket/GEDI_global_PA_v2/WDPA_gedi_L2A_tiles/\",iso3)\n",
    "        out_file = os.path.join(out_dir,f\"{os.path.basename(each_aoi).split('.')[0]}_L2A.gpkg\")\n",
    "        if not os.path.exists(out_file):\n",
    "            aoi_name = os.path.basename(each_aoi).split('.')[0]\n",
    "            print(f\"Thanks, I'll run the GEDI L2A subsetter for {aoi_name}!!\")\n",
    "            #aoi_url = each_aoi\n",
    "            inputs = dict(\n",
    "               aoi=each_aoi,\n",
    "               doi=\"L2A\",\n",
    "               lat=\"lat_lowestmode\",\n",
    "               lon=\"lon_lowestmode\",\n",
    "               beams=\"all\",\n",
    "               columns=\"shot_number,lon_lowestmode,lat_lowestmode,rh25,rh50,rh75,rh90,rh98,geolocation/sensitivity_a2,rh10,rh20,rh30,rh40,rh50,rh60,rh70,rh80,rh100\",\n",
    "               #columns=\"shot_number,lon_lowestmode,lat_lowestmode,rh10,rh20,rh30,rh40,rh50,rh60,rh70,rh80,rh90,rh98,quality_flag,rx_processing_a2/rx_algrunflag,rx_processing_a2/zcross,rx_processing_a2/toploc,geolocation/sensitivity_a2,degrade_flag,land_cover_data/pft_class,land_cover_data/region_class,surface_flag,rx_assess/rx_maxamp,rx_assess/sd_corrected,geolocation/stale_return_flag,land_cover_data/leaf_off_flag,land_cover_data/landsat_water_persistence,land_cover_data/urban_proportion\",\n",
    "               #columns=\"all\",\n",
    "               query=\"quality_flag == 1\",\n",
    "               limit = 75_000,\n",
    "               #temporal=\"-\",\n",
    "               output=f\"{os.path.basename(each_aoi).split('.')[0]}_L2A.gpkg\"\n",
    "            )\n",
    "            result = maap.submitJob(\n",
    "                identifier=\"gedi-subset\",\n",
    "                algo_id=\"gedi-subset\",\n",
    "                version=\"0.9.0\",\n",
    "                queue=\"maap-dps-worker-64gb\",\n",
    "                username=username,\n",
    "                **inputs\n",
    "            )\n",
    "        \n",
    "            inputs\n",
    "            job_id = result.id\n",
    "            job_id or result\n",
    "\n",
    "        \n",
    "    if \"L2B\" in PRODUCTS: \n",
    "        out_dir = os.path.join(\"/projects/my-public-bucket/GEDI_global_PA_v2/WDPA_gedi_L2B_tiles/\",iso3)\n",
    "        out_file = os.path.join(out_dir,f\"{os.path.basename(each_aoi).split('.')[0]}_L2B.gpkg\")\n",
    "        if not os.path.exists(out_file):\n",
    "            aoi_name = os.path.basename(each_aoi).split('.')[0]\n",
    "            print(f\"Thanks, I'll run the GEDI L2B subsetter for {aoi_name}!!\")\n",
    "            #aoi_url = each_aoi\n",
    "            inputs = dict(\n",
    "               aoi=each_aoi,\n",
    "               doi=\"L2B\",\n",
    "               lat=\"geolocation/lat_lowestmode\",\n",
    "               lon=\"geolocation/lon_lowestmode\",\n",
    "               beams=\"all\",\n",
    "               columns=\"shot_number,geolocation/lon_lowestmode,geolocation/lat_lowestmode,rh100,l2b_quality_flag,sensitivity,cover,land_cover_data/landsat_treecover,pai,fhd_normal,\"+\",\".join(variables),\n",
    "               query=\"l2a_quality_flag == 1 and l2b_quality_flag == 1 and sensitivity > 0.95\",\n",
    "               limit = 75_000,\n",
    "               #temporal=\"-\",\n",
    "               output=f\"{os.path.basename(each_aoi).split('.')[0]}_L2B.gpkg\"\n",
    "            )\n",
    "            result = maap.submitJob(\n",
    "                identifier=\"gedi-subset\",\n",
    "                algo_id=\"gedi-subset\",\n",
    "                version=\"0.9.0\",\n",
    "                queue=\"maap-dps-worker-32gb\",\n",
    "                username=username,\n",
    "                **inputs\n",
    "            )\n",
    "            inputs\n",
    "            job_id = result.id\n",
    "            job_id or result\n",
    "\n",
    "        \n",
    "    if \"L4A\" in PRODUCTS: \n",
    "        out_dir = os.path.join(\"/projects/my-public-bucket/GEDI_global_PA_v2/WDPA_gedi_L4A_tiles/\",iso3)\n",
    "        out_file = os.path.join(out_dir,f\"{os.path.basename(each_aoi).split('.')[0]}_L4A.gpkg\")\n",
    "        if not os.path.exists(out_file):\n",
    "            aoi_name = os.path.basename(each_aoi).split('.')[0]\n",
    "            print(f\"Thanks, I'll run the GEDI L4A subsetter for {aoi_name}!!\")\n",
    "            #aoi_url = each_aoi\n",
    "            inputs = dict(\n",
    "               aoi=each_aoi,\n",
    "               doi=\"L4A\",\n",
    "               lat=\"lat_lowestmode\",\n",
    "               lon=\"lon_lowestmode\",\n",
    "               beams=\"all\",\n",
    "               columns=\"shot_number,lat_lowestmode,lon_lowestmode,elev_lowestmode,agbd,agbd_se,agbd_t,agbd_t_se,sensitivity,geolocation/sensitivity_a2\",\n",
    "               query=\"l2_quality_flag == 1 and l4_quality_flag == 1 and sensitivity > 0.95\", #  and geolocation/sensitivity_a2 > 0.95\",\n",
    "               limit = 75_000,\n",
    "               #temporal=\"-\",\n",
    "               output=f\"{os.path.basename(each_aoi).split('.')[0]}_L4A.gpkg\"\n",
    "            )\n",
    "            result = maap.submitJob(\n",
    "                identifier=\"gedi-subset\",\n",
    "                algo_id=\"gedi-subset\",\n",
    "                version=\"0.9.0\",\n",
    "                queue=\"maap-dps-worker-32gb\",\n",
    "                username=username,\n",
    "                **inputs\n",
    "            )\n",
    "            inputs\n",
    "            job_id = result.id\n",
    "            job_id or result"
   ]
  },
  {
   "cell_type": "code",
   "execution_count": 1,
   "id": "a9b82df8-d46b-4a30-81fd-41d18a4d0f23",
   "metadata": {
    "tags": []
   },
   "outputs": [
    {
     "ename": "NameError",
     "evalue": "name 'json_files' is not defined",
     "output_type": "error",
     "traceback": [
      "\u001b[0;31m---------------------------------------------------------------------------\u001b[0m",
      "\u001b[0;31mNameError\u001b[0m                                 Traceback (most recent call last)",
      "Cell \u001b[0;32mIn[1], line 7\u001b[0m\n\u001b[1;32m      1\u001b[0m \u001b[38;5;66;03m#Set up run to pull products for all GEDI products simultaneously #To run for only 1 or 2 products, change \"PRODUCTS\"\u001b[39;00m\n\u001b[1;32m      2\u001b[0m \n\u001b[1;32m      3\u001b[0m \u001b[38;5;66;03m#PRODUCTS = [\"L4A\"]  #To run for only 1 or 2 products, change \"PRODUCTS\"\u001b[39;00m\n\u001b[1;32m      4\u001b[0m \u001b[38;5;66;03m# PRODUCTS = [\"L2A\"] #,\"L2A\",\"L2B\"]  #To run for only 1 or 2 products, change \"PRODUCTS\"\u001b[39;00m\n\u001b[1;32m      5\u001b[0m PRODUCTS \u001b[38;5;241m=\u001b[39m [\u001b[38;5;124m\"\u001b[39m\u001b[38;5;124mL2B\u001b[39m\u001b[38;5;124m\"\u001b[39m] \u001b[38;5;66;03m#,\"L2A\",\"L2B\"]  #To run for only 1 or 2 products, change \"PRODUCTS\"\u001b[39;00m\n\u001b[0;32m----> 7\u001b[0m AOIs \u001b[38;5;241m=\u001b[39m \u001b[43mjson_files\u001b[49m\n\u001b[1;32m      9\u001b[0m \u001b[38;5;28;01mfor\u001b[39;00m each_aoi \u001b[38;5;129;01min\u001b[39;00m AOIs: \n\u001b[1;32m     10\u001b[0m     \u001b[38;5;28;01mif\u001b[39;00m \u001b[38;5;124m\"\u001b[39m\u001b[38;5;124mL2A\u001b[39m\u001b[38;5;124m\"\u001b[39m \u001b[38;5;129;01min\u001b[39;00m PRODUCTS: \n",
      "\u001b[0;31mNameError\u001b[0m: name 'json_files' is not defined"
     ]
    }
   ],
   "source": [
    "#Set up run to pull products for all GEDI products simultaneously #To run for only 1 or 2 products, change \"PRODUCTS\"\n",
    "\n",
    "#PRODUCTS = [\"L4A\"]  #To run for only 1 or 2 products, change \"PRODUCTS\"\n",
    "# PRODUCTS = [\"L2A\"] #,\"L2A\",\"L2B\"]  #To run for only 1 or 2 products, change \"PRODUCTS\"\n",
    "PRODUCTS = [\"L2B\"] #,\"L2A\",\"L2B\"]  #To run for only 1 or 2 products, change \"PRODUCTS\"\n",
    "\n",
    "AOIs = json_files\n",
    "\n",
    "for each_aoi in AOIs: \n",
    "    if \"L2A\" in PRODUCTS: \n",
    "        aoi_name = os.path.basename(each_aoi).split('.')[0]\n",
    "        print(f\"Thanks, I'll run the GEDI L2A subsetter for {aoi_name}!!\")\n",
    "        #aoi_url = each_aoi\n",
    "        inputs = dict(\n",
    "           aoi=each_aoi,\n",
    "           doi=\"L2A\",\n",
    "           lat=\"lat_lowestmode\",\n",
    "           lon=\"lon_lowestmode\",\n",
    "           beams=\"all\",\n",
    "           columns=\"shot_number,lon_lowestmode,lat_lowestmode,rh25,rh50,rh75,rh90,rh98,geolocation/sensitivity_a2,rh10,rh20,rh30,rh40,rh50,rh60,rh70,rh80\",\n",
    "           #columns=\"shot_number,lon_lowestmode,lat_lowestmode,rh10,rh20,rh30,rh40,rh50,rh60,rh70,rh80,rh90,rh98,quality_flag,rx_processing_a2/rx_algrunflag,rx_processing_a2/zcross,rx_processing_a2/toploc,geolocation/sensitivity_a2,degrade_flag,land_cover_data/pft_class,land_cover_data/region_class,surface_flag,rx_assess/rx_maxamp,rx_assess/sd_corrected,geolocation/stale_return_flag,land_cover_data/leaf_off_flag,land_cover_data/landsat_water_persistence,land_cover_data/urban_proportion\",\n",
    "           #columns=\"all\",\n",
    "           query=\"quality_flag == 1\",\n",
    "           limit = 75_000,\n",
    "           #temporal=\"-\",\n",
    "           output=f\"{os.path.basename(each_aoi).split('.')[0]}_L2A.gpkg\"\n",
    "        )\n",
    "        result = maap.submitJob(\n",
    "            identifier=\"gedi-subset\",\n",
    "            algo_id=\"gedi-subset\",\n",
    "            version=\"0.9.0\",\n",
    "            queue=\"maap-dps-worker-32gb\",\n",
    "            username=username,\n",
    "            **inputs\n",
    "        )\n",
    "        inputs\n",
    "        job_id = result.id\n",
    "        job_id or result\n",
    "\n",
    "        \n",
    "    if \"L2B\" in PRODUCTS: \n",
    "        aoi_name = os.path.basename(each_aoi).split('.')[0]\n",
    "        print(f\"Thanks, I'll run the GEDI L2B subsetter for {aoi_name}!!\")\n",
    "        #aoi_url = each_aoi\n",
    "        inputs = dict(\n",
    "           aoi=each_aoi,\n",
    "           doi=\"L2B\",\n",
    "           lat=\"geolocation/lat_lowestmode\",\n",
    "           lon=\"geolocation/lon_lowestmode\",\n",
    "           beams=\"all\",\n",
    "           columns=\"shot_number,geolocation/lon_lowestmode,geolocation/lat_lowestmode,rh100,l2b_quality_flag,sensitivity,cover,cover_z,land_cover_data/landsat_treecover,pai,pai_z,fhd_normal,pavd_z\",#\"+\",\".join(variables),\n",
    "           query=\"l2a_quality_flag == 1 and l2b_quality_flag == 1 and sensitivity > 0.95\",\n",
    "           limit = 75_000,\n",
    "           #temporal=\"-\",\n",
    "           output=f\"{os.path.basename(each_aoi).split('.')[0]}_L2B.gpkg\"\n",
    "        )\n",
    "        result = maap.submitJob(\n",
    "            identifier=\"gedi-subset\",\n",
    "            algo_id=\"gedi-subset\",\n",
    "            version=\"0.9.0\",\n",
    "            queue=\"maap-dps-worker-32gb\",\n",
    "            username=username,\n",
    "            **inputs\n",
    "        )\n",
    "        inputs\n",
    "        job_id = result.id\n",
    "        job_id or result\n",
    "\n",
    "        \n",
    "    if \"L4A\" in PRODUCTS: \n",
    "        aoi_name = os.path.basename(each_aoi).split('.')[0]\n",
    "        print(f\"Thanks, I'll run the GEDI L4A subsetter for {aoi_name}!!\")\n",
    "        #aoi_url = each_aoi\n",
    "        inputs = dict(\n",
    "           aoi=each_aoi,\n",
    "           doi=\"L4A\",\n",
    "           lat=\"lat_lowestmode\",\n",
    "           lon=\"lon_lowestmode\",\n",
    "           beams=\"all\",\n",
    "           columns=\"shot_number,lat_lowestmode,lon_lowestmode,elev_lowestmode,agbd,agbd_se,agbd_t,agbd_t_se,sensitivity,geolocation/sensitivity_a2\",\n",
    "           query=\"l2_quality_flag == 1 and l4_quality_flag == 1 and sensitivity > 0.95\", #  and geolocation/sensitivity_a2 > 0.95\",\n",
    "           limit = 75_000,\n",
    "           #temporal=\"-\",\n",
    "           output=f\"{os.path.basename(each_aoi).split('.')[0]}_L4A.gpkg\"\n",
    "        )\n",
    "        result = maap.submitJob(\n",
    "            identifier=\"gedi-subset\",\n",
    "            algo_id=\"gedi-subset\",\n",
    "            version=\"0.9.0\",\n",
    "            queue=\"maap-dps-worker-32gb\",\n",
    "            username=username,\n",
    "            **inputs\n",
    "        )\n",
    "        inputs\n",
    "        job_id = result.id\n",
    "        job_id or result\n"
   ]
  },
  {
   "cell_type": "code",
   "execution_count": 58,
   "id": "6fb0fcc0-33c4-45d1-b970-482dade25c67",
   "metadata": {
    "tags": []
   },
   "outputs": [
    {
     "name": "stdout",
     "output_type": "stream",
     "text": [
      "Thanks, I'll run the GEDI L2B subsetter for tile_num_29418!!\n",
      "Thanks, I'll run the GEDI L2B subsetter for tile_num_29419!!\n",
      "Thanks, I'll run the GEDI L2B subsetter for tile_num_29598!!\n",
      "Thanks, I'll run the GEDI L2B subsetter for tile_num_29599!!\n",
      "Thanks, I'll run the GEDI L2B subsetter for tile_num_29600!!\n",
      "Thanks, I'll run the GEDI L2B subsetter for tile_num_29778!!\n",
      "Thanks, I'll run the GEDI L2B subsetter for tile_num_29779!!\n",
      "Thanks, I'll run the GEDI L2B subsetter for tile_num_29780!!\n",
      "Thanks, I'll run the GEDI L2B subsetter for tile_num_29958!!\n",
      "Thanks, I'll run the GEDI L2B subsetter for tile_num_29959!!\n"
     ]
    }
   ],
   "source": [
    "#Set up run to pull products for all GEDI products simultaneously #To run for only 1 or 2 products, change \"PRODUCTS\"\n",
    "\n",
    "# PRODUCTS = [\"L4A\"]  #To run for only 1 or 2 products, change \"PRODUCTS\"\n",
    "# PRODUCTS = [\"L2A\"] #,\"L2A\",\"L2B\"]  #To run for only 1 or 2 products, change \"PRODUCTS\"\n",
    "PRODUCTS = [\"L2B\",\"L2A\",\"L2B\"]  #To run for only 1 or 2 products, change \"PRODUCTS\"\n",
    "\n",
    "AOIs = json_files\n",
    "\n",
    "for each_aoi in AOIs: \n",
    "    if \"L2A\" in PRODUCTS: \n",
    "        aoi_name = os.path.basename(each_aoi).split('.')[0]\n",
    "        print(f\"Thanks, I'll run the GEDI L2A subsetter for {aoi_name}!!\")\n",
    "        #aoi_url = each_aoi\n",
    "        inputs = dict(\n",
    "           aoi=each_aoi,\n",
    "           doi=\"L2A\",\n",
    "           lat=\"lat_lowestmode\",\n",
    "           lon=\"lon_lowestmode\",\n",
    "           beams=\"all\",\n",
    "           columns=\"shot_number,lon_lowestmode,lat_lowestmode,rh25,rh50,rh75,rh90,rh98,geolocation/sensitivity_a2,rh10,rh20,rh30,rh40,rh50,rh60,rh70,rh80\",\n",
    "           #columns=\"shot_number,lon_lowestmode,lat_lowestmode,rh10,rh20,rh30,rh40,rh50,rh60,rh70,rh80,rh90,rh98,quality_flag,rx_processing_a2/rx_algrunflag,rx_processing_a2/zcross,rx_processing_a2/toploc,geolocation/sensitivity_a2,degrade_flag,land_cover_data/pft_class,land_cover_data/region_class,surface_flag,rx_assess/rx_maxamp,rx_assess/sd_corrected,geolocation/stale_return_flag,land_cover_data/leaf_off_flag,land_cover_data/landsat_water_persistence,land_cover_data/urban_proportion\",\n",
    "           #columns=\"all\",\n",
    "           query=\"quality_flag == 1\",\n",
    "           limit = 75_000,\n",
    "           #temporal=\"-\",\n",
    "           output=f\"{os.path.basename(each_aoi).split('.')[0]}_L2A.gpkg\"\n",
    "        )\n",
    "        result = maap.submitJob(\n",
    "            identifier=\"gedi-subset\",\n",
    "            algo_id=\"gedi-subset\",\n",
    "            version=\"0.9.0\",\n",
    "            queue=\"maap-dps-worker-32gb\",\n",
    "            username=username,\n",
    "            **inputs\n",
    "        )\n",
    "        inputs\n",
    "        job_id = result.id\n",
    "        job_id or result\n",
    "\n",
    "        \n",
    "    if \"L2B\" in PRODUCTS: \n",
    "        aoi_name = os.path.basename(each_aoi).split('.')[0]\n",
    "        print(f\"Thanks, I'll run the GEDI L2B subsetter for {aoi_name}!!\")\n",
    "        #aoi_url = each_aoi\n",
    "        inputs = dict(\n",
    "           aoi=each_aoi,\n",
    "           doi=\"L2B\",\n",
    "           lat=\"geolocation/lat_lowestmode\",\n",
    "           lon=\"geolocation/lon_lowestmode\",\n",
    "           beams=\"all\",\n",
    "           columns=\"shot_number,geolocation/lon_lowestmode,geolocation/lat_lowestmode,rh100,l2b_quality_flag,sensitivity,cover,cover_z,land_cover_data/landsat_treecover,pai,pai_z,fhd_normal,pavd_z\",#\"+\",\".join(variables),\n",
    "           query=\"l2a_quality_flag == 1 and l2b_quality_flag == 1 and sensitivity > 0.95\",\n",
    "           limit = 75_000,\n",
    "           #temporal=\"-\",\n",
    "           output=f\"{os.path.basename(each_aoi).split('.')[0]}_L2B.gpkg\"\n",
    "        )\n",
    "        result = maap.submitJob(\n",
    "            identifier=\"gedi-subset\",\n",
    "            algo_id=\"gedi-subset\",\n",
    "            version=\"0.9.0\",\n",
    "            queue=\"maap-dps-worker-32gb\",\n",
    "            username=username,\n",
    "            **inputs\n",
    "        )\n",
    "        inputs\n",
    "        job_id = result.id\n",
    "        job_id or result\n",
    "\n",
    "        \n",
    "    if \"L4A\" in PRODUCTS: \n",
    "        aoi_name = os.path.basename(each_aoi).split('.')[0]\n",
    "        print(f\"Thanks, I'll run the GEDI L4A subsetter for {aoi_name}!!\")\n",
    "        #aoi_url = each_aoi\n",
    "        inputs = dict(\n",
    "           aoi=each_aoi,\n",
    "           doi=\"L4A\",\n",
    "           lat=\"lat_lowestmode\",\n",
    "           lon=\"lon_lowestmode\",\n",
    "           beams=\"all\",\n",
    "           columns=\"shot_number,lat_lowestmode,lon_lowestmode,elev_lowestmode,agbd,agbd_se,agbd_t,agbd_t_se,sensitivity,geolocation/sensitivity_a2\",\n",
    "           query=\"l2_quality_flag == 1 and l4_quality_flag == 1 and sensitivity > 0.95\", #  and geolocation/sensitivity_a2 > 0.95\",\n",
    "           limit = 75_000,\n",
    "           #temporal=\"-\",\n",
    "           output=f\"{os.path.basename(each_aoi).split('.')[0]}_L4A.gpkg\"\n",
    "        )\n",
    "        result = maap.submitJob(\n",
    "            identifier=\"gedi-subset\",\n",
    "            algo_id=\"gedi-subset\",\n",
    "            version=\"0.9.0\",\n",
    "            queue=\"maap-dps-worker-32gb\",\n",
    "            username=username,\n",
    "            **inputs\n",
    "        )\n",
    "        inputs\n",
    "        job_id = result.id\n",
    "        job_id or result\n"
   ]
  },
  {
   "cell_type": "code",
   "execution_count": 12,
   "id": "41b7dc1f-4b7f-4b26-bf1b-da2fcb28e2fe",
   "metadata": {},
   "outputs": [
    {
     "data": {
      "text/plain": [
       "'10bb0853-2843-479a-abdf-d558bd668254'"
      ]
     },
     "execution_count": 12,
     "metadata": {},
     "output_type": "execute_result"
    }
   ],
   "source": [
    "##L4A\n",
    "## if necessary ## re-run failed subsets\n",
    "#BRA\n",
    "#each_aoi = 'https://maap-ops-workspace.s3.amazonaws.com/shared/leitoldv/AOIs/vero_1deg_tiles_52N52S_land/tile_num_27090.geojson'\n",
    "#each_aoi = 'https://maap-ops-workspace.s3.amazonaws.com/shared/leitoldv/AOIs/vero_1deg_tiles_52N52S_land/tile_num_27111.geojson'\n",
    "#each_aoi = 'https://maap-ops-workspace.s3.amazonaws.com/shared/leitoldv/AOIs/vero_1deg_tiles_52N52S_land/tile_num_27291.geojson'\n",
    "#CHL\n",
    "#each_aoi = 'https://maap-ops-workspace.s3.amazonaws.com/shared/leitoldv/AOIs/vero_1deg_tiles_52N52S_land/tile_num_17937.geojson'\n",
    "#each_aoi = 'https://maap-ops-workspace.s3.amazonaws.com/shared/leitoldv/AOIs/vero_1deg_tiles_52N52S_land/tile_num_17944.geojson'\n",
    "#each_aoi = 'https://maap-ops-workspace.s3.amazonaws.com/shared/leitoldv/AOIs/vero_1deg_tiles_52N52S_land/tile_num_18117.geojson'\n",
    "#each_aoi = 'https://maap-ops-workspace.s3.amazonaws.com/shared/leitoldv/AOIs/vero_1deg_tiles_52N52S_land/tile_num_18304.geojson'\n",
    "#COL\n",
    "#each_aoi = 'https://maap-ops-workspace.s3.amazonaws.com/shared/leitoldv/AOIs/vero_1deg_tiles_52N52S_land/tile_num_17727.geojson'\n",
    "#each_aoi = 'https://maap-ops-workspace.s3.amazonaws.com/shared/leitoldv/AOIs/vero_1deg_tiles_52N52S_land/tile_num_17897.geojson'\n",
    "#each_aoi = 'https://maap-ops-workspace.s3.amazonaws.com/shared/leitoldv/AOIs/vero_1deg_tiles_52N52S_land/tile_num_18267.geojson'\n",
    "#ECU\n",
    "#each_aoi = 'https://maap-ops-workspace.s3.amazonaws.com/shared/leitoldv/AOIs/vero_1deg_tiles_52N52S_land/tile_num_15749.geojson'\n",
    "#each_aoi = 'https://maap-ops-workspace.s3.amazonaws.com/shared/leitoldv/AOIs/vero_1deg_tiles_52N52S_land/tile_num_15929.geojson'\n",
    "#SUR\n",
    "#each_aoi = 'https://maap-ops-workspace.s3.amazonaws.com/shared/leitoldv/AOIs/vero_1deg_tiles_52N52S_land/tile_num_22224.geojson'\n",
    "#VEN\n",
    "each_aoi = 'https://maap-ops-workspace.s3.amazonaws.com/shared/leitoldv/AOIs/vero_1deg_tiles_52N52S_land/tile_num_20955.geojson'\n",
    "\n",
    "inputs = dict(\n",
    "    aoi=each_aoi,\n",
    "    doi=\"L4A\",\n",
    "    lat=\"lat_lowestmode\",\n",
    "    lon=\"lon_lowestmode\",\n",
    "    beams=\"all\",\n",
    "    columns=\"shot_number,lat_lowestmode,lon_lowestmode,elev_lowestmode,agbd,agbd_se,agbd_t,agbd_t_se,sensitivity,geolocation/sensitivity_a2\",\n",
    "    query=\"l2_quality_flag == 1 and l4_quality_flag == 1 and sensitivity > 0.95\", #  and geolocation/sensitivity_a2 > 0.95\",\n",
    "    limit = 75_000,\n",
    "    #temporal=\"-\",\n",
    "    output=f\"{os.path.basename(each_aoi).split('.')[0]}_L4A.gpkg\"\n",
    ")\n",
    "result = maap.submitJob(\n",
    "    identifier=\"gedi-subset\",\n",
    "    algo_id=\"gedi-subset\",\n",
    "    version=\"0.7.0\",\n",
    "    queue=\"maap-dps-worker-32gb\",\n",
    "    username=\"leitoldv\",\n",
    "    **inputs\n",
    ")\n",
    "inputs\n",
    "job_id = result.id\n",
    "job_id or result"
   ]
  },
  {
   "cell_type": "code",
   "execution_count": 21,
   "id": "b87e73d4-130b-4997-afc5-be6f75b96caf",
   "metadata": {},
   "outputs": [
    {
     "data": {
      "text/plain": [
       "'4458c49d-c255-479d-b841-55376581ee9f'"
      ]
     },
     "execution_count": 21,
     "metadata": {},
     "output_type": "execute_result"
    }
   ],
   "source": [
    "##L2B\n",
    "#each_aoi = 'https://maap-ops-workspace.s3.amazonaws.com/shared/leitoldv/AOIs/vero_1deg_tiles_52N52S_land/tile_num_16111.geojson'\n",
    "#each_aoi = 'https://maap-ops-workspace.s3.amazonaws.com/shared/leitoldv/AOIs/vero_1deg_tiles_52N52S_land/tile_num_17915.geojson'\n",
    "each_aoi = 'https://maap-ops-workspace.s3.amazonaws.com/shared/leitoldv/AOIs/vero_1deg_tiles_52N52S_land/tile_num_18093.geojson'\n",
    "inputs = dict(\n",
    "    aoi=each_aoi,\n",
    "    doi=\"L2B\",\n",
    "    lat=\"geolocation/lat_lowestmode\",\n",
    "    lon=\"geolocation/lon_lowestmode\",\n",
    "    beams=\"all\",\n",
    "    columns=\"shot_number,geolocation/lon_lowestmode,geolocation/lat_lowestmode,rh100,l2b_quality_flag,sensitivity,cover,land_cover_data/landsat_treecover,pai,fhd_normal\",#\"+\",\".join(variables),\n",
    "    query=\"l2a_quality_flag == 1 and l2b_quality_flag == 1 and sensitivity > 0.95\",\n",
    "    limit = 75_000,\n",
    "    #temporal=\"-\",\n",
    "    output=f\"{os.path.basename(each_aoi).split('.')[0]}_L2B.gpkg\"\n",
    ")\n",
    "result = maap.submitJob(\n",
    "    identifier=\"gedi-subset\",\n",
    "    algo_id=\"gedi-subset\",\n",
    "    version=\"0.7.0\",\n",
    "    queue=\"maap-dps-worker-32gb\",\n",
    "    username=\"leitoldv\",\n",
    "    **inputs\n",
    ")\n",
    "inputs\n",
    "job_id = result.id\n",
    "job_id or result"
   ]
  },
  {
   "cell_type": "code",
   "execution_count": 77,
   "id": "01d5fe0a-7a20-4445-82ac-43f789518c18",
   "metadata": {},
   "outputs": [],
   "source": [
    "## L4A"
   ]
  },
  {
   "cell_type": "code",
   "execution_count": 40,
   "id": "42dfffe6-60c0-41a9-8275-a4bb2ca05d16",
   "metadata": {},
   "outputs": [
    {
     "data": {
      "text/plain": [
       "['https://maap-ops-workspace.s3.amazonaws.com/shared/leitoldv/AOIs/vero_1deg_tiles_52N52S_land/tile_num_29600.geojson',\n",
       " 'https://maap-ops-workspace.s3.amazonaws.com/shared/leitoldv/AOIs/vero_1deg_tiles_52N52S_land/tile_num_29779.geojson',\n",
       " 'https://maap-ops-workspace.s3.amazonaws.com/shared/leitoldv/AOIs/vero_1deg_tiles_52N52S_land/tile_num_29780.geojson',\n",
       " 'https://maap-ops-workspace.s3.amazonaws.com/shared/leitoldv/AOIs/vero_1deg_tiles_52N52S_land/tile_num_29781.geojson',\n",
       " 'https://maap-ops-workspace.s3.amazonaws.com/shared/leitoldv/AOIs/vero_1deg_tiles_52N52S_land/tile_num_29958.geojson',\n",
       " 'https://maap-ops-workspace.s3.amazonaws.com/shared/leitoldv/AOIs/vero_1deg_tiles_52N52S_land/tile_num_29959.geojson',\n",
       " 'https://maap-ops-workspace.s3.amazonaws.com/shared/leitoldv/AOIs/vero_1deg_tiles_52N52S_land/tile_num_29960.geojson',\n",
       " 'https://maap-ops-workspace.s3.amazonaws.com/shared/leitoldv/AOIs/vero_1deg_tiles_52N52S_land/tile_num_29961.geojson',\n",
       " 'https://maap-ops-workspace.s3.amazonaws.com/shared/leitoldv/AOIs/vero_1deg_tiles_52N52S_land/tile_num_30138.geojson',\n",
       " 'https://maap-ops-workspace.s3.amazonaws.com/shared/leitoldv/AOIs/vero_1deg_tiles_52N52S_land/tile_num_30139.geojson',\n",
       " 'https://maap-ops-workspace.s3.amazonaws.com/shared/leitoldv/AOIs/vero_1deg_tiles_52N52S_land/tile_num_30140.geojson',\n",
       " 'https://maap-ops-workspace.s3.amazonaws.com/shared/leitoldv/AOIs/vero_1deg_tiles_52N52S_land/tile_num_30141.geojson',\n",
       " 'https://maap-ops-workspace.s3.amazonaws.com/shared/leitoldv/AOIs/vero_1deg_tiles_52N52S_land/tile_num_30318.geojson',\n",
       " 'https://maap-ops-workspace.s3.amazonaws.com/shared/leitoldv/AOIs/vero_1deg_tiles_52N52S_land/tile_num_30319.geojson',\n",
       " 'https://maap-ops-workspace.s3.amazonaws.com/shared/leitoldv/AOIs/vero_1deg_tiles_52N52S_land/tile_num_30320.geojson',\n",
       " 'https://maap-ops-workspace.s3.amazonaws.com/shared/leitoldv/AOIs/vero_1deg_tiles_52N52S_land/tile_num_30321.geojson',\n",
       " 'https://maap-ops-workspace.s3.amazonaws.com/shared/leitoldv/AOIs/vero_1deg_tiles_52N52S_land/tile_num_30498.geojson',\n",
       " 'https://maap-ops-workspace.s3.amazonaws.com/shared/leitoldv/AOIs/vero_1deg_tiles_52N52S_land/tile_num_30499.geojson',\n",
       " 'https://maap-ops-workspace.s3.amazonaws.com/shared/leitoldv/AOIs/vero_1deg_tiles_52N52S_land/tile_num_30500.geojson',\n",
       " 'https://maap-ops-workspace.s3.amazonaws.com/shared/leitoldv/AOIs/vero_1deg_tiles_52N52S_land/tile_num_30501.geojson',\n",
       " 'https://maap-ops-workspace.s3.amazonaws.com/shared/leitoldv/AOIs/vero_1deg_tiles_52N52S_land/tile_num_30502.geojson',\n",
       " 'https://maap-ops-workspace.s3.amazonaws.com/shared/leitoldv/AOIs/vero_1deg_tiles_52N52S_land/tile_num_30678.geojson',\n",
       " 'https://maap-ops-workspace.s3.amazonaws.com/shared/leitoldv/AOIs/vero_1deg_tiles_52N52S_land/tile_num_30679.geojson',\n",
       " 'https://maap-ops-workspace.s3.amazonaws.com/shared/leitoldv/AOIs/vero_1deg_tiles_52N52S_land/tile_num_30680.geojson',\n",
       " 'https://maap-ops-workspace.s3.amazonaws.com/shared/leitoldv/AOIs/vero_1deg_tiles_52N52S_land/tile_num_30681.geojson',\n",
       " 'https://maap-ops-workspace.s3.amazonaws.com/shared/leitoldv/AOIs/vero_1deg_tiles_52N52S_land/tile_num_30682.geojson',\n",
       " 'https://maap-ops-workspace.s3.amazonaws.com/shared/leitoldv/AOIs/vero_1deg_tiles_52N52S_land/tile_num_30683.geojson',\n",
       " 'https://maap-ops-workspace.s3.amazonaws.com/shared/leitoldv/AOIs/vero_1deg_tiles_52N52S_land/tile_num_30858.geojson',\n",
       " 'https://maap-ops-workspace.s3.amazonaws.com/shared/leitoldv/AOIs/vero_1deg_tiles_52N52S_land/tile_num_30859.geojson',\n",
       " 'https://maap-ops-workspace.s3.amazonaws.com/shared/leitoldv/AOIs/vero_1deg_tiles_52N52S_land/tile_num_30860.geojson',\n",
       " 'https://maap-ops-workspace.s3.amazonaws.com/shared/leitoldv/AOIs/vero_1deg_tiles_52N52S_land/tile_num_30861.geojson',\n",
       " 'https://maap-ops-workspace.s3.amazonaws.com/shared/leitoldv/AOIs/vero_1deg_tiles_52N52S_land/tile_num_30862.geojson',\n",
       " 'https://maap-ops-workspace.s3.amazonaws.com/shared/leitoldv/AOIs/vero_1deg_tiles_52N52S_land/tile_num_30863.geojson',\n",
       " 'https://maap-ops-workspace.s3.amazonaws.com/shared/leitoldv/AOIs/vero_1deg_tiles_52N52S_land/tile_num_31040.geojson',\n",
       " 'https://maap-ops-workspace.s3.amazonaws.com/shared/leitoldv/AOIs/vero_1deg_tiles_52N52S_land/tile_num_31041.geojson',\n",
       " 'https://maap-ops-workspace.s3.amazonaws.com/shared/leitoldv/AOIs/vero_1deg_tiles_52N52S_land/tile_num_31042.geojson']"
      ]
     },
     "execution_count": 40,
     "metadata": {},
     "output_type": "execute_result"
    }
   ],
   "source": [
    "list(json_files)"
   ]
  },
  {
   "cell_type": "code",
   "execution_count": 42,
   "id": "0b502549-2aa9-4be7-9497-85d98843ab7b",
   "metadata": {},
   "outputs": [
    {
     "name": "stdout",
     "output_type": "stream",
     "text": [
      "13\n"
     ]
    }
   ],
   "source": [
    "# Define the folder path containing the output files from subsetting of tiles\n",
    "# folder_path = \"/projects/my-public-bucket/GEDI_global_PA_v2/WDPA_gedi_L4A_tiles\"\n",
    "folder_path = os.path.join(\"/projects/my-public-bucket/GEDI_global_PA_v2/WDPA_gedi_L4A_tiles/\",iso3)\n",
    "\n",
    "\n",
    "# Create a list to store the GeoPackage file paths\n",
    "gpkg_files = []\n",
    "\n",
    "# Use glob to find all .gpkg files in the folder\n",
    "pattern1 = os.path.join(folder_path, '*.gpkg')\n",
    "gpkg_files = glob.glob(pattern1)\n",
    "print(len(gpkg_files))"
   ]
  },
  {
   "cell_type": "code",
   "execution_count": 41,
   "id": "73d6747a-9cc7-42c8-a29a-43958ae92318",
   "metadata": {},
   "outputs": [
    {
     "name": "stdout",
     "output_type": "stream",
     "text": [
      "Copying tile_num_32660_L4A.gpkg...\n",
      "Copying tile_num_32661_L4A.gpkg...\n",
      "Copying tile_num_32480_L4A.gpkg...\n",
      "Copying tile_num_32479_L4A.gpkg...\n",
      "Copying tile_num_32481_L4A.gpkg...\n",
      "Copying tile_num_32662_L4A.gpkg...\n",
      "Copying tile_num_32483_L4A.gpkg...\n",
      "Copying tile_num_32300_L4A.gpkg...\n",
      "Copying tile_num_32482_L4A.gpkg...\n",
      "Copying tile_num_32299_L4A.gpkg...\n",
      "Copying tile_num_32484_L4A.gpkg...\n",
      "Copying tile_num_32664_L4A.gpkg...\n",
      "Copying tile_num_32663_L4A.gpkg...\n"
     ]
    }
   ],
   "source": [
    "import subprocess\n",
    "\n",
    "root_dir = \"/projects/my-private-bucket/dps_output/gedi-subset/0.9.0/gedi-subset/2024/11/26/23\"  # Can now set name\n",
    "out_dir = os.path.join(\"/projects/my-public-bucket/GEDI_global_PA_v2/WDPA_gedi_L4A_tiles/\",iso3)\n",
    "\n",
    "for dirName, subdirList, fileList in os.walk(root_dir):\n",
    "#    print(\"Found directory: %s\" % dirName)\n",
    "    for fname in fileList:\n",
    "        if fname.endswith(\"L4A.gpkg\"):\n",
    "            source_path = os.path.join(dirName, fname)\n",
    "            #print(source_path)\n",
    "            target_path = os.path.join(out_dir, fname)\n",
    "            #print(target_path)\n",
    "            if not os.path.exists(out_dir):\n",
    "                os.makedirs(out_dir)\n",
    "            if not os.path.exists(target_path):  # Check if file doesn’t exist in target directory\n",
    "                print(f\"Copying {fname}...\")\n",
    "                subprocess.call(['cp', source_path, target_path])\n",
    "#            else:\n",
    "#                print(f\"{fname} already exists in the target directory. Skipping...\")"
   ]
  },
  {
   "cell_type": "code",
   "execution_count": 38,
   "id": "ce8339d5-04a8-4a41-9328-0a9f95266144",
   "metadata": {},
   "outputs": [],
   "source": [
    "## L2A"
   ]
  },
  {
   "cell_type": "code",
   "execution_count": 144,
   "id": "2fd5ccb3-9a87-4b3b-b6c7-5a9cf9d03e97",
   "metadata": {},
   "outputs": [
    {
     "name": "stdout",
     "output_type": "stream",
     "text": [
      "237\n"
     ]
    }
   ],
   "source": [
    "# Define the folder path containing the output files from subsetting of tiles\n",
    "folder_path = os.path.join(\"/projects/my-public-bucket/GEDI_global_PA_v2/WDPA_gedi_L2A_tiles/\",iso3)\n",
    "\n",
    "\n",
    "# Create a list to store the GeoPackage file paths\n",
    "gpkg_files = []\n",
    "\n",
    "# Use glob to find all .gpkg files in the folder\n",
    "pattern1 = os.path.join(folder_path, '*.gpkg')\n",
    "gpkg_files = glob.glob(pattern1)\n",
    "print(len(gpkg_files))\n"
   ]
  },
  {
   "cell_type": "code",
   "execution_count": 146,
   "id": "48885bd9-4577-4cfd-88ce-44e0790191e8",
   "metadata": {},
   "outputs": [],
   "source": [
    "import subprocess\n",
    "\n",
    "root_dir = \"/projects/my-private-bucket/dps_output/gedi-subset/0.9.0/gedi-subset/2024/12/06\"  # Can now set name\n",
    "out_dir = os.path.join(\"/projects/my-public-bucket/GEDI_global_PA_v2/WDPA_gedi_L2A_tiles/\",iso3)\n",
    "\n",
    "\n",
    "for dirName, subdirList, fileList in os.walk(root_dir):\n",
    "#    print(\"Found directory: %s\" % dirName)\n",
    "    for fname in fileList:\n",
    "        if fname.endswith(\"L2A.gpkg\"):\n",
    "            source_path = os.path.join(dirName, fname)\n",
    "            #print(source_path)\n",
    "            target_path = os.path.join(out_dir, fname)\n",
    "            #print(target_path)\n",
    "            if not os.path.exists(out_dir):\n",
    "                os.makedirs(out_dir)\n",
    "            if not os.path.exists(target_path):  # Check if file doesn’t exist in target directory\n",
    "                print(f\"Copying {fname}...\")\n",
    "                subprocess.call(['cp', source_path, target_path])\n",
    "#            else:\n",
    "#                print(f\"{fname} already exists in the target directory. Skipping...\")"
   ]
  },
  {
   "cell_type": "code",
   "execution_count": null,
   "id": "ecbc70b8-b1c9-4697-b269-4ffbdbf13e20",
   "metadata": {},
   "outputs": [],
   "source": [
    "## L2B"
   ]
  },
  {
   "cell_type": "code",
   "execution_count": 51,
   "id": "c4b12257-9444-40ef-9b0d-845996adfbac",
   "metadata": {},
   "outputs": [
    {
     "data": {
      "text/plain": [
       "'1a4306d9-a6fe-4a72-ad02-2753dfc8911c'"
      ]
     },
     "execution_count": 51,
     "metadata": {},
     "output_type": "execute_result"
    }
   ],
   "source": [
    "inputs\n",
    "job_id = result.id\n",
    "job_id or result\n"
   ]
  },
  {
   "cell_type": "code",
   "execution_count": 45,
   "id": "7ad871c8-956f-4445-a296-d12d157b5397",
   "metadata": {},
   "outputs": [
    {
     "name": "stdout",
     "output_type": "stream",
     "text": [
      "12\n"
     ]
    }
   ],
   "source": [
    "# Define the folder path containing the output files from subsetting of tiles\n",
    "folder_path = os.path.join(\"/projects/my-public-bucket/GEDI_global_PA_v2/WDPA_gedi_L2B_tiles/\",iso3)\n",
    "\n",
    "# Create a list to store the GeoPackage file paths\n",
    "gpkg_files = []\n",
    "\n",
    "# Use glob to find all .gpkg files in the folder\n",
    "pattern1 = os.path.join(folder_path, '*.gpkg')\n",
    "gpkg_files = glob.glob(pattern1)\n",
    "print(len(gpkg_files))"
   ]
  },
  {
   "cell_type": "code",
   "execution_count": 44,
   "id": "c463d6ee-789d-4290-a9de-65ab562aa7dc",
   "metadata": {},
   "outputs": [
    {
     "name": "stdout",
     "output_type": "stream",
     "text": [
      "Copying tile_num_32660_L2B.gpkg...\n",
      "Copying tile_num_32661_L2B.gpkg...\n",
      "Copying tile_num_32480_L2B.gpkg...\n",
      "Copying tile_num_32662_L2B.gpkg...\n",
      "Copying tile_num_32484_L2B.gpkg...\n",
      "Copying tile_num_32479_L2B.gpkg...\n",
      "Copying tile_num_32482_L2B.gpkg...\n",
      "Copying tile_num_32481_L2B.gpkg...\n",
      "Copying tile_num_32299_L2B.gpkg...\n",
      "Copying tile_num_32483_L2B.gpkg...\n",
      "Copying tile_num_32663_L2B.gpkg...\n",
      "Copying tile_num_32664_L2B.gpkg...\n"
     ]
    }
   ],
   "source": [
    "import subprocess\n",
    "\n",
    "root_dir = \"/projects/my-private-bucket/dps_output/gedi-subset/0.9.0/gedi-subset/2024/11/27\"  # Can now set name\n",
    "out_dir = os.path.join(\"/projects/my-public-bucket/GEDI_global_PA_v2/WDPA_gedi_L2B_tiles/\",iso3)\n",
    "\n",
    "\n",
    "for dirName, subdirList, fileList in os.walk(root_dir):\n",
    "#    print(\"Found directory: %s\" % dirName)\n",
    "    for fname in fileList:\n",
    "        if fname.endswith(\"L2B.gpkg\"):\n",
    "            source_path = os.path.join(dirName, fname)\n",
    "            #print(source_path)\n",
    "            target_path = os.path.join(out_dir, fname)\n",
    "            #print(target_path)\n",
    "            if not os.path.exists(out_dir):\n",
    "                os.makedirs(out_dir)\n",
    "            if not os.path.exists(target_path):  # Check if file doesn’t exist in target directory\n",
    "                print(f\"Copying {fname}...\")\n",
    "                subprocess.call(['cp', source_path, target_path])\n",
    "#            else:\n",
    "#                print(f\"{fname} already exists in the target directory. Skipping...\")"
   ]
  },
  {
   "cell_type": "code",
   "execution_count": 9,
   "id": "0f4e756e-0d9c-49b0-9c02-f22cb7f2e112",
   "metadata": {},
   "outputs": [
    {
     "name": "stdout",
     "output_type": "stream",
     "text": [
      "{\"code\": 200, \"jobs\": [{\"id\": \"56c02587-2aca-4154-9414-437160602c4c\", \"tags\": [\"gedi-subset\", \"gedi-subset\"]}, {\"id\": \"508fafc6-fc4e-4f0c-9bef-c12038e51732\", \"tags\": [\"gedi-subset\", \"gedi-subset\"]}, {\"id\": \"63ff05ab-57c8-48b7-9f66-95598b284fd5\", \"tags\": [\"gedi-subset\", \"gedi-subset\"]}, {\"id\": \"4a1a4a95-4faa-4b56-a3a4-1154ab631f3d\", \"tags\": [\"gedi-subset\", \"gedi-subset\"]}, {\"id\": \"01cb3d74-3ce5-4256-b209-e62fcb0d5a5e\", \"tags\": [\"gedi-subset\"]}, {\"id\": \"6339f939-0183-4c8a-8ce0-dd2b75caaf96\", \"tags\": [\"gedi-subset\"]}, {\"id\": \"1001bb2e-226f-4553-b311-5ff8732510d7\", \"tags\": [\"gedi-subset\"]}, {\"id\": \"81adb752-6dec-4dea-98ea-eb581e42039b\", \"tags\": [\"gedi-subset\", \"gedi-subset\"]}, {\"id\": \"2666d5fc-2230-44cb-a9a6-bbe3145105eb\", \"tags\": [\"gedi-subset\", \"gedi-subset\"]}, {\"id\": \"95933d90-8214-414b-8c66-a4f939885622\", \"tags\": [\"gedi-subset\", \"gedi-subset\"]}], \"message\": \"success\"}\n",
      "\n"
     ]
    }
   ],
   "source": [
    "r = maap.listJobs(\"abarenblitt\",algo_id=\"job-gedi-subset\", version=\"0.9.0\", get_job_details=False, status = \"Failed\")\n",
    "print(r.text)"
   ]
  },
  {
   "cell_type": "code",
   "execution_count": 8,
   "id": "867fdc3f",
   "metadata": {},
   "outputs": [
    {
     "ename": "NameError",
     "evalue": "name 'result' is not defined",
     "output_type": "error",
     "traceback": [
      "\u001b[0;31m---------------------------------------------------------------------------\u001b[0m",
      "\u001b[0;31mNameError\u001b[0m                                 Traceback (most recent call last)",
      "Cell \u001b[0;32mIn[8], line 1\u001b[0m\n\u001b[0;32m----> 1\u001b[0m job_id \u001b[38;5;241m=\u001b[39m \u001b[43mresult\u001b[49m\u001b[38;5;241m.\u001b[39mid\n\u001b[1;32m      2\u001b[0m job_id \u001b[38;5;129;01mor\u001b[39;00m result\n",
      "\u001b[0;31mNameError\u001b[0m: name 'result' is not defined"
     ]
    }
   ],
   "source": [
    "job_id = result.id\n",
    "job_id or result"
   ]
  }
 ],
 "metadata": {
  "kernelspec": {
   "display_name": "Python 3 (ipykernel)",
   "language": "python",
   "name": "python3"
  },
  "language_info": {
   "codemirror_mode": {
    "name": "ipython",
    "version": 3
   },
   "file_extension": ".py",
   "mimetype": "text/x-python",
   "name": "python",
   "nbconvert_exporter": "python",
   "pygments_lexer": "ipython3",
   "version": "3.10.13"
  }
 },
 "nbformat": 4,
 "nbformat_minor": 5
}
