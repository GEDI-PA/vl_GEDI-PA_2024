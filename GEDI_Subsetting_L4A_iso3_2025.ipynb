{
 "cells": [
  {
   "cell_type": "code",
   "execution_count": 51,
   "id": "c879111c-c6cc-4dfc-a257-60106c347c36",
   "metadata": {},
   "outputs": [
    {
     "name": "stdout",
     "output_type": "stream",
     "text": [
      "shell-init: error retrieving current directory: getcwd: cannot access parent directories: Transport endpoint is not connected\n",
      "Traceback (most recent call last):\n",
      "  File \"/opt/conda/envs/r/bin/pip\", line 6, in <module>\n",
      "    from pip._internal.cli.main import main\n",
      "  File \"/opt/conda/envs/r/lib/python3.10/site-packages/pip/_internal/cli/main.py\", line 10, in <module>\n",
      "    from pip._internal.cli.autocompletion import autocomplete\n",
      "  File \"/opt/conda/envs/r/lib/python3.10/site-packages/pip/_internal/cli/autocompletion.py\", line 10, in <module>\n",
      "    from pip._internal.cli.main_parser import create_main_parser\n",
      "  File \"/opt/conda/envs/r/lib/python3.10/site-packages/pip/_internal/cli/main_parser.py\", line 9, in <module>\n",
      "    from pip._internal.build_env import get_runnable_pip\n",
      "  File \"/opt/conda/envs/r/lib/python3.10/site-packages/pip/_internal/build_env.py\", line 19, in <module>\n",
      "    from pip._internal.cli.spinners import open_spinner\n",
      "  File \"/opt/conda/envs/r/lib/python3.10/site-packages/pip/_internal/cli/spinners.py\", line 9, in <module>\n",
      "    from pip._internal.utils.logging import get_indentation\n",
      "  File \"/opt/conda/envs/r/lib/python3.10/site-packages/pip/_internal/utils/logging.py\", line 13, in <module>\n",
      "    from pip._vendor.rich.console import (\n",
      "  File \"/opt/conda/envs/r/lib/python3.10/site-packages/pip/_vendor/rich/__init__.py\", line 17, in <module>\n",
      "    _IMPORT_CWD = os.path.abspath(os.getcwd())\n",
      "OSError: [Errno 107] Transport endpoint is not connected\n",
      "shell-init: error retrieving current directory: getcwd: cannot access parent directories: Transport endpoint is not connected\n",
      "Traceback (most recent call last):\n",
      "  File \"/opt/conda/envs/r/bin/pip\", line 6, in <module>\n",
      "    from pip._internal.cli.main import main\n",
      "  File \"/opt/conda/envs/r/lib/python3.10/site-packages/pip/_internal/cli/main.py\", line 10, in <module>\n",
      "    from pip._internal.cli.autocompletion import autocomplete\n",
      "  File \"/opt/conda/envs/r/lib/python3.10/site-packages/pip/_internal/cli/autocompletion.py\", line 10, in <module>\n",
      "    from pip._internal.cli.main_parser import create_main_parser\n",
      "  File \"/opt/conda/envs/r/lib/python3.10/site-packages/pip/_internal/cli/main_parser.py\", line 9, in <module>\n",
      "    from pip._internal.build_env import get_runnable_pip\n",
      "  File \"/opt/conda/envs/r/lib/python3.10/site-packages/pip/_internal/build_env.py\", line 19, in <module>\n",
      "    from pip._internal.cli.spinners import open_spinner\n",
      "  File \"/opt/conda/envs/r/lib/python3.10/site-packages/pip/_internal/cli/spinners.py\", line 9, in <module>\n",
      "    from pip._internal.utils.logging import get_indentation\n",
      "  File \"/opt/conda/envs/r/lib/python3.10/site-packages/pip/_internal/utils/logging.py\", line 13, in <module>\n",
      "    from pip._vendor.rich.console import (\n",
      "  File \"/opt/conda/envs/r/lib/python3.10/site-packages/pip/_vendor/rich/__init__.py\", line 17, in <module>\n",
      "    _IMPORT_CWD = os.path.abspath(os.getcwd())\n",
      "OSError: [Errno 107] Transport endpoint is not connected\n"
     ]
    }
   ],
   "source": [
    "!pip install geopandas\n",
    "!pip install contextily"
   ]
  },
  {
   "cell_type": "code",
   "execution_count": 52,
   "id": "4cc8f20a-ac26-454a-a32f-52eb70d0f2d6",
   "metadata": {},
   "outputs": [],
   "source": [
    "from maap.maap import MAAP\n",
    "maap = MAAP(maap_host='api.maap-project.org')\n",
    "\n",
    "def job_status_for(job_id: str) -> str:\n",
    "    response = maap.getJobStatus(job_id)\n",
    "    response.raise_for_status()\n",
    "   \n",
    "    root = ET.fromstring(response.text)\n",
    "    status_element = root.find('.//{http://www.opengis.net/wps/2.0}Status')\n",
    "   \n",
    "    return status_element.text\n",
    "\n",
    "def job_result_for(job_id: str) -> str:\n",
    "    response = maap.getJobResult(job_id)\n",
    "    response.raise_for_status()\n",
    "   \n",
    "    root = ET.fromstring(response.text)\n",
    "\n",
    "    return root.find('.//{http://www.opengis.net/wps/2.0}Data').text\n",
    "\n",
    "def to_job_output_dir(job_result_url: str) -> str:\n",
    "    url_path = urlparse(job_result_url).path\n",
    "    # The S3 Key is the URL path excluding the `/{username}` prefix\n",
    "    s3_key = \"/\".join(url_path.split(\"/\")[2:])\n",
    "\n",
    "    return f\"/projects/my-private-bucket/{s3_key}\"\n",
    "\n",
    "def wait_for_job(job_id: str) -> str:\n",
    "    return job_status_for(job_id)"
   ]
  },
  {
   "cell_type": "code",
   "execution_count": 53,
   "id": "2fc333fc-b985-4354-8b92-bcd09287bc9c",
   "metadata": {},
   "outputs": [],
   "source": [
    "#pip install geopandas\n",
    "#pip install shapely\n",
    "#Import numpy for making column inputs easier\n",
    "import numpy as np\n",
    "import pandas as pd\n",
    "import geopandas as gpd\n",
    "import backoff\n",
    "import shapely\n",
    "import glob\n",
    "import os"
   ]
  },
  {
   "cell_type": "code",
   "execution_count": 54,
   "id": "1ac841ef-9b40-42c6-8624-f63ed9697aa7",
   "metadata": {},
   "outputs": [],
   "source": [
    "import xml.etree.ElementTree as ET\n",
    "from urllib.parse import urlparse\n",
    "\n",
    "def job_status_for(job_id: str) -> str:\n",
    "    response = maap.getJobStatus(job_id)\n",
    "    response.raise_for_status()\n",
    "    \n",
    "    root = ET.fromstring(response.text)\n",
    "    status_element = root.find('.//{http://www.opengis.net/wps/2.0}Status')\n",
    "    \n",
    "    return status_element.text\n",
    "\n",
    "def job_result_for(job_id: str) -> str:\n",
    "    response = maap.getJobResult(job_id)\n",
    "    response.raise_for_status()\n",
    "    \n",
    "    root = ET.fromstring(response.text)\n",
    "\n",
    "    return root.find('.//{http://www.opengis.net/wps/2.0}Data').text\n",
    "\n",
    "def to_job_output_dir(job_result_url: str) -> str:\n",
    "    url_path = urlparse(job_result_url).path\n",
    "    # The S3 Key is the URL path excluding the `/{username}` prefix\n",
    "    s3_key = \"/\".join(url_path.split(\"/\")[2:])\n",
    "\n",
    "    return f\"/projects/my-private-bucket/{s3_key}\""
   ]
  },
  {
   "cell_type": "code",
   "execution_count": 55,
   "id": "cab5a81e-2d4e-49dc-b0b2-f940ddcbdce3",
   "metadata": {},
   "outputs": [],
   "source": [
    "iso3 = \"UGA\"  ##GHA\n",
    "file_path = f\"/projects/my-public-bucket/AOIs/vero_1deg_tileindex/tileindex_{iso3}.csv\"\n",
    "tileindex_df = pd.read_csv(file_path)\n",
    "# Display the first few rows of the DataFrame\n",
    "#print(tileindex_df.head())"
   ]
  },
  {
   "cell_type": "code",
   "execution_count": 56,
   "id": "b9a378bc-a1f1-4028-9f51-0f4dba6bd2eb",
   "metadata": {},
   "outputs": [
    {
     "name": "stdout",
     "output_type": "stream",
     "text": [
      "34\n"
     ]
    },
    {
     "data": {
      "text/plain": [
       "'tile_num_37710'"
      ]
     },
     "execution_count": 56,
     "metadata": {},
     "output_type": "execute_result"
    }
   ],
   "source": [
    "json_files = tileindex_df['s3path']\n",
    "AOIs = json_files\n",
    "print(len(AOIs))\n",
    "aoi_name = os.path.basename(AOIs[0]).split('.')[0]\n",
    "aoi_name"
   ]
  },
  {
   "cell_type": "code",
   "execution_count": 57,
   "id": "15794e52-e1d5-47f0-bc2d-1d9da4e015c6",
   "metadata": {},
   "outputs": [
    {
     "data": {
      "text/plain": [
       "'https://maap-ops-workspace.s3.amazonaws.com/shared/leitoldv/AOIs/vero_1deg_tiles_52N52S_land/tile_num_37710.geojson'"
      ]
     },
     "execution_count": 57,
     "metadata": {},
     "output_type": "execute_result"
    }
   ],
   "source": [
    "AOIs[0]"
   ]
  },
  {
   "cell_type": "code",
   "execution_count": 50,
   "id": "551b4bcd-d60a-4eba-aed6-4e8719727e9a",
   "metadata": {},
   "outputs": [
    {
     "name": "stdout",
     "output_type": "stream",
     "text": [
      "Thanks, I'll run the GEDI L4A subsetter for tile_num_37710!!\n",
      "Thanks, I'll run the GEDI L4A subsetter for tile_num_37711!!\n",
      "Thanks, I'll run the GEDI L4A subsetter for tile_num_37712!!\n",
      "Thanks, I'll run the GEDI L4A subsetter for tile_num_37887!!\n",
      "Thanks, I'll run the GEDI L4A subsetter for tile_num_37888!!\n",
      "Thanks, I'll run the GEDI L4A subsetter for tile_num_37889!!\n",
      "Thanks, I'll run the GEDI L4A subsetter for tile_num_37890!!\n",
      "Thanks, I'll run the GEDI L4A subsetter for tile_num_37891!!\n",
      "Thanks, I'll run the GEDI L4A subsetter for tile_num_37892!!\n",
      "Thanks, I'll run the GEDI L4A subsetter for tile_num_38067!!\n",
      "Thanks, I'll run the GEDI L4A subsetter for tile_num_38068!!\n",
      "Thanks, I'll run the GEDI L4A subsetter for tile_num_38069!!\n",
      "Thanks, I'll run the GEDI L4A subsetter for tile_num_38070!!\n",
      "Thanks, I'll run the GEDI L4A subsetter for tile_num_38071!!\n",
      "Thanks, I'll run the GEDI L4A subsetter for tile_num_38072!!\n",
      "Thanks, I'll run the GEDI L4A subsetter for tile_num_38247!!\n",
      "Thanks, I'll run the GEDI L4A subsetter for tile_num_38248!!\n",
      "Thanks, I'll run the GEDI L4A subsetter for tile_num_38249!!\n",
      "Thanks, I'll run the GEDI L4A subsetter for tile_num_38250!!\n",
      "Thanks, I'll run the GEDI L4A subsetter for tile_num_38251!!\n",
      "Thanks, I'll run the GEDI L4A subsetter for tile_num_38252!!\n",
      "Thanks, I'll run the GEDI L4A subsetter for tile_num_38426!!\n",
      "Thanks, I'll run the GEDI L4A subsetter for tile_num_38427!!\n",
      "Thanks, I'll run the GEDI L4A subsetter for tile_num_38428!!\n",
      "Thanks, I'll run the GEDI L4A subsetter for tile_num_38429!!\n",
      "Thanks, I'll run the GEDI L4A subsetter for tile_num_38430!!\n",
      "Thanks, I'll run the GEDI L4A subsetter for tile_num_38431!!\n",
      "Thanks, I'll run the GEDI L4A subsetter for tile_num_38432!!\n",
      "Thanks, I'll run the GEDI L4A subsetter for tile_num_38606!!\n",
      "Thanks, I'll run the GEDI L4A subsetter for tile_num_38607!!\n",
      "Thanks, I'll run the GEDI L4A subsetter for tile_num_38608!!\n",
      "Thanks, I'll run the GEDI L4A subsetter for tile_num_38609!!\n",
      "Thanks, I'll run the GEDI L4A subsetter for tile_num_38610!!\n",
      "Thanks, I'll run the GEDI L4A subsetter for tile_num_38789!!\n"
     ]
    }
   ],
   "source": [
    "#Set up run to pull products for all GEDI products simultaneously #To run for only 1 or 2 products, change \"PRODUCTS\"\n",
    "\n",
    "PRODUCTS = [\"L4A\"]  #To run for only 1 or 2 products, change \"PRODUCTS\"\n",
    "#PRODUCTS = [\"L2A\"] #,\"L2A\",\"L2B\"]  #To run for only 1 or 2 products, change \"PRODUCTS\"\n",
    "#PRODUCTS = [\"L2B\"] #,\"L2A\",\"L2B\"]  #To run for only 1 or 2 products, change \"PRODUCTS\"\n",
    "\n",
    "AOIs = json_files\n",
    "\n",
    "for each_aoi in AOIs: \n",
    "        \n",
    "    if \"L4A\" in PRODUCTS: \n",
    "        aoi_name = os.path.basename(each_aoi).split('.')[0]\n",
    "        print(f\"Thanks, I'll run the GEDI L4A subsetter for {aoi_name}!!\")\n",
    "        #aoi_url = each_aoi\n",
    "        inputs = dict(\n",
    "           aoi=each_aoi,\n",
    "           doi=\"L4A\",\n",
    "           lat=\"lat_lowestmode\",\n",
    "           lon=\"lon_lowestmode\",\n",
    "           beams=\"all\",\n",
    "           columns=\"shot_number,lat_lowestmode,lon_lowestmode,elev_lowestmode,agbd,agbd_se,agbd_t,agbd_t_se,sensitivity,geolocation/sensitivity_a2\",\n",
    "           query=\"l2_quality_flag == 1 and l4_quality_flag == 1 and sensitivity > 0.95\", #  and geolocation/sensitivity_a2 > 0.95\",\n",
    "           limit = 75_000,\n",
    "           #temporal=\"-\",\n",
    "           output=f\"{os.path.basename(each_aoi).split('.')[0]}_L4A.gpkg\"\n",
    "        )\n",
    "        result = maap.submitJob(\n",
    "            identifier=\"gedi-subset\",\n",
    "            algo_id=\"gedi-subset\",\n",
    "            version=\"0.9.0\",\n",
    "            queue=\"maap-dps-worker-32vcpu-64gb\",  #\"maap-dps-worker-32gb\",\n",
    "            username=\"leitoldv\",\n",
    "            **inputs\n",
    "        )\n",
    "        inputs\n",
    "        job_id = result.id\n",
    "        job_id or result\n",
    "\n"
   ]
  },
  {
   "cell_type": "code",
   "execution_count": null,
   "id": "aa0cf94e-906c-4b38-9051-d56b27f19ec2",
   "metadata": {},
   "outputs": [],
   "source": [
    "## if jobs fail re-run them using the cell below"
   ]
  },
  {
   "cell_type": "code",
   "execution_count": 42,
   "id": "41b7dc1f-4b7f-4b26-bf1b-da2fcb28e2fe",
   "metadata": {},
   "outputs": [
    {
     "data": {
      "text/plain": [
       "'f9076ddd-7b37-4fe4-9542-4dc298681b8c'"
      ]
     },
     "execution_count": 42,
     "metadata": {},
     "output_type": "execute_result"
    }
   ],
   "source": [
    "PRODUCTS = [\"L4A\"]  #To run for only 1 or 2 products, change \"PRODUCTS\"\n",
    "## if necessary ## re-run failed subsets\n",
    "#each_aoi = 'https://maap-ops-workspace.s3.amazonaws.com/shared/leitoldv/AOIs/vero_1deg_tiles_52N52S_land/tile_num_16276.geojson'\n",
    "#each_aoi = 'https://maap-ops-workspace.s3.amazonaws.com/shared/leitoldv/AOIs/vero_1deg_tiles_52N52S_land/tile_num_32125.geojson'\n",
    "each_aoi = 'https://maap-ops-workspace.s3.amazonaws.com/shared/leitoldv/AOIs/vero_1deg_tiles_52N52S_land/tile_num_37711.geojson'\n",
    "inputs = dict(\n",
    "    aoi=each_aoi,\n",
    "    doi=\"L4A\",\n",
    "    lat=\"lat_lowestmode\",\n",
    "    lon=\"lon_lowestmode\",\n",
    "    beams=\"all\",\n",
    "    columns=\"shot_number,lat_lowestmode,lon_lowestmode,elev_lowestmode,agbd,agbd_se,agbd_t,agbd_t_se,sensitivity,geolocation/sensitivity_a2\",\n",
    "    query=\"l2_quality_flag == 1 and l4_quality_flag == 1 and sensitivity > 0.95\", #  and geolocation/sensitivity_a2 > 0.95\",\n",
    "    limit = 75_000,\n",
    "    #temporal=\"-\",\n",
    "    output=f\"{os.path.basename(each_aoi).split('.')[0]}_L4A.gpkg\"\n",
    ")\n",
    "result = maap.submitJob(\n",
    "    identifier=\"gedi-subset\",\n",
    "    algo_id=\"gedi-subset\",\n",
    "    version=\"0.9.0\",\n",
    "    queue=\"maap-dps-worker-32vcpu-64gb\",\n",
    "    username=\"leitoldv\",\n",
    "    **inputs\n",
    ")\n",
    "inputs\n",
    "job_id = result.id\n",
    "job_id or result"
   ]
  },
  {
   "cell_type": "code",
   "execution_count": 58,
   "id": "0b502549-2aa9-4be7-9497-85d98843ab7b",
   "metadata": {},
   "outputs": [
    {
     "name": "stdout",
     "output_type": "stream",
     "text": [
      "1820\n"
     ]
    }
   ],
   "source": [
    "# Define the folder path containing the output files from subsetting of tiles\n",
    "folder_path = \"/projects/my-public-bucket/GEDI_global_PA_v2/WDPA_gedi_L4A_tiles\"\n",
    "\n",
    "# Create a list to store the GeoPackage file paths\n",
    "gpkg_files = []\n",
    "\n",
    "# Use glob to find all .gpkg files in the folder\n",
    "pattern1 = os.path.join(folder_path, '*.gpkg')\n",
    "gpkg_files = glob.glob(pattern1)\n",
    "print(len(gpkg_files))\n"
   ]
  },
  {
   "cell_type": "code",
   "execution_count": 59,
   "id": "73d6747a-9cc7-42c8-a29a-43958ae92318",
   "metadata": {},
   "outputs": [
    {
     "name": "stdout",
     "output_type": "stream",
     "text": [
      "Copying tile_num_16276_L4A.gpkg...\n",
      "Copying tile_num_16457_L4A.gpkg...\n",
      "Copying tile_num_16275_L4A.gpkg...\n",
      "Copying tile_num_16456_L4A.gpkg...\n",
      "Copying tile_num_16814_L4A.gpkg...\n",
      "Copying tile_num_16994_L4A.gpkg...\n",
      "Copying tile_num_17175_L4A.gpkg...\n",
      "Copying tile_num_16455_L4A.gpkg...\n",
      "Copying tile_num_16995_L4A.gpkg...\n",
      "Copying tile_num_16638_L4A.gpkg...\n",
      "Copying tile_num_16637_L4A.gpkg...\n",
      "Copying tile_num_16996_L4A.gpkg...\n",
      "Copying tile_num_17356_L4A.gpkg...\n",
      "Copying tile_num_16636_L4A.gpkg...\n",
      "Copying tile_num_17176_L4A.gpkg...\n",
      "Copying tile_num_16635_L4A.gpkg...\n",
      "Copying tile_num_16997_L4A.gpkg...\n",
      "Copying tile_num_16817_L4A.gpkg...\n",
      "Copying tile_num_16816_L4A.gpkg...\n",
      "Copying tile_num_17353_L4A.gpkg...\n",
      "Copying tile_num_17355_L4A.gpkg...\n",
      "Copying tile_num_16815_L4A.gpkg...\n",
      "Copying tile_num_32124_L4A.gpkg...\n",
      "Copying tile_num_32123_L4A.gpkg...\n",
      "Copying tile_num_31944_L4A.gpkg...\n",
      "Copying tile_num_31945_L4A.gpkg...\n",
      "Copying tile_num_31943_L4A.gpkg...\n",
      "Copying tile_num_31940_L4A.gpkg...\n",
      "Copying tile_num_31941_L4A.gpkg...\n",
      "Copying tile_num_31942_L4A.gpkg...\n",
      "Copying tile_num_32304_L4A.gpkg...\n",
      "Copying tile_num_32302_L4A.gpkg...\n",
      "Copying tile_num_32122_L4A.gpkg...\n",
      "Copying tile_num_32480_L4A.gpkg...\n",
      "Copying tile_num_32299_L4A.gpkg...\n",
      "Copying tile_num_32126_L4A.gpkg...\n",
      "Copying tile_num_32303_L4A.gpkg...\n",
      "Copying tile_num_31763_L4A.gpkg...\n",
      "Copying tile_num_32119_L4A.gpkg...\n",
      "Copying tile_num_31764_L4A.gpkg...\n",
      "Copying tile_num_32301_L4A.gpkg...\n",
      "Copying tile_num_32120_L4A.gpkg...\n",
      "Copying tile_num_31946_L4A.gpkg...\n",
      "Copying tile_num_32300_L4A.gpkg...\n",
      "Copying tile_num_32305_L4A.gpkg...\n",
      "Copying tile_num_32485_L4A.gpkg...\n",
      "Copying tile_num_32483_L4A.gpkg...\n",
      "Copying tile_num_32121_L4A.gpkg...\n",
      "Copying tile_num_32479_L4A.gpkg...\n",
      "Copying tile_num_32484_L4A.gpkg...\n",
      "Copying tile_num_31765_L4A.gpkg...\n",
      "Copying tile_num_32481_L4A.gpkg...\n",
      "Copying tile_num_32665_L4A.gpkg...\n",
      "Copying tile_num_32482_L4A.gpkg...\n",
      "Copying tile_num_32664_L4A.gpkg...\n",
      "Copying tile_num_32125_L4A.gpkg...\n",
      "Copying tile_num_32125_L4A.gpkg...\n",
      "Copying tile_num_37710_L4A.gpkg...\n",
      "Copying tile_num_38432_L4A.gpkg...\n",
      "Copying tile_num_38069_L4A.gpkg...\n",
      "Copying tile_num_37889_L4A.gpkg...\n",
      "Copying tile_num_37888_L4A.gpkg...\n",
      "Copying tile_num_37887_L4A.gpkg...\n",
      "Copying tile_num_38067_L4A.gpkg...\n",
      "Copying tile_num_38068_L4A.gpkg...\n",
      "Copying tile_num_37892_L4A.gpkg...\n",
      "Copying tile_num_38252_L4A.gpkg...\n",
      "Copying tile_num_38248_L4A.gpkg...\n",
      "Copying tile_num_38070_L4A.gpkg...\n",
      "Copying tile_num_38249_L4A.gpkg...\n",
      "Copying tile_num_38606_L4A.gpkg...\n",
      "Copying tile_num_32125_L4A.gpkg...\n",
      "Copying tile_num_38426_L4A.gpkg...\n",
      "Copying tile_num_37890_L4A.gpkg...\n",
      "Copying tile_num_38789_L4A.gpkg...\n",
      "Copying tile_num_38431_L4A.gpkg...\n",
      "Copying tile_num_38251_L4A.gpkg...\n",
      "Copying tile_num_38072_L4A.gpkg...\n",
      "Copying tile_num_38427_L4A.gpkg...\n",
      "Copying tile_num_38071_L4A.gpkg...\n",
      "Copying tile_num_38607_L4A.gpkg...\n",
      "Copying tile_num_38610_L4A.gpkg...\n",
      "Copying tile_num_38247_L4A.gpkg...\n",
      "Copying tile_num_38250_L4A.gpkg...\n",
      "Copying tile_num_38430_L4A.gpkg...\n",
      "Copying tile_num_38609_L4A.gpkg...\n",
      "Copying tile_num_38428_L4A.gpkg...\n",
      "Copying tile_num_37712_L4A.gpkg...\n",
      "Copying tile_num_37891_L4A.gpkg...\n",
      "Copying tile_num_32125_L4A.gpkg...\n",
      "Copying tile_num_37890_L4A.gpkg...\n",
      "Copying tile_num_38068_L4A.gpkg...\n",
      "Copying tile_num_38069_L4A.gpkg...\n",
      "Copying tile_num_38072_L4A.gpkg...\n",
      "Copying tile_num_38247_L4A.gpkg...\n",
      "Copying tile_num_38249_L4A.gpkg...\n",
      "Copying tile_num_38248_L4A.gpkg...\n",
      "Copying tile_num_38071_L4A.gpkg...\n",
      "Copying tile_num_38252_L4A.gpkg...\n",
      "Copying tile_num_38427_L4A.gpkg...\n",
      "Copying tile_num_38428_L4A.gpkg...\n",
      "Copying tile_num_37711_L4A.gpkg...\n",
      "Copying tile_num_38429_L4A.gpkg...\n",
      "Copying tile_num_38431_L4A.gpkg...\n",
      "Copying tile_num_38430_L4A.gpkg...\n",
      "Copying tile_num_38432_L4A.gpkg...\n",
      "Copying tile_num_38606_L4A.gpkg...\n",
      "Copying tile_num_38607_L4A.gpkg...\n",
      "Copying tile_num_38610_L4A.gpkg...\n",
      "Copying tile_num_38608_L4A.gpkg...\n",
      "Copying tile_num_38426_L4A.gpkg...\n",
      "Copying tile_num_37712_L4A.gpkg...\n",
      "Copying tile_num_37711_L4A.gpkg...\n",
      "Copying tile_num_38789_L4A.gpkg...\n",
      "Copying tile_num_38609_L4A.gpkg...\n",
      "Copying tile_num_37710_L4A.gpkg...\n",
      "Copying tile_num_37888_L4A.gpkg...\n",
      "Copying tile_num_37887_L4A.gpkg...\n",
      "Copying tile_num_37889_L4A.gpkg...\n",
      "Copying tile_num_37891_L4A.gpkg...\n",
      "Copying tile_num_37890_L4A.gpkg...\n",
      "Copying tile_num_38068_L4A.gpkg...\n",
      "Copying tile_num_38067_L4A.gpkg...\n",
      "Copying tile_num_38069_L4A.gpkg...\n",
      "Copying tile_num_38070_L4A.gpkg...\n",
      "Copying tile_num_38072_L4A.gpkg...\n",
      "Copying tile_num_38247_L4A.gpkg...\n",
      "Copying tile_num_38248_L4A.gpkg...\n",
      "Copying tile_num_38249_L4A.gpkg...\n",
      "Copying tile_num_38250_L4A.gpkg...\n",
      "Copying tile_num_38251_L4A.gpkg...\n",
      "Copying tile_num_38252_L4A.gpkg...\n",
      "Copying tile_num_38426_L4A.gpkg...\n",
      "Copying tile_num_38071_L4A.gpkg...\n",
      "Copying tile_num_38432_L4A.gpkg...\n",
      "Copying tile_num_38431_L4A.gpkg...\n",
      "Copying tile_num_38606_L4A.gpkg...\n",
      "Copying tile_num_38607_L4A.gpkg...\n",
      "Copying tile_num_38429_L4A.gpkg...\n",
      "Copying tile_num_38430_L4A.gpkg...\n",
      "Copying tile_num_38789_L4A.gpkg...\n",
      "Copying tile_num_38610_L4A.gpkg...\n",
      "Copying tile_num_38609_L4A.gpkg...\n",
      "Copying tile_num_38608_L4A.gpkg...\n"
     ]
    }
   ],
   "source": [
    "import subprocess\n",
    "\n",
    "root_dir = \"/projects/my-private-bucket/dps_output/gedi-subset/0.9.0/gedi-subset/2025/01/08\"  # Can now set name\n",
    "out_dir = \"/projects/my-public-bucket/GEDI_global_PA_v2/WDPA_gedi_L4A_tiles\"\n",
    "\n",
    "for dirName, subdirList, fileList in os.walk(root_dir):\n",
    "#    print(\"Found directory: %s\" % dirName)\n",
    "    for fname in fileList:\n",
    "        if fname.endswith(\"L4A.gpkg\"):\n",
    "            source_path = os.path.join(dirName, fname)\n",
    "            #print(source_path)\n",
    "            target_path = os.path.join(out_dir, fname)\n",
    "            #print(target_path)\n",
    "#            if not os.path.exists(target_path):  # Check if file doesn’t exist in target directory\n",
    "            print(f\"Copying {fname}...\")\n",
    "            subprocess.call(['cp', source_path, target_path])\n",
    "#            else:\n",
    "#                print(f\"{fname} already exists in the target directory. Skipping...\")"
   ]
  },
  {
   "cell_type": "code",
   "execution_count": 60,
   "id": "867fdc3f",
   "metadata": {},
   "outputs": [
    {
     "name": "stdout",
     "output_type": "stream",
     "text": [
      "1823\n"
     ]
    }
   ],
   "source": [
    "# Define the folder path containing the output files from subsetting of tiles\n",
    "folder_path = \"/projects/my-public-bucket/GEDI_global_PA_v2/WDPA_gedi_L4A_tiles\"\n",
    "\n",
    "# Create a list to store the GeoPackage file paths\n",
    "gpkg_files = []\n",
    "\n",
    "# Use glob to find all .gpkg files in the folder\n",
    "pattern1 = os.path.join(folder_path, '*.gpkg')\n",
    "gpkg_files = glob.glob(pattern1)\n",
    "print(len(gpkg_files))\n"
   ]
  },
  {
   "cell_type": "code",
   "execution_count": null,
   "id": "c0610352-cc56-4252-ba1b-0c397da24057",
   "metadata": {},
   "outputs": [],
   "source": []
  }
 ],
 "metadata": {
  "kernelspec": {
   "display_name": "Python 3 (ipykernel)",
   "language": "python",
   "name": "python3"
  },
  "language_info": {
   "codemirror_mode": {
    "name": "ipython",
    "version": 3
   },
   "file_extension": ".py",
   "mimetype": "text/x-python",
   "name": "python",
   "nbconvert_exporter": "python",
   "pygments_lexer": "ipython3",
   "version": "3.10.13"
  }
 },
 "nbformat": 4,
 "nbformat_minor": 5
}
