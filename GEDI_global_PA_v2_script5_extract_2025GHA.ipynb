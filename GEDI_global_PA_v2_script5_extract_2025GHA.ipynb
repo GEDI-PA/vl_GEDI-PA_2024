{
 "cells": [
  {
   "cell_type": "code",
   "execution_count": 1,
   "id": "32aeaaac-7d6f-488b-b136-ada54bb8f840",
   "metadata": {},
   "outputs": [],
   "source": [
    "## ---------------- SEP5 testing gedi extraction code -----------------------"
   ]
  },
  {
   "cell_type": "code",
   "execution_count": 2,
   "id": "375b9c98-0ce5-4bb8-86dd-29410a0eabee",
   "metadata": {},
   "outputs": [],
   "source": [
    "##\n",
    "# conda install -c conda-forge r-optmatch\n",
    "# conda install -c conda-forge r-RItools\n",
    "##"
   ]
  },
  {
   "cell_type": "code",
   "execution_count": 3,
   "id": "bb019e34-2538-4e39-828f-e670636a0436",
   "metadata": {},
   "outputs": [
    {
     "name": "stderr",
     "output_type": "stream",
     "text": [
      "Updating HTML index of packages in '.Library'\n",
      "\n",
      "Making 'packages.html' ...\n",
      " done\n",
      "\n",
      "Updating HTML index of packages in '.Library'\n",
      "\n",
      "Making 'packages.html' ...\n",
      " done\n",
      "\n"
     ]
    }
   ],
   "source": [
    "install.packages(\"s3\")\n",
    "install.packages(\"doParallel\")\n",
    "#install.packages(\"RItools\")    "
   ]
  },
  {
   "cell_type": "code",
   "execution_count": 4,
   "id": "aa085b6a-d865-4ff5-8c40-e26b9fe93940",
   "metadata": {},
   "outputs": [
    {
     "name": "stderr",
     "output_type": "stream",
     "text": [
      "terra 1.7.29\n",
      "\n",
      "\n",
      "Attaching package: ‘dplyr’\n",
      "\n",
      "\n",
      "The following objects are masked from ‘package:terra’:\n",
      "\n",
      "    intersect, union\n",
      "\n",
      "\n",
      "The following objects are masked from ‘package:stats’:\n",
      "\n",
      "    filter, lag\n",
      "\n",
      "\n",
      "The following objects are masked from ‘package:base’:\n",
      "\n",
      "    intersect, setdiff, setequal, union\n",
      "\n",
      "\n",
      "Linking to GEOS 3.11.2, GDAL 3.7.0, PROJ 9.2.0; sf_use_s2() is TRUE\n",
      "\n",
      "Loading required package: iterators\n",
      "\n",
      "Loading required package: parallel\n",
      "\n"
     ]
    }
   ],
   "source": [
    "library(\"terra\")\n",
    "library(\"dplyr\")\n",
    "library(\"sf\")\n",
    "#install.packages(\"s3\")\n",
    "library(\"s3\")\n",
    "\n",
    "library(\"sp\")\n",
    "library(\"foreach\")\n",
    "library(\"stringr\")\n",
    "library(\"aws.s3\")\n",
    "#conda install -c conda-forge r-optmatch #r-ggmap r-hrbrthemes r-Hmisc\n",
    "#library(\"optmatch\")\n",
    "#install.packages(\"doParallel\")\n",
    "library(\"doParallel\")\n",
    "#install.packages(\"RItools\")    \n",
    "#library(\"RItools\")\n"
   ]
  },
  {
   "cell_type": "code",
   "execution_count": 5,
   "id": "62cdb96c-9e67-4aa4-ac5d-436e5d467d8b",
   "metadata": {},
   "outputs": [],
   "source": [
    "#s3 <- paws::s3()"
   ]
  },
  {
   "cell_type": "code",
   "execution_count": 6,
   "id": "2ced8004-1639-432b-9c12-d0cb5f6632fc",
   "metadata": {},
   "outputs": [],
   "source": [
    "#To test, we define the variables manually. For final version, run the commented out section below\n",
    "#iso3 <-\"Bpt\"\n",
    "#iso3 <-\"BaE\"\n",
    "#iso3 <- \"BaE\"\n",
    "iso3 <- \"GHA\"\n",
    "#iso3 <- \"UGA\"\n",
    "gediwk <- 24\n",
    "mproc <- 1"
   ]
  },
  {
   "cell_type": "code",
   "execution_count": 7,
   "id": "6d063ab5-b6c7-45a5-b852-55e85691de33",
   "metadata": {},
   "outputs": [],
   "source": [
    "#-------------------------------------------------------------------------------\n",
    "#args = commandArgs(trailingOnly=TRUE)\n",
    "#if (length(args)==0) {\n",
    "#  stop(\"At least one argument must be supplied (input file).n\", call.=FALSE)\n",
    "#} else if (length(args)>=1) {\n",
    "#  \n",
    "#  iso3 <- args[1]  #country to process\n",
    "#  gediwk <- args[2]   #the # of weeks GEDI data to use\n",
    "#  mproc <- as.integer(args[3])  #the number of cores to use for matching \n",
    "#}\n",
    "#-------------------------------------------------------------------------------"
   ]
  },
  {
   "cell_type": "code",
   "execution_count": 8,
   "id": "715b5c20-70ed-4406-9077-e0a70295e4f9",
   "metadata": {},
   "outputs": [
    {
     "name": "stdout",
     "output_type": "stream",
     "text": [
      "Step 0: Loading global variables for GHA with wk 24 data \n"
     ]
    },
    {
     "name": "stderr",
     "output_type": "stream",
     "text": [
      "\u001b[36mℹ\u001b[39m \u001b[34m\u001b[34ms3://maap-ops-workspace/shared/leitoldv/GEDI_global_PA_v2/wwf_ecoregions_key.csv\u001b[34m\u001b[39m already exists at \u001b[34m\u001b[34m/projects/.local/share/R/s3/maap-ops-workspace/shared/leitoldv/GEDI_global_PA_v2/wwf_ecoregions_key.csv\u001b[34m\u001b[39m\n",
      "\n",
      "\u001b[36mℹ\u001b[39m \u001b[34m\u001b[34ms3://maap-ops-workspace/shared/leitoldv/GEDI_global_PA_v2/WDPA_shapefiles/WDPA_polygons/GHA_PA_poly.rds\u001b[34m\u001b[39m already exists at \u001b[34m\u001b[34m/projects/.local/share/R/s3/maap-ops-workspace/shared/leitoldv/GEDI_global_PA_v2/WDPA_shapefiles/WDPA_polygons/GHA_PA_poly.rds\u001b[34m\u001b[39m\n",
      "\n",
      "\u001b[36mℹ\u001b[39m \u001b[34m\u001b[34ms3://maap-ops-workspace/shared/leitoldv/GEDI_global_PA_v2/GEDI_ANCI_PFT_r1000m_EASE2.0_UMD_v1_projection_defined_6933.tif\u001b[34m\u001b[39m already exists at \u001b[34m\u001b[34m/projects/.local/share/R/s3/maap-ops-workspace/shared/leitoldv/GEDI_global_PA_v2/GEDI_ANCI_PFT_r1000m_EASE2.0_UMD_v1_projection_defined_6933.tif\u001b[34m\u001b[39m\n",
      "\n",
      "\u001b[36mℹ\u001b[39m \u001b[34m\u001b[34ms3://maap-ops-workspace/shared/leitoldv/GEDI_global_PA_v2/GEDI_ANCI_CONTINENT_r1000m_EASE2.0_UMD_v1_revised_projection_defined_6933.tif\u001b[34m\u001b[39m already exists at \u001b[34m\u001b[34m/projects/.local/share/R/s3/maap-ops-workspace/shared/leitoldv/GEDI_global_PA_v2/GEDI_ANCI_CONTINENT_r1000m_EASE2.0_UMD_v1_revised_projection_defined_6933.tif\u001b[34m\u001b[39m\n",
      "\n",
      "\u001b[36mℹ\u001b[39m all files already exist\n",
      "\n",
      "\u001b[36mℹ\u001b[39m \u001b[34m\u001b[34ms3://maap-ops-workspace/shared/leitoldv/GEDI_global_PA_v2/WDPA_countries/shp/GHA.shp\u001b[34m\u001b[39m already exists at \u001b[34m\u001b[34m/projects/.local/share/R/s3/maap-ops-workspace/shared/leitoldv/GEDI_global_PA_v2/WDPA_countries/shp/GHA.shp\u001b[34m\u001b[39m\n",
      "\n"
     ]
    },
    {
     "name": "stdout",
     "output_type": "stream",
     "text": [
      "Reading layer `GHA' from data source \n",
      "  `/projects/.local/share/R/s3/maap-ops-workspace/shared/leitoldv/GEDI_global_PA_v2/WDPA_countries/shp/GHA.shp' \n",
      "  using driver `ESRI Shapefile'\n",
      "Simple feature collection with 1 feature and 94 fields\n",
      "Geometry type: POLYGON\n",
      "Dimension:     XY\n",
      "Bounding box:  xmin: -3.262509 ymin: 4.737128 xmax: 1.187968 ymax: 11.16294\n",
      "Geodetic CRS:  WGS 84\n"
     ]
    },
    {
     "name": "stderr",
     "output_type": "stream",
     "text": [
      "\u001b[36mℹ\u001b[39m \u001b[34m\u001b[34ms3://maap-ops-workspace/shared/leitoldv/GEDI_global_PA_v2/rf_noclimate.RData\u001b[34m\u001b[39m already exists at \u001b[34m\u001b[34m/projects/.local/share/R/s3/maap-ops-workspace/shared/leitoldv/GEDI_global_PA_v2/rf_noclimate.RData\u001b[34m\u001b[39m\n",
      "\n"
     ]
    }
   ],
   "source": [
    "cat(\"Step 0: Loading global variables for\", iso3,\"with wk\", gediwk, \"data \\n\")\n",
    "\n",
    "#f.path <- \"/projects/my-public-bucket/GEDI_global_PA_v2/\"\n",
    "f.path <- \"s3://maap-ops-workspace/shared/leitoldv/GEDI_global_PA_v2/\"\n",
    "\n",
    "matching_tifs <- c(\"wwf_biomes\",\"wwf_ecoreg\",\"lc2000\",\"d2roads\", \"dcities\",\"dem\",\n",
    "                   \"pop_cnt_2000\",\"pop_den_2000\",\"slope\", \"tt2cities_2000\", \"wc_prec_1990-1999\",\n",
    "                   \"wc_tmax_1990-1999\",\"wc_tavg_1990-1999\",\"wc_tmin_1990-1999\" )\n",
    "\n",
    "ecoreg_key <- read.csv(s3_get(paste(f.path,\"wwf_ecoregions_key.csv\",sep=\"\")))\n",
    "#unlink(s3_get(paste(f.path,\"wwf_ecoregions_key.csv\",sep=\"\")))\n",
    "\n",
    "allPAs <- readRDS(s3_get(paste(f.path,\"WDPA_shapefiles/WDPA_polygons/\",iso3,\"_PA_poly.rds\",sep=\"\")))\n",
    "\n",
    "MCD12Q1 <- rast(s3_get(paste(f.path,\"GEDI_ANCI_PFT_r1000m_EASE2.0_UMD_v1_projection_defined_6933.tif\",sep=\"\")))\n",
    "crs(MCD12Q1)  <- \"epsg:6933\"\n",
    "\n",
    "world_region <- rast(s3_get(paste(f.path,\"GEDI_ANCI_CONTINENT_r1000m_EASE2.0_UMD_v1_revised_projection_defined_6933.tif\",sep=\"\")))\n",
    "crs(world_region)  <- \"epsg:6933\"\n",
    "\n",
    "s3_get_files(c(paste(f.path,\"WDPA_countries/shp/\",iso3,\".shp\",sep=\"\"),\n",
    "              paste(f.path,\"WDPA_countries/shp/\",iso3,\".shx\",sep=\"\"),\n",
    "              paste(f.path,\"WDPA_countries/shp/\",iso3,\".prj\",sep=\"\"),\n",
    "              paste(f.path,\"WDPA_countries/shp/\",iso3,\".dbf\",sep=\"\")),confirm = FALSE)\n",
    "adm <- st_read(s3_get(paste(f.path,\"WDPA_countries/shp/\",iso3,\".shp\",sep=\"\")))\n",
    "\n",
    "#s3_path <- paste(\"/vsis3/maap-ops-workspace/shared/leitoldv/GEDI_global_PA_v2/WDPA_countries/shp/\",iso3,\".shp\",sep=\"\") #Redo this for the gpkg\n",
    "#adm <- st_read(s3_path)\n",
    "adm_prj <- project(vect(adm), \"epsg:6933\")\n",
    "\n",
    "load(s3_get(paste(f.path,\"rf_noclimate.RData\",sep=\"\")))\n",
    "#source(s3_get(paste(f.path,\"matching_func.R\",sep=\"\")))\n",
    "source(\"/projects/my-public-bucket/GEDI_global_PA_v2/vl_GEDI-PA_2024/matching_func_2024.R\")\n",
    "\n",
    "#flag <- \"run all\"\n",
    "#flag <- \"run remaining\""
   ]
  },
  {
   "cell_type": "code",
   "execution_count": 19,
   "id": "d79924a1-23ba-40a0-81ee-87219004c19c",
   "metadata": {},
   "outputs": [
    {
     "name": "stdout",
     "output_type": "stream",
     "text": [
      "Step 5: Performing WK  24 GEDI extraction for GHA \n"
     ]
    },
    {
     "name": "stderr",
     "output_type": "stream",
     "text": [
      "\u001b[36mℹ\u001b[39m \u001b[34m\u001b[34ms3://maap-ops-workspace/shared/leitoldv/GEDI_global_PA_v2/WDPA_matching_results/GHA_wk24_filelist.csv\u001b[34m\u001b[39m already exists at \u001b[34m\u001b[34m/projects/.local/share/R/s3/maap-ops-workspace/shared/leitoldv/GEDI_global_PA_v2/WDPA_matching_results/GHA_wk24_filelist.csv\u001b[34m\u001b[39m\n",
      "\n"
     ]
    },
    {
     "data": {
      "text/html": [
       "270"
      ],
      "text/latex": [
       "270"
      ],
      "text/markdown": [
       "270"
      ],
      "text/plain": [
       "[1] 270"
      ]
     },
     "metadata": {},
     "output_type": "display_data"
    }
   ],
   "source": [
    "#---------------STEP5. GEDI PROCESSING ---------------- \n",
    "#using GEDI shots to extract the treatment/control status, also extract the MODIS PFT for AGB prediction\n",
    "\n",
    "# if (file.exists(paste(f.path,\"WDPA_GEDI_extract/\",iso3,\"_wk\",gediwk,\"/\",iso3,\"_gedi_extracted_matching_wk\",gediwk,\".RDS\", sep=\"\"))){\n",
    "cat(paste(\"Step 5: Performing WK \", gediwk, \"GEDI extraction for\", iso3,\"\\n\"))\n",
    "#matched_all <-read.csv(paste(f.path,\"WDPA_extract4_residual_PAs/\", iso3, \"_wk_\", gediwk, \"_null_matches_rerun.csv\",sep=\"\")) \n",
    "matched_all <- read.csv(s3_get(paste(f.path,\"WDPA_matching_results/\",iso3,\"_wk24_filelist.csv\",sep=\"\")))[,2]\n",
    "length(matched_all)   "
   ]
  },
  {
   "cell_type": "code",
   "execution_count": 20,
   "id": "b6d1293d-7b7e-4f50-aba1-29a4b2867dd1",
   "metadata": {},
   "outputs": [
    {
     "name": "stdout",
     "output_type": "stream",
     "text": [
      "[1] \"GHA_pa_1543_matching_results_wk24.RDS\"\n",
      "[1] \"GHA_pa_26440_matching_results_wk24.RDS\"\n",
      "[1] \"GHA_pa_26442_matching_results_wk24.RDS\"\n",
      "[1] \"GHA_pa_26443_matching_results_wk24.RDS\"\n",
      "[1] \"GHA_pa_26444_matching_results_wk24.RDS\"\n",
      "[1] \"GHA_pa_26446_matching_results_wk24.RDS\"\n",
      "[1] \"GHA_pa_26447_matching_results_wk24.RDS\"\n",
      "[1] \"GHA_pa_26448_matching_results_wk24.RDS\"\n",
      "[1] \"GHA_pa_26449_matching_results_wk24.RDS\"\n",
      "[1] \"GHA_pa_26450_matching_results_wk24.RDS\"\n",
      "[1] \"GHA_pa_26451_matching_results_wk24.RDS\"\n",
      "[1] \"GHA_pa_26452_matching_results_wk24.RDS\"\n",
      "[1] \"GHA_pa_26457_matching_results_wk24.RDS\"\n",
      "[1] \"GHA_pa_26458_matching_results_wk24.RDS\"\n",
      "[1] \"GHA_pa_26459_matching_results_wk24.RDS\"\n",
      "[1] \"GHA_pa_26460_matching_results_wk24.RDS\"\n",
      "[1] \"GHA_pa_26462_matching_results_wk24.RDS\"\n",
      "[1] \"GHA_pa_26501_matching_results_wk24.RDS\"\n",
      "[1] \"GHA_pa_26502_matching_results_wk24.RDS\"\n",
      "[1] \"GHA_pa_26505_matching_results_wk24.RDS\"\n",
      "[1] \"GHA_pa_26506_matching_results_wk24.RDS\"\n",
      "[1] \"GHA_pa_26507_matching_results_wk24.RDS\"\n",
      "[1] \"GHA_pa_26509_matching_results_wk24.RDS\"\n",
      "[1] \"GHA_pa_26510_matching_results_wk24.RDS\"\n",
      "[1] \"GHA_pa_26511_matching_results_wk24.RDS\"\n",
      "[1] \"GHA_pa_26513_matching_results_wk24.RDS\"\n",
      "[1] \"GHA_pa_26514_matching_results_wk24.RDS\"\n",
      "[1] \"GHA_pa_26515_matching_results_wk24.RDS\"\n",
      "[1] \"GHA_pa_26516_matching_results_wk24.RDS\"\n",
      "[1] \"GHA_pa_26522_matching_results_wk24.RDS\"\n",
      "[1] \"GHA_pa_26524_matching_results_wk24.RDS\"\n",
      "[1] \"GHA_pa_26525_matching_results_wk24.RDS\"\n",
      "[1] \"GHA_pa_26526_matching_results_wk24.RDS\"\n",
      "[1] \"GHA_pa_26527_matching_results_wk24.RDS\"\n",
      "[1] \"GHA_pa_26528_matching_results_wk24.RDS\"\n",
      "[1] \"GHA_pa_26530_matching_results_wk24.RDS\"\n",
      "[1] \"GHA_pa_26531_matching_results_wk24.RDS\"\n",
      "[1] \"GHA_pa_26535_matching_results_wk24.RDS\"\n",
      "[1] \"GHA_pa_26536_matching_results_wk24.RDS\"\n",
      "[1] \"GHA_pa_26538_matching_results_wk24.RDS\"\n",
      "[1] \"GHA_pa_26543_matching_results_wk24.RDS\"\n",
      "[1] \"GHA_pa_26544_matching_results_wk24.RDS\"\n",
      "[1] \"GHA_pa_26546_matching_results_wk24.RDS\"\n",
      "[1] \"GHA_pa_26547_matching_results_wk24.RDS\"\n",
      "[1] \"GHA_pa_26548_matching_results_wk24.RDS\"\n",
      "[1] \"GHA_pa_26551_matching_results_wk24.RDS\"\n",
      "[1] \"GHA_pa_26552_matching_results_wk24.RDS\"\n",
      "[1] \"GHA_pa_26553_matching_results_wk24.RDS\"\n",
      "[1] \"GHA_pa_26557_matching_results_wk24.RDS\"\n",
      "[1] \"GHA_pa_26558_matching_results_wk24.RDS\"\n",
      "[1] \"GHA_pa_26559_matching_results_wk24.RDS\"\n",
      "[1] \"GHA_pa_26564_matching_results_wk24.RDS\"\n",
      "[1] \"GHA_pa_26567_matching_results_wk24.RDS\"\n",
      "[1] \"GHA_pa_26570_matching_results_wk24.RDS\"\n",
      "[1] \"GHA_pa_26573_matching_results_wk24.RDS\"\n",
      "[1] \"GHA_pa_26574_matching_results_wk24.RDS\"\n",
      "[1] \"GHA_pa_303935_matching_results_wk24.RDS\"\n",
      "[1] \"GHA_pa_303938_matching_results_wk24.RDS\"\n",
      "[1] \"GHA_pa_303939_matching_results_wk24.RDS\"\n",
      "[1] \"GHA_pa_303940_matching_results_wk24.RDS\"\n",
      "[1] \"GHA_pa_303941_matching_results_wk24.RDS\"\n",
      "[1] \"GHA_pa_303942_matching_results_wk24.RDS\"\n",
      "[1] \"GHA_pa_303943_matching_results_wk24.RDS\"\n",
      "[1] \"GHA_pa_303944_matching_results_wk24.RDS\"\n",
      "[1] \"GHA_pa_303945_matching_results_wk24.RDS\"\n",
      "[1] \"GHA_pa_303946_matching_results_wk24.RDS\"\n",
      "[1] \"GHA_pa_303947_matching_results_wk24.RDS\"\n",
      "[1] \"GHA_pa_303948_matching_results_wk24.RDS\"\n",
      "[1] \"GHA_pa_303949_matching_results_wk24.RDS\"\n",
      "[1] \"GHA_pa_303950_matching_results_wk24.RDS\"\n",
      "[1] \"GHA_pa_303951_matching_results_wk24.RDS\"\n",
      "[1] \"GHA_pa_303954_matching_results_wk24.RDS\"\n",
      "[1] \"GHA_pa_303955_matching_results_wk24.RDS\"\n",
      "[1] \"GHA_pa_303956_matching_results_wk24.RDS\"\n",
      "[1] \"GHA_pa_303959_matching_results_wk24.RDS\"\n",
      "[1] \"GHA_pa_303961_matching_results_wk24.RDS\"\n",
      "[1] \"GHA_pa_303962_matching_results_wk24.RDS\"\n",
      "[1] \"GHA_pa_35161_matching_results_wk24.RDS\"\n",
      "[1] \"GHA_pa_40672_matching_results_wk24.RDS\"\n",
      "[1] \"GHA_pa_40673_matching_results_wk24.RDS\"\n",
      "[1] \"GHA_pa_40674_matching_results_wk24.RDS\"\n",
      "[1] \"GHA_pa_40675_matching_results_wk24.RDS\"\n",
      "[1] \"GHA_pa_40676_matching_results_wk24.RDS\"\n",
      "[1] \"GHA_pa_40677_matching_results_wk24.RDS\"\n",
      "[1] \"GHA_pa_40678_matching_results_wk24.RDS\"\n",
      "[1] \"GHA_pa_40679_matching_results_wk24.RDS\"\n",
      "[1] \"GHA_pa_40680_matching_results_wk24.RDS\"\n",
      "[1] \"GHA_pa_40681_matching_results_wk24.RDS\"\n",
      "[1] \"GHA_pa_40682_matching_results_wk24.RDS\"\n",
      "[1] \"GHA_pa_40683_matching_results_wk24.RDS\"\n",
      "[1] \"GHA_pa_40684_matching_results_wk24.RDS\"\n",
      "[1] \"GHA_pa_40685_matching_results_wk24.RDS\"\n",
      "[1] \"GHA_pa_40686_matching_results_wk24.RDS\"\n",
      "[1] \"GHA_pa_40687_matching_results_wk24.RDS\"\n",
      "[1] \"GHA_pa_40688_matching_results_wk24.RDS\"\n",
      "[1] \"GHA_pa_40689_matching_results_wk24.RDS\"\n",
      "[1] \"GHA_pa_40690_matching_results_wk24.RDS\"\n",
      "[1] \"GHA_pa_40691_matching_results_wk24.RDS\"\n",
      "[1] \"GHA_pa_40697_matching_results_wk24.RDS\"\n",
      "[1] \"GHA_pa_40698_matching_results_wk24.RDS\"\n",
      "[1] \"GHA_pa_40699_matching_results_wk24.RDS\"\n",
      "[1] \"GHA_pa_40700_matching_results_wk24.RDS\"\n",
      "[1] \"GHA_pa_40730_matching_results_wk24.RDS\"\n",
      "[1] \"GHA_pa_40731_matching_results_wk24.RDS\"\n",
      "[1] \"GHA_pa_40733_matching_results_wk24.RDS\"\n",
      "[1] \"GHA_pa_40734_matching_results_wk24.RDS\"\n",
      "[1] \"GHA_pa_40735_matching_results_wk24.RDS\"\n",
      "[1] \"GHA_pa_40738_matching_results_wk24.RDS\"\n",
      "[1] \"GHA_pa_40739_matching_results_wk24.RDS\"\n",
      "[1] \"GHA_pa_40740_matching_results_wk24.RDS\"\n",
      "[1] \"GHA_pa_40741_matching_results_wk24.RDS\"\n",
      "[1] \"GHA_pa_40742_matching_results_wk24.RDS\"\n",
      "[1] \"GHA_pa_40743_matching_results_wk24.RDS\"\n",
      "[1] \"GHA_pa_40747_matching_results_wk24.RDS\"\n",
      "[1] \"GHA_pa_40748_matching_results_wk24.RDS\"\n",
      "[1] \"GHA_pa_40749_matching_results_wk24.RDS\"\n",
      "[1] \"GHA_pa_40750_matching_results_wk24.RDS\"\n",
      "[1] \"GHA_pa_40751_matching_results_wk24.RDS\"\n",
      "[1] \"GHA_pa_40752_matching_results_wk24.RDS\"\n",
      "[1] \"GHA_pa_40753_matching_results_wk24.RDS\"\n",
      "[1] \"GHA_pa_40754_matching_results_wk24.RDS\"\n",
      "[1] \"GHA_pa_40755_matching_results_wk24.RDS\"\n",
      "[1] \"GHA_pa_40756_matching_results_wk24.RDS\"\n",
      "[1] \"GHA_pa_40757_matching_results_wk24.RDS\"\n",
      "[1] \"GHA_pa_40758_matching_results_wk24.RDS\"\n",
      "[1] \"GHA_pa_40759_matching_results_wk24.RDS\"\n",
      "[1] \"GHA_pa_40760_matching_results_wk24.RDS\"\n",
      "[1] \"GHA_pa_40761_matching_results_wk24.RDS\"\n",
      "[1] \"GHA_pa_40762_matching_results_wk24.RDS\"\n",
      "[1] \"GHA_pa_40764_matching_results_wk24.RDS\"\n",
      "[1] \"GHA_pa_40765_matching_results_wk24.RDS\"\n",
      "[1] \"GHA_pa_40766_matching_results_wk24.RDS\"\n",
      "[1] \"GHA_pa_40767_matching_results_wk24.RDS\"\n",
      "[1] \"GHA_pa_40768_matching_results_wk24.RDS\"\n",
      "[1] \"GHA_pa_40769_matching_results_wk24.RDS\"\n",
      "[1] \"GHA_pa_40770_matching_results_wk24.RDS\"\n",
      "[1] \"GHA_pa_40771_matching_results_wk24.RDS\"\n",
      "[1] \"GHA_pa_40772_matching_results_wk24.RDS\"\n",
      "[1] \"GHA_pa_40773_matching_results_wk24.RDS\"\n",
      "[1] \"GHA_pa_40774_matching_results_wk24.RDS\"\n",
      "[1] \"GHA_pa_40775_matching_results_wk24.RDS\"\n",
      "[1] \"GHA_pa_40776_matching_results_wk24.RDS\"\n",
      "[1] \"GHA_pa_40777_matching_results_wk24.RDS\"\n",
      "[1] \"GHA_pa_40778_matching_results_wk24.RDS\"\n",
      "[1] \"GHA_pa_40779_matching_results_wk24.RDS\"\n",
      "[1] \"GHA_pa_40780_matching_results_wk24.RDS\"\n",
      "[1] \"GHA_pa_40781_matching_results_wk24.RDS\"\n",
      "[1] \"GHA_pa_40782_matching_results_wk24.RDS\"\n",
      "[1] \"GHA_pa_40783_matching_results_wk24.RDS\"\n",
      "[1] \"GHA_pa_40784_matching_results_wk24.RDS\"\n",
      "[1] \"GHA_pa_40785_matching_results_wk24.RDS\"\n",
      "[1] \"GHA_pa_40786_matching_results_wk24.RDS\"\n",
      "[1] \"GHA_pa_40787_matching_results_wk24.RDS\"\n",
      "[1] \"GHA_pa_40788_matching_results_wk24.RDS\"\n",
      "[1] \"GHA_pa_40789_matching_results_wk24.RDS\"\n",
      "[1] \"GHA_pa_40790_matching_results_wk24.RDS\"\n",
      "[1] \"GHA_pa_40791_matching_results_wk24.RDS\"\n",
      "[1] \"GHA_pa_40792_matching_results_wk24.RDS\"\n",
      "[1] \"GHA_pa_40793_matching_results_wk24.RDS\"\n",
      "[1] \"GHA_pa_40794_matching_results_wk24.RDS\"\n",
      "[1] \"GHA_pa_40795_matching_results_wk24.RDS\"\n",
      "[1] \"GHA_pa_40796_matching_results_wk24.RDS\"\n",
      "[1] \"GHA_pa_40797_matching_results_wk24.RDS\"\n",
      "[1] \"GHA_pa_40798_matching_results_wk24.RDS\"\n",
      "[1] \"GHA_pa_40799_matching_results_wk24.RDS\"\n",
      "[1] \"GHA_pa_40800_matching_results_wk24.RDS\"\n",
      "[1] \"GHA_pa_40801_matching_results_wk24.RDS\"\n",
      "[1] \"GHA_pa_40803_matching_results_wk24.RDS\"\n",
      "[1] \"GHA_pa_40804_matching_results_wk24.RDS\"\n",
      "[1] \"GHA_pa_40805_matching_results_wk24.RDS\"\n",
      "[1] \"GHA_pa_40806_matching_results_wk24.RDS\"\n",
      "[1] \"GHA_pa_40807_matching_results_wk24.RDS\"\n",
      "[1] \"GHA_pa_40808_matching_results_wk24.RDS\"\n",
      "[1] \"GHA_pa_40809_matching_results_wk24.RDS\"\n",
      "[1] \"GHA_pa_40810_matching_results_wk24.RDS\"\n",
      "[1] \"GHA_pa_40811_matching_results_wk24.RDS\"\n",
      "[1] \"GHA_pa_40812_matching_results_wk24.RDS\"\n",
      "[1] \"GHA_pa_40814_matching_results_wk24.RDS\"\n",
      "[1] \"GHA_pa_40815_matching_results_wk24.RDS\"\n",
      "[1] \"GHA_pa_40816_matching_results_wk24.RDS\"\n",
      "[1] \"GHA_pa_40817_matching_results_wk24.RDS\"\n",
      "[1] \"GHA_pa_40818_matching_results_wk24.RDS\"\n",
      "[1] \"GHA_pa_40820_matching_results_wk24.RDS\"\n",
      "[1] \"GHA_pa_40821_matching_results_wk24.RDS\"\n",
      "[1] \"GHA_pa_40822_matching_results_wk24.RDS\"\n",
      "[1] \"GHA_pa_40823_matching_results_wk24.RDS\"\n",
      "[1] \"GHA_pa_40824_matching_results_wk24.RDS\"\n",
      "[1] \"GHA_pa_40825_matching_results_wk24.RDS\"\n",
      "[1] \"GHA_pa_40826_matching_results_wk24.RDS\"\n",
      "[1] \"GHA_pa_40827_matching_results_wk24.RDS\"\n",
      "[1] \"GHA_pa_40828_matching_results_wk24.RDS\"\n",
      "[1] \"GHA_pa_40829_matching_results_wk24.RDS\"\n",
      "[1] \"GHA_pa_40830_matching_results_wk24.RDS\"\n",
      "[1] \"GHA_pa_40831_matching_results_wk24.RDS\"\n",
      "[1] \"GHA_pa_40832_matching_results_wk24.RDS\"\n",
      "[1] \"GHA_pa_40834_matching_results_wk24.RDS\"\n",
      "[1] \"GHA_pa_40835_matching_results_wk24.RDS\"\n",
      "[1] \"GHA_pa_40836_matching_results_wk24.RDS\"\n",
      "[1] \"GHA_pa_40838_matching_results_wk24.RDS\"\n",
      "[1] \"GHA_pa_40839_matching_results_wk24.RDS\"\n",
      "[1] \"GHA_pa_40840_matching_results_wk24.RDS\"\n",
      "[1] \"GHA_pa_40841_matching_results_wk24.RDS\"\n",
      "[1] \"GHA_pa_40842_matching_results_wk24.RDS\"\n",
      "[1] \"GHA_pa_40843_matching_results_wk24.RDS\"\n",
      "[1] \"GHA_pa_40844_matching_results_wk24.RDS\"\n",
      "[1] \"GHA_pa_40845_matching_results_wk24.RDS\"\n",
      "[1] \"GHA_pa_40846_matching_results_wk24.RDS\"\n",
      "[1] \"GHA_pa_40848_matching_results_wk24.RDS\"\n",
      "[1] \"GHA_pa_40849_matching_results_wk24.RDS\"\n",
      "[1] \"GHA_pa_40850_matching_results_wk24.RDS\"\n",
      "[1] \"GHA_pa_40851_matching_results_wk24.RDS\"\n",
      "[1] \"GHA_pa_40852_matching_results_wk24.RDS\"\n",
      "[1] \"GHA_pa_40853_matching_results_wk24.RDS\"\n",
      "[1] \"GHA_pa_40854_matching_results_wk24.RDS\"\n",
      "[1] \"GHA_pa_40855_matching_results_wk24.RDS\"\n",
      "[1] \"GHA_pa_40856_matching_results_wk24.RDS\"\n",
      "[1] \"GHA_pa_40857_matching_results_wk24.RDS\"\n",
      "[1] \"GHA_pa_40858_matching_results_wk24.RDS\"\n",
      "[1] \"GHA_pa_40859_matching_results_wk24.RDS\"\n",
      "[1] \"GHA_pa_40860_matching_results_wk24.RDS\"\n",
      "[1] \"GHA_pa_40861_matching_results_wk24.RDS\"\n",
      "[1] \"GHA_pa_40862_matching_results_wk24.RDS\"\n",
      "[1] \"GHA_pa_40863_matching_results_wk24.RDS\"\n",
      "[1] \"GHA_pa_40864_matching_results_wk24.RDS\"\n",
      "[1] \"GHA_pa_40865_matching_results_wk24.RDS\"\n",
      "[1] \"GHA_pa_40866_matching_results_wk24.RDS\"\n",
      "[1] \"GHA_pa_40867_matching_results_wk24.RDS\"\n",
      "[1] \"GHA_pa_40868_matching_results_wk24.RDS\"\n",
      "[1] \"GHA_pa_40869_matching_results_wk24.RDS\"\n",
      "[1] \"GHA_pa_40870_matching_results_wk24.RDS\"\n",
      "[1] \"GHA_pa_40871_matching_results_wk24.RDS\"\n",
      "[1] \"GHA_pa_40872_matching_results_wk24.RDS\"\n",
      "[1] \"GHA_pa_40873_matching_results_wk24.RDS\"\n",
      "[1] \"GHA_pa_40874_matching_results_wk24.RDS\"\n",
      "[1] \"GHA_pa_40875_matching_results_wk24.RDS\"\n",
      "[1] \"GHA_pa_40876_matching_results_wk24.RDS\"\n",
      "[1] \"GHA_pa_40877_matching_results_wk24.RDS\"\n",
      "[1] \"GHA_pa_40878_matching_results_wk24.RDS\"\n",
      "[1] \"GHA_pa_40879_matching_results_wk24.RDS\"\n",
      "[1] \"GHA_pa_40880_matching_results_wk24.RDS\"\n",
      "[1] \"GHA_pa_40881_matching_results_wk24.RDS\"\n",
      "[1] \"GHA_pa_40885_matching_results_wk24.RDS\"\n",
      "[1] \"GHA_pa_40886_matching_results_wk24.RDS\"\n",
      "[1] \"GHA_pa_40887_matching_results_wk24.RDS\"\n",
      "[1] \"GHA_pa_40889_matching_results_wk24.RDS\"\n",
      "[1] \"GHA_pa_40890_matching_results_wk24.RDS\"\n",
      "[1] \"GHA_pa_40892_matching_results_wk24.RDS\"\n",
      "[1] \"GHA_pa_40894_matching_results_wk24.RDS\"\n",
      "[1] \"GHA_pa_5151_matching_results_wk24.RDS\"\n",
      "[1] \"GHA_pa_5152_matching_results_wk24.RDS\"\n",
      "[1] \"GHA_pa_5153_matching_results_wk24.RDS\"\n",
      "[1] \"GHA_pa_5155_matching_results_wk24.RDS\"\n",
      "[1] \"GHA_pa_5173_matching_results_wk24.RDS\"\n",
      "[1] \"GHA_pa_5189_matching_results_wk24.RDS\"\n",
      "[1] \"GHA_pa_555547583_matching_results_wk24.RDS\"\n",
      "[1] \"GHA_pa_555625659_matching_results_wk24.RDS\"\n",
      "[1] \"GHA_pa_555703393_matching_results_wk24.RDS\"\n",
      "[1] \"GHA_pa_555703394_matching_results_wk24.RDS\"\n",
      "[1] \"GHA_pa_555703396_matching_results_wk24.RDS\"\n",
      "[1] \"GHA_pa_555703397_matching_results_wk24.RDS\"\n",
      "[1] \"GHA_pa_555703398_matching_results_wk24.RDS\"\n",
      "[1] \"GHA_pa_555703399_matching_results_wk24.RDS\"\n",
      "[1] \"GHA_pa_555703400_matching_results_wk24.RDS\"\n",
      "[1] \"GHA_pa_669_matching_results_wk24.RDS\"\n",
      "[1] \"GHA_pa_670_matching_results_wk24.RDS\"\n",
      "[1] \"GHA_pa_671_matching_results_wk24.RDS\"\n",
      "[1] \"GHA_pa_672_matching_results_wk24.RDS\"\n",
      "[1] \"GHA_pa_67965_matching_results_wk24.RDS\"\n",
      "[1] \"GHA_pa_67970_matching_results_wk24.RDS\"\n",
      "[1] \"GHA_pa_68788_matching_results_wk24.RDS\"\n",
      "[1] 250\n"
     ]
    }
   ],
   "source": [
    "f.path <- \"/projects/my-public-bucket/GEDI_global_PA_v2/\"\n",
    "#f.path <- \"s3://maap-ops-workspace/shared/leitoldv/GEDI_global_PA_v2/\"\n",
    "\n",
    "matched_PAs <- foreach(this_rds=matched_all, .combine = c, .packages=c('sp','magrittr', 'dplyr','tidyr','terra')) %do% {  #non-NA matched results\n",
    "  matched_PAs=c()\n",
    "  print(this_rds)\n",
    "  if(nchar(iso3)>3){\n",
    "    id_pa <- basename(this_rds)%>%readr::parse_number() %>% unique()  \n",
    "  } else {\n",
    "    id_pa <- basename(this_rds)%>%readr::parse_number() %>% unique()\n",
    "  }\n",
    "  #matched <- readRDS(s3_get(paste(f.path,\"WDPA_matching_results/\",iso3,\"_wk\",gediwk,\"/\",iso3,\"_pa_\",id_pa,\"_matching_results_wk\",gediwk,\".RDS\",sep=\"\")))\n",
    "  matched <- readRDS((paste(f.path,\"WDPA_matching_results/\",iso3,\"_wk\",gediwk,\"/\",iso3,\"_pa_\",id_pa,\"_matching_results_wk\",gediwk,\".RDS\",sep=\"\")))\n",
    "  if(!is.null(matched)){\n",
    "    if(nrow(matched)!=0){\n",
    "      matched_PAs=c(matched_PAs,this_rds) \n",
    "    }\n",
    "  }else {\n",
    "    # print(this_rds)\n",
    "    matched_PAs=matched_PAs\n",
    "  }\n",
    "  return(matched_PAs)\n",
    "}\n",
    "print(length(matched_PAs))\n"
   ]
  },
  {
   "cell_type": "code",
   "execution_count": 21,
   "id": "8b821070-c5c9-415d-a6ff-53ed18a2de95",
   "metadata": {},
   "outputs": [
    {
     "name": "stdout",
     "output_type": "stream",
     "text": [
      "[1] 250\n"
     ]
    }
   ],
   "source": [
    "print(length(matched_PAs))"
   ]
  },
  {
   "cell_type": "code",
   "execution_count": 22,
   "id": "ff11d29f-c2f7-44ca-8145-21c515897fd7",
   "metadata": {},
   "outputs": [],
   "source": [
    "flag <- \"run remaining\"\n",
    "#flag <- \"run all\""
   ]
  },
  {
   "cell_type": "code",
   "execution_count": 23,
   "id": "0a062203-2c43-46ec-a811-6dfc3b3ab110",
   "metadata": {},
   "outputs": [
    {
     "name": "stdout",
     "output_type": "stream",
     "text": [
      "Step 5 already done for GHA \n"
     ]
    },
    {
     "data": {
      "text/html": [
       "0"
      ],
      "text/latex": [
       "0"
      ],
      "text/markdown": [
       "0"
      ],
      "text/plain": [
       "[1] 0"
      ]
     },
     "metadata": {},
     "output_type": "display_data"
    }
   ],
   "source": [
    "f.path <- \"/projects/my-public-bucket/GEDI_global_PA_v2/\"\n",
    "#f.path <- \"s3://maap-ops-workspace/shared/leitoldv/GEDI_global_PA_v2/\"\n",
    "\n",
    "#flag <- \"run all\"\n",
    "#flag <- \"run remaining\"\n",
    "\n",
    "if(flag==\"run all\"){  #determine how many PAs to run the extraction process\n",
    "  matched_PAs <- matched_PAs\n",
    "  cat(\"Step 5: running extraction on all\", length(matched_PAs),\"of non-NA matched results in\", iso3,\"\\n\")\n",
    "} else if (flag==\"run remaining\"){\n",
    "  pattern1 = c(paste(\"wk\",gediwk,sep=\"\"),\"RDS\")\n",
    "  extracted_PAid <- list.files(paste(f.path,\"WDPA_extract/\",iso3,\"_wk\",gediwk,\"/\",sep=\"\"), full.names = F, pattern=paste0(pattern1, collapse=\"|\"))%>%\n",
    "    readr::parse_number() %>% unique()\n",
    "  matched_PA_id <- matched_PAs %>% readr::parse_number()\n",
    "  matched_PAdf <- cbind(matched_PAs, matched_PA_id)\n",
    "    for(i in 1:nrow(matched_PAdf)){\n",
    "    matched_PAdf[i,\"matched_PA_id\"] <- readr::parse_number(matched_PAs[i])\n",
    "    }\n",
    "  #runPA_id <- matched_PA_id[!(matched_PA_id %in% extracted_PAid)]\n",
    "  runPA_id <- matched_PAdf[matched_PAdf[,\"matched_PA_id\"] != extracted_PAid, \"matched_PA_id\"]\n",
    "  if (length(runPA_id)>0){\n",
    "    #Pattern2 <-  paste(runPA_id, collapse=\"|\")\n",
    "    #runPA <-  matched_PAs[grepl(Pattern2,matched_PAs)]\n",
    "    # runPA_ind <- str_detect(matched_PAs, paste(runPA_id, collapse = \"|\"))\n",
    "    #matched_PAs <- runPA\n",
    "    matched_PAs <- matched_PAdf[matched_PAdf[,\"matched_PA_id\"] != extracted_PAid, \"matched_PAs\"]\n",
    "  } else {\n",
    "    matched_PAs <- NULL\n",
    "    cat(\"Step 5 already done for\", iso3, \"\\n\")\n",
    "  }\n",
    "}\n",
    "\n",
    "length(matched_PAs)  ##remaining PAs to be extracted\n"
   ]
  },
  {
   "cell_type": "code",
   "execution_count": 24,
   "id": "38d17d28-ea3d-4cb9-9587-1e984164267f",
   "metadata": {},
   "outputs": [
    {
     "data": {
      "text/html": [
       "250"
      ],
      "text/latex": [
       "250"
      ],
      "text/markdown": [
       "250"
      ],
      "text/plain": [
       "[1] 250"
      ]
     },
     "metadata": {},
     "output_type": "display_data"
    },
    {
     "data": {
      "text/html": [
       "250"
      ],
      "text/latex": [
       "250"
      ],
      "text/markdown": [
       "250"
      ],
      "text/plain": [
       "[1] 250"
      ]
     },
     "metadata": {},
     "output_type": "display_data"
    }
   ],
   "source": [
    "length(matched_PA_id)\n",
    "length(extracted_PAid)"
   ]
  },
  {
   "cell_type": "code",
   "execution_count": 14,
   "id": "1564f7a2-4923-4933-b09b-6e08751abf60",
   "metadata": {},
   "outputs": [],
   "source": [
    "f.path <- \"s3://maap-ops-workspace/shared/leitoldv/GEDI_global_PA_v2/\""
   ]
  },
  {
   "cell_type": "code",
   "execution_count": 17,
   "id": "f785be65-c03d-465a-8f75-ba91121bef73",
   "metadata": {},
   "outputs": [],
   "source": [
    "#saveRDS(id_pa, file=paste(\"/projects/my-public-bucket/GEDI_global_PA_v2/WDPA_extract/\",iso3,\"_wk\",gediwk,\"/\",iso3,\"_pa_\", id_pa,\"_gedi_wk_\",gediwk,\"_conti_\",\"biome_\",\".RDS\", sep=\"\"))\n"
   ]
  },
  {
   "cell_type": "code",
   "execution_count": 18,
   "id": "a2daa25c-0961-4949-908e-d7bc577b5a3d",
   "metadata": {},
   "outputs": [
    {
     "data": {
      "text/html": [
       "1"
      ],
      "text/latex": [
       "1"
      ],
      "text/markdown": [
       "1"
      ],
      "text/plain": [
       "[1] 1"
      ]
     },
     "metadata": {},
     "output_type": "display_data"
    },
    {
     "data": {
      "text/plain": [
       "NULL"
      ]
     },
     "metadata": {},
     "output_type": "display_data"
    },
    {
     "name": "stdout",
     "output_type": "stream",
     "text": [
      "0.05058289 for extracting all PAs in GHA \n",
      "Done GEDI extraction for pa in  GHA \n"
     ]
    }
   ],
   "source": [
    "registerDoParallel(cores=round(mproc))\n",
    "getDoParWorkers()\n",
    "startTime <- Sys.time()\n",
    "\n",
    "foreach(this_rds=matched_PAs, .combine = foreach_rbind, .packages=c('sp','magrittr', 'dplyr','tidyr')) %dopar% {\n",
    "  cat(\"Extracting for no. \", match(this_rds,matched_PAs),\"pa out of\", length(matched_PAs),\"\\n\")\n",
    "  id_pa <- basename(this_rds) %>% readr::parse_number() %>% unique()\n",
    "  matched <- readRDS(s3_get(paste(f.path,\"WDPA_matching_results/\",iso3,\"_wk\",gediwk,\"/\",iso3,\"_pa_\",id_pa,\"_matching_results_wk\",gediwk,\".RDS\",sep=\"\")))\n",
    "#  matched$pa_id <- rep(id_pa, nrow(matched))\n",
    "  print(paste(\"PA id\",unique(matched$pa_id),sep=\" \"))\n",
    "\n",
    "  if (is.null(matched)==TRUE  | nrow(matched)==0) {\n",
    "    cat(\"Matched result is null for PA\", id_pa, \"quitting...\\n\")\n",
    "  } else if (!is.null(matched)==TRUE){\n",
    "    mras  <- tryCatch(matched2ras(matched),\n",
    "                      error=function(cond){\n",
    "                        message(cond)\n",
    "                        cat(\"Matched result is likely null for country\", iso3,\"pa\", id_pa, \"dimension of the match is\", dim(matched),\"\\n\")\n",
    "                        return(NULL)}) #convert the macthed df to a raster stack \n",
    "    print(table(mras$status[]))\n",
    "    cat(\"Rasterized results are balanced for PA\", id_pa, \"\\n\")\n",
    "    \n",
    "    if(table(mras$status[])[2]==0 | table(mras$status[])[1]==0 | is.null(mras)){\n",
    "      cat(\"Rasterized results unbalanced for PA\", id_pa, \"quitting...\\n\")\n",
    "    } else {\n",
    "      startTime <- Sys.time()\n",
    "      #iso_matched_gedi<- extract_gedi(matched=matched, mras = mras)  #run filtered csvs on mras for extarction\n",
    "      iso_matched_gedi <- extract_gedi(matched=matched, mras=mras, iso3=iso3)\n",
    "      tElapsed <- Sys.time()-startTime\n",
    "      cat(tElapsed, \"for extracting all PAs in\", iso3,\"\\n\")\n",
    "      iso_matched_gedi <-  iso_matched_gedi %>%\n",
    "            dplyr::select(\"pa_id\",\"status\",\"wwfbiom\",\"wwfecoreg\",\"pft\",\"region\",\n",
    "                          \"shot_number\",\"lat_lowestmode\",\"lon_lowestmode\",\n",
    "                          \"rh98\",\"agbd\",\"agbd_se\") #\"filename\",\"rh25\",\"rh50\",\"rh75\",\n",
    "    if (length(unique(iso_matched_gedi$wwfbiom)) >1){\n",
    "        pabiome <- iso_matched_gedi$wwfbiom %>% unique() %>% gsub(\"\\\\b(\\\\p{L})\\\\p{L}{2,}|.\",\"\\\\U\\\\1\",.,perl = TRUE)%>% str_c( collapse = \"+\")\n",
    "    } else if (length(unique(iso_matched_gedi$wwfbiom))==1){\n",
    "        pabiome <- iso_matched_gedi$wwfbiom %>% unique() %>% gsub('\\\\b(\\\\p{L})\\\\p{L}{2,}|.','\\\\U\\\\1',.,perl = TRUE)\n",
    "    } else {\n",
    "        pabiome <- iso_matched_gedi$wwfbiom %>% unique()\n",
    "    }\n",
    "    # papaddd <- unique(iso_matched_gedi$PADDD) %>% getmode()\n",
    "    continent <- unique(iso_matched_gedi$region) %>% getmode()\n",
    "    print(paste('output df',dim(iso_matched_gedi)))\n",
    "\n",
    "    dir.create(file.path(paste(\"/projects/my-public-bucket/GEDI_global_PA_v2/WDPA_extract/\",iso3,\"_wk\",gediwk,\"/\",sep=\"\")),recursive=TRUE)\n",
    "      saveRDS(iso_matched_gedi, file=paste(\"/projects/my-public-bucket/GEDI_global_PA_v2/WDPA_extract/\",iso3,\"_wk\",gediwk,\"/\",iso3,\"_pa_\", id_pa,\"_gedi_wk_\",gediwk,\"_conti_\",\"biome_\",pabiome,\".RDS\", sep=\"\"))\n",
    "#      write.csv(iso_matched_gedi, file=paste(\"/projects/my-public-bucket/GEDI_global_PA_v2/WDPA_extract/\",iso3,\"_wk\",gediwk,\"/\",iso3,\"_pa_\", id_pa,\"_iso_matched_gedi_sub_wk_\",gediwk,\".csv\", sep=\"\"))\n",
    "      cat(id_pa,\"in\",iso3,\"result is written to dir\\n\")\n",
    "\n",
    "    cat(\"PA#\",id_pa,\"in\",iso3,\"result is written to dir\\n\")\n",
    "    rm(iso_matched_gedi)\n",
    "    }\n",
    "  }\n",
    "  return(NULL)\n",
    "}\n",
    "\n",
    "stopImplicitCluster()\n",
    "tElapsed <- Sys.time()-startTime\n",
    "cat(tElapsed, \"for extracting all PAs in\", iso3,\"\\n\")\n",
    "cat(\"Done GEDI extraction for pa in \",iso3,\"\\n\")    \n",
    "\n"
   ]
  },
  {
   "cell_type": "code",
   "execution_count": null,
   "id": "78f45333-1411-4d15-afe0-8b8e764ac36d",
   "metadata": {},
   "outputs": [],
   "source": []
  },
  {
   "cell_type": "code",
   "execution_count": null,
   "id": "e6530b6d-7c70-4b5a-8480-163c57e9b04b",
   "metadata": {},
   "outputs": [],
   "source": []
  }
 ],
 "metadata": {
  "kernelspec": {
   "display_name": "R",
   "language": "R",
   "name": "ir"
  },
  "language_info": {
   "codemirror_mode": "r",
   "file_extension": ".r",
   "mimetype": "text/x-r-source",
   "name": "R",
   "pygments_lexer": "r",
   "version": "4.2.3"
  }
 },
 "nbformat": 4,
 "nbformat_minor": 5
}
