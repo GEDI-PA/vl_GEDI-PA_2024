{
 "cells": [
  {
   "cell_type": "code",
   "execution_count": 2,
   "id": "0df52297-a095-485b-aedb-db41187e38db",
   "metadata": {},
   "outputs": [
    {
     "name": "stderr",
     "output_type": "stream",
     "text": [
      "terra 1.7.29\n",
      "\n",
      "\n",
      "Attaching package: ‘dplyr’\n",
      "\n",
      "\n",
      "The following objects are masked from ‘package:terra’:\n",
      "\n",
      "    intersect, union\n",
      "\n",
      "\n",
      "The following objects are masked from ‘package:stats’:\n",
      "\n",
      "    filter, lag\n",
      "\n",
      "\n",
      "The following objects are masked from ‘package:base’:\n",
      "\n",
      "    intersect, setdiff, setequal, union\n",
      "\n",
      "\n",
      "Linking to GEOS 3.11.2, GDAL 3.7.0, PROJ 9.2.0; sf_use_s2() is TRUE\n",
      "\n"
     ]
    }
   ],
   "source": [
    "##------------------------------------------------------\n",
    "## STEP6: Calculating per pa summary stats from extracted csvs [FIGURE 4B] \n",
    "##------------------------------------------------------\n",
    "library(\"terra\")\n",
    "library(\"dplyr\")\n",
    "library(\"sf\")\n",
    "#library(\"s3\")\n",
    "library(\"sp\")\n",
    "library(\"foreach\")\n",
    "library(\"stringr\")\n",
    "library(\"aws.s3\")"
   ]
  },
  {
   "cell_type": "code",
   "execution_count": 23,
   "id": "c8e6d430-511d-444b-aeba-3fb528b8e3ce",
   "metadata": {},
   "outputs": [
    {
     "data": {
      "text/html": [
       "1621"
      ],
      "text/latex": [
       "1621"
      ],
      "text/markdown": [
       "1621"
      ],
      "text/plain": [
       "[1] 1621"
      ]
     },
     "metadata": {},
     "output_type": "display_data"
    },
    {
     "data": {
      "text/html": [
       "1621"
      ],
      "text/latex": [
       "1621"
      ],
      "text/markdown": [
       "1621"
      ],
      "text/plain": [
       "[1] 1621"
      ]
     },
     "metadata": {},
     "output_type": "display_data"
    }
   ],
   "source": [
    "#f.path <- \"s3://maap-ops-workspace/shared/leitoldv/GEDI_global_PA_v2/\"\n",
    "f.path <- \"/projects/my-public-bucket/GEDI_global_PA_v2/\"\n",
    "iso3 <- \"BRA\"\n",
    "gediwk <- 24\n",
    "#source(s3_get(paste(f.path,\"matching_func.R\",sep=\"\")))\n",
    "source(paste(f.path,\"vl_GEDI-PA_2024/matching_func_2024.R\",sep=\"\"))\n",
    "gedi_paf <- list.files(paste(f.path,\"WDPA_extract/pa_stats_ALL/\",sep=\"\"), pattern=\".csv\", full.names = TRUE)\n",
    "length(gedi_paf)\n",
    "gedi_paid <- basename(gedi_paf) %>% readr::parse_number() %>% unique()\n",
    "length(gedi_paid)"
   ]
  },
  {
   "cell_type": "code",
   "execution_count": 4,
   "id": "b4bc2d53-6f8b-4c65-96ce-ff66694d6c0e",
   "metadata": {},
   "outputs": [],
   "source": [
    "#length(unique(readr::parse_number(basename(gedi_paf))))\n",
    "#gedi_paf[which(duplicated(readr::parse_number(basename(gedi_paf))))]\n"
   ]
  },
  {
   "cell_type": "code",
   "execution_count": 3,
   "id": "500ff100-9ed9-4f94-a939-e3a39cb9c6f5",
   "metadata": {},
   "outputs": [],
   "source": [
    "pa_stats_summary_ALL <- matrix(data=NA, nrow=0, ncol=20)\n",
    "colnames(pa_stats_summary_ALL) <- c(\"pa_id\",\"count_0\",\"count_1\",\n",
    "                                    \"meanrh98_0\",\"meanrh98_1\",\"sdrh98_0\",\"sdrh98_1\",\n",
    "                                    \"meanagbd_0\",\"meanagbd_1\",\"sdagbd_0\",\"sdagbd_1\",\n",
    "                                    \"wwfbiom_0\",\"wwfbiom_1\",\"wwfecoreg_0\",\"wwfecoreg_1\",\n",
    "                                    \"REGION_0\",\"REGION_1\",\"PFT_0\",\"PFT_1\",\"iso3\")\n",
    "                                    \n",
    "write.csv(pa_stats_summary_ALL, row.names=FALSE,\n",
    "          file=paste(f.path,\"WDPA_extract/pa_stats/\",iso3,\"_pa_stats_summary_wk\",gediwk,\"_2.csv\", sep=\"\"))\n"
   ]
  },
  {
   "cell_type": "code",
   "execution_count": 11,
   "id": "0f0b8044-6e8c-4f0e-9b1b-7bde2da4a07f",
   "metadata": {},
   "outputs": [
    {
     "name": "stdout",
     "output_type": "stream",
     "text": [
      "i =  1489  : calculating summary stats for PA /projects/my-public-bucket/GEDI_global_PA_v2/WDPA_extract/pa_stats_ALL//BRA_pa_555637330_gedi_wk24_TSMBF.csv \n",
      "i =  1490  : calculating summary stats for PA /projects/my-public-bucket/GEDI_global_PA_v2/WDPA_extract/pa_stats_ALL//BRA_pa_555637331_gedi_wk24_TSMBF+TSGSS+M.csv \n",
      "i =  1491  : calculating summary stats for PA /projects/my-public-bucket/GEDI_global_PA_v2/WDPA_extract/pa_stats_ALL//BRA_pa_555682066_gedi_wk24_TSGSS.csv \n",
      "i =  1492  : calculating summary stats for PA /projects/my-public-bucket/GEDI_global_PA_v2/WDPA_extract/pa_stats_ALL//BRA_pa_555682068_gedi_wk24_TSMBF.csv \n",
      "i =  1493  : calculating summary stats for PA /projects/my-public-bucket/GEDI_global_PA_v2/WDPA_extract/pa_stats_ALL//BRA_pa_555682072_gedi_wk24_TSMBF.csv \n",
      "i =  1494  : calculating summary stats for PA /projects/my-public-bucket/GEDI_global_PA_v2/WDPA_extract/pa_stats_ALL//BRA_pa_555682075_gedi_wk24_TSMBF.csv \n",
      "i =  1495  : calculating summary stats for PA /projects/my-public-bucket/GEDI_global_PA_v2/WDPA_extract/pa_stats_ALL//BRA_pa_555682079_gedi_wk24_TSMBF.csv \n",
      "i =  1496  : calculating summary stats for PA /projects/my-public-bucket/GEDI_global_PA_v2/WDPA_extract/pa_stats_ALL//BRA_pa_555682080_gedi_wk24_TSMBF.csv \n",
      "i =  1497  : calculating summary stats for PA /projects/my-public-bucket/GEDI_global_PA_v2/WDPA_extract/pa_stats_ALL//BRA_pa_555682082_gedi_wk24_TSMBF.csv \n",
      "i =  1498  : calculating summary stats for PA /projects/my-public-bucket/GEDI_global_PA_v2/WDPA_extract/pa_stats_ALL//BRA_pa_555682083_gedi_wk24_TSMBF.csv \n",
      "i =  1499  : calculating summary stats for PA /projects/my-public-bucket/GEDI_global_PA_v2/WDPA_extract/pa_stats_ALL//BRA_pa_555682084_gedi_wk24_TSGSS.csv \n",
      "i =  1500  : calculating summary stats for PA /projects/my-public-bucket/GEDI_global_PA_v2/WDPA_extract/pa_stats_ALL//BRA_pa_555682087_gedi_wk24_TSGSS.csv \n",
      "i =  1501  : calculating summary stats for PA /projects/my-public-bucket/GEDI_global_PA_v2/WDPA_extract/pa_stats_ALL//BRA_pa_555682089_gedi_wk24_TSMBF.csv \n",
      "i =  1502  : calculating summary stats for PA /projects/my-public-bucket/GEDI_global_PA_v2/WDPA_extract/pa_stats_ALL//BRA_pa_555682090_gedi_wk24_TSMBF.csv \n",
      "i =  1503  : calculating summary stats for PA /projects/my-public-bucket/GEDI_global_PA_v2/WDPA_extract/pa_stats_ALL//BRA_pa_555682093_gedi_wk24_TSMBF.csv \n",
      "i =  1504  : calculating summary stats for PA /projects/my-public-bucket/GEDI_global_PA_v2/WDPA_extract/pa_stats_ALL//BRA_pa_555682098_gedi_wk24_TSMBF.csv \n",
      "i =  1505  : calculating summary stats for PA /projects/my-public-bucket/GEDI_global_PA_v2/WDPA_extract/pa_stats_ALL//BRA_pa_555682099_gedi_wk24_TSGSS.csv \n",
      "i =  1506  : calculating summary stats for PA /projects/my-public-bucket/GEDI_global_PA_v2/WDPA_extract/pa_stats_ALL//BRA_pa_555682100_gedi_wk24_TSMBF.csv \n",
      "i =  1507  : calculating summary stats for PA /projects/my-public-bucket/GEDI_global_PA_v2/WDPA_extract/pa_stats_ALL//BRA_pa_555682102_gedi_wk24_TSGSS.csv \n",
      "i =  1508  : calculating summary stats for PA /projects/my-public-bucket/GEDI_global_PA_v2/WDPA_extract/pa_stats_ALL//BRA_pa_555682103_gedi_wk24_TSGSS.csv \n",
      "i =  1509  : calculating summary stats for PA /projects/my-public-bucket/GEDI_global_PA_v2/WDPA_extract/pa_stats_ALL//BRA_pa_555682104_gedi_wk24_TSMBF.csv \n",
      "i =  1510  : calculating summary stats for PA /projects/my-public-bucket/GEDI_global_PA_v2/WDPA_extract/pa_stats_ALL//BRA_pa_555682105_gedi_wk24_TSMBF.csv \n",
      "i =  1511  : calculating summary stats for PA /projects/my-public-bucket/GEDI_global_PA_v2/WDPA_extract/pa_stats_ALL//BRA_pa_555682109_gedi_wk24_TSDBF.csv \n",
      "i =  1512  : calculating summary stats for PA /projects/my-public-bucket/GEDI_global_PA_v2/WDPA_extract/pa_stats_ALL//BRA_pa_555682113_gedi_wk24_TSMBF.csv \n",
      "i =  1513  : calculating summary stats for PA /projects/my-public-bucket/GEDI_global_PA_v2/WDPA_extract/pa_stats_ALL//BRA_pa_555682114_gedi_wk24_TSMBF.csv \n",
      "i =  1514  : calculating summary stats for PA /projects/my-public-bucket/GEDI_global_PA_v2/WDPA_extract/pa_stats_ALL//BRA_pa_555682115_gedi_wk24_TSGSS.csv \n",
      "i =  1515  : calculating summary stats for PA /projects/my-public-bucket/GEDI_global_PA_v2/WDPA_extract/pa_stats_ALL//BRA_pa_555682123_gedi_wk24_TSMBF.csv \n",
      "i =  1516  : calculating summary stats for PA /projects/my-public-bucket/GEDI_global_PA_v2/WDPA_extract/pa_stats_ALL//BRA_pa_555682128_gedi_wk24_TSMBF.csv \n",
      "i =  1517  : calculating summary stats for PA /projects/my-public-bucket/GEDI_global_PA_v2/WDPA_extract/pa_stats_ALL//BRA_pa_555682131_gedi_wk24_TSMBF.csv \n",
      "i =  1518  : calculating summary stats for PA /projects/my-public-bucket/GEDI_global_PA_v2/WDPA_extract/pa_stats_ALL//BRA_pa_555682134_gedi_wk24_TSGSS.csv \n",
      "i =  1519  : calculating summary stats for PA /projects/my-public-bucket/GEDI_global_PA_v2/WDPA_extract/pa_stats_ALL//BRA_pa_555682140_gedi_wk24_TSMBF.csv \n",
      "i =  1520  : calculating summary stats for PA /projects/my-public-bucket/GEDI_global_PA_v2/WDPA_extract/pa_stats_ALL//BRA_pa_555682148_gedi_wk24_TSGSS.csv \n",
      "i =  1521  : calculating summary stats for PA /projects/my-public-bucket/GEDI_global_PA_v2/WDPA_extract/pa_stats_ALL//BRA_pa_555682151_gedi_wk24_TSMBF.csv \n",
      "i =  1522  : calculating summary stats for PA /projects/my-public-bucket/GEDI_global_PA_v2/WDPA_extract/pa_stats_ALL//BRA_pa_555682152_gedi_wk24_TSMBF.csv \n",
      "i =  1523  : calculating summary stats for PA /projects/my-public-bucket/GEDI_global_PA_v2/WDPA_extract/pa_stats_ALL//BRA_pa_555682153_gedi_wk24_TSGSS.csv \n",
      "i =  1524  : calculating summary stats for PA /projects/my-public-bucket/GEDI_global_PA_v2/WDPA_extract/pa_stats_ALL//BRA_pa_555682154_gedi_wk24_TSMBF.csv \n",
      "i =  1525  : calculating summary stats for PA /projects/my-public-bucket/GEDI_global_PA_v2/WDPA_extract/pa_stats_ALL//BRA_pa_555682162_gedi_wk24_TSGSS.csv \n",
      "i =  1526  : calculating summary stats for PA /projects/my-public-bucket/GEDI_global_PA_v2/WDPA_extract/pa_stats_ALL//BRA_pa_555682163_gedi_wk24_TSMBF.csv \n",
      "i =  1527  : calculating summary stats for PA /projects/my-public-bucket/GEDI_global_PA_v2/WDPA_extract/pa_stats_ALL//BRA_pa_555682167_gedi_wk24_TSGSS.csv \n",
      "i =  1528  : calculating summary stats for PA /projects/my-public-bucket/GEDI_global_PA_v2/WDPA_extract/pa_stats_ALL//BRA_pa_555682168_gedi_wk24_TSMBF.csv \n",
      "i =  1529  : calculating summary stats for PA /projects/my-public-bucket/GEDI_global_PA_v2/WDPA_extract/pa_stats_ALL//BRA_pa_555682169_gedi_wk24_TSGSS.csv \n",
      "i =  1530  : calculating summary stats for PA /projects/my-public-bucket/GEDI_global_PA_v2/WDPA_extract/pa_stats_ALL//BRA_pa_555682173_gedi_wk24_TSMBF.csv \n",
      "i =  1531  : calculating summary stats for PA /projects/my-public-bucket/GEDI_global_PA_v2/WDPA_extract/pa_stats_ALL//BRA_pa_555682187_gedi_wk24_TSMBF.csv \n",
      "i =  1532  : calculating summary stats for PA /projects/my-public-bucket/GEDI_global_PA_v2/WDPA_extract/pa_stats_ALL//BRA_pa_555682189_gedi_wk24_TSMBF.csv \n",
      "i =  1533  : calculating summary stats for PA /projects/my-public-bucket/GEDI_global_PA_v2/WDPA_extract/pa_stats_ALL//BRA_pa_555682190_gedi_wk24_TSGSS.csv \n",
      "i =  1534  : calculating summary stats for PA /projects/my-public-bucket/GEDI_global_PA_v2/WDPA_extract/pa_stats_ALL//BRA_pa_555682192_gedi_wk24_TSGSS.csv \n",
      "i =  1535  : calculating summary stats for PA /projects/my-public-bucket/GEDI_global_PA_v2/WDPA_extract/pa_stats_ALL//BRA_pa_555682194_gedi_wk24_TSGSS.csv \n",
      "i =  1536  : calculating summary stats for PA /projects/my-public-bucket/GEDI_global_PA_v2/WDPA_extract/pa_stats_ALL//BRA_pa_555682195_gedi_wk24_M.csv \n",
      "i =  1537  : calculating summary stats for PA /projects/my-public-bucket/GEDI_global_PA_v2/WDPA_extract/pa_stats_ALL//BRA_pa_555682197_gedi_wk24_TSGSS.csv \n",
      "i =  1538  : calculating summary stats for PA /projects/my-public-bucket/GEDI_global_PA_v2/WDPA_extract/pa_stats_ALL//BRA_pa_555682199_gedi_wk24_TSMBF.csv \n",
      "i =  1539  : calculating summary stats for PA /projects/my-public-bucket/GEDI_global_PA_v2/WDPA_extract/pa_stats_ALL//BRA_pa_555682204_gedi_wk24_TSMBF.csv \n",
      "i =  1540  : calculating summary stats for PA /projects/my-public-bucket/GEDI_global_PA_v2/WDPA_extract/pa_stats_ALL//BRA_pa_555682206_gedi_wk24_TSMBF.csv \n",
      "i =  1541  : calculating summary stats for PA /projects/my-public-bucket/GEDI_global_PA_v2/WDPA_extract/pa_stats_ALL//BRA_pa_555682212_gedi_wk24_TSMBF.csv \n",
      "i =  1542  : calculating summary stats for PA /projects/my-public-bucket/GEDI_global_PA_v2/WDPA_extract/pa_stats_ALL//BRA_pa_555682213_gedi_wk24_TSMBF.csv \n",
      "i =  1543  : calculating summary stats for PA /projects/my-public-bucket/GEDI_global_PA_v2/WDPA_extract/pa_stats_ALL//BRA_pa_555682216_gedi_wk24_TSGSS.csv \n",
      "i =  1544  : calculating summary stats for PA /projects/my-public-bucket/GEDI_global_PA_v2/WDPA_extract/pa_stats_ALL//BRA_pa_555682217_gedi_wk24_TSGSS.csv \n",
      "i =  1545  : calculating summary stats for PA /projects/my-public-bucket/GEDI_global_PA_v2/WDPA_extract/pa_stats_ALL//BRA_pa_555682224_gedi_wk24_TSMBF.csv \n",
      "i =  1546  : calculating summary stats for PA /projects/my-public-bucket/GEDI_global_PA_v2/WDPA_extract/pa_stats_ALL//BRA_pa_555682226_gedi_wk24_TSGSS.csv \n",
      "i =  1547  : calculating summary stats for PA /projects/my-public-bucket/GEDI_global_PA_v2/WDPA_extract/pa_stats_ALL//BRA_pa_555682228_gedi_wk24_TSMBF.csv \n",
      "i =  1548  : calculating summary stats for PA /projects/my-public-bucket/GEDI_global_PA_v2/WDPA_extract/pa_stats_ALL//BRA_pa_555682232_gedi_wk24_TSMBF.csv \n",
      "i =  1549  : calculating summary stats for PA /projects/my-public-bucket/GEDI_global_PA_v2/WDPA_extract/pa_stats_ALL//BRA_pa_555682234_gedi_wk24_TSGSS.csv \n",
      "i =  1550  : calculating summary stats for PA /projects/my-public-bucket/GEDI_global_PA_v2/WDPA_extract/pa_stats_ALL//BRA_pa_555682248_gedi_wk24_TSMBF.csv \n",
      "i =  1551  : calculating summary stats for PA /projects/my-public-bucket/GEDI_global_PA_v2/WDPA_extract/pa_stats_ALL//BRA_pa_555682250_gedi_wk24_TSMBF.csv \n",
      "i =  1552  : calculating summary stats for PA /projects/my-public-bucket/GEDI_global_PA_v2/WDPA_extract/pa_stats_ALL//BRA_pa_555682251_gedi_wk24_DXS.csv \n",
      "i =  1553  : calculating summary stats for PA /projects/my-public-bucket/GEDI_global_PA_v2/WDPA_extract/pa_stats_ALL//BRA_pa_555682258_gedi_wk24_.csv \n",
      "BRA /projects/my-public-bucket/GEDI_global_PA_v2/WDPA_extract/pa_stats_ALL//BRA_pa_555682258_gedi_wk24_.csv has 0 protected or treatment \n",
      "i =  1554  : calculating summary stats for PA /projects/my-public-bucket/GEDI_global_PA_v2/WDPA_extract/pa_stats_ALL//BRA_pa_555682259_gedi_wk24_TSGSS.csv \n",
      "i =  1555  : calculating summary stats for PA /projects/my-public-bucket/GEDI_global_PA_v2/WDPA_extract/pa_stats_ALL//BRA_pa_555682261_gedi_wk24_TSMBF.csv \n",
      "i =  1556  : calculating summary stats for PA /projects/my-public-bucket/GEDI_global_PA_v2/WDPA_extract/pa_stats_ALL//BRA_pa_555682269_gedi_wk24_TSMBF.csv \n",
      "i =  1557  : calculating summary stats for PA /projects/my-public-bucket/GEDI_global_PA_v2/WDPA_extract/pa_stats_ALL//BRA_pa_555682270_gedi_wk24_TSMBF.csv \n",
      "i =  1558  : calculating summary stats for PA /projects/my-public-bucket/GEDI_global_PA_v2/WDPA_extract/pa_stats_ALL//BRA_pa_555682271_gedi_wk24_TSGSS.csv \n",
      "i =  1559  : calculating summary stats for PA /projects/my-public-bucket/GEDI_global_PA_v2/WDPA_extract/pa_stats_ALL//BRA_pa_555682274_gedi_wk24_TSMBF.csv \n",
      "i =  1560  : calculating summary stats for PA /projects/my-public-bucket/GEDI_global_PA_v2/WDPA_extract/pa_stats_ALL//BRA_pa_555682276_gedi_wk24_TSMBF.csv \n",
      "i =  1561  : calculating summary stats for PA /projects/my-public-bucket/GEDI_global_PA_v2/WDPA_extract/pa_stats_ALL//BRA_pa_555682279_gedi_wk24_FGS+TSDBF.csv \n",
      "i =  1562  : calculating summary stats for PA /projects/my-public-bucket/GEDI_global_PA_v2/WDPA_extract/pa_stats_ALL//BRA_pa_555682283_gedi_wk24_TSGSS.csv \n",
      "i =  1563  : calculating summary stats for PA /projects/my-public-bucket/GEDI_global_PA_v2/WDPA_extract/pa_stats_ALL//BRA_pa_555682284_gedi_wk24_TSMBF.csv \n",
      "i =  1564  : calculating summary stats for PA /projects/my-public-bucket/GEDI_global_PA_v2/WDPA_extract/pa_stats_ALL//BRA_pa_555682286_gedi_wk24_TSMBF.csv \n",
      "i =  1565  : calculating summary stats for PA /projects/my-public-bucket/GEDI_global_PA_v2/WDPA_extract/pa_stats_ALL//BRA_pa_555682287_gedi_wk24_TSGSS.csv \n",
      "i =  1566  : calculating summary stats for PA /projects/my-public-bucket/GEDI_global_PA_v2/WDPA_extract/pa_stats_ALL//BRA_pa_555682289_gedi_wk24_TSMBF.csv \n",
      "i =  1567  : calculating summary stats for PA /projects/my-public-bucket/GEDI_global_PA_v2/WDPA_extract/pa_stats_ALL//BRA_pa_555682292_gedi_wk24_TSMBF.csv \n",
      "i =  1568  : calculating summary stats for PA /projects/my-public-bucket/GEDI_global_PA_v2/WDPA_extract/pa_stats_ALL//BRA_pa_555682297_gedi_wk24_TSGSS.csv \n",
      "i =  1569  : calculating summary stats for PA /projects/my-public-bucket/GEDI_global_PA_v2/WDPA_extract/pa_stats_ALL//BRA_pa_555682298_gedi_wk24_TSMBF.csv \n",
      "i =  1570  : calculating summary stats for PA /projects/my-public-bucket/GEDI_global_PA_v2/WDPA_extract/pa_stats_ALL//BRA_pa_555682303_gedi_wk24_TSGSS.csv \n",
      "i =  1571  : calculating summary stats for PA /projects/my-public-bucket/GEDI_global_PA_v2/WDPA_extract/pa_stats_ALL//BRA_pa_555682306_gedi_wk24_TSMBF.csv \n",
      "i =  1572  : calculating summary stats for PA /projects/my-public-bucket/GEDI_global_PA_v2/WDPA_extract/pa_stats_ALL//BRA_pa_555682311_gedi_wk24_TSMBF.csv \n",
      "i =  1573  : calculating summary stats for PA /projects/my-public-bucket/GEDI_global_PA_v2/WDPA_extract/pa_stats_ALL//BRA_pa_555682315_gedi_wk24_TSMBF.csv \n",
      "i =  1574  : calculating summary stats for PA /projects/my-public-bucket/GEDI_global_PA_v2/WDPA_extract/pa_stats_ALL//BRA_pa_555682318_gedi_wk24_TSGSS.csv \n",
      "i =  1575  : calculating summary stats for PA /projects/my-public-bucket/GEDI_global_PA_v2/WDPA_extract/pa_stats_ALL//BRA_pa_555682325_gedi_wk24_TSMBF.csv \n",
      "i =  1576  : calculating summary stats for PA /projects/my-public-bucket/GEDI_global_PA_v2/WDPA_extract/pa_stats_ALL//BRA_pa_555682328_gedi_wk24_TSMBF.csv \n",
      "i =  1577  : calculating summary stats for PA /projects/my-public-bucket/GEDI_global_PA_v2/WDPA_extract/pa_stats_ALL//BRA_pa_555682331_gedi_wk24_TSMBF.csv \n",
      "i =  1578  : calculating summary stats for PA /projects/my-public-bucket/GEDI_global_PA_v2/WDPA_extract/pa_stats_ALL//BRA_pa_555682334_gedi_wk24_TSMBF.csv \n",
      "i =  1579  : calculating summary stats for PA /projects/my-public-bucket/GEDI_global_PA_v2/WDPA_extract/pa_stats_ALL//BRA_pa_555682337_gedi_wk24_TSMBF.csv \n",
      "i =  1580  : calculating summary stats for PA /projects/my-public-bucket/GEDI_global_PA_v2/WDPA_extract/pa_stats_ALL//BRA_pa_555682338_gedi_wk24_TSMBF.csv \n",
      "i =  1581  : calculating summary stats for PA /projects/my-public-bucket/GEDI_global_PA_v2/WDPA_extract/pa_stats_ALL//BRA_pa_555682341_gedi_wk24_TSMBF.csv \n",
      "i =  1582  : calculating summary stats for PA /projects/my-public-bucket/GEDI_global_PA_v2/WDPA_extract/pa_stats_ALL//BRA_pa_555682345_gedi_wk24_TSMBF.csv \n",
      "i =  1583  : calculating summary stats for PA /projects/my-public-bucket/GEDI_global_PA_v2/WDPA_extract/pa_stats_ALL//BRA_pa_555682346_gedi_wk24_TSGSS.csv \n",
      "i =  1584  : calculating summary stats for PA /projects/my-public-bucket/GEDI_global_PA_v2/WDPA_extract/pa_stats_ALL//BRA_pa_555682347_gedi_wk24_TSGSS+TSMBF.csv \n",
      "i =  1585  : calculating summary stats for PA /projects/my-public-bucket/GEDI_global_PA_v2/WDPA_extract/pa_stats_ALL//BRA_pa_555682349_gedi_wk24_TSGSS.csv \n",
      "i =  1586  : calculating summary stats for PA /projects/my-public-bucket/GEDI_global_PA_v2/WDPA_extract/pa_stats_ALL//BRA_pa_555682350_gedi_wk24_TSMBF.csv \n",
      "i =  1587  : calculating summary stats for PA /projects/my-public-bucket/GEDI_global_PA_v2/WDPA_extract/pa_stats_ALL//BRA_pa_56_gedi_wk24_TSMBF.csv \n",
      "i =  1588  : calculating summary stats for PA /projects/my-public-bucket/GEDI_global_PA_v2/WDPA_extract/pa_stats_ALL//BRA_pa_57_gedi_wk24_TSMBF+M.csv \n",
      "i =  1589  : calculating summary stats for PA /projects/my-public-bucket/GEDI_global_PA_v2/WDPA_extract/pa_stats_ALL//BRA_pa_58_gedi_wk24_TSGSS+TSMBF.csv \n",
      "i =  1590  : calculating summary stats for PA /projects/my-public-bucket/GEDI_global_PA_v2/WDPA_extract/pa_stats_ALL//BRA_pa_59_gedi_wk24_TSGSS.csv \n",
      "i =  1591  : calculating summary stats for PA /projects/my-public-bucket/GEDI_global_PA_v2/WDPA_extract/pa_stats_ALL//BRA_pa_60_gedi_wk24_TSMBF.csv \n",
      "i =  1592  : calculating summary stats for PA /projects/my-public-bucket/GEDI_global_PA_v2/WDPA_extract/pa_stats_ALL//BRA_pa_6074_gedi_wk24_TSMBF.csv \n",
      "i =  1593  : calculating summary stats for PA /projects/my-public-bucket/GEDI_global_PA_v2/WDPA_extract/pa_stats_ALL//BRA_pa_61_gedi_wk24_TSMBF.csv \n",
      "i =  1594  : calculating summary stats for PA /projects/my-public-bucket/GEDI_global_PA_v2/WDPA_extract/pa_stats_ALL//BRA_pa_61690_gedi_wk24_DXS.csv \n",
      "i =  1595  : calculating summary stats for PA /projects/my-public-bucket/GEDI_global_PA_v2/WDPA_extract/pa_stats_ALL//BRA_pa_62_gedi_wk24_TSGSS.csv \n",
      "i =  1596  : calculating summary stats for PA /projects/my-public-bucket/GEDI_global_PA_v2/WDPA_extract/pa_stats_ALL//BRA_pa_64_gedi_wk24_TSDBF+DXS.csv \n",
      "i =  1597  : calculating summary stats for PA /projects/my-public-bucket/GEDI_global_PA_v2/WDPA_extract/pa_stats_ALL//BRA_pa_65_gedi_wk24_TSGSS.csv \n",
      "i =  1598  : calculating summary stats for PA /projects/my-public-bucket/GEDI_global_PA_v2/WDPA_extract/pa_stats_ALL//BRA_pa_66_gedi_wk24_TSMBF.csv \n",
      "i =  1599  : calculating summary stats for PA /projects/my-public-bucket/GEDI_global_PA_v2/WDPA_extract/pa_stats_ALL//BRA_pa_67_gedi_wk24_TSGSS.csv \n",
      "i =  1600  : calculating summary stats for PA /projects/my-public-bucket/GEDI_global_PA_v2/WDPA_extract/pa_stats_ALL//BRA_pa_67692_gedi_wk24_TSMBF.csv \n",
      "i =  1601  : calculating summary stats for PA /projects/my-public-bucket/GEDI_global_PA_v2/WDPA_extract/pa_stats_ALL//BRA_pa_67816_gedi_wk24_FGS+TSDBF.csv \n",
      "i =  1602  : calculating summary stats for PA /projects/my-public-bucket/GEDI_global_PA_v2/WDPA_extract/pa_stats_ALL//BRA_pa_67817_gedi_wk24_TSGSS+TSMBF.csv \n",
      "i =  1603  : calculating summary stats for PA /projects/my-public-bucket/GEDI_global_PA_v2/WDPA_extract/pa_stats_ALL//BRA_pa_68_gedi_wk24_TSMBF.csv \n",
      "i =  1604  : calculating summary stats for PA /projects/my-public-bucket/GEDI_global_PA_v2/WDPA_extract/pa_stats_ALL//BRA_pa_69_gedi_wk24_TSGSS+TSMBF.csv \n",
      "i =  1605  : calculating summary stats for PA /projects/my-public-bucket/GEDI_global_PA_v2/WDPA_extract/pa_stats_ALL//BRA_pa_70_gedi_wk24_TSMBF+TSGSS.csv \n",
      "i =  1606  : calculating summary stats for PA /projects/my-public-bucket/GEDI_global_PA_v2/WDPA_extract/pa_stats_ALL//BRA_pa_71_gedi_wk24_TSMBF.csv \n",
      "i =  1607  : calculating summary stats for PA /projects/my-public-bucket/GEDI_global_PA_v2/WDPA_extract/pa_stats_ALL//BRA_pa_72_gedi_wk24_TSMBF.csv \n",
      "i =  1608  : calculating summary stats for PA /projects/my-public-bucket/GEDI_global_PA_v2/WDPA_extract/pa_stats_ALL//BRA_pa_73_gedi_wk24_TSMBF.csv \n",
      "i =  1609  : calculating summary stats for PA /projects/my-public-bucket/GEDI_global_PA_v2/WDPA_extract/pa_stats_ALL//BRA_pa_74_gedi_wk24_TSMBF.csv \n",
      "i =  1610  : calculating summary stats for PA /projects/my-public-bucket/GEDI_global_PA_v2/WDPA_extract/pa_stats_ALL//BRA_pa_75_gedi_wk24_DXS+TSMBF.csv \n",
      "i =  1611  : calculating summary stats for PA /projects/my-public-bucket/GEDI_global_PA_v2/WDPA_extract/pa_stats_ALL//BRA_pa_7906_gedi_wk24_TSMBF+M.csv \n",
      "i =  1612  : calculating summary stats for PA /projects/my-public-bucket/GEDI_global_PA_v2/WDPA_extract/pa_stats_ALL//BRA_pa_7908_gedi_wk24_TSGSS+TSMBF.csv \n",
      "i =  1613  : calculating summary stats for PA /projects/my-public-bucket/GEDI_global_PA_v2/WDPA_extract/pa_stats_ALL//BRA_pa_81044_gedi_wk24_TSMBF.csv \n",
      "i =  1614  : calculating summary stats for PA /projects/my-public-bucket/GEDI_global_PA_v2/WDPA_extract/pa_stats_ALL//BRA_pa_81048_gedi_wk24_TSMBF.csv \n",
      "i =  1615  : calculating summary stats for PA /projects/my-public-bucket/GEDI_global_PA_v2/WDPA_extract/pa_stats_ALL//BRA_pa_81051_gedi_wk24_TSMBF.csv \n",
      "i =  1616  : calculating summary stats for PA /projects/my-public-bucket/GEDI_global_PA_v2/WDPA_extract/pa_stats_ALL//BRA_pa_81055_gedi_wk24_TSMBF.csv \n",
      "i =  1617  : calculating summary stats for PA /projects/my-public-bucket/GEDI_global_PA_v2/WDPA_extract/pa_stats_ALL//BRA_pa_81058_gedi_wk24_TSMBF+M.csv \n",
      "i =  1618  : calculating summary stats for PA /projects/my-public-bucket/GEDI_global_PA_v2/WDPA_extract/pa_stats_ALL//BRA_pa_900630_gedi_wk24_TSGSS.csv \n",
      "i =  1619  : calculating summary stats for PA /projects/my-public-bucket/GEDI_global_PA_v2/WDPA_extract/pa_stats_ALL//BRA_pa_94063_gedi_wk24_TSGSS+TSMBF.csv \n",
      "i =  1620  : calculating summary stats for PA /projects/my-public-bucket/GEDI_global_PA_v2/WDPA_extract/pa_stats_ALL//BRA_pa_94064_gedi_wk24_TSMBF.csv \n",
      "i =  1621  : calculating summary stats for PA /projects/my-public-bucket/GEDI_global_PA_v2/WDPA_extract/pa_stats_ALL//BRA_pa_95320_gedi_wk24_TSMBF.csv \n",
      "Done summarizing pa-level stats for region BRA \n"
     ]
    }
   ],
   "source": [
    "pa_stats_summary_ALL <- read.csv(paste(f.path,\"WDPA_extract/pa_stats/\",iso3,\"_pa_stats_summary_wk\",gediwk,\"_2.csv\", sep=\"\"))\n",
    "#pa_stats_summary_ALL\n",
    "\n",
    "for(i in 1489:length(gedi_paf)){\n",
    "#for(i in 1:length(gedi_paf)){\n",
    "\n",
    "    pa_stats_summary_ALL <- read.csv(paste(f.path,\"WDPA_extract/pa_stats/\",iso3,\"_pa_stats_summary_wk\",gediwk,\"_2.csv\", sep=\"\"))\n",
    "    \n",
    "    this_paf <- gedi_paf[i]\n",
    "    cat(paste(\"i = \", i, \" : calculating summary stats for PA\",this_paf,\"\\n\"))\n",
    "    pa_metrics <- read.csv(this_paf) #%>% unique()\n",
    "    \n",
    "    if (length(table(pa_metrics$status))<2) {\n",
    "        cat(iso3, this_paf, \"has 0 protected or treatment \\n\")\n",
    "    } else if (table(pa_metrics$status)[1]!=0 && table(pa_metrics$status)[2]!=0) {\n",
    "    #filter the datafrme by number of shots in each cell, which is equivalent to the number of occurence of each unique UID code\n",
    "##    tt <- table(pa_metrics$UID)\n",
    "##    qcellid <- table(pa_metrics$UID)[tt>5] %>% names()\n",
    "##    pa_metrics_filtered <- pa_metrics %>% dplyr::filter(UID %in% qcellid)\n",
    "    #calc summary stats for each country \n",
    "    #pa_stats_summary <- pa_metrics_filtered %>%\n",
    "        pa_stats_summary <- pa_metrics %>%\n",
    "        group_by(status) %>%\n",
    "        dplyr::mutate(pa_id=as.character(pa_id)) %>%\n",
    "        dplyr::summarise(pa_id=na.omit(unique(pa_id)),\n",
    "                       count=length(rh98),\n",
    "                       meanrh98=mean(rh98, na.rm=TRUE), sdrh98=sd(rh98, na.rm=TRUE),\n",
    "                       meanagbd=mean(agbd, na.rm=TRUE), sdagbd=sd(agbd, na.rm=TRUE),\n",
    "                       wwfbiom=getmode(wwfbiom), wwfecoreg=getmode(wwfecoreg),\n",
    "                       REGION=getmode(region), PFT=getmode(pft)) %>%\n",
    "        tidyr::pivot_wider(names_from=status, values_from= setdiff(names(.),c(\"pa_id\", \"status\")))\n",
    "    pa_stats_summary$iso3 <- iso3\n",
    "\n",
    "    pa_stats_summary_ALL <- rbind(pa_stats_summary_ALL, pa_stats_summary)\n",
    "    \n",
    "    write.csv(pa_stats_summary_ALL, row.names=FALSE,\n",
    "          file=paste(f.path,\"WDPA_extract/pa_stats/\",iso3,\"_pa_stats_summary_wk\",gediwk,\"_2.csv\", sep=\"\")) \n",
    "  }\n",
    "}\n",
    "cat(\"Done summarizing pa-level stats for region\", iso3, \"\\n\")  \n"
   ]
  },
  {
   "cell_type": "code",
   "execution_count": 12,
   "id": "042354ec-e555-481b-b7d0-917472c3ebb1",
   "metadata": {},
   "outputs": [],
   "source": [
    "f.path <- \"/projects/my-public-bucket/GEDI_global_PA_v2/\"\n",
    "pa_stats_summary <- read.csv(paste(f.path,\"WDPA_extract/pa_stats/\",iso3,\"_pa_stats_summary_wk\",gediwk,\"_2.csv\", sep=\"\"))"
   ]
  },
  {
   "cell_type": "code",
   "execution_count": 15,
   "id": "2d5b9728-34c3-4751-a779-9231ebc2d443",
   "metadata": {},
   "outputs": [
    {
     "data": {
      "text/html": [
       "1618"
      ],
      "text/latex": [
       "1618"
      ],
      "text/markdown": [
       "1618"
      ],
      "text/plain": [
       "[1] 1618"
      ]
     },
     "metadata": {},
     "output_type": "display_data"
    }
   ],
   "source": [
    "length(pa_stats_summary$pa_id)"
   ]
  },
  {
   "cell_type": "code",
   "execution_count": 16,
   "id": "6daca057-7db2-4710-a9a6-dc2d08054bf3",
   "metadata": {},
   "outputs": [
    {
     "data": {
      "text/html": [
       "1618"
      ],
      "text/latex": [
       "1618"
      ],
      "text/markdown": [
       "1618"
      ],
      "text/plain": [
       "[1] 1618"
      ]
     },
     "metadata": {},
     "output_type": "display_data"
    }
   ],
   "source": [
    "length(unique(pa_stats_summary$pa_id))"
   ]
  },
  {
   "cell_type": "code",
   "execution_count": 19,
   "id": "7698d629-0aea-4477-b4c0-5914a86dd169",
   "metadata": {},
   "outputs": [
    {
     "data": {
      "text/html": [
       "1621"
      ],
      "text/latex": [
       "1621"
      ],
      "text/markdown": [
       "1621"
      ],
      "text/plain": [
       "[1] 1621"
      ]
     },
     "metadata": {},
     "output_type": "display_data"
    }
   ],
   "source": [
    "pa_ids <- basename(list.files(paste(f.path,\"/WDPA_extract/pa_stats_ALL/\",sep=\"\"))) %>% readr::parse_number() %>% unique()\n",
    "length(pa_ids)"
   ]
  },
  {
   "cell_type": "code",
   "execution_count": 21,
   "id": "7835e61a-842f-4952-aec0-b1309f79625d",
   "metadata": {},
   "outputs": [
    {
     "data": {
      "text/html": [
       "<style>\n",
       ".list-inline {list-style: none; margin:0; padding: 0}\n",
       ".list-inline>li {display: inline-block}\n",
       ".list-inline>li:not(:last-child)::after {content: \"\\00b7\"; padding: 0 .5ex}\n",
       "</style>\n",
       "<ol class=list-inline><li>555576324</li><li>555636622</li><li>555682258</li></ol>\n"
      ],
      "text/latex": [
       "\\begin{enumerate*}\n",
       "\\item 555576324\n",
       "\\item 555636622\n",
       "\\item 555682258\n",
       "\\end{enumerate*}\n"
      ],
      "text/markdown": [
       "1. 555576324\n",
       "2. 555636622\n",
       "3. 555682258\n",
       "\n",
       "\n"
      ],
      "text/plain": [
       "[1] 555576324 555636622 555682258"
      ]
     },
     "metadata": {},
     "output_type": "display_data"
    }
   ],
   "source": [
    "setdiff(pa_ids, pa_stats_summary$pa_id)"
   ]
  },
  {
   "cell_type": "code",
   "execution_count": 24,
   "id": "b54be9b3-c2d2-45e5-86d3-1a5fd1a25e7c",
   "metadata": {},
   "outputs": [
    {
     "name": "stdout",
     "output_type": "stream",
     "text": [
      "[1] 1266\n",
      "i =  1266  : calculating summary stats for PA /projects/my-public-bucket/GEDI_global_PA_v2/WDPA_extract/pa_stats_ALL//BRA_pa_555576324_gedi_wk24_TSMBF.csv \n",
      "BRA /projects/my-public-bucket/GEDI_global_PA_v2/WDPA_extract/pa_stats_ALL//BRA_pa_555576324_gedi_wk24_TSMBF.csv has 0 protected or treatment \n",
      "[1] 1471\n",
      "i =  1471  : calculating summary stats for PA /projects/my-public-bucket/GEDI_global_PA_v2/WDPA_extract/pa_stats_ALL//BRA_pa_555636622_gedi_wk24_TSMBF.csv \n",
      "BRA /projects/my-public-bucket/GEDI_global_PA_v2/WDPA_extract/pa_stats_ALL//BRA_pa_555636622_gedi_wk24_TSMBF.csv has 0 protected or treatment \n",
      "[1] 1553\n",
      "i =  1553  : calculating summary stats for PA /projects/my-public-bucket/GEDI_global_PA_v2/WDPA_extract/pa_stats_ALL//BRA_pa_555682258_gedi_wk24_.csv \n",
      "BRA /projects/my-public-bucket/GEDI_global_PA_v2/WDPA_extract/pa_stats_ALL//BRA_pa_555682258_gedi_wk24_.csv has 0 protected or treatment \n"
     ]
    }
   ],
   "source": [
    "pa_stats_summary_ALL <- read.csv(paste(f.path,\"WDPA_extract/pa_stats/\",iso3,\"_pa_stats_summary_wk\",gediwk,\"_2.csv\", sep=\"\"))\n",
    "#pa_stats_summary_ALL\n",
    "\n",
    "#for(i in 1489:length(gedi_paf)){\n",
    "#for(i in 1:length(gedi_paf)){\n",
    "for(i in c(which(gedi_paid == 555576324),\n",
    "           which(gedi_paid == 555636622),\n",
    "           which(gedi_paid == 555682258))){\n",
    "print(i)\n",
    "\n",
    "    pa_stats_summary_ALL <- read.csv(paste(f.path,\"WDPA_extract/pa_stats/\",iso3,\"_pa_stats_summary_wk\",gediwk,\"_2.csv\", sep=\"\"))\n",
    "    \n",
    "    this_paf <- gedi_paf[i]\n",
    "    cat(paste(\"i = \", i, \" : calculating summary stats for PA\",this_paf,\"\\n\"))\n",
    "    pa_metrics <- read.csv(this_paf) #%>% unique()\n",
    "    \n",
    "    if (length(table(pa_metrics$status))<2) {\n",
    "        cat(iso3, this_paf, \"has 0 protected or treatment \\n\")\n",
    "    } else if (table(pa_metrics$status)[1]!=0 && table(pa_metrics$status)[2]!=0) {\n",
    "    #filter the datafrme by number of shots in each cell, which is equivalent to the number of occurence of each unique UID code\n",
    "##    tt <- table(pa_metrics$UID)\n",
    "##    qcellid <- table(pa_metrics$UID)[tt>5] %>% names()\n",
    "##    pa_metrics_filtered <- pa_metrics %>% dplyr::filter(UID %in% qcellid)\n",
    "    #calc summary stats for each country \n",
    "    #pa_stats_summary <- pa_metrics_filtered %>%\n",
    "        pa_stats_summary <- pa_metrics %>%\n",
    "        group_by(status) %>%\n",
    "        dplyr::mutate(pa_id=as.character(pa_id)) %>%\n",
    "        dplyr::summarise(pa_id=na.omit(unique(pa_id)),\n",
    "                       count=length(rh98),\n",
    "                       meanrh98=mean(rh98, na.rm=TRUE), sdrh98=sd(rh98, na.rm=TRUE),\n",
    "                       meanagbd=mean(agbd, na.rm=TRUE), sdagbd=sd(agbd, na.rm=TRUE),\n",
    "                       wwfbiom=getmode(wwfbiom), wwfecoreg=getmode(wwfecoreg),\n",
    "                       REGION=getmode(region), PFT=getmode(pft)) %>%\n",
    "        tidyr::pivot_wider(names_from=status, values_from= setdiff(names(.),c(\"pa_id\", \"status\")))\n",
    "    pa_stats_summary$iso3 <- iso3\n",
    "\n",
    "    pa_stats_summary_ALL <- rbind(pa_stats_summary_ALL, pa_stats_summary)\n",
    "    \n",
    "    write.csv(pa_stats_summary_ALL, row.names=FALSE,\n",
    "          file=paste(f.path,\"WDPA_extract/pa_stats/\",iso3,\"_pa_stats_summary_wk\",gediwk,\"_2.csv\", sep=\"\")) \n",
    "  }\n",
    "}\n",
    "#cat(\"Done summarizing pa-level stats for region\", iso3, \"\\n\")  \n"
   ]
  },
  {
   "cell_type": "code",
   "execution_count": null,
   "id": "43c6f589-1cdf-4c8e-a783-7b824ae22589",
   "metadata": {},
   "outputs": [],
   "source": []
  },
  {
   "cell_type": "code",
   "execution_count": null,
   "id": "f6471827-f934-4f53-bd5e-0165e47d6b87",
   "metadata": {},
   "outputs": [],
   "source": []
  },
  {
   "cell_type": "code",
   "execution_count": null,
   "id": "840089c1-ccca-4025-9157-a1e6fca4f02d",
   "metadata": {},
   "outputs": [],
   "source": []
  }
 ],
 "metadata": {
  "kernelspec": {
   "display_name": "R",
   "language": "R",
   "name": "ir"
  },
  "language_info": {
   "codemirror_mode": "r",
   "file_extension": ".r",
   "mimetype": "text/x-r-source",
   "name": "R",
   "pygments_lexer": "r",
   "version": "4.2.3"
  }
 },
 "nbformat": 4,
 "nbformat_minor": 5
}
