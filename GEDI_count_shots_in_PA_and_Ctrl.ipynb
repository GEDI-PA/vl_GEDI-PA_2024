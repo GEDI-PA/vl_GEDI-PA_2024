{
 "cells": [
  {
   "cell_type": "code",
   "execution_count": 1,
   "id": "4e8eb4f6-e3bd-4273-800a-4f6862858f8c",
   "metadata": {},
   "outputs": [],
   "source": [
    "## plotting individual PAs with treatment & control GEDI shots"
   ]
  },
  {
   "cell_type": "code",
   "execution_count": 2,
   "id": "c087786c-94e9-4245-86e5-5e364317453f",
   "metadata": {},
   "outputs": [
    {
     "name": "stderr",
     "output_type": "stream",
     "text": [
      "Updating HTML index of packages in '.Library'\n",
      "\n",
      "Making 'packages.html' ...\n",
      " done\n",
      "\n"
     ]
    }
   ],
   "source": [
    "install.packages(\"s3\")\n",
    "#install.packages(\"doParallel\")\n",
    "#install.packages(\"RItools\")    "
   ]
  },
  {
   "cell_type": "code",
   "execution_count": 3,
   "id": "f5c3bcbc-8f43-4973-bdd8-f02ca58d3775",
   "metadata": {},
   "outputs": [
    {
     "name": "stderr",
     "output_type": "stream",
     "text": [
      "terra 1.7.29\n",
      "\n",
      "\n",
      "Attaching package: ‘dplyr’\n",
      "\n",
      "\n",
      "The following objects are masked from ‘package:terra’:\n",
      "\n",
      "    intersect, union\n",
      "\n",
      "\n",
      "The following objects are masked from ‘package:stats’:\n",
      "\n",
      "    filter, lag\n",
      "\n",
      "\n",
      "The following objects are masked from ‘package:base’:\n",
      "\n",
      "    intersect, setdiff, setequal, union\n",
      "\n",
      "\n",
      "Linking to GEOS 3.11.2, GDAL 3.7.0, PROJ 9.2.0; sf_use_s2() is TRUE\n",
      "\n"
     ]
    }
   ],
   "source": [
    "library(\"terra\")\n",
    "library(\"dplyr\")\n",
    "library(\"sf\")\n",
    "library(\"s3\")\n",
    "library(\"sp\")\n",
    "library(\"foreach\")\n",
    "library(\"stringr\")\n",
    "library(\"aws.s3\")\n",
    "#library(\"doParallel\")\n",
    "#library(\"RItools\")"
   ]
  },
  {
   "cell_type": "code",
   "execution_count": 5,
   "id": "c4dd686a-0cde-4f2b-bc2f-31fd9204f4bf",
   "metadata": {},
   "outputs": [],
   "source": [
    "#f.path <- \"s3://maap-ops-workspace/shared/leitoldv/GEDI_global_PA_v2/\"\n",
    "f.path <- \"/projects/my-public-bucket/GEDI_global_PA_v2/\"\n",
    "iso3 <- \"Bce\"\n",
    "gediwk <- 24\n",
    "#source(s3_get(paste(f.path,\"matching_func.R\",sep=\"\")))\n",
    "source(paste(f.path,\"vl_GEDI-PA_2024/matching_func_2024.R\",sep=\"\"))"
   ]
  },
  {
   "cell_type": "code",
   "execution_count": 7,
   "id": "d634126b-4dea-46aa-b563-44e18f1635b5",
   "metadata": {},
   "outputs": [
    {
     "data": {
      "text/html": [
       "1621"
      ],
      "text/latex": [
       "1621"
      ],
      "text/markdown": [
       "1621"
      ],
      "text/plain": [
       "[1] 1621"
      ]
     },
     "metadata": {},
     "output_type": "display_data"
    }
   ],
   "source": [
    "## STEP6: [FIGURE 4B] Calculating per pa summary stats, 1 pa per row, contain shot#/PA---------------------------- \n",
    "#cat(paste(\"Step 6: calculating per pa summary stats for\", iso3,\"\\n\"))\n",
    "gedi_paf <- list.files(paste(f.path,\"WDPA_extract/pa_stats_ALL/\",sep=\"\"), pattern=\".csv\", full.names = TRUE)\n",
    "length(gedi_paf)"
   ]
  },
  {
   "cell_type": "code",
   "execution_count": 33,
   "id": "ebea90b8-d8fe-47c7-af7e-732a338ce2b8",
   "metadata": {},
   "outputs": [],
   "source": [
    "total_shots_in_PA <- c()\n",
    "total_shots_in_Ctrl <- c()\n",
    "saveRDS(total_shots_in_PA, paste(f.path,\"WDPA_extract/total_shots_in_PA.RDS\",sep=\"\"))\n",
    "saveRDS(total_shots_in_Ctrl, paste(f.path,\"WDPA_extract/total_shots_in_Ctrl.RDS\",sep=\"\"))"
   ]
  },
  {
   "cell_type": "code",
   "execution_count": null,
   "id": "a85cb62c-ae03-4813-85c5-73a11432710b",
   "metadata": {},
   "outputs": [],
   "source": [
    "for(i in 1:length(gedi_paf)){\n",
    "total_shots_in_PA <- readRDS(paste(f.path,\"WDPA_extract/total_shots_in_PA.RDS\",sep=\"\"))\n",
    "total_shots_in_Ctrl <- readRDS(paste(f.path,\"WDPA_extract/total_shots_in_Ctrl.RDS\",sep=\"\"))\n",
    "#for(i in 1:2){\n",
    "    this_paf <- gedi_paf[i]\n",
    "    print(paste(i, \":\", basename(this_paf), sep=\" \"))\n",
    "    pa_metrics <- read.csv(this_paf) %>% unique()\n",
    "    if(length(table(pa_metrics$status))<2) {\n",
    "    cat(iso3, this_paf, \"has 0 protected or treatment \\n\")\n",
    "    } else if(table(pa_metrics$status)[1]!=0 && table(pa_metrics$status)[2]!=0) {\n",
    "        shots_in_PA <- nrow(pa_metrics[pa_metrics$status==1,])\n",
    "        shots_in_Ctrl <- nrow(pa_metrics[pa_metrics$status==0,])\n",
    "        total_shots_in_PA <- c(total_shots_in_PA, shots_in_PA)\n",
    "        total_shots_in_Ctrl <- c(total_shots_in_Ctrl, shots_in_Ctrl)\n",
    "      }\n",
    "    rm(pa_metrics)\n",
    "    saveRDS(total_shots_in_PA, paste(f.path,\"WDPA_extract/total_shots_in_PA.RDS\",sep=\"\"))\n",
    "    saveRDS(total_shots_in_Ctrl, paste(f.path,\"WDPA_extract/total_shots_in_Ctrl.RDS\",sep=\"\"))\n",
    "}\n",
    "cat(\"Done counting GEDI shots\", \"\\n\")\n",
    "cat(\"Total shots in PA: \",sum(total_shots_in_PA),\"\\n\")\n",
    "cat(\"Total shots in Ctrl: \",sum(total_shots_in_Ctrl),\"\\n\")\n"
   ]
  },
  {
   "cell_type": "code",
   "execution_count": null,
   "id": "adc47592-7468-426c-99fa-9b726b7387ab",
   "metadata": {},
   "outputs": [],
   "source": []
  },
  {
   "cell_type": "code",
   "execution_count": null,
   "id": "23aa025f-358d-42c6-a326-42d36014a9fd",
   "metadata": {},
   "outputs": [],
   "source": [
    "#for(i in 1:length(gedi_paf)){\n",
    "for(i in 1:2){\n",
    "    this_paf <- gedi_paf[i]\n",
    "    print(basename(this_paf))\n",
    "    pa_metrics <- read.csv(this_paf) %>% unique()\n",
    "    if(length(table(pa_metrics$status))<2) {\n",
    "    cat(iso3, this_paf, \"has 0 protected or treatment \\n\")\n",
    "    } else if(table(pa_metrics$status)[1]!=0 && table(pa_metrics$status)[2]!=0) {\n",
    "#--------\n",
    "    lon_0 <- pa_metrics[pa_metrics$status==0,\"lon_lowestmode\"]\n",
    "    lat_0 <- pa_metrics[pa_metrics$status==0,\"lat_lowestmode\"]\n",
    "    lon_1 <- pa_metrics[pa_metrics$status==1,\"lon_lowestmode\"]\n",
    "    lat_1 <- pa_metrics[pa_metrics$status==1,\"lat_lowestmode\"]\n",
    "    \n",
    "    plot(vect(cbind(lon_0,lat_0), type=\"points\", atts=NULL), pch=\".\", main=unique(pa_metrics$pa_id))\n",
    "    points(vect(cbind(lon_1,lat_1), type=\"points\", atts=NULL), pch=\".\", col=\"red\")\n",
    "#--------\n",
    "    }\n",
    "}      \n"
   ]
  },
  {
   "cell_type": "code",
   "execution_count": null,
   "id": "6bfb0f09-5097-4179-8296-cbe825871f6e",
   "metadata": {},
   "outputs": [],
   "source": []
  },
  {
   "cell_type": "code",
   "execution_count": null,
   "id": "c7977533-c4cc-4069-a415-06edcf0254b0",
   "metadata": {},
   "outputs": [],
   "source": []
  }
 ],
 "metadata": {
  "kernelspec": {
   "display_name": "R",
   "language": "R",
   "name": "ir"
  },
  "language_info": {
   "codemirror_mode": "r",
   "file_extension": ".r",
   "mimetype": "text/x-r-source",
   "name": "R",
   "pygments_lexer": "r",
   "version": "4.2.3"
  }
 },
 "nbformat": 4,
 "nbformat_minor": 5
}
