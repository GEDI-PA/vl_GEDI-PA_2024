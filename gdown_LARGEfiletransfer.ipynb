{
 "cells": [
  {
   "cell_type": "code",
   "execution_count": 1,
   "id": "94e19b3e-97af-433e-a584-aeb8938e8393",
   "metadata": {},
   "outputs": [
    {
     "name": "stdout",
     "output_type": "stream",
     "text": [
      "Requirement already satisfied: gdown in /opt/conda/lib/python3.9/site-packages (5.2.0)\n",
      "Requirement already satisfied: beautifulsoup4 in /opt/conda/lib/python3.9/site-packages (from gdown) (4.12.2)\n",
      "Requirement already satisfied: tqdm in /opt/conda/lib/python3.9/site-packages (from gdown) (4.63.0)\n",
      "Requirement already satisfied: filelock in /opt/conda/lib/python3.9/site-packages (from gdown) (3.15.4)\n",
      "Requirement already satisfied: requests[socks] in /opt/conda/lib/python3.9/site-packages (from gdown) (2.31.0)\n",
      "Requirement already satisfied: soupsieve>1.2 in /opt/conda/lib/python3.9/site-packages (from beautifulsoup4->gdown) (2.3.2.post1)\n",
      "Requirement already satisfied: certifi>=2017.4.17 in /opt/conda/lib/python3.9/site-packages (from requests[socks]->gdown) (2023.5.7)\n",
      "Requirement already satisfied: idna<4,>=2.5 in /opt/conda/lib/python3.9/site-packages (from requests[socks]->gdown) (3.3)\n",
      "Requirement already satisfied: urllib3<3,>=1.21.1 in /opt/conda/lib/python3.9/site-packages (from requests[socks]->gdown) (1.26.8)\n",
      "Requirement already satisfied: charset-normalizer<4,>=2 in /opt/conda/lib/python3.9/site-packages (from requests[socks]->gdown) (2.0.4)\n",
      "Requirement already satisfied: PySocks!=1.5.7,>=1.5.6 in /opt/conda/lib/python3.9/site-packages (from requests[socks]->gdown) (1.7.1)\n",
      "\u001b[33mWARNING: Running pip as the 'root' user can result in broken permissions and conflicting behaviour with the system package manager. It is recommended to use a virtual environment instead: https://pip.pypa.io/warnings/venv\u001b[0m\n",
      "Note: you may need to restart the kernel to use updated packages.\n"
     ]
    }
   ],
   "source": [
    "pip install gdown"
   ]
  },
  {
   "cell_type": "code",
   "execution_count": 2,
   "id": "c6ff01ec-cbf6-40b5-8d1e-c61cee6441b3",
   "metadata": {},
   "outputs": [],
   "source": [
    "import gdown"
   ]
  },
  {
   "cell_type": "code",
   "execution_count": 3,
   "id": "a222af5c-9b10-465d-908a-94dbf7f14893",
   "metadata": {},
   "outputs": [],
   "source": [
    "##d2roads\n",
    "#url = \"https://drive.google.com/file/d/1-n-DKzGbVxoqMdd8-hPrpptaFuGhqyqT/view?usp=sharing\"\n",
    "#output = \"/projects/my-public-bucket/GEDI_global_PA_v2/WDPA_input_vars_GLOBAL/\"\n",
    "#gdown.download(url, output, fuzzy = True)"
   ]
  },
  {
   "cell_type": "code",
   "execution_count": 4,
   "id": "06720060-52cd-40f4-8f73-4139cddae016",
   "metadata": {},
   "outputs": [],
   "source": [
    "##dcities\n",
    "#url = \"https://drive.google.com/file/d/1asEChXfw-TLh2UMxfNa26EjAifPNchbo/view?usp=sharing\"\n",
    "#output = \"/projects/my-public-bucket/GEDI_global_PA_v2/WDPA_input_vars_GLOBAL/\"\n",
    "#gdown.download(url, output, fuzzy = True)"
   ]
  },
  {
   "cell_type": "code",
   "execution_count": 5,
   "id": "802db135-0e0a-4c51-b841-df2c819a2100",
   "metadata": {},
   "outputs": [],
   "source": [
    "##slope\n",
    "#url = \"https://drive.google.com/file/d/1aWZheS3siJtxuQJ0Z9G8DZxIfsbLJw2Y/view?usp=sharing\"\n",
    "#output = \"/projects/my-public-bucket/GEDI_global_PA_v2/WDPA_input_vars_GLOBAL/\"\n",
    "#gdown.download(url, output, fuzzy = True)"
   ]
  },
  {
   "cell_type": "code",
   "execution_count": 6,
   "id": "03a76b3b-3f9d-40a1-bb02-420f826cb511",
   "metadata": {},
   "outputs": [],
   "source": [
    "##tt2cities\n",
    "#url = \"https://drive.google.com/file/d/1hZD3RB1OWcW0IAZ_iJH89dDY8u-IcUnh/view?usp=sharing\"\n",
    "#output = \"/projects/my-public-bucket/GEDI_global_PA_v2/WDPA_input_vars_GLOBAL/\"\n",
    "#gdown.download(url, output, fuzzy = True)"
   ]
  },
  {
   "cell_type": "code",
   "execution_count": 7,
   "id": "acc0ab6b-d112-440e-b297-8abdbe2a5fdb",
   "metadata": {},
   "outputs": [],
   "source": [
    "##wc_prec_1990-1999\n",
    "#url = \"https://drive.google.com/file/d/1KiUXLrIC9Bcp6IYlnM_OwstvoMJYoEVJ/view?usp=sharing\"\n",
    "#output = \"/projects/my-public-bucket/GEDI_global_PA_v2/WDPA_input_vars_GLOBAL/\"\n",
    "#gdown.download(url, output, fuzzy = True)"
   ]
  },
  {
   "cell_type": "code",
   "execution_count": 8,
   "id": "118c2cb7-af71-4ba4-a63f-8978f42be982",
   "metadata": {},
   "outputs": [],
   "source": [
    "##wc_tavg_1990-1999\n",
    "#url = \"https://drive.google.com/file/d/1Hhy4OwvSxP1IUSe56ApewAFW9yY2XqHA/view?usp=sharing\"\n",
    "#output = \"/projects/my-public-bucket/GEDI_global_PA_v2/WDPA_input_vars_GLOBAL/\"\n",
    "#gdown.download(url, output, fuzzy = True)"
   ]
  },
  {
   "cell_type": "code",
   "execution_count": 9,
   "id": "b42d57eb-c4f4-4639-a3fb-980a74d8413a",
   "metadata": {},
   "outputs": [],
   "source": [
    "##wc_tmax_1990-1999\n",
    "#url = \"https://drive.google.com/file/d/1aZ34Aq8U1tS8iObzUw-2nSDvu8Ry7Z79/view?usp=sharing\"\n",
    "#output = \"/projects/my-public-bucket/GEDI_global_PA_v2/WDPA_input_vars_GLOBAL/\"\n",
    "#gdown.download(url, output, fuzzy = True)"
   ]
  },
  {
   "cell_type": "code",
   "execution_count": 15,
   "id": "b8df3791-9177-4cff-b13b-c5c265923bbf",
   "metadata": {},
   "outputs": [
    {
     "name": "stderr",
     "output_type": "stream",
     "text": [
      "Downloading...\n",
      "From (original): https://drive.google.com/uc?id=1DBXJ8Z0qzjZjEJ7JmDYcvAECHRvS8f6H\n",
      "From (redirected): https://drive.google.com/uc?id=1DBXJ8Z0qzjZjEJ7JmDYcvAECHRvS8f6H&confirm=t&uuid=c7182a29-900d-430d-bf61-df88c28e7df3\n",
      "To: /projects/my-public-bucket/GEDI_global_PA_v2/WDPA_input_vars_GLOBAL/wc_tmin_1990-1999.tif\n",
      "\n",
      "\n",
      "\n",
      "  0%|          | 0.00/674M [00:00<?, ?B/s]\u001b[A\u001b[A\u001b[A\n",
      "\n",
      "\n",
      "  1%|▏         | 9.96M/674M [00:00<00:06, 99.3MB/s]\u001b[A\u001b[A\u001b[A\n",
      "\n",
      "\n",
      "  4%|▍         | 28.8M/674M [00:00<00:04, 149MB/s] \u001b[A\u001b[A\u001b[A\n",
      "\n",
      "\n",
      "  7%|▋         | 44.0M/674M [00:00<00:04, 150MB/s]\u001b[A\u001b[A\u001b[A\n",
      "\n",
      "\n",
      "  9%|▉         | 59.8M/674M [00:00<00:04, 152MB/s]\u001b[A\u001b[A\u001b[A\n",
      "\n",
      "\n",
      " 12%|█▏        | 78.1M/674M [00:00<00:03, 163MB/s]\u001b[A\u001b[A\u001b[A\n",
      "\n",
      "\n",
      " 14%|█▍        | 97.5M/674M [00:00<00:03, 173MB/s]\u001b[A\u001b[A\u001b[A\n",
      "\n",
      "\n",
      " 18%|█▊        | 118M/674M [00:00<00:03, 182MB/s] \u001b[A\u001b[A\u001b[A\n",
      "\n",
      "\n",
      " 20%|██        | 136M/674M [00:00<00:02, 180MB/s]\u001b[A\u001b[A\u001b[A\n",
      "\n",
      "\n",
      " 23%|██▎       | 155M/674M [00:00<00:02, 179MB/s]\u001b[A\u001b[A\u001b[A\n",
      "\n",
      "\n",
      " 26%|██▌       | 173M/674M [00:01<00:03, 127MB/s]\u001b[A\u001b[A\u001b[A\n",
      "\n",
      "\n",
      " 28%|██▊       | 191M/674M [00:01<00:03, 139MB/s]\u001b[A\u001b[A\u001b[A\n",
      "\n",
      "\n",
      " 31%|███       | 207M/674M [00:01<00:03, 143MB/s]\u001b[A\u001b[A\u001b[A\n",
      "\n",
      "\n",
      " 33%|███▎      | 225M/674M [00:01<00:02, 152MB/s]\u001b[A\u001b[A\u001b[A\n",
      "\n",
      "\n",
      " 36%|███▌      | 243M/674M [00:01<00:02, 159MB/s]\u001b[A\u001b[A\u001b[A\n",
      "\n",
      "\n",
      " 39%|███▊      | 260M/674M [00:01<00:02, 157MB/s]\u001b[A\u001b[A\u001b[A\n",
      "\n",
      "\n",
      " 42%|████▏     | 280M/674M [00:01<00:02, 170MB/s]\u001b[A\u001b[A\u001b[A\n",
      "\n",
      "\n",
      " 44%|████▍     | 299M/674M [00:01<00:02, 173MB/s]\u001b[A\u001b[A\u001b[A\n",
      "\n",
      "\n",
      " 47%|████▋     | 319M/674M [00:01<00:01, 181MB/s]\u001b[A\u001b[A\u001b[A\n",
      "\n",
      "\n",
      " 50%|█████     | 338M/674M [00:02<00:02, 149MB/s]\u001b[A\u001b[A\u001b[A\n",
      "\n",
      "\n",
      " 53%|█████▎    | 359M/674M [00:02<00:01, 163MB/s]\u001b[A\u001b[A\u001b[A\n",
      "\n",
      "\n",
      " 56%|█████▌    | 379M/674M [00:02<00:01, 172MB/s]\u001b[A\u001b[A\u001b[A\n",
      "\n",
      "\n",
      " 59%|█████▉    | 397M/674M [00:02<00:01, 173MB/s]\u001b[A\u001b[A\u001b[A\n",
      "\n",
      "\n",
      " 62%|██████▏   | 417M/674M [00:02<00:01, 180MB/s]\u001b[A\u001b[A\u001b[A\n",
      "\n",
      "\n",
      " 65%|██████▍   | 438M/674M [00:02<00:01, 186MB/s]\u001b[A\u001b[A\u001b[A\n",
      "\n",
      "\n",
      " 68%|██████▊   | 458M/674M [00:02<00:01, 190MB/s]\u001b[A\u001b[A\u001b[A\n",
      "\n",
      "\n",
      " 71%|███████   | 479M/674M [00:02<00:01, 193MB/s]\u001b[A\u001b[A\u001b[A\n",
      "\n",
      "\n",
      " 74%|███████▍  | 499M/674M [00:02<00:00, 193MB/s]\u001b[A\u001b[A\u001b[A\n",
      "\n",
      "\n",
      " 77%|███████▋  | 519M/674M [00:03<00:00, 195MB/s]\u001b[A\u001b[A\u001b[A\n",
      "\n",
      "\n",
      " 80%|███████▉  | 539M/674M [00:03<00:00, 136MB/s]\u001b[A\u001b[A\u001b[A\n",
      "\n",
      "\n",
      " 83%|████████▎ | 558M/674M [00:03<00:00, 149MB/s]\u001b[A\u001b[A\u001b[A\n",
      "\n",
      "\n",
      " 86%|████████▌ | 578M/674M [00:03<00:00, 161MB/s]\u001b[A\u001b[A\u001b[A\n",
      "\n",
      "\n",
      " 89%|████████▉ | 599M/674M [00:03<00:00, 171MB/s]\u001b[A\u001b[A\u001b[A\n",
      "\n",
      "\n",
      " 92%|█████████▏| 618M/674M [00:03<00:00, 176MB/s]\u001b[A\u001b[A\u001b[A\n",
      "\n",
      "\n",
      " 95%|█████████▍| 638M/674M [00:03<00:00, 181MB/s]\u001b[A\u001b[A\u001b[A\n",
      "\n",
      "\n",
      "100%|██████████| 674M/674M [00:04<00:00, 164MB/s]\u001b[A\u001b[A\u001b[A\n"
     ]
    },
    {
     "data": {
      "text/plain": [
       "'/projects/my-public-bucket/GEDI_global_PA_v2/WDPA_input_vars_GLOBAL/wc_tmin_1990-1999.tif'"
      ]
     },
     "execution_count": 15,
     "metadata": {},
     "output_type": "execute_result"
    }
   ],
   "source": [
    "##wc_tmin_1990-1999\n",
    "url = \"https://drive.google.com/file/d/1DBXJ8Z0qzjZjEJ7JmDYcvAECHRvS8f6H/view?usp=sharing\"\n",
    "output = \"/projects/my-public-bucket/GEDI_global_PA_v2/WDPA_input_vars_GLOBAL/\"\n",
    "gdown.download(url, output, fuzzy = True)"
   ]
  },
  {
   "cell_type": "code",
   "execution_count": null,
   "id": "afdcb652-9bfa-4e3f-99d3-41cb6bc0a413",
   "metadata": {},
   "outputs": [],
   "source": [
    "##------------------------------------------------"
   ]
  },
  {
   "cell_type": "code",
   "execution_count": null,
   "id": "92410ddb-9062-47a8-916d-f7026952a117",
   "metadata": {},
   "outputs": [],
   "source": [
    "##dem\n",
    "url = \"https://drive.google.com/file/d/1TUhYD8y87ISZUH-AJ6i2kSJecieZcQS-/view?usp=sharing\"\n",
    "output = \"/projects/my-public-bucket/GEDI_global_PA_v2/WDPA_input_vars_GLOBAL/\"\n",
    "gdown.download(url, output, fuzzy = True)"
   ]
  },
  {
   "cell_type": "code",
   "execution_count": null,
   "id": "8972c21b-13a2-4381-a2a6-d74c212ae1e8",
   "metadata": {},
   "outputs": [],
   "source": [
    "##lc2000\n",
    "url = \"https://drive.google.com/file/d/10R44UFAqY6NMPNhn3-TaHN5YMwTGzWRU/view?usp=sharing\"\n",
    "output = \"/projects/my-public-bucket/GEDI_global_PA_v2/WDPA_input_vars_GLOBAL/\"\n",
    "gdown.download(url, output, fuzzy = True)"
   ]
  },
  {
   "cell_type": "code",
   "execution_count": null,
   "id": "e739309e-a1a3-48bc-8b05-899e4b6f82ab",
   "metadata": {},
   "outputs": [],
   "source": [
    "##pop_cnt_2000\n",
    "url = \"https://drive.google.com/file/d/1A02umvYgmCpUFj2BsgvlVI9oNH1XzxdE/view?usp=sharing\"\n",
    "output = \"/projects/my-public-bucket/GEDI_global_PA_v2/WDPA_input_vars_GLOBAL/\"\n",
    "gdown.download(url, output, fuzzy = True)"
   ]
  },
  {
   "cell_type": "code",
   "execution_count": null,
   "id": "e9b90192-a5b3-4d9c-872e-b4fdf85242e8",
   "metadata": {},
   "outputs": [],
   "source": [
    "##pop_den_2000\n",
    "url = \"https://drive.google.com/file/d/1du7wYXcVbIjON4I2FknK2SBSQp59BuBW/view?usp=sharing\"\n",
    "output = \"/projects/my-public-bucket/GEDI_global_PA_v2/WDPA_input_vars_GLOBAL/\"\n",
    "gdown.download(url, output, fuzzy = True)"
   ]
  },
  {
   "cell_type": "code",
   "execution_count": null,
   "id": "c95dcc2c-53ab-4466-a0fd-6971fcde693b",
   "metadata": {},
   "outputs": [],
   "source": [
    "##wwf_biomes\n",
    "url = \"https://drive.google.com/file/d/1bEOyhQo4En7QZSWYweZSRGmhtu4xi3YX/view?usp=sharing\"\n",
    "output = \"/projects/my-public-bucket/GEDI_global_PA_v2/WDPA_input_vars_GLOBAL/\"\n",
    "gdown.download(url, output, fuzzy = True)"
   ]
  },
  {
   "cell_type": "code",
   "execution_count": null,
   "id": "d812f6aa-3486-488b-a53d-e80a6c7d0d09",
   "metadata": {},
   "outputs": [],
   "source": [
    "##wwf_ecoreg\n",
    "url = \"https://drive.google.com/file/d/1UtrnwIyXw18bxcx4PxKKmm1o-QZ8mupl/view?usp=sharing\"\n",
    "output = \"/projects/my-public-bucket/GEDI_global_PA_v2/WDPA_input_vars_GLOBAL/\"\n",
    "gdown.download(url, output, fuzzy = True)"
   ]
  },
  {
   "cell_type": "code",
   "execution_count": null,
   "id": "a953bed5-f43a-4b81-88e6-3a2cc9896180",
   "metadata": {},
   "outputs": [],
   "source": []
  }
 ],
 "metadata": {
  "kernelspec": {
   "display_name": "Python 3 (ipykernel)",
   "language": "python",
   "name": "python3"
  },
  "language_info": {
   "codemirror_mode": {
    "name": "ipython",
    "version": 3
   },
   "file_extension": ".py",
   "mimetype": "text/x-python",
   "name": "python",
   "nbconvert_exporter": "python",
   "pygments_lexer": "ipython3",
   "version": "3.9.16"
  }
 },
 "nbformat": 4,
 "nbformat_minor": 5
}
