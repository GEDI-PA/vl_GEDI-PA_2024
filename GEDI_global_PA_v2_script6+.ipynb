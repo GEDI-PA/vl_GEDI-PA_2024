{
 "cells": [
  {
   "cell_type": "code",
   "execution_count": 66,
   "id": "ba2260d9-d54a-4bd6-8a64-ecf988134a90",
   "metadata": {},
   "outputs": [],
   "source": [
    "## calculating GEDI summary stats from extracted dataframes"
   ]
  },
  {
   "cell_type": "code",
   "execution_count": 67,
   "id": "8f071baa-3248-40a1-88f2-68672c5e0fbb",
   "metadata": {},
   "outputs": [],
   "source": [
    "#install.packages(\"s3\")\n",
    "#install.packages(\"doParallel\")\n",
    "#install.packages(\"RItools\")    "
   ]
  },
  {
   "cell_type": "code",
   "execution_count": 68,
   "id": "b8ee78bd-f1ae-419a-8f56-8bbead3471a0",
   "metadata": {},
   "outputs": [],
   "source": [
    "library(\"terra\")\n",
    "library(\"dplyr\")\n",
    "library(\"sf\")\n",
    "#library(\"s3\")\n",
    "library(\"sp\")\n",
    "library(\"foreach\")\n",
    "library(\"stringr\")\n",
    "library(\"aws.s3\")\n",
    "#library(\"doParallel\")\n",
    "#library(\"RItools\")"
   ]
  },
  {
   "cell_type": "code",
   "execution_count": 69,
   "id": "d8ff358b-e530-4588-87a2-e9920fc8a32b",
   "metadata": {},
   "outputs": [],
   "source": [
    "#f.path <- \"s3://maap-ops-workspace/shared/leitoldv/GEDI_global_PA_v2/\"\n",
    "f.path <- \"/projects/my-public-bucket/GEDI_global_PA_v2/\"\n",
    "gediwk <- 24\n",
    "#iso3 <- \"Bpt\""
   ]
  },
  {
   "cell_type": "code",
   "execution_count": 70,
   "id": "fe183658-059e-49da-8a5c-4405e0cdd3e0",
   "metadata": {},
   "outputs": [
    {
     "data": {
      "text/html": [
       "240"
      ],
      "text/latex": [
       "240"
      ],
      "text/markdown": [
       "240"
      ],
      "text/plain": [
       "[1] 240"
      ]
     },
     "metadata": {},
     "output_type": "display_data"
    },
    {
     "data": {
      "text/html": [
       "417"
      ],
      "text/latex": [
       "417"
      ],
      "text/markdown": [
       "417"
      ],
      "text/plain": [
       "[1] 417"
      ]
     },
     "metadata": {},
     "output_type": "display_data"
    },
    {
     "data": {
      "text/html": [
       "53"
      ],
      "text/latex": [
       "53"
      ],
      "text/markdown": [
       "53"
      ],
      "text/plain": [
       "[1] 53"
      ]
     },
     "metadata": {},
     "output_type": "display_data"
    },
    {
     "data": {
      "text/html": [
       "335"
      ],
      "text/latex": [
       "335"
      ],
      "text/markdown": [
       "335"
      ],
      "text/plain": [
       "[1] 335"
      ]
     },
     "metadata": {},
     "output_type": "display_data"
    },
    {
     "data": {
      "text/html": [
       "615"
      ],
      "text/latex": [
       "615"
      ],
      "text/markdown": [
       "615"
      ],
      "text/plain": [
       "[1] 615"
      ]
     },
     "metadata": {},
     "output_type": "display_data"
    },
    {
     "data": {
      "text/html": [
       "31"
      ],
      "text/latex": [
       "31"
      ],
      "text/markdown": [
       "31"
      ],
      "text/plain": [
       "[1] 31"
      ]
     },
     "metadata": {},
     "output_type": "display_data"
    },
    {
     "data": {
      "text/html": [
       "26"
      ],
      "text/latex": [
       "26"
      ],
      "text/markdown": [
       "26"
      ],
      "text/plain": [
       "[1] 26"
      ]
     },
     "metadata": {},
     "output_type": "display_data"
    }
   ],
   "source": [
    "iso3 <- \"BaE\"\n",
    "gedi_paf_BaE <- list.files(paste(f.path,\"WDPA_extract/\",iso3,\"_wk\",gediwk,sep=\"\"), pattern=\".RDS\", full.names = TRUE)\n",
    "length(gedi_paf_BaE)\n",
    "\n",
    "iso3 <- \"BaW\"\n",
    "gedi_paf_BaW <- list.files(paste(f.path,\"WDPA_extract/\",iso3,\"_wk\",gediwk,sep=\"\"), pattern=\".RDS\", full.names = TRUE)\n",
    "length(gedi_paf_BaW)\n",
    "\n",
    "iso3 <- \"Bca\"\n",
    "gedi_paf_Bca <- list.files(paste(f.path,\"WDPA_extract/\",iso3,\"_wk\",gediwk,sep=\"\"), pattern=\".RDS\", full.names = TRUE)\n",
    "length(gedi_paf_Bca)\n",
    "\n",
    "iso3 <- \"Bce\"\n",
    "gedi_paf_Bce <- list.files(paste(f.path,\"WDPA_extract/\",iso3,\"_wk\",gediwk,sep=\"\"), pattern=\".RDS\", full.names = TRUE)\n",
    "length(gedi_paf_Bce)\n",
    "\n",
    "iso3 <- \"Bma\"\n",
    "gedi_paf_Bma <- list.files(paste(f.path,\"WDPA_extract/\",iso3,\"_wk\",gediwk,sep=\"\"), pattern=\".RDS\", full.names = TRUE)\n",
    "length(gedi_paf_Bma)\n",
    "\n",
    "iso3 <- \"Bpp\"\n",
    "gedi_paf_Bpp <- list.files(paste(f.path,\"WDPA_extract/\",iso3,\"_wk\",gediwk,sep=\"\"), pattern=\".RDS\", full.names = TRUE)\n",
    "length(gedi_paf_Bpp)\n",
    "\n",
    "iso3 <- \"Bpt\"\n",
    "gedi_paf_Bpt <- list.files(paste(f.path,\"WDPA_extract/\",iso3,\"_wk\",gediwk,sep=\"\"), pattern=\".RDS\", full.names = TRUE)\n",
    "length(gedi_paf_Bpt)\n"
   ]
  },
  {
   "cell_type": "code",
   "execution_count": 71,
   "id": "ee27edd2-5a41-4831-b3ff-4462eb4b6722",
   "metadata": {},
   "outputs": [
    {
     "data": {
      "text/html": [
       "1717"
      ],
      "text/latex": [
       "1717"
      ],
      "text/markdown": [
       "1717"
      ],
      "text/plain": [
       "[1] 1717"
      ]
     },
     "metadata": {},
     "output_type": "display_data"
    },
    {
     "data": {
      "text/html": [
       "'/projects/my-public-bucket/GEDI_global_PA_v2/WDPA_extract/BaE_wk24/BaE_pa_101761_gedi_wk_24_conti_biome_TSMBF.RDS'"
      ],
      "text/latex": [
       "'/projects/my-public-bucket/GEDI\\_global\\_PA\\_v2/WDPA\\_extract/BaE\\_wk24/BaE\\_pa\\_101761\\_gedi\\_wk\\_24\\_conti\\_biome\\_TSMBF.RDS'"
      ],
      "text/markdown": [
       "'/projects/my-public-bucket/GEDI_global_PA_v2/WDPA_extract/BaE_wk24/BaE_pa_101761_gedi_wk_24_conti_biome_TSMBF.RDS'"
      ],
      "text/plain": [
       "[1] \"/projects/my-public-bucket/GEDI_global_PA_v2/WDPA_extract/BaE_wk24/BaE_pa_101761_gedi_wk_24_conti_biome_TSMBF.RDS\""
      ]
     },
     "metadata": {},
     "output_type": "display_data"
    }
   ],
   "source": [
    "gedi_paf_ALL <- c(gedi_paf_BaE, gedi_paf_BaW, gedi_paf_Bca,\n",
    "                  gedi_paf_Bce, gedi_paf_Bma, gedi_paf_Bpp, gedi_paf_Bpt)\n",
    "length(gedi_paf_ALL)\n",
    "gedi_paf_ALL[1]"
   ]
  },
  {
   "cell_type": "code",
   "execution_count": 72,
   "id": "a0ff5a80-fc91-4484-a6ff-01fe79d7f547",
   "metadata": {},
   "outputs": [
    {
     "data": {
      "text/html": [
       "'TSMBF'"
      ],
      "text/latex": [
       "'TSMBF'"
      ],
      "text/markdown": [
       "'TSMBF'"
      ],
      "text/plain": [
       "[1] \"TSMBF\""
      ]
     },
     "metadata": {},
     "output_type": "display_data"
    }
   ],
   "source": [
    "strsplit(strsplit(basename(gedi_paf_ALL[1]),\".RDS\")[[1]], \"_\")[[1]][9]"
   ]
  },
  {
   "cell_type": "code",
   "execution_count": 73,
   "id": "98fd97db-2d94-4bb0-bf2c-4a1bcfd76c4d",
   "metadata": {},
   "outputs": [
    {
     "name": "stdout",
     "output_type": "stream",
     "text": [
      "[1] 1717\n",
      "[1] 1621\n",
      "[1] 1717\n",
      "[1] 1717\n"
     ]
    }
   ],
   "source": [
    "gedi_paid_ALL <- c()\n",
    "gedi_paBIOME_all <- c()\n",
    "gedi_wwfBIOME_all <- c()\n",
    "\n",
    "for(i in 1:length(gedi_paf_ALL)){\n",
    "\n",
    "    this_paf <- gedi_paf_ALL[i]\n",
    "    this_paid <- basename(this_paf) %>% readr::parse_number() %>% unique()\n",
    "    gedi_paid_ALL <- c(gedi_paid_ALL, this_paid)\n",
    "    #print(this_paid)\n",
    "    this_paBIOME <- strsplit(basename(this_paf),\"_\")[[1]][1]\n",
    "    gedi_paBIOME_all <- c(gedi_paBIOME_all, this_paBIOME)\n",
    "    #print(this_paid)\n",
    "    this_wwfBIOME <- strsplit(strsplit(basename(this_paf),\".RDS\")[[1]], \"_\")[[1]][9]\n",
    "    gedi_wwfBIOME_all <- c(gedi_wwfBIOME_all, this_wwfBIOME)\n",
    "    \n",
    "}\n",
    "\n",
    "print(length(gedi_paid_ALL))\n",
    "print(length(unique(gedi_paid_ALL)))\n",
    "print(length(gedi_paBIOME_all))\n",
    "print(length(gedi_wwfBIOME_all))"
   ]
  },
  {
   "cell_type": "code",
   "execution_count": 36,
   "id": "c1b49938-8826-4920-a0ac-da1a206aaa41",
   "metadata": {},
   "outputs": [
    {
     "data": {
      "text/html": [
       "<table class=\"dataframe\">\n",
       "<caption>A matrix: 6 × 4 of type chr</caption>\n",
       "<thead>\n",
       "\t<tr><th scope=col>pa_id</th><th scope=col>bbiome</th><th scope=col>bbiome2</th><th scope=col>wwfbiom</th></tr>\n",
       "</thead>\n",
       "<tbody>\n",
       "\t<tr><td>101761</td><td>BaE</td><td>BaE</td><td>TSMBF      </td></tr>\n",
       "\t<tr><td>10795 </td><td>BaE</td><td>BaE</td><td>TSMBF      </td></tr>\n",
       "\t<tr><td>10801 </td><td>BaE</td><td>BaE</td><td>TSGSS+TSMBF</td></tr>\n",
       "\t<tr><td>10802 </td><td>BaE</td><td>BaE</td><td>TSMBF      </td></tr>\n",
       "\t<tr><td>10803 </td><td>BaE</td><td>BaE</td><td>TSMBF      </td></tr>\n",
       "\t<tr><td>115686</td><td>BaE</td><td>BaE</td><td>TSMBF      </td></tr>\n",
       "</tbody>\n",
       "</table>\n"
      ],
      "text/latex": [
       "A matrix: 6 × 4 of type chr\n",
       "\\begin{tabular}{llll}\n",
       " pa\\_id & bbiome & bbiome2 & wwfbiom\\\\\n",
       "\\hline\n",
       "\t 101761 & BaE & BaE & TSMBF      \\\\\n",
       "\t 10795  & BaE & BaE & TSMBF      \\\\\n",
       "\t 10801  & BaE & BaE & TSGSS+TSMBF\\\\\n",
       "\t 10802  & BaE & BaE & TSMBF      \\\\\n",
       "\t 10803  & BaE & BaE & TSMBF      \\\\\n",
       "\t 115686 & BaE & BaE & TSMBF      \\\\\n",
       "\\end{tabular}\n"
      ],
      "text/markdown": [
       "\n",
       "A matrix: 6 × 4 of type chr\n",
       "\n",
       "| pa_id | bbiome | bbiome2 | wwfbiom |\n",
       "|---|---|---|---|\n",
       "| 101761 | BaE | BaE | TSMBF       |\n",
       "| 10795  | BaE | BaE | TSMBF       |\n",
       "| 10801  | BaE | BaE | TSGSS+TSMBF |\n",
       "| 10802  | BaE | BaE | TSMBF       |\n",
       "| 10803  | BaE | BaE | TSMBF       |\n",
       "| 115686 | BaE | BaE | TSMBF       |\n",
       "\n"
      ],
      "text/plain": [
       "     pa_id  bbiome bbiome2 wwfbiom    \n",
       "[1,] 101761 BaE    BaE     TSMBF      \n",
       "[2,] 10795  BaE    BaE     TSMBF      \n",
       "[3,] 10801  BaE    BaE     TSGSS+TSMBF\n",
       "[4,] 10802  BaE    BaE     TSMBF      \n",
       "[5,] 10803  BaE    BaE     TSMBF      \n",
       "[6,] 115686 BaE    BaE     TSMBF      "
      ]
     },
     "metadata": {},
     "output_type": "display_data"
    }
   ],
   "source": [
    "gedi_BIOMESid_ALL <- cbind(gedi_paid_ALL, gedi_paBIOME_all, gedi_paBIOME_all, gedi_wwfBIOME_all)\n",
    "colnames(gedi_BIOMESid_ALL) <- c(\"pa_id\", \"bbiome\", \"bbiome2\", \"wwfbiom\")\n",
    "head(gedi_BIOMESid_ALL)"
   ]
  },
  {
   "cell_type": "code",
   "execution_count": 39,
   "id": "f9c49e9e-c935-4a94-88ee-6c67b755547a",
   "metadata": {},
   "outputs": [
    {
     "data": {
      "text/html": [
       "<table class=\"dataframe\">\n",
       "<caption>A matrix: 6 × 4 of type chr</caption>\n",
       "<thead>\n",
       "\t<tr><th scope=col>pa_id</th><th scope=col>bbiome</th><th scope=col>bbiome2</th><th scope=col>wwfbiom</th></tr>\n",
       "</thead>\n",
       "<tbody>\n",
       "\t<tr><td>101761</td><td>BaE</td><td>Baz</td><td>TSMBF      </td></tr>\n",
       "\t<tr><td>10795 </td><td>BaE</td><td>Baz</td><td>TSMBF      </td></tr>\n",
       "\t<tr><td>10801 </td><td>BaE</td><td>Baz</td><td>TSGSS+TSMBF</td></tr>\n",
       "\t<tr><td>10802 </td><td>BaE</td><td>Baz</td><td>TSMBF      </td></tr>\n",
       "\t<tr><td>10803 </td><td>BaE</td><td>Baz</td><td>TSMBF      </td></tr>\n",
       "\t<tr><td>115686</td><td>BaE</td><td>Baz</td><td>TSMBF      </td></tr>\n",
       "</tbody>\n",
       "</table>\n"
      ],
      "text/latex": [
       "A matrix: 6 × 4 of type chr\n",
       "\\begin{tabular}{llll}\n",
       " pa\\_id & bbiome & bbiome2 & wwfbiom\\\\\n",
       "\\hline\n",
       "\t 101761 & BaE & Baz & TSMBF      \\\\\n",
       "\t 10795  & BaE & Baz & TSMBF      \\\\\n",
       "\t 10801  & BaE & Baz & TSGSS+TSMBF\\\\\n",
       "\t 10802  & BaE & Baz & TSMBF      \\\\\n",
       "\t 10803  & BaE & Baz & TSMBF      \\\\\n",
       "\t 115686 & BaE & Baz & TSMBF      \\\\\n",
       "\\end{tabular}\n"
      ],
      "text/markdown": [
       "\n",
       "A matrix: 6 × 4 of type chr\n",
       "\n",
       "| pa_id | bbiome | bbiome2 | wwfbiom |\n",
       "|---|---|---|---|\n",
       "| 101761 | BaE | Baz | TSMBF       |\n",
       "| 10795  | BaE | Baz | TSMBF       |\n",
       "| 10801  | BaE | Baz | TSGSS+TSMBF |\n",
       "| 10802  | BaE | Baz | TSMBF       |\n",
       "| 10803  | BaE | Baz | TSMBF       |\n",
       "| 115686 | BaE | Baz | TSMBF       |\n",
       "\n"
      ],
      "text/plain": [
       "     pa_id  bbiome bbiome2 wwfbiom    \n",
       "[1,] 101761 BaE    Baz     TSMBF      \n",
       "[2,] 10795  BaE    Baz     TSMBF      \n",
       "[3,] 10801  BaE    Baz     TSGSS+TSMBF\n",
       "[4,] 10802  BaE    Baz     TSMBF      \n",
       "[5,] 10803  BaE    Baz     TSMBF      \n",
       "[6,] 115686 BaE    Baz     TSMBF      "
      ]
     },
     "metadata": {},
     "output_type": "display_data"
    }
   ],
   "source": [
    "for(i in 1:nrow(gedi_BIOMESid_ALL)){\n",
    "    if(gedi_BIOMESid_ALL[i,\"bbiome\"] == \"BaE\") { gedi_BIOMESid_ALL[i,\"bbiome2\"] <- \"Baz\" }\n",
    "    if(gedi_BIOMESid_ALL[i,\"bbiome\"] == \"BaW\") { gedi_BIOMESid_ALL[i,\"bbiome2\"] <- \"Baz\" }    \n",
    "}\n",
    "head(gedi_BIOMESid_ALL)"
   ]
  },
  {
   "cell_type": "code",
   "execution_count": 40,
   "id": "e83b575b-29af-4bd9-8361-e43211ceffa1",
   "metadata": {},
   "outputs": [],
   "source": [
    "write.csv(gedi_BIOMESid_ALL, file=\"/projects/my-public-bucket/GEDI_global_PA_v2/WDPA_extract/allPAs_BRA_biomes.csv\", row.names=FALSE)"
   ]
  },
  {
   "cell_type": "code",
   "execution_count": null,
   "id": "cbdb34cd-e1da-4570-9b30-59338ac7d3f8",
   "metadata": {},
   "outputs": [],
   "source": [
    "##"
   ]
  },
  {
   "cell_type": "code",
   "execution_count": 74,
   "id": "f77b428b-428a-4578-abbd-adb63a586207",
   "metadata": {},
   "outputs": [],
   "source": [
    "gedi_BIOMESid_ALL <- read.csv(\"/projects/my-public-bucket/GEDI_global_PA_v2/WDPA_extract/allPAs_BRA_biomes2.csv\")"
   ]
  },
  {
   "cell_type": "code",
   "execution_count": 75,
   "id": "b26f25a8-855a-42ab-8d8f-112d5ccc03b9",
   "metadata": {},
   "outputs": [
    {
     "data": {
      "text/html": [],
      "text/latex": [],
      "text/markdown": [],
      "text/plain": [
       "integer(0)"
      ]
     },
     "metadata": {},
     "output_type": "display_data"
    }
   ],
   "source": [
    "unique(gedi_BIOMESid_ALL[which(duplicated(gedi_BIOMESid_ALL$pa_id)==TRUE),\"pa_id\"])\n",
    "saveRDS(unique(gedi_BIOMESid_ALL[which(duplicated(gedi_BIOMESid_ALL$pa_id)==TRUE),\"pa_id\"]),\n",
    "        file=\"/projects/my-public-bucket/GEDI_global_PA_v2/WDPA_extract/allPAs_BRA_biomes2_duplicatedWDPAIDs.RDS\")"
   ]
  },
  {
   "cell_type": "code",
   "execution_count": 76,
   "id": "1e5eaedc-ecf0-4337-a212-aff0f7d45e29",
   "metadata": {},
   "outputs": [
    {
     "data": {
      "text/html": [],
      "text/latex": [],
      "text/markdown": [],
      "text/plain": [
       "integer(0)"
      ]
     },
     "metadata": {},
     "output_type": "display_data"
    },
    {
     "data": {
      "text/html": [
       "<table class=\"dataframe\">\n",
       "<caption>A data.frame: 0 × 4</caption>\n",
       "<thead>\n",
       "\t<tr><th scope=col>pa_id</th><th scope=col>bbiome</th><th scope=col>bbiome2</th><th scope=col>wwfbiom</th></tr>\n",
       "\t<tr><th scope=col>&lt;int&gt;</th><th scope=col>&lt;chr&gt;</th><th scope=col>&lt;chr&gt;</th><th scope=col>&lt;chr&gt;</th></tr>\n",
       "</thead>\n",
       "<tbody>\n",
       "</tbody>\n",
       "</table>\n"
      ],
      "text/latex": [
       "A data.frame: 0 × 4\n",
       "\\begin{tabular}{llll}\n",
       " pa\\_id & bbiome & bbiome2 & wwfbiom\\\\\n",
       " <int> & <chr> & <chr> & <chr>\\\\\n",
       "\\hline\n",
       "\\end{tabular}\n"
      ],
      "text/markdown": [
       "\n",
       "A data.frame: 0 × 4\n",
       "\n",
       "| pa_id &lt;int&gt; | bbiome &lt;chr&gt; | bbiome2 &lt;chr&gt; | wwfbiom &lt;chr&gt; |\n",
       "|---|---|---|---|\n",
       "\n"
      ],
      "text/plain": [
       "     pa_id bbiome bbiome2 wwfbiom"
      ]
     },
     "metadata": {},
     "output_type": "display_data"
    }
   ],
   "source": [
    "rownum <- c()\n",
    "for(i in 1:length(gedi_paid_DUP)){\n",
    "    rownum <- c(rownum, which(gedi_BIOMESid_ALL[,\"pa_id\"]==gedi_paid_DUP[i]))\n",
    "}\n",
    "rownum\n",
    "head(gedi_BIOMESid_ALL[rownum,])"
   ]
  },
  {
   "cell_type": "code",
   "execution_count": null,
   "id": "690ec1dc-dfd0-41f5-bc49-f6523cd55f60",
   "metadata": {},
   "outputs": [],
   "source": []
  },
  {
   "cell_type": "code",
   "execution_count": 28,
   "id": "382673e3-efb9-427f-83e5-87a6a9355e5a",
   "metadata": {},
   "outputs": [
    {
     "data": {
      "text/html": [
       "96"
      ],
      "text/latex": [
       "96"
      ],
      "text/markdown": [
       "96"
      ],
      "text/plain": [
       "[1] 96"
      ]
     },
     "metadata": {},
     "output_type": "display_data"
    },
    {
     "data": {
      "text/html": [
       "1527"
      ],
      "text/latex": [
       "1527"
      ],
      "text/markdown": [
       "1527"
      ],
      "text/plain": [
       "[1] 1527"
      ]
     },
     "metadata": {},
     "output_type": "display_data"
    }
   ],
   "source": [
    "gedi_paid_DUP <- gedi_paid_ALL[which(duplicated(gedi_paid_ALL))]\n",
    "length(gedi_paid_DUP)\n",
    "\n",
    "gedi_paid_UNQ <- setdiff(gedi_paid_ALL, gedi_paid_DUP)\n",
    "length(gedi_paid_UNQ)"
   ]
  },
  {
   "cell_type": "code",
   "execution_count": 9,
   "id": "fec5e3b6-c963-43bc-8752-57d1755f8164",
   "metadata": {},
   "outputs": [
    {
     "name": "stdout",
     "output_type": "stream",
     "text": [
      "[1] 4417\n",
      "[1] 84261\n",
      "[1] 88678\n",
      "[1] 1145739\n",
      "[1] 277117\n",
      "[1] 1422856\n",
      "[1] 10221\n",
      "[1] 696\n",
      "[1] 3609\n",
      "[1] 14526\n",
      "[1] 580585\n",
      "[1] 242470\n",
      "[1] 823055\n",
      "[1] 2875511\n",
      "[1] 154\n",
      "[1] 2875665\n",
      "[1] 7904\n",
      "[1] 225071\n",
      "[1] 232975\n",
      "[1] 109803\n",
      "[1] 172181\n",
      "[1] 281984\n",
      "[1] 185405\n",
      "[1] 121595\n",
      "[1] 307000\n",
      "[1] 404263\n",
      "[1] 138346\n",
      "[1] 542609\n",
      "[1] 16228\n",
      "[1] 1022379\n",
      "[1] 1038607\n",
      "[1] 29359\n",
      "[1] 1161184\n",
      "[1] 1190543\n",
      "[1] 1600281\n",
      "[1] 701396\n",
      "[1] 2301677\n",
      "[1] 53713\n",
      "[1] 395530\n",
      "[1] 449243\n",
      "[1] 21579\n",
      "[1] 164539\n",
      "[1] 186118\n",
      "[1] 15002\n",
      "[1] 76231\n",
      "[1] 91233\n",
      "[1] 25153\n",
      "[1] 80798\n",
      "[1] 105951\n",
      "[1] 111715\n",
      "[1] 723027\n",
      "[1] 834742\n",
      "[1] 41341\n",
      "[1] 568766\n",
      "[1] 610107\n",
      "[1] 25154\n",
      "[1] 283866\n",
      "[1] 309020\n",
      "[1] 819852\n",
      "[1] 7469\n",
      "[1] 827321\n",
      "[1] 2673597\n",
      "[1] 2030438\n",
      "[1] 4704035\n",
      "[1] 1011815\n",
      "[1] 2255\n",
      "[1] 1014070\n",
      "[1] 837354\n",
      "[1] 758621\n",
      "[1] 33467\n",
      "[1] 1629442\n",
      "[1] 11370\n",
      "[1] 415525\n",
      "[1] 426895\n",
      "[1] 1212885\n",
      "[1] 17640\n",
      "[1] 1230525\n",
      "[1] 4932\n",
      "[1] 759456\n",
      "[1] 764388\n",
      "[1] 26820\n",
      "[1] 568630\n",
      "[1] 595450\n",
      "[1] 37786\n",
      "[1] 3625\n",
      "[1] 41411\n",
      "[1] 607442\n",
      "[1] 10323\n",
      "[1] 617765\n",
      "[1] 135001\n",
      "[1] 141812\n",
      "[1] 276813\n",
      "[1] 3294\n",
      "[1] 118096\n",
      "[1] 121390\n",
      "[1] 310949\n",
      "[1] 4803\n",
      "[1] 315752\n",
      "[1] 13662\n",
      "[1] 1411\n",
      "[1] 15073\n",
      "[1] 1026\n",
      "[1] 46370\n",
      "[1] 47396\n",
      "[1] 36287\n",
      "[1] 14894\n",
      "[1] 51181\n",
      "[1] 66267\n",
      "[1] 960869\n",
      "[1] 1027136\n",
      "[1] 110\n",
      "[1] 182629\n",
      "[1] 182739\n",
      "[1] 4082\n",
      "[1] 5285\n",
      "[1] 9367\n",
      "[1] 94\n",
      "[1] 11396\n",
      "[1] 11490\n",
      "[1] 4835\n",
      "[1] 257\n",
      "[1] 5092\n",
      "[1] 10221\n",
      "[1] 696\n",
      "[1] 3609\n",
      "[1] 14526\n",
      "[1] 2405\n",
      "[1] 29361\n",
      "[1] 31766\n",
      "[1] 90868\n",
      "[1] 91674\n",
      "[1] 182542\n",
      "[1] 604\n",
      "[1] 1495323\n",
      "[1] 1495927\n",
      "[1] 990\n",
      "[1] 8839\n",
      "[1] 9829\n",
      "[1] 74\n",
      "[1] 110800\n",
      "[1] 110874\n",
      "[1] 12536\n",
      "[1] 2633\n",
      "[1] 15169\n",
      "[1] 10564\n",
      "[1] 279\n",
      "[1] 10843\n",
      "[1] 4444\n",
      "[1] 10882\n",
      "[1] 15326\n",
      "[1] 1425632\n",
      "[1] 19470\n",
      "[1] 1445102\n",
      "[1] 35\n",
      "[1] 1023\n",
      "[1] 1058\n",
      "[1] 1566\n",
      "[1] 301\n",
      "[1] 1867\n",
      "[1] 181\n",
      "[1] 46\n",
      "[1] 227\n",
      "[1] 7409\n",
      "[1] 734\n",
      "[1] 8143\n",
      "[1] 112627\n",
      "[1] 31268\n",
      "[1] 143895\n",
      "[1] 170980\n",
      "[1] 94252\n",
      "[1] 265232\n",
      "[1] 837354\n",
      "[1] 758621\n",
      "[1] 33467\n",
      "[1] 1629442\n",
      "[1] 392\n",
      "[1] 13146\n",
      "[1] 13538\n",
      "[1] 284911\n",
      "[1] 15248\n",
      "[1] 300159\n",
      "[1] 203\n",
      "[1] 8495\n",
      "[1] 8698\n",
      "[1] 2806\n",
      "[1] 1562\n",
      "[1] 4368\n",
      "[1] 11013\n",
      "[1] 446\n",
      "[1] 11459\n",
      "[1] 1506330\n",
      "[1] 20591\n",
      "[1] 1526921\n",
      "[1] 3805\n",
      "[1] 773\n",
      "[1] 4578\n",
      "[1] 17576\n",
      "[1] 51069\n",
      "[1] 68645\n",
      "[1] 83\n",
      "[1] 209\n",
      "[1] 292\n",
      "[1] 3135\n",
      "[1] 5678\n",
      "[1] 8813\n",
      "[1] 1627\n",
      "[1] 374\n",
      "[1] 2001\n",
      "[1] 32366\n",
      "[1] 9074\n",
      "[1] 41440\n",
      "[1] 10895\n",
      "[1] 122\n",
      "[1] 11017\n",
      "[1] 891\n",
      "[1] 974\n",
      "[1] 1865\n",
      "[1] 293\n",
      "[1] 1217\n",
      "[1] 1510\n",
      "[1] 261\n",
      "[1] 788\n",
      "[1] 1049\n",
      "[1] 9257\n",
      "[1] 2620\n",
      "[1] 11877\n",
      "[1] 152040\n",
      "[1] 98835\n",
      "[1] 250875\n",
      "[1] 181820\n",
      "[1] 110844\n",
      "[1] 292664\n",
      "[1] 2239\n",
      "[1] 308441\n",
      "[1] 310680\n",
      "[1] 349471\n",
      "[1] 392\n",
      "[1] 349863\n",
      "[1] 66896\n",
      "[1] 6795\n",
      "[1] 73691\n",
      "[1] 119130\n",
      "[1] 33628\n",
      "[1] 152758\n",
      "[1] 217220\n",
      "[1] 126474\n",
      "[1] 343694\n",
      "[1] 11072\n",
      "[1] 26241\n",
      "[1] 37313\n",
      "[1] 5895\n",
      "[1] 19394\n",
      "[1] 25289\n",
      "[1] 8718\n",
      "[1] 4258\n",
      "[1] 12976\n",
      "[1] 5538\n",
      "[1] 4805\n",
      "[1] 10343\n",
      "[1] 39135\n",
      "[1] 40920\n",
      "[1] 80055\n",
      "[1] 32882\n",
      "[1] 129811\n",
      "[1] 162693\n",
      "[1] 5339\n",
      "[1] 24877\n",
      "[1] 30216\n",
      "[1] 103782\n",
      "[1] 98748\n",
      "[1] 202530\n",
      "[1] 4449\n",
      "[1] 16091\n",
      "[1] 20540\n",
      "[1] 11336\n",
      "[1] 10323\n",
      "[1] 21659\n",
      "[1] 10735\n",
      "[1] 1118\n",
      "[1] 11853\n",
      "[1] 4507\n",
      "[1] 1349\n",
      "[1] 5856\n",
      "[1] 5681\n",
      "[1] 5268\n",
      "[1] 10949\n",
      "[1] 62\n",
      "[1] 9555\n",
      "[1] 9617\n",
      "[1] 232\n",
      "[1] 201\n",
      "[1] 433\n"
     ]
    }
   ],
   "source": [
    "for(i in 1:length(gedi_paid_DUP)){\n",
    "#print(i)\n",
    "DUP_id <- gedi_paid_DUP[i]\n",
    "#print(DUP_id)\n",
    "DUP_paf <- gedi_paf_ALL[which(gedi_paid_ALL == DUP_id)]\n",
    "#print(length(DUP_paf))\n",
    "wwfbiom <- strsplit(strsplit(DUP_paf[1], split=c(\"_conti_biome_\"))[[1]][2], split=\".RDS\")[[1]]\n",
    "    \n",
    "#    if(file.exists(output_file)){\n",
    "#        print(paste(\"csv file already exists for \",DUP_id,sep=\"\"))\n",
    "#    }    \n",
    "#    else\n",
    "        \n",
    "    if(length(DUP_paf) == 2){\n",
    "    \n",
    "        pa_metrics1 <- readRDS(DUP_paf[1]) %>% unique()\n",
    "        print(nrow(pa_metrics1))\n",
    "        pa_metrics2 <- readRDS(DUP_paf[2]) %>% unique() \n",
    "        print(nrow(pa_metrics2))\n",
    "        pa_metrics_ALL <- rbind(pa_metrics1, pa_metrics2)    \n",
    "        print(nrow(pa_metrics_ALL))    \n",
    "        wwfbiom <- strsplit(strsplit(DUP_paf[1], split=c(\"_conti_biome_\"))[[1]][2], split=\".RDS\")[[1]]\n",
    "    write.csv(pa_metrics_ALL, file=paste(f.path,\"/WDPA_extract/pa_stats_ALL/BRA_pa_\",DUP_id,\"_gedi_wk24_\",wwfbiom,\".csv\",sep=\"\"))\n",
    "    }\n",
    "    else\n",
    "    \n",
    "    if(length(DUP_paf) == 3){\n",
    "        pa_metrics1 <- readRDS(DUP_paf[1]) %>% unique()\n",
    "        print(nrow(pa_metrics1))\n",
    "        pa_metrics2 <- readRDS(DUP_paf[2]) %>% unique() \n",
    "        print(nrow(pa_metrics2))\n",
    "        pa_metrics3 <- readRDS(DUP_paf[3]) %>% unique()\n",
    "        print(nrow(pa_metrics3))\n",
    "        pa_metrics_ALL <- rbind(pa_metrics1, pa_metrics2, pa_metrics3)\n",
    "        print(nrow(pa_metrics_ALL))\n",
    "        wwfbiom <- strsplit(strsplit(DUP_paf[1], split=c(\"_conti_biome_\"))[[1]][2], split=\".RDS\")[[1]]\n",
    "    write.csv(pa_metrics_ALL, file=paste(f.path,\"/WDPA_extract/pa_stats_ALL/BRA_pa_\",DUP_id,\"_gedi_wk24_\",wwfbiom,\".csv\",sep=\"\"))\n",
    "    }\n",
    "    else\n",
    "        \n",
    "    if(length(DUP_paf) > 3){\n",
    "        print(paste(\"there are more than 3 files with pa_id = \", DUP_id, sep=\"\"))\n",
    "    }\n",
    "}"
   ]
  },
  {
   "cell_type": "code",
   "execution_count": 10,
   "id": "0bde6984-8a3d-4263-aea5-4177b51e428a",
   "metadata": {},
   "outputs": [
    {
     "data": {
      "text/html": [
       "1527"
      ],
      "text/latex": [
       "1527"
      ],
      "text/markdown": [
       "1527"
      ],
      "text/plain": [
       "[1] 1527"
      ]
     },
     "metadata": {},
     "output_type": "display_data"
    }
   ],
   "source": [
    "length(gedi_paid_UNQ)"
   ]
  },
  {
   "cell_type": "code",
   "execution_count": 20,
   "id": "3eb31445-834e-4215-929f-74f5cffeffe3",
   "metadata": {},
   "outputs": [
    {
     "data": {
      "text/html": [
       "97"
      ],
      "text/latex": [
       "97"
      ],
      "text/markdown": [
       "97"
      ],
      "text/plain": [
       "[1] 97"
      ]
     },
     "metadata": {},
     "output_type": "display_data"
    }
   ],
   "source": [
    "which(gedi_paid_ALL == 351813)"
   ]
  },
  {
   "cell_type": "code",
   "execution_count": 17,
   "id": "8811f69d-42ac-455c-a5b0-23f6bbd82a5c",
   "metadata": {},
   "outputs": [
    {
     "name": "stdout",
     "output_type": "stream",
     "text": [
      "[1] NA\n"
     ]
    },
    {
     "ename": "ERROR",
     "evalue": "Error in h(simpleError(msg, call)): error in evaluating the argument 'x' in selecting a method for function 'unique': invalid 'description' argument\n",
     "output_type": "error",
     "traceback": [
      "Error in h(simpleError(msg, call)): error in evaluating the argument 'x' in selecting a method for function 'unique': invalid 'description' argument\nTraceback:\n",
      "1. readRDS(UNQ_paf) %>% unique()",
      "2. unique(.)",
      "3. readRDS(UNQ_paf)",
      "4. readRDS(UNQ_paf)",
      "5. base::readRDS(file = file, refhook = refhook)",
      "6. gzfile(file, \"rb\")",
      "7. .handleSimpleError(function (cond) \n . .Internal(C_tryCatchHelper(addr, 1L, cond)), \"invalid 'description' argument\", \n .     base::quote(gzfile(file, \"rb\")))",
      "8. h(simpleError(msg, call))"
     ]
    }
   ],
   "source": [
    "#------------\n",
    "#from_i <- 1\n",
    "from_i <- which(gedi_paid_ALL == 67816)\n",
    "#for(i in 1:length(gedi_paid_UNQ)){\n",
    "for(i in from_i:length(gedi_paid_UNQ)){\n",
    "\n",
    "    UNQ_id <- gedi_paid_UNQ[i]\n",
    "    UNQ_paf <- gedi_paf_ALL[which(gedi_paid_ALL == UNQ_id)]\n",
    "    wwfbiom <- strsplit(strsplit(UNQ_paf[1], split=c(\"_conti_biome_\"))[[1]][2], split=\".RDS\")[[1]]\n",
    "    #print(UNQ_paf)\n",
    "\n",
    "#    if(file.exists(paste(f.path,\"/WDPA_extract/pa_stats_ALL/BRA_pa_\",UNQ_id,\"_gedi_wk24_\",wwfbiom,\".csv\",sep=\"\"))){\n",
    "#        print(paste(\"csv file already exists for \",UNQ_id,sep=\"\"))\n",
    "#    } else {\n",
    "\n",
    "    print(UNQ_id)\n",
    "    pa_metrics <- readRDS(UNQ_paf) %>% unique()\n",
    "    wwfbiom <- strsplit(strsplit(UNQ_paf, split=c(\"_conti_biome_\"))[[1]][2], split=\".RDS\")[[1]]\n",
    "    write.csv(pa_metrics,\n",
    "        file=paste(f.path,\"/WDPA_extract/pa_stats_ALL/BRA_pa_\",UNQ_id,\"_gedi_wk24_\",wwfbiom,\".csv\",sep=\"\"))\n",
    "#    }\n",
    "}"
   ]
  },
  {
   "cell_type": "code",
   "execution_count": 19,
   "id": "fddf8485-5dc7-4bf7-b1ad-e7a9084f794c",
   "metadata": {},
   "outputs": [
    {
     "name": "stdout",
     "output_type": "stream",
     "text": [
      "[1] 1621\n"
     ]
    }
   ],
   "source": [
    "print(length(list.files(paste(f.path,\"/WDPA_extract/pa_stats_ALL/\",sep=\"\"))))"
   ]
  },
  {
   "cell_type": "code",
   "execution_count": 26,
   "id": "ae9a5a6b-e83f-49e0-815e-c7eaac22e4e3",
   "metadata": {},
   "outputs": [
    {
     "name": "stdout",
     "output_type": "stream",
     "text": [
      "[1] \"/projects/my-public-bucket/GEDI_global_PA_v2/WDPA_extract/BaW_wk24/BaW_pa_33920_gedi_wk_24_conti_biome_TSMBF.RDS\"\n",
      "[1] 33920\n"
     ]
    }
   ],
   "source": [
    "# process error files\n",
    "    UNQ_id <- 33920\n",
    "    UNQ_paf <- gedi_paf_ALL[which(gedi_paid_ALL == UNQ_id)]\n",
    "print(UNQ_paf)\n",
    "    wwfbiom <- strsplit(strsplit(UNQ_paf[1], split=c(\"_conti_biome_\"))[[1]][2], split=\".RDS\")[[1]]\n",
    "    print(UNQ_id)\n",
    "    pa_metrics <- readRDS(UNQ_paf) %>% unique()\n",
    "    wwfbiom <- strsplit(strsplit(UNQ_paf, split=c(\"_conti_biome_\"))[[1]][2], split=\".RDS\")[[1]]\n",
    "    write.csv(pa_metrics,\n",
    "        file=paste(f.path,\"/WDPA_extract/pa_stats_ALL/BRA_pa_\",UNQ_id,\"_gedi_wk24_\",wwfbiom,\".csv\",sep=\"\"))\n",
    "#"
   ]
  },
  {
   "cell_type": "code",
   "execution_count": 4,
   "id": "decee813-0ed6-4eb9-bf26-46a06920ca51",
   "metadata": {},
   "outputs": [
    {
     "data": {
      "text/html": [
       "1621"
      ],
      "text/latex": [
       "1621"
      ],
      "text/markdown": [
       "1621"
      ],
      "text/plain": [
       "[1] 1621"
      ]
     },
     "metadata": {},
     "output_type": "display_data"
    }
   ],
   "source": [
    "length(list.files(paste(f.path,\"/WDPA_extract/pa_stats_ALL/\",sep=\"\")))"
   ]
  },
  {
   "cell_type": "code",
   "execution_count": null,
   "id": "b35addc6-b0b5-439d-af39-4c89b352beb1",
   "metadata": {},
   "outputs": [],
   "source": []
  },
  {
   "cell_type": "code",
   "execution_count": null,
   "id": "5872f1ac-106e-49ec-aded-81c751376377",
   "metadata": {},
   "outputs": [],
   "source": []
  },
  {
   "cell_type": "code",
   "execution_count": null,
   "id": "c64f8252-1f8c-4057-b4c7-e477943b4d87",
   "metadata": {},
   "outputs": [],
   "source": []
  }
 ],
 "metadata": {
  "kernelspec": {
   "display_name": "R",
   "language": "R",
   "name": "ir"
  },
  "language_info": {
   "codemirror_mode": "r",
   "file_extension": ".r",
   "mimetype": "text/x-r-source",
   "name": "R",
   "pygments_lexer": "r",
   "version": "4.2.3"
  }
 },
 "nbformat": 4,
 "nbformat_minor": 5
}
