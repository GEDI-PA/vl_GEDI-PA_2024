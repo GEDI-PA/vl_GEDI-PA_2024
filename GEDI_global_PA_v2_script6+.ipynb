{
 "cells": [
  {
   "cell_type": "code",
   "execution_count": 1,
   "id": "ba2260d9-d54a-4bd6-8a64-ecf988134a90",
   "metadata": {},
   "outputs": [],
   "source": [
    "## calculating GEDI summary stats from extracted dataframes"
   ]
  },
  {
   "cell_type": "code",
   "execution_count": 2,
   "id": "8f071baa-3248-40a1-88f2-68672c5e0fbb",
   "metadata": {},
   "outputs": [
    {
     "name": "stderr",
     "output_type": "stream",
     "text": [
      "Updating HTML index of packages in '.Library'\n",
      "\n",
      "Making 'packages.html' ...\n",
      " done\n",
      "\n"
     ]
    }
   ],
   "source": [
    "install.packages(\"s3\")\n",
    "#install.packages(\"doParallel\")\n",
    "#install.packages(\"RItools\")    "
   ]
  },
  {
   "cell_type": "code",
   "execution_count": 3,
   "id": "b8ee78bd-f1ae-419a-8f56-8bbead3471a0",
   "metadata": {},
   "outputs": [
    {
     "name": "stderr",
     "output_type": "stream",
     "text": [
      "terra 1.7.29\n",
      "\n",
      "\n",
      "Attaching package: ‘dplyr’\n",
      "\n",
      "\n",
      "The following objects are masked from ‘package:terra’:\n",
      "\n",
      "    intersect, union\n",
      "\n",
      "\n",
      "The following objects are masked from ‘package:stats’:\n",
      "\n",
      "    filter, lag\n",
      "\n",
      "\n",
      "The following objects are masked from ‘package:base’:\n",
      "\n",
      "    intersect, setdiff, setequal, union\n",
      "\n",
      "\n",
      "Linking to GEOS 3.11.2, GDAL 3.7.0, PROJ 9.2.0; sf_use_s2() is TRUE\n",
      "\n"
     ]
    }
   ],
   "source": [
    "library(\"terra\")\n",
    "library(\"dplyr\")\n",
    "library(\"sf\")\n",
    "library(\"s3\")\n",
    "library(\"sp\")\n",
    "library(\"foreach\")\n",
    "library(\"stringr\")\n",
    "library(\"aws.s3\")\n",
    "#library(\"doParallel\")\n",
    "#library(\"RItools\")"
   ]
  },
  {
   "cell_type": "code",
   "execution_count": 4,
   "id": "d8ff358b-e530-4588-87a2-e9920fc8a32b",
   "metadata": {},
   "outputs": [],
   "source": [
    "#f.path <- \"s3://maap-ops-workspace/shared/leitoldv/GEDI_global_PA_v2/\"\n",
    "f.path <- \"/projects/my-public-bucket/GEDI_global_PA_v2/\"\n",
    "gediwk <- 24"
   ]
  },
  {
   "cell_type": "code",
   "execution_count": 8,
   "id": "6fc4ba75-3844-4eee-8f36-ab7dd0179814",
   "metadata": {},
   "outputs": [
    {
     "data": {
      "text/html": [
       "240"
      ],
      "text/latex": [
       "240"
      ],
      "text/markdown": [
       "240"
      ],
      "text/plain": [
       "[1] 240"
      ]
     },
     "metadata": {},
     "output_type": "display_data"
    },
    {
     "name": "stdout",
     "output_type": "stream",
     "text": [
      "[1] \"/projects/my-public-bucket/GEDI_global_PA_v2/WDPA_extract/BaE_wk24/BaE_pa_10795_gedi_wk_24_conti_biome_TSMBF.RDS\"\n",
      "[1] 1376957\n",
      "[1] \"/projects/my-public-bucket/GEDI_global_PA_v2/WDPA_extract/BaE_wk24/BaE_pa_10801_gedi_wk_24_conti_biome_TSGSS+TSMBF.RDS\"\n",
      "[1] 2377655\n",
      "[1] \"/projects/my-public-bucket/GEDI_global_PA_v2/WDPA_extract/BaE_wk24/BaE_pa_10802_gedi_wk_24_conti_biome_TSMBF.RDS\"\n",
      "[1] 2982839\n",
      "[1] \"/projects/my-public-bucket/GEDI_global_PA_v2/WDPA_extract/BaE_wk24/BaE_pa_10803_gedi_wk_24_conti_biome_TSMBF.RDS\"\n",
      "[1] 3436722\n",
      "[1] \"/projects/my-public-bucket/GEDI_global_PA_v2/WDPA_extract/BaE_wk24/BaE_pa_115686_gedi_wk_24_conti_biome_TSMBF.RDS\"\n",
      "[1] 3923078\n",
      "[1] \"/projects/my-public-bucket/GEDI_global_PA_v2/WDPA_extract/BaE_wk24/BaE_pa_115700_gedi_wk_24_conti_biome_TSDBF.RDS\"\n",
      "[1] 3936982\n",
      "[1] \"/projects/my-public-bucket/GEDI_global_PA_v2/WDPA_extract/BaE_wk24/BaE_pa_115765_gedi_wk_24_conti_biome_TSGSS.RDS\"\n",
      "[1] 3964946\n",
      "[1] \"/projects/my-public-bucket/GEDI_global_PA_v2/WDPA_extract/BaE_wk24/BaE_pa_115769_gedi_wk_24_conti_biome_TSDBF+TSGSS.RDS\"\n",
      "[1] 3985636\n",
      "[1] \"/projects/my-public-bucket/GEDI_global_PA_v2/WDPA_extract/BaE_wk24/BaE_pa_115772_gedi_wk_24_conti_biome_TSMBF.RDS\"\n",
      "[1] 4147028\n",
      "[1] \"/projects/my-public-bucket/GEDI_global_PA_v2/WDPA_extract/BaE_wk24/BaE_pa_19450_gedi_wk_24_conti_biome_TSMBF.RDS\"\n",
      "[1] 4148981\n",
      "[1] \"/projects/my-public-bucket/GEDI_global_PA_v2/WDPA_extract/BaE_wk24/BaE_pa_19505_gedi_wk_24_conti_biome_TSMBF.RDS\"\n",
      "[1] 4650423\n",
      "[1] \"/projects/my-public-bucket/GEDI_global_PA_v2/WDPA_extract/BaE_wk24/BaE_pa_19506_gedi_wk_24_conti_biome_TSMBF.RDS\"\n",
      "[1] 5109960\n",
      "[1] \"/projects/my-public-bucket/GEDI_global_PA_v2/WDPA_extract/BaE_wk24/BaE_pa_19745_gedi_wk_24_conti_biome_TSMBF.RDS\"\n",
      "[1] 5564045\n",
      "[1] \"/projects/my-public-bucket/GEDI_global_PA_v2/WDPA_extract/BaE_wk24/BaE_pa_19755_gedi_wk_24_conti_biome_TSMBF.RDS\"\n",
      "[1] 5590024\n",
      "[1] \"/projects/my-public-bucket/GEDI_global_PA_v2/WDPA_extract/BaE_wk24/BaE_pa_198359_gedi_wk_24_conti_biome_TSMBF.RDS\"\n",
      "[1] 6418322\n",
      "[1] \"/projects/my-public-bucket/GEDI_global_PA_v2/WDPA_extract/BaE_wk24/BaE_pa_198360_gedi_wk_24_conti_biome_TSMBF.RDS\"\n",
      "[1] 6882325\n",
      "[1] \"/projects/my-public-bucket/GEDI_global_PA_v2/WDPA_extract/BaE_wk24/BaE_pa_198361_gedi_wk_24_conti_biome_TSMBF.RDS\"\n",
      "[1] 7057365\n",
      "[1] \"/projects/my-public-bucket/GEDI_global_PA_v2/WDPA_extract/BaE_wk24/BaE_pa_198362_gedi_wk_24_conti_biome_TSMBF.RDS\"\n",
      "[1] 7181454\n",
      "[1] \"/projects/my-public-bucket/GEDI_global_PA_v2/WDPA_extract/BaE_wk24/BaE_pa_198363_gedi_wk_24_conti_biome_TSMBF.RDS\"\n",
      "[1] 7662325\n",
      "[1] \"/projects/my-public-bucket/GEDI_global_PA_v2/WDPA_extract/BaE_wk24/BaE_pa_2219_gedi_wk_24_conti_biome_TSMBF.RDS\"\n",
      "[1] 7685348\n",
      "[1] \"/projects/my-public-bucket/GEDI_global_PA_v2/WDPA_extract/BaE_wk24/BaE_pa_31769_gedi_wk_24_conti_biome_TSMBF.RDS\"\n",
      "[1] 8215104\n",
      "[1] \"/projects/my-public-bucket/GEDI_global_PA_v2/WDPA_extract/BaE_wk24/BaE_pa_31770_gedi_wk_24_conti_biome_TSMBF.RDS\"\n",
      "[1] 8473911\n",
      "[1] \"/projects/my-public-bucket/GEDI_global_PA_v2/WDPA_extract/BaE_wk24/BaE_pa_31776_gedi_wk_24_conti_biome_TSMBF.RDS\"\n",
      "[1] 9025672\n",
      "[1] \"/projects/my-public-bucket/GEDI_global_PA_v2/WDPA_extract/BaE_wk24/BaE_pa_33524_gedi_wk_24_conti_biome_TSMBF.RDS\"\n",
      "[1] 9030089\n",
      "[1] \"/projects/my-public-bucket/GEDI_global_PA_v2/WDPA_extract/BaE_wk24/BaE_pa_33623_gedi_wk_24_conti_biome_TSGSS.RDS\"\n",
      "[1] 9039388\n",
      "[1] \"/projects/my-public-bucket/GEDI_global_PA_v2/WDPA_extract/BaE_wk24/BaE_pa_33712_gedi_wk_24_conti_biome_TSMBF.RDS\"\n",
      "[1] 9150669\n",
      "[1] \"/projects/my-public-bucket/GEDI_global_PA_v2/WDPA_extract/BaE_wk24/BaE_pa_33812_gedi_wk_24_conti_biome_TSMBF.RDS\"\n",
      "[1] 9816979\n",
      "[1] \"/projects/my-public-bucket/GEDI_global_PA_v2/WDPA_extract/BaE_wk24/BaE_pa_33889_gedi_wk_24_conti_biome_TSMBF.RDS\"\n",
      "[1] 10962718\n",
      "[1] \"/projects/my-public-bucket/GEDI_global_PA_v2/WDPA_extract/BaE_wk24/BaE_pa_33926_gedi_wk_24_conti_biome_TSMBF.RDS\"\n",
      "[1] 11698748\n",
      "[1] \"/projects/my-public-bucket/GEDI_global_PA_v2/WDPA_extract/BaE_wk24/BaE_pa_33927_gedi_wk_24_conti_biome_TSMBF+TSGSS.RDS\"\n",
      "[1] 12009697\n",
      "[1] \"/projects/my-public-bucket/GEDI_global_PA_v2/WDPA_extract/BaE_wk24/BaE_pa_33928_gedi_wk_24_conti_biome_TSMBF.RDS\"\n",
      "[1] 12168636\n",
      "[1] \"/projects/my-public-bucket/GEDI_global_PA_v2/WDPA_extract/BaE_wk24/BaE_pa_33931_gedi_wk_24_conti_biome_TSMBF.RDS\"\n",
      "[1] 12383028\n",
      "[1] \"/projects/my-public-bucket/GEDI_global_PA_v2/WDPA_extract/BaE_wk24/BaE_pa_33932_gedi_wk_24_conti_biome_TSMBF+TSGSS.RDS\"\n",
      "[1] 12396690\n",
      "[1] \"/projects/my-public-bucket/GEDI_global_PA_v2/WDPA_extract/BaE_wk24/BaE_pa_33933_gedi_wk_24_conti_biome_TSGSS.RDS\"\n",
      "[1] 12397716\n",
      "[1] \"/projects/my-public-bucket/GEDI_global_PA_v2/WDPA_extract/BaE_wk24/BaE_pa_33939_gedi_wk_24_conti_biome_TSMBF.RDS\"\n",
      "[1] 12407246\n",
      "[1] \"/projects/my-public-bucket/GEDI_global_PA_v2/WDPA_extract/BaE_wk24/BaE_pa_33942_gedi_wk_24_conti_biome_TSMBF.RDS\"\n",
      "[1] 12595256\n",
      "[1] \"/projects/my-public-bucket/GEDI_global_PA_v2/WDPA_extract/BaE_wk24/BaE_pa_33951_gedi_wk_24_conti_biome_TSMBF.RDS\"\n",
      "[1] 13392482\n",
      "[1] \"/projects/my-public-bucket/GEDI_global_PA_v2/WDPA_extract/BaE_wk24/BaE_pa_33952_gedi_wk_24_conti_biome_TSMBF.RDS\"\n",
      "[1] 13511553\n",
      "[1] \"/projects/my-public-bucket/GEDI_global_PA_v2/WDPA_extract/BaE_wk24/BaE_pa_33953_gedi_wk_24_conti_biome_TSMBF.RDS\"\n",
      "[1] 13786762\n",
      "[1] \"/projects/my-public-bucket/GEDI_global_PA_v2/WDPA_extract/BaE_wk24/BaE_pa_33957_gedi_wk_24_conti_biome_TSGSS.RDS\"\n",
      "[1] 13823049\n",
      "[1] \"/projects/my-public-bucket/GEDI_global_PA_v2/WDPA_extract/BaE_wk24/BaE_pa_33958_gedi_wk_24_conti_biome_TSMBF.RDS\"\n",
      "[1] 14071384\n",
      "[1] \"/projects/my-public-bucket/GEDI_global_PA_v2/WDPA_extract/BaE_wk24/BaE_pa_33965_gedi_wk_24_conti_biome_TSGSS+TSDBF.RDS\"\n",
      "[1] 14137651\n",
      "[1] \"/projects/my-public-bucket/GEDI_global_PA_v2/WDPA_extract/BaE_wk24/BaE_pa_33969_gedi_wk_24_conti_biome_TSGSS.RDS\"\n",
      "[1] 14137761\n",
      "[1] \"/projects/my-public-bucket/GEDI_global_PA_v2/WDPA_extract/BaE_wk24/BaE_pa_33972_gedi_wk_24_conti_biome_TSGSS.RDS\"\n",
      "[1] 14137855\n",
      "[1] \"/projects/my-public-bucket/GEDI_global_PA_v2/WDPA_extract/BaE_wk24/BaE_pa_33980_gedi_wk_24_conti_biome_TSGSS+TSDBF.RDS\"\n",
      "[1] 14219750\n",
      "[1] \"/projects/my-public-bucket/GEDI_global_PA_v2/WDPA_extract/BaE_wk24/BaE_pa_33981_gedi_wk_24_conti_biome_TSMBF.RDS\"\n",
      "[1] 14424183\n",
      "[1] \"/projects/my-public-bucket/GEDI_global_PA_v2/WDPA_extract/BaE_wk24/BaE_pa_33987_gedi_wk_24_conti_biome_TSDBF.RDS\"\n",
      "[1] 14429018\n",
      "[1] \"/projects/my-public-bucket/GEDI_global_PA_v2/WDPA_extract/BaE_wk24/BaE_pa_33989_gedi_wk_24_conti_biome_TSDBF+TSGSS.RDS\"\n",
      "[1] 14439239\n",
      "[1] \"/projects/my-public-bucket/GEDI_global_PA_v2/WDPA_extract/BaE_wk24/BaE_pa_33990_gedi_wk_24_conti_biome_TSMBF.RDS\"\n",
      "[1] 14872883\n",
      "[1] \"/projects/my-public-bucket/GEDI_global_PA_v2/WDPA_extract/BaE_wk24/BaE_pa_33991_gedi_wk_24_conti_biome_TSMBF.RDS\"\n",
      "[1] 15191593\n",
      "[1] \"/projects/my-public-bucket/GEDI_global_PA_v2/WDPA_extract/BaE_wk24/BaE_pa_33992_gedi_wk_24_conti_biome_TSMBF.RDS\"\n",
      "[1] 15202512\n",
      "[1] \"/projects/my-public-bucket/GEDI_global_PA_v2/WDPA_extract/BaE_wk24/BaE_pa_33993_gedi_wk_24_conti_biome_TSMBF.RDS\"\n",
      "[1] 15210013\n",
      "[1] \"/projects/my-public-bucket/GEDI_global_PA_v2/WDPA_extract/BaE_wk24/BaE_pa_33994_gedi_wk_24_conti_biome_TSMBF.RDS\"\n",
      "[1] 15790598\n",
      "[1] \"/projects/my-public-bucket/GEDI_global_PA_v2/WDPA_extract/BaE_wk24/BaE_pa_33995_gedi_wk_24_conti_biome_TSMBF.RDS\"\n",
      "[1] 16710905\n",
      "[1] \"/projects/my-public-bucket/GEDI_global_PA_v2/WDPA_extract/BaE_wk24/BaE_pa_33998_gedi_wk_24_conti_biome_TSMBF.RDS\"\n",
      "[1] 17867172\n",
      "[1] \"/projects/my-public-bucket/GEDI_global_PA_v2/WDPA_extract/BaE_wk24/BaE_pa_34000_gedi_wk_24_conti_biome_TSMBF.RDS\"\n",
      "[1] 19973526\n",
      "[1] \"/projects/my-public-bucket/GEDI_global_PA_v2/WDPA_extract/BaE_wk24/BaE_pa_34001_gedi_wk_24_conti_biome_TSMBF.RDS\"\n",
      "[1] 20528722\n",
      "[1] \"/projects/my-public-bucket/GEDI_global_PA_v2/WDPA_extract/BaE_wk24/BaE_pa_34004_gedi_wk_24_conti_biome_TSMBF.RDS\"\n",
      "[1] 24584059\n",
      "[1] \"/projects/my-public-bucket/GEDI_global_PA_v2/WDPA_extract/BaE_wk24/BaE_pa_34007_gedi_wk_24_conti_biome_TSMBF.RDS\"\n",
      "[1] 24713520\n",
      "[1] \"/projects/my-public-bucket/GEDI_global_PA_v2/WDPA_extract/BaE_wk24/BaE_pa_34009_gedi_wk_24_conti_biome_TSMBF.RDS\"\n",
      "[1] 24792401\n",
      "[1] \"/projects/my-public-bucket/GEDI_global_PA_v2/WDPA_extract/BaE_wk24/BaE_pa_34010_gedi_wk_24_conti_biome_TSMBF.RDS\"\n",
      "[1] 27667912\n",
      "[1] \"/projects/my-public-bucket/GEDI_global_PA_v2/WDPA_extract/BaE_wk24/BaE_pa_34012_gedi_wk_24_conti_biome_TSMBF.RDS\"\n",
      "[1] 27673087\n",
      "[1] \"/projects/my-public-bucket/GEDI_global_PA_v2/WDPA_extract/BaE_wk24/BaE_pa_34013_gedi_wk_24_conti_biome_TSMBF.RDS\"\n",
      "[1] 28105942\n",
      "[1] \"/projects/my-public-bucket/GEDI_global_PA_v2/WDPA_extract/BaE_wk24/BaE_pa_34015_gedi_wk_24_conti_biome_TSMBF.RDS\"\n",
      "[1] 28249808\n",
      "[1] \"/projects/my-public-bucket/GEDI_global_PA_v2/WDPA_extract/BaE_wk24/BaE_pa_34016_gedi_wk_24_conti_biome_TSMBF.RDS\"\n",
      "[1] 28278313\n",
      "[1] \"/projects/my-public-bucket/GEDI_global_PA_v2/WDPA_extract/BaE_wk24/BaE_pa_34017_gedi_wk_24_conti_biome_TSMBF.RDS\"\n",
      "[1] 28279597\n",
      "[1] \"/projects/my-public-bucket/GEDI_global_PA_v2/WDPA_extract/BaE_wk24/BaE_pa_34018_gedi_wk_24_conti_biome_TSMBF.RDS\"\n",
      "[1] 28302530\n",
      "[1] \"/projects/my-public-bucket/GEDI_global_PA_v2/WDPA_extract/BaE_wk24/BaE_pa_34022_gedi_wk_24_conti_biome_TSMBF.RDS\"\n",
      "[1] 28307576\n",
      "[1] \"/projects/my-public-bucket/GEDI_global_PA_v2/WDPA_extract/BaE_wk24/BaE_pa_34031_gedi_wk_24_conti_biome_TSMBF.RDS\"\n",
      "[1] 28315480\n",
      "[1] \"/projects/my-public-bucket/GEDI_global_PA_v2/WDPA_extract/BaE_wk24/BaE_pa_34041_gedi_wk_24_conti_biome_TSMBF.RDS\"\n",
      "[1] 28425283\n",
      "[1] \"/projects/my-public-bucket/GEDI_global_PA_v2/WDPA_extract/BaE_wk24/BaE_pa_34043_gedi_wk_24_conti_biome_TSMBF.RDS\"\n",
      "[1] 28610688\n"
     ]
    },
    {
     "ename": "ERROR",
     "evalue": "Error in saveRDS(BaE_pa_ALL, file = paste(f.path, \"WDPA_extract/\", iso3, : error writing to connection\n",
     "output_type": "error",
     "traceback": [
      "Error in saveRDS(BaE_pa_ALL, file = paste(f.path, \"WDPA_extract/\", iso3, : error writing to connection\nTraceback:\n",
      "1. saveRDS(BaE_pa_ALL, file = paste(f.path, \"WDPA_extract/\", iso3, \n .     \"_ALLpa_stats.RDS\", sep = \"\"))",
      "2. saveRDS(BaE_pa_ALL, file = paste(f.path, \"WDPA_extract/\", iso3, \n .     \"_ALLpa_stats.RDS\", sep = \"\"))"
     ]
    }
   ],
   "source": [
    "iso3 <- \"BaE\"\n",
    "gedi_paf <- list.files(paste(f.path,\"WDPA_extract/\",iso3,\"_wk\",gediwk,sep=\"\"), pattern=\".RDS\", full.names = TRUE)\n",
    "length(gedi_paf)\n",
    "\n",
    "pa_metrics1 <- readRDS(gedi_paf[1]) %>% unique()\n",
    "BaE_pa_ALL <- pa_metrics1\n",
    "rm(pa_metrics1)\n",
    "saveRDS(BaE_pa_ALL, file=paste(f.path,\"WDPA_extract/\",iso3,\"_ALLpa_stats.RDS\",sep=\"\"))\n",
    "\n",
    "for(i in 2:length(gedi_paf)){\n",
    "\n",
    "    BaE_pa_ALL <- readRDS(paste(f.path,\"WDPA_extract/\",iso3,\"_ALLpa_stats.RDS\",sep=\"\"))\n",
    "    print(gedi_paf[i])\n",
    "    pa_metrics <- readRDS(gedi_paf[i]) %>% unique()\n",
    "\n",
    "    if (length(table(pa_metrics$status))<2) {\n",
    "    cat(iso3, gedi_paf[i], \"has 0 protected or treatment \\n\")\n",
    "    } else if (table(pa_metrics$status)[1]!=0 && table(pa_metrics$status)[2]!=0) {\n",
    "        BaE_pa_ALL <- rbind(BaE_pa_ALL, pa_metrics)  #dplyr::bind_rows(results_list)\n",
    "    }\n",
    "  print(nrow(BaE_pa_ALL))\n",
    "  rm(pa_metrics)\n",
    "    \n",
    "  saveRDS(BaE_pa_ALL, file=paste(f.path,\"WDPA_extract/\",iso3,\"_ALLpa_stats.RDS\",sep=\"\")) \n",
    "}"
   ]
  },
  {
   "cell_type": "code",
   "execution_count": null,
   "id": "ac422132-8d25-408c-83b0-8ae2d8571254",
   "metadata": {},
   "outputs": [],
   "source": []
  }
 ],
 "metadata": {
  "kernelspec": {
   "display_name": "R",
   "language": "R",
   "name": "ir"
  },
  "language_info": {
   "codemirror_mode": "r",
   "file_extension": ".r",
   "mimetype": "text/x-r-source",
   "name": "R",
   "pygments_lexer": "r",
   "version": "4.2.3"
  }
 },
 "nbformat": 4,
 "nbformat_minor": 5
}
