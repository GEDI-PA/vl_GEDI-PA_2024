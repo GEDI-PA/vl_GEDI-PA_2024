{
 "cells": [
  {
   "cell_type": "code",
   "execution_count": 1,
   "id": "c6b4894b-cbda-40ba-8dab-e9ddceb76d71",
   "metadata": {
    "tags": []
   },
   "outputs": [],
   "source": [
    "### 2024 JUL 20 ###"
   ]
  },
  {
   "cell_type": "code",
   "execution_count": 2,
   "id": "22c5cf3e-7ad1-4968-8cff-c2934776074e",
   "metadata": {},
   "outputs": [],
   "source": [
    "#options(warn=-1)\n",
    "#options(dplyr.summarise.inform = FALSE)\n",
    "#\n",
    "#packages <- c(\"sp\",\"rgdal\",\"sf\",\"rgeos\",\"dplyr\",\"plyr\",\"ggplot2\",\"raster\",\"mapview\",\"stringr\",\n",
    "#              \"maptools\",\"gridExtra\",\"lattice\",\"MASS\",\"foreach\",\"optmatch\",\"doParallel\",\n",
    "#              \"rlang\",\"tidyr\",\"magrittr\",\"viridis\",\"ggmap\",\"spatialEco\",\"bit64\",\n",
    "#              \"randomForest\",\"modelr\",\"geojsonio\",\"rgeos\") #\"hrbrthemes\",\"RItools\",\"Hmisc\",\n",
    "#package.check <- lapply(packages, FUN = function(x) {\n",
    "#    suppressPackageStartupMessages(library(x, character.only = TRUE))\n",
    "#})\n"
   ]
  },
  {
   "cell_type": "code",
   "execution_count": 3,
   "id": "431c314b-60a7-4bd1-91f0-90003d40ad37",
   "metadata": {},
   "outputs": [
    {
     "name": "stderr",
     "output_type": "stream",
     "text": [
      "terra 1.7.29\n",
      "\n",
      "\n",
      "Attaching package: ‘dplyr’\n",
      "\n",
      "\n",
      "The following objects are masked from ‘package:terra’:\n",
      "\n",
      "    intersect, union\n",
      "\n",
      "\n",
      "The following objects are masked from ‘package:stats’:\n",
      "\n",
      "    filter, lag\n",
      "\n",
      "\n",
      "The following objects are masked from ‘package:base’:\n",
      "\n",
      "    intersect, setdiff, setequal, union\n",
      "\n",
      "\n",
      "Linking to GEOS 3.11.2, GDAL 3.7.0, PROJ 9.2.0; sf_use_s2() is TRUE\n",
      "\n"
     ]
    }
   ],
   "source": [
    "library(\"terra\")\n",
    "library(\"dplyr\")\n",
    "library(\"sf\")"
   ]
  },
  {
   "cell_type": "code",
   "execution_count": 4,
   "id": "e1c31cac-ac55-4bf0-a43b-44532df9b5ca",
   "metadata": {},
   "outputs": [],
   "source": [
    "# args = commandArgs(trailingOnly=TRUE)\n",
    "# if (length(args)==0) {\n",
    "#   stop(\"At least one argument must be supplied (input file).n\", call.=FALSE)\n",
    "# } else if (length(args)>=1) {\n",
    "#  \n",
    "#   iso3 <- args[1]  #country to process\n",
    "#   gediwk <- args[2]   #the # of weeks GEDI data to use\n",
    "#   mproc <- as.integer(args[3])#the number of cores to use for macthing \n",
    "# }"
   ]
  },
  {
   "cell_type": "code",
   "execution_count": 5,
   "id": "ae7174df-c598-4d63-802d-8634a642cb09",
   "metadata": {},
   "outputs": [],
   "source": [
    "#To test, we define the variables manually. For final version, run the commented out section below\n",
    "gediwk <- 24\n",
    "iso3 <-\"BRA\"\n",
    "mproc <- 1"
   ]
  },
  {
   "cell_type": "code",
   "execution_count": 6,
   "id": "f12acc1f-465d-44e0-832f-b91f71179f3c",
   "metadata": {},
   "outputs": [
    {
     "name": "stdout",
     "output_type": "stream",
     "text": [
      "Step 0: Loading global variables for BRA with wk 24 data \n"
     ]
    }
   ],
   "source": [
    "cat(\"Step 0: Loading global variables for\", iso3, \"with wk\", gediwk, \"data \\n\")"
   ]
  },
  {
   "cell_type": "code",
   "execution_count": 7,
   "id": "528b878c-b4b2-41e9-a1b1-b5e0e8b5add4",
   "metadata": {
    "tags": []
   },
   "outputs": [],
   "source": [
    "f.path <- \"/projects/my-public-bucket/GEDI_global_PA_v2/\"\n",
    "#f.path <- \"https://maap-ops-workspace.s3.us-west-2.amazonaws.com/shared/leitoldv/GEDI_global_PA_v2/\"\n",
    "\n",
    "matching_tifs <- c(\"wwf_biomes\",\"wwf_ecoreg\",\"lc2000\",\"d2roads\", \"dcities\",\"dem\",\n",
    "                   \"pop_cnt_2000\",\"pop_den_2000\",\"slope\", \"tt2cities_2000\", \"wc_prec_1990-1999\",\n",
    "                   \"wc_tmax_1990-1999\",\"wc_tavg_1990-1999\",\"wc_tmin_1990-1999\" )\n"
   ]
  },
  {
   "cell_type": "code",
   "execution_count": 8,
   "id": "6bddeb7b-2270-4463-bac5-60314af0a4f4",
   "metadata": {},
   "outputs": [
    {
     "name": "stderr",
     "output_type": "stream",
     "text": [
      "Loading required package: sp\n",
      "\n"
     ]
    }
   ],
   "source": [
    "ecoreg_key <- read.csv(paste(f.path,\"wwf_ecoregions_key.csv\",sep=\"\"))\n",
    "\n",
    "allPAs <- readRDS(paste(f.path,\"WDPA_shapefiles/WDPA_polygons/\",iso3,\"_PA_poly.rds\",sep=\"\"))\n",
    "\n",
    "MCD12Q1 <- rast(paste(f.path,\"GEDI_ANCI_PFT_r1000m_EASE2.0_UMD_v1_projection_defined_6933.tif\",sep=\"\"))\n",
    "#projection(MCD12Q1) <- sp::CRS(paste(\"+init=epsg:\",6933,sep=\"\"))\n",
    "crs(MCD12Q1)  <- \"epsg:6933\"\n",
    "\n",
    "world_region <- rast(paste(f.path,\"GEDI_ANCI_CONTINENT_r1000m_EASE2.0_UMD_v1_revised_projection_defined_6933.tif\",sep=\"\"))\n",
    "#projection(world_region) <- sp::CRS(paste(\"+init=epsg:\",6933,sep=\"\"))\n",
    "crs(world_region)  <- \"epsg:6933\"\n",
    "\n",
    "#adm <- readOGR(paste(f.path,\"WDPA_countries/shp/\",iso3,\".shp\",sep=\"\"),verbose=F)\n",
    "#adm_prj <- spTransform(adm, \"+init=epsg:6933\")\n",
    "adm <- vect(paste(f.path,\"WDPA_countries/shp/\",iso3,\".shp\",sep=\"\"))\n",
    "adm_prj <- project(adm, \"epsg:6933\")\n",
    "\n",
    "load(paste(f.path,\"rf_noclimate.RData\",sep=\"\"))\n",
    "source(paste(f.path,\"matching_func.R\",sep=\"\"))\n",
    "source(paste(f.path,\"matching_func_2024.R\",sep=\"\"))\n"
   ]
  },
  {
   "cell_type": "code",
   "execution_count": 7,
   "id": "49262e43-09de-497e-9466-f926adc48e56",
   "metadata": {
    "tags": []
   },
   "outputs": [],
   "source": [
    "# STEP1. Create 1km sampling grid with points only where GEDI data is available; first check if grid file exist to avoid reprocessing \n",
    "if(!file.exists(paste(f.path,\"WDPA_grids/\",iso3,\"_grid_wk\",gediwk,\".RDS\", sep=\"\"))){\n",
    "  cat(\"Step 1: Creating 1km sampling grid filter GEDI data for\", iso3,\"\\n\")\n",
    "  GRID.lats <- rast(file.path(f.path,\"EASE2_M01km_lats.tif\"))\n",
    "  GRID.lons <- rast(file.path(f.path,\"EASE2_M01km_lons.tif\"))\n",
    "  GRID.lats.adm   <- crop(GRID.lats, adm_prj)\n",
    "  GRID.lats.adm.m <- mask(GRID.lats.adm, adm_prj)\n",
    "  GRID.lons.adm   <- crop(GRID.lons, adm_prj)\n",
    "  GRID.lons.adm.m <- mask(GRID.lons.adm, adm_prj)\n",
    "  rm(GRID.lats, GRID.lons, GRID.lats.adm, GRID.lons.adm)\n",
    "  \n",
    "  #1.3) extract coordinates of raster cells with valid GEDI data in them\n",
    "  #gedi_folder <- paste(f.path,\"WDPA_gedi_l2a+l2b_clean2/\",iso3,\"/\",sep=\"\")\n",
    "  gedi_folder <- paste(f.path,\"WDPA_gedi_L4A_tiles/\",sep=\"\")\n",
    "  #iso3_tiles <- paste(\"/projects/my-public-bucket/AOIs/vero_1deg_tiles_\",iso3,\"/\",sep=\"\")\n",
    "  #tileindex_df <- read.csv(paste(\"/projects/my-public-bucket/AOIs/vero_1deg_tileindex/tileindex_\",iso3,\".csv\", sep=\"\"))\n",
    "  tileindex_df <- read.csv(paste(f.path,\"vero_1deg_tileindex/tileindex_\",iso3,\".csv\", sep=\"\"))\n",
    "  iso3_tiles <- tileindex_df$tileindexiso3_tiles <- tileindex_df$tileindex\n",
    "    \n",
    "  GRID.coords <- data.frame()\n",
    "  #for(i in 1:length(dir(gedi_folder))){\n",
    "  #for(i in 1:length(dir(iso3_tiles))){\n",
    "  for(i in 1:length(iso3_tiles)){\n",
    "    # print(list.files(gedi_folder)[i])\n",
    "    \n",
    "    iso3_tile_in <- paste(\"tile_num_\",iso3_tiles[i],sep=\"\")\n",
    "    \n",
    "    if(!file.exists(paste(gedi_folder,iso3_tile_in,\"_L4A.gpkg\",sep=\"\"))){\n",
    "        print(paste(iso3_tile_in,\" does not exist\",sep=\"\"))\n",
    "        } else {\n",
    "        print(paste(iso3_tile_in,\" processing\",sep=\"\"))\n",
    "    #gedi_data <- read.csv(list.files(gedi_folder,full.names=TRUE)[i]) %>%\n",
    "    gedi_data <- read_sf(paste(gedi_folder,iso3_tile_in,\"_L4A.gpkg\",sep=\"\"), int64_as_string = TRUE) %>%\n",
    "      dplyr::select(lon_lowestmode,lat_lowestmode)\n",
    "    gedi_data <- gedi_data %>% st_drop_geometry()\n",
    "#    gedi_pts  <- SpatialPoints(coords=gedi_data[,c(\"lon_lowestmode\",\"lat_lowestmode\")],\n",
    "#                               proj4string=CRS(\"+init=epsg:4326\"))\n",
    "#    gedi_pts_prj <- spTransform(gedi_pts, \"+init=epsg:6933\")\n",
    "    gedi_pts  <- vect(gedi_data, geom=c(\"lon_lowestmode\",\"lat_lowestmode\"), crs=\"epsg:4326\", keepgeom=FALSE)        \n",
    "    gedi_pts_prj <- project(gedi_pts, \"epsg:6933\")\n",
    "        \n",
    "    gcount_ras <- rasterize(geom(gedi_pts_prj)[,c(\"x\",\"y\")], GRID.lons.adm.m, fun=\"count\", background=NA)\n",
    "    names(gcount_ras) <- \"gshot_counts\"\n",
    "    #pxid <- raster::extract(gcount_ras,  gedi_pts_prj)\n",
    "    pxid <- extract(gcount_ras, gedi_pts_prj)\n",
    "    #gedi_pts_prj_sp <- gedi_pts_prj %>% SpatialPointsDataFrame(., data=data.frame(pxid))\n",
    "    gedi_pts_prj$pxid <- pxid[,\"gshot_counts\"]\n",
    "    gedi_pts_prj_sp <- gedi_pts_prj    \n",
    "    gedi_pts_prj_sp$pxid[is.na(gedi_pts_prj_sp$pxid)] <- 0\n",
    "    gedi_pts_prj_filtered <- gedi_pts_prj_sp[gedi_pts_prj_sp$pxid >= 1,]  #change the numeric threshold to filter with a different min # of GEDI shots in each 1km cell\n",
    "    \n",
    "    GRID.lons.overlap <- GRID.lons.adm.m[gedi_pts_prj_filtered]\n",
    "    GRID.lats.overlap <- GRID.lats.adm.m[gedi_pts_prj_filtered]\n",
    "    \n",
    "    x.overlap <- GRID.lons.overlap[!is.na(GRID.lons.overlap)]\n",
    "    y.overlap <- GRID.lats.overlap[!is.na(GRID.lats.overlap)]\n",
    "    \n",
    "    xy.overlap <- cbind(x.overlap,y.overlap)\n",
    "    xy.overlap.clean <- unique(xy.overlap)\n",
    "    \n",
    "    GRID.coords <- rbind(GRID.coords, xy.overlap.clean)\n",
    "    }\n",
    "  }\n",
    "  GRID.for.matching <- SpatialPoints(coords = GRID.coords, proj4string=CRS(\"+init=epsg:4326\"))\n",
    "  saveRDS(GRID.for.matching, file = paste(f.path,\"WDPA_grids/\",iso3,\"_grid_wk\",gediwk,\".RDS\", sep=\"\"))\n",
    "} else if (file.exists(paste(f.path,\"WDPA_grids/\",iso3,\"_grid_wk\",gediwk,\".RDS\", sep=\"\"))) {\n",
    "  cat(paste(\"STEP 1: Grid file exists, no need to process grids for \",iso3, \"\\n\"))\n",
    "}\n"
   ]
  },
  {
   "cell_type": "code",
   "execution_count": null,
   "id": "76672241-0936-4d61-82d1-2933bea3bba8",
   "metadata": {
    "tags": []
   },
   "outputs": [],
   "source": [
    "# STEP2. Clip sampling grid to nonPA areas within country & sample raster layers on nonPA grid\n",
    "cat(\"Step 2.0: Reading 1k GRID from RDS for \" ,iso3, \"\\n\")\n",
    "GRID.for.matching <- readRDS(paste(f.path,\"WDPA_grids/\",iso3,\"_grid_wk\",gediwk,\".RDS\", sep=\"\")) \n",
    "GRID.for.matching <- vect(GRID.for.matching)\n",
    "GRID.for.matching"
   ]
  },
  {
   "cell_type": "code",
   "execution_count": 55,
   "id": "aca6ff4f-22d6-465d-9aa8-38c29538366f",
   "metadata": {},
   "outputs": [
    {
     "name": "stdout",
     "output_type": "stream",
     "text": [
      "Step 2.1: preppred control dataset already exists for KIT no need for reprocessing\n"
     ]
    }
   ],
   "source": [
    "if(!file.exists(paste(f.path,\"WDPA_matching_points/\",iso3,\"/\",iso3,\"_prepped_control_wk\",gediwk,\".RDS\",sep=\"\"))){\n",
    "  if(!dir.exists(paste(f.path,\"WDPA_matching_points/\",iso3,\"/\",sep=\"\"))){\n",
    "      dir.create(paste(f.path,\"WDPA_matching_points/\",iso3,\"/\",sep=\"\"))}    \n",
    "  cat(\"Step 2.1: Preparing control dataset for\", iso3, \"\\n\")\n",
    "  #GRID.pts.nonPA <- GRID.for.matching %>% spTransform(., \"+init=epsg:4326\")\n",
    "  GRID.pts.nonPA <- project(GRID.for.matching, \"epsg:4326\")\n",
    "  for(i in 1:length(allPAs)){\n",
    "    PA          <- vect(allPAs[i,])\n",
    "    PA_prj      <- project(PA, \"epsg:6933\")\n",
    "    #PA_prj_buff <- gBuffer(PA_prj, width = 10000) #10km buffer\n",
    "    PA_prj_buff <- buffer(PA_prj, width = 10000)\n",
    "    PA2         <- project(PA_prj_buff, \"epsg:4326\")\n",
    "    overlap     <- GRID.pts.nonPA[PA2]\n",
    "    if(length(overlap)>0){\n",
    "      GRID.pts.nonPA0 <- st_difference(sf::st_as_sf(GRID.pts.nonPA), sf::st_as_sf(PA2)) ##remove pts inside poly\n",
    "      #GRID.pts.nonPA <- as(GRID.pts.nonPA0$geometry,'Spatial') %>% spTransform(., \"+init=epsg:4326\")\n",
    "      GRID.pts.nonPA <- vect(GRID.pts.nonPA0$geometry)\n",
    "      GRID.pts.nonPA <- project(GRID.pts.nonPA, \"epsg:4326\")\n",
    "    } \n",
    "    # print(length(GRID.pts.nonPA))\n",
    "  }\n",
    "  nonPA_xy  <- geom(GRID.pts.nonPA)[,c(\"x\",\"y\")]\n",
    "  colnames(nonPA_xy)  <- c(\"x\",\"y\")\n",
    "  #nonPA_spdf  <- tryCatch(SpatialPointsDataFrame(nonPA_xy, data=data.frame(nonPA_xy),proj4string=CRS(\"+init=epsg:4326\")),\n",
    "  nonPA_spdf  <- tryCatch(vect(nonPA_xy, crs=\"epsg:4326\"),      \n",
    "                          error=function(cond){\n",
    "                            cat(\"Country too samll, after buffer no grid left, so quit processing country\", iso3, dim(nonPA_xy),\"\\n\")\n",
    "                            writeLines(\"Country too samll, after buffer no grid left\", paste(f.path,\"WDPA_log/\",iso3,\"_log_control.txt\", sep=\"\"))\n",
    "                            return(quit(save=\"no\"))})\n",
    "    \n",
    "    \n",
    "  for (j in 1:length(matching_tifs)){\n",
    "    #ras <- raster(paste(f.path, \"WDPA_input_vars_iso3/\",iso3,\"/\",matching_tifs[j],\".tif\", sep=\"\"))\n",
    "    ras <- rast(paste(f.path, \"WDPA_input_vars_GLOBAL/\",matching_tifs[j],\".tif\", sep=\"\"))\n",
    "    print(matching_tifs[j])\n",
    "    ras_ex <- extract(ras, nonPA_spdf, method=\"simple\", factors=FALSE)\n",
    "    nm <- names(ras)\n",
    "    #nonPA_spdf <- cbind(nonPA_spdf, ras_ex[,matching_tifs[j]])\n",
    "    #names(nonPA_spdf)[j+2] <- matching_tifs[j]\n",
    "    nonPA_spdf$nm <- ras_ex[, matching_tifs[j]]\n",
    "    names(nonPA_spdf)[j] <- matching_tifs[j]\n",
    "  }\n",
    "  nonPA_spdf$x <- geom(nonPA_spdf)[,\"x\"]\n",
    "  nonPA_spdf$y <- geom(nonPA_spdf)[,\"y\"]\n",
    "  \n",
    "  d_control <- nonPA_spdf\n",
    "  d_control$status <- as.logical(\"FALSE\")\n",
    "  names(d_control) <- make.names(names(d_control), allow_ = FALSE)\n",
    "  d_control <- data.frame(d_control) %>%\n",
    "    dplyr::rename(\n",
    "      land_cover = lc2000,\n",
    "      slope = slope,\n",
    "      elevation = dem,\n",
    "      popden = pop.den.2000,\n",
    "      popcnt=pop.cnt.2000,\n",
    "      min_temp=wc.tmin.1990.1999,\n",
    "      max_temp=wc.tmax.1990.1999,\n",
    "      mean_temp = wc.tavg.1990.1999,\n",
    "      prec = wc.prec.1990.1999,\n",
    "      tt2city= tt2cities.2000,\n",
    "      wwfbiom = wwf.biomes,\n",
    "      wwfecoreg = wwf.ecoreg,\n",
    "      d2city = dcities,\n",
    "      d2road = d2roads,\n",
    "      lon = x,\n",
    "      lat = y)\n",
    "  d_control$land_cover <- factor(d_control$land_cover, levels=sequence(7),\n",
    "                                 labels = c(\"l1_forest\",\n",
    "                                            \"l2_grassland\",\n",
    "                                            \"l3_agriculture\",\n",
    "                                            \"l4_wetlands\",\n",
    "                                            \"l5_artificial\",\n",
    "                                            \"l6_other land/bare\",\n",
    "                                            \"l7_water\"))\n",
    "  d_control$wwfbiom <- factor(d_control$wwfbiom,\n",
    "                           levels = as.vector(unique(ecoreg_key[,\"BIOME\"])),\n",
    "                           labels = as.vector(unique(ecoreg_key[,\"BIOME_NAME\"])))\n",
    "  d_control$wwfecoreg <- factor(d_control$wwfecoreg,\n",
    "                             levels = as.vector(ecoreg_key[,\"ECO_ID\"]),\n",
    "                             labels = as.vector(ecoreg_key[,\"ECO_NAME\"]))\n",
    "  \n",
    "  \n",
    "  d_control$UID <-  seq.int(nrow(d_control))\n",
    "  \n",
    "  saveRDS(d_control, file=paste(f.path,\"WDPA_matching_points/\",iso3,\"/\",iso3,\"_prepped_control_wk\",gediwk,\".RDS\",sep=\"\")) \n",
    "  \n",
    "} else if (file.exists(paste(f.path,\"WDPA_matching_points/\",iso3,\"/\",iso3,\"_prepped_control_wk\",gediwk,\".RDS\",sep=\"\"))){\n",
    "  cat(\"Step 2.1: preppred control dataset already exists for\", iso3, \"no need for reprocessing\\n\")\n",
    "}\n"
   ]
  },
  {
   "cell_type": "code",
   "execution_count": 210,
   "id": "34005602-9576-4786-a2b9-e12ca0736ff9",
   "metadata": {},
   "outputs": [],
   "source": [
    "#plot(d_control$lon, d_control$lat, pch=\".\")"
   ]
  },
  {
   "cell_type": "code",
   "execution_count": 9,
   "id": "731594d5-8052-4ed9-8b08-708a9775d7e5",
   "metadata": {},
   "outputs": [
    {
     "name": "stdout",
     "output_type": "stream",
     "text": [
      "Step 3.0: Reading 1k GRID from RDS for  KIT \n"
     ]
    },
    {
     "data": {
      "text/plain": [
       " class       : SpatVector \n",
       " geometry    : points \n",
       " dimensions  : 1990706, 0  (geometries, attributes)\n",
       " extent      : -61.6027, -43.61515, -16.30086, 4.425303  (xmin, xmax, ymin, ymax)\n",
       " coord. ref. : lon/lat WGS 84 (EPSG:4326) "
      ]
     },
     "metadata": {},
     "output_type": "display_data"
    }
   ],
   "source": [
    "#STEP3. Loop through all PAs in iso3 country:\n",
    "# - clip sampling grid to each PA\n",
    "# - sample raster layers on each PA grid\n",
    "# - save each PA sample into prepped_pa_##.RDS file\n",
    "\n",
    "iso3 <- \"KIT\"  ## same as Brazilian Amazon East \"BaE\"\n",
    "\n",
    "cat(\"Step 3.0: Reading 1k GRID from RDS for \" ,iso3, \"\\n\")\n",
    "GRID.for.matching <- readRDS(paste(f.path,\"WDPA_grids/\",iso3,\"_grid_wk\",gediwk,\".RDS\", sep=\"\")) \n",
    "GRID.for.matching <- GRID.for.matching\n",
    "GRID.for.matching\n"
   ]
  },
  {
   "cell_type": "code",
   "execution_count": 10,
   "id": "7155eb7c-e8c3-46fd-816a-f9fa8d4fc564",
   "metadata": {},
   "outputs": [],
   "source": [
    "## add Kayapó East vs West AOIs"
   ]
  },
  {
   "cell_type": "code",
   "execution_count": 11,
   "id": "4fa30fda-e2e9-42b3-a164-885c7845100f",
   "metadata": {},
   "outputs": [],
   "source": [
    "KCeast <- vect(\"/projects/my-public-bucket/AOIs/KAYAPO/East_Border.shp\")\n",
    "KCwest <- vect(\"/projects/my-public-bucket/AOIs/KAYAPO/West_Area.shp\")\n",
    "KT <- allPAs[allPAs$WDPAID == \"34004\",]"
   ]
  },
  {
   "cell_type": "code",
   "execution_count": 12,
   "id": "df03be74-a0e5-41e0-96c4-3ad12ec5dfc9",
   "metadata": {},
   "outputs": [],
   "source": [
    "KTeast <- crop(vect(KT), KCeast)\n",
    "KTwest <- crop(vect(KT), KCwest)"
   ]
  },
  {
   "cell_type": "code",
   "execution_count": 29,
   "id": "57db57fe-fee7-4fd9-87eb-84eb8c726e58",
   "metadata": {},
   "outputs": [],
   "source": [
    "writeVector(KTeast, \"/projects/my-public-bucket/AOIs/KAYAPO/KTeast.shp\")\n",
    "writeVector(KTwest, \"/projects/my-public-bucket/AOIs/KAYAPO/KTwest.shp\")"
   ]
  },
  {
   "cell_type": "code",
   "execution_count": 13,
   "id": "508fadb7-f71d-4373-8eb5-1b62d574eea3",
   "metadata": {},
   "outputs": [
    {
     "data": {
      "image/png": "[encoded data removed]",
      "text/plain": [
       "plot without title"
      ]
     },
     "metadata": {
      "image/png": {
       "height": 420,
       "width": 420
      }
     },
     "output_type": "display_data"
    }
   ],
   "source": [
    "plot(KT)\n",
    "plot(KTeast, add=T, col=\"red\")\n",
    "plot(KTwest, add=T, col=\"blue\")"
   ]
  },
  {
   "cell_type": "code",
   "execution_count": 14,
   "id": "6c80b23e-3327-4790-ad3e-61238cabf7c0",
   "metadata": {},
   "outputs": [
    {
     "data": {
      "text/plain": [
       " class       : SpatVector \n",
       " geometry    : polygons \n",
       " dimensions  : 1, 28  (geometries, attributes)\n",
       " extent      : -52.1561, -50.83378, -8.69449, -6.878846  (xmin, xmax, ymin, ymax)\n",
       " coord. ref. : +proj=longlat +ellps=WGS84 +towgs84=0,0,0,0,0,0,0 +no_defs \n",
       " names       :  WDPAID WDPA_PID PA_DEF   NAME ORIG_NAME          DESIG\n",
       " type        :   <num>   <fact> <fact> <fact>    <fact>         <fact>\n",
       " values      : 3.4e+04    34004      1 Kayapó    Kayapó Terra Indígena\n",
       "       DESIG_ENG DESIG_TYPE     IUCN_CAT       INT_CRIT (and 18 more)\n",
       "          <fact>     <fact>       <fact>         <fact>              \n",
       " Indigenous Area   National Not Reported Not Applicable              "
      ]
     },
     "metadata": {},
     "output_type": "display_data"
    }
   ],
   "source": [
    "KTeast"
   ]
  },
  {
   "cell_type": "code",
   "execution_count": 19,
   "id": "adbaa353-20d6-4d3e-8568-f9cd4ec65f75",
   "metadata": {},
   "outputs": [],
   "source": [
    "iso3 <- \"KIT\"  ##Kayapo Indigenous Territory\n",
    "testPA <- KTeast\n",
    "testPA_name <- \"34004east\""
   ]
  },
  {
   "cell_type": "code",
   "execution_count": 21,
   "id": "ba16fa09-2ca4-4498-8929-e9baf8771194",
   "metadata": {},
   "outputs": [
    {
     "name": "stdout",
     "output_type": "stream",
     "text": [
      "Step 3.1: Processing prepped PA treatment dataset for  KIT \n"
     ]
    }
   ],
   "source": [
    "#if(length(dir(paste(f.path,\"WDPA_matching_points/\",iso3,\"/\",iso3,\"_testPAs\",\"/\",sep=\"\"),pattern = paste(gediwk,\".RDS\",sep=\"\")))==0){\n",
    "#  if(!dir.exists(paste(f.path,\"WDPA_matching_points/\",iso3,\"/\",iso3,\"_testPAs\",\"/\",sep=\"\"))){\n",
    "#      dir.create(paste(f.path,\"WDPA_matching_points/\",iso3,\"/\",iso3,\"_testPAs\",\"/\",sep=\"\"))}\n",
    "  cat(\"Step 3.1: Processing prepped PA treatment dataset for \", iso3, \"\\n\")\n",
    "#  for(i in 1:length(allPAs)){\n",
    "#    cat(iso3, i, \"out of \", length(allPAs), \"\\n\")\n",
    "#    testPA <- vect(allPAs[i,])\n",
    "    testPA <- project(testPA, \"epsg:4326\")\n",
    "    GRID.pts.testPA <- GRID.for.matching[testPA]\n",
    "    \n",
    "    #if(length(GRID.pts.testPA)>0){\n",
    "    if(length(GRID.pts.testPA)>1){\n",
    "      #testPA_xy <- coordinates(GRID.pts.testPA)\n",
    "      testPA_xy <- geom(GRID.pts.testPA)[,c(\"x\",\"y\")]\n",
    "      colnames(testPA_xy) <- c(\"x\",\"y\")\n",
    "      #testPA_spdf <- SpatialPointsDataFrame(testPA_xy, data=data.frame(testPA_xy), proj4string=CRS(\"+init=epsg:4326\"))\n",
    "      testPA_spdf  <- vect(testPA_xy, crs=\"epsg:4326\")\n",
    "                              \n",
    "        for (j in 1:length(matching_tifs)){\n",
    "        #ras <- raster(paste(f.path, \"WDPA_input_vars_iso3/\",iso3,\"/\",matching_tifs[j],\".tif\", sep=\"\"))\n",
    "        ras <- rast(paste(f.path, \"WDPA_input_vars_GLOBAL/\",matching_tifs[j],\".tif\", sep=\"\"))\n",
    "        ras <- crop(ras, testPA)\n",
    "        ras_ex <- extract(ras, testPA_spdf, method=\"simple\", factors=F)\n",
    "        nm <- names(ras)\n",
    "        #testPA_spdf <- cbind(testPA_spdf, ras_ex[,matching_tifs[j]])\n",
    "        #names(testPA_spdf)[j+2] <- matching_tifs[j]\n",
    "        testPA_spdf$nm <- ras_ex[, matching_tifs[j]]\n",
    "        names(testPA_spdf)[j] <- matching_tifs[j]\n",
    "  }\n",
    "    testPA_spdf$x <- geom(testPA_spdf)[,\"x\"]\n",
    "    testPA_spdf$y <- geom(testPA_spdf)[,\"y\"]\n",
    "      \n",
    "      d_pa <- testPA_spdf\n",
    "      d_pa$status <- as.logical(\"TRUE\")\n",
    "      d_pa$DESIG_ENG <- testPA$DESIG_ENG\n",
    "      d_pa$REP_AREA <- testPA$REP_AREA\n",
    "      d_pa$PA_STATUS <- testPA$STATUS\n",
    "      d_pa$PA_STATUSYR <- testPA$STATUS_YR\n",
    "      d_pa$GOV_TYPE <- testPA$GOV_TYPE\n",
    "      d_pa$OWN_TYPE <- testPA$OWN_TYPE\n",
    "      d_pa$MANG_AUTH <- testPA$MANG_AUTH\n",
    "      names(d_pa) <- make.names(names(d_pa), allow_ = FALSE)\n",
    "      d_pa <- data.frame(d_pa) %>%\n",
    "        dplyr::rename(\n",
    "          land_cover = lc2000,\n",
    "          slope = slope,\n",
    "          elevation = dem,\n",
    "          popden = pop.den.2000,\n",
    "          popcnt=pop.cnt.2000,\n",
    "          min_temp=wc.tmin.1990.1999,\n",
    "          max_temp=wc.tmax.1990.1999,\n",
    "          mean_temp = wc.tavg.1990.1999,\n",
    "          prec = wc.prec.1990.1999,\n",
    "          tt2city= tt2cities.2000,\n",
    "          wwfbiom = wwf.biomes,\n",
    "          wwfecoreg = wwf.ecoreg,\n",
    "          d2city = dcities,\n",
    "          d2road = d2roads,\n",
    "          lon = x,\n",
    "          lat = y)\n",
    "      d_pa$land_cover <- factor(d_pa$land_cover, levels=sequence(7),\n",
    "                                labels = c(\"l1_forest\",\n",
    "                                           \"l2_grassland\",\n",
    "                                           \"l3_agriculture\",\n",
    "                                           \"l4_wetlands\",\n",
    "                                           \"l5_artificial\",\n",
    "                                           \"l6_other land/bare\",\n",
    "                                           \"l7_water\"))\n",
    "      d_pa$wwfbiom <- factor(d_pa$wwfbiom,\n",
    "                          levels = as.vector(unique(ecoreg_key[,\"BIOME\"])),\n",
    "                          labels = as.vector(unique(ecoreg_key[,\"BIOME_NAME\"])))\n",
    "      d_pa$wwfecoreg <- factor(d_pa$wwfecoreg,\n",
    "                            levels = as.vector(ecoreg_key[,\"ECO_ID\"]),\n",
    "                            labels = as.vector(ecoreg_key[,\"ECO_NAME\"]))\n",
    "      \n",
    "      d_pa$UID <- seq.int(nrow(d_pa))\n",
    "      saveRDS(d_pa, file = paste(f.path,\"WDPA_matching_points/\",iso3,\"/\",iso3,\"_testPAs\",\"/\",\"prepped_pa_\",\n",
    "                                 testPA_name,\"_wk\",gediwk,\".RDS\", sep=\"\")) \n",
    "    }\n",
    "#  }\n",
    "#} else if (length(dir(paste(f.path,\"WDPA_matching_points/\",iso3,\"/\",iso3,\"_testPAs\",\"/\",sep=\"\"),pattern = paste(gediwk,\".RDS\",sep=\"\")))==length(allPAs)){\n",
    "#  cat(\"Step 3.1: prepped PA treatment dataset already exists for \", iso3, \"no need for reprocessing\\n\")\n",
    "#}\n"
   ]
  },
  {
   "cell_type": "code",
   "execution_count": 23,
   "id": "73209bb2-c29e-433d-9691-4e83310d17c8",
   "metadata": {},
   "outputs": [],
   "source": [
    "d_control <- readRDS(paste(f.path,\"WDPA_matching_points/\",iso3,\"/\",iso3,\"_prepped_control_wk\",gediwk,\".RDS\",sep=\"\")) \n",
    "  "
   ]
  },
  {
   "cell_type": "code",
   "execution_count": 24,
   "id": "ad369705-0265-4c31-bc70-c0a0f05ba5a2",
   "metadata": {},
   "outputs": [
    {
     "data": {
      "image/png": "[encoded data removed]",
      "text/plain": [
       "plot without title"
      ]
     },
     "metadata": {
      "image/png": {
       "height": 420,
       "width": 420
      }
     },
     "output_type": "display_data"
    }
   ],
   "source": [
    "plot(d_control$lon, d_control$lat, pch=\".\")\n",
    "points(d_pa$lon, d_pa$lat, pch=\".\", col=\"red\")"
   ]
  },
  {
   "cell_type": "code",
   "execution_count": 25,
   "id": "5bcd1792-83a3-4a7c-8cdc-a6a827db75a5",
   "metadata": {},
   "outputs": [
    {
     "data": {
      "text/plain": [
       " class       : SpatVector \n",
       " geometry    : polygons \n",
       " dimensions  : 1, 28  (geometries, attributes)\n",
       " extent      : -53.12606, -51.18879, -8.632437, -6.969499  (xmin, xmax, ymin, ymax)\n",
       " coord. ref. : +proj=longlat +ellps=WGS84 +towgs84=0,0,0,0,0,0,0 +no_defs \n",
       " names       :  WDPAID WDPA_PID PA_DEF   NAME ORIG_NAME          DESIG\n",
       " type        :   <num>   <fact> <fact> <fact>    <fact>         <fact>\n",
       " values      : 3.4e+04    34004      1 Kayapó    Kayapó Terra Indígena\n",
       "       DESIG_ENG DESIG_TYPE     IUCN_CAT       INT_CRIT (and 18 more)\n",
       "          <fact>     <fact>       <fact>         <fact>              \n",
       " Indigenous Area   National Not Reported Not Applicable              "
      ]
     },
     "metadata": {},
     "output_type": "display_data"
    }
   ],
   "source": [
    "KTwest"
   ]
  },
  {
   "cell_type": "code",
   "execution_count": 26,
   "id": "fc521905-457f-4e9f-ada2-34ca0cf162fe",
   "metadata": {},
   "outputs": [],
   "source": [
    "iso3 <- \"KIT\"  ##Kayapo Indigenous Territory\n",
    "testPA <- KTwest\n",
    "testPA_name <- \"34004west\""
   ]
  },
  {
   "cell_type": "code",
   "execution_count": 27,
   "id": "68fc594b-8965-42b9-9b25-57c418da375f",
   "metadata": {},
   "outputs": [
    {
     "name": "stdout",
     "output_type": "stream",
     "text": [
      "Step 3.1: Processing prepped PA treatment dataset for  KIT \n"
     ]
    }
   ],
   "source": [
    "#if(length(dir(paste(f.path,\"WDPA_matching_points/\",iso3,\"/\",iso3,\"_testPAs\",\"/\",sep=\"\"),pattern = paste(gediwk,\".RDS\",sep=\"\")))==0){\n",
    "#  if(!dir.exists(paste(f.path,\"WDPA_matching_points/\",iso3,\"/\",iso3,\"_testPAs\",\"/\",sep=\"\"))){\n",
    "#      dir.create(paste(f.path,\"WDPA_matching_points/\",iso3,\"/\",iso3,\"_testPAs\",\"/\",sep=\"\"))}\n",
    "  cat(\"Step 3.1: Processing prepped PA treatment dataset for \", iso3, \"\\n\")\n",
    "#  for(i in 1:length(allPAs)){\n",
    "#    cat(iso3, i, \"out of \", length(allPAs), \"\\n\")\n",
    "#    testPA <- vect(allPAs[i,])\n",
    "    testPA <- project(testPA, \"epsg:4326\")\n",
    "    GRID.pts.testPA <- GRID.for.matching[testPA]\n",
    "    \n",
    "    #if(length(GRID.pts.testPA)>0){\n",
    "    if(length(GRID.pts.testPA)>1){\n",
    "      #testPA_xy <- coordinates(GRID.pts.testPA)\n",
    "      testPA_xy <- geom(GRID.pts.testPA)[,c(\"x\",\"y\")]\n",
    "      colnames(testPA_xy) <- c(\"x\",\"y\")\n",
    "      #testPA_spdf <- SpatialPointsDataFrame(testPA_xy, data=data.frame(testPA_xy), proj4string=CRS(\"+init=epsg:4326\"))\n",
    "      testPA_spdf  <- vect(testPA_xy, crs=\"epsg:4326\")\n",
    "                              \n",
    "        for (j in 1:length(matching_tifs)){\n",
    "        #ras <- raster(paste(f.path, \"WDPA_input_vars_iso3/\",iso3,\"/\",matching_tifs[j],\".tif\", sep=\"\"))\n",
    "        ras <- rast(paste(f.path, \"WDPA_input_vars_GLOBAL/\",matching_tifs[j],\".tif\", sep=\"\"))\n",
    "        ras <- crop(ras, testPA)\n",
    "        ras_ex <- extract(ras, testPA_spdf, method=\"simple\", factors=F)\n",
    "        nm <- names(ras)\n",
    "        #testPA_spdf <- cbind(testPA_spdf, ras_ex[,matching_tifs[j]])\n",
    "        #names(testPA_spdf)[j+2] <- matching_tifs[j]\n",
    "        testPA_spdf$nm <- ras_ex[, matching_tifs[j]]\n",
    "        names(testPA_spdf)[j] <- matching_tifs[j]\n",
    "  }\n",
    "    testPA_spdf$x <- geom(testPA_spdf)[,\"x\"]\n",
    "    testPA_spdf$y <- geom(testPA_spdf)[,\"y\"]\n",
    "      \n",
    "      d_pa <- testPA_spdf\n",
    "      d_pa$status <- as.logical(\"TRUE\")\n",
    "      d_pa$DESIG_ENG <- testPA$DESIG_ENG\n",
    "      d_pa$REP_AREA <- testPA$REP_AREA\n",
    "      d_pa$PA_STATUS <- testPA$STATUS\n",
    "      d_pa$PA_STATUSYR <- testPA$STATUS_YR\n",
    "      d_pa$GOV_TYPE <- testPA$GOV_TYPE\n",
    "      d_pa$OWN_TYPE <- testPA$OWN_TYPE\n",
    "      d_pa$MANG_AUTH <- testPA$MANG_AUTH\n",
    "      names(d_pa) <- make.names(names(d_pa), allow_ = FALSE)\n",
    "      d_pa <- data.frame(d_pa) %>%\n",
    "        dplyr::rename(\n",
    "          land_cover = lc2000,\n",
    "          slope = slope,\n",
    "          elevation = dem,\n",
    "          popden = pop.den.2000,\n",
    "          popcnt=pop.cnt.2000,\n",
    "          min_temp=wc.tmin.1990.1999,\n",
    "          max_temp=wc.tmax.1990.1999,\n",
    "          mean_temp = wc.tavg.1990.1999,\n",
    "          prec = wc.prec.1990.1999,\n",
    "          tt2city= tt2cities.2000,\n",
    "          wwfbiom = wwf.biomes,\n",
    "          wwfecoreg = wwf.ecoreg,\n",
    "          d2city = dcities,\n",
    "          d2road = d2roads,\n",
    "          lon = x,\n",
    "          lat = y)\n",
    "      d_pa$land_cover <- factor(d_pa$land_cover, levels=sequence(7),\n",
    "                                labels = c(\"l1_forest\",\n",
    "                                           \"l2_grassland\",\n",
    "                                           \"l3_agriculture\",\n",
    "                                           \"l4_wetlands\",\n",
    "                                           \"l5_artificial\",\n",
    "                                           \"l6_other land/bare\",\n",
    "                                           \"l7_water\"))\n",
    "      d_pa$wwfbiom <- factor(d_pa$wwfbiom,\n",
    "                          levels = as.vector(unique(ecoreg_key[,\"BIOME\"])),\n",
    "                          labels = as.vector(unique(ecoreg_key[,\"BIOME_NAME\"])))\n",
    "      d_pa$wwfecoreg <- factor(d_pa$wwfecoreg,\n",
    "                            levels = as.vector(ecoreg_key[,\"ECO_ID\"]),\n",
    "                            labels = as.vector(ecoreg_key[,\"ECO_NAME\"]))\n",
    "      \n",
    "      d_pa$UID <- seq.int(nrow(d_pa))\n",
    "      saveRDS(d_pa, file = paste(f.path,\"WDPA_matching_points/\",iso3,\"/\",iso3,\"_testPAs\",\"/\",\"prepped_pa_\",\n",
    "                                 testPA_name,\"_wk\",gediwk,\".RDS\", sep=\"\")) \n",
    "    }\n",
    "#  }\n",
    "#} else if (length(dir(paste(f.path,\"WDPA_matching_points/\",iso3,\"/\",iso3,\"_testPAs\",\"/\",sep=\"\"),pattern = paste(gediwk,\".RDS\",sep=\"\")))==length(allPAs)){\n",
    "#  cat(\"Step 3.1: prepped PA treatment dataset already exists for \", iso3, \"no need for reprocessing\\n\")\n",
    "#}\n"
   ]
  },
  {
   "cell_type": "code",
   "execution_count": 28,
   "id": "65056562-9cd9-4c55-88a3-886fa1b8a903",
   "metadata": {},
   "outputs": [
    {
     "data": {
      "image/png": "[encoded data removed]",
      "text/plain": [
       "plot without title"
      ]
     },
     "metadata": {
      "image/png": {
       "height": 420,
       "width": 420
      }
     },
     "output_type": "display_data"
    }
   ],
   "source": [
    "plot(d_control$lon, d_control$lat, pch=\".\")\n",
    "points(d_pa$lon, d_pa$lat, pch=\".\", col=\"red\")"
   ]
  },
  {
   "cell_type": "code",
   "execution_count": null,
   "id": "090ffb07-429c-42d5-aa4f-8b7cefd4bb53",
   "metadata": {},
   "outputs": [],
   "source": []
  }
 ],
 "metadata": {
  "kernelspec": {
   "display_name": "R",
   "language": "R",
   "name": "ir"
  },
  "language_info": {
   "codemirror_mode": "r",
   "file_extension": ".r",
   "mimetype": "text/x-r-source",
   "name": "R",
   "pygments_lexer": "r",
   "version": "4.2.3"
  }
 },
 "nbformat": 4,
 "nbformat_minor": 5
}
